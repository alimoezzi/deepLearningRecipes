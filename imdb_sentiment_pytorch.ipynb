{
 "cells": [
  {
   "cell_type": "markdown",
   "metadata": {
    "collapsed": true,
    "pycharm": {
     "name": "#%% md\n"
    }
   },
   "source": [
    "# Sentiment Analysis with IMDB dataset using Pytorch"
   ]
  },
  {
   "cell_type": "code",
   "execution_count": 1,
   "outputs": [
    {
     "name": "stderr",
     "output_type": "stream",
     "text": [
      "Using TensorFlow backend.\n"
     ]
    }
   ],
   "source": [
    "import numpy as np\n",
    "import keras\n",
    "from keras.datasets import imdb\n",
    "import matplotlib.pyplot as plt\n",
    "import torch\n",
    "import torch.nn.functional as F\n",
    "from torch import nn\n",
    "from keras.preprocessing.text import Tokenizer\n",
    "torch.manual_seed(0)\n",
    "torch.backends.cudnn.deterministic = True\n",
    "torch.backends.cudnn.benchmark = False\n",
    "torch.backends.cudnn.deterministic = True\n",
    "torch.backends.cudnn.benchmark = False\n",
    "%matplotlib inline\n",
    "\n",
    "np.random.seed(42)"
   ],
   "metadata": {
    "collapsed": false,
    "pycharm": {
     "name": "#%%\n"
    }
   }
  },
  {
   "cell_type": "code",
   "execution_count": 2,
   "outputs": [
    {
     "name": "stdout",
     "output_type": "stream",
     "text": [
      "cpu\n"
     ]
    }
   ],
   "source": [
    "device = torch.device(\"cuda\" if torch.cuda.is_available() else \"cpu\")\n",
    "print(device)"
   ],
   "metadata": {
    "collapsed": false,
    "pycharm": {
     "name": "#%%\n"
    }
   }
  },
  {
   "cell_type": "markdown",
   "source": [
    "# Dataset Prepration"
   ],
   "metadata": {
    "collapsed": false,
    "pycharm": {
     "name": "#%% md\n"
    }
   }
  },
  {
   "cell_type": "code",
   "execution_count": 3,
   "outputs": [
    {
     "name": "stdout",
     "output_type": "stream",
     "text": [
      "(25000,)\n",
      "(25000,)\n"
     ]
    }
   ],
   "source": [
    "mean, std = (0.5,), (0.5,)\n",
    "\n",
    "# save np.load\n",
    "np_load_old = np.load\n",
    "\n",
    "# modify the default parameters of np.load\n",
    "np.load = lambda *a,**k: np_load_old(*a, allow_pickle=True, **k)\n",
    "\n",
    "# call load_data with allow_pickle implicitly set to true\n",
    "# Loading the data (it's preloaded in Keras)\n",
    "(x_train, y_train), (x_test, y_test), = imdb.load_data(num_words=1000)\n",
    "# restore np.load for future normal usage\n",
    "np.load = np_load_old\n",
    "\n",
    "print(x_train.shape)\n",
    "print(x_test.shape)"
   ],
   "metadata": {
    "collapsed": false,
    "pycharm": {
     "name": "#%%\n"
    }
   }
  },
  {
   "cell_type": "code",
   "execution_count": 4,
   "outputs": [
    {
     "name": "stdout",
     "output_type": "stream",
     "text": [
      "[1, 14, 22, 16, 43, 530, 973, 2, 2, 65, 458, 2, 66, 2, 4, 173, 36, 256, 5, 25, 100, 43, 838, 112, 50, 670, 2, 9, 35, 480, 284, 5, 150, 4, 172, 112, 167, 2, 336, 385, 39, 4, 172, 2, 2, 17, 546, 38, 13, 447, 4, 192, 50, 16, 6, 147, 2, 19, 14, 22, 4, 2, 2, 469, 4, 22, 71, 87, 12, 16, 43, 530, 38, 76, 15, 13, 2, 4, 22, 17, 515, 17, 12, 16, 626, 18, 2, 5, 62, 386, 12, 8, 316, 8, 106, 5, 4, 2, 2, 16, 480, 66, 2, 33, 4, 130, 12, 16, 38, 619, 5, 25, 124, 51, 36, 135, 48, 25, 2, 33, 6, 22, 12, 215, 28, 77, 52, 5, 14, 407, 16, 82, 2, 8, 4, 107, 117, 2, 15, 256, 4, 2, 7, 2, 5, 723, 36, 71, 43, 530, 476, 26, 400, 317, 46, 7, 4, 2, 2, 13, 104, 88, 4, 381, 15, 297, 98, 32, 2, 56, 26, 141, 6, 194, 2, 18, 4, 226, 22, 21, 134, 476, 26, 480, 5, 144, 30, 2, 18, 51, 36, 28, 224, 92, 25, 104, 4, 226, 65, 16, 38, 2, 88, 12, 16, 283, 5, 16, 2, 113, 103, 32, 15, 16, 2, 19, 178, 32]\n",
      "1\n"
     ]
    }
   ],
   "source": [
    "print(x_train[0])\n",
    "print(y_train[0])"
   ],
   "metadata": {
    "collapsed": false,
    "pycharm": {
     "name": "#%%\n"
    }
   }
  },
  {
   "cell_type": "code",
   "execution_count": 5,
   "outputs": [],
   "source": [
    "num_features = 1000\n",
    "tokenizer = Tokenizer(num_words=num_features)\n",
    "x_train  = torch.from_numpy(tokenizer.sequences_to_matrix(x_train, mode='binary')).float().to(device)\n",
    "x_test = torch.from_numpy(tokenizer.sequences_to_matrix(x_test, mode='binary')).float().to(device)"
   ],
   "metadata": {
    "collapsed": false,
    "pycharm": {
     "name": "#%%\n"
    }
   }
  },
  {
   "cell_type": "code",
   "execution_count": null,
   "outputs": [],
   "source": [],
   "metadata": {
    "collapsed": false,
    "pycharm": {
     "name": "#%%\n"
    }
   }
  },
  {
   "cell_type": "code",
   "execution_count": 6,
   "outputs": [
    {
     "name": "stdout",
     "output_type": "stream",
     "text": [
      "torch.Size([1000])\n"
     ]
    }
   ],
   "source": [
    "print(x_train[0].shape)"
   ],
   "metadata": {
    "collapsed": false,
    "pycharm": {
     "name": "#%%\n"
    }
   }
  },
  {
   "cell_type": "code",
   "execution_count": 7,
   "outputs": [],
   "source": [
    "num_classes = 2\n",
    "y_train = torch.from_numpy(np.eye(num_classes)[y_train.flatten()]).float().to(device)\n",
    "y_test = torch.from_numpy(np.eye(num_classes)[y_test.flatten()]).float().to(device)"
   ],
   "metadata": {
    "collapsed": false,
    "pycharm": {
     "name": "#%%\n"
    }
   }
  },
  {
   "cell_type": "code",
   "execution_count": 8,
   "outputs": [
    {
     "name": "stdout",
     "output_type": "stream",
     "text": [
      "torch.Size([25000, 2])\n",
      "torch.Size([25000, 2])\n"
     ]
    }
   ],
   "source": [
    "print(y_train.shape)\n",
    "print(y_test.shape)"
   ],
   "metadata": {
    "collapsed": false,
    "pycharm": {
     "name": "#%%\n"
    }
   }
  },
  {
   "cell_type": "code",
   "execution_count": 9,
   "outputs": [],
   "source": [
    "x_train_batches, y_train_batches = torch.split(x_train,500), torch.split(y_train,500)"
   ],
   "metadata": {
    "collapsed": false,
    "pycharm": {
     "name": "#%%\n"
    }
   }
  },
  {
   "cell_type": "code",
   "execution_count": 10,
   "outputs": [],
   "source": [
    "class Sentiment(nn.Module):\n",
    "    def __init__(self):\n",
    "        super().__init__()\n",
    "        self.fc1 = nn.Linear(num_features, 256)\n",
    "        self.fc2 = nn.Linear(256, 64)\n",
    "        self.fc2_ = nn.Dropout(p=0.7)\n",
    "        self.fc3 = nn.Linear(64, 32)\n",
    "        self.fc3_ = nn.Dropout(p=0.4)\n",
    "        self.fc4 = nn.Linear(32, 4)\n",
    "        self.fc4_ = nn.Dropout(p=0.2)\n",
    "        self.fc5 = nn.Linear(4, num_classes)\n",
    "\n",
    "    def forward(self, x):\n",
    "        x = F.selu(self.fc1(x))\n",
    "        x = F.selu(self.fc2(x))\n",
    "        x = self.fc2_(x)\n",
    "        x = F.selu(self.fc3(x))\n",
    "        x = self.fc3_(x)\n",
    "        x = F.selu(self.fc4(x))\n",
    "        x = self.fc4_(x)\n",
    "        x = self.fc5(x)\n",
    "\n",
    "        return x\n",
    "\n",
    "model = Sentiment()"
   ],
   "metadata": {
    "collapsed": false,
    "pycharm": {
     "name": "#%%\n"
    }
   }
  },
  {
   "cell_type": "code",
   "execution_count": 11,
   "outputs": [
    {
     "name": "stdout",
     "output_type": "stream",
     "text": [
      "Epoch(1/30) | Training loss: 0.0013920266342163086 | Test loss: 2.776472568511963e-05 | Accuracy : 0.5128\n",
      "Epoch(2/30) | Training loss: 0.0013828126788139343 | Test loss: 2.7608561515808105e-05 | Accuracy : 0.5278\n",
      "Epoch(3/30) | Training loss: 0.0013781810474395753 | Test loss: 2.7481937408447266e-05 | Accuracy : 0.54948\n",
      "Epoch(4/30) | Training loss: 0.001370486545562744 | Test loss: 2.7346854209899902e-05 | Accuracy : 0.56344\n",
      "Epoch(5/30) | Training loss: 0.0013635927677154542 | Test loss: 2.7186362743377684e-05 | Accuracy : 0.58328\n",
      "Epoch(6/30) | Training loss: 0.0013555804109573364 | Test loss: 2.6996347904205323e-05 | Accuracy : 0.60496\n",
      "Epoch(7/30) | Training loss: 0.0013468788051605224 | Test loss: 2.6791725158691407e-05 | Accuracy : 0.61872\n",
      "Epoch(8/30) | Training loss: 0.0013342578101158142 | Test loss: 2.6572155952453614e-05 | Accuracy : 0.6402\n",
      "Epoch(9/30) | Training loss: 0.001323445336818695 | Test loss: 2.6297993659973143e-05 | Accuracy : 0.65628\n",
      "Epoch(10/30) | Training loss: 0.0013061975955963134 | Test loss: 2.6006984710693358e-05 | Accuracy : 0.67264\n",
      "Epoch(11/30) | Training loss: 0.0012893725442886352 | Test loss: 2.5580055713653565e-05 | Accuracy : 0.69308\n",
      "Epoch(12/30) | Training loss: 0.0012702893018722535 | Test loss: 2.5237281322479247e-05 | Accuracy : 0.70748\n",
      "Epoch(13/30) | Training loss: 0.0012496409463882447 | Test loss: 2.474801778793335e-05 | Accuracy : 0.72232\n",
      "Epoch(14/30) | Training loss: 0.001221621069908142 | Test loss: 2.422855615615845e-05 | Accuracy : 0.73528\n",
      "Epoch(15/30) | Training loss: 0.001193605306148529 | Test loss: 2.3634321689605714e-05 | Accuracy : 0.74476\n",
      "Epoch(16/30) | Training loss: 0.0011622350573539733 | Test loss: 2.299461603164673e-05 | Accuracy : 0.76296\n",
      "Epoch(17/30) | Training loss: 0.001133294517993927 | Test loss: 2.237626314163208e-05 | Accuracy : 0.76476\n",
      "Epoch(18/30) | Training loss: 0.0010970267677307128 | Test loss: 2.1712532043457032e-05 | Accuracy : 0.77856\n",
      "Epoch(19/30) | Training loss: 0.0010629810857772828 | Test loss: 2.1023380756378173e-05 | Accuracy : 0.78636\n",
      "Epoch(20/30) | Training loss: 0.0010296292638778686 | Test loss: 2.0404455661773683e-05 | Accuracy : 0.7916\n",
      "Epoch(21/30) | Training loss: 0.0009952296340465547 | Test loss: 1.9756021499633788e-05 | Accuracy : 0.79884\n",
      "Epoch(22/30) | Training loss: 0.0009677935838699341 | Test loss: 1.919750213623047e-05 | Accuracy : 0.80508\n",
      "Epoch(23/30) | Training loss: 0.0009361670768260956 | Test loss: 1.865207076072693e-05 | Accuracy : 0.81044\n",
      "Epoch(24/30) | Training loss: 0.000909109548330307 | Test loss: 1.8222228288650512e-05 | Accuracy : 0.81372\n",
      "Epoch(25/30) | Training loss: 0.0008891776883602142 | Test loss: 1.7820541858673096e-05 | Accuracy : 0.81896\n",
      "Epoch(26/30) | Training loss: 0.0008716164708137512 | Test loss: 1.735706925392151e-05 | Accuracy : 0.823\n",
      "Epoch(27/30) | Training loss: 0.0008487427949905395 | Test loss: 1.7111835479736327e-05 | Accuracy : 0.82728\n",
      "Epoch(28/30) | Training loss: 0.0008289728808403015 | Test loss: 1.6848669052124024e-05 | Accuracy : 0.82884\n",
      "Epoch(29/30) | Training loss: 0.0008210860109329224 | Test loss: 1.6598645448684693e-05 | Accuracy : 0.8314\n",
      "Epoch(30/30) | Training loss: 0.0008042835903167725 | Test loss: 1.635706901550293e-05 | Accuracy : 0.83452\n",
      "\n",
      "Number correct : 20863, Total : 25000\n",
      "Accuracy of the model after 30 epochs on the 10000 test images: 83.452% \n"
     ]
    }
   ],
   "source": [
    "from torch import optim\n",
    "criterion = nn.BCEWithLogitsLoss()\n",
    "optimizer = optim.Adadelta(model.parameters(), lr=0.01)\n",
    "model.to(device)\n",
    "num_epochs = 30\n",
    "train_tracker, test_tracker, accuracy_tracker = [], [], []\n",
    "\n",
    "for i in range(num_epochs):\n",
    "    cum_loss = 0\n",
    "\n",
    "    for x_, y_ in zip(x_train_batches, y_train_batches):\n",
    "        x_.to(device)\n",
    "        y_.to(device)\n",
    "        optimizer.zero_grad()\n",
    "        output = model(x_)\n",
    "        loss = criterion(output, y_)\n",
    "        loss.backward()\n",
    "        optimizer.step()\n",
    "\n",
    "        cum_loss += loss.item()\n",
    "\n",
    "    train_tracker.append(cum_loss/x_train.shape[0])\n",
    "    print(f\"Epoch({i+1}/{num_epochs}) | Training loss: {cum_loss/x_train.shape[0]} | \",end='')\n",
    "\n",
    "    test_loss = 0\n",
    "    num_correct = 0\n",
    "    total = 0\n",
    "    x_ = x_test\n",
    "    y_ = y_test\n",
    "    x_.to(device)\n",
    "    y_.to(device)\n",
    "    logps = model(x_)\n",
    "    batch_loss = criterion(logps, y_)\n",
    "    test_loss += batch_loss.item()\n",
    "\n",
    "    output = torch.sigmoid(logps)\n",
    "    pred = torch.argmax(output, 1)\n",
    "    total += y_.size(0)\n",
    "    num_correct += (pred == torch.argmax(y_,1)).sum().item()\n",
    "\n",
    "    test_tracker.append(test_loss/y_test.shape[0])\n",
    "    print(f\"Test loss: {test_loss/y_test.shape[0]} | \", end='')\n",
    "    accuracy_tracker.append(num_correct/total)\n",
    "    print(f'Accuracy : {num_correct/total}')\n",
    "print(f'\\nNumber correct : {num_correct}, Total : {total}')\n",
    "print(f'Accuracy of the model after 30 epochs on the 10000 test images: {num_correct * 100 / total}% ')\n"
   ],
   "metadata": {
    "collapsed": false,
    "pycharm": {
     "name": "#%%\n"
    }
   }
  }
 ],
 "metadata": {
  "kernelspec": {
   "display_name": "Python 3",
   "language": "python",
   "name": "python3"
  },
  "language_info": {
   "codemirror_mode": {
    "name": "ipython",
    "version": 2
   },
   "file_extension": ".py",
   "mimetype": "text/x-python",
   "name": "python",
   "nbconvert_exporter": "python",
   "pygments_lexer": "ipython2",
   "version": "2.7.6"
  }
 },
 "nbformat": 4,
 "nbformat_minor": 0
}