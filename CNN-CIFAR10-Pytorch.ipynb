{
  "nbformat": 4,
  "nbformat_minor": 0,
  "metadata": {
    "kernelspec": {
      "display_name": "Python 3",
      "language": "python",
      "name": "python3"
    },
    "language_info": {
      "codemirror_mode": {
        "name": "ipython",
        "version": 2
      },
      "file_extension": ".py",
      "mimetype": "text/x-python",
      "name": "python",
      "nbconvert_exporter": "python",
      "pygments_lexer": "ipython2",
      "version": "2.7.6"
    },
    "colab": {
      "name": "CNN-CIFAR10-Pytorch.ipynb",
      "provenance": []
    },
    "accelerator": "GPU"
  },
  "cells": [
    {
      "cell_type": "markdown",
      "metadata": {
        "collapsed": true,
        "pycharm": {
          "name": "#%% md\n"
        },
        "id": "c10AcnVZTEAH"
      },
      "source": [
        "# CNN image classification in Pytorch using CIFAR-10 database"
      ]
    },
    {
      "cell_type": "code",
      "metadata": {
        "pycharm": {
          "name": "#%%\n"
        },
        "id": "wb0yZ8CATEAO"
      },
      "source": [
        "import os\n",
        "import torch\n",
        "import numpy as np\n",
        "from matplotlib import pyplot as plt\n",
        "from torch.autograd import Variable\n",
        "%matplotlib inline\n",
        "from torchvision.datasets import CIFAR10\n",
        "from torchvision.transforms import transforms\n",
        "from torchsummary import summary\n",
        "torch.manual_seed(0)\n",
        "torch.backends.cudnn.deterministic = True\n",
        "torch.backends.cudnn.benchmark = False\n",
        "np.random.seed(0)"
      ],
      "execution_count": 1,
      "outputs": []
    },
    {
      "cell_type": "code",
      "metadata": {
        "pycharm": {
          "name": "#%%\n"
        },
        "id": "wi_3R1Q8TEAP",
        "outputId": "b34746c1-63b6-4848-8327-457e72e7175e",
        "colab": {
          "base_uri": "https://localhost:8080/"
        }
      },
      "source": [
        "batch_size_train = 64\n",
        "transform_train = transforms.Compose([\n",
        "    transforms.RandomCrop(32, padding=4),\n",
        "    transforms.RandomHorizontalFlip(),\n",
        "    transforms.ToTensor(),\n",
        "    transforms.Normalize((0.4914, 0.4822, 0.4465), (0.2023, 0.1994, 0.2010)),\n",
        "])\n",
        "\n",
        "# Normalize the test set same as training set without augmentation\n",
        "transform_test = transforms.Compose([\n",
        "    transforms.ToTensor(),\n",
        "    transforms.Normalize((0.4914, 0.4822, 0.4465), (0.2023, 0.1994, 0.2010)),\n",
        "])\n",
        "trainset = CIFAR10('.pytorch/CIGAR10', train=True, transform=transform_train, download=True)\n",
        "trainloader = torch.utils.data.DataLoader(trainset, batch_size=batch_size_train, shuffle=True, num_workers=2)\n",
        "\n",
        "testset = CIFAR10('.pytorch/CIGAR10', train=False, transform=transform_test, download=True)\n",
        "testloader = torch.utils.data.DataLoader(trainset, batch_size=batch_size_train, shuffle=False, num_workers=2)"
      ],
      "execution_count": 2,
      "outputs": [
        {
          "output_type": "stream",
          "text": [
            "Files already downloaded and verified\n",
            "Files already downloaded and verified\n"
          ],
          "name": "stdout"
        }
      ]
    },
    {
      "cell_type": "code",
      "metadata": {
        "pycharm": {
          "name": "#%%\n"
        },
        "id": "rotHhcY8TEAQ",
        "outputId": "8724f75f-c3ac-422e-ada0-dd18a0b4b12a",
        "colab": {
          "base_uri": "https://localhost:8080/"
        }
      },
      "source": [
        "device = torch.device(\"cuda\" if torch.cuda.is_available() else \"cpu\")\n",
        "print(device)"
      ],
      "execution_count": 3,
      "outputs": [
        {
          "output_type": "stream",
          "text": [
            "cuda\n"
          ],
          "name": "stdout"
        }
      ]
    },
    {
      "cell_type": "code",
      "metadata": {
        "pycharm": {
          "name": "#%%\n"
        },
        "id": "VkwrBcXxTEAQ",
        "outputId": "91702e77-1a29-4bf7-b225-d74b6fe39cae",
        "colab": {
          "base_uri": "https://localhost:8080/"
        }
      },
      "source": [
        "import torch.nn as nn\n",
        "\n",
        "class CNN(nn.Module):\n",
        "    \"\"\"CNN\"\"\"\n",
        "    def __init__(self):\n",
        "        super(CNN, self).__init__()\n",
        "        self.conv = nn.Sequential(\n",
        "            nn.Conv2d(in_channels=3, out_channels=32, kernel_size=3, padding=1),\n",
        "            nn.BatchNorm2d(32),\n",
        "            nn.SELU(inplace=True),\n",
        "            nn.Conv2d(in_channels=32, out_channels=64, kernel_size=3, padding=1),\n",
        "            nn.SELU(inplace=True),\n",
        "            nn.MaxPool2d(kernel_size=2, stride=2),\n",
        "\n",
        "            # Conv Layer block 2\n",
        "            nn.Conv2d(in_channels=64, out_channels=128, kernel_size=3, padding=1),\n",
        "            nn.BatchNorm2d(128),\n",
        "            nn.SELU(inplace=True),\n",
        "            nn.Conv2d(in_channels=128, out_channels=128, kernel_size=3, padding=1),\n",
        "            nn.SELU(inplace=True),\n",
        "            nn.MaxPool2d(kernel_size=2, stride=2),\n",
        "            nn.Dropout2d(p=0.05),\n",
        "\n",
        "            # Conv Layer block 3\n",
        "            nn.Conv2d(in_channels=128, out_channels=256, kernel_size=3, padding=1),\n",
        "            nn.BatchNorm2d(256),\n",
        "            nn.SELU(inplace=True),\n",
        "            nn.Conv2d(in_channels=256, out_channels=256, kernel_size=3, padding=1),\n",
        "            nn.SELU(inplace=True),\n",
        "            nn.MaxPool2d(kernel_size=2, stride=2),\n",
        "        )\n",
        "\n",
        "        self.fc = nn.Sequential(\n",
        "        nn.Dropout(p=0.1),\n",
        "        nn.Linear(4096, 1024),\n",
        "        nn.SELU(inplace=True),\n",
        "        nn.Linear(1024, 512),\n",
        "        nn.SELU(inplace=True),\n",
        "        nn.Dropout(p=0.1),\n",
        "        nn.Linear(512, 10)\n",
        "        )\n",
        "\n",
        "    def forward(self,x ):\n",
        "        x = self.conv(x)\n",
        "        x = self.fc(x.view(x.size(0),-1))\n",
        "        return x\n",
        "\n",
        "model = CNN()\n",
        "model.to(device)\n",
        "summary(model, input_size=iter(trainloader).next()[0][0].size())"
      ],
      "execution_count": 12,
      "outputs": [
        {
          "output_type": "stream",
          "text": [
            "----------------------------------------------------------------\n",
            "        Layer (type)               Output Shape         Param #\n",
            "================================================================\n",
            "            Conv2d-1           [-1, 32, 32, 32]             896\n",
            "       BatchNorm2d-2           [-1, 32, 32, 32]              64\n",
            "              SELU-3           [-1, 32, 32, 32]               0\n",
            "            Conv2d-4           [-1, 64, 32, 32]          18,496\n",
            "              SELU-5           [-1, 64, 32, 32]               0\n",
            "         MaxPool2d-6           [-1, 64, 16, 16]               0\n",
            "            Conv2d-7          [-1, 128, 16, 16]          73,856\n",
            "       BatchNorm2d-8          [-1, 128, 16, 16]             256\n",
            "              SELU-9          [-1, 128, 16, 16]               0\n",
            "           Conv2d-10          [-1, 128, 16, 16]         147,584\n",
            "             SELU-11          [-1, 128, 16, 16]               0\n",
            "        MaxPool2d-12            [-1, 128, 8, 8]               0\n",
            "        Dropout2d-13            [-1, 128, 8, 8]               0\n",
            "           Conv2d-14            [-1, 256, 8, 8]         295,168\n",
            "      BatchNorm2d-15            [-1, 256, 8, 8]             512\n",
            "             SELU-16            [-1, 256, 8, 8]               0\n",
            "           Conv2d-17            [-1, 256, 8, 8]         590,080\n",
            "             SELU-18            [-1, 256, 8, 8]               0\n",
            "        MaxPool2d-19            [-1, 256, 4, 4]               0\n",
            "          Dropout-20                 [-1, 4096]               0\n",
            "           Linear-21                 [-1, 1024]       4,195,328\n",
            "             SELU-22                 [-1, 1024]               0\n",
            "           Linear-23                  [-1, 512]         524,800\n",
            "             SELU-24                  [-1, 512]               0\n",
            "          Dropout-25                  [-1, 512]               0\n",
            "           Linear-26                   [-1, 10]           5,130\n",
            "================================================================\n",
            "Total params: 5,852,170\n",
            "Trainable params: 5,852,170\n",
            "Non-trainable params: 0\n",
            "----------------------------------------------------------------\n",
            "Input size (MB): 0.01\n",
            "Forward/backward pass size (MB): 3.96\n",
            "Params size (MB): 22.32\n",
            "Estimated Total Size (MB): 26.30\n",
            "----------------------------------------------------------------\n"
          ],
          "name": "stdout"
        }
      ]
    },
    {
      "cell_type": "code",
      "metadata": {
        "pycharm": {
          "name": "#%%\n"
        },
        "id": "x7luZcD2TEAR"
      },
      "source": [
        "if os.path.isdir('checkpoint'):\n",
        "    model.load_state_dict(torch.load('./checkpoint/ckpt.t7'))"
      ],
      "execution_count": 13,
      "outputs": []
    },
    {
      "cell_type": "code",
      "metadata": {
        "pycharm": {
          "name": "#%%\n"
        },
        "id": "bqekdI11TEAS",
        "outputId": "077f6709-0ba2-4a8d-be4e-e61e678d9562",
        "colab": {
          "base_uri": "https://localhost:8080/"
        }
      },
      "source": [
        "from torch import optim\n",
        "criterion = nn.CrossEntropyLoss()\n",
        "optimizer = optim.Adadelta(model.parameters(), lr=0.05, weight_decay=0.001)\n",
        "train_tracker, test_tracker, accuracy_tracker = [], [], []\n",
        "\n",
        "for epoch in range(30):\n",
        "\n",
        "    running_loss = 0.0\n",
        "    for _, (inputs, labels) in enumerate(trainloader, 1):\n",
        "        # get the inputs\n",
        "        inputs = inputs.to(device)\n",
        "        labels = labels.to(device)\n",
        "\n",
        "\n",
        "        # wrap them in Variable\n",
        "        inputs, labels = Variable(inputs), Variable(labels)\n",
        "\n",
        "        # zero the parameter gradients\n",
        "        optimizer.zero_grad()\n",
        "\n",
        "        # forward + backward + optimize\n",
        "        outputs = model(inputs)\n",
        "        loss = criterion(outputs, labels)\n",
        "        loss.backward()\n",
        "\n",
        "        if epoch > 16:\n",
        "            for group in optimizer.param_groups:\n",
        "                for p in group['params']:\n",
        "                    state = optimizer.state[p]\n",
        "                    if state['step'] >= 1024:\n",
        "                        state['step'] = 1000\n",
        "        optimizer.step()\n",
        "\n",
        "\n",
        "        # print statistics\n",
        "        running_loss += loss.item()\n",
        "\n",
        "    # Normalizing the loss by the total number of train batches\n",
        "    running_loss /= len(trainloader)\n",
        "\n",
        "    # Calculate training/test set accuracy of the existing model\n",
        "    test_loss = 0\n",
        "    num_correct = 0\n",
        "    total = 0\n",
        "    for _, (images, labels) in enumerate(testloader,1):\n",
        "        images = images.to(device)\n",
        "        labels = labels.to(device)\n",
        "\n",
        "        logps = model(images)\n",
        "        batch_loss = criterion(logps, labels)\n",
        "        test_loss += batch_loss.item()\n",
        "\n",
        "        output = logps\n",
        "        pred = torch.argmax(output, 1)\n",
        "        total += labels.size(0)\n",
        "        num_correct += (pred == labels).sum().item()\n",
        "\n",
        "    test_tracker.append(test_loss/len(testloader))\n",
        "    print(f\"Test loss: {test_loss/len(testloader)} | \", end='')\n",
        "    accuracy_tracker.append(num_correct/total)\n",
        "    print(f'Accuracy : {num_correct/total}')\n",
        "\n",
        "    print(\"Iteration: {0} | Loss: {1} | Test accuracy: {2}%\".format(epoch+1, running_loss,  num_correct * 100 / total))\n",
        "\n",
        "    # save model\n",
        "    if epoch % 3 == 0:\n",
        "        print('==> Saving model ...')\n",
        "\n",
        "        if not os.path.isdir('checkpoint'):\n",
        "            os.mkdir('checkpoint')\n",
        "        torch.save(model.state_dict(), './checkpoint/ckpt.t7')\n",
        "\n",
        "print('==> Finished Training ...')"
      ],
      "execution_count": 14,
      "outputs": [
        {
          "output_type": "stream",
          "text": [
            "Test loss: 1.4459676305046472 | Accuracy : 0.4955\n",
            "Iteration: 1 | Loss: 1.427738760285975 | Test accuracy: 49.55%\n",
            "==> Saving model ...\n",
            "Test loss: 1.1387567052146053 | Accuracy : 0.59634\n",
            "Iteration: 2 | Loss: 1.081191662937174 | Test accuracy: 59.634%\n",
            "Test loss: 0.9926460906672661 | Accuracy : 0.64984\n",
            "Iteration: 3 | Loss: 0.9433816581430947 | Test accuracy: 64.984%\n",
            "Test loss: 0.9095467466984868 | Accuracy : 0.68306\n",
            "Iteration: 4 | Loss: 0.8444944257321565 | Test accuracy: 68.306%\n",
            "==> Saving model ...\n",
            "Test loss: 0.8338277476370487 | Accuracy : 0.7011\n",
            "Iteration: 5 | Loss: 0.7762034973296363 | Test accuracy: 70.11%\n",
            "Test loss: 0.6992181110031465 | Accuracy : 0.7511\n",
            "Iteration: 6 | Loss: 0.7219226142329633 | Test accuracy: 75.11%\n",
            "Test loss: 0.734797183929197 | Accuracy : 0.73796\n",
            "Iteration: 7 | Loss: 0.6808553521361802 | Test accuracy: 73.796%\n",
            "==> Saving model ...\n",
            "Test loss: 0.7029799540786792 | Accuracy : 0.75566\n",
            "Iteration: 8 | Loss: 0.6396190917781551 | Test accuracy: 75.566%\n",
            "Test loss: 0.610976035561403 | Accuracy : 0.78618\n",
            "Iteration: 9 | Loss: 0.6116188089256092 | Test accuracy: 78.618%\n",
            "Test loss: 0.5997077717119471 | Accuracy : 0.79124\n",
            "Iteration: 10 | Loss: 0.5845961537774261 | Test accuracy: 79.124%\n",
            "==> Saving model ...\n",
            "Test loss: 0.5860012202044887 | Accuracy : 0.79466\n",
            "Iteration: 11 | Loss: 0.5610580179087646 | Test accuracy: 79.466%\n",
            "Test loss: 0.5694220347515763 | Accuracy : 0.80106\n",
            "Iteration: 12 | Loss: 0.5424410521679217 | Test accuracy: 80.106%\n",
            "Test loss: 0.5565691729412054 | Accuracy : 0.80206\n",
            "Iteration: 13 | Loss: 0.518459738101191 | Test accuracy: 80.206%\n",
            "==> Saving model ...\n",
            "Test loss: 0.5548944761000021 | Accuracy : 0.80226\n",
            "Iteration: 14 | Loss: 0.5039218351854693 | Test accuracy: 80.226%\n",
            "Test loss: 0.521858508210353 | Accuracy : 0.81764\n",
            "Iteration: 15 | Loss: 0.48442611132588836 | Test accuracy: 81.764%\n",
            "Test loss: 0.4753317430310542 | Accuracy : 0.83442\n",
            "Iteration: 16 | Loss: 0.472091048327096 | Test accuracy: 83.442%\n",
            "==> Saving model ...\n",
            "Test loss: 0.5127052041461401 | Accuracy : 0.8189\n",
            "Iteration: 17 | Loss: 0.4594156311067474 | Test accuracy: 81.89%\n",
            "Test loss: 0.4369301380175154 | Accuracy : 0.84908\n",
            "Iteration: 18 | Loss: 0.4514204420320823 | Test accuracy: 84.908%\n",
            "Test loss: 0.4296077009090377 | Accuracy : 0.84912\n",
            "Iteration: 19 | Loss: 0.43461030649254695 | Test accuracy: 84.912%\n",
            "==> Saving model ...\n",
            "Test loss: 0.44097339150393405 | Accuracy : 0.84426\n",
            "Iteration: 20 | Loss: 0.42835042799067924 | Test accuracy: 84.426%\n",
            "Test loss: 0.4373159984036175 | Accuracy : 0.84802\n",
            "Iteration: 21 | Loss: 0.4101212413224113 | Test accuracy: 84.802%\n",
            "Test loss: 0.4636489336409837 | Accuracy : 0.83422\n",
            "Iteration: 22 | Loss: 0.4045938915951782 | Test accuracy: 83.422%\n",
            "==> Saving model ...\n",
            "Test loss: 0.4037370176418968 | Accuracy : 0.85698\n",
            "Iteration: 23 | Loss: 0.3950010085921458 | Test accuracy: 85.698%\n",
            "Test loss: 0.39068561917185174 | Accuracy : 0.86276\n",
            "Iteration: 24 | Loss: 0.3837393258538697 | Test accuracy: 86.276%\n",
            "Test loss: 0.39497432109835506 | Accuracy : 0.86092\n",
            "Iteration: 25 | Loss: 0.37820947412258527 | Test accuracy: 86.092%\n",
            "==> Saving model ...\n",
            "Test loss: 0.36153843009944464 | Accuracy : 0.87236\n",
            "Iteration: 26 | Loss: 0.36887649309528453 | Test accuracy: 87.236%\n",
            "Test loss: 0.39616091237844103 | Accuracy : 0.8598\n",
            "Iteration: 27 | Loss: 0.36799720110719464 | Test accuracy: 85.98%\n",
            "Test loss: 0.3508077931621343 | Accuracy : 0.87536\n",
            "Iteration: 28 | Loss: 0.35865173692745933 | Test accuracy: 87.536%\n",
            "==> Saving model ...\n",
            "Test loss: 0.33112329660016865 | Accuracy : 0.88322\n",
            "Iteration: 29 | Loss: 0.3495220844169407 | Test accuracy: 88.322%\n",
            "Test loss: 0.35995128895620554 | Accuracy : 0.87258\n",
            "Iteration: 30 | Loss: 0.347164014854547 | Test accuracy: 87.258%\n",
            "==> Finished Training ...\n"
          ],
          "name": "stdout"
        }
      ]
    }
  ]
}