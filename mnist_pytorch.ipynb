{
 "cells": [
  {
   "cell_type": "markdown",
   "metadata": {
    "collapsed": true,
    "pycharm": {
     "name": "#%% md\n"
    }
   },
   "source": [
    "# MNIST in Pytorch"
   ]
  },
  {
   "cell_type": "code",
   "execution_count": 1,
   "outputs": [],
   "source": [
    "import torch\n",
    "from torchvision import datasets, transforms\n",
    "import torch.nn.functional as F\n",
    "from torch import nn\n",
    "torch.manual_seed(0)\n",
    "torch.backends.cudnn.deterministic = True\n",
    "torch.backends.cudnn.benchmark = False\n",
    "\n",
    "import numpy as np\n",
    "np.random.seed(0)"
   ],
   "metadata": {
    "collapsed": false,
    "pycharm": {
     "name": "#%%\n"
    }
   }
  },
  {
   "cell_type": "code",
   "execution_count": 3,
   "outputs": [
    {
     "name": "stdout",
     "output_type": "stream",
     "text": [
      "Downloading http://yann.lecun.com/exdb/mnist/train-images-idx3-ubyte.gz to .pytorch/MNIST/MNIST\\raw\\train-images-idx3-ubyte.gz\n"
     ]
    },
    {
     "data": {
      "text/plain": "HBox(children=(FloatProgress(value=1.0, bar_style='info', max=1.0), HTML(value='')))",
      "application/vnd.jupyter.widget-view+json": {
       "version_major": 2,
       "version_minor": 0,
       "model_id": "33fc726b567e42fe8fd192d5ba72676e"
      }
     },
     "metadata": {},
     "output_type": "display_data"
    },
    {
     "name": "stdout",
     "output_type": "stream",
     "text": [
      "Extracting .pytorch/MNIST/MNIST\\raw\\train-images-idx3-ubyte.gz to .pytorch/MNIST/MNIST\\raw\n",
      "Downloading http://yann.lecun.com/exdb/mnist/train-labels-idx1-ubyte.gz to .pytorch/MNIST/MNIST\\raw\\train-labels-idx1-ubyte.gz\n"
     ]
    },
    {
     "data": {
      "text/plain": "HBox(children=(FloatProgress(value=1.0, bar_style='info', max=1.0), HTML(value='')))",
      "application/vnd.jupyter.widget-view+json": {
       "version_major": 2,
       "version_minor": 0,
       "model_id": "2b35e1bf1fd549369c67896a13bfa176"
      }
     },
     "metadata": {},
     "output_type": "display_data"
    },
    {
     "name": "stdout",
     "output_type": "stream",
     "text": [
      "Extracting .pytorch/MNIST/MNIST\\raw\\train-labels-idx1-ubyte.gz to .pytorch/MNIST/MNIST\\raw\n",
      "Downloading http://yann.lecun.com/exdb/mnist/t10k-images-idx3-ubyte.gz to .pytorch/MNIST/MNIST\\raw\\t10k-images-idx3-ubyte.gz\n"
     ]
    },
    {
     "data": {
      "text/plain": "HBox(children=(FloatProgress(value=1.0, bar_style='info', max=1.0), HTML(value='')))",
      "application/vnd.jupyter.widget-view+json": {
       "version_major": 2,
       "version_minor": 0,
       "model_id": "4ceca583a83447bf8754c518cc7e605c"
      }
     },
     "metadata": {},
     "output_type": "display_data"
    },
    {
     "name": "stdout",
     "output_type": "stream",
     "text": [
      "Extracting .pytorch/MNIST/MNIST\\raw\\t10k-images-idx3-ubyte.gz to .pytorch/MNIST/MNIST\\raw\n",
      "Downloading http://yann.lecun.com/exdb/mnist/t10k-labels-idx1-ubyte.gz to .pytorch/MNIST/MNIST\\raw\\t10k-labels-idx1-ubyte.gz\n"
     ]
    },
    {
     "data": {
      "text/plain": "HBox(children=(FloatProgress(value=1.0, bar_style='info', max=1.0), HTML(value='')))",
      "application/vnd.jupyter.widget-view+json": {
       "version_major": 2,
       "version_minor": 0,
       "model_id": "af6858a5889c40caa8e17a38f9d2571c"
      }
     },
     "metadata": {},
     "output_type": "display_data"
    },
    {
     "name": "stdout",
     "output_type": "stream",
     "text": [
      "Extracting .pytorch/MNIST/MNIST\\raw\\t10k-labels-idx1-ubyte.gz to .pytorch/MNIST/MNIST\\raw\n",
      "Processing...\n",
      "Done!\n"
     ]
    },
    {
     "name": "stderr",
     "output_type": "stream",
     "text": [
      "c:\\program files\\python37\\lib\\site-packages\\torchvision\\datasets\\mnist.py:439: UserWarning: The given NumPy array is not writeable, and PyTorch does not support non-writeable tensors. This means you can write to the underlying (supposedly non-writeable) NumPy array using the tensor. You may want to copy the array to protect its data or make it writeable before converting it to a tensor. This type of warning will be suppressed for the rest of this program. (Triggered internally at  ..\\torch\\csrc\\utils\\tensor_numpy.cpp:141.)\n",
      "  return torch.from_numpy(parsed.astype(m[2], copy=False)).view(*s)\n"
     ]
    }
   ],
   "source": [
    "from torchvision import datasets, transforms\n",
    "import torch.nn.functional as F\n",
    "from torch import nn\n",
    "\n",
    "mean, std = (0.5,), (0.5,)\n",
    "\n",
    "# Create a transform and normalise data\n",
    "transform = transforms.Compose([transforms.ToTensor(),\n",
    "                                transforms.Normalize(mean, std)\n",
    "                              ])\n",
    "\n",
    "# Download MNIST training dataset and load training data\n",
    "trainset = datasets.MNIST('.pytorch/MNIST/', download=True, train=True, transform=transform)\n",
    "trainloader = torch.utils.data.DataLoader(trainset, batch_size=64, shuffle=True)\n",
    "\n",
    "# Download MNIST test dataset and load test data\n",
    "testset = datasets.MNIST('.pytorch/MNIST/', download=True, train=False, transform=transform)\n",
    "testloader = torch.utils.data.DataLoader(testset, batch_size=64, shuffle=False)"
   ],
   "metadata": {
    "collapsed": false,
    "pycharm": {
     "name": "#%%\n"
    }
   }
  },
  {
   "cell_type": "code",
   "execution_count": 4,
   "outputs": [],
   "source": [
    "class MNIST(nn.Module):\n",
    "  def __init__(self):\n",
    "    super().__init__()\n",
    "    self.fc1 = nn.Linear(784, 128)\n",
    "    self.fc2 = nn.Linear(128,64)\n",
    "    self.fc3 = nn.Linear(64,10)\n",
    "\n",
    "  def forward(self, x):\n",
    "    x = x.view(x.shape[0], -1) # flatten the input\n",
    "\n",
    "    x = F.relu(self.fc1(x))\n",
    "    x = F.relu(self.fc2(x))\n",
    "    x = self.fc3(x)\n",
    "    x = F.log_softmax(x, dim=1)\n",
    "\n",
    "    return x\n",
    "\n",
    "model = MNIST()"
   ],
   "metadata": {
    "collapsed": false,
    "pycharm": {
     "name": "#%%\n"
    }
   }
  },
  {
   "cell_type": "code",
   "execution_count": 5,
   "outputs": [
    {
     "name": "stdout",
     "output_type": "stream",
     "text": [
      "cpu\n"
     ]
    }
   ],
   "source": [
    "device = torch.device(\"cuda\" if torch.cuda.is_available() else \"cpu\")\n",
    "print(device)"
   ],
   "metadata": {
    "collapsed": false,
    "pycharm": {
     "name": "#%%\n"
    }
   }
  },
  {
   "cell_type": "code",
   "execution_count": 7,
   "outputs": [
    {
     "name": "stdout",
     "output_type": "stream",
     "text": [
      "Epoch(1/30) | Training loss: 0.44389019456944234 | Test loss: 0.39746663354005024 | Accuracy : 0.8936\n",
      "Epoch(2/30) | Training loss: 0.39540783373086946 | Test loss: 0.3614453232497167 | Accuracy : 0.9006\n",
      "Epoch(3/30) | Training loss: 0.36688865049243735 | Test loss: 0.3399962809197842 | Accuracy : 0.9032\n",
      "Epoch(4/30) | Training loss: 0.34689833647978585 | Test loss: 0.32951100263151395 | Accuracy : 0.9062\n",
      "Epoch(5/30) | Training loss: 0.33182546221561776 | Test loss: 0.3129959406604053 | Accuracy : 0.9132\n",
      "Epoch(6/30) | Training loss: 0.3199413687562637 | Test loss: 0.30001256835593537 | Accuracy : 0.9147\n",
      "Epoch(7/30) | Training loss: 0.30949221361579415 | Test loss: 0.29360178928039254 | Accuracy : 0.9167\n",
      "Epoch(8/30) | Training loss: 0.3004443007491545 | Test loss: 0.285769663952813 | Accuracy : 0.9172\n",
      "Epoch(9/30) | Training loss: 0.2926212318384571 | Test loss: 0.2780749164758974 | Accuracy : 0.9212\n",
      "Epoch(10/30) | Training loss: 0.28480551475242005 | Test loss: 0.27231041862848837 | Accuracy : 0.9209\n",
      "Epoch(11/30) | Training loss: 0.27795829989317894 | Test loss: 0.2650064345757673 | Accuracy : 0.9237\n",
      "Epoch(12/30) | Training loss: 0.2711868772803466 | Test loss: 0.25921286111045033 | Accuracy : 0.9247\n",
      "Epoch(13/30) | Training loss: 0.2646741446163227 | Test loss: 0.2548539775310998 | Accuracy : 0.9261\n",
      "Epoch(14/30) | Training loss: 0.2581745565795441 | Test loss: 0.24909309238480154 | Accuracy : 0.9281\n",
      "Epoch(15/30) | Training loss: 0.2522208066875619 | Test loss: 0.24479050765846186 | Accuracy : 0.9296\n",
      "Epoch(16/30) | Training loss: 0.24637907785949295 | Test loss: 0.23913844166454046 | Accuracy : 0.9317\n",
      "Epoch(17/30) | Training loss: 0.24078791369316674 | Test loss: 0.23232378335491677 | Accuracy : 0.9333\n",
      "Epoch(18/30) | Training loss: 0.23499117788078308 | Test loss: 0.22816535181537934 | Accuracy : 0.9341\n",
      "Epoch(19/30) | Training loss: 0.22964291379395832 | Test loss: 0.2225905766675047 | Accuracy : 0.9354\n",
      "Epoch(20/30) | Training loss: 0.22453993080712076 | Test loss: 0.21762363705190885 | Accuracy : 0.9363\n",
      "Epoch(21/30) | Training loss: 0.21926211109007598 | Test loss: 0.2146094972267747 | Accuracy : 0.9374\n",
      "Epoch(22/30) | Training loss: 0.21482212411791785 | Test loss: 0.21130398972327732 | Accuracy : 0.9381\n",
      "Epoch(23/30) | Training loss: 0.21002859890715145 | Test loss: 0.20526120873393527 | Accuracy : 0.9387\n",
      "Epoch(24/30) | Training loss: 0.2056272757738066 | Test loss: 0.2012627689393273 | Accuracy : 0.9405\n",
      "Epoch(25/30) | Training loss: 0.20134091000757745 | Test loss: 0.19820366417217977 | Accuracy : 0.9408\n",
      "Epoch(26/30) | Training loss: 0.19695937006410633 | Test loss: 0.19415554479001815 | Accuracy : 0.9408\n",
      "Epoch(27/30) | Training loss: 0.19305185883887796 | Test loss: 0.1908318974362437 | Accuracy : 0.9428\n",
      "Epoch(28/30) | Training loss: 0.18915078826328077 | Test loss: 0.1880064521839095 | Accuracy : 0.9433\n",
      "Epoch(29/30) | Training loss: 0.18523873080576914 | Test loss: 0.18413402909816357 | Accuracy : 0.9444\n",
      "Epoch(30/30) | Training loss: 0.18166401292453568 | Test loss: 0.18017172257884578 | Accuracy : 0.946\n",
      "\n",
      "Number correct : 9460, Total : 10000\n",
      "Accuracy of the model after 30 epochs on the 10000 test images: 94.6% \n"
     ]
    }
   ],
   "source": [
    "from torch import optim\n",
    "criterion = nn.NLLLoss()\n",
    "optimizer = optim.Adadelta(model.parameters(), lr=0.01)\n",
    "model.to(device)\n",
    "num_epochs = 30\n",
    "train_tracker, test_tracker, accuracy_tracker = [], [], []\n",
    "\n",
    "\n",
    "for i in range(num_epochs):\n",
    "    cum_loss = 0\n",
    "\n",
    "    for batch, (images, labels) in enumerate(trainloader,1):\n",
    "        images = images.to(device)\n",
    "        labels = labels.to(device)\n",
    "\n",
    "        optimizer.zero_grad()\n",
    "        output = model(images)\n",
    "        loss = criterion(output, labels)\n",
    "        loss.backward()\n",
    "        optimizer.step()\n",
    "\n",
    "        cum_loss += loss.item()\n",
    "\n",
    "    train_tracker.append(cum_loss/len(trainloader))\n",
    "    print(f\"Epoch({i+1}/{num_epochs}) | Training loss: {cum_loss/len(trainloader)} | \",end='')\n",
    "\n",
    "    test_loss = 0\n",
    "    num_correct = 0\n",
    "    total = 0\n",
    "\n",
    "    for batch, (images, labels) in enumerate(testloader,1):\n",
    "        images = images.to(device)\n",
    "        labels = labels.to(device)\n",
    "\n",
    "        logps = model(images)\n",
    "        batch_loss = criterion(logps, labels)\n",
    "        test_loss += batch_loss.item()\n",
    "\n",
    "        output = torch.exp(logps)\n",
    "        pred = torch.argmax(output, 1)\n",
    "        total += labels.size(0)\n",
    "        num_correct += (pred == labels).sum().item()\n",
    "\n",
    "    test_tracker.append(test_loss/len(testloader))\n",
    "    print(f\"Test loss: {test_loss/len(testloader)} | \", end='')\n",
    "    accuracy_tracker.append(num_correct/total)\n",
    "    print(f'Accuracy : {num_correct/total}')\n",
    "print(f'\\nNumber correct : {num_correct}, Total : {total}')\n",
    "print(f'Accuracy of the model after 30 epochs on the 10000 test images: {num_correct * 100 / total}% ')\n"
   ],
   "metadata": {
    "collapsed": false,
    "pycharm": {
     "name": "#%%\n"
    }
   }
  },
  {
   "cell_type": "code",
   "execution_count": 8,
   "outputs": [
    {
     "data": {
      "text/plain": "<matplotlib.legend.Legend at 0x18ee48ac4c8>"
     },
     "execution_count": 8,
     "metadata": {},
     "output_type": "execute_result"
    },
    {
     "data": {
      "text/plain": "<Figure size 432x288 with 1 Axes>",
      "image/png": "[encoded data removed]"
     },
     "metadata": {
      "needs_background": "light"
     },
     "output_type": "display_data"
    }
   ],
   "source": [
    "import matplotlib.pyplot as plt\n",
    "%matplotlib inline\n",
    "plt.plot(train_tracker, label='Training loss')\n",
    "plt.plot(test_tracker, label='Test loss')\n",
    "plt.legend()"
   ],
   "metadata": {
    "collapsed": false,
    "pycharm": {
     "name": "#%%\n"
    }
   }
  },
  {
   "cell_type": "code",
   "execution_count": 9,
   "outputs": [
    {
     "data": {
      "text/plain": "<matplotlib.legend.Legend at 0x18ee496d388>"
     },
     "execution_count": 9,
     "metadata": {},
     "output_type": "execute_result"
    },
    {
     "data": {
      "text/plain": "<Figure size 432x288 with 1 Axes>",
      "image/png": "[encoded data removed]"
     },
     "metadata": {
      "needs_background": "light"
     },
     "output_type": "display_data"
    }
   ],
   "source": [
    "plt.plot(train_tracker, label='Training loss')\n",
    "plt.plot(test_tracker, label='Test loss')\n",
    "plt.plot(accuracy_tracker, label='Test accuracy')\n",
    "plt.legend()"
   ],
   "metadata": {
    "collapsed": false,
    "pycharm": {
     "name": "#%%\n"
    }
   }
  },
  {
   "cell_type": "code",
   "execution_count": 13,
   "outputs": [],
   "source": [
    "images, labels = next(iter(testloader))\n",
    "\n",
    "test_image_id = 6\n",
    "img = images[test_image_id].view(1, 784)\n",
    "\n",
    "with torch.no_grad():\n",
    "    logps = model(img)"
   ],
   "metadata": {
    "collapsed": false,
    "pycharm": {
     "name": "#%%\n"
    }
   }
  },
  {
   "cell_type": "code",
   "execution_count": 14,
   "outputs": [
    {
     "data": {
      "text/plain": "<BarContainer object of 10 artists>"
     },
     "execution_count": 14,
     "metadata": {},
     "output_type": "execute_result"
    },
    {
     "data": {
      "text/plain": "<Figure size 432x288 with 1 Axes>",
      "image/png": "[encoded data removed]"
     },
     "metadata": {
      "needs_background": "light"
     },
     "output_type": "display_data"
    }
   ],
   "source": [
    "ps = torch.exp(logps)\n",
    "nps = ps.numpy()[0]\n",
    "MNIST_labels = [str(i) for i in range(10)]\n",
    "plt.xticks(np.arange(10),labels=MNIST_labels,rotation='vertical')\n",
    "plt.bar(np.arange(10), nps)"
   ],
   "metadata": {
    "collapsed": false,
    "pycharm": {
     "name": "#%%\n"
    }
   }
  },
  {
   "cell_type": "code",
   "execution_count": 15,
   "outputs": [
    {
     "data": {
      "text/plain": "<matplotlib.image.AxesImage at 0x18ee4badec8>"
     },
     "execution_count": 15,
     "metadata": {},
     "output_type": "execute_result"
    },
    {
     "data": {
      "text/plain": "<Figure size 432x288 with 1 Axes>",
      "image/png": "[encoded data removed]"
     },
     "metadata": {
      "needs_background": "light"
     },
     "output_type": "display_data"
    }
   ],
   "source": [
    "def denormalize(tensor):\n",
    "  tensor = tensor*0.5 + 0.5\n",
    "  return tensor\n",
    "\n",
    "img = img.view(28,-1)\n",
    "img = denormalize(img)\n",
    "plt.imshow(img,cmap='gray')"
   ],
   "metadata": {
    "collapsed": false,
    "pycharm": {
     "name": "#%%\n"
    }
   }
  }
 ],
 "metadata": {
  "kernelspec": {
   "display_name": "Python 3",
   "language": "python",
   "name": "python3"
  },
  "language_info": {
   "codemirror_mode": {
    "name": "ipython",
    "version": 2
   },
   "file_extension": ".py",
   "mimetype": "text/x-python",
   "name": "python",
   "nbconvert_exporter": "python",
   "pygments_lexer": "ipython2",
   "version": "2.7.6"
  }
 },
 "nbformat": 4,
 "nbformat_minor": 0
}