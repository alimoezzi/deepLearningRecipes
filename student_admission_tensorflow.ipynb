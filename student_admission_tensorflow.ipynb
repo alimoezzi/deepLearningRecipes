{
 "cells": [
  {
   "cell_type": "markdown",
   "metadata": {
    "collapsed": true,
    "pycharm": {
     "name": "#%% md\n"
    }
   },
   "source": [
    "# Student Admission"
   ],
   "outputs": [],
   "execution_count": 1
  },
  {
   "cell_type": "code",
   "execution_count": 90,
   "outputs": [],
   "source": [
    "import pandas as pd\n",
    "import numpy as np\n",
    "import tensorflow as tf\n",
    "from matplotlib import pyplot as plt\n",
    "%matplotlib inline\n",
    "from sklearn.model_selection import train_test_split\n",
    "from sklearn.preprocessing import minmax_scale\n",
    "data = pd.read_csv('https://stats.idre.ucla.edu/stat/data/binary.csv')"
   ],
   "metadata": {
    "collapsed": false,
    "pycharm": {
     "name": "#%%\n"
    }
   }
  },
  {
   "cell_type": "code",
   "execution_count": 91,
   "outputs": [
    {
     "name": "stdout",
     "output_type": "stream",
     "text": [
      "   admit  gre   gpa  rank\n",
      "0      0  380  3.61     3\n",
      "1      1  660  3.67     3\n",
      "2      1  800  4.00     1\n",
      "3      1  640  3.19     4\n",
      "4      0  520  2.93     4\n"
     ]
    }
   ],
   "source": [
    "print(data.head())"
   ],
   "metadata": {
    "collapsed": false,
    "pycharm": {
     "name": "#%%\n"
    }
   }
  },
  {
   "cell_type": "code",
   "execution_count": 92,
   "outputs": [
    {
     "data": {
      "text/plain": "array([[0.27586207, 0.77586207, 0.66666667],\n       [0.75862069, 0.81034483, 0.66666667],\n       [1.        , 1.        , 0.        ],\n       ...,\n       [0.4137931 , 0.21264368, 0.33333333],\n       [0.82758621, 0.79885057, 0.33333333],\n       [0.65517241, 0.93678161, 0.66666667]])"
     },
     "execution_count": 92,
     "metadata": {},
     "output_type": "execute_result"
    }
   ],
   "source": [
    "X = data.iloc[:,[1,2,3]]\n",
    "y = data.iloc[:,[0]]\n",
    "X = minmax_scale(X, feature_range=(0, 1))\n",
    "X"
   ],
   "metadata": {
    "collapsed": false,
    "pycharm": {
     "name": "#%%\n"
    }
   }
  },
  {
   "cell_type": "code",
   "execution_count": 93,
   "outputs": [
    {
     "data": {
      "text/plain": "((280, 3), (280, 1))"
     },
     "execution_count": 93,
     "metadata": {},
     "output_type": "execute_result"
    }
   ],
   "source": [
    "X_train, X_test, y_train, y_test = train_test_split(X,y, test_size=0.3)\n",
    "X_train.shape, y_train.shape"
   ],
   "metadata": {
    "collapsed": false,
    "pycharm": {
     "name": "#%%\n"
    }
   }
  },
  {
   "cell_type": "code",
   "execution_count": 94,
   "outputs": [],
   "source": [
    "n_features = 3\n",
    "n_labels = 1\n",
    "n_layers = 2\n",
    "\n",
    "features = tf.placeholder(tf.float32)\n",
    "labels = tf.placeholder(tf.float32)\n",
    "\n",
    "w = [\n",
    "    tf.Variable(tf.random_normal((n_features, 2)), name='Weights_layer_0'),\n",
    "    tf.Variable(tf.random_normal((2, n_labels)), name='Weights_layer_1'),\n",
    "]\n",
    "\n",
    "b = [\n",
    "    tf.Variable(tf.zeros(2), name='Bias_layer_0'),\n",
    "    tf.Variable(tf.zeros(n_labels), name='Bias_layer_1'),\n",
    "]"
   ],
   "metadata": {
    "collapsed": false,
    "pycharm": {
     "name": "#%%\n"
    }
   }
  },
  {
   "cell_type": "code",
   "execution_count": 95,
   "outputs": [],
   "source": [
    "def neural_network(input, weights, biases):\n",
    "    for i in range(n_layers-1):\n",
    "        layer = tf.add(tf.matmul(input, weights[i]),biases[i])\n",
    "        layer = tf.nn.relu(layer)\n",
    "    out_layer = tf.add(tf.matmul(layer, weights[-1]),biases[-1])\n",
    "    return out_layer"
   ],
   "metadata": {
    "collapsed": false,
    "pycharm": {
     "name": "#%%\n"
    }
   }
  },
  {
   "cell_type": "code",
   "execution_count": 96,
   "outputs": [
    {
     "name": "stdout",
     "output_type": "stream",
     "text": [
      "0.99999994\n",
      "Loss : (0.23091675, [0.3762289, 0.27737668, 0.25117287, 0.10058887, 0.19189355, 0.3395963, 0.22205931, 0.23863389, 0.025170244, 0.23091675])\n"
     ]
    }
   ],
   "source": [
    "loss_ = []\n",
    "with tf.device('/dml:0'):\n",
    "    with tf.Session() as sess:\n",
    "        for i in range(10):\n",
    "            prediction = tf.nn.sigmoid(neural_network(features, w, b))\n",
    "\n",
    "            cross_entropy = -tf.reduce_sum(labels*tf.log(prediction), reduction_indices=1)\n",
    "\n",
    "            loss = tf.reduce_mean(cross_entropy)\n",
    "\n",
    "            optim = tf.train.AdagradOptimizer(0.0001).minimize(loss)\n",
    "            sess.run(tf.global_variables_initializer())\n",
    "            _, l = sess.run([optim, loss],\n",
    "                            feed_dict={features: X_train, labels: y_train})\n",
    "            loss_.append(l)\n",
    "        correct_prediction = tf.equal(tf.argmax(neural_network(features,w,b), 1), tf.argmax(labels, 1))\n",
    "        accuracy = tf.reduce_mean(tf.cast(correct_prediction, tf.float32))\n",
    "        test_accuracy = sess.run(\n",
    "                accuracy,\n",
    "                feed_dict={features: X_test, labels: y_test})\n",
    "        print(test_accuracy)\n",
    "\n",
    "print(f'Loss : {l, loss_}')"
   ],
   "metadata": {
    "collapsed": false,
    "pycharm": {
     "name": "#%%\n"
    }
   }
  },
  {
   "cell_type": "code",
   "execution_count": 97,
   "outputs": [
    {
     "data": {
      "text/plain": "[<matplotlib.lines.Line2D at 0x14c3bd8cf08>]"
     },
     "execution_count": 97,
     "metadata": {},
     "output_type": "execute_result"
    },
    {
     "data": {
      "text/plain": "<Figure size 432x288 with 1 Axes>",
      "image/png": "[encoded data removed]"
     },
     "metadata": {
      "needs_background": "light"
     },
     "output_type": "display_data"
    }
   ],
   "source": [
    "plt.plot(loss_)"
   ],
   "metadata": {
    "collapsed": false,
    "pycharm": {
     "name": "#%%\n"
    }
   }
  }
 ],
 "metadata": {
  "kernelspec": {
   "display_name": "Python 3",
   "language": "python",
   "name": "python3"
  },
  "language_info": {
   "codemirror_mode": {
    "name": "ipython",
    "version": 2
   },
   "file_extension": ".py",
   "mimetype": "text/x-python",
   "name": "python",
   "nbconvert_exporter": "python",
   "pygments_lexer": "ipython2",
   "version": "2.7.6"
  }
 },
 "nbformat": 4,
 "nbformat_minor": 0
}