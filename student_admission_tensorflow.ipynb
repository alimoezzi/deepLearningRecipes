{
 "cells": [
  {
   "cell_type": "markdown",
   "metadata": {
    "collapsed": true,
    "pycharm": {
     "name": "#%% md\n"
    }
   },
   "source": [
    "# Student Admission"
   ]
  },
  {
   "cell_type": "code",
   "execution_count": 1,
   "metadata": {
    "ExecuteTime": {
     "end_time": "2021-02-22T13:03:47.039467Z",
     "start_time": "2021-02-22T13:03:45.813661Z"
    },
    "pycharm": {
     "name": "#%%\n"
    }
   },
   "outputs": [],
   "source": [
    "import pandas as pd\n",
    "import numpy as np\n",
    "np.set_printoptions(precision=3)\n",
    "import tensorflow as tf\n",
    "from matplotlib import pyplot as plt\n",
    "from yapf.yapflib.yapf_api import FormatCode\n",
    "from pprint import pformat\n",
    "def pprint(x):\n",
    "    print(FormatCode(pformat(x))[0])\n",
    "%matplotlib inline\n",
    "from sklearn.model_selection import train_test_split\n",
    "from sklearn.preprocessing import minmax_scale\n",
    "data = pd.read_csv('https://stats.idre.ucla.edu/stat/data/binary.csv')"
   ]
  },
  {
   "cell_type": "code",
   "execution_count": 2,
   "metadata": {
    "ExecuteTime": {
     "end_time": "2021-02-22T13:03:47.071655Z",
     "start_time": "2021-02-22T13:03:47.043481Z"
    },
    "pycharm": {
     "name": "#%%\n"
    }
   },
   "outputs": [
    {
     "name": "stdout",
     "output_type": "stream",
     "text": [
      "(400, 9)\n"
     ]
    }
   ],
   "source": [
    "one_hot_data = pd.concat([data, pd.get_dummies(data['rank'], prefix='rank')], axis=1)\n",
    "one_hot_data = pd.concat([one_hot_data, pd.get_dummies(data['admit'], prefix='admit')], axis=1)\n",
    "\n",
    "# Drop the previous rank column\n",
    "data = one_hot_data.drop('rank', axis=1)\n",
    "data = one_hot_data.drop('admit', axis=1)\n",
    "print(data.shape)"
   ]
  },
  {
   "cell_type": "code",
   "execution_count": 3,
   "metadata": {
    "ExecuteTime": {
     "end_time": "2021-02-22T13:03:47.103486Z",
     "start_time": "2021-02-22T13:03:47.075481Z"
    },
    "pycharm": {
     "name": "#%%\n"
    }
   },
   "outputs": [
    {
     "data": {
      "text/plain": "array([[0.276, 0.776, 0.667, ..., 0.   , 1.   , 0.   ],\n       [0.759, 0.81 , 0.667, ..., 0.   , 1.   , 0.   ],\n       [1.   , 1.   , 0.   , ..., 0.   , 0.   , 0.   ],\n       ...,\n       [0.414, 0.213, 0.333, ..., 1.   , 0.   , 0.   ],\n       [0.828, 0.799, 0.333, ..., 1.   , 0.   , 0.   ],\n       [0.655, 0.937, 0.667, ..., 0.   , 1.   , 0.   ]])"
     },
     "execution_count": 3,
     "metadata": {},
     "output_type": "execute_result"
    }
   ],
   "source": [
    "X = data.iloc[:,[0,1,2,3,4,5,6]]\n",
    "y = data.iloc[:,[7,8]]\n",
    "\n",
    "X = minmax_scale(X, feature_range=(0, 1))\n",
    "X"
   ]
  },
  {
   "cell_type": "code",
   "execution_count": 4,
   "metadata": {
    "ExecuteTime": {
     "end_time": "2021-02-22T13:03:47.135479Z",
     "start_time": "2021-02-22T13:03:47.109484Z"
    },
    "pycharm": {
     "name": "#%%\n"
    }
   },
   "outputs": [],
   "source": [
    "X_train, X_test, y_train, y_test = train_test_split(X,y, test_size=0.3)\n",
    "X_train.shape, y_train.shape\n",
    "X_train_batches, y_train_batches = np.split(X_train,20),np.split(y_train,20)"
   ]
  },
  {
   "cell_type": "code",
   "execution_count": 5,
   "metadata": {
    "ExecuteTime": {
     "end_time": "2021-02-22T13:03:47.198487Z",
     "start_time": "2021-02-22T13:03:47.143515Z"
    },
    "pycharm": {
     "name": "#%%\n"
    }
   },
   "outputs": [],
   "source": [
    "n_features = X_train.shape[1]\n",
    "n_labels = y_train.shape[1]\n",
    "\n",
    "features = tf.placeholder(tf.float32, [None, n_features])\n",
    "labels = tf.placeholder(tf.float32, [None, n_labels])\n",
    "\n",
    "w = [\n",
    "    tf.Variable(tf.random_normal((n_features, 8), stddev=(1/tf.sqrt(float(n_features)))), name='Weights_layer_0'),\n",
    "    tf.Variable(tf.random_normal((8, 4), stddev=(1/tf.sqrt(float(4)))), name='Weights_layer_1'),\n",
    "    tf.Variable(tf.random_normal((4, n_labels), stddev=(1/tf.sqrt(float(n_labels)))), name='Weights_layer_2'),\n",
    "]\n",
    "\n",
    "n_layers = len(w)\n",
    "b = [\n",
    "    tf.Variable(tf.random_normal((8,), stddev=0.01), name='Bias_layer_0'),\n",
    "    tf.Variable(tf.random_normal((4,), stddev=0.01), name='Bias_layer_1'),\n",
    "    tf.Variable(tf.random_normal((n_labels,), stddev=0.01), name='Bias_layer_2'),\n",
    "]"
   ]
  },
  {
   "cell_type": "code",
   "execution_count": 6,
   "metadata": {
    "ExecuteTime": {
     "end_time": "2021-02-22T13:03:47.214478Z",
     "start_time": "2021-02-22T13:03:47.201479Z"
    },
    "pycharm": {
     "name": "#%%\n"
    }
   },
   "outputs": [],
   "source": [
    "def neural_network(input, weights, biases):\n",
    "    for i in range(n_layers-1):\n",
    "        layer = tf.add(tf.matmul(input if i==0 else layer, weights[i]),biases[i])\n",
    "        layer = tf.nn.relu(layer)\n",
    "        # layer = tf.nn.dropout(layer, keep_prob=0.8)\n",
    "    out_layer = tf.add(tf.matmul(layer, weights[-1]),biases[-1])\n",
    "    return out_layer"
   ]
  },
  {
   "cell_type": "code",
   "execution_count": 7,
   "metadata": {
    "ExecuteTime": {
     "end_time": "2021-02-22T13:03:51.683514Z",
     "start_time": "2021-02-22T13:03:47.219480Z"
    },
    "pycharm": {
     "name": "#%%\n"
    }
   },
   "outputs": [
    {
     "name": "stdout",
     "output_type": "stream",
     "text": [
      "WARNING:tensorflow:From c:\\program files\\python37\\lib\\site-packages\\tensorflow_core\\python\\ops\\nn_impl.py:183: where (from tensorflow.python.ops.array_ops) is deprecated and will be removed in a future version.\n",
      "Instructions for updating:\n",
      "Use tf.where in 2.0, which has the same broadcast rule as np.where\n",
      "WARNING:tensorflow:From c:\\program files\\python37\\lib\\site-packages\\tensorflow_core\\python\\training\\adagrad.py:76: calling Constant.__init__ (from tensorflow.python.ops.init_ops) with dtype is deprecated and will be removed in a future version.\n",
      "Instructions for updating:\n",
      "Call initializer instance with the dtype argument instead of passing it to the constructor\n",
      "0 [0.66785717]\n",
      "1 [0.67142856]\n",
      "2 [0.67142856]\n",
      "3 [0.67142856]\n",
      "4 [0.67142856]\n",
      "5 [0.67142856]\n",
      "6 [0.67142856]\n",
      "7 [0.67142856]\n",
      "8 [0.67142856]\n",
      "9 [0.67142856]\n",
      "10 [0.67142856]\n",
      "11 [0.67142856]\n",
      "12 [0.67142856]\n",
      "13 [0.67142856]\n",
      "14 [0.67142856]\n",
      "15 [0.67142856]\n",
      "16 [0.67142856]\n",
      "17 [0.67142856]\n",
      "18 [0.67142856]\n",
      "19 [0.67142856]\n",
      "20 [0.67142856]\n",
      "21 [0.67142856]\n",
      "22 [0.67142856]\n",
      "23 [0.67142856]\n",
      "24 [0.67142856]\n",
      "25 [0.67142856]\n",
      "26 [0.67142856]\n",
      "27 [0.67142856]\n",
      "28 [0.67142856]\n",
      "29 [0.67142856]\n",
      "30 [0.6857143]\n",
      "31 [0.68214285]\n",
      "32 [0.6857143]\n",
      "33 [0.69285715]\n",
      "34 [0.6964286]\n",
      "35 [0.7]\n",
      "36 [0.6964286]\n",
      "37 [0.6964286]\n",
      "38 [0.7]\n",
      "39 [0.70357144]\n",
      "40 [0.7]\n",
      "41 [0.7071429]\n",
      "42 [0.70357144]\n",
      "43 [0.7071429]\n",
      "44 [0.7071429]\n",
      "45 [0.7071429]\n",
      "46 [0.7071429]\n",
      "47 [0.70357144]\n",
      "48 [0.70357144]\n",
      "49 [0.70357144]\n",
      "0.7416666\n"
     ]
    }
   ],
   "source": [
    "loss_ = []\n",
    "res = []\n",
    "prediction = neural_network(features, w, b)\n",
    "# loss = tf.reduce_mean(-tf.reduce_sum(labels*tf.log(prediction), reduction_indices=1))\n",
    "loss = tf.reduce_mean(tf.nn.sigmoid_cross_entropy_with_logits(logits=prediction, labels=labels))\n",
    "optim = tf.train.AdagradOptimizer(0.05).minimize(loss)\n",
    "# correct_prediction = tf.equal(tf.round(prediction), labels)\n",
    "correct_prediction = tf.equal(tf.argmax(tf.sigmoid(prediction), 1), tf.argmax(labels, 1))\n",
    "accuracy = tf.reduce_mean(tf.cast(correct_prediction, tf.float32))\n",
    "with tf.device('/dml:0'):\n",
    "    with tf.Session() as sess:\n",
    "        sess.run(tf.global_variables_initializer())\n",
    "        for i in range(50):\n",
    "            for m,n in zip(X_train_batches, y_train_batches):\n",
    "                _, l = sess.run([optim, loss],feed_dict={features: m, labels: n})\n",
    "            loss_.append(l)\n",
    "                # pprint(sess.run(w))\n",
    "                # pprint(sess.run(b))\n",
    "\n",
    "            acc = sess.run([accuracy], feed_dict={features: X_train, labels: y_train})\n",
    "            print(i, acc)\n",
    "        test_accuracy = sess.run(accuracy,feed_dict={features: X_test, labels: y_test})\n",
    "        print(test_accuracy)\n",
    "        res = sess.run(tf.sigmoid(prediction),feed_dict={features: X})"
   ]
  },
  {
   "cell_type": "code",
   "execution_count": 8,
   "metadata": {
    "ExecuteTime": {
     "end_time": "2021-02-22T13:19:22.755958Z",
     "start_time": "2021-02-22T13:19:22.746924Z"
    },
    "pycharm": {
     "name": "#%%\n"
    },
    "tags": []
   },
   "outputs": [
    {
     "data": {
      "text/plain": "[<matplotlib.lines.Line2D at 0x1f1013b7f88>]"
     },
     "execution_count": 8,
     "metadata": {},
     "output_type": "execute_result"
    },
    {
     "data": {
      "text/plain": "<Figure size 432x288 with 1 Axes>",
      "image/png": "[encoded data removed]"
     },
     "metadata": {
      "needs_background": "light"
     },
     "output_type": "display_data"
    }
   ],
   "source": [
    "plt.plot(loss_)"
   ]
  },
  {
   "cell_type": "code",
   "execution_count": 9,
   "metadata": {
    "ExecuteTime": {
     "end_time": "2021-02-22T13:03:51.951501Z",
     "start_time": "2021-02-22T13:03:51.906503Z"
    },
    "pycharm": {
     "name": "#%%\n"
    },
    "scrolled": false
   },
   "outputs": [
    {
     "data": {
      "text/plain": "     gre   gpa  rank  rank_1  rank_2  rank_3  rank_4  admit_0  admit_1  pred  \\\n0    380  3.61     3       0       0       1       0        1        0     0   \n1    660  3.67     3       0       0       1       0        0        1     0   \n2    800  4.00     1       1       0       0       0        0        1     1   \n3    640  3.19     4       0       0       0       1        0        1     0   \n4    520  2.93     4       0       0       0       1        1        0     0   \n..   ...   ...   ...     ...     ...     ...     ...      ...      ...   ...   \n395  620  4.00     2       0       1       0       0        1        0     0   \n396  560  3.04     3       0       0       1       0        1        0     0   \n397  460  2.63     2       0       1       0       0        1        0     0   \n398  700  3.65     2       0       1       0       0        1        0     0   \n399  600  3.89     3       0       0       1       0        1        0     0   \n\n     admit     res_0     res_1  \n0        0  0.776777  0.206227  \n1        1  0.773726  0.209561  \n2        1  0.433618  0.619122  \n3        1  0.812738  0.175708  \n4        0  0.815686  0.171092  \n..     ...       ...       ...  \n395      0  0.565080  0.442172  \n396      0  0.772148  0.210882  \n397      0  0.722105  0.226061  \n398      0  0.562203  0.445516  \n399      0  0.773408  0.209909  \n\n[400 rows x 13 columns]",
      "text/html": "<div>\n<style scoped>\n    .dataframe tbody tr th:only-of-type {\n        vertical-align: middle;\n    }\n\n    .dataframe tbody tr th {\n        vertical-align: top;\n    }\n\n    .dataframe thead th {\n        text-align: right;\n    }\n</style>\n<table border=\"1\" class=\"dataframe\">\n  <thead>\n    <tr style=\"text-align: right;\">\n      <th></th>\n      <th>gre</th>\n      <th>gpa</th>\n      <th>rank</th>\n      <th>rank_1</th>\n      <th>rank_2</th>\n      <th>rank_3</th>\n      <th>rank_4</th>\n      <th>admit_0</th>\n      <th>admit_1</th>\n      <th>pred</th>\n      <th>admit</th>\n      <th>res_0</th>\n      <th>res_1</th>\n    </tr>\n  </thead>\n  <tbody>\n    <tr>\n      <th>0</th>\n      <td>380</td>\n      <td>3.61</td>\n      <td>3</td>\n      <td>0</td>\n      <td>0</td>\n      <td>1</td>\n      <td>0</td>\n      <td>1</td>\n      <td>0</td>\n      <td>0</td>\n      <td>0</td>\n      <td>0.776777</td>\n      <td>0.206227</td>\n    </tr>\n    <tr>\n      <th>1</th>\n      <td>660</td>\n      <td>3.67</td>\n      <td>3</td>\n      <td>0</td>\n      <td>0</td>\n      <td>1</td>\n      <td>0</td>\n      <td>0</td>\n      <td>1</td>\n      <td>0</td>\n      <td>1</td>\n      <td>0.773726</td>\n      <td>0.209561</td>\n    </tr>\n    <tr>\n      <th>2</th>\n      <td>800</td>\n      <td>4.00</td>\n      <td>1</td>\n      <td>1</td>\n      <td>0</td>\n      <td>0</td>\n      <td>0</td>\n      <td>0</td>\n      <td>1</td>\n      <td>1</td>\n      <td>1</td>\n      <td>0.433618</td>\n      <td>0.619122</td>\n    </tr>\n    <tr>\n      <th>3</th>\n      <td>640</td>\n      <td>3.19</td>\n      <td>4</td>\n      <td>0</td>\n      <td>0</td>\n      <td>0</td>\n      <td>1</td>\n      <td>0</td>\n      <td>1</td>\n      <td>0</td>\n      <td>1</td>\n      <td>0.812738</td>\n      <td>0.175708</td>\n    </tr>\n    <tr>\n      <th>4</th>\n      <td>520</td>\n      <td>2.93</td>\n      <td>4</td>\n      <td>0</td>\n      <td>0</td>\n      <td>0</td>\n      <td>1</td>\n      <td>1</td>\n      <td>0</td>\n      <td>0</td>\n      <td>0</td>\n      <td>0.815686</td>\n      <td>0.171092</td>\n    </tr>\n    <tr>\n      <th>...</th>\n      <td>...</td>\n      <td>...</td>\n      <td>...</td>\n      <td>...</td>\n      <td>...</td>\n      <td>...</td>\n      <td>...</td>\n      <td>...</td>\n      <td>...</td>\n      <td>...</td>\n      <td>...</td>\n      <td>...</td>\n      <td>...</td>\n    </tr>\n    <tr>\n      <th>395</th>\n      <td>620</td>\n      <td>4.00</td>\n      <td>2</td>\n      <td>0</td>\n      <td>1</td>\n      <td>0</td>\n      <td>0</td>\n      <td>1</td>\n      <td>0</td>\n      <td>0</td>\n      <td>0</td>\n      <td>0.565080</td>\n      <td>0.442172</td>\n    </tr>\n    <tr>\n      <th>396</th>\n      <td>560</td>\n      <td>3.04</td>\n      <td>3</td>\n      <td>0</td>\n      <td>0</td>\n      <td>1</td>\n      <td>0</td>\n      <td>1</td>\n      <td>0</td>\n      <td>0</td>\n      <td>0</td>\n      <td>0.772148</td>\n      <td>0.210882</td>\n    </tr>\n    <tr>\n      <th>397</th>\n      <td>460</td>\n      <td>2.63</td>\n      <td>2</td>\n      <td>0</td>\n      <td>1</td>\n      <td>0</td>\n      <td>0</td>\n      <td>1</td>\n      <td>0</td>\n      <td>0</td>\n      <td>0</td>\n      <td>0.722105</td>\n      <td>0.226061</td>\n    </tr>\n    <tr>\n      <th>398</th>\n      <td>700</td>\n      <td>3.65</td>\n      <td>2</td>\n      <td>0</td>\n      <td>1</td>\n      <td>0</td>\n      <td>0</td>\n      <td>1</td>\n      <td>0</td>\n      <td>0</td>\n      <td>0</td>\n      <td>0.562203</td>\n      <td>0.445516</td>\n    </tr>\n    <tr>\n      <th>399</th>\n      <td>600</td>\n      <td>3.89</td>\n      <td>3</td>\n      <td>0</td>\n      <td>0</td>\n      <td>1</td>\n      <td>0</td>\n      <td>1</td>\n      <td>0</td>\n      <td>0</td>\n      <td>0</td>\n      <td>0.773408</td>\n      <td>0.209909</td>\n    </tr>\n  </tbody>\n</table>\n<p>400 rows × 13 columns</p>\n</div>"
     },
     "execution_count": 9,
     "metadata": {},
     "output_type": "execute_result"
    }
   ],
   "source": [
    "d1 = data\n",
    "d1['pred'] = np.argmax(res, 1)\n",
    "d1['admit'] = np.argmax(d1.iloc[:,[7,8]].to_numpy(), 1)\n",
    "d1['res_0'] = res[:,[0]]\n",
    "d1['res_1'] = res[:,[1]]\n",
    "d1"
   ]
  },
  {
   "cell_type": "code",
   "execution_count": 10,
   "outputs": [
    {
     "data": {
      "text/plain": "array([114, 286], dtype=int64)"
     },
     "execution_count": 10,
     "metadata": {},
     "output_type": "execute_result"
    }
   ],
   "source": [
    "np.bincount(np.equal(np.argmax(res, 1), np.argmax(d1.iloc[:,[7,8]].to_numpy(), 1)))"
   ],
   "metadata": {
    "collapsed": false,
    "pycharm": {
     "name": "#%%\n"
    }
   }
  }
 ],
 "metadata": {
  "kernelspec": {
   "display_name": "Python 3",
   "language": "python",
   "name": "python3"
  },
  "language_info": {
   "codemirror_mode": {
    "name": "ipython",
    "version": 3
   },
   "file_extension": ".py",
   "mimetype": "text/x-python",
   "name": "python",
   "nbconvert_exporter": "python",
   "pygments_lexer": "ipython3",
   "version": "3.7.4"
  },
  "toc": {
   "base_numbering": 1,
   "nav_menu": {},
   "number_sections": true,
   "sideBar": true,
   "skip_h1_title": false,
   "title_cell": "Table of Contents",
   "title_sidebar": "Contents",
   "toc_cell": false,
   "toc_position": {},
   "toc_section_display": true,
   "toc_window_display": false
  },
  "varInspector": {
   "cols": {
    "lenName": 16,
    "lenType": 16,
    "lenVar": 40
   },
   "kernels_config": {
    "python": {
     "delete_cmd_postfix": "",
     "delete_cmd_prefix": "del ",
     "library": "var_list.py",
     "varRefreshCmd": "print(var_dic_list())"
    },
    "r": {
     "delete_cmd_postfix": ") ",
     "delete_cmd_prefix": "rm(",
     "library": "var_list.r",
     "varRefreshCmd": "cat(var_dic_list()) "
    }
   },
   "types_to_exclude": [
    "module",
    "function",
    "builtin_function_or_method",
    "instance",
    "_Feature"
   ],
   "window_display": false
  }
 },
 "nbformat": 4,
 "nbformat_minor": 1
}