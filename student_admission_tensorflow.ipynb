{
 "cells": [
  {
   "cell_type": "markdown",
   "metadata": {
    "collapsed": true,
    "pycharm": {
     "name": "#%% md\n"
    }
   },
   "source": [
    "# Student Admission"
   ],
   "outputs": [],
   "execution_count": 1
  },
  {
   "cell_type": "code",
   "execution_count": 26,
   "outputs": [],
   "source": [
    "import pandas as pd\n",
    "import numpy as np\n",
    "import tensorflow as tf\n",
    "from matplotlib import pyplot as plt\n",
    "%matplotlib inline\n",
    "from sklearn.model_selection import train_test_split\n",
    "from sklearn.preprocessing import minmax_scale\n",
    "data = pd.read_csv('https://stats.idre.ucla.edu/stat/data/binary.csv')"
   ],
   "metadata": {
    "collapsed": false,
    "pycharm": {
     "name": "#%%\n"
    }
   }
  },
  {
   "cell_type": "code",
   "execution_count": 27,
   "outputs": [
    {
     "name": "stdout",
     "output_type": "stream",
     "text": [
      "   admit  gre   gpa  rank\n",
      "0      0  380  3.61     3\n",
      "1      1  660  3.67     3\n",
      "2      1  800  4.00     1\n",
      "3      1  640  3.19     4\n",
      "4      0  520  2.93     4\n"
     ]
    }
   ],
   "source": [
    "print(data.head())"
   ],
   "metadata": {
    "collapsed": false,
    "pycharm": {
     "name": "#%%\n"
    }
   }
  },
  {
   "cell_type": "code",
   "execution_count": 28,
   "outputs": [
    {
     "data": {
      "text/plain": "array([[0.27586207, 0.77586207, 0.66666667],\n       [0.75862069, 0.81034483, 0.66666667],\n       [1.        , 1.        , 0.        ],\n       ...,\n       [0.4137931 , 0.21264368, 0.33333333],\n       [0.82758621, 0.79885057, 0.33333333],\n       [0.65517241, 0.93678161, 0.66666667]])"
     },
     "execution_count": 28,
     "metadata": {},
     "output_type": "execute_result"
    }
   ],
   "source": [
    "X = data.iloc[:,[1,2,3]]\n",
    "y = data.iloc[:,[0]]\n",
    "X = minmax_scale(X, feature_range=(0, 1))\n",
    "X"
   ],
   "metadata": {
    "collapsed": false,
    "pycharm": {
     "name": "#%%\n"
    }
   }
  },
  {
   "cell_type": "code",
   "execution_count": 29,
   "outputs": [
    {
     "data": {
      "text/plain": "((280, 3), (280, 1))"
     },
     "execution_count": 29,
     "metadata": {},
     "output_type": "execute_result"
    }
   ],
   "source": [
    "X_train, X_test, y_train, y_test = train_test_split(X,y, test_size=0.3, random_state=42)\n",
    "X_train.shape, y_train.shape"
   ],
   "metadata": {
    "collapsed": false,
    "pycharm": {
     "name": "#%%\n"
    }
   }
  },
  {
   "cell_type": "code",
   "execution_count": 30,
   "outputs": [],
   "source": [
    "n_features = 3\n",
    "n_labels = 1\n",
    "\n",
    "features = tf.placeholder(tf.float32)\n",
    "labels = tf.placeholder(tf.float32)\n",
    "\n",
    "w = tf.Variable(tf.random_normal((n_features, n_labels)), name='Weights')\n",
    "b = tf.Variable(tf.zeros(n_labels), name='Bias')\n",
    "\n",
    "linear = tf.add(tf.matmul(features, w),b)"
   ],
   "metadata": {
    "collapsed": false,
    "pycharm": {
     "name": "#%%\n"
    }
   }
  },
  {
   "cell_type": "code",
   "execution_count": 37,
   "outputs": [
    {
     "name": "stdout",
     "output_type": "stream",
     "text": [
      "[[ 1.3999653]\n",
      " [ 1.2438436]\n",
      " [-1.2048147]]\n",
      "Loss : (0.08077306, [0.4517675, 0.695833, 0.11230984, 0.033330414, 0.014880082, 0.039575823, 0.24545321, 0.293776, 0.3391835, 0.08077306])\n"
     ]
    }
   ],
   "source": [
    "loss_ = []\n",
    "with tf.device('/dml:0'):\n",
    "    with tf.Session() as sess:\n",
    "        for i in range(10):\n",
    "            prediction = tf.nn.sigmoid(linear)\n",
    "\n",
    "            cross_entropy = -tf.reduce_sum(labels*tf.log(prediction), reduction_indices=1)\n",
    "\n",
    "            loss = tf.reduce_mean(cross_entropy)\n",
    "\n",
    "            optim = tf.train.AdagradOptimizer(0.0001).minimize(loss)\n",
    "            sess.run(tf.global_variables_initializer())\n",
    "            _, l = sess.run([optim, loss],\n",
    "                            feed_dict={features: X_train, labels: y_train})\n",
    "            loss_.append(l)\n",
    "        print(sess.run(w))\n",
    "\n",
    "print(f'Loss : {l, loss_}')"
   ],
   "metadata": {
    "collapsed": false,
    "pycharm": {
     "name": "#%%\n"
    }
   }
  },
  {
   "cell_type": "code",
   "execution_count": 38,
   "outputs": [
    {
     "data": {
      "text/plain": "[<matplotlib.lines.Line2D at 0x14c23e12948>]"
     },
     "execution_count": 38,
     "metadata": {},
     "output_type": "execute_result"
    },
    {
     "data": {
      "text/plain": "<Figure size 432x288 with 1 Axes>",
      "image/png": "[encoded data removed]"
     },
     "metadata": {
      "needs_background": "light"
     },
     "output_type": "display_data"
    }
   ],
   "source": [
    "plt.plot(loss_)"
   ],
   "metadata": {
    "collapsed": false,
    "pycharm": {
     "name": "#%%\n"
    }
   }
  }
 ],
 "metadata": {
  "kernelspec": {
   "display_name": "Python 3",
   "language": "python",
   "name": "python3"
  },
  "language_info": {
   "codemirror_mode": {
    "name": "ipython",
    "version": 2
   },
   "file_extension": ".py",
   "mimetype": "text/x-python",
   "name": "python",
   "nbconvert_exporter": "python",
   "pygments_lexer": "ipython2",
   "version": "2.7.6"
  }
 },
 "nbformat": 4,
 "nbformat_minor": 0
}