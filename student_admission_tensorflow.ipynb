{
 "cells": [
  {
   "cell_type": "markdown",
   "metadata": {
    "collapsed": true,
    "pycharm": {
     "name": "#%% md\n"
    }
   },
   "source": [
    "# Student Admission"
   ],
   "outputs": [],
   "execution_count": 1
  },
  {
   "cell_type": "code",
   "execution_count": 17,
   "outputs": [],
   "source": [
    "import pandas as pd\n",
    "import numpy as np\n",
    "import tensorflow as tf\n",
    "from sklearn.model_selection import train_test_split\n",
    "data = pd.read_csv('https://stats.idre.ucla.edu/stat/data/binary.csv')"
   ],
   "metadata": {
    "collapsed": false,
    "pycharm": {
     "name": "#%%\n"
    }
   }
  },
  {
   "cell_type": "code",
   "execution_count": 4,
   "outputs": [
    {
     "name": "stdout",
     "output_type": "stream",
     "text": [
      "   admit  gre   gpa  rank\n",
      "0      0  380  3.61     3\n",
      "1      1  660  3.67     3\n",
      "2      1  800  4.00     1\n",
      "3      1  640  3.19     4\n",
      "4      0  520  2.93     4\n"
     ]
    }
   ],
   "source": [
    "print(data.head())"
   ],
   "metadata": {
    "collapsed": false,
    "pycharm": {
     "name": "#%%\n"
    }
   }
  },
  {
   "cell_type": "code",
   "execution_count": 15,
   "outputs": [
    {
     "data": {
      "text/plain": "(     gre   gpa  rank\n 0    380  3.61     3\n 1    660  3.67     3\n 2    800  4.00     1\n 3    640  3.19     4\n 4    520  2.93     4\n ..   ...   ...   ...\n 395  620  4.00     2\n 396  560  3.04     3\n 397  460  2.63     2\n 398  700  3.65     2\n 399  600  3.89     3\n \n [400 rows x 3 columns],      admit\n 0        0\n 1        1\n 2        1\n 3        1\n 4        0\n ..     ...\n 395      0\n 396      0\n 397      0\n 398      0\n 399      0\n \n [400 rows x 1 columns])"
     },
     "execution_count": 15,
     "metadata": {},
     "output_type": "execute_result"
    }
   ],
   "source": [
    "X = data.iloc[:,[1,2,3]]\n",
    "y = data.iloc[:,[0]]\n",
    "X, y"
   ],
   "metadata": {
    "collapsed": false,
    "pycharm": {
     "name": "#%%\n"
    }
   }
  },
  {
   "cell_type": "code",
   "execution_count": 28,
   "outputs": [
    {
     "data": {
      "text/plain": "((280, 3), (280, 1))"
     },
     "execution_count": 28,
     "metadata": {},
     "output_type": "execute_result"
    }
   ],
   "source": [
    "X_train, X_test, y_train, y_test = train_test_split(X,y, test_size=0.3, random_state=42)\n",
    "X_train.shape, y_train.shape"
   ],
   "metadata": {
    "collapsed": false,
    "pycharm": {
     "name": "#%%\n"
    }
   }
  },
  {
   "cell_type": "code",
   "execution_count": 29,
   "outputs": [],
   "source": [
    "n_features = 3\n",
    "n_labels = 1\n",
    "\n",
    "features = tf.placeholder(tf.float32)\n",
    "labels = tf.placeholder(tf.float32)\n",
    "\n",
    "w = tf.Variable(tf.truncated_normal((n_features, n_labels)))\n",
    "b = tf.Variable(tf.zeros(n_labels))\n",
    "\n",
    "linear = tf.add(tf.matmul(features, w),b)\n",
    "init = tf.global_variables_initializer()"
   ],
   "metadata": {
    "collapsed": false,
    "pycharm": {
     "name": "#%%\n"
    }
   }
  },
  {
   "cell_type": "code",
   "execution_count": 31,
   "outputs": [
    {
     "name": "stdout",
     "output_type": "stream",
     "text": [
      "Loss : 0.0\n"
     ]
    }
   ],
   "source": [
    "with tf.Session() as sess:\n",
    "    sess.run(init)\n",
    "    prediction = tf.nn.softmax(linear)\n",
    "\n",
    "    cross_entropy = -tf.reduce_sum(labels*tf.log(prediction), reduction_indices=1)\n",
    "\n",
    "    loss = tf.reduce_mean(cross_entropy)\n",
    "\n",
    "    optim = tf.train.GradientDescentOptimizer(0.08).minimize(loss)\n",
    "    _, l = sess.run([optim, loss],\n",
    "                    feed_dict={features: X_train, labels: y_train})\n",
    "\n",
    "print(f'Loss : {l}')"
   ],
   "metadata": {
    "collapsed": false,
    "pycharm": {
     "name": "#%%\n"
    }
   }
  }
 ],
 "metadata": {
  "kernelspec": {
   "display_name": "Python 3",
   "language": "python",
   "name": "python3"
  },
  "language_info": {
   "codemirror_mode": {
    "name": "ipython",
    "version": 2
   },
   "file_extension": ".py",
   "mimetype": "text/x-python",
   "name": "python",
   "nbconvert_exporter": "python",
   "pygments_lexer": "ipython2",
   "version": "2.7.6"
  }
 },
 "nbformat": 4,
 "nbformat_minor": 0
}