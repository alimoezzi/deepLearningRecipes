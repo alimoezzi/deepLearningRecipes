{
 "cells": [
  {
   "cell_type": "markdown",
   "source": [
    "# Semantic Segmentation using U-NET model"
   ],
   "metadata": {
    "collapsed": false
   }
  },
  {
   "cell_type": "markdown",
   "source": [
    "## Import libraries"
   ],
   "metadata": {
    "collapsed": false
   }
  },
  {
   "cell_type": "code",
   "execution_count": 5,
   "metadata": {
    "collapsed": true
   },
   "outputs": [],
   "source": [
    "# visualization library\n",
    "import cv2\n",
    "from matplotlib import pyplot as plt\n",
    "# data storing library\n",
    "import numpy as np\n",
    "import pandas as pd\n",
    "# torch libraries\n",
    "from torch.optim.lr_scheduler import ReduceLROnPlateau\n",
    "import torch\n",
    "import torch.nn as nn\n",
    "from torch.nn import functional as F\n",
    "import torch.optim as optim\n",
    "import torch.backends.cudnn as cudnn\n",
    "from torch.utils.data import DataLoader, Dataset, sampler\n",
    "# architecture and data split library\n",
    "from sklearn.model_selection import train_test_split\n",
    "# augmentation library\n",
    "from albumentations import (HorizontalFlip, ShiftScaleRotate, Normalize, Resize, Compose, GaussNoise)\n",
    "from albumentations.pytorch import ToTensorV2\n",
    "# others\n",
    "import os\n",
    "import pdb\n",
    "import time\n",
    "import warnings\n",
    "import random\n",
    "from tqdm import tqdm_notebook as tqdm\n",
    "import concurrent.futures\n",
    "# warning print supression\n",
    "warnings.filterwarnings(\"ignore\")\n",
    "import PIL"
   ]
  },
  {
   "cell_type": "markdown",
   "source": [
    "## Preprocessing"
   ],
   "metadata": {
    "collapsed": false
   }
  },
  {
   "cell_type": "markdown",
   "source": [
    "### Fixing seed value"
   ],
   "metadata": {
    "collapsed": false
   }
  },
  {
   "cell_type": "code",
   "execution_count": 4,
   "outputs": [],
   "source": [
    "def setSeed(seed):\n",
    "    random.seed(seed)\n",
    "    os.environ[\"PYTHONHASHSEED\"] = str(seed)\n",
    "    np.random.seed(seed)\n",
    "    torch.cuda.manual_seed(seed)\n",
    "    torch.manual_seed(seed)\n",
    "    torch.backends.cudnn.deterministic = True\n",
    "\n",
    "setSeed(42)"
   ],
   "metadata": {
    "collapsed": false,
    "pycharm": {
     "name": "#%%\n"
    }
   }
  },
  {
   "cell_type": "code",
   "execution_count": 9,
   "outputs": [
    {
     "data": {
      "text/plain": "['00087a6bd4dc_01_mask.gif',\n '00087a6bd4dc_02_mask.gif',\n '00087a6bd4dc_03_mask.gif']"
     },
     "execution_count": 9,
     "metadata": {},
     "output_type": "execute_result"
    }
   ],
   "source": [
    "os.listdir('.pytorch/carvanasemseg/train_masks')[:3]"
   ],
   "metadata": {
    "collapsed": false,
    "pycharm": {
     "name": "#%%\n"
    }
   }
  },
  {
   "cell_type": "code",
   "execution_count": 17,
   "outputs": [],
   "source": [
    "# !mkdir -p '.pytorch/carvanasemseg/'\n",
    "# !mkdir -p '.pytorch/carvanasemseg/train_masks_png/'\n",
    "# !mkdir -p '.pytorch/carvanasemseg/train-128/'\n",
    "# !mkdir -p '.pytorch/carvanasemseg/train_masks-128/'\n",
    "\n",
    "def convert_img(fn):\n",
    "    PIL.Image.open(f'.pytorch/carvanasemseg/train_masks/{fn}').save(f'.pytorch/carvanasemseg/train_masks_png/{fn[:-4]}.png') #opening and saving image\n",
    "fns = os.listdir('.pytorch/carvanasemseg/train_masks')\n",
    "with concurrent.futures.ThreadPoolExecutor(8) as e:\n",
    "    e.map(convert_img, fns)\n",
    "\n",
    "\n",
    "def resize_mask(fn):\n",
    "    PIL.Image.open('.pytorch/carvanasemseg/train_masks_png/'+fn).resize((128,128)).save(f'.pytorch/carvanasemseg/train_masks-128/{fn}')\n",
    "\n",
    "fns = os.listdir('.pytorch/carvanasemseg/train_masks_png/')\n",
    "with concurrent.futures.ThreadPoolExecutor(8) as e:\n",
    "    e.map(resize_mask, fns)\n",
    "\n",
    "# we convert the high resolution input image to 128*128\n",
    "def resize_img(fn):\n",
    "    PIL.Image.open('.pytorch/carvanasemseg/train/'+fn).resize((128,128)).save(f'.pytorch/carvanasemseg/train-128/{fn}')\n",
    "\n",
    "fns = os.listdir('.pytorch/carvanasemseg/train/')\n",
    "with concurrent.futures.ThreadPoolExecutor(8) as e:\n",
    "    e.map(resize_img, fns)"
   ],
   "metadata": {
    "collapsed": false,
    "pycharm": {
     "name": "#%%\n"
    }
   }
  },
  {
   "cell_type": "code",
   "execution_count": 18,
   "outputs": [],
   "source": [
    "df=pd.read_csv('.pytorch/carvanasemseg/train_masks.csv')\n",
    "# location of original and mask image\n",
    "img_fol='.pytorch/carvanasemseg/train-128/'\n",
    "mask_fol='.pytorch/carvanasemseg/train_masks-128/'\n",
    "# imagenet mean/std will be used as the resnet backbone is trained on imagenet stats\n",
    "mean, std=(0.485, 0.456, 0.406),(0.229, 0.224, 0.225)"
   ],
   "metadata": {
    "collapsed": false,
    "pycharm": {
     "name": "#%%\n"
    }
   }
  },
  {
   "cell_type": "markdown",
   "source": [],
   "metadata": {
    "collapsed": false
   }
  }
 ],
 "metadata": {
  "kernelspec": {
   "display_name": "Python 3",
   "language": "python",
   "name": "python3"
  },
  "language_info": {
   "codemirror_mode": {
    "name": "ipython",
    "version": 2
   },
   "file_extension": ".py",
   "mimetype": "text/x-python",
   "name": "python",
   "nbconvert_exporter": "python",
   "pygments_lexer": "ipython2",
   "version": "2.7.6"
  }
 },
 "nbformat": 4,
 "nbformat_minor": 0
}