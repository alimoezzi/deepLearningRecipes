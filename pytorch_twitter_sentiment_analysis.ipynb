{
  "nbformat": 4,
  "nbformat_minor": 0,
  "metadata": {
    "colab": {
      "name": "pytorch_twitter_sentiment_analysis.ipynb",
      "provenance": []
    },
    "kernelspec": {
      "display_name": "Python 3",
      "language": "python",
      "name": "python3"
    },
    "language_info": {
      "codemirror_mode": {
        "name": "ipython",
        "version": 3
      },
      "file_extension": ".py",
      "mimetype": "text/x-python",
      "name": "python",
      "nbconvert_exporter": "python",
      "pygments_lexer": "ipython3",
      "version": "3.7.4"
    },
    "toc": {
      "base_numbering": 1,
      "nav_menu": {},
      "number_sections": true,
      "sideBar": true,
      "skip_h1_title": false,
      "title_cell": "Table of Contents",
      "title_sidebar": "Contents",
      "toc_cell": false,
      "toc_position": {},
      "toc_section_display": true,
      "toc_window_display": false
    },
    "varInspector": {
      "cols": {
        "lenName": 16,
        "lenType": 16,
        "lenVar": 40
      },
      "kernels_config": {
        "python": {
          "delete_cmd_postfix": "",
          "delete_cmd_prefix": "del ",
          "library": "var_list.py",
          "varRefreshCmd": "print(var_dic_list())"
        },
        "r": {
          "delete_cmd_postfix": ") ",
          "delete_cmd_prefix": "rm(",
          "library": "var_list.r",
          "varRefreshCmd": "cat(var_dic_list()) "
        }
      },
      "types_to_exclude": [
        "module",
        "function",
        "builtin_function_or_method",
        "instance",
        "_Feature"
      ],
      "window_display": false
    },
    "accelerator": "GPU"
  },
  "cells": [
    {
      "cell_type": "markdown",
      "metadata": {
        "collapsed": true,
        "id": "oYCfnhWzJrUI",
        "pycharm": {
          "name": "#%% md\n"
        }
      },
      "source": [
        "# Twitter Sentiment Analysis Pytorch"
      ]
    },
    {
      "cell_type": "code",
      "metadata": {
        "colab": {
          "base_uri": "https://localhost:8080/"
        },
        "id": "MS1rkSnEJrUQ",
        "pycharm": {
          "name": "#%%\n"
        },
        "outputId": "d913536f-8d32-4116-bf1d-d46278e208a5"
      },
      "source": [
        "import numpy as np\n",
        "import pandas as pd\n",
        "import csv\n",
        "import re\n",
        "import torch\n",
        "from nltk.corpus import stopwords\n",
        "from gensim.parsing.porter import PorterStemmer\n",
        "from gensim.utils import tokenize\n",
        "from gensim.utils import simple_preprocess\n",
        "from gensim.parsing.preprocessing import remove_stopwords\n",
        "import torch.nn as nn\n",
        "import torch.nn.functional as F\n",
        "import torch.optim as optim\n",
        "from torch.autograd import Variable\n",
        "import torch\n",
        "from torchtext.legacy import data\n",
        "# from torchtext import data\n",
        "import matplotlib.pyplot as plt\n",
        "import seaborn as sb\n",
        "from sklearn.metrics import accuracy_score\n",
        "from sklearn.metrics import confusion_matrix\n",
        "from sklearn.model_selection import train_test_split\n",
        "from bokeh.models import ColumnDataSource, LabelSet\n",
        "from bokeh.plotting import figure, show, output_file\n",
        "from collections import Counter\n",
        "from functools import reduce\n",
        "! pip install captum bokeh spacy emot\n",
        "import captum\n",
        "import spacy\n",
        "from captum.attr import LayerIntegratedGradients, TokenReferenceBase, visualization, IntegratedGradients, LayerConductance\n",
        "from captum.attr import visualization as viz\n",
        "from captum.attr import configure_interpretable_embedding_layer, remove_interpretable_embedding_layer\n",
        "import emot\n",
        "from bokeh.io import output_notebook\n",
        "output_notebook()\n",
        "! python -m spacy download en_core_web_sm\n",
        "nlp = spacy.load('en')\n",
        "%matplotlib inline"
      ],
      "execution_count": 1,
      "outputs": [
        {
          "output_type": "stream",
          "text": [
            "Requirement already satisfied: captum in /usr/local/lib/python3.7/dist-packages (0.3.1)\n",
            "Requirement already satisfied: bokeh in /usr/local/lib/python3.7/dist-packages (2.3.0)\n",
            "Requirement already satisfied: spacy in /usr/local/lib/python3.7/dist-packages (2.2.4)\n",
            "Requirement already satisfied: emot in /usr/local/lib/python3.7/dist-packages (2.1)\n",
            "Requirement already satisfied: matplotlib in /usr/local/lib/python3.7/dist-packages (from captum) (3.2.2)\n",
            "Requirement already satisfied: torch>=1.2 in /usr/local/lib/python3.7/dist-packages (from captum) (1.8.1+cu101)\n",
            "Requirement already satisfied: numpy in /usr/local/lib/python3.7/dist-packages (from captum) (1.19.5)\n",
            "Requirement already satisfied: packaging>=16.8 in /usr/local/lib/python3.7/dist-packages (from bokeh) (20.9)\n",
            "Requirement already satisfied: tornado>=5.1 in /usr/local/lib/python3.7/dist-packages (from bokeh) (5.1.1)\n",
            "Requirement already satisfied: Jinja2>=2.7 in /usr/local/lib/python3.7/dist-packages (from bokeh) (2.11.3)\n",
            "Requirement already satisfied: pillow>=7.1.0 in /usr/local/lib/python3.7/dist-packages (from bokeh) (7.1.2)\n",
            "Requirement already satisfied: PyYAML>=3.10 in /usr/local/lib/python3.7/dist-packages (from bokeh) (3.13)\n",
            "Requirement already satisfied: python-dateutil>=2.1 in /usr/local/lib/python3.7/dist-packages (from bokeh) (2.8.1)\n",
            "Requirement already satisfied: typing-extensions>=3.7.4 in /usr/local/lib/python3.7/dist-packages (from bokeh) (3.7.4.3)\n",
            "Requirement already satisfied: tqdm<5.0.0,>=4.38.0 in /usr/local/lib/python3.7/dist-packages (from spacy) (4.41.1)\n",
            "Requirement already satisfied: thinc==7.4.0 in /usr/local/lib/python3.7/dist-packages (from spacy) (7.4.0)\n",
            "Requirement already satisfied: requests<3.0.0,>=2.13.0 in /usr/local/lib/python3.7/dist-packages (from spacy) (2.23.0)\n",
            "Requirement already satisfied: setuptools in /usr/local/lib/python3.7/dist-packages (from spacy) (54.2.0)\n",
            "Requirement already satisfied: cymem<2.1.0,>=2.0.2 in /usr/local/lib/python3.7/dist-packages (from spacy) (2.0.5)\n",
            "Requirement already satisfied: preshed<3.1.0,>=3.0.2 in /usr/local/lib/python3.7/dist-packages (from spacy) (3.0.5)\n",
            "Requirement already satisfied: blis<0.5.0,>=0.4.0 in /usr/local/lib/python3.7/dist-packages (from spacy) (0.4.1)\n",
            "Requirement already satisfied: srsly<1.1.0,>=1.0.2 in /usr/local/lib/python3.7/dist-packages (from spacy) (1.0.5)\n",
            "Requirement already satisfied: murmurhash<1.1.0,>=0.28.0 in /usr/local/lib/python3.7/dist-packages (from spacy) (1.0.5)\n",
            "Requirement already satisfied: wasabi<1.1.0,>=0.4.0 in /usr/local/lib/python3.7/dist-packages (from spacy) (0.8.2)\n",
            "Requirement already satisfied: plac<1.2.0,>=0.9.6 in /usr/local/lib/python3.7/dist-packages (from spacy) (1.1.3)\n",
            "Requirement already satisfied: catalogue<1.1.0,>=0.0.7 in /usr/local/lib/python3.7/dist-packages (from spacy) (1.0.0)\n",
            "Requirement already satisfied: pyparsing!=2.0.4,!=2.1.2,!=2.1.6,>=2.0.1 in /usr/local/lib/python3.7/dist-packages (from matplotlib->captum) (2.4.7)\n",
            "Requirement already satisfied: cycler>=0.10 in /usr/local/lib/python3.7/dist-packages (from matplotlib->captum) (0.10.0)\n",
            "Requirement already satisfied: kiwisolver>=1.0.1 in /usr/local/lib/python3.7/dist-packages (from matplotlib->captum) (1.3.1)\n",
            "Requirement already satisfied: MarkupSafe>=0.23 in /usr/local/lib/python3.7/dist-packages (from Jinja2>=2.7->bokeh) (1.1.1)\n",
            "Requirement already satisfied: six>=1.5 in /usr/local/lib/python3.7/dist-packages (from python-dateutil>=2.1->bokeh) (1.15.0)\n",
            "Requirement already satisfied: idna<3,>=2.5 in /usr/local/lib/python3.7/dist-packages (from requests<3.0.0,>=2.13.0->spacy) (2.10)\n",
            "Requirement already satisfied: certifi>=2017.4.17 in /usr/local/lib/python3.7/dist-packages (from requests<3.0.0,>=2.13.0->spacy) (2020.12.5)\n",
            "Requirement already satisfied: urllib3!=1.25.0,!=1.25.1,<1.26,>=1.21.1 in /usr/local/lib/python3.7/dist-packages (from requests<3.0.0,>=2.13.0->spacy) (1.24.3)\n",
            "Requirement already satisfied: chardet<4,>=3.0.2 in /usr/local/lib/python3.7/dist-packages (from requests<3.0.0,>=2.13.0->spacy) (3.0.4)\n",
            "Requirement already satisfied: importlib-metadata>=0.20; python_version < \"3.8\" in /usr/local/lib/python3.7/dist-packages (from catalogue<1.1.0,>=0.0.7->spacy) (3.8.1)\n",
            "Requirement already satisfied: zipp>=0.5 in /usr/local/lib/python3.7/dist-packages (from importlib-metadata>=0.20; python_version < \"3.8\"->catalogue<1.1.0,>=0.0.7->spacy) (3.4.1)\n",
            "\n",
            "\u001b[38;5;1m✘ Server error (503)\u001b[0m\n",
            "Couldn't fetch available shortcuts. Please find a model for your spaCy\n",
            "installation (v2.2.4), and download it manually. For more details, see the\n",
            "documentation: https://spacy.io/usage/models\n",
            "\n"
          ],
          "name": "stdout"
        }
      ]
    },
    {
      "cell_type": "markdown",
      "metadata": {
        "id": "6DETgMPgJrUS",
        "pycharm": {
          "name": "#%% md\n"
        }
      },
      "source": [
        "## Loading the data"
      ]
    },
    {
      "cell_type": "code",
      "metadata": {
        "colab": {
          "base_uri": "https://localhost:8080/",
          "height": 496
        },
        "id": "QwFJPG55JrUT",
        "pycharm": {
          "name": "#%%\n"
        },
        "outputId": "0d2f64d6-a53f-4cf2-888b-96fea8416357"
      },
      "source": [
        "!curl https://raw.githubusercontent.com/dipikabaad/Sentiment_Classification_with_RNN/master/Tweets.csv --create-dirs -o .pytorch/tweets/tweets.csv\n",
        "# !mkdir checkpoint\n",
        "df = pd.read_csv('.pytorch/tweets/tweets.csv')\n",
        "df.head()"
      ],
      "execution_count": 2,
      "outputs": [
        {
          "output_type": "stream",
          "text": [
            "  % Total    % Received % Xferd  Average Speed   Time    Time     Time  Current\n",
            "                                 Dload  Upload   Total   Spent    Left  Speed\n",
            "\r  0     0    0     0    0     0      0      0 --:--:-- --:--:-- --:--:--     0\r100 3341k  100 3341k    0     0  21.8M      0 --:--:-- --:--:-- --:--:-- 21.8M\n"
          ],
          "name": "stdout"
        },
        {
          "output_type": "execute_result",
          "data": {
            "text/html": [
              "<div>\n",
              "<style scoped>\n",
              "    .dataframe tbody tr th:only-of-type {\n",
              "        vertical-align: middle;\n",
              "    }\n",
              "\n",
              "    .dataframe tbody tr th {\n",
              "        vertical-align: top;\n",
              "    }\n",
              "\n",
              "    .dataframe thead th {\n",
              "        text-align: right;\n",
              "    }\n",
              "</style>\n",
              "<table border=\"1\" class=\"dataframe\">\n",
              "  <thead>\n",
              "    <tr style=\"text-align: right;\">\n",
              "      <th></th>\n",
              "      <th>tweet_id</th>\n",
              "      <th>airline_sentiment</th>\n",
              "      <th>airline_sentiment_confidence</th>\n",
              "      <th>negativereason</th>\n",
              "      <th>negativereason_confidence</th>\n",
              "      <th>airline</th>\n",
              "      <th>airline_sentiment_gold</th>\n",
              "      <th>name</th>\n",
              "      <th>negativereason_gold</th>\n",
              "      <th>retweet_count</th>\n",
              "      <th>text</th>\n",
              "      <th>tweet_coord</th>\n",
              "      <th>tweet_created</th>\n",
              "      <th>tweet_location</th>\n",
              "      <th>user_timezone</th>\n",
              "    </tr>\n",
              "  </thead>\n",
              "  <tbody>\n",
              "    <tr>\n",
              "      <th>0</th>\n",
              "      <td>570306133677760513</td>\n",
              "      <td>neutral</td>\n",
              "      <td>1.0000</td>\n",
              "      <td>NaN</td>\n",
              "      <td>NaN</td>\n",
              "      <td>Virgin America</td>\n",
              "      <td>NaN</td>\n",
              "      <td>cairdin</td>\n",
              "      <td>NaN</td>\n",
              "      <td>0</td>\n",
              "      <td>@VirginAmerica What @dhepburn said.</td>\n",
              "      <td>NaN</td>\n",
              "      <td>2015-02-24 11:35:52 -0800</td>\n",
              "      <td>NaN</td>\n",
              "      <td>Eastern Time (US &amp; Canada)</td>\n",
              "    </tr>\n",
              "    <tr>\n",
              "      <th>1</th>\n",
              "      <td>570301130888122368</td>\n",
              "      <td>positive</td>\n",
              "      <td>0.3486</td>\n",
              "      <td>NaN</td>\n",
              "      <td>0.0000</td>\n",
              "      <td>Virgin America</td>\n",
              "      <td>NaN</td>\n",
              "      <td>jnardino</td>\n",
              "      <td>NaN</td>\n",
              "      <td>0</td>\n",
              "      <td>@VirginAmerica plus you've added commercials t...</td>\n",
              "      <td>NaN</td>\n",
              "      <td>2015-02-24 11:15:59 -0800</td>\n",
              "      <td>NaN</td>\n",
              "      <td>Pacific Time (US &amp; Canada)</td>\n",
              "    </tr>\n",
              "    <tr>\n",
              "      <th>2</th>\n",
              "      <td>570301083672813571</td>\n",
              "      <td>neutral</td>\n",
              "      <td>0.6837</td>\n",
              "      <td>NaN</td>\n",
              "      <td>NaN</td>\n",
              "      <td>Virgin America</td>\n",
              "      <td>NaN</td>\n",
              "      <td>yvonnalynn</td>\n",
              "      <td>NaN</td>\n",
              "      <td>0</td>\n",
              "      <td>@VirginAmerica I didn't today... Must mean I n...</td>\n",
              "      <td>NaN</td>\n",
              "      <td>2015-02-24 11:15:48 -0800</td>\n",
              "      <td>Lets Play</td>\n",
              "      <td>Central Time (US &amp; Canada)</td>\n",
              "    </tr>\n",
              "    <tr>\n",
              "      <th>3</th>\n",
              "      <td>570301031407624196</td>\n",
              "      <td>negative</td>\n",
              "      <td>1.0000</td>\n",
              "      <td>Bad Flight</td>\n",
              "      <td>0.7033</td>\n",
              "      <td>Virgin America</td>\n",
              "      <td>NaN</td>\n",
              "      <td>jnardino</td>\n",
              "      <td>NaN</td>\n",
              "      <td>0</td>\n",
              "      <td>@VirginAmerica it's really aggressive to blast...</td>\n",
              "      <td>NaN</td>\n",
              "      <td>2015-02-24 11:15:36 -0800</td>\n",
              "      <td>NaN</td>\n",
              "      <td>Pacific Time (US &amp; Canada)</td>\n",
              "    </tr>\n",
              "    <tr>\n",
              "      <th>4</th>\n",
              "      <td>570300817074462722</td>\n",
              "      <td>negative</td>\n",
              "      <td>1.0000</td>\n",
              "      <td>Can't Tell</td>\n",
              "      <td>1.0000</td>\n",
              "      <td>Virgin America</td>\n",
              "      <td>NaN</td>\n",
              "      <td>jnardino</td>\n",
              "      <td>NaN</td>\n",
              "      <td>0</td>\n",
              "      <td>@VirginAmerica and it's a really big bad thing...</td>\n",
              "      <td>NaN</td>\n",
              "      <td>2015-02-24 11:14:45 -0800</td>\n",
              "      <td>NaN</td>\n",
              "      <td>Pacific Time (US &amp; Canada)</td>\n",
              "    </tr>\n",
              "  </tbody>\n",
              "</table>\n",
              "</div>"
            ],
            "text/plain": [
              "             tweet_id  ...               user_timezone\n",
              "0  570306133677760513  ...  Eastern Time (US & Canada)\n",
              "1  570301130888122368  ...  Pacific Time (US & Canada)\n",
              "2  570301083672813571  ...  Central Time (US & Canada)\n",
              "3  570301031407624196  ...  Pacific Time (US & Canada)\n",
              "4  570300817074462722  ...  Pacific Time (US & Canada)\n",
              "\n",
              "[5 rows x 15 columns]"
            ]
          },
          "metadata": {
            "tags": []
          },
          "execution_count": 2
        }
      ]
    },
    {
      "cell_type": "markdown",
      "metadata": {
        "id": "wnZDU5kUJrUT"
      },
      "source": [
        "### Exploring features"
      ]
    },
    {
      "cell_type": "code",
      "metadata": {
        "colab": {
          "base_uri": "https://localhost:8080/",
          "height": 297
        },
        "id": "8iEEuqAuJrUT",
        "pycharm": {
          "name": "#%%\n"
        },
        "outputId": "05320e99-cc59-4a30-8d9a-a6a6843ae1b1"
      },
      "source": [
        "df.describe()"
      ],
      "execution_count": 3,
      "outputs": [
        {
          "output_type": "execute_result",
          "data": {
            "text/html": [
              "<div>\n",
              "<style scoped>\n",
              "    .dataframe tbody tr th:only-of-type {\n",
              "        vertical-align: middle;\n",
              "    }\n",
              "\n",
              "    .dataframe tbody tr th {\n",
              "        vertical-align: top;\n",
              "    }\n",
              "\n",
              "    .dataframe thead th {\n",
              "        text-align: right;\n",
              "    }\n",
              "</style>\n",
              "<table border=\"1\" class=\"dataframe\">\n",
              "  <thead>\n",
              "    <tr style=\"text-align: right;\">\n",
              "      <th></th>\n",
              "      <th>tweet_id</th>\n",
              "      <th>airline_sentiment_confidence</th>\n",
              "      <th>negativereason_confidence</th>\n",
              "      <th>retweet_count</th>\n",
              "    </tr>\n",
              "  </thead>\n",
              "  <tbody>\n",
              "    <tr>\n",
              "      <th>count</th>\n",
              "      <td>1.464000e+04</td>\n",
              "      <td>14640.000000</td>\n",
              "      <td>10522.000000</td>\n",
              "      <td>14640.000000</td>\n",
              "    </tr>\n",
              "    <tr>\n",
              "      <th>mean</th>\n",
              "      <td>5.692184e+17</td>\n",
              "      <td>0.900169</td>\n",
              "      <td>0.638298</td>\n",
              "      <td>0.082650</td>\n",
              "    </tr>\n",
              "    <tr>\n",
              "      <th>std</th>\n",
              "      <td>7.791112e+14</td>\n",
              "      <td>0.162830</td>\n",
              "      <td>0.330440</td>\n",
              "      <td>0.745778</td>\n",
              "    </tr>\n",
              "    <tr>\n",
              "      <th>min</th>\n",
              "      <td>5.675883e+17</td>\n",
              "      <td>0.335000</td>\n",
              "      <td>0.000000</td>\n",
              "      <td>0.000000</td>\n",
              "    </tr>\n",
              "    <tr>\n",
              "      <th>25%</th>\n",
              "      <td>5.685592e+17</td>\n",
              "      <td>0.692300</td>\n",
              "      <td>0.360600</td>\n",
              "      <td>0.000000</td>\n",
              "    </tr>\n",
              "    <tr>\n",
              "      <th>50%</th>\n",
              "      <td>5.694779e+17</td>\n",
              "      <td>1.000000</td>\n",
              "      <td>0.670600</td>\n",
              "      <td>0.000000</td>\n",
              "    </tr>\n",
              "    <tr>\n",
              "      <th>75%</th>\n",
              "      <td>5.698905e+17</td>\n",
              "      <td>1.000000</td>\n",
              "      <td>1.000000</td>\n",
              "      <td>0.000000</td>\n",
              "    </tr>\n",
              "    <tr>\n",
              "      <th>max</th>\n",
              "      <td>5.703106e+17</td>\n",
              "      <td>1.000000</td>\n",
              "      <td>1.000000</td>\n",
              "      <td>44.000000</td>\n",
              "    </tr>\n",
              "  </tbody>\n",
              "</table>\n",
              "</div>"
            ],
            "text/plain": [
              "           tweet_id  ...  retweet_count\n",
              "count  1.464000e+04  ...   14640.000000\n",
              "mean   5.692184e+17  ...       0.082650\n",
              "std    7.791112e+14  ...       0.745778\n",
              "min    5.675883e+17  ...       0.000000\n",
              "25%    5.685592e+17  ...       0.000000\n",
              "50%    5.694779e+17  ...       0.000000\n",
              "75%    5.698905e+17  ...       0.000000\n",
              "max    5.703106e+17  ...      44.000000\n",
              "\n",
              "[8 rows x 4 columns]"
            ]
          },
          "metadata": {
            "tags": []
          },
          "execution_count": 3
        }
      ]
    },
    {
      "cell_type": "markdown",
      "metadata": {
        "id": "pLQm2ZkvJrUU",
        "pycharm": {
          "name": "#%% md\n"
        }
      },
      "source": [
        ""
      ]
    },
    {
      "cell_type": "code",
      "metadata": {
        "colab": {
          "base_uri": "https://localhost:8080/",
          "height": 224
        },
        "id": "HLQhe0zgJrUU",
        "pycharm": {
          "name": "#%%\n"
        },
        "outputId": "63e51aa9-dfd7-4211-f7b4-14617a18591f"
      },
      "source": [
        "df.groupby('airline_sentiment').describe()"
      ],
      "execution_count": 4,
      "outputs": [
        {
          "output_type": "execute_result",
          "data": {
            "text/html": [
              "<div>\n",
              "<style scoped>\n",
              "    .dataframe tbody tr th:only-of-type {\n",
              "        vertical-align: middle;\n",
              "    }\n",
              "\n",
              "    .dataframe tbody tr th {\n",
              "        vertical-align: top;\n",
              "    }\n",
              "\n",
              "    .dataframe thead tr th {\n",
              "        text-align: left;\n",
              "    }\n",
              "\n",
              "    .dataframe thead tr:last-of-type th {\n",
              "        text-align: right;\n",
              "    }\n",
              "</style>\n",
              "<table border=\"1\" class=\"dataframe\">\n",
              "  <thead>\n",
              "    <tr>\n",
              "      <th></th>\n",
              "      <th colspan=\"8\" halign=\"left\">tweet_id</th>\n",
              "      <th colspan=\"8\" halign=\"left\">airline_sentiment_confidence</th>\n",
              "      <th colspan=\"8\" halign=\"left\">negativereason_confidence</th>\n",
              "      <th colspan=\"8\" halign=\"left\">retweet_count</th>\n",
              "    </tr>\n",
              "    <tr>\n",
              "      <th></th>\n",
              "      <th>count</th>\n",
              "      <th>mean</th>\n",
              "      <th>std</th>\n",
              "      <th>min</th>\n",
              "      <th>25%</th>\n",
              "      <th>50%</th>\n",
              "      <th>75%</th>\n",
              "      <th>max</th>\n",
              "      <th>count</th>\n",
              "      <th>mean</th>\n",
              "      <th>std</th>\n",
              "      <th>min</th>\n",
              "      <th>25%</th>\n",
              "      <th>50%</th>\n",
              "      <th>75%</th>\n",
              "      <th>max</th>\n",
              "      <th>count</th>\n",
              "      <th>mean</th>\n",
              "      <th>std</th>\n",
              "      <th>min</th>\n",
              "      <th>25%</th>\n",
              "      <th>50%</th>\n",
              "      <th>75%</th>\n",
              "      <th>max</th>\n",
              "      <th>count</th>\n",
              "      <th>mean</th>\n",
              "      <th>std</th>\n",
              "      <th>min</th>\n",
              "      <th>25%</th>\n",
              "      <th>50%</th>\n",
              "      <th>75%</th>\n",
              "      <th>max</th>\n",
              "    </tr>\n",
              "    <tr>\n",
              "      <th>airline_sentiment</th>\n",
              "      <th></th>\n",
              "      <th></th>\n",
              "      <th></th>\n",
              "      <th></th>\n",
              "      <th></th>\n",
              "      <th></th>\n",
              "      <th></th>\n",
              "      <th></th>\n",
              "      <th></th>\n",
              "      <th></th>\n",
              "      <th></th>\n",
              "      <th></th>\n",
              "      <th></th>\n",
              "      <th></th>\n",
              "      <th></th>\n",
              "      <th></th>\n",
              "      <th></th>\n",
              "      <th></th>\n",
              "      <th></th>\n",
              "      <th></th>\n",
              "      <th></th>\n",
              "      <th></th>\n",
              "      <th></th>\n",
              "      <th></th>\n",
              "      <th></th>\n",
              "      <th></th>\n",
              "      <th></th>\n",
              "      <th></th>\n",
              "      <th></th>\n",
              "      <th></th>\n",
              "      <th></th>\n",
              "      <th></th>\n",
              "    </tr>\n",
              "  </thead>\n",
              "  <tbody>\n",
              "    <tr>\n",
              "      <th>negative</th>\n",
              "      <td>9178.0</td>\n",
              "      <td>5.692602e+17</td>\n",
              "      <td>7.572474e+14</td>\n",
              "      <td>5.675900e+17</td>\n",
              "      <td>5.686511e+17</td>\n",
              "      <td>5.695355e+17</td>\n",
              "      <td>5.698798e+17</td>\n",
              "      <td>5.703106e+17</td>\n",
              "      <td>9178.0</td>\n",
              "      <td>0.933365</td>\n",
              "      <td>0.138109</td>\n",
              "      <td>0.3394</td>\n",
              "      <td>1.00000</td>\n",
              "      <td>1.000</td>\n",
              "      <td>1.0</td>\n",
              "      <td>1.0</td>\n",
              "      <td>9178.0</td>\n",
              "      <td>0.731769</td>\n",
              "      <td>0.238276</td>\n",
              "      <td>0.3122</td>\n",
              "      <td>0.6453</td>\n",
              "      <td>0.6806</td>\n",
              "      <td>1.0</td>\n",
              "      <td>1.0</td>\n",
              "      <td>9178.0</td>\n",
              "      <td>0.093375</td>\n",
              "      <td>0.792865</td>\n",
              "      <td>0.0</td>\n",
              "      <td>0.0</td>\n",
              "      <td>0.0</td>\n",
              "      <td>0.0</td>\n",
              "      <td>44.0</td>\n",
              "    </tr>\n",
              "    <tr>\n",
              "      <th>neutral</th>\n",
              "      <td>3099.0</td>\n",
              "      <td>5.691841e+17</td>\n",
              "      <td>8.068405e+14</td>\n",
              "      <td>5.675883e+17</td>\n",
              "      <td>5.684852e+17</td>\n",
              "      <td>5.693080e+17</td>\n",
              "      <td>5.699305e+17</td>\n",
              "      <td>5.703093e+17</td>\n",
              "      <td>3099.0</td>\n",
              "      <td>0.823303</td>\n",
              "      <td>0.185594</td>\n",
              "      <td>0.3350</td>\n",
              "      <td>0.66605</td>\n",
              "      <td>0.916</td>\n",
              "      <td>1.0</td>\n",
              "      <td>1.0</td>\n",
              "      <td>1014.0</td>\n",
              "      <td>0.000000</td>\n",
              "      <td>0.000000</td>\n",
              "      <td>0.0000</td>\n",
              "      <td>0.0000</td>\n",
              "      <td>0.0000</td>\n",
              "      <td>0.0</td>\n",
              "      <td>0.0</td>\n",
              "      <td>3099.0</td>\n",
              "      <td>0.060987</td>\n",
              "      <td>0.658037</td>\n",
              "      <td>0.0</td>\n",
              "      <td>0.0</td>\n",
              "      <td>0.0</td>\n",
              "      <td>0.0</td>\n",
              "      <td>28.0</td>\n",
              "    </tr>\n",
              "    <tr>\n",
              "      <th>positive</th>\n",
              "      <td>2363.0</td>\n",
              "      <td>5.691006e+17</td>\n",
              "      <td>8.112476e+14</td>\n",
              "      <td>5.676555e+17</td>\n",
              "      <td>5.684331e+17</td>\n",
              "      <td>5.691980e+17</td>\n",
              "      <td>5.698788e+17</td>\n",
              "      <td>5.703093e+17</td>\n",
              "      <td>2363.0</td>\n",
              "      <td>0.872039</td>\n",
              "      <td>0.179478</td>\n",
              "      <td>0.3356</td>\n",
              "      <td>0.67750</td>\n",
              "      <td>1.000</td>\n",
              "      <td>1.0</td>\n",
              "      <td>1.0</td>\n",
              "      <td>330.0</td>\n",
              "      <td>0.000000</td>\n",
              "      <td>0.000000</td>\n",
              "      <td>0.0000</td>\n",
              "      <td>0.0000</td>\n",
              "      <td>0.0000</td>\n",
              "      <td>0.0</td>\n",
              "      <td>0.0</td>\n",
              "      <td>2363.0</td>\n",
              "      <td>0.069403</td>\n",
              "      <td>0.659914</td>\n",
              "      <td>0.0</td>\n",
              "      <td>0.0</td>\n",
              "      <td>0.0</td>\n",
              "      <td>0.0</td>\n",
              "      <td>22.0</td>\n",
              "    </tr>\n",
              "  </tbody>\n",
              "</table>\n",
              "</div>"
            ],
            "text/plain": [
              "                  tweet_id                              ... retweet_count           \n",
              "                     count          mean           std  ...           50%  75%   max\n",
              "airline_sentiment                                       ...                         \n",
              "negative            9178.0  5.692602e+17  7.572474e+14  ...           0.0  0.0  44.0\n",
              "neutral             3099.0  5.691841e+17  8.068405e+14  ...           0.0  0.0  28.0\n",
              "positive            2363.0  5.691006e+17  8.112476e+14  ...           0.0  0.0  22.0\n",
              "\n",
              "[3 rows x 32 columns]"
            ]
          },
          "metadata": {
            "tags": []
          },
          "execution_count": 4
        }
      ]
    },
    {
      "cell_type": "code",
      "metadata": {
        "colab": {
          "base_uri": "https://localhost:8080/"
        },
        "id": "mgpw8FCZJrUV",
        "pycharm": {
          "name": "#%%\n"
        },
        "outputId": "2371410f-3ede-46f3-bf70-b5139eaad687"
      },
      "source": [
        "df.info()"
      ],
      "execution_count": 5,
      "outputs": [
        {
          "output_type": "stream",
          "text": [
            "<class 'pandas.core.frame.DataFrame'>\n",
            "RangeIndex: 14640 entries, 0 to 14639\n",
            "Data columns (total 15 columns):\n",
            " #   Column                        Non-Null Count  Dtype  \n",
            "---  ------                        --------------  -----  \n",
            " 0   tweet_id                      14640 non-null  int64  \n",
            " 1   airline_sentiment             14640 non-null  object \n",
            " 2   airline_sentiment_confidence  14640 non-null  float64\n",
            " 3   negativereason                9178 non-null   object \n",
            " 4   negativereason_confidence     10522 non-null  float64\n",
            " 5   airline                       14640 non-null  object \n",
            " 6   airline_sentiment_gold        40 non-null     object \n",
            " 7   name                          14640 non-null  object \n",
            " 8   negativereason_gold           32 non-null     object \n",
            " 9   retweet_count                 14640 non-null  int64  \n",
            " 10  text                          14640 non-null  object \n",
            " 11  tweet_coord                   1019 non-null   object \n",
            " 12  tweet_created                 14640 non-null  object \n",
            " 13  tweet_location                9907 non-null   object \n",
            " 14  user_timezone                 9820 non-null   object \n",
            "dtypes: float64(2), int64(2), object(11)\n",
            "memory usage: 1.7+ MB\n"
          ],
          "name": "stdout"
        }
      ]
    },
    {
      "cell_type": "code",
      "metadata": {
        "colab": {
          "base_uri": "https://localhost:8080/"
        },
        "id": "6oGU6704JrUV",
        "pycharm": {
          "name": "#%%\n"
        },
        "outputId": "0dd653d8-557c-4d35-d020-01355edbc66b"
      },
      "source": [
        "df.isnull().sum()"
      ],
      "execution_count": 6,
      "outputs": [
        {
          "output_type": "execute_result",
          "data": {
            "text/plain": [
              "tweet_id                            0\n",
              "airline_sentiment                   0\n",
              "airline_sentiment_confidence        0\n",
              "negativereason                   5462\n",
              "negativereason_confidence        4118\n",
              "airline                             0\n",
              "airline_sentiment_gold          14600\n",
              "name                                0\n",
              "negativereason_gold             14608\n",
              "retweet_count                       0\n",
              "text                                0\n",
              "tweet_coord                     13621\n",
              "tweet_created                       0\n",
              "tweet_location                   4733\n",
              "user_timezone                    4820\n",
              "dtype: int64"
            ]
          },
          "metadata": {
            "tags": []
          },
          "execution_count": 6
        }
      ]
    },
    {
      "cell_type": "code",
      "metadata": {
        "colab": {
          "base_uri": "https://localhost:8080/",
          "height": 69
        },
        "id": "QFUejj4jJrUV",
        "pycharm": {
          "name": "#%%\n"
        },
        "outputId": "d858a7d0-845e-4e02-936c-30dc8fa0aeb6"
      },
      "source": [
        "df[df['text'].str.len() < 2]"
      ],
      "execution_count": 7,
      "outputs": [
        {
          "output_type": "execute_result",
          "data": {
            "text/html": [
              "<div>\n",
              "<style scoped>\n",
              "    .dataframe tbody tr th:only-of-type {\n",
              "        vertical-align: middle;\n",
              "    }\n",
              "\n",
              "    .dataframe tbody tr th {\n",
              "        vertical-align: top;\n",
              "    }\n",
              "\n",
              "    .dataframe thead th {\n",
              "        text-align: right;\n",
              "    }\n",
              "</style>\n",
              "<table border=\"1\" class=\"dataframe\">\n",
              "  <thead>\n",
              "    <tr style=\"text-align: right;\">\n",
              "      <th></th>\n",
              "      <th>tweet_id</th>\n",
              "      <th>airline_sentiment</th>\n",
              "      <th>airline_sentiment_confidence</th>\n",
              "      <th>negativereason</th>\n",
              "      <th>negativereason_confidence</th>\n",
              "      <th>airline</th>\n",
              "      <th>airline_sentiment_gold</th>\n",
              "      <th>name</th>\n",
              "      <th>negativereason_gold</th>\n",
              "      <th>retweet_count</th>\n",
              "      <th>text</th>\n",
              "      <th>tweet_coord</th>\n",
              "      <th>tweet_created</th>\n",
              "      <th>tweet_location</th>\n",
              "      <th>user_timezone</th>\n",
              "    </tr>\n",
              "  </thead>\n",
              "  <tbody>\n",
              "  </tbody>\n",
              "</table>\n",
              "</div>"
            ],
            "text/plain": [
              "Empty DataFrame\n",
              "Columns: [tweet_id, airline_sentiment, airline_sentiment_confidence, negativereason, negativereason_confidence, airline, airline_sentiment_gold, name, negativereason_gold, retweet_count, text, tweet_coord, tweet_created, tweet_location, user_timezone]\n",
              "Index: []"
            ]
          },
          "metadata": {
            "tags": []
          },
          "execution_count": 7
        }
      ]
    },
    {
      "cell_type": "code",
      "metadata": {
        "colab": {
          "base_uri": "https://localhost:8080/",
          "height": 796
        },
        "id": "yZ6t1ICXJrUW",
        "pycharm": {
          "name": "#%%\n"
        },
        "outputId": "2786e635-2834-4f3a-ad25-1fd225171bb0"
      },
      "source": [
        "df[df.duplicated('text')]"
      ],
      "execution_count": 8,
      "outputs": [
        {
          "output_type": "execute_result",
          "data": {
            "text/html": [
              "<div>\n",
              "<style scoped>\n",
              "    .dataframe tbody tr th:only-of-type {\n",
              "        vertical-align: middle;\n",
              "    }\n",
              "\n",
              "    .dataframe tbody tr th {\n",
              "        vertical-align: top;\n",
              "    }\n",
              "\n",
              "    .dataframe thead th {\n",
              "        text-align: right;\n",
              "    }\n",
              "</style>\n",
              "<table border=\"1\" class=\"dataframe\">\n",
              "  <thead>\n",
              "    <tr style=\"text-align: right;\">\n",
              "      <th></th>\n",
              "      <th>tweet_id</th>\n",
              "      <th>airline_sentiment</th>\n",
              "      <th>airline_sentiment_confidence</th>\n",
              "      <th>negativereason</th>\n",
              "      <th>negativereason_confidence</th>\n",
              "      <th>airline</th>\n",
              "      <th>airline_sentiment_gold</th>\n",
              "      <th>name</th>\n",
              "      <th>negativereason_gold</th>\n",
              "      <th>retweet_count</th>\n",
              "      <th>text</th>\n",
              "      <th>tweet_coord</th>\n",
              "      <th>tweet_created</th>\n",
              "      <th>tweet_location</th>\n",
              "      <th>user_timezone</th>\n",
              "    </tr>\n",
              "  </thead>\n",
              "  <tbody>\n",
              "    <tr>\n",
              "      <th>331</th>\n",
              "      <td>568605449659895808</td>\n",
              "      <td>positive</td>\n",
              "      <td>0.6482</td>\n",
              "      <td>NaN</td>\n",
              "      <td>NaN</td>\n",
              "      <td>Virgin America</td>\n",
              "      <td>NaN</td>\n",
              "      <td>SuuperG</td>\n",
              "      <td>NaN</td>\n",
              "      <td>0</td>\n",
              "      <td>@VirginAmerica Thanks!</td>\n",
              "      <td>NaN</td>\n",
              "      <td>2015-02-19 18:57:58 -0800</td>\n",
              "      <td>Wandering So-Cal-ian</td>\n",
              "      <td>Pacific Time (US &amp; Canada)</td>\n",
              "    </tr>\n",
              "    <tr>\n",
              "      <th>515</th>\n",
              "      <td>570299889688702976</td>\n",
              "      <td>positive</td>\n",
              "      <td>0.6634</td>\n",
              "      <td>NaN</td>\n",
              "      <td>NaN</td>\n",
              "      <td>United</td>\n",
              "      <td>NaN</td>\n",
              "      <td>nydia376</td>\n",
              "      <td>NaN</td>\n",
              "      <td>0</td>\n",
              "      <td>@united thanks</td>\n",
              "      <td>NaN</td>\n",
              "      <td>2015-02-24 11:11:04 -0800</td>\n",
              "      <td>USA</td>\n",
              "      <td>NaN</td>\n",
              "    </tr>\n",
              "    <tr>\n",
              "      <th>1477</th>\n",
              "      <td>569705563287896064</td>\n",
              "      <td>positive</td>\n",
              "      <td>0.6629</td>\n",
              "      <td>NaN</td>\n",
              "      <td>NaN</td>\n",
              "      <td>United</td>\n",
              "      <td>NaN</td>\n",
              "      <td>tiamariaroxs</td>\n",
              "      <td>NaN</td>\n",
              "      <td>0</td>\n",
              "      <td>@united thank you!</td>\n",
              "      <td>NaN</td>\n",
              "      <td>2015-02-22 19:49:25 -0800</td>\n",
              "      <td>NaN</td>\n",
              "      <td>NaN</td>\n",
              "    </tr>\n",
              "    <tr>\n",
              "      <th>1864</th>\n",
              "      <td>569545805826166784</td>\n",
              "      <td>positive</td>\n",
              "      <td>0.3512</td>\n",
              "      <td>NaN</td>\n",
              "      <td>0.0000</td>\n",
              "      <td>United</td>\n",
              "      <td>NaN</td>\n",
              "      <td>worldknits</td>\n",
              "      <td>NaN</td>\n",
              "      <td>0</td>\n",
              "      <td>@united thank you</td>\n",
              "      <td>NaN</td>\n",
              "      <td>2015-02-22 09:14:36 -0800</td>\n",
              "      <td>Fredericksburg, VA</td>\n",
              "      <td>Eastern Time (US &amp; Canada)</td>\n",
              "    </tr>\n",
              "    <tr>\n",
              "      <th>1938</th>\n",
              "      <td>569513703722393601</td>\n",
              "      <td>positive</td>\n",
              "      <td>1.0000</td>\n",
              "      <td>NaN</td>\n",
              "      <td>NaN</td>\n",
              "      <td>United</td>\n",
              "      <td>NaN</td>\n",
              "      <td>Angry_VBK</td>\n",
              "      <td>NaN</td>\n",
              "      <td>0</td>\n",
              "      <td>@united thank you</td>\n",
              "      <td>NaN</td>\n",
              "      <td>2015-02-22 07:07:02 -0800</td>\n",
              "      <td>NaN</td>\n",
              "      <td>NaN</td>\n",
              "    </tr>\n",
              "    <tr>\n",
              "      <th>...</th>\n",
              "      <td>...</td>\n",
              "      <td>...</td>\n",
              "      <td>...</td>\n",
              "      <td>...</td>\n",
              "      <td>...</td>\n",
              "      <td>...</td>\n",
              "      <td>...</td>\n",
              "      <td>...</td>\n",
              "      <td>...</td>\n",
              "      <td>...</td>\n",
              "      <td>...</td>\n",
              "      <td>...</td>\n",
              "      <td>...</td>\n",
              "      <td>...</td>\n",
              "      <td>...</td>\n",
              "    </tr>\n",
              "    <tr>\n",
              "      <th>13995</th>\n",
              "      <td>569680231012773888</td>\n",
              "      <td>negative</td>\n",
              "      <td>1.0000</td>\n",
              "      <td>Customer Service Issue</td>\n",
              "      <td>1.0000</td>\n",
              "      <td>American</td>\n",
              "      <td>NaN</td>\n",
              "      <td>LBernieMeyer</td>\n",
              "      <td>NaN</td>\n",
              "      <td>0</td>\n",
              "      <td>@AmericanAir  800 number will not even let you...</td>\n",
              "      <td>NaN</td>\n",
              "      <td>2015-02-22 18:08:45 -0800</td>\n",
              "      <td>NaN</td>\n",
              "      <td>NaN</td>\n",
              "    </tr>\n",
              "    <tr>\n",
              "      <th>14386</th>\n",
              "      <td>569622568459636736</td>\n",
              "      <td>negative</td>\n",
              "      <td>1.0000</td>\n",
              "      <td>Customer Service Issue</td>\n",
              "      <td>0.6398</td>\n",
              "      <td>American</td>\n",
              "      <td>NaN</td>\n",
              "      <td>SchrierCar</td>\n",
              "      <td>NaN</td>\n",
              "      <td>0</td>\n",
              "      <td>@AmericanAir I want to speak to a human being!...</td>\n",
              "      <td>NaN</td>\n",
              "      <td>2015-02-22 14:19:38 -0800</td>\n",
              "      <td>NaN</td>\n",
              "      <td>NaN</td>\n",
              "    </tr>\n",
              "    <tr>\n",
              "      <th>14392</th>\n",
              "      <td>569621879633391616</td>\n",
              "      <td>negative</td>\n",
              "      <td>1.0000</td>\n",
              "      <td>Customer Service Issue</td>\n",
              "      <td>1.0000</td>\n",
              "      <td>American</td>\n",
              "      <td>NaN</td>\n",
              "      <td>salitron78</td>\n",
              "      <td>NaN</td>\n",
              "      <td>0</td>\n",
              "      <td>@AmericanAir no response to DM or email yet.  ...</td>\n",
              "      <td>NaN</td>\n",
              "      <td>2015-02-22 14:16:53 -0800</td>\n",
              "      <td>on @TheJR</td>\n",
              "      <td>Seoul</td>\n",
              "    </tr>\n",
              "    <tr>\n",
              "      <th>14543</th>\n",
              "      <td>569601363799359488</td>\n",
              "      <td>negative</td>\n",
              "      <td>1.0000</td>\n",
              "      <td>Flight Attendant Complaints</td>\n",
              "      <td>1.0000</td>\n",
              "      <td>American</td>\n",
              "      <td>NaN</td>\n",
              "      <td>stevereasnors</td>\n",
              "      <td>NaN</td>\n",
              "      <td>0</td>\n",
              "      <td>@AmericanAir should reconsider #usairways acqu...</td>\n",
              "      <td>NaN</td>\n",
              "      <td>2015-02-22 12:55:22 -0800</td>\n",
              "      <td>Los Angeles</td>\n",
              "      <td>Pacific Time (US &amp; Canada)</td>\n",
              "    </tr>\n",
              "    <tr>\n",
              "      <th>14556</th>\n",
              "      <td>569600137296633856</td>\n",
              "      <td>positive</td>\n",
              "      <td>1.0000</td>\n",
              "      <td>NaN</td>\n",
              "      <td>NaN</td>\n",
              "      <td>American</td>\n",
              "      <td>NaN</td>\n",
              "      <td>douglaskgordon</td>\n",
              "      <td>NaN</td>\n",
              "      <td>0</td>\n",
              "      <td>@AmericanAir Thank you.....you do the same!!</td>\n",
              "      <td>NaN</td>\n",
              "      <td>2015-02-22 12:50:30 -0800</td>\n",
              "      <td>Caribbean, New York and Miami.</td>\n",
              "      <td>Indiana (East)</td>\n",
              "    </tr>\n",
              "  </tbody>\n",
              "</table>\n",
              "<p>213 rows × 15 columns</p>\n",
              "</div>"
            ],
            "text/plain": [
              "                 tweet_id  ...               user_timezone\n",
              "331    568605449659895808  ...  Pacific Time (US & Canada)\n",
              "515    570299889688702976  ...                         NaN\n",
              "1477   569705563287896064  ...                         NaN\n",
              "1864   569545805826166784  ...  Eastern Time (US & Canada)\n",
              "1938   569513703722393601  ...                         NaN\n",
              "...                   ...  ...                         ...\n",
              "13995  569680231012773888  ...                         NaN\n",
              "14386  569622568459636736  ...                         NaN\n",
              "14392  569621879633391616  ...                       Seoul\n",
              "14543  569601363799359488  ...  Pacific Time (US & Canada)\n",
              "14556  569600137296633856  ...              Indiana (East)\n",
              "\n",
              "[213 rows x 15 columns]"
            ]
          },
          "metadata": {
            "tags": []
          },
          "execution_count": 8
        }
      ]
    },
    {
      "cell_type": "code",
      "metadata": {
        "colab": {
          "base_uri": "https://localhost:8080/",
          "height": 69
        },
        "id": "HHfQVsljJrUW",
        "pycharm": {
          "name": "#%%\n"
        },
        "outputId": "78afee3d-9851-43cd-eb5c-d05f1fc2a37d"
      },
      "source": [
        "df.drop_duplicates('text', inplace=True)\n",
        "df[df.duplicated('text')]"
      ],
      "execution_count": 9,
      "outputs": [
        {
          "output_type": "execute_result",
          "data": {
            "text/html": [
              "<div>\n",
              "<style scoped>\n",
              "    .dataframe tbody tr th:only-of-type {\n",
              "        vertical-align: middle;\n",
              "    }\n",
              "\n",
              "    .dataframe tbody tr th {\n",
              "        vertical-align: top;\n",
              "    }\n",
              "\n",
              "    .dataframe thead th {\n",
              "        text-align: right;\n",
              "    }\n",
              "</style>\n",
              "<table border=\"1\" class=\"dataframe\">\n",
              "  <thead>\n",
              "    <tr style=\"text-align: right;\">\n",
              "      <th></th>\n",
              "      <th>tweet_id</th>\n",
              "      <th>airline_sentiment</th>\n",
              "      <th>airline_sentiment_confidence</th>\n",
              "      <th>negativereason</th>\n",
              "      <th>negativereason_confidence</th>\n",
              "      <th>airline</th>\n",
              "      <th>airline_sentiment_gold</th>\n",
              "      <th>name</th>\n",
              "      <th>negativereason_gold</th>\n",
              "      <th>retweet_count</th>\n",
              "      <th>text</th>\n",
              "      <th>tweet_coord</th>\n",
              "      <th>tweet_created</th>\n",
              "      <th>tweet_location</th>\n",
              "      <th>user_timezone</th>\n",
              "    </tr>\n",
              "  </thead>\n",
              "  <tbody>\n",
              "  </tbody>\n",
              "</table>\n",
              "</div>"
            ],
            "text/plain": [
              "Empty DataFrame\n",
              "Columns: [tweet_id, airline_sentiment, airline_sentiment_confidence, negativereason, negativereason_confidence, airline, airline_sentiment_gold, name, negativereason_gold, retweet_count, text, tweet_coord, tweet_created, tweet_location, user_timezone]\n",
              "Index: []"
            ]
          },
          "metadata": {
            "tags": []
          },
          "execution_count": 9
        }
      ]
    },
    {
      "cell_type": "code",
      "metadata": {
        "colab": {
          "base_uri": "https://localhost:8080/",
          "height": 331
        },
        "id": "y_GcsS8iJrUX",
        "pycharm": {
          "name": "#%%\n"
        },
        "outputId": "0d4f982e-28d1-4338-81b8-a989869fa8bd"
      },
      "source": [
        "df[['airline_sentiment', 'text']].groupby('airline_sentiment').count().plot.bar()"
      ],
      "execution_count": 10,
      "outputs": [
        {
          "output_type": "execute_result",
          "data": {
            "text/plain": [
              "<matplotlib.axes._subplots.AxesSubplot at 0x7f1ee7426450>"
            ]
          },
          "metadata": {
            "tags": []
          },
          "execution_count": 10
        },
        {
          "output_type": "display_data",
          "data": {
            "image/png": "[encoded data removed]",
            "text/plain": [
              "<Figure size 432x288 with 1 Axes>"
            ]
          },
          "metadata": {
            "tags": [],
            "needs_background": "light"
          }
        }
      ]
    },
    {
      "cell_type": "markdown",
      "metadata": {
        "id": "qRNRGUr1JrUX"
      },
      "source": [
        "### Preprocessing Data"
      ]
    },
    {
      "cell_type": "markdown",
      "metadata": {
        "id": "8_Sbn3-qJrUX"
      },
      "source": [
        "#### Steps\n",
        "1. One-hot encode output\n",
        "2. Replace tags and metion with a unique symbol\n",
        "3. Replace `emoji` and `emoticons` with their meaning\n",
        "4. Remove stop-words\n",
        "5. Remove punctuation and tokenize sentences\n",
        "6. Stemming each token"
      ]
    },
    {
      "cell_type": "code",
      "metadata": {
        "colab": {
          "base_uri": "https://localhost:8080/",
          "height": 0
        },
        "id": "iy0yXqzYJrUY",
        "pycharm": {
          "name": "#%%\n"
        },
        "outputId": "5aeb94d4-41e4-47e3-b489-c58100b3fd1b"
      },
      "source": [
        "\n",
        "condlist = [\n",
        "    df['airline_sentiment'].str.match('neutral'),\n",
        "    df['airline_sentiment'].str.match('positive'),\n",
        "    df['airline_sentiment'].str.match('negative')\n",
        "]\n",
        "df['sentiment'] = np.select(condlist, [0,1,2])\n",
        "d = df[['text', 'sentiment']]\n",
        "d.head()"
      ],
      "execution_count": 11,
      "outputs": [
        {
          "output_type": "execute_result",
          "data": {
            "text/html": [
              "<div>\n",
              "<style scoped>\n",
              "    .dataframe tbody tr th:only-of-type {\n",
              "        vertical-align: middle;\n",
              "    }\n",
              "\n",
              "    .dataframe tbody tr th {\n",
              "        vertical-align: top;\n",
              "    }\n",
              "\n",
              "    .dataframe thead th {\n",
              "        text-align: right;\n",
              "    }\n",
              "</style>\n",
              "<table border=\"1\" class=\"dataframe\">\n",
              "  <thead>\n",
              "    <tr style=\"text-align: right;\">\n",
              "      <th></th>\n",
              "      <th>text</th>\n",
              "      <th>sentiment</th>\n",
              "    </tr>\n",
              "  </thead>\n",
              "  <tbody>\n",
              "    <tr>\n",
              "      <th>0</th>\n",
              "      <td>@VirginAmerica What @dhepburn said.</td>\n",
              "      <td>0</td>\n",
              "    </tr>\n",
              "    <tr>\n",
              "      <th>1</th>\n",
              "      <td>@VirginAmerica plus you've added commercials t...</td>\n",
              "      <td>1</td>\n",
              "    </tr>\n",
              "    <tr>\n",
              "      <th>2</th>\n",
              "      <td>@VirginAmerica I didn't today... Must mean I n...</td>\n",
              "      <td>0</td>\n",
              "    </tr>\n",
              "    <tr>\n",
              "      <th>3</th>\n",
              "      <td>@VirginAmerica it's really aggressive to blast...</td>\n",
              "      <td>2</td>\n",
              "    </tr>\n",
              "    <tr>\n",
              "      <th>4</th>\n",
              "      <td>@VirginAmerica and it's a really big bad thing...</td>\n",
              "      <td>2</td>\n",
              "    </tr>\n",
              "  </tbody>\n",
              "</table>\n",
              "</div>"
            ],
            "text/plain": [
              "                                                text  sentiment\n",
              "0                @VirginAmerica What @dhepburn said.          0\n",
              "1  @VirginAmerica plus you've added commercials t...          1\n",
              "2  @VirginAmerica I didn't today... Must mean I n...          0\n",
              "3  @VirginAmerica it's really aggressive to blast...          2\n",
              "4  @VirginAmerica and it's a really big bad thing...          2"
            ]
          },
          "metadata": {
            "tags": []
          },
          "execution_count": 11
        }
      ]
    },
    {
      "cell_type": "code",
      "metadata": {
        "colab": {
          "base_uri": "https://localhost:8080/",
          "height": 0
        },
        "id": "xHC-GTGIJrUY",
        "pycharm": {
          "name": "#%%\n"
        },
        "outputId": "543823a1-6555-4cfb-ab1d-00ff9ca07b1f"
      },
      "source": [
        "def emoji_helper(text):\n",
        "    clean_mean = lambda x:  x.replace('-', '_').replace(':', ' ')\n",
        "    for emoti in emot.emo_unicode.EMOTICONS:\n",
        "        if emoti in text:\n",
        "            text = text.replace(emoti, clean_mean(emot.emo_unicode.EMOTICONS.get(emoti, '')))\n",
        "\n",
        "    for emoti in emot.emo_unicode.UNICODE_EMO:\n",
        "        if emoti in text:\n",
        "            text = text.replace(emoti, clean_mean(emot.emo_unicode.UNICODE_EMO.get(emoti, '')))\n",
        "\n",
        "    for emoti in emot.emo_unicode.EMOTICONS_EMO:\n",
        "        if emoti in text:\n",
        "            text = text.replace(emoti, clean_mean(emot.emo_unicode.EMOTICONS_EMO.get(emoti, '')).replace(' ','_'))\n",
        "    return text\n",
        "\n",
        "porter_stemmer = PorterStemmer()\n",
        "\n",
        "\n",
        "def preprocess(x):\n",
        "    return [porter_stemmer.stem(word) for word in\n",
        "        simple_preprocess(remove_stopwords(emoji_helper(re.sub(r'\\s*([@#][\\w_-]+)', '', str(x)))), deacc=True)\n",
        "    ]\n",
        "\n",
        "d['text'] = d['text'].apply(func=lambda x:preprocess(x))\n",
        "\n",
        "d"
      ],
      "execution_count": 12,
      "outputs": [
        {
          "output_type": "stream",
          "text": [
            "/usr/local/lib/python3.7/dist-packages/ipykernel_launcher.py:24: SettingWithCopyWarning: \n",
            "A value is trying to be set on a copy of a slice from a DataFrame.\n",
            "Try using .loc[row_indexer,col_indexer] = value instead\n",
            "\n",
            "See the caveats in the documentation: https://pandas.pydata.org/pandas-docs/stable/user_guide/indexing.html#returning-a-view-versus-a-copy\n"
          ],
          "name": "stderr"
        },
        {
          "output_type": "execute_result",
          "data": {
            "text/html": [
              "<div>\n",
              "<style scoped>\n",
              "    .dataframe tbody tr th:only-of-type {\n",
              "        vertical-align: middle;\n",
              "    }\n",
              "\n",
              "    .dataframe tbody tr th {\n",
              "        vertical-align: top;\n",
              "    }\n",
              "\n",
              "    .dataframe thead th {\n",
              "        text-align: right;\n",
              "    }\n",
              "</style>\n",
              "<table border=\"1\" class=\"dataframe\">\n",
              "  <thead>\n",
              "    <tr style=\"text-align: right;\">\n",
              "      <th></th>\n",
              "      <th>text</th>\n",
              "      <th>sentiment</th>\n",
              "    </tr>\n",
              "  </thead>\n",
              "  <tbody>\n",
              "    <tr>\n",
              "      <th>0</th>\n",
              "      <td>[what, said]</td>\n",
              "      <td>0</td>\n",
              "    </tr>\n",
              "    <tr>\n",
              "      <th>1</th>\n",
              "      <td>[plu, you, ve, ad, commerci, experi, tacki]</td>\n",
              "      <td>1</td>\n",
              "    </tr>\n",
              "    <tr>\n",
              "      <th>2</th>\n",
              "      <td>[didn, todai, must, mean, need, trip]</td>\n",
              "      <td>0</td>\n",
              "    </tr>\n",
              "    <tr>\n",
              "      <th>3</th>\n",
              "      <td>[it, aggress, blast, obnoxi, entertain, guest,...</td>\n",
              "      <td>2</td>\n",
              "    </tr>\n",
              "    <tr>\n",
              "      <th>4</th>\n",
              "      <td>[it, big, bad, thing]</td>\n",
              "      <td>2</td>\n",
              "    </tr>\n",
              "    <tr>\n",
              "      <th>...</th>\n",
              "      <td>...</td>\n",
              "      <td>...</td>\n",
              "    </tr>\n",
              "    <tr>\n",
              "      <th>14635</th>\n",
              "      <td>[thank, got, differ, flight, chicago]</td>\n",
              "      <td>1</td>\n",
              "    </tr>\n",
              "    <tr>\n",
              "      <th>14636</th>\n",
              "      <td>[leav, minut, late, flight, no, warn, commun, ...</td>\n",
              "      <td>2</td>\n",
              "    </tr>\n",
              "    <tr>\n",
              "      <th>14637</th>\n",
              "      <td>[pleas, bring, american, airlin]</td>\n",
              "      <td>0</td>\n",
              "    </tr>\n",
              "    <tr>\n",
              "      <th>14638</th>\n",
              "      <td>[monei, chang, flight, don, answer, phone, ani...</td>\n",
              "      <td>2</td>\n",
              "    </tr>\n",
              "    <tr>\n",
              "      <th>14639</th>\n",
              "      <td>[ppl, need, know, seat, flight, plz, standbi, ...</td>\n",
              "      <td>0</td>\n",
              "    </tr>\n",
              "  </tbody>\n",
              "</table>\n",
              "<p>14427 rows × 2 columns</p>\n",
              "</div>"
            ],
            "text/plain": [
              "                                                    text  sentiment\n",
              "0                                           [what, said]          0\n",
              "1            [plu, you, ve, ad, commerci, experi, tacki]          1\n",
              "2                  [didn, todai, must, mean, need, trip]          0\n",
              "3      [it, aggress, blast, obnoxi, entertain, guest,...          2\n",
              "4                                  [it, big, bad, thing]          2\n",
              "...                                                  ...        ...\n",
              "14635              [thank, got, differ, flight, chicago]          1\n",
              "14636  [leav, minut, late, flight, no, warn, commun, ...          2\n",
              "14637                   [pleas, bring, american, airlin]          0\n",
              "14638  [monei, chang, flight, don, answer, phone, ani...          2\n",
              "14639  [ppl, need, know, seat, flight, plz, standbi, ...          0\n",
              "\n",
              "[14427 rows x 2 columns]"
            ]
          },
          "metadata": {
            "tags": []
          },
          "execution_count": 12
        }
      ]
    },
    {
      "cell_type": "markdown",
      "metadata": {
        "id": "V1lsg8zVJrUY"
      },
      "source": [
        "#### Analyze review length\n",
        "Here we remove the outliers"
      ]
    },
    {
      "cell_type": "code",
      "metadata": {
        "colab": {
          "base_uri": "https://localhost:8080/"
        },
        "id": "nE-zLQLWJrUZ",
        "pycharm": {
          "name": "#%%\n"
        },
        "outputId": "d7854052-5447-4517-996f-fc8e90ab187f"
      },
      "source": [
        "d['text'].str.len().describe()"
      ],
      "execution_count": 13,
      "outputs": [
        {
          "output_type": "execute_result",
          "data": {
            "text/plain": [
              "count    14427.000000\n",
              "mean         9.361128\n",
              "std          4.221203\n",
              "min          0.000000\n",
              "25%          6.000000\n",
              "50%         10.000000\n",
              "75%         12.000000\n",
              "max         49.000000\n",
              "Name: text, dtype: float64"
            ]
          },
          "metadata": {
            "tags": []
          },
          "execution_count": 13
        }
      ]
    },
    {
      "cell_type": "code",
      "metadata": {
        "colab": {
          "base_uri": "https://localhost:8080/",
          "height": 0
        },
        "id": "241NoGKyJrUZ",
        "pycharm": {
          "name": "#%%\n"
        },
        "outputId": "c0860369-4e53-41cf-e1d9-1a66ad0f9ff6"
      },
      "source": [
        "d['text'].str.len().hist()"
      ],
      "execution_count": 14,
      "outputs": [
        {
          "output_type": "execute_result",
          "data": {
            "text/plain": [
              "<matplotlib.axes._subplots.AxesSubplot at 0x7f1ee6eb4310>"
            ]
          },
          "metadata": {
            "tags": []
          },
          "execution_count": 14
        },
        {
          "output_type": "display_data",
          "data": {
            "image/png": "[encoded data removed]",
            "text/plain": [
              "<Figure size 432x288 with 1 Axes>"
            ]
          },
          "metadata": {
            "tags": [],
            "needs_background": "light"
          }
        }
      ]
    },
    {
      "cell_type": "code",
      "metadata": {
        "colab": {
          "base_uri": "https://localhost:8080/",
          "height": 0
        },
        "id": "YKCZ7SYYJrUZ",
        "pycharm": {
          "name": "#%%\n"
        },
        "outputId": "3cf52832-2f44-41c1-f938-587360681a98"
      },
      "source": [
        "d = d[ (2 < d['text'].str.len()) & (d['text'].str.len() < 24) ]\n",
        "d['text'].str.len().hist()"
      ],
      "execution_count": 15,
      "outputs": [
        {
          "output_type": "execute_result",
          "data": {
            "text/plain": [
              "<matplotlib.axes._subplots.AxesSubplot at 0x7f1ee634bf10>"
            ]
          },
          "metadata": {
            "tags": []
          },
          "execution_count": 15
        },
        {
          "output_type": "display_data",
          "data": {
            "image/png": "[encoded data removed]",
            "text/plain": [
              "<Figure size 432x288 with 1 Axes>"
            ]
          },
          "metadata": {
            "tags": [],
            "needs_background": "light"
          }
        }
      ]
    },
    {
      "cell_type": "markdown",
      "metadata": {
        "id": "8FTBryPnJrUa",
        "pycharm": {
          "name": "#%% md\n"
        }
      },
      "source": [
        "### Creating vocab"
      ]
    },
    {
      "cell_type": "code",
      "metadata": {
        "id": "j6jBsOu6JrUa",
        "pycharm": {
          "name": "#%%\n"
        }
      },
      "source": [
        "max_document_length = d['text'].str.len().max()  # each sentence has until 100 words\n",
        "max_size = 5000\n",
        "Text = data.Field(batch_first=True, tokenize=lambda x: x, include_lengths=True, fix_length=max_document_length)\n",
        "Label = data.Field(sequential=False, use_vocab=False, pad_token=None, unk_token=None)\n",
        "fields = [('text', Text), ('labels', Label)]"
      ],
      "execution_count": 16,
      "outputs": []
    },
    {
      "cell_type": "code",
      "metadata": {
        "colab": {
          "base_uri": "https://localhost:8080/"
        },
        "id": "DOIRUDjzJrUa",
        "pycharm": {
          "name": "#%%\n"
        },
        "outputId": "06cf7729-0c1c-4052-dc0d-7938a9743b71"
      },
      "source": [
        "class DataFrameDataset(data.Dataset):\n",
        "\n",
        "    def __init__(self, df, text_field, label_field, is_test=False, **kwargs):\n",
        "        fields = [('text', text_field), ('labels', label_field)]\n",
        "        examples = []\n",
        "        for i, row in df.iterrows():\n",
        "            label = row.sentiment\n",
        "            text = row.text\n",
        "            examples.append(data.Example.fromlist([text, label], fields))\n",
        "\n",
        "        super().__init__(examples, fields, **kwargs)\n",
        "\n",
        "    @staticmethod\n",
        "    def sort_key(ex):\n",
        "        return len(ex.text)\n",
        "\n",
        "    @classmethod\n",
        "    def splits(cls, text_field, label_field, train_df, test_df=None, **kwargs):\n",
        "        train_data, test_data = (None, None)\n",
        "\n",
        "        if train_df is not None:\n",
        "            train_data = cls(train_df.copy(), text_field, label_field, **kwargs)\n",
        "        if test_df is not None:\n",
        "            test_data = cls(test_df.copy(), text_field, label_field, True, **kwargs)\n",
        "\n",
        "        return tuple(d for d in (train_data, test_data) if d is not None)\n",
        "test_size = 0.2 # split percentage to train\\validation data\n",
        "X_train,X_test,y_train,y_test = train_test_split(d['text'].index,d['sentiment'], test_size=test_size, random_state=0, stratify=d['sentiment'])\n",
        "train_df = d.loc[X_train.values]\n",
        "test_df = d.loc[X_test.values]\n",
        "train_ds, test_ds = DataFrameDataset.splits(\n",
        "    text_field=Text, label_field=Label, train_df=train_df, test_df=test_df)\n",
        "vars(test_ds[0])"
      ],
      "execution_count": 17,
      "outputs": [
        {
          "output_type": "execute_result",
          "data": {
            "text/plain": [
              "{'labels': 0, 'text': ['rd', 'time', 'jamaica', 'volunt', 'risk', 'youth']}"
            ]
          },
          "metadata": {
            "tags": []
          },
          "execution_count": 17
        }
      ]
    },
    {
      "cell_type": "code",
      "metadata": {
        "id": "L4QWhGExJrUb",
        "pycharm": {
          "name": "#%%\n"
        }
      },
      "source": [
        "Text.build_vocab(train_ds, test_ds, max_size=max_size)\n",
        "Label.build_vocab(train_ds)\n",
        "vocab_size = len(Text.vocab)"
      ],
      "execution_count": 18,
      "outputs": []
    },
    {
      "cell_type": "code",
      "metadata": {
        "id": "Fm69dUmTJrUb",
        "pycharm": {
          "name": "#%%\n"
        }
      },
      "source": [
        "PAD_IND = Text.vocab.stoi['pad']\n",
        "# captum\n",
        "token_reference = TokenReferenceBase(reference_token_idx=PAD_IND) # create a reference (aka baseline) for the sentences and its constituent parts, tokens"
      ],
      "execution_count": 19,
      "outputs": []
    },
    {
      "cell_type": "markdown",
      "metadata": {
        "id": "f5xCcMgXJrUb",
        "pycharm": {
          "name": "#%% md\n"
        }
      },
      "source": [
        "## Defining model"
      ]
    },
    {
      "cell_type": "code",
      "metadata": {
        "colab": {
          "base_uri": "https://localhost:8080/"
        },
        "id": "jjpQpWbkJrUb",
        "pycharm": {
          "name": "#%%\n"
        },
        "outputId": "8517b48d-35dc-4fba-a63c-43f1cc4ef66e"
      },
      "source": [
        "device = torch.device('cuda' if torch.cuda.is_available() else 'cpu')\n",
        "device"
      ],
      "execution_count": 20,
      "outputs": [
        {
          "output_type": "execute_result",
          "data": {
            "text/plain": [
              "device(type='cuda')"
            ]
          },
          "metadata": {
            "tags": []
          },
          "execution_count": 20
        }
      ]
    },
    {
      "cell_type": "code",
      "metadata": {
        "id": "zFri3ivlJrUc",
        "pycharm": {
          "name": "#%%\n"
        }
      },
      "source": [
        "from torch.nn.utils.rnn import pack_padded_sequence, pad_packed_sequence\n",
        "class LSTM(nn.Module):\n",
        "\n",
        "    # define all the layers used in model\n",
        "    def __init__(self, vocab_size, embedding_dim, hidden_dim1, hidden_dim2, output_dim, n_layers,\n",
        "                 bidirectional, dropout, pad_index):\n",
        "        # Constructor\n",
        "        super().__init__()\n",
        "        self.n_layers = n_layers\n",
        "        self.hidden_dim1 = hidden_dim1\n",
        "        # embedding layer\n",
        "        self.embedding = nn.Embedding(vocab_size, embedding_dim, padding_idx = pad_index)\n",
        "\n",
        "        # lstm layer\n",
        "        self.lstm = nn.LSTM(embedding_dim,\n",
        "                            hidden_dim1,\n",
        "                            num_layers=n_layers,\n",
        "                            bidirectional=bidirectional,\n",
        "                            batch_first=True)\n",
        "        self.fc1 = nn.Linear(hidden_dim1 * 2, hidden_dim2)\n",
        "        self.fc2 = nn.Linear(hidden_dim2, output_dim)\n",
        "        self.relu = nn.SELU()\n",
        "        self.dropout = nn.Dropout(dropout)\n",
        "        self.dropout1 = nn.Dropout(dropout)\n",
        "        # activation function\n",
        "        self.act = nn.Softmax() #\\ F.log_softmax(outp)\n",
        "\n",
        "    def forward(self, text, text_lengths, hid=None):\n",
        "        # text = [batch size,sent_length]\n",
        "        if hid == None:\n",
        "            hid = self.init_hidden(text.shape[0])\n",
        "        embedded = self.embedding(text)\n",
        "        # embedded = [batch size, sent_len, emb dim]\n",
        "\n",
        "        # packed sequence\n",
        "        packed_embedded = pack_padded_sequence(embedded, text_lengths.cpu(), batch_first=True) # unpad\n",
        "\n",
        "        packed_output, (hidden, cell) = self.lstm(packed_embedded, hid)\n",
        "        # packed_output shape = (batch, seq_len, num_directions * hidden_size)\n",
        "        # hidden shape  = (num_layers * num_directions, batch, hidden_size)\n",
        "\n",
        "        # concat the final forward and backward hidden state\n",
        "        cat = torch.cat((hidden[-2, :, :], hidden[-1, :, :]), dim=1)\n",
        "        # output, output_lengths = pad_packed_sequence(packed_output)  # pad the sequence to the max length in the batch\n",
        "        cat = self.dropout1(cat)\n",
        "        rel = self.relu(cat)\n",
        "        dense1 = self.fc1(rel)\n",
        "\n",
        "        drop = self.dropout(dense1)\n",
        "        preds = self.fc2(drop)\n",
        "\n",
        "        # Final activation function\n",
        "        # preds = self.act(preds)\n",
        "        # preds = preds.argmax(dim=1).unsqueeze(0)\n",
        "        return preds, (hidden, cell)\n",
        "    \n",
        "    def init_hidden(self, batch_size):\n",
        "        ''' Initializes hidden state '''\n",
        "        # Create two new tensors with sizes n_layers x batch_size x n_hidden,\n",
        "        # initialized to zero, for hidden state and cell state of LSTM\n",
        "        weight = next(self.parameters()).data\n",
        "\n",
        "        hidden = (torch.zeros(self.n_layers*2, batch_size, self.hidden_dim1).to(device),\n",
        "                  torch.zeros(self.n_layers*2, batch_size, self.hidden_dim1).to(device))\n",
        "\n",
        "        return hidden"
      ],
      "execution_count": 21,
      "outputs": []
    },
    {
      "cell_type": "code",
      "metadata": {
        "colab": {
          "base_uri": "https://localhost:8080/"
        },
        "id": "2zLwnk5UJrUg",
        "pycharm": {
          "name": "#%%\n"
        },
        "outputId": "de93adcd-f18a-4c90-9260-c51589c2e07e"
      },
      "source": [
        "\n",
        "# hyper-parameters:\n",
        "lr = 1e-4\n",
        "batch_size = 50\n",
        "dropout_keep_prob = 0.5\n",
        "embedding_size = 300\n",
        "seed = 0\n",
        "clip=5\n",
        "num_classes = 3\n",
        "num_hidden_nodes = 93\n",
        "hidden_dim2 = 512\n",
        "num_layers = 2  # LSTM layers\n",
        "bi_directional = True\n",
        "num_epochs = 100\n",
        "\n",
        "pad_index = Text.vocab.stoi[Text.pad_token]\n",
        "\n",
        "# Build the model\n",
        "lstm_model = LSTM(vocab_size, embedding_size, num_hidden_nodes, hidden_dim2 , num_classes, num_layers,\n",
        "                  bi_directional, dropout_keep_prob, pad_index)\n",
        "lstm_model.to(device)\n",
        "print(lstm_model)"
      ],
      "execution_count": 22,
      "outputs": [
        {
          "output_type": "stream",
          "text": [
            "LSTM(\n",
            "  (embedding): Embedding(5002, 300, padding_idx=1)\n",
            "  (lstm): LSTM(300, 93, num_layers=2, batch_first=True, bidirectional=True)\n",
            "  (fc1): Linear(in_features=186, out_features=512, bias=True)\n",
            "  (fc2): Linear(in_features=512, out_features=3, bias=True)\n",
            "  (relu): SELU()\n",
            "  (dropout): Dropout(p=0.5, inplace=False)\n",
            "  (dropout1): Dropout(p=0.5, inplace=False)\n",
            "  (act): Softmax(dim=None)\n",
            ")\n"
          ],
          "name": "stdout"
        }
      ]
    },
    {
      "cell_type": "markdown",
      "metadata": {
        "id": "ZLmmdfsyJrUk",
        "pycharm": {
          "name": "#%% md\n"
        }
      },
      "source": [
        "## training the model"
      ]
    },
    {
      "cell_type": "code",
      "metadata": {
        "id": "tESutgn6JrUk",
        "pycharm": {
          "name": "#%%\n"
        }
      },
      "source": [
        "train_iterator, test_iterator = data.BucketIterator.splits((train_ds, test_ds),\n",
        "                                                           batch_size=batch_size,\n",
        "                                                           sort_key=lambda x: len(x.text),\n",
        "                                                           # Sort the batches by text length size\n",
        "                                                           sort_within_batch=True,\n",
        "                                                           device=device,\n",
        "                                                           )"
      ],
      "execution_count": 23,
      "outputs": []
    },
    {
      "cell_type": "code",
      "metadata": {
        "id": "Ne_LiAoSJrUk",
        "pycharm": {
          "name": "#%%\n"
        }
      },
      "source": [
        "def accuracy(probs, target):\n",
        "    winners = probs.argmax(dim=1)\n",
        "    corrects = (winners == target)\n",
        "    accuracy = corrects.sum().float() / float(target.size(0))\n",
        "    return accuracy\n",
        "\n",
        "def train(model, iterator, optimizer, criterion):\n",
        "    epoch_loss = 0\n",
        "    epoch_acc = 0\n",
        "\n",
        "    model.train()\n",
        "    h = model.init_hidden(batch_size)\n",
        "    for batch in iterator:\n",
        "        optimizer.zero_grad()\n",
        "        # zero accumulated gradients\n",
        "        model.zero_grad()\n",
        "        # retrieve text and no. of words\n",
        "        text, text_lengths = batch.text\n",
        "        if (text.shape[0], text.shape[1]) != (batch_size, max_document_length):\n",
        "            continue\n",
        "\n",
        "        # Creating new variables for the hidden state, otherwise\n",
        "        # we'd backprop through the entire training history\n",
        "        h = tuple([each.data for each in h])\n",
        "\n",
        "        predictions, h = model(text, text_lengths, h)\n",
        "        loss = criterion(predictions, batch.labels.squeeze())\n",
        "\n",
        "        acc = accuracy(predictions, batch.labels)\n",
        "\n",
        "        # perform backpropagation\n",
        "        loss.backward()\n",
        "        # `clip_grad_norm` helps prevent the exploding gradient problem in RNNs / LSTMs.\n",
        "        nn.utils.clip_grad_norm_(model.parameters(), clip)\n",
        "        optimizer.step()\n",
        "\n",
        "        epoch_loss += loss.item()\n",
        "        epoch_acc += acc.item()\n",
        "\n",
        "    return epoch_loss / len(iterator), epoch_acc / len(iterator)\n",
        "\n",
        "def evaluate(model, iterator, criterion):\n",
        "    epoch_loss = 0\n",
        "    epoch_acc = 0\n",
        "\n",
        "    model.eval()\n",
        "    val_h = model.init_hidden(batch_size)\n",
        "    with torch.no_grad():\n",
        "        for batch in iterator:\n",
        "            text, text_lengths = batch.text\n",
        "            if (text.shape[0], text.shape[1]) != (batch_size, max_document_length):\n",
        "                continue\n",
        "\n",
        "            # Creating new variables for the hidden state, otherwise\n",
        "            # we'd backprop through the entire training history\n",
        "            val_h = tuple([each.data for each in val_h])\n",
        "\n",
        "            predictions, val_h = model(text, text_lengths, val_h)\n",
        "\n",
        "            loss = criterion(predictions, batch.labels)\n",
        "\n",
        "            acc = accuracy(predictions, batch.labels)\n",
        "\n",
        "            epoch_loss += loss.item()\n",
        "            epoch_acc += acc.item()\n",
        "\n",
        "    return epoch_loss / len(iterator), epoch_acc / len(iterator)\n",
        "\n",
        "\n",
        "def run_train(epochs, model, train_iterator, valid_iterator, optimizer, criterion):\n",
        "    best_valid_loss = float('inf')\n",
        "\n",
        "    for epoch in range(epochs):\n",
        "\n",
        "        # train the model\n",
        "        train_loss, train_acc = train(model, train_iterator, optimizer, criterion)\n",
        "\n",
        "        # evaluate the model\n",
        "        valid_loss, valid_acc = evaluate(model, valid_iterator, criterion)\n",
        "\n",
        "        # save the best model\n",
        "        if valid_loss < best_valid_loss:\n",
        "            best_valid_loss = valid_loss\n",
        "            torch.save(model.state_dict(), 'checkpoint/twitter.t7')\n",
        "\n",
        "        print(f'\\tTrain Loss: {train_loss:.3f} | Train Acc: {train_acc * 100:.2f}%')\n",
        "        print(f'\\t Val. Loss: {valid_loss:.3f} |  Val. Acc: {valid_acc * 100:.2f}%')"
      ],
      "execution_count": 24,
      "outputs": []
    },
    {
      "cell_type": "code",
      "metadata": {
        "id": "aPadIekjJrUl",
        "pycharm": {
          "name": "#%%\n"
        }
      },
      "source": [
        "# loss function\n",
        "loss_func = nn.CrossEntropyLoss()\n",
        "optimizer = torch.optim.Adam(lstm_model.parameters(), lr=lr)"
      ],
      "execution_count": 25,
      "outputs": []
    },
    {
      "cell_type": "code",
      "metadata": {
        "colab": {
          "base_uri": "https://localhost:8080/",
          "height": 952
        },
        "id": "IXSVKXpkJrUl",
        "pycharm": {
          "name": "#%%\n"
        },
        "outputId": "59d292e9-fa7c-47b7-8947-854983412f42"
      },
      "source": [
        "run_train(num_epochs, lstm_model, train_iterator, test_iterator, optimizer, loss_func)"
      ],
      "execution_count": 26,
      "outputs": [
        {
          "output_type": "stream",
          "text": [
            "\tTrain Loss: 0.858 | Train Acc: 64.17%\n",
            "\t Val. Loss: 0.729 |  Val. Acc: 67.89%\n",
            "\tTrain Loss: 0.714 | Train Acc: 70.73%\n",
            "\t Val. Loss: 0.658 |  Val. Acc: 70.25%\n",
            "\tTrain Loss: 0.651 | Train Acc: 72.84%\n",
            "\t Val. Loss: 0.620 |  Val. Acc: 72.25%\n",
            "\tTrain Loss: 0.600 | Train Acc: 75.50%\n",
            "\t Val. Loss: 0.593 |  Val. Acc: 73.38%\n",
            "\tTrain Loss: 0.552 | Train Acc: 77.76%\n",
            "\t Val. Loss: 0.581 |  Val. Acc: 73.96%\n",
            "\tTrain Loss: 0.515 | Train Acc: 79.72%\n",
            "\t Val. Loss: 0.576 |  Val. Acc: 74.29%\n",
            "\tTrain Loss: 0.479 | Train Acc: 81.45%\n",
            "\t Val. Loss: 0.581 |  Val. Acc: 74.62%\n",
            "\tTrain Loss: 0.450 | Train Acc: 82.49%\n",
            "\t Val. Loss: 0.577 |  Val. Acc: 75.20%\n",
            "\tTrain Loss: 0.418 | Train Acc: 83.81%\n",
            "\t Val. Loss: 0.589 |  Val. Acc: 75.24%\n",
            "\tTrain Loss: 0.390 | Train Acc: 84.85%\n",
            "\t Val. Loss: 0.615 |  Val. Acc: 74.98%\n",
            "\tTrain Loss: 0.358 | Train Acc: 86.33%\n",
            "\t Val. Loss: 0.621 |  Val. Acc: 74.76%\n",
            "\tTrain Loss: 0.337 | Train Acc: 87.30%\n",
            "\t Val. Loss: 0.637 |  Val. Acc: 75.20%\n",
            "\tTrain Loss: 0.300 | Train Acc: 88.35%\n",
            "\t Val. Loss: 0.656 |  Val. Acc: 75.16%\n",
            "\tTrain Loss: 0.279 | Train Acc: 89.47%\n",
            "\t Val. Loss: 0.694 |  Val. Acc: 74.22%\n",
            "\tTrain Loss: 0.247 | Train Acc: 90.82%\n",
            "\t Val. Loss: 0.734 |  Val. Acc: 73.78%\n",
            "\tTrain Loss: 0.228 | Train Acc: 91.22%\n",
            "\t Val. Loss: 0.769 |  Val. Acc: 74.51%\n",
            "\tTrain Loss: 0.202 | Train Acc: 92.53%\n",
            "\t Val. Loss: 0.806 |  Val. Acc: 74.58%\n",
            "\tTrain Loss: 0.173 | Train Acc: 93.38%\n",
            "\t Val. Loss: 0.872 |  Val. Acc: 73.24%\n",
            "\tTrain Loss: 0.160 | Train Acc: 93.97%\n",
            "\t Val. Loss: 0.911 |  Val. Acc: 74.00%\n"
          ],
          "name": "stdout"
        },
        {
          "output_type": "error",
          "ename": "KeyboardInterrupt",
          "evalue": "ignored",
          "traceback": [
            "\u001b[0;31m---------------------------------------------------------------------------\u001b[0m",
            "\u001b[0;31mKeyboardInterrupt\u001b[0m                         Traceback (most recent call last)",
            "\u001b[0;32m<ipython-input-26-8395ce2faaf6>\u001b[0m in \u001b[0;36m<module>\u001b[0;34m()\u001b[0m\n\u001b[0;32m----> 1\u001b[0;31m \u001b[0mrun_train\u001b[0m\u001b[0;34m(\u001b[0m\u001b[0mnum_epochs\u001b[0m\u001b[0;34m,\u001b[0m \u001b[0mlstm_model\u001b[0m\u001b[0;34m,\u001b[0m \u001b[0mtrain_iterator\u001b[0m\u001b[0;34m,\u001b[0m \u001b[0mtest_iterator\u001b[0m\u001b[0;34m,\u001b[0m \u001b[0moptimizer\u001b[0m\u001b[0;34m,\u001b[0m \u001b[0mloss_func\u001b[0m\u001b[0;34m)\u001b[0m\u001b[0;34m\u001b[0m\u001b[0;34m\u001b[0m\u001b[0m\n\u001b[0m",
            "\u001b[0;32m<ipython-input-24-46fdd9609c68>\u001b[0m in \u001b[0;36mrun_train\u001b[0;34m(epochs, model, train_iterator, valid_iterator, optimizer, criterion)\u001b[0m\n\u001b[1;32m     74\u001b[0m \u001b[0;34m\u001b[0m\u001b[0m\n\u001b[1;32m     75\u001b[0m         \u001b[0;31m# train the model\u001b[0m\u001b[0;34m\u001b[0m\u001b[0;34m\u001b[0m\u001b[0;34m\u001b[0m\u001b[0m\n\u001b[0;32m---> 76\u001b[0;31m         \u001b[0mtrain_loss\u001b[0m\u001b[0;34m,\u001b[0m \u001b[0mtrain_acc\u001b[0m \u001b[0;34m=\u001b[0m \u001b[0mtrain\u001b[0m\u001b[0;34m(\u001b[0m\u001b[0mmodel\u001b[0m\u001b[0;34m,\u001b[0m \u001b[0mtrain_iterator\u001b[0m\u001b[0;34m,\u001b[0m \u001b[0moptimizer\u001b[0m\u001b[0;34m,\u001b[0m \u001b[0mcriterion\u001b[0m\u001b[0;34m)\u001b[0m\u001b[0;34m\u001b[0m\u001b[0;34m\u001b[0m\u001b[0m\n\u001b[0m\u001b[1;32m     77\u001b[0m \u001b[0;34m\u001b[0m\u001b[0m\n\u001b[1;32m     78\u001b[0m         \u001b[0;31m# evaluate the model\u001b[0m\u001b[0;34m\u001b[0m\u001b[0;34m\u001b[0m\u001b[0;34m\u001b[0m\u001b[0m\n",
            "\u001b[0;32m<ipython-input-24-46fdd9609c68>\u001b[0m in \u001b[0;36mtrain\u001b[0;34m(model, iterator, optimizer, criterion)\u001b[0m\n\u001b[1;32m     24\u001b[0m         \u001b[0mh\u001b[0m \u001b[0;34m=\u001b[0m \u001b[0mtuple\u001b[0m\u001b[0;34m(\u001b[0m\u001b[0;34m[\u001b[0m\u001b[0meach\u001b[0m\u001b[0;34m.\u001b[0m\u001b[0mdata\u001b[0m \u001b[0;32mfor\u001b[0m \u001b[0meach\u001b[0m \u001b[0;32min\u001b[0m \u001b[0mh\u001b[0m\u001b[0;34m]\u001b[0m\u001b[0;34m)\u001b[0m\u001b[0;34m\u001b[0m\u001b[0;34m\u001b[0m\u001b[0m\n\u001b[1;32m     25\u001b[0m \u001b[0;34m\u001b[0m\u001b[0m\n\u001b[0;32m---> 26\u001b[0;31m         \u001b[0mpredictions\u001b[0m\u001b[0;34m,\u001b[0m \u001b[0mh\u001b[0m \u001b[0;34m=\u001b[0m \u001b[0mmodel\u001b[0m\u001b[0;34m(\u001b[0m\u001b[0mtext\u001b[0m\u001b[0;34m,\u001b[0m \u001b[0mtext_lengths\u001b[0m\u001b[0;34m,\u001b[0m \u001b[0mh\u001b[0m\u001b[0;34m)\u001b[0m\u001b[0;34m\u001b[0m\u001b[0;34m\u001b[0m\u001b[0m\n\u001b[0m\u001b[1;32m     27\u001b[0m         \u001b[0mloss\u001b[0m \u001b[0;34m=\u001b[0m \u001b[0mcriterion\u001b[0m\u001b[0;34m(\u001b[0m\u001b[0mpredictions\u001b[0m\u001b[0;34m,\u001b[0m \u001b[0mbatch\u001b[0m\u001b[0;34m.\u001b[0m\u001b[0mlabels\u001b[0m\u001b[0;34m.\u001b[0m\u001b[0msqueeze\u001b[0m\u001b[0;34m(\u001b[0m\u001b[0;34m)\u001b[0m\u001b[0;34m)\u001b[0m\u001b[0;34m\u001b[0m\u001b[0;34m\u001b[0m\u001b[0m\n\u001b[1;32m     28\u001b[0m \u001b[0;34m\u001b[0m\u001b[0m\n",
            "\u001b[0;32m/usr/local/lib/python3.7/dist-packages/torch/nn/modules/module.py\u001b[0m in \u001b[0;36m_call_impl\u001b[0;34m(self, *input, **kwargs)\u001b[0m\n\u001b[1;32m    887\u001b[0m             \u001b[0mresult\u001b[0m \u001b[0;34m=\u001b[0m \u001b[0mself\u001b[0m\u001b[0;34m.\u001b[0m\u001b[0m_slow_forward\u001b[0m\u001b[0;34m(\u001b[0m\u001b[0;34m*\u001b[0m\u001b[0minput\u001b[0m\u001b[0;34m,\u001b[0m \u001b[0;34m**\u001b[0m\u001b[0mkwargs\u001b[0m\u001b[0;34m)\u001b[0m\u001b[0;34m\u001b[0m\u001b[0;34m\u001b[0m\u001b[0m\n\u001b[1;32m    888\u001b[0m         \u001b[0;32melse\u001b[0m\u001b[0;34m:\u001b[0m\u001b[0;34m\u001b[0m\u001b[0;34m\u001b[0m\u001b[0m\n\u001b[0;32m--> 889\u001b[0;31m             \u001b[0mresult\u001b[0m \u001b[0;34m=\u001b[0m \u001b[0mself\u001b[0m\u001b[0;34m.\u001b[0m\u001b[0mforward\u001b[0m\u001b[0;34m(\u001b[0m\u001b[0;34m*\u001b[0m\u001b[0minput\u001b[0m\u001b[0;34m,\u001b[0m \u001b[0;34m**\u001b[0m\u001b[0mkwargs\u001b[0m\u001b[0;34m)\u001b[0m\u001b[0;34m\u001b[0m\u001b[0;34m\u001b[0m\u001b[0m\n\u001b[0m\u001b[1;32m    890\u001b[0m         for hook in itertools.chain(\n\u001b[1;32m    891\u001b[0m                 \u001b[0m_global_forward_hooks\u001b[0m\u001b[0;34m.\u001b[0m\u001b[0mvalues\u001b[0m\u001b[0;34m(\u001b[0m\u001b[0;34m)\u001b[0m\u001b[0;34m,\u001b[0m\u001b[0;34m\u001b[0m\u001b[0;34m\u001b[0m\u001b[0m\n",
            "\u001b[0;32m<ipython-input-21-9f4c40afc0f5>\u001b[0m in \u001b[0;36mforward\u001b[0;34m(self, text, text_lengths, hid)\u001b[0m\n\u001b[1;32m     36\u001b[0m         \u001b[0mpacked_embedded\u001b[0m \u001b[0;34m=\u001b[0m \u001b[0mpack_padded_sequence\u001b[0m\u001b[0;34m(\u001b[0m\u001b[0membedded\u001b[0m\u001b[0;34m,\u001b[0m \u001b[0mtext_lengths\u001b[0m\u001b[0;34m.\u001b[0m\u001b[0mcpu\u001b[0m\u001b[0;34m(\u001b[0m\u001b[0;34m)\u001b[0m\u001b[0;34m,\u001b[0m \u001b[0mbatch_first\u001b[0m\u001b[0;34m=\u001b[0m\u001b[0;32mTrue\u001b[0m\u001b[0;34m)\u001b[0m \u001b[0;31m# unpad\u001b[0m\u001b[0;34m\u001b[0m\u001b[0;34m\u001b[0m\u001b[0m\n\u001b[1;32m     37\u001b[0m \u001b[0;34m\u001b[0m\u001b[0m\n\u001b[0;32m---> 38\u001b[0;31m         \u001b[0mpacked_output\u001b[0m\u001b[0;34m,\u001b[0m \u001b[0;34m(\u001b[0m\u001b[0mhidden\u001b[0m\u001b[0;34m,\u001b[0m \u001b[0mcell\u001b[0m\u001b[0;34m)\u001b[0m \u001b[0;34m=\u001b[0m \u001b[0mself\u001b[0m\u001b[0;34m.\u001b[0m\u001b[0mlstm\u001b[0m\u001b[0;34m(\u001b[0m\u001b[0mpacked_embedded\u001b[0m\u001b[0;34m,\u001b[0m \u001b[0mhid\u001b[0m\u001b[0;34m)\u001b[0m\u001b[0;34m\u001b[0m\u001b[0;34m\u001b[0m\u001b[0m\n\u001b[0m\u001b[1;32m     39\u001b[0m         \u001b[0;31m# packed_output shape = (batch, seq_len, num_directions * hidden_size)\u001b[0m\u001b[0;34m\u001b[0m\u001b[0;34m\u001b[0m\u001b[0;34m\u001b[0m\u001b[0m\n\u001b[1;32m     40\u001b[0m         \u001b[0;31m# hidden shape  = (num_layers * num_directions, batch, hidden_size)\u001b[0m\u001b[0;34m\u001b[0m\u001b[0;34m\u001b[0m\u001b[0;34m\u001b[0m\u001b[0m\n",
            "\u001b[0;32m/usr/local/lib/python3.7/dist-packages/torch/nn/modules/module.py\u001b[0m in \u001b[0;36m_call_impl\u001b[0;34m(self, *input, **kwargs)\u001b[0m\n\u001b[1;32m    887\u001b[0m             \u001b[0mresult\u001b[0m \u001b[0;34m=\u001b[0m \u001b[0mself\u001b[0m\u001b[0;34m.\u001b[0m\u001b[0m_slow_forward\u001b[0m\u001b[0;34m(\u001b[0m\u001b[0;34m*\u001b[0m\u001b[0minput\u001b[0m\u001b[0;34m,\u001b[0m \u001b[0;34m**\u001b[0m\u001b[0mkwargs\u001b[0m\u001b[0;34m)\u001b[0m\u001b[0;34m\u001b[0m\u001b[0;34m\u001b[0m\u001b[0m\n\u001b[1;32m    888\u001b[0m         \u001b[0;32melse\u001b[0m\u001b[0;34m:\u001b[0m\u001b[0;34m\u001b[0m\u001b[0;34m\u001b[0m\u001b[0m\n\u001b[0;32m--> 889\u001b[0;31m             \u001b[0mresult\u001b[0m \u001b[0;34m=\u001b[0m \u001b[0mself\u001b[0m\u001b[0;34m.\u001b[0m\u001b[0mforward\u001b[0m\u001b[0;34m(\u001b[0m\u001b[0;34m*\u001b[0m\u001b[0minput\u001b[0m\u001b[0;34m,\u001b[0m \u001b[0;34m**\u001b[0m\u001b[0mkwargs\u001b[0m\u001b[0;34m)\u001b[0m\u001b[0;34m\u001b[0m\u001b[0;34m\u001b[0m\u001b[0m\n\u001b[0m\u001b[1;32m    890\u001b[0m         for hook in itertools.chain(\n\u001b[1;32m    891\u001b[0m                 \u001b[0m_global_forward_hooks\u001b[0m\u001b[0;34m.\u001b[0m\u001b[0mvalues\u001b[0m\u001b[0;34m(\u001b[0m\u001b[0;34m)\u001b[0m\u001b[0;34m,\u001b[0m\u001b[0;34m\u001b[0m\u001b[0;34m\u001b[0m\u001b[0m\n",
            "\u001b[0;32m/usr/local/lib/python3.7/dist-packages/torch/nn/modules/rnn.py\u001b[0m in \u001b[0;36mforward\u001b[0;34m(self, input, hx)\u001b[0m\n\u001b[1;32m    663\u001b[0m         \u001b[0;32melse\u001b[0m\u001b[0;34m:\u001b[0m\u001b[0;34m\u001b[0m\u001b[0;34m\u001b[0m\u001b[0m\n\u001b[1;32m    664\u001b[0m             result = _VF.lstm(input, batch_sizes, hx, self._flat_weights, self.bias,\n\u001b[0;32m--> 665\u001b[0;31m                               self.num_layers, self.dropout, self.training, self.bidirectional)\n\u001b[0m\u001b[1;32m    666\u001b[0m         \u001b[0moutput\u001b[0m \u001b[0;34m=\u001b[0m \u001b[0mresult\u001b[0m\u001b[0;34m[\u001b[0m\u001b[0;36m0\u001b[0m\u001b[0;34m]\u001b[0m\u001b[0;34m\u001b[0m\u001b[0;34m\u001b[0m\u001b[0m\n\u001b[1;32m    667\u001b[0m         \u001b[0mhidden\u001b[0m \u001b[0;34m=\u001b[0m \u001b[0mresult\u001b[0m\u001b[0;34m[\u001b[0m\u001b[0;36m1\u001b[0m\u001b[0;34m:\u001b[0m\u001b[0;34m]\u001b[0m\u001b[0;34m\u001b[0m\u001b[0;34m\u001b[0m\u001b[0m\n",
            "\u001b[0;31mKeyboardInterrupt\u001b[0m: "
          ]
        }
      ]
    },
    {
      "cell_type": "code",
      "metadata": {
        "colab": {
          "base_uri": "https://localhost:8080/"
        },
        "id": "zNhQggYQJrUm",
        "pycharm": {
          "name": "#%%\n"
        },
        "outputId": "4e5e31bd-0d35-4bb1-e3e9-f2f352271385"
      },
      "source": [
        "lstm_model.load_state_dict(torch.load('checkpoint/twitter.t7', map_location=device))\n",
        "# predict\n",
        "test_loss, test_acc = evaluate(lstm_model, test_iterator, loss_func)\n",
        "print(f'Test Loss: {test_loss:.3f} | Test Acc: {test_acc * 100:.2f}%')"
      ],
      "execution_count": 28,
      "outputs": [
        {
          "output_type": "stream",
          "text": [
            "Test Loss: 0.576 | Test Acc: 74.29%\n"
          ],
          "name": "stdout"
        }
      ]
    },
    {
      "cell_type": "markdown",
      "metadata": {
        "id": "QifVxbhqJrUm",
        "pycharm": {
          "name": "#%% md\n"
        }
      },
      "source": [
        "## Visualizing the model"
      ]
    },
    {
      "cell_type": "code",
      "metadata": {
        "ExecuteTime": {
          "end_time": "2021-04-04T20:11:40.665155Z",
          "start_time": "2021-04-04T20:11:40.648151Z"
        },
        "id": "gH1wMUQVJrUm",
        "pycharm": {
          "name": "#%%\n"
        }
      },
      "source": [
        "vis_data_records_ig = []\n",
        "def forward(input, text_length):\n",
        "    return F.softmax(lstm_model(input, text_length)[0])\n",
        "lig = LayerIntegratedGradients(forward, lstm_model.embedding)\n",
        "def interpret_sentence(model, sentence, min_len = max_document_length, label = 0):\n",
        "    model.train()\n",
        "    h = model.init_hidden(1)\n",
        "    h500 = model.init_hidden(500)\n",
        "    text = preprocess(sentence)\n",
        "    actual_len = len(text)\n",
        "    if len(text) < min_len:\n",
        "        text += ['<pad>'] * (min_len - len(text))\n",
        "    indexed = [Text.vocab.stoi[t] for t in text]\n",
        "\n",
        "    model.zero_grad()\n",
        "\n",
        "    input_indices = torch.tensor(indexed, device=device)\n",
        "    input_indices = input_indices.unsqueeze(0)\n",
        "    text_length = torch.tensor([actual_len], device=device)\n",
        "    # input_indices dim: [sequence_length]\n",
        "    seq_length = min_len\n",
        "\n",
        "    # predict\n",
        "    pred = F.softmax(model(input_indices, text_length, h)[0]).argmax(dim=1).item()\n",
        "    pred_ind = round(pred)\n",
        "\n",
        "    # generate reference indices for each sample\n",
        "    reference_indices = token_reference.generate_reference(seq_length, device=device).unsqueeze(0)\n",
        "\n",
        "    # compute attributions and approximation delta using layer integrated gradients\n",
        "    attributions_ig, delta = lig.attribute(input_indices, reference_indices,\n",
        "                                           n_steps=500,target=2-label, return_convergence_delta=True, additional_forward_args=text_length)\n",
        "\n",
        "    print(sentence, 'pred: ', {1:'positive', 0: 'netural', 2: 'negative'}[pred_ind], '(', '%.2f'%pred, ')', ', delta: ', abs(delta))\n",
        "\n",
        "    add_attributions_to_visualizer(attributions_ig, text, pred, pred_ind, label, delta, vis_data_records_ig)\n",
        "\n",
        "def add_attributions_to_visualizer(attributions, text, pred, pred_ind, label, delta, vis_data_records):\n",
        "    attributions = attributions.sum(dim=2).squeeze(0)\n",
        "    attributions = attributions / torch.norm(attributions)\n",
        "    attributions = attributions.cpu().detach().numpy()\n",
        "\n",
        "\n",
        "    # storing couple samples in an array for visualization purposes\n",
        "    vis_data_records.append(visualization.VisualizationDataRecord(\n",
        "        attributions,\n",
        "        pred,\n",
        "        {1:'positive', 0: 'netural', 2: 'negative'}[pred_ind],\n",
        "        {1:'positive', 0: 'netural', 2: 'negative'}[label],\n",
        "        {1:'positive', 0: 'netural', 2: 'negative'}[label],\n",
        "        attributions.sum(),\n",
        "        text,\n",
        "        delta))"
      ],
      "execution_count": 48,
      "outputs": []
    },
    {
      "cell_type": "code",
      "metadata": {
        "pycharm": {
          "name": "#%%\n"
        },
        "id": "wUrqYoqLz9ks",
        "outputId": "e4a502cc-7655-43f6-93c2-9951759137ad",
        "colab": {
          "base_uri": "https://localhost:8080/"
        }
      },
      "source": [
        "interpret_sentence(lstm_model, 'It was a fantastic performance !', label=1)\n",
        "interpret_sentence(lstm_model, 'Best film ever', label=1)\n",
        "interpret_sentence(lstm_model, 'Such a great show!', label=1)\n",
        "interpret_sentence(lstm_model, 'It was a horrible movie', label=2)\n",
        "interpret_sentence(lstm_model, 'I\\'ve never watched something as bad', label=2)\n",
        "interpret_sentence(lstm_model, 'It is a disgusting movie!', label=2)\n",
        "interpret_sentence(lstm_model, 'normal', label=0)"
      ],
      "execution_count": 53,
      "outputs": [
        {
          "output_type": "stream",
          "text": [
            "/usr/local/lib/python3.7/dist-packages/ipykernel_launcher.py:24: UserWarning: Implicit dimension choice for softmax has been deprecated. Change the call to include dim=X as an argument.\n",
            "/usr/local/lib/python3.7/dist-packages/ipykernel_launcher.py:3: UserWarning: Implicit dimension choice for softmax has been deprecated. Change the call to include dim=X as an argument.\n",
            "  This is separate from the ipykernel package so we can avoid doing imports until\n"
          ],
          "name": "stderr"
        },
        {
          "output_type": "stream",
          "text": [
            "It was a fantastic performance ! pred:  positive ( 1.00 ) , delta:  tensor([0.0249], device='cuda:0', dtype=torch.float64)\n",
            "Best film ever pred:  positive ( 1.00 ) , delta:  tensor([0.0110], device='cuda:0', dtype=torch.float64)\n",
            "Such a great show! pred:  positive ( 1.00 ) , delta:  tensor([0.1073], device='cuda:0', dtype=torch.float64)\n",
            "It was a horrible movie pred:  negative ( 2.00 ) , delta:  tensor([0.1411], device='cuda:0', dtype=torch.float64)\n",
            "I've never watched something as bad pred:  negative ( 2.00 ) , delta:  tensor([0.0352], device='cuda:0', dtype=torch.float64)\n",
            "It is a disgusting movie! pred:  negative ( 2.00 ) , delta:  tensor([0.0781], device='cuda:0', dtype=torch.float64)\n",
            "normal pred:  negative ( 2.00 ) , delta:  tensor([0.0033], device='cuda:0', dtype=torch.float64)\n"
          ],
          "name": "stdout"
        }
      ]
    },
    {
      "cell_type": "code",
      "metadata": {
        "pycharm": {
          "name": "#%%\n"
        },
        "id": "sheZvYeYz9ks",
        "outputId": "4d60eab5-2e34-4b32-ddbb-334df594647c",
        "colab": {
          "base_uri": "https://localhost:8080/",
          "height": 1000
        }
      },
      "source": [
        "_ = visualization.visualize_text(vis_data_records_ig)"
      ],
      "execution_count": 54,
      "outputs": [
        {
          "output_type": "display_data",
          "data": {
            "text/html": [
              "<table width: 100%><div style=\"border-top: 1px solid; margin-top: 5px;             padding-top: 5px; display: inline-block\"><b>Legend: </b><span style=\"display: inline-block; width: 10px; height: 10px;                 border: 1px solid; background-color:                 hsl(0, 75%, 60%)\"></span> Negative  <span style=\"display: inline-block; width: 10px; height: 10px;                 border: 1px solid; background-color:                 hsl(0, 75%, 100%)\"></span> Neutral  <span style=\"display: inline-block; width: 10px; height: 10px;                 border: 1px solid; background-color:                 hsl(120, 75%, 50%)\"></span> Positive  </div><tr><th>True Label</th><th>Predicted Label</th><th>Attribution Label</th><th>Attribution Score</th><th>Word Importance</th><tr><td><text style=\"padding-right:2em\"><b>positive</b></text></td><td><text style=\"padding-right:2em\"><b>positive (1.00)</b></text></td><td><text style=\"padding-right:2em\"><b>positive</b></text></td><td><text style=\"padding-right:2em\"><b>1.21</b></text></td><td><mark style=\"background-color: hsl(120, 75%, 95%); opacity:1.0;                     line-height:1.75\"><font color=\"black\"> it                    </font></mark><mark style=\"background-color: hsl(120, 75%, 51%); opacity:1.0;                     line-height:1.75\"><font color=\"black\"> fantast                    </font></mark><mark style=\"background-color: hsl(120, 75%, 95%); opacity:1.0;                     line-height:1.75\"><font color=\"black\"> perform                    </font></mark><mark style=\"background-color: hsl(0, 75%, 100%); opacity:1.0;                     line-height:1.75\"><font color=\"black\"> #pad                    </font></mark><mark style=\"background-color: hsl(0, 75%, 100%); opacity:1.0;                     line-height:1.75\"><font color=\"black\"> #pad                    </font></mark><mark style=\"background-color: hsl(0, 75%, 100%); opacity:1.0;                     line-height:1.75\"><font color=\"black\"> #pad                    </font></mark><mark style=\"background-color: hsl(0, 75%, 100%); opacity:1.0;                     line-height:1.75\"><font color=\"black\"> #pad                    </font></mark><mark style=\"background-color: hsl(0, 75%, 100%); opacity:1.0;                     line-height:1.75\"><font color=\"black\"> #pad                    </font></mark><mark style=\"background-color: hsl(0, 75%, 100%); opacity:1.0;                     line-height:1.75\"><font color=\"black\"> #pad                    </font></mark><mark style=\"background-color: hsl(0, 75%, 100%); opacity:1.0;                     line-height:1.75\"><font color=\"black\"> #pad                    </font></mark><mark style=\"background-color: hsl(0, 75%, 100%); opacity:1.0;                     line-height:1.75\"><font color=\"black\"> #pad                    </font></mark><mark style=\"background-color: hsl(0, 75%, 100%); opacity:1.0;                     line-height:1.75\"><font color=\"black\"> #pad                    </font></mark><mark style=\"background-color: hsl(0, 75%, 100%); opacity:1.0;                     line-height:1.75\"><font color=\"black\"> #pad                    </font></mark><mark style=\"background-color: hsl(0, 75%, 100%); opacity:1.0;                     line-height:1.75\"><font color=\"black\"> #pad                    </font></mark><mark style=\"background-color: hsl(0, 75%, 100%); opacity:1.0;                     line-height:1.75\"><font color=\"black\"> #pad                    </font></mark><mark style=\"background-color: hsl(0, 75%, 100%); opacity:1.0;                     line-height:1.75\"><font color=\"black\"> #pad                    </font></mark><mark style=\"background-color: hsl(0, 75%, 100%); opacity:1.0;                     line-height:1.75\"><font color=\"black\"> #pad                    </font></mark><mark style=\"background-color: hsl(0, 75%, 100%); opacity:1.0;                     line-height:1.75\"><font color=\"black\"> #pad                    </font></mark><mark style=\"background-color: hsl(0, 75%, 100%); opacity:1.0;                     line-height:1.75\"><font color=\"black\"> #pad                    </font></mark><mark style=\"background-color: hsl(0, 75%, 100%); opacity:1.0;                     line-height:1.75\"><font color=\"black\"> #pad                    </font></mark><mark style=\"background-color: hsl(0, 75%, 100%); opacity:1.0;                     line-height:1.75\"><font color=\"black\"> #pad                    </font></mark><mark style=\"background-color: hsl(0, 75%, 100%); opacity:1.0;                     line-height:1.75\"><font color=\"black\"> #pad                    </font></mark><mark style=\"background-color: hsl(0, 75%, 100%); opacity:1.0;                     line-height:1.75\"><font color=\"black\"> #pad                    </font></mark></td><tr><tr><td><text style=\"padding-right:2em\"><b>positive</b></text></td><td><text style=\"padding-right:2em\"><b>positive (1.00)</b></text></td><td><text style=\"padding-right:2em\"><b>positive</b></text></td><td><text style=\"padding-right:2em\"><b>0.74</b></text></td><td><mark style=\"background-color: hsl(120, 75%, 52%); opacity:1.0;                     line-height:1.75\"><font color=\"black\"> best                    </font></mark><mark style=\"background-color: hsl(0, 75%, 91%); opacity:1.0;                     line-height:1.75\"><font color=\"black\"> film                    </font></mark><mark style=\"background-color: hsl(0, 75%, 100%); opacity:1.0;                     line-height:1.75\"><font color=\"black\"> #pad                    </font></mark><mark style=\"background-color: hsl(0, 75%, 100%); opacity:1.0;                     line-height:1.75\"><font color=\"black\"> #pad                    </font></mark><mark style=\"background-color: hsl(0, 75%, 100%); opacity:1.0;                     line-height:1.75\"><font color=\"black\"> #pad                    </font></mark><mark style=\"background-color: hsl(0, 75%, 100%); opacity:1.0;                     line-height:1.75\"><font color=\"black\"> #pad                    </font></mark><mark style=\"background-color: hsl(0, 75%, 100%); opacity:1.0;                     line-height:1.75\"><font color=\"black\"> #pad                    </font></mark><mark style=\"background-color: hsl(0, 75%, 100%); opacity:1.0;                     line-height:1.75\"><font color=\"black\"> #pad                    </font></mark><mark style=\"background-color: hsl(0, 75%, 100%); opacity:1.0;                     line-height:1.75\"><font color=\"black\"> #pad                    </font></mark><mark style=\"background-color: hsl(0, 75%, 100%); opacity:1.0;                     line-height:1.75\"><font color=\"black\"> #pad                    </font></mark><mark style=\"background-color: hsl(0, 75%, 100%); opacity:1.0;                     line-height:1.75\"><font color=\"black\"> #pad                    </font></mark><mark style=\"background-color: hsl(0, 75%, 100%); opacity:1.0;                     line-height:1.75\"><font color=\"black\"> #pad                    </font></mark><mark style=\"background-color: hsl(0, 75%, 100%); opacity:1.0;                     line-height:1.75\"><font color=\"black\"> #pad                    </font></mark><mark style=\"background-color: hsl(0, 75%, 100%); opacity:1.0;                     line-height:1.75\"><font color=\"black\"> #pad                    </font></mark><mark style=\"background-color: hsl(0, 75%, 100%); opacity:1.0;                     line-height:1.75\"><font color=\"black\"> #pad                    </font></mark><mark style=\"background-color: hsl(0, 75%, 100%); opacity:1.0;                     line-height:1.75\"><font color=\"black\"> #pad                    </font></mark><mark style=\"background-color: hsl(0, 75%, 100%); opacity:1.0;                     line-height:1.75\"><font color=\"black\"> #pad                    </font></mark><mark style=\"background-color: hsl(0, 75%, 100%); opacity:1.0;                     line-height:1.75\"><font color=\"black\"> #pad                    </font></mark><mark style=\"background-color: hsl(0, 75%, 100%); opacity:1.0;                     line-height:1.75\"><font color=\"black\"> #pad                    </font></mark><mark style=\"background-color: hsl(0, 75%, 100%); opacity:1.0;                     line-height:1.75\"><font color=\"black\"> #pad                    </font></mark><mark style=\"background-color: hsl(0, 75%, 100%); opacity:1.0;                     line-height:1.75\"><font color=\"black\"> #pad                    </font></mark><mark style=\"background-color: hsl(0, 75%, 100%); opacity:1.0;                     line-height:1.75\"><font color=\"black\"> #pad                    </font></mark><mark style=\"background-color: hsl(0, 75%, 100%); opacity:1.0;                     line-height:1.75\"><font color=\"black\"> #pad                    </font></mark></td><tr><tr><td><text style=\"padding-right:2em\"><b>positive</b></text></td><td><text style=\"padding-right:2em\"><b>positive (1.00)</b></text></td><td><text style=\"padding-right:2em\"><b>positive</b></text></td><td><text style=\"padding-right:2em\"><b>0.69</b></text></td><td><mark style=\"background-color: hsl(0, 75%, 93%); opacity:1.0;                     line-height:1.75\"><font color=\"black\"> such                    </font></mark><mark style=\"background-color: hsl(120, 75%, 52%); opacity:1.0;                     line-height:1.75\"><font color=\"black\"> great                    </font></mark><mark style=\"background-color: hsl(0, 75%, 97%); opacity:1.0;                     line-height:1.75\"><font color=\"black\"> show                    </font></mark><mark style=\"background-color: hsl(0, 75%, 100%); opacity:1.0;                     line-height:1.75\"><font color=\"black\"> #pad                    </font></mark><mark style=\"background-color: hsl(0, 75%, 100%); opacity:1.0;                     line-height:1.75\"><font color=\"black\"> #pad                    </font></mark><mark style=\"background-color: hsl(0, 75%, 100%); opacity:1.0;                     line-height:1.75\"><font color=\"black\"> #pad                    </font></mark><mark style=\"background-color: hsl(0, 75%, 100%); opacity:1.0;                     line-height:1.75\"><font color=\"black\"> #pad                    </font></mark><mark style=\"background-color: hsl(0, 75%, 100%); opacity:1.0;                     line-height:1.75\"><font color=\"black\"> #pad                    </font></mark><mark style=\"background-color: hsl(0, 75%, 100%); opacity:1.0;                     line-height:1.75\"><font color=\"black\"> #pad                    </font></mark><mark style=\"background-color: hsl(0, 75%, 100%); opacity:1.0;                     line-height:1.75\"><font color=\"black\"> #pad                    </font></mark><mark style=\"background-color: hsl(0, 75%, 100%); opacity:1.0;                     line-height:1.75\"><font color=\"black\"> #pad                    </font></mark><mark style=\"background-color: hsl(0, 75%, 100%); opacity:1.0;                     line-height:1.75\"><font color=\"black\"> #pad                    </font></mark><mark style=\"background-color: hsl(0, 75%, 100%); opacity:1.0;                     line-height:1.75\"><font color=\"black\"> #pad                    </font></mark><mark style=\"background-color: hsl(0, 75%, 100%); opacity:1.0;                     line-height:1.75\"><font color=\"black\"> #pad                    </font></mark><mark style=\"background-color: hsl(0, 75%, 100%); opacity:1.0;                     line-height:1.75\"><font color=\"black\"> #pad                    </font></mark><mark style=\"background-color: hsl(0, 75%, 100%); opacity:1.0;                     line-height:1.75\"><font color=\"black\"> #pad                    </font></mark><mark style=\"background-color: hsl(0, 75%, 100%); opacity:1.0;                     line-height:1.75\"><font color=\"black\"> #pad                    </font></mark><mark style=\"background-color: hsl(0, 75%, 100%); opacity:1.0;                     line-height:1.75\"><font color=\"black\"> #pad                    </font></mark><mark style=\"background-color: hsl(0, 75%, 100%); opacity:1.0;                     line-height:1.75\"><font color=\"black\"> #pad                    </font></mark><mark style=\"background-color: hsl(0, 75%, 100%); opacity:1.0;                     line-height:1.75\"><font color=\"black\"> #pad                    </font></mark><mark style=\"background-color: hsl(0, 75%, 100%); opacity:1.0;                     line-height:1.75\"><font color=\"black\"> #pad                    </font></mark><mark style=\"background-color: hsl(0, 75%, 100%); opacity:1.0;                     line-height:1.75\"><font color=\"black\"> #pad                    </font></mark><mark style=\"background-color: hsl(0, 75%, 100%); opacity:1.0;                     line-height:1.75\"><font color=\"black\"> #pad                    </font></mark></td><tr><tr><td><text style=\"padding-right:2em\"><b>negative</b></text></td><td><text style=\"padding-right:2em\"><b>negative (2.00)</b></text></td><td><text style=\"padding-right:2em\"><b>negative</b></text></td><td><text style=\"padding-right:2em\"><b>-1.59</b></text></td><td><mark style=\"background-color: hsl(0, 75%, 92%); opacity:1.0;                     line-height:1.75\"><font color=\"black\"> it                    </font></mark><mark style=\"background-color: hsl(0, 75%, 70%); opacity:1.0;                     line-height:1.75\"><font color=\"black\"> horribl                    </font></mark><mark style=\"background-color: hsl(0, 75%, 76%); opacity:1.0;                     line-height:1.75\"><font color=\"black\"> movi                    </font></mark><mark style=\"background-color: hsl(0, 75%, 100%); opacity:1.0;                     line-height:1.75\"><font color=\"black\"> #pad                    </font></mark><mark style=\"background-color: hsl(0, 75%, 100%); opacity:1.0;                     line-height:1.75\"><font color=\"black\"> #pad                    </font></mark><mark style=\"background-color: hsl(0, 75%, 100%); opacity:1.0;                     line-height:1.75\"><font color=\"black\"> #pad                    </font></mark><mark style=\"background-color: hsl(0, 75%, 100%); opacity:1.0;                     line-height:1.75\"><font color=\"black\"> #pad                    </font></mark><mark style=\"background-color: hsl(0, 75%, 100%); opacity:1.0;                     line-height:1.75\"><font color=\"black\"> #pad                    </font></mark><mark style=\"background-color: hsl(0, 75%, 100%); opacity:1.0;                     line-height:1.75\"><font color=\"black\"> #pad                    </font></mark><mark style=\"background-color: hsl(0, 75%, 100%); opacity:1.0;                     line-height:1.75\"><font color=\"black\"> #pad                    </font></mark><mark style=\"background-color: hsl(0, 75%, 100%); opacity:1.0;                     line-height:1.75\"><font color=\"black\"> #pad                    </font></mark><mark style=\"background-color: hsl(0, 75%, 100%); opacity:1.0;                     line-height:1.75\"><font color=\"black\"> #pad                    </font></mark><mark style=\"background-color: hsl(0, 75%, 100%); opacity:1.0;                     line-height:1.75\"><font color=\"black\"> #pad                    </font></mark><mark style=\"background-color: hsl(0, 75%, 100%); opacity:1.0;                     line-height:1.75\"><font color=\"black\"> #pad                    </font></mark><mark style=\"background-color: hsl(0, 75%, 100%); opacity:1.0;                     line-height:1.75\"><font color=\"black\"> #pad                    </font></mark><mark style=\"background-color: hsl(0, 75%, 100%); opacity:1.0;                     line-height:1.75\"><font color=\"black\"> #pad                    </font></mark><mark style=\"background-color: hsl(0, 75%, 100%); opacity:1.0;                     line-height:1.75\"><font color=\"black\"> #pad                    </font></mark><mark style=\"background-color: hsl(0, 75%, 100%); opacity:1.0;                     line-height:1.75\"><font color=\"black\"> #pad                    </font></mark><mark style=\"background-color: hsl(0, 75%, 100%); opacity:1.0;                     line-height:1.75\"><font color=\"black\"> #pad                    </font></mark><mark style=\"background-color: hsl(0, 75%, 100%); opacity:1.0;                     line-height:1.75\"><font color=\"black\"> #pad                    </font></mark><mark style=\"background-color: hsl(0, 75%, 100%); opacity:1.0;                     line-height:1.75\"><font color=\"black\"> #pad                    </font></mark><mark style=\"background-color: hsl(0, 75%, 100%); opacity:1.0;                     line-height:1.75\"><font color=\"black\"> #pad                    </font></mark><mark style=\"background-color: hsl(0, 75%, 100%); opacity:1.0;                     line-height:1.75\"><font color=\"black\"> #pad                    </font></mark></td><tr><tr><td><text style=\"padding-right:2em\"><b>negative</b></text></td><td><text style=\"padding-right:2em\"><b>negative (2.00)</b></text></td><td><text style=\"padding-right:2em\"><b>negative</b></text></td><td><text style=\"padding-right:2em\"><b>-0.96</b></text></td><td><mark style=\"background-color: hsl(120, 75%, 100%); opacity:1.0;                     line-height:1.75\"><font color=\"black\"> ve                    </font></mark><mark style=\"background-color: hsl(120, 75%, 99%); opacity:1.0;                     line-height:1.75\"><font color=\"black\"> watch                    </font></mark><mark style=\"background-color: hsl(0, 75%, 61%); opacity:1.0;                     line-height:1.75\"><font color=\"black\"> bad                    </font></mark><mark style=\"background-color: hsl(0, 75%, 100%); opacity:1.0;                     line-height:1.75\"><font color=\"black\"> #pad                    </font></mark><mark style=\"background-color: hsl(0, 75%, 100%); opacity:1.0;                     line-height:1.75\"><font color=\"black\"> #pad                    </font></mark><mark style=\"background-color: hsl(0, 75%, 100%); opacity:1.0;                     line-height:1.75\"><font color=\"black\"> #pad                    </font></mark><mark style=\"background-color: hsl(0, 75%, 100%); opacity:1.0;                     line-height:1.75\"><font color=\"black\"> #pad                    </font></mark><mark style=\"background-color: hsl(0, 75%, 100%); opacity:1.0;                     line-height:1.75\"><font color=\"black\"> #pad                    </font></mark><mark style=\"background-color: hsl(0, 75%, 100%); opacity:1.0;                     line-height:1.75\"><font color=\"black\"> #pad                    </font></mark><mark style=\"background-color: hsl(0, 75%, 100%); opacity:1.0;                     line-height:1.75\"><font color=\"black\"> #pad                    </font></mark><mark style=\"background-color: hsl(0, 75%, 100%); opacity:1.0;                     line-height:1.75\"><font color=\"black\"> #pad                    </font></mark><mark style=\"background-color: hsl(0, 75%, 100%); opacity:1.0;                     line-height:1.75\"><font color=\"black\"> #pad                    </font></mark><mark style=\"background-color: hsl(0, 75%, 100%); opacity:1.0;                     line-height:1.75\"><font color=\"black\"> #pad                    </font></mark><mark style=\"background-color: hsl(0, 75%, 100%); opacity:1.0;                     line-height:1.75\"><font color=\"black\"> #pad                    </font></mark><mark style=\"background-color: hsl(0, 75%, 100%); opacity:1.0;                     line-height:1.75\"><font color=\"black\"> #pad                    </font></mark><mark style=\"background-color: hsl(0, 75%, 100%); opacity:1.0;                     line-height:1.75\"><font color=\"black\"> #pad                    </font></mark><mark style=\"background-color: hsl(0, 75%, 100%); opacity:1.0;                     line-height:1.75\"><font color=\"black\"> #pad                    </font></mark><mark style=\"background-color: hsl(0, 75%, 100%); opacity:1.0;                     line-height:1.75\"><font color=\"black\"> #pad                    </font></mark><mark style=\"background-color: hsl(0, 75%, 100%); opacity:1.0;                     line-height:1.75\"><font color=\"black\"> #pad                    </font></mark><mark style=\"background-color: hsl(0, 75%, 100%); opacity:1.0;                     line-height:1.75\"><font color=\"black\"> #pad                    </font></mark><mark style=\"background-color: hsl(0, 75%, 100%); opacity:1.0;                     line-height:1.75\"><font color=\"black\"> #pad                    </font></mark><mark style=\"background-color: hsl(0, 75%, 100%); opacity:1.0;                     line-height:1.75\"><font color=\"black\"> #pad                    </font></mark><mark style=\"background-color: hsl(0, 75%, 100%); opacity:1.0;                     line-height:1.75\"><font color=\"black\"> #pad                    </font></mark></td><tr><tr><td><text style=\"padding-right:2em\"><b>negative</b></text></td><td><text style=\"padding-right:2em\"><b>negative (2.00)</b></text></td><td><text style=\"padding-right:2em\"><b>negative</b></text></td><td><text style=\"padding-right:2em\"><b>-1.59</b></text></td><td><mark style=\"background-color: hsl(0, 75%, 91%); opacity:1.0;                     line-height:1.75\"><font color=\"black\"> it                    </font></mark><mark style=\"background-color: hsl(0, 75%, 68%); opacity:1.0;                     line-height:1.75\"><font color=\"black\"> disgust                    </font></mark><mark style=\"background-color: hsl(0, 75%, 79%); opacity:1.0;                     line-height:1.75\"><font color=\"black\"> movi                    </font></mark><mark style=\"background-color: hsl(0, 75%, 100%); opacity:1.0;                     line-height:1.75\"><font color=\"black\"> #pad                    </font></mark><mark style=\"background-color: hsl(0, 75%, 100%); opacity:1.0;                     line-height:1.75\"><font color=\"black\"> #pad                    </font></mark><mark style=\"background-color: hsl(0, 75%, 100%); opacity:1.0;                     line-height:1.75\"><font color=\"black\"> #pad                    </font></mark><mark style=\"background-color: hsl(0, 75%, 100%); opacity:1.0;                     line-height:1.75\"><font color=\"black\"> #pad                    </font></mark><mark style=\"background-color: hsl(0, 75%, 100%); opacity:1.0;                     line-height:1.75\"><font color=\"black\"> #pad                    </font></mark><mark style=\"background-color: hsl(0, 75%, 100%); opacity:1.0;                     line-height:1.75\"><font color=\"black\"> #pad                    </font></mark><mark style=\"background-color: hsl(0, 75%, 100%); opacity:1.0;                     line-height:1.75\"><font color=\"black\"> #pad                    </font></mark><mark style=\"background-color: hsl(0, 75%, 100%); opacity:1.0;                     line-height:1.75\"><font color=\"black\"> #pad                    </font></mark><mark style=\"background-color: hsl(0, 75%, 100%); opacity:1.0;                     line-height:1.75\"><font color=\"black\"> #pad                    </font></mark><mark style=\"background-color: hsl(0, 75%, 100%); opacity:1.0;                     line-height:1.75\"><font color=\"black\"> #pad                    </font></mark><mark style=\"background-color: hsl(0, 75%, 100%); opacity:1.0;                     line-height:1.75\"><font color=\"black\"> #pad                    </font></mark><mark style=\"background-color: hsl(0, 75%, 100%); opacity:1.0;                     line-height:1.75\"><font color=\"black\"> #pad                    </font></mark><mark style=\"background-color: hsl(0, 75%, 100%); opacity:1.0;                     line-height:1.75\"><font color=\"black\"> #pad                    </font></mark><mark style=\"background-color: hsl(0, 75%, 100%); opacity:1.0;                     line-height:1.75\"><font color=\"black\"> #pad                    </font></mark><mark style=\"background-color: hsl(0, 75%, 100%); opacity:1.0;                     line-height:1.75\"><font color=\"black\"> #pad                    </font></mark><mark style=\"background-color: hsl(0, 75%, 100%); opacity:1.0;                     line-height:1.75\"><font color=\"black\"> #pad                    </font></mark><mark style=\"background-color: hsl(0, 75%, 100%); opacity:1.0;                     line-height:1.75\"><font color=\"black\"> #pad                    </font></mark><mark style=\"background-color: hsl(0, 75%, 100%); opacity:1.0;                     line-height:1.75\"><font color=\"black\"> #pad                    </font></mark><mark style=\"background-color: hsl(0, 75%, 100%); opacity:1.0;                     line-height:1.75\"><font color=\"black\"> #pad                    </font></mark><mark style=\"background-color: hsl(0, 75%, 100%); opacity:1.0;                     line-height:1.75\"><font color=\"black\"> #pad                    </font></mark></td><tr><tr><td><text style=\"padding-right:2em\"><b>netural</b></text></td><td><text style=\"padding-right:2em\"><b>netural (0.00)</b></text></td><td><text style=\"padding-right:2em\"><b>netural</b></text></td><td><text style=\"padding-right:2em\"><b>1.00</b></text></td><td><mark style=\"background-color: hsl(120, 75%, 50%); opacity:1.0;                     line-height:1.75\"><font color=\"black\"> normal                    </font></mark><mark style=\"background-color: hsl(0, 75%, 100%); opacity:1.0;                     line-height:1.75\"><font color=\"black\"> #pad                    </font></mark><mark style=\"background-color: hsl(0, 75%, 100%); opacity:1.0;                     line-height:1.75\"><font color=\"black\"> #pad                    </font></mark><mark style=\"background-color: hsl(0, 75%, 100%); opacity:1.0;                     line-height:1.75\"><font color=\"black\"> #pad                    </font></mark><mark style=\"background-color: hsl(0, 75%, 100%); opacity:1.0;                     line-height:1.75\"><font color=\"black\"> #pad                    </font></mark><mark style=\"background-color: hsl(0, 75%, 100%); opacity:1.0;                     line-height:1.75\"><font color=\"black\"> #pad                    </font></mark><mark style=\"background-color: hsl(0, 75%, 100%); opacity:1.0;                     line-height:1.75\"><font color=\"black\"> #pad                    </font></mark><mark style=\"background-color: hsl(0, 75%, 100%); opacity:1.0;                     line-height:1.75\"><font color=\"black\"> #pad                    </font></mark><mark style=\"background-color: hsl(0, 75%, 100%); opacity:1.0;                     line-height:1.75\"><font color=\"black\"> #pad                    </font></mark><mark style=\"background-color: hsl(0, 75%, 100%); opacity:1.0;                     line-height:1.75\"><font color=\"black\"> #pad                    </font></mark><mark style=\"background-color: hsl(0, 75%, 100%); opacity:1.0;                     line-height:1.75\"><font color=\"black\"> #pad                    </font></mark><mark style=\"background-color: hsl(0, 75%, 100%); opacity:1.0;                     line-height:1.75\"><font color=\"black\"> #pad                    </font></mark><mark style=\"background-color: hsl(0, 75%, 100%); opacity:1.0;                     line-height:1.75\"><font color=\"black\"> #pad                    </font></mark><mark style=\"background-color: hsl(0, 75%, 100%); opacity:1.0;                     line-height:1.75\"><font color=\"black\"> #pad                    </font></mark><mark style=\"background-color: hsl(0, 75%, 100%); opacity:1.0;                     line-height:1.75\"><font color=\"black\"> #pad                    </font></mark><mark style=\"background-color: hsl(0, 75%, 100%); opacity:1.0;                     line-height:1.75\"><font color=\"black\"> #pad                    </font></mark><mark style=\"background-color: hsl(0, 75%, 100%); opacity:1.0;                     line-height:1.75\"><font color=\"black\"> #pad                    </font></mark><mark style=\"background-color: hsl(0, 75%, 100%); opacity:1.0;                     line-height:1.75\"><font color=\"black\"> #pad                    </font></mark><mark style=\"background-color: hsl(0, 75%, 100%); opacity:1.0;                     line-height:1.75\"><font color=\"black\"> #pad                    </font></mark><mark style=\"background-color: hsl(0, 75%, 100%); opacity:1.0;                     line-height:1.75\"><font color=\"black\"> #pad                    </font></mark><mark style=\"background-color: hsl(0, 75%, 100%); opacity:1.0;                     line-height:1.75\"><font color=\"black\"> #pad                    </font></mark><mark style=\"background-color: hsl(0, 75%, 100%); opacity:1.0;                     line-height:1.75\"><font color=\"black\"> #pad                    </font></mark><mark style=\"background-color: hsl(0, 75%, 100%); opacity:1.0;                     line-height:1.75\"><font color=\"black\"> #pad                    </font></mark></td><tr><tr><td><text style=\"padding-right:2em\"><b>positive</b></text></td><td><text style=\"padding-right:2em\"><b>positive (1.00)</b></text></td><td><text style=\"padding-right:2em\"><b>positive</b></text></td><td><text style=\"padding-right:2em\"><b>1.20</b></text></td><td><mark style=\"background-color: hsl(120, 75%, 95%); opacity:1.0;                     line-height:1.75\"><font color=\"black\"> it                    </font></mark><mark style=\"background-color: hsl(120, 75%, 51%); opacity:1.0;                     line-height:1.75\"><font color=\"black\"> fantast                    </font></mark><mark style=\"background-color: hsl(120, 75%, 95%); opacity:1.0;                     line-height:1.75\"><font color=\"black\"> perform                    </font></mark><mark style=\"background-color: hsl(0, 75%, 100%); opacity:1.0;                     line-height:1.75\"><font color=\"black\"> #pad                    </font></mark><mark style=\"background-color: hsl(0, 75%, 100%); opacity:1.0;                     line-height:1.75\"><font color=\"black\"> #pad                    </font></mark><mark style=\"background-color: hsl(0, 75%, 100%); opacity:1.0;                     line-height:1.75\"><font color=\"black\"> #pad                    </font></mark><mark style=\"background-color: hsl(0, 75%, 100%); opacity:1.0;                     line-height:1.75\"><font color=\"black\"> #pad                    </font></mark><mark style=\"background-color: hsl(0, 75%, 100%); opacity:1.0;                     line-height:1.75\"><font color=\"black\"> #pad                    </font></mark><mark style=\"background-color: hsl(0, 75%, 100%); opacity:1.0;                     line-height:1.75\"><font color=\"black\"> #pad                    </font></mark><mark style=\"background-color: hsl(0, 75%, 100%); opacity:1.0;                     line-height:1.75\"><font color=\"black\"> #pad                    </font></mark><mark style=\"background-color: hsl(0, 75%, 100%); opacity:1.0;                     line-height:1.75\"><font color=\"black\"> #pad                    </font></mark><mark style=\"background-color: hsl(0, 75%, 100%); opacity:1.0;                     line-height:1.75\"><font color=\"black\"> #pad                    </font></mark><mark style=\"background-color: hsl(0, 75%, 100%); opacity:1.0;                     line-height:1.75\"><font color=\"black\"> #pad                    </font></mark><mark style=\"background-color: hsl(0, 75%, 100%); opacity:1.0;                     line-height:1.75\"><font color=\"black\"> #pad                    </font></mark><mark style=\"background-color: hsl(0, 75%, 100%); opacity:1.0;                     line-height:1.75\"><font color=\"black\"> #pad                    </font></mark><mark style=\"background-color: hsl(0, 75%, 100%); opacity:1.0;                     line-height:1.75\"><font color=\"black\"> #pad                    </font></mark><mark style=\"background-color: hsl(0, 75%, 100%); opacity:1.0;                     line-height:1.75\"><font color=\"black\"> #pad                    </font></mark><mark style=\"background-color: hsl(0, 75%, 100%); opacity:1.0;                     line-height:1.75\"><font color=\"black\"> #pad                    </font></mark><mark style=\"background-color: hsl(0, 75%, 100%); opacity:1.0;                     line-height:1.75\"><font color=\"black\"> #pad                    </font></mark><mark style=\"background-color: hsl(0, 75%, 100%); opacity:1.0;                     line-height:1.75\"><font color=\"black\"> #pad                    </font></mark><mark style=\"background-color: hsl(0, 75%, 100%); opacity:1.0;                     line-height:1.75\"><font color=\"black\"> #pad                    </font></mark><mark style=\"background-color: hsl(0, 75%, 100%); opacity:1.0;                     line-height:1.75\"><font color=\"black\"> #pad                    </font></mark><mark style=\"background-color: hsl(0, 75%, 100%); opacity:1.0;                     line-height:1.75\"><font color=\"black\"> #pad                    </font></mark></td><tr><tr><td><text style=\"padding-right:2em\"><b>positive</b></text></td><td><text style=\"padding-right:2em\"><b>positive (1.00)</b></text></td><td><text style=\"padding-right:2em\"><b>positive</b></text></td><td><text style=\"padding-right:2em\"><b>0.74</b></text></td><td><mark style=\"background-color: hsl(120, 75%, 52%); opacity:1.0;                     line-height:1.75\"><font color=\"black\"> best                    </font></mark><mark style=\"background-color: hsl(0, 75%, 91%); opacity:1.0;                     line-height:1.75\"><font color=\"black\"> film                    </font></mark><mark style=\"background-color: hsl(0, 75%, 100%); opacity:1.0;                     line-height:1.75\"><font color=\"black\"> #pad                    </font></mark><mark style=\"background-color: hsl(0, 75%, 100%); opacity:1.0;                     line-height:1.75\"><font color=\"black\"> #pad                    </font></mark><mark style=\"background-color: hsl(0, 75%, 100%); opacity:1.0;                     line-height:1.75\"><font color=\"black\"> #pad                    </font></mark><mark style=\"background-color: hsl(0, 75%, 100%); opacity:1.0;                     line-height:1.75\"><font color=\"black\"> #pad                    </font></mark><mark style=\"background-color: hsl(0, 75%, 100%); opacity:1.0;                     line-height:1.75\"><font color=\"black\"> #pad                    </font></mark><mark style=\"background-color: hsl(0, 75%, 100%); opacity:1.0;                     line-height:1.75\"><font color=\"black\"> #pad                    </font></mark><mark style=\"background-color: hsl(0, 75%, 100%); opacity:1.0;                     line-height:1.75\"><font color=\"black\"> #pad                    </font></mark><mark style=\"background-color: hsl(0, 75%, 100%); opacity:1.0;                     line-height:1.75\"><font color=\"black\"> #pad                    </font></mark><mark style=\"background-color: hsl(0, 75%, 100%); opacity:1.0;                     line-height:1.75\"><font color=\"black\"> #pad                    </font></mark><mark style=\"background-color: hsl(0, 75%, 100%); opacity:1.0;                     line-height:1.75\"><font color=\"black\"> #pad                    </font></mark><mark style=\"background-color: hsl(0, 75%, 100%); opacity:1.0;                     line-height:1.75\"><font color=\"black\"> #pad                    </font></mark><mark style=\"background-color: hsl(0, 75%, 100%); opacity:1.0;                     line-height:1.75\"><font color=\"black\"> #pad                    </font></mark><mark style=\"background-color: hsl(0, 75%, 100%); opacity:1.0;                     line-height:1.75\"><font color=\"black\"> #pad                    </font></mark><mark style=\"background-color: hsl(0, 75%, 100%); opacity:1.0;                     line-height:1.75\"><font color=\"black\"> #pad                    </font></mark><mark style=\"background-color: hsl(0, 75%, 100%); opacity:1.0;                     line-height:1.75\"><font color=\"black\"> #pad                    </font></mark><mark style=\"background-color: hsl(0, 75%, 100%); opacity:1.0;                     line-height:1.75\"><font color=\"black\"> #pad                    </font></mark><mark style=\"background-color: hsl(0, 75%, 100%); opacity:1.0;                     line-height:1.75\"><font color=\"black\"> #pad                    </font></mark><mark style=\"background-color: hsl(0, 75%, 100%); opacity:1.0;                     line-height:1.75\"><font color=\"black\"> #pad                    </font></mark><mark style=\"background-color: hsl(0, 75%, 100%); opacity:1.0;                     line-height:1.75\"><font color=\"black\"> #pad                    </font></mark><mark style=\"background-color: hsl(0, 75%, 100%); opacity:1.0;                     line-height:1.75\"><font color=\"black\"> #pad                    </font></mark><mark style=\"background-color: hsl(0, 75%, 100%); opacity:1.0;                     line-height:1.75\"><font color=\"black\"> #pad                    </font></mark></td><tr><tr><td><text style=\"padding-right:2em\"><b>positive</b></text></td><td><text style=\"padding-right:2em\"><b>positive (1.00)</b></text></td><td><text style=\"padding-right:2em\"><b>positive</b></text></td><td><text style=\"padding-right:2em\"><b>0.71</b></text></td><td><mark style=\"background-color: hsl(0, 75%, 93%); opacity:1.0;                     line-height:1.75\"><font color=\"black\"> such                    </font></mark><mark style=\"background-color: hsl(120, 75%, 52%); opacity:1.0;                     line-height:1.75\"><font color=\"black\"> great                    </font></mark><mark style=\"background-color: hsl(0, 75%, 97%); opacity:1.0;                     line-height:1.75\"><font color=\"black\"> show                    </font></mark><mark style=\"background-color: hsl(0, 75%, 100%); opacity:1.0;                     line-height:1.75\"><font color=\"black\"> #pad                    </font></mark><mark style=\"background-color: hsl(0, 75%, 100%); opacity:1.0;                     line-height:1.75\"><font color=\"black\"> #pad                    </font></mark><mark style=\"background-color: hsl(0, 75%, 100%); opacity:1.0;                     line-height:1.75\"><font color=\"black\"> #pad                    </font></mark><mark style=\"background-color: hsl(0, 75%, 100%); opacity:1.0;                     line-height:1.75\"><font color=\"black\"> #pad                    </font></mark><mark style=\"background-color: hsl(0, 75%, 100%); opacity:1.0;                     line-height:1.75\"><font color=\"black\"> #pad                    </font></mark><mark style=\"background-color: hsl(0, 75%, 100%); opacity:1.0;                     line-height:1.75\"><font color=\"black\"> #pad                    </font></mark><mark style=\"background-color: hsl(0, 75%, 100%); opacity:1.0;                     line-height:1.75\"><font color=\"black\"> #pad                    </font></mark><mark style=\"background-color: hsl(0, 75%, 100%); opacity:1.0;                     line-height:1.75\"><font color=\"black\"> #pad                    </font></mark><mark style=\"background-color: hsl(0, 75%, 100%); opacity:1.0;                     line-height:1.75\"><font color=\"black\"> #pad                    </font></mark><mark style=\"background-color: hsl(0, 75%, 100%); opacity:1.0;                     line-height:1.75\"><font color=\"black\"> #pad                    </font></mark><mark style=\"background-color: hsl(0, 75%, 100%); opacity:1.0;                     line-height:1.75\"><font color=\"black\"> #pad                    </font></mark><mark style=\"background-color: hsl(0, 75%, 100%); opacity:1.0;                     line-height:1.75\"><font color=\"black\"> #pad                    </font></mark><mark style=\"background-color: hsl(0, 75%, 100%); opacity:1.0;                     line-height:1.75\"><font color=\"black\"> #pad                    </font></mark><mark style=\"background-color: hsl(0, 75%, 100%); opacity:1.0;                     line-height:1.75\"><font color=\"black\"> #pad                    </font></mark><mark style=\"background-color: hsl(0, 75%, 100%); opacity:1.0;                     line-height:1.75\"><font color=\"black\"> #pad                    </font></mark><mark style=\"background-color: hsl(0, 75%, 100%); opacity:1.0;                     line-height:1.75\"><font color=\"black\"> #pad                    </font></mark><mark style=\"background-color: hsl(0, 75%, 100%); opacity:1.0;                     line-height:1.75\"><font color=\"black\"> #pad                    </font></mark><mark style=\"background-color: hsl(0, 75%, 100%); opacity:1.0;                     line-height:1.75\"><font color=\"black\"> #pad                    </font></mark><mark style=\"background-color: hsl(0, 75%, 100%); opacity:1.0;                     line-height:1.75\"><font color=\"black\"> #pad                    </font></mark><mark style=\"background-color: hsl(0, 75%, 100%); opacity:1.0;                     line-height:1.75\"><font color=\"black\"> #pad                    </font></mark></td><tr><tr><td><text style=\"padding-right:2em\"><b>negative</b></text></td><td><text style=\"padding-right:2em\"><b>negative (2.00)</b></text></td><td><text style=\"padding-right:2em\"><b>negative</b></text></td><td><text style=\"padding-right:2em\"><b>-1.57</b></text></td><td><mark style=\"background-color: hsl(0, 75%, 93%); opacity:1.0;                     line-height:1.75\"><font color=\"black\"> it                    </font></mark><mark style=\"background-color: hsl(0, 75%, 70%); opacity:1.0;                     line-height:1.75\"><font color=\"black\"> horribl                    </font></mark><mark style=\"background-color: hsl(0, 75%, 76%); opacity:1.0;                     line-height:1.75\"><font color=\"black\"> movi                    </font></mark><mark style=\"background-color: hsl(0, 75%, 100%); opacity:1.0;                     line-height:1.75\"><font color=\"black\"> #pad                    </font></mark><mark style=\"background-color: hsl(0, 75%, 100%); opacity:1.0;                     line-height:1.75\"><font color=\"black\"> #pad                    </font></mark><mark style=\"background-color: hsl(0, 75%, 100%); opacity:1.0;                     line-height:1.75\"><font color=\"black\"> #pad                    </font></mark><mark style=\"background-color: hsl(0, 75%, 100%); opacity:1.0;                     line-height:1.75\"><font color=\"black\"> #pad                    </font></mark><mark style=\"background-color: hsl(0, 75%, 100%); opacity:1.0;                     line-height:1.75\"><font color=\"black\"> #pad                    </font></mark><mark style=\"background-color: hsl(0, 75%, 100%); opacity:1.0;                     line-height:1.75\"><font color=\"black\"> #pad                    </font></mark><mark style=\"background-color: hsl(0, 75%, 100%); opacity:1.0;                     line-height:1.75\"><font color=\"black\"> #pad                    </font></mark><mark style=\"background-color: hsl(0, 75%, 100%); opacity:1.0;                     line-height:1.75\"><font color=\"black\"> #pad                    </font></mark><mark style=\"background-color: hsl(0, 75%, 100%); opacity:1.0;                     line-height:1.75\"><font color=\"black\"> #pad                    </font></mark><mark style=\"background-color: hsl(0, 75%, 100%); opacity:1.0;                     line-height:1.75\"><font color=\"black\"> #pad                    </font></mark><mark style=\"background-color: hsl(0, 75%, 100%); opacity:1.0;                     line-height:1.75\"><font color=\"black\"> #pad                    </font></mark><mark style=\"background-color: hsl(0, 75%, 100%); opacity:1.0;                     line-height:1.75\"><font color=\"black\"> #pad                    </font></mark><mark style=\"background-color: hsl(0, 75%, 100%); opacity:1.0;                     line-height:1.75\"><font color=\"black\"> #pad                    </font></mark><mark style=\"background-color: hsl(0, 75%, 100%); opacity:1.0;                     line-height:1.75\"><font color=\"black\"> #pad                    </font></mark><mark style=\"background-color: hsl(0, 75%, 100%); opacity:1.0;                     line-height:1.75\"><font color=\"black\"> #pad                    </font></mark><mark style=\"background-color: hsl(0, 75%, 100%); opacity:1.0;                     line-height:1.75\"><font color=\"black\"> #pad                    </font></mark><mark style=\"background-color: hsl(0, 75%, 100%); opacity:1.0;                     line-height:1.75\"><font color=\"black\"> #pad                    </font></mark><mark style=\"background-color: hsl(0, 75%, 100%); opacity:1.0;                     line-height:1.75\"><font color=\"black\"> #pad                    </font></mark><mark style=\"background-color: hsl(0, 75%, 100%); opacity:1.0;                     line-height:1.75\"><font color=\"black\"> #pad                    </font></mark><mark style=\"background-color: hsl(0, 75%, 100%); opacity:1.0;                     line-height:1.75\"><font color=\"black\"> #pad                    </font></mark></td><tr><tr><td><text style=\"padding-right:2em\"><b>negative</b></text></td><td><text style=\"padding-right:2em\"><b>negative (2.00)</b></text></td><td><text style=\"padding-right:2em\"><b>negative</b></text></td><td><text style=\"padding-right:2em\"><b>-0.93</b></text></td><td><mark style=\"background-color: hsl(120, 75%, 98%); opacity:1.0;                     line-height:1.75\"><font color=\"black\"> ve                    </font></mark><mark style=\"background-color: hsl(120, 75%, 100%); opacity:1.0;                     line-height:1.75\"><font color=\"black\"> watch                    </font></mark><mark style=\"background-color: hsl(0, 75%, 61%); opacity:1.0;                     line-height:1.75\"><font color=\"black\"> bad                    </font></mark><mark style=\"background-color: hsl(0, 75%, 100%); opacity:1.0;                     line-height:1.75\"><font color=\"black\"> #pad                    </font></mark><mark style=\"background-color: hsl(0, 75%, 100%); opacity:1.0;                     line-height:1.75\"><font color=\"black\"> #pad                    </font></mark><mark style=\"background-color: hsl(0, 75%, 100%); opacity:1.0;                     line-height:1.75\"><font color=\"black\"> #pad                    </font></mark><mark style=\"background-color: hsl(0, 75%, 100%); opacity:1.0;                     line-height:1.75\"><font color=\"black\"> #pad                    </font></mark><mark style=\"background-color: hsl(0, 75%, 100%); opacity:1.0;                     line-height:1.75\"><font color=\"black\"> #pad                    </font></mark><mark style=\"background-color: hsl(0, 75%, 100%); opacity:1.0;                     line-height:1.75\"><font color=\"black\"> #pad                    </font></mark><mark style=\"background-color: hsl(0, 75%, 100%); opacity:1.0;                     line-height:1.75\"><font color=\"black\"> #pad                    </font></mark><mark style=\"background-color: hsl(0, 75%, 100%); opacity:1.0;                     line-height:1.75\"><font color=\"black\"> #pad                    </font></mark><mark style=\"background-color: hsl(0, 75%, 100%); opacity:1.0;                     line-height:1.75\"><font color=\"black\"> #pad                    </font></mark><mark style=\"background-color: hsl(0, 75%, 100%); opacity:1.0;                     line-height:1.75\"><font color=\"black\"> #pad                    </font></mark><mark style=\"background-color: hsl(0, 75%, 100%); opacity:1.0;                     line-height:1.75\"><font color=\"black\"> #pad                    </font></mark><mark style=\"background-color: hsl(0, 75%, 100%); opacity:1.0;                     line-height:1.75\"><font color=\"black\"> #pad                    </font></mark><mark style=\"background-color: hsl(0, 75%, 100%); opacity:1.0;                     line-height:1.75\"><font color=\"black\"> #pad                    </font></mark><mark style=\"background-color: hsl(0, 75%, 100%); opacity:1.0;                     line-height:1.75\"><font color=\"black\"> #pad                    </font></mark><mark style=\"background-color: hsl(0, 75%, 100%); opacity:1.0;                     line-height:1.75\"><font color=\"black\"> #pad                    </font></mark><mark style=\"background-color: hsl(0, 75%, 100%); opacity:1.0;                     line-height:1.75\"><font color=\"black\"> #pad                    </font></mark><mark style=\"background-color: hsl(0, 75%, 100%); opacity:1.0;                     line-height:1.75\"><font color=\"black\"> #pad                    </font></mark><mark style=\"background-color: hsl(0, 75%, 100%); opacity:1.0;                     line-height:1.75\"><font color=\"black\"> #pad                    </font></mark><mark style=\"background-color: hsl(0, 75%, 100%); opacity:1.0;                     line-height:1.75\"><font color=\"black\"> #pad                    </font></mark><mark style=\"background-color: hsl(0, 75%, 100%); opacity:1.0;                     line-height:1.75\"><font color=\"black\"> #pad                    </font></mark></td><tr><tr><td><text style=\"padding-right:2em\"><b>negative</b></text></td><td><text style=\"padding-right:2em\"><b>negative (2.00)</b></text></td><td><text style=\"padding-right:2em\"><b>negative</b></text></td><td><text style=\"padding-right:2em\"><b>-1.60</b></text></td><td><mark style=\"background-color: hsl(0, 75%, 91%); opacity:1.0;                     line-height:1.75\"><font color=\"black\"> it                    </font></mark><mark style=\"background-color: hsl(0, 75%, 69%); opacity:1.0;                     line-height:1.75\"><font color=\"black\"> disgust                    </font></mark><mark style=\"background-color: hsl(0, 75%, 78%); opacity:1.0;                     line-height:1.75\"><font color=\"black\"> movi                    </font></mark><mark style=\"background-color: hsl(0, 75%, 100%); opacity:1.0;                     line-height:1.75\"><font color=\"black\"> #pad                    </font></mark><mark style=\"background-color: hsl(0, 75%, 100%); opacity:1.0;                     line-height:1.75\"><font color=\"black\"> #pad                    </font></mark><mark style=\"background-color: hsl(0, 75%, 100%); opacity:1.0;                     line-height:1.75\"><font color=\"black\"> #pad                    </font></mark><mark style=\"background-color: hsl(0, 75%, 100%); opacity:1.0;                     line-height:1.75\"><font color=\"black\"> #pad                    </font></mark><mark style=\"background-color: hsl(0, 75%, 100%); opacity:1.0;                     line-height:1.75\"><font color=\"black\"> #pad                    </font></mark><mark style=\"background-color: hsl(0, 75%, 100%); opacity:1.0;                     line-height:1.75\"><font color=\"black\"> #pad                    </font></mark><mark style=\"background-color: hsl(0, 75%, 100%); opacity:1.0;                     line-height:1.75\"><font color=\"black\"> #pad                    </font></mark><mark style=\"background-color: hsl(0, 75%, 100%); opacity:1.0;                     line-height:1.75\"><font color=\"black\"> #pad                    </font></mark><mark style=\"background-color: hsl(0, 75%, 100%); opacity:1.0;                     line-height:1.75\"><font color=\"black\"> #pad                    </font></mark><mark style=\"background-color: hsl(0, 75%, 100%); opacity:1.0;                     line-height:1.75\"><font color=\"black\"> #pad                    </font></mark><mark style=\"background-color: hsl(0, 75%, 100%); opacity:1.0;                     line-height:1.75\"><font color=\"black\"> #pad                    </font></mark><mark style=\"background-color: hsl(0, 75%, 100%); opacity:1.0;                     line-height:1.75\"><font color=\"black\"> #pad                    </font></mark><mark style=\"background-color: hsl(0, 75%, 100%); opacity:1.0;                     line-height:1.75\"><font color=\"black\"> #pad                    </font></mark><mark style=\"background-color: hsl(0, 75%, 100%); opacity:1.0;                     line-height:1.75\"><font color=\"black\"> #pad                    </font></mark><mark style=\"background-color: hsl(0, 75%, 100%); opacity:1.0;                     line-height:1.75\"><font color=\"black\"> #pad                    </font></mark><mark style=\"background-color: hsl(0, 75%, 100%); opacity:1.0;                     line-height:1.75\"><font color=\"black\"> #pad                    </font></mark><mark style=\"background-color: hsl(0, 75%, 100%); opacity:1.0;                     line-height:1.75\"><font color=\"black\"> #pad                    </font></mark><mark style=\"background-color: hsl(0, 75%, 100%); opacity:1.0;                     line-height:1.75\"><font color=\"black\"> #pad                    </font></mark><mark style=\"background-color: hsl(0, 75%, 100%); opacity:1.0;                     line-height:1.75\"><font color=\"black\"> #pad                    </font></mark><mark style=\"background-color: hsl(0, 75%, 100%); opacity:1.0;                     line-height:1.75\"><font color=\"black\"> #pad                    </font></mark></td><tr><tr><td><text style=\"padding-right:2em\"><b>netural</b></text></td><td><text style=\"padding-right:2em\"><b>negative (2.00)</b></text></td><td><text style=\"padding-right:2em\"><b>netural</b></text></td><td><text style=\"padding-right:2em\"><b>1.00</b></text></td><td><mark style=\"background-color: hsl(120, 75%, 50%); opacity:1.0;                     line-height:1.75\"><font color=\"black\"> normal                    </font></mark><mark style=\"background-color: hsl(0, 75%, 100%); opacity:1.0;                     line-height:1.75\"><font color=\"black\"> #pad                    </font></mark><mark style=\"background-color: hsl(0, 75%, 100%); opacity:1.0;                     line-height:1.75\"><font color=\"black\"> #pad                    </font></mark><mark style=\"background-color: hsl(0, 75%, 100%); opacity:1.0;                     line-height:1.75\"><font color=\"black\"> #pad                    </font></mark><mark style=\"background-color: hsl(0, 75%, 100%); opacity:1.0;                     line-height:1.75\"><font color=\"black\"> #pad                    </font></mark><mark style=\"background-color: hsl(0, 75%, 100%); opacity:1.0;                     line-height:1.75\"><font color=\"black\"> #pad                    </font></mark><mark style=\"background-color: hsl(0, 75%, 100%); opacity:1.0;                     line-height:1.75\"><font color=\"black\"> #pad                    </font></mark><mark style=\"background-color: hsl(0, 75%, 100%); opacity:1.0;                     line-height:1.75\"><font color=\"black\"> #pad                    </font></mark><mark style=\"background-color: hsl(0, 75%, 100%); opacity:1.0;                     line-height:1.75\"><font color=\"black\"> #pad                    </font></mark><mark style=\"background-color: hsl(0, 75%, 100%); opacity:1.0;                     line-height:1.75\"><font color=\"black\"> #pad                    </font></mark><mark style=\"background-color: hsl(0, 75%, 100%); opacity:1.0;                     line-height:1.75\"><font color=\"black\"> #pad                    </font></mark><mark style=\"background-color: hsl(0, 75%, 100%); opacity:1.0;                     line-height:1.75\"><font color=\"black\"> #pad                    </font></mark><mark style=\"background-color: hsl(0, 75%, 100%); opacity:1.0;                     line-height:1.75\"><font color=\"black\"> #pad                    </font></mark><mark style=\"background-color: hsl(0, 75%, 100%); opacity:1.0;                     line-height:1.75\"><font color=\"black\"> #pad                    </font></mark><mark style=\"background-color: hsl(0, 75%, 100%); opacity:1.0;                     line-height:1.75\"><font color=\"black\"> #pad                    </font></mark><mark style=\"background-color: hsl(0, 75%, 100%); opacity:1.0;                     line-height:1.75\"><font color=\"black\"> #pad                    </font></mark><mark style=\"background-color: hsl(0, 75%, 100%); opacity:1.0;                     line-height:1.75\"><font color=\"black\"> #pad                    </font></mark><mark style=\"background-color: hsl(0, 75%, 100%); opacity:1.0;                     line-height:1.75\"><font color=\"black\"> #pad                    </font></mark><mark style=\"background-color: hsl(0, 75%, 100%); opacity:1.0;                     line-height:1.75\"><font color=\"black\"> #pad                    </font></mark><mark style=\"background-color: hsl(0, 75%, 100%); opacity:1.0;                     line-height:1.75\"><font color=\"black\"> #pad                    </font></mark><mark style=\"background-color: hsl(0, 75%, 100%); opacity:1.0;                     line-height:1.75\"><font color=\"black\"> #pad                    </font></mark><mark style=\"background-color: hsl(0, 75%, 100%); opacity:1.0;                     line-height:1.75\"><font color=\"black\"> #pad                    </font></mark><mark style=\"background-color: hsl(0, 75%, 100%); opacity:1.0;                     line-height:1.75\"><font color=\"black\"> #pad                    </font></mark></td><tr><tr><td><text style=\"padding-right:2em\"><b>positive</b></text></td><td><text style=\"padding-right:2em\"><b>positive (1.00)</b></text></td><td><text style=\"padding-right:2em\"><b>positive</b></text></td><td><text style=\"padding-right:2em\"><b>1.21</b></text></td><td><mark style=\"background-color: hsl(120, 75%, 95%); opacity:1.0;                     line-height:1.75\"><font color=\"black\"> it                    </font></mark><mark style=\"background-color: hsl(120, 75%, 51%); opacity:1.0;                     line-height:1.75\"><font color=\"black\"> fantast                    </font></mark><mark style=\"background-color: hsl(120, 75%, 95%); opacity:1.0;                     line-height:1.75\"><font color=\"black\"> perform                    </font></mark><mark style=\"background-color: hsl(0, 75%, 100%); opacity:1.0;                     line-height:1.75\"><font color=\"black\"> #pad                    </font></mark><mark style=\"background-color: hsl(0, 75%, 100%); opacity:1.0;                     line-height:1.75\"><font color=\"black\"> #pad                    </font></mark><mark style=\"background-color: hsl(0, 75%, 100%); opacity:1.0;                     line-height:1.75\"><font color=\"black\"> #pad                    </font></mark><mark style=\"background-color: hsl(0, 75%, 100%); opacity:1.0;                     line-height:1.75\"><font color=\"black\"> #pad                    </font></mark><mark style=\"background-color: hsl(0, 75%, 100%); opacity:1.0;                     line-height:1.75\"><font color=\"black\"> #pad                    </font></mark><mark style=\"background-color: hsl(0, 75%, 100%); opacity:1.0;                     line-height:1.75\"><font color=\"black\"> #pad                    </font></mark><mark style=\"background-color: hsl(0, 75%, 100%); opacity:1.0;                     line-height:1.75\"><font color=\"black\"> #pad                    </font></mark><mark style=\"background-color: hsl(0, 75%, 100%); opacity:1.0;                     line-height:1.75\"><font color=\"black\"> #pad                    </font></mark><mark style=\"background-color: hsl(0, 75%, 100%); opacity:1.0;                     line-height:1.75\"><font color=\"black\"> #pad                    </font></mark><mark style=\"background-color: hsl(0, 75%, 100%); opacity:1.0;                     line-height:1.75\"><font color=\"black\"> #pad                    </font></mark><mark style=\"background-color: hsl(0, 75%, 100%); opacity:1.0;                     line-height:1.75\"><font color=\"black\"> #pad                    </font></mark><mark style=\"background-color: hsl(0, 75%, 100%); opacity:1.0;                     line-height:1.75\"><font color=\"black\"> #pad                    </font></mark><mark style=\"background-color: hsl(0, 75%, 100%); opacity:1.0;                     line-height:1.75\"><font color=\"black\"> #pad                    </font></mark><mark style=\"background-color: hsl(0, 75%, 100%); opacity:1.0;                     line-height:1.75\"><font color=\"black\"> #pad                    </font></mark><mark style=\"background-color: hsl(0, 75%, 100%); opacity:1.0;                     line-height:1.75\"><font color=\"black\"> #pad                    </font></mark><mark style=\"background-color: hsl(0, 75%, 100%); opacity:1.0;                     line-height:1.75\"><font color=\"black\"> #pad                    </font></mark><mark style=\"background-color: hsl(0, 75%, 100%); opacity:1.0;                     line-height:1.75\"><font color=\"black\"> #pad                    </font></mark><mark style=\"background-color: hsl(0, 75%, 100%); opacity:1.0;                     line-height:1.75\"><font color=\"black\"> #pad                    </font></mark><mark style=\"background-color: hsl(0, 75%, 100%); opacity:1.0;                     line-height:1.75\"><font color=\"black\"> #pad                    </font></mark><mark style=\"background-color: hsl(0, 75%, 100%); opacity:1.0;                     line-height:1.75\"><font color=\"black\"> #pad                    </font></mark></td><tr><tr><td><text style=\"padding-right:2em\"><b>positive</b></text></td><td><text style=\"padding-right:2em\"><b>positive (1.00)</b></text></td><td><text style=\"padding-right:2em\"><b>positive</b></text></td><td><text style=\"padding-right:2em\"><b>0.75</b></text></td><td><mark style=\"background-color: hsl(120, 75%, 52%); opacity:1.0;                     line-height:1.75\"><font color=\"black\"> best                    </font></mark><mark style=\"background-color: hsl(0, 75%, 91%); opacity:1.0;                     line-height:1.75\"><font color=\"black\"> film                    </font></mark><mark style=\"background-color: hsl(0, 75%, 100%); opacity:1.0;                     line-height:1.75\"><font color=\"black\"> #pad                    </font></mark><mark style=\"background-color: hsl(0, 75%, 100%); opacity:1.0;                     line-height:1.75\"><font color=\"black\"> #pad                    </font></mark><mark style=\"background-color: hsl(0, 75%, 100%); opacity:1.0;                     line-height:1.75\"><font color=\"black\"> #pad                    </font></mark><mark style=\"background-color: hsl(0, 75%, 100%); opacity:1.0;                     line-height:1.75\"><font color=\"black\"> #pad                    </font></mark><mark style=\"background-color: hsl(0, 75%, 100%); opacity:1.0;                     line-height:1.75\"><font color=\"black\"> #pad                    </font></mark><mark style=\"background-color: hsl(0, 75%, 100%); opacity:1.0;                     line-height:1.75\"><font color=\"black\"> #pad                    </font></mark><mark style=\"background-color: hsl(0, 75%, 100%); opacity:1.0;                     line-height:1.75\"><font color=\"black\"> #pad                    </font></mark><mark style=\"background-color: hsl(0, 75%, 100%); opacity:1.0;                     line-height:1.75\"><font color=\"black\"> #pad                    </font></mark><mark style=\"background-color: hsl(0, 75%, 100%); opacity:1.0;                     line-height:1.75\"><font color=\"black\"> #pad                    </font></mark><mark style=\"background-color: hsl(0, 75%, 100%); opacity:1.0;                     line-height:1.75\"><font color=\"black\"> #pad                    </font></mark><mark style=\"background-color: hsl(0, 75%, 100%); opacity:1.0;                     line-height:1.75\"><font color=\"black\"> #pad                    </font></mark><mark style=\"background-color: hsl(0, 75%, 100%); opacity:1.0;                     line-height:1.75\"><font color=\"black\"> #pad                    </font></mark><mark style=\"background-color: hsl(0, 75%, 100%); opacity:1.0;                     line-height:1.75\"><font color=\"black\"> #pad                    </font></mark><mark style=\"background-color: hsl(0, 75%, 100%); opacity:1.0;                     line-height:1.75\"><font color=\"black\"> #pad                    </font></mark><mark style=\"background-color: hsl(0, 75%, 100%); opacity:1.0;                     line-height:1.75\"><font color=\"black\"> #pad                    </font></mark><mark style=\"background-color: hsl(0, 75%, 100%); opacity:1.0;                     line-height:1.75\"><font color=\"black\"> #pad                    </font></mark><mark style=\"background-color: hsl(0, 75%, 100%); opacity:1.0;                     line-height:1.75\"><font color=\"black\"> #pad                    </font></mark><mark style=\"background-color: hsl(0, 75%, 100%); opacity:1.0;                     line-height:1.75\"><font color=\"black\"> #pad                    </font></mark><mark style=\"background-color: hsl(0, 75%, 100%); opacity:1.0;                     line-height:1.75\"><font color=\"black\"> #pad                    </font></mark><mark style=\"background-color: hsl(0, 75%, 100%); opacity:1.0;                     line-height:1.75\"><font color=\"black\"> #pad                    </font></mark><mark style=\"background-color: hsl(0, 75%, 100%); opacity:1.0;                     line-height:1.75\"><font color=\"black\"> #pad                    </font></mark></td><tr><tr><td><text style=\"padding-right:2em\"><b>positive</b></text></td><td><text style=\"padding-right:2em\"><b>positive (1.00)</b></text></td><td><text style=\"padding-right:2em\"><b>positive</b></text></td><td><text style=\"padding-right:2em\"><b>0.71</b></text></td><td><mark style=\"background-color: hsl(0, 75%, 93%); opacity:1.0;                     line-height:1.75\"><font color=\"black\"> such                    </font></mark><mark style=\"background-color: hsl(120, 75%, 52%); opacity:1.0;                     line-height:1.75\"><font color=\"black\"> great                    </font></mark><mark style=\"background-color: hsl(0, 75%, 97%); opacity:1.0;                     line-height:1.75\"><font color=\"black\"> show                    </font></mark><mark style=\"background-color: hsl(0, 75%, 100%); opacity:1.0;                     line-height:1.75\"><font color=\"black\"> #pad                    </font></mark><mark style=\"background-color: hsl(0, 75%, 100%); opacity:1.0;                     line-height:1.75\"><font color=\"black\"> #pad                    </font></mark><mark style=\"background-color: hsl(0, 75%, 100%); opacity:1.0;                     line-height:1.75\"><font color=\"black\"> #pad                    </font></mark><mark style=\"background-color: hsl(0, 75%, 100%); opacity:1.0;                     line-height:1.75\"><font color=\"black\"> #pad                    </font></mark><mark style=\"background-color: hsl(0, 75%, 100%); opacity:1.0;                     line-height:1.75\"><font color=\"black\"> #pad                    </font></mark><mark style=\"background-color: hsl(0, 75%, 100%); opacity:1.0;                     line-height:1.75\"><font color=\"black\"> #pad                    </font></mark><mark style=\"background-color: hsl(0, 75%, 100%); opacity:1.0;                     line-height:1.75\"><font color=\"black\"> #pad                    </font></mark><mark style=\"background-color: hsl(0, 75%, 100%); opacity:1.0;                     line-height:1.75\"><font color=\"black\"> #pad                    </font></mark><mark style=\"background-color: hsl(0, 75%, 100%); opacity:1.0;                     line-height:1.75\"><font color=\"black\"> #pad                    </font></mark><mark style=\"background-color: hsl(0, 75%, 100%); opacity:1.0;                     line-height:1.75\"><font color=\"black\"> #pad                    </font></mark><mark style=\"background-color: hsl(0, 75%, 100%); opacity:1.0;                     line-height:1.75\"><font color=\"black\"> #pad                    </font></mark><mark style=\"background-color: hsl(0, 75%, 100%); opacity:1.0;                     line-height:1.75\"><font color=\"black\"> #pad                    </font></mark><mark style=\"background-color: hsl(0, 75%, 100%); opacity:1.0;                     line-height:1.75\"><font color=\"black\"> #pad                    </font></mark><mark style=\"background-color: hsl(0, 75%, 100%); opacity:1.0;                     line-height:1.75\"><font color=\"black\"> #pad                    </font></mark><mark style=\"background-color: hsl(0, 75%, 100%); opacity:1.0;                     line-height:1.75\"><font color=\"black\"> #pad                    </font></mark><mark style=\"background-color: hsl(0, 75%, 100%); opacity:1.0;                     line-height:1.75\"><font color=\"black\"> #pad                    </font></mark><mark style=\"background-color: hsl(0, 75%, 100%); opacity:1.0;                     line-height:1.75\"><font color=\"black\"> #pad                    </font></mark><mark style=\"background-color: hsl(0, 75%, 100%); opacity:1.0;                     line-height:1.75\"><font color=\"black\"> #pad                    </font></mark><mark style=\"background-color: hsl(0, 75%, 100%); opacity:1.0;                     line-height:1.75\"><font color=\"black\"> #pad                    </font></mark><mark style=\"background-color: hsl(0, 75%, 100%); opacity:1.0;                     line-height:1.75\"><font color=\"black\"> #pad                    </font></mark></td><tr><tr><td><text style=\"padding-right:2em\"><b>negative</b></text></td><td><text style=\"padding-right:2em\"><b>negative (2.00)</b></text></td><td><text style=\"padding-right:2em\"><b>negative</b></text></td><td><text style=\"padding-right:2em\"><b>-1.59</b></text></td><td><mark style=\"background-color: hsl(0, 75%, 92%); opacity:1.0;                     line-height:1.75\"><font color=\"black\"> it                    </font></mark><mark style=\"background-color: hsl(0, 75%, 70%); opacity:1.0;                     line-height:1.75\"><font color=\"black\"> horribl                    </font></mark><mark style=\"background-color: hsl(0, 75%, 76%); opacity:1.0;                     line-height:1.75\"><font color=\"black\"> movi                    </font></mark><mark style=\"background-color: hsl(0, 75%, 100%); opacity:1.0;                     line-height:1.75\"><font color=\"black\"> #pad                    </font></mark><mark style=\"background-color: hsl(0, 75%, 100%); opacity:1.0;                     line-height:1.75\"><font color=\"black\"> #pad                    </font></mark><mark style=\"background-color: hsl(0, 75%, 100%); opacity:1.0;                     line-height:1.75\"><font color=\"black\"> #pad                    </font></mark><mark style=\"background-color: hsl(0, 75%, 100%); opacity:1.0;                     line-height:1.75\"><font color=\"black\"> #pad                    </font></mark><mark style=\"background-color: hsl(0, 75%, 100%); opacity:1.0;                     line-height:1.75\"><font color=\"black\"> #pad                    </font></mark><mark style=\"background-color: hsl(0, 75%, 100%); opacity:1.0;                     line-height:1.75\"><font color=\"black\"> #pad                    </font></mark><mark style=\"background-color: hsl(0, 75%, 100%); opacity:1.0;                     line-height:1.75\"><font color=\"black\"> #pad                    </font></mark><mark style=\"background-color: hsl(0, 75%, 100%); opacity:1.0;                     line-height:1.75\"><font color=\"black\"> #pad                    </font></mark><mark style=\"background-color: hsl(0, 75%, 100%); opacity:1.0;                     line-height:1.75\"><font color=\"black\"> #pad                    </font></mark><mark style=\"background-color: hsl(0, 75%, 100%); opacity:1.0;                     line-height:1.75\"><font color=\"black\"> #pad                    </font></mark><mark style=\"background-color: hsl(0, 75%, 100%); opacity:1.0;                     line-height:1.75\"><font color=\"black\"> #pad                    </font></mark><mark style=\"background-color: hsl(0, 75%, 100%); opacity:1.0;                     line-height:1.75\"><font color=\"black\"> #pad                    </font></mark><mark style=\"background-color: hsl(0, 75%, 100%); opacity:1.0;                     line-height:1.75\"><font color=\"black\"> #pad                    </font></mark><mark style=\"background-color: hsl(0, 75%, 100%); opacity:1.0;                     line-height:1.75\"><font color=\"black\"> #pad                    </font></mark><mark style=\"background-color: hsl(0, 75%, 100%); opacity:1.0;                     line-height:1.75\"><font color=\"black\"> #pad                    </font></mark><mark style=\"background-color: hsl(0, 75%, 100%); opacity:1.0;                     line-height:1.75\"><font color=\"black\"> #pad                    </font></mark><mark style=\"background-color: hsl(0, 75%, 100%); opacity:1.0;                     line-height:1.75\"><font color=\"black\"> #pad                    </font></mark><mark style=\"background-color: hsl(0, 75%, 100%); opacity:1.0;                     line-height:1.75\"><font color=\"black\"> #pad                    </font></mark><mark style=\"background-color: hsl(0, 75%, 100%); opacity:1.0;                     line-height:1.75\"><font color=\"black\"> #pad                    </font></mark><mark style=\"background-color: hsl(0, 75%, 100%); opacity:1.0;                     line-height:1.75\"><font color=\"black\"> #pad                    </font></mark></td><tr><tr><td><text style=\"padding-right:2em\"><b>negative</b></text></td><td><text style=\"padding-right:2em\"><b>negative (2.00)</b></text></td><td><text style=\"padding-right:2em\"><b>negative</b></text></td><td><text style=\"padding-right:2em\"><b>-0.97</b></text></td><td><mark style=\"background-color: hsl(120, 75%, 99%); opacity:1.0;                     line-height:1.75\"><font color=\"black\"> ve                    </font></mark><mark style=\"background-color: hsl(120, 75%, 100%); opacity:1.0;                     line-height:1.75\"><font color=\"black\"> watch                    </font></mark><mark style=\"background-color: hsl(0, 75%, 61%); opacity:1.0;                     line-height:1.75\"><font color=\"black\"> bad                    </font></mark><mark style=\"background-color: hsl(0, 75%, 100%); opacity:1.0;                     line-height:1.75\"><font color=\"black\"> #pad                    </font></mark><mark style=\"background-color: hsl(0, 75%, 100%); opacity:1.0;                     line-height:1.75\"><font color=\"black\"> #pad                    </font></mark><mark style=\"background-color: hsl(0, 75%, 100%); opacity:1.0;                     line-height:1.75\"><font color=\"black\"> #pad                    </font></mark><mark style=\"background-color: hsl(0, 75%, 100%); opacity:1.0;                     line-height:1.75\"><font color=\"black\"> #pad                    </font></mark><mark style=\"background-color: hsl(0, 75%, 100%); opacity:1.0;                     line-height:1.75\"><font color=\"black\"> #pad                    </font></mark><mark style=\"background-color: hsl(0, 75%, 100%); opacity:1.0;                     line-height:1.75\"><font color=\"black\"> #pad                    </font></mark><mark style=\"background-color: hsl(0, 75%, 100%); opacity:1.0;                     line-height:1.75\"><font color=\"black\"> #pad                    </font></mark><mark style=\"background-color: hsl(0, 75%, 100%); opacity:1.0;                     line-height:1.75\"><font color=\"black\"> #pad                    </font></mark><mark style=\"background-color: hsl(0, 75%, 100%); opacity:1.0;                     line-height:1.75\"><font color=\"black\"> #pad                    </font></mark><mark style=\"background-color: hsl(0, 75%, 100%); opacity:1.0;                     line-height:1.75\"><font color=\"black\"> #pad                    </font></mark><mark style=\"background-color: hsl(0, 75%, 100%); opacity:1.0;                     line-height:1.75\"><font color=\"black\"> #pad                    </font></mark><mark style=\"background-color: hsl(0, 75%, 100%); opacity:1.0;                     line-height:1.75\"><font color=\"black\"> #pad                    </font></mark><mark style=\"background-color: hsl(0, 75%, 100%); opacity:1.0;                     line-height:1.75\"><font color=\"black\"> #pad                    </font></mark><mark style=\"background-color: hsl(0, 75%, 100%); opacity:1.0;                     line-height:1.75\"><font color=\"black\"> #pad                    </font></mark><mark style=\"background-color: hsl(0, 75%, 100%); opacity:1.0;                     line-height:1.75\"><font color=\"black\"> #pad                    </font></mark><mark style=\"background-color: hsl(0, 75%, 100%); opacity:1.0;                     line-height:1.75\"><font color=\"black\"> #pad                    </font></mark><mark style=\"background-color: hsl(0, 75%, 100%); opacity:1.0;                     line-height:1.75\"><font color=\"black\"> #pad                    </font></mark><mark style=\"background-color: hsl(0, 75%, 100%); opacity:1.0;                     line-height:1.75\"><font color=\"black\"> #pad                    </font></mark><mark style=\"background-color: hsl(0, 75%, 100%); opacity:1.0;                     line-height:1.75\"><font color=\"black\"> #pad                    </font></mark><mark style=\"background-color: hsl(0, 75%, 100%); opacity:1.0;                     line-height:1.75\"><font color=\"black\"> #pad                    </font></mark></td><tr><tr><td><text style=\"padding-right:2em\"><b>negative</b></text></td><td><text style=\"padding-right:2em\"><b>negative (2.00)</b></text></td><td><text style=\"padding-right:2em\"><b>negative</b></text></td><td><text style=\"padding-right:2em\"><b>-1.59</b></text></td><td><mark style=\"background-color: hsl(0, 75%, 91%); opacity:1.0;                     line-height:1.75\"><font color=\"black\"> it                    </font></mark><mark style=\"background-color: hsl(0, 75%, 69%); opacity:1.0;                     line-height:1.75\"><font color=\"black\"> disgust                    </font></mark><mark style=\"background-color: hsl(0, 75%, 78%); opacity:1.0;                     line-height:1.75\"><font color=\"black\"> movi                    </font></mark><mark style=\"background-color: hsl(0, 75%, 100%); opacity:1.0;                     line-height:1.75\"><font color=\"black\"> #pad                    </font></mark><mark style=\"background-color: hsl(0, 75%, 100%); opacity:1.0;                     line-height:1.75\"><font color=\"black\"> #pad                    </font></mark><mark style=\"background-color: hsl(0, 75%, 100%); opacity:1.0;                     line-height:1.75\"><font color=\"black\"> #pad                    </font></mark><mark style=\"background-color: hsl(0, 75%, 100%); opacity:1.0;                     line-height:1.75\"><font color=\"black\"> #pad                    </font></mark><mark style=\"background-color: hsl(0, 75%, 100%); opacity:1.0;                     line-height:1.75\"><font color=\"black\"> #pad                    </font></mark><mark style=\"background-color: hsl(0, 75%, 100%); opacity:1.0;                     line-height:1.75\"><font color=\"black\"> #pad                    </font></mark><mark style=\"background-color: hsl(0, 75%, 100%); opacity:1.0;                     line-height:1.75\"><font color=\"black\"> #pad                    </font></mark><mark style=\"background-color: hsl(0, 75%, 100%); opacity:1.0;                     line-height:1.75\"><font color=\"black\"> #pad                    </font></mark><mark style=\"background-color: hsl(0, 75%, 100%); opacity:1.0;                     line-height:1.75\"><font color=\"black\"> #pad                    </font></mark><mark style=\"background-color: hsl(0, 75%, 100%); opacity:1.0;                     line-height:1.75\"><font color=\"black\"> #pad                    </font></mark><mark style=\"background-color: hsl(0, 75%, 100%); opacity:1.0;                     line-height:1.75\"><font color=\"black\"> #pad                    </font></mark><mark style=\"background-color: hsl(0, 75%, 100%); opacity:1.0;                     line-height:1.75\"><font color=\"black\"> #pad                    </font></mark><mark style=\"background-color: hsl(0, 75%, 100%); opacity:1.0;                     line-height:1.75\"><font color=\"black\"> #pad                    </font></mark><mark style=\"background-color: hsl(0, 75%, 100%); opacity:1.0;                     line-height:1.75\"><font color=\"black\"> #pad                    </font></mark><mark style=\"background-color: hsl(0, 75%, 100%); opacity:1.0;                     line-height:1.75\"><font color=\"black\"> #pad                    </font></mark><mark style=\"background-color: hsl(0, 75%, 100%); opacity:1.0;                     line-height:1.75\"><font color=\"black\"> #pad                    </font></mark><mark style=\"background-color: hsl(0, 75%, 100%); opacity:1.0;                     line-height:1.75\"><font color=\"black\"> #pad                    </font></mark><mark style=\"background-color: hsl(0, 75%, 100%); opacity:1.0;                     line-height:1.75\"><font color=\"black\"> #pad                    </font></mark><mark style=\"background-color: hsl(0, 75%, 100%); opacity:1.0;                     line-height:1.75\"><font color=\"black\"> #pad                    </font></mark><mark style=\"background-color: hsl(0, 75%, 100%); opacity:1.0;                     line-height:1.75\"><font color=\"black\"> #pad                    </font></mark></td><tr><tr><td><text style=\"padding-right:2em\"><b>netural</b></text></td><td><text style=\"padding-right:2em\"><b>negative (2.00)</b></text></td><td><text style=\"padding-right:2em\"><b>netural</b></text></td><td><text style=\"padding-right:2em\"><b>1.00</b></text></td><td><mark style=\"background-color: hsl(120, 75%, 50%); opacity:1.0;                     line-height:1.75\"><font color=\"black\"> normal                    </font></mark><mark style=\"background-color: hsl(0, 75%, 100%); opacity:1.0;                     line-height:1.75\"><font color=\"black\"> #pad                    </font></mark><mark style=\"background-color: hsl(0, 75%, 100%); opacity:1.0;                     line-height:1.75\"><font color=\"black\"> #pad                    </font></mark><mark style=\"background-color: hsl(0, 75%, 100%); opacity:1.0;                     line-height:1.75\"><font color=\"black\"> #pad                    </font></mark><mark style=\"background-color: hsl(0, 75%, 100%); opacity:1.0;                     line-height:1.75\"><font color=\"black\"> #pad                    </font></mark><mark style=\"background-color: hsl(0, 75%, 100%); opacity:1.0;                     line-height:1.75\"><font color=\"black\"> #pad                    </font></mark><mark style=\"background-color: hsl(0, 75%, 100%); opacity:1.0;                     line-height:1.75\"><font color=\"black\"> #pad                    </font></mark><mark style=\"background-color: hsl(0, 75%, 100%); opacity:1.0;                     line-height:1.75\"><font color=\"black\"> #pad                    </font></mark><mark style=\"background-color: hsl(0, 75%, 100%); opacity:1.0;                     line-height:1.75\"><font color=\"black\"> #pad                    </font></mark><mark style=\"background-color: hsl(0, 75%, 100%); opacity:1.0;                     line-height:1.75\"><font color=\"black\"> #pad                    </font></mark><mark style=\"background-color: hsl(0, 75%, 100%); opacity:1.0;                     line-height:1.75\"><font color=\"black\"> #pad                    </font></mark><mark style=\"background-color: hsl(0, 75%, 100%); opacity:1.0;                     line-height:1.75\"><font color=\"black\"> #pad                    </font></mark><mark style=\"background-color: hsl(0, 75%, 100%); opacity:1.0;                     line-height:1.75\"><font color=\"black\"> #pad                    </font></mark><mark style=\"background-color: hsl(0, 75%, 100%); opacity:1.0;                     line-height:1.75\"><font color=\"black\"> #pad                    </font></mark><mark style=\"background-color: hsl(0, 75%, 100%); opacity:1.0;                     line-height:1.75\"><font color=\"black\"> #pad                    </font></mark><mark style=\"background-color: hsl(0, 75%, 100%); opacity:1.0;                     line-height:1.75\"><font color=\"black\"> #pad                    </font></mark><mark style=\"background-color: hsl(0, 75%, 100%); opacity:1.0;                     line-height:1.75\"><font color=\"black\"> #pad                    </font></mark><mark style=\"background-color: hsl(0, 75%, 100%); opacity:1.0;                     line-height:1.75\"><font color=\"black\"> #pad                    </font></mark><mark style=\"background-color: hsl(0, 75%, 100%); opacity:1.0;                     line-height:1.75\"><font color=\"black\"> #pad                    </font></mark><mark style=\"background-color: hsl(0, 75%, 100%); opacity:1.0;                     line-height:1.75\"><font color=\"black\"> #pad                    </font></mark><mark style=\"background-color: hsl(0, 75%, 100%); opacity:1.0;                     line-height:1.75\"><font color=\"black\"> #pad                    </font></mark><mark style=\"background-color: hsl(0, 75%, 100%); opacity:1.0;                     line-height:1.75\"><font color=\"black\"> #pad                    </font></mark><mark style=\"background-color: hsl(0, 75%, 100%); opacity:1.0;                     line-height:1.75\"><font color=\"black\"> #pad                    </font></mark></td><tr><tr><td><text style=\"padding-right:2em\"><b>positive</b></text></td><td><text style=\"padding-right:2em\"><b>positive (1.00)</b></text></td><td><text style=\"padding-right:2em\"><b>positive</b></text></td><td><text style=\"padding-right:2em\"><b>1.21</b></text></td><td><mark style=\"background-color: hsl(120, 75%, 95%); opacity:1.0;                     line-height:1.75\"><font color=\"black\"> it                    </font></mark><mark style=\"background-color: hsl(120, 75%, 51%); opacity:1.0;                     line-height:1.75\"><font color=\"black\"> fantast                    </font></mark><mark style=\"background-color: hsl(120, 75%, 95%); opacity:1.0;                     line-height:1.75\"><font color=\"black\"> perform                    </font></mark><mark style=\"background-color: hsl(0, 75%, 100%); opacity:1.0;                     line-height:1.75\"><font color=\"black\"> #pad                    </font></mark><mark style=\"background-color: hsl(0, 75%, 100%); opacity:1.0;                     line-height:1.75\"><font color=\"black\"> #pad                    </font></mark><mark style=\"background-color: hsl(0, 75%, 100%); opacity:1.0;                     line-height:1.75\"><font color=\"black\"> #pad                    </font></mark><mark style=\"background-color: hsl(0, 75%, 100%); opacity:1.0;                     line-height:1.75\"><font color=\"black\"> #pad                    </font></mark><mark style=\"background-color: hsl(0, 75%, 100%); opacity:1.0;                     line-height:1.75\"><font color=\"black\"> #pad                    </font></mark><mark style=\"background-color: hsl(0, 75%, 100%); opacity:1.0;                     line-height:1.75\"><font color=\"black\"> #pad                    </font></mark><mark style=\"background-color: hsl(0, 75%, 100%); opacity:1.0;                     line-height:1.75\"><font color=\"black\"> #pad                    </font></mark><mark style=\"background-color: hsl(0, 75%, 100%); opacity:1.0;                     line-height:1.75\"><font color=\"black\"> #pad                    </font></mark><mark style=\"background-color: hsl(0, 75%, 100%); opacity:1.0;                     line-height:1.75\"><font color=\"black\"> #pad                    </font></mark><mark style=\"background-color: hsl(0, 75%, 100%); opacity:1.0;                     line-height:1.75\"><font color=\"black\"> #pad                    </font></mark><mark style=\"background-color: hsl(0, 75%, 100%); opacity:1.0;                     line-height:1.75\"><font color=\"black\"> #pad                    </font></mark><mark style=\"background-color: hsl(0, 75%, 100%); opacity:1.0;                     line-height:1.75\"><font color=\"black\"> #pad                    </font></mark><mark style=\"background-color: hsl(0, 75%, 100%); opacity:1.0;                     line-height:1.75\"><font color=\"black\"> #pad                    </font></mark><mark style=\"background-color: hsl(0, 75%, 100%); opacity:1.0;                     line-height:1.75\"><font color=\"black\"> #pad                    </font></mark><mark style=\"background-color: hsl(0, 75%, 100%); opacity:1.0;                     line-height:1.75\"><font color=\"black\"> #pad                    </font></mark><mark style=\"background-color: hsl(0, 75%, 100%); opacity:1.0;                     line-height:1.75\"><font color=\"black\"> #pad                    </font></mark><mark style=\"background-color: hsl(0, 75%, 100%); opacity:1.0;                     line-height:1.75\"><font color=\"black\"> #pad                    </font></mark><mark style=\"background-color: hsl(0, 75%, 100%); opacity:1.0;                     line-height:1.75\"><font color=\"black\"> #pad                    </font></mark><mark style=\"background-color: hsl(0, 75%, 100%); opacity:1.0;                     line-height:1.75\"><font color=\"black\"> #pad                    </font></mark><mark style=\"background-color: hsl(0, 75%, 100%); opacity:1.0;                     line-height:1.75\"><font color=\"black\"> #pad                    </font></mark></td><tr><tr><td><text style=\"padding-right:2em\"><b>positive</b></text></td><td><text style=\"padding-right:2em\"><b>positive (1.00)</b></text></td><td><text style=\"padding-right:2em\"><b>positive</b></text></td><td><text style=\"padding-right:2em\"><b>0.75</b></text></td><td><mark style=\"background-color: hsl(120, 75%, 52%); opacity:1.0;                     line-height:1.75\"><font color=\"black\"> best                    </font></mark><mark style=\"background-color: hsl(0, 75%, 91%); opacity:1.0;                     line-height:1.75\"><font color=\"black\"> film                    </font></mark><mark style=\"background-color: hsl(0, 75%, 100%); opacity:1.0;                     line-height:1.75\"><font color=\"black\"> #pad                    </font></mark><mark style=\"background-color: hsl(0, 75%, 100%); opacity:1.0;                     line-height:1.75\"><font color=\"black\"> #pad                    </font></mark><mark style=\"background-color: hsl(0, 75%, 100%); opacity:1.0;                     line-height:1.75\"><font color=\"black\"> #pad                    </font></mark><mark style=\"background-color: hsl(0, 75%, 100%); opacity:1.0;                     line-height:1.75\"><font color=\"black\"> #pad                    </font></mark><mark style=\"background-color: hsl(0, 75%, 100%); opacity:1.0;                     line-height:1.75\"><font color=\"black\"> #pad                    </font></mark><mark style=\"background-color: hsl(0, 75%, 100%); opacity:1.0;                     line-height:1.75\"><font color=\"black\"> #pad                    </font></mark><mark style=\"background-color: hsl(0, 75%, 100%); opacity:1.0;                     line-height:1.75\"><font color=\"black\"> #pad                    </font></mark><mark style=\"background-color: hsl(0, 75%, 100%); opacity:1.0;                     line-height:1.75\"><font color=\"black\"> #pad                    </font></mark><mark style=\"background-color: hsl(0, 75%, 100%); opacity:1.0;                     line-height:1.75\"><font color=\"black\"> #pad                    </font></mark><mark style=\"background-color: hsl(0, 75%, 100%); opacity:1.0;                     line-height:1.75\"><font color=\"black\"> #pad                    </font></mark><mark style=\"background-color: hsl(0, 75%, 100%); opacity:1.0;                     line-height:1.75\"><font color=\"black\"> #pad                    </font></mark><mark style=\"background-color: hsl(0, 75%, 100%); opacity:1.0;                     line-height:1.75\"><font color=\"black\"> #pad                    </font></mark><mark style=\"background-color: hsl(0, 75%, 100%); opacity:1.0;                     line-height:1.75\"><font color=\"black\"> #pad                    </font></mark><mark style=\"background-color: hsl(0, 75%, 100%); opacity:1.0;                     line-height:1.75\"><font color=\"black\"> #pad                    </font></mark><mark style=\"background-color: hsl(0, 75%, 100%); opacity:1.0;                     line-height:1.75\"><font color=\"black\"> #pad                    </font></mark><mark style=\"background-color: hsl(0, 75%, 100%); opacity:1.0;                     line-height:1.75\"><font color=\"black\"> #pad                    </font></mark><mark style=\"background-color: hsl(0, 75%, 100%); opacity:1.0;                     line-height:1.75\"><font color=\"black\"> #pad                    </font></mark><mark style=\"background-color: hsl(0, 75%, 100%); opacity:1.0;                     line-height:1.75\"><font color=\"black\"> #pad                    </font></mark><mark style=\"background-color: hsl(0, 75%, 100%); opacity:1.0;                     line-height:1.75\"><font color=\"black\"> #pad                    </font></mark><mark style=\"background-color: hsl(0, 75%, 100%); opacity:1.0;                     line-height:1.75\"><font color=\"black\"> #pad                    </font></mark><mark style=\"background-color: hsl(0, 75%, 100%); opacity:1.0;                     line-height:1.75\"><font color=\"black\"> #pad                    </font></mark></td><tr><tr><td><text style=\"padding-right:2em\"><b>positive</b></text></td><td><text style=\"padding-right:2em\"><b>positive (1.00)</b></text></td><td><text style=\"padding-right:2em\"><b>positive</b></text></td><td><text style=\"padding-right:2em\"><b>0.71</b></text></td><td><mark style=\"background-color: hsl(0, 75%, 94%); opacity:1.0;                     line-height:1.75\"><font color=\"black\"> such                    </font></mark><mark style=\"background-color: hsl(120, 75%, 51%); opacity:1.0;                     line-height:1.75\"><font color=\"black\"> great                    </font></mark><mark style=\"background-color: hsl(0, 75%, 97%); opacity:1.0;                     line-height:1.75\"><font color=\"black\"> show                    </font></mark><mark style=\"background-color: hsl(0, 75%, 100%); opacity:1.0;                     line-height:1.75\"><font color=\"black\"> #pad                    </font></mark><mark style=\"background-color: hsl(0, 75%, 100%); opacity:1.0;                     line-height:1.75\"><font color=\"black\"> #pad                    </font></mark><mark style=\"background-color: hsl(0, 75%, 100%); opacity:1.0;                     line-height:1.75\"><font color=\"black\"> #pad                    </font></mark><mark style=\"background-color: hsl(0, 75%, 100%); opacity:1.0;                     line-height:1.75\"><font color=\"black\"> #pad                    </font></mark><mark style=\"background-color: hsl(0, 75%, 100%); opacity:1.0;                     line-height:1.75\"><font color=\"black\"> #pad                    </font></mark><mark style=\"background-color: hsl(0, 75%, 100%); opacity:1.0;                     line-height:1.75\"><font color=\"black\"> #pad                    </font></mark><mark style=\"background-color: hsl(0, 75%, 100%); opacity:1.0;                     line-height:1.75\"><font color=\"black\"> #pad                    </font></mark><mark style=\"background-color: hsl(0, 75%, 100%); opacity:1.0;                     line-height:1.75\"><font color=\"black\"> #pad                    </font></mark><mark style=\"background-color: hsl(0, 75%, 100%); opacity:1.0;                     line-height:1.75\"><font color=\"black\"> #pad                    </font></mark><mark style=\"background-color: hsl(0, 75%, 100%); opacity:1.0;                     line-height:1.75\"><font color=\"black\"> #pad                    </font></mark><mark style=\"background-color: hsl(0, 75%, 100%); opacity:1.0;                     line-height:1.75\"><font color=\"black\"> #pad                    </font></mark><mark style=\"background-color: hsl(0, 75%, 100%); opacity:1.0;                     line-height:1.75\"><font color=\"black\"> #pad                    </font></mark><mark style=\"background-color: hsl(0, 75%, 100%); opacity:1.0;                     line-height:1.75\"><font color=\"black\"> #pad                    </font></mark><mark style=\"background-color: hsl(0, 75%, 100%); opacity:1.0;                     line-height:1.75\"><font color=\"black\"> #pad                    </font></mark><mark style=\"background-color: hsl(0, 75%, 100%); opacity:1.0;                     line-height:1.75\"><font color=\"black\"> #pad                    </font></mark><mark style=\"background-color: hsl(0, 75%, 100%); opacity:1.0;                     line-height:1.75\"><font color=\"black\"> #pad                    </font></mark><mark style=\"background-color: hsl(0, 75%, 100%); opacity:1.0;                     line-height:1.75\"><font color=\"black\"> #pad                    </font></mark><mark style=\"background-color: hsl(0, 75%, 100%); opacity:1.0;                     line-height:1.75\"><font color=\"black\"> #pad                    </font></mark><mark style=\"background-color: hsl(0, 75%, 100%); opacity:1.0;                     line-height:1.75\"><font color=\"black\"> #pad                    </font></mark><mark style=\"background-color: hsl(0, 75%, 100%); opacity:1.0;                     line-height:1.75\"><font color=\"black\"> #pad                    </font></mark></td><tr><tr><td><text style=\"padding-right:2em\"><b>negative</b></text></td><td><text style=\"padding-right:2em\"><b>negative (2.00)</b></text></td><td><text style=\"padding-right:2em\"><b>negative</b></text></td><td><text style=\"padding-right:2em\"><b>-1.58</b></text></td><td><mark style=\"background-color: hsl(0, 75%, 92%); opacity:1.0;                     line-height:1.75\"><font color=\"black\"> it                    </font></mark><mark style=\"background-color: hsl(0, 75%, 70%); opacity:1.0;                     line-height:1.75\"><font color=\"black\"> horribl                    </font></mark><mark style=\"background-color: hsl(0, 75%, 76%); opacity:1.0;                     line-height:1.75\"><font color=\"black\"> movi                    </font></mark><mark style=\"background-color: hsl(0, 75%, 100%); opacity:1.0;                     line-height:1.75\"><font color=\"black\"> #pad                    </font></mark><mark style=\"background-color: hsl(0, 75%, 100%); opacity:1.0;                     line-height:1.75\"><font color=\"black\"> #pad                    </font></mark><mark style=\"background-color: hsl(0, 75%, 100%); opacity:1.0;                     line-height:1.75\"><font color=\"black\"> #pad                    </font></mark><mark style=\"background-color: hsl(0, 75%, 100%); opacity:1.0;                     line-height:1.75\"><font color=\"black\"> #pad                    </font></mark><mark style=\"background-color: hsl(0, 75%, 100%); opacity:1.0;                     line-height:1.75\"><font color=\"black\"> #pad                    </font></mark><mark style=\"background-color: hsl(0, 75%, 100%); opacity:1.0;                     line-height:1.75\"><font color=\"black\"> #pad                    </font></mark><mark style=\"background-color: hsl(0, 75%, 100%); opacity:1.0;                     line-height:1.75\"><font color=\"black\"> #pad                    </font></mark><mark style=\"background-color: hsl(0, 75%, 100%); opacity:1.0;                     line-height:1.75\"><font color=\"black\"> #pad                    </font></mark><mark style=\"background-color: hsl(0, 75%, 100%); opacity:1.0;                     line-height:1.75\"><font color=\"black\"> #pad                    </font></mark><mark style=\"background-color: hsl(0, 75%, 100%); opacity:1.0;                     line-height:1.75\"><font color=\"black\"> #pad                    </font></mark><mark style=\"background-color: hsl(0, 75%, 100%); opacity:1.0;                     line-height:1.75\"><font color=\"black\"> #pad                    </font></mark><mark style=\"background-color: hsl(0, 75%, 100%); opacity:1.0;                     line-height:1.75\"><font color=\"black\"> #pad                    </font></mark><mark style=\"background-color: hsl(0, 75%, 100%); opacity:1.0;                     line-height:1.75\"><font color=\"black\"> #pad                    </font></mark><mark style=\"background-color: hsl(0, 75%, 100%); opacity:1.0;                     line-height:1.75\"><font color=\"black\"> #pad                    </font></mark><mark style=\"background-color: hsl(0, 75%, 100%); opacity:1.0;                     line-height:1.75\"><font color=\"black\"> #pad                    </font></mark><mark style=\"background-color: hsl(0, 75%, 100%); opacity:1.0;                     line-height:1.75\"><font color=\"black\"> #pad                    </font></mark><mark style=\"background-color: hsl(0, 75%, 100%); opacity:1.0;                     line-height:1.75\"><font color=\"black\"> #pad                    </font></mark><mark style=\"background-color: hsl(0, 75%, 100%); opacity:1.0;                     line-height:1.75\"><font color=\"black\"> #pad                    </font></mark><mark style=\"background-color: hsl(0, 75%, 100%); opacity:1.0;                     line-height:1.75\"><font color=\"black\"> #pad                    </font></mark><mark style=\"background-color: hsl(0, 75%, 100%); opacity:1.0;                     line-height:1.75\"><font color=\"black\"> #pad                    </font></mark></td><tr><tr><td><text style=\"padding-right:2em\"><b>negative</b></text></td><td><text style=\"padding-right:2em\"><b>negative (2.00)</b></text></td><td><text style=\"padding-right:2em\"><b>negative</b></text></td><td><text style=\"padding-right:2em\"><b>-0.95</b></text></td><td><mark style=\"background-color: hsl(120, 75%, 99%); opacity:1.0;                     line-height:1.75\"><font color=\"black\"> ve                    </font></mark><mark style=\"background-color: hsl(120, 75%, 99%); opacity:1.0;                     line-height:1.75\"><font color=\"black\"> watch                    </font></mark><mark style=\"background-color: hsl(0, 75%, 61%); opacity:1.0;                     line-height:1.75\"><font color=\"black\"> bad                    </font></mark><mark style=\"background-color: hsl(0, 75%, 100%); opacity:1.0;                     line-height:1.75\"><font color=\"black\"> #pad                    </font></mark><mark style=\"background-color: hsl(0, 75%, 100%); opacity:1.0;                     line-height:1.75\"><font color=\"black\"> #pad                    </font></mark><mark style=\"background-color: hsl(0, 75%, 100%); opacity:1.0;                     line-height:1.75\"><font color=\"black\"> #pad                    </font></mark><mark style=\"background-color: hsl(0, 75%, 100%); opacity:1.0;                     line-height:1.75\"><font color=\"black\"> #pad                    </font></mark><mark style=\"background-color: hsl(0, 75%, 100%); opacity:1.0;                     line-height:1.75\"><font color=\"black\"> #pad                    </font></mark><mark style=\"background-color: hsl(0, 75%, 100%); opacity:1.0;                     line-height:1.75\"><font color=\"black\"> #pad                    </font></mark><mark style=\"background-color: hsl(0, 75%, 100%); opacity:1.0;                     line-height:1.75\"><font color=\"black\"> #pad                    </font></mark><mark style=\"background-color: hsl(0, 75%, 100%); opacity:1.0;                     line-height:1.75\"><font color=\"black\"> #pad                    </font></mark><mark style=\"background-color: hsl(0, 75%, 100%); opacity:1.0;                     line-height:1.75\"><font color=\"black\"> #pad                    </font></mark><mark style=\"background-color: hsl(0, 75%, 100%); opacity:1.0;                     line-height:1.75\"><font color=\"black\"> #pad                    </font></mark><mark style=\"background-color: hsl(0, 75%, 100%); opacity:1.0;                     line-height:1.75\"><font color=\"black\"> #pad                    </font></mark><mark style=\"background-color: hsl(0, 75%, 100%); opacity:1.0;                     line-height:1.75\"><font color=\"black\"> #pad                    </font></mark><mark style=\"background-color: hsl(0, 75%, 100%); opacity:1.0;                     line-height:1.75\"><font color=\"black\"> #pad                    </font></mark><mark style=\"background-color: hsl(0, 75%, 100%); opacity:1.0;                     line-height:1.75\"><font color=\"black\"> #pad                    </font></mark><mark style=\"background-color: hsl(0, 75%, 100%); opacity:1.0;                     line-height:1.75\"><font color=\"black\"> #pad                    </font></mark><mark style=\"background-color: hsl(0, 75%, 100%); opacity:1.0;                     line-height:1.75\"><font color=\"black\"> #pad                    </font></mark><mark style=\"background-color: hsl(0, 75%, 100%); opacity:1.0;                     line-height:1.75\"><font color=\"black\"> #pad                    </font></mark><mark style=\"background-color: hsl(0, 75%, 100%); opacity:1.0;                     line-height:1.75\"><font color=\"black\"> #pad                    </font></mark><mark style=\"background-color: hsl(0, 75%, 100%); opacity:1.0;                     line-height:1.75\"><font color=\"black\"> #pad                    </font></mark><mark style=\"background-color: hsl(0, 75%, 100%); opacity:1.0;                     line-height:1.75\"><font color=\"black\"> #pad                    </font></mark></td><tr><tr><td><text style=\"padding-right:2em\"><b>negative</b></text></td><td><text style=\"padding-right:2em\"><b>negative (2.00)</b></text></td><td><text style=\"padding-right:2em\"><b>negative</b></text></td><td><text style=\"padding-right:2em\"><b>-1.60</b></text></td><td><mark style=\"background-color: hsl(0, 75%, 91%); opacity:1.0;                     line-height:1.75\"><font color=\"black\"> it                    </font></mark><mark style=\"background-color: hsl(0, 75%, 69%); opacity:1.0;                     line-height:1.75\"><font color=\"black\"> disgust                    </font></mark><mark style=\"background-color: hsl(0, 75%, 78%); opacity:1.0;                     line-height:1.75\"><font color=\"black\"> movi                    </font></mark><mark style=\"background-color: hsl(0, 75%, 100%); opacity:1.0;                     line-height:1.75\"><font color=\"black\"> #pad                    </font></mark><mark style=\"background-color: hsl(0, 75%, 100%); opacity:1.0;                     line-height:1.75\"><font color=\"black\"> #pad                    </font></mark><mark style=\"background-color: hsl(0, 75%, 100%); opacity:1.0;                     line-height:1.75\"><font color=\"black\"> #pad                    </font></mark><mark style=\"background-color: hsl(0, 75%, 100%); opacity:1.0;                     line-height:1.75\"><font color=\"black\"> #pad                    </font></mark><mark style=\"background-color: hsl(0, 75%, 100%); opacity:1.0;                     line-height:1.75\"><font color=\"black\"> #pad                    </font></mark><mark style=\"background-color: hsl(0, 75%, 100%); opacity:1.0;                     line-height:1.75\"><font color=\"black\"> #pad                    </font></mark><mark style=\"background-color: hsl(0, 75%, 100%); opacity:1.0;                     line-height:1.75\"><font color=\"black\"> #pad                    </font></mark><mark style=\"background-color: hsl(0, 75%, 100%); opacity:1.0;                     line-height:1.75\"><font color=\"black\"> #pad                    </font></mark><mark style=\"background-color: hsl(0, 75%, 100%); opacity:1.0;                     line-height:1.75\"><font color=\"black\"> #pad                    </font></mark><mark style=\"background-color: hsl(0, 75%, 100%); opacity:1.0;                     line-height:1.75\"><font color=\"black\"> #pad                    </font></mark><mark style=\"background-color: hsl(0, 75%, 100%); opacity:1.0;                     line-height:1.75\"><font color=\"black\"> #pad                    </font></mark><mark style=\"background-color: hsl(0, 75%, 100%); opacity:1.0;                     line-height:1.75\"><font color=\"black\"> #pad                    </font></mark><mark style=\"background-color: hsl(0, 75%, 100%); opacity:1.0;                     line-height:1.75\"><font color=\"black\"> #pad                    </font></mark><mark style=\"background-color: hsl(0, 75%, 100%); opacity:1.0;                     line-height:1.75\"><font color=\"black\"> #pad                    </font></mark><mark style=\"background-color: hsl(0, 75%, 100%); opacity:1.0;                     line-height:1.75\"><font color=\"black\"> #pad                    </font></mark><mark style=\"background-color: hsl(0, 75%, 100%); opacity:1.0;                     line-height:1.75\"><font color=\"black\"> #pad                    </font></mark><mark style=\"background-color: hsl(0, 75%, 100%); opacity:1.0;                     line-height:1.75\"><font color=\"black\"> #pad                    </font></mark><mark style=\"background-color: hsl(0, 75%, 100%); opacity:1.0;                     line-height:1.75\"><font color=\"black\"> #pad                    </font></mark><mark style=\"background-color: hsl(0, 75%, 100%); opacity:1.0;                     line-height:1.75\"><font color=\"black\"> #pad                    </font></mark><mark style=\"background-color: hsl(0, 75%, 100%); opacity:1.0;                     line-height:1.75\"><font color=\"black\"> #pad                    </font></mark></td><tr><tr><td><text style=\"padding-right:2em\"><b>netural</b></text></td><td><text style=\"padding-right:2em\"><b>negative (2.00)</b></text></td><td><text style=\"padding-right:2em\"><b>netural</b></text></td><td><text style=\"padding-right:2em\"><b>1.00</b></text></td><td><mark style=\"background-color: hsl(120, 75%, 50%); opacity:1.0;                     line-height:1.75\"><font color=\"black\"> normal                    </font></mark><mark style=\"background-color: hsl(0, 75%, 100%); opacity:1.0;                     line-height:1.75\"><font color=\"black\"> #pad                    </font></mark><mark style=\"background-color: hsl(0, 75%, 100%); opacity:1.0;                     line-height:1.75\"><font color=\"black\"> #pad                    </font></mark><mark style=\"background-color: hsl(0, 75%, 100%); opacity:1.0;                     line-height:1.75\"><font color=\"black\"> #pad                    </font></mark><mark style=\"background-color: hsl(0, 75%, 100%); opacity:1.0;                     line-height:1.75\"><font color=\"black\"> #pad                    </font></mark><mark style=\"background-color: hsl(0, 75%, 100%); opacity:1.0;                     line-height:1.75\"><font color=\"black\"> #pad                    </font></mark><mark style=\"background-color: hsl(0, 75%, 100%); opacity:1.0;                     line-height:1.75\"><font color=\"black\"> #pad                    </font></mark><mark style=\"background-color: hsl(0, 75%, 100%); opacity:1.0;                     line-height:1.75\"><font color=\"black\"> #pad                    </font></mark><mark style=\"background-color: hsl(0, 75%, 100%); opacity:1.0;                     line-height:1.75\"><font color=\"black\"> #pad                    </font></mark><mark style=\"background-color: hsl(0, 75%, 100%); opacity:1.0;                     line-height:1.75\"><font color=\"black\"> #pad                    </font></mark><mark style=\"background-color: hsl(0, 75%, 100%); opacity:1.0;                     line-height:1.75\"><font color=\"black\"> #pad                    </font></mark><mark style=\"background-color: hsl(0, 75%, 100%); opacity:1.0;                     line-height:1.75\"><font color=\"black\"> #pad                    </font></mark><mark style=\"background-color: hsl(0, 75%, 100%); opacity:1.0;                     line-height:1.75\"><font color=\"black\"> #pad                    </font></mark><mark style=\"background-color: hsl(0, 75%, 100%); opacity:1.0;                     line-height:1.75\"><font color=\"black\"> #pad                    </font></mark><mark style=\"background-color: hsl(0, 75%, 100%); opacity:1.0;                     line-height:1.75\"><font color=\"black\"> #pad                    </font></mark><mark style=\"background-color: hsl(0, 75%, 100%); opacity:1.0;                     line-height:1.75\"><font color=\"black\"> #pad                    </font></mark><mark style=\"background-color: hsl(0, 75%, 100%); opacity:1.0;                     line-height:1.75\"><font color=\"black\"> #pad                    </font></mark><mark style=\"background-color: hsl(0, 75%, 100%); opacity:1.0;                     line-height:1.75\"><font color=\"black\"> #pad                    </font></mark><mark style=\"background-color: hsl(0, 75%, 100%); opacity:1.0;                     line-height:1.75\"><font color=\"black\"> #pad                    </font></mark><mark style=\"background-color: hsl(0, 75%, 100%); opacity:1.0;                     line-height:1.75\"><font color=\"black\"> #pad                    </font></mark><mark style=\"background-color: hsl(0, 75%, 100%); opacity:1.0;                     line-height:1.75\"><font color=\"black\"> #pad                    </font></mark><mark style=\"background-color: hsl(0, 75%, 100%); opacity:1.0;                     line-height:1.75\"><font color=\"black\"> #pad                    </font></mark><mark style=\"background-color: hsl(0, 75%, 100%); opacity:1.0;                     line-height:1.75\"><font color=\"black\"> #pad                    </font></mark></td><tr></table>"
            ],
            "text/plain": [
              "<IPython.core.display.HTML object>"
            ]
          },
          "metadata": {
            "tags": []
          }
        }
      ]
    },
    {
      "cell_type": "code",
      "metadata": {
        "pycharm": {
          "name": "#%%\n"
        },
        "id": "3R8NdKcbz9kt"
      },
      "source": [
        "vis_word = []\n",
        "colorlist= []\n",
        "def interpret_word(model, word, min_len = max_document_length, label = 0):\n",
        "    model.train()\n",
        "    text = preprocess(word)\n",
        "    actual_len = 1\n",
        "    if len(text) < min_len:\n",
        "        text += ['<pad>'] * (min_len - len(text))\n",
        "    indexed = [Text.vocab.stoi[t] for t in text]\n",
        "\n",
        "    model.zero_grad()\n",
        "\n",
        "    input_indices = torch.tensor(indexed, device=device)\n",
        "    input_indices = input_indices.unsqueeze(0)\n",
        "    text_length = torch.tensor([actual_len], device=device)\n",
        "    # input_indices dim: [sequence_length]\n",
        "    seq_length = min_len\n",
        "\n",
        "    # predict\n",
        "    pred = F.softmax(model(input_indices, text_length)[0]).cpu()\n",
        "\n",
        "\n",
        "    vis_word.append(pred.detach().numpy().squeeze(0))\n",
        "    colorlist.append({0:'#00ff00', 1: '#00ffff', 2:'#000000' }[pred.argmax(dim=1).item()])"
      ],
      "execution_count": 38,
      "outputs": []
    },
    {
      "cell_type": "code",
      "metadata": {
        "pycharm": {
          "name": "#%%\n"
        },
        "id": "kMTrDK7sz9kt",
        "outputId": "be9a3f13-4c76-4d23-fb91-a5e2da1be075",
        "colab": {
          "base_uri": "https://localhost:8080/"
        }
      },
      "source": [
        "for i in Text.vocab.itos:\n",
        "    interpret_word(lstm_model, i)"
      ],
      "execution_count": 39,
      "outputs": [
        {
          "output_type": "stream",
          "text": [
            "/usr/local/lib/python3.7/dist-packages/ipykernel_launcher.py:20: UserWarning: Implicit dimension choice for softmax has been deprecated. Change the call to include dim=X as an argument.\n"
          ],
          "name": "stderr"
        }
      ]
    },
    {
      "cell_type": "code",
      "metadata": {
        "pycharm": {
          "name": "#%%\n"
        },
        "id": "ndkX6219z9kt"
      },
      "source": [
        "from sklearn.manifold import TSNE\n",
        "tsne = TSNE(n_components=2, random_state=0)\n",
        "words_top_ted_tsne = tsne.fit_transform(vis_word)"
      ],
      "execution_count": 40,
      "outputs": []
    },
    {
      "cell_type": "code",
      "metadata": {
        "ExecuteTime": {
          "end_time": "2021-04-05T15:55:28.003009Z",
          "start_time": "2021-04-05T15:55:27.883014Z"
        },
        "pycharm": {
          "name": "#%%\n"
        },
        "id": "Yd79T06dz9kt",
        "outputId": "44a51fe1-47d8-4307-cb08-da572e2c800c",
        "colab": {
          "base_uri": "https://localhost:8080/",
          "height": 617
        }
      },
      "source": [
        "p = figure(tools=\"pan,wheel_zoom,reset,save\",\n",
        "           toolbar_location=\"above\",\n",
        "           title=\"vector T-SNE for most polarized words\")\n",
        "\n",
        "source = ColumnDataSource(data=dict(x1=words_top_ted_tsne[:,0],\n",
        "                                    x2=words_top_ted_tsne[:,1],\n",
        "                                    names=Text.vocab.itos,\n",
        "                                    color=colorlist))\n",
        "\n",
        "p.scatter(x=\"x1\", y=\"x2\", size=8, source=source, fill_color=\"color\")\n",
        "\n",
        "word_labels = LabelSet(x=\"x1\", y=\"x2\", text=\"names\", y_offset=6,\n",
        "                       text_font_size=\"8pt\", text_color=\"#555555\",\n",
        "                       source=source, text_align='center',render_mode='canvas')\n",
        "# p.add_layout(word_labels)\n",
        "\n",
        "show(p)\n"
      ],
      "execution_count": 41,
      "outputs": [
        {
          "output_type": "display_data",
          "data": {
            "application/javascript": [
              "\n",
              "(function(root) {\n",
              "  function now() {\n",
              "    return new Date();\n",
              "  }\n",
              "\n",
              "  var force = true;\n",
              "\n",
              "  if (typeof root._bokeh_onload_callbacks === \"undefined\" || force === true) {\n",
              "    root._bokeh_onload_callbacks = [];\n",
              "    root._bokeh_is_loading = undefined;\n",
              "  }\n",
              "\n",
              "  var JS_MIME_TYPE = 'application/javascript';\n",
              "  var HTML_MIME_TYPE = 'text/html';\n",
              "  var EXEC_MIME_TYPE = 'application/vnd.bokehjs_exec.v0+json';\n",
              "  var CLASS_NAME = 'output_bokeh rendered_html';\n",
              "\n",
              "  /**\n",
              "   * Render data to the DOM node\n",
              "   */\n",
              "  function render(props, node) {\n",
              "    var script = document.createElement(\"script\");\n",
              "    node.appendChild(script);\n",
              "  }\n",
              "\n",
              "  /**\n",
              "   * Handle when an output is cleared or removed\n",
              "   */\n",
              "  function handleClearOutput(event, handle) {\n",
              "    var cell = handle.cell;\n",
              "\n",
              "    var id = cell.output_area._bokeh_element_id;\n",
              "    var server_id = cell.output_area._bokeh_server_id;\n",
              "    // Clean up Bokeh references\n",
              "    if (id != null && id in Bokeh.index) {\n",
              "      Bokeh.index[id].model.document.clear();\n",
              "      delete Bokeh.index[id];\n",
              "    }\n",
              "\n",
              "    if (server_id !== undefined) {\n",
              "      // Clean up Bokeh references\n",
              "      var cmd = \"from bokeh.io.state import curstate; print(curstate().uuid_to_server['\" + server_id + \"'].get_sessions()[0].document.roots[0]._id)\";\n",
              "      cell.notebook.kernel.execute(cmd, {\n",
              "        iopub: {\n",
              "          output: function(msg) {\n",
              "            var id = msg.content.text.trim();\n",
              "            if (id in Bokeh.index) {\n",
              "              Bokeh.index[id].model.document.clear();\n",
              "              delete Bokeh.index[id];\n",
              "            }\n",
              "          }\n",
              "        }\n",
              "      });\n",
              "      // Destroy server and session\n",
              "      var cmd = \"import bokeh.io.notebook as ion; ion.destroy_server('\" + server_id + \"')\";\n",
              "      cell.notebook.kernel.execute(cmd);\n",
              "    }\n",
              "  }\n",
              "\n",
              "  /**\n",
              "   * Handle when a new output is added\n",
              "   */\n",
              "  function handleAddOutput(event, handle) {\n",
              "    var output_area = handle.output_area;\n",
              "    var output = handle.output;\n",
              "\n",
              "    // limit handleAddOutput to display_data with EXEC_MIME_TYPE content only\n",
              "    if ((output.output_type != \"display_data\") || (!Object.prototype.hasOwnProperty.call(output.data, EXEC_MIME_TYPE))) {\n",
              "      return\n",
              "    }\n",
              "\n",
              "    var toinsert = output_area.element.find(\".\" + CLASS_NAME.split(' ')[0]);\n",
              "\n",
              "    if (output.metadata[EXEC_MIME_TYPE][\"id\"] !== undefined) {\n",
              "      toinsert[toinsert.length - 1].firstChild.textContent = output.data[JS_MIME_TYPE];\n",
              "      // store reference to embed id on output_area\n",
              "      output_area._bokeh_element_id = output.metadata[EXEC_MIME_TYPE][\"id\"];\n",
              "    }\n",
              "    if (output.metadata[EXEC_MIME_TYPE][\"server_id\"] !== undefined) {\n",
              "      var bk_div = document.createElement(\"div\");\n",
              "      bk_div.innerHTML = output.data[HTML_MIME_TYPE];\n",
              "      var script_attrs = bk_div.children[0].attributes;\n",
              "      for (var i = 0; i < script_attrs.length; i++) {\n",
              "        toinsert[toinsert.length - 1].firstChild.setAttribute(script_attrs[i].name, script_attrs[i].value);\n",
              "        toinsert[toinsert.length - 1].firstChild.textContent = bk_div.children[0].textContent\n",
              "      }\n",
              "      // store reference to server id on output_area\n",
              "      output_area._bokeh_server_id = output.metadata[EXEC_MIME_TYPE][\"server_id\"];\n",
              "    }\n",
              "  }\n",
              "\n",
              "  function register_renderer(events, OutputArea) {\n",
              "\n",
              "    function append_mime(data, metadata, element) {\n",
              "      // create a DOM node to render to\n",
              "      var toinsert = this.create_output_subarea(\n",
              "        metadata,\n",
              "        CLASS_NAME,\n",
              "        EXEC_MIME_TYPE\n",
              "      );\n",
              "      this.keyboard_manager.register_events(toinsert);\n",
              "      // Render to node\n",
              "      var props = {data: data, metadata: metadata[EXEC_MIME_TYPE]};\n",
              "      render(props, toinsert[toinsert.length - 1]);\n",
              "      element.append(toinsert);\n",
              "      return toinsert\n",
              "    }\n",
              "\n",
              "    /* Handle when an output is cleared or removed */\n",
              "    events.on('clear_output.CodeCell', handleClearOutput);\n",
              "    events.on('delete.Cell', handleClearOutput);\n",
              "\n",
              "    /* Handle when a new output is added */\n",
              "    events.on('output_added.OutputArea', handleAddOutput);\n",
              "\n",
              "    /**\n",
              "     * Register the mime type and append_mime function with output_area\n",
              "     */\n",
              "    OutputArea.prototype.register_mime_type(EXEC_MIME_TYPE, append_mime, {\n",
              "      /* Is output safe? */\n",
              "      safe: true,\n",
              "      /* Index of renderer in `output_area.display_order` */\n",
              "      index: 0\n",
              "    });\n",
              "  }\n",
              "\n",
              "  // register the mime type if in Jupyter Notebook environment and previously unregistered\n",
              "  if (root.Jupyter !== undefined) {\n",
              "    var events = require('base/js/events');\n",
              "    var OutputArea = require('notebook/js/outputarea').OutputArea;\n",
              "\n",
              "    if (OutputArea.prototype.mime_types().indexOf(EXEC_MIME_TYPE) == -1) {\n",
              "      register_renderer(events, OutputArea);\n",
              "    }\n",
              "  }\n",
              "\n",
              "  \n",
              "  if (typeof (root._bokeh_timeout) === \"undefined\" || force === true) {\n",
              "    root._bokeh_timeout = Date.now() + 5000;\n",
              "    root._bokeh_failed_load = false;\n",
              "  }\n",
              "\n",
              "  var NB_LOAD_WARNING = {'data': {'text/html':\n",
              "     \"<div style='background-color: #fdd'>\\n\"+\n",
              "     \"<p>\\n\"+\n",
              "     \"BokehJS does not appear to have successfully loaded. If loading BokehJS from CDN, this \\n\"+\n",
              "     \"may be due to a slow or bad network connection. Possible fixes:\\n\"+\n",
              "     \"</p>\\n\"+\n",
              "     \"<ul>\\n\"+\n",
              "     \"<li>re-rerun `output_notebook()` to attempt to load from CDN again, or</li>\\n\"+\n",
              "     \"<li>use INLINE resources instead, as so:</li>\\n\"+\n",
              "     \"</ul>\\n\"+\n",
              "     \"<code>\\n\"+\n",
              "     \"from bokeh.resources import INLINE\\n\"+\n",
              "     \"output_notebook(resources=INLINE)\\n\"+\n",
              "     \"</code>\\n\"+\n",
              "     \"</div>\"}};\n",
              "\n",
              "  function display_loaded() {\n",
              "    var el = document.getElementById(null);\n",
              "    if (el != null) {\n",
              "      el.textContent = \"BokehJS is loading...\";\n",
              "    }\n",
              "    if (root.Bokeh !== undefined) {\n",
              "      if (el != null) {\n",
              "        el.textContent = \"BokehJS \" + root.Bokeh.version + \" successfully loaded.\";\n",
              "      }\n",
              "    } else if (Date.now() < root._bokeh_timeout) {\n",
              "      setTimeout(display_loaded, 100)\n",
              "    }\n",
              "  }\n",
              "\n",
              "\n",
              "  function run_callbacks() {\n",
              "    try {\n",
              "      root._bokeh_onload_callbacks.forEach(function(callback) {\n",
              "        if (callback != null)\n",
              "          callback();\n",
              "      });\n",
              "    } finally {\n",
              "      delete root._bokeh_onload_callbacks\n",
              "    }\n",
              "    console.debug(\"Bokeh: all callbacks have finished\");\n",
              "  }\n",
              "\n",
              "  function load_libs(css_urls, js_urls, callback) {\n",
              "    if (css_urls == null) css_urls = [];\n",
              "    if (js_urls == null) js_urls = [];\n",
              "\n",
              "    root._bokeh_onload_callbacks.push(callback);\n",
              "    if (root._bokeh_is_loading > 0) {\n",
              "      console.debug(\"Bokeh: BokehJS is being loaded, scheduling callback at\", now());\n",
              "      return null;\n",
              "    }\n",
              "    if (js_urls == null || js_urls.length === 0) {\n",
              "      run_callbacks();\n",
              "      return null;\n",
              "    }\n",
              "    console.debug(\"Bokeh: BokehJS not loaded, scheduling load and callback at\", now());\n",
              "    root._bokeh_is_loading = css_urls.length + js_urls.length;\n",
              "\n",
              "    function on_load() {\n",
              "      root._bokeh_is_loading--;\n",
              "      if (root._bokeh_is_loading === 0) {\n",
              "        console.debug(\"Bokeh: all BokehJS libraries/stylesheets loaded\");\n",
              "        run_callbacks()\n",
              "      }\n",
              "    }\n",
              "\n",
              "    function on_error(url) {\n",
              "      console.error(\"failed to load \" + url);\n",
              "    }\n",
              "\n",
              "    for (let i = 0; i < css_urls.length; i++) {\n",
              "      const url = css_urls[i];\n",
              "      const element = document.createElement(\"link\");\n",
              "      element.onload = on_load;\n",
              "      element.onerror = on_error.bind(null, url);\n",
              "      element.rel = \"stylesheet\";\n",
              "      element.type = \"text/css\";\n",
              "      element.href = url;\n",
              "      console.debug(\"Bokeh: injecting link tag for BokehJS stylesheet: \", url);\n",
              "      document.body.appendChild(element);\n",
              "    }\n",
              "\n",
              "    const hashes = {\"https://cdn.bokeh.org/bokeh/release/bokeh-2.3.0.min.js\": \"HjagQp6T0/7bxYTAXbLotF1MLAGWmhkY5siA1Gc/pcEgvgRPtMsRn0gQtMwGKiw1\", \"https://cdn.bokeh.org/bokeh/release/bokeh-widgets-2.3.0.min.js\": \"ZEPPTjL+mdyqgIq+/pl9KTwzji8Kow2NnI3zWY8+sFinWP/SYJ80BnfeJsa45iYj\", \"https://cdn.bokeh.org/bokeh/release/bokeh-tables-2.3.0.min.js\": \"exLqv2ACDRIaV7ZK1iL8aGzGYQvKVuT3U2CT7FsQREBxRah6JrkVCoFy0koY1YqV\"};\n",
              "\n",
              "    for (let i = 0; i < js_urls.length; i++) {\n",
              "      const url = js_urls[i];\n",
              "      const element = document.createElement('script');\n",
              "      element.onload = on_load;\n",
              "      element.onerror = on_error.bind(null, url);\n",
              "      element.async = false;\n",
              "      element.src = url;\n",
              "      if (url in hashes) {\n",
              "        element.crossOrigin = \"anonymous\";\n",
              "        element.integrity = \"sha384-\" + hashes[url];\n",
              "      }\n",
              "      console.debug(\"Bokeh: injecting script tag for BokehJS library: \", url);\n",
              "      document.head.appendChild(element);\n",
              "    }\n",
              "  };\n",
              "\n",
              "  function inject_raw_css(css) {\n",
              "    const element = document.createElement(\"style\");\n",
              "    element.appendChild(document.createTextNode(css));\n",
              "    document.body.appendChild(element);\n",
              "  }\n",
              "\n",
              "  \n",
              "  var js_urls = [\"https://cdn.bokeh.org/bokeh/release/bokeh-2.3.0.min.js\", \"https://cdn.bokeh.org/bokeh/release/bokeh-widgets-2.3.0.min.js\", \"https://cdn.bokeh.org/bokeh/release/bokeh-tables-2.3.0.min.js\"];\n",
              "  var css_urls = [];\n",
              "  \n",
              "\n",
              "  var inline_js = [\n",
              "    function(Bokeh) {\n",
              "      Bokeh.set_log_level(\"info\");\n",
              "    },\n",
              "    function(Bokeh) {\n",
              "    \n",
              "    \n",
              "    }\n",
              "  ];\n",
              "\n",
              "  function run_inline_js() {\n",
              "    \n",
              "    if (root.Bokeh !== undefined || force === true) {\n",
              "      \n",
              "    for (var i = 0; i < inline_js.length; i++) {\n",
              "      inline_js[i].call(root, root.Bokeh);\n",
              "    }\n",
              "    } else if (Date.now() < root._bokeh_timeout) {\n",
              "      setTimeout(run_inline_js, 100);\n",
              "    } else if (!root._bokeh_failed_load) {\n",
              "      console.log(\"Bokeh: BokehJS failed to load within specified timeout.\");\n",
              "      root._bokeh_failed_load = true;\n",
              "    } else if (force !== true) {\n",
              "      var cell = $(document.getElementById(null)).parents('.cell').data().cell;\n",
              "      cell.output_area.append_execute_result(NB_LOAD_WARNING)\n",
              "    }\n",
              "\n",
              "  }\n",
              "\n",
              "  if (root._bokeh_is_loading === 0) {\n",
              "    console.debug(\"Bokeh: BokehJS loaded, going straight to plotting\");\n",
              "    run_inline_js();\n",
              "  } else {\n",
              "    load_libs(css_urls, js_urls, function() {\n",
              "      console.debug(\"Bokeh: BokehJS plotting callback run at\", now());\n",
              "      run_inline_js();\n",
              "    });\n",
              "  }\n",
              "}(window));"
            ],
            "application/vnd.bokehjs_load.v0+json": "\n(function(root) {\n  function now() {\n    return new Date();\n  }\n\n  var force = true;\n\n  if (typeof root._bokeh_onload_callbacks === \"undefined\" || force === true) {\n    root._bokeh_onload_callbacks = [];\n    root._bokeh_is_loading = undefined;\n  }\n\n  \n\n  \n  if (typeof (root._bokeh_timeout) === \"undefined\" || force === true) {\n    root._bokeh_timeout = Date.now() + 5000;\n    root._bokeh_failed_load = false;\n  }\n\n  var NB_LOAD_WARNING = {'data': {'text/html':\n     \"<div style='background-color: #fdd'>\\n\"+\n     \"<p>\\n\"+\n     \"BokehJS does not appear to have successfully loaded. If loading BokehJS from CDN, this \\n\"+\n     \"may be due to a slow or bad network connection. Possible fixes:\\n\"+\n     \"</p>\\n\"+\n     \"<ul>\\n\"+\n     \"<li>re-rerun `output_notebook()` to attempt to load from CDN again, or</li>\\n\"+\n     \"<li>use INLINE resources instead, as so:</li>\\n\"+\n     \"</ul>\\n\"+\n     \"<code>\\n\"+\n     \"from bokeh.resources import INLINE\\n\"+\n     \"output_notebook(resources=INLINE)\\n\"+\n     \"</code>\\n\"+\n     \"</div>\"}};\n\n  function display_loaded() {\n    var el = document.getElementById(null);\n    if (el != null) {\n      el.textContent = \"BokehJS is loading...\";\n    }\n    if (root.Bokeh !== undefined) {\n      if (el != null) {\n        el.textContent = \"BokehJS \" + root.Bokeh.version + \" successfully loaded.\";\n      }\n    } else if (Date.now() < root._bokeh_timeout) {\n      setTimeout(display_loaded, 100)\n    }\n  }\n\n\n  function run_callbacks() {\n    try {\n      root._bokeh_onload_callbacks.forEach(function(callback) {\n        if (callback != null)\n          callback();\n      });\n    } finally {\n      delete root._bokeh_onload_callbacks\n    }\n    console.debug(\"Bokeh: all callbacks have finished\");\n  }\n\n  function load_libs(css_urls, js_urls, callback) {\n    if (css_urls == null) css_urls = [];\n    if (js_urls == null) js_urls = [];\n\n    root._bokeh_onload_callbacks.push(callback);\n    if (root._bokeh_is_loading > 0) {\n      console.debug(\"Bokeh: BokehJS is being loaded, scheduling callback at\", now());\n      return null;\n    }\n    if (js_urls == null || js_urls.length === 0) {\n      run_callbacks();\n      return null;\n    }\n    console.debug(\"Bokeh: BokehJS not loaded, scheduling load and callback at\", now());\n    root._bokeh_is_loading = css_urls.length + js_urls.length;\n\n    function on_load() {\n      root._bokeh_is_loading--;\n      if (root._bokeh_is_loading === 0) {\n        console.debug(\"Bokeh: all BokehJS libraries/stylesheets loaded\");\n        run_callbacks()\n      }\n    }\n\n    function on_error(url) {\n      console.error(\"failed to load \" + url);\n    }\n\n    for (let i = 0; i < css_urls.length; i++) {\n      const url = css_urls[i];\n      const element = document.createElement(\"link\");\n      element.onload = on_load;\n      element.onerror = on_error.bind(null, url);\n      element.rel = \"stylesheet\";\n      element.type = \"text/css\";\n      element.href = url;\n      console.debug(\"Bokeh: injecting link tag for BokehJS stylesheet: \", url);\n      document.body.appendChild(element);\n    }\n\n    const hashes = {\"https://cdn.bokeh.org/bokeh/release/bokeh-2.3.0.min.js\": \"HjagQp6T0/7bxYTAXbLotF1MLAGWmhkY5siA1Gc/pcEgvgRPtMsRn0gQtMwGKiw1\", \"https://cdn.bokeh.org/bokeh/release/bokeh-widgets-2.3.0.min.js\": \"ZEPPTjL+mdyqgIq+/pl9KTwzji8Kow2NnI3zWY8+sFinWP/SYJ80BnfeJsa45iYj\", \"https://cdn.bokeh.org/bokeh/release/bokeh-tables-2.3.0.min.js\": \"exLqv2ACDRIaV7ZK1iL8aGzGYQvKVuT3U2CT7FsQREBxRah6JrkVCoFy0koY1YqV\"};\n\n    for (let i = 0; i < js_urls.length; i++) {\n      const url = js_urls[i];\n      const element = document.createElement('script');\n      element.onload = on_load;\n      element.onerror = on_error.bind(null, url);\n      element.async = false;\n      element.src = url;\n      if (url in hashes) {\n        element.crossOrigin = \"anonymous\";\n        element.integrity = \"sha384-\" + hashes[url];\n      }\n      console.debug(\"Bokeh: injecting script tag for BokehJS library: \", url);\n      document.head.appendChild(element);\n    }\n  };\n\n  function inject_raw_css(css) {\n    const element = document.createElement(\"style\");\n    element.appendChild(document.createTextNode(css));\n    document.body.appendChild(element);\n  }\n\n  \n  var js_urls = [\"https://cdn.bokeh.org/bokeh/release/bokeh-2.3.0.min.js\", \"https://cdn.bokeh.org/bokeh/release/bokeh-widgets-2.3.0.min.js\", \"https://cdn.bokeh.org/bokeh/release/bokeh-tables-2.3.0.min.js\"];\n  var css_urls = [];\n  \n\n  var inline_js = [\n    function(Bokeh) {\n      Bokeh.set_log_level(\"info\");\n    },\n    function(Bokeh) {\n    \n    \n    }\n  ];\n\n  function run_inline_js() {\n    \n    if (root.Bokeh !== undefined || force === true) {\n      \n    for (var i = 0; i < inline_js.length; i++) {\n      inline_js[i].call(root, root.Bokeh);\n    }\n    } else if (Date.now() < root._bokeh_timeout) {\n      setTimeout(run_inline_js, 100);\n    } else if (!root._bokeh_failed_load) {\n      console.log(\"Bokeh: BokehJS failed to load within specified timeout.\");\n      root._bokeh_failed_load = true;\n    } else if (force !== true) {\n      var cell = $(document.getElementById(null)).parents('.cell').data().cell;\n      cell.output_area.append_execute_result(NB_LOAD_WARNING)\n    }\n\n  }\n\n  if (root._bokeh_is_loading === 0) {\n    console.debug(\"Bokeh: BokehJS loaded, going straight to plotting\");\n    run_inline_js();\n  } else {\n    load_libs(css_urls, js_urls, function() {\n      console.debug(\"Bokeh: BokehJS plotting callback run at\", now());\n      run_inline_js();\n    });\n  }\n}(window));"
          },
          "metadata": {
            "tags": []
          }
        },
        {
          "output_type": "display_data",
          "data": {
            "text/html": [
              "\n",
              "\n",
              "\n",
              "\n",
              "\n",
              "\n",
              "  <div class=\"bk-root\" id=\"d90b1cc5-e121-45fa-9330-2737869b3748\" data-root-id=\"1191\"></div>\n"
            ]
          },
          "metadata": {
            "tags": []
          }
        },
        {
          "output_type": "display_data",
          "data": {
            "application/javascript": [
              "(function(root) {\n",
              "  function embed_document(root) {\n",
              "    \n",
              "  var docs_json = {\"a36997f5-7e57-4833-b7ce-8a1c05ae1b0b\":{\"defs\":[{\"extends\":null,\"module\":null,\"name\":\"DataModel\",\"overrides\":[],\"properties\":[]}],\"roots\":{\"references\":[{\"attributes\":{\"below\":[{\"id\":\"1202\"}],\"center\":[{\"id\":\"1205\"},{\"id\":\"1209\"}],\"left\":[{\"id\":\"1206\"}],\"renderers\":[{\"id\":\"1223\"}],\"title\":{\"id\":\"1192\"},\"toolbar\":{\"id\":\"1214\"},\"toolbar_location\":\"above\",\"x_range\":{\"id\":\"1194\"},\"x_scale\":{\"id\":\"1198\"},\"y_range\":{\"id\":\"1196\"},\"y_scale\":{\"id\":\"1200\"}},\"id\":\"1191\",\"subtype\":\"Figure\",\"type\":\"Plot\"},{\"attributes\":{\"source\":{\"id\":\"1219\"}},\"id\":\"1224\",\"type\":\"CDSView\"},{\"attributes\":{\"axis\":{\"id\":\"1206\"},\"dimension\":1,\"ticker\":null},\"id\":\"1209\",\"type\":\"Grid\"},{\"attributes\":{\"data\":{\"color\":[\"#00ff00\",\"#00ff00\",\"#00ff00\",\"#00ffff\",\"#00ff00\",\"#00ff00\",\"#00ff00\",\"#00ff00\",\"#00ff00\",\"#000000\",\"#00ffff\",\"#000000\",\"#000000\",\"#000000\",\"#00ff00\",\"#000000\",\"#000000\",\"#000000\",\"#000000\",\"#00ff00\",\"#000000\",\"#000000\",\"#000000\",\"#00ff00\",\"#000000\",\"#000000\",\"#00ff00\",\"#000000\",\"#000000\",\"#000000\",\"#000000\",\"#00ff00\",\"#00ff00\",\"#000000\",\"#00ff00\",\"#00ff00\",\"#00ff00\",\"#00ff00\",\"#00ff00\",\"#00ffff\",\"#00ff00\",\"#00ff00\",\"#00ff00\",\"#000000\",\"#00ff00\",\"#000000\",\"#000000\",\"#000000\",\"#000000\",\"#00ffff\",\"#00ff00\",\"#00ffff\",\"#000000\",\"#00ff00\",\"#00ff00\",\"#00ff00\",\"#00ff00\",\"#00ff00\",\"#000000\",\"#00ff00\",\"#00ff00\",\"#00ff00\",\"#00ff00\",\"#00ff00\",\"#000000\",\"#00ff00\",\"#000000\",\"#00ff00\",\"#00ff00\",\"#00ffff\",\"#000000\",\"#00ff00\",\"#000000\",\"#00ff00\",\"#000000\",\"#00ff00\",\"#00ffff\",\"#00ff00\",\"#00ffff\",\"#000000\",\"#00ff00\",\"#000000\",\"#00ff00\",\"#00ffff\",\"#00ff00\",\"#00ff00\",\"#000000\",\"#000000\",\"#000000\",\"#00ff00\",\"#000000\",\"#000000\",\"#00ff00\",\"#00ff00\",\"#00ff00\",\"#00ff00\",\"#00ff00\",\"#00ffff\",\"#00ff00\",\"#000000\",\"#000000\",\"#000000\",\"#000000\",\"#00ff00\",\"#00ff00\",\"#00ff00\",\"#000000\",\"#00ff00\",\"#00ff00\",\"#000000\",\"#000000\",\"#00ff00\",\"#000000\",\"#000000\",\"#00ff00\",\"#00ff00\",\"#000000\",\"#00ff00\",\"#00ffff\",\"#00ff00\",\"#00ff00\",\"#00ff00\",\"#00ff00\",\"#000000\",\"#00ff00\",\"#00ff00\",\"#00ff00\",\"#000000\",\"#00ff00\",\"#00ff00\",\"#00ff00\",\"#00ff00\",\"#000000\",\"#00ff00\",\"#000000\",\"#000000\",\"#00ff00\",\"#00ffff\",\"#00ff00\",\"#000000\",\"#00ffff\",\"#00ff00\",\"#00ff00\",\"#000000\",\"#00ff00\",\"#00ff00\",\"#00ff00\",\"#00ff00\",\"#000000\",\"#000000\",\"#000000\",\"#00ff00\",\"#000000\",\"#000000\",\"#00ff00\",\"#00ff00\",\"#00ff00\",\"#00ff00\",\"#00ff00\",\"#000000\",\"#00ff00\",\"#00ff00\",\"#000000\",\"#00ff00\",\"#00ff00\",\"#000000\",\"#000000\",\"#000000\",\"#000000\",\"#00ffff\",\"#000000\",\"#000000\",\"#00ffff\",\"#00ff00\",\"#00ff00\",\"#00ff00\",\"#00ff00\",\"#00ff00\",\"#000000\",\"#00ff00\",\"#00ff00\",\"#00ff00\",\"#00ff00\",\"#000000\",\"#00ff00\",\"#00ff00\",\"#00ff00\",\"#00ff00\",\"#00ffff\",\"#00ff00\",\"#000000\",\"#00ffff\",\"#000000\",\"#00ff00\",\"#000000\",\"#000000\",\"#000000\",\"#000000\",\"#00ffff\",\"#00ff00\",\"#00ff00\",\"#000000\",\"#00ff00\",\"#00ff00\",\"#000000\",\"#00ff00\",\"#00ffff\",\"#00ff00\",\"#00ff00\",\"#00ff00\",\"#00ff00\",\"#000000\",\"#000000\",\"#000000\",\"#000000\",\"#00ff00\",\"#00ff00\",\"#00ff00\",\"#00ff00\",\"#00ff00\",\"#00ff00\",\"#00ff00\",\"#00ff00\",\"#00ff00\",\"#00ff00\",\"#000000\",\"#000000\",\"#00ff00\",\"#00ff00\",\"#000000\",\"#000000\",\"#000000\",\"#00ff00\",\"#00ffff\",\"#000000\",\"#000000\",\"#00ff00\",\"#00ffff\",\"#00ff00\",\"#000000\",\"#00ff00\",\"#000000\",\"#00ff00\",\"#00ff00\",\"#00ff00\",\"#000000\",\"#00ff00\",\"#00ff00\",\"#00ff00\",\"#000000\",\"#00ffff\",\"#00ff00\",\"#00ff00\",\"#00ff00\",\"#000000\",\"#00ff00\",\"#000000\",\"#00ff00\",\"#000000\",\"#00ffff\",\"#000000\",\"#000000\",\"#00ff00\",\"#00ff00\",\"#00ffff\",\"#00ff00\",\"#00ff00\",\"#000000\",\"#000000\",\"#000000\",\"#00ff00\",\"#00ff00\",\"#00ff00\",\"#000000\",\"#000000\",\"#000000\",\"#000000\",\"#00ff00\",\"#00ff00\",\"#00ff00\",\"#000000\",\"#000000\",\"#00ff00\",\"#00ff00\",\"#00ff00\",\"#000000\",\"#00ff00\",\"#00ff00\",\"#00ff00\",\"#00ffff\",\"#000000\",\"#000000\",\"#00ff00\",\"#00ff00\",\"#00ff00\",\"#00ff00\",\"#000000\",\"#00ff00\",\"#000000\",\"#00ff00\",\"#00ff00\",\"#00ff00\",\"#00ffff\",\"#00ff00\",\"#00ff00\",\"#000000\",\"#00ff00\",\"#000000\",\"#00ff00\",\"#000000\",\"#00ff00\",\"#00ff00\",\"#000000\",\"#00ff00\",\"#000000\",\"#00ffff\",\"#000000\",\"#00ff00\",\"#00ff00\",\"#00ff00\",\"#00ff00\",\"#00ff00\",\"#000000\",\"#00ff00\",\"#000000\",\"#000000\",\"#000000\",\"#00ffff\",\"#00ff00\",\"#000000\",\"#00ff00\",\"#000000\",\"#000000\",\"#000000\",\"#00ff00\",\"#000000\",\"#000000\",\"#000000\",\"#000000\",\"#00ff00\",\"#00ff00\",\"#00ff00\",\"#00ff00\",\"#000000\",\"#00ff00\",\"#00ff00\",\"#00ff00\",\"#000000\",\"#00ff00\",\"#000000\",\"#000000\",\"#00ff00\",\"#00ff00\",\"#00ff00\",\"#000000\",\"#00ff00\",\"#00ff00\",\"#00ff00\",\"#00ff00\",\"#00ff00\",\"#000000\",\"#00ff00\",\"#000000\",\"#00ff00\",\"#00ff00\",\"#000000\",\"#000000\",\"#00ff00\",\"#00ffff\",\"#000000\",\"#000000\",\"#00ff00\",\"#00ff00\",\"#000000\",\"#00ff00\",\"#000000\",\"#00ff00\",\"#000000\",\"#00ff00\",\"#000000\",\"#000000\",\"#000000\",\"#00ff00\",\"#000000\",\"#000000\",\"#000000\",\"#00ff00\",\"#00ff00\",\"#000000\",\"#00ff00\",\"#000000\",\"#00ffff\",\"#00ff00\",\"#00ff00\",\"#000000\",\"#000000\",\"#000000\",\"#00ff00\",\"#000000\",\"#00ffff\",\"#00ff00\",\"#000000\",\"#00ff00\",\"#00ff00\",\"#00ff00\",\"#00ffff\",\"#000000\",\"#00ff00\",\"#00ff00\",\"#00ff00\",\"#00ff00\",\"#000000\",\"#00ffff\",\"#00ff00\",\"#00ff00\",\"#00ff00\",\"#00ff00\",\"#00ffff\",\"#00ff00\",\"#000000\",\"#00ffff\",\"#000000\",\"#00ff00\",\"#00ff00\",\"#00ff00\",\"#00ff00\",\"#00ff00\",\"#000000\",\"#000000\",\"#00ff00\",\"#000000\",\"#00ff00\",\"#000000\",\"#000000\",\"#00ff00\",\"#000000\",\"#000000\",\"#000000\",\"#000000\",\"#00ff00\",\"#000000\",\"#00ff00\",\"#00ff00\",\"#00ffff\",\"#00ffff\",\"#000000\",\"#00ff00\",\"#00ff00\",\"#00ff00\",\"#00ff00\",\"#00ff00\",\"#000000\",\"#000000\",\"#000000\",\"#00ff00\",\"#00ff00\",\"#00ff00\",\"#00ff00\",\"#00ff00\",\"#000000\",\"#000000\",\"#000000\",\"#000000\",\"#00ff00\",\"#000000\",\"#00ff00\",\"#000000\",\"#00ff00\",\"#00ff00\",\"#000000\",\"#000000\",\"#00ff00\",\"#00ff00\",\"#00ff00\",\"#00ff00\",\"#00ff00\",\"#00ff00\",\"#00ff00\",\"#000000\",\"#00ff00\",\"#000000\",\"#00ff00\",\"#00ff00\",\"#000000\",\"#000000\",\"#00ff00\",\"#00ff00\",\"#000000\",\"#00ff00\",\"#00ffff\",\"#00ff00\",\"#00ff00\",\"#00ffff\",\"#00ffff\",\"#00ff00\",\"#00ff00\",\"#00ff00\",\"#00ff00\",\"#00ff00\",\"#000000\",\"#00ffff\",\"#00ff00\",\"#00ff00\",\"#00ff00\",\"#00ff00\",\"#000000\",\"#00ff00\",\"#00ff00\",\"#000000\",\"#000000\",\"#00ff00\",\"#000000\",\"#00ffff\",\"#00ff00\",\"#000000\",\"#000000\",\"#00ff00\",\"#00ff00\",\"#00ff00\",\"#00ff00\",\"#00ff00\",\"#00ff00\",\"#000000\",\"#00ff00\",\"#000000\",\"#000000\",\"#000000\",\"#00ff00\",\"#00ff00\",\"#00ff00\",\"#000000\",\"#000000\",\"#000000\",\"#00ffff\",\"#00ff00\",\"#00ffff\",\"#00ff00\",\"#00ff00\",\"#000000\",\"#000000\",\"#00ff00\",\"#00ff00\",\"#00ffff\",\"#00ffff\",\"#00ff00\",\"#00ff00\",\"#00ff00\",\"#00ff00\",\"#000000\",\"#000000\",\"#000000\",\"#000000\",\"#00ff00\",\"#000000\",\"#00ff00\",\"#00ff00\",\"#00ff00\",\"#000000\",\"#00ff00\",\"#00ff00\",\"#00ff00\",\"#000000\",\"#00ff00\",\"#00ff00\",\"#00ff00\",\"#00ffff\",\"#000000\",\"#000000\",\"#00ffff\",\"#00ff00\",\"#000000\",\"#000000\",\"#00ff00\",\"#000000\",\"#000000\",\"#00ff00\",\"#00ffff\",\"#00ff00\",\"#00ff00\",\"#000000\",\"#000000\",\"#000000\",\"#00ff00\",\"#000000\",\"#000000\",\"#000000\",\"#00ffff\",\"#00ff00\",\"#000000\",\"#000000\",\"#00ff00\",\"#000000\",\"#000000\",\"#00ffff\",\"#00ffff\",\"#000000\",\"#00ff00\",\"#00ff00\",\"#00ff00\",\"#00ff00\",\"#000000\",\"#00ff00\",\"#00ff00\",\"#00ff00\",\"#00ffff\",\"#00ff00\",\"#00ff00\",\"#000000\",\"#00ff00\",\"#00ff00\",\"#000000\",\"#000000\",\"#00ffff\",\"#00ff00\",\"#00ff00\",\"#000000\",\"#00ff00\",\"#000000\",\"#000000\",\"#00ff00\",\"#00ff00\",\"#00ff00\",\"#00ff00\",\"#00ff00\",\"#00ff00\",\"#00ff00\",\"#00ff00\",\"#00ff00\",\"#000000\",\"#000000\",\"#00ff00\",\"#00ff00\",\"#00ff00\",\"#00ffff\",\"#00ff00\",\"#00ffff\",\"#000000\",\"#00ff00\",\"#000000\",\"#00ff00\",\"#000000\",\"#00ff00\",\"#00ff00\",\"#00ff00\",\"#00ff00\",\"#000000\",\"#000000\",\"#00ff00\",\"#00ff00\",\"#000000\",\"#00ff00\",\"#000000\",\"#00ff00\",\"#000000\",\"#00ff00\",\"#00ff00\",\"#000000\",\"#00ffff\",\"#00ff00\",\"#00ff00\",\"#00ffff\",\"#00ff00\",\"#000000\",\"#00ff00\",\"#00ff00\",\"#00ff00\",\"#000000\",\"#00ff00\",\"#00ff00\",\"#00ff00\",\"#00ff00\",\"#00ff00\",\"#00ffff\",\"#000000\",\"#00ff00\",\"#000000\",\"#00ff00\",\"#00ff00\",\"#00ff00\",\"#000000\",\"#00ffff\",\"#000000\",\"#000000\",\"#000000\",\"#00ffff\",\"#00ffff\",\"#00ffff\",\"#000000\",\"#00ff00\",\"#00ff00\",\"#00ffff\",\"#000000\",\"#000000\",\"#00ff00\",\"#000000\",\"#00ff00\",\"#000000\",\"#00ff00\",\"#00ff00\",\"#000000\",\"#000000\",\"#000000\",\"#00ff00\",\"#00ff00\",\"#00ffff\",\"#000000\",\"#00ff00\",\"#00ff00\",\"#00ff00\",\"#00ff00\",\"#00ff00\",\"#00ffff\",\"#00ff00\",\"#000000\",\"#00ff00\",\"#00ffff\",\"#00ff00\",\"#000000\",\"#000000\",\"#00ffff\",\"#00ff00\",\"#00ff00\",\"#00ff00\",\"#00ff00\",\"#000000\",\"#00ff00\",\"#00ff00\",\"#000000\",\"#00ff00\",\"#00ff00\",\"#000000\",\"#00ff00\",\"#00ff00\",\"#000000\",\"#00ff00\",\"#00ff00\",\"#000000\",\"#000000\",\"#000000\",\"#00ff00\",\"#000000\",\"#00ff00\",\"#00ffff\",\"#00ff00\",\"#00ff00\",\"#00ffff\",\"#00ff00\",\"#000000\",\"#00ff00\",\"#00ffff\",\"#00ff00\",\"#00ff00\",\"#000000\",\"#00ff00\",\"#00ff00\",\"#00ff00\",\"#00ff00\",\"#000000\",\"#00ff00\",\"#00ff00\",\"#00ff00\",\"#00ff00\",\"#00ff00\",\"#000000\",\"#00ff00\",\"#000000\",\"#00ff00\",\"#00ff00\",\"#00ff00\",\"#00ff00\",\"#00ff00\",\"#00ffff\",\"#000000\",\"#000000\",\"#000000\",\"#000000\",\"#000000\",\"#00ff00\",\"#00ff00\",\"#00ff00\",\"#00ff00\",\"#000000\",\"#00ffff\",\"#00ff00\",\"#00ff00\",\"#000000\",\"#00ff00\",\"#000000\",\"#00ff00\",\"#00ff00\",\"#00ffff\",\"#00ff00\",\"#000000\",\"#000000\",\"#00ffff\",\"#00ffff\",\"#000000\",\"#00ff00\",\"#000000\",\"#00ff00\",\"#00ff00\",\"#00ff00\",\"#000000\",\"#00ff00\",\"#00ff00\",\"#00ff00\",\"#00ff00\",\"#000000\",\"#00ff00\",\"#000000\",\"#000000\",\"#00ff00\",\"#00ff00\",\"#00ff00\",\"#00ff00\",\"#00ff00\",\"#000000\",\"#00ffff\",\"#00ff00\",\"#00ff00\",\"#000000\",\"#00ff00\",\"#00ff00\",\"#00ff00\",\"#00ff00\",\"#00ff00\",\"#00ff00\",\"#000000\",\"#000000\",\"#00ff00\",\"#00ff00\",\"#000000\",\"#000000\",\"#00ff00\",\"#00ff00\",\"#00ffff\",\"#00ff00\",\"#00ff00\",\"#00ffff\",\"#00ff00\",\"#00ff00\",\"#000000\",\"#00ff00\",\"#00ff00\",\"#00ff00\",\"#000000\",\"#00ff00\",\"#000000\",\"#00ff00\",\"#000000\",\"#00ffff\",\"#000000\",\"#00ff00\",\"#000000\",\"#00ff00\",\"#00ff00\",\"#00ff00\",\"#00ffff\",\"#00ff00\",\"#000000\",\"#00ff00\",\"#00ff00\",\"#00ff00\",\"#00ff00\",\"#000000\",\"#00ff00\",\"#00ff00\",\"#000000\",\"#000000\",\"#000000\",\"#00ffff\",\"#00ff00\",\"#00ff00\",\"#000000\",\"#00ff00\",\"#000000\",\"#000000\",\"#00ff00\",\"#00ff00\",\"#00ffff\",\"#00ff00\",\"#00ff00\",\"#000000\",\"#00ff00\",\"#00ff00\",\"#000000\",\"#00ff00\",\"#000000\",\"#00ff00\",\"#00ff00\",\"#00ff00\",\"#00ff00\",\"#00ff00\",\"#00ff00\",\"#000000\",\"#000000\",\"#00ff00\",\"#00ff00\",\"#00ff00\",\"#00ff00\",\"#00ff00\",\"#000000\",\"#00ff00\",\"#00ff00\",\"#000000\",\"#000000\",\"#000000\",\"#00ff00\",\"#00ff00\",\"#00ff00\",\"#00ff00\",\"#00ffff\",\"#00ff00\",\"#000000\",\"#000000\",\"#00ff00\",\"#000000\",\"#00ff00\",\"#00ff00\",\"#00ff00\",\"#000000\",\"#00ff00\",\"#00ff00\",\"#00ffff\",\"#00ffff\",\"#00ff00\",\"#00ff00\",\"#000000\",\"#000000\",\"#00ff00\",\"#00ff00\",\"#00ff00\",\"#00ff00\",\"#00ffff\",\"#00ff00\",\"#00ff00\",\"#00ff00\",\"#000000\",\"#00ff00\",\"#00ff00\",\"#00ff00\",\"#00ff00\",\"#00ffff\",\"#00ff00\",\"#00ff00\",\"#00ff00\",\"#00ff00\",\"#00ffff\",\"#00ff00\",\"#00ff00\",\"#00ffff\",\"#000000\",\"#000000\",\"#00ff00\",\"#00ff00\",\"#00ff00\",\"#000000\",\"#00ff00\",\"#00ffff\",\"#000000\",\"#000000\",\"#000000\",\"#00ff00\",\"#000000\",\"#000000\",\"#000000\",\"#00ff00\",\"#00ff00\",\"#00ff00\",\"#00ffff\",\"#00ff00\",\"#00ff00\",\"#00ff00\",\"#00ffff\",\"#000000\",\"#000000\",\"#00ffff\",\"#00ff00\",\"#000000\",\"#000000\",\"#000000\",\"#00ff00\",\"#00ff00\",\"#00ff00\",\"#00ff00\",\"#00ff00\",\"#000000\",\"#00ffff\",\"#000000\",\"#00ff00\",\"#00ff00\",\"#000000\",\"#000000\",\"#00ff00\",\"#000000\",\"#00ff00\",\"#00ff00\",\"#00ff00\",\"#000000\",\"#00ff00\",\"#00ff00\",\"#00ff00\",\"#00ff00\",\"#00ffff\",\"#000000\",\"#00ff00\",\"#000000\",\"#00ff00\",\"#000000\",\"#00ff00\",\"#00ffff\",\"#00ff00\",\"#000000\",\"#00ff00\",\"#00ff00\",\"#000000\",\"#00ff00\",\"#000000\",\"#00ff00\",\"#00ffff\",\"#00ff00\",\"#00ffff\",\"#00ff00\",\"#00ff00\",\"#00ff00\",\"#00ff00\",\"#00ff00\",\"#00ff00\",\"#00ff00\",\"#00ff00\",\"#00ff00\",\"#000000\",\"#000000\",\"#000000\",\"#00ff00\",\"#00ff00\",\"#00ff00\",\"#00ff00\",\"#00ff00\",\"#000000\",\"#00ff00\",\"#00ff00\",\"#00ff00\",\"#00ff00\",\"#00ff00\",\"#00ff00\",\"#00ff00\",\"#00ff00\",\"#000000\",\"#00ff00\",\"#00ff00\",\"#00ff00\",\"#00ff00\",\"#000000\",\"#00ff00\",\"#000000\",\"#000000\",\"#00ffff\",\"#00ffff\",\"#00ff00\",\"#00ffff\",\"#00ffff\",\"#00ff00\",\"#00ff00\",\"#000000\",\"#00ff00\",\"#00ff00\",\"#00ff00\",\"#000000\",\"#00ff00\",\"#00ff00\",\"#000000\",\"#000000\",\"#00ff00\",\"#000000\",\"#00ff00\",\"#00ff00\",\"#00ff00\",\"#00ff00\",\"#000000\",\"#000000\",\"#00ff00\",\"#00ff00\",\"#00ffff\",\"#00ff00\",\"#00ffff\",\"#00ffff\",\"#00ffff\",\"#00ff00\",\"#000000\",\"#00ff00\",\"#00ff00\",\"#000000\",\"#000000\",\"#000000\",\"#00ff00\",\"#00ff00\",\"#00ff00\",\"#00ff00\",\"#000000\",\"#000000\",\"#00ff00\",\"#00ff00\",\"#00ff00\",\"#00ff00\",\"#00ff00\",\"#000000\",\"#00ff00\",\"#00ff00\",\"#000000\",\"#00ff00\",\"#00ff00\",\"#00ff00\",\"#00ff00\",\"#00ff00\",\"#000000\",\"#00ff00\",\"#00ff00\",\"#000000\",\"#00ffff\",\"#00ff00\",\"#00ff00\",\"#00ff00\",\"#00ff00\",\"#00ff00\",\"#00ff00\",\"#000000\",\"#000000\",\"#00ff00\",\"#00ff00\",\"#00ffff\",\"#00ff00\",\"#00ff00\",\"#00ff00\",\"#00ff00\",\"#00ff00\",\"#00ff00\",\"#00ff00\",\"#00ff00\",\"#00ff00\",\"#000000\",\"#00ff00\",\"#00ff00\",\"#00ff00\",\"#00ff00\",\"#000000\",\"#000000\",\"#00ffff\",\"#00ff00\",\"#00ff00\",\"#00ff00\",\"#00ffff\",\"#00ff00\",\"#00ff00\",\"#00ff00\",\"#000000\",\"#00ff00\",\"#00ffff\",\"#000000\",\"#00ff00\",\"#00ff00\",\"#00ffff\",\"#00ff00\",\"#00ff00\",\"#00ff00\",\"#00ff00\",\"#00ff00\",\"#00ff00\",\"#000000\",\"#000000\",\"#00ffff\",\"#00ff00\",\"#00ffff\",\"#00ff00\",\"#00ff00\",\"#00ff00\",\"#00ff00\",\"#00ffff\",\"#00ff00\",\"#00ff00\",\"#00ff00\",\"#00ff00\",\"#00ff00\",\"#000000\",\"#00ff00\",\"#00ff00\",\"#00ff00\",\"#00ff00\",\"#00ff00\",\"#00ff00\",\"#00ff00\",\"#000000\",\"#00ff00\",\"#000000\",\"#000000\",\"#00ff00\",\"#000000\",\"#00ff00\",\"#00ff00\",\"#00ff00\",\"#00ff00\",\"#00ff00\",\"#00ff00\",\"#00ff00\",\"#00ff00\",\"#00ff00\",\"#00ff00\",\"#00ff00\",\"#00ff00\",\"#00ff00\",\"#00ff00\",\"#00ff00\",\"#00ff00\",\"#00ff00\",\"#00ff00\",\"#00ff00\",\"#00ff00\",\"#000000\",\"#000000\",\"#000000\",\"#00ff00\",\"#000000\",\"#00ff00\",\"#00ff00\",\"#00ff00\",\"#000000\",\"#00ff00\",\"#00ff00\",\"#00ff00\",\"#00ff00\",\"#00ff00\",\"#00ff00\",\"#00ff00\",\"#00ff00\",\"#000000\",\"#00ff00\",\"#00ff00\",\"#000000\",\"#000000\",\"#000000\",\"#000000\",\"#00ff00\",\"#00ff00\",\"#00ff00\",\"#00ffff\",\"#00ff00\",\"#000000\",\"#00ff00\",\"#000000\",\"#00ff00\",\"#00ff00\",\"#00ffff\",\"#00ff00\",\"#00ff00\",\"#00ff00\",\"#00ff00\",\"#00ff00\",\"#00ff00\",\"#000000\",\"#00ff00\",\"#000000\",\"#00ffff\",\"#000000\",\"#00ff00\",\"#000000\",\"#00ff00\",\"#00ff00\",\"#00ff00\",\"#00ff00\",\"#000000\",\"#00ff00\",\"#00ff00\",\"#00ff00\",\"#000000\",\"#00ff00\",\"#00ff00\",\"#00ffff\",\"#000000\",\"#00ff00\",\"#000000\",\"#00ff00\",\"#000000\",\"#00ff00\",\"#00ff00\",\"#00ff00\",\"#00ff00\",\"#00ff00\",\"#00ffff\",\"#000000\",\"#000000\",\"#000000\",\"#000000\",\"#000000\",\"#00ff00\",\"#000000\",\"#00ffff\",\"#00ff00\",\"#00ff00\",\"#00ffff\",\"#00ff00\",\"#00ff00\",\"#000000\",\"#00ff00\",\"#00ffff\",\"#00ff00\",\"#000000\",\"#00ff00\",\"#00ff00\",\"#000000\",\"#00ff00\",\"#00ff00\",\"#00ff00\",\"#000000\",\"#00ff00\",\"#00ff00\",\"#00ff00\",\"#000000\",\"#00ff00\",\"#000000\",\"#00ff00\",\"#000000\",\"#00ff00\",\"#000000\",\"#000000\",\"#00ff00\",\"#000000\",\"#00ff00\",\"#00ff00\",\"#00ffff\",\"#00ff00\",\"#00ff00\",\"#000000\",\"#000000\",\"#000000\",\"#000000\",\"#000000\",\"#000000\",\"#000000\",\"#000000\",\"#000000\",\"#000000\",\"#000000\",\"#00ff00\",\"#00ff00\",\"#000000\",\"#00ff00\",\"#00ff00\",\"#000000\",\"#00ff00\",\"#000000\",\"#000000\",\"#00ff00\",\"#00ff00\",\"#00ff00\",\"#00ff00\",\"#00ffff\",\"#00ff00\",\"#00ff00\",\"#00ff00\",\"#00ff00\",\"#00ff00\",\"#00ff00\",\"#00ff00\",\"#00ff00\",\"#000000\",\"#000000\",\"#00ff00\",\"#00ff00\",\"#000000\",\"#00ff00\",\"#00ff00\",\"#000000\",\"#000000\",\"#00ff00\",\"#000000\",\"#00ff00\",\"#000000\",\"#000000\",\"#000000\",\"#000000\",\"#00ff00\",\"#00ff00\",\"#00ff00\",\"#00ff00\",\"#00ffff\",\"#00ff00\",\"#000000\",\"#00ff00\",\"#00ff00\",\"#00ff00\",\"#000000\",\"#000000\",\"#000000\",\"#000000\",\"#00ff00\",\"#000000\",\"#00ffff\",\"#00ff00\",\"#00ff00\",\"#00ff00\",\"#00ff00\",\"#00ffff\",\"#000000\",\"#00ff00\",\"#00ff00\",\"#000000\",\"#000000\",\"#000000\",\"#00ff00\",\"#00ff00\",\"#00ff00\",\"#000000\",\"#00ff00\",\"#00ff00\",\"#00ff00\",\"#00ff00\",\"#00ff00\",\"#000000\",\"#000000\",\"#00ff00\",\"#00ff00\",\"#00ff00\",\"#00ff00\",\"#00ff00\",\"#000000\",\"#00ff00\",\"#000000\",\"#00ff00\",\"#00ff00\",\"#00ff00\",\"#00ff00\",\"#00ff00\",\"#00ff00\",\"#000000\",\"#00ff00\",\"#00ff00\",\"#00ff00\",\"#00ff00\",\"#000000\",\"#00ff00\",\"#00ff00\",\"#00ff00\",\"#00ff00\",\"#00ff00\",\"#000000\",\"#00ff00\",\"#00ff00\",\"#000000\",\"#000000\",\"#000000\",\"#00ff00\",\"#000000\",\"#00ff00\",\"#00ff00\",\"#00ff00\",\"#000000\",\"#00ff00\",\"#00ff00\",\"#00ff00\",\"#00ff00\",\"#000000\",\"#00ff00\",\"#00ff00\",\"#00ff00\",\"#00ff00\",\"#00ff00\",\"#00ff00\",\"#00ffff\",\"#00ff00\",\"#000000\",\"#000000\",\"#000000\",\"#00ffff\",\"#00ff00\",\"#000000\",\"#00ff00\",\"#00ff00\",\"#00ff00\",\"#00ff00\",\"#00ff00\",\"#000000\",\"#00ffff\",\"#00ffff\",\"#00ff00\",\"#00ff00\",\"#00ff00\",\"#00ff00\",\"#00ff00\",\"#00ff00\",\"#00ff00\",\"#00ffff\",\"#00ff00\",\"#00ff00\",\"#00ff00\",\"#000000\",\"#00ff00\",\"#00ff00\",\"#000000\",\"#00ff00\",\"#000000\",\"#00ff00\",\"#00ff00\",\"#00ff00\",\"#000000\",\"#00ff00\",\"#00ff00\",\"#00ff00\",\"#00ff00\",\"#00ff00\",\"#00ff00\",\"#00ff00\",\"#00ff00\",\"#00ff00\",\"#00ff00\",\"#00ff00\",\"#000000\",\"#00ff00\",\"#000000\",\"#000000\",\"#00ff00\",\"#00ff00\",\"#000000\",\"#00ff00\",\"#00ffff\",\"#00ff00\",\"#00ff00\",\"#000000\",\"#00ff00\",\"#000000\",\"#00ff00\",\"#00ff00\",\"#000000\",\"#00ff00\",\"#00ffff\",\"#00ff00\",\"#00ff00\",\"#00ff00\",\"#00ff00\",\"#000000\",\"#00ff00\",\"#00ff00\",\"#00ff00\",\"#00ff00\",\"#000000\",\"#00ffff\",\"#000000\",\"#00ff00\",\"#00ff00\",\"#00ff00\",\"#00ff00\",\"#000000\",\"#000000\",\"#000000\",\"#00ff00\",\"#00ff00\",\"#00ff00\",\"#000000\",\"#00ff00\",\"#000000\",\"#00ff00\",\"#000000\",\"#00ffff\",\"#00ff00\",\"#00ff00\",\"#00ff00\",\"#00ff00\",\"#000000\",\"#00ff00\",\"#00ff00\",\"#00ff00\",\"#00ff00\",\"#00ffff\",\"#000000\",\"#000000\",\"#00ff00\",\"#00ff00\",\"#00ff00\",\"#00ffff\",\"#000000\",\"#000000\",\"#00ff00\",\"#00ff00\",\"#00ff00\",\"#00ff00\",\"#00ff00\",\"#000000\",\"#00ff00\",\"#00ff00\",\"#00ff00\",\"#00ff00\",\"#000000\",\"#00ff00\",\"#000000\",\"#000000\",\"#000000\",\"#00ff00\",\"#00ff00\",\"#000000\",\"#000000\",\"#00ff00\",\"#000000\",\"#00ff00\",\"#00ff00\",\"#00ffff\",\"#000000\",\"#000000\",\"#000000\",\"#00ffff\",\"#000000\",\"#00ff00\",\"#00ffff\",\"#00ff00\",\"#00ff00\",\"#00ff00\",\"#00ffff\",\"#00ff00\",\"#00ff00\",\"#00ff00\",\"#000000\",\"#00ff00\",\"#00ff00\",\"#000000\",\"#00ff00\",\"#00ff00\",\"#00ff00\",\"#000000\",\"#00ff00\",\"#00ff00\",\"#00ff00\",\"#00ff00\",\"#00ff00\",\"#00ff00\",\"#00ff00\",\"#00ff00\",\"#000000\",\"#00ff00\",\"#00ff00\",\"#00ff00\",\"#00ff00\",\"#00ff00\",\"#00ff00\",\"#00ff00\",\"#00ff00\",\"#00ff00\",\"#000000\",\"#000000\",\"#00ff00\",\"#00ff00\",\"#00ff00\",\"#00ff00\",\"#000000\",\"#000000\",\"#00ff00\",\"#00ff00\",\"#00ff00\",\"#00ff00\",\"#000000\",\"#00ff00\",\"#000000\",\"#000000\",\"#00ff00\",\"#00ff00\",\"#00ff00\",\"#00ff00\",\"#00ff00\",\"#000000\",\"#00ff00\",\"#00ff00\",\"#00ff00\",\"#00ff00\",\"#00ff00\",\"#00ffff\",\"#000000\",\"#00ff00\",\"#000000\",\"#00ff00\",\"#00ff00\",\"#000000\",\"#00ff00\",\"#00ff00\",\"#00ff00\",\"#00ff00\",\"#00ff00\",\"#00ff00\",\"#00ff00\",\"#00ff00\",\"#00ff00\",\"#00ffff\",\"#00ff00\",\"#000000\",\"#00ff00\",\"#00ff00\",\"#00ff00\",\"#00ff00\",\"#000000\",\"#00ff00\",\"#00ff00\",\"#000000\",\"#000000\",\"#00ff00\",\"#000000\",\"#00ff00\",\"#000000\",\"#000000\",\"#00ff00\",\"#00ff00\",\"#000000\",\"#00ff00\",\"#00ff00\",\"#00ff00\",\"#00ff00\",\"#00ff00\",\"#00ff00\",\"#00ff00\",\"#000000\",\"#00ff00\",\"#000000\",\"#00ff00\",\"#00ff00\",\"#000000\",\"#00ff00\",\"#000000\",\"#00ff00\",\"#00ff00\",\"#000000\",\"#00ff00\",\"#00ff00\",\"#000000\",\"#00ff00\",\"#00ffff\",\"#000000\",\"#000000\",\"#000000\",\"#00ff00\",\"#00ff00\",\"#00ff00\",\"#00ff00\",\"#000000\",\"#000000\",\"#00ff00\",\"#00ff00\",\"#000000\",\"#000000\",\"#00ff00\",\"#00ff00\",\"#00ff00\",\"#00ff00\",\"#000000\",\"#00ff00\",\"#000000\",\"#00ff00\",\"#00ff00\",\"#00ffff\",\"#00ff00\",\"#00ff00\",\"#00ff00\",\"#00ffff\",\"#00ff00\",\"#000000\",\"#000000\",\"#00ff00\",\"#00ff00\",\"#00ff00\",\"#000000\",\"#00ff00\",\"#00ff00\",\"#00ff00\",\"#00ff00\",\"#000000\",\"#00ff00\",\"#00ff00\",\"#000000\",\"#00ff00\",\"#00ff00\",\"#00ff00\",\"#000000\",\"#00ffff\",\"#00ff00\",\"#000000\",\"#00ff00\",\"#00ff00\",\"#000000\",\"#00ff00\",\"#00ff00\",\"#00ff00\",\"#00ff00\",\"#000000\",\"#00ff00\",\"#00ff00\",\"#00ff00\",\"#00ff00\",\"#00ff00\",\"#00ff00\",\"#000000\",\"#00ff00\",\"#00ff00\",\"#00ff00\",\"#000000\",\"#00ff00\",\"#000000\",\"#00ff00\",\"#00ffff\",\"#00ff00\",\"#00ff00\",\"#000000\",\"#000000\",\"#000000\",\"#00ff00\",\"#00ff00\",\"#00ff00\",\"#00ff00\",\"#00ff00\",\"#00ffff\",\"#00ff00\",\"#00ff00\",\"#00ff00\",\"#00ffff\",\"#00ff00\",\"#00ff00\",\"#00ff00\",\"#000000\",\"#00ff00\",\"#00ff00\",\"#000000\",\"#00ff00\",\"#000000\",\"#00ff00\",\"#00ffff\",\"#000000\",\"#000000\",\"#000000\",\"#00ff00\",\"#000000\",\"#000000\",\"#00ff00\",\"#00ff00\",\"#00ff00\",\"#000000\",\"#00ff00\",\"#00ff00\",\"#000000\",\"#00ffff\",\"#00ff00\",\"#00ff00\",\"#00ff00\",\"#00ff00\",\"#000000\",\"#000000\",\"#00ff00\",\"#00ff00\",\"#000000\",\"#00ffff\",\"#000000\",\"#000000\",\"#00ff00\",\"#00ff00\",\"#00ff00\",\"#00ff00\",\"#00ff00\",\"#00ff00\",\"#00ff00\",\"#00ff00\",\"#000000\",\"#000000\",\"#000000\",\"#000000\",\"#00ffff\",\"#00ff00\",\"#000000\",\"#00ff00\",\"#00ff00\",\"#00ff00\",\"#00ffff\",\"#000000\",\"#000000\",\"#00ffff\",\"#00ff00\",\"#000000\",\"#00ff00\",\"#00ff00\",\"#000000\",\"#00ff00\",\"#000000\",\"#00ff00\",\"#000000\",\"#00ff00\",\"#000000\",\"#000000\",\"#00ff00\",\"#000000\",\"#000000\",\"#00ff00\",\"#00ff00\",\"#00ff00\",\"#000000\",\"#00ff00\",\"#000000\",\"#00ff00\",\"#000000\",\"#000000\",\"#00ff00\",\"#00ff00\",\"#000000\",\"#00ff00\",\"#00ffff\",\"#000000\",\"#000000\",\"#000000\",\"#00ff00\",\"#00ff00\",\"#000000\",\"#00ff00\",\"#000000\",\"#000000\",\"#000000\",\"#000000\",\"#00ffff\",\"#00ff00\",\"#00ff00\",\"#000000\",\"#00ff00\",\"#000000\",\"#00ff00\",\"#00ff00\",\"#000000\",\"#00ff00\",\"#00ffff\",\"#00ff00\",\"#00ff00\",\"#000000\",\"#00ff00\",\"#00ff00\",\"#000000\",\"#00ff00\",\"#00ff00\",\"#00ff00\",\"#00ff00\",\"#000000\",\"#00ff00\",\"#00ff00\",\"#000000\",\"#000000\",\"#00ffff\",\"#00ff00\",\"#00ff00\",\"#00ff00\",\"#00ffff\",\"#00ff00\",\"#00ff00\",\"#000000\",\"#00ff00\",\"#00ffff\",\"#00ff00\",\"#00ff00\",\"#000000\",\"#000000\",\"#00ff00\",\"#00ff00\",\"#00ff00\",\"#00ff00\",\"#00ff00\",\"#00ff00\",\"#000000\",\"#000000\",\"#00ff00\",\"#00ff00\",\"#000000\",\"#000000\",\"#00ff00\",\"#000000\",\"#00ff00\",\"#00ff00\",\"#00ff00\",\"#000000\",\"#00ff00\",\"#000000\",\"#000000\",\"#00ff00\",\"#000000\",\"#00ffff\",\"#000000\",\"#00ff00\",\"#00ffff\",\"#00ff00\",\"#00ff00\",\"#000000\",\"#00ffff\",\"#000000\",\"#00ff00\",\"#000000\",\"#00ff00\",\"#00ff00\",\"#00ff00\",\"#00ff00\",\"#000000\",\"#00ff00\",\"#000000\",\"#000000\",\"#00ff00\",\"#00ff00\",\"#00ff00\",\"#00ff00\",\"#00ff00\",\"#00ff00\",\"#00ff00\",\"#00ff00\",\"#00ff00\",\"#000000\",\"#00ff00\",\"#000000\",\"#00ff00\",\"#000000\",\"#00ff00\",\"#00ffff\",\"#00ff00\",\"#00ff00\",\"#000000\",\"#00ff00\",\"#00ff00\",\"#00ff00\",\"#000000\",\"#00ff00\",\"#00ff00\",\"#000000\",\"#00ff00\",\"#00ff00\",\"#00ff00\",\"#00ff00\",\"#00ff00\",\"#000000\",\"#00ff00\",\"#000000\",\"#00ff00\",\"#00ff00\",\"#000000\",\"#000000\",\"#000000\",\"#000000\",\"#00ff00\",\"#000000\",\"#00ff00\",\"#000000\",\"#00ffff\",\"#00ff00\",\"#00ff00\",\"#00ff00\",\"#000000\",\"#000000\",\"#00ff00\",\"#00ff00\",\"#00ff00\",\"#00ff00\",\"#00ff00\",\"#00ff00\",\"#00ff00\",\"#000000\",\"#00ff00\",\"#000000\",\"#00ff00\",\"#000000\",\"#000000\",\"#000000\",\"#00ffff\",\"#00ff00\",\"#00ffff\",\"#000000\",\"#000000\",\"#000000\",\"#00ffff\",\"#00ff00\",\"#00ff00\",\"#00ff00\",\"#000000\",\"#00ff00\",\"#000000\",\"#00ff00\",\"#00ff00\",\"#00ff00\",\"#000000\",\"#000000\",\"#00ff00\",\"#00ffff\",\"#000000\",\"#00ffff\",\"#00ff00\",\"#00ff00\",\"#000000\",\"#00ff00\",\"#000000\",\"#000000\",\"#00ff00\",\"#00ff00\",\"#000000\",\"#000000\",\"#00ff00\",\"#00ff00\",\"#00ffff\",\"#00ff00\",\"#000000\",\"#00ff00\",\"#000000\",\"#00ff00\",\"#00ff00\",\"#00ff00\",\"#00ff00\",\"#00ff00\",\"#00ff00\",\"#000000\",\"#000000\",\"#000000\",\"#00ff00\",\"#00ff00\",\"#000000\",\"#00ff00\",\"#00ff00\",\"#000000\",\"#00ff00\",\"#00ff00\",\"#000000\",\"#000000\",\"#00ff00\",\"#000000\",\"#000000\",\"#00ff00\",\"#00ffff\",\"#000000\",\"#00ff00\",\"#00ff00\",\"#000000\",\"#000000\",\"#000000\",\"#000000\",\"#00ff00\",\"#000000\",\"#00ff00\",\"#00ff00\",\"#000000\",\"#00ff00\",\"#00ff00\",\"#00ffff\",\"#00ff00\",\"#00ffff\",\"#000000\",\"#00ff00\",\"#000000\",\"#000000\",\"#00ff00\",\"#00ff00\",\"#000000\",\"#00ff00\",\"#00ff00\",\"#000000\",\"#00ff00\",\"#00ff00\",\"#00ff00\",\"#00ff00\",\"#00ff00\",\"#00ff00\",\"#00ff00\",\"#00ff00\",\"#000000\",\"#00ff00\",\"#000000\",\"#000000\",\"#00ff00\",\"#00ff00\",\"#00ff00\",\"#00ff00\",\"#000000\",\"#00ff00\",\"#00ff00\",\"#00ffff\",\"#00ff00\",\"#00ff00\",\"#000000\",\"#000000\",\"#00ff00\",\"#000000\",\"#00ff00\",\"#000000\",\"#000000\",\"#00ffff\",\"#00ff00\",\"#00ff00\",\"#000000\",\"#00ff00\",\"#000000\",\"#000000\",\"#000000\",\"#00ff00\",\"#000000\",\"#00ff00\",\"#00ff00\",\"#000000\",\"#000000\",\"#00ffff\",\"#000000\",\"#00ff00\",\"#00ff00\",\"#00ff00\",\"#00ff00\",\"#000000\",\"#000000\",\"#00ff00\",\"#000000\",\"#00ff00\",\"#00ffff\",\"#00ff00\",\"#000000\",\"#00ffff\",\"#00ff00\",\"#000000\",\"#00ff00\",\"#00ff00\",\"#000000\",\"#00ff00\",\"#00ff00\",\"#00ff00\",\"#00ff00\",\"#00ff00\",\"#00ff00\",\"#00ffff\",\"#000000\",\"#000000\",\"#000000\",\"#000000\",\"#00ff00\",\"#00ff00\",\"#000000\",\"#00ff00\",\"#000000\",\"#00ff00\",\"#00ff00\",\"#00ff00\",\"#000000\",\"#000000\",\"#00ffff\",\"#00ffff\",\"#00ff00\",\"#00ff00\",\"#00ff00\",\"#00ff00\",\"#00ff00\",\"#00ffff\",\"#00ff00\",\"#00ffff\",\"#00ff00\",\"#00ff00\",\"#00ff00\",\"#000000\",\"#00ff00\",\"#00ff00\",\"#00ff00\",\"#000000\",\"#00ff00\",\"#000000\",\"#00ff00\",\"#00ff00\",\"#00ff00\",\"#00ff00\",\"#000000\",\"#00ff00\",\"#000000\",\"#00ff00\",\"#00ffff\",\"#00ff00\",\"#000000\",\"#000000\",\"#000000\",\"#00ff00\",\"#00ff00\",\"#00ff00\",\"#000000\",\"#000000\",\"#00ff00\",\"#000000\",\"#00ff00\",\"#00ff00\",\"#00ff00\",\"#00ffff\",\"#00ff00\",\"#00ff00\",\"#00ff00\",\"#000000\",\"#00ff00\",\"#00ff00\",\"#00ff00\",\"#00ff00\",\"#00ff00\",\"#00ff00\",\"#00ff00\",\"#000000\",\"#000000\",\"#00ff00\",\"#000000\",\"#000000\",\"#00ff00\",\"#000000\",\"#000000\",\"#000000\",\"#00ff00\",\"#00ff00\",\"#00ff00\",\"#00ff00\",\"#00ffff\",\"#00ff00\",\"#000000\",\"#00ff00\",\"#00ff00\",\"#00ff00\",\"#00ff00\",\"#00ffff\",\"#00ff00\",\"#00ff00\",\"#000000\",\"#000000\",\"#00ff00\",\"#000000\",\"#000000\",\"#000000\",\"#00ff00\",\"#00ff00\",\"#000000\",\"#00ff00\",\"#00ff00\",\"#00ff00\",\"#00ffff\",\"#00ff00\",\"#000000\",\"#00ff00\",\"#000000\",\"#00ff00\",\"#000000\",\"#00ff00\",\"#00ff00\",\"#00ff00\",\"#00ff00\",\"#00ff00\",\"#000000\",\"#000000\",\"#00ff00\",\"#00ff00\",\"#00ff00\",\"#00ff00\",\"#000000\",\"#00ff00\",\"#00ff00\",\"#000000\",\"#000000\",\"#00ff00\",\"#00ff00\",\"#000000\",\"#00ff00\",\"#000000\",\"#000000\",\"#00ff00\",\"#000000\",\"#00ff00\",\"#00ff00\",\"#00ff00\",\"#00ff00\",\"#000000\",\"#000000\",\"#00ff00\",\"#000000\",\"#000000\",\"#00ff00\",\"#00ff00\",\"#00ff00\",\"#000000\",\"#00ff00\",\"#00ff00\",\"#00ff00\",\"#00ff00\",\"#00ff00\",\"#000000\",\"#00ff00\",\"#00ff00\",\"#00ff00\",\"#00ffff\",\"#00ff00\",\"#000000\",\"#00ff00\",\"#00ff00\",\"#00ffff\",\"#00ff00\",\"#00ff00\",\"#000000\",\"#00ff00\",\"#00ff00\",\"#00ffff\",\"#00ff00\",\"#00ff00\",\"#000000\",\"#00ff00\",\"#00ffff\",\"#000000\",\"#00ff00\",\"#00ff00\",\"#000000\",\"#00ffff\",\"#00ff00\",\"#00ff00\",\"#000000\",\"#00ffff\",\"#000000\",\"#000000\",\"#000000\",\"#00ff00\",\"#000000\",\"#000000\",\"#000000\",\"#000000\",\"#000000\",\"#000000\",\"#00ff00\",\"#00ff00\",\"#00ff00\",\"#000000\",\"#00ff00\",\"#00ffff\",\"#00ffff\",\"#00ff00\",\"#00ffff\",\"#000000\",\"#00ff00\",\"#00ff00\",\"#00ff00\",\"#000000\",\"#000000\",\"#00ffff\",\"#00ff00\",\"#000000\",\"#00ff00\",\"#00ff00\",\"#00ff00\",\"#000000\",\"#00ffff\",\"#000000\",\"#00ff00\",\"#000000\",\"#00ff00\",\"#00ff00\",\"#00ff00\",\"#00ff00\",\"#000000\",\"#000000\",\"#000000\",\"#00ff00\",\"#000000\",\"#000000\",\"#00ffff\",\"#00ff00\",\"#00ff00\",\"#00ffff\",\"#000000\",\"#000000\",\"#00ff00\",\"#00ff00\",\"#000000\",\"#00ff00\",\"#00ff00\",\"#00ff00\",\"#000000\",\"#00ff00\",\"#00ff00\",\"#00ff00\",\"#00ff00\",\"#00ff00\",\"#000000\",\"#000000\",\"#000000\",\"#000000\",\"#000000\",\"#00ff00\",\"#00ff00\",\"#00ff00\",\"#00ff00\",\"#000000\",\"#000000\",\"#00ff00\",\"#00ff00\",\"#000000\",\"#00ff00\",\"#00ffff\",\"#000000\",\"#00ff00\",\"#00ff00\",\"#000000\",\"#000000\",\"#00ff00\",\"#00ffff\",\"#00ff00\",\"#00ff00\",\"#000000\",\"#000000\",\"#000000\",\"#00ff00\",\"#00ff00\",\"#000000\",\"#00ff00\",\"#000000\",\"#000000\",\"#000000\",\"#00ff00\",\"#000000\",\"#00ff00\",\"#00ff00\",\"#00ff00\",\"#000000\",\"#00ff00\",\"#00ff00\",\"#00ff00\",\"#00ff00\",\"#00ffff\",\"#000000\",\"#000000\",\"#000000\",\"#000000\",\"#00ff00\",\"#00ff00\",\"#00ff00\",\"#00ff00\",\"#000000\",\"#000000\",\"#00ff00\",\"#00ff00\",\"#00ff00\",\"#00ff00\",\"#000000\",\"#000000\",\"#00ff00\",\"#000000\",\"#000000\",\"#00ff00\",\"#00ff00\",\"#00ff00\",\"#00ff00\",\"#000000\",\"#00ff00\",\"#00ff00\",\"#00ff00\",\"#00ffff\",\"#000000\",\"#00ff00\",\"#00ff00\",\"#00ff00\",\"#00ff00\",\"#00ff00\",\"#000000\",\"#00ff00\",\"#000000\",\"#00ff00\",\"#000000\",\"#000000\",\"#00ff00\",\"#000000\",\"#00ff00\",\"#00ffff\",\"#00ff00\",\"#00ff00\",\"#000000\",\"#000000\",\"#00ff00\",\"#000000\",\"#00ff00\",\"#00ff00\",\"#00ff00\",\"#000000\",\"#000000\",\"#00ff00\",\"#000000\",\"#000000\",\"#000000\",\"#00ff00\",\"#000000\",\"#00ffff\",\"#000000\",\"#000000\",\"#00ff00\",\"#00ff00\",\"#00ff00\",\"#00ff00\",\"#000000\",\"#00ff00\",\"#00ff00\",\"#00ff00\",\"#000000\",\"#00ffff\",\"#00ff00\",\"#000000\",\"#00ff00\",\"#000000\",\"#000000\",\"#00ff00\",\"#00ff00\",\"#000000\",\"#00ff00\",\"#00ff00\",\"#00ff00\",\"#000000\",\"#000000\",\"#00ffff\",\"#00ff00\",\"#00ff00\",\"#00ff00\",\"#00ff00\",\"#00ff00\",\"#000000\",\"#00ff00\",\"#000000\",\"#00ff00\",\"#00ff00\",\"#00ffff\",\"#000000\",\"#000000\",\"#000000\",\"#00ff00\",\"#000000\",\"#00ff00\",\"#00ff00\",\"#00ff00\",\"#00ff00\",\"#00ff00\",\"#000000\",\"#000000\",\"#00ff00\",\"#00ff00\",\"#00ff00\",\"#00ff00\",\"#000000\",\"#00ff00\",\"#000000\",\"#00ff00\",\"#00ff00\",\"#00ff00\",\"#00ff00\",\"#00ff00\",\"#00ff00\",\"#00ff00\",\"#00ff00\",\"#00ff00\",\"#00ffff\",\"#000000\",\"#000000\",\"#00ff00\",\"#00ff00\",\"#000000\",\"#00ff00\",\"#00ff00\",\"#00ff00\",\"#00ff00\",\"#000000\",\"#00ff00\",\"#000000\",\"#00ffff\",\"#00ff00\",\"#00ff00\",\"#000000\",\"#00ff00\",\"#00ff00\",\"#00ff00\",\"#000000\",\"#00ff00\",\"#00ff00\",\"#00ff00\",\"#00ff00\",\"#00ffff\",\"#00ff00\",\"#000000\",\"#00ff00\",\"#000000\",\"#00ff00\",\"#00ff00\",\"#00ff00\",\"#00ff00\",\"#00ff00\",\"#00ff00\",\"#00ff00\",\"#00ffff\",\"#00ff00\",\"#00ff00\",\"#00ff00\",\"#00ff00\",\"#000000\",\"#000000\",\"#000000\",\"#00ff00\",\"#00ff00\",\"#000000\",\"#000000\",\"#000000\",\"#000000\",\"#00ffff\",\"#00ffff\",\"#00ff00\",\"#00ffff\",\"#00ff00\",\"#00ff00\",\"#00ff00\",\"#00ff00\",\"#00ff00\",\"#00ff00\",\"#00ff00\",\"#00ffff\",\"#00ff00\",\"#00ff00\",\"#000000\",\"#000000\",\"#00ff00\",\"#00ff00\",\"#000000\",\"#00ff00\",\"#00ff00\",\"#000000\",\"#000000\",\"#00ff00\",\"#00ffff\",\"#00ff00\",\"#00ff00\",\"#000000\",\"#00ff00\",\"#000000\",\"#00ff00\",\"#000000\",\"#000000\",\"#00ff00\",\"#00ff00\",\"#000000\",\"#00ff00\",\"#00ff00\",\"#00ffff\",\"#000000\",\"#00ff00\",\"#00ff00\",\"#000000\",\"#000000\",\"#00ff00\",\"#00ffff\",\"#000000\",\"#000000\",\"#00ff00\",\"#00ff00\",\"#000000\",\"#00ff00\",\"#00ffff\",\"#00ff00\",\"#00ff00\",\"#00ff00\",\"#00ff00\",\"#00ff00\",\"#000000\",\"#00ff00\",\"#00ff00\",\"#000000\",\"#00ff00\",\"#000000\",\"#00ff00\",\"#00ff00\",\"#000000\",\"#00ff00\",\"#00ffff\",\"#00ff00\",\"#00ff00\",\"#00ffff\",\"#000000\",\"#000000\",\"#00ff00\",\"#000000\",\"#00ff00\",\"#00ff00\",\"#00ff00\",\"#000000\",\"#00ff00\",\"#00ff00\",\"#00ff00\",\"#00ff00\",\"#00ff00\",\"#00ffff\",\"#000000\",\"#00ffff\",\"#00ff00\",\"#00ff00\",\"#00ffff\",\"#000000\",\"#000000\",\"#00ff00\",\"#00ff00\",\"#00ff00\",\"#00ff00\",\"#00ff00\",\"#00ff00\",\"#000000\",\"#000000\",\"#00ff00\",\"#000000\",\"#00ff00\",\"#00ff00\",\"#00ff00\",\"#00ff00\",\"#00ffff\",\"#000000\",\"#000000\",\"#00ff00\",\"#00ff00\",\"#00ffff\",\"#00ff00\",\"#000000\",\"#00ff00\",\"#000000\",\"#000000\",\"#00ff00\",\"#00ff00\",\"#00ff00\",\"#00ff00\",\"#000000\",\"#000000\",\"#000000\",\"#00ff00\",\"#000000\",\"#00ff00\",\"#00ffff\",\"#00ff00\",\"#000000\",\"#00ff00\",\"#00ff00\",\"#00ff00\",\"#00ff00\",\"#00ffff\",\"#00ff00\",\"#00ff00\",\"#00ff00\",\"#00ff00\",\"#00ff00\",\"#00ff00\",\"#000000\",\"#00ff00\",\"#00ff00\",\"#00ff00\",\"#00ff00\",\"#00ff00\",\"#000000\",\"#00ff00\",\"#00ff00\",\"#00ff00\",\"#00ff00\",\"#00ff00\",\"#00ffff\",\"#000000\",\"#00ff00\",\"#00ff00\",\"#00ff00\",\"#00ff00\",\"#00ffff\",\"#000000\",\"#00ff00\",\"#00ff00\",\"#000000\",\"#00ff00\",\"#000000\",\"#000000\",\"#00ffff\",\"#00ff00\",\"#00ff00\",\"#00ff00\",\"#00ff00\",\"#00ff00\",\"#000000\",\"#00ff00\",\"#00ff00\",\"#00ffff\",\"#000000\",\"#00ff00\",\"#000000\",\"#00ffff\",\"#00ff00\",\"#000000\",\"#000000\",\"#00ff00\",\"#00ff00\",\"#00ff00\",\"#000000\",\"#000000\",\"#00ff00\",\"#00ff00\",\"#00ff00\",\"#000000\",\"#00ff00\",\"#00ff00\",\"#00ff00\",\"#00ff00\",\"#00ff00\",\"#00ff00\",\"#000000\",\"#00ff00\",\"#00ff00\",\"#000000\",\"#000000\",\"#00ff00\",\"#00ff00\",\"#000000\",\"#000000\",\"#00ff00\",\"#00ff00\",\"#00ff00\",\"#00ff00\",\"#000000\",\"#00ff00\",\"#000000\",\"#00ff00\",\"#000000\",\"#00ff00\",\"#00ff00\",\"#00ff00\",\"#000000\",\"#00ff00\",\"#000000\",\"#000000\",\"#00ff00\",\"#00ff00\",\"#00ff00\",\"#00ff00\",\"#00ff00\",\"#000000\",\"#00ff00\",\"#00ff00\",\"#000000\",\"#00ff00\",\"#00ff00\",\"#00ff00\",\"#000000\",\"#00ff00\",\"#00ff00\",\"#00ff00\",\"#000000\",\"#00ff00\",\"#000000\",\"#000000\",\"#000000\",\"#00ff00\",\"#000000\",\"#00ff00\",\"#00ff00\",\"#00ff00\",\"#00ff00\",\"#00ffff\",\"#000000\",\"#00ff00\",\"#00ff00\",\"#00ff00\",\"#00ff00\",\"#000000\",\"#000000\",\"#00ffff\",\"#00ff00\",\"#00ff00\",\"#00ff00\",\"#000000\",\"#00ffff\",\"#00ff00\",\"#00ff00\",\"#000000\",\"#00ff00\",\"#00ffff\",\"#00ff00\",\"#00ff00\",\"#00ff00\",\"#000000\",\"#000000\",\"#00ff00\",\"#00ffff\",\"#000000\",\"#00ff00\",\"#00ff00\",\"#00ff00\",\"#00ff00\",\"#00ff00\",\"#00ff00\",\"#00ff00\",\"#00ff00\",\"#00ff00\",\"#000000\",\"#00ff00\",\"#000000\",\"#00ff00\",\"#00ff00\",\"#00ff00\",\"#00ff00\",\"#000000\",\"#00ffff\",\"#00ff00\",\"#00ff00\",\"#00ff00\",\"#000000\",\"#00ff00\",\"#00ff00\",\"#000000\",\"#00ff00\",\"#00ff00\",\"#00ffff\",\"#00ff00\",\"#00ff00\",\"#000000\",\"#00ff00\",\"#00ff00\",\"#000000\",\"#00ff00\",\"#00ff00\",\"#00ff00\",\"#000000\",\"#000000\",\"#00ff00\",\"#00ff00\",\"#00ff00\",\"#00ffff\",\"#00ff00\",\"#00ff00\",\"#00ffff\",\"#00ffff\",\"#00ffff\",\"#00ff00\",\"#00ff00\",\"#000000\",\"#00ff00\",\"#000000\",\"#00ff00\",\"#00ffff\",\"#000000\",\"#00ffff\",\"#000000\",\"#00ff00\",\"#000000\",\"#00ff00\",\"#000000\",\"#00ff00\",\"#00ff00\",\"#000000\",\"#00ff00\",\"#000000\",\"#00ff00\",\"#000000\",\"#000000\",\"#00ff00\",\"#00ff00\",\"#00ff00\",\"#00ff00\",\"#00ffff\",\"#00ff00\",\"#00ffff\",\"#000000\",\"#00ff00\",\"#00ff00\",\"#00ff00\",\"#000000\",\"#00ff00\",\"#00ff00\",\"#00ff00\",\"#000000\",\"#00ff00\",\"#000000\",\"#00ff00\",\"#00ff00\",\"#000000\",\"#000000\",\"#00ff00\",\"#00ff00\",\"#00ffff\",\"#000000\",\"#00ff00\",\"#000000\",\"#000000\",\"#000000\",\"#00ff00\",\"#00ffff\",\"#00ff00\",\"#00ff00\",\"#000000\",\"#00ff00\",\"#000000\",\"#000000\",\"#000000\",\"#00ff00\",\"#000000\",\"#000000\",\"#00ff00\",\"#00ff00\",\"#000000\",\"#000000\",\"#000000\",\"#00ff00\",\"#00ff00\",\"#00ff00\",\"#00ff00\",\"#00ff00\",\"#00ff00\",\"#00ff00\",\"#000000\",\"#00ff00\",\"#00ffff\",\"#00ff00\",\"#00ff00\",\"#00ff00\",\"#00ff00\",\"#00ff00\",\"#00ff00\",\"#00ff00\",\"#00ff00\",\"#00ff00\",\"#000000\",\"#00ff00\",\"#00ff00\",\"#00ffff\",\"#00ff00\",\"#000000\",\"#00ff00\",\"#00ff00\",\"#00ff00\",\"#00ff00\",\"#00ff00\",\"#00ff00\",\"#00ffff\",\"#00ff00\",\"#00ff00\",\"#000000\",\"#00ff00\",\"#00ff00\",\"#00ff00\",\"#000000\",\"#00ff00\",\"#00ff00\",\"#00ffff\",\"#000000\",\"#00ff00\",\"#000000\",\"#00ff00\",\"#000000\",\"#00ff00\",\"#000000\",\"#00ff00\",\"#000000\",\"#00ff00\",\"#00ffff\",\"#00ffff\",\"#00ffff\",\"#000000\",\"#00ff00\",\"#00ff00\",\"#00ff00\",\"#000000\",\"#00ff00\",\"#00ff00\",\"#00ffff\",\"#00ff00\",\"#00ff00\",\"#000000\",\"#00ffff\",\"#00ff00\",\"#00ff00\",\"#000000\",\"#000000\",\"#00ff00\",\"#00ff00\",\"#000000\",\"#000000\",\"#00ffff\",\"#00ff00\",\"#00ff00\",\"#00ff00\",\"#00ff00\",\"#00ff00\",\"#00ff00\",\"#00ff00\",\"#000000\",\"#000000\",\"#000000\",\"#00ff00\",\"#000000\",\"#00ffff\",\"#000000\",\"#00ff00\",\"#000000\",\"#00ff00\",\"#00ff00\",\"#00ff00\",\"#00ff00\",\"#00ffff\",\"#00ff00\",\"#000000\",\"#00ff00\",\"#000000\",\"#00ff00\",\"#00ff00\",\"#00ff00\",\"#00ff00\",\"#00ff00\",\"#00ff00\",\"#00ff00\",\"#00ffff\",\"#000000\",\"#00ff00\",\"#000000\",\"#000000\",\"#00ff00\",\"#00ffff\",\"#00ff00\",\"#00ff00\",\"#00ff00\",\"#00ff00\",\"#00ff00\",\"#000000\",\"#00ff00\",\"#00ff00\",\"#000000\",\"#000000\",\"#00ff00\",\"#00ff00\",\"#000000\",\"#000000\",\"#00ff00\",\"#000000\",\"#00ffff\",\"#00ff00\",\"#00ffff\",\"#00ff00\",\"#00ff00\",\"#00ff00\",\"#000000\",\"#00ff00\",\"#00ff00\",\"#000000\",\"#000000\",\"#00ff00\",\"#00ff00\",\"#000000\",\"#000000\",\"#000000\",\"#00ff00\",\"#00ff00\",\"#00ff00\",\"#00ff00\",\"#000000\",\"#00ff00\",\"#000000\",\"#00ff00\",\"#00ff00\",\"#000000\",\"#00ff00\",\"#000000\",\"#00ffff\",\"#00ff00\",\"#00ffff\",\"#00ff00\",\"#00ff00\",\"#00ffff\",\"#000000\",\"#00ff00\",\"#000000\",\"#00ff00\",\"#00ff00\",\"#000000\",\"#000000\",\"#00ff00\",\"#00ffff\",\"#000000\",\"#000000\",\"#000000\",\"#000000\",\"#00ff00\",\"#000000\",\"#00ff00\",\"#000000\",\"#00ff00\",\"#00ff00\",\"#00ff00\",\"#00ff00\",\"#00ff00\",\"#00ff00\",\"#000000\",\"#00ffff\",\"#00ff00\",\"#00ff00\",\"#00ff00\",\"#000000\",\"#000000\",\"#00ff00\",\"#000000\",\"#00ff00\",\"#000000\",\"#000000\",\"#00ff00\",\"#00ff00\",\"#00ff00\",\"#000000\",\"#00ff00\",\"#00ff00\",\"#00ff00\",\"#00ff00\",\"#000000\",\"#00ff00\",\"#00ff00\",\"#000000\",\"#00ffff\",\"#000000\",\"#00ffff\",\"#00ffff\",\"#00ff00\",\"#00ff00\",\"#000000\",\"#00ff00\",\"#000000\",\"#000000\",\"#00ffff\",\"#00ffff\",\"#00ff00\",\"#00ff00\",\"#00ffff\",\"#00ff00\",\"#00ff00\",\"#000000\",\"#000000\",\"#00ff00\",\"#000000\",\"#00ff00\",\"#000000\",\"#00ff00\",\"#00ff00\",\"#00ff00\",\"#000000\",\"#00ff00\",\"#000000\",\"#00ff00\",\"#00ff00\",\"#000000\",\"#00ff00\",\"#00ffff\",\"#00ff00\",\"#00ffff\",\"#000000\",\"#00ff00\",\"#00ff00\",\"#000000\",\"#00ff00\",\"#00ffff\",\"#00ff00\",\"#000000\",\"#00ff00\",\"#00ff00\",\"#000000\",\"#000000\",\"#00ffff\",\"#00ff00\",\"#00ffff\",\"#00ff00\",\"#00ff00\",\"#00ff00\",\"#00ffff\",\"#000000\",\"#00ff00\",\"#000000\",\"#00ff00\",\"#000000\",\"#00ff00\",\"#00ff00\",\"#00ff00\",\"#000000\",\"#00ff00\",\"#00ff00\",\"#000000\",\"#00ff00\",\"#000000\",\"#00ff00\",\"#00ff00\",\"#000000\",\"#00ff00\",\"#00ff00\",\"#000000\",\"#000000\",\"#00ff00\",\"#00ff00\",\"#000000\",\"#000000\",\"#000000\",\"#00ffff\",\"#000000\",\"#00ff00\",\"#00ff00\",\"#00ff00\",\"#00ff00\",\"#00ff00\",\"#00ff00\",\"#00ff00\",\"#000000\",\"#00ff00\",\"#00ff00\",\"#000000\",\"#000000\",\"#000000\",\"#000000\",\"#00ff00\",\"#000000\",\"#00ffff\",\"#00ffff\",\"#00ffff\",\"#000000\",\"#00ff00\",\"#000000\",\"#00ff00\",\"#000000\",\"#00ff00\",\"#000000\",\"#00ff00\",\"#00ff00\",\"#000000\",\"#00ff00\",\"#00ffff\",\"#00ff00\",\"#000000\",\"#00ff00\",\"#00ff00\",\"#00ff00\",\"#000000\",\"#000000\",\"#00ff00\",\"#00ff00\",\"#000000\",\"#00ff00\",\"#00ff00\",\"#000000\",\"#000000\",\"#00ff00\",\"#000000\",\"#00ff00\",\"#000000\",\"#000000\",\"#00ff00\",\"#000000\",\"#00ffff\",\"#00ff00\",\"#00ffff\",\"#000000\",\"#00ff00\",\"#00ff00\",\"#000000\",\"#000000\",\"#00ff00\",\"#000000\",\"#00ff00\",\"#00ff00\",\"#00ff00\",\"#00ffff\",\"#00ff00\",\"#00ff00\",\"#000000\",\"#000000\",\"#00ff00\",\"#00ff00\",\"#00ff00\",\"#00ffff\",\"#00ff00\",\"#00ff00\",\"#00ff00\",\"#000000\",\"#000000\",\"#000000\",\"#00ff00\",\"#000000\",\"#00ff00\",\"#00ff00\",\"#00ffff\",\"#00ff00\",\"#000000\",\"#00ff00\",\"#000000\",\"#00ff00\",\"#00ff00\",\"#00ff00\",\"#000000\",\"#00ff00\",\"#00ff00\",\"#00ff00\",\"#00ff00\",\"#000000\",\"#00ffff\",\"#00ff00\",\"#00ff00\",\"#00ffff\",\"#00ff00\",\"#000000\",\"#00ff00\",\"#00ff00\",\"#00ff00\",\"#00ff00\",\"#00ff00\",\"#000000\",\"#00ff00\",\"#000000\",\"#00ff00\",\"#000000\",\"#00ff00\",\"#000000\",\"#00ff00\",\"#00ff00\",\"#00ff00\",\"#00ff00\",\"#00ff00\",\"#00ff00\",\"#00ff00\",\"#00ff00\",\"#00ff00\",\"#000000\",\"#00ff00\",\"#000000\",\"#000000\",\"#00ff00\",\"#00ffff\",\"#00ff00\",\"#00ff00\",\"#00ff00\",\"#00ff00\",\"#00ff00\",\"#000000\",\"#00ff00\",\"#00ff00\",\"#00ff00\",\"#00ff00\",\"#00ff00\",\"#00ff00\",\"#000000\",\"#00ff00\",\"#00ff00\",\"#000000\",\"#00ff00\",\"#00ff00\",\"#000000\",\"#00ff00\",\"#00ff00\",\"#000000\",\"#00ff00\",\"#00ff00\",\"#00ff00\",\"#000000\",\"#00ffff\",\"#000000\",\"#000000\",\"#00ff00\",\"#00ff00\",\"#00ff00\",\"#000000\",\"#000000\",\"#00ff00\",\"#00ff00\",\"#000000\",\"#00ff00\",\"#00ff00\",\"#00ff00\",\"#00ff00\",\"#00ff00\",\"#00ff00\",\"#00ff00\",\"#000000\",\"#00ff00\",\"#00ff00\",\"#00ff00\",\"#000000\",\"#00ff00\",\"#00ff00\",\"#000000\",\"#00ff00\",\"#000000\",\"#000000\",\"#00ff00\",\"#00ff00\",\"#000000\",\"#000000\",\"#000000\",\"#00ff00\",\"#000000\",\"#00ff00\",\"#00ff00\",\"#00ff00\",\"#000000\",\"#00ffff\",\"#000000\",\"#00ff00\",\"#000000\",\"#00ff00\",\"#000000\",\"#00ffff\",\"#00ff00\",\"#00ff00\",\"#000000\",\"#00ff00\",\"#00ffff\",\"#00ff00\",\"#000000\",\"#00ff00\",\"#00ff00\",\"#00ffff\",\"#00ff00\",\"#000000\",\"#00ff00\",\"#00ff00\",\"#000000\",\"#00ff00\",\"#00ff00\",\"#00ffff\",\"#00ff00\",\"#000000\",\"#00ff00\",\"#00ff00\",\"#000000\",\"#000000\",\"#000000\",\"#00ff00\",\"#00ff00\",\"#000000\",\"#00ff00\",\"#00ff00\",\"#000000\",\"#00ff00\",\"#000000\",\"#00ff00\",\"#000000\",\"#000000\",\"#000000\",\"#00ff00\",\"#000000\",\"#000000\",\"#00ff00\",\"#00ffff\",\"#00ff00\",\"#00ff00\",\"#00ff00\",\"#000000\",\"#00ff00\",\"#00ff00\",\"#00ff00\",\"#000000\",\"#000000\",\"#00ff00\",\"#00ff00\",\"#00ff00\",\"#00ff00\",\"#00ff00\",\"#000000\",\"#00ff00\",\"#00ff00\",\"#00ff00\",\"#00ff00\",\"#000000\",\"#000000\",\"#00ff00\",\"#00ff00\",\"#000000\",\"#000000\",\"#00ff00\",\"#000000\",\"#00ff00\",\"#000000\",\"#00ff00\",\"#00ff00\",\"#00ff00\",\"#00ff00\",\"#00ff00\",\"#00ff00\",\"#00ff00\",\"#000000\",\"#00ff00\",\"#00ff00\",\"#000000\",\"#00ffff\",\"#00ff00\",\"#000000\",\"#00ff00\",\"#000000\",\"#000000\",\"#000000\",\"#00ff00\",\"#00ff00\",\"#00ff00\",\"#000000\",\"#00ff00\",\"#00ff00\",\"#000000\",\"#00ff00\",\"#00ff00\",\"#00ff00\",\"#00ff00\",\"#000000\",\"#00ff00\",\"#00ff00\",\"#00ff00\",\"#000000\",\"#000000\",\"#000000\",\"#00ff00\",\"#000000\",\"#000000\",\"#00ffff\",\"#00ff00\",\"#00ff00\",\"#000000\",\"#00ff00\",\"#00ff00\",\"#00ff00\",\"#000000\",\"#00ff00\",\"#00ff00\",\"#000000\",\"#00ff00\",\"#000000\",\"#00ff00\",\"#00ffff\",\"#00ff00\",\"#00ff00\",\"#00ff00\",\"#000000\",\"#00ff00\",\"#00ff00\",\"#00ffff\",\"#000000\",\"#00ff00\",\"#00ff00\",\"#000000\",\"#000000\",\"#00ff00\",\"#00ff00\",\"#00ff00\",\"#00ff00\",\"#00ff00\",\"#000000\",\"#00ff00\",\"#000000\",\"#00ff00\",\"#00ff00\",\"#000000\",\"#00ff00\",\"#00ffff\",\"#00ff00\",\"#00ffff\",\"#00ff00\",\"#000000\",\"#00ff00\",\"#000000\",\"#00ff00\",\"#000000\",\"#00ff00\",\"#000000\",\"#00ff00\",\"#00ffff\",\"#000000\",\"#00ff00\",\"#000000\",\"#00ff00\",\"#00ff00\",\"#000000\",\"#00ff00\",\"#00ff00\",\"#000000\",\"#000000\",\"#000000\",\"#000000\",\"#000000\",\"#000000\",\"#00ff00\",\"#00ff00\",\"#000000\",\"#000000\",\"#000000\",\"#00ff00\",\"#00ff00\",\"#00ff00\",\"#00ff00\",\"#00ff00\",\"#00ff00\",\"#00ff00\",\"#00ff00\",\"#000000\",\"#000000\",\"#000000\",\"#00ffff\",\"#00ff00\",\"#00ff00\",\"#000000\",\"#000000\",\"#00ff00\",\"#000000\",\"#00ff00\",\"#00ff00\",\"#00ffff\",\"#00ff00\",\"#000000\",\"#00ffff\",\"#000000\",\"#000000\",\"#00ffff\",\"#000000\",\"#000000\",\"#00ff00\",\"#000000\",\"#000000\",\"#00ff00\",\"#000000\",\"#000000\",\"#00ff00\",\"#00ffff\",\"#000000\",\"#00ff00\",\"#00ff00\",\"#00ff00\",\"#00ff00\",\"#000000\",\"#000000\",\"#000000\",\"#00ffff\",\"#00ff00\",\"#000000\",\"#000000\",\"#00ff00\",\"#00ff00\",\"#000000\",\"#00ff00\",\"#00ff00\",\"#000000\",\"#00ffff\",\"#00ff00\",\"#00ff00\",\"#000000\",\"#000000\",\"#00ff00\",\"#00ff00\",\"#000000\",\"#00ff00\",\"#000000\",\"#00ff00\",\"#00ff00\",\"#00ff00\",\"#00ff00\",\"#00ff00\",\"#00ff00\",\"#00ff00\",\"#00ff00\",\"#000000\",\"#00ff00\",\"#00ff00\",\"#00ff00\",\"#000000\",\"#000000\",\"#000000\",\"#00ff00\",\"#00ff00\",\"#000000\",\"#00ff00\",\"#00ff00\",\"#000000\",\"#00ff00\",\"#000000\",\"#00ff00\",\"#00ff00\",\"#00ffff\",\"#00ffff\",\"#000000\",\"#000000\",\"#00ffff\",\"#00ff00\",\"#00ff00\",\"#000000\",\"#000000\",\"#000000\",\"#00ff00\",\"#00ff00\",\"#00ff00\",\"#00ff00\",\"#00ff00\",\"#000000\",\"#00ff00\",\"#00ff00\",\"#00ff00\",\"#000000\",\"#00ff00\",\"#00ff00\",\"#00ff00\",\"#00ff00\",\"#000000\",\"#000000\",\"#00ff00\",\"#000000\",\"#00ff00\",\"#00ff00\",\"#000000\",\"#00ff00\",\"#00ff00\",\"#00ffff\",\"#00ffff\",\"#00ff00\",\"#000000\",\"#00ff00\",\"#00ff00\",\"#00ff00\",\"#00ff00\",\"#00ff00\",\"#00ff00\",\"#000000\",\"#000000\",\"#00ff00\",\"#000000\",\"#00ff00\",\"#000000\",\"#000000\",\"#000000\",\"#000000\",\"#00ff00\",\"#000000\",\"#000000\",\"#00ffff\",\"#00ff00\",\"#000000\",\"#00ff00\",\"#000000\",\"#000000\",\"#00ff00\",\"#00ff00\",\"#00ffff\",\"#000000\",\"#000000\",\"#00ffff\",\"#00ff00\",\"#000000\",\"#00ff00\",\"#00ff00\",\"#000000\",\"#00ff00\",\"#00ff00\",\"#00ff00\",\"#000000\",\"#00ff00\",\"#00ff00\",\"#000000\",\"#000000\",\"#000000\",\"#000000\",\"#00ff00\",\"#00ff00\",\"#00ff00\",\"#00ff00\",\"#00ff00\",\"#000000\",\"#00ff00\",\"#00ff00\",\"#000000\",\"#00ff00\",\"#00ff00\",\"#000000\",\"#000000\",\"#00ff00\",\"#000000\",\"#00ff00\",\"#000000\",\"#00ffff\",\"#00ff00\",\"#000000\",\"#000000\",\"#00ff00\",\"#00ff00\",\"#00ff00\",\"#000000\",\"#00ff00\",\"#00ffff\",\"#000000\",\"#000000\",\"#000000\",\"#000000\",\"#00ff00\",\"#00ff00\",\"#00ff00\",\"#000000\",\"#000000\",\"#00ff00\",\"#00ffff\",\"#00ff00\",\"#000000\",\"#000000\",\"#00ff00\",\"#00ff00\",\"#00ff00\",\"#000000\",\"#00ff00\",\"#00ff00\",\"#000000\",\"#00ff00\",\"#000000\",\"#000000\",\"#00ffff\",\"#00ff00\",\"#00ff00\",\"#00ff00\",\"#00ff00\",\"#00ff00\",\"#00ff00\",\"#000000\",\"#000000\",\"#00ff00\",\"#00ff00\",\"#00ff00\",\"#00ffff\",\"#000000\",\"#00ff00\",\"#00ff00\",\"#000000\",\"#000000\",\"#00ffff\",\"#000000\",\"#00ffff\",\"#00ffff\",\"#000000\",\"#00ff00\",\"#00ff00\",\"#000000\",\"#00ff00\",\"#00ff00\",\"#000000\",\"#00ff00\",\"#000000\",\"#00ff00\",\"#00ff00\",\"#00ffff\",\"#000000\",\"#000000\",\"#00ff00\",\"#00ff00\",\"#00ffff\",\"#00ffff\",\"#00ff00\",\"#00ff00\",\"#00ff00\",\"#00ffff\",\"#00ff00\",\"#000000\",\"#00ff00\",\"#00ff00\",\"#000000\",\"#00ff00\",\"#000000\",\"#00ff00\",\"#000000\",\"#00ff00\",\"#000000\",\"#000000\",\"#00ff00\",\"#00ffff\",\"#00ff00\",\"#000000\",\"#000000\",\"#00ff00\",\"#00ffff\",\"#00ff00\",\"#00ff00\",\"#00ff00\",\"#000000\",\"#000000\",\"#000000\",\"#00ff00\",\"#00ff00\",\"#00ff00\",\"#00ff00\",\"#00ff00\",\"#000000\",\"#000000\",\"#000000\",\"#00ff00\",\"#00ff00\",\"#00ff00\",\"#00ff00\",\"#000000\",\"#00ff00\",\"#00ff00\",\"#00ff00\",\"#000000\",\"#00ff00\",\"#00ff00\",\"#00ff00\",\"#00ff00\",\"#000000\",\"#00ff00\",\"#000000\",\"#00ff00\",\"#000000\",\"#00ff00\",\"#000000\",\"#000000\",\"#000000\",\"#000000\",\"#000000\",\"#00ff00\",\"#00ff00\",\"#00ff00\",\"#00ff00\",\"#00ff00\",\"#00ff00\",\"#00ff00\",\"#000000\",\"#000000\",\"#00ff00\",\"#00ff00\",\"#000000\",\"#00ff00\",\"#000000\",\"#00ff00\",\"#000000\",\"#000000\",\"#00ff00\",\"#00ff00\",\"#000000\",\"#000000\",\"#00ff00\",\"#00ff00\",\"#00ff00\",\"#00ff00\",\"#00ff00\",\"#00ff00\",\"#000000\",\"#00ff00\",\"#000000\",\"#00ff00\",\"#00ff00\",\"#000000\",\"#00ffff\",\"#000000\",\"#00ff00\",\"#00ff00\",\"#000000\",\"#00ff00\",\"#00ff00\",\"#00ff00\",\"#000000\",\"#00ff00\",\"#00ff00\",\"#00ff00\",\"#00ff00\",\"#00ff00\",\"#000000\",\"#000000\",\"#00ff00\",\"#00ff00\",\"#00ff00\",\"#00ff00\",\"#00ff00\",\"#000000\",\"#00ff00\",\"#00ffff\",\"#00ff00\",\"#00ff00\",\"#00ff00\",\"#000000\",\"#00ff00\",\"#00ff00\",\"#000000\",\"#00ff00\",\"#00ff00\",\"#000000\",\"#000000\",\"#00ff00\",\"#00ff00\",\"#000000\",\"#000000\",\"#000000\",\"#000000\",\"#00ff00\",\"#00ff00\",\"#000000\",\"#000000\",\"#000000\",\"#00ff00\",\"#00ff00\",\"#00ff00\",\"#00ff00\",\"#000000\",\"#000000\",\"#00ff00\",\"#00ff00\",\"#000000\",\"#00ff00\",\"#00ff00\",\"#000000\",\"#00ff00\",\"#00ff00\",\"#00ff00\",\"#00ffff\",\"#00ff00\",\"#000000\",\"#00ff00\",\"#000000\",\"#00ff00\",\"#00ff00\",\"#00ff00\",\"#000000\",\"#00ff00\",\"#00ffff\",\"#00ff00\",\"#00ff00\",\"#00ff00\",\"#000000\",\"#00ffff\",\"#00ff00\",\"#00ff00\",\"#00ff00\",\"#00ff00\",\"#00ff00\",\"#00ffff\",\"#00ff00\",\"#00ffff\",\"#00ff00\",\"#000000\",\"#00ffff\",\"#00ffff\",\"#00ff00\",\"#00ffff\",\"#000000\",\"#00ff00\",\"#00ffff\",\"#000000\",\"#00ffff\",\"#00ff00\",\"#000000\",\"#00ff00\",\"#00ff00\",\"#00ff00\",\"#00ff00\",\"#000000\",\"#00ff00\",\"#00ffff\",\"#00ff00\",\"#000000\",\"#00ff00\",\"#00ff00\",\"#00ff00\",\"#00ff00\",\"#00ff00\",\"#00ff00\",\"#00ff00\",\"#000000\",\"#00ff00\",\"#00ff00\",\"#00ffff\",\"#000000\",\"#000000\",\"#00ff00\",\"#00ff00\",\"#00ff00\",\"#00ff00\",\"#00ff00\",\"#00ff00\",\"#00ff00\",\"#000000\",\"#000000\",\"#00ff00\",\"#000000\",\"#00ff00\",\"#00ff00\",\"#000000\",\"#00ff00\",\"#00ff00\",\"#00ff00\",\"#00ff00\",\"#000000\",\"#00ffff\",\"#00ff00\",\"#00ffff\",\"#00ffff\",\"#000000\",\"#000000\",\"#00ff00\",\"#000000\",\"#000000\",\"#00ff00\",\"#000000\",\"#000000\",\"#00ff00\",\"#00ff00\",\"#00ff00\",\"#000000\",\"#000000\",\"#00ff00\",\"#00ff00\",\"#00ff00\",\"#000000\",\"#00ff00\",\"#00ff00\",\"#00ff00\",\"#00ff00\",\"#00ff00\",\"#000000\",\"#00ff00\",\"#00ffff\",\"#00ff00\",\"#00ff00\",\"#000000\",\"#00ff00\",\"#000000\",\"#00ffff\",\"#00ff00\",\"#00ffff\",\"#00ff00\",\"#000000\",\"#00ff00\",\"#00ff00\",\"#000000\",\"#00ff00\",\"#00ff00\",\"#00ffff\",\"#000000\",\"#00ffff\",\"#00ffff\",\"#000000\",\"#00ff00\",\"#00ff00\",\"#00ff00\",\"#000000\",\"#00ff00\",\"#00ff00\",\"#00ff00\",\"#00ff00\",\"#00ff00\",\"#000000\",\"#000000\",\"#00ffff\",\"#000000\",\"#00ffff\",\"#000000\",\"#00ff00\",\"#00ff00\",\"#00ff00\",\"#00ff00\",\"#000000\",\"#000000\",\"#00ff00\",\"#00ff00\",\"#00ffff\",\"#000000\",\"#00ffff\",\"#00ff00\",\"#00ff00\",\"#00ff00\",\"#00ffff\",\"#000000\",\"#00ff00\",\"#00ffff\",\"#00ff00\",\"#00ff00\",\"#00ff00\",\"#00ff00\",\"#000000\",\"#000000\",\"#00ff00\",\"#00ff00\",\"#00ff00\",\"#000000\",\"#00ff00\",\"#00ff00\",\"#000000\",\"#000000\",\"#00ff00\",\"#00ff00\",\"#000000\",\"#00ff00\",\"#00ff00\",\"#000000\",\"#000000\",\"#00ff00\",\"#000000\",\"#00ff00\",\"#000000\",\"#00ff00\",\"#00ff00\",\"#000000\",\"#00ff00\",\"#00ff00\",\"#00ff00\",\"#00ff00\",\"#00ff00\",\"#00ff00\",\"#000000\",\"#00ff00\",\"#00ff00\",\"#000000\",\"#00ff00\",\"#00ff00\",\"#00ffff\",\"#00ff00\",\"#000000\",\"#00ff00\",\"#00ff00\",\"#00ff00\",\"#00ffff\",\"#000000\",\"#000000\",\"#00ff00\",\"#00ff00\",\"#00ff00\",\"#00ff00\",\"#00ff00\",\"#00ff00\",\"#00ff00\",\"#00ff00\",\"#000000\",\"#00ff00\",\"#000000\",\"#00ff00\",\"#00ffff\",\"#00ff00\",\"#00ff00\",\"#00ff00\",\"#00ff00\",\"#00ff00\",\"#00ff00\",\"#00ff00\",\"#000000\",\"#00ff00\",\"#00ffff\",\"#00ff00\",\"#00ff00\",\"#00ff00\",\"#00ff00\",\"#00ff00\",\"#000000\",\"#00ff00\",\"#00ff00\",\"#00ff00\",\"#00ff00\",\"#000000\",\"#00ff00\",\"#00ffff\",\"#00ff00\",\"#000000\",\"#00ff00\",\"#00ff00\",\"#00ff00\",\"#000000\",\"#00ff00\",\"#00ffff\",\"#00ff00\",\"#00ff00\",\"#000000\",\"#00ff00\",\"#00ff00\",\"#00ff00\",\"#00ff00\",\"#00ff00\",\"#00ff00\",\"#00ff00\",\"#00ff00\",\"#000000\",\"#000000\",\"#00ff00\",\"#000000\",\"#000000\",\"#00ff00\",\"#00ff00\",\"#00ff00\",\"#00ff00\",\"#00ffff\",\"#00ff00\",\"#00ff00\",\"#00ff00\",\"#000000\",\"#000000\",\"#00ff00\",\"#000000\",\"#00ff00\",\"#000000\",\"#000000\",\"#00ff00\",\"#00ff00\",\"#000000\",\"#000000\",\"#00ff00\",\"#000000\",\"#00ff00\",\"#000000\",\"#00ff00\",\"#00ff00\",\"#00ff00\",\"#00ff00\",\"#00ffff\",\"#00ffff\",\"#000000\",\"#00ff00\",\"#00ff00\",\"#00ffff\",\"#000000\",\"#000000\",\"#00ff00\",\"#00ff00\",\"#00ff00\",\"#000000\",\"#000000\",\"#000000\",\"#000000\",\"#000000\",\"#000000\",\"#00ff00\",\"#00ff00\",\"#00ff00\",\"#000000\",\"#00ff00\",\"#00ff00\",\"#00ff00\",\"#000000\",\"#00ff00\",\"#000000\",\"#00ff00\",\"#00ff00\",\"#00ff00\",\"#00ffff\",\"#00ff00\",\"#00ff00\",\"#00ff00\",\"#00ff00\",\"#000000\",\"#000000\",\"#00ff00\",\"#00ffff\",\"#00ff00\",\"#000000\",\"#00ff00\",\"#00ff00\",\"#00ff00\",\"#00ff00\",\"#00ff00\",\"#00ff00\",\"#00ff00\",\"#00ff00\",\"#000000\",\"#00ff00\",\"#00ff00\",\"#00ff00\",\"#000000\",\"#000000\",\"#00ff00\",\"#00ff00\",\"#00ff00\",\"#00ff00\",\"#00ff00\",\"#000000\",\"#000000\",\"#00ff00\",\"#00ff00\",\"#00ff00\",\"#00ff00\",\"#000000\",\"#00ff00\",\"#00ff00\",\"#00ff00\",\"#00ff00\",\"#00ff00\",\"#00ff00\",\"#00ff00\",\"#00ff00\",\"#000000\",\"#00ff00\",\"#000000\",\"#00ffff\",\"#00ff00\",\"#000000\",\"#000000\",\"#000000\",\"#00ff00\",\"#00ff00\",\"#00ff00\",\"#00ff00\",\"#00ff00\",\"#00ff00\",\"#00ff00\",\"#000000\",\"#00ff00\",\"#00ff00\",\"#000000\",\"#00ff00\",\"#000000\",\"#00ff00\",\"#00ffff\",\"#00ff00\",\"#00ff00\",\"#00ff00\",\"#000000\",\"#00ff00\",\"#000000\",\"#00ff00\",\"#00ff00\",\"#00ff00\",\"#00ff00\",\"#00ff00\",\"#00ff00\",\"#000000\",\"#00ff00\",\"#00ffff\",\"#00ff00\",\"#00ff00\",\"#00ff00\",\"#00ff00\",\"#00ff00\",\"#00ff00\",\"#00ff00\",\"#000000\",\"#00ffff\",\"#00ff00\",\"#000000\",\"#00ff00\",\"#00ff00\",\"#000000\",\"#000000\",\"#00ff00\",\"#000000\",\"#00ff00\",\"#00ffff\",\"#000000\",\"#00ff00\",\"#00ff00\",\"#00ff00\",\"#00ff00\",\"#00ff00\",\"#000000\",\"#00ffff\",\"#00ff00\",\"#000000\",\"#000000\",\"#00ff00\",\"#00ff00\",\"#000000\",\"#000000\",\"#00ff00\",\"#00ff00\",\"#00ff00\",\"#000000\",\"#00ff00\",\"#00ff00\",\"#00ff00\",\"#00ff00\",\"#00ffff\",\"#000000\",\"#000000\",\"#00ff00\",\"#00ff00\",\"#00ffff\",\"#00ff00\",\"#00ff00\",\"#00ff00\",\"#00ff00\",\"#00ff00\",\"#00ff00\",\"#000000\",\"#00ff00\",\"#00ff00\",\"#00ff00\",\"#00ff00\",\"#00ffff\",\"#000000\",\"#00ff00\",\"#000000\",\"#00ff00\",\"#00ffff\",\"#00ff00\",\"#00ff00\",\"#00ffff\",\"#000000\",\"#00ff00\",\"#00ff00\",\"#00ff00\",\"#00ff00\",\"#00ff00\",\"#00ff00\",\"#000000\",\"#00ff00\",\"#00ff00\",\"#00ff00\",\"#00ff00\",\"#00ff00\",\"#00ff00\",\"#000000\",\"#00ff00\",\"#00ff00\",\"#00ff00\",\"#000000\",\"#00ffff\",\"#00ff00\",\"#000000\",\"#000000\",\"#00ff00\",\"#00ff00\",\"#000000\",\"#00ff00\",\"#00ff00\",\"#00ffff\",\"#000000\",\"#00ff00\",\"#00ff00\",\"#00ff00\",\"#00ff00\",\"#00ff00\",\"#000000\",\"#000000\",\"#00ff00\",\"#00ff00\",\"#00ff00\",\"#00ff00\",\"#00ff00\",\"#00ffff\",\"#000000\",\"#000000\",\"#00ff00\",\"#000000\",\"#000000\",\"#000000\",\"#00ff00\",\"#00ff00\",\"#00ff00\",\"#000000\",\"#00ff00\",\"#00ff00\",\"#000000\",\"#00ff00\",\"#000000\",\"#000000\",\"#000000\",\"#00ff00\",\"#00ffff\",\"#000000\",\"#00ff00\",\"#000000\",\"#000000\",\"#00ff00\",\"#00ff00\",\"#00ffff\",\"#00ffff\",\"#00ff00\",\"#00ff00\",\"#000000\",\"#00ffff\",\"#00ffff\",\"#00ff00\",\"#000000\",\"#000000\",\"#00ff00\",\"#000000\",\"#000000\",\"#00ff00\",\"#00ff00\",\"#00ff00\",\"#00ff00\",\"#000000\",\"#00ff00\",\"#000000\",\"#00ff00\",\"#000000\",\"#00ff00\",\"#00ff00\",\"#000000\",\"#00ffff\",\"#000000\",\"#00ff00\",\"#000000\",\"#00ff00\",\"#000000\",\"#00ff00\",\"#00ff00\",\"#00ffff\",\"#00ff00\",\"#00ff00\",\"#000000\",\"#000000\",\"#00ff00\",\"#00ff00\",\"#00ff00\",\"#00ff00\",\"#00ff00\",\"#00ff00\",\"#00ff00\",\"#00ff00\",\"#000000\",\"#000000\",\"#00ffff\",\"#000000\",\"#00ff00\",\"#00ff00\",\"#00ff00\",\"#000000\",\"#00ffff\",\"#00ff00\",\"#00ff00\",\"#00ff00\",\"#00ff00\",\"#000000\",\"#00ffff\",\"#000000\",\"#00ff00\",\"#00ff00\",\"#000000\",\"#00ff00\",\"#000000\",\"#00ffff\",\"#000000\",\"#000000\",\"#000000\",\"#00ff00\",\"#00ff00\",\"#00ff00\",\"#000000\",\"#000000\",\"#000000\",\"#00ff00\",\"#000000\",\"#00ff00\",\"#00ff00\",\"#00ff00\",\"#00ff00\",\"#000000\",\"#00ff00\",\"#000000\",\"#00ff00\",\"#00ff00\",\"#00ff00\",\"#00ff00\",\"#00ff00\",\"#000000\",\"#00ff00\",\"#00ff00\",\"#00ffff\",\"#00ff00\",\"#00ff00\",\"#000000\",\"#00ff00\",\"#000000\",\"#00ff00\",\"#000000\",\"#00ff00\",\"#00ffff\",\"#000000\",\"#00ff00\",\"#00ff00\",\"#00ffff\",\"#00ff00\",\"#00ff00\",\"#00ff00\",\"#00ffff\",\"#00ff00\",\"#000000\",\"#00ff00\",\"#000000\",\"#00ff00\",\"#00ff00\",\"#00ff00\",\"#000000\",\"#00ff00\",\"#000000\",\"#00ffff\",\"#00ff00\",\"#00ffff\",\"#00ffff\",\"#000000\",\"#00ff00\",\"#00ff00\",\"#00ff00\",\"#00ff00\",\"#00ff00\",\"#00ff00\",\"#00ff00\",\"#000000\",\"#000000\",\"#000000\",\"#000000\",\"#00ff00\",\"#00ff00\",\"#00ff00\",\"#000000\",\"#000000\",\"#00ff00\",\"#00ff00\",\"#000000\",\"#00ff00\",\"#00ff00\",\"#00ff00\",\"#00ff00\",\"#00ffff\",\"#00ff00\",\"#00ff00\",\"#00ff00\",\"#00ff00\",\"#00ff00\",\"#000000\",\"#00ff00\",\"#00ff00\",\"#00ff00\",\"#00ffff\",\"#00ff00\",\"#00ff00\",\"#000000\",\"#00ff00\",\"#00ff00\",\"#00ff00\",\"#000000\",\"#000000\",\"#00ff00\",\"#000000\",\"#000000\",\"#00ff00\",\"#000000\",\"#00ff00\",\"#000000\",\"#00ff00\",\"#00ffff\",\"#00ffff\",\"#000000\",\"#00ff00\",\"#000000\",\"#00ff00\",\"#00ff00\",\"#000000\",\"#000000\",\"#00ff00\",\"#00ff00\",\"#00ffff\",\"#00ff00\",\"#000000\",\"#00ff00\",\"#000000\",\"#00ff00\",\"#000000\",\"#000000\",\"#00ff00\",\"#00ff00\",\"#00ff00\",\"#00ffff\",\"#000000\",\"#00ffff\",\"#000000\",\"#000000\",\"#00ff00\",\"#00ff00\",\"#000000\",\"#00ff00\",\"#00ff00\",\"#000000\",\"#00ff00\",\"#00ff00\",\"#000000\",\"#00ff00\",\"#00ff00\",\"#000000\",\"#00ff00\",\"#00ff00\",\"#00ff00\",\"#00ff00\",\"#00ffff\",\"#00ffff\",\"#00ffff\",\"#00ff00\",\"#00ff00\",\"#00ffff\",\"#00ff00\",\"#00ffff\",\"#00ff00\",\"#00ff00\",\"#000000\",\"#00ff00\",\"#00ff00\",\"#00ff00\",\"#000000\",\"#00ff00\",\"#00ff00\",\"#00ff00\",\"#000000\",\"#00ff00\",\"#00ff00\",\"#00ff00\",\"#000000\",\"#00ff00\",\"#000000\",\"#00ff00\",\"#00ff00\",\"#000000\",\"#000000\",\"#000000\",\"#000000\",\"#000000\",\"#00ff00\",\"#00ff00\",\"#00ff00\",\"#00ff00\",\"#00ff00\",\"#00ff00\",\"#000000\",\"#00ff00\",\"#00ff00\",\"#00ff00\",\"#00ff00\",\"#00ff00\",\"#00ff00\",\"#00ff00\",\"#000000\",\"#00ff00\",\"#00ff00\",\"#00ff00\"],\"names\":[\"<unk>\",\"<pad>\",\"flight\",\"thank\",\"annoi\",\"hesit\",\"undecid\",\"uneasi\",\"co\",\"hour\",\"httpskeptic\",\"you\",\"cancel\",\"help\",\"it\",\"servic\",\"delai\",\"time\",\"custom\",\"can\",\"bag\",\"wait\",\"plane\",\"need\",\"hold\",\"amp\",\"fly\",\"dai\",\"airlin\",\"gate\",\"seat\",\"flightl\",\"book\",\"ve\",\"check\",\"we\",\"no\",\"chang\",\"don\",\"got\",\"phone\",\"like\",\"that\",\"try\",\"todai\",\"hr\",\"us\",\"late\",\"agent\",\"gui\",\"now\",\"work\",\"miss\",\"ticket\",\"on\",\"know\",\"what\",\"go\",\"min\",\"re\",\"me\",\"wai\",\"airport\",\"call\",\"board\",\"travel\",\"minut\",\"want\",\"get\",\"great\",\"thi\",\"weather\",\"connect\",\"tomorrow\",\"problem\",\"not\",\"good\",\"new\",\"home\",\"issu\",\"look\",\"peopl\",\"email\",\"love\",\"pleas\",\"the\",\"let\",\"sit\",\"told\",\"ll\",\"luggag\",\"rebook\",\"aa\",\"number\",\"reserv\",\"is\",\"my\",\"crew\",\"dm\",\"unit\",\"lost\",\"baggag\",\"passeng\",\"trip\",\"how\",\"respons\",\"worst\",\"ye\",\"again\",\"sai\",\"tell\",\"do\",\"experi\",\"just\",\"right\",\"have\",\"line\",\"your\",\"thei\",\"why\",\"am\",\"ua\",\"in\",\"leav\",\"didn\",\"hope\",\"onlin\",\"week\",\"there\",\"come\",\"and\",\"jfk\",\"answer\",\"arriv\",\"pai\",\"staff\",\"make\",\"happi\",\"our\",\"bad\",\"best\",\"so\",\"long\",\"better\",\"follow\",\"left\",\"sure\",\"land\",\"said\",\"updat\",\"won\",\"think\",\"refund\",\"stuck\",\"mile\",\"pm\",\"all\",\"but\",\"morn\",\"care\",\"doesn\",\"sent\",\"flightr\",\"ask\",\"tonight\",\"busi\",\"flt\",\"happen\",\"websit\",\"appreci\",\"hotel\",\"night\",\"attend\",\"out\",\"will\",\"fleet\",\"fleek\",\"dfw\",\"tri\",\"lax\",\"year\",\"up\",\"confirm\",\"info\",\"offer\",\"final\",\"air\",\"to\",\"nice\",\"upgrad\",\"charg\",\"pilot\",\"person\",\"voucher\",\"credit\",\"rude\",\"talk\",\"avail\",\"free\",\"ago\",\"point\",\"fix\",\"send\",\"class\",\"rep\",\"start\",\"thing\",\"if\",\"pass\",\"ani\",\"st\",\"sfo\",\"contact\",\"option\",\"frustrat\",\"take\",\"employe\",\"abl\",\"open\",\"receiv\",\"tweet\",\"back\",\"phl\",\"claim\",\"fee\",\"stop\",\"face\",\"still\",\"here\",\"speak\",\"understand\",\"wifi\",\"app\",\"awesom\",\"differ\",\"disappoint\",\"ord\",\"team\",\"statu\",\"actual\",\"she\",\"yesterdai\",\"hi\",\"dca\",\"suppos\",\"terribl\",\"too\",\"plan\",\"ar\",\"departur\",\"amaz\",\"ok\",\"instead\",\"sorri\",\"suck\",\"direct\",\"earli\",\"la\",\"return\",\"schedul\",\"extra\",\"frown\",\"gt\",\"rt\",\"thx\",\"isn\",\"jetblu\",\"site\",\"couldn\",\"haven\",\"kid\",\"bo\",\"friend\",\"ground\",\"mean\",\"paid\",\"smilei\",\"clt\",\"deal\",\"earlier\",\"lot\",\"monei\",\"allow\",\"famili\",\"polici\",\"realli\",\"reason\",\"show\",\"ewr\",\"job\",\"compani\",\"took\",\"add\",\"card\",\"chanc\",\"provid\",\"strand\",\"wasn\",\"depart\",\"expect\",\"member\",\"messag\",\"big\",\"did\",\"ever\",\"hung\",\"month\",\"repli\",\"snow\",\"account\",\"oh\",\"question\",\"respond\",\"vega\",\"wife\",\"airplan\",\"lose\",\"tarmac\",\"th\",\"airwai\",\"boston\",\"dalla\",\"old\",\"when\",\"feel\",\"horribl\",\"mechan\",\"southwest\",\"them\",\"assist\",\"chicago\",\"give\",\"pick\",\"poor\",\"possibl\",\"ridicul\",\"apolog\",\"for\",\"run\",\"san\",\"well\",\"yet\",\"denver\",\"reschedul\",\"serious\",\"never\",\"request\",\"treat\",\"twitter\",\"unaccept\",\"ur\",\"wa\",\"american\",\"caus\",\"cost\",\"keep\",\"at\",\"awai\",\"been\",\"mayb\",\"vacat\",\"desk\",\"end\",\"far\",\"flightlat\",\"food\",\"hang\",\"inform\",\"nyc\",\"stai\",\"wrong\",\"count\",\"gave\",\"half\",\"link\",\"past\",\"destin\",\"handl\",\"complaint\",\"aw\",\"bc\",\"complet\",\"hei\",\"noth\",\"broken\",\"fail\",\"hear\",\"off\",\"went\",\"car\",\"row\",\"wonder\",\"compens\",\"much\",\"price\",\"twice\",\"commun\",\"current\",\"error\",\"littl\",\"move\",\"runwai\",\"soon\",\"pl\",\"switch\",\"charlott\",\"guess\",\"iad\",\"idea\",\"place\",\"rout\",\"termin\",\"veri\",\"with\",\"would\",\"bring\",\"carri\",\"newark\",\"wors\",\"citi\",\"fll\",\"houston\",\"intern\",\"purchas\",\"after\",\"first\",\"he\",\"lack\",\"longer\",\"phx\",\"real\",\"drive\",\"lga\",\"reach\",\"believ\",\"drop\",\"given\",\"hard\",\"list\",\"plu\",\"room\",\"second\",\"watch\",\"cool\",\"deliv\",\"disconnect\",\"head\",\"life\",\"live\",\"sat\",\"see\",\"thought\",\"cust\",\"fare\",\"had\",\"im\",\"then\",\"turn\",\"also\",\"bui\",\"close\",\"figur\",\"heard\",\"jet\",\"load\",\"lol\",\"sleep\",\"accept\",\"httpsskeptic\",\"nd\",\"process\",\"system\",\"address\",\"down\",\"even\",\"onli\",\"origin\",\"philli\",\"total\",\"group\",\"human\",\"iah\",\"leg\",\"mainten\",\"reflight\",\"share\",\"sw\",\"wast\",\"dc\",\"forward\",\"quick\",\"standbi\",\"world\",\"worri\",\"wouldn\",\"absolut\",\"as\",\"date\",\"den\",\"form\",\"glad\",\"mondai\",\"relat\",\"announc\",\"club\",\"entir\",\"ic\",\"joke\",\"resolv\",\"tv\",\"yr\",\"ad\",\"bwi\",\"ceo\",\"file\",\"loyal\",\"manag\",\"non\",\"oper\",\"where\",\"aren\",\"award\",\"case\",\"done\",\"explain\",\"locat\",\"miami\",\"name\",\"or\",\"refus\",\"screw\",\"spent\",\"swa\",\"wish\",\"word\",\"blue\",\"flew\",\"flyer\",\"hate\",\"mess\",\"over\",\"read\",\"rock\",\"usair\",\"who\",\"be\",\"correct\",\"more\",\"counter\",\"forc\",\"record\",\"ruin\",\"should\",\"supervisor\",\"taken\",\"train\",\"yeah\",\"alreadi\",\"anoth\",\"bought\",\"from\",\"fuck\",\"hopefulli\",\"mco\",\"promis\",\"someon\",\"spend\",\"support\",\"wow\",\"anyth\",\"concern\",\"continu\",\"fault\",\"pretti\",\"sundai\",\"though\",\"thumbs_up\",\"asap\",\"detail\",\"inconveni\",\"kind\",\"lt\",\"meet\",\"post\",\"report\",\"situat\",\"super\",\"access\",\"appar\",\"autom\",\"cloth\",\"door\",\"drink\",\"futur\",\"high\",\"learn\",\"safe\",\"set\",\"storm\",\"suggest\",\"transfer\",\"cabin\",\"companion\",\"fine\",\"huge\",\"readi\",\"select\",\"sign\",\"tsa\",\"atl\",\"delta\",\"feb\",\"nashvil\",\"of\",\"okai\",\"tuesdai\",\"unfortun\",\"austin\",\"bump\",\"checkin\",\"cross\",\"expir\",\"extrem\",\"flown\",\"layov\",\"probabl\",\"safeti\",\"through\",\"upset\",\"accommod\",\"atlanta\",\"could\",\"crazi\",\"easi\",\"fact\",\"folded_hand\",\"note\",\"orlando\",\"sad\",\"save\",\"submit\",\"togeth\",\"zero\",\"dont\",\"gonna\",\"ha\",\"middl\",\"mom\",\"pre\",\"prioriti\",\"seen\",\"shit\",\"shouldn\",\"state\",\"stick\",\"weekend\",\"aircraft\",\"cold\",\"daughter\",\"hand\",\"husband\",\"notic\",\"platinum\",\"reimburs\",\"space\",\"troubl\",\"water\",\"came\",\"control\",\"dividend\",\"fun\",\"loung\",\"luck\",\"matter\",\"multipl\",\"offic\",\"pouting_fac\",\"rdu\",\"sens\",\"serv\",\"wink_or_smirk\",\"birthdai\",\"consid\",\"countri\",\"despit\",\"enjoi\",\"friendli\",\"gold\",\"hello\",\"laugh\",\"listen\",\"mia\",\"mobil\",\"notif\",\"ppl\",\"rate\",\"rd\",\"round\",\"spoke\",\"tix\",\"unabl\",\"usual\",\"winter\",\"wtf\",\"yall\",\"anyon\",\"appli\",\"area\",\"babi\",\"catch\",\"code\",\"entertain\",\"excus\",\"held\",\"id\",\"impress\",\"item\",\"knew\",\"letter\",\"luv\",\"meal\",\"media\",\"mileag\",\"next\",\"notifi\",\"ny\",\"other\",\"page\",\"prefer\",\"secur\",\"stand\",\"text\",\"track\",\"true\",\"wall\",\"afternoon\",\"attitud\",\"choic\",\"cover\",\"folk\",\"fridai\",\"goe\",\"haha\",\"hasn\",\"itinerari\",\"ladi\",\"man\",\"overhead\",\"overnight\",\"red_heart\",\"short\",\"small\",\"step\",\"tag\",\"child\",\"includ\",\"mail\",\"program\",\"pull\",\"social\",\"son\",\"surpris\",\"virgin\",\"assign\",\"bit\",\"blame\",\"bna\",\"clapping_hand\",\"clear\",\"cut\",\"doe\",\"excel\",\"exist\",\"hire\",\"incompet\",\"li\",\"liter\",\"march\",\"mistak\",\"plz\",\"push\",\"ride\",\"saw\",\"sort\",\"tire\",\"win\",\"window\",\"worth\",\"advisori\",\"attempt\",\"center\",\"conf\",\"earn\",\"everyon\",\"excit\",\"explan\",\"feedback\",\"fl\",\"gone\",\"incred\",\"last\",\"nope\",\"requir\",\"reward\",\"saturdai\",\"sound\",\"stori\",\"volum\",\"web\",\"clean\",\"comput\",\"cours\",\"definit\",\"enter\",\"ey\",\"found\",\"honor\",\"kudo\",\"mention\",\"order\",\"phoenix\",\"premier\",\"receipt\",\"repres\",\"same\",\"ski\",\"about\",\"anymor\",\"break\",\"btw\",\"cs\",\"damag\",\"deplan\",\"domest\",\"dragon\",\"everi\",\"failur\",\"fan\",\"flightd\",\"frequent\",\"full\",\"funer\",\"her\",\"kept\",\"mind\",\"plai\",\"snack\",\"video\",\"view\",\"walk\",\"alwai\",\"bank\",\"blow\",\"bother\",\"by\",\"captain\",\"crying_fac\",\"deserv\",\"dollar\",\"equip\",\"expens\",\"finger\",\"flightat\",\"improv\",\"power\",\"special\",\"stuff\",\"svc\",\"takeoff\",\"unhelp\",\"warm\",\"wed\",\"au\",\"cater\",\"choos\",\"disgust\",\"experienc\",\"find\",\"mai\",\"major\",\"offici\",\"parti\",\"sell\",\"touch\",\"appear\",\"bs\",\"cc\",\"complain\",\"corpor\",\"deni\",\"especi\",\"except\",\"fair\",\"jb\",\"merg\",\"merger\",\"mexico\",\"posit\",\"remind\",\"singl\",\"sister\",\"slow\",\"some\",\"two\",\"usairwai\",\"useless\",\"weren\",\"addit\",\"altern\",\"around\",\"auto\",\"befor\",\"bird\",\"carrier\",\"emerg\",\"fill\",\"ignor\",\"interest\",\"made\",\"match\",\"nightmar\",\"nonstop\",\"onboard\",\"passbook\",\"philadelphia\",\"realiz\",\"redeem\",\"rememb\",\"rerout\",\"street\",\"suitcas\",\"tmrw\",\"visit\",\"welcom\",\"write\",\"advis\",\"battl\",\"begin\",\"broke\",\"callback\",\"cheeki\",\"confus\",\"dal\",\"damn\",\"de\",\"enough\",\"exit\",\"fantast\",\"fit\",\"forgot\",\"funni\",\"god\",\"hit\",\"imagin\",\"imposs\",\"kill\",\"overbook\",\"partner\",\"patient\",\"play\",\"print\",\"replac\",\"result\",\"rule\",\"screen\",\"stress\",\"tho\",\"trust\",\"winking_fac\",\"alert\",\"america\",\"becaus\",\"brother\",\"bu\",\"children\",\"clearli\",\"coach\",\"condit\",\"consist\",\"crash\",\"deliveri\",\"diego\",\"dismai\",\"engin\",\"fa\",\"favorit\",\"freez\",\"fyi\",\"gener\",\"hell\",\"import\",\"inflight\",\"insid\",\"internet\",\"log\",\"mad\",\"most\",\"music\",\"profit\",\"rental\",\"resolut\",\"sea\",\"seattl\",\"shame\",\"skeptic\",\"south\",\"taxi\",\"appeas\",\"avoid\",\"base\",\"basic\",\"beauti\",\"bin\",\"coffe\",\"decid\",\"dept\",\"event\",\"forev\",\"game\",\"glass\",\"gotten\",\"infant\",\"lie\",\"limit\",\"midnight\",\"nc\",\"outsid\",\"pgreat\",\"prompt\",\"rais\",\"recent\",\"shot\",\"sick\",\"solut\",\"specif\",\"stewardess\",\"till\",\"uk\",\"unbeliev\",\"unhappi\",\"weary_fac\",\"wednesdai\",\"yo\",\"act\",\"admir\",\"ahead\",\"an\",\"chairman\",\"clue\",\"commerci\",\"coupl\",\"daili\",\"degre\",\"diff\",\"discount\",\"effort\",\"els\",\"estim\",\"everyth\",\"extend\",\"fall\",\"fast\",\"fuel\",\"intl\",\"level\",\"main\",\"mon\",\"onc\",\"oscar\",\"pbi\",\"photo\",\"plenti\",\"previou\",\"put\",\"rent\",\"seem\",\"ugh\",\"yep\",\"afford\",\"angri\",\"automat\",\"ball\",\"bdai\",\"buffalo\",\"cheer\",\"cmh\",\"comp\",\"congrat\",\"decis\",\"design\",\"doubl\",\"eventu\",\"faster\",\"florida\",\"forget\",\"girl\",\"gotta\",\"hook\",\"hot\",\"jetwai\",\"journal\",\"known\",\"mark\",\"market\",\"moment\",\"mother\",\"normal\",\"park\",\"patienc\",\"pr\",\"premium\",\"prepar\",\"promo\",\"quickli\",\"red\",\"remov\",\"sale\",\"separ\",\"sold\",\"spring\",\"straight\",\"tampa\",\"thumbs_down\",\"traffic\",\"transport\",\"truli\",\"unamused_fac\",\"waiv\",\"affect\",\"ag\",\"anywai\",\"april\",\"brand\",\"cab\",\"carousel\",\"certif\",\"charact\",\"client\",\"com\",\"comfort\",\"courtesi\",\"disast\",\"divert\",\"eat\",\"either\",\"embarrass\",\"exactli\",\"exampl\",\"flier\",\"floor\",\"fund\",\"grin\",\"guarante\",\"honest\",\"hous\",\"insan\",\"interview\",\"iphon\",\"light\",\"met\",\"msg\",\"omg\",\"perfect\",\"pictur\",\"pleasant\",\"practic\",\"prevent\",\"profession\",\"public\",\"rr\",\"school\",\"silver\",\"simpli\",\"solv\",\"sun\",\"sweet\",\"tough\",\"ty\",\"type\",\"usa\",\"valu\",\"woman\",\"wont\",\"worker\",\"yell\",\"absurd\",\"advanc\",\"advantag\",\"almost\",\"arrang\",\"beat\",\"cheap\",\"click\",\"comment\",\"creat\",\"dad\",\"dull\",\"economi\",\"elit\",\"etc\",\"feet\",\"fight\",\"fort\",\"frm\",\"hare\",\"ipad\",\"jblu\",\"juan\",\"jump\",\"kick\",\"kp\",\"lead\",\"lhr\",\"local\",\"logan\",\"london\",\"low\",\"mdw\",\"nearli\",\"palm\",\"paper\",\"pathet\",\"peanut\",\"piec\",\"pit\",\"prior\",\"promot\",\"pt\",\"qualiti\",\"raspberri\",\"refer\",\"rest\",\"rsw\",\"sf\",\"shock\",\"sinc\",\"sju\",\"slc\",\"smh\",\"sos_button\",\"speed\",\"stl\",\"technic\",\"three\",\"thursdai\",\"til\",\"treatment\",\"vx\",\"wanna\",\"wheel\",\"ya\",\"acct\",\"action\",\"attent\",\"bet\",\"biz\",\"both\",\"buf\",\"cheaper\",\"cle\",\"coat\",\"columbu\",\"crappi\",\"dead\",\"death\",\"dia\",\"directli\",\"disappear\",\"discuss\",\"dog\",\"dream\",\"easili\",\"east\",\"frozen\",\"global\",\"howev\",\"immedi\",\"iv\",\"jan\",\"larg\",\"lauderdal\",\"lower\",\"militari\",\"minor\",\"near\",\"ok_hand\",\"opportun\",\"pair\",\"parent\",\"pic\",\"piss\",\"queue\",\"respect\",\"shuttl\",\"simpl\",\"sna\",\"song\",\"sooner\",\"suit\",\"texa\",\"unprofession\",\"victory_hand\",\"wheelchair\",\"ah\",\"airfar\",\"ass\",\"assum\",\"august\",\"awar\",\"bathroom\",\"bdl\",\"beach\",\"benefit\",\"black\",\"blue_heart\",\"carryon\",\"cell\",\"chair\",\"coast\",\"contest\",\"crap\",\"cun\",\"devic\",\"didnt\",\"difficult\",\"drunk\",\"easier\",\"express\",\"featur\",\"februari\",\"felt\",\"ft\",\"gear\",\"guitar\",\"hawaii\",\"higher\",\"holder\",\"honeymoon\",\"idiot\",\"inbound\",\"insult\",\"memphi\",\"million\",\"mine\",\"miser\",\"mke\",\"none\",\"nut\",\"obvious\",\"outlet\",\"pain\",\"pari\",\"part\",\"pax\",\"properli\",\"pvd\",\"raleigh\",\"ran\",\"rapid\",\"recommend\",\"releas\",\"retriev\",\"search\",\"shout\",\"size\",\"standard\",\"star\",\"student\",\"summer\",\"tpa\",\"unavail\",\"understaf\",\"weight\",\"west\",\"wet\",\"yea\",\"york\",\"yyz\",\"accord\",\"accur\",\"activ\",\"advertis\",\"balanc\",\"chat\",\"commit\",\"convers\",\"costum\",\"coupon\",\"cry\",\"disgrac\",\"doubt\",\"drove\",\"english\",\"est\",\"exact\",\"fam\",\"fi\",\"finish\",\"four\",\"freak\",\"function\",\"heart\",\"hundr\",\"hunt\",\"indic\",\"jh\",\"kiosk\",\"laptop\",\"lb\",\"legroom\",\"less\",\"lesson\",\"loyalti\",\"mani\",\"meant\",\"medic\",\"might\",\"model\",\"movi\",\"msp\",\"must\",\"nasti\",\"nj\",\"pensive_fac\",\"perform\",\"poorli\",\"prob\",\"review\",\"rip\",\"road\",\"sever\",\"sky\",\"smile\",\"someth\",\"spot\",\"term\",\"these\",\"throw\",\"tue\",\"ual\",\"va\",\"aadvantag\",\"approach\",\"approv\",\"asham\",\"ba\",\"broken_heart\",\"cancun\",\"certainli\",\"chi\",\"compass\",\"confer\",\"david\",\"defin\",\"dinner\",\"dirti\",\"disrespect\",\"due\",\"elev\",\"exec\",\"faa\",\"father\",\"field\",\"formal\",\"fraud\",\"ga\",\"garbag\",\"gift\",\"golf\",\"handler\",\"heat\",\"honestli\",\"hostag\",\"ill\",\"incid\",\"ind\",\"initi\",\"inspir\",\"int\",\"join\",\"laguardia\",\"lap\",\"memori\",\"method\",\"mileageplu\",\"mint\",\"msy\",\"okc\",\"outbound\",\"outstand\",\"ow\",\"pa\",\"pack\",\"payment\",\"perhap\",\"personnel\",\"present\",\"procedur\",\"regist\",\"repair\",\"repeat\",\"ring\",\"roundtrip\",\"sadli\",\"shitti\",\"somebodi\",\"split\",\"stroller\",\"sunni\",\"surgeri\",\"tea\",\"tech\",\"those\",\"toddler\",\"trueblu\",\"understood\",\"unus\",\"upcom\",\"valid\",\"warn\",\"yai\",\"advic\",\"agre\",\"allianc\",\"anywher\",\"apart\",\"assur\",\"australia\",\"badli\",\"band\",\"beer\",\"biggest\",\"bogota\",\"boyfriend\",\"brought\",\"bummer\",\"button\",\"california\",\"celebr\",\"central\",\"certain\",\"cleveland\",\"complimentari\",\"confused_fac\",\"cont\",\"csr\",\"cuz\",\"doesnt\",\"dozen\",\"effici\",\"em\",\"equal\",\"flightli\",\"francisco\",\"heathrow\",\"histori\",\"ici\",\"increas\",\"industri\",\"ktn\",\"lame\",\"law\",\"least\",\"loos\",\"lousi\",\"lucki\",\"mech\",\"midwai\",\"mr\",\"myself\",\"odd\",\"pittsburgh\",\"plat\",\"polic\",\"privat\",\"puerto\",\"remain\",\"republican\",\"revenu\",\"ric\",\"salt\",\"seek\",\"self\",\"shoe\",\"shortli\",\"sight\",\"sincer\",\"sjc\",\"smiling_fac\",\"smooth\",\"statement\",\"stupid\",\"teach\",\"tkt\",\"toilet\",\"transact\",\"tx\",\"unreal\",\"voic\",\"volunt\",\"washington\",\"waterburi\",\"winner\",\"young\",\"zone\",\"abc\",\"abq\",\"acknowledg\",\"ahold\",\"alright\",\"anniversari\",\"anytim\",\"applic\",\"argu\",\"articl\",\"aug\",\"await\",\"bai\",\"bare\",\"belong\",\"blog\",\"boi\",\"bonu\",\"bottl\",\"breakfast\",\"browser\",\"bug\",\"bunch\",\"ca\",\"camera\",\"canada\",\"cart\",\"cash\",\"challeng\",\"channel\",\"charleston\",\"collect\",\"combin\",\"common\",\"compar\",\"copi\",\"correctli\",\"cup\",\"curiou\",\"cx\",\"cxl\",\"danc\",\"develop\",\"dmed\",\"donat\",\"downgrad\",\"dtw\",\"dy\",\"each\",\"eastern\",\"empti\",\"ensur\",\"epic\",\"eta\",\"exchang\",\"execut\",\"fabul\",\"faith\",\"fals\",\"fb\",\"ff\",\"flat\",\"fra\",\"gr\",\"grand\",\"greet\",\"gross\",\"growing_heart\",\"guest\",\"hadn\",\"hassl\",\"horrend\",\"hou\",\"hpn\",\"huh\",\"integr\",\"irrit\",\"jack\",\"jax\",\"john\",\"jp\",\"juli\",\"karen\",\"lauren\",\"legal\",\"liveri\",\"luckili\",\"magic\",\"malfunct\",\"manner\",\"mari\",\"mci\",\"mid\",\"misplac\",\"monitor\",\"nah\",\"nation\",\"nexu\",\"noon\",\"occur\",\"outsourc\",\"paperwork\",\"party_popp\",\"passport\",\"password\",\"penalti\",\"pend\",\"period\",\"portland\",\"prai\",\"protect\",\"prove\",\"race\",\"reagan\",\"refresh\",\"rough\",\"scan\",\"scaveng\",\"segment\",\"seriou\",\"ship\",\"shut\",\"sigh\",\"skill\",\"spoken\",\"stink\",\"strike\",\"survei\",\"tablet\",\"thousand\",\"threaten\",\"ton\",\"trap\",\"truck\",\"uncomfort\",\"waiver\",\"wind\",\"abil\",\"abt\",\"agenc\",\"anticip\",\"appal\",\"appropri\",\"atroci\",\"backup\",\"badg\",\"baltimor\",\"bar\",\"belt\",\"birmingham\",\"block\",\"buck\",\"bullshit\",\"canadian\",\"chao\",\"chicken\",\"compliment\",\"confid\",\"consider\",\"content\",\"courteou\",\"ctl\",\"dealt\",\"dear\",\"decemb\",\"decent\",\"deep\",\"desper\",\"dest\",\"di\",\"die\",\"digit\",\"disorgan\",\"disregard\",\"document\",\"download\",\"dr\",\"driver\",\"dure\",\"educ\",\"ep\",\"europ\",\"explor\",\"extens\",\"fire\",\"flightst\",\"forecast\",\"forth\",\"gain\",\"girlfriend\",\"grandma\",\"harder\",\"headach\",\"him\",\"hnl\",\"hub\",\"hubbi\",\"hungri\",\"inch\",\"ing\",\"invit\",\"io\",\"januari\",\"june\",\"lifetim\",\"lit\",\"loss\",\"loui\",\"machin\",\"male\",\"membership\",\"metal\",\"mi\",\"numer\",\"octob\",\"organ\",\"pen\",\"perk\",\"pillow\",\"plastic\",\"pocket\",\"pound\",\"preboard\",\"pressur\",\"progress\",\"ps\",\"purpos\",\"raising_hand\",\"ramp\",\"rectifi\",\"redirect\",\"refuel\",\"regul\",\"reinstat\",\"relationship\",\"resch\",\"reset\",\"rico\",\"robot\",\"roc\",\"selfi\",\"shop\",\"shown\",\"snowflak\",\"spread\",\"staf\",\"stat\",\"stolen\",\"success\",\"such\",\"sxm\",\"tabl\",\"terri\",\"test\",\"thnx\",\"thru\",\"top\",\"turbul\",\"typic\",\"uh\",\"unload\",\"van\",\"vs\",\"wallet\",\"weird\",\"which\",\"white\",\"wi\",\"wine\",\"wk\",\"women\",\"wrote\",\"wth\",\"yup\",\"yvr\",\"abysm\",\"admit\",\"adopt\",\"albani\",\"although\",\"asleep\",\"aspen\",\"batteri\",\"bill\",\"blah\",\"blast\",\"bridg\",\"brilliant\",\"buddi\",\"bush\",\"cabo\",\"caller\",\"capt\",\"chase\",\"circl\",\"clarifi\",\"closer\",\"colleagu\",\"colleg\",\"color\",\"comm\",\"compet\",\"competit\",\"concours\",\"conflict\",\"constant\",\"continent\",\"contract\",\"cousin\",\"cowork\",\"cracker\",\"crewmemb\",\"crowd\",\"cvg\",\"data\",\"depend\",\"destroi\",\"detroit\",\"dial\",\"discov\",\"disnei\",\"displai\",\"dissatisfi\",\"dl\",\"dming\",\"driven\",\"dumb\",\"earth\",\"ella\",\"elsewher\",\"en\",\"enrout\",\"esp\",\"etongu\",\"evalu\",\"everytim\",\"ex\",\"exhaust\",\"exp\",\"expedit\",\"facebook\",\"fat\",\"film\",\"fortun\",\"fresh\",\"fulli\",\"getawai\",\"gf\",\"glitch\",\"goodwil\",\"grinning_fac\",\"grr\",\"gtwink\",\"happili\",\"hartford\",\"headphon\",\"heavi\",\"heck\",\"highli\",\"humor\",\"hurt\",\"impact\",\"inappropri\",\"inclement\",\"incom\",\"incur\",\"inexcus\",\"injuri\",\"intent\",\"investig\",\"involv\",\"isnt\",\"jacksonvil\",\"jose\",\"journei\",\"jt\",\"kei\",\"kinda\",\"kn\",\"licens\",\"lock\",\"lodg\",\"ly\",\"maint\",\"map\",\"massiv\",\"mem\",\"menu\",\"mex\",\"nearbi\",\"nervou\",\"nh\",\"north\",\"often\",\"ogg\",\"otherwis\",\"overal\",\"overweight\",\"own\",\"packag\",\"palm_tre\",\"pet\",\"ph\",\"physic\",\"plain\",\"planet\",\"po\",\"precheck\",\"pro\",\"proper\",\"qualifi\",\"quot\",\"rare\",\"reconsid\",\"ref\",\"regular\",\"rel\",\"reliabl\",\"remot\",\"ribbon\",\"rob\",\"savannah\",\"scale\",\"scare\",\"sec\",\"shirt\",\"side\",\"signific\",\"similar\",\"slept\",\"softwar\",\"spanish\",\"spirit\",\"steal\",\"stellar\",\"stole\",\"stood\",\"stranger\",\"stream\",\"superior\",\"tail\",\"teen\",\"tel\",\"telephon\",\"thankfulli\",\"tick\",\"tini\",\"tone\",\"truth\",\"two_heart\",\"unexpect\",\"unlik\",\"unnecessari\",\"user\",\"valuabl\",\"wake\",\"while\",\"wing\",\"without\",\"worthless\",\"written\",\"ac\",\"accid\",\"aisl\",\"alaska\",\"alon\",\"alot\",\"angel\",\"annual\",\"antonio\",\"anxiou\",\"appl\",\"appoint\",\"armrest\",\"assault\",\"atlant\",\"attach\",\"averag\",\"aviat\",\"aviv\",\"aww\",\"bae\",\"bahama\",\"bankrupt\",\"barbado\",\"bf\",\"bhm\",\"birth\",\"bk\",\"blueman\",\"boot\",\"bot\",\"bounc\",\"box\",\"burn\",\"cake\",\"cannot\",\"cant\",\"carseat\",\"centuri\",\"chariti\",\"cheat\",\"checkout\",\"chose\",\"cinci\",\"circumst\",\"closest\",\"cluster\",\"cmon\",\"competitor\",\"connector\",\"constantli\",\"consum\",\"conveni\",\"cooki\",\"corp\",\"cot\",\"crisi\",\"cute\",\"darn\",\"def\",\"delet\",\"delight\",\"desktop\",\"difficulti\",\"dime\",\"disabl\",\"divers\",\"dry\",\"dsm\",\"dump\",\"ed\",\"encount\",\"eu\",\"fastest\",\"fave\",\"fc\",\"fear\",\"fell\",\"fiasco\",\"finest\",\"flexibl\",\"fli\",\"flip\",\"flushed_fac\",\"folder\",\"foot\",\"fq\",\"fran\",\"freq\",\"gari\",\"gj\",\"green\",\"greenvil\",\"guid\",\"haiti\",\"harbor\",\"hardli\",\"hat\",\"haul\",\"hdn\",\"heavili\",\"hero\",\"hilari\",\"hop\",\"horrid\",\"hospit\",\"hv\",\"illeg\",\"inadequ\",\"incent\",\"indi\",\"ineffici\",\"inquir\",\"instruct\",\"ivr\",\"jac\",\"jacket\",\"kc\",\"kelli\",\"king\",\"kit\",\"lake\",\"lavatori\",\"lmao\",\"login\",\"louisvil\",\"lunch\",\"luxuri\",\"ma\",\"manchest\",\"manual\",\"marri\",\"md\",\"measur\",\"mislead\",\"mission\",\"mosaic\",\"mt\",\"na\",\"nantucket\",\"natur\",\"necessari\",\"neglect\",\"neglig\",\"negoti\",\"neutral_fac\",\"nite\",\"northeast\",\"notch\",\"novemb\",\"nrt\",\"omaha\",\"oop\",\"orlean\",\"overs\",\"oz\",\"pacif\",\"paint\",\"particularli\",\"partnership\",\"pat\",\"philippin\",\"pile_of_poo\",\"pj\",\"pleasur\",\"pool\",\"pop\",\"popular\",\"pqd\",\"prais\",\"predict\",\"pref\",\"pretzel\",\"pricei\",\"proactiv\",\"project\",\"proof\",\"properti\",\"proud\",\"pwm\",\"rain\",\"random\",\"rang\",\"rant\",\"rather\",\"reclin\",\"recours\",\"recov\",\"reflect\",\"regret\",\"restor\",\"rethink\",\"rno\",\"roll\",\"rush\",\"section\",\"sept\",\"septemb\",\"settl\",\"shoulder\",\"smirking_fac\",\"snowi\",\"soak\",\"somehow\",\"spam\",\"spare\",\"speedi\",\"station\",\"steamboat\",\"stock\",\"strong\",\"stt\",\"stun\",\"style\",\"suicid\",\"sympathi\",\"tab\",\"temp\",\"their\",\"thur\",\"tight\",\"tk\",\"tourist\",\"trai\",\"tremend\",\"unfriendli\",\"unknown\",\"unreli\",\"urgent\",\"utah\",\"verifi\",\"viequ\",\"visa\",\"wasnt\",\"weak\",\"wear\",\"weigh\",\"were\",\"wide\",\"wreck\",\"abandon\",\"aboard\",\"accident\",\"accordingli\",\"aggrav\",\"agt\",\"ahhhh\",\"airbu\",\"aka\",\"albuquerqu\",\"ali\",\"aliv\",\"allergi\",\"amex\",\"ana\",\"andrew\",\"angry_fac\",\"anthoni\",\"anybodi\",\"aqjn\",\"aruba\",\"asset\",\"asshol\",\"assult\",\"astound\",\"atc\",\"athlet\",\"ay\",\"az\",\"bagag\",\"bed\",\"beg\",\"bereav\",\"beverag\",\"bike\",\"bitch\",\"blanket\",\"bloodi\",\"boat\",\"boe\",\"boo\",\"booz\",\"bound\",\"brain\",\"breath\",\"bro\",\"bruh\",\"brush\",\"brutal\",\"btv\",\"cae\",\"calgari\",\"cana\",\"capabl\",\"capit\",\"carolina\",\"cat\",\"caught\",\"cert\",\"cessna\",\"ch\",\"charter\",\"chees\",\"chill\",\"china\",\"cho\",\"chocol\",\"chrome\",\"clarif\",\"classi\",\"clever\",\"cloud\",\"cocktail\",\"coincid\",\"complic\",\"concert\",\"confounded_fac\",\"consecut\",\"contain\",\"conting\",\"convinc\",\"costa\",\"couldnt\",\"cramp\",\"cranki\",\"cruis\",\"ct\",\"cuba\",\"cue\",\"cushion\",\"cxld\",\"dang\",\"dark\",\"daytona\",\"debacl\",\"deck\",\"deic\",\"del\",\"delhi\",\"dep\",\"deplor\",\"describ\",\"desir\",\"discrimin\",\"dispatch\",\"disrupt\",\"dissapoint\",\"div\",\"dot\",\"doug\",\"dpt\",\"draw\",\"duh\",\"dunno\",\"duti\",\"ear\",\"easiest\",\"ef\",\"el\",\"elderli\",\"emboss\",\"enforc\",\"engag\",\"enquir\",\"er\",\"eri\",\"es\",\"essenti\",\"establish\",\"exclus\",\"expand\",\"fav\",\"favor\",\"fed\",\"feed\",\"festiv\",\"ffl\",\"financi\",\"five\",\"flaw\",\"flex\",\"flightawar\",\"forfeit\",\"forgiv\",\"fr\",\"frankfurt\",\"further\",\"gallei\",\"gent\",\"giant\",\"gladli\",\"goal\",\"goodby\",\"googl\",\"gorgeou\",\"grab\",\"grate\",\"hahaha\",\"hanger\",\"havent\",\"hayden\",\"heart_suit\",\"henc\",\"hide\",\"hmmm\",\"holdup\",\"holi\",\"holidai\",\"honolulu\",\"host\",\"hundred_point\",\"hwnac\",\"ident\",\"idk\",\"inconvenienc\",\"incorrect\",\"incorrectli\",\"inde\",\"indianapoli\",\"input\",\"insist\",\"intend\",\"intention\",\"interact\",\"investor\",\"island\",\"itali\",\"jam\",\"jamaica\",\"jeanin\",\"jeff\",\"kgdh\",\"kphl\",\"ky\",\"lazi\",\"legitim\",\"lfulcbq\",\"lh\",\"lisa\",\"loc\",\"logic\",\"logist\",\"lowest\",\"magazin\",\"maiden\",\"med\",\"midland\",\"miler\",\"miracl\",\"mn\",\"mtg\",\"mth\",\"musician\",\"nasdaq\",\"nassau\",\"neither\",\"network\",\"nicer\",\"nl\",\"nola\",\"nonprofit\",\"nonsens\",\"norfolk\",\"norm\",\"nvr\",\"oak\",\"oakland\",\"observ\",\"oct\",\"oma\",\"oneworld\",\"ontim\",\"opinion\",\"opposit\",\"orf\",\"orig\",\"outrag\",\"overcharg\",\"owner\",\"pant\",\"partial\",\"patch\",\"paypal\",\"person_walk\",\"phil\",\"pile\",\"plate\",\"port\",\"potenti\",\"prime\",\"princess\",\"problemss\",\"proce\",\"profil\",\"protocol\",\"psp\",\"pump\",\"punta\",\"pure\",\"quicker\",\"quit\",\"randomli\",\"rank\",\"reciev\",\"recoveri\",\"reduc\",\"regard\",\"relax\",\"reli\",\"reopen\",\"rescu\",\"restrict\",\"restroom\",\"resum\",\"retain\",\"retrain\",\"rev\",\"rfxlv\",\"rica\",\"richard\",\"rid\",\"risk\",\"robin\",\"rudest\",\"sabr\",\"sacramento\",\"safari\",\"sandwich\",\"sanit\",\"santa\",\"sayin\",\"sc\",\"scam\",\"scene\",\"sched\",\"scott\",\"scream\",\"sdf\",\"seg\",\"sentiment\",\"sep\",\"seven\",\"sexual\",\"shall\",\"shannon\",\"shift\",\"shouldnt\",\"shv\",\"signal\",\"silli\",\"sing\",\"sm\",\"smallest\",\"smell\",\"smoothli\",\"snowboard\",\"sop\",\"spell\",\"srvc\",\"strang\",\"strategi\",\"subpar\",\"suffer\",\"supposedli\",\"swap\",\"sy\",\"sydnei\",\"tax\",\"tear\",\"temperatur\",\"terrif\",\"than\",\"third\",\"thoma\",\"tide\",\"tired_fac\",\"tn\",\"tom\",\"tomato\",\"tongu\",\"tonit\",\"tool\",\"toronto\",\"touchdown\",\"town\",\"trade\",\"transit\",\"trash\",\"tryin\",\"tucson\",\"txt\",\"um\",\"umm\",\"unawar\",\"under\",\"understat\",\"uniform\",\"unpleas\",\"usernam\",\"valentin\",\"version\",\"vile\",\"visibl\",\"whenev\",\"wipe\",\"wit\",\"wknd\",\"wn\",\"woo\",\"xelbon\",\"xx\",\"yest\",\"yuma\",\"zurich\",\"abus\",\"accomplish\",\"achiev\",\"addtl\",\"adjust\",\"affili\",\"aggress\",\"ain\",\"al\",\"altitud\",\"approx\",\"apr\",\"apt\",\"argument\",\"arizona\",\"arm\",\"arrog\",\"atx\",\"auh\",\"author\",\"av\",\"awak\",\"awww\",\"backlog\",\"backpack\",\"basket\",\"bat\",\"behav\",\"behavior\",\"beliz\",\"bestfriend\",\"bewar\",\"beyond\",\"billion\",\"bkk\",\"blank\",\"blatant\",\"blew\",\"blown\",\"blue_circl\",\"bois\",\"border\",\"boss\",\"bougth\",\"bout\",\"brag\",\"brave\",\"breast\",\"bright\",\"bueno\",\"build\",\"bull\",\"bum\",\"bussei\",\"buyer\",\"bv\",\"bye\",\"calendar\",\"cali\",\"cancer\",\"capac\",\"captiv\",\"captur\",\"cargo\",\"carpet\",\"cattl\",\"cb\",\"cdg\",\"cellphon\",\"centr\",\"centric\",\"charm\",\"chart\",\"checkpoint\",\"cherri\",\"chg\",\"christma\",\"citizen\",\"cll\",\"clown\",\"cnx\",\"cnxn\",\"codeshar\",\"coke\",\"columbia\",\"comedi\",\"concept\",\"congratul\",\"consol\",\"construct\",\"convo\",\"coordin\",\"court\",\"coverag\",\"cp\",\"cr\",\"cruel\",\"cultur\",\"danger\",\"dare\",\"dawn\",\"deadhead\",\"deaf\",\"dean\",\"declin\",\"dedic\",\"demand\",\"derrick\",\"determin\",\"devalu\",\"dick\",\"dig\",\"dine\",\"directtv\",\"discontinu\",\"dislik\",\"dismiss\",\"disput\",\"distanc\",\"distribut\",\"divid\",\"doctor\",\"downhil\",\"downtown\",\"dread\",\"dub\",\"dublin\",\"dude\",\"duffl\",\"durango\",\"dw\",\"eagl\",\"eco\",\"econ\",\"edit\",\"empathi\",\"encourag\",\"endless\",\"enjoy\",\"enrol\",\"entitl\",\"entri\",\"envoi\",\"err\",\"ethiopia\",\"etihad\",\"evouch\",\"evri\",\"expedia\",\"eyw\",\"fake\",\"faulti\",\"fe\",\"feder\",\"fella\",\"ferri\",\"few\",\"fewer\",\"fianc\",\"fiance\",\"flatter\",\"flgt\",\"flower\",\"fold\",\"forgotten\",\"fourth\",\"franc\",\"french\",\"fresno\",\"frigid\",\"front\",\"frontier\",\"frontrunn\",\"fu\",\"fucken\",\"furiou\",\"furrow\",\"gb\",\"gee\",\"geek\",\"geg\",\"gestur\",\"gettin\",\"glasgow\",\"globe\",\"gmail\",\"gng\",\"gnv\",\"goin\",\"gotcha\",\"grace\",\"gracia\",\"grade\",\"graduat\",\"grandfath\",\"greatest\",\"grk\",\"gso\",\"guidelin\",\"gun\",\"gx\",\"halfwai\",\"hangar\",\"happier\",\"hardwork\",\"harsh\",\"hashtag\",\"hay\",\"health\",\"heaven\",\"hemispher\",\"hidden\",\"highlight\",\"hint\",\"histor\",\"ho\",\"hole\",\"homeless\",\"hometown\",\"honei\",\"hoop\",\"hotlin\",\"hp\",\"hrl\",\"humili\",\"huntsvil\",\"imo\",\"inabl\",\"inaccur\",\"inbox\",\"incl\",\"individu\",\"inevit\",\"inferior\",\"inflat\",\"instal\",\"instrument\",\"insuffici\",\"intellig\",\"intercom\",\"interior\",\"internation\",\"into\",\"invalid\",\"invest\",\"irrespons\",\"ish\",\"isi\",\"jacqui\",\"jane\",\"janet\",\"jason\",\"jeokoo\",\"jerk\",\"jj\",\"joanna\",\"justifi\",\"jx\",\"kim\",\"kindl\",\"knee\",\"knowledg\",\"koa\",\"lag\",\"lai\",\"larger\",\"ld\",\"le\",\"lf\",\"likelihood\",\"lil\",\"lindsei\",\"livid\",\"lj\",\"lo\",\"logo\",\"lone\",\"loop\",\"lv\",\"lynn\",\"madrid\",\"maimi\",\"maintain\",\"manch\",\"marathon\",\"mass\",\"mastercard\",\"math\",\"mb\",\"mc\",\"mce\",\"meantim\",\"men\",\"merci\",\"metro\",\"mht\",\"mike\",\"minneapoli\",\"mo\",\"modifi\",\"mood\",\"moon\",\"mous\",\"movement\",\"mph\",\"ms\",\"multi\",\"murder\",\"mv\",\"mvp\",\"myer\",\"mysteri\",\"nbr\",\"neg\",\"neighbor\",\"nephew\",\"newli\",\"nicest\",\"nm\",\"nobodi\",\"nonexist\",\"noooo\",\"nothin\",\"nowher\",\"nt\",\"nw\",\"nxt\",\"oc\",\"occas\",\"occupi\",\"offload\",\"ohar\",\"ojrsdwpkk\",\"ont\",\"op\",\"opal\",\"orbitz\",\"ordeal\",\"oti\",\"ourselv\",\"outdat\",\"overflight\",\"overflow\",\"oversea\",\"oversold\",\"overwhelm\",\"painless\",\"par\",\"parker\",\"particular\",\"paso\",\"path\",\"patron\",\"pattern\",\"paulo\",\"peac\",\"peep\",\"per\",\"perman\",\"permiss\",\"perth\",\"phi\",\"pia\",\"pig\",\"pin\",\"ping\",\"pink\",\"plagu\",\"pleasantli\",\"plitt\",\"plough\",\"plow\",\"pn\",\"pnr\",\"pointless\",\"polit\",\"portion\",\"preciat\",\"preciou\",\"precipit\",\"pregnant\",\"prem\",\"presid\",\"pretend\",\"previous\",\"princ\",\"principl\",\"privileg\",\"product\",\"promptli\",\"prop\",\"pst\",\"pu\",\"qanta\",\"rachel\",\"radio\",\"ramper\",\"rcvd\",\"reader\",\"realist\",\"realiti\",\"rearrang\",\"reassign\",\"rec\",\"recheck\",\"recruit\",\"reek\",\"regardless\",\"region\",\"registr\",\"reissu\",\"relai\",\"relief\",\"repeatedli\",\"reput\",\"research\",\"resourc\",\"retir\",\"retweet\",\"reunit\",\"revers\",\"ripoff\",\"rmpkogwu\",\"rn\",\"robert\",\"royal\",\"rubber\",\"rumor\",\"rx\",\"sadden\",\"sao\",\"sauc\",\"saver\",\"sb\",\"scenario\",\"scheme\",\"scollegelondon\",\"sean\",\"season\",\"seatac\",\"secret\",\"sensit\",\"seri\",\"shade\",\"shake\",\"shrug\",\"singapor\",\"sjo\",\"sleet\",\"slide\",\"slightli\",\"slip\",\"smisek\",\"snag\",\"snowstorm\",\"soft\",\"solo\",\"sometim\",\"somewher\",\"sooo\",\"soooo\",\"soul\",\"sparkl\",\"specifi\",\"spoil\",\"sport\",\"sprint\",\"squar\",\"srq\",\"srsly\",\"staffer\",\"stall\",\"stare\",\"storag\",\"stow\",\"strai\",\"strip\",\"strongli\",\"sub\",\"subsequ\",\"sudden\",\"sun_with_fac\",\"sunglass\",\"suppli\",\"surli\",\"surviv\",\"suspect\",\"sweetheart\",\"sympathet\",\"syracus\",\"ta\",\"tailwind\",\"target\",\"tast\",\"taylor\",\"tb\",\"thankyou\",\"thanx\",\"thu\",\"tokyo\",\"toledo\",\"tortur\",\"tour\",\"trace\",\"tree\",\"trick\",\"tripl\",\"troubleshoot\",\"trvl\",\"tu\",\"tul\",\"tune\",\"turnaround\",\"twin\",\"typo\",\"univers\",\"unrel\",\"untz\",\"unusu\",\"unveil\",\"unwil\",\"ut\",\"utterli\",\"uvf\",\"vaca\",\"vallarta\",\"vc\",\"veer\",\"vegan\",\"verbal\",\"via\",\"vice\",\"vital\",\"vm\",\"voicemail\",\"void\",\"vomit\",\"vote\",\"vw\",\"warmth\",\"wave\",\"wbzorrn\",\"wc\",\"wd\",\"westchest\",\"whatev\",\"whoa\",\"wichita\",\"wld\",\"woaw\",\"woke\",\"woven\",\"wrap\",\"xc\",\"xdaili\",\"xl\",\"xna\",\"xweekli\",\"youth\",\"za\",\"zy\",\"zz\",\"aal\",\"abi\",\"abroad\",\"absorb\",\"acc\",\"accompani\",\"accru\",\"accus\",\"acquir\",\"adam\",\"adjac\",\"ador\",\"adult\",\"adv\",\"afraid\",\"agnt\",\"ai\",\"ail\",\"aim\",\"airborn\",\"ala\",\"alcohol\",\"alex\",\"allerg\",\"allevi\",\"along\",\"alt\",\"amateur\",\"amateurish\",\"amazingli\",\"amazon\",\"amen\",\"amm\",\"analyst\",\"anchorag\",\"andri\",\"android\",\"anim\",\"ann\",\"antigua\",\"anxieti\",\"ap\",\"api\",\"apologis\",\"applaud\",\"approxim\",\"ardent\",\"arent\",\"argentina\",\"arkansa\",\"armi\",\"art\",\"ashlei\",\"asia\",\"asid\",\"associ\",\"asw\",\"ath\",\"atleast\",\"attende\",\"austrian\",\"avert\",\"avi\",\"avon\",\"awhil\",\"awkward\",\"backroad\",\"bait\",\"bake\",\"ban\",\"bandwidth\",\"bangkok\",\"bankruptci\",\"barbara\",\"barclai\",\"barrier\",\"bd\",\"beautifulli\",\"began\",\"behalf\",\"behind\",\"bein\",\"belfast\",\"bellagio\",\"bench\",\"benefici\",\"bergstrom\",\"besid\",\"between\",\"bg\",\"bgm\",\"bgr\",\"bicycl\",\"bigger\",\"bio\",\"birthdat\",\"bite\",\"bizarr\",\"bless\",\"bluman\",\"bm\",\"bohol\",\"bold\",\"bom\",\"bonus\",\"boom\",\"boooo\",\"bora\",\"born\",\"bourbon\",\"boycott\",\"bp\",\"bqn\",\"bravo\",\"brazil\",\"breach\",\"breez\",\"brian\",\"broadwai\",\"brussel\",\"bt\",\"btr\",\"bttr\",\"btwn\",\"bucket\",\"budget\",\"bulkhead\",\"bumper\",\"burbank\",\"burger\",\"buse\",\"busiest\",\"butt\",\"cabl\",\"cach\",\"caffein\",\"cal\",\"camp\",\"cane\",\"canx\",\"cap\",\"career\",\"caribbean\",\"carol\",\"carsl\",\"cebu\",\"cf\",\"cha\",\"chain\",\"chaotic\",\"chapter\",\"char\",\"charger\",\"charl\",\"chief\",\"childish\",\"chip\",\"chk\",\"chkd\",\"chng\",\"chnge\",\"chosen\",\"cincinnati\",\"cite\",\"cking\",\"clarenc\",\"cld\",\"cldnt\",\"closet\",\"clueless\",\"clutch\",\"cng\",\"cockpit\",\"cocktail_glass\",\"colo\",\"colombia\",\"command\",\"commut\",\"compat\",\"compliant\",\"compound\",\"concentr\",\"condescend\",\"condom\",\"conect\",\"consult\",\"contd\",\"context\",\"convey\",\"copilot\",\"corner\",\"counti\",\"courier\",\"cpap\",\"craft\",\"crave\",\"cream\",\"creativ\",\"cri\",\"crimin\",\"css\",\"ctr\",\"cu\",\"curb\",\"curbsid\",\"curios\",\"cycl\",\"da\",\"dakota\",\"dale\",\"dbcvepn\",\"deactiv\",\"debat\",\"debit\",\"dec\",\"decenc\",\"declar\",\"deede\",\"defend\",\"deflat\",\"delayetongu\",\"delici\",\"demo\",\"dentongu\",\"deodor\",\"depress\",\"desert\",\"despic\",\"diabet\",\"dialogu\",\"diamond\",\"dice\",\"dim\",\"dinosaur\",\"disinfect\",\"displeas\",\"dissatisfact\",\"distress\",\"dmd\",\"dn\",\"dnt\",\"doc\",\"doll\",\"dominican\",\"donkei\",\"donut\",\"doo\",\"draft\",\"dramat\",\"dre\",\"dress\",\"dupe\",\"earliest\",\"earlybird\",\"earthquak\",\"eb\",\"ee\",\"effect\",\"eh\",\"elabor\",\"electr\",\"electron\",\"elig\",\"eliz\",\"elm\",\"embassi\",\"emerald\",\"emp\",\"empath\",\"emploi\",\"employ\",\"emv\",\"endlessli\",\"energi\",\"enterpris\",\"entranc\",\"entre\",\"enuf\",\"environ\",\"eofthgaj\",\"erj\",\"escap\",\"etern\",\"everybodi\",\"everywher\",\"evid\",\"exce\",\"exercis\",\"expedi\",\"expos\",\"extent\",\"fab\",\"fairli\",\"fallow\",\"fashion\",\"fate\",\"fax\",\"fd\",\"fece\",\"femal\",\"filthi\",\"finder\",\"finnair\",\"firefox\",\"flashlight\",\"flght\",\"flightedflight\",\"flightledflight\",\"fligt\",\"fligth\",\"flite\",\"flow\",\"flyfi\",\"fm\",\"fo\",\"focus\",\"fool\",\"foolish\",\"foreign\",\"forgiven\",\"formula\",\"frank\",\"frankli\",\"frequenc\",\"fri\",\"friendliest\",\"fritz\",\"fro\",\"fron\",\"fs\",\"ftw\",\"fuk\",\"fulfil\",\"fw\",\"fx\",\"fy\",\"gaga\",\"gainesvil\",\"gal\",\"gangwai\",\"gatwick\",\"gd\",\"geez\",\"gem\",\"geniu\",\"gentleman\",\"genuin\",\"georg\",\"gfc\",\"glove\",\"glowing_star\",\"gluten\",\"goblin\",\"gogh\",\"gogo\",\"gosh\",\"gpu\",\"graciou\",\"grai\",\"grandmoth\",\"grant\",\"graphic\",\"greater\",\"greedi\",\"grimacing_fac\",\"grow\",\"grown\",\"grp\",\"gsp\",\"guidanc\",\"gunna\",\"gxdqortss\",\"gy\",\"hack\",\"hah\",\"hail\",\"hair\",\"handi\",\"handicap\",\"hangup\",\"hannah\",\"havoc\",\"hawaiian\",\"hb\",\"hd\",\"heel\",\"hep\",\"herman\",\"herndon\",\"hf\",\"hh\",\"hmm\",\"hn\",\"hoo\",\"hoot\",\"hormon\",\"horrif\",\"horror\",\"hors\",\"hot_beverag\",\"hotspot\",\"hotter\",\"hs\",\"hsv\",\"ht\",\"hug\",\"humour\",\"hurri\",\"huston\",\"hve\",\"hy\",\"hypocrisi\",\"iberia\",\"iceland\",\"ideal\",\"iflyswa\",\"ih\",\"il\",\"ilc\",\"imma\",\"impati\",\"impend\",\"imperson\",\"inc\",\"incident\",\"inconsider\",\"inconsist\",\"inconvi\",\"india\",\"inept\",\"infuri\",\"injur\",\"innov\",\"inop\",\"inquiri\",\"insight\",\"inspect\",\"instagram\",\"insur\",\"intact\",\"internship\",\"intro\",\"invoic\",\"iowa\",\"ireland\",\"irrop\",\"isp\",\"itin\",\"itself\",\"jackass\",\"jackson\",\"jealou\",\"ji\",\"jim\",\"jimmi\",\"jk\",\"jkf\",\"jm\",\"joe\",\"js\",\"jun\",\"junk\",\"kai\",\"kat\",\"kate\",\"kb\",\"kci\",\"kelsei\",\"kevin\",\"kewl\",\"kf\",\"ki\",\"kiss\",\"kitti\",\"kj\",\"km\",\"knoxvil\",\"korea\",\"kristi\",\"kul\",\"kv\",\"labor\",\"lan\",\"lane\",\"languag\",\"largest\",\"larri\",\"lawsuit\",\"leadership\",\"leagu\",\"leak\",\"led\",\"legaci\",\"legit\",\"lemm\",\"length\",\"lexington\",\"liabl\",\"liar\",\"lift\",\"lima\",\"loan\",\"loaner\",\"lookin\",\"looong\",\"loooooong\",\"lord\",\"loser\",\"loud\",\"lucia\",\"lufthansa\",\"lug\",\"lung\",\"lusaka\",\"lx\",\"mac\",\"madden\",\"makeup\",\"mammoth\",\"maneuv\",\"marshal\",\"master\",\"mate\",\"maui\",\"mde\",\"meaning\",\"meanwhil\",\"medal\",\"meelan\",\"meh\",\"mel\",\"memo\",\"mere\",\"mgr\",\"michel\",\"mideast\",\"midght\",\"milan\",\"minimum\",\"miriam\",\"misfortun\",\"misinform\",\"mistreat\",\"misunderstood\",\"mitchel\",\"mite\",\"mix\",\"ml\",\"mnl\",\"modif\",\"moin\",\"momma\",\"montego\",\"monthli\",\"moodlight\",\"morrow\",\"motel\",\"motion\",\"motto\",\"mountain\",\"mouth\",\"mp\",\"mtongu\",\"myrtl\",\"nail\",\"nap\",\"narita\",\"narrow\",\"navig\",\"naxbu\",\"necess\",\"nerd\",\"newburgh\",\"nigga\",\"nitrogen\",\"nonrefund\",\"nor\",\"norma\",\"nov\",\"num\",\"nvm\",\"obnoxi\",\"obviou\",\"offend\",\"offens\",\"oil\",\"oncoming_fist\",\"oppos\",\"opt\",\"oq\",\"oqukso\",\"orang\",\"oregon\",\"org\",\"orl\",\"os\",\"ot\",\"ottawa\",\"oui\",\"outag\",\"outfit\",\"overh\",\"overhaul\",\"overheard\",\"overload\",\"overpr\",\"oversel\",\"oy\",\"panamerican\",\"pandora\",\"panic\",\"partli\",\"passiv\",\"patrick\",\"pd\",\"pedro\",\"perfectli\",\"perspect\",\"pf\",\"pg\",\"pgh\",\"phenomen\",\"phn\",\"pho\",\"phrase\",\"pita\",\"piti\",\"pitt\",\"platitud\",\"player\",\"plead\",\"pleaseee\",\"plot\",\"plug\",\"popul\",\"portfolio\",\"possess\",\"postcod\",\"postpon\",\"poughkeepsi\",\"pqm\",\"prebook\",\"preflight\",\"press\",\"prev\",\"priceless\",\"printer\",\"priorit\",\"prize\",\"produc\",\"professor\",\"prohibit\",\"prom\",\"provo\",\"publicli\",\"puls\",\"puppi\",\"purple_heart\",\"pv\",\"pvg\",\"pw\",\"qc\",\"qd\",\"qh\",\"quarter\",\"que\",\"queri\",\"quiet\",\"quirki\",\"qw\",\"rage\",\"ramada\",\"raspberryhx\",\"rave\",\"react\",\"reaction\",\"reactiv\",\"rear\",\"reboard\",\"reboot\",\"recap\",\"recogn\",\"reddit\",\"redempt\",\"referr\",\"refrain\",\"refsd\",\"regularli\",\"reject\",\"relev\",\"remedi\",\"remors\",\"reno\",\"repost\",\"req\",\"resend\",\"resort\",\"reunion\",\"reveal\",\"rez\",\"rhonda\",\"ricoh\",\"rifl\",\"rise\",\"rito\",\"rivet\",\"roast\",\"roberto\",\"rocki\",\"roger\",\"roller\",\"rooki\",\"rotten\",\"routin\",\"rtb\",\"ru\",\"rub\",\"rubbish\",\"rum\",\"russia\",\"ruth\",\"saga\",\"salli\",\"samartzi\",\"sampl\",\"sand\",\"saniti\",\"sapphir\",\"sarcasm\",\"sarcast\",\"sass\",\"satisfact\",\"satisfactori\",\"sav\",\"sba\",\"scatter\",\"sch\",\"scienc\",\"scotch\",\"scratch\",\"screenshot\",\"seam\",\"seatbelt\",\"sedholm\",\"senior\",\"sentinel\",\"setup\",\"sh\",\"shampoo\",\"shanghai\",\"shawn\",\"shenanigan\",\"shld\",\"shoddi\",\"shortag\",\"shortcom\",\"shoutout\",\"shuffl\",\"si\",\"sibl\",\"significantli\",\"silenc\",\"silicon\",\"sir\",\"sittin\",\"six\",\"sizer\",\"sj\",\"sjd\",\"skateboard\",\"sked\",\"skin\",\"skip\",\"skycap\",\"sl\",\"sld\",\"sleekmonei\",\"slight\",\"slot\",\"slower\",\"slowest\",\"slowli\",\"smaller\",\"smart\",\"smash\",\"smirkal\",\"smirken\",\"smoke\",\"smoothest\",\"sn\",\"snap\",\"snapchat\",\"sob\",\"solid\",\"somewhat\",\"sooooo\",\"sorta\",\"sour\",\"southern\",\"sp\",\"spectacular\",\"spf\",\"spill\",\"spite\",\"spotti\",\"sprinkl\",\"squawk\",\"stair\",\"standby\",\"startl\",\"starv\",\"steam\",\"steel\",\"steer\",\"steve\",\"sti\",\"sticker\",\"stndby\",\"stoke\",\"stone\",\"store\",\"straight_fac\",\"straighten\",\"stretch\",\"strive\",\"structur\",\"struggl\",\"subscrib\",\"substitut\",\"sue\",\"sunset\",\"sunshin\",\"surround\",\"susan\",\"swamp\",\"swear\",\"sweepstak\",\"swell\",\"swiss\",\"swu\",\"sync\",\"syr\",\"tactic\",\"taiwan\",\"tamara\",\"tammi\",\"tank\",\"tape\",\"tarmack\",\"technolog\",\"teco\",\"televis\",\"ten\",\"tf\",\"thaw\",\"themselv\",\"thirti\",\"thk\",\"thread\",\"thrill\",\"thrown\",\"thy\",\"tim\",\"timco\",\"timeli\",\"tip\",\"tisk\",\"tld\",\"tlh\",\"tmw\",\"tnx\",\"tock\",\"toiletri\",\"toss\",\"tr\",\"transatlant\",\"transf\",\"transpar\",\"traveloc\",\"trend\",\"trial\",\"troubadour\",\"tryna\",\"tulsa\",\"turkish\",\"tweeter\",\"txfd\",\"tyr\",\"ui\",\"uj\",\"un\",\"unaccompani\",\"unanticip\",\"uncal\",\"uncar\",\"uncl\",\"uncontrol\",\"uncool\",\"unimpress\",\"unmonitor\",\"unnecessarili\",\"unorgan\",\"unsaf\",\"unschedul\",\"unspecifi\",\"unsur\",\"unsympathet\",\"upgd\",\"uphold\",\"upload\",\"upstat\",\"uq\",\"urgenc\",\"usd\",\"uu\",\"ux\",\"uxzj\",\"vacai\",\"vallei\",\"variou\",\"vdi\",\"vent\",\"versu\",\"vet\",\"vetr\",\"vhgkitzsaw\",\"vibe\",\"vicki\",\"villag\",\"vineyard\",\"vinyl\",\"violat\",\"virginamerica\",\"virtual\",\"vo\",\"vp\",\"vu\",\"vuelo\",\"vz\",\"waitin\",\"waitlist\",\"wander\",\"ward\",\"warehous\",\"warmer\",\"wat\",\"waving_hand\",\"wayn\",\"weari\",\"western\",\"westjet\",\"whisper\",\"whoever\",\"wht\",\"wine_glass\",\"winston\",\"wire\",\"wkrb\",\"woohoo\",\"workaround\",\"worthi\",\"woulda\",\"wound\",\"wrongfulli\",\"ws\",\"wsj\",\"wudda\",\"wut\",\"wx\",\"xd\",\"yard\",\"yearli\",\"younger\",\"yourself\",\"youv\",\"yummi\",\"yvonn\",\"yw\",\"ywg\",\"yx\",\"yyj\",\"ze\",\"zf\",\"zi\",\"zoom\",\"zq\",\"zr\",\"zv\",\"aaaand\",\"aadavantag\",\"aadv\",\"aai\",\"aakjumxa\",\"aaron\",\"aau\",\"aavvoreph\",\"ab\",\"aback\",\"abassinet\",\"abbrev\",\"abduct\",\"aboout\",\"abound\",\"abprg\",\"absoulut\",\"absurdli\",\"abtwf\",\"abund\",\"abxrq\",\"acarl\",\"acceler\",\"accomid\",\"accumul\",\"acebo\",\"acfqcdq\",\"aci\",\"ack\",\"acosta\",\"acoust\",\"acpt\",\"acquisit\",\"across\",\"actuali\",\"ada\",\"adapt\",\"addition\",\"additon\",\"addr\",\"admin\",\"adress\",\"advan\",\"adventur\",\"advi\",\"advsri\",\"aeroport\",\"aesthet\",\"aex\",\"af\",\"affair\",\"afili\",\"aflam\",\"aforement\",\"african\",\"aft\",\"afteral\",\"afterward\",\"aftr\",\"agfd\",\"agian\",\"agpb\",\"agr\",\"agreement\",\"agum\",\"aha\",\"ahah\",\"ahem\",\"ahhhhh\",\"ahlxhhkiyn\",\"ahoi\",\"aiecraft\",\"aircrft\",\"airlinegav\",\"airportcardio\",\"airpt\",\"airserv\",\"airsid\",\"airspac\",\"airstair\",\"airtran\",\"aitzl\",\"aiyc\",\"aj\",\"ajm\",\"ajz\",\"ak\",\"akron\",\"aktg\",\"alabama\",\"alamo\",\"alan\",\"alarm\",\"alavera\",\"alb\",\"albeit\",\"album\",\"albuqu\",\"align\",\"alison\",\"alist\",\"alittl\",\"alittlebett\",\"allan\",\"allend\",\"allll\",\"allowabl\",\"allreadi\",\"allright\",\"amarillo\",\"ambassador\",\"ambival\",\"amend\",\"ami\",\"amid\",\"amiga\",\"amirit\",\"amiw\",\"amnt\",\"among\",\"amount\",\"amsterdam\",\"amt\",\"amtrak\",\"analyt\",\"anarchi\",\"anderson\",\"aneqxzr\",\"angelo\",\"anger\",\"angl\",\"angriest\",\"angrybird\",\"angst\",\"anna\",\"annamari\",\"anni\",\"annnndddd\",\"annnnddddd\",\"annnnnd\",\"ant\",\"anti\",\"anyhelp\",\"anythin\",\"aoeaeszdlx\",\"aopdtsq\",\"aormfkac\",\"aou\",\"apathet\",\"apathi\",\"apear\",\"apiau\",\"apnea\",\"apostroph\",\"appeal\",\"applaus\",\"appleton\",\"appropro\",\"appt\",\"apron\",\"aprzspxig\",\"aptzpurop\",\"apx\",\"aqa\",\"aquadilla\",\"aqzwecokk\",\"arab\",\"arbitrari\",\"arbitrarili\",\"arc\",\"archaic\",\"arena\",\"argg\",\"argh\",\"aricyq\",\"aros\",\"arpt\",\"artisan\",\"aruna\",\"arvl\",\"asgmnt\",\"ash\",\"asha\",\"assignetongu\",\"assuag\",\"astonished_fac\",\"astoria\",\"asu\",\"asuwx\",\"asyq\",\"atct\",\"atd\",\"ateafnc\",\"atfrkp\",\"athau\",\"att\",\"attain\",\"attdt\",\"attir\",\"attitudi\",\"attndt\",\"atu\",\"atwyifh\",\"auckland\",\"aucsykfuhd\",\"auction\",\"audienc\",\"audio\",\"audit\",\"auditorium\",\"auf\",\"aufm\",\"augjscmolu\",\"aunt\",\"aunti\",\"aurn\",\"aussi\",\"austic\",\"authorit\",\"automobil\",\"autorespons\",\"auzu\",\"availab\",\"aval\",\"avatar\",\"avbdstjuj\",\"avenu\",\"avg\",\"avio\",\"avp\",\"avrtowtyzk\",\"avyqdmpi\",\"awdbw\",\"awesomee\",\"awfulli\",\"awgjkjiiac\",\"awheelchair\",\"awol\",\"awqtln\",\"awrd\",\"ax\",\"axeo\",\"axlqzwvh\",\"axpn\",\"axryeiwzh\",\"aygaoeb\",\"aypyadui\",\"ayyi\",\"azltjhf\",\"aztdaer\",\"bach\",\"backward\",\"backyard\",\"badbadbad\",\"baejet\",\"bafor\",\"baggagefail\",\"bagtag\",\"bail\",\"bailei\",\"baim\",\"baldwin\",\"ballbag\",\"ballin\",\"balloon\",\"balt\",\"banana\",\"bape\",\"barcod\",\"bark\",\"barklai\",\"barnum\",\"barrel\",\"barzegar\",\"bash\",\"basketbal\",\"bass\",\"batman\",\"bayepzkmiz\",\"bbaonx\",\"bbhtlzgh\",\"bbj\",\"bbm\",\"bbzijwfdl\",\"bcn\",\"bcuz\",\"bcwckwtnle\",\"bcz\",\"bdng\",\"bdrxfn\",\"bdtldx\",\"bduauzfhw\",\"bean\",\"beani\",\"bear\",\"bearabl\",\"beareav\",\"beatriz\",\"beautiful\",\"bec\",\"becki\",\"becuas\",\"becuz\",\"begrudgingli\",\"begun\",\"beij\",\"belabor\",\"belief\",\"belliger\",\"belov\",\"below\",\"ben\",\"benadryl\",\"bene\",\"beought\",\"beqotlnugc\",\"berlin\",\"besti\",\"beta\",\"betch\",\"betsi\",\"betterfrown\",\"betti\",\"bettween\",\"bevi\",\"bff\",\"bfpfw\",\"bgbtq\",\"bgtjfmneot\",\"bh\",\"bham\",\"bhjvaa\",\"bhooiyt\",\"bi\",\"bibl\",\"bicep\",\"bid\",\"biggi\",\"bijlxat\",\"bil\",\"bila\",\"billmel\",\"bingo\",\"birder\",\"biscuit\",\"bitchi\",\"bitcoin\",\"bitti\",\"bjnz\",\"bjwgoap\",\"bked\",\"bkmfei\",\"bl\",\"blackish\",\"blacklist\",\"blackmail\",\"blade\",\"blanc\",\"blatantli\",\"blatimor\",\"blazer\",\"bleed\",\"blegh\",\"bleh\",\"blind\",\"blindsid\",\"blizzard\",\"blizzu\",\"bloat\",\"blood\",\"blueti\",\"blwgwa\",\"blx\",\"bmc\",\"bmi\",\"bmij\",\"bmk\",\"bnflhpxtmw\",\"bng\",\"bngpli\",\"boardingpass\",\"boavxi\",\"bobbi\",\"bodi\",\"boggl\",\"boh\",\"boil\",\"bone\",\"bonni\",\"boofin\",\"bookabl\",\"booklet\",\"bool\",\"booo\",\"boost\",\"booster\",\"bootbag\",\"bop\",\"borderlin\",\"bore\",\"borrow\",\"bosnia\",\"boson\",\"botch\",\"bottom\",\"bouncer\",\"boundless\",\"bowl\",\"bozo\",\"bpb\",\"bpdfpp\",\"bq\",\"bqiw\",\"br\",\"bracket\",\"bradlei\",\"brancato\",\"brandi\",\"brcsjbxg\",\"brd\",\"bread\",\"breakdown\",\"breaker\",\"breastfeed\",\"breavement\",\"breezi\",\"brendan\",\"brent\",\"bride\",\"bridesmaid\",\"brief\",\"brighter\",\"bringin\",\"brink\",\"brisk\",\"brittani\",\"briughi\",\"broad\",\"brochur\",\"brood\",\"brooklyn\",\"brotha\",\"brothaaaaaa\",\"brt\",\"bru\",\"bruin\",\"bryant\",\"bsi\",\"bso\",\"bsuxlu\",\"btb\",\"bttgmyn\",\"bttzf\",\"btvpxtzju\",\"btvtb\",\"bubbl\",\"budapest\",\"buggi\",\"built\",\"buis\",\"buj\",\"bulb\",\"bulli\",\"bundl\",\"bur\",\"burden\",\"bureau\",\"burg\",\"burgundi\",\"burlington\",\"burrito\",\"burrough\",\"burst\",\"businessfirst\",\"bussin\",\"bust\",\"butnot\",\"buwjtvuwkm\",\"buyback\",\"buzj\",\"buzz\",\"buzzkil\",\"bvexmcj\",\"bvfaxdubaq\",\"bvl\",\"bvzty\",\"bwahahaha\",\"bxlk\",\"bxwg\",\"byackc\",\"byn\",\"bypass\",\"bz\",\"bze\",\"bzqzqxlaugh\",\"bzwgp\",\"cabaret\",\"cabcel\",\"cac\",\"caf\",\"cafe\",\"cai\",\"cak\",\"calam\",\"calderon\",\"calibr\",\"calm\",\"calv\",\"campaign\",\"campu\",\"canadaair\",\"cancld\",\"candac\",\"candi\",\"candic\",\"canist\",\"canld\",\"captiveaudi\",\"cardhold\",\"caren\",\"carlton\",\"carmen\",\"carolin\",\"carta\",\"cartagena\",\"cartago\",\"cascino\",\"casimir\",\"casual\",\"categori\",\"cathai\",\"cathi\",\"caution\",\"caval\",\"cavan\",\"cave\",\"cbr\",\"cbv\",\"ccndjp\",\"cco\",\"cdj\",\"cdn\",\"cdt\",\"cdzhtyd\",\"ce\",\"ceas\",\"ceeenj\",\"cefa\",\"cehroeurc\",\"celeb\",\"cement\",\"cent\",\"centerl\",\"cesspool\",\"cevi\",\"cfhtk\",\"cfi\",\"cfpohl\",\"cfrlqbe\",\"cfv\",\"cfyhkvb\",\"cfzdjmn\",\"cgfv\",\"cgreat\",\"cgroup\",\"cgwe\",\"chalk\",\"champagn\",\"championship\",\"changer\",\"chantilli\",\"chaperon\",\"chapman\",\"charac\",\"character\",\"chariot\",\"charlot\",\"chath\",\"chd\",\"cheapest\",\"checker\",\"chedul\",\"cheek\",\"cheesi\",\"cheez\",\"chef\",\"chemistri\",\"chequ\",\"chewei\",\"chgd\",\"chge\",\"chging\",\"chgy\",\"chilli\",\"chines\",\"chipper\",\"chkin\",\"chking\",\"chkout\",\"chl\",\"chock\",\"choppi\",\"choppiest\",\"choxkpjp\",\"christin\",\"chronolog\",\"chuckhol\",\"church\",\"churn\",\"ci\",\"cid\",\"cigarett\",\"cih\",\"cinnabon\",\"circuit\",\"circul\",\"civil\",\"cjg\",\"cjsvssqf\",\"cju\",\"ckg\",\"ckin\",\"cl\",\"clarion\",\"clarita\",\"classic\",\"classiq\",\"claudia\",\"cleanli\",\"clearanc\",\"clgiu\",\"clifton\",\"clincher\",\"cling\",\"clo\",\"clob\",\"clockwork\",\"clog\",\"closur\",\"clu\",\"club_\",\"clunki\",\"clusterfuck\",\"clvlhfguzw\",\"cm\",\"cmjriwop\",\"cmo\",\"cncdld\",\"cnceld\",\"cncld\",\"cncled\",\"cnctl\",\"coathang\",\"cockroach\",\"coffeemak\",\"coffin\",\"coin\",\"colder\",\"coldli\",\"cole\",\"collid\",\"colombian\",\"colonist\",\"coloss\",\"colour\",\"columbian\",\"coma\",\"comb\",\"combat\",\"combo\",\"comcast\",\"comed\",\"comedian\",\"comen\",\"comic\",\"comin\",\"commenc\",\"commend\",\"commiss\",\"communist\",\"compact\",\"comparison\",\"compart\",\"compassion\",\"complex\",\"complt\",\"compton\",\"con\",\"concierg\",\"concret\",\"cond\",\"condescens\",\"condo\",\"condol\",\"config\",\"confront\",\"congest\",\"conjunct\",\"conn\",\"connectfor\",\"connectin\",\"connectn\",\"connet\",\"connex\",\"connolli\",\"consequ\",\"constitut\",\"consumpt\",\"contac\",\"contactless\",\"contagi\",\"contempt\",\"contend\",\"contractor\",\"contradictori\",\"contribut\",\"conv\",\"convei\",\"conveyor\",\"cooker\",\"cooler\",\"cop\",\"copa\",\"copai\",\"copx\",\"core\",\"cori\",\"corni\",\"correl\",\"correspond\",\"corrupt\",\"coshar\",\"cosmet\",\"cough\",\"counterpart\",\"countless\",\"courrier\",\"courtnei\",\"courtsei\",\"covert\",\"cowardli\",\"cowboi\",\"cowgirl\",\"cozi\",\"cpu\",\"cpypgfnd\",\"cpzb\",\"cqmm\",\"crabbi\",\"cram\",\"crape\",\"crappiest\",\"crate\",\"crawl\",\"credenti\",\"credibl\",\"crfrwpc\",\"crib\",\"cricket\",\"cristian\",\"criteria\",\"critic\",\"crj\",\"crook\",\"cross_mark\",\"crosswind\",\"crossword\",\"crucial\",\"crumb\",\"crutch\",\"cruz\",\"crw\"],\"x1\":{\"__ndarray__\":\"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\",\"dtype\":\"float32\",\"order\":\"little\",\"shape\":[5002]},\"x2\":{\"__ndarray__\":\"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\",\"dtype\":\"float32\",\"order\":\"little\",\"shape\":[5002]}},\"selected\":{\"id\":\"1252\"},\"selection_policy\":{\"id\":\"1253\"}},\"id\":\"1219\",\"type\":\"ColumnDataSource\"},{\"attributes\":{\"text\":\"vector T-SNE for most polarized words\"},\"id\":\"1192\",\"type\":\"Title\"},{\"attributes\":{},\"id\":\"1194\",\"type\":\"DataRange1d\"},{\"attributes\":{},\"id\":\"1196\",\"type\":\"DataRange1d\"},{\"attributes\":{\"data_source\":{\"id\":\"1219\"},\"glyph\":{\"id\":\"1221\"},\"hover_glyph\":null,\"muted_glyph\":null,\"nonselection_glyph\":{\"id\":\"1222\"},\"view\":{\"id\":\"1224\"}},\"id\":\"1223\",\"type\":\"GlyphRenderer\"},{\"attributes\":{\"formatter\":{\"id\":\"1250\"},\"major_label_policy\":{\"id\":\"1249\"},\"ticker\":{\"id\":\"1203\"}},\"id\":\"1202\",\"type\":\"LinearAxis\"},{\"attributes\":{\"axis\":{\"id\":\"1202\"},\"ticker\":null},\"id\":\"1205\",\"type\":\"Grid\"},{\"attributes\":{\"active_multi\":null,\"tools\":[{\"id\":\"1210\"},{\"id\":\"1211\"},{\"id\":\"1212\"},{\"id\":\"1213\"}]},\"id\":\"1214\",\"type\":\"Toolbar\"},{\"attributes\":{},\"id\":\"1213\",\"type\":\"SaveTool\"},{\"attributes\":{},\"id\":\"1247\",\"type\":\"BasicTickFormatter\"},{\"attributes\":{},\"id\":\"1250\",\"type\":\"BasicTickFormatter\"},{\"attributes\":{},\"id\":\"1207\",\"type\":\"BasicTicker\"},{\"attributes\":{\"fill_alpha\":{\"value\":0.1},\"fill_color\":{\"field\":\"color\"},\"line_alpha\":{\"value\":0.1},\"line_color\":{\"value\":\"#1f77b4\"},\"size\":{\"value\":8},\"x\":{\"field\":\"x1\"},\"y\":{\"field\":\"x2\"}},\"id\":\"1222\",\"type\":\"Scatter\"},{\"attributes\":{},\"id\":\"1252\",\"type\":\"Selection\"},{\"attributes\":{},\"id\":\"1246\",\"type\":\"AllLabels\"},{\"attributes\":{},\"id\":\"1198\",\"type\":\"LinearScale\"},{\"attributes\":{},\"id\":\"1211\",\"type\":\"WheelZoomTool\"},{\"attributes\":{},\"id\":\"1253\",\"type\":\"UnionRenderers\"},{\"attributes\":{},\"id\":\"1200\",\"type\":\"LinearScale\"},{\"attributes\":{},\"id\":\"1212\",\"type\":\"ResetTool\"},{\"attributes\":{\"fill_color\":{\"field\":\"color\"},\"line_color\":{\"value\":\"#1f77b4\"},\"size\":{\"value\":8},\"x\":{\"field\":\"x1\"},\"y\":{\"field\":\"x2\"}},\"id\":\"1221\",\"type\":\"Scatter\"},{\"attributes\":{\"formatter\":{\"id\":\"1247\"},\"major_label_policy\":{\"id\":\"1246\"},\"ticker\":{\"id\":\"1207\"}},\"id\":\"1206\",\"type\":\"LinearAxis\"},{\"attributes\":{},\"id\":\"1249\",\"type\":\"AllLabels\"},{\"attributes\":{},\"id\":\"1203\",\"type\":\"BasicTicker\"},{\"attributes\":{},\"id\":\"1210\",\"type\":\"PanTool\"}],\"root_ids\":[\"1191\"]},\"title\":\"Bokeh Application\",\"version\":\"2.3.0\"}};\n",
              "  var render_items = [{\"docid\":\"a36997f5-7e57-4833-b7ce-8a1c05ae1b0b\",\"root_ids\":[\"1191\"],\"roots\":{\"1191\":\"d90b1cc5-e121-45fa-9330-2737869b3748\"}}];\n",
              "  root.Bokeh.embed.embed_items_notebook(docs_json, render_items);\n",
              "\n",
              "  }\n",
              "  if (root.Bokeh !== undefined) {\n",
              "    embed_document(root);\n",
              "  } else {\n",
              "    var attempts = 0;\n",
              "    var timer = setInterval(function(root) {\n",
              "      if (root.Bokeh !== undefined) {\n",
              "        clearInterval(timer);\n",
              "        embed_document(root);\n",
              "      } else {\n",
              "        attempts++;\n",
              "        if (attempts > 100) {\n",
              "          clearInterval(timer);\n",
              "          console.log(\"Bokeh: ERROR: Unable to run BokehJS code because BokehJS library is missing\");\n",
              "        }\n",
              "      }\n",
              "    }, 10, root)\n",
              "  }\n",
              "})(window);"
            ],
            "application/vnd.bokehjs_exec.v0+json": ""
          },
          "metadata": {
            "tags": [],
            "application/vnd.bokehjs_exec.v0+json": {
              "id": "1191"
            }
          }
        }
      ]
    },
    {
      "cell_type": "code",
      "metadata": {
        "ExecuteTime": {
          "end_time": "2021-04-05T15:55:20.282440Z",
          "start_time": "2021-04-05T15:55:20.162442Z"
        },
        "id": "wWbpD19Dz9ku",
        "outputId": "be29e12e-1dde-49af-a893-5c5e3820b9ae",
        "colab": {
          "base_uri": "https://localhost:8080/",
          "height": 617
        }
      },
      "source": [
        "p = figure(tools=\"pan,wheel_zoom,reset,save\",\n",
        "           toolbar_location=\"above\",\n",
        "           title=\"vector T-SNE for most polarized words\")\n",
        "\n",
        "source = ColumnDataSource(data=dict(x1=words_top_ted_tsne[:,0],\n",
        "                                    x2=words_top_ted_tsne[:,1],\n",
        "                                    names=Text.vocab.itos,\n",
        "                                    color=colorlist))\n",
        "\n",
        "p.scatter(x=\"x1\", y=\"x2\", size=8, source=source, fill_color=\"color\")\n",
        "\n",
        "word_labels = LabelSet(x=\"x1\", y=\"x2\", text=\"names\", y_offset=6,\n",
        "                       text_font_size=\"8pt\", text_color=\"#555555\",\n",
        "                       source=source, text_align='center',render_mode='canvas')\n",
        "p.add_layout(word_labels)\n",
        "\n",
        "show(p)"
      ],
      "execution_count": 42,
      "outputs": [
        {
          "output_type": "display_data",
          "data": {
            "application/javascript": [
              "\n",
              "(function(root) {\n",
              "  function now() {\n",
              "    return new Date();\n",
              "  }\n",
              "\n",
              "  var force = true;\n",
              "\n",
              "  if (typeof root._bokeh_onload_callbacks === \"undefined\" || force === true) {\n",
              "    root._bokeh_onload_callbacks = [];\n",
              "    root._bokeh_is_loading = undefined;\n",
              "  }\n",
              "\n",
              "  var JS_MIME_TYPE = 'application/javascript';\n",
              "  var HTML_MIME_TYPE = 'text/html';\n",
              "  var EXEC_MIME_TYPE = 'application/vnd.bokehjs_exec.v0+json';\n",
              "  var CLASS_NAME = 'output_bokeh rendered_html';\n",
              "\n",
              "  /**\n",
              "   * Render data to the DOM node\n",
              "   */\n",
              "  function render(props, node) {\n",
              "    var script = document.createElement(\"script\");\n",
              "    node.appendChild(script);\n",
              "  }\n",
              "\n",
              "  /**\n",
              "   * Handle when an output is cleared or removed\n",
              "   */\n",
              "  function handleClearOutput(event, handle) {\n",
              "    var cell = handle.cell;\n",
              "\n",
              "    var id = cell.output_area._bokeh_element_id;\n",
              "    var server_id = cell.output_area._bokeh_server_id;\n",
              "    // Clean up Bokeh references\n",
              "    if (id != null && id in Bokeh.index) {\n",
              "      Bokeh.index[id].model.document.clear();\n",
              "      delete Bokeh.index[id];\n",
              "    }\n",
              "\n",
              "    if (server_id !== undefined) {\n",
              "      // Clean up Bokeh references\n",
              "      var cmd = \"from bokeh.io.state import curstate; print(curstate().uuid_to_server['\" + server_id + \"'].get_sessions()[0].document.roots[0]._id)\";\n",
              "      cell.notebook.kernel.execute(cmd, {\n",
              "        iopub: {\n",
              "          output: function(msg) {\n",
              "            var id = msg.content.text.trim();\n",
              "            if (id in Bokeh.index) {\n",
              "              Bokeh.index[id].model.document.clear();\n",
              "              delete Bokeh.index[id];\n",
              "            }\n",
              "          }\n",
              "        }\n",
              "      });\n",
              "      // Destroy server and session\n",
              "      var cmd = \"import bokeh.io.notebook as ion; ion.destroy_server('\" + server_id + \"')\";\n",
              "      cell.notebook.kernel.execute(cmd);\n",
              "    }\n",
              "  }\n",
              "\n",
              "  /**\n",
              "   * Handle when a new output is added\n",
              "   */\n",
              "  function handleAddOutput(event, handle) {\n",
              "    var output_area = handle.output_area;\n",
              "    var output = handle.output;\n",
              "\n",
              "    // limit handleAddOutput to display_data with EXEC_MIME_TYPE content only\n",
              "    if ((output.output_type != \"display_data\") || (!Object.prototype.hasOwnProperty.call(output.data, EXEC_MIME_TYPE))) {\n",
              "      return\n",
              "    }\n",
              "\n",
              "    var toinsert = output_area.element.find(\".\" + CLASS_NAME.split(' ')[0]);\n",
              "\n",
              "    if (output.metadata[EXEC_MIME_TYPE][\"id\"] !== undefined) {\n",
              "      toinsert[toinsert.length - 1].firstChild.textContent = output.data[JS_MIME_TYPE];\n",
              "      // store reference to embed id on output_area\n",
              "      output_area._bokeh_element_id = output.metadata[EXEC_MIME_TYPE][\"id\"];\n",
              "    }\n",
              "    if (output.metadata[EXEC_MIME_TYPE][\"server_id\"] !== undefined) {\n",
              "      var bk_div = document.createElement(\"div\");\n",
              "      bk_div.innerHTML = output.data[HTML_MIME_TYPE];\n",
              "      var script_attrs = bk_div.children[0].attributes;\n",
              "      for (var i = 0; i < script_attrs.length; i++) {\n",
              "        toinsert[toinsert.length - 1].firstChild.setAttribute(script_attrs[i].name, script_attrs[i].value);\n",
              "        toinsert[toinsert.length - 1].firstChild.textContent = bk_div.children[0].textContent\n",
              "      }\n",
              "      // store reference to server id on output_area\n",
              "      output_area._bokeh_server_id = output.metadata[EXEC_MIME_TYPE][\"server_id\"];\n",
              "    }\n",
              "  }\n",
              "\n",
              "  function register_renderer(events, OutputArea) {\n",
              "\n",
              "    function append_mime(data, metadata, element) {\n",
              "      // create a DOM node to render to\n",
              "      var toinsert = this.create_output_subarea(\n",
              "        metadata,\n",
              "        CLASS_NAME,\n",
              "        EXEC_MIME_TYPE\n",
              "      );\n",
              "      this.keyboard_manager.register_events(toinsert);\n",
              "      // Render to node\n",
              "      var props = {data: data, metadata: metadata[EXEC_MIME_TYPE]};\n",
              "      render(props, toinsert[toinsert.length - 1]);\n",
              "      element.append(toinsert);\n",
              "      return toinsert\n",
              "    }\n",
              "\n",
              "    /* Handle when an output is cleared or removed */\n",
              "    events.on('clear_output.CodeCell', handleClearOutput);\n",
              "    events.on('delete.Cell', handleClearOutput);\n",
              "\n",
              "    /* Handle when a new output is added */\n",
              "    events.on('output_added.OutputArea', handleAddOutput);\n",
              "\n",
              "    /**\n",
              "     * Register the mime type and append_mime function with output_area\n",
              "     */\n",
              "    OutputArea.prototype.register_mime_type(EXEC_MIME_TYPE, append_mime, {\n",
              "      /* Is output safe? */\n",
              "      safe: true,\n",
              "      /* Index of renderer in `output_area.display_order` */\n",
              "      index: 0\n",
              "    });\n",
              "  }\n",
              "\n",
              "  // register the mime type if in Jupyter Notebook environment and previously unregistered\n",
              "  if (root.Jupyter !== undefined) {\n",
              "    var events = require('base/js/events');\n",
              "    var OutputArea = require('notebook/js/outputarea').OutputArea;\n",
              "\n",
              "    if (OutputArea.prototype.mime_types().indexOf(EXEC_MIME_TYPE) == -1) {\n",
              "      register_renderer(events, OutputArea);\n",
              "    }\n",
              "  }\n",
              "\n",
              "  \n",
              "  if (typeof (root._bokeh_timeout) === \"undefined\" || force === true) {\n",
              "    root._bokeh_timeout = Date.now() + 5000;\n",
              "    root._bokeh_failed_load = false;\n",
              "  }\n",
              "\n",
              "  var NB_LOAD_WARNING = {'data': {'text/html':\n",
              "     \"<div style='background-color: #fdd'>\\n\"+\n",
              "     \"<p>\\n\"+\n",
              "     \"BokehJS does not appear to have successfully loaded. If loading BokehJS from CDN, this \\n\"+\n",
              "     \"may be due to a slow or bad network connection. Possible fixes:\\n\"+\n",
              "     \"</p>\\n\"+\n",
              "     \"<ul>\\n\"+\n",
              "     \"<li>re-rerun `output_notebook()` to attempt to load from CDN again, or</li>\\n\"+\n",
              "     \"<li>use INLINE resources instead, as so:</li>\\n\"+\n",
              "     \"</ul>\\n\"+\n",
              "     \"<code>\\n\"+\n",
              "     \"from bokeh.resources import INLINE\\n\"+\n",
              "     \"output_notebook(resources=INLINE)\\n\"+\n",
              "     \"</code>\\n\"+\n",
              "     \"</div>\"}};\n",
              "\n",
              "  function display_loaded() {\n",
              "    var el = document.getElementById(null);\n",
              "    if (el != null) {\n",
              "      el.textContent = \"BokehJS is loading...\";\n",
              "    }\n",
              "    if (root.Bokeh !== undefined) {\n",
              "      if (el != null) {\n",
              "        el.textContent = \"BokehJS \" + root.Bokeh.version + \" successfully loaded.\";\n",
              "      }\n",
              "    } else if (Date.now() < root._bokeh_timeout) {\n",
              "      setTimeout(display_loaded, 100)\n",
              "    }\n",
              "  }\n",
              "\n",
              "\n",
              "  function run_callbacks() {\n",
              "    try {\n",
              "      root._bokeh_onload_callbacks.forEach(function(callback) {\n",
              "        if (callback != null)\n",
              "          callback();\n",
              "      });\n",
              "    } finally {\n",
              "      delete root._bokeh_onload_callbacks\n",
              "    }\n",
              "    console.debug(\"Bokeh: all callbacks have finished\");\n",
              "  }\n",
              "\n",
              "  function load_libs(css_urls, js_urls, callback) {\n",
              "    if (css_urls == null) css_urls = [];\n",
              "    if (js_urls == null) js_urls = [];\n",
              "\n",
              "    root._bokeh_onload_callbacks.push(callback);\n",
              "    if (root._bokeh_is_loading > 0) {\n",
              "      console.debug(\"Bokeh: BokehJS is being loaded, scheduling callback at\", now());\n",
              "      return null;\n",
              "    }\n",
              "    if (js_urls == null || js_urls.length === 0) {\n",
              "      run_callbacks();\n",
              "      return null;\n",
              "    }\n",
              "    console.debug(\"Bokeh: BokehJS not loaded, scheduling load and callback at\", now());\n",
              "    root._bokeh_is_loading = css_urls.length + js_urls.length;\n",
              "\n",
              "    function on_load() {\n",
              "      root._bokeh_is_loading--;\n",
              "      if (root._bokeh_is_loading === 0) {\n",
              "        console.debug(\"Bokeh: all BokehJS libraries/stylesheets loaded\");\n",
              "        run_callbacks()\n",
              "      }\n",
              "    }\n",
              "\n",
              "    function on_error(url) {\n",
              "      console.error(\"failed to load \" + url);\n",
              "    }\n",
              "\n",
              "    for (let i = 0; i < css_urls.length; i++) {\n",
              "      const url = css_urls[i];\n",
              "      const element = document.createElement(\"link\");\n",
              "      element.onload = on_load;\n",
              "      element.onerror = on_error.bind(null, url);\n",
              "      element.rel = \"stylesheet\";\n",
              "      element.type = \"text/css\";\n",
              "      element.href = url;\n",
              "      console.debug(\"Bokeh: injecting link tag for BokehJS stylesheet: \", url);\n",
              "      document.body.appendChild(element);\n",
              "    }\n",
              "\n",
              "    const hashes = {\"https://cdn.bokeh.org/bokeh/release/bokeh-2.3.0.min.js\": \"HjagQp6T0/7bxYTAXbLotF1MLAGWmhkY5siA1Gc/pcEgvgRPtMsRn0gQtMwGKiw1\", \"https://cdn.bokeh.org/bokeh/release/bokeh-widgets-2.3.0.min.js\": \"ZEPPTjL+mdyqgIq+/pl9KTwzji8Kow2NnI3zWY8+sFinWP/SYJ80BnfeJsa45iYj\", \"https://cdn.bokeh.org/bokeh/release/bokeh-tables-2.3.0.min.js\": \"exLqv2ACDRIaV7ZK1iL8aGzGYQvKVuT3U2CT7FsQREBxRah6JrkVCoFy0koY1YqV\"};\n",
              "\n",
              "    for (let i = 0; i < js_urls.length; i++) {\n",
              "      const url = js_urls[i];\n",
              "      const element = document.createElement('script');\n",
              "      element.onload = on_load;\n",
              "      element.onerror = on_error.bind(null, url);\n",
              "      element.async = false;\n",
              "      element.src = url;\n",
              "      if (url in hashes) {\n",
              "        element.crossOrigin = \"anonymous\";\n",
              "        element.integrity = \"sha384-\" + hashes[url];\n",
              "      }\n",
              "      console.debug(\"Bokeh: injecting script tag for BokehJS library: \", url);\n",
              "      document.head.appendChild(element);\n",
              "    }\n",
              "  };\n",
              "\n",
              "  function inject_raw_css(css) {\n",
              "    const element = document.createElement(\"style\");\n",
              "    element.appendChild(document.createTextNode(css));\n",
              "    document.body.appendChild(element);\n",
              "  }\n",
              "\n",
              "  \n",
              "  var js_urls = [\"https://cdn.bokeh.org/bokeh/release/bokeh-2.3.0.min.js\", \"https://cdn.bokeh.org/bokeh/release/bokeh-widgets-2.3.0.min.js\", \"https://cdn.bokeh.org/bokeh/release/bokeh-tables-2.3.0.min.js\"];\n",
              "  var css_urls = [];\n",
              "  \n",
              "\n",
              "  var inline_js = [\n",
              "    function(Bokeh) {\n",
              "      Bokeh.set_log_level(\"info\");\n",
              "    },\n",
              "    function(Bokeh) {\n",
              "    \n",
              "    \n",
              "    }\n",
              "  ];\n",
              "\n",
              "  function run_inline_js() {\n",
              "    \n",
              "    if (root.Bokeh !== undefined || force === true) {\n",
              "      \n",
              "    for (var i = 0; i < inline_js.length; i++) {\n",
              "      inline_js[i].call(root, root.Bokeh);\n",
              "    }\n",
              "    } else if (Date.now() < root._bokeh_timeout) {\n",
              "      setTimeout(run_inline_js, 100);\n",
              "    } else if (!root._bokeh_failed_load) {\n",
              "      console.log(\"Bokeh: BokehJS failed to load within specified timeout.\");\n",
              "      root._bokeh_failed_load = true;\n",
              "    } else if (force !== true) {\n",
              "      var cell = $(document.getElementById(null)).parents('.cell').data().cell;\n",
              "      cell.output_area.append_execute_result(NB_LOAD_WARNING)\n",
              "    }\n",
              "\n",
              "  }\n",
              "\n",
              "  if (root._bokeh_is_loading === 0) {\n",
              "    console.debug(\"Bokeh: BokehJS loaded, going straight to plotting\");\n",
              "    run_inline_js();\n",
              "  } else {\n",
              "    load_libs(css_urls, js_urls, function() {\n",
              "      console.debug(\"Bokeh: BokehJS plotting callback run at\", now());\n",
              "      run_inline_js();\n",
              "    });\n",
              "  }\n",
              "}(window));"
            ],
            "application/vnd.bokehjs_load.v0+json": "\n(function(root) {\n  function now() {\n    return new Date();\n  }\n\n  var force = true;\n\n  if (typeof root._bokeh_onload_callbacks === \"undefined\" || force === true) {\n    root._bokeh_onload_callbacks = [];\n    root._bokeh_is_loading = undefined;\n  }\n\n  \n\n  \n  if (typeof (root._bokeh_timeout) === \"undefined\" || force === true) {\n    root._bokeh_timeout = Date.now() + 5000;\n    root._bokeh_failed_load = false;\n  }\n\n  var NB_LOAD_WARNING = {'data': {'text/html':\n     \"<div style='background-color: #fdd'>\\n\"+\n     \"<p>\\n\"+\n     \"BokehJS does not appear to have successfully loaded. If loading BokehJS from CDN, this \\n\"+\n     \"may be due to a slow or bad network connection. Possible fixes:\\n\"+\n     \"</p>\\n\"+\n     \"<ul>\\n\"+\n     \"<li>re-rerun `output_notebook()` to attempt to load from CDN again, or</li>\\n\"+\n     \"<li>use INLINE resources instead, as so:</li>\\n\"+\n     \"</ul>\\n\"+\n     \"<code>\\n\"+\n     \"from bokeh.resources import INLINE\\n\"+\n     \"output_notebook(resources=INLINE)\\n\"+\n     \"</code>\\n\"+\n     \"</div>\"}};\n\n  function display_loaded() {\n    var el = document.getElementById(null);\n    if (el != null) {\n      el.textContent = \"BokehJS is loading...\";\n    }\n    if (root.Bokeh !== undefined) {\n      if (el != null) {\n        el.textContent = \"BokehJS \" + root.Bokeh.version + \" successfully loaded.\";\n      }\n    } else if (Date.now() < root._bokeh_timeout) {\n      setTimeout(display_loaded, 100)\n    }\n  }\n\n\n  function run_callbacks() {\n    try {\n      root._bokeh_onload_callbacks.forEach(function(callback) {\n        if (callback != null)\n          callback();\n      });\n    } finally {\n      delete root._bokeh_onload_callbacks\n    }\n    console.debug(\"Bokeh: all callbacks have finished\");\n  }\n\n  function load_libs(css_urls, js_urls, callback) {\n    if (css_urls == null) css_urls = [];\n    if (js_urls == null) js_urls = [];\n\n    root._bokeh_onload_callbacks.push(callback);\n    if (root._bokeh_is_loading > 0) {\n      console.debug(\"Bokeh: BokehJS is being loaded, scheduling callback at\", now());\n      return null;\n    }\n    if (js_urls == null || js_urls.length === 0) {\n      run_callbacks();\n      return null;\n    }\n    console.debug(\"Bokeh: BokehJS not loaded, scheduling load and callback at\", now());\n    root._bokeh_is_loading = css_urls.length + js_urls.length;\n\n    function on_load() {\n      root._bokeh_is_loading--;\n      if (root._bokeh_is_loading === 0) {\n        console.debug(\"Bokeh: all BokehJS libraries/stylesheets loaded\");\n        run_callbacks()\n      }\n    }\n\n    function on_error(url) {\n      console.error(\"failed to load \" + url);\n    }\n\n    for (let i = 0; i < css_urls.length; i++) {\n      const url = css_urls[i];\n      const element = document.createElement(\"link\");\n      element.onload = on_load;\n      element.onerror = on_error.bind(null, url);\n      element.rel = \"stylesheet\";\n      element.type = \"text/css\";\n      element.href = url;\n      console.debug(\"Bokeh: injecting link tag for BokehJS stylesheet: \", url);\n      document.body.appendChild(element);\n    }\n\n    const hashes = {\"https://cdn.bokeh.org/bokeh/release/bokeh-2.3.0.min.js\": \"HjagQp6T0/7bxYTAXbLotF1MLAGWmhkY5siA1Gc/pcEgvgRPtMsRn0gQtMwGKiw1\", \"https://cdn.bokeh.org/bokeh/release/bokeh-widgets-2.3.0.min.js\": \"ZEPPTjL+mdyqgIq+/pl9KTwzji8Kow2NnI3zWY8+sFinWP/SYJ80BnfeJsa45iYj\", \"https://cdn.bokeh.org/bokeh/release/bokeh-tables-2.3.0.min.js\": \"exLqv2ACDRIaV7ZK1iL8aGzGYQvKVuT3U2CT7FsQREBxRah6JrkVCoFy0koY1YqV\"};\n\n    for (let i = 0; i < js_urls.length; i++) {\n      const url = js_urls[i];\n      const element = document.createElement('script');\n      element.onload = on_load;\n      element.onerror = on_error.bind(null, url);\n      element.async = false;\n      element.src = url;\n      if (url in hashes) {\n        element.crossOrigin = \"anonymous\";\n        element.integrity = \"sha384-\" + hashes[url];\n      }\n      console.debug(\"Bokeh: injecting script tag for BokehJS library: \", url);\n      document.head.appendChild(element);\n    }\n  };\n\n  function inject_raw_css(css) {\n    const element = document.createElement(\"style\");\n    element.appendChild(document.createTextNode(css));\n    document.body.appendChild(element);\n  }\n\n  \n  var js_urls = [\"https://cdn.bokeh.org/bokeh/release/bokeh-2.3.0.min.js\", \"https://cdn.bokeh.org/bokeh/release/bokeh-widgets-2.3.0.min.js\", \"https://cdn.bokeh.org/bokeh/release/bokeh-tables-2.3.0.min.js\"];\n  var css_urls = [];\n  \n\n  var inline_js = [\n    function(Bokeh) {\n      Bokeh.set_log_level(\"info\");\n    },\n    function(Bokeh) {\n    \n    \n    }\n  ];\n\n  function run_inline_js() {\n    \n    if (root.Bokeh !== undefined || force === true) {\n      \n    for (var i = 0; i < inline_js.length; i++) {\n      inline_js[i].call(root, root.Bokeh);\n    }\n    } else if (Date.now() < root._bokeh_timeout) {\n      setTimeout(run_inline_js, 100);\n    } else if (!root._bokeh_failed_load) {\n      console.log(\"Bokeh: BokehJS failed to load within specified timeout.\");\n      root._bokeh_failed_load = true;\n    } else if (force !== true) {\n      var cell = $(document.getElementById(null)).parents('.cell').data().cell;\n      cell.output_area.append_execute_result(NB_LOAD_WARNING)\n    }\n\n  }\n\n  if (root._bokeh_is_loading === 0) {\n    console.debug(\"Bokeh: BokehJS loaded, going straight to plotting\");\n    run_inline_js();\n  } else {\n    load_libs(css_urls, js_urls, function() {\n      console.debug(\"Bokeh: BokehJS plotting callback run at\", now());\n      run_inline_js();\n    });\n  }\n}(window));"
          },
          "metadata": {
            "tags": []
          }
        },
        {
          "output_type": "display_data",
          "data": {
            "text/html": [
              "\n",
              "\n",
              "\n",
              "\n",
              "\n",
              "\n",
              "  <div class=\"bk-root\" id=\"7f7a5299-6b9f-4e84-a561-fe8a441068d5\" data-root-id=\"1299\"></div>\n"
            ]
          },
          "metadata": {
            "tags": []
          }
        },
        {
          "output_type": "display_data",
          "data": {
            "application/javascript": [
              "(function(root) {\n",
              "  function embed_document(root) {\n",
              "    \n",
              "  var docs_json = {\"c40efc50-c131-4ea1-99f8-9666ee4ae242\":{\"defs\":[{\"extends\":null,\"module\":null,\"name\":\"DataModel\",\"overrides\":[],\"properties\":[]}],\"roots\":{\"references\":[{\"attributes\":{\"below\":[{\"id\":\"1310\"}],\"center\":[{\"id\":\"1313\"},{\"id\":\"1317\"},{\"id\":\"1333\"}],\"left\":[{\"id\":\"1314\"}],\"renderers\":[{\"id\":\"1331\"}],\"title\":{\"id\":\"1300\"},\"toolbar\":{\"id\":\"1322\"},\"toolbar_location\":\"above\",\"x_range\":{\"id\":\"1302\"},\"x_scale\":{\"id\":\"1306\"},\"y_range\":{\"id\":\"1304\"},\"y_scale\":{\"id\":\"1308\"}},\"id\":\"1299\",\"subtype\":\"Figure\",\"type\":\"Plot\"},{\"attributes\":{},\"id\":\"1315\",\"type\":\"BasicTicker\"},{\"attributes\":{},\"id\":\"1363\",\"type\":\"AllLabels\"},{\"attributes\":{},\"id\":\"1302\",\"type\":\"DataRange1d\"},{\"attributes\":{\"formatter\":{\"id\":\"1364\"},\"major_label_policy\":{\"id\":\"1363\"},\"ticker\":{\"id\":\"1315\"}},\"id\":\"1314\",\"type\":\"LinearAxis\"},{\"attributes\":{\"fill_alpha\":{\"value\":0.1},\"fill_color\":{\"field\":\"color\"},\"line_alpha\":{\"value\":0.1},\"line_color\":{\"value\":\"#1f77b4\"},\"size\":{\"value\":8},\"x\":{\"field\":\"x1\"},\"y\":{\"field\":\"x2\"}},\"id\":\"1330\",\"type\":\"Scatter\"},{\"attributes\":{\"text\":\"vector T-SNE for most polarized words\"},\"id\":\"1300\",\"type\":\"Title\"},{\"attributes\":{\"axis\":{\"id\":\"1314\"},\"dimension\":1,\"ticker\":null},\"id\":\"1317\",\"type\":\"Grid\"},{\"attributes\":{\"data\":{\"color\":[\"#00ff00\",\"#00ff00\",\"#00ff00\",\"#00ffff\",\"#00ff00\",\"#00ff00\",\"#00ff00\",\"#00ff00\",\"#00ff00\",\"#000000\",\"#00ffff\",\"#000000\",\"#000000\",\"#000000\",\"#00ff00\",\"#000000\",\"#000000\",\"#000000\",\"#000000\",\"#00ff00\",\"#000000\",\"#000000\",\"#000000\",\"#00ff00\",\"#000000\",\"#000000\",\"#00ff00\",\"#000000\",\"#000000\",\"#000000\",\"#000000\",\"#00ff00\",\"#00ff00\",\"#000000\",\"#00ff00\",\"#00ff00\",\"#00ff00\",\"#00ff00\",\"#00ff00\",\"#00ffff\",\"#00ff00\",\"#00ff00\",\"#00ff00\",\"#000000\",\"#00ff00\",\"#000000\",\"#000000\",\"#000000\",\"#000000\",\"#00ffff\",\"#00ff00\",\"#00ffff\",\"#000000\",\"#00ff00\",\"#00ff00\",\"#00ff00\",\"#00ff00\",\"#00ff00\",\"#000000\",\"#00ff00\",\"#00ff00\",\"#00ff00\",\"#00ff00\",\"#00ff00\",\"#000000\",\"#00ff00\",\"#000000\",\"#00ff00\",\"#00ff00\",\"#00ffff\",\"#000000\",\"#00ff00\",\"#000000\",\"#00ff00\",\"#000000\",\"#00ff00\",\"#00ffff\",\"#00ff00\",\"#00ffff\",\"#000000\",\"#00ff00\",\"#000000\",\"#00ff00\",\"#00ffff\",\"#00ff00\",\"#00ff00\",\"#000000\",\"#000000\",\"#000000\",\"#00ff00\",\"#000000\",\"#000000\",\"#00ff00\",\"#00ff00\",\"#00ff00\",\"#00ff00\",\"#00ff00\",\"#00ffff\",\"#00ff00\",\"#000000\",\"#000000\",\"#000000\",\"#000000\",\"#00ff00\",\"#00ff00\",\"#00ff00\",\"#000000\",\"#00ff00\",\"#00ff00\",\"#000000\",\"#000000\",\"#00ff00\",\"#000000\",\"#000000\",\"#00ff00\",\"#00ff00\",\"#000000\",\"#00ff00\",\"#00ffff\",\"#00ff00\",\"#00ff00\",\"#00ff00\",\"#00ff00\",\"#000000\",\"#00ff00\",\"#00ff00\",\"#00ff00\",\"#000000\",\"#00ff00\",\"#00ff00\",\"#00ff00\",\"#00ff00\",\"#000000\",\"#00ff00\",\"#000000\",\"#000000\",\"#00ff00\",\"#00ffff\",\"#00ff00\",\"#000000\",\"#00ffff\",\"#00ff00\",\"#00ff00\",\"#000000\",\"#00ff00\",\"#00ff00\",\"#00ff00\",\"#00ff00\",\"#000000\",\"#000000\",\"#000000\",\"#00ff00\",\"#000000\",\"#000000\",\"#00ff00\",\"#00ff00\",\"#00ff00\",\"#00ff00\",\"#00ff00\",\"#000000\",\"#00ff00\",\"#00ff00\",\"#000000\",\"#00ff00\",\"#00ff00\",\"#000000\",\"#000000\",\"#000000\",\"#000000\",\"#00ffff\",\"#000000\",\"#000000\",\"#00ffff\",\"#00ff00\",\"#00ff00\",\"#00ff00\",\"#00ff00\",\"#00ff00\",\"#000000\",\"#00ff00\",\"#00ff00\",\"#00ff00\",\"#00ff00\",\"#000000\",\"#00ff00\",\"#00ff00\",\"#00ff00\",\"#00ff00\",\"#00ffff\",\"#00ff00\",\"#000000\",\"#00ffff\",\"#000000\",\"#00ff00\",\"#000000\",\"#000000\",\"#000000\",\"#000000\",\"#00ffff\",\"#00ff00\",\"#00ff00\",\"#000000\",\"#00ff00\",\"#00ff00\",\"#000000\",\"#00ff00\",\"#00ffff\",\"#00ff00\",\"#00ff00\",\"#00ff00\",\"#00ff00\",\"#000000\",\"#000000\",\"#000000\",\"#000000\",\"#00ff00\",\"#00ff00\",\"#00ff00\",\"#00ff00\",\"#00ff00\",\"#00ff00\",\"#00ff00\",\"#00ff00\",\"#00ff00\",\"#00ff00\",\"#000000\",\"#000000\",\"#00ff00\",\"#00ff00\",\"#000000\",\"#000000\",\"#000000\",\"#00ff00\",\"#00ffff\",\"#000000\",\"#000000\",\"#00ff00\",\"#00ffff\",\"#00ff00\",\"#000000\",\"#00ff00\",\"#000000\",\"#00ff00\",\"#00ff00\",\"#00ff00\",\"#000000\",\"#00ff00\",\"#00ff00\",\"#00ff00\",\"#000000\",\"#00ffff\",\"#00ff00\",\"#00ff00\",\"#00ff00\",\"#000000\",\"#00ff00\",\"#000000\",\"#00ff00\",\"#000000\",\"#00ffff\",\"#000000\",\"#000000\",\"#00ff00\",\"#00ff00\",\"#00ffff\",\"#00ff00\",\"#00ff00\",\"#000000\",\"#000000\",\"#000000\",\"#00ff00\",\"#00ff00\",\"#00ff00\",\"#000000\",\"#000000\",\"#000000\",\"#000000\",\"#00ff00\",\"#00ff00\",\"#00ff00\",\"#000000\",\"#000000\",\"#00ff00\",\"#00ff00\",\"#00ff00\",\"#000000\",\"#00ff00\",\"#00ff00\",\"#00ff00\",\"#00ffff\",\"#000000\",\"#000000\",\"#00ff00\",\"#00ff00\",\"#00ff00\",\"#00ff00\",\"#000000\",\"#00ff00\",\"#000000\",\"#00ff00\",\"#00ff00\",\"#00ff00\",\"#00ffff\",\"#00ff00\",\"#00ff00\",\"#000000\",\"#00ff00\",\"#000000\",\"#00ff00\",\"#000000\",\"#00ff00\",\"#00ff00\",\"#000000\",\"#00ff00\",\"#000000\",\"#00ffff\",\"#000000\",\"#00ff00\",\"#00ff00\",\"#00ff00\",\"#00ff00\",\"#00ff00\",\"#000000\",\"#00ff00\",\"#000000\",\"#000000\",\"#000000\",\"#00ffff\",\"#00ff00\",\"#000000\",\"#00ff00\",\"#000000\",\"#000000\",\"#000000\",\"#00ff00\",\"#000000\",\"#000000\",\"#000000\",\"#000000\",\"#00ff00\",\"#00ff00\",\"#00ff00\",\"#00ff00\",\"#000000\",\"#00ff00\",\"#00ff00\",\"#00ff00\",\"#000000\",\"#00ff00\",\"#000000\",\"#000000\",\"#00ff00\",\"#00ff00\",\"#00ff00\",\"#000000\",\"#00ff00\",\"#00ff00\",\"#00ff00\",\"#00ff00\",\"#00ff00\",\"#000000\",\"#00ff00\",\"#000000\",\"#00ff00\",\"#00ff00\",\"#000000\",\"#000000\",\"#00ff00\",\"#00ffff\",\"#000000\",\"#000000\",\"#00ff00\",\"#00ff00\",\"#000000\",\"#00ff00\",\"#000000\",\"#00ff00\",\"#000000\",\"#00ff00\",\"#000000\",\"#000000\",\"#000000\",\"#00ff00\",\"#000000\",\"#000000\",\"#000000\",\"#00ff00\",\"#00ff00\",\"#000000\",\"#00ff00\",\"#000000\",\"#00ffff\",\"#00ff00\",\"#00ff00\",\"#000000\",\"#000000\",\"#000000\",\"#00ff00\",\"#000000\",\"#00ffff\",\"#00ff00\",\"#000000\",\"#00ff00\",\"#00ff00\",\"#00ff00\",\"#00ffff\",\"#000000\",\"#00ff00\",\"#00ff00\",\"#00ff00\",\"#00ff00\",\"#000000\",\"#00ffff\",\"#00ff00\",\"#00ff00\",\"#00ff00\",\"#00ff00\",\"#00ffff\",\"#00ff00\",\"#000000\",\"#00ffff\",\"#000000\",\"#00ff00\",\"#00ff00\",\"#00ff00\",\"#00ff00\",\"#00ff00\",\"#000000\",\"#000000\",\"#00ff00\",\"#000000\",\"#00ff00\",\"#000000\",\"#000000\",\"#00ff00\",\"#000000\",\"#000000\",\"#000000\",\"#000000\",\"#00ff00\",\"#000000\",\"#00ff00\",\"#00ff00\",\"#00ffff\",\"#00ffff\",\"#000000\",\"#00ff00\",\"#00ff00\",\"#00ff00\",\"#00ff00\",\"#00ff00\",\"#000000\",\"#000000\",\"#000000\",\"#00ff00\",\"#00ff00\",\"#00ff00\",\"#00ff00\",\"#00ff00\",\"#000000\",\"#000000\",\"#000000\",\"#000000\",\"#00ff00\",\"#000000\",\"#00ff00\",\"#000000\",\"#00ff00\",\"#00ff00\",\"#000000\",\"#000000\",\"#00ff00\",\"#00ff00\",\"#00ff00\",\"#00ff00\",\"#00ff00\",\"#00ff00\",\"#00ff00\",\"#000000\",\"#00ff00\",\"#000000\",\"#00ff00\",\"#00ff00\",\"#000000\",\"#000000\",\"#00ff00\",\"#00ff00\",\"#000000\",\"#00ff00\",\"#00ffff\",\"#00ff00\",\"#00ff00\",\"#00ffff\",\"#00ffff\",\"#00ff00\",\"#00ff00\",\"#00ff00\",\"#00ff00\",\"#00ff00\",\"#000000\",\"#00ffff\",\"#00ff00\",\"#00ff00\",\"#00ff00\",\"#00ff00\",\"#000000\",\"#00ff00\",\"#00ff00\",\"#000000\",\"#000000\",\"#00ff00\",\"#000000\",\"#00ffff\",\"#00ff00\",\"#000000\",\"#000000\",\"#00ff00\",\"#00ff00\",\"#00ff00\",\"#00ff00\",\"#00ff00\",\"#00ff00\",\"#000000\",\"#00ff00\",\"#000000\",\"#000000\",\"#000000\",\"#00ff00\",\"#00ff00\",\"#00ff00\",\"#000000\",\"#000000\",\"#000000\",\"#00ffff\",\"#00ff00\",\"#00ffff\",\"#00ff00\",\"#00ff00\",\"#000000\",\"#000000\",\"#00ff00\",\"#00ff00\",\"#00ffff\",\"#00ffff\",\"#00ff00\",\"#00ff00\",\"#00ff00\",\"#00ff00\",\"#000000\",\"#000000\",\"#000000\",\"#000000\",\"#00ff00\",\"#000000\",\"#00ff00\",\"#00ff00\",\"#00ff00\",\"#000000\",\"#00ff00\",\"#00ff00\",\"#00ff00\",\"#000000\",\"#00ff00\",\"#00ff00\",\"#00ff00\",\"#00ffff\",\"#000000\",\"#000000\",\"#00ffff\",\"#00ff00\",\"#000000\",\"#000000\",\"#00ff00\",\"#000000\",\"#000000\",\"#00ff00\",\"#00ffff\",\"#00ff00\",\"#00ff00\",\"#000000\",\"#000000\",\"#000000\",\"#00ff00\",\"#000000\",\"#000000\",\"#000000\",\"#00ffff\",\"#00ff00\",\"#000000\",\"#000000\",\"#00ff00\",\"#000000\",\"#000000\",\"#00ffff\",\"#00ffff\",\"#000000\",\"#00ff00\",\"#00ff00\",\"#00ff00\",\"#00ff00\",\"#000000\",\"#00ff00\",\"#00ff00\",\"#00ff00\",\"#00ffff\",\"#00ff00\",\"#00ff00\",\"#000000\",\"#00ff00\",\"#00ff00\",\"#000000\",\"#000000\",\"#00ffff\",\"#00ff00\",\"#00ff00\",\"#000000\",\"#00ff00\",\"#000000\",\"#000000\",\"#00ff00\",\"#00ff00\",\"#00ff00\",\"#00ff00\",\"#00ff00\",\"#00ff00\",\"#00ff00\",\"#00ff00\",\"#00ff00\",\"#000000\",\"#000000\",\"#00ff00\",\"#00ff00\",\"#00ff00\",\"#00ffff\",\"#00ff00\",\"#00ffff\",\"#000000\",\"#00ff00\",\"#000000\",\"#00ff00\",\"#000000\",\"#00ff00\",\"#00ff00\",\"#00ff00\",\"#00ff00\",\"#000000\",\"#000000\",\"#00ff00\",\"#00ff00\",\"#000000\",\"#00ff00\",\"#000000\",\"#00ff00\",\"#000000\",\"#00ff00\",\"#00ff00\",\"#000000\",\"#00ffff\",\"#00ff00\",\"#00ff00\",\"#00ffff\",\"#00ff00\",\"#000000\",\"#00ff00\",\"#00ff00\",\"#00ff00\",\"#000000\",\"#00ff00\",\"#00ff00\",\"#00ff00\",\"#00ff00\",\"#00ff00\",\"#00ffff\",\"#000000\",\"#00ff00\",\"#000000\",\"#00ff00\",\"#00ff00\",\"#00ff00\",\"#000000\",\"#00ffff\",\"#000000\",\"#000000\",\"#000000\",\"#00ffff\",\"#00ffff\",\"#00ffff\",\"#000000\",\"#00ff00\",\"#00ff00\",\"#00ffff\",\"#000000\",\"#000000\",\"#00ff00\",\"#000000\",\"#00ff00\",\"#000000\",\"#00ff00\",\"#00ff00\",\"#000000\",\"#000000\",\"#000000\",\"#00ff00\",\"#00ff00\",\"#00ffff\",\"#000000\",\"#00ff00\",\"#00ff00\",\"#00ff00\",\"#00ff00\",\"#00ff00\",\"#00ffff\",\"#00ff00\",\"#000000\",\"#00ff00\",\"#00ffff\",\"#00ff00\",\"#000000\",\"#000000\",\"#00ffff\",\"#00ff00\",\"#00ff00\",\"#00ff00\",\"#00ff00\",\"#000000\",\"#00ff00\",\"#00ff00\",\"#000000\",\"#00ff00\",\"#00ff00\",\"#000000\",\"#00ff00\",\"#00ff00\",\"#000000\",\"#00ff00\",\"#00ff00\",\"#000000\",\"#000000\",\"#000000\",\"#00ff00\",\"#000000\",\"#00ff00\",\"#00ffff\",\"#00ff00\",\"#00ff00\",\"#00ffff\",\"#00ff00\",\"#000000\",\"#00ff00\",\"#00ffff\",\"#00ff00\",\"#00ff00\",\"#000000\",\"#00ff00\",\"#00ff00\",\"#00ff00\",\"#00ff00\",\"#000000\",\"#00ff00\",\"#00ff00\",\"#00ff00\",\"#00ff00\",\"#00ff00\",\"#000000\",\"#00ff00\",\"#000000\",\"#00ff00\",\"#00ff00\",\"#00ff00\",\"#00ff00\",\"#00ff00\",\"#00ffff\",\"#000000\",\"#000000\",\"#000000\",\"#000000\",\"#000000\",\"#00ff00\",\"#00ff00\",\"#00ff00\",\"#00ff00\",\"#000000\",\"#00ffff\",\"#00ff00\",\"#00ff00\",\"#000000\",\"#00ff00\",\"#000000\",\"#00ff00\",\"#00ff00\",\"#00ffff\",\"#00ff00\",\"#000000\",\"#000000\",\"#00ffff\",\"#00ffff\",\"#000000\",\"#00ff00\",\"#000000\",\"#00ff00\",\"#00ff00\",\"#00ff00\",\"#000000\",\"#00ff00\",\"#00ff00\",\"#00ff00\",\"#00ff00\",\"#000000\",\"#00ff00\",\"#000000\",\"#000000\",\"#00ff00\",\"#00ff00\",\"#00ff00\",\"#00ff00\",\"#00ff00\",\"#000000\",\"#00ffff\",\"#00ff00\",\"#00ff00\",\"#000000\",\"#00ff00\",\"#00ff00\",\"#00ff00\",\"#00ff00\",\"#00ff00\",\"#00ff00\",\"#000000\",\"#000000\",\"#00ff00\",\"#00ff00\",\"#000000\",\"#000000\",\"#00ff00\",\"#00ff00\",\"#00ffff\",\"#00ff00\",\"#00ff00\",\"#00ffff\",\"#00ff00\",\"#00ff00\",\"#000000\",\"#00ff00\",\"#00ff00\",\"#00ff00\",\"#000000\",\"#00ff00\",\"#000000\",\"#00ff00\",\"#000000\",\"#00ffff\",\"#000000\",\"#00ff00\",\"#000000\",\"#00ff00\",\"#00ff00\",\"#00ff00\",\"#00ffff\",\"#00ff00\",\"#000000\",\"#00ff00\",\"#00ff00\",\"#00ff00\",\"#00ff00\",\"#000000\",\"#00ff00\",\"#00ff00\",\"#000000\",\"#000000\",\"#000000\",\"#00ffff\",\"#00ff00\",\"#00ff00\",\"#000000\",\"#00ff00\",\"#000000\",\"#000000\",\"#00ff00\",\"#00ff00\",\"#00ffff\",\"#00ff00\",\"#00ff00\",\"#000000\",\"#00ff00\",\"#00ff00\",\"#000000\",\"#00ff00\",\"#000000\",\"#00ff00\",\"#00ff00\",\"#00ff00\",\"#00ff00\",\"#00ff00\",\"#00ff00\",\"#000000\",\"#000000\",\"#00ff00\",\"#00ff00\",\"#00ff00\",\"#00ff00\",\"#00ff00\",\"#000000\",\"#00ff00\",\"#00ff00\",\"#000000\",\"#000000\",\"#000000\",\"#00ff00\",\"#00ff00\",\"#00ff00\",\"#00ff00\",\"#00ffff\",\"#00ff00\",\"#000000\",\"#000000\",\"#00ff00\",\"#000000\",\"#00ff00\",\"#00ff00\",\"#00ff00\",\"#000000\",\"#00ff00\",\"#00ff00\",\"#00ffff\",\"#00ffff\",\"#00ff00\",\"#00ff00\",\"#000000\",\"#000000\",\"#00ff00\",\"#00ff00\",\"#00ff00\",\"#00ff00\",\"#00ffff\",\"#00ff00\",\"#00ff00\",\"#00ff00\",\"#000000\",\"#00ff00\",\"#00ff00\",\"#00ff00\",\"#00ff00\",\"#00ffff\",\"#00ff00\",\"#00ff00\",\"#00ff00\",\"#00ff00\",\"#00ffff\",\"#00ff00\",\"#00ff00\",\"#00ffff\",\"#000000\",\"#000000\",\"#00ff00\",\"#00ff00\",\"#00ff00\",\"#000000\",\"#00ff00\",\"#00ffff\",\"#000000\",\"#000000\",\"#000000\",\"#00ff00\",\"#000000\",\"#000000\",\"#000000\",\"#00ff00\",\"#00ff00\",\"#00ff00\",\"#00ffff\",\"#00ff00\",\"#00ff00\",\"#00ff00\",\"#00ffff\",\"#000000\",\"#000000\",\"#00ffff\",\"#00ff00\",\"#000000\",\"#000000\",\"#000000\",\"#00ff00\",\"#00ff00\",\"#00ff00\",\"#00ff00\",\"#00ff00\",\"#000000\",\"#00ffff\",\"#000000\",\"#00ff00\",\"#00ff00\",\"#000000\",\"#000000\",\"#00ff00\",\"#000000\",\"#00ff00\",\"#00ff00\",\"#00ff00\",\"#000000\",\"#00ff00\",\"#00ff00\",\"#00ff00\",\"#00ff00\",\"#00ffff\",\"#000000\",\"#00ff00\",\"#000000\",\"#00ff00\",\"#000000\",\"#00ff00\",\"#00ffff\",\"#00ff00\",\"#000000\",\"#00ff00\",\"#00ff00\",\"#000000\",\"#00ff00\",\"#000000\",\"#00ff00\",\"#00ffff\",\"#00ff00\",\"#00ffff\",\"#00ff00\",\"#00ff00\",\"#00ff00\",\"#00ff00\",\"#00ff00\",\"#00ff00\",\"#00ff00\",\"#00ff00\",\"#00ff00\",\"#000000\",\"#000000\",\"#000000\",\"#00ff00\",\"#00ff00\",\"#00ff00\",\"#00ff00\",\"#00ff00\",\"#000000\",\"#00ff00\",\"#00ff00\",\"#00ff00\",\"#00ff00\",\"#00ff00\",\"#00ff00\",\"#00ff00\",\"#00ff00\",\"#000000\",\"#00ff00\",\"#00ff00\",\"#00ff00\",\"#00ff00\",\"#000000\",\"#00ff00\",\"#000000\",\"#000000\",\"#00ffff\",\"#00ffff\",\"#00ff00\",\"#00ffff\",\"#00ffff\",\"#00ff00\",\"#00ff00\",\"#000000\",\"#00ff00\",\"#00ff00\",\"#00ff00\",\"#000000\",\"#00ff00\",\"#00ff00\",\"#000000\",\"#000000\",\"#00ff00\",\"#000000\",\"#00ff00\",\"#00ff00\",\"#00ff00\",\"#00ff00\",\"#000000\",\"#000000\",\"#00ff00\",\"#00ff00\",\"#00ffff\",\"#00ff00\",\"#00ffff\",\"#00ffff\",\"#00ffff\",\"#00ff00\",\"#000000\",\"#00ff00\",\"#00ff00\",\"#000000\",\"#000000\",\"#000000\",\"#00ff00\",\"#00ff00\",\"#00ff00\",\"#00ff00\",\"#000000\",\"#000000\",\"#00ff00\",\"#00ff00\",\"#00ff00\",\"#00ff00\",\"#00ff00\",\"#000000\",\"#00ff00\",\"#00ff00\",\"#000000\",\"#00ff00\",\"#00ff00\",\"#00ff00\",\"#00ff00\",\"#00ff00\",\"#000000\",\"#00ff00\",\"#00ff00\",\"#000000\",\"#00ffff\",\"#00ff00\",\"#00ff00\",\"#00ff00\",\"#00ff00\",\"#00ff00\",\"#00ff00\",\"#000000\",\"#000000\",\"#00ff00\",\"#00ff00\",\"#00ffff\",\"#00ff00\",\"#00ff00\",\"#00ff00\",\"#00ff00\",\"#00ff00\",\"#00ff00\",\"#00ff00\",\"#00ff00\",\"#00ff00\",\"#000000\",\"#00ff00\",\"#00ff00\",\"#00ff00\",\"#00ff00\",\"#000000\",\"#000000\",\"#00ffff\",\"#00ff00\",\"#00ff00\",\"#00ff00\",\"#00ffff\",\"#00ff00\",\"#00ff00\",\"#00ff00\",\"#000000\",\"#00ff00\",\"#00ffff\",\"#000000\",\"#00ff00\",\"#00ff00\",\"#00ffff\",\"#00ff00\",\"#00ff00\",\"#00ff00\",\"#00ff00\",\"#00ff00\",\"#00ff00\",\"#000000\",\"#000000\",\"#00ffff\",\"#00ff00\",\"#00ffff\",\"#00ff00\",\"#00ff00\",\"#00ff00\",\"#00ff00\",\"#00ffff\",\"#00ff00\",\"#00ff00\",\"#00ff00\",\"#00ff00\",\"#00ff00\",\"#000000\",\"#00ff00\",\"#00ff00\",\"#00ff00\",\"#00ff00\",\"#00ff00\",\"#00ff00\",\"#00ff00\",\"#000000\",\"#00ff00\",\"#000000\",\"#000000\",\"#00ff00\",\"#000000\",\"#00ff00\",\"#00ff00\",\"#00ff00\",\"#00ff00\",\"#00ff00\",\"#00ff00\",\"#00ff00\",\"#00ff00\",\"#00ff00\",\"#00ff00\",\"#00ff00\",\"#00ff00\",\"#00ff00\",\"#00ff00\",\"#00ff00\",\"#00ff00\",\"#00ff00\",\"#00ff00\",\"#00ff00\",\"#00ff00\",\"#000000\",\"#000000\",\"#000000\",\"#00ff00\",\"#000000\",\"#00ff00\",\"#00ff00\",\"#00ff00\",\"#000000\",\"#00ff00\",\"#00ff00\",\"#00ff00\",\"#00ff00\",\"#00ff00\",\"#00ff00\",\"#00ff00\",\"#00ff00\",\"#000000\",\"#00ff00\",\"#00ff00\",\"#000000\",\"#000000\",\"#000000\",\"#000000\",\"#00ff00\",\"#00ff00\",\"#00ff00\",\"#00ffff\",\"#00ff00\",\"#000000\",\"#00ff00\",\"#000000\",\"#00ff00\",\"#00ff00\",\"#00ffff\",\"#00ff00\",\"#00ff00\",\"#00ff00\",\"#00ff00\",\"#00ff00\",\"#00ff00\",\"#000000\",\"#00ff00\",\"#000000\",\"#00ffff\",\"#000000\",\"#00ff00\",\"#000000\",\"#00ff00\",\"#00ff00\",\"#00ff00\",\"#00ff00\",\"#000000\",\"#00ff00\",\"#00ff00\",\"#00ff00\",\"#000000\",\"#00ff00\",\"#00ff00\",\"#00ffff\",\"#000000\",\"#00ff00\",\"#000000\",\"#00ff00\",\"#000000\",\"#00ff00\",\"#00ff00\",\"#00ff00\",\"#00ff00\",\"#00ff00\",\"#00ffff\",\"#000000\",\"#000000\",\"#000000\",\"#000000\",\"#000000\",\"#00ff00\",\"#000000\",\"#00ffff\",\"#00ff00\",\"#00ff00\",\"#00ffff\",\"#00ff00\",\"#00ff00\",\"#000000\",\"#00ff00\",\"#00ffff\",\"#00ff00\",\"#000000\",\"#00ff00\",\"#00ff00\",\"#000000\",\"#00ff00\",\"#00ff00\",\"#00ff00\",\"#000000\",\"#00ff00\",\"#00ff00\",\"#00ff00\",\"#000000\",\"#00ff00\",\"#000000\",\"#00ff00\",\"#000000\",\"#00ff00\",\"#000000\",\"#000000\",\"#00ff00\",\"#000000\",\"#00ff00\",\"#00ff00\",\"#00ffff\",\"#00ff00\",\"#00ff00\",\"#000000\",\"#000000\",\"#000000\",\"#000000\",\"#000000\",\"#000000\",\"#000000\",\"#000000\",\"#000000\",\"#000000\",\"#000000\",\"#00ff00\",\"#00ff00\",\"#000000\",\"#00ff00\",\"#00ff00\",\"#000000\",\"#00ff00\",\"#000000\",\"#000000\",\"#00ff00\",\"#00ff00\",\"#00ff00\",\"#00ff00\",\"#00ffff\",\"#00ff00\",\"#00ff00\",\"#00ff00\",\"#00ff00\",\"#00ff00\",\"#00ff00\",\"#00ff00\",\"#00ff00\",\"#000000\",\"#000000\",\"#00ff00\",\"#00ff00\",\"#000000\",\"#00ff00\",\"#00ff00\",\"#000000\",\"#000000\",\"#00ff00\",\"#000000\",\"#00ff00\",\"#000000\",\"#000000\",\"#000000\",\"#000000\",\"#00ff00\",\"#00ff00\",\"#00ff00\",\"#00ff00\",\"#00ffff\",\"#00ff00\",\"#000000\",\"#00ff00\",\"#00ff00\",\"#00ff00\",\"#000000\",\"#000000\",\"#000000\",\"#000000\",\"#00ff00\",\"#000000\",\"#00ffff\",\"#00ff00\",\"#00ff00\",\"#00ff00\",\"#00ff00\",\"#00ffff\",\"#000000\",\"#00ff00\",\"#00ff00\",\"#000000\",\"#000000\",\"#000000\",\"#00ff00\",\"#00ff00\",\"#00ff00\",\"#000000\",\"#00ff00\",\"#00ff00\",\"#00ff00\",\"#00ff00\",\"#00ff00\",\"#000000\",\"#000000\",\"#00ff00\",\"#00ff00\",\"#00ff00\",\"#00ff00\",\"#00ff00\",\"#000000\",\"#00ff00\",\"#000000\",\"#00ff00\",\"#00ff00\",\"#00ff00\",\"#00ff00\",\"#00ff00\",\"#00ff00\",\"#000000\",\"#00ff00\",\"#00ff00\",\"#00ff00\",\"#00ff00\",\"#000000\",\"#00ff00\",\"#00ff00\",\"#00ff00\",\"#00ff00\",\"#00ff00\",\"#000000\",\"#00ff00\",\"#00ff00\",\"#000000\",\"#000000\",\"#000000\",\"#00ff00\",\"#000000\",\"#00ff00\",\"#00ff00\",\"#00ff00\",\"#000000\",\"#00ff00\",\"#00ff00\",\"#00ff00\",\"#00ff00\",\"#000000\",\"#00ff00\",\"#00ff00\",\"#00ff00\",\"#00ff00\",\"#00ff00\",\"#00ff00\",\"#00ffff\",\"#00ff00\",\"#000000\",\"#000000\",\"#000000\",\"#00ffff\",\"#00ff00\",\"#000000\",\"#00ff00\",\"#00ff00\",\"#00ff00\",\"#00ff00\",\"#00ff00\",\"#000000\",\"#00ffff\",\"#00ffff\",\"#00ff00\",\"#00ff00\",\"#00ff00\",\"#00ff00\",\"#00ff00\",\"#00ff00\",\"#00ff00\",\"#00ffff\",\"#00ff00\",\"#00ff00\",\"#00ff00\",\"#000000\",\"#00ff00\",\"#00ff00\",\"#000000\",\"#00ff00\",\"#000000\",\"#00ff00\",\"#00ff00\",\"#00ff00\",\"#000000\",\"#00ff00\",\"#00ff00\",\"#00ff00\",\"#00ff00\",\"#00ff00\",\"#00ff00\",\"#00ff00\",\"#00ff00\",\"#00ff00\",\"#00ff00\",\"#00ff00\",\"#000000\",\"#00ff00\",\"#000000\",\"#000000\",\"#00ff00\",\"#00ff00\",\"#000000\",\"#00ff00\",\"#00ffff\",\"#00ff00\",\"#00ff00\",\"#000000\",\"#00ff00\",\"#000000\",\"#00ff00\",\"#00ff00\",\"#000000\",\"#00ff00\",\"#00ffff\",\"#00ff00\",\"#00ff00\",\"#00ff00\",\"#00ff00\",\"#000000\",\"#00ff00\",\"#00ff00\",\"#00ff00\",\"#00ff00\",\"#000000\",\"#00ffff\",\"#000000\",\"#00ff00\",\"#00ff00\",\"#00ff00\",\"#00ff00\",\"#000000\",\"#000000\",\"#000000\",\"#00ff00\",\"#00ff00\",\"#00ff00\",\"#000000\",\"#00ff00\",\"#000000\",\"#00ff00\",\"#000000\",\"#00ffff\",\"#00ff00\",\"#00ff00\",\"#00ff00\",\"#00ff00\",\"#000000\",\"#00ff00\",\"#00ff00\",\"#00ff00\",\"#00ff00\",\"#00ffff\",\"#000000\",\"#000000\",\"#00ff00\",\"#00ff00\",\"#00ff00\",\"#00ffff\",\"#000000\",\"#000000\",\"#00ff00\",\"#00ff00\",\"#00ff00\",\"#00ff00\",\"#00ff00\",\"#000000\",\"#00ff00\",\"#00ff00\",\"#00ff00\",\"#00ff00\",\"#000000\",\"#00ff00\",\"#000000\",\"#000000\",\"#000000\",\"#00ff00\",\"#00ff00\",\"#000000\",\"#000000\",\"#00ff00\",\"#000000\",\"#00ff00\",\"#00ff00\",\"#00ffff\",\"#000000\",\"#000000\",\"#000000\",\"#00ffff\",\"#000000\",\"#00ff00\",\"#00ffff\",\"#00ff00\",\"#00ff00\",\"#00ff00\",\"#00ffff\",\"#00ff00\",\"#00ff00\",\"#00ff00\",\"#000000\",\"#00ff00\",\"#00ff00\",\"#000000\",\"#00ff00\",\"#00ff00\",\"#00ff00\",\"#000000\",\"#00ff00\",\"#00ff00\",\"#00ff00\",\"#00ff00\",\"#00ff00\",\"#00ff00\",\"#00ff00\",\"#00ff00\",\"#000000\",\"#00ff00\",\"#00ff00\",\"#00ff00\",\"#00ff00\",\"#00ff00\",\"#00ff00\",\"#00ff00\",\"#00ff00\",\"#00ff00\",\"#000000\",\"#000000\",\"#00ff00\",\"#00ff00\",\"#00ff00\",\"#00ff00\",\"#000000\",\"#000000\",\"#00ff00\",\"#00ff00\",\"#00ff00\",\"#00ff00\",\"#000000\",\"#00ff00\",\"#000000\",\"#000000\",\"#00ff00\",\"#00ff00\",\"#00ff00\",\"#00ff00\",\"#00ff00\",\"#000000\",\"#00ff00\",\"#00ff00\",\"#00ff00\",\"#00ff00\",\"#00ff00\",\"#00ffff\",\"#000000\",\"#00ff00\",\"#000000\",\"#00ff00\",\"#00ff00\",\"#000000\",\"#00ff00\",\"#00ff00\",\"#00ff00\",\"#00ff00\",\"#00ff00\",\"#00ff00\",\"#00ff00\",\"#00ff00\",\"#00ff00\",\"#00ffff\",\"#00ff00\",\"#000000\",\"#00ff00\",\"#00ff00\",\"#00ff00\",\"#00ff00\",\"#000000\",\"#00ff00\",\"#00ff00\",\"#000000\",\"#000000\",\"#00ff00\",\"#000000\",\"#00ff00\",\"#000000\",\"#000000\",\"#00ff00\",\"#00ff00\",\"#000000\",\"#00ff00\",\"#00ff00\",\"#00ff00\",\"#00ff00\",\"#00ff00\",\"#00ff00\",\"#00ff00\",\"#000000\",\"#00ff00\",\"#000000\",\"#00ff00\",\"#00ff00\",\"#000000\",\"#00ff00\",\"#000000\",\"#00ff00\",\"#00ff00\",\"#000000\",\"#00ff00\",\"#00ff00\",\"#000000\",\"#00ff00\",\"#00ffff\",\"#000000\",\"#000000\",\"#000000\",\"#00ff00\",\"#00ff00\",\"#00ff00\",\"#00ff00\",\"#000000\",\"#000000\",\"#00ff00\",\"#00ff00\",\"#000000\",\"#000000\",\"#00ff00\",\"#00ff00\",\"#00ff00\",\"#00ff00\",\"#000000\",\"#00ff00\",\"#000000\",\"#00ff00\",\"#00ff00\",\"#00ffff\",\"#00ff00\",\"#00ff00\",\"#00ff00\",\"#00ffff\",\"#00ff00\",\"#000000\",\"#000000\",\"#00ff00\",\"#00ff00\",\"#00ff00\",\"#000000\",\"#00ff00\",\"#00ff00\",\"#00ff00\",\"#00ff00\",\"#000000\",\"#00ff00\",\"#00ff00\",\"#000000\",\"#00ff00\",\"#00ff00\",\"#00ff00\",\"#000000\",\"#00ffff\",\"#00ff00\",\"#000000\",\"#00ff00\",\"#00ff00\",\"#000000\",\"#00ff00\",\"#00ff00\",\"#00ff00\",\"#00ff00\",\"#000000\",\"#00ff00\",\"#00ff00\",\"#00ff00\",\"#00ff00\",\"#00ff00\",\"#00ff00\",\"#000000\",\"#00ff00\",\"#00ff00\",\"#00ff00\",\"#000000\",\"#00ff00\",\"#000000\",\"#00ff00\",\"#00ffff\",\"#00ff00\",\"#00ff00\",\"#000000\",\"#000000\",\"#000000\",\"#00ff00\",\"#00ff00\",\"#00ff00\",\"#00ff00\",\"#00ff00\",\"#00ffff\",\"#00ff00\",\"#00ff00\",\"#00ff00\",\"#00ffff\",\"#00ff00\",\"#00ff00\",\"#00ff00\",\"#000000\",\"#00ff00\",\"#00ff00\",\"#000000\",\"#00ff00\",\"#000000\",\"#00ff00\",\"#00ffff\",\"#000000\",\"#000000\",\"#000000\",\"#00ff00\",\"#000000\",\"#000000\",\"#00ff00\",\"#00ff00\",\"#00ff00\",\"#000000\",\"#00ff00\",\"#00ff00\",\"#000000\",\"#00ffff\",\"#00ff00\",\"#00ff00\",\"#00ff00\",\"#00ff00\",\"#000000\",\"#000000\",\"#00ff00\",\"#00ff00\",\"#000000\",\"#00ffff\",\"#000000\",\"#000000\",\"#00ff00\",\"#00ff00\",\"#00ff00\",\"#00ff00\",\"#00ff00\",\"#00ff00\",\"#00ff00\",\"#00ff00\",\"#000000\",\"#000000\",\"#000000\",\"#000000\",\"#00ffff\",\"#00ff00\",\"#000000\",\"#00ff00\",\"#00ff00\",\"#00ff00\",\"#00ffff\",\"#000000\",\"#000000\",\"#00ffff\",\"#00ff00\",\"#000000\",\"#00ff00\",\"#00ff00\",\"#000000\",\"#00ff00\",\"#000000\",\"#00ff00\",\"#000000\",\"#00ff00\",\"#000000\",\"#000000\",\"#00ff00\",\"#000000\",\"#000000\",\"#00ff00\",\"#00ff00\",\"#00ff00\",\"#000000\",\"#00ff00\",\"#000000\",\"#00ff00\",\"#000000\",\"#000000\",\"#00ff00\",\"#00ff00\",\"#000000\",\"#00ff00\",\"#00ffff\",\"#000000\",\"#000000\",\"#000000\",\"#00ff00\",\"#00ff00\",\"#000000\",\"#00ff00\",\"#000000\",\"#000000\",\"#000000\",\"#000000\",\"#00ffff\",\"#00ff00\",\"#00ff00\",\"#000000\",\"#00ff00\",\"#000000\",\"#00ff00\",\"#00ff00\",\"#000000\",\"#00ff00\",\"#00ffff\",\"#00ff00\",\"#00ff00\",\"#000000\",\"#00ff00\",\"#00ff00\",\"#000000\",\"#00ff00\",\"#00ff00\",\"#00ff00\",\"#00ff00\",\"#000000\",\"#00ff00\",\"#00ff00\",\"#000000\",\"#000000\",\"#00ffff\",\"#00ff00\",\"#00ff00\",\"#00ff00\",\"#00ffff\",\"#00ff00\",\"#00ff00\",\"#000000\",\"#00ff00\",\"#00ffff\",\"#00ff00\",\"#00ff00\",\"#000000\",\"#000000\",\"#00ff00\",\"#00ff00\",\"#00ff00\",\"#00ff00\",\"#00ff00\",\"#00ff00\",\"#000000\",\"#000000\",\"#00ff00\",\"#00ff00\",\"#000000\",\"#000000\",\"#00ff00\",\"#000000\",\"#00ff00\",\"#00ff00\",\"#00ff00\",\"#000000\",\"#00ff00\",\"#000000\",\"#000000\",\"#00ff00\",\"#000000\",\"#00ffff\",\"#000000\",\"#00ff00\",\"#00ffff\",\"#00ff00\",\"#00ff00\",\"#000000\",\"#00ffff\",\"#000000\",\"#00ff00\",\"#000000\",\"#00ff00\",\"#00ff00\",\"#00ff00\",\"#00ff00\",\"#000000\",\"#00ff00\",\"#000000\",\"#000000\",\"#00ff00\",\"#00ff00\",\"#00ff00\",\"#00ff00\",\"#00ff00\",\"#00ff00\",\"#00ff00\",\"#00ff00\",\"#00ff00\",\"#000000\",\"#00ff00\",\"#000000\",\"#00ff00\",\"#000000\",\"#00ff00\",\"#00ffff\",\"#00ff00\",\"#00ff00\",\"#000000\",\"#00ff00\",\"#00ff00\",\"#00ff00\",\"#000000\",\"#00ff00\",\"#00ff00\",\"#000000\",\"#00ff00\",\"#00ff00\",\"#00ff00\",\"#00ff00\",\"#00ff00\",\"#000000\",\"#00ff00\",\"#000000\",\"#00ff00\",\"#00ff00\",\"#000000\",\"#000000\",\"#000000\",\"#000000\",\"#00ff00\",\"#000000\",\"#00ff00\",\"#000000\",\"#00ffff\",\"#00ff00\",\"#00ff00\",\"#00ff00\",\"#000000\",\"#000000\",\"#00ff00\",\"#00ff00\",\"#00ff00\",\"#00ff00\",\"#00ff00\",\"#00ff00\",\"#00ff00\",\"#000000\",\"#00ff00\",\"#000000\",\"#00ff00\",\"#000000\",\"#000000\",\"#000000\",\"#00ffff\",\"#00ff00\",\"#00ffff\",\"#000000\",\"#000000\",\"#000000\",\"#00ffff\",\"#00ff00\",\"#00ff00\",\"#00ff00\",\"#000000\",\"#00ff00\",\"#000000\",\"#00ff00\",\"#00ff00\",\"#00ff00\",\"#000000\",\"#000000\",\"#00ff00\",\"#00ffff\",\"#000000\",\"#00ffff\",\"#00ff00\",\"#00ff00\",\"#000000\",\"#00ff00\",\"#000000\",\"#000000\",\"#00ff00\",\"#00ff00\",\"#000000\",\"#000000\",\"#00ff00\",\"#00ff00\",\"#00ffff\",\"#00ff00\",\"#000000\",\"#00ff00\",\"#000000\",\"#00ff00\",\"#00ff00\",\"#00ff00\",\"#00ff00\",\"#00ff00\",\"#00ff00\",\"#000000\",\"#000000\",\"#000000\",\"#00ff00\",\"#00ff00\",\"#000000\",\"#00ff00\",\"#00ff00\",\"#000000\",\"#00ff00\",\"#00ff00\",\"#000000\",\"#000000\",\"#00ff00\",\"#000000\",\"#000000\",\"#00ff00\",\"#00ffff\",\"#000000\",\"#00ff00\",\"#00ff00\",\"#000000\",\"#000000\",\"#000000\",\"#000000\",\"#00ff00\",\"#000000\",\"#00ff00\",\"#00ff00\",\"#000000\",\"#00ff00\",\"#00ff00\",\"#00ffff\",\"#00ff00\",\"#00ffff\",\"#000000\",\"#00ff00\",\"#000000\",\"#000000\",\"#00ff00\",\"#00ff00\",\"#000000\",\"#00ff00\",\"#00ff00\",\"#000000\",\"#00ff00\",\"#00ff00\",\"#00ff00\",\"#00ff00\",\"#00ff00\",\"#00ff00\",\"#00ff00\",\"#00ff00\",\"#000000\",\"#00ff00\",\"#000000\",\"#000000\",\"#00ff00\",\"#00ff00\",\"#00ff00\",\"#00ff00\",\"#000000\",\"#00ff00\",\"#00ff00\",\"#00ffff\",\"#00ff00\",\"#00ff00\",\"#000000\",\"#000000\",\"#00ff00\",\"#000000\",\"#00ff00\",\"#000000\",\"#000000\",\"#00ffff\",\"#00ff00\",\"#00ff00\",\"#000000\",\"#00ff00\",\"#000000\",\"#000000\",\"#000000\",\"#00ff00\",\"#000000\",\"#00ff00\",\"#00ff00\",\"#000000\",\"#000000\",\"#00ffff\",\"#000000\",\"#00ff00\",\"#00ff00\",\"#00ff00\",\"#00ff00\",\"#000000\",\"#000000\",\"#00ff00\",\"#000000\",\"#00ff00\",\"#00ffff\",\"#00ff00\",\"#000000\",\"#00ffff\",\"#00ff00\",\"#000000\",\"#00ff00\",\"#00ff00\",\"#000000\",\"#00ff00\",\"#00ff00\",\"#00ff00\",\"#00ff00\",\"#00ff00\",\"#00ff00\",\"#00ffff\",\"#000000\",\"#000000\",\"#000000\",\"#000000\",\"#00ff00\",\"#00ff00\",\"#000000\",\"#00ff00\",\"#000000\",\"#00ff00\",\"#00ff00\",\"#00ff00\",\"#000000\",\"#000000\",\"#00ffff\",\"#00ffff\",\"#00ff00\",\"#00ff00\",\"#00ff00\",\"#00ff00\",\"#00ff00\",\"#00ffff\",\"#00ff00\",\"#00ffff\",\"#00ff00\",\"#00ff00\",\"#00ff00\",\"#000000\",\"#00ff00\",\"#00ff00\",\"#00ff00\",\"#000000\",\"#00ff00\",\"#000000\",\"#00ff00\",\"#00ff00\",\"#00ff00\",\"#00ff00\",\"#000000\",\"#00ff00\",\"#000000\",\"#00ff00\",\"#00ffff\",\"#00ff00\",\"#000000\",\"#000000\",\"#000000\",\"#00ff00\",\"#00ff00\",\"#00ff00\",\"#000000\",\"#000000\",\"#00ff00\",\"#000000\",\"#00ff00\",\"#00ff00\",\"#00ff00\",\"#00ffff\",\"#00ff00\",\"#00ff00\",\"#00ff00\",\"#000000\",\"#00ff00\",\"#00ff00\",\"#00ff00\",\"#00ff00\",\"#00ff00\",\"#00ff00\",\"#00ff00\",\"#000000\",\"#000000\",\"#00ff00\",\"#000000\",\"#000000\",\"#00ff00\",\"#000000\",\"#000000\",\"#000000\",\"#00ff00\",\"#00ff00\",\"#00ff00\",\"#00ff00\",\"#00ffff\",\"#00ff00\",\"#000000\",\"#00ff00\",\"#00ff00\",\"#00ff00\",\"#00ff00\",\"#00ffff\",\"#00ff00\",\"#00ff00\",\"#000000\",\"#000000\",\"#00ff00\",\"#000000\",\"#000000\",\"#000000\",\"#00ff00\",\"#00ff00\",\"#000000\",\"#00ff00\",\"#00ff00\",\"#00ff00\",\"#00ffff\",\"#00ff00\",\"#000000\",\"#00ff00\",\"#000000\",\"#00ff00\",\"#000000\",\"#00ff00\",\"#00ff00\",\"#00ff00\",\"#00ff00\",\"#00ff00\",\"#000000\",\"#000000\",\"#00ff00\",\"#00ff00\",\"#00ff00\",\"#00ff00\",\"#000000\",\"#00ff00\",\"#00ff00\",\"#000000\",\"#000000\",\"#00ff00\",\"#00ff00\",\"#000000\",\"#00ff00\",\"#000000\",\"#000000\",\"#00ff00\",\"#000000\",\"#00ff00\",\"#00ff00\",\"#00ff00\",\"#00ff00\",\"#000000\",\"#000000\",\"#00ff00\",\"#000000\",\"#000000\",\"#00ff00\",\"#00ff00\",\"#00ff00\",\"#000000\",\"#00ff00\",\"#00ff00\",\"#00ff00\",\"#00ff00\",\"#00ff00\",\"#000000\",\"#00ff00\",\"#00ff00\",\"#00ff00\",\"#00ffff\",\"#00ff00\",\"#000000\",\"#00ff00\",\"#00ff00\",\"#00ffff\",\"#00ff00\",\"#00ff00\",\"#000000\",\"#00ff00\",\"#00ff00\",\"#00ffff\",\"#00ff00\",\"#00ff00\",\"#000000\",\"#00ff00\",\"#00ffff\",\"#000000\",\"#00ff00\",\"#00ff00\",\"#000000\",\"#00ffff\",\"#00ff00\",\"#00ff00\",\"#000000\",\"#00ffff\",\"#000000\",\"#000000\",\"#000000\",\"#00ff00\",\"#000000\",\"#000000\",\"#000000\",\"#000000\",\"#000000\",\"#000000\",\"#00ff00\",\"#00ff00\",\"#00ff00\",\"#000000\",\"#00ff00\",\"#00ffff\",\"#00ffff\",\"#00ff00\",\"#00ffff\",\"#000000\",\"#00ff00\",\"#00ff00\",\"#00ff00\",\"#000000\",\"#000000\",\"#00ffff\",\"#00ff00\",\"#000000\",\"#00ff00\",\"#00ff00\",\"#00ff00\",\"#000000\",\"#00ffff\",\"#000000\",\"#00ff00\",\"#000000\",\"#00ff00\",\"#00ff00\",\"#00ff00\",\"#00ff00\",\"#000000\",\"#000000\",\"#000000\",\"#00ff00\",\"#000000\",\"#000000\",\"#00ffff\",\"#00ff00\",\"#00ff00\",\"#00ffff\",\"#000000\",\"#000000\",\"#00ff00\",\"#00ff00\",\"#000000\",\"#00ff00\",\"#00ff00\",\"#00ff00\",\"#000000\",\"#00ff00\",\"#00ff00\",\"#00ff00\",\"#00ff00\",\"#00ff00\",\"#000000\",\"#000000\",\"#000000\",\"#000000\",\"#000000\",\"#00ff00\",\"#00ff00\",\"#00ff00\",\"#00ff00\",\"#000000\",\"#000000\",\"#00ff00\",\"#00ff00\",\"#000000\",\"#00ff00\",\"#00ffff\",\"#000000\",\"#00ff00\",\"#00ff00\",\"#000000\",\"#000000\",\"#00ff00\",\"#00ffff\",\"#00ff00\",\"#00ff00\",\"#000000\",\"#000000\",\"#000000\",\"#00ff00\",\"#00ff00\",\"#000000\",\"#00ff00\",\"#000000\",\"#000000\",\"#000000\",\"#00ff00\",\"#000000\",\"#00ff00\",\"#00ff00\",\"#00ff00\",\"#000000\",\"#00ff00\",\"#00ff00\",\"#00ff00\",\"#00ff00\",\"#00ffff\",\"#000000\",\"#000000\",\"#000000\",\"#000000\",\"#00ff00\",\"#00ff00\",\"#00ff00\",\"#00ff00\",\"#000000\",\"#000000\",\"#00ff00\",\"#00ff00\",\"#00ff00\",\"#00ff00\",\"#000000\",\"#000000\",\"#00ff00\",\"#000000\",\"#000000\",\"#00ff00\",\"#00ff00\",\"#00ff00\",\"#00ff00\",\"#000000\",\"#00ff00\",\"#00ff00\",\"#00ff00\",\"#00ffff\",\"#000000\",\"#00ff00\",\"#00ff00\",\"#00ff00\",\"#00ff00\",\"#00ff00\",\"#000000\",\"#00ff00\",\"#000000\",\"#00ff00\",\"#000000\",\"#000000\",\"#00ff00\",\"#000000\",\"#00ff00\",\"#00ffff\",\"#00ff00\",\"#00ff00\",\"#000000\",\"#000000\",\"#00ff00\",\"#000000\",\"#00ff00\",\"#00ff00\",\"#00ff00\",\"#000000\",\"#000000\",\"#00ff00\",\"#000000\",\"#000000\",\"#000000\",\"#00ff00\",\"#000000\",\"#00ffff\",\"#000000\",\"#000000\",\"#00ff00\",\"#00ff00\",\"#00ff00\",\"#00ff00\",\"#000000\",\"#00ff00\",\"#00ff00\",\"#00ff00\",\"#000000\",\"#00ffff\",\"#00ff00\",\"#000000\",\"#00ff00\",\"#000000\",\"#000000\",\"#00ff00\",\"#00ff00\",\"#000000\",\"#00ff00\",\"#00ff00\",\"#00ff00\",\"#000000\",\"#000000\",\"#00ffff\",\"#00ff00\",\"#00ff00\",\"#00ff00\",\"#00ff00\",\"#00ff00\",\"#000000\",\"#00ff00\",\"#000000\",\"#00ff00\",\"#00ff00\",\"#00ffff\",\"#000000\",\"#000000\",\"#000000\",\"#00ff00\",\"#000000\",\"#00ff00\",\"#00ff00\",\"#00ff00\",\"#00ff00\",\"#00ff00\",\"#000000\",\"#000000\",\"#00ff00\",\"#00ff00\",\"#00ff00\",\"#00ff00\",\"#000000\",\"#00ff00\",\"#000000\",\"#00ff00\",\"#00ff00\",\"#00ff00\",\"#00ff00\",\"#00ff00\",\"#00ff00\",\"#00ff00\",\"#00ff00\",\"#00ff00\",\"#00ffff\",\"#000000\",\"#000000\",\"#00ff00\",\"#00ff00\",\"#000000\",\"#00ff00\",\"#00ff00\",\"#00ff00\",\"#00ff00\",\"#000000\",\"#00ff00\",\"#000000\",\"#00ffff\",\"#00ff00\",\"#00ff00\",\"#000000\",\"#00ff00\",\"#00ff00\",\"#00ff00\",\"#000000\",\"#00ff00\",\"#00ff00\",\"#00ff00\",\"#00ff00\",\"#00ffff\",\"#00ff00\",\"#000000\",\"#00ff00\",\"#000000\",\"#00ff00\",\"#00ff00\",\"#00ff00\",\"#00ff00\",\"#00ff00\",\"#00ff00\",\"#00ff00\",\"#00ffff\",\"#00ff00\",\"#00ff00\",\"#00ff00\",\"#00ff00\",\"#000000\",\"#000000\",\"#000000\",\"#00ff00\",\"#00ff00\",\"#000000\",\"#000000\",\"#000000\",\"#000000\",\"#00ffff\",\"#00ffff\",\"#00ff00\",\"#00ffff\",\"#00ff00\",\"#00ff00\",\"#00ff00\",\"#00ff00\",\"#00ff00\",\"#00ff00\",\"#00ff00\",\"#00ffff\",\"#00ff00\",\"#00ff00\",\"#000000\",\"#000000\",\"#00ff00\",\"#00ff00\",\"#000000\",\"#00ff00\",\"#00ff00\",\"#000000\",\"#000000\",\"#00ff00\",\"#00ffff\",\"#00ff00\",\"#00ff00\",\"#000000\",\"#00ff00\",\"#000000\",\"#00ff00\",\"#000000\",\"#000000\",\"#00ff00\",\"#00ff00\",\"#000000\",\"#00ff00\",\"#00ff00\",\"#00ffff\",\"#000000\",\"#00ff00\",\"#00ff00\",\"#000000\",\"#000000\",\"#00ff00\",\"#00ffff\",\"#000000\",\"#000000\",\"#00ff00\",\"#00ff00\",\"#000000\",\"#00ff00\",\"#00ffff\",\"#00ff00\",\"#00ff00\",\"#00ff00\",\"#00ff00\",\"#00ff00\",\"#000000\",\"#00ff00\",\"#00ff00\",\"#000000\",\"#00ff00\",\"#000000\",\"#00ff00\",\"#00ff00\",\"#000000\",\"#00ff00\",\"#00ffff\",\"#00ff00\",\"#00ff00\",\"#00ffff\",\"#000000\",\"#000000\",\"#00ff00\",\"#000000\",\"#00ff00\",\"#00ff00\",\"#00ff00\",\"#000000\",\"#00ff00\",\"#00ff00\",\"#00ff00\",\"#00ff00\",\"#00ff00\",\"#00ffff\",\"#000000\",\"#00ffff\",\"#00ff00\",\"#00ff00\",\"#00ffff\",\"#000000\",\"#000000\",\"#00ff00\",\"#00ff00\",\"#00ff00\",\"#00ff00\",\"#00ff00\",\"#00ff00\",\"#000000\",\"#000000\",\"#00ff00\",\"#000000\",\"#00ff00\",\"#00ff00\",\"#00ff00\",\"#00ff00\",\"#00ffff\",\"#000000\",\"#000000\",\"#00ff00\",\"#00ff00\",\"#00ffff\",\"#00ff00\",\"#000000\",\"#00ff00\",\"#000000\",\"#000000\",\"#00ff00\",\"#00ff00\",\"#00ff00\",\"#00ff00\",\"#000000\",\"#000000\",\"#000000\",\"#00ff00\",\"#000000\",\"#00ff00\",\"#00ffff\",\"#00ff00\",\"#000000\",\"#00ff00\",\"#00ff00\",\"#00ff00\",\"#00ff00\",\"#00ffff\",\"#00ff00\",\"#00ff00\",\"#00ff00\",\"#00ff00\",\"#00ff00\",\"#00ff00\",\"#000000\",\"#00ff00\",\"#00ff00\",\"#00ff00\",\"#00ff00\",\"#00ff00\",\"#000000\",\"#00ff00\",\"#00ff00\",\"#00ff00\",\"#00ff00\",\"#00ff00\",\"#00ffff\",\"#000000\",\"#00ff00\",\"#00ff00\",\"#00ff00\",\"#00ff00\",\"#00ffff\",\"#000000\",\"#00ff00\",\"#00ff00\",\"#000000\",\"#00ff00\",\"#000000\",\"#000000\",\"#00ffff\",\"#00ff00\",\"#00ff00\",\"#00ff00\",\"#00ff00\",\"#00ff00\",\"#000000\",\"#00ff00\",\"#00ff00\",\"#00ffff\",\"#000000\",\"#00ff00\",\"#000000\",\"#00ffff\",\"#00ff00\",\"#000000\",\"#000000\",\"#00ff00\",\"#00ff00\",\"#00ff00\",\"#000000\",\"#000000\",\"#00ff00\",\"#00ff00\",\"#00ff00\",\"#000000\",\"#00ff00\",\"#00ff00\",\"#00ff00\",\"#00ff00\",\"#00ff00\",\"#00ff00\",\"#000000\",\"#00ff00\",\"#00ff00\",\"#000000\",\"#000000\",\"#00ff00\",\"#00ff00\",\"#000000\",\"#000000\",\"#00ff00\",\"#00ff00\",\"#00ff00\",\"#00ff00\",\"#000000\",\"#00ff00\",\"#000000\",\"#00ff00\",\"#000000\",\"#00ff00\",\"#00ff00\",\"#00ff00\",\"#000000\",\"#00ff00\",\"#000000\",\"#000000\",\"#00ff00\",\"#00ff00\",\"#00ff00\",\"#00ff00\",\"#00ff00\",\"#000000\",\"#00ff00\",\"#00ff00\",\"#000000\",\"#00ff00\",\"#00ff00\",\"#00ff00\",\"#000000\",\"#00ff00\",\"#00ff00\",\"#00ff00\",\"#000000\",\"#00ff00\",\"#000000\",\"#000000\",\"#000000\",\"#00ff00\",\"#000000\",\"#00ff00\",\"#00ff00\",\"#00ff00\",\"#00ff00\",\"#00ffff\",\"#000000\",\"#00ff00\",\"#00ff00\",\"#00ff00\",\"#00ff00\",\"#000000\",\"#000000\",\"#00ffff\",\"#00ff00\",\"#00ff00\",\"#00ff00\",\"#000000\",\"#00ffff\",\"#00ff00\",\"#00ff00\",\"#000000\",\"#00ff00\",\"#00ffff\",\"#00ff00\",\"#00ff00\",\"#00ff00\",\"#000000\",\"#000000\",\"#00ff00\",\"#00ffff\",\"#000000\",\"#00ff00\",\"#00ff00\",\"#00ff00\",\"#00ff00\",\"#00ff00\",\"#00ff00\",\"#00ff00\",\"#00ff00\",\"#00ff00\",\"#000000\",\"#00ff00\",\"#000000\",\"#00ff00\",\"#00ff00\",\"#00ff00\",\"#00ff00\",\"#000000\",\"#00ffff\",\"#00ff00\",\"#00ff00\",\"#00ff00\",\"#000000\",\"#00ff00\",\"#00ff00\",\"#000000\",\"#00ff00\",\"#00ff00\",\"#00ffff\",\"#00ff00\",\"#00ff00\",\"#000000\",\"#00ff00\",\"#00ff00\",\"#000000\",\"#00ff00\",\"#00ff00\",\"#00ff00\",\"#000000\",\"#000000\",\"#00ff00\",\"#00ff00\",\"#00ff00\",\"#00ffff\",\"#00ff00\",\"#00ff00\",\"#00ffff\",\"#00ffff\",\"#00ffff\",\"#00ff00\",\"#00ff00\",\"#000000\",\"#00ff00\",\"#000000\",\"#00ff00\",\"#00ffff\",\"#000000\",\"#00ffff\",\"#000000\",\"#00ff00\",\"#000000\",\"#00ff00\",\"#000000\",\"#00ff00\",\"#00ff00\",\"#000000\",\"#00ff00\",\"#000000\",\"#00ff00\",\"#000000\",\"#000000\",\"#00ff00\",\"#00ff00\",\"#00ff00\",\"#00ff00\",\"#00ffff\",\"#00ff00\",\"#00ffff\",\"#000000\",\"#00ff00\",\"#00ff00\",\"#00ff00\",\"#000000\",\"#00ff00\",\"#00ff00\",\"#00ff00\",\"#000000\",\"#00ff00\",\"#000000\",\"#00ff00\",\"#00ff00\",\"#000000\",\"#000000\",\"#00ff00\",\"#00ff00\",\"#00ffff\",\"#000000\",\"#00ff00\",\"#000000\",\"#000000\",\"#000000\",\"#00ff00\",\"#00ffff\",\"#00ff00\",\"#00ff00\",\"#000000\",\"#00ff00\",\"#000000\",\"#000000\",\"#000000\",\"#00ff00\",\"#000000\",\"#000000\",\"#00ff00\",\"#00ff00\",\"#000000\",\"#000000\",\"#000000\",\"#00ff00\",\"#00ff00\",\"#00ff00\",\"#00ff00\",\"#00ff00\",\"#00ff00\",\"#00ff00\",\"#000000\",\"#00ff00\",\"#00ffff\",\"#00ff00\",\"#00ff00\",\"#00ff00\",\"#00ff00\",\"#00ff00\",\"#00ff00\",\"#00ff00\",\"#00ff00\",\"#00ff00\",\"#000000\",\"#00ff00\",\"#00ff00\",\"#00ffff\",\"#00ff00\",\"#000000\",\"#00ff00\",\"#00ff00\",\"#00ff00\",\"#00ff00\",\"#00ff00\",\"#00ff00\",\"#00ffff\",\"#00ff00\",\"#00ff00\",\"#000000\",\"#00ff00\",\"#00ff00\",\"#00ff00\",\"#000000\",\"#00ff00\",\"#00ff00\",\"#00ffff\",\"#000000\",\"#00ff00\",\"#000000\",\"#00ff00\",\"#000000\",\"#00ff00\",\"#000000\",\"#00ff00\",\"#000000\",\"#00ff00\",\"#00ffff\",\"#00ffff\",\"#00ffff\",\"#000000\",\"#00ff00\",\"#00ff00\",\"#00ff00\",\"#000000\",\"#00ff00\",\"#00ff00\",\"#00ffff\",\"#00ff00\",\"#00ff00\",\"#000000\",\"#00ffff\",\"#00ff00\",\"#00ff00\",\"#000000\",\"#000000\",\"#00ff00\",\"#00ff00\",\"#000000\",\"#000000\",\"#00ffff\",\"#00ff00\",\"#00ff00\",\"#00ff00\",\"#00ff00\",\"#00ff00\",\"#00ff00\",\"#00ff00\",\"#000000\",\"#000000\",\"#000000\",\"#00ff00\",\"#000000\",\"#00ffff\",\"#000000\",\"#00ff00\",\"#000000\",\"#00ff00\",\"#00ff00\",\"#00ff00\",\"#00ff00\",\"#00ffff\",\"#00ff00\",\"#000000\",\"#00ff00\",\"#000000\",\"#00ff00\",\"#00ff00\",\"#00ff00\",\"#00ff00\",\"#00ff00\",\"#00ff00\",\"#00ff00\",\"#00ffff\",\"#000000\",\"#00ff00\",\"#000000\",\"#000000\",\"#00ff00\",\"#00ffff\",\"#00ff00\",\"#00ff00\",\"#00ff00\",\"#00ff00\",\"#00ff00\",\"#000000\",\"#00ff00\",\"#00ff00\",\"#000000\",\"#000000\",\"#00ff00\",\"#00ff00\",\"#000000\",\"#000000\",\"#00ff00\",\"#000000\",\"#00ffff\",\"#00ff00\",\"#00ffff\",\"#00ff00\",\"#00ff00\",\"#00ff00\",\"#000000\",\"#00ff00\",\"#00ff00\",\"#000000\",\"#000000\",\"#00ff00\",\"#00ff00\",\"#000000\",\"#000000\",\"#000000\",\"#00ff00\",\"#00ff00\",\"#00ff00\",\"#00ff00\",\"#000000\",\"#00ff00\",\"#000000\",\"#00ff00\",\"#00ff00\",\"#000000\",\"#00ff00\",\"#000000\",\"#00ffff\",\"#00ff00\",\"#00ffff\",\"#00ff00\",\"#00ff00\",\"#00ffff\",\"#000000\",\"#00ff00\",\"#000000\",\"#00ff00\",\"#00ff00\",\"#000000\",\"#000000\",\"#00ff00\",\"#00ffff\",\"#000000\",\"#000000\",\"#000000\",\"#000000\",\"#00ff00\",\"#000000\",\"#00ff00\",\"#000000\",\"#00ff00\",\"#00ff00\",\"#00ff00\",\"#00ff00\",\"#00ff00\",\"#00ff00\",\"#000000\",\"#00ffff\",\"#00ff00\",\"#00ff00\",\"#00ff00\",\"#000000\",\"#000000\",\"#00ff00\",\"#000000\",\"#00ff00\",\"#000000\",\"#000000\",\"#00ff00\",\"#00ff00\",\"#00ff00\",\"#000000\",\"#00ff00\",\"#00ff00\",\"#00ff00\",\"#00ff00\",\"#000000\",\"#00ff00\",\"#00ff00\",\"#000000\",\"#00ffff\",\"#000000\",\"#00ffff\",\"#00ffff\",\"#00ff00\",\"#00ff00\",\"#000000\",\"#00ff00\",\"#000000\",\"#000000\",\"#00ffff\",\"#00ffff\",\"#00ff00\",\"#00ff00\",\"#00ffff\",\"#00ff00\",\"#00ff00\",\"#000000\",\"#000000\",\"#00ff00\",\"#000000\",\"#00ff00\",\"#000000\",\"#00ff00\",\"#00ff00\",\"#00ff00\",\"#000000\",\"#00ff00\",\"#000000\",\"#00ff00\",\"#00ff00\",\"#000000\",\"#00ff00\",\"#00ffff\",\"#00ff00\",\"#00ffff\",\"#000000\",\"#00ff00\",\"#00ff00\",\"#000000\",\"#00ff00\",\"#00ffff\",\"#00ff00\",\"#000000\",\"#00ff00\",\"#00ff00\",\"#000000\",\"#000000\",\"#00ffff\",\"#00ff00\",\"#00ffff\",\"#00ff00\",\"#00ff00\",\"#00ff00\",\"#00ffff\",\"#000000\",\"#00ff00\",\"#000000\",\"#00ff00\",\"#000000\",\"#00ff00\",\"#00ff00\",\"#00ff00\",\"#000000\",\"#00ff00\",\"#00ff00\",\"#000000\",\"#00ff00\",\"#000000\",\"#00ff00\",\"#00ff00\",\"#000000\",\"#00ff00\",\"#00ff00\",\"#000000\",\"#000000\",\"#00ff00\",\"#00ff00\",\"#000000\",\"#000000\",\"#000000\",\"#00ffff\",\"#000000\",\"#00ff00\",\"#00ff00\",\"#00ff00\",\"#00ff00\",\"#00ff00\",\"#00ff00\",\"#00ff00\",\"#000000\",\"#00ff00\",\"#00ff00\",\"#000000\",\"#000000\",\"#000000\",\"#000000\",\"#00ff00\",\"#000000\",\"#00ffff\",\"#00ffff\",\"#00ffff\",\"#000000\",\"#00ff00\",\"#000000\",\"#00ff00\",\"#000000\",\"#00ff00\",\"#000000\",\"#00ff00\",\"#00ff00\",\"#000000\",\"#00ff00\",\"#00ffff\",\"#00ff00\",\"#000000\",\"#00ff00\",\"#00ff00\",\"#00ff00\",\"#000000\",\"#000000\",\"#00ff00\",\"#00ff00\",\"#000000\",\"#00ff00\",\"#00ff00\",\"#000000\",\"#000000\",\"#00ff00\",\"#000000\",\"#00ff00\",\"#000000\",\"#000000\",\"#00ff00\",\"#000000\",\"#00ffff\",\"#00ff00\",\"#00ffff\",\"#000000\",\"#00ff00\",\"#00ff00\",\"#000000\",\"#000000\",\"#00ff00\",\"#000000\",\"#00ff00\",\"#00ff00\",\"#00ff00\",\"#00ffff\",\"#00ff00\",\"#00ff00\",\"#000000\",\"#000000\",\"#00ff00\",\"#00ff00\",\"#00ff00\",\"#00ffff\",\"#00ff00\",\"#00ff00\",\"#00ff00\",\"#000000\",\"#000000\",\"#000000\",\"#00ff00\",\"#000000\",\"#00ff00\",\"#00ff00\",\"#00ffff\",\"#00ff00\",\"#000000\",\"#00ff00\",\"#000000\",\"#00ff00\",\"#00ff00\",\"#00ff00\",\"#000000\",\"#00ff00\",\"#00ff00\",\"#00ff00\",\"#00ff00\",\"#000000\",\"#00ffff\",\"#00ff00\",\"#00ff00\",\"#00ffff\",\"#00ff00\",\"#000000\",\"#00ff00\",\"#00ff00\",\"#00ff00\",\"#00ff00\",\"#00ff00\",\"#000000\",\"#00ff00\",\"#000000\",\"#00ff00\",\"#000000\",\"#00ff00\",\"#000000\",\"#00ff00\",\"#00ff00\",\"#00ff00\",\"#00ff00\",\"#00ff00\",\"#00ff00\",\"#00ff00\",\"#00ff00\",\"#00ff00\",\"#000000\",\"#00ff00\",\"#000000\",\"#000000\",\"#00ff00\",\"#00ffff\",\"#00ff00\",\"#00ff00\",\"#00ff00\",\"#00ff00\",\"#00ff00\",\"#000000\",\"#00ff00\",\"#00ff00\",\"#00ff00\",\"#00ff00\",\"#00ff00\",\"#00ff00\",\"#000000\",\"#00ff00\",\"#00ff00\",\"#000000\",\"#00ff00\",\"#00ff00\",\"#000000\",\"#00ff00\",\"#00ff00\",\"#000000\",\"#00ff00\",\"#00ff00\",\"#00ff00\",\"#000000\",\"#00ffff\",\"#000000\",\"#000000\",\"#00ff00\",\"#00ff00\",\"#00ff00\",\"#000000\",\"#000000\",\"#00ff00\",\"#00ff00\",\"#000000\",\"#00ff00\",\"#00ff00\",\"#00ff00\",\"#00ff00\",\"#00ff00\",\"#00ff00\",\"#00ff00\",\"#000000\",\"#00ff00\",\"#00ff00\",\"#00ff00\",\"#000000\",\"#00ff00\",\"#00ff00\",\"#000000\",\"#00ff00\",\"#000000\",\"#000000\",\"#00ff00\",\"#00ff00\",\"#000000\",\"#000000\",\"#000000\",\"#00ff00\",\"#000000\",\"#00ff00\",\"#00ff00\",\"#00ff00\",\"#000000\",\"#00ffff\",\"#000000\",\"#00ff00\",\"#000000\",\"#00ff00\",\"#000000\",\"#00ffff\",\"#00ff00\",\"#00ff00\",\"#000000\",\"#00ff00\",\"#00ffff\",\"#00ff00\",\"#000000\",\"#00ff00\",\"#00ff00\",\"#00ffff\",\"#00ff00\",\"#000000\",\"#00ff00\",\"#00ff00\",\"#000000\",\"#00ff00\",\"#00ff00\",\"#00ffff\",\"#00ff00\",\"#000000\",\"#00ff00\",\"#00ff00\",\"#000000\",\"#000000\",\"#000000\",\"#00ff00\",\"#00ff00\",\"#000000\",\"#00ff00\",\"#00ff00\",\"#000000\",\"#00ff00\",\"#000000\",\"#00ff00\",\"#000000\",\"#000000\",\"#000000\",\"#00ff00\",\"#000000\",\"#000000\",\"#00ff00\",\"#00ffff\",\"#00ff00\",\"#00ff00\",\"#00ff00\",\"#000000\",\"#00ff00\",\"#00ff00\",\"#00ff00\",\"#000000\",\"#000000\",\"#00ff00\",\"#00ff00\",\"#00ff00\",\"#00ff00\",\"#00ff00\",\"#000000\",\"#00ff00\",\"#00ff00\",\"#00ff00\",\"#00ff00\",\"#000000\",\"#000000\",\"#00ff00\",\"#00ff00\",\"#000000\",\"#000000\",\"#00ff00\",\"#000000\",\"#00ff00\",\"#000000\",\"#00ff00\",\"#00ff00\",\"#00ff00\",\"#00ff00\",\"#00ff00\",\"#00ff00\",\"#00ff00\",\"#000000\",\"#00ff00\",\"#00ff00\",\"#000000\",\"#00ffff\",\"#00ff00\",\"#000000\",\"#00ff00\",\"#000000\",\"#000000\",\"#000000\",\"#00ff00\",\"#00ff00\",\"#00ff00\",\"#000000\",\"#00ff00\",\"#00ff00\",\"#000000\",\"#00ff00\",\"#00ff00\",\"#00ff00\",\"#00ff00\",\"#000000\",\"#00ff00\",\"#00ff00\",\"#00ff00\",\"#000000\",\"#000000\",\"#000000\",\"#00ff00\",\"#000000\",\"#000000\",\"#00ffff\",\"#00ff00\",\"#00ff00\",\"#000000\",\"#00ff00\",\"#00ff00\",\"#00ff00\",\"#000000\",\"#00ff00\",\"#00ff00\",\"#000000\",\"#00ff00\",\"#000000\",\"#00ff00\",\"#00ffff\",\"#00ff00\",\"#00ff00\",\"#00ff00\",\"#000000\",\"#00ff00\",\"#00ff00\",\"#00ffff\",\"#000000\",\"#00ff00\",\"#00ff00\",\"#000000\",\"#000000\",\"#00ff00\",\"#00ff00\",\"#00ff00\",\"#00ff00\",\"#00ff00\",\"#000000\",\"#00ff00\",\"#000000\",\"#00ff00\",\"#00ff00\",\"#000000\",\"#00ff00\",\"#00ffff\",\"#00ff00\",\"#00ffff\",\"#00ff00\",\"#000000\",\"#00ff00\",\"#000000\",\"#00ff00\",\"#000000\",\"#00ff00\",\"#000000\",\"#00ff00\",\"#00ffff\",\"#000000\",\"#00ff00\",\"#000000\",\"#00ff00\",\"#00ff00\",\"#000000\",\"#00ff00\",\"#00ff00\",\"#000000\",\"#000000\",\"#000000\",\"#000000\",\"#000000\",\"#000000\",\"#00ff00\",\"#00ff00\",\"#000000\",\"#000000\",\"#000000\",\"#00ff00\",\"#00ff00\",\"#00ff00\",\"#00ff00\",\"#00ff00\",\"#00ff00\",\"#00ff00\",\"#00ff00\",\"#000000\",\"#000000\",\"#000000\",\"#00ffff\",\"#00ff00\",\"#00ff00\",\"#000000\",\"#000000\",\"#00ff00\",\"#000000\",\"#00ff00\",\"#00ff00\",\"#00ffff\",\"#00ff00\",\"#000000\",\"#00ffff\",\"#000000\",\"#000000\",\"#00ffff\",\"#000000\",\"#000000\",\"#00ff00\",\"#000000\",\"#000000\",\"#00ff00\",\"#000000\",\"#000000\",\"#00ff00\",\"#00ffff\",\"#000000\",\"#00ff00\",\"#00ff00\",\"#00ff00\",\"#00ff00\",\"#000000\",\"#000000\",\"#000000\",\"#00ffff\",\"#00ff00\",\"#000000\",\"#000000\",\"#00ff00\",\"#00ff00\",\"#000000\",\"#00ff00\",\"#00ff00\",\"#000000\",\"#00ffff\",\"#00ff00\",\"#00ff00\",\"#000000\",\"#000000\",\"#00ff00\",\"#00ff00\",\"#000000\",\"#00ff00\",\"#000000\",\"#00ff00\",\"#00ff00\",\"#00ff00\",\"#00ff00\",\"#00ff00\",\"#00ff00\",\"#00ff00\",\"#00ff00\",\"#000000\",\"#00ff00\",\"#00ff00\",\"#00ff00\",\"#000000\",\"#000000\",\"#000000\",\"#00ff00\",\"#00ff00\",\"#000000\",\"#00ff00\",\"#00ff00\",\"#000000\",\"#00ff00\",\"#000000\",\"#00ff00\",\"#00ff00\",\"#00ffff\",\"#00ffff\",\"#000000\",\"#000000\",\"#00ffff\",\"#00ff00\",\"#00ff00\",\"#000000\",\"#000000\",\"#000000\",\"#00ff00\",\"#00ff00\",\"#00ff00\",\"#00ff00\",\"#00ff00\",\"#000000\",\"#00ff00\",\"#00ff00\",\"#00ff00\",\"#000000\",\"#00ff00\",\"#00ff00\",\"#00ff00\",\"#00ff00\",\"#000000\",\"#000000\",\"#00ff00\",\"#000000\",\"#00ff00\",\"#00ff00\",\"#000000\",\"#00ff00\",\"#00ff00\",\"#00ffff\",\"#00ffff\",\"#00ff00\",\"#000000\",\"#00ff00\",\"#00ff00\",\"#00ff00\",\"#00ff00\",\"#00ff00\",\"#00ff00\",\"#000000\",\"#000000\",\"#00ff00\",\"#000000\",\"#00ff00\",\"#000000\",\"#000000\",\"#000000\",\"#000000\",\"#00ff00\",\"#000000\",\"#000000\",\"#00ffff\",\"#00ff00\",\"#000000\",\"#00ff00\",\"#000000\",\"#000000\",\"#00ff00\",\"#00ff00\",\"#00ffff\",\"#000000\",\"#000000\",\"#00ffff\",\"#00ff00\",\"#000000\",\"#00ff00\",\"#00ff00\",\"#000000\",\"#00ff00\",\"#00ff00\",\"#00ff00\",\"#000000\",\"#00ff00\",\"#00ff00\",\"#000000\",\"#000000\",\"#000000\",\"#000000\",\"#00ff00\",\"#00ff00\",\"#00ff00\",\"#00ff00\",\"#00ff00\",\"#000000\",\"#00ff00\",\"#00ff00\",\"#000000\",\"#00ff00\",\"#00ff00\",\"#000000\",\"#000000\",\"#00ff00\",\"#000000\",\"#00ff00\",\"#000000\",\"#00ffff\",\"#00ff00\",\"#000000\",\"#000000\",\"#00ff00\",\"#00ff00\",\"#00ff00\",\"#000000\",\"#00ff00\",\"#00ffff\",\"#000000\",\"#000000\",\"#000000\",\"#000000\",\"#00ff00\",\"#00ff00\",\"#00ff00\",\"#000000\",\"#000000\",\"#00ff00\",\"#00ffff\",\"#00ff00\",\"#000000\",\"#000000\",\"#00ff00\",\"#00ff00\",\"#00ff00\",\"#000000\",\"#00ff00\",\"#00ff00\",\"#000000\",\"#00ff00\",\"#000000\",\"#000000\",\"#00ffff\",\"#00ff00\",\"#00ff00\",\"#00ff00\",\"#00ff00\",\"#00ff00\",\"#00ff00\",\"#000000\",\"#000000\",\"#00ff00\",\"#00ff00\",\"#00ff00\",\"#00ffff\",\"#000000\",\"#00ff00\",\"#00ff00\",\"#000000\",\"#000000\",\"#00ffff\",\"#000000\",\"#00ffff\",\"#00ffff\",\"#000000\",\"#00ff00\",\"#00ff00\",\"#000000\",\"#00ff00\",\"#00ff00\",\"#000000\",\"#00ff00\",\"#000000\",\"#00ff00\",\"#00ff00\",\"#00ffff\",\"#000000\",\"#000000\",\"#00ff00\",\"#00ff00\",\"#00ffff\",\"#00ffff\",\"#00ff00\",\"#00ff00\",\"#00ff00\",\"#00ffff\",\"#00ff00\",\"#000000\",\"#00ff00\",\"#00ff00\",\"#000000\",\"#00ff00\",\"#000000\",\"#00ff00\",\"#000000\",\"#00ff00\",\"#000000\",\"#000000\",\"#00ff00\",\"#00ffff\",\"#00ff00\",\"#000000\",\"#000000\",\"#00ff00\",\"#00ffff\",\"#00ff00\",\"#00ff00\",\"#00ff00\",\"#000000\",\"#000000\",\"#000000\",\"#00ff00\",\"#00ff00\",\"#00ff00\",\"#00ff00\",\"#00ff00\",\"#000000\",\"#000000\",\"#000000\",\"#00ff00\",\"#00ff00\",\"#00ff00\",\"#00ff00\",\"#000000\",\"#00ff00\",\"#00ff00\",\"#00ff00\",\"#000000\",\"#00ff00\",\"#00ff00\",\"#00ff00\",\"#00ff00\",\"#000000\",\"#00ff00\",\"#000000\",\"#00ff00\",\"#000000\",\"#00ff00\",\"#000000\",\"#000000\",\"#000000\",\"#000000\",\"#000000\",\"#00ff00\",\"#00ff00\",\"#00ff00\",\"#00ff00\",\"#00ff00\",\"#00ff00\",\"#00ff00\",\"#000000\",\"#000000\",\"#00ff00\",\"#00ff00\",\"#000000\",\"#00ff00\",\"#000000\",\"#00ff00\",\"#000000\",\"#000000\",\"#00ff00\",\"#00ff00\",\"#000000\",\"#000000\",\"#00ff00\",\"#00ff00\",\"#00ff00\",\"#00ff00\",\"#00ff00\",\"#00ff00\",\"#000000\",\"#00ff00\",\"#000000\",\"#00ff00\",\"#00ff00\",\"#000000\",\"#00ffff\",\"#000000\",\"#00ff00\",\"#00ff00\",\"#000000\",\"#00ff00\",\"#00ff00\",\"#00ff00\",\"#000000\",\"#00ff00\",\"#00ff00\",\"#00ff00\",\"#00ff00\",\"#00ff00\",\"#000000\",\"#000000\",\"#00ff00\",\"#00ff00\",\"#00ff00\",\"#00ff00\",\"#00ff00\",\"#000000\",\"#00ff00\",\"#00ffff\",\"#00ff00\",\"#00ff00\",\"#00ff00\",\"#000000\",\"#00ff00\",\"#00ff00\",\"#000000\",\"#00ff00\",\"#00ff00\",\"#000000\",\"#000000\",\"#00ff00\",\"#00ff00\",\"#000000\",\"#000000\",\"#000000\",\"#000000\",\"#00ff00\",\"#00ff00\",\"#000000\",\"#000000\",\"#000000\",\"#00ff00\",\"#00ff00\",\"#00ff00\",\"#00ff00\",\"#000000\",\"#000000\",\"#00ff00\",\"#00ff00\",\"#000000\",\"#00ff00\",\"#00ff00\",\"#000000\",\"#00ff00\",\"#00ff00\",\"#00ff00\",\"#00ffff\",\"#00ff00\",\"#000000\",\"#00ff00\",\"#000000\",\"#00ff00\",\"#00ff00\",\"#00ff00\",\"#000000\",\"#00ff00\",\"#00ffff\",\"#00ff00\",\"#00ff00\",\"#00ff00\",\"#000000\",\"#00ffff\",\"#00ff00\",\"#00ff00\",\"#00ff00\",\"#00ff00\",\"#00ff00\",\"#00ffff\",\"#00ff00\",\"#00ffff\",\"#00ff00\",\"#000000\",\"#00ffff\",\"#00ffff\",\"#00ff00\",\"#00ffff\",\"#000000\",\"#00ff00\",\"#00ffff\",\"#000000\",\"#00ffff\",\"#00ff00\",\"#000000\",\"#00ff00\",\"#00ff00\",\"#00ff00\",\"#00ff00\",\"#000000\",\"#00ff00\",\"#00ffff\",\"#00ff00\",\"#000000\",\"#00ff00\",\"#00ff00\",\"#00ff00\",\"#00ff00\",\"#00ff00\",\"#00ff00\",\"#00ff00\",\"#000000\",\"#00ff00\",\"#00ff00\",\"#00ffff\",\"#000000\",\"#000000\",\"#00ff00\",\"#00ff00\",\"#00ff00\",\"#00ff00\",\"#00ff00\",\"#00ff00\",\"#00ff00\",\"#000000\",\"#000000\",\"#00ff00\",\"#000000\",\"#00ff00\",\"#00ff00\",\"#000000\",\"#00ff00\",\"#00ff00\",\"#00ff00\",\"#00ff00\",\"#000000\",\"#00ffff\",\"#00ff00\",\"#00ffff\",\"#00ffff\",\"#000000\",\"#000000\",\"#00ff00\",\"#000000\",\"#000000\",\"#00ff00\",\"#000000\",\"#000000\",\"#00ff00\",\"#00ff00\",\"#00ff00\",\"#000000\",\"#000000\",\"#00ff00\",\"#00ff00\",\"#00ff00\",\"#000000\",\"#00ff00\",\"#00ff00\",\"#00ff00\",\"#00ff00\",\"#00ff00\",\"#000000\",\"#00ff00\",\"#00ffff\",\"#00ff00\",\"#00ff00\",\"#000000\",\"#00ff00\",\"#000000\",\"#00ffff\",\"#00ff00\",\"#00ffff\",\"#00ff00\",\"#000000\",\"#00ff00\",\"#00ff00\",\"#000000\",\"#00ff00\",\"#00ff00\",\"#00ffff\",\"#000000\",\"#00ffff\",\"#00ffff\",\"#000000\",\"#00ff00\",\"#00ff00\",\"#00ff00\",\"#000000\",\"#00ff00\",\"#00ff00\",\"#00ff00\",\"#00ff00\",\"#00ff00\",\"#000000\",\"#000000\",\"#00ffff\",\"#000000\",\"#00ffff\",\"#000000\",\"#00ff00\",\"#00ff00\",\"#00ff00\",\"#00ff00\",\"#000000\",\"#000000\",\"#00ff00\",\"#00ff00\",\"#00ffff\",\"#000000\",\"#00ffff\",\"#00ff00\",\"#00ff00\",\"#00ff00\",\"#00ffff\",\"#000000\",\"#00ff00\",\"#00ffff\",\"#00ff00\",\"#00ff00\",\"#00ff00\",\"#00ff00\",\"#000000\",\"#000000\",\"#00ff00\",\"#00ff00\",\"#00ff00\",\"#000000\",\"#00ff00\",\"#00ff00\",\"#000000\",\"#000000\",\"#00ff00\",\"#00ff00\",\"#000000\",\"#00ff00\",\"#00ff00\",\"#000000\",\"#000000\",\"#00ff00\",\"#000000\",\"#00ff00\",\"#000000\",\"#00ff00\",\"#00ff00\",\"#000000\",\"#00ff00\",\"#00ff00\",\"#00ff00\",\"#00ff00\",\"#00ff00\",\"#00ff00\",\"#000000\",\"#00ff00\",\"#00ff00\",\"#000000\",\"#00ff00\",\"#00ff00\",\"#00ffff\",\"#00ff00\",\"#000000\",\"#00ff00\",\"#00ff00\",\"#00ff00\",\"#00ffff\",\"#000000\",\"#000000\",\"#00ff00\",\"#00ff00\",\"#00ff00\",\"#00ff00\",\"#00ff00\",\"#00ff00\",\"#00ff00\",\"#00ff00\",\"#000000\",\"#00ff00\",\"#000000\",\"#00ff00\",\"#00ffff\",\"#00ff00\",\"#00ff00\",\"#00ff00\",\"#00ff00\",\"#00ff00\",\"#00ff00\",\"#00ff00\",\"#000000\",\"#00ff00\",\"#00ffff\",\"#00ff00\",\"#00ff00\",\"#00ff00\",\"#00ff00\",\"#00ff00\",\"#000000\",\"#00ff00\",\"#00ff00\",\"#00ff00\",\"#00ff00\",\"#000000\",\"#00ff00\",\"#00ffff\",\"#00ff00\",\"#000000\",\"#00ff00\",\"#00ff00\",\"#00ff00\",\"#000000\",\"#00ff00\",\"#00ffff\",\"#00ff00\",\"#00ff00\",\"#000000\",\"#00ff00\",\"#00ff00\",\"#00ff00\",\"#00ff00\",\"#00ff00\",\"#00ff00\",\"#00ff00\",\"#00ff00\",\"#000000\",\"#000000\",\"#00ff00\",\"#000000\",\"#000000\",\"#00ff00\",\"#00ff00\",\"#00ff00\",\"#00ff00\",\"#00ffff\",\"#00ff00\",\"#00ff00\",\"#00ff00\",\"#000000\",\"#000000\",\"#00ff00\",\"#000000\",\"#00ff00\",\"#000000\",\"#000000\",\"#00ff00\",\"#00ff00\",\"#000000\",\"#000000\",\"#00ff00\",\"#000000\",\"#00ff00\",\"#000000\",\"#00ff00\",\"#00ff00\",\"#00ff00\",\"#00ff00\",\"#00ffff\",\"#00ffff\",\"#000000\",\"#00ff00\",\"#00ff00\",\"#00ffff\",\"#000000\",\"#000000\",\"#00ff00\",\"#00ff00\",\"#00ff00\",\"#000000\",\"#000000\",\"#000000\",\"#000000\",\"#000000\",\"#000000\",\"#00ff00\",\"#00ff00\",\"#00ff00\",\"#000000\",\"#00ff00\",\"#00ff00\",\"#00ff00\",\"#000000\",\"#00ff00\",\"#000000\",\"#00ff00\",\"#00ff00\",\"#00ff00\",\"#00ffff\",\"#00ff00\",\"#00ff00\",\"#00ff00\",\"#00ff00\",\"#000000\",\"#000000\",\"#00ff00\",\"#00ffff\",\"#00ff00\",\"#000000\",\"#00ff00\",\"#00ff00\",\"#00ff00\",\"#00ff00\",\"#00ff00\",\"#00ff00\",\"#00ff00\",\"#00ff00\",\"#000000\",\"#00ff00\",\"#00ff00\",\"#00ff00\",\"#000000\",\"#000000\",\"#00ff00\",\"#00ff00\",\"#00ff00\",\"#00ff00\",\"#00ff00\",\"#000000\",\"#000000\",\"#00ff00\",\"#00ff00\",\"#00ff00\",\"#00ff00\",\"#000000\",\"#00ff00\",\"#00ff00\",\"#00ff00\",\"#00ff00\",\"#00ff00\",\"#00ff00\",\"#00ff00\",\"#00ff00\",\"#000000\",\"#00ff00\",\"#000000\",\"#00ffff\",\"#00ff00\",\"#000000\",\"#000000\",\"#000000\",\"#00ff00\",\"#00ff00\",\"#00ff00\",\"#00ff00\",\"#00ff00\",\"#00ff00\",\"#00ff00\",\"#000000\",\"#00ff00\",\"#00ff00\",\"#000000\",\"#00ff00\",\"#000000\",\"#00ff00\",\"#00ffff\",\"#00ff00\",\"#00ff00\",\"#00ff00\",\"#000000\",\"#00ff00\",\"#000000\",\"#00ff00\",\"#00ff00\",\"#00ff00\",\"#00ff00\",\"#00ff00\",\"#00ff00\",\"#000000\",\"#00ff00\",\"#00ffff\",\"#00ff00\",\"#00ff00\",\"#00ff00\",\"#00ff00\",\"#00ff00\",\"#00ff00\",\"#00ff00\",\"#000000\",\"#00ffff\",\"#00ff00\",\"#000000\",\"#00ff00\",\"#00ff00\",\"#000000\",\"#000000\",\"#00ff00\",\"#000000\",\"#00ff00\",\"#00ffff\",\"#000000\",\"#00ff00\",\"#00ff00\",\"#00ff00\",\"#00ff00\",\"#00ff00\",\"#000000\",\"#00ffff\",\"#00ff00\",\"#000000\",\"#000000\",\"#00ff00\",\"#00ff00\",\"#000000\",\"#000000\",\"#00ff00\",\"#00ff00\",\"#00ff00\",\"#000000\",\"#00ff00\",\"#00ff00\",\"#00ff00\",\"#00ff00\",\"#00ffff\",\"#000000\",\"#000000\",\"#00ff00\",\"#00ff00\",\"#00ffff\",\"#00ff00\",\"#00ff00\",\"#00ff00\",\"#00ff00\",\"#00ff00\",\"#00ff00\",\"#000000\",\"#00ff00\",\"#00ff00\",\"#00ff00\",\"#00ff00\",\"#00ffff\",\"#000000\",\"#00ff00\",\"#000000\",\"#00ff00\",\"#00ffff\",\"#00ff00\",\"#00ff00\",\"#00ffff\",\"#000000\",\"#00ff00\",\"#00ff00\",\"#00ff00\",\"#00ff00\",\"#00ff00\",\"#00ff00\",\"#000000\",\"#00ff00\",\"#00ff00\",\"#00ff00\",\"#00ff00\",\"#00ff00\",\"#00ff00\",\"#000000\",\"#00ff00\",\"#00ff00\",\"#00ff00\",\"#000000\",\"#00ffff\",\"#00ff00\",\"#000000\",\"#000000\",\"#00ff00\",\"#00ff00\",\"#000000\",\"#00ff00\",\"#00ff00\",\"#00ffff\",\"#000000\",\"#00ff00\",\"#00ff00\",\"#00ff00\",\"#00ff00\",\"#00ff00\",\"#000000\",\"#000000\",\"#00ff00\",\"#00ff00\",\"#00ff00\",\"#00ff00\",\"#00ff00\",\"#00ffff\",\"#000000\",\"#000000\",\"#00ff00\",\"#000000\",\"#000000\",\"#000000\",\"#00ff00\",\"#00ff00\",\"#00ff00\",\"#000000\",\"#00ff00\",\"#00ff00\",\"#000000\",\"#00ff00\",\"#000000\",\"#000000\",\"#000000\",\"#00ff00\",\"#00ffff\",\"#000000\",\"#00ff00\",\"#000000\",\"#000000\",\"#00ff00\",\"#00ff00\",\"#00ffff\",\"#00ffff\",\"#00ff00\",\"#00ff00\",\"#000000\",\"#00ffff\",\"#00ffff\",\"#00ff00\",\"#000000\",\"#000000\",\"#00ff00\",\"#000000\",\"#000000\",\"#00ff00\",\"#00ff00\",\"#00ff00\",\"#00ff00\",\"#000000\",\"#00ff00\",\"#000000\",\"#00ff00\",\"#000000\",\"#00ff00\",\"#00ff00\",\"#000000\",\"#00ffff\",\"#000000\",\"#00ff00\",\"#000000\",\"#00ff00\",\"#000000\",\"#00ff00\",\"#00ff00\",\"#00ffff\",\"#00ff00\",\"#00ff00\",\"#000000\",\"#000000\",\"#00ff00\",\"#00ff00\",\"#00ff00\",\"#00ff00\",\"#00ff00\",\"#00ff00\",\"#00ff00\",\"#00ff00\",\"#000000\",\"#000000\",\"#00ffff\",\"#000000\",\"#00ff00\",\"#00ff00\",\"#00ff00\",\"#000000\",\"#00ffff\",\"#00ff00\",\"#00ff00\",\"#00ff00\",\"#00ff00\",\"#000000\",\"#00ffff\",\"#000000\",\"#00ff00\",\"#00ff00\",\"#000000\",\"#00ff00\",\"#000000\",\"#00ffff\",\"#000000\",\"#000000\",\"#000000\",\"#00ff00\",\"#00ff00\",\"#00ff00\",\"#000000\",\"#000000\",\"#000000\",\"#00ff00\",\"#000000\",\"#00ff00\",\"#00ff00\",\"#00ff00\",\"#00ff00\",\"#000000\",\"#00ff00\",\"#000000\",\"#00ff00\",\"#00ff00\",\"#00ff00\",\"#00ff00\",\"#00ff00\",\"#000000\",\"#00ff00\",\"#00ff00\",\"#00ffff\",\"#00ff00\",\"#00ff00\",\"#000000\",\"#00ff00\",\"#000000\",\"#00ff00\",\"#000000\",\"#00ff00\",\"#00ffff\",\"#000000\",\"#00ff00\",\"#00ff00\",\"#00ffff\",\"#00ff00\",\"#00ff00\",\"#00ff00\",\"#00ffff\",\"#00ff00\",\"#000000\",\"#00ff00\",\"#000000\",\"#00ff00\",\"#00ff00\",\"#00ff00\",\"#000000\",\"#00ff00\",\"#000000\",\"#00ffff\",\"#00ff00\",\"#00ffff\",\"#00ffff\",\"#000000\",\"#00ff00\",\"#00ff00\",\"#00ff00\",\"#00ff00\",\"#00ff00\",\"#00ff00\",\"#00ff00\",\"#000000\",\"#000000\",\"#000000\",\"#000000\",\"#00ff00\",\"#00ff00\",\"#00ff00\",\"#000000\",\"#000000\",\"#00ff00\",\"#00ff00\",\"#000000\",\"#00ff00\",\"#00ff00\",\"#00ff00\",\"#00ff00\",\"#00ffff\",\"#00ff00\",\"#00ff00\",\"#00ff00\",\"#00ff00\",\"#00ff00\",\"#000000\",\"#00ff00\",\"#00ff00\",\"#00ff00\",\"#00ffff\",\"#00ff00\",\"#00ff00\",\"#000000\",\"#00ff00\",\"#00ff00\",\"#00ff00\",\"#000000\",\"#000000\",\"#00ff00\",\"#000000\",\"#000000\",\"#00ff00\",\"#000000\",\"#00ff00\",\"#000000\",\"#00ff00\",\"#00ffff\",\"#00ffff\",\"#000000\",\"#00ff00\",\"#000000\",\"#00ff00\",\"#00ff00\",\"#000000\",\"#000000\",\"#00ff00\",\"#00ff00\",\"#00ffff\",\"#00ff00\",\"#000000\",\"#00ff00\",\"#000000\",\"#00ff00\",\"#000000\",\"#000000\",\"#00ff00\",\"#00ff00\",\"#00ff00\",\"#00ffff\",\"#000000\",\"#00ffff\",\"#000000\",\"#000000\",\"#00ff00\",\"#00ff00\",\"#000000\",\"#00ff00\",\"#00ff00\",\"#000000\",\"#00ff00\",\"#00ff00\",\"#000000\",\"#00ff00\",\"#00ff00\",\"#000000\",\"#00ff00\",\"#00ff00\",\"#00ff00\",\"#00ff00\",\"#00ffff\",\"#00ffff\",\"#00ffff\",\"#00ff00\",\"#00ff00\",\"#00ffff\",\"#00ff00\",\"#00ffff\",\"#00ff00\",\"#00ff00\",\"#000000\",\"#00ff00\",\"#00ff00\",\"#00ff00\",\"#000000\",\"#00ff00\",\"#00ff00\",\"#00ff00\",\"#000000\",\"#00ff00\",\"#00ff00\",\"#00ff00\",\"#000000\",\"#00ff00\",\"#000000\",\"#00ff00\",\"#00ff00\",\"#000000\",\"#000000\",\"#000000\",\"#000000\",\"#000000\",\"#00ff00\",\"#00ff00\",\"#00ff00\",\"#00ff00\",\"#00ff00\",\"#00ff00\",\"#000000\",\"#00ff00\",\"#00ff00\",\"#00ff00\",\"#00ff00\",\"#00ff00\",\"#00ff00\",\"#00ff00\",\"#000000\",\"#00ff00\",\"#00ff00\",\"#00ff00\"],\"names\":[\"<unk>\",\"<pad>\",\"flight\",\"thank\",\"annoi\",\"hesit\",\"undecid\",\"uneasi\",\"co\",\"hour\",\"httpskeptic\",\"you\",\"cancel\",\"help\",\"it\",\"servic\",\"delai\",\"time\",\"custom\",\"can\",\"bag\",\"wait\",\"plane\",\"need\",\"hold\",\"amp\",\"fly\",\"dai\",\"airlin\",\"gate\",\"seat\",\"flightl\",\"book\",\"ve\",\"check\",\"we\",\"no\",\"chang\",\"don\",\"got\",\"phone\",\"like\",\"that\",\"try\",\"todai\",\"hr\",\"us\",\"late\",\"agent\",\"gui\",\"now\",\"work\",\"miss\",\"ticket\",\"on\",\"know\",\"what\",\"go\",\"min\",\"re\",\"me\",\"wai\",\"airport\",\"call\",\"board\",\"travel\",\"minut\",\"want\",\"get\",\"great\",\"thi\",\"weather\",\"connect\",\"tomorrow\",\"problem\",\"not\",\"good\",\"new\",\"home\",\"issu\",\"look\",\"peopl\",\"email\",\"love\",\"pleas\",\"the\",\"let\",\"sit\",\"told\",\"ll\",\"luggag\",\"rebook\",\"aa\",\"number\",\"reserv\",\"is\",\"my\",\"crew\",\"dm\",\"unit\",\"lost\",\"baggag\",\"passeng\",\"trip\",\"how\",\"respons\",\"worst\",\"ye\",\"again\",\"sai\",\"tell\",\"do\",\"experi\",\"just\",\"right\",\"have\",\"line\",\"your\",\"thei\",\"why\",\"am\",\"ua\",\"in\",\"leav\",\"didn\",\"hope\",\"onlin\",\"week\",\"there\",\"come\",\"and\",\"jfk\",\"answer\",\"arriv\",\"pai\",\"staff\",\"make\",\"happi\",\"our\",\"bad\",\"best\",\"so\",\"long\",\"better\",\"follow\",\"left\",\"sure\",\"land\",\"said\",\"updat\",\"won\",\"think\",\"refund\",\"stuck\",\"mile\",\"pm\",\"all\",\"but\",\"morn\",\"care\",\"doesn\",\"sent\",\"flightr\",\"ask\",\"tonight\",\"busi\",\"flt\",\"happen\",\"websit\",\"appreci\",\"hotel\",\"night\",\"attend\",\"out\",\"will\",\"fleet\",\"fleek\",\"dfw\",\"tri\",\"lax\",\"year\",\"up\",\"confirm\",\"info\",\"offer\",\"final\",\"air\",\"to\",\"nice\",\"upgrad\",\"charg\",\"pilot\",\"person\",\"voucher\",\"credit\",\"rude\",\"talk\",\"avail\",\"free\",\"ago\",\"point\",\"fix\",\"send\",\"class\",\"rep\",\"start\",\"thing\",\"if\",\"pass\",\"ani\",\"st\",\"sfo\",\"contact\",\"option\",\"frustrat\",\"take\",\"employe\",\"abl\",\"open\",\"receiv\",\"tweet\",\"back\",\"phl\",\"claim\",\"fee\",\"stop\",\"face\",\"still\",\"here\",\"speak\",\"understand\",\"wifi\",\"app\",\"awesom\",\"differ\",\"disappoint\",\"ord\",\"team\",\"statu\",\"actual\",\"she\",\"yesterdai\",\"hi\",\"dca\",\"suppos\",\"terribl\",\"too\",\"plan\",\"ar\",\"departur\",\"amaz\",\"ok\",\"instead\",\"sorri\",\"suck\",\"direct\",\"earli\",\"la\",\"return\",\"schedul\",\"extra\",\"frown\",\"gt\",\"rt\",\"thx\",\"isn\",\"jetblu\",\"site\",\"couldn\",\"haven\",\"kid\",\"bo\",\"friend\",\"ground\",\"mean\",\"paid\",\"smilei\",\"clt\",\"deal\",\"earlier\",\"lot\",\"monei\",\"allow\",\"famili\",\"polici\",\"realli\",\"reason\",\"show\",\"ewr\",\"job\",\"compani\",\"took\",\"add\",\"card\",\"chanc\",\"provid\",\"strand\",\"wasn\",\"depart\",\"expect\",\"member\",\"messag\",\"big\",\"did\",\"ever\",\"hung\",\"month\",\"repli\",\"snow\",\"account\",\"oh\",\"question\",\"respond\",\"vega\",\"wife\",\"airplan\",\"lose\",\"tarmac\",\"th\",\"airwai\",\"boston\",\"dalla\",\"old\",\"when\",\"feel\",\"horribl\",\"mechan\",\"southwest\",\"them\",\"assist\",\"chicago\",\"give\",\"pick\",\"poor\",\"possibl\",\"ridicul\",\"apolog\",\"for\",\"run\",\"san\",\"well\",\"yet\",\"denver\",\"reschedul\",\"serious\",\"never\",\"request\",\"treat\",\"twitter\",\"unaccept\",\"ur\",\"wa\",\"american\",\"caus\",\"cost\",\"keep\",\"at\",\"awai\",\"been\",\"mayb\",\"vacat\",\"desk\",\"end\",\"far\",\"flightlat\",\"food\",\"hang\",\"inform\",\"nyc\",\"stai\",\"wrong\",\"count\",\"gave\",\"half\",\"link\",\"past\",\"destin\",\"handl\",\"complaint\",\"aw\",\"bc\",\"complet\",\"hei\",\"noth\",\"broken\",\"fail\",\"hear\",\"off\",\"went\",\"car\",\"row\",\"wonder\",\"compens\",\"much\",\"price\",\"twice\",\"commun\",\"current\",\"error\",\"littl\",\"move\",\"runwai\",\"soon\",\"pl\",\"switch\",\"charlott\",\"guess\",\"iad\",\"idea\",\"place\",\"rout\",\"termin\",\"veri\",\"with\",\"would\",\"bring\",\"carri\",\"newark\",\"wors\",\"citi\",\"fll\",\"houston\",\"intern\",\"purchas\",\"after\",\"first\",\"he\",\"lack\",\"longer\",\"phx\",\"real\",\"drive\",\"lga\",\"reach\",\"believ\",\"drop\",\"given\",\"hard\",\"list\",\"plu\",\"room\",\"second\",\"watch\",\"cool\",\"deliv\",\"disconnect\",\"head\",\"life\",\"live\",\"sat\",\"see\",\"thought\",\"cust\",\"fare\",\"had\",\"im\",\"then\",\"turn\",\"also\",\"bui\",\"close\",\"figur\",\"heard\",\"jet\",\"load\",\"lol\",\"sleep\",\"accept\",\"httpsskeptic\",\"nd\",\"process\",\"system\",\"address\",\"down\",\"even\",\"onli\",\"origin\",\"philli\",\"total\",\"group\",\"human\",\"iah\",\"leg\",\"mainten\",\"reflight\",\"share\",\"sw\",\"wast\",\"dc\",\"forward\",\"quick\",\"standbi\",\"world\",\"worri\",\"wouldn\",\"absolut\",\"as\",\"date\",\"den\",\"form\",\"glad\",\"mondai\",\"relat\",\"announc\",\"club\",\"entir\",\"ic\",\"joke\",\"resolv\",\"tv\",\"yr\",\"ad\",\"bwi\",\"ceo\",\"file\",\"loyal\",\"manag\",\"non\",\"oper\",\"where\",\"aren\",\"award\",\"case\",\"done\",\"explain\",\"locat\",\"miami\",\"name\",\"or\",\"refus\",\"screw\",\"spent\",\"swa\",\"wish\",\"word\",\"blue\",\"flew\",\"flyer\",\"hate\",\"mess\",\"over\",\"read\",\"rock\",\"usair\",\"who\",\"be\",\"correct\",\"more\",\"counter\",\"forc\",\"record\",\"ruin\",\"should\",\"supervisor\",\"taken\",\"train\",\"yeah\",\"alreadi\",\"anoth\",\"bought\",\"from\",\"fuck\",\"hopefulli\",\"mco\",\"promis\",\"someon\",\"spend\",\"support\",\"wow\",\"anyth\",\"concern\",\"continu\",\"fault\",\"pretti\",\"sundai\",\"though\",\"thumbs_up\",\"asap\",\"detail\",\"inconveni\",\"kind\",\"lt\",\"meet\",\"post\",\"report\",\"situat\",\"super\",\"access\",\"appar\",\"autom\",\"cloth\",\"door\",\"drink\",\"futur\",\"high\",\"learn\",\"safe\",\"set\",\"storm\",\"suggest\",\"transfer\",\"cabin\",\"companion\",\"fine\",\"huge\",\"readi\",\"select\",\"sign\",\"tsa\",\"atl\",\"delta\",\"feb\",\"nashvil\",\"of\",\"okai\",\"tuesdai\",\"unfortun\",\"austin\",\"bump\",\"checkin\",\"cross\",\"expir\",\"extrem\",\"flown\",\"layov\",\"probabl\",\"safeti\",\"through\",\"upset\",\"accommod\",\"atlanta\",\"could\",\"crazi\",\"easi\",\"fact\",\"folded_hand\",\"note\",\"orlando\",\"sad\",\"save\",\"submit\",\"togeth\",\"zero\",\"dont\",\"gonna\",\"ha\",\"middl\",\"mom\",\"pre\",\"prioriti\",\"seen\",\"shit\",\"shouldn\",\"state\",\"stick\",\"weekend\",\"aircraft\",\"cold\",\"daughter\",\"hand\",\"husband\",\"notic\",\"platinum\",\"reimburs\",\"space\",\"troubl\",\"water\",\"came\",\"control\",\"dividend\",\"fun\",\"loung\",\"luck\",\"matter\",\"multipl\",\"offic\",\"pouting_fac\",\"rdu\",\"sens\",\"serv\",\"wink_or_smirk\",\"birthdai\",\"consid\",\"countri\",\"despit\",\"enjoi\",\"friendli\",\"gold\",\"hello\",\"laugh\",\"listen\",\"mia\",\"mobil\",\"notif\",\"ppl\",\"rate\",\"rd\",\"round\",\"spoke\",\"tix\",\"unabl\",\"usual\",\"winter\",\"wtf\",\"yall\",\"anyon\",\"appli\",\"area\",\"babi\",\"catch\",\"code\",\"entertain\",\"excus\",\"held\",\"id\",\"impress\",\"item\",\"knew\",\"letter\",\"luv\",\"meal\",\"media\",\"mileag\",\"next\",\"notifi\",\"ny\",\"other\",\"page\",\"prefer\",\"secur\",\"stand\",\"text\",\"track\",\"true\",\"wall\",\"afternoon\",\"attitud\",\"choic\",\"cover\",\"folk\",\"fridai\",\"goe\",\"haha\",\"hasn\",\"itinerari\",\"ladi\",\"man\",\"overhead\",\"overnight\",\"red_heart\",\"short\",\"small\",\"step\",\"tag\",\"child\",\"includ\",\"mail\",\"program\",\"pull\",\"social\",\"son\",\"surpris\",\"virgin\",\"assign\",\"bit\",\"blame\",\"bna\",\"clapping_hand\",\"clear\",\"cut\",\"doe\",\"excel\",\"exist\",\"hire\",\"incompet\",\"li\",\"liter\",\"march\",\"mistak\",\"plz\",\"push\",\"ride\",\"saw\",\"sort\",\"tire\",\"win\",\"window\",\"worth\",\"advisori\",\"attempt\",\"center\",\"conf\",\"earn\",\"everyon\",\"excit\",\"explan\",\"feedback\",\"fl\",\"gone\",\"incred\",\"last\",\"nope\",\"requir\",\"reward\",\"saturdai\",\"sound\",\"stori\",\"volum\",\"web\",\"clean\",\"comput\",\"cours\",\"definit\",\"enter\",\"ey\",\"found\",\"honor\",\"kudo\",\"mention\",\"order\",\"phoenix\",\"premier\",\"receipt\",\"repres\",\"same\",\"ski\",\"about\",\"anymor\",\"break\",\"btw\",\"cs\",\"damag\",\"deplan\",\"domest\",\"dragon\",\"everi\",\"failur\",\"fan\",\"flightd\",\"frequent\",\"full\",\"funer\",\"her\",\"kept\",\"mind\",\"plai\",\"snack\",\"video\",\"view\",\"walk\",\"alwai\",\"bank\",\"blow\",\"bother\",\"by\",\"captain\",\"crying_fac\",\"deserv\",\"dollar\",\"equip\",\"expens\",\"finger\",\"flightat\",\"improv\",\"power\",\"special\",\"stuff\",\"svc\",\"takeoff\",\"unhelp\",\"warm\",\"wed\",\"au\",\"cater\",\"choos\",\"disgust\",\"experienc\",\"find\",\"mai\",\"major\",\"offici\",\"parti\",\"sell\",\"touch\",\"appear\",\"bs\",\"cc\",\"complain\",\"corpor\",\"deni\",\"especi\",\"except\",\"fair\",\"jb\",\"merg\",\"merger\",\"mexico\",\"posit\",\"remind\",\"singl\",\"sister\",\"slow\",\"some\",\"two\",\"usairwai\",\"useless\",\"weren\",\"addit\",\"altern\",\"around\",\"auto\",\"befor\",\"bird\",\"carrier\",\"emerg\",\"fill\",\"ignor\",\"interest\",\"made\",\"match\",\"nightmar\",\"nonstop\",\"onboard\",\"passbook\",\"philadelphia\",\"realiz\",\"redeem\",\"rememb\",\"rerout\",\"street\",\"suitcas\",\"tmrw\",\"visit\",\"welcom\",\"write\",\"advis\",\"battl\",\"begin\",\"broke\",\"callback\",\"cheeki\",\"confus\",\"dal\",\"damn\",\"de\",\"enough\",\"exit\",\"fantast\",\"fit\",\"forgot\",\"funni\",\"god\",\"hit\",\"imagin\",\"imposs\",\"kill\",\"overbook\",\"partner\",\"patient\",\"play\",\"print\",\"replac\",\"result\",\"rule\",\"screen\",\"stress\",\"tho\",\"trust\",\"winking_fac\",\"alert\",\"america\",\"becaus\",\"brother\",\"bu\",\"children\",\"clearli\",\"coach\",\"condit\",\"consist\",\"crash\",\"deliveri\",\"diego\",\"dismai\",\"engin\",\"fa\",\"favorit\",\"freez\",\"fyi\",\"gener\",\"hell\",\"import\",\"inflight\",\"insid\",\"internet\",\"log\",\"mad\",\"most\",\"music\",\"profit\",\"rental\",\"resolut\",\"sea\",\"seattl\",\"shame\",\"skeptic\",\"south\",\"taxi\",\"appeas\",\"avoid\",\"base\",\"basic\",\"beauti\",\"bin\",\"coffe\",\"decid\",\"dept\",\"event\",\"forev\",\"game\",\"glass\",\"gotten\",\"infant\",\"lie\",\"limit\",\"midnight\",\"nc\",\"outsid\",\"pgreat\",\"prompt\",\"rais\",\"recent\",\"shot\",\"sick\",\"solut\",\"specif\",\"stewardess\",\"till\",\"uk\",\"unbeliev\",\"unhappi\",\"weary_fac\",\"wednesdai\",\"yo\",\"act\",\"admir\",\"ahead\",\"an\",\"chairman\",\"clue\",\"commerci\",\"coupl\",\"daili\",\"degre\",\"diff\",\"discount\",\"effort\",\"els\",\"estim\",\"everyth\",\"extend\",\"fall\",\"fast\",\"fuel\",\"intl\",\"level\",\"main\",\"mon\",\"onc\",\"oscar\",\"pbi\",\"photo\",\"plenti\",\"previou\",\"put\",\"rent\",\"seem\",\"ugh\",\"yep\",\"afford\",\"angri\",\"automat\",\"ball\",\"bdai\",\"buffalo\",\"cheer\",\"cmh\",\"comp\",\"congrat\",\"decis\",\"design\",\"doubl\",\"eventu\",\"faster\",\"florida\",\"forget\",\"girl\",\"gotta\",\"hook\",\"hot\",\"jetwai\",\"journal\",\"known\",\"mark\",\"market\",\"moment\",\"mother\",\"normal\",\"park\",\"patienc\",\"pr\",\"premium\",\"prepar\",\"promo\",\"quickli\",\"red\",\"remov\",\"sale\",\"separ\",\"sold\",\"spring\",\"straight\",\"tampa\",\"thumbs_down\",\"traffic\",\"transport\",\"truli\",\"unamused_fac\",\"waiv\",\"affect\",\"ag\",\"anywai\",\"april\",\"brand\",\"cab\",\"carousel\",\"certif\",\"charact\",\"client\",\"com\",\"comfort\",\"courtesi\",\"disast\",\"divert\",\"eat\",\"either\",\"embarrass\",\"exactli\",\"exampl\",\"flier\",\"floor\",\"fund\",\"grin\",\"guarante\",\"honest\",\"hous\",\"insan\",\"interview\",\"iphon\",\"light\",\"met\",\"msg\",\"omg\",\"perfect\",\"pictur\",\"pleasant\",\"practic\",\"prevent\",\"profession\",\"public\",\"rr\",\"school\",\"silver\",\"simpli\",\"solv\",\"sun\",\"sweet\",\"tough\",\"ty\",\"type\",\"usa\",\"valu\",\"woman\",\"wont\",\"worker\",\"yell\",\"absurd\",\"advanc\",\"advantag\",\"almost\",\"arrang\",\"beat\",\"cheap\",\"click\",\"comment\",\"creat\",\"dad\",\"dull\",\"economi\",\"elit\",\"etc\",\"feet\",\"fight\",\"fort\",\"frm\",\"hare\",\"ipad\",\"jblu\",\"juan\",\"jump\",\"kick\",\"kp\",\"lead\",\"lhr\",\"local\",\"logan\",\"london\",\"low\",\"mdw\",\"nearli\",\"palm\",\"paper\",\"pathet\",\"peanut\",\"piec\",\"pit\",\"prior\",\"promot\",\"pt\",\"qualiti\",\"raspberri\",\"refer\",\"rest\",\"rsw\",\"sf\",\"shock\",\"sinc\",\"sju\",\"slc\",\"smh\",\"sos_button\",\"speed\",\"stl\",\"technic\",\"three\",\"thursdai\",\"til\",\"treatment\",\"vx\",\"wanna\",\"wheel\",\"ya\",\"acct\",\"action\",\"attent\",\"bet\",\"biz\",\"both\",\"buf\",\"cheaper\",\"cle\",\"coat\",\"columbu\",\"crappi\",\"dead\",\"death\",\"dia\",\"directli\",\"disappear\",\"discuss\",\"dog\",\"dream\",\"easili\",\"east\",\"frozen\",\"global\",\"howev\",\"immedi\",\"iv\",\"jan\",\"larg\",\"lauderdal\",\"lower\",\"militari\",\"minor\",\"near\",\"ok_hand\",\"opportun\",\"pair\",\"parent\",\"pic\",\"piss\",\"queue\",\"respect\",\"shuttl\",\"simpl\",\"sna\",\"song\",\"sooner\",\"suit\",\"texa\",\"unprofession\",\"victory_hand\",\"wheelchair\",\"ah\",\"airfar\",\"ass\",\"assum\",\"august\",\"awar\",\"bathroom\",\"bdl\",\"beach\",\"benefit\",\"black\",\"blue_heart\",\"carryon\",\"cell\",\"chair\",\"coast\",\"contest\",\"crap\",\"cun\",\"devic\",\"didnt\",\"difficult\",\"drunk\",\"easier\",\"express\",\"featur\",\"februari\",\"felt\",\"ft\",\"gear\",\"guitar\",\"hawaii\",\"higher\",\"holder\",\"honeymoon\",\"idiot\",\"inbound\",\"insult\",\"memphi\",\"million\",\"mine\",\"miser\",\"mke\",\"none\",\"nut\",\"obvious\",\"outlet\",\"pain\",\"pari\",\"part\",\"pax\",\"properli\",\"pvd\",\"raleigh\",\"ran\",\"rapid\",\"recommend\",\"releas\",\"retriev\",\"search\",\"shout\",\"size\",\"standard\",\"star\",\"student\",\"summer\",\"tpa\",\"unavail\",\"understaf\",\"weight\",\"west\",\"wet\",\"yea\",\"york\",\"yyz\",\"accord\",\"accur\",\"activ\",\"advertis\",\"balanc\",\"chat\",\"commit\",\"convers\",\"costum\",\"coupon\",\"cry\",\"disgrac\",\"doubt\",\"drove\",\"english\",\"est\",\"exact\",\"fam\",\"fi\",\"finish\",\"four\",\"freak\",\"function\",\"heart\",\"hundr\",\"hunt\",\"indic\",\"jh\",\"kiosk\",\"laptop\",\"lb\",\"legroom\",\"less\",\"lesson\",\"loyalti\",\"mani\",\"meant\",\"medic\",\"might\",\"model\",\"movi\",\"msp\",\"must\",\"nasti\",\"nj\",\"pensive_fac\",\"perform\",\"poorli\",\"prob\",\"review\",\"rip\",\"road\",\"sever\",\"sky\",\"smile\",\"someth\",\"spot\",\"term\",\"these\",\"throw\",\"tue\",\"ual\",\"va\",\"aadvantag\",\"approach\",\"approv\",\"asham\",\"ba\",\"broken_heart\",\"cancun\",\"certainli\",\"chi\",\"compass\",\"confer\",\"david\",\"defin\",\"dinner\",\"dirti\",\"disrespect\",\"due\",\"elev\",\"exec\",\"faa\",\"father\",\"field\",\"formal\",\"fraud\",\"ga\",\"garbag\",\"gift\",\"golf\",\"handler\",\"heat\",\"honestli\",\"hostag\",\"ill\",\"incid\",\"ind\",\"initi\",\"inspir\",\"int\",\"join\",\"laguardia\",\"lap\",\"memori\",\"method\",\"mileageplu\",\"mint\",\"msy\",\"okc\",\"outbound\",\"outstand\",\"ow\",\"pa\",\"pack\",\"payment\",\"perhap\",\"personnel\",\"present\",\"procedur\",\"regist\",\"repair\",\"repeat\",\"ring\",\"roundtrip\",\"sadli\",\"shitti\",\"somebodi\",\"split\",\"stroller\",\"sunni\",\"surgeri\",\"tea\",\"tech\",\"those\",\"toddler\",\"trueblu\",\"understood\",\"unus\",\"upcom\",\"valid\",\"warn\",\"yai\",\"advic\",\"agre\",\"allianc\",\"anywher\",\"apart\",\"assur\",\"australia\",\"badli\",\"band\",\"beer\",\"biggest\",\"bogota\",\"boyfriend\",\"brought\",\"bummer\",\"button\",\"california\",\"celebr\",\"central\",\"certain\",\"cleveland\",\"complimentari\",\"confused_fac\",\"cont\",\"csr\",\"cuz\",\"doesnt\",\"dozen\",\"effici\",\"em\",\"equal\",\"flightli\",\"francisco\",\"heathrow\",\"histori\",\"ici\",\"increas\",\"industri\",\"ktn\",\"lame\",\"law\",\"least\",\"loos\",\"lousi\",\"lucki\",\"mech\",\"midwai\",\"mr\",\"myself\",\"odd\",\"pittsburgh\",\"plat\",\"polic\",\"privat\",\"puerto\",\"remain\",\"republican\",\"revenu\",\"ric\",\"salt\",\"seek\",\"self\",\"shoe\",\"shortli\",\"sight\",\"sincer\",\"sjc\",\"smiling_fac\",\"smooth\",\"statement\",\"stupid\",\"teach\",\"tkt\",\"toilet\",\"transact\",\"tx\",\"unreal\",\"voic\",\"volunt\",\"washington\",\"waterburi\",\"winner\",\"young\",\"zone\",\"abc\",\"abq\",\"acknowledg\",\"ahold\",\"alright\",\"anniversari\",\"anytim\",\"applic\",\"argu\",\"articl\",\"aug\",\"await\",\"bai\",\"bare\",\"belong\",\"blog\",\"boi\",\"bonu\",\"bottl\",\"breakfast\",\"browser\",\"bug\",\"bunch\",\"ca\",\"camera\",\"canada\",\"cart\",\"cash\",\"challeng\",\"channel\",\"charleston\",\"collect\",\"combin\",\"common\",\"compar\",\"copi\",\"correctli\",\"cup\",\"curiou\",\"cx\",\"cxl\",\"danc\",\"develop\",\"dmed\",\"donat\",\"downgrad\",\"dtw\",\"dy\",\"each\",\"eastern\",\"empti\",\"ensur\",\"epic\",\"eta\",\"exchang\",\"execut\",\"fabul\",\"faith\",\"fals\",\"fb\",\"ff\",\"flat\",\"fra\",\"gr\",\"grand\",\"greet\",\"gross\",\"growing_heart\",\"guest\",\"hadn\",\"hassl\",\"horrend\",\"hou\",\"hpn\",\"huh\",\"integr\",\"irrit\",\"jack\",\"jax\",\"john\",\"jp\",\"juli\",\"karen\",\"lauren\",\"legal\",\"liveri\",\"luckili\",\"magic\",\"malfunct\",\"manner\",\"mari\",\"mci\",\"mid\",\"misplac\",\"monitor\",\"nah\",\"nation\",\"nexu\",\"noon\",\"occur\",\"outsourc\",\"paperwork\",\"party_popp\",\"passport\",\"password\",\"penalti\",\"pend\",\"period\",\"portland\",\"prai\",\"protect\",\"prove\",\"race\",\"reagan\",\"refresh\",\"rough\",\"scan\",\"scaveng\",\"segment\",\"seriou\",\"ship\",\"shut\",\"sigh\",\"skill\",\"spoken\",\"stink\",\"strike\",\"survei\",\"tablet\",\"thousand\",\"threaten\",\"ton\",\"trap\",\"truck\",\"uncomfort\",\"waiver\",\"wind\",\"abil\",\"abt\",\"agenc\",\"anticip\",\"appal\",\"appropri\",\"atroci\",\"backup\",\"badg\",\"baltimor\",\"bar\",\"belt\",\"birmingham\",\"block\",\"buck\",\"bullshit\",\"canadian\",\"chao\",\"chicken\",\"compliment\",\"confid\",\"consider\",\"content\",\"courteou\",\"ctl\",\"dealt\",\"dear\",\"decemb\",\"decent\",\"deep\",\"desper\",\"dest\",\"di\",\"die\",\"digit\",\"disorgan\",\"disregard\",\"document\",\"download\",\"dr\",\"driver\",\"dure\",\"educ\",\"ep\",\"europ\",\"explor\",\"extens\",\"fire\",\"flightst\",\"forecast\",\"forth\",\"gain\",\"girlfriend\",\"grandma\",\"harder\",\"headach\",\"him\",\"hnl\",\"hub\",\"hubbi\",\"hungri\",\"inch\",\"ing\",\"invit\",\"io\",\"januari\",\"june\",\"lifetim\",\"lit\",\"loss\",\"loui\",\"machin\",\"male\",\"membership\",\"metal\",\"mi\",\"numer\",\"octob\",\"organ\",\"pen\",\"perk\",\"pillow\",\"plastic\",\"pocket\",\"pound\",\"preboard\",\"pressur\",\"progress\",\"ps\",\"purpos\",\"raising_hand\",\"ramp\",\"rectifi\",\"redirect\",\"refuel\",\"regul\",\"reinstat\",\"relationship\",\"resch\",\"reset\",\"rico\",\"robot\",\"roc\",\"selfi\",\"shop\",\"shown\",\"snowflak\",\"spread\",\"staf\",\"stat\",\"stolen\",\"success\",\"such\",\"sxm\",\"tabl\",\"terri\",\"test\",\"thnx\",\"thru\",\"top\",\"turbul\",\"typic\",\"uh\",\"unload\",\"van\",\"vs\",\"wallet\",\"weird\",\"which\",\"white\",\"wi\",\"wine\",\"wk\",\"women\",\"wrote\",\"wth\",\"yup\",\"yvr\",\"abysm\",\"admit\",\"adopt\",\"albani\",\"although\",\"asleep\",\"aspen\",\"batteri\",\"bill\",\"blah\",\"blast\",\"bridg\",\"brilliant\",\"buddi\",\"bush\",\"cabo\",\"caller\",\"capt\",\"chase\",\"circl\",\"clarifi\",\"closer\",\"colleagu\",\"colleg\",\"color\",\"comm\",\"compet\",\"competit\",\"concours\",\"conflict\",\"constant\",\"continent\",\"contract\",\"cousin\",\"cowork\",\"cracker\",\"crewmemb\",\"crowd\",\"cvg\",\"data\",\"depend\",\"destroi\",\"detroit\",\"dial\",\"discov\",\"disnei\",\"displai\",\"dissatisfi\",\"dl\",\"dming\",\"driven\",\"dumb\",\"earth\",\"ella\",\"elsewher\",\"en\",\"enrout\",\"esp\",\"etongu\",\"evalu\",\"everytim\",\"ex\",\"exhaust\",\"exp\",\"expedit\",\"facebook\",\"fat\",\"film\",\"fortun\",\"fresh\",\"fulli\",\"getawai\",\"gf\",\"glitch\",\"goodwil\",\"grinning_fac\",\"grr\",\"gtwink\",\"happili\",\"hartford\",\"headphon\",\"heavi\",\"heck\",\"highli\",\"humor\",\"hurt\",\"impact\",\"inappropri\",\"inclement\",\"incom\",\"incur\",\"inexcus\",\"injuri\",\"intent\",\"investig\",\"involv\",\"isnt\",\"jacksonvil\",\"jose\",\"journei\",\"jt\",\"kei\",\"kinda\",\"kn\",\"licens\",\"lock\",\"lodg\",\"ly\",\"maint\",\"map\",\"massiv\",\"mem\",\"menu\",\"mex\",\"nearbi\",\"nervou\",\"nh\",\"north\",\"often\",\"ogg\",\"otherwis\",\"overal\",\"overweight\",\"own\",\"packag\",\"palm_tre\",\"pet\",\"ph\",\"physic\",\"plain\",\"planet\",\"po\",\"precheck\",\"pro\",\"proper\",\"qualifi\",\"quot\",\"rare\",\"reconsid\",\"ref\",\"regular\",\"rel\",\"reliabl\",\"remot\",\"ribbon\",\"rob\",\"savannah\",\"scale\",\"scare\",\"sec\",\"shirt\",\"side\",\"signific\",\"similar\",\"slept\",\"softwar\",\"spanish\",\"spirit\",\"steal\",\"stellar\",\"stole\",\"stood\",\"stranger\",\"stream\",\"superior\",\"tail\",\"teen\",\"tel\",\"telephon\",\"thankfulli\",\"tick\",\"tini\",\"tone\",\"truth\",\"two_heart\",\"unexpect\",\"unlik\",\"unnecessari\",\"user\",\"valuabl\",\"wake\",\"while\",\"wing\",\"without\",\"worthless\",\"written\",\"ac\",\"accid\",\"aisl\",\"alaska\",\"alon\",\"alot\",\"angel\",\"annual\",\"antonio\",\"anxiou\",\"appl\",\"appoint\",\"armrest\",\"assault\",\"atlant\",\"attach\",\"averag\",\"aviat\",\"aviv\",\"aww\",\"bae\",\"bahama\",\"bankrupt\",\"barbado\",\"bf\",\"bhm\",\"birth\",\"bk\",\"blueman\",\"boot\",\"bot\",\"bounc\",\"box\",\"burn\",\"cake\",\"cannot\",\"cant\",\"carseat\",\"centuri\",\"chariti\",\"cheat\",\"checkout\",\"chose\",\"cinci\",\"circumst\",\"closest\",\"cluster\",\"cmon\",\"competitor\",\"connector\",\"constantli\",\"consum\",\"conveni\",\"cooki\",\"corp\",\"cot\",\"crisi\",\"cute\",\"darn\",\"def\",\"delet\",\"delight\",\"desktop\",\"difficulti\",\"dime\",\"disabl\",\"divers\",\"dry\",\"dsm\",\"dump\",\"ed\",\"encount\",\"eu\",\"fastest\",\"fave\",\"fc\",\"fear\",\"fell\",\"fiasco\",\"finest\",\"flexibl\",\"fli\",\"flip\",\"flushed_fac\",\"folder\",\"foot\",\"fq\",\"fran\",\"freq\",\"gari\",\"gj\",\"green\",\"greenvil\",\"guid\",\"haiti\",\"harbor\",\"hardli\",\"hat\",\"haul\",\"hdn\",\"heavili\",\"hero\",\"hilari\",\"hop\",\"horrid\",\"hospit\",\"hv\",\"illeg\",\"inadequ\",\"incent\",\"indi\",\"ineffici\",\"inquir\",\"instruct\",\"ivr\",\"jac\",\"jacket\",\"kc\",\"kelli\",\"king\",\"kit\",\"lake\",\"lavatori\",\"lmao\",\"login\",\"louisvil\",\"lunch\",\"luxuri\",\"ma\",\"manchest\",\"manual\",\"marri\",\"md\",\"measur\",\"mislead\",\"mission\",\"mosaic\",\"mt\",\"na\",\"nantucket\",\"natur\",\"necessari\",\"neglect\",\"neglig\",\"negoti\",\"neutral_fac\",\"nite\",\"northeast\",\"notch\",\"novemb\",\"nrt\",\"omaha\",\"oop\",\"orlean\",\"overs\",\"oz\",\"pacif\",\"paint\",\"particularli\",\"partnership\",\"pat\",\"philippin\",\"pile_of_poo\",\"pj\",\"pleasur\",\"pool\",\"pop\",\"popular\",\"pqd\",\"prais\",\"predict\",\"pref\",\"pretzel\",\"pricei\",\"proactiv\",\"project\",\"proof\",\"properti\",\"proud\",\"pwm\",\"rain\",\"random\",\"rang\",\"rant\",\"rather\",\"reclin\",\"recours\",\"recov\",\"reflect\",\"regret\",\"restor\",\"rethink\",\"rno\",\"roll\",\"rush\",\"section\",\"sept\",\"septemb\",\"settl\",\"shoulder\",\"smirking_fac\",\"snowi\",\"soak\",\"somehow\",\"spam\",\"spare\",\"speedi\",\"station\",\"steamboat\",\"stock\",\"strong\",\"stt\",\"stun\",\"style\",\"suicid\",\"sympathi\",\"tab\",\"temp\",\"their\",\"thur\",\"tight\",\"tk\",\"tourist\",\"trai\",\"tremend\",\"unfriendli\",\"unknown\",\"unreli\",\"urgent\",\"utah\",\"verifi\",\"viequ\",\"visa\",\"wasnt\",\"weak\",\"wear\",\"weigh\",\"were\",\"wide\",\"wreck\",\"abandon\",\"aboard\",\"accident\",\"accordingli\",\"aggrav\",\"agt\",\"ahhhh\",\"airbu\",\"aka\",\"albuquerqu\",\"ali\",\"aliv\",\"allergi\",\"amex\",\"ana\",\"andrew\",\"angry_fac\",\"anthoni\",\"anybodi\",\"aqjn\",\"aruba\",\"asset\",\"asshol\",\"assult\",\"astound\",\"atc\",\"athlet\",\"ay\",\"az\",\"bagag\",\"bed\",\"beg\",\"bereav\",\"beverag\",\"bike\",\"bitch\",\"blanket\",\"bloodi\",\"boat\",\"boe\",\"boo\",\"booz\",\"bound\",\"brain\",\"breath\",\"bro\",\"bruh\",\"brush\",\"brutal\",\"btv\",\"cae\",\"calgari\",\"cana\",\"capabl\",\"capit\",\"carolina\",\"cat\",\"caught\",\"cert\",\"cessna\",\"ch\",\"charter\",\"chees\",\"chill\",\"china\",\"cho\",\"chocol\",\"chrome\",\"clarif\",\"classi\",\"clever\",\"cloud\",\"cocktail\",\"coincid\",\"complic\",\"concert\",\"confounded_fac\",\"consecut\",\"contain\",\"conting\",\"convinc\",\"costa\",\"couldnt\",\"cramp\",\"cranki\",\"cruis\",\"ct\",\"cuba\",\"cue\",\"cushion\",\"cxld\",\"dang\",\"dark\",\"daytona\",\"debacl\",\"deck\",\"deic\",\"del\",\"delhi\",\"dep\",\"deplor\",\"describ\",\"desir\",\"discrimin\",\"dispatch\",\"disrupt\",\"dissapoint\",\"div\",\"dot\",\"doug\",\"dpt\",\"draw\",\"duh\",\"dunno\",\"duti\",\"ear\",\"easiest\",\"ef\",\"el\",\"elderli\",\"emboss\",\"enforc\",\"engag\",\"enquir\",\"er\",\"eri\",\"es\",\"essenti\",\"establish\",\"exclus\",\"expand\",\"fav\",\"favor\",\"fed\",\"feed\",\"festiv\",\"ffl\",\"financi\",\"five\",\"flaw\",\"flex\",\"flightawar\",\"forfeit\",\"forgiv\",\"fr\",\"frankfurt\",\"further\",\"gallei\",\"gent\",\"giant\",\"gladli\",\"goal\",\"goodby\",\"googl\",\"gorgeou\",\"grab\",\"grate\",\"hahaha\",\"hanger\",\"havent\",\"hayden\",\"heart_suit\",\"henc\",\"hide\",\"hmmm\",\"holdup\",\"holi\",\"holidai\",\"honolulu\",\"host\",\"hundred_point\",\"hwnac\",\"ident\",\"idk\",\"inconvenienc\",\"incorrect\",\"incorrectli\",\"inde\",\"indianapoli\",\"input\",\"insist\",\"intend\",\"intention\",\"interact\",\"investor\",\"island\",\"itali\",\"jam\",\"jamaica\",\"jeanin\",\"jeff\",\"kgdh\",\"kphl\",\"ky\",\"lazi\",\"legitim\",\"lfulcbq\",\"lh\",\"lisa\",\"loc\",\"logic\",\"logist\",\"lowest\",\"magazin\",\"maiden\",\"med\",\"midland\",\"miler\",\"miracl\",\"mn\",\"mtg\",\"mth\",\"musician\",\"nasdaq\",\"nassau\",\"neither\",\"network\",\"nicer\",\"nl\",\"nola\",\"nonprofit\",\"nonsens\",\"norfolk\",\"norm\",\"nvr\",\"oak\",\"oakland\",\"observ\",\"oct\",\"oma\",\"oneworld\",\"ontim\",\"opinion\",\"opposit\",\"orf\",\"orig\",\"outrag\",\"overcharg\",\"owner\",\"pant\",\"partial\",\"patch\",\"paypal\",\"person_walk\",\"phil\",\"pile\",\"plate\",\"port\",\"potenti\",\"prime\",\"princess\",\"problemss\",\"proce\",\"profil\",\"protocol\",\"psp\",\"pump\",\"punta\",\"pure\",\"quicker\",\"quit\",\"randomli\",\"rank\",\"reciev\",\"recoveri\",\"reduc\",\"regard\",\"relax\",\"reli\",\"reopen\",\"rescu\",\"restrict\",\"restroom\",\"resum\",\"retain\",\"retrain\",\"rev\",\"rfxlv\",\"rica\",\"richard\",\"rid\",\"risk\",\"robin\",\"rudest\",\"sabr\",\"sacramento\",\"safari\",\"sandwich\",\"sanit\",\"santa\",\"sayin\",\"sc\",\"scam\",\"scene\",\"sched\",\"scott\",\"scream\",\"sdf\",\"seg\",\"sentiment\",\"sep\",\"seven\",\"sexual\",\"shall\",\"shannon\",\"shift\",\"shouldnt\",\"shv\",\"signal\",\"silli\",\"sing\",\"sm\",\"smallest\",\"smell\",\"smoothli\",\"snowboard\",\"sop\",\"spell\",\"srvc\",\"strang\",\"strategi\",\"subpar\",\"suffer\",\"supposedli\",\"swap\",\"sy\",\"sydnei\",\"tax\",\"tear\",\"temperatur\",\"terrif\",\"than\",\"third\",\"thoma\",\"tide\",\"tired_fac\",\"tn\",\"tom\",\"tomato\",\"tongu\",\"tonit\",\"tool\",\"toronto\",\"touchdown\",\"town\",\"trade\",\"transit\",\"trash\",\"tryin\",\"tucson\",\"txt\",\"um\",\"umm\",\"unawar\",\"under\",\"understat\",\"uniform\",\"unpleas\",\"usernam\",\"valentin\",\"version\",\"vile\",\"visibl\",\"whenev\",\"wipe\",\"wit\",\"wknd\",\"wn\",\"woo\",\"xelbon\",\"xx\",\"yest\",\"yuma\",\"zurich\",\"abus\",\"accomplish\",\"achiev\",\"addtl\",\"adjust\",\"affili\",\"aggress\",\"ain\",\"al\",\"altitud\",\"approx\",\"apr\",\"apt\",\"argument\",\"arizona\",\"arm\",\"arrog\",\"atx\",\"auh\",\"author\",\"av\",\"awak\",\"awww\",\"backlog\",\"backpack\",\"basket\",\"bat\",\"behav\",\"behavior\",\"beliz\",\"bestfriend\",\"bewar\",\"beyond\",\"billion\",\"bkk\",\"blank\",\"blatant\",\"blew\",\"blown\",\"blue_circl\",\"bois\",\"border\",\"boss\",\"bougth\",\"bout\",\"brag\",\"brave\",\"breast\",\"bright\",\"bueno\",\"build\",\"bull\",\"bum\",\"bussei\",\"buyer\",\"bv\",\"bye\",\"calendar\",\"cali\",\"cancer\",\"capac\",\"captiv\",\"captur\",\"cargo\",\"carpet\",\"cattl\",\"cb\",\"cdg\",\"cellphon\",\"centr\",\"centric\",\"charm\",\"chart\",\"checkpoint\",\"cherri\",\"chg\",\"christma\",\"citizen\",\"cll\",\"clown\",\"cnx\",\"cnxn\",\"codeshar\",\"coke\",\"columbia\",\"comedi\",\"concept\",\"congratul\",\"consol\",\"construct\",\"convo\",\"coordin\",\"court\",\"coverag\",\"cp\",\"cr\",\"cruel\",\"cultur\",\"danger\",\"dare\",\"dawn\",\"deadhead\",\"deaf\",\"dean\",\"declin\",\"dedic\",\"demand\",\"derrick\",\"determin\",\"devalu\",\"dick\",\"dig\",\"dine\",\"directtv\",\"discontinu\",\"dislik\",\"dismiss\",\"disput\",\"distanc\",\"distribut\",\"divid\",\"doctor\",\"downhil\",\"downtown\",\"dread\",\"dub\",\"dublin\",\"dude\",\"duffl\",\"durango\",\"dw\",\"eagl\",\"eco\",\"econ\",\"edit\",\"empathi\",\"encourag\",\"endless\",\"enjoy\",\"enrol\",\"entitl\",\"entri\",\"envoi\",\"err\",\"ethiopia\",\"etihad\",\"evouch\",\"evri\",\"expedia\",\"eyw\",\"fake\",\"faulti\",\"fe\",\"feder\",\"fella\",\"ferri\",\"few\",\"fewer\",\"fianc\",\"fiance\",\"flatter\",\"flgt\",\"flower\",\"fold\",\"forgotten\",\"fourth\",\"franc\",\"french\",\"fresno\",\"frigid\",\"front\",\"frontier\",\"frontrunn\",\"fu\",\"fucken\",\"furiou\",\"furrow\",\"gb\",\"gee\",\"geek\",\"geg\",\"gestur\",\"gettin\",\"glasgow\",\"globe\",\"gmail\",\"gng\",\"gnv\",\"goin\",\"gotcha\",\"grace\",\"gracia\",\"grade\",\"graduat\",\"grandfath\",\"greatest\",\"grk\",\"gso\",\"guidelin\",\"gun\",\"gx\",\"halfwai\",\"hangar\",\"happier\",\"hardwork\",\"harsh\",\"hashtag\",\"hay\",\"health\",\"heaven\",\"hemispher\",\"hidden\",\"highlight\",\"hint\",\"histor\",\"ho\",\"hole\",\"homeless\",\"hometown\",\"honei\",\"hoop\",\"hotlin\",\"hp\",\"hrl\",\"humili\",\"huntsvil\",\"imo\",\"inabl\",\"inaccur\",\"inbox\",\"incl\",\"individu\",\"inevit\",\"inferior\",\"inflat\",\"instal\",\"instrument\",\"insuffici\",\"intellig\",\"intercom\",\"interior\",\"internation\",\"into\",\"invalid\",\"invest\",\"irrespons\",\"ish\",\"isi\",\"jacqui\",\"jane\",\"janet\",\"jason\",\"jeokoo\",\"jerk\",\"jj\",\"joanna\",\"justifi\",\"jx\",\"kim\",\"kindl\",\"knee\",\"knowledg\",\"koa\",\"lag\",\"lai\",\"larger\",\"ld\",\"le\",\"lf\",\"likelihood\",\"lil\",\"lindsei\",\"livid\",\"lj\",\"lo\",\"logo\",\"lone\",\"loop\",\"lv\",\"lynn\",\"madrid\",\"maimi\",\"maintain\",\"manch\",\"marathon\",\"mass\",\"mastercard\",\"math\",\"mb\",\"mc\",\"mce\",\"meantim\",\"men\",\"merci\",\"metro\",\"mht\",\"mike\",\"minneapoli\",\"mo\",\"modifi\",\"mood\",\"moon\",\"mous\",\"movement\",\"mph\",\"ms\",\"multi\",\"murder\",\"mv\",\"mvp\",\"myer\",\"mysteri\",\"nbr\",\"neg\",\"neighbor\",\"nephew\",\"newli\",\"nicest\",\"nm\",\"nobodi\",\"nonexist\",\"noooo\",\"nothin\",\"nowher\",\"nt\",\"nw\",\"nxt\",\"oc\",\"occas\",\"occupi\",\"offload\",\"ohar\",\"ojrsdwpkk\",\"ont\",\"op\",\"opal\",\"orbitz\",\"ordeal\",\"oti\",\"ourselv\",\"outdat\",\"overflight\",\"overflow\",\"oversea\",\"oversold\",\"overwhelm\",\"painless\",\"par\",\"parker\",\"particular\",\"paso\",\"path\",\"patron\",\"pattern\",\"paulo\",\"peac\",\"peep\",\"per\",\"perman\",\"permiss\",\"perth\",\"phi\",\"pia\",\"pig\",\"pin\",\"ping\",\"pink\",\"plagu\",\"pleasantli\",\"plitt\",\"plough\",\"plow\",\"pn\",\"pnr\",\"pointless\",\"polit\",\"portion\",\"preciat\",\"preciou\",\"precipit\",\"pregnant\",\"prem\",\"presid\",\"pretend\",\"previous\",\"princ\",\"principl\",\"privileg\",\"product\",\"promptli\",\"prop\",\"pst\",\"pu\",\"qanta\",\"rachel\",\"radio\",\"ramper\",\"rcvd\",\"reader\",\"realist\",\"realiti\",\"rearrang\",\"reassign\",\"rec\",\"recheck\",\"recruit\",\"reek\",\"regardless\",\"region\",\"registr\",\"reissu\",\"relai\",\"relief\",\"repeatedli\",\"reput\",\"research\",\"resourc\",\"retir\",\"retweet\",\"reunit\",\"revers\",\"ripoff\",\"rmpkogwu\",\"rn\",\"robert\",\"royal\",\"rubber\",\"rumor\",\"rx\",\"sadden\",\"sao\",\"sauc\",\"saver\",\"sb\",\"scenario\",\"scheme\",\"scollegelondon\",\"sean\",\"season\",\"seatac\",\"secret\",\"sensit\",\"seri\",\"shade\",\"shake\",\"shrug\",\"singapor\",\"sjo\",\"sleet\",\"slide\",\"slightli\",\"slip\",\"smisek\",\"snag\",\"snowstorm\",\"soft\",\"solo\",\"sometim\",\"somewher\",\"sooo\",\"soooo\",\"soul\",\"sparkl\",\"specifi\",\"spoil\",\"sport\",\"sprint\",\"squar\",\"srq\",\"srsly\",\"staffer\",\"stall\",\"stare\",\"storag\",\"stow\",\"strai\",\"strip\",\"strongli\",\"sub\",\"subsequ\",\"sudden\",\"sun_with_fac\",\"sunglass\",\"suppli\",\"surli\",\"surviv\",\"suspect\",\"sweetheart\",\"sympathet\",\"syracus\",\"ta\",\"tailwind\",\"target\",\"tast\",\"taylor\",\"tb\",\"thankyou\",\"thanx\",\"thu\",\"tokyo\",\"toledo\",\"tortur\",\"tour\",\"trace\",\"tree\",\"trick\",\"tripl\",\"troubleshoot\",\"trvl\",\"tu\",\"tul\",\"tune\",\"turnaround\",\"twin\",\"typo\",\"univers\",\"unrel\",\"untz\",\"unusu\",\"unveil\",\"unwil\",\"ut\",\"utterli\",\"uvf\",\"vaca\",\"vallarta\",\"vc\",\"veer\",\"vegan\",\"verbal\",\"via\",\"vice\",\"vital\",\"vm\",\"voicemail\",\"void\",\"vomit\",\"vote\",\"vw\",\"warmth\",\"wave\",\"wbzorrn\",\"wc\",\"wd\",\"westchest\",\"whatev\",\"whoa\",\"wichita\",\"wld\",\"woaw\",\"woke\",\"woven\",\"wrap\",\"xc\",\"xdaili\",\"xl\",\"xna\",\"xweekli\",\"youth\",\"za\",\"zy\",\"zz\",\"aal\",\"abi\",\"abroad\",\"absorb\",\"acc\",\"accompani\",\"accru\",\"accus\",\"acquir\",\"adam\",\"adjac\",\"ador\",\"adult\",\"adv\",\"afraid\",\"agnt\",\"ai\",\"ail\",\"aim\",\"airborn\",\"ala\",\"alcohol\",\"alex\",\"allerg\",\"allevi\",\"along\",\"alt\",\"amateur\",\"amateurish\",\"amazingli\",\"amazon\",\"amen\",\"amm\",\"analyst\",\"anchorag\",\"andri\",\"android\",\"anim\",\"ann\",\"antigua\",\"anxieti\",\"ap\",\"api\",\"apologis\",\"applaud\",\"approxim\",\"ardent\",\"arent\",\"argentina\",\"arkansa\",\"armi\",\"art\",\"ashlei\",\"asia\",\"asid\",\"associ\",\"asw\",\"ath\",\"atleast\",\"attende\",\"austrian\",\"avert\",\"avi\",\"avon\",\"awhil\",\"awkward\",\"backroad\",\"bait\",\"bake\",\"ban\",\"bandwidth\",\"bangkok\",\"bankruptci\",\"barbara\",\"barclai\",\"barrier\",\"bd\",\"beautifulli\",\"began\",\"behalf\",\"behind\",\"bein\",\"belfast\",\"bellagio\",\"bench\",\"benefici\",\"bergstrom\",\"besid\",\"between\",\"bg\",\"bgm\",\"bgr\",\"bicycl\",\"bigger\",\"bio\",\"birthdat\",\"bite\",\"bizarr\",\"bless\",\"bluman\",\"bm\",\"bohol\",\"bold\",\"bom\",\"bonus\",\"boom\",\"boooo\",\"bora\",\"born\",\"bourbon\",\"boycott\",\"bp\",\"bqn\",\"bravo\",\"brazil\",\"breach\",\"breez\",\"brian\",\"broadwai\",\"brussel\",\"bt\",\"btr\",\"bttr\",\"btwn\",\"bucket\",\"budget\",\"bulkhead\",\"bumper\",\"burbank\",\"burger\",\"buse\",\"busiest\",\"butt\",\"cabl\",\"cach\",\"caffein\",\"cal\",\"camp\",\"cane\",\"canx\",\"cap\",\"career\",\"caribbean\",\"carol\",\"carsl\",\"cebu\",\"cf\",\"cha\",\"chain\",\"chaotic\",\"chapter\",\"char\",\"charger\",\"charl\",\"chief\",\"childish\",\"chip\",\"chk\",\"chkd\",\"chng\",\"chnge\",\"chosen\",\"cincinnati\",\"cite\",\"cking\",\"clarenc\",\"cld\",\"cldnt\",\"closet\",\"clueless\",\"clutch\",\"cng\",\"cockpit\",\"cocktail_glass\",\"colo\",\"colombia\",\"command\",\"commut\",\"compat\",\"compliant\",\"compound\",\"concentr\",\"condescend\",\"condom\",\"conect\",\"consult\",\"contd\",\"context\",\"convey\",\"copilot\",\"corner\",\"counti\",\"courier\",\"cpap\",\"craft\",\"crave\",\"cream\",\"creativ\",\"cri\",\"crimin\",\"css\",\"ctr\",\"cu\",\"curb\",\"curbsid\",\"curios\",\"cycl\",\"da\",\"dakota\",\"dale\",\"dbcvepn\",\"deactiv\",\"debat\",\"debit\",\"dec\",\"decenc\",\"declar\",\"deede\",\"defend\",\"deflat\",\"delayetongu\",\"delici\",\"demo\",\"dentongu\",\"deodor\",\"depress\",\"desert\",\"despic\",\"diabet\",\"dialogu\",\"diamond\",\"dice\",\"dim\",\"dinosaur\",\"disinfect\",\"displeas\",\"dissatisfact\",\"distress\",\"dmd\",\"dn\",\"dnt\",\"doc\",\"doll\",\"dominican\",\"donkei\",\"donut\",\"doo\",\"draft\",\"dramat\",\"dre\",\"dress\",\"dupe\",\"earliest\",\"earlybird\",\"earthquak\",\"eb\",\"ee\",\"effect\",\"eh\",\"elabor\",\"electr\",\"electron\",\"elig\",\"eliz\",\"elm\",\"embassi\",\"emerald\",\"emp\",\"empath\",\"emploi\",\"employ\",\"emv\",\"endlessli\",\"energi\",\"enterpris\",\"entranc\",\"entre\",\"enuf\",\"environ\",\"eofthgaj\",\"erj\",\"escap\",\"etern\",\"everybodi\",\"everywher\",\"evid\",\"exce\",\"exercis\",\"expedi\",\"expos\",\"extent\",\"fab\",\"fairli\",\"fallow\",\"fashion\",\"fate\",\"fax\",\"fd\",\"fece\",\"femal\",\"filthi\",\"finder\",\"finnair\",\"firefox\",\"flashlight\",\"flght\",\"flightedflight\",\"flightledflight\",\"fligt\",\"fligth\",\"flite\",\"flow\",\"flyfi\",\"fm\",\"fo\",\"focus\",\"fool\",\"foolish\",\"foreign\",\"forgiven\",\"formula\",\"frank\",\"frankli\",\"frequenc\",\"fri\",\"friendliest\",\"fritz\",\"fro\",\"fron\",\"fs\",\"ftw\",\"fuk\",\"fulfil\",\"fw\",\"fx\",\"fy\",\"gaga\",\"gainesvil\",\"gal\",\"gangwai\",\"gatwick\",\"gd\",\"geez\",\"gem\",\"geniu\",\"gentleman\",\"genuin\",\"georg\",\"gfc\",\"glove\",\"glowing_star\",\"gluten\",\"goblin\",\"gogh\",\"gogo\",\"gosh\",\"gpu\",\"graciou\",\"grai\",\"grandmoth\",\"grant\",\"graphic\",\"greater\",\"greedi\",\"grimacing_fac\",\"grow\",\"grown\",\"grp\",\"gsp\",\"guidanc\",\"gunna\",\"gxdqortss\",\"gy\",\"hack\",\"hah\",\"hail\",\"hair\",\"handi\",\"handicap\",\"hangup\",\"hannah\",\"havoc\",\"hawaiian\",\"hb\",\"hd\",\"heel\",\"hep\",\"herman\",\"herndon\",\"hf\",\"hh\",\"hmm\",\"hn\",\"hoo\",\"hoot\",\"hormon\",\"horrif\",\"horror\",\"hors\",\"hot_beverag\",\"hotspot\",\"hotter\",\"hs\",\"hsv\",\"ht\",\"hug\",\"humour\",\"hurri\",\"huston\",\"hve\",\"hy\",\"hypocrisi\",\"iberia\",\"iceland\",\"ideal\",\"iflyswa\",\"ih\",\"il\",\"ilc\",\"imma\",\"impati\",\"impend\",\"imperson\",\"inc\",\"incident\",\"inconsider\",\"inconsist\",\"inconvi\",\"india\",\"inept\",\"infuri\",\"injur\",\"innov\",\"inop\",\"inquiri\",\"insight\",\"inspect\",\"instagram\",\"insur\",\"intact\",\"internship\",\"intro\",\"invoic\",\"iowa\",\"ireland\",\"irrop\",\"isp\",\"itin\",\"itself\",\"jackass\",\"jackson\",\"jealou\",\"ji\",\"jim\",\"jimmi\",\"jk\",\"jkf\",\"jm\",\"joe\",\"js\",\"jun\",\"junk\",\"kai\",\"kat\",\"kate\",\"kb\",\"kci\",\"kelsei\",\"kevin\",\"kewl\",\"kf\",\"ki\",\"kiss\",\"kitti\",\"kj\",\"km\",\"knoxvil\",\"korea\",\"kristi\",\"kul\",\"kv\",\"labor\",\"lan\",\"lane\",\"languag\",\"largest\",\"larri\",\"lawsuit\",\"leadership\",\"leagu\",\"leak\",\"led\",\"legaci\",\"legit\",\"lemm\",\"length\",\"lexington\",\"liabl\",\"liar\",\"lift\",\"lima\",\"loan\",\"loaner\",\"lookin\",\"looong\",\"loooooong\",\"lord\",\"loser\",\"loud\",\"lucia\",\"lufthansa\",\"lug\",\"lung\",\"lusaka\",\"lx\",\"mac\",\"madden\",\"makeup\",\"mammoth\",\"maneuv\",\"marshal\",\"master\",\"mate\",\"maui\",\"mde\",\"meaning\",\"meanwhil\",\"medal\",\"meelan\",\"meh\",\"mel\",\"memo\",\"mere\",\"mgr\",\"michel\",\"mideast\",\"midght\",\"milan\",\"minimum\",\"miriam\",\"misfortun\",\"misinform\",\"mistreat\",\"misunderstood\",\"mitchel\",\"mite\",\"mix\",\"ml\",\"mnl\",\"modif\",\"moin\",\"momma\",\"montego\",\"monthli\",\"moodlight\",\"morrow\",\"motel\",\"motion\",\"motto\",\"mountain\",\"mouth\",\"mp\",\"mtongu\",\"myrtl\",\"nail\",\"nap\",\"narita\",\"narrow\",\"navig\",\"naxbu\",\"necess\",\"nerd\",\"newburgh\",\"nigga\",\"nitrogen\",\"nonrefund\",\"nor\",\"norma\",\"nov\",\"num\",\"nvm\",\"obnoxi\",\"obviou\",\"offend\",\"offens\",\"oil\",\"oncoming_fist\",\"oppos\",\"opt\",\"oq\",\"oqukso\",\"orang\",\"oregon\",\"org\",\"orl\",\"os\",\"ot\",\"ottawa\",\"oui\",\"outag\",\"outfit\",\"overh\",\"overhaul\",\"overheard\",\"overload\",\"overpr\",\"oversel\",\"oy\",\"panamerican\",\"pandora\",\"panic\",\"partli\",\"passiv\",\"patrick\",\"pd\",\"pedro\",\"perfectli\",\"perspect\",\"pf\",\"pg\",\"pgh\",\"phenomen\",\"phn\",\"pho\",\"phrase\",\"pita\",\"piti\",\"pitt\",\"platitud\",\"player\",\"plead\",\"pleaseee\",\"plot\",\"plug\",\"popul\",\"portfolio\",\"possess\",\"postcod\",\"postpon\",\"poughkeepsi\",\"pqm\",\"prebook\",\"preflight\",\"press\",\"prev\",\"priceless\",\"printer\",\"priorit\",\"prize\",\"produc\",\"professor\",\"prohibit\",\"prom\",\"provo\",\"publicli\",\"puls\",\"puppi\",\"purple_heart\",\"pv\",\"pvg\",\"pw\",\"qc\",\"qd\",\"qh\",\"quarter\",\"que\",\"queri\",\"quiet\",\"quirki\",\"qw\",\"rage\",\"ramada\",\"raspberryhx\",\"rave\",\"react\",\"reaction\",\"reactiv\",\"rear\",\"reboard\",\"reboot\",\"recap\",\"recogn\",\"reddit\",\"redempt\",\"referr\",\"refrain\",\"refsd\",\"regularli\",\"reject\",\"relev\",\"remedi\",\"remors\",\"reno\",\"repost\",\"req\",\"resend\",\"resort\",\"reunion\",\"reveal\",\"rez\",\"rhonda\",\"ricoh\",\"rifl\",\"rise\",\"rito\",\"rivet\",\"roast\",\"roberto\",\"rocki\",\"roger\",\"roller\",\"rooki\",\"rotten\",\"routin\",\"rtb\",\"ru\",\"rub\",\"rubbish\",\"rum\",\"russia\",\"ruth\",\"saga\",\"salli\",\"samartzi\",\"sampl\",\"sand\",\"saniti\",\"sapphir\",\"sarcasm\",\"sarcast\",\"sass\",\"satisfact\",\"satisfactori\",\"sav\",\"sba\",\"scatter\",\"sch\",\"scienc\",\"scotch\",\"scratch\",\"screenshot\",\"seam\",\"seatbelt\",\"sedholm\",\"senior\",\"sentinel\",\"setup\",\"sh\",\"shampoo\",\"shanghai\",\"shawn\",\"shenanigan\",\"shld\",\"shoddi\",\"shortag\",\"shortcom\",\"shoutout\",\"shuffl\",\"si\",\"sibl\",\"significantli\",\"silenc\",\"silicon\",\"sir\",\"sittin\",\"six\",\"sizer\",\"sj\",\"sjd\",\"skateboard\",\"sked\",\"skin\",\"skip\",\"skycap\",\"sl\",\"sld\",\"sleekmonei\",\"slight\",\"slot\",\"slower\",\"slowest\",\"slowli\",\"smaller\",\"smart\",\"smash\",\"smirkal\",\"smirken\",\"smoke\",\"smoothest\",\"sn\",\"snap\",\"snapchat\",\"sob\",\"solid\",\"somewhat\",\"sooooo\",\"sorta\",\"sour\",\"southern\",\"sp\",\"spectacular\",\"spf\",\"spill\",\"spite\",\"spotti\",\"sprinkl\",\"squawk\",\"stair\",\"standby\",\"startl\",\"starv\",\"steam\",\"steel\",\"steer\",\"steve\",\"sti\",\"sticker\",\"stndby\",\"stoke\",\"stone\",\"store\",\"straight_fac\",\"straighten\",\"stretch\",\"strive\",\"structur\",\"struggl\",\"subscrib\",\"substitut\",\"sue\",\"sunset\",\"sunshin\",\"surround\",\"susan\",\"swamp\",\"swear\",\"sweepstak\",\"swell\",\"swiss\",\"swu\",\"sync\",\"syr\",\"tactic\",\"taiwan\",\"tamara\",\"tammi\",\"tank\",\"tape\",\"tarmack\",\"technolog\",\"teco\",\"televis\",\"ten\",\"tf\",\"thaw\",\"themselv\",\"thirti\",\"thk\",\"thread\",\"thrill\",\"thrown\",\"thy\",\"tim\",\"timco\",\"timeli\",\"tip\",\"tisk\",\"tld\",\"tlh\",\"tmw\",\"tnx\",\"tock\",\"toiletri\",\"toss\",\"tr\",\"transatlant\",\"transf\",\"transpar\",\"traveloc\",\"trend\",\"trial\",\"troubadour\",\"tryna\",\"tulsa\",\"turkish\",\"tweeter\",\"txfd\",\"tyr\",\"ui\",\"uj\",\"un\",\"unaccompani\",\"unanticip\",\"uncal\",\"uncar\",\"uncl\",\"uncontrol\",\"uncool\",\"unimpress\",\"unmonitor\",\"unnecessarili\",\"unorgan\",\"unsaf\",\"unschedul\",\"unspecifi\",\"unsur\",\"unsympathet\",\"upgd\",\"uphold\",\"upload\",\"upstat\",\"uq\",\"urgenc\",\"usd\",\"uu\",\"ux\",\"uxzj\",\"vacai\",\"vallei\",\"variou\",\"vdi\",\"vent\",\"versu\",\"vet\",\"vetr\",\"vhgkitzsaw\",\"vibe\",\"vicki\",\"villag\",\"vineyard\",\"vinyl\",\"violat\",\"virginamerica\",\"virtual\",\"vo\",\"vp\",\"vu\",\"vuelo\",\"vz\",\"waitin\",\"waitlist\",\"wander\",\"ward\",\"warehous\",\"warmer\",\"wat\",\"waving_hand\",\"wayn\",\"weari\",\"western\",\"westjet\",\"whisper\",\"whoever\",\"wht\",\"wine_glass\",\"winston\",\"wire\",\"wkrb\",\"woohoo\",\"workaround\",\"worthi\",\"woulda\",\"wound\",\"wrongfulli\",\"ws\",\"wsj\",\"wudda\",\"wut\",\"wx\",\"xd\",\"yard\",\"yearli\",\"younger\",\"yourself\",\"youv\",\"yummi\",\"yvonn\",\"yw\",\"ywg\",\"yx\",\"yyj\",\"ze\",\"zf\",\"zi\",\"zoom\",\"zq\",\"zr\",\"zv\",\"aaaand\",\"aadavantag\",\"aadv\",\"aai\",\"aakjumxa\",\"aaron\",\"aau\",\"aavvoreph\",\"ab\",\"aback\",\"abassinet\",\"abbrev\",\"abduct\",\"aboout\",\"abound\",\"abprg\",\"absoulut\",\"absurdli\",\"abtwf\",\"abund\",\"abxrq\",\"acarl\",\"acceler\",\"accomid\",\"accumul\",\"acebo\",\"acfqcdq\",\"aci\",\"ack\",\"acosta\",\"acoust\",\"acpt\",\"acquisit\",\"across\",\"actuali\",\"ada\",\"adapt\",\"addition\",\"additon\",\"addr\",\"admin\",\"adress\",\"advan\",\"adventur\",\"advi\",\"advsri\",\"aeroport\",\"aesthet\",\"aex\",\"af\",\"affair\",\"afili\",\"aflam\",\"aforement\",\"african\",\"aft\",\"afteral\",\"afterward\",\"aftr\",\"agfd\",\"agian\",\"agpb\",\"agr\",\"agreement\",\"agum\",\"aha\",\"ahah\",\"ahem\",\"ahhhhh\",\"ahlxhhkiyn\",\"ahoi\",\"aiecraft\",\"aircrft\",\"airlinegav\",\"airportcardio\",\"airpt\",\"airserv\",\"airsid\",\"airspac\",\"airstair\",\"airtran\",\"aitzl\",\"aiyc\",\"aj\",\"ajm\",\"ajz\",\"ak\",\"akron\",\"aktg\",\"alabama\",\"alamo\",\"alan\",\"alarm\",\"alavera\",\"alb\",\"albeit\",\"album\",\"albuqu\",\"align\",\"alison\",\"alist\",\"alittl\",\"alittlebett\",\"allan\",\"allend\",\"allll\",\"allowabl\",\"allreadi\",\"allright\",\"amarillo\",\"ambassador\",\"ambival\",\"amend\",\"ami\",\"amid\",\"amiga\",\"amirit\",\"amiw\",\"amnt\",\"among\",\"amount\",\"amsterdam\",\"amt\",\"amtrak\",\"analyt\",\"anarchi\",\"anderson\",\"aneqxzr\",\"angelo\",\"anger\",\"angl\",\"angriest\",\"angrybird\",\"angst\",\"anna\",\"annamari\",\"anni\",\"annnndddd\",\"annnnddddd\",\"annnnnd\",\"ant\",\"anti\",\"anyhelp\",\"anythin\",\"aoeaeszdlx\",\"aopdtsq\",\"aormfkac\",\"aou\",\"apathet\",\"apathi\",\"apear\",\"apiau\",\"apnea\",\"apostroph\",\"appeal\",\"applaus\",\"appleton\",\"appropro\",\"appt\",\"apron\",\"aprzspxig\",\"aptzpurop\",\"apx\",\"aqa\",\"aquadilla\",\"aqzwecokk\",\"arab\",\"arbitrari\",\"arbitrarili\",\"arc\",\"archaic\",\"arena\",\"argg\",\"argh\",\"aricyq\",\"aros\",\"arpt\",\"artisan\",\"aruna\",\"arvl\",\"asgmnt\",\"ash\",\"asha\",\"assignetongu\",\"assuag\",\"astonished_fac\",\"astoria\",\"asu\",\"asuwx\",\"asyq\",\"atct\",\"atd\",\"ateafnc\",\"atfrkp\",\"athau\",\"att\",\"attain\",\"attdt\",\"attir\",\"attitudi\",\"attndt\",\"atu\",\"atwyifh\",\"auckland\",\"aucsykfuhd\",\"auction\",\"audienc\",\"audio\",\"audit\",\"auditorium\",\"auf\",\"aufm\",\"augjscmolu\",\"aunt\",\"aunti\",\"aurn\",\"aussi\",\"austic\",\"authorit\",\"automobil\",\"autorespons\",\"auzu\",\"availab\",\"aval\",\"avatar\",\"avbdstjuj\",\"avenu\",\"avg\",\"avio\",\"avp\",\"avrtowtyzk\",\"avyqdmpi\",\"awdbw\",\"awesomee\",\"awfulli\",\"awgjkjiiac\",\"awheelchair\",\"awol\",\"awqtln\",\"awrd\",\"ax\",\"axeo\",\"axlqzwvh\",\"axpn\",\"axryeiwzh\",\"aygaoeb\",\"aypyadui\",\"ayyi\",\"azltjhf\",\"aztdaer\",\"bach\",\"backward\",\"backyard\",\"badbadbad\",\"baejet\",\"bafor\",\"baggagefail\",\"bagtag\",\"bail\",\"bailei\",\"baim\",\"baldwin\",\"ballbag\",\"ballin\",\"balloon\",\"balt\",\"banana\",\"bape\",\"barcod\",\"bark\",\"barklai\",\"barnum\",\"barrel\",\"barzegar\",\"bash\",\"basketbal\",\"bass\",\"batman\",\"bayepzkmiz\",\"bbaonx\",\"bbhtlzgh\",\"bbj\",\"bbm\",\"bbzijwfdl\",\"bcn\",\"bcuz\",\"bcwckwtnle\",\"bcz\",\"bdng\",\"bdrxfn\",\"bdtldx\",\"bduauzfhw\",\"bean\",\"beani\",\"bear\",\"bearabl\",\"beareav\",\"beatriz\",\"beautiful\",\"bec\",\"becki\",\"becuas\",\"becuz\",\"begrudgingli\",\"begun\",\"beij\",\"belabor\",\"belief\",\"belliger\",\"belov\",\"below\",\"ben\",\"benadryl\",\"bene\",\"beought\",\"beqotlnugc\",\"berlin\",\"besti\",\"beta\",\"betch\",\"betsi\",\"betterfrown\",\"betti\",\"bettween\",\"bevi\",\"bff\",\"bfpfw\",\"bgbtq\",\"bgtjfmneot\",\"bh\",\"bham\",\"bhjvaa\",\"bhooiyt\",\"bi\",\"bibl\",\"bicep\",\"bid\",\"biggi\",\"bijlxat\",\"bil\",\"bila\",\"billmel\",\"bingo\",\"birder\",\"biscuit\",\"bitchi\",\"bitcoin\",\"bitti\",\"bjnz\",\"bjwgoap\",\"bked\",\"bkmfei\",\"bl\",\"blackish\",\"blacklist\",\"blackmail\",\"blade\",\"blanc\",\"blatantli\",\"blatimor\",\"blazer\",\"bleed\",\"blegh\",\"bleh\",\"blind\",\"blindsid\",\"blizzard\",\"blizzu\",\"bloat\",\"blood\",\"blueti\",\"blwgwa\",\"blx\",\"bmc\",\"bmi\",\"bmij\",\"bmk\",\"bnflhpxtmw\",\"bng\",\"bngpli\",\"boardingpass\",\"boavxi\",\"bobbi\",\"bodi\",\"boggl\",\"boh\",\"boil\",\"bone\",\"bonni\",\"boofin\",\"bookabl\",\"booklet\",\"bool\",\"booo\",\"boost\",\"booster\",\"bootbag\",\"bop\",\"borderlin\",\"bore\",\"borrow\",\"bosnia\",\"boson\",\"botch\",\"bottom\",\"bouncer\",\"boundless\",\"bowl\",\"bozo\",\"bpb\",\"bpdfpp\",\"bq\",\"bqiw\",\"br\",\"bracket\",\"bradlei\",\"brancato\",\"brandi\",\"brcsjbxg\",\"brd\",\"bread\",\"breakdown\",\"breaker\",\"breastfeed\",\"breavement\",\"breezi\",\"brendan\",\"brent\",\"bride\",\"bridesmaid\",\"brief\",\"brighter\",\"bringin\",\"brink\",\"brisk\",\"brittani\",\"briughi\",\"broad\",\"brochur\",\"brood\",\"brooklyn\",\"brotha\",\"brothaaaaaa\",\"brt\",\"bru\",\"bruin\",\"bryant\",\"bsi\",\"bso\",\"bsuxlu\",\"btb\",\"bttgmyn\",\"bttzf\",\"btvpxtzju\",\"btvtb\",\"bubbl\",\"budapest\",\"buggi\",\"built\",\"buis\",\"buj\",\"bulb\",\"bulli\",\"bundl\",\"bur\",\"burden\",\"bureau\",\"burg\",\"burgundi\",\"burlington\",\"burrito\",\"burrough\",\"burst\",\"businessfirst\",\"bussin\",\"bust\",\"butnot\",\"buwjtvuwkm\",\"buyback\",\"buzj\",\"buzz\",\"buzzkil\",\"bvexmcj\",\"bvfaxdubaq\",\"bvl\",\"bvzty\",\"bwahahaha\",\"bxlk\",\"bxwg\",\"byackc\",\"byn\",\"bypass\",\"bz\",\"bze\",\"bzqzqxlaugh\",\"bzwgp\",\"cabaret\",\"cabcel\",\"cac\",\"caf\",\"cafe\",\"cai\",\"cak\",\"calam\",\"calderon\",\"calibr\",\"calm\",\"calv\",\"campaign\",\"campu\",\"canadaair\",\"cancld\",\"candac\",\"candi\",\"candic\",\"canist\",\"canld\",\"captiveaudi\",\"cardhold\",\"caren\",\"carlton\",\"carmen\",\"carolin\",\"carta\",\"cartagena\",\"cartago\",\"cascino\",\"casimir\",\"casual\",\"categori\",\"cathai\",\"cathi\",\"caution\",\"caval\",\"cavan\",\"cave\",\"cbr\",\"cbv\",\"ccndjp\",\"cco\",\"cdj\",\"cdn\",\"cdt\",\"cdzhtyd\",\"ce\",\"ceas\",\"ceeenj\",\"cefa\",\"cehroeurc\",\"celeb\",\"cement\",\"cent\",\"centerl\",\"cesspool\",\"cevi\",\"cfhtk\",\"cfi\",\"cfpohl\",\"cfrlqbe\",\"cfv\",\"cfyhkvb\",\"cfzdjmn\",\"cgfv\",\"cgreat\",\"cgroup\",\"cgwe\",\"chalk\",\"champagn\",\"championship\",\"changer\",\"chantilli\",\"chaperon\",\"chapman\",\"charac\",\"character\",\"chariot\",\"charlot\",\"chath\",\"chd\",\"cheapest\",\"checker\",\"chedul\",\"cheek\",\"cheesi\",\"cheez\",\"chef\",\"chemistri\",\"chequ\",\"chewei\",\"chgd\",\"chge\",\"chging\",\"chgy\",\"chilli\",\"chines\",\"chipper\",\"chkin\",\"chking\",\"chkout\",\"chl\",\"chock\",\"choppi\",\"choppiest\",\"choxkpjp\",\"christin\",\"chronolog\",\"chuckhol\",\"church\",\"churn\",\"ci\",\"cid\",\"cigarett\",\"cih\",\"cinnabon\",\"circuit\",\"circul\",\"civil\",\"cjg\",\"cjsvssqf\",\"cju\",\"ckg\",\"ckin\",\"cl\",\"clarion\",\"clarita\",\"classic\",\"classiq\",\"claudia\",\"cleanli\",\"clearanc\",\"clgiu\",\"clifton\",\"clincher\",\"cling\",\"clo\",\"clob\",\"clockwork\",\"clog\",\"closur\",\"clu\",\"club_\",\"clunki\",\"clusterfuck\",\"clvlhfguzw\",\"cm\",\"cmjriwop\",\"cmo\",\"cncdld\",\"cnceld\",\"cncld\",\"cncled\",\"cnctl\",\"coathang\",\"cockroach\",\"coffeemak\",\"coffin\",\"coin\",\"colder\",\"coldli\",\"cole\",\"collid\",\"colombian\",\"colonist\",\"coloss\",\"colour\",\"columbian\",\"coma\",\"comb\",\"combat\",\"combo\",\"comcast\",\"comed\",\"comedian\",\"comen\",\"comic\",\"comin\",\"commenc\",\"commend\",\"commiss\",\"communist\",\"compact\",\"comparison\",\"compart\",\"compassion\",\"complex\",\"complt\",\"compton\",\"con\",\"concierg\",\"concret\",\"cond\",\"condescens\",\"condo\",\"condol\",\"config\",\"confront\",\"congest\",\"conjunct\",\"conn\",\"connectfor\",\"connectin\",\"connectn\",\"connet\",\"connex\",\"connolli\",\"consequ\",\"constitut\",\"consumpt\",\"contac\",\"contactless\",\"contagi\",\"contempt\",\"contend\",\"contractor\",\"contradictori\",\"contribut\",\"conv\",\"convei\",\"conveyor\",\"cooker\",\"cooler\",\"cop\",\"copa\",\"copai\",\"copx\",\"core\",\"cori\",\"corni\",\"correl\",\"correspond\",\"corrupt\",\"coshar\",\"cosmet\",\"cough\",\"counterpart\",\"countless\",\"courrier\",\"courtnei\",\"courtsei\",\"covert\",\"cowardli\",\"cowboi\",\"cowgirl\",\"cozi\",\"cpu\",\"cpypgfnd\",\"cpzb\",\"cqmm\",\"crabbi\",\"cram\",\"crape\",\"crappiest\",\"crate\",\"crawl\",\"credenti\",\"credibl\",\"crfrwpc\",\"crib\",\"cricket\",\"cristian\",\"criteria\",\"critic\",\"crj\",\"crook\",\"cross_mark\",\"crosswind\",\"crossword\",\"crucial\",\"crumb\",\"crutch\",\"cruz\",\"crw\"],\"x1\":{\"__ndarray__\":\"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\",\"dtype\":\"float32\",\"order\":\"little\",\"shape\":[5002]},\"x2\":{\"__ndarray__\":\"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\",\"dtype\":\"float32\",\"order\":\"little\",\"shape\":[5002]}},\"selected\":{\"id\":\"1369\"},\"selection_policy\":{\"id\":\"1370\"}},\"id\":\"1327\",\"type\":\"ColumnDataSource\"},{\"attributes\":{},\"id\":\"1308\",\"type\":\"LinearScale\"},{\"attributes\":{},\"id\":\"1306\",\"type\":\"LinearScale\"},{\"attributes\":{\"active_multi\":null,\"tools\":[{\"id\":\"1318\"},{\"id\":\"1319\"},{\"id\":\"1320\"},{\"id\":\"1321\"}]},\"id\":\"1322\",\"type\":\"Toolbar\"},{\"attributes\":{},\"id\":\"1321\",\"type\":\"SaveTool\"},{\"attributes\":{\"axis\":{\"id\":\"1310\"},\"ticker\":null},\"id\":\"1313\",\"type\":\"Grid\"},{\"attributes\":{\"fill_color\":{\"field\":\"color\"},\"line_color\":{\"value\":\"#1f77b4\"},\"size\":{\"value\":8},\"x\":{\"field\":\"x1\"},\"y\":{\"field\":\"x2\"}},\"id\":\"1329\",\"type\":\"Scatter\"},{\"attributes\":{},\"id\":\"1319\",\"type\":\"WheelZoomTool\"},{\"attributes\":{},\"id\":\"1304\",\"type\":\"DataRange1d\"},{\"attributes\":{\"formatter\":{\"id\":\"1367\"},\"major_label_policy\":{\"id\":\"1366\"},\"ticker\":{\"id\":\"1311\"}},\"id\":\"1310\",\"type\":\"LinearAxis\"},{\"attributes\":{},\"id\":\"1369\",\"type\":\"Selection\"},{\"attributes\":{},\"id\":\"1318\",\"type\":\"PanTool\"},{\"attributes\":{},\"id\":\"1320\",\"type\":\"ResetTool\"},{\"attributes\":{},\"id\":\"1366\",\"type\":\"AllLabels\"},{\"attributes\":{},\"id\":\"1311\",\"type\":\"BasicTicker\"},{\"attributes\":{},\"id\":\"1370\",\"type\":\"UnionRenderers\"},{\"attributes\":{},\"id\":\"1367\",\"type\":\"BasicTickFormatter\"},{\"attributes\":{},\"id\":\"1364\",\"type\":\"BasicTickFormatter\"},{\"attributes\":{\"source\":{\"id\":\"1327\"}},\"id\":\"1332\",\"type\":\"CDSView\"},{\"attributes\":{\"data_source\":{\"id\":\"1327\"},\"glyph\":{\"id\":\"1329\"},\"hover_glyph\":null,\"muted_glyph\":null,\"nonselection_glyph\":{\"id\":\"1330\"},\"view\":{\"id\":\"1332\"}},\"id\":\"1331\",\"type\":\"GlyphRenderer\"},{\"attributes\":{\"source\":{\"id\":\"1327\"},\"text\":{\"field\":\"names\"},\"text_align\":{\"value\":\"center\"},\"text_color\":{\"value\":\"#555555\"},\"text_font_size\":{\"value\":\"8pt\"},\"x\":{\"field\":\"x1\"},\"y\":{\"field\":\"x2\"},\"y_offset\":{\"value\":6}},\"id\":\"1333\",\"type\":\"LabelSet\"}],\"root_ids\":[\"1299\"]},\"title\":\"Bokeh Application\",\"version\":\"2.3.0\"}};\n",
              "  var render_items = [{\"docid\":\"c40efc50-c131-4ea1-99f8-9666ee4ae242\",\"root_ids\":[\"1299\"],\"roots\":{\"1299\":\"7f7a5299-6b9f-4e84-a561-fe8a441068d5\"}}];\n",
              "  root.Bokeh.embed.embed_items_notebook(docs_json, render_items);\n",
              "\n",
              "  }\n",
              "  if (root.Bokeh !== undefined) {\n",
              "    embed_document(root);\n",
              "  } else {\n",
              "    var attempts = 0;\n",
              "    var timer = setInterval(function(root) {\n",
              "      if (root.Bokeh !== undefined) {\n",
              "        clearInterval(timer);\n",
              "        embed_document(root);\n",
              "      } else {\n",
              "        attempts++;\n",
              "        if (attempts > 100) {\n",
              "          clearInterval(timer);\n",
              "          console.log(\"Bokeh: ERROR: Unable to run BokehJS code because BokehJS library is missing\");\n",
              "        }\n",
              "      }\n",
              "    }, 10, root)\n",
              "  }\n",
              "})(window);"
            ],
            "application/vnd.bokehjs_exec.v0+json": ""
          },
          "metadata": {
            "tags": [],
            "application/vnd.bokehjs_exec.v0+json": {
              "id": "1299"
            }
          }
        }
      ]
    }
  ]
}