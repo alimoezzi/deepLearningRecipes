{
  "nbformat": 4,
  "nbformat_minor": 0,
  "metadata": {
    "colab": {
      "name": "pytorch_twitter_sentiment_analysis.ipynb",
      "provenance": []
    },
    "kernelspec": {
      "display_name": "Python 3",
      "language": "python",
      "name": "python3"
    },
    "language_info": {
      "codemirror_mode": {
        "name": "ipython",
        "version": 3
      },
      "file_extension": ".py",
      "mimetype": "text/x-python",
      "name": "python",
      "nbconvert_exporter": "python",
      "pygments_lexer": "ipython3",
      "version": "3.7.4"
    },
    "toc": {
      "base_numbering": 1,
      "nav_menu": {},
      "number_sections": true,
      "sideBar": true,
      "skip_h1_title": false,
      "title_cell": "Table of Contents",
      "title_sidebar": "Contents",
      "toc_cell": false,
      "toc_position": {},
      "toc_section_display": true,
      "toc_window_display": false
    },
    "varInspector": {
      "cols": {
        "lenName": 16,
        "lenType": 16,
        "lenVar": 40
      },
      "kernels_config": {
        "python": {
          "delete_cmd_postfix": "",
          "delete_cmd_prefix": "del ",
          "library": "var_list.py",
          "varRefreshCmd": "print(var_dic_list())"
        },
        "r": {
          "delete_cmd_postfix": ") ",
          "delete_cmd_prefix": "rm(",
          "library": "var_list.r",
          "varRefreshCmd": "cat(var_dic_list()) "
        }
      },
      "types_to_exclude": [
        "module",
        "function",
        "builtin_function_or_method",
        "instance",
        "_Feature"
      ],
      "window_display": false
    },
    "accelerator": "GPU"
  },
  "cells": [
    {
      "cell_type": "markdown",
      "metadata": {
        "collapsed": true,
        "id": "oYCfnhWzJrUI",
        "pycharm": {
          "name": "#%% md\n"
        }
      },
      "source": [
        "# Twitter Sentiment Analysis Pytorch"
      ]
    },
    {
      "cell_type": "code",
      "metadata": {
        "colab": {
          "base_uri": "https://localhost:8080/"
        },
        "id": "MS1rkSnEJrUQ",
        "pycharm": {
          "name": "#%%\n"
        },
        "outputId": "74aaf687-2192-429a-9650-5aee8d25472f"
      },
      "source": [
        "import numpy as np\n",
        "import pandas as pd\n",
        "import csv\n",
        "import re\n",
        "import imblearn\n",
        "import torch\n",
        "from nltk.corpus import stopwords\n",
        "from gensim.parsing.porter import PorterStemmer\n",
        "from gensim.utils import tokenize\n",
        "from gensim.utils import simple_preprocess\n",
        "from gensim.parsing.preprocessing import remove_stopwords\n",
        "import torch.nn as nn\n",
        "import torch.nn.functional as F\n",
        "import torch.optim as optim\n",
        "from torch.autograd import Variable\n",
        "import torch\n",
        "from torchtext.legacy import data\n",
        "# from torchtext import data\n",
        "import matplotlib.pyplot as plt\n",
        "import seaborn as sb\n",
        "from sklearn.metrics import accuracy_score\n",
        "from sklearn.metrics import confusion_matrix\n",
        "from sklearn.model_selection import train_test_split\n",
        "from sklearn.metrics import classification_report\n",
        "from bokeh.models import ColumnDataSource, LabelSet\n",
        "from bokeh.plotting import figure, show, output_file\n",
        "from collections import Counter\n",
        "from functools import reduce\n",
        "! pip install captum bokeh spacy emot parameter-sherpa\n",
        "import sherpa\n",
        "import captum\n",
        "import spacy\n",
        "from captum.attr import LayerIntegratedGradients, TokenReferenceBase, visualization, IntegratedGradients, LayerConductance\n",
        "from captum.attr import visualization as viz\n",
        "from captum.attr import configure_interpretable_embedding_layer, remove_interpretable_embedding_layer\n",
        "import emot\n",
        "from bokeh.io import output_notebook\n",
        "output_notebook()\n",
        "! python -m spacy download en_core_web_sm\n",
        "nlp = spacy.load('en')\n",
        "%matplotlib inline"
      ],
      "execution_count": 1,
      "outputs": [
        {
          "output_type": "stream",
          "text": [
            "/usr/local/lib/python3.7/dist-packages/sklearn/externals/six.py:31: FutureWarning: The module is deprecated in version 0.21 and will be removed in version 0.23 since we've dropped support for Python 2.7. Please rely on the official version of six (https://pypi.org/project/six/).\n",
            "  \"(https://pypi.org/project/six/).\", FutureWarning)\n",
            "/usr/local/lib/python3.7/dist-packages/sklearn/utils/deprecation.py:144: FutureWarning: The sklearn.neighbors.base module is  deprecated in version 0.22 and will be removed in version 0.24. The corresponding classes / functions should instead be imported from sklearn.neighbors. Anything that cannot be imported from sklearn.neighbors is now part of the private API.\n",
            "  warnings.warn(message, FutureWarning)\n"
          ],
          "name": "stderr"
        },
        {
          "output_type": "stream",
          "text": [
            "Requirement already satisfied: captum in /usr/local/lib/python3.7/dist-packages (0.3.1)\n",
            "Requirement already satisfied: bokeh in /usr/local/lib/python3.7/dist-packages (2.3.0)\n",
            "Requirement already satisfied: spacy in /usr/local/lib/python3.7/dist-packages (2.2.4)\n",
            "Requirement already satisfied: emot in /usr/local/lib/python3.7/dist-packages (2.1)\n",
            "Requirement already satisfied: parameter-sherpa in /usr/local/lib/python3.7/dist-packages (1.0.6)\n",
            "Requirement already satisfied: numpy in /usr/local/lib/python3.7/dist-packages (from captum) (1.19.5)\n",
            "Requirement already satisfied: torch>=1.2 in /usr/local/lib/python3.7/dist-packages (from captum) (1.8.1+cu101)\n",
            "Requirement already satisfied: matplotlib in /usr/local/lib/python3.7/dist-packages (from captum) (3.2.2)\n",
            "Requirement already satisfied: tornado>=5.1 in /usr/local/lib/python3.7/dist-packages (from bokeh) (5.1.1)\n",
            "Requirement already satisfied: typing-extensions>=3.7.4 in /usr/local/lib/python3.7/dist-packages (from bokeh) (3.7.4.3)\n",
            "Requirement already satisfied: pillow>=7.1.0 in /usr/local/lib/python3.7/dist-packages (from bokeh) (7.1.2)\n",
            "Requirement already satisfied: PyYAML>=3.10 in /usr/local/lib/python3.7/dist-packages (from bokeh) (3.13)\n",
            "Requirement already satisfied: Jinja2>=2.7 in /usr/local/lib/python3.7/dist-packages (from bokeh) (2.11.3)\n",
            "Requirement already satisfied: packaging>=16.8 in /usr/local/lib/python3.7/dist-packages (from bokeh) (20.9)\n",
            "Requirement already satisfied: python-dateutil>=2.1 in /usr/local/lib/python3.7/dist-packages (from bokeh) (2.8.1)\n",
            "Requirement already satisfied: tqdm<5.0.0,>=4.38.0 in /usr/local/lib/python3.7/dist-packages (from spacy) (4.41.1)\n",
            "Requirement already satisfied: blis<0.5.0,>=0.4.0 in /usr/local/lib/python3.7/dist-packages (from spacy) (0.4.1)\n",
            "Requirement already satisfied: srsly<1.1.0,>=1.0.2 in /usr/local/lib/python3.7/dist-packages (from spacy) (1.0.5)\n",
            "Requirement already satisfied: preshed<3.1.0,>=3.0.2 in /usr/local/lib/python3.7/dist-packages (from spacy) (3.0.5)\n",
            "Requirement already satisfied: catalogue<1.1.0,>=0.0.7 in /usr/local/lib/python3.7/dist-packages (from spacy) (1.0.0)\n",
            "Requirement already satisfied: requests<3.0.0,>=2.13.0 in /usr/local/lib/python3.7/dist-packages (from spacy) (2.23.0)\n",
            "Requirement already satisfied: cymem<2.1.0,>=2.0.2 in /usr/local/lib/python3.7/dist-packages (from spacy) (2.0.5)\n",
            "Requirement already satisfied: plac<1.2.0,>=0.9.6 in /usr/local/lib/python3.7/dist-packages (from spacy) (1.1.3)\n",
            "Requirement already satisfied: setuptools in /usr/local/lib/python3.7/dist-packages (from spacy) (54.2.0)\n",
            "Requirement already satisfied: thinc==7.4.0 in /usr/local/lib/python3.7/dist-packages (from spacy) (7.4.0)\n",
            "Requirement already satisfied: murmurhash<1.1.0,>=0.28.0 in /usr/local/lib/python3.7/dist-packages (from spacy) (1.0.5)\n",
            "Requirement already satisfied: wasabi<1.1.0,>=0.4.0 in /usr/local/lib/python3.7/dist-packages (from spacy) (0.8.2)\n",
            "Requirement already satisfied: GPyOpt>=1.2.5 in /usr/local/lib/python3.7/dist-packages (from parameter-sherpa) (1.2.6)\n",
            "Requirement already satisfied: flask>=0.12.2 in /usr/local/lib/python3.7/dist-packages (from parameter-sherpa) (1.1.2)\n",
            "Requirement already satisfied: pandas>=0.20.3 in /usr/local/lib/python3.7/dist-packages (from parameter-sherpa) (1.1.5)\n",
            "Requirement already satisfied: scipy>=1.0.0 in /usr/local/lib/python3.7/dist-packages (from parameter-sherpa) (1.4.1)\n",
            "Requirement already satisfied: enum34 in /usr/local/lib/python3.7/dist-packages (from parameter-sherpa) (1.1.10)\n",
            "Requirement already satisfied: pymongo>=3.5.1 in /usr/local/lib/python3.7/dist-packages (from parameter-sherpa) (3.11.3)\n",
            "Requirement already satisfied: scikit-learn>=0.19.1 in /usr/local/lib/python3.7/dist-packages (from parameter-sherpa) (0.22.2.post1)\n",
            "Requirement already satisfied: kiwisolver>=1.0.1 in /usr/local/lib/python3.7/dist-packages (from matplotlib->captum) (1.3.1)\n",
            "Requirement already satisfied: cycler>=0.10 in /usr/local/lib/python3.7/dist-packages (from matplotlib->captum) (0.10.0)\n",
            "Requirement already satisfied: pyparsing!=2.0.4,!=2.1.2,!=2.1.6,>=2.0.1 in /usr/local/lib/python3.7/dist-packages (from matplotlib->captum) (2.4.7)\n",
            "Requirement already satisfied: MarkupSafe>=0.23 in /usr/local/lib/python3.7/dist-packages (from Jinja2>=2.7->bokeh) (1.1.1)\n",
            "Requirement already satisfied: six>=1.5 in /usr/local/lib/python3.7/dist-packages (from python-dateutil>=2.1->bokeh) (1.15.0)\n",
            "Requirement already satisfied: importlib-metadata>=0.20; python_version < \"3.8\" in /usr/local/lib/python3.7/dist-packages (from catalogue<1.1.0,>=0.0.7->spacy) (3.8.1)\n",
            "Requirement already satisfied: idna<3,>=2.5 in /usr/local/lib/python3.7/dist-packages (from requests<3.0.0,>=2.13.0->spacy) (2.10)\n",
            "Requirement already satisfied: certifi>=2017.4.17 in /usr/local/lib/python3.7/dist-packages (from requests<3.0.0,>=2.13.0->spacy) (2020.12.5)\n",
            "Requirement already satisfied: chardet<4,>=3.0.2 in /usr/local/lib/python3.7/dist-packages (from requests<3.0.0,>=2.13.0->spacy) (3.0.4)\n",
            "Requirement already satisfied: urllib3!=1.25.0,!=1.25.1,<1.26,>=1.21.1 in /usr/local/lib/python3.7/dist-packages (from requests<3.0.0,>=2.13.0->spacy) (1.24.3)\n",
            "Requirement already satisfied: GPy>=1.8 in /usr/local/lib/python3.7/dist-packages (from GPyOpt>=1.2.5->parameter-sherpa) (1.9.9)\n",
            "Requirement already satisfied: Werkzeug>=0.15 in /usr/local/lib/python3.7/dist-packages (from flask>=0.12.2->parameter-sherpa) (1.0.1)\n",
            "Requirement already satisfied: itsdangerous>=0.24 in /usr/local/lib/python3.7/dist-packages (from flask>=0.12.2->parameter-sherpa) (1.1.0)\n",
            "Requirement already satisfied: click>=5.1 in /usr/local/lib/python3.7/dist-packages (from flask>=0.12.2->parameter-sherpa) (7.1.2)\n",
            "Requirement already satisfied: pytz>=2017.2 in /usr/local/lib/python3.7/dist-packages (from pandas>=0.20.3->parameter-sherpa) (2018.9)\n",
            "Requirement already satisfied: joblib>=0.11 in /usr/local/lib/python3.7/dist-packages (from scikit-learn>=0.19.1->parameter-sherpa) (1.0.1)\n",
            "Requirement already satisfied: zipp>=0.5 in /usr/local/lib/python3.7/dist-packages (from importlib-metadata>=0.20; python_version < \"3.8\"->catalogue<1.1.0,>=0.0.7->spacy) (3.4.1)\n",
            "Requirement already satisfied: paramz>=0.9.0 in /usr/local/lib/python3.7/dist-packages (from GPy>=1.8->GPyOpt>=1.2.5->parameter-sherpa) (0.9.5)\n",
            "Requirement already satisfied: decorator>=4.0.10 in /usr/local/lib/python3.7/dist-packages (from paramz>=0.9.0->GPy>=1.8->GPyOpt>=1.2.5->parameter-sherpa) (4.4.2)\n",
            "Requirement already satisfied: en_core_web_sm==2.2.5 from https://github.com/explosion/spacy-models/releases/download/en_core_web_sm-2.2.5/en_core_web_sm-2.2.5.tar.gz#egg=en_core_web_sm==2.2.5 in /usr/local/lib/python3.7/dist-packages (2.2.5)\n",
            "Requirement already satisfied: spacy>=2.2.2 in /usr/local/lib/python3.7/dist-packages (from en_core_web_sm==2.2.5) (2.2.4)\n",
            "Requirement already satisfied: cymem<2.1.0,>=2.0.2 in /usr/local/lib/python3.7/dist-packages (from spacy>=2.2.2->en_core_web_sm==2.2.5) (2.0.5)\n",
            "Requirement already satisfied: blis<0.5.0,>=0.4.0 in /usr/local/lib/python3.7/dist-packages (from spacy>=2.2.2->en_core_web_sm==2.2.5) (0.4.1)\n",
            "Requirement already satisfied: requests<3.0.0,>=2.13.0 in /usr/local/lib/python3.7/dist-packages (from spacy>=2.2.2->en_core_web_sm==2.2.5) (2.23.0)\n",
            "Requirement already satisfied: murmurhash<1.1.0,>=0.28.0 in /usr/local/lib/python3.7/dist-packages (from spacy>=2.2.2->en_core_web_sm==2.2.5) (1.0.5)\n",
            "Requirement already satisfied: catalogue<1.1.0,>=0.0.7 in /usr/local/lib/python3.7/dist-packages (from spacy>=2.2.2->en_core_web_sm==2.2.5) (1.0.0)\n",
            "Requirement already satisfied: tqdm<5.0.0,>=4.38.0 in /usr/local/lib/python3.7/dist-packages (from spacy>=2.2.2->en_core_web_sm==2.2.5) (4.41.1)\n",
            "Requirement already satisfied: numpy>=1.15.0 in /usr/local/lib/python3.7/dist-packages (from spacy>=2.2.2->en_core_web_sm==2.2.5) (1.19.5)\n",
            "Requirement already satisfied: wasabi<1.1.0,>=0.4.0 in /usr/local/lib/python3.7/dist-packages (from spacy>=2.2.2->en_core_web_sm==2.2.5) (0.8.2)\n",
            "Requirement already satisfied: srsly<1.1.0,>=1.0.2 in /usr/local/lib/python3.7/dist-packages (from spacy>=2.2.2->en_core_web_sm==2.2.5) (1.0.5)\n",
            "Requirement already satisfied: setuptools in /usr/local/lib/python3.7/dist-packages (from spacy>=2.2.2->en_core_web_sm==2.2.5) (54.2.0)\n",
            "Requirement already satisfied: plac<1.2.0,>=0.9.6 in /usr/local/lib/python3.7/dist-packages (from spacy>=2.2.2->en_core_web_sm==2.2.5) (1.1.3)\n",
            "Requirement already satisfied: thinc==7.4.0 in /usr/local/lib/python3.7/dist-packages (from spacy>=2.2.2->en_core_web_sm==2.2.5) (7.4.0)\n",
            "Requirement already satisfied: preshed<3.1.0,>=3.0.2 in /usr/local/lib/python3.7/dist-packages (from spacy>=2.2.2->en_core_web_sm==2.2.5) (3.0.5)\n",
            "Requirement already satisfied: idna<3,>=2.5 in /usr/local/lib/python3.7/dist-packages (from requests<3.0.0,>=2.13.0->spacy>=2.2.2->en_core_web_sm==2.2.5) (2.10)\n",
            "Requirement already satisfied: certifi>=2017.4.17 in /usr/local/lib/python3.7/dist-packages (from requests<3.0.0,>=2.13.0->spacy>=2.2.2->en_core_web_sm==2.2.5) (2020.12.5)\n",
            "Requirement already satisfied: urllib3!=1.25.0,!=1.25.1,<1.26,>=1.21.1 in /usr/local/lib/python3.7/dist-packages (from requests<3.0.0,>=2.13.0->spacy>=2.2.2->en_core_web_sm==2.2.5) (1.24.3)\n",
            "Requirement already satisfied: chardet<4,>=3.0.2 in /usr/local/lib/python3.7/dist-packages (from requests<3.0.0,>=2.13.0->spacy>=2.2.2->en_core_web_sm==2.2.5) (3.0.4)\n",
            "Requirement already satisfied: importlib-metadata>=0.20; python_version < \"3.8\" in /usr/local/lib/python3.7/dist-packages (from catalogue<1.1.0,>=0.0.7->spacy>=2.2.2->en_core_web_sm==2.2.5) (3.8.1)\n",
            "Requirement already satisfied: zipp>=0.5 in /usr/local/lib/python3.7/dist-packages (from importlib-metadata>=0.20; python_version < \"3.8\"->catalogue<1.1.0,>=0.0.7->spacy>=2.2.2->en_core_web_sm==2.2.5) (3.4.1)\n",
            "Requirement already satisfied: typing-extensions>=3.6.4; python_version < \"3.8\" in /usr/local/lib/python3.7/dist-packages (from importlib-metadata>=0.20; python_version < \"3.8\"->catalogue<1.1.0,>=0.0.7->spacy>=2.2.2->en_core_web_sm==2.2.5) (3.7.4.3)\n",
            "\u001b[38;5;2m✔ Download and installation successful\u001b[0m\n",
            "You can now load the model via spacy.load('en_core_web_sm')\n"
          ],
          "name": "stdout"
        }
      ]
    },
    {
      "cell_type": "markdown",
      "metadata": {
        "id": "6DETgMPgJrUS",
        "pycharm": {
          "name": "#%% md\n"
        }
      },
      "source": [
        "## Loading the data"
      ]
    },
    {
      "cell_type": "code",
      "metadata": {
        "colab": {
          "base_uri": "https://localhost:8080/",
          "height": 272
        },
        "id": "QwFJPG55JrUT",
        "pycharm": {
          "name": "#%%\n"
        },
        "outputId": "5a2f6468-9158-4ed3-919e-5c341c620df6"
      },
      "source": [
        "!curl https://raw.githubusercontent.com/realsarm/deepLearningRecipes/main/.pytorch/tweets/Twitter_Data.csv --create-dirs -o .pytorch/tweets/Twitter_Data.csv\n",
        "!mkdir checkpoint\n",
        "df = pd.read_csv('.pytorch/tweets/Twitter_Data.csv')\n",
        "df.head()"
      ],
      "execution_count": 2,
      "outputs": [
        {
          "output_type": "stream",
          "text": [
            "  % Total    % Received % Xferd  Average Speed   Time    Time     Time  Current\n",
            "                                 Dload  Upload   Total   Spent    Left  Speed\n",
            "100 19.9M  100 19.9M    0     0  13.7M      0  0:00:01  0:00:01 --:--:-- 13.7M\n",
            "mkdir: cannot create directory ‘checkpoint’: File exists\n"
          ],
          "name": "stdout"
        },
        {
          "output_type": "execute_result",
          "data": {
            "text/html": [
              "<div>\n",
              "<style scoped>\n",
              "    .dataframe tbody tr th:only-of-type {\n",
              "        vertical-align: middle;\n",
              "    }\n",
              "\n",
              "    .dataframe tbody tr th {\n",
              "        vertical-align: top;\n",
              "    }\n",
              "\n",
              "    .dataframe thead th {\n",
              "        text-align: right;\n",
              "    }\n",
              "</style>\n",
              "<table border=\"1\" class=\"dataframe\">\n",
              "  <thead>\n",
              "    <tr style=\"text-align: right;\">\n",
              "      <th></th>\n",
              "      <th>clean_text</th>\n",
              "      <th>category</th>\n",
              "    </tr>\n",
              "  </thead>\n",
              "  <tbody>\n",
              "    <tr>\n",
              "      <th>0</th>\n",
              "      <td>when modi promised “minimum government maximum...</td>\n",
              "      <td>-1.0</td>\n",
              "    </tr>\n",
              "    <tr>\n",
              "      <th>1</th>\n",
              "      <td>talk all the nonsense and continue all the dra...</td>\n",
              "      <td>0.0</td>\n",
              "    </tr>\n",
              "    <tr>\n",
              "      <th>2</th>\n",
              "      <td>what did just say vote for modi  welcome bjp t...</td>\n",
              "      <td>1.0</td>\n",
              "    </tr>\n",
              "    <tr>\n",
              "      <th>3</th>\n",
              "      <td>asking his supporters prefix chowkidar their n...</td>\n",
              "      <td>1.0</td>\n",
              "    </tr>\n",
              "    <tr>\n",
              "      <th>4</th>\n",
              "      <td>answer who among these the most powerful world...</td>\n",
              "      <td>1.0</td>\n",
              "    </tr>\n",
              "  </tbody>\n",
              "</table>\n",
              "</div>"
            ],
            "text/plain": [
              "                                          clean_text  category\n",
              "0  when modi promised “minimum government maximum...      -1.0\n",
              "1  talk all the nonsense and continue all the dra...       0.0\n",
              "2  what did just say vote for modi  welcome bjp t...       1.0\n",
              "3  asking his supporters prefix chowkidar their n...       1.0\n",
              "4  answer who among these the most powerful world...       1.0"
            ]
          },
          "metadata": {
            "tags": []
          },
          "execution_count": 2
        }
      ]
    },
    {
      "cell_type": "markdown",
      "metadata": {
        "id": "wnZDU5kUJrUT"
      },
      "source": [
        "### Exploring features"
      ]
    },
    {
      "cell_type": "code",
      "metadata": {
        "colab": {
          "base_uri": "https://localhost:8080/",
          "height": 297
        },
        "id": "8iEEuqAuJrUT",
        "pycharm": {
          "name": "#%%\n"
        },
        "outputId": "ec425a89-e968-4275-ebc3-ad923a6e0ed8"
      },
      "source": [
        "df.describe()"
      ],
      "execution_count": 3,
      "outputs": [
        {
          "output_type": "execute_result",
          "data": {
            "text/html": [
              "<div>\n",
              "<style scoped>\n",
              "    .dataframe tbody tr th:only-of-type {\n",
              "        vertical-align: middle;\n",
              "    }\n",
              "\n",
              "    .dataframe tbody tr th {\n",
              "        vertical-align: top;\n",
              "    }\n",
              "\n",
              "    .dataframe thead th {\n",
              "        text-align: right;\n",
              "    }\n",
              "</style>\n",
              "<table border=\"1\" class=\"dataframe\">\n",
              "  <thead>\n",
              "    <tr style=\"text-align: right;\">\n",
              "      <th></th>\n",
              "      <th>category</th>\n",
              "    </tr>\n",
              "  </thead>\n",
              "  <tbody>\n",
              "    <tr>\n",
              "      <th>count</th>\n",
              "      <td>162973.000000</td>\n",
              "    </tr>\n",
              "    <tr>\n",
              "      <th>mean</th>\n",
              "      <td>0.225436</td>\n",
              "    </tr>\n",
              "    <tr>\n",
              "      <th>std</th>\n",
              "      <td>0.781279</td>\n",
              "    </tr>\n",
              "    <tr>\n",
              "      <th>min</th>\n",
              "      <td>-1.000000</td>\n",
              "    </tr>\n",
              "    <tr>\n",
              "      <th>25%</th>\n",
              "      <td>0.000000</td>\n",
              "    </tr>\n",
              "    <tr>\n",
              "      <th>50%</th>\n",
              "      <td>0.000000</td>\n",
              "    </tr>\n",
              "    <tr>\n",
              "      <th>75%</th>\n",
              "      <td>1.000000</td>\n",
              "    </tr>\n",
              "    <tr>\n",
              "      <th>max</th>\n",
              "      <td>1.000000</td>\n",
              "    </tr>\n",
              "  </tbody>\n",
              "</table>\n",
              "</div>"
            ],
            "text/plain": [
              "            category\n",
              "count  162973.000000\n",
              "mean        0.225436\n",
              "std         0.781279\n",
              "min        -1.000000\n",
              "25%         0.000000\n",
              "50%         0.000000\n",
              "75%         1.000000\n",
              "max         1.000000"
            ]
          },
          "metadata": {
            "tags": []
          },
          "execution_count": 3
        }
      ]
    },
    {
      "cell_type": "markdown",
      "metadata": {
        "id": "pLQm2ZkvJrUU",
        "pycharm": {
          "name": "#%% md\n"
        }
      },
      "source": [
        ""
      ]
    },
    {
      "cell_type": "code",
      "metadata": {
        "colab": {
          "base_uri": "https://localhost:8080/",
          "height": 221
        },
        "id": "HLQhe0zgJrUU",
        "pycharm": {
          "name": "#%%\n"
        },
        "outputId": "b0c1890c-16f0-4126-a097-ddcafba8ea83"
      },
      "source": [
        "df.groupby('category').describe()"
      ],
      "execution_count": 4,
      "outputs": [
        {
          "output_type": "stream",
          "text": [
            "INFO:numexpr.utils:NumExpr defaulting to 2 threads.\n"
          ],
          "name": "stderr"
        },
        {
          "output_type": "execute_result",
          "data": {
            "text/html": [
              "<div>\n",
              "<style scoped>\n",
              "    .dataframe tbody tr th:only-of-type {\n",
              "        vertical-align: middle;\n",
              "    }\n",
              "\n",
              "    .dataframe tbody tr th {\n",
              "        vertical-align: top;\n",
              "    }\n",
              "\n",
              "    .dataframe thead tr th {\n",
              "        text-align: left;\n",
              "    }\n",
              "\n",
              "    .dataframe thead tr:last-of-type th {\n",
              "        text-align: right;\n",
              "    }\n",
              "</style>\n",
              "<table border=\"1\" class=\"dataframe\">\n",
              "  <thead>\n",
              "    <tr>\n",
              "      <th></th>\n",
              "      <th colspan=\"4\" halign=\"left\">clean_text</th>\n",
              "    </tr>\n",
              "    <tr>\n",
              "      <th></th>\n",
              "      <th>count</th>\n",
              "      <th>unique</th>\n",
              "      <th>top</th>\n",
              "      <th>freq</th>\n",
              "    </tr>\n",
              "    <tr>\n",
              "      <th>category</th>\n",
              "      <th></th>\n",
              "      <th></th>\n",
              "      <th></th>\n",
              "      <th></th>\n",
              "    </tr>\n",
              "  </thead>\n",
              "  <tbody>\n",
              "    <tr>\n",
              "      <th>-1.0</th>\n",
              "      <td>35509</td>\n",
              "      <td>35509</td>\n",
              "      <td>can govt which embroiled chit fund scams loote...</td>\n",
              "      <td>1</td>\n",
              "    </tr>\n",
              "    <tr>\n",
              "      <th>0.0</th>\n",
              "      <td>55211</td>\n",
              "      <td>55211</td>\n",
              "      <td>address public rally and modi will campaign fo...</td>\n",
              "      <td>1</td>\n",
              "    </tr>\n",
              "    <tr>\n",
              "      <th>1.0</th>\n",
              "      <td>72249</td>\n",
              "      <td>72249</td>\n",
              "      <td>because dont follow modi also wrongs dont make...</td>\n",
              "      <td>1</td>\n",
              "    </tr>\n",
              "  </tbody>\n",
              "</table>\n",
              "</div>"
            ],
            "text/plain": [
              "         clean_text  ...     \n",
              "              count  ... freq\n",
              "category             ...     \n",
              "-1.0          35509  ...    1\n",
              " 0.0          55211  ...    1\n",
              " 1.0          72249  ...    1\n",
              "\n",
              "[3 rows x 4 columns]"
            ]
          },
          "metadata": {
            "tags": []
          },
          "execution_count": 4
        }
      ]
    },
    {
      "cell_type": "code",
      "metadata": {
        "colab": {
          "base_uri": "https://localhost:8080/"
        },
        "id": "mgpw8FCZJrUV",
        "pycharm": {
          "name": "#%%\n"
        },
        "outputId": "cf6bbc4c-03ec-4d27-86cf-b34335600040"
      },
      "source": [
        "df.info()"
      ],
      "execution_count": 5,
      "outputs": [
        {
          "output_type": "stream",
          "text": [
            "<class 'pandas.core.frame.DataFrame'>\n",
            "RangeIndex: 162980 entries, 0 to 162979\n",
            "Data columns (total 2 columns):\n",
            " #   Column      Non-Null Count   Dtype  \n",
            "---  ------      --------------   -----  \n",
            " 0   clean_text  162976 non-null  object \n",
            " 1   category    162973 non-null  float64\n",
            "dtypes: float64(1), object(1)\n",
            "memory usage: 2.5+ MB\n"
          ],
          "name": "stdout"
        }
      ]
    },
    {
      "cell_type": "code",
      "metadata": {
        "colab": {
          "base_uri": "https://localhost:8080/"
        },
        "id": "6oGU6704JrUV",
        "pycharm": {
          "name": "#%%\n"
        },
        "outputId": "3bc78ba3-5c2b-489a-e859-cdacf8c17e2f"
      },
      "source": [
        "df.isnull().sum()"
      ],
      "execution_count": 6,
      "outputs": [
        {
          "output_type": "execute_result",
          "data": {
            "text/plain": [
              "clean_text    4\n",
              "category      7\n",
              "dtype: int64"
            ]
          },
          "metadata": {
            "tags": []
          },
          "execution_count": 6
        }
      ]
    },
    {
      "cell_type": "code",
      "metadata": {
        "colab": {
          "base_uri": "https://localhost:8080/",
          "height": 80
        },
        "id": "QFUejj4jJrUV",
        "pycharm": {
          "name": "#%%\n"
        },
        "outputId": "d9735602-4f5a-4e89-e6be-b9f1485095ea"
      },
      "source": [
        "df[df['clean_text'].str.len() < 2]"
      ],
      "execution_count": 7,
      "outputs": [
        {
          "output_type": "execute_result",
          "data": {
            "text/html": [
              "<div>\n",
              "<style scoped>\n",
              "    .dataframe tbody tr th:only-of-type {\n",
              "        vertical-align: middle;\n",
              "    }\n",
              "\n",
              "    .dataframe tbody tr th {\n",
              "        vertical-align: top;\n",
              "    }\n",
              "\n",
              "    .dataframe thead th {\n",
              "        text-align: right;\n",
              "    }\n",
              "</style>\n",
              "<table border=\"1\" class=\"dataframe\">\n",
              "  <thead>\n",
              "    <tr style=\"text-align: right;\">\n",
              "      <th></th>\n",
              "      <th>clean_text</th>\n",
              "      <th>category</th>\n",
              "    </tr>\n",
              "  </thead>\n",
              "  <tbody>\n",
              "    <tr>\n",
              "      <th>77224</th>\n",
              "      <td></td>\n",
              "      <td>0.0</td>\n",
              "    </tr>\n",
              "  </tbody>\n",
              "</table>\n",
              "</div>"
            ],
            "text/plain": [
              "      clean_text  category\n",
              "77224                  0.0"
            ]
          },
          "metadata": {
            "tags": []
          },
          "execution_count": 7
        }
      ]
    },
    {
      "cell_type": "code",
      "metadata": {
        "colab": {
          "base_uri": "https://localhost:8080/",
          "height": 142
        },
        "id": "yZ6t1ICXJrUW",
        "pycharm": {
          "name": "#%%\n"
        },
        "outputId": "c3aea57a-756a-4057-ee66-03d852893d1f"
      },
      "source": [
        "df[df.duplicated('clean_text')]"
      ],
      "execution_count": 8,
      "outputs": [
        {
          "output_type": "execute_result",
          "data": {
            "text/html": [
              "<div>\n",
              "<style scoped>\n",
              "    .dataframe tbody tr th:only-of-type {\n",
              "        vertical-align: middle;\n",
              "    }\n",
              "\n",
              "    .dataframe tbody tr th {\n",
              "        vertical-align: top;\n",
              "    }\n",
              "\n",
              "    .dataframe thead th {\n",
              "        text-align: right;\n",
              "    }\n",
              "</style>\n",
              "<table border=\"1\" class=\"dataframe\">\n",
              "  <thead>\n",
              "    <tr style=\"text-align: right;\">\n",
              "      <th></th>\n",
              "      <th>clean_text</th>\n",
              "      <th>category</th>\n",
              "    </tr>\n",
              "  </thead>\n",
              "  <tbody>\n",
              "    <tr>\n",
              "      <th>158694</th>\n",
              "      <td>NaN</td>\n",
              "      <td>-1.0</td>\n",
              "    </tr>\n",
              "    <tr>\n",
              "      <th>159443</th>\n",
              "      <td>NaN</td>\n",
              "      <td>0.0</td>\n",
              "    </tr>\n",
              "    <tr>\n",
              "      <th>160560</th>\n",
              "      <td>NaN</td>\n",
              "      <td>1.0</td>\n",
              "    </tr>\n",
              "  </tbody>\n",
              "</table>\n",
              "</div>"
            ],
            "text/plain": [
              "       clean_text  category\n",
              "158694        NaN      -1.0\n",
              "159443        NaN       0.0\n",
              "160560        NaN       1.0"
            ]
          },
          "metadata": {
            "tags": []
          },
          "execution_count": 8
        }
      ]
    },
    {
      "cell_type": "code",
      "metadata": {
        "colab": {
          "base_uri": "https://localhost:8080/",
          "height": 49
        },
        "id": "HHfQVsljJrUW",
        "pycharm": {
          "name": "#%%\n"
        },
        "outputId": "f0ce9df5-d8cb-44cd-98d2-49ec1068eec0"
      },
      "source": [
        "df.drop_duplicates('clean_text', inplace=True)\n",
        "df[df.duplicated('clean_text')]"
      ],
      "execution_count": 9,
      "outputs": [
        {
          "output_type": "execute_result",
          "data": {
            "text/html": [
              "<div>\n",
              "<style scoped>\n",
              "    .dataframe tbody tr th:only-of-type {\n",
              "        vertical-align: middle;\n",
              "    }\n",
              "\n",
              "    .dataframe tbody tr th {\n",
              "        vertical-align: top;\n",
              "    }\n",
              "\n",
              "    .dataframe thead th {\n",
              "        text-align: right;\n",
              "    }\n",
              "</style>\n",
              "<table border=\"1\" class=\"dataframe\">\n",
              "  <thead>\n",
              "    <tr style=\"text-align: right;\">\n",
              "      <th></th>\n",
              "      <th>clean_text</th>\n",
              "      <th>category</th>\n",
              "    </tr>\n",
              "  </thead>\n",
              "  <tbody>\n",
              "  </tbody>\n",
              "</table>\n",
              "</div>"
            ],
            "text/plain": [
              "Empty DataFrame\n",
              "Columns: [clean_text, category]\n",
              "Index: []"
            ]
          },
          "metadata": {
            "tags": []
          },
          "execution_count": 9
        }
      ]
    },
    {
      "cell_type": "code",
      "metadata": {
        "colab": {
          "base_uri": "https://localhost:8080/",
          "height": 306
        },
        "id": "y_GcsS8iJrUX",
        "pycharm": {
          "name": "#%%\n"
        },
        "outputId": "8c9fa65b-4132-4d4d-81a3-d90cb3c685a9"
      },
      "source": [
        "df[['category', 'clean_text']].groupby('category').count().plot.bar()"
      ],
      "execution_count": 10,
      "outputs": [
        {
          "output_type": "execute_result",
          "data": {
            "text/plain": [
              "<matplotlib.axes._subplots.AxesSubplot at 0x7f503cbeefd0>"
            ]
          },
          "metadata": {
            "tags": []
          },
          "execution_count": 10
        },
        {
          "output_type": "display_data",
          "data": {
            "image/png": "[encoded data removed]",
            "text/plain": [
              "<Figure size 432x288 with 1 Axes>"
            ]
          },
          "metadata": {
            "tags": [],
            "needs_background": "light"
          }
        }
      ]
    },
    {
      "cell_type": "markdown",
      "metadata": {
        "id": "qRNRGUr1JrUX"
      },
      "source": [
        "### Preprocessing Data"
      ]
    },
    {
      "cell_type": "markdown",
      "metadata": {
        "id": "8_Sbn3-qJrUX"
      },
      "source": [
        "#### Steps\n",
        "1. One-hot encode output\n",
        "2. Replace tags and metion with a unique symbol\n",
        "3. Replace `emoji` and `emoticons` with their meaning\n",
        "4. Remove stop-words\n",
        "5. Remove punctuation and tokenize sentences\n",
        "6. Stemming each token"
      ]
    },
    {
      "cell_type": "code",
      "metadata": {
        "colab": {
          "base_uri": "https://localhost:8080/",
          "height": 204
        },
        "id": "iy0yXqzYJrUY",
        "pycharm": {
          "name": "#%%\n"
        },
        "outputId": "4dde64d2-13f4-4b0c-ce13-5bee739b43a9"
      },
      "source": [
        "\n",
        "condlist = [\n",
        "    df['category'] == 1, # pos\n",
        "    df['category'] == 0, # neu\n",
        "    df['category'] == -1 # neg\n",
        "]\n",
        "df['sentiment'] = np.select(condlist, [1,0,2])\n",
        "d = df[['clean_text', 'sentiment']]\n",
        "d.rename(columns={'clean_text': 'text'}, inplace=True)\n",
        "d.head()"
      ],
      "execution_count": 11,
      "outputs": [
        {
          "output_type": "execute_result",
          "data": {
            "text/html": [
              "<div>\n",
              "<style scoped>\n",
              "    .dataframe tbody tr th:only-of-type {\n",
              "        vertical-align: middle;\n",
              "    }\n",
              "\n",
              "    .dataframe tbody tr th {\n",
              "        vertical-align: top;\n",
              "    }\n",
              "\n",
              "    .dataframe thead th {\n",
              "        text-align: right;\n",
              "    }\n",
              "</style>\n",
              "<table border=\"1\" class=\"dataframe\">\n",
              "  <thead>\n",
              "    <tr style=\"text-align: right;\">\n",
              "      <th></th>\n",
              "      <th>text</th>\n",
              "      <th>sentiment</th>\n",
              "    </tr>\n",
              "  </thead>\n",
              "  <tbody>\n",
              "    <tr>\n",
              "      <th>0</th>\n",
              "      <td>when modi promised “minimum government maximum...</td>\n",
              "      <td>2</td>\n",
              "    </tr>\n",
              "    <tr>\n",
              "      <th>1</th>\n",
              "      <td>talk all the nonsense and continue all the dra...</td>\n",
              "      <td>0</td>\n",
              "    </tr>\n",
              "    <tr>\n",
              "      <th>2</th>\n",
              "      <td>what did just say vote for modi  welcome bjp t...</td>\n",
              "      <td>1</td>\n",
              "    </tr>\n",
              "    <tr>\n",
              "      <th>3</th>\n",
              "      <td>asking his supporters prefix chowkidar their n...</td>\n",
              "      <td>1</td>\n",
              "    </tr>\n",
              "    <tr>\n",
              "      <th>4</th>\n",
              "      <td>answer who among these the most powerful world...</td>\n",
              "      <td>1</td>\n",
              "    </tr>\n",
              "  </tbody>\n",
              "</table>\n",
              "</div>"
            ],
            "text/plain": [
              "                                                text  sentiment\n",
              "0  when modi promised “minimum government maximum...          2\n",
              "1  talk all the nonsense and continue all the dra...          0\n",
              "2  what did just say vote for modi  welcome bjp t...          1\n",
              "3  asking his supporters prefix chowkidar their n...          1\n",
              "4  answer who among these the most powerful world...          1"
            ]
          },
          "metadata": {
            "tags": []
          },
          "execution_count": 11
        }
      ]
    },
    {
      "cell_type": "code",
      "metadata": {
        "colab": {
          "base_uri": "https://localhost:8080/",
          "height": 419
        },
        "id": "xHC-GTGIJrUY",
        "pycharm": {
          "name": "#%%\n"
        },
        "outputId": "fd23bd0a-d800-4e30-9e1b-2be3cb17d2be"
      },
      "source": [
        "def emoji_helper(text):\n",
        "    clean_mean = lambda x:  x.replace('-', '_').replace(':', ' ')\n",
        "    for emoti in emot.emo_unicode.EMOTICONS:\n",
        "        if emoti in text:\n",
        "            text = text.replace(emoti, clean_mean(emot.emo_unicode.EMOTICONS.get(emoti, '')))\n",
        "\n",
        "    for emoti in emot.emo_unicode.UNICODE_EMO:\n",
        "        if emoti in text:\n",
        "            text = text.replace(emoti, clean_mean(emot.emo_unicode.UNICODE_EMO.get(emoti, '')))\n",
        "\n",
        "    for emoti in emot.emo_unicode.EMOTICONS_EMO:\n",
        "        if emoti in text:\n",
        "            text = text.replace(emoti, clean_mean(emot.emo_unicode.EMOTICONS_EMO.get(emoti, '')).replace(' ','_'))\n",
        "    return text\n",
        "\n",
        "porter_stemmer = PorterStemmer()\n",
        "\n",
        "\n",
        "def preprocess(x):\n",
        "    return [porter_stemmer.stem(word) for word in\n",
        "        simple_preprocess(remove_stopwords(emoji_helper(re.sub(r'\\s*([@#][\\w_-]+)', '', str(x)))), deacc=True)\n",
        "    ]\n",
        "\n",
        "d['text'] = d['text'].apply(func=lambda x:preprocess(x))\n",
        "\n",
        "d"
      ],
      "execution_count": 12,
      "outputs": [
        {
          "output_type": "execute_result",
          "data": {
            "text/html": [
              "<div>\n",
              "<style scoped>\n",
              "    .dataframe tbody tr th:only-of-type {\n",
              "        vertical-align: middle;\n",
              "    }\n",
              "\n",
              "    .dataframe tbody tr th {\n",
              "        vertical-align: top;\n",
              "    }\n",
              "\n",
              "    .dataframe thead th {\n",
              "        text-align: right;\n",
              "    }\n",
              "</style>\n",
              "<table border=\"1\" class=\"dataframe\">\n",
              "  <thead>\n",
              "    <tr style=\"text-align: right;\">\n",
              "      <th></th>\n",
              "      <th>text</th>\n",
              "      <th>sentiment</th>\n",
              "    </tr>\n",
              "  </thead>\n",
              "  <tbody>\n",
              "    <tr>\n",
              "      <th>0</th>\n",
              "      <td>[modi, promis, minimum, govern, maximum, gover...</td>\n",
              "      <td>2</td>\n",
              "    </tr>\n",
              "    <tr>\n",
              "      <th>1</th>\n",
              "      <td>[talk, nonsens, continu, drama, vote, modi]</td>\n",
              "      <td>0</td>\n",
              "    </tr>\n",
              "    <tr>\n",
              "      <th>2</th>\n",
              "      <td>[vote, modi, welcom, bjp, told, rahul, main, c...</td>\n",
              "      <td>1</td>\n",
              "    </tr>\n",
              "    <tr>\n",
              "      <th>3</th>\n",
              "      <td>[ask, support, prefix, chowkidar, name, modi, ...</td>\n",
              "      <td>1</td>\n",
              "    </tr>\n",
              "    <tr>\n",
              "      <th>4</th>\n",
              "      <td>[answer, power, world, leader, todai, trump, p...</td>\n",
              "      <td>1</td>\n",
              "    </tr>\n",
              "    <tr>\n",
              "      <th>...</th>\n",
              "      <td>...</td>\n",
              "      <td>...</td>\n",
              "    </tr>\n",
              "    <tr>\n",
              "      <th>162975</th>\n",
              "      <td>[crore, paid, neerav, modi, recov, congress, l...</td>\n",
              "      <td>2</td>\n",
              "    </tr>\n",
              "    <tr>\n",
              "      <th>162976</th>\n",
              "      <td>[dear, rss, terrorist, payal, gawar, modi, kil...</td>\n",
              "      <td>2</td>\n",
              "    </tr>\n",
              "    <tr>\n",
              "      <th>162977</th>\n",
              "      <td>[cover, interact, forum, left]</td>\n",
              "      <td>0</td>\n",
              "    </tr>\n",
              "    <tr>\n",
              "      <th>162978</th>\n",
              "      <td>[big, project, came, india, modi, dream, proje...</td>\n",
              "      <td>0</td>\n",
              "    </tr>\n",
              "    <tr>\n",
              "      <th>162979</th>\n",
              "      <td>[listen, like, gurukul, disciplin, maintain, n...</td>\n",
              "      <td>1</td>\n",
              "    </tr>\n",
              "  </tbody>\n",
              "</table>\n",
              "<p>162977 rows × 2 columns</p>\n",
              "</div>"
            ],
            "text/plain": [
              "                                                     text  sentiment\n",
              "0       [modi, promis, minimum, govern, maximum, gover...          2\n",
              "1             [talk, nonsens, continu, drama, vote, modi]          0\n",
              "2       [vote, modi, welcom, bjp, told, rahul, main, c...          1\n",
              "3       [ask, support, prefix, chowkidar, name, modi, ...          1\n",
              "4       [answer, power, world, leader, todai, trump, p...          1\n",
              "...                                                   ...        ...\n",
              "162975  [crore, paid, neerav, modi, recov, congress, l...          2\n",
              "162976  [dear, rss, terrorist, payal, gawar, modi, kil...          2\n",
              "162977                     [cover, interact, forum, left]          0\n",
              "162978  [big, project, came, india, modi, dream, proje...          0\n",
              "162979  [listen, like, gurukul, disciplin, maintain, n...          1\n",
              "\n",
              "[162977 rows x 2 columns]"
            ]
          },
          "metadata": {
            "tags": []
          },
          "execution_count": 12
        }
      ]
    },
    {
      "cell_type": "markdown",
      "metadata": {
        "id": "V1lsg8zVJrUY"
      },
      "source": [
        "#### Analyze review length\n",
        "Here we remove the outliers"
      ]
    },
    {
      "cell_type": "code",
      "metadata": {
        "colab": {
          "base_uri": "https://localhost:8080/"
        },
        "id": "nE-zLQLWJrUZ",
        "pycharm": {
          "name": "#%%\n"
        },
        "outputId": "5050dc87-f162-4ce8-d2a4-626c8f90836a"
      },
      "source": [
        "d['text'].str.len().describe()"
      ],
      "execution_count": 13,
      "outputs": [
        {
          "output_type": "execute_result",
          "data": {
            "text/plain": [
              "count    162977.000000\n",
              "mean         12.895034\n",
              "std           6.987574\n",
              "min           0.000000\n",
              "25%           7.000000\n",
              "50%          12.000000\n",
              "75%          18.000000\n",
              "max          42.000000\n",
              "Name: text, dtype: float64"
            ]
          },
          "metadata": {
            "tags": []
          },
          "execution_count": 13
        }
      ]
    },
    {
      "cell_type": "code",
      "metadata": {
        "colab": {
          "base_uri": "https://localhost:8080/",
          "height": 0
        },
        "id": "241NoGKyJrUZ",
        "pycharm": {
          "name": "#%%\n"
        },
        "outputId": "cfb271bc-4126-4f58-daf5-8987eeb9c529"
      },
      "source": [
        "d['text'].str.len().hist()"
      ],
      "execution_count": 14,
      "outputs": [
        {
          "output_type": "execute_result",
          "data": {
            "text/plain": [
              "<matplotlib.axes._subplots.AxesSubplot at 0x7f50322c6f50>"
            ]
          },
          "metadata": {
            "tags": []
          },
          "execution_count": 14
        },
        {
          "output_type": "display_data",
          "data": {
            "image/png": "[encoded data removed]",
            "text/plain": [
              "<Figure size 432x288 with 1 Axes>"
            ]
          },
          "metadata": {
            "tags": [],
            "needs_background": "light"
          }
        }
      ]
    },
    {
      "cell_type": "code",
      "metadata": {
        "colab": {
          "base_uri": "https://localhost:8080/",
          "height": 0
        },
        "id": "YKCZ7SYYJrUZ",
        "pycharm": {
          "name": "#%%\n"
        },
        "outputId": "1fa60df4-7e6c-4964-bd57-769c5a99b05a"
      },
      "source": [
        "d = d[ (2 < d['text'].str.len()) & (d['text'].str.len() < 24) ]\n",
        "d['text'].str.len().hist()"
      ],
      "execution_count": 15,
      "outputs": [
        {
          "output_type": "execute_result",
          "data": {
            "text/plain": [
              "<matplotlib.axes._subplots.AxesSubplot at 0x7f5032254450>"
            ]
          },
          "metadata": {
            "tags": []
          },
          "execution_count": 15
        },
        {
          "output_type": "display_data",
          "data": {
            "image/png": "[encoded data removed]",
            "text/plain": [
              "<Figure size 432x288 with 1 Axes>"
            ]
          },
          "metadata": {
            "tags": [],
            "needs_background": "light"
          }
        }
      ]
    },
    {
      "cell_type": "markdown",
      "metadata": {
        "id": "8FTBryPnJrUa",
        "pycharm": {
          "name": "#%% md\n"
        }
      },
      "source": [
        "### Creating vocab"
      ]
    },
    {
      "cell_type": "code",
      "metadata": {
        "id": "j6jBsOu6JrUa",
        "pycharm": {
          "name": "#%%\n"
        }
      },
      "source": [
        "max_document_length = d['text'].str.len().max()  # each sentence has until 100 words\n",
        "max_size = 5000\n",
        "Text = data.Field(batch_first=True, tokenize=lambda x: x, include_lengths=True, fix_length=max_document_length)\n",
        "Label = data.Field(sequential=False, use_vocab=False, pad_token=None, unk_token=None)\n",
        "fields = [('text', Text), ('labels', Label)]"
      ],
      "execution_count": 16,
      "outputs": []
    },
    {
      "cell_type": "code",
      "metadata": {
        "colab": {
          "base_uri": "https://localhost:8080/"
        },
        "id": "DOIRUDjzJrUa",
        "pycharm": {
          "name": "#%%\n"
        },
        "outputId": "9fb17d56-8f9e-4921-a6c9-70e443a71275"
      },
      "source": [
        "class DataFrameDataset(data.Dataset):\n",
        "\n",
        "    def __init__(self, df, text_field, label_field, is_test=False, **kwargs):\n",
        "        fields = [('text', text_field), ('labels', label_field)]\n",
        "        examples = []\n",
        "        for i, row in df.iterrows():\n",
        "            label = row.sentiment\n",
        "            text = row.text\n",
        "            examples.append(data.Example.fromlist([text, label], fields))\n",
        "\n",
        "        super().__init__(examples, fields, **kwargs)\n",
        "\n",
        "    @staticmethod\n",
        "    def sort_key(ex):\n",
        "        return len(ex.text)\n",
        "\n",
        "    @classmethod\n",
        "    def splits(cls, text_field, label_field, train_df, test_df=None, **kwargs):\n",
        "        train_data, test_data = (None, None)\n",
        "\n",
        "        if train_df is not None:\n",
        "            train_data = cls(train_df.copy(), text_field, label_field, **kwargs)\n",
        "        if test_df is not None:\n",
        "            test_data = cls(test_df.copy(), text_field, label_field, True, **kwargs)\n",
        "\n",
        "        return tuple(d for d in (train_data, test_data) if d is not None)\n",
        "test_size = 0.2 # split percentage to train\\validation data\n",
        "X_train,X_test,y_train,y_test = train_test_split(d['text'].index,d['sentiment'], test_size=test_size, random_state=0, stratify=d['sentiment'])\n",
        "train_df = d.loc[X_train.values]\n",
        "test_df = d.loc[X_test.values]\n",
        "train_ds, test_ds = DataFrameDataset.splits(\n",
        "    text_field=Text, label_field=Label, train_df=train_df, test_df=test_df)\n",
        "vars(test_ds[0])"
      ],
      "execution_count": 17,
      "outputs": [
        {
          "output_type": "execute_result",
          "data": {
            "text/plain": [
              "{'labels': 1,\n",
              " 'text': ['modi',\n",
              "  'govt',\n",
              "  'taken',\n",
              "  'good',\n",
              "  'step',\n",
              "  'india',\n",
              "  'econom',\n",
              "  'huge',\n",
              "  'rupe',\n",
              "  'bjp',\n",
              "  'parliamentari',\n",
              "  'elect',\n",
              "  'campaign',\n",
              "  'bcoz',\n",
              "  'har',\n",
              "  'band',\n",
              "  'kaam',\n",
              "  'bolta']}"
            ]
          },
          "metadata": {
            "tags": []
          },
          "execution_count": 17
        }
      ]
    },
    {
      "cell_type": "markdown",
      "metadata": {
        "id": "-rzlLLUsKDPJ"
      },
      "source": [
        "### Checking how balance is our testset in comparison to trainset"
      ]
    },
    {
      "cell_type": "code",
      "metadata": {
        "id": "8fU_1ta2JuSZ",
        "colab": {
          "base_uri": "https://localhost:8080/",
          "height": 0
        },
        "outputId": "6887a98b-a0e8-4b21-cc6c-9f67f374eb7a"
      },
      "source": [
        "test_df.groupby('sentiment').count()/test_df['sentiment'].count()*100"
      ],
      "execution_count": 18,
      "outputs": [
        {
          "output_type": "execute_result",
          "data": {
            "text/html": [
              "<div>\n",
              "<style scoped>\n",
              "    .dataframe tbody tr th:only-of-type {\n",
              "        vertical-align: middle;\n",
              "    }\n",
              "\n",
              "    .dataframe tbody tr th {\n",
              "        vertical-align: top;\n",
              "    }\n",
              "\n",
              "    .dataframe thead th {\n",
              "        text-align: right;\n",
              "    }\n",
              "</style>\n",
              "<table border=\"1\" class=\"dataframe\">\n",
              "  <thead>\n",
              "    <tr style=\"text-align: right;\">\n",
              "      <th></th>\n",
              "      <th>text</th>\n",
              "    </tr>\n",
              "    <tr>\n",
              "      <th>sentiment</th>\n",
              "      <th></th>\n",
              "    </tr>\n",
              "  </thead>\n",
              "  <tbody>\n",
              "    <tr>\n",
              "      <th>0</th>\n",
              "      <td>34.421928</td>\n",
              "    </tr>\n",
              "    <tr>\n",
              "      <th>1</th>\n",
              "      <td>44.208927</td>\n",
              "    </tr>\n",
              "    <tr>\n",
              "      <th>2</th>\n",
              "      <td>21.369144</td>\n",
              "    </tr>\n",
              "  </tbody>\n",
              "</table>\n",
              "</div>"
            ],
            "text/plain": [
              "                text\n",
              "sentiment           \n",
              "0          34.421928\n",
              "1          44.208927\n",
              "2          21.369144"
            ]
          },
          "metadata": {
            "tags": []
          },
          "execution_count": 18
        }
      ]
    },
    {
      "cell_type": "code",
      "metadata": {
        "id": "W-8DkMpgJ8Nz",
        "colab": {
          "base_uri": "https://localhost:8080/",
          "height": 0
        },
        "outputId": "3d137033-e981-4b8d-b8c4-01db6d74c4af"
      },
      "source": [
        "train_df.groupby('sentiment').count()/train_df['sentiment'].count()*100"
      ],
      "execution_count": 19,
      "outputs": [
        {
          "output_type": "execute_result",
          "data": {
            "text/html": [
              "<div>\n",
              "<style scoped>\n",
              "    .dataframe tbody tr th:only-of-type {\n",
              "        vertical-align: middle;\n",
              "    }\n",
              "\n",
              "    .dataframe tbody tr th {\n",
              "        vertical-align: top;\n",
              "    }\n",
              "\n",
              "    .dataframe thead th {\n",
              "        text-align: right;\n",
              "    }\n",
              "</style>\n",
              "<table border=\"1\" class=\"dataframe\">\n",
              "  <thead>\n",
              "    <tr style=\"text-align: right;\">\n",
              "      <th></th>\n",
              "      <th>text</th>\n",
              "    </tr>\n",
              "    <tr>\n",
              "      <th>sentiment</th>\n",
              "      <th></th>\n",
              "    </tr>\n",
              "  </thead>\n",
              "  <tbody>\n",
              "    <tr>\n",
              "      <th>0</th>\n",
              "      <td>34.423683</td>\n",
              "    </tr>\n",
              "    <tr>\n",
              "      <th>1</th>\n",
              "      <td>44.206620</td>\n",
              "    </tr>\n",
              "    <tr>\n",
              "      <th>2</th>\n",
              "      <td>21.369697</td>\n",
              "    </tr>\n",
              "  </tbody>\n",
              "</table>\n",
              "</div>"
            ],
            "text/plain": [
              "                text\n",
              "sentiment           \n",
              "0          34.423683\n",
              "1          44.206620\n",
              "2          21.369697"
            ]
          },
          "metadata": {
            "tags": []
          },
          "execution_count": 19
        }
      ]
    },
    {
      "cell_type": "code",
      "metadata": {
        "pycharm": {
          "name": "#%%\n"
        },
        "id": "SFHEes6ewWpa",
        "colab": {
          "base_uri": "https://localhost:8080/"
        },
        "outputId": "767d32db-1818-45cc-f61e-bdb748e2e8a6"
      },
      "source": [
        "items = train_df.groupby('sentiment').count().to_numpy()\n",
        "neu, pos, neg = items[0][0], items[1][0], items[2][0]\n",
        "total = train_df.count()[0]\n",
        "weight_for_0 = (1 / neu)*(total)/2.0\n",
        "weight_for_1 = (1 / pos)*(total)/2.0\n",
        "weight_for_2 = (1 / neg)*(total)/2.0\n",
        "print(weight_for_0, weight_for_1, weight_for_2)"
      ],
      "execution_count": 20,
      "outputs": [
        {
          "output_type": "stream",
          "text": [
            "1.4524884041619657 1.1310523233112066 2.3397617124394188\n"
          ],
          "name": "stdout"
        }
      ]
    },
    {
      "cell_type": "code",
      "metadata": {
        "id": "L4QWhGExJrUb",
        "pycharm": {
          "name": "#%%\n"
        }
      },
      "source": [
        "Text.build_vocab(train_ds, test_ds, max_size=max_size)\n",
        "Label.build_vocab(train_ds)\n",
        "vocab_size = len(Text.vocab)"
      ],
      "execution_count": 21,
      "outputs": []
    },
    {
      "cell_type": "code",
      "metadata": {
        "id": "Fm69dUmTJrUb",
        "pycharm": {
          "name": "#%%\n"
        }
      },
      "source": [
        "PAD_IND = Text.vocab.stoi['pad']\n",
        "# captum\n",
        "token_reference = TokenReferenceBase(reference_token_idx=PAD_IND) # create a reference (aka baseline) for the sentences and its constituent parts, tokens"
      ],
      "execution_count": 22,
      "outputs": []
    },
    {
      "cell_type": "markdown",
      "metadata": {
        "id": "f5xCcMgXJrUb",
        "pycharm": {
          "name": "#%% md\n"
        }
      },
      "source": [
        "## Defining model"
      ]
    },
    {
      "cell_type": "code",
      "metadata": {
        "colab": {
          "base_uri": "https://localhost:8080/"
        },
        "id": "jjpQpWbkJrUb",
        "pycharm": {
          "name": "#%%\n"
        },
        "outputId": "5e441c47-1479-426f-a4f6-648a385307cf"
      },
      "source": [
        "device = torch.device('cuda' if torch.cuda.is_available() else 'cpu')\n",
        "device"
      ],
      "execution_count": 23,
      "outputs": [
        {
          "output_type": "execute_result",
          "data": {
            "text/plain": [
              "device(type='cuda')"
            ]
          },
          "metadata": {
            "tags": []
          },
          "execution_count": 23
        }
      ]
    },
    {
      "cell_type": "code",
      "metadata": {
        "id": "zFri3ivlJrUc",
        "pycharm": {
          "name": "#%%\n"
        }
      },
      "source": [
        "from torch.nn.utils.rnn import pack_padded_sequence, pad_packed_sequence\n",
        "class LSTM(nn.Module):\n",
        "\n",
        "    # define all the layers used in model\n",
        "    def __init__(self, vocab_size, embedding_dim, hidden_dim1, hidden_dim2, output_dim, n_layers,\n",
        "                 bidirectional, dropout, pad_index):\n",
        "        # Constructor\n",
        "        super().__init__()\n",
        "        self.n_layers = n_layers\n",
        "        self.hidden_dim1 = hidden_dim1\n",
        "        self.bidirectional = bidirectional\n",
        "        # embedding layer\n",
        "        self.embedding = nn.Embedding(vocab_size, embedding_dim, padding_idx = pad_index)\n",
        "\n",
        "        # lstm layer\n",
        "        self.lstm = nn.LSTM(embedding_dim,\n",
        "                            hidden_dim1,\n",
        "                            num_layers=n_layers,\n",
        "                            bidirectional=bidirectional,\n",
        "                            batch_first=True)\n",
        "        self.fc1 = nn.Linear(hidden_dim1 * 2, hidden_dim2)\n",
        "        self.fc2 = nn.Linear(hidden_dim2, output_dim)\n",
        "        self.relu = nn.SELU()\n",
        "        self.dropout = nn.Dropout(dropout)\n",
        "        self.dropout1 = nn.Dropout(dropout)\n",
        "        # activation function\n",
        "        self.act = nn.Softmax() #\\ F.log_softmax(outp)\n",
        "\n",
        "    def forward(self, text, text_lengths, hid=None):\n",
        "        # text = [batch size,sent_length]\n",
        "        if hid == None:\n",
        "            hid = self.init_hidden(text.shape[0])\n",
        "        embedded = self.embedding(text)\n",
        "        # embedded = [batch size, sent_len, emb dim]\n",
        "\n",
        "        # packed sequence\n",
        "        packed_embedded = pack_padded_sequence(embedded, text_lengths.cpu(), batch_first=True) # unpad\n",
        "\n",
        "        packed_output, (hidden, cell) = self.lstm(packed_embedded, hid)\n",
        "        # packed_output shape = (batch, seq_len, num_directions * hidden_size)\n",
        "        # hidden shape  = (num_layers * num_directions, batch, hidden_size)\n",
        "\n",
        "        # concat the final forward and backward hidden state\n",
        "        cat = torch.cat((hidden[-2, :, :], hidden[-1, :, :]), dim=1)\n",
        "        # output, output_lengths = pad_packed_sequence(packed_output)  # pad the sequence to the max length in the batch\n",
        "        cat = self.dropout1(cat)\n",
        "        rel = self.relu(cat)\n",
        "        dense1 = self.fc1(rel)\n",
        "\n",
        "        drop = self.dropout(dense1)\n",
        "        preds = self.fc2(drop)\n",
        "\n",
        "        # Final activation function\n",
        "        # preds = self.act(preds)\n",
        "        # preds = preds.argmax(dim=1).unsqueeze(0)\n",
        "        return preds, (hidden, cell)\n",
        "    \n",
        "    def init_hidden(self, batch_size):\n",
        "        ''' Initializes hidden state '''\n",
        "        # Create two new tensors with sizes n_layers x batch_size x n_hidden,\n",
        "        # initialized to zero, for hidden state and cell state of LSTM\n",
        "        weight = next(self.parameters()).data\n",
        "\n",
        "        hidden = (torch.zeros(self.n_layers*(2 if self.bidirectional else 1), batch_size, self.hidden_dim1).to(device),\n",
        "                  torch.zeros(self.n_layers*(2 if self.bidirectional else 1), batch_size, self.hidden_dim1).to(device))\n",
        "\n",
        "        return hidden"
      ],
      "execution_count": 24,
      "outputs": []
    },
    {
      "cell_type": "code",
      "metadata": {
        "colab": {
          "base_uri": "https://localhost:8080/"
        },
        "id": "2zLwnk5UJrUg",
        "pycharm": {
          "name": "#%%\n"
        },
        "outputId": "befe5e07-aca9-413e-f762-6478dd1b7df3"
      },
      "source": [
        "\n",
        "# hyper-parameters:\n",
        "lr = 0.0011204927661213097\n",
        "batch_size = 50\n",
        "dropout_keep_prob = 0.48209457439897463\n",
        "embedding_size = 361\n",
        "seed = 0\n",
        "clip=5\n",
        "num_classes = 3\n",
        "num_hidden_nodes = 117\n",
        "hidden_dim2 = 85\n",
        "num_layers = 2  # LSTM layers\n",
        "bi_directional = True\n",
        "num_epochs = 100\n",
        "\n",
        "parameters = [sherpa.Discrete('num_hidden_nodes', [64, 128]),\n",
        "              sherpa.Discrete('embedding_size', [300, 800]),\n",
        "              sherpa.Discrete('hidden_dim2', [64, 128]),\n",
        "              sherpa.Continuous('lr',[1e-6,1e-2]),\n",
        "              sherpa.Continuous('dropout_keep_prob',[0.4,0.8])]\n",
        "algorithm= sherpa.algorithms.Genetic(max_num_trials=50)\n",
        "pad_index = Text.vocab.stoi[Text.pad_token]\n",
        "\n",
        "# Build the model\n",
        "lstm_model = LSTM(vocab_size, embedding_size, num_hidden_nodes, hidden_dim2 , num_classes, num_layers,\n",
        "                  bi_directional, dropout_keep_prob, pad_index)\n",
        "lstm_model.to(device)\n",
        "print(lstm_model)"
      ],
      "execution_count": 25,
      "outputs": [
        {
          "output_type": "stream",
          "text": [
            "LSTM(\n",
            "  (embedding): Embedding(5002, 361, padding_idx=1)\n",
            "  (lstm): LSTM(361, 117, num_layers=2, batch_first=True, bidirectional=True)\n",
            "  (fc1): Linear(in_features=234, out_features=85, bias=True)\n",
            "  (fc2): Linear(in_features=85, out_features=3, bias=True)\n",
            "  (relu): SELU()\n",
            "  (dropout): Dropout(p=0.48209457439897463, inplace=False)\n",
            "  (dropout1): Dropout(p=0.48209457439897463, inplace=False)\n",
            "  (act): Softmax(dim=None)\n",
            ")\n"
          ],
          "name": "stdout"
        }
      ]
    },
    {
      "cell_type": "markdown",
      "metadata": {
        "id": "ZLmmdfsyJrUk",
        "pycharm": {
          "name": "#%% md\n"
        }
      },
      "source": [
        "## training the model"
      ]
    },
    {
      "cell_type": "code",
      "metadata": {
        "id": "tESutgn6JrUk",
        "pycharm": {
          "name": "#%%\n"
        }
      },
      "source": [
        "train_iterator, test_iterator = data.BucketIterator.splits((train_ds, test_ds),\n",
        "                                                           batch_size=batch_size,\n",
        "                                                           sort_key=lambda x: len(x.text),\n",
        "                                                           # Sort the batches by text length size\n",
        "                                                           sort_within_batch=True,\n",
        "                                                           device=device,\n",
        "                                                           )"
      ],
      "execution_count": 26,
      "outputs": []
    },
    {
      "cell_type": "code",
      "metadata": {
        "id": "Ne_LiAoSJrUk",
        "pycharm": {
          "name": "#%%\n"
        }
      },
      "source": [
        "def accuracy(probs, target):\n",
        "    winners = probs.argmax(dim=1)\n",
        "    corrects = (winners == target)\n",
        "    accuracy = corrects.sum().float() / float(target.size(0))\n",
        "    return accuracy\n",
        "\n",
        "def plot_cm(y_true, y_pred, target_names):\n",
        "    cm = confusion_matrix(y_true, y_pred, labels=target_names)\n",
        "    plt.figure(figsize=(5,5))\n",
        "    sb.heatmap(cm, annot=True, fmt=\"d\")\n",
        "    plt.title('Confusion matrix')\n",
        "    plt.ylabel('Actual label')\n",
        "    plt.xlabel('Predicted label')\n",
        "\n",
        "def train(model, iterator, optimizer, criterion):\n",
        "    epoch_loss = 0\n",
        "    epoch_acc = 0\n",
        "\n",
        "    model.train()\n",
        "    h = model.init_hidden(batch_size)\n",
        "    for batch in iterator:\n",
        "        optimizer.zero_grad()\n",
        "        # zero accumulated gradients\n",
        "        model.zero_grad()\n",
        "        # retrieve text and no. of words\n",
        "        text, text_lengths = batch.text\n",
        "        if (text.shape[0], text.shape[1]) != (batch_size, max_document_length):\n",
        "            continue\n",
        "\n",
        "        # Creating new variables for the hidden state, otherwise\n",
        "        # we'd backprop through the entire training history\n",
        "        h = tuple([each.data for each in h])\n",
        "\n",
        "        predictions, h = model(text, text_lengths, h)\n",
        "        loss = criterion(predictions, batch.labels.squeeze())\n",
        "\n",
        "        acc = accuracy(predictions, batch.labels)\n",
        "\n",
        "        # perform backpropagation\n",
        "        loss.backward()\n",
        "        # `clip_grad_norm` helps prevent the exploding gradient problem in RNNs / LSTMs.\n",
        "        nn.utils.clip_grad_norm_(model.parameters(), clip)\n",
        "        optimizer.step()\n",
        "\n",
        "        epoch_loss += loss.item()\n",
        "        epoch_acc += acc.item()\n",
        "\n",
        "    return epoch_loss / len(iterator), epoch_acc / len(iterator)\n",
        "\n",
        "def evaluate(model, iterator, criterion, report=False):\n",
        "    epoch_loss = 0\n",
        "    epoch_acc = 0\n",
        "    report_pred_test =[]\n",
        "    report_label_test =[]\n",
        "\n",
        "    model.eval()\n",
        "    val_h = model.init_hidden(batch_size)\n",
        "    with torch.no_grad():\n",
        "        for batch in iterator:\n",
        "            text, text_lengths = batch.text\n",
        "            if (text.shape[0], text.shape[1]) != (batch_size, max_document_length):\n",
        "                continue\n",
        "\n",
        "            # Creating new variables for the hidden state, otherwise\n",
        "            # we'd backprop through the entire training history\n",
        "            val_h = tuple([each.data for each in val_h])\n",
        "\n",
        "            predictions, val_h = model(text, text_lengths, val_h)\n",
        "\n",
        "            loss = criterion(predictions, batch.labels)\n",
        "\n",
        "            acc = accuracy(predictions, batch.labels)\n",
        "            if report:\n",
        "                report_pred_test.extend(predictions.argmax(dim=1).cpu())\n",
        "                report_label_test.extend(batch.labels.cpu())\n",
        "\n",
        "            epoch_loss += loss.item()\n",
        "            epoch_acc += acc.item()\n",
        "    if report:\n",
        "        print(classification_report(report_label_test, report_pred_test, target_names=['neutral', 'positive', 'negative']))\n",
        "        plot_cm(report_label_test, report_pred_test, target_names=[0, 1, 2])\n",
        "\n",
        "    return epoch_loss / len(iterator), epoch_acc / len(iterator)\n",
        "\n",
        "\n",
        "def run_train(epochs, model, train_iterator, valid_iterator, optimizer, criterion, study=None, trial=None):\n",
        "    best_valid_loss = float('inf')\n",
        "\n",
        "    for epoch in range(epochs):\n",
        "\n",
        "        # train the model\n",
        "        train_loss, train_acc = train(model, train_iterator, optimizer, criterion)\n",
        "\n",
        "        # evaluate the model\n",
        "        valid_loss, valid_acc = evaluate(model, valid_iterator, criterion)\n",
        "        \n",
        "        # save the best model\n",
        "        if valid_loss < best_valid_loss:\n",
        "            best_valid_loss = valid_loss\n",
        "            torch.save(model.state_dict(), 'checkpoint/twitter.t7')\n",
        "\n",
        "        print(f'\\tTrain Loss: {train_loss:.3f} | Train Acc: {train_acc * 100:.2f}%')\n",
        "        print(f'\\t Val. Loss: {valid_loss:.3f} |  Val. Acc: {valid_acc * 100:.2f}%')\n",
        "        if study != None:\n",
        "          study.add_observation(trial=trial,\n",
        "                          iteration=epoch,\n",
        "                          objective=valid_loss)\n",
        "          if study.should_trial_stop(trial):\n",
        "            break "
      ],
      "execution_count": 27,
      "outputs": []
    },
    {
      "cell_type": "code",
      "metadata": {
        "id": "aPadIekjJrUl",
        "pycharm": {
          "name": "#%%\n"
        }
      },
      "source": [
        "# loss function\n",
        "loss_func = nn.CrossEntropyLoss()\n",
        "optimizer = torch.optim.Adam(lstm_model.parameters(), lr=lr)"
      ],
      "execution_count": 28,
      "outputs": []
    },
    {
      "cell_type": "code",
      "metadata": {
        "id": "r9ILuYmE4PEQ",
        "outputId": "e2732ae8-38e5-4690-f746-2fda00904787",
        "colab": {
          "base_uri": "https://localhost:8080/",
          "height": 544
        }
      },
      "source": [
        "run_train(num_epochs, lstm_model, train_iterator, test_iterator, optimizer, loss_func)"
      ],
      "execution_count": 29,
      "outputs": [
        {
          "output_type": "stream",
          "text": [
            "\tTrain Loss: 0.694 | Train Acc: 71.72%\n",
            "\t Val. Loss: 0.584 |  Val. Acc: 77.77%\n",
            "\tTrain Loss: 0.576 | Train Acc: 78.32%\n",
            "\t Val. Loss: 0.566 |  Val. Acc: 78.53%\n",
            "\tTrain Loss: 0.539 | Train Acc: 79.80%\n",
            "\t Val. Loss: 0.563 |  Val. Acc: 78.94%\n",
            "\tTrain Loss: 0.505 | Train Acc: 81.04%\n",
            "\t Val. Loss: 0.560 |  Val. Acc: 79.02%\n",
            "\tTrain Loss: 0.465 | Train Acc: 82.63%\n",
            "\t Val. Loss: 0.586 |  Val. Acc: 78.62%\n",
            "\tTrain Loss: 0.428 | Train Acc: 84.08%\n",
            "\t Val. Loss: 0.603 |  Val. Acc: 78.28%\n",
            "\tTrain Loss: 0.384 | Train Acc: 85.80%\n",
            "\t Val. Loss: 0.642 |  Val. Acc: 77.46%\n"
          ],
          "name": "stdout"
        },
        {
          "output_type": "error",
          "ename": "KeyboardInterrupt",
          "evalue": "ignored",
          "traceback": [
            "\u001b[0;31m---------------------------------------------------------------------------\u001b[0m",
            "\u001b[0;31mKeyboardInterrupt\u001b[0m                         Traceback (most recent call last)",
            "\u001b[0;32m<ipython-input-29-8395ce2faaf6>\u001b[0m in \u001b[0;36m<module>\u001b[0;34m()\u001b[0m\n\u001b[0;32m----> 1\u001b[0;31m \u001b[0mrun_train\u001b[0m\u001b[0;34m(\u001b[0m\u001b[0mnum_epochs\u001b[0m\u001b[0;34m,\u001b[0m \u001b[0mlstm_model\u001b[0m\u001b[0;34m,\u001b[0m \u001b[0mtrain_iterator\u001b[0m\u001b[0;34m,\u001b[0m \u001b[0mtest_iterator\u001b[0m\u001b[0;34m,\u001b[0m \u001b[0moptimizer\u001b[0m\u001b[0;34m,\u001b[0m \u001b[0mloss_func\u001b[0m\u001b[0;34m)\u001b[0m\u001b[0;34m\u001b[0m\u001b[0;34m\u001b[0m\u001b[0m\n\u001b[0m",
            "\u001b[0;32m<ipython-input-27-ebc1c9bdfa16>\u001b[0m in \u001b[0;36mrun_train\u001b[0;34m(epochs, model, train_iterator, valid_iterator, optimizer, criterion, study, trial)\u001b[0m\n\u001b[1;32m     90\u001b[0m \u001b[0;34m\u001b[0m\u001b[0m\n\u001b[1;32m     91\u001b[0m         \u001b[0;31m# train the model\u001b[0m\u001b[0;34m\u001b[0m\u001b[0;34m\u001b[0m\u001b[0;34m\u001b[0m\u001b[0m\n\u001b[0;32m---> 92\u001b[0;31m         \u001b[0mtrain_loss\u001b[0m\u001b[0;34m,\u001b[0m \u001b[0mtrain_acc\u001b[0m \u001b[0;34m=\u001b[0m \u001b[0mtrain\u001b[0m\u001b[0;34m(\u001b[0m\u001b[0mmodel\u001b[0m\u001b[0;34m,\u001b[0m \u001b[0mtrain_iterator\u001b[0m\u001b[0;34m,\u001b[0m \u001b[0moptimizer\u001b[0m\u001b[0;34m,\u001b[0m \u001b[0mcriterion\u001b[0m\u001b[0;34m)\u001b[0m\u001b[0;34m\u001b[0m\u001b[0;34m\u001b[0m\u001b[0m\n\u001b[0m\u001b[1;32m     93\u001b[0m \u001b[0;34m\u001b[0m\u001b[0m\n\u001b[1;32m     94\u001b[0m         \u001b[0;31m# evaluate the model\u001b[0m\u001b[0;34m\u001b[0m\u001b[0;34m\u001b[0m\u001b[0;34m\u001b[0m\u001b[0m\n",
            "\u001b[0;32m<ipython-input-27-ebc1c9bdfa16>\u001b[0m in \u001b[0;36mtrain\u001b[0;34m(model, iterator, optimizer, criterion)\u001b[0m\n\u001b[1;32m     38\u001b[0m \u001b[0;34m\u001b[0m\u001b[0m\n\u001b[1;32m     39\u001b[0m         \u001b[0;31m# perform backpropagation\u001b[0m\u001b[0;34m\u001b[0m\u001b[0;34m\u001b[0m\u001b[0;34m\u001b[0m\u001b[0m\n\u001b[0;32m---> 40\u001b[0;31m         \u001b[0mloss\u001b[0m\u001b[0;34m.\u001b[0m\u001b[0mbackward\u001b[0m\u001b[0;34m(\u001b[0m\u001b[0;34m)\u001b[0m\u001b[0;34m\u001b[0m\u001b[0;34m\u001b[0m\u001b[0m\n\u001b[0m\u001b[1;32m     41\u001b[0m         \u001b[0;31m# `clip_grad_norm` helps prevent the exploding gradient problem in RNNs / LSTMs.\u001b[0m\u001b[0;34m\u001b[0m\u001b[0;34m\u001b[0m\u001b[0;34m\u001b[0m\u001b[0m\n\u001b[1;32m     42\u001b[0m         \u001b[0mnn\u001b[0m\u001b[0;34m.\u001b[0m\u001b[0mutils\u001b[0m\u001b[0;34m.\u001b[0m\u001b[0mclip_grad_norm_\u001b[0m\u001b[0;34m(\u001b[0m\u001b[0mmodel\u001b[0m\u001b[0;34m.\u001b[0m\u001b[0mparameters\u001b[0m\u001b[0;34m(\u001b[0m\u001b[0;34m)\u001b[0m\u001b[0;34m,\u001b[0m \u001b[0mclip\u001b[0m\u001b[0;34m)\u001b[0m\u001b[0;34m\u001b[0m\u001b[0;34m\u001b[0m\u001b[0m\n",
            "\u001b[0;32m/usr/local/lib/python3.7/dist-packages/torch/tensor.py\u001b[0m in \u001b[0;36mbackward\u001b[0;34m(self, gradient, retain_graph, create_graph, inputs)\u001b[0m\n\u001b[1;32m    243\u001b[0m                 \u001b[0mcreate_graph\u001b[0m\u001b[0;34m=\u001b[0m\u001b[0mcreate_graph\u001b[0m\u001b[0;34m,\u001b[0m\u001b[0;34m\u001b[0m\u001b[0;34m\u001b[0m\u001b[0m\n\u001b[1;32m    244\u001b[0m                 inputs=inputs)\n\u001b[0;32m--> 245\u001b[0;31m         \u001b[0mtorch\u001b[0m\u001b[0;34m.\u001b[0m\u001b[0mautograd\u001b[0m\u001b[0;34m.\u001b[0m\u001b[0mbackward\u001b[0m\u001b[0;34m(\u001b[0m\u001b[0mself\u001b[0m\u001b[0;34m,\u001b[0m \u001b[0mgradient\u001b[0m\u001b[0;34m,\u001b[0m \u001b[0mretain_graph\u001b[0m\u001b[0;34m,\u001b[0m \u001b[0mcreate_graph\u001b[0m\u001b[0;34m,\u001b[0m \u001b[0minputs\u001b[0m\u001b[0;34m=\u001b[0m\u001b[0minputs\u001b[0m\u001b[0;34m)\u001b[0m\u001b[0;34m\u001b[0m\u001b[0;34m\u001b[0m\u001b[0m\n\u001b[0m\u001b[1;32m    246\u001b[0m \u001b[0;34m\u001b[0m\u001b[0m\n\u001b[1;32m    247\u001b[0m     \u001b[0;32mdef\u001b[0m \u001b[0mregister_hook\u001b[0m\u001b[0;34m(\u001b[0m\u001b[0mself\u001b[0m\u001b[0;34m,\u001b[0m \u001b[0mhook\u001b[0m\u001b[0;34m)\u001b[0m\u001b[0;34m:\u001b[0m\u001b[0;34m\u001b[0m\u001b[0;34m\u001b[0m\u001b[0m\n",
            "\u001b[0;32m/usr/local/lib/python3.7/dist-packages/torch/autograd/__init__.py\u001b[0m in \u001b[0;36mbackward\u001b[0;34m(tensors, grad_tensors, retain_graph, create_graph, grad_variables, inputs)\u001b[0m\n\u001b[1;32m    145\u001b[0m     Variable._execution_engine.run_backward(\n\u001b[1;32m    146\u001b[0m         \u001b[0mtensors\u001b[0m\u001b[0;34m,\u001b[0m \u001b[0mgrad_tensors_\u001b[0m\u001b[0;34m,\u001b[0m \u001b[0mretain_graph\u001b[0m\u001b[0;34m,\u001b[0m \u001b[0mcreate_graph\u001b[0m\u001b[0;34m,\u001b[0m \u001b[0minputs\u001b[0m\u001b[0;34m,\u001b[0m\u001b[0;34m\u001b[0m\u001b[0;34m\u001b[0m\u001b[0m\n\u001b[0;32m--> 147\u001b[0;31m         allow_unreachable=True, accumulate_grad=True)  # allow_unreachable flag\n\u001b[0m\u001b[1;32m    148\u001b[0m \u001b[0;34m\u001b[0m\u001b[0m\n\u001b[1;32m    149\u001b[0m \u001b[0;34m\u001b[0m\u001b[0m\n",
            "\u001b[0;31mKeyboardInterrupt\u001b[0m: "
          ]
        }
      ]
    },
    {
      "cell_type": "code",
      "metadata": {
        "id": "wlRLwH6Kav-o"
      },
      "source": [
        "study = sherpa.Study(parameters=parameters,\n",
        "                     algorithm=algorithm,\n",
        "                     lower_is_better=True)\n",
        "for trial in study:\n",
        "    print(\"Trial {}:\\t{}\".format(trial.id, trial.parameters))\n",
        "    lstm_model = LSTM(vocab_size, trial.parameters['embedding_size'], trial.parameters['num_hidden_nodes'], trial.parameters['hidden_dim2'] , num_classes, num_layers,\n",
        "                  bi_directional, trial.parameters['dropout_keep_prob'], pad_index)\n",
        "    lstm_model.to(device)\n",
        "    print(lstm_model)\n",
        "    optimizer = torch.optim.Adam(lstm_model.parameters(), lr=trial.parameters['lr'])\n",
        "    run_train(num_epochs, lstm_model, train_iterator, test_iterator, optimizer, loss_func, study, trial)\n",
        "    study.finalize(trial=trial)"
      ],
      "execution_count": null,
      "outputs": []
    },
    {
      "cell_type": "code",
      "metadata": {
        "id": "1M3eT4p7197o"
      },
      "source": [
        "print(study.get_best_result())\n",
        "lr = study.get_best_result()['lr']\n",
        "dropout_keep_prob = study.get_best_result()['dropout_keep_prob']\n",
        "embedding_size = study.get_best_result()['embedding_size']\n",
        "num_hidden_nodes = study.get_best_result()['num_hidden_nodes']\n",
        "hidden_dim2 = study.get_best_result()['hidden_dim2']\n",
        "num_epochs = 100"
      ],
      "execution_count": null,
      "outputs": []
    },
    {
      "cell_type": "code",
      "metadata": {
        "id": "IXSVKXpkJrUl",
        "pycharm": {
          "name": "#%%\n"
        }
      },
      "source": [
        "run_train(num_epochs, lstm_model, train_iterator, test_iterator, optimizer, loss_func)"
      ],
      "execution_count": null,
      "outputs": []
    },
    {
      "cell_type": "code",
      "metadata": {
        "id": "zNhQggYQJrUm",
        "pycharm": {
          "name": "#%%\n"
        },
        "outputId": "527d0421-e10f-4e7f-dbb2-f18cb16a4d25",
        "colab": {
          "base_uri": "https://localhost:8080/",
          "height": 537
        }
      },
      "source": [
        "lstm_model.load_state_dict(torch.load('checkpoint/twitter.t7', map_location=device))\n",
        "# predict\n",
        "test_loss, test_acc = evaluate(lstm_model, test_iterator, loss_func, report=True)\n",
        "print(f'Test Loss: {test_loss:.3f} | Test Acc: {test_acc * 100:.2f}%')"
      ],
      "execution_count": 30,
      "outputs": [
        {
          "output_type": "stream",
          "text": [
            "              precision    recall  f1-score   support\n",
            "\n",
            "     neutral       0.75      0.86      0.80      9970\n",
            "    positive       0.83      0.79      0.81     12796\n",
            "    negative       0.79      0.69      0.74      6184\n",
            "\n",
            "    accuracy                           0.79     28950\n",
            "   macro avg       0.79      0.78      0.78     28950\n",
            "weighted avg       0.79      0.79      0.79     28950\n",
            "\n",
            "Test Loss: 0.560 | Test Acc: 79.02%\n"
          ],
          "name": "stdout"
        },
        {
          "output_type": "display_data",
          "data": {
            "image/png": "[encoded data removed]",
            "text/plain": [
              "<Figure size 360x360 with 2 Axes>"
            ]
          },
          "metadata": {
            "tags": [],
            "needs_background": "light"
          }
        }
      ]
    },
    {
      "cell_type": "markdown",
      "metadata": {
        "collapsed": false,
        "id": "ocDF29euwWph"
      },
      "source": [
        "If the model is predicted perfectly confusion matrix should be diagonal which indicates values off the main diagonal representing incorrect prediction is zero"
      ]
    },
    {
      "cell_type": "markdown",
      "metadata": {
        "id": "QifVxbhqJrUm",
        "pycharm": {
          "name": "#%% md\n"
        }
      },
      "source": [
        "## Visualizing the model"
      ]
    },
    {
      "cell_type": "code",
      "metadata": {
        "ExecuteTime": {
          "end_time": "2021-04-04T20:11:40.665155Z",
          "start_time": "2021-04-04T20:11:40.648151Z"
        },
        "id": "gH1wMUQVJrUm",
        "pycharm": {
          "name": "#%%\n"
        }
      },
      "source": [
        "vis_data_records_ig = []\n",
        "def forward(input, text_length):\n",
        "    return F.softmax(lstm_model(input, text_length)[0])\n",
        "lig = LayerIntegratedGradients(forward, lstm_model.embedding)\n",
        "def interpret_sentence(model, sentence, min_len = max_document_length, label = 0):\n",
        "    model.train()\n",
        "    h = model.init_hidden(1)\n",
        "    h500 = model.init_hidden(500)\n",
        "    text = preprocess(sentence)\n",
        "    actual_len = len(text)\n",
        "    if len(text) < min_len:\n",
        "        text += ['<pad>'] * (min_len - len(text))\n",
        "    indexed = [Text.vocab.stoi[t] for t in text]\n",
        "\n",
        "    model.zero_grad()\n",
        "\n",
        "    input_indices = torch.tensor(indexed, device=device)\n",
        "    input_indices = input_indices.unsqueeze(0)\n",
        "    text_length = torch.tensor([actual_len], device=device)\n",
        "    # input_indices dim: [sequence_length]\n",
        "    seq_length = min_len\n",
        "\n",
        "    # predict\n",
        "    pred = F.softmax(model(input_indices, text_length, h)[0]).argmax(dim=1).item()\n",
        "    pred_ind = round(pred)\n",
        "\n",
        "    # generate reference indices for each sample\n",
        "    reference_indices = token_reference.generate_reference(seq_length, device=device).unsqueeze(0)\n",
        "\n",
        "    # compute attributions and approximation delta using layer integrated gradients\n",
        "    attributions_ig, delta = lig.attribute(input_indices, reference_indices,\n",
        "                                           n_steps=500,target=2-label, return_convergence_delta=True, additional_forward_args=text_length)\n",
        "\n",
        "    print(sentence, 'pred: ', {1:'positive', 0: 'netural', 2: 'negative'}[pred_ind], '(', '%.2f'%pred, ')', ', delta: ', abs(delta))\n",
        "\n",
        "    add_attributions_to_visualizer(attributions_ig, text, pred, pred_ind, label, delta, vis_data_records_ig)\n",
        "\n",
        "def add_attributions_to_visualizer(attributions, text, pred, pred_ind, label, delta, vis_data_records):\n",
        "    attributions = attributions.sum(dim=2).squeeze(0)\n",
        "    attributions = attributions / torch.norm(attributions)\n",
        "    attributions = attributions.cpu().detach().numpy()\n",
        "\n",
        "\n",
        "    # storing couple samples in an array for visualization purposes\n",
        "    vis_data_records.append(visualization.VisualizationDataRecord(\n",
        "        attributions,\n",
        "        pred,\n",
        "        {1:'positive', 0: 'netural', 2: 'negative'}[pred_ind],\n",
        "        {1:'positive', 0: 'netural', 2: 'negative'}[label],\n",
        "        {1:'positive', 0: 'netural', 2: 'negative'}[label],\n",
        "        attributions.sum(),\n",
        "        text,\n",
        "        delta))"
      ],
      "execution_count": 31,
      "outputs": []
    },
    {
      "cell_type": "code",
      "metadata": {
        "pycharm": {
          "name": "#%%\n"
        },
        "id": "wUrqYoqLz9ks",
        "outputId": "a6aaa474-8cbe-419e-c91d-367139c70319",
        "colab": {
          "base_uri": "https://localhost:8080/"
        }
      },
      "source": [
        "interpret_sentence(lstm_model, 'It was a fantastic performance !', label=1)\n",
        "interpret_sentence(lstm_model, 'Best film ever', label=1)\n",
        "interpret_sentence(lstm_model, 'Such a great show!', label=1)\n",
        "interpret_sentence(lstm_model, 'It was a horrible movie', label=2)\n",
        "interpret_sentence(lstm_model, 'I\\'ve never watched something as bad', label=2)\n",
        "interpret_sentence(lstm_model, 'It is a disgusting movie!', label=2)\n",
        "interpret_sentence(lstm_model, 'normal', label=0)"
      ],
      "execution_count": 32,
      "outputs": [
        {
          "output_type": "stream",
          "text": [
            "It was a fantastic performance ! pred:  positive ( 1.00 ) , delta:  tensor([0.0121], device='cuda:0', dtype=torch.float64)\n",
            "Best film ever pred:  positive ( 1.00 ) , delta:  tensor([0.0071], device='cuda:0', dtype=torch.float64)\n",
            "Such a great show! pred:  positive ( 1.00 ) , delta:  tensor([0.0549], device='cuda:0', dtype=torch.float64)\n",
            "It was a horrible movie pred:  negative ( 2.00 ) , delta:  tensor([0.0399], device='cuda:0', dtype=torch.float64)\n",
            "I've never watched something as bad pred:  negative ( 2.00 ) , delta:  tensor([0.0748], device='cuda:0', dtype=torch.float64)\n",
            "It is a disgusting movie! pred:  negative ( 2.00 ) , delta:  tensor([0.0005], device='cuda:0', dtype=torch.float64)\n",
            "normal pred:  positive ( 1.00 ) , delta:  tensor([0.0217], device='cuda:0', dtype=torch.float64)\n"
          ],
          "name": "stdout"
        }
      ]
    },
    {
      "cell_type": "code",
      "metadata": {
        "pycharm": {
          "name": "#%%\n"
        },
        "id": "sheZvYeYz9ks",
        "outputId": "a1956ebe-9059-4a2d-d566-ac85360b1b5f",
        "colab": {
          "base_uri": "https://localhost:8080/",
          "height": 397
        }
      },
      "source": [
        "_ = visualization.visualize_text(vis_data_records_ig)"
      ],
      "execution_count": 33,
      "outputs": [
        {
          "output_type": "display_data",
          "data": {
            "text/html": [
              "<table width: 100%><div style=\"border-top: 1px solid; margin-top: 5px;             padding-top: 5px; display: inline-block\"><b>Legend: </b><span style=\"display: inline-block; width: 10px; height: 10px;                 border: 1px solid; background-color:                 hsl(0, 75%, 60%)\"></span> Negative  <span style=\"display: inline-block; width: 10px; height: 10px;                 border: 1px solid; background-color:                 hsl(0, 75%, 100%)\"></span> Neutral  <span style=\"display: inline-block; width: 10px; height: 10px;                 border: 1px solid; background-color:                 hsl(120, 75%, 50%)\"></span> Positive  </div><tr><th>True Label</th><th>Predicted Label</th><th>Attribution Label</th><th>Attribution Score</th><th>Word Importance</th><tr><td><text style=\"padding-right:2em\"><b>positive</b></text></td><td><text style=\"padding-right:2em\"><b>positive (1.00)</b></text></td><td><text style=\"padding-right:2em\"><b>positive</b></text></td><td><text style=\"padding-right:2em\"><b>1.08</b></text></td><td><mark style=\"background-color: hsl(0, 75%, 100%); opacity:1.0;                     line-height:1.75\"><font color=\"black\"> it                    </font></mark><mark style=\"background-color: hsl(120, 75%, 51%); opacity:1.0;                     line-height:1.75\"><font color=\"black\"> fantast                    </font></mark><mark style=\"background-color: hsl(120, 75%, 96%); opacity:1.0;                     line-height:1.75\"><font color=\"black\"> perform                    </font></mark><mark style=\"background-color: hsl(0, 75%, 100%); opacity:1.0;                     line-height:1.75\"><font color=\"black\"> #pad                    </font></mark><mark style=\"background-color: hsl(0, 75%, 100%); opacity:1.0;                     line-height:1.75\"><font color=\"black\"> #pad                    </font></mark><mark style=\"background-color: hsl(0, 75%, 100%); opacity:1.0;                     line-height:1.75\"><font color=\"black\"> #pad                    </font></mark><mark style=\"background-color: hsl(0, 75%, 100%); opacity:1.0;                     line-height:1.75\"><font color=\"black\"> #pad                    </font></mark><mark style=\"background-color: hsl(0, 75%, 100%); opacity:1.0;                     line-height:1.75\"><font color=\"black\"> #pad                    </font></mark><mark style=\"background-color: hsl(0, 75%, 100%); opacity:1.0;                     line-height:1.75\"><font color=\"black\"> #pad                    </font></mark><mark style=\"background-color: hsl(0, 75%, 100%); opacity:1.0;                     line-height:1.75\"><font color=\"black\"> #pad                    </font></mark><mark style=\"background-color: hsl(0, 75%, 100%); opacity:1.0;                     line-height:1.75\"><font color=\"black\"> #pad                    </font></mark><mark style=\"background-color: hsl(0, 75%, 100%); opacity:1.0;                     line-height:1.75\"><font color=\"black\"> #pad                    </font></mark><mark style=\"background-color: hsl(0, 75%, 100%); opacity:1.0;                     line-height:1.75\"><font color=\"black\"> #pad                    </font></mark><mark style=\"background-color: hsl(0, 75%, 100%); opacity:1.0;                     line-height:1.75\"><font color=\"black\"> #pad                    </font></mark><mark style=\"background-color: hsl(0, 75%, 100%); opacity:1.0;                     line-height:1.75\"><font color=\"black\"> #pad                    </font></mark><mark style=\"background-color: hsl(0, 75%, 100%); opacity:1.0;                     line-height:1.75\"><font color=\"black\"> #pad                    </font></mark><mark style=\"background-color: hsl(0, 75%, 100%); opacity:1.0;                     line-height:1.75\"><font color=\"black\"> #pad                    </font></mark><mark style=\"background-color: hsl(0, 75%, 100%); opacity:1.0;                     line-height:1.75\"><font color=\"black\"> #pad                    </font></mark><mark style=\"background-color: hsl(0, 75%, 100%); opacity:1.0;                     line-height:1.75\"><font color=\"black\"> #pad                    </font></mark><mark style=\"background-color: hsl(0, 75%, 100%); opacity:1.0;                     line-height:1.75\"><font color=\"black\"> #pad                    </font></mark><mark style=\"background-color: hsl(0, 75%, 100%); opacity:1.0;                     line-height:1.75\"><font color=\"black\"> #pad                    </font></mark><mark style=\"background-color: hsl(0, 75%, 100%); opacity:1.0;                     line-height:1.75\"><font color=\"black\"> #pad                    </font></mark><mark style=\"background-color: hsl(0, 75%, 100%); opacity:1.0;                     line-height:1.75\"><font color=\"black\"> #pad                    </font></mark></td><tr><tr><td><text style=\"padding-right:2em\"><b>positive</b></text></td><td><text style=\"padding-right:2em\"><b>positive (1.00)</b></text></td><td><text style=\"padding-right:2em\"><b>positive</b></text></td><td><text style=\"padding-right:2em\"><b>1.01</b></text></td><td><mark style=\"background-color: hsl(120, 75%, 51%); opacity:1.0;                     line-height:1.75\"><font color=\"black\"> best                    </font></mark><mark style=\"background-color: hsl(120, 75%, 100%); opacity:1.0;                     line-height:1.75\"><font color=\"black\"> film                    </font></mark><mark style=\"background-color: hsl(0, 75%, 100%); opacity:1.0;                     line-height:1.75\"><font color=\"black\"> #pad                    </font></mark><mark style=\"background-color: hsl(0, 75%, 100%); opacity:1.0;                     line-height:1.75\"><font color=\"black\"> #pad                    </font></mark><mark style=\"background-color: hsl(0, 75%, 100%); opacity:1.0;                     line-height:1.75\"><font color=\"black\"> #pad                    </font></mark><mark style=\"background-color: hsl(0, 75%, 100%); opacity:1.0;                     line-height:1.75\"><font color=\"black\"> #pad                    </font></mark><mark style=\"background-color: hsl(0, 75%, 100%); opacity:1.0;                     line-height:1.75\"><font color=\"black\"> #pad                    </font></mark><mark style=\"background-color: hsl(0, 75%, 100%); opacity:1.0;                     line-height:1.75\"><font color=\"black\"> #pad                    </font></mark><mark style=\"background-color: hsl(0, 75%, 100%); opacity:1.0;                     line-height:1.75\"><font color=\"black\"> #pad                    </font></mark><mark style=\"background-color: hsl(0, 75%, 100%); opacity:1.0;                     line-height:1.75\"><font color=\"black\"> #pad                    </font></mark><mark style=\"background-color: hsl(0, 75%, 100%); opacity:1.0;                     line-height:1.75\"><font color=\"black\"> #pad                    </font></mark><mark style=\"background-color: hsl(0, 75%, 100%); opacity:1.0;                     line-height:1.75\"><font color=\"black\"> #pad                    </font></mark><mark style=\"background-color: hsl(0, 75%, 100%); opacity:1.0;                     line-height:1.75\"><font color=\"black\"> #pad                    </font></mark><mark style=\"background-color: hsl(0, 75%, 100%); opacity:1.0;                     line-height:1.75\"><font color=\"black\"> #pad                    </font></mark><mark style=\"background-color: hsl(0, 75%, 100%); opacity:1.0;                     line-height:1.75\"><font color=\"black\"> #pad                    </font></mark><mark style=\"background-color: hsl(0, 75%, 100%); opacity:1.0;                     line-height:1.75\"><font color=\"black\"> #pad                    </font></mark><mark style=\"background-color: hsl(0, 75%, 100%); opacity:1.0;                     line-height:1.75\"><font color=\"black\"> #pad                    </font></mark><mark style=\"background-color: hsl(0, 75%, 100%); opacity:1.0;                     line-height:1.75\"><font color=\"black\"> #pad                    </font></mark><mark style=\"background-color: hsl(0, 75%, 100%); opacity:1.0;                     line-height:1.75\"><font color=\"black\"> #pad                    </font></mark><mark style=\"background-color: hsl(0, 75%, 100%); opacity:1.0;                     line-height:1.75\"><font color=\"black\"> #pad                    </font></mark><mark style=\"background-color: hsl(0, 75%, 100%); opacity:1.0;                     line-height:1.75\"><font color=\"black\"> #pad                    </font></mark><mark style=\"background-color: hsl(0, 75%, 100%); opacity:1.0;                     line-height:1.75\"><font color=\"black\"> #pad                    </font></mark><mark style=\"background-color: hsl(0, 75%, 100%); opacity:1.0;                     line-height:1.75\"><font color=\"black\"> #pad                    </font></mark></td><tr><tr><td><text style=\"padding-right:2em\"><b>positive</b></text></td><td><text style=\"padding-right:2em\"><b>positive (1.00)</b></text></td><td><text style=\"padding-right:2em\"><b>positive</b></text></td><td><text style=\"padding-right:2em\"><b>1.06</b></text></td><td><mark style=\"background-color: hsl(0, 75%, 100%); opacity:1.0;                     line-height:1.75\"><font color=\"black\"> such                    </font></mark><mark style=\"background-color: hsl(120, 75%, 51%); opacity:1.0;                     line-height:1.75\"><font color=\"black\"> great                    </font></mark><mark style=\"background-color: hsl(120, 75%, 97%); opacity:1.0;                     line-height:1.75\"><font color=\"black\"> show                    </font></mark><mark style=\"background-color: hsl(0, 75%, 100%); opacity:1.0;                     line-height:1.75\"><font color=\"black\"> #pad                    </font></mark><mark style=\"background-color: hsl(0, 75%, 100%); opacity:1.0;                     line-height:1.75\"><font color=\"black\"> #pad                    </font></mark><mark style=\"background-color: hsl(0, 75%, 100%); opacity:1.0;                     line-height:1.75\"><font color=\"black\"> #pad                    </font></mark><mark style=\"background-color: hsl(0, 75%, 100%); opacity:1.0;                     line-height:1.75\"><font color=\"black\"> #pad                    </font></mark><mark style=\"background-color: hsl(0, 75%, 100%); opacity:1.0;                     line-height:1.75\"><font color=\"black\"> #pad                    </font></mark><mark style=\"background-color: hsl(0, 75%, 100%); opacity:1.0;                     line-height:1.75\"><font color=\"black\"> #pad                    </font></mark><mark style=\"background-color: hsl(0, 75%, 100%); opacity:1.0;                     line-height:1.75\"><font color=\"black\"> #pad                    </font></mark><mark style=\"background-color: hsl(0, 75%, 100%); opacity:1.0;                     line-height:1.75\"><font color=\"black\"> #pad                    </font></mark><mark style=\"background-color: hsl(0, 75%, 100%); opacity:1.0;                     line-height:1.75\"><font color=\"black\"> #pad                    </font></mark><mark style=\"background-color: hsl(0, 75%, 100%); opacity:1.0;                     line-height:1.75\"><font color=\"black\"> #pad                    </font></mark><mark style=\"background-color: hsl(0, 75%, 100%); opacity:1.0;                     line-height:1.75\"><font color=\"black\"> #pad                    </font></mark><mark style=\"background-color: hsl(0, 75%, 100%); opacity:1.0;                     line-height:1.75\"><font color=\"black\"> #pad                    </font></mark><mark style=\"background-color: hsl(0, 75%, 100%); opacity:1.0;                     line-height:1.75\"><font color=\"black\"> #pad                    </font></mark><mark style=\"background-color: hsl(0, 75%, 100%); opacity:1.0;                     line-height:1.75\"><font color=\"black\"> #pad                    </font></mark><mark style=\"background-color: hsl(0, 75%, 100%); opacity:1.0;                     line-height:1.75\"><font color=\"black\"> #pad                    </font></mark><mark style=\"background-color: hsl(0, 75%, 100%); opacity:1.0;                     line-height:1.75\"><font color=\"black\"> #pad                    </font></mark><mark style=\"background-color: hsl(0, 75%, 100%); opacity:1.0;                     line-height:1.75\"><font color=\"black\"> #pad                    </font></mark><mark style=\"background-color: hsl(0, 75%, 100%); opacity:1.0;                     line-height:1.75\"><font color=\"black\"> #pad                    </font></mark><mark style=\"background-color: hsl(0, 75%, 100%); opacity:1.0;                     line-height:1.75\"><font color=\"black\"> #pad                    </font></mark><mark style=\"background-color: hsl(0, 75%, 100%); opacity:1.0;                     line-height:1.75\"><font color=\"black\"> #pad                    </font></mark></td><tr><tr><td><text style=\"padding-right:2em\"><b>negative</b></text></td><td><text style=\"padding-right:2em\"><b>negative (2.00)</b></text></td><td><text style=\"padding-right:2em\"><b>negative</b></text></td><td><text style=\"padding-right:2em\"><b>-1.02</b></text></td><td><mark style=\"background-color: hsl(0, 75%, 100%); opacity:1.0;                     line-height:1.75\"><font color=\"black\"> it                    </font></mark><mark style=\"background-color: hsl(0, 75%, 61%); opacity:1.0;                     line-height:1.75\"><font color=\"black\"> horribl                    </font></mark><mark style=\"background-color: hsl(0, 75%, 100%); opacity:1.0;                     line-height:1.75\"><font color=\"black\"> movi                    </font></mark><mark style=\"background-color: hsl(0, 75%, 100%); opacity:1.0;                     line-height:1.75\"><font color=\"black\"> #pad                    </font></mark><mark style=\"background-color: hsl(0, 75%, 100%); opacity:1.0;                     line-height:1.75\"><font color=\"black\"> #pad                    </font></mark><mark style=\"background-color: hsl(0, 75%, 100%); opacity:1.0;                     line-height:1.75\"><font color=\"black\"> #pad                    </font></mark><mark style=\"background-color: hsl(0, 75%, 100%); opacity:1.0;                     line-height:1.75\"><font color=\"black\"> #pad                    </font></mark><mark style=\"background-color: hsl(0, 75%, 100%); opacity:1.0;                     line-height:1.75\"><font color=\"black\"> #pad                    </font></mark><mark style=\"background-color: hsl(0, 75%, 100%); opacity:1.0;                     line-height:1.75\"><font color=\"black\"> #pad                    </font></mark><mark style=\"background-color: hsl(0, 75%, 100%); opacity:1.0;                     line-height:1.75\"><font color=\"black\"> #pad                    </font></mark><mark style=\"background-color: hsl(0, 75%, 100%); opacity:1.0;                     line-height:1.75\"><font color=\"black\"> #pad                    </font></mark><mark style=\"background-color: hsl(0, 75%, 100%); opacity:1.0;                     line-height:1.75\"><font color=\"black\"> #pad                    </font></mark><mark style=\"background-color: hsl(0, 75%, 100%); opacity:1.0;                     line-height:1.75\"><font color=\"black\"> #pad                    </font></mark><mark style=\"background-color: hsl(0, 75%, 100%); opacity:1.0;                     line-height:1.75\"><font color=\"black\"> #pad                    </font></mark><mark style=\"background-color: hsl(0, 75%, 100%); opacity:1.0;                     line-height:1.75\"><font color=\"black\"> #pad                    </font></mark><mark style=\"background-color: hsl(0, 75%, 100%); opacity:1.0;                     line-height:1.75\"><font color=\"black\"> #pad                    </font></mark><mark style=\"background-color: hsl(0, 75%, 100%); opacity:1.0;                     line-height:1.75\"><font color=\"black\"> #pad                    </font></mark><mark style=\"background-color: hsl(0, 75%, 100%); opacity:1.0;                     line-height:1.75\"><font color=\"black\"> #pad                    </font></mark><mark style=\"background-color: hsl(0, 75%, 100%); opacity:1.0;                     line-height:1.75\"><font color=\"black\"> #pad                    </font></mark><mark style=\"background-color: hsl(0, 75%, 100%); opacity:1.0;                     line-height:1.75\"><font color=\"black\"> #pad                    </font></mark><mark style=\"background-color: hsl(0, 75%, 100%); opacity:1.0;                     line-height:1.75\"><font color=\"black\"> #pad                    </font></mark><mark style=\"background-color: hsl(0, 75%, 100%); opacity:1.0;                     line-height:1.75\"><font color=\"black\"> #pad                    </font></mark><mark style=\"background-color: hsl(0, 75%, 100%); opacity:1.0;                     line-height:1.75\"><font color=\"black\"> #pad                    </font></mark></td><tr><tr><td><text style=\"padding-right:2em\"><b>negative</b></text></td><td><text style=\"padding-right:2em\"><b>negative (2.00)</b></text></td><td><text style=\"padding-right:2em\"><b>negative</b></text></td><td><text style=\"padding-right:2em\"><b>-1.02</b></text></td><td><mark style=\"background-color: hsl(0, 75%, 100%); opacity:1.0;                     line-height:1.75\"><font color=\"black\"> ve                    </font></mark><mark style=\"background-color: hsl(0, 75%, 100%); opacity:1.0;                     line-height:1.75\"><font color=\"black\"> watch                    </font></mark><mark style=\"background-color: hsl(0, 75%, 61%); opacity:1.0;                     line-height:1.75\"><font color=\"black\"> bad                    </font></mark><mark style=\"background-color: hsl(0, 75%, 100%); opacity:1.0;                     line-height:1.75\"><font color=\"black\"> #pad                    </font></mark><mark style=\"background-color: hsl(0, 75%, 100%); opacity:1.0;                     line-height:1.75\"><font color=\"black\"> #pad                    </font></mark><mark style=\"background-color: hsl(0, 75%, 100%); opacity:1.0;                     line-height:1.75\"><font color=\"black\"> #pad                    </font></mark><mark style=\"background-color: hsl(0, 75%, 100%); opacity:1.0;                     line-height:1.75\"><font color=\"black\"> #pad                    </font></mark><mark style=\"background-color: hsl(0, 75%, 100%); opacity:1.0;                     line-height:1.75\"><font color=\"black\"> #pad                    </font></mark><mark style=\"background-color: hsl(0, 75%, 100%); opacity:1.0;                     line-height:1.75\"><font color=\"black\"> #pad                    </font></mark><mark style=\"background-color: hsl(0, 75%, 100%); opacity:1.0;                     line-height:1.75\"><font color=\"black\"> #pad                    </font></mark><mark style=\"background-color: hsl(0, 75%, 100%); opacity:1.0;                     line-height:1.75\"><font color=\"black\"> #pad                    </font></mark><mark style=\"background-color: hsl(0, 75%, 100%); opacity:1.0;                     line-height:1.75\"><font color=\"black\"> #pad                    </font></mark><mark style=\"background-color: hsl(0, 75%, 100%); opacity:1.0;                     line-height:1.75\"><font color=\"black\"> #pad                    </font></mark><mark style=\"background-color: hsl(0, 75%, 100%); opacity:1.0;                     line-height:1.75\"><font color=\"black\"> #pad                    </font></mark><mark style=\"background-color: hsl(0, 75%, 100%); opacity:1.0;                     line-height:1.75\"><font color=\"black\"> #pad                    </font></mark><mark style=\"background-color: hsl(0, 75%, 100%); opacity:1.0;                     line-height:1.75\"><font color=\"black\"> #pad                    </font></mark><mark style=\"background-color: hsl(0, 75%, 100%); opacity:1.0;                     line-height:1.75\"><font color=\"black\"> #pad                    </font></mark><mark style=\"background-color: hsl(0, 75%, 100%); opacity:1.0;                     line-height:1.75\"><font color=\"black\"> #pad                    </font></mark><mark style=\"background-color: hsl(0, 75%, 100%); opacity:1.0;                     line-height:1.75\"><font color=\"black\"> #pad                    </font></mark><mark style=\"background-color: hsl(0, 75%, 100%); opacity:1.0;                     line-height:1.75\"><font color=\"black\"> #pad                    </font></mark><mark style=\"background-color: hsl(0, 75%, 100%); opacity:1.0;                     line-height:1.75\"><font color=\"black\"> #pad                    </font></mark><mark style=\"background-color: hsl(0, 75%, 100%); opacity:1.0;                     line-height:1.75\"><font color=\"black\"> #pad                    </font></mark><mark style=\"background-color: hsl(0, 75%, 100%); opacity:1.0;                     line-height:1.75\"><font color=\"black\"> #pad                    </font></mark></td><tr><tr><td><text style=\"padding-right:2em\"><b>negative</b></text></td><td><text style=\"padding-right:2em\"><b>negative (2.00)</b></text></td><td><text style=\"padding-right:2em\"><b>negative</b></text></td><td><text style=\"padding-right:2em\"><b>-1.02</b></text></td><td><mark style=\"background-color: hsl(0, 75%, 100%); opacity:1.0;                     line-height:1.75\"><font color=\"black\"> it                    </font></mark><mark style=\"background-color: hsl(0, 75%, 61%); opacity:1.0;                     line-height:1.75\"><font color=\"black\"> disgust                    </font></mark><mark style=\"background-color: hsl(0, 75%, 100%); opacity:1.0;                     line-height:1.75\"><font color=\"black\"> movi                    </font></mark><mark style=\"background-color: hsl(0, 75%, 100%); opacity:1.0;                     line-height:1.75\"><font color=\"black\"> #pad                    </font></mark><mark style=\"background-color: hsl(0, 75%, 100%); opacity:1.0;                     line-height:1.75\"><font color=\"black\"> #pad                    </font></mark><mark style=\"background-color: hsl(0, 75%, 100%); opacity:1.0;                     line-height:1.75\"><font color=\"black\"> #pad                    </font></mark><mark style=\"background-color: hsl(0, 75%, 100%); opacity:1.0;                     line-height:1.75\"><font color=\"black\"> #pad                    </font></mark><mark style=\"background-color: hsl(0, 75%, 100%); opacity:1.0;                     line-height:1.75\"><font color=\"black\"> #pad                    </font></mark><mark style=\"background-color: hsl(0, 75%, 100%); opacity:1.0;                     line-height:1.75\"><font color=\"black\"> #pad                    </font></mark><mark style=\"background-color: hsl(0, 75%, 100%); opacity:1.0;                     line-height:1.75\"><font color=\"black\"> #pad                    </font></mark><mark style=\"background-color: hsl(0, 75%, 100%); opacity:1.0;                     line-height:1.75\"><font color=\"black\"> #pad                    </font></mark><mark style=\"background-color: hsl(0, 75%, 100%); opacity:1.0;                     line-height:1.75\"><font color=\"black\"> #pad                    </font></mark><mark style=\"background-color: hsl(0, 75%, 100%); opacity:1.0;                     line-height:1.75\"><font color=\"black\"> #pad                    </font></mark><mark style=\"background-color: hsl(0, 75%, 100%); opacity:1.0;                     line-height:1.75\"><font color=\"black\"> #pad                    </font></mark><mark style=\"background-color: hsl(0, 75%, 100%); opacity:1.0;                     line-height:1.75\"><font color=\"black\"> #pad                    </font></mark><mark style=\"background-color: hsl(0, 75%, 100%); opacity:1.0;                     line-height:1.75\"><font color=\"black\"> #pad                    </font></mark><mark style=\"background-color: hsl(0, 75%, 100%); opacity:1.0;                     line-height:1.75\"><font color=\"black\"> #pad                    </font></mark><mark style=\"background-color: hsl(0, 75%, 100%); opacity:1.0;                     line-height:1.75\"><font color=\"black\"> #pad                    </font></mark><mark style=\"background-color: hsl(0, 75%, 100%); opacity:1.0;                     line-height:1.75\"><font color=\"black\"> #pad                    </font></mark><mark style=\"background-color: hsl(0, 75%, 100%); opacity:1.0;                     line-height:1.75\"><font color=\"black\"> #pad                    </font></mark><mark style=\"background-color: hsl(0, 75%, 100%); opacity:1.0;                     line-height:1.75\"><font color=\"black\"> #pad                    </font></mark><mark style=\"background-color: hsl(0, 75%, 100%); opacity:1.0;                     line-height:1.75\"><font color=\"black\"> #pad                    </font></mark><mark style=\"background-color: hsl(0, 75%, 100%); opacity:1.0;                     line-height:1.75\"><font color=\"black\"> #pad                    </font></mark></td><tr><tr><td><text style=\"padding-right:2em\"><b>netural</b></text></td><td><text style=\"padding-right:2em\"><b>positive (1.00)</b></text></td><td><text style=\"padding-right:2em\"><b>netural</b></text></td><td><text style=\"padding-right:2em\"><b>-1.00</b></text></td><td><mark style=\"background-color: hsl(0, 75%, 60%); opacity:1.0;                     line-height:1.75\"><font color=\"black\"> normal                    </font></mark><mark style=\"background-color: hsl(0, 75%, 100%); opacity:1.0;                     line-height:1.75\"><font color=\"black\"> #pad                    </font></mark><mark style=\"background-color: hsl(0, 75%, 100%); opacity:1.0;                     line-height:1.75\"><font color=\"black\"> #pad                    </font></mark><mark style=\"background-color: hsl(0, 75%, 100%); opacity:1.0;                     line-height:1.75\"><font color=\"black\"> #pad                    </font></mark><mark style=\"background-color: hsl(0, 75%, 100%); opacity:1.0;                     line-height:1.75\"><font color=\"black\"> #pad                    </font></mark><mark style=\"background-color: hsl(0, 75%, 100%); opacity:1.0;                     line-height:1.75\"><font color=\"black\"> #pad                    </font></mark><mark style=\"background-color: hsl(0, 75%, 100%); opacity:1.0;                     line-height:1.75\"><font color=\"black\"> #pad                    </font></mark><mark style=\"background-color: hsl(0, 75%, 100%); opacity:1.0;                     line-height:1.75\"><font color=\"black\"> #pad                    </font></mark><mark style=\"background-color: hsl(0, 75%, 100%); opacity:1.0;                     line-height:1.75\"><font color=\"black\"> #pad                    </font></mark><mark style=\"background-color: hsl(0, 75%, 100%); opacity:1.0;                     line-height:1.75\"><font color=\"black\"> #pad                    </font></mark><mark style=\"background-color: hsl(0, 75%, 100%); opacity:1.0;                     line-height:1.75\"><font color=\"black\"> #pad                    </font></mark><mark style=\"background-color: hsl(0, 75%, 100%); opacity:1.0;                     line-height:1.75\"><font color=\"black\"> #pad                    </font></mark><mark style=\"background-color: hsl(0, 75%, 100%); opacity:1.0;                     line-height:1.75\"><font color=\"black\"> #pad                    </font></mark><mark style=\"background-color: hsl(0, 75%, 100%); opacity:1.0;                     line-height:1.75\"><font color=\"black\"> #pad                    </font></mark><mark style=\"background-color: hsl(0, 75%, 100%); opacity:1.0;                     line-height:1.75\"><font color=\"black\"> #pad                    </font></mark><mark style=\"background-color: hsl(0, 75%, 100%); opacity:1.0;                     line-height:1.75\"><font color=\"black\"> #pad                    </font></mark><mark style=\"background-color: hsl(0, 75%, 100%); opacity:1.0;                     line-height:1.75\"><font color=\"black\"> #pad                    </font></mark><mark style=\"background-color: hsl(0, 75%, 100%); opacity:1.0;                     line-height:1.75\"><font color=\"black\"> #pad                    </font></mark><mark style=\"background-color: hsl(0, 75%, 100%); opacity:1.0;                     line-height:1.75\"><font color=\"black\"> #pad                    </font></mark><mark style=\"background-color: hsl(0, 75%, 100%); opacity:1.0;                     line-height:1.75\"><font color=\"black\"> #pad                    </font></mark><mark style=\"background-color: hsl(0, 75%, 100%); opacity:1.0;                     line-height:1.75\"><font color=\"black\"> #pad                    </font></mark><mark style=\"background-color: hsl(0, 75%, 100%); opacity:1.0;                     line-height:1.75\"><font color=\"black\"> #pad                    </font></mark><mark style=\"background-color: hsl(0, 75%, 100%); opacity:1.0;                     line-height:1.75\"><font color=\"black\"> #pad                    </font></mark></td><tr></table>"
            ],
            "text/plain": [
              "<IPython.core.display.HTML object>"
            ]
          },
          "metadata": {
            "tags": []
          }
        }
      ]
    },
    {
      "cell_type": "code",
      "metadata": {
        "pycharm": {
          "name": "#%%\n"
        },
        "id": "3R8NdKcbz9kt"
      },
      "source": [
        "vis_word = []\n",
        "colorlist= []\n",
        "def interpret_word(model, word, min_len = max_document_length, label = 0):\n",
        "    model.train()\n",
        "    text = preprocess(word)\n",
        "    actual_len = 1\n",
        "    if len(text) < min_len:\n",
        "        text += ['<pad>'] * (min_len - len(text))\n",
        "    indexed = [Text.vocab.stoi[t] for t in text]\n",
        "\n",
        "    model.zero_grad()\n",
        "\n",
        "    input_indices = torch.tensor(indexed, device=device)\n",
        "    input_indices = input_indices.unsqueeze(0)\n",
        "    text_length = torch.tensor([actual_len], device=device)\n",
        "    # input_indices dim: [sequence_length]\n",
        "    seq_length = min_len\n",
        "\n",
        "    # predict\n",
        "    pred = F.softmax(model(input_indices, text_length)[0]).cpu()\n",
        "\n",
        "\n",
        "    vis_word.append(pred.detach().numpy().squeeze(0))\n",
        "    colorlist.append({0:'#00ff00', 1: '#00ffff', 2:'#000000' }[pred.argmax(dim=1).item()])"
      ],
      "execution_count": 34,
      "outputs": []
    },
    {
      "cell_type": "code",
      "metadata": {
        "pycharm": {
          "name": "#%%\n"
        },
        "id": "kMTrDK7sz9kt"
      },
      "source": [
        "for i in Text.vocab.itos:\n",
        "    interpret_word(lstm_model, i)"
      ],
      "execution_count": 35,
      "outputs": []
    },
    {
      "cell_type": "code",
      "metadata": {
        "pycharm": {
          "name": "#%%\n"
        },
        "id": "ndkX6219z9kt"
      },
      "source": [
        "from sklearn.manifold import TSNE\n",
        "tsne = TSNE(n_components=2, random_state=0)\n",
        "words_top_ted_tsne = tsne.fit_transform(vis_word)"
      ],
      "execution_count": 36,
      "outputs": []
    },
    {
      "cell_type": "code",
      "metadata": {
        "ExecuteTime": {
          "end_time": "2021-04-05T15:55:28.003009Z",
          "start_time": "2021-04-05T15:55:27.883014Z"
        },
        "pycharm": {
          "name": "#%%\n"
        },
        "id": "Yd79T06dz9kt",
        "outputId": "a58e38a8-ee1d-421d-e0f9-7a7dfffce593",
        "colab": {
          "base_uri": "https://localhost:8080/",
          "height": 617
        }
      },
      "source": [
        "p = figure(tools=\"pan,wheel_zoom,reset,save\",\n",
        "           toolbar_location=\"above\",\n",
        "           title=\"vector T-SNE for most polarized words\")\n",
        "\n",
        "source = ColumnDataSource(data=dict(x1=words_top_ted_tsne[:,0],\n",
        "                                    x2=words_top_ted_tsne[:,1],\n",
        "                                    names=Text.vocab.itos,\n",
        "                                    color=colorlist))\n",
        "\n",
        "p.scatter(x=\"x1\", y=\"x2\", size=8, source=source, fill_color=\"color\")\n",
        "\n",
        "word_labels = LabelSet(x=\"x1\", y=\"x2\", text=\"names\", y_offset=6,\n",
        "                       text_font_size=\"8pt\", text_color=\"#555555\",\n",
        "                       source=source, text_align='center',render_mode='canvas')\n",
        "# p.add_layout(word_labels)\n",
        "\n",
        "show(p)\n"
      ],
      "execution_count": 37,
      "outputs": [
        {
          "output_type": "display_data",
          "data": {
            "application/javascript": [
              "\n",
              "(function(root) {\n",
              "  function now() {\n",
              "    return new Date();\n",
              "  }\n",
              "\n",
              "  var force = true;\n",
              "\n",
              "  if (typeof root._bokeh_onload_callbacks === \"undefined\" || force === true) {\n",
              "    root._bokeh_onload_callbacks = [];\n",
              "    root._bokeh_is_loading = undefined;\n",
              "  }\n",
              "\n",
              "  var JS_MIME_TYPE = 'application/javascript';\n",
              "  var HTML_MIME_TYPE = 'text/html';\n",
              "  var EXEC_MIME_TYPE = 'application/vnd.bokehjs_exec.v0+json';\n",
              "  var CLASS_NAME = 'output_bokeh rendered_html';\n",
              "\n",
              "  /**\n",
              "   * Render data to the DOM node\n",
              "   */\n",
              "  function render(props, node) {\n",
              "    var script = document.createElement(\"script\");\n",
              "    node.appendChild(script);\n",
              "  }\n",
              "\n",
              "  /**\n",
              "   * Handle when an output is cleared or removed\n",
              "   */\n",
              "  function handleClearOutput(event, handle) {\n",
              "    var cell = handle.cell;\n",
              "\n",
              "    var id = cell.output_area._bokeh_element_id;\n",
              "    var server_id = cell.output_area._bokeh_server_id;\n",
              "    // Clean up Bokeh references\n",
              "    if (id != null && id in Bokeh.index) {\n",
              "      Bokeh.index[id].model.document.clear();\n",
              "      delete Bokeh.index[id];\n",
              "    }\n",
              "\n",
              "    if (server_id !== undefined) {\n",
              "      // Clean up Bokeh references\n",
              "      var cmd = \"from bokeh.io.state import curstate; print(curstate().uuid_to_server['\" + server_id + \"'].get_sessions()[0].document.roots[0]._id)\";\n",
              "      cell.notebook.kernel.execute(cmd, {\n",
              "        iopub: {\n",
              "          output: function(msg) {\n",
              "            var id = msg.content.text.trim();\n",
              "            if (id in Bokeh.index) {\n",
              "              Bokeh.index[id].model.document.clear();\n",
              "              delete Bokeh.index[id];\n",
              "            }\n",
              "          }\n",
              "        }\n",
              "      });\n",
              "      // Destroy server and session\n",
              "      var cmd = \"import bokeh.io.notebook as ion; ion.destroy_server('\" + server_id + \"')\";\n",
              "      cell.notebook.kernel.execute(cmd);\n",
              "    }\n",
              "  }\n",
              "\n",
              "  /**\n",
              "   * Handle when a new output is added\n",
              "   */\n",
              "  function handleAddOutput(event, handle) {\n",
              "    var output_area = handle.output_area;\n",
              "    var output = handle.output;\n",
              "\n",
              "    // limit handleAddOutput to display_data with EXEC_MIME_TYPE content only\n",
              "    if ((output.output_type != \"display_data\") || (!Object.prototype.hasOwnProperty.call(output.data, EXEC_MIME_TYPE))) {\n",
              "      return\n",
              "    }\n",
              "\n",
              "    var toinsert = output_area.element.find(\".\" + CLASS_NAME.split(' ')[0]);\n",
              "\n",
              "    if (output.metadata[EXEC_MIME_TYPE][\"id\"] !== undefined) {\n",
              "      toinsert[toinsert.length - 1].firstChild.textContent = output.data[JS_MIME_TYPE];\n",
              "      // store reference to embed id on output_area\n",
              "      output_area._bokeh_element_id = output.metadata[EXEC_MIME_TYPE][\"id\"];\n",
              "    }\n",
              "    if (output.metadata[EXEC_MIME_TYPE][\"server_id\"] !== undefined) {\n",
              "      var bk_div = document.createElement(\"div\");\n",
              "      bk_div.innerHTML = output.data[HTML_MIME_TYPE];\n",
              "      var script_attrs = bk_div.children[0].attributes;\n",
              "      for (var i = 0; i < script_attrs.length; i++) {\n",
              "        toinsert[toinsert.length - 1].firstChild.setAttribute(script_attrs[i].name, script_attrs[i].value);\n",
              "        toinsert[toinsert.length - 1].firstChild.textContent = bk_div.children[0].textContent\n",
              "      }\n",
              "      // store reference to server id on output_area\n",
              "      output_area._bokeh_server_id = output.metadata[EXEC_MIME_TYPE][\"server_id\"];\n",
              "    }\n",
              "  }\n",
              "\n",
              "  function register_renderer(events, OutputArea) {\n",
              "\n",
              "    function append_mime(data, metadata, element) {\n",
              "      // create a DOM node to render to\n",
              "      var toinsert = this.create_output_subarea(\n",
              "        metadata,\n",
              "        CLASS_NAME,\n",
              "        EXEC_MIME_TYPE\n",
              "      );\n",
              "      this.keyboard_manager.register_events(toinsert);\n",
              "      // Render to node\n",
              "      var props = {data: data, metadata: metadata[EXEC_MIME_TYPE]};\n",
              "      render(props, toinsert[toinsert.length - 1]);\n",
              "      element.append(toinsert);\n",
              "      return toinsert\n",
              "    }\n",
              "\n",
              "    /* Handle when an output is cleared or removed */\n",
              "    events.on('clear_output.CodeCell', handleClearOutput);\n",
              "    events.on('delete.Cell', handleClearOutput);\n",
              "\n",
              "    /* Handle when a new output is added */\n",
              "    events.on('output_added.OutputArea', handleAddOutput);\n",
              "\n",
              "    /**\n",
              "     * Register the mime type and append_mime function with output_area\n",
              "     */\n",
              "    OutputArea.prototype.register_mime_type(EXEC_MIME_TYPE, append_mime, {\n",
              "      /* Is output safe? */\n",
              "      safe: true,\n",
              "      /* Index of renderer in `output_area.display_order` */\n",
              "      index: 0\n",
              "    });\n",
              "  }\n",
              "\n",
              "  // register the mime type if in Jupyter Notebook environment and previously unregistered\n",
              "  if (root.Jupyter !== undefined) {\n",
              "    var events = require('base/js/events');\n",
              "    var OutputArea = require('notebook/js/outputarea').OutputArea;\n",
              "\n",
              "    if (OutputArea.prototype.mime_types().indexOf(EXEC_MIME_TYPE) == -1) {\n",
              "      register_renderer(events, OutputArea);\n",
              "    }\n",
              "  }\n",
              "\n",
              "  \n",
              "  if (typeof (root._bokeh_timeout) === \"undefined\" || force === true) {\n",
              "    root._bokeh_timeout = Date.now() + 5000;\n",
              "    root._bokeh_failed_load = false;\n",
              "  }\n",
              "\n",
              "  var NB_LOAD_WARNING = {'data': {'text/html':\n",
              "     \"<div style='background-color: #fdd'>\\n\"+\n",
              "     \"<p>\\n\"+\n",
              "     \"BokehJS does not appear to have successfully loaded. If loading BokehJS from CDN, this \\n\"+\n",
              "     \"may be due to a slow or bad network connection. Possible fixes:\\n\"+\n",
              "     \"</p>\\n\"+\n",
              "     \"<ul>\\n\"+\n",
              "     \"<li>re-rerun `output_notebook()` to attempt to load from CDN again, or</li>\\n\"+\n",
              "     \"<li>use INLINE resources instead, as so:</li>\\n\"+\n",
              "     \"</ul>\\n\"+\n",
              "     \"<code>\\n\"+\n",
              "     \"from bokeh.resources import INLINE\\n\"+\n",
              "     \"output_notebook(resources=INLINE)\\n\"+\n",
              "     \"</code>\\n\"+\n",
              "     \"</div>\"}};\n",
              "\n",
              "  function display_loaded() {\n",
              "    var el = document.getElementById(null);\n",
              "    if (el != null) {\n",
              "      el.textContent = \"BokehJS is loading...\";\n",
              "    }\n",
              "    if (root.Bokeh !== undefined) {\n",
              "      if (el != null) {\n",
              "        el.textContent = \"BokehJS \" + root.Bokeh.version + \" successfully loaded.\";\n",
              "      }\n",
              "    } else if (Date.now() < root._bokeh_timeout) {\n",
              "      setTimeout(display_loaded, 100)\n",
              "    }\n",
              "  }\n",
              "\n",
              "\n",
              "  function run_callbacks() {\n",
              "    try {\n",
              "      root._bokeh_onload_callbacks.forEach(function(callback) {\n",
              "        if (callback != null)\n",
              "          callback();\n",
              "      });\n",
              "    } finally {\n",
              "      delete root._bokeh_onload_callbacks\n",
              "    }\n",
              "    console.debug(\"Bokeh: all callbacks have finished\");\n",
              "  }\n",
              "\n",
              "  function load_libs(css_urls, js_urls, callback) {\n",
              "    if (css_urls == null) css_urls = [];\n",
              "    if (js_urls == null) js_urls = [];\n",
              "\n",
              "    root._bokeh_onload_callbacks.push(callback);\n",
              "    if (root._bokeh_is_loading > 0) {\n",
              "      console.debug(\"Bokeh: BokehJS is being loaded, scheduling callback at\", now());\n",
              "      return null;\n",
              "    }\n",
              "    if (js_urls == null || js_urls.length === 0) {\n",
              "      run_callbacks();\n",
              "      return null;\n",
              "    }\n",
              "    console.debug(\"Bokeh: BokehJS not loaded, scheduling load and callback at\", now());\n",
              "    root._bokeh_is_loading = css_urls.length + js_urls.length;\n",
              "\n",
              "    function on_load() {\n",
              "      root._bokeh_is_loading--;\n",
              "      if (root._bokeh_is_loading === 0) {\n",
              "        console.debug(\"Bokeh: all BokehJS libraries/stylesheets loaded\");\n",
              "        run_callbacks()\n",
              "      }\n",
              "    }\n",
              "\n",
              "    function on_error(url) {\n",
              "      console.error(\"failed to load \" + url);\n",
              "    }\n",
              "\n",
              "    for (let i = 0; i < css_urls.length; i++) {\n",
              "      const url = css_urls[i];\n",
              "      const element = document.createElement(\"link\");\n",
              "      element.onload = on_load;\n",
              "      element.onerror = on_error.bind(null, url);\n",
              "      element.rel = \"stylesheet\";\n",
              "      element.type = \"text/css\";\n",
              "      element.href = url;\n",
              "      console.debug(\"Bokeh: injecting link tag for BokehJS stylesheet: \", url);\n",
              "      document.body.appendChild(element);\n",
              "    }\n",
              "\n",
              "    const hashes = {\"https://cdn.bokeh.org/bokeh/release/bokeh-2.3.0.min.js\": \"HjagQp6T0/7bxYTAXbLotF1MLAGWmhkY5siA1Gc/pcEgvgRPtMsRn0gQtMwGKiw1\", \"https://cdn.bokeh.org/bokeh/release/bokeh-widgets-2.3.0.min.js\": \"ZEPPTjL+mdyqgIq+/pl9KTwzji8Kow2NnI3zWY8+sFinWP/SYJ80BnfeJsa45iYj\", \"https://cdn.bokeh.org/bokeh/release/bokeh-tables-2.3.0.min.js\": \"exLqv2ACDRIaV7ZK1iL8aGzGYQvKVuT3U2CT7FsQREBxRah6JrkVCoFy0koY1YqV\"};\n",
              "\n",
              "    for (let i = 0; i < js_urls.length; i++) {\n",
              "      const url = js_urls[i];\n",
              "      const element = document.createElement('script');\n",
              "      element.onload = on_load;\n",
              "      element.onerror = on_error.bind(null, url);\n",
              "      element.async = false;\n",
              "      element.src = url;\n",
              "      if (url in hashes) {\n",
              "        element.crossOrigin = \"anonymous\";\n",
              "        element.integrity = \"sha384-\" + hashes[url];\n",
              "      }\n",
              "      console.debug(\"Bokeh: injecting script tag for BokehJS library: \", url);\n",
              "      document.head.appendChild(element);\n",
              "    }\n",
              "  };\n",
              "\n",
              "  function inject_raw_css(css) {\n",
              "    const element = document.createElement(\"style\");\n",
              "    element.appendChild(document.createTextNode(css));\n",
              "    document.body.appendChild(element);\n",
              "  }\n",
              "\n",
              "  \n",
              "  var js_urls = [\"https://cdn.bokeh.org/bokeh/release/bokeh-2.3.0.min.js\", \"https://cdn.bokeh.org/bokeh/release/bokeh-widgets-2.3.0.min.js\", \"https://cdn.bokeh.org/bokeh/release/bokeh-tables-2.3.0.min.js\"];\n",
              "  var css_urls = [];\n",
              "  \n",
              "\n",
              "  var inline_js = [\n",
              "    function(Bokeh) {\n",
              "      Bokeh.set_log_level(\"info\");\n",
              "    },\n",
              "    function(Bokeh) {\n",
              "    \n",
              "    \n",
              "    }\n",
              "  ];\n",
              "\n",
              "  function run_inline_js() {\n",
              "    \n",
              "    if (root.Bokeh !== undefined || force === true) {\n",
              "      \n",
              "    for (var i = 0; i < inline_js.length; i++) {\n",
              "      inline_js[i].call(root, root.Bokeh);\n",
              "    }\n",
              "    } else if (Date.now() < root._bokeh_timeout) {\n",
              "      setTimeout(run_inline_js, 100);\n",
              "    } else if (!root._bokeh_failed_load) {\n",
              "      console.log(\"Bokeh: BokehJS failed to load within specified timeout.\");\n",
              "      root._bokeh_failed_load = true;\n",
              "    } else if (force !== true) {\n",
              "      var cell = $(document.getElementById(null)).parents('.cell').data().cell;\n",
              "      cell.output_area.append_execute_result(NB_LOAD_WARNING)\n",
              "    }\n",
              "\n",
              "  }\n",
              "\n",
              "  if (root._bokeh_is_loading === 0) {\n",
              "    console.debug(\"Bokeh: BokehJS loaded, going straight to plotting\");\n",
              "    run_inline_js();\n",
              "  } else {\n",
              "    load_libs(css_urls, js_urls, function() {\n",
              "      console.debug(\"Bokeh: BokehJS plotting callback run at\", now());\n",
              "      run_inline_js();\n",
              "    });\n",
              "  }\n",
              "}(window));"
            ],
            "application/vnd.bokehjs_load.v0+json": "\n(function(root) {\n  function now() {\n    return new Date();\n  }\n\n  var force = true;\n\n  if (typeof root._bokeh_onload_callbacks === \"undefined\" || force === true) {\n    root._bokeh_onload_callbacks = [];\n    root._bokeh_is_loading = undefined;\n  }\n\n  \n\n  \n  if (typeof (root._bokeh_timeout) === \"undefined\" || force === true) {\n    root._bokeh_timeout = Date.now() + 5000;\n    root._bokeh_failed_load = false;\n  }\n\n  var NB_LOAD_WARNING = {'data': {'text/html':\n     \"<div style='background-color: #fdd'>\\n\"+\n     \"<p>\\n\"+\n     \"BokehJS does not appear to have successfully loaded. If loading BokehJS from CDN, this \\n\"+\n     \"may be due to a slow or bad network connection. Possible fixes:\\n\"+\n     \"</p>\\n\"+\n     \"<ul>\\n\"+\n     \"<li>re-rerun `output_notebook()` to attempt to load from CDN again, or</li>\\n\"+\n     \"<li>use INLINE resources instead, as so:</li>\\n\"+\n     \"</ul>\\n\"+\n     \"<code>\\n\"+\n     \"from bokeh.resources import INLINE\\n\"+\n     \"output_notebook(resources=INLINE)\\n\"+\n     \"</code>\\n\"+\n     \"</div>\"}};\n\n  function display_loaded() {\n    var el = document.getElementById(null);\n    if (el != null) {\n      el.textContent = \"BokehJS is loading...\";\n    }\n    if (root.Bokeh !== undefined) {\n      if (el != null) {\n        el.textContent = \"BokehJS \" + root.Bokeh.version + \" successfully loaded.\";\n      }\n    } else if (Date.now() < root._bokeh_timeout) {\n      setTimeout(display_loaded, 100)\n    }\n  }\n\n\n  function run_callbacks() {\n    try {\n      root._bokeh_onload_callbacks.forEach(function(callback) {\n        if (callback != null)\n          callback();\n      });\n    } finally {\n      delete root._bokeh_onload_callbacks\n    }\n    console.debug(\"Bokeh: all callbacks have finished\");\n  }\n\n  function load_libs(css_urls, js_urls, callback) {\n    if (css_urls == null) css_urls = [];\n    if (js_urls == null) js_urls = [];\n\n    root._bokeh_onload_callbacks.push(callback);\n    if (root._bokeh_is_loading > 0) {\n      console.debug(\"Bokeh: BokehJS is being loaded, scheduling callback at\", now());\n      return null;\n    }\n    if (js_urls == null || js_urls.length === 0) {\n      run_callbacks();\n      return null;\n    }\n    console.debug(\"Bokeh: BokehJS not loaded, scheduling load and callback at\", now());\n    root._bokeh_is_loading = css_urls.length + js_urls.length;\n\n    function on_load() {\n      root._bokeh_is_loading--;\n      if (root._bokeh_is_loading === 0) {\n        console.debug(\"Bokeh: all BokehJS libraries/stylesheets loaded\");\n        run_callbacks()\n      }\n    }\n\n    function on_error(url) {\n      console.error(\"failed to load \" + url);\n    }\n\n    for (let i = 0; i < css_urls.length; i++) {\n      const url = css_urls[i];\n      const element = document.createElement(\"link\");\n      element.onload = on_load;\n      element.onerror = on_error.bind(null, url);\n      element.rel = \"stylesheet\";\n      element.type = \"text/css\";\n      element.href = url;\n      console.debug(\"Bokeh: injecting link tag for BokehJS stylesheet: \", url);\n      document.body.appendChild(element);\n    }\n\n    const hashes = {\"https://cdn.bokeh.org/bokeh/release/bokeh-2.3.0.min.js\": \"HjagQp6T0/7bxYTAXbLotF1MLAGWmhkY5siA1Gc/pcEgvgRPtMsRn0gQtMwGKiw1\", \"https://cdn.bokeh.org/bokeh/release/bokeh-widgets-2.3.0.min.js\": \"ZEPPTjL+mdyqgIq+/pl9KTwzji8Kow2NnI3zWY8+sFinWP/SYJ80BnfeJsa45iYj\", \"https://cdn.bokeh.org/bokeh/release/bokeh-tables-2.3.0.min.js\": \"exLqv2ACDRIaV7ZK1iL8aGzGYQvKVuT3U2CT7FsQREBxRah6JrkVCoFy0koY1YqV\"};\n\n    for (let i = 0; i < js_urls.length; i++) {\n      const url = js_urls[i];\n      const element = document.createElement('script');\n      element.onload = on_load;\n      element.onerror = on_error.bind(null, url);\n      element.async = false;\n      element.src = url;\n      if (url in hashes) {\n        element.crossOrigin = \"anonymous\";\n        element.integrity = \"sha384-\" + hashes[url];\n      }\n      console.debug(\"Bokeh: injecting script tag for BokehJS library: \", url);\n      document.head.appendChild(element);\n    }\n  };\n\n  function inject_raw_css(css) {\n    const element = document.createElement(\"style\");\n    element.appendChild(document.createTextNode(css));\n    document.body.appendChild(element);\n  }\n\n  \n  var js_urls = [\"https://cdn.bokeh.org/bokeh/release/bokeh-2.3.0.min.js\", \"https://cdn.bokeh.org/bokeh/release/bokeh-widgets-2.3.0.min.js\", \"https://cdn.bokeh.org/bokeh/release/bokeh-tables-2.3.0.min.js\"];\n  var css_urls = [];\n  \n\n  var inline_js = [\n    function(Bokeh) {\n      Bokeh.set_log_level(\"info\");\n    },\n    function(Bokeh) {\n    \n    \n    }\n  ];\n\n  function run_inline_js() {\n    \n    if (root.Bokeh !== undefined || force === true) {\n      \n    for (var i = 0; i < inline_js.length; i++) {\n      inline_js[i].call(root, root.Bokeh);\n    }\n    } else if (Date.now() < root._bokeh_timeout) {\n      setTimeout(run_inline_js, 100);\n    } else if (!root._bokeh_failed_load) {\n      console.log(\"Bokeh: BokehJS failed to load within specified timeout.\");\n      root._bokeh_failed_load = true;\n    } else if (force !== true) {\n      var cell = $(document.getElementById(null)).parents('.cell').data().cell;\n      cell.output_area.append_execute_result(NB_LOAD_WARNING)\n    }\n\n  }\n\n  if (root._bokeh_is_loading === 0) {\n    console.debug(\"Bokeh: BokehJS loaded, going straight to plotting\");\n    run_inline_js();\n  } else {\n    load_libs(css_urls, js_urls, function() {\n      console.debug(\"Bokeh: BokehJS plotting callback run at\", now());\n      run_inline_js();\n    });\n  }\n}(window));"
          },
          "metadata": {
            "tags": []
          }
        },
        {
          "output_type": "display_data",
          "data": {
            "text/html": [
              "\n",
              "\n",
              "\n",
              "\n",
              "\n",
              "\n",
              "  <div class=\"bk-root\" id=\"eca8ca63-6632-4354-979d-7f4429f35023\" data-root-id=\"1002\"></div>\n"
            ]
          },
          "metadata": {
            "tags": []
          }
        },
        {
          "output_type": "display_data",
          "data": {
            "application/javascript": [
              "(function(root) {\n",
              "  function embed_document(root) {\n",
              "    \n",
              "  var docs_json = {\"b2bf7874-d3cf-4393-91fb-fdc626e245bb\":{\"defs\":[{\"extends\":null,\"module\":null,\"name\":\"DataModel\",\"overrides\":[],\"properties\":[]}],\"roots\":{\"references\":[{\"attributes\":{\"below\":[{\"id\":\"1013\"}],\"center\":[{\"id\":\"1016\"},{\"id\":\"1020\"}],\"left\":[{\"id\":\"1017\"}],\"renderers\":[{\"id\":\"1034\"}],\"title\":{\"id\":\"1003\"},\"toolbar\":{\"id\":\"1025\"},\"toolbar_location\":\"above\",\"x_range\":{\"id\":\"1005\"},\"x_scale\":{\"id\":\"1009\"},\"y_range\":{\"id\":\"1007\"},\"y_scale\":{\"id\":\"1011\"}},\"id\":\"1002\",\"subtype\":\"Figure\",\"type\":\"Plot\"},{\"attributes\":{},\"id\":\"1040\",\"type\":\"BasicTickFormatter\"},{\"attributes\":{\"axis\":{\"id\":\"1013\"},\"ticker\":null},\"id\":\"1016\",\"type\":\"Grid\"},{\"attributes\":{},\"id\":\"1011\",\"type\":\"LinearScale\"},{\"attributes\":{},\"id\":\"1044\",\"type\":\"AllLabels\"},{\"attributes\":{\"text\":\"vector T-SNE for most polarized words\"},\"id\":\"1003\",\"type\":\"Title\"},{\"attributes\":{\"formatter\":{\"id\":\"1040\"},\"major_label_policy\":{\"id\":\"1041\"},\"ticker\":{\"id\":\"1014\"}},\"id\":\"1013\",\"type\":\"LinearAxis\"},{\"attributes\":{\"data\":{\"color\":[\"#00ff00\",\"#00ff00\",\"#00ff00\",\"#00ff00\",\"#00ff00\",\"#00ff00\",\"#00ff00\",\"#00ff00\",\"#00ff00\",\"#00ff00\",\"#00ff00\",\"#00ff00\",\"#00ff00\",\"#00ff00\",\"#00ff00\",\"#00ffff\",\"#00ff00\",\"#00ff00\",\"#00ff00\",\"#00ff00\",\"#00ff00\",\"#00ff00\",\"#00ff00\",\"#00ff00\",\"#00ffff\",\"#00ff00\",\"#00ffff\",\"#00ff00\",\"#00ff00\",\"#00ff00\",\"#00ff00\",\"#00ff00\",\"#00ff00\",\"#00ff00\",\"#00ff00\",\"#00ff00\",\"#00ffff\",\"#00ff00\",\"#00ff00\",\"#00ff00\",\"#00ff00\",\"#00ffff\",\"#00ff00\",\"#00ff00\",\"#00ff00\",\"#00ff00\",\"#00ff00\",\"#00ff00\",\"#00ff00\",\"#00ff00\",\"#00ff00\",\"#00ff00\",\"#00ff00\",\"#00ffff\",\"#00ff00\",\"#00ff00\",\"#00ff00\",\"#00ff00\",\"#00ffff\",\"#00ff00\",\"#00ffff\",\"#00ffff\",\"#00ff00\",\"#00ffff\",\"#000000\",\"#00ff00\",\"#00ff00\",\"#000000\",\"#00ff00\",\"#00ff00\",\"#00ff00\",\"#00ff00\",\"#00ff00\",\"#00ff00\",\"#00ff00\",\"#00ff00\",\"#00ff00\",\"#00ff00\",\"#00ff00\",\"#00ff00\",\"#00ffff\",\"#00ff00\",\"#00ff00\",\"#00ff00\",\"#00ffff\",\"#00ff00\",\"#00ff00\",\"#00ff00\",\"#00ff00\",\"#00ff00\",\"#00ff00\",\"#00ff00\",\"#00ff00\",\"#00ff00\",\"#00ff00\",\"#00ff00\",\"#00ff00\",\"#000000\",\"#00ff00\",\"#00ffff\",\"#00ff00\",\"#00ff00\",\"#00ff00\",\"#00ff00\",\"#00ff00\",\"#00ff00\",\"#00ff00\",\"#00ff00\",\"#00ff00\",\"#00ff00\",\"#00ff00\",\"#00ff00\",\"#00ff00\",\"#00ff00\",\"#00ff00\",\"#00ff00\",\"#00ff00\",\"#00ffff\",\"#00ff00\",\"#000000\",\"#00ffff\",\"#00ffff\",\"#00ff00\",\"#00ff00\",\"#00ff00\",\"#00ff00\",\"#00ff00\",\"#00ff00\",\"#00ffff\",\"#00ff00\",\"#00ff00\",\"#00ff00\",\"#00ff00\",\"#00ff00\",\"#00ff00\",\"#00ff00\",\"#00ff00\",\"#00ff00\",\"#00ff00\",\"#00ffff\",\"#00ff00\",\"#00ff00\",\"#00ff00\",\"#000000\",\"#00ff00\",\"#00ffff\",\"#00ff00\",\"#00ff00\",\"#000000\",\"#00ff00\",\"#00ff00\",\"#00ff00\",\"#00ff00\",\"#00ff00\",\"#00ff00\",\"#00ff00\",\"#00ff00\",\"#00ffff\",\"#00ff00\",\"#00ff00\",\"#00ff00\",\"#00ff00\",\"#00ff00\",\"#00ff00\",\"#00ff00\",\"#00ff00\",\"#00ff00\",\"#00ffff\",\"#000000\",\"#00ff00\",\"#00ff00\",\"#00ffff\",\"#00ff00\",\"#00ff00\",\"#00ff00\",\"#000000\",\"#00ff00\",\"#00ff00\",\"#00ff00\",\"#00ff00\",\"#00ffff\",\"#00ffff\",\"#00ff00\",\"#00ff00\",\"#00ff00\",\"#00ff00\",\"#00ff00\",\"#00ff00\",\"#00ff00\",\"#00ffff\",\"#00ff00\",\"#00ff00\",\"#00ff00\",\"#00ff00\",\"#00ff00\",\"#00ff00\",\"#00ff00\",\"#00ff00\",\"#00ff00\",\"#00ff00\",\"#00ff00\",\"#00ffff\",\"#00ffff\",\"#00ffff\",\"#000000\",\"#00ff00\",\"#00ff00\",\"#000000\",\"#00ff00\",\"#00ff00\",\"#00ffff\",\"#000000\",\"#00ff00\",\"#00ff00\",\"#00ff00\",\"#00ff00\",\"#00ff00\",\"#00ff00\",\"#00ff00\",\"#00ff00\",\"#00ffff\",\"#00ff00\",\"#00ff00\",\"#00ff00\",\"#00ff00\",\"#00ff00\",\"#00ff00\",\"#00ffff\",\"#00ff00\",\"#00ff00\",\"#00ff00\",\"#00ff00\",\"#00ffff\",\"#00ff00\",\"#00ff00\",\"#00ff00\",\"#00ff00\",\"#00ffff\",\"#000000\",\"#00ffff\",\"#00ff00\",\"#00ff00\",\"#00ff00\",\"#00ff00\",\"#00ff00\",\"#00ffff\",\"#00ff00\",\"#00ffff\",\"#00ff00\",\"#00ff00\",\"#00ff00\",\"#00ff00\",\"#000000\",\"#00ff00\",\"#00ff00\",\"#00ff00\",\"#000000\",\"#00ff00\",\"#00ff00\",\"#00ff00\",\"#00ffff\",\"#00ff00\",\"#00ff00\",\"#00ffff\",\"#00ff00\",\"#00ff00\",\"#00ff00\",\"#000000\",\"#00ff00\",\"#00ff00\",\"#00ff00\",\"#00ff00\",\"#00ff00\",\"#00ff00\",\"#00ff00\",\"#00ff00\",\"#00ff00\",\"#00ff00\",\"#00ffff\",\"#00ff00\",\"#00ff00\",\"#00ff00\",\"#00ff00\",\"#00ff00\",\"#00ff00\",\"#000000\",\"#00ff00\",\"#00ff00\",\"#00ff00\",\"#00ff00\",\"#00ff00\",\"#00ff00\",\"#00ff00\",\"#00ff00\",\"#00ff00\",\"#00ff00\",\"#00ff00\",\"#00ff00\",\"#00ffff\",\"#00ff00\",\"#00ff00\",\"#00ff00\",\"#00ff00\",\"#00ff00\",\"#00ff00\",\"#00ff00\",\"#00ff00\",\"#00ff00\",\"#00ff00\",\"#000000\",\"#00ff00\",\"#00ff00\",\"#00ff00\",\"#00ff00\",\"#00ff00\",\"#000000\",\"#00ff00\",\"#000000\",\"#00ff00\",\"#00ff00\",\"#00ff00\",\"#00ffff\",\"#00ff00\",\"#000000\",\"#00ff00\",\"#00ff00\",\"#00ff00\",\"#00ff00\",\"#00ff00\",\"#000000\",\"#00ff00\",\"#00ff00\",\"#00ff00\",\"#00ff00\",\"#00ff00\",\"#00ff00\",\"#00ff00\",\"#00ff00\",\"#00ff00\",\"#00ff00\",\"#00ff00\",\"#00ff00\",\"#00ff00\",\"#00ff00\",\"#00ff00\",\"#00ff00\",\"#00ff00\",\"#00ffff\",\"#00ff00\",\"#00ffff\",\"#00ffff\",\"#00ff00\",\"#00ffff\",\"#00ff00\",\"#00ff00\",\"#00ff00\",\"#00ff00\",\"#00ffff\",\"#00ffff\",\"#00ff00\",\"#00ffff\",\"#00ff00\",\"#00ff00\",\"#000000\",\"#00ff00\",\"#00ffff\",\"#00ff00\",\"#00ffff\",\"#00ffff\",\"#00ff00\",\"#00ff00\",\"#00ff00\",\"#00ff00\",\"#00ff00\",\"#00ff00\",\"#00ff00\",\"#00ff00\",\"#00ff00\",\"#00ff00\",\"#00ffff\",\"#00ffff\",\"#00ff00\",\"#00ffff\",\"#00ff00\",\"#00ff00\",\"#00ffff\",\"#00ffff\",\"#00ff00\",\"#00ff00\",\"#000000\",\"#00ff00\",\"#000000\",\"#00ffff\",\"#00ffff\",\"#00ffff\",\"#00ff00\",\"#00ff00\",\"#00ff00\",\"#00ff00\",\"#00ff00\",\"#00ff00\",\"#00ff00\",\"#00ffff\",\"#00ff00\",\"#00ff00\",\"#00ff00\",\"#00ff00\",\"#00ff00\",\"#000000\",\"#00ff00\",\"#00ff00\",\"#00ff00\",\"#00ff00\",\"#00ffff\",\"#00ff00\",\"#00ff00\",\"#00ff00\",\"#00ff00\",\"#00ff00\",\"#00ff00\",\"#00ff00\",\"#00ff00\",\"#00ff00\",\"#00ff00\",\"#00ff00\",\"#00ff00\",\"#00ff00\",\"#00ff00\",\"#00ff00\",\"#000000\",\"#000000\",\"#00ff00\",\"#000000\",\"#00ff00\",\"#00ff00\",\"#00ff00\",\"#00ff00\",\"#00ff00\",\"#00ff00\",\"#00ff00\",\"#00ff00\",\"#00ff00\",\"#00ffff\",\"#00ffff\",\"#00ff00\",\"#00ffff\",\"#00ff00\",\"#00ff00\",\"#00ff00\",\"#00ff00\",\"#00ff00\",\"#00ff00\",\"#00ff00\",\"#00ff00\",\"#00ff00\",\"#00ff00\",\"#00ff00\",\"#00ff00\",\"#00ff00\",\"#00ff00\",\"#00ff00\",\"#00ff00\",\"#00ff00\",\"#00ff00\",\"#00ff00\",\"#00ff00\",\"#00ff00\",\"#00ff00\",\"#00ff00\",\"#00ff00\",\"#00ff00\",\"#00ff00\",\"#00ff00\",\"#00ff00\",\"#000000\",\"#00ff00\",\"#00ff00\",\"#00ff00\",\"#00ff00\",\"#000000\",\"#00ff00\",\"#00ff00\",\"#00ffff\",\"#00ff00\",\"#00ff00\",\"#00ff00\",\"#00ff00\",\"#00ff00\",\"#000000\",\"#00ff00\",\"#00ff00\",\"#00ff00\",\"#00ff00\",\"#00ff00\",\"#00ff00\",\"#00ff00\",\"#00ff00\",\"#00ff00\",\"#000000\",\"#00ff00\",\"#00ff00\",\"#00ff00\",\"#00ff00\",\"#00ff00\",\"#00ff00\",\"#000000\",\"#00ff00\",\"#00ff00\",\"#00ff00\",\"#00ff00\",\"#00ff00\",\"#00ff00\",\"#00ff00\",\"#00ff00\",\"#00ff00\",\"#00ff00\",\"#00ff00\",\"#00ff00\",\"#00ffff\",\"#00ff00\",\"#00ff00\",\"#00ff00\",\"#00ff00\",\"#00ff00\",\"#00ff00\",\"#00ff00\",\"#00ff00\",\"#00ff00\",\"#00ff00\",\"#00ff00\",\"#00ff00\",\"#00ff00\",\"#00ff00\",\"#000000\",\"#00ff00\",\"#00ffff\",\"#00ff00\",\"#00ffff\",\"#00ff00\",\"#000000\",\"#00ff00\",\"#00ff00\",\"#00ff00\",\"#00ff00\",\"#00ff00\",\"#00ff00\",\"#00ffff\",\"#000000\",\"#000000\",\"#00ff00\",\"#00ff00\",\"#00ff00\",\"#00ff00\",\"#00ff00\",\"#00ff00\",\"#00ff00\",\"#00ff00\",\"#00ffff\",\"#000000\",\"#00ff00\",\"#00ff00\",\"#000000\",\"#00ff00\",\"#00ff00\",\"#00ff00\",\"#00ff00\",\"#00ffff\",\"#00ff00\",\"#00ff00\",\"#00ff00\",\"#00ff00\",\"#00ff00\",\"#00ffff\",\"#00ff00\",\"#00ff00\",\"#00ff00\",\"#00ff00\",\"#00ff00\",\"#00ff00\",\"#00ffff\",\"#00ff00\",\"#00ff00\",\"#00ff00\",\"#00ff00\",\"#00ff00\",\"#00ff00\",\"#00ff00\",\"#00ffff\",\"#00ff00\",\"#00ff00\",\"#00ffff\",\"#00ff00\",\"#00ff00\",\"#00ff00\",\"#000000\",\"#00ff00\",\"#00ff00\",\"#00ff00\",\"#00ff00\",\"#00ff00\",\"#00ff00\",\"#00ffff\",\"#00ff00\",\"#00ffff\",\"#00ff00\",\"#00ff00\",\"#00ff00\",\"#00ff00\",\"#00ff00\",\"#00ffff\",\"#00ffff\",\"#00ff00\",\"#00ff00\",\"#00ff00\",\"#00ff00\",\"#00ff00\",\"#00ff00\",\"#00ffff\",\"#00ff00\",\"#00ff00\",\"#00ff00\",\"#00ff00\",\"#000000\",\"#00ff00\",\"#00ff00\",\"#00ffff\",\"#00ff00\",\"#00ffff\",\"#00ff00\",\"#000000\",\"#00ff00\",\"#00ff00\",\"#00ff00\",\"#00ff00\",\"#00ff00\",\"#00ff00\",\"#00ff00\",\"#00ff00\",\"#00ff00\",\"#00ff00\",\"#00ff00\",\"#00ff00\",\"#00ff00\",\"#00ff00\",\"#00ff00\",\"#00ff00\",\"#00ff00\",\"#00ff00\",\"#00ff00\",\"#00ff00\",\"#00ff00\",\"#00ff00\",\"#00ff00\",\"#00ff00\",\"#00ff00\",\"#00ff00\",\"#00ff00\",\"#00ff00\",\"#00ff00\",\"#00ffff\",\"#00ff00\",\"#00ff00\",\"#00ff00\",\"#00ffff\",\"#00ff00\",\"#00ff00\",\"#000000\",\"#00ffff\",\"#000000\",\"#00ff00\",\"#00ff00\",\"#00ff00\",\"#00ff00\",\"#00ff00\",\"#00ff00\",\"#00ff00\",\"#00ff00\",\"#00ff00\",\"#00ff00\",\"#00ffff\",\"#00ff00\",\"#000000\",\"#00ff00\",\"#00ff00\",\"#00ff00\",\"#000000\",\"#00ff00\",\"#000000\",\"#00ff00\",\"#00ff00\",\"#00ff00\",\"#00ff00\",\"#00ff00\",\"#00ff00\",\"#00ff00\",\"#00ff00\",\"#00ff00\",\"#000000\",\"#00ff00\",\"#00ffff\",\"#000000\",\"#00ff00\",\"#00ff00\",\"#00ff00\",\"#00ff00\",\"#00ff00\",\"#00ff00\",\"#00ff00\",\"#00ff00\",\"#00ff00\",\"#00ff00\",\"#00ff00\",\"#000000\",\"#00ff00\",\"#00ffff\",\"#00ff00\",\"#00ffff\",\"#00ff00\",\"#00ff00\",\"#00ffff\",\"#00ff00\",\"#00ff00\",\"#00ff00\",\"#00ff00\",\"#00ff00\",\"#00ff00\",\"#000000\",\"#00ff00\",\"#00ff00\",\"#00ff00\",\"#00ff00\",\"#00ffff\",\"#00ff00\",\"#00ff00\",\"#00ff00\",\"#00ff00\",\"#00ff00\",\"#00ff00\",\"#00ff00\",\"#00ff00\",\"#00ff00\",\"#00ff00\",\"#00ff00\",\"#00ff00\",\"#00ff00\",\"#00ff00\",\"#00ff00\",\"#00ff00\",\"#00ff00\",\"#00ff00\",\"#00ff00\",\"#000000\",\"#00ff00\",\"#00ff00\",\"#00ff00\",\"#00ff00\",\"#00ff00\",\"#00ffff\",\"#000000\",\"#00ff00\",\"#00ff00\",\"#00ff00\",\"#00ff00\",\"#00ff00\",\"#00ff00\",\"#00ff00\",\"#000000\",\"#00ff00\",\"#00ff00\",\"#00ff00\",\"#00ff00\",\"#00ff00\",\"#000000\",\"#00ff00\",\"#00ff00\",\"#00ff00\",\"#00ff00\",\"#00ff00\",\"#00ff00\",\"#00ff00\",\"#00ff00\",\"#00ffff\",\"#00ff00\",\"#00ff00\",\"#00ff00\",\"#000000\",\"#00ff00\",\"#00ff00\",\"#00ff00\",\"#00ff00\",\"#00ff00\",\"#00ff00\",\"#00ff00\",\"#00ff00\",\"#00ff00\",\"#00ff00\",\"#00ff00\",\"#00ffff\",\"#00ff00\",\"#00ff00\",\"#00ff00\",\"#00ff00\",\"#00ff00\",\"#00ff00\",\"#00ff00\",\"#00ff00\",\"#00ff00\",\"#00ff00\",\"#00ff00\",\"#000000\",\"#00ff00\",\"#00ff00\",\"#00ff00\",\"#00ffff\",\"#00ff00\",\"#00ff00\",\"#000000\",\"#00ff00\",\"#00ff00\",\"#00ff00\",\"#00ff00\",\"#00ff00\",\"#00ffff\",\"#00ff00\",\"#00ff00\",\"#00ff00\",\"#00ffff\",\"#00ff00\",\"#000000\",\"#00ff00\",\"#000000\",\"#00ff00\",\"#00ff00\",\"#00ff00\",\"#00ff00\",\"#00ff00\",\"#00ff00\",\"#00ff00\",\"#00ff00\",\"#00ff00\",\"#00ff00\",\"#00ffff\",\"#00ff00\",\"#00ffff\",\"#00ff00\",\"#00ff00\",\"#00ff00\",\"#00ff00\",\"#00ff00\",\"#00ff00\",\"#00ff00\",\"#00ff00\",\"#00ff00\",\"#00ff00\",\"#00ff00\",\"#00ff00\",\"#00ff00\",\"#00ff00\",\"#00ff00\",\"#00ff00\",\"#00ff00\",\"#00ffff\",\"#000000\",\"#00ff00\",\"#00ff00\",\"#00ff00\",\"#00ff00\",\"#000000\",\"#000000\",\"#00ff00\",\"#00ff00\",\"#00ff00\",\"#00ffff\",\"#00ff00\",\"#00ff00\",\"#00ff00\",\"#00ff00\",\"#00ff00\",\"#00ff00\",\"#00ff00\",\"#00ff00\",\"#00ff00\",\"#00ff00\",\"#00ff00\",\"#00ff00\",\"#00ff00\",\"#00ff00\",\"#00ff00\",\"#00ffff\",\"#00ff00\",\"#00ff00\",\"#00ff00\",\"#00ff00\",\"#00ffff\",\"#00ff00\",\"#00ff00\",\"#00ff00\",\"#00ff00\",\"#00ff00\",\"#00ff00\",\"#000000\",\"#000000\",\"#00ff00\",\"#00ff00\",\"#00ff00\",\"#00ff00\",\"#00ff00\",\"#00ff00\",\"#00ff00\",\"#00ff00\",\"#00ff00\",\"#00ff00\",\"#00ff00\",\"#00ff00\",\"#00ff00\",\"#00ff00\",\"#00ff00\",\"#00ff00\",\"#00ff00\",\"#000000\",\"#00ff00\",\"#00ff00\",\"#000000\",\"#00ff00\",\"#00ff00\",\"#00ff00\",\"#00ff00\",\"#00ffff\",\"#00ff00\",\"#00ff00\",\"#00ff00\",\"#00ffff\",\"#000000\",\"#00ff00\",\"#00ffff\",\"#00ffff\",\"#00ff00\",\"#00ff00\",\"#000000\",\"#000000\",\"#00ffff\",\"#000000\",\"#00ff00\",\"#00ff00\",\"#00ff00\",\"#00ff00\",\"#00ffff\",\"#00ff00\",\"#00ff00\",\"#00ff00\",\"#00ff00\",\"#00ff00\",\"#00ff00\",\"#00ffff\",\"#000000\",\"#00ff00\",\"#000000\",\"#000000\",\"#00ffff\",\"#00ff00\",\"#00ff00\",\"#00ff00\",\"#00ff00\",\"#00ffff\",\"#00ff00\",\"#00ff00\",\"#00ff00\",\"#00ffff\",\"#00ff00\",\"#00ff00\",\"#00ff00\",\"#00ffff\",\"#00ff00\",\"#00ff00\",\"#00ff00\",\"#00ff00\",\"#00ff00\",\"#00ff00\",\"#00ff00\",\"#00ff00\",\"#00ff00\",\"#00ff00\",\"#000000\",\"#00ff00\",\"#00ff00\",\"#00ff00\",\"#00ff00\",\"#000000\",\"#00ff00\",\"#00ff00\",\"#00ff00\",\"#00ff00\",\"#00ff00\",\"#000000\",\"#00ffff\",\"#00ff00\",\"#00ff00\",\"#00ff00\",\"#00ff00\",\"#00ff00\",\"#00ff00\",\"#00ff00\",\"#00ff00\",\"#00ff00\",\"#00ff00\",\"#00ff00\",\"#00ff00\",\"#000000\",\"#00ff00\",\"#00ff00\",\"#00ff00\",\"#00ff00\",\"#00ff00\",\"#00ff00\",\"#00ff00\",\"#00ff00\",\"#00ff00\",\"#00ff00\",\"#00ffff\",\"#00ff00\",\"#00ffff\",\"#00ff00\",\"#000000\",\"#00ff00\",\"#00ffff\",\"#00ff00\",\"#00ff00\",\"#00ff00\",\"#00ff00\",\"#00ffff\",\"#00ff00\",\"#00ff00\",\"#00ff00\",\"#00ff00\",\"#00ff00\",\"#00ff00\",\"#00ff00\",\"#00ff00\",\"#00ff00\",\"#00ff00\",\"#00ffff\",\"#00ff00\",\"#00ff00\",\"#00ff00\",\"#00ff00\",\"#00ff00\",\"#00ff00\",\"#00ff00\",\"#000000\",\"#00ff00\",\"#00ff00\",\"#00ff00\",\"#00ffff\",\"#00ff00\",\"#00ff00\",\"#00ff00\",\"#00ff00\",\"#00ffff\",\"#000000\",\"#00ff00\",\"#00ff00\",\"#00ff00\",\"#00ff00\",\"#00ff00\",\"#00ff00\",\"#00ff00\",\"#00ff00\",\"#00ff00\",\"#00ffff\",\"#00ffff\",\"#00ff00\",\"#00ff00\",\"#00ff00\",\"#00ff00\",\"#000000\",\"#00ff00\",\"#00ff00\",\"#00ff00\",\"#00ff00\",\"#00ffff\",\"#000000\",\"#00ff00\",\"#00ff00\",\"#00ff00\",\"#00ff00\",\"#00ff00\",\"#00ff00\",\"#00ff00\",\"#00ff00\",\"#00ff00\",\"#00ff00\",\"#00ff00\",\"#000000\",\"#00ff00\",\"#00ff00\",\"#00ff00\",\"#00ff00\",\"#00ff00\",\"#00ff00\",\"#00ff00\",\"#00ff00\",\"#00ff00\",\"#000000\",\"#00ffff\",\"#00ff00\",\"#00ff00\",\"#00ffff\",\"#00ff00\",\"#00ffff\",\"#00ff00\",\"#00ff00\",\"#00ff00\",\"#00ff00\",\"#000000\",\"#00ff00\",\"#00ff00\",\"#00ff00\",\"#00ff00\",\"#00ffff\",\"#00ff00\",\"#00ff00\",\"#00ff00\",\"#000000\",\"#00ff00\",\"#00ff00\",\"#00ff00\",\"#00ff00\",\"#00ff00\",\"#00ffff\",\"#00ff00\",\"#00ff00\",\"#00ff00\",\"#00ff00\",\"#00ff00\",\"#00ff00\",\"#00ff00\",\"#00ff00\",\"#00ff00\",\"#00ff00\",\"#00ff00\",\"#00ff00\",\"#00ff00\",\"#00ffff\",\"#00ff00\",\"#00ff00\",\"#00ff00\",\"#00ff00\",\"#00ff00\",\"#00ff00\",\"#00ff00\",\"#00ff00\",\"#00ff00\",\"#000000\",\"#000000\",\"#00ff00\",\"#00ff00\",\"#00ff00\",\"#00ff00\",\"#00ff00\",\"#00ff00\",\"#00ff00\",\"#00ff00\",\"#00ff00\",\"#00ff00\",\"#00ff00\",\"#00ff00\",\"#00ffff\",\"#00ff00\",\"#00ff00\",\"#00ff00\",\"#00ffff\",\"#00ff00\",\"#00ff00\",\"#00ffff\",\"#00ff00\",\"#000000\",\"#00ffff\",\"#00ffff\",\"#00ff00\",\"#00ff00\",\"#00ff00\",\"#00ff00\",\"#00ff00\",\"#00ff00\",\"#00ff00\",\"#00ff00\",\"#00ff00\",\"#00ff00\",\"#000000\",\"#00ff00\",\"#00ff00\",\"#00ff00\",\"#00ff00\",\"#000000\",\"#00ff00\",\"#00ffff\",\"#00ff00\",\"#000000\",\"#00ff00\",\"#00ff00\",\"#00ff00\",\"#00ff00\",\"#00ffff\",\"#00ff00\",\"#00ff00\",\"#00ff00\",\"#00ff00\",\"#00ff00\",\"#00ff00\",\"#00ff00\",\"#00ff00\",\"#000000\",\"#00ff00\",\"#00ffff\",\"#00ff00\",\"#00ff00\",\"#00ff00\",\"#00ff00\",\"#00ff00\",\"#00ff00\",\"#00ff00\",\"#00ff00\",\"#00ff00\",\"#00ff00\",\"#00ff00\",\"#00ff00\",\"#00ff00\",\"#000000\",\"#00ff00\",\"#00ff00\",\"#00ff00\",\"#00ff00\",\"#00ff00\",\"#00ff00\",\"#00ff00\",\"#00ff00\",\"#00ff00\",\"#00ffff\",\"#00ff00\",\"#00ff00\",\"#00ffff\",\"#00ff00\",\"#00ff00\",\"#00ffff\",\"#000000\",\"#00ff00\",\"#00ff00\",\"#00ff00\",\"#00ff00\",\"#00ff00\",\"#00ff00\",\"#00ff00\",\"#00ff00\",\"#00ff00\",\"#00ff00\",\"#00ff00\",\"#00ff00\",\"#00ff00\",\"#00ffff\",\"#00ffff\",\"#00ff00\",\"#00ff00\",\"#00ff00\",\"#00ff00\",\"#00ff00\",\"#00ff00\",\"#00ff00\",\"#00ff00\",\"#00ffff\",\"#00ff00\",\"#00ff00\",\"#00ff00\",\"#00ff00\",\"#00ff00\",\"#00ff00\",\"#00ff00\",\"#00ff00\",\"#000000\",\"#00ff00\",\"#00ff00\",\"#00ff00\",\"#00ffff\",\"#000000\",\"#00ff00\",\"#00ff00\",\"#00ff00\",\"#00ff00\",\"#00ff00\",\"#00ff00\",\"#00ff00\",\"#00ff00\",\"#00ff00\",\"#00ff00\",\"#00ffff\",\"#00ffff\",\"#00ff00\",\"#00ff00\",\"#00ff00\",\"#00ff00\",\"#00ff00\",\"#00ff00\",\"#00ff00\",\"#00ff00\",\"#00ff00\",\"#00ff00\",\"#00ff00\",\"#00ff00\",\"#00ff00\",\"#00ffff\",\"#00ffff\",\"#00ff00\",\"#00ff00\",\"#00ff00\",\"#00ff00\",\"#00ff00\",\"#000000\",\"#000000\",\"#00ff00\",\"#00ff00\",\"#00ff00\",\"#000000\",\"#00ff00\",\"#00ff00\",\"#00ff00\",\"#00ff00\",\"#00ff00\",\"#00ff00\",\"#00ff00\",\"#00ff00\",\"#00ff00\",\"#00ff00\",\"#00ff00\",\"#00ff00\",\"#00ff00\",\"#00ffff\",\"#00ffff\",\"#00ff00\",\"#00ff00\",\"#000000\",\"#00ff00\",\"#00ff00\",\"#00ff00\",\"#00ff00\",\"#00ff00\",\"#00ffff\",\"#00ffff\",\"#00ff00\",\"#00ffff\",\"#00ff00\",\"#00ff00\",\"#00ff00\",\"#00ff00\",\"#00ff00\",\"#00ff00\",\"#00ff00\",\"#00ff00\",\"#00ff00\",\"#00ff00\",\"#00ff00\",\"#00ff00\",\"#00ff00\",\"#00ff00\",\"#00ff00\",\"#00ff00\",\"#00ff00\",\"#00ffff\",\"#00ff00\",\"#00ff00\",\"#00ff00\",\"#00ff00\",\"#00ff00\",\"#00ff00\",\"#00ff00\",\"#00ff00\",\"#000000\",\"#00ff00\",\"#00ff00\",\"#00ff00\",\"#00ff00\",\"#00ff00\",\"#00ff00\",\"#000000\",\"#00ff00\",\"#00ff00\",\"#00ff00\",\"#00ff00\",\"#00ff00\",\"#00ff00\",\"#00ff00\",\"#00ff00\",\"#00ff00\",\"#00ff00\",\"#000000\",\"#00ff00\",\"#00ffff\",\"#00ff00\",\"#00ff00\",\"#00ff00\",\"#00ff00\",\"#000000\",\"#00ff00\",\"#00ff00\",\"#00ff00\",\"#00ff00\",\"#00ff00\",\"#00ff00\",\"#00ff00\",\"#00ff00\",\"#00ff00\",\"#00ff00\",\"#00ff00\",\"#00ff00\",\"#00ff00\",\"#00ff00\",\"#00ff00\",\"#00ff00\",\"#00ff00\",\"#00ff00\",\"#00ffff\",\"#00ff00\",\"#00ffff\",\"#000000\",\"#00ff00\",\"#00ffff\",\"#00ff00\",\"#00ffff\",\"#00ffff\",\"#00ff00\",\"#00ff00\",\"#00ff00\",\"#00ff00\",\"#00ff00\",\"#00ff00\",\"#00ff00\",\"#00ff00\",\"#00ff00\",\"#00ff00\",\"#00ff00\",\"#000000\",\"#000000\",\"#00ff00\",\"#00ff00\",\"#00ff00\",\"#00ff00\",\"#00ff00\",\"#00ffff\",\"#00ff00\",\"#00ff00\",\"#00ff00\",\"#00ff00\",\"#00ff00\",\"#00ff00\",\"#00ffff\",\"#00ff00\",\"#00ff00\",\"#00ff00\",\"#00ff00\",\"#00ff00\",\"#00ff00\",\"#00ff00\",\"#00ff00\",\"#00ff00\",\"#00ff00\",\"#00ffff\",\"#00ff00\",\"#000000\",\"#00ff00\",\"#00ff00\",\"#00ff00\",\"#00ff00\",\"#00ff00\",\"#00ff00\",\"#00ff00\",\"#00ff00\",\"#00ff00\",\"#00ff00\",\"#00ff00\",\"#000000\",\"#00ff00\",\"#00ff00\",\"#00ffff\",\"#00ff00\",\"#00ff00\",\"#00ff00\",\"#00ff00\",\"#000000\",\"#00ff00\",\"#00ff00\",\"#00ff00\",\"#00ff00\",\"#00ff00\",\"#00ff00\",\"#00ff00\",\"#00ff00\",\"#00ff00\",\"#00ff00\",\"#000000\",\"#00ff00\",\"#000000\",\"#00ff00\",\"#00ffff\",\"#00ffff\",\"#00ff00\",\"#00ff00\",\"#00ff00\",\"#00ff00\",\"#00ff00\",\"#00ff00\",\"#00ff00\",\"#00ff00\",\"#00ff00\",\"#00ff00\",\"#00ffff\",\"#00ff00\",\"#00ff00\",\"#00ff00\",\"#00ff00\",\"#00ff00\",\"#00ffff\",\"#00ff00\",\"#00ff00\",\"#00ff00\",\"#00ffff\",\"#00ff00\",\"#00ff00\",\"#00ff00\",\"#00ff00\",\"#00ff00\",\"#00ff00\",\"#00ff00\",\"#00ff00\",\"#00ffff\",\"#00ffff\",\"#00ff00\",\"#00ff00\",\"#00ff00\",\"#00ff00\",\"#00ff00\",\"#00ffff\",\"#00ff00\",\"#00ff00\",\"#00ff00\",\"#00ff00\",\"#00ff00\",\"#00ff00\",\"#00ffff\",\"#00ff00\",\"#00ff00\",\"#00ff00\",\"#00ff00\",\"#00ffff\",\"#00ff00\",\"#00ff00\",\"#00ff00\",\"#00ff00\",\"#00ffff\",\"#00ffff\",\"#00ffff\",\"#00ff00\",\"#00ff00\",\"#00ff00\",\"#00ff00\",\"#00ff00\",\"#00ff00\",\"#00ff00\",\"#00ff00\",\"#00ff00\",\"#00ff00\",\"#00ff00\",\"#00ff00\",\"#00ff00\",\"#00ff00\",\"#00ff00\",\"#00ff00\",\"#00ff00\",\"#00ff00\",\"#00ff00\",\"#00ff00\",\"#00ff00\",\"#00ff00\",\"#00ff00\",\"#00ff00\",\"#00ff00\",\"#00ff00\",\"#00ff00\",\"#00ff00\",\"#00ffff\",\"#00ff00\",\"#00ff00\",\"#00ff00\",\"#000000\",\"#00ff00\",\"#00ff00\",\"#00ffff\",\"#000000\",\"#00ff00\",\"#00ffff\",\"#00ff00\",\"#00ffff\",\"#00ff00\",\"#00ffff\",\"#00ff00\",\"#00ff00\",\"#00ff00\",\"#00ff00\",\"#00ffff\",\"#000000\",\"#00ff00\",\"#00ff00\",\"#000000\",\"#00ff00\",\"#000000\",\"#00ff00\",\"#00ff00\",\"#00ff00\",\"#00ff00\",\"#00ff00\",\"#00ff00\",\"#00ff00\",\"#00ff00\",\"#00ff00\",\"#000000\",\"#00ffff\",\"#000000\",\"#000000\",\"#00ff00\",\"#00ff00\",\"#00ff00\",\"#00ff00\",\"#00ff00\",\"#00ff00\",\"#00ff00\",\"#00ff00\",\"#00ff00\",\"#00ff00\",\"#00ff00\",\"#00ff00\",\"#00ff00\",\"#00ff00\",\"#00ff00\",\"#00ffff\",\"#00ff00\",\"#00ff00\",\"#00ff00\",\"#00ff00\",\"#00ffff\",\"#00ff00\",\"#000000\",\"#00ffff\",\"#00ff00\",\"#00ff00\",\"#00ff00\",\"#00ff00\",\"#00ff00\",\"#00ff00\",\"#00ff00\",\"#00ff00\",\"#00ff00\",\"#00ffff\",\"#00ff00\",\"#00ff00\",\"#00ff00\",\"#00ff00\",\"#00ffff\",\"#00ff00\",\"#00ffff\",\"#00ffff\",\"#00ff00\",\"#00ff00\",\"#00ff00\",\"#00ff00\",\"#00ff00\",\"#00ffff\",\"#000000\",\"#00ff00\",\"#00ffff\",\"#00ffff\",\"#00ff00\",\"#00ff00\",\"#00ff00\",\"#00ff00\",\"#00ff00\",\"#00ff00\",\"#00ff00\",\"#00ff00\",\"#00ff00\",\"#00ff00\",\"#00ff00\",\"#00ff00\",\"#00ff00\",\"#00ff00\",\"#00ff00\",\"#00ff00\",\"#00ff00\",\"#00ff00\",\"#000000\",\"#00ffff\",\"#00ff00\",\"#000000\",\"#00ff00\",\"#00ff00\",\"#00ffff\",\"#00ff00\",\"#00ff00\",\"#00ff00\",\"#00ff00\",\"#00ff00\",\"#000000\",\"#00ff00\",\"#00ff00\",\"#00ff00\",\"#00ff00\",\"#00ffff\",\"#00ff00\",\"#00ff00\",\"#00ff00\",\"#00ff00\",\"#00ffff\",\"#00ffff\",\"#00ff00\",\"#00ff00\",\"#00ff00\",\"#00ff00\",\"#00ff00\",\"#00ff00\",\"#00ff00\",\"#00ff00\",\"#00ff00\",\"#00ff00\",\"#00ff00\",\"#00ff00\",\"#00ff00\",\"#00ff00\",\"#00ff00\",\"#00ff00\",\"#00ff00\",\"#00ffff\",\"#00ff00\",\"#00ff00\",\"#00ff00\",\"#00ff00\",\"#00ff00\",\"#00ff00\",\"#00ff00\",\"#00ff00\",\"#00ff00\",\"#00ff00\",\"#00ff00\",\"#00ff00\",\"#00ff00\",\"#00ff00\",\"#00ff00\",\"#00ff00\",\"#00ff00\",\"#00ff00\",\"#00ffff\",\"#00ffff\",\"#00ffff\",\"#00ff00\",\"#00ffff\",\"#00ff00\",\"#00ff00\",\"#00ff00\",\"#00ff00\",\"#00ff00\",\"#00ff00\",\"#00ff00\",\"#00ffff\",\"#00ff00\",\"#00ff00\",\"#00ff00\",\"#00ff00\",\"#00ff00\",\"#00ff00\",\"#00ff00\",\"#000000\",\"#00ff00\",\"#00ff00\",\"#00ffff\",\"#00ff00\",\"#00ff00\",\"#00ff00\",\"#000000\",\"#000000\",\"#00ffff\",\"#000000\",\"#00ff00\",\"#00ff00\",\"#000000\",\"#00ffff\",\"#00ff00\",\"#00ff00\",\"#00ff00\",\"#00ff00\",\"#00ff00\",\"#00ff00\",\"#00ffff\",\"#00ff00\",\"#00ff00\",\"#00ff00\",\"#00ff00\",\"#00ff00\",\"#00ff00\",\"#00ff00\",\"#00ff00\",\"#00ff00\",\"#00ff00\",\"#00ff00\",\"#00ff00\",\"#00ff00\",\"#00ff00\",\"#00ff00\",\"#000000\",\"#00ff00\",\"#00ff00\",\"#00ff00\",\"#00ffff\",\"#00ff00\",\"#00ff00\",\"#00ffff\",\"#00ff00\",\"#00ff00\",\"#000000\",\"#00ff00\",\"#00ff00\",\"#00ff00\",\"#00ff00\",\"#000000\",\"#00ff00\",\"#00ff00\",\"#00ff00\",\"#00ff00\",\"#00ff00\",\"#00ff00\",\"#00ff00\",\"#00ff00\",\"#000000\",\"#00ff00\",\"#00ff00\",\"#00ff00\",\"#00ff00\",\"#00ff00\",\"#00ff00\",\"#00ff00\",\"#00ff00\",\"#00ff00\",\"#00ff00\",\"#00ffff\",\"#00ff00\",\"#00ff00\",\"#00ff00\",\"#00ff00\",\"#00ff00\",\"#00ff00\",\"#00ffff\",\"#00ff00\",\"#00ff00\",\"#00ffff\",\"#00ff00\",\"#00ff00\",\"#00ff00\",\"#00ff00\",\"#00ff00\",\"#00ff00\",\"#00ff00\",\"#00ffff\",\"#000000\",\"#00ff00\",\"#00ff00\",\"#00ff00\",\"#00ff00\",\"#00ff00\",\"#00ff00\",\"#00ff00\",\"#00ff00\",\"#00ff00\",\"#00ff00\",\"#00ff00\",\"#00ff00\",\"#00ff00\",\"#00ffff\",\"#00ff00\",\"#00ff00\",\"#00ff00\",\"#00ff00\",\"#000000\",\"#00ff00\",\"#00ff00\",\"#00ff00\",\"#00ff00\",\"#00ff00\",\"#00ff00\",\"#00ff00\",\"#00ff00\",\"#00ff00\",\"#00ff00\",\"#00ff00\",\"#00ff00\",\"#00ff00\",\"#00ff00\",\"#00ff00\",\"#000000\",\"#00ff00\",\"#00ff00\",\"#00ff00\",\"#00ff00\",\"#00ff00\",\"#00ff00\",\"#00ff00\",\"#00ff00\",\"#00ff00\",\"#000000\",\"#00ffff\",\"#00ff00\",\"#00ff00\",\"#00ff00\",\"#00ff00\",\"#00ffff\",\"#00ff00\",\"#00ffff\",\"#00ff00\",\"#00ff00\",\"#00ff00\",\"#00ff00\",\"#00ff00\",\"#00ff00\",\"#00ff00\",\"#00ff00\",\"#00ff00\",\"#00ff00\",\"#00ff00\",\"#00ff00\",\"#00ff00\",\"#00ff00\",\"#00ff00\",\"#00ff00\",\"#00ff00\",\"#00ff00\",\"#00ffff\",\"#00ff00\",\"#00ff00\",\"#00ff00\",\"#000000\",\"#00ff00\",\"#00ff00\",\"#000000\",\"#00ff00\",\"#00ffff\",\"#00ff00\",\"#00ffff\",\"#00ff00\",\"#00ff00\",\"#00ff00\",\"#00ff00\",\"#00ff00\",\"#00ff00\",\"#00ff00\",\"#000000\",\"#00ff00\",\"#00ff00\",\"#00ff00\",\"#00ffff\",\"#00ff00\",\"#00ff00\",\"#00ffff\",\"#00ff00\",\"#00ff00\",\"#00ff00\",\"#00ff00\",\"#00ff00\",\"#00ff00\",\"#00ff00\",\"#00ff00\",\"#00ff00\",\"#00ff00\",\"#00ff00\",\"#00ff00\",\"#00ff00\",\"#00ffff\",\"#00ff00\",\"#00ff00\",\"#00ffff\",\"#00ffff\",\"#00ff00\",\"#00ff00\",\"#00ff00\",\"#000000\",\"#00ff00\",\"#00ff00\",\"#00ff00\",\"#00ff00\",\"#00ff00\",\"#00ff00\",\"#00ff00\",\"#00ff00\",\"#00ffff\",\"#00ff00\",\"#00ff00\",\"#00ff00\",\"#00ff00\",\"#00ff00\",\"#00ff00\",\"#00ff00\",\"#00ff00\",\"#00ff00\",\"#00ffff\",\"#00ff00\",\"#00ff00\",\"#00ffff\",\"#00ff00\",\"#00ff00\",\"#00ff00\",\"#00ff00\",\"#00ff00\",\"#00ff00\",\"#00ff00\",\"#00ff00\",\"#00ff00\",\"#00ff00\",\"#00ff00\",\"#00ff00\",\"#00ff00\",\"#00ffff\",\"#00ff00\",\"#00ff00\",\"#00ff00\",\"#00ff00\",\"#00ff00\",\"#000000\",\"#00ff00\",\"#00ff00\",\"#00ff00\",\"#00ff00\",\"#000000\",\"#000000\",\"#00ff00\",\"#00ff00\",\"#00ff00\",\"#00ff00\",\"#00ff00\",\"#00ff00\",\"#00ff00\",\"#00ff00\",\"#00ff00\",\"#00ff00\",\"#00ff00\",\"#00ff00\",\"#00ff00\",\"#00ff00\",\"#00ffff\",\"#00ff00\",\"#00ff00\",\"#00ff00\",\"#00ff00\",\"#00ff00\",\"#00ff00\",\"#00ff00\",\"#00ff00\",\"#00ffff\",\"#00ff00\",\"#00ff00\",\"#00ffff\",\"#00ff00\",\"#00ffff\",\"#00ff00\",\"#00ff00\",\"#00ff00\",\"#00ff00\",\"#000000\",\"#00ff00\",\"#00ff00\",\"#00ff00\",\"#00ff00\",\"#00ffff\",\"#00ff00\",\"#00ff00\",\"#000000\",\"#00ffff\",\"#00ffff\",\"#00ffff\",\"#00ff00\",\"#00ff00\",\"#00ff00\",\"#00ff00\",\"#00ff00\",\"#00ffff\",\"#00ff00\",\"#00ffff\",\"#00ff00\",\"#00ff00\",\"#00ff00\",\"#00ff00\",\"#00ff00\",\"#00ff00\",\"#00ff00\",\"#00ff00\",\"#00ff00\",\"#00ff00\",\"#00ff00\",\"#00ff00\",\"#00ffff\",\"#00ff00\",\"#00ff00\",\"#00ff00\",\"#00ffff\",\"#00ff00\",\"#00ff00\",\"#00ff00\",\"#00ff00\",\"#000000\",\"#00ffff\",\"#00ff00\",\"#00ff00\",\"#00ff00\",\"#000000\",\"#00ff00\",\"#00ff00\",\"#00ff00\",\"#00ff00\",\"#00ff00\",\"#00ff00\",\"#00ffff\",\"#00ff00\",\"#00ff00\",\"#00ff00\",\"#00ff00\",\"#00ff00\",\"#00ff00\",\"#00ff00\",\"#00ff00\",\"#00ff00\",\"#00ffff\",\"#00ff00\",\"#00ffff\",\"#00ff00\",\"#00ff00\",\"#00ff00\",\"#00ffff\",\"#00ff00\",\"#00ff00\",\"#00ff00\",\"#00ffff\",\"#000000\",\"#00ff00\",\"#00ff00\",\"#00ff00\",\"#00ff00\",\"#00ff00\",\"#00ff00\",\"#00ffff\",\"#00ff00\",\"#00ff00\",\"#00ff00\",\"#00ff00\",\"#00ff00\",\"#00ff00\",\"#00ff00\",\"#000000\",\"#00ff00\",\"#00ff00\",\"#00ff00\",\"#00ff00\",\"#00ff00\",\"#00ff00\",\"#00ffff\",\"#00ff00\",\"#00ff00\",\"#00ff00\",\"#00ff00\",\"#00ff00\",\"#00ff00\",\"#00ffff\",\"#00ff00\",\"#00ff00\",\"#00ff00\",\"#00ff00\",\"#00ff00\",\"#00ff00\",\"#00ff00\",\"#00ff00\",\"#00ff00\",\"#00ff00\",\"#00ff00\",\"#00ff00\",\"#00ffff\",\"#00ff00\",\"#00ff00\",\"#00ff00\",\"#00ffff\",\"#00ff00\",\"#00ff00\",\"#00ff00\",\"#00ff00\",\"#00ff00\",\"#00ff00\",\"#00ff00\",\"#00ff00\",\"#00ff00\",\"#00ffff\",\"#00ff00\",\"#00ff00\",\"#00ff00\",\"#00ff00\",\"#00ff00\",\"#00ff00\",\"#00ff00\",\"#00ff00\",\"#00ff00\",\"#00ff00\",\"#00ff00\",\"#00ff00\",\"#00ff00\",\"#00ff00\",\"#00ff00\",\"#00ff00\",\"#00ff00\",\"#00ff00\",\"#00ff00\",\"#00ff00\",\"#00ff00\",\"#000000\",\"#00ff00\",\"#00ff00\",\"#00ff00\",\"#00ff00\",\"#00ff00\",\"#00ff00\",\"#000000\",\"#00ff00\",\"#00ff00\",\"#00ff00\",\"#00ff00\",\"#00ff00\",\"#00ff00\",\"#00ff00\",\"#00ff00\",\"#00ff00\",\"#00ff00\",\"#00ff00\",\"#00ffff\",\"#000000\",\"#00ffff\",\"#00ff00\",\"#00ff00\",\"#00ff00\",\"#00ff00\",\"#00ff00\",\"#00ffff\",\"#00ff00\",\"#00ff00\",\"#00ff00\",\"#00ffff\",\"#000000\",\"#00ff00\",\"#00ff00\",\"#00ff00\",\"#00ff00\",\"#00ff00\",\"#00ff00\",\"#00ff00\",\"#00ff00\",\"#00ff00\",\"#00ffff\",\"#000000\",\"#00ff00\",\"#00ff00\",\"#00ff00\",\"#00ff00\",\"#00ff00\",\"#00ffff\",\"#00ff00\",\"#00ff00\",\"#00ff00\",\"#00ff00\",\"#00ff00\",\"#00ff00\",\"#00ff00\",\"#00ff00\",\"#00ff00\",\"#00ff00\",\"#000000\",\"#00ffff\",\"#00ffff\",\"#000000\",\"#00ff00\",\"#00ff00\",\"#00ff00\",\"#00ff00\",\"#000000\",\"#00ffff\",\"#00ff00\",\"#00ffff\",\"#00ff00\",\"#00ff00\",\"#00ff00\",\"#00ff00\",\"#00ff00\",\"#00ff00\",\"#00ff00\",\"#00ff00\",\"#00ff00\",\"#00ff00\",\"#00ff00\",\"#00ff00\",\"#00ff00\",\"#00ff00\",\"#00ff00\",\"#00ff00\",\"#00ff00\",\"#00ff00\",\"#00ff00\",\"#00ff00\",\"#00ff00\",\"#000000\",\"#00ff00\",\"#00ffff\",\"#00ff00\",\"#00ff00\",\"#00ffff\",\"#00ff00\",\"#000000\",\"#00ffff\",\"#00ff00\",\"#00ff00\",\"#00ff00\",\"#00ff00\",\"#00ff00\",\"#00ffff\",\"#00ffff\",\"#00ffff\",\"#00ffff\",\"#000000\",\"#00ff00\",\"#00ff00\",\"#00ffff\",\"#000000\",\"#00ff00\",\"#00ff00\",\"#00ff00\",\"#000000\",\"#00ff00\",\"#00ff00\",\"#00ff00\",\"#00ff00\",\"#00ff00\",\"#00ffff\",\"#00ff00\",\"#00ff00\",\"#00ff00\",\"#00ff00\",\"#00ff00\",\"#00ff00\",\"#00ff00\",\"#000000\",\"#00ff00\",\"#00ff00\",\"#00ff00\",\"#00ff00\",\"#00ff00\",\"#00ff00\",\"#00ff00\",\"#00ffff\",\"#00ffff\",\"#00ff00\",\"#00ff00\",\"#00ff00\",\"#00ff00\",\"#00ff00\",\"#000000\",\"#00ff00\",\"#000000\",\"#00ff00\",\"#00ffff\",\"#00ff00\",\"#00ff00\",\"#00ff00\",\"#00ff00\",\"#00ff00\",\"#00ff00\",\"#00ff00\",\"#00ffff\",\"#00ff00\",\"#00ff00\",\"#00ff00\",\"#00ffff\",\"#00ff00\",\"#00ff00\",\"#00ff00\",\"#00ff00\",\"#000000\",\"#00ff00\",\"#00ff00\",\"#00ff00\",\"#00ff00\",\"#00ff00\",\"#000000\",\"#00ff00\",\"#00ff00\",\"#00ff00\",\"#00ff00\",\"#00ff00\",\"#00ff00\",\"#00ff00\",\"#00ff00\",\"#000000\",\"#000000\",\"#00ff00\",\"#00ff00\",\"#000000\",\"#000000\",\"#00ff00\",\"#000000\",\"#00ff00\",\"#00ff00\",\"#00ff00\",\"#00ff00\",\"#00ff00\",\"#00ff00\",\"#00ff00\",\"#00ff00\",\"#00ff00\",\"#000000\",\"#00ff00\",\"#00ffff\",\"#00ff00\",\"#00ff00\",\"#00ff00\",\"#00ff00\",\"#00ff00\",\"#00ff00\",\"#00ff00\",\"#00ff00\",\"#00ff00\",\"#000000\",\"#00ff00\",\"#00ff00\",\"#00ff00\",\"#00ffff\",\"#000000\",\"#00ff00\",\"#00ff00\",\"#00ff00\",\"#00ff00\",\"#00ff00\",\"#00ff00\",\"#00ff00\",\"#00ff00\",\"#00ffff\",\"#00ff00\",\"#000000\",\"#00ff00\",\"#00ffff\",\"#00ffff\",\"#00ff00\",\"#00ffff\",\"#00ff00\",\"#00ff00\",\"#00ff00\",\"#00ffff\",\"#00ff00\",\"#00ff00\",\"#00ff00\",\"#00ff00\",\"#00ff00\",\"#00ffff\",\"#000000\",\"#00ffff\",\"#00ff00\",\"#00ff00\",\"#00ff00\",\"#00ff00\",\"#00ff00\",\"#00ff00\",\"#000000\",\"#00ffff\",\"#00ff00\",\"#00ff00\",\"#00ff00\",\"#00ff00\",\"#000000\",\"#00ffff\",\"#00ff00\",\"#00ff00\",\"#00ff00\",\"#00ff00\",\"#00ffff\",\"#00ff00\",\"#00ff00\",\"#00ff00\",\"#00ff00\",\"#00ff00\",\"#00ff00\",\"#00ff00\",\"#00ffff\",\"#00ff00\",\"#00ff00\",\"#00ff00\",\"#00ff00\",\"#00ffff\",\"#00ff00\",\"#00ff00\",\"#00ff00\",\"#00ff00\",\"#00ff00\",\"#000000\",\"#00ff00\",\"#00ff00\",\"#00ff00\",\"#00ff00\",\"#000000\",\"#00ff00\",\"#00ff00\",\"#00ff00\",\"#00ff00\",\"#00ffff\",\"#00ff00\",\"#00ff00\",\"#00ff00\",\"#00ffff\",\"#00ff00\",\"#00ffff\",\"#00ff00\",\"#00ff00\",\"#00ff00\",\"#00ff00\",\"#00ff00\",\"#000000\",\"#00ff00\",\"#00ff00\",\"#00ffff\",\"#00ff00\",\"#00ff00\",\"#00ff00\",\"#00ff00\",\"#00ff00\",\"#00ffff\",\"#00ff00\",\"#00ff00\",\"#00ff00\",\"#00ffff\",\"#00ff00\",\"#00ff00\",\"#00ff00\",\"#00ff00\",\"#00ffff\",\"#00ffff\",\"#00ff00\",\"#00ff00\",\"#00ff00\",\"#00ff00\",\"#00ff00\",\"#00ff00\",\"#00ff00\",\"#00ff00\",\"#00ff00\",\"#00ff00\",\"#00ff00\",\"#00ff00\",\"#00ff00\",\"#00ffff\",\"#00ffff\",\"#00ffff\",\"#00ff00\",\"#00ff00\",\"#00ff00\",\"#00ff00\",\"#00ff00\",\"#00ff00\",\"#00ff00\",\"#00ff00\",\"#00ffff\",\"#00ff00\",\"#00ff00\",\"#00ff00\",\"#00ff00\",\"#00ff00\",\"#00ff00\",\"#00ff00\",\"#00ff00\",\"#00ffff\",\"#00ff00\",\"#00ff00\",\"#00ff00\",\"#00ff00\",\"#00ff00\",\"#00ff00\",\"#00ff00\",\"#00ff00\",\"#00ff00\",\"#00ff00\",\"#000000\",\"#00ff00\",\"#00ff00\",\"#00ff00\",\"#00ff00\",\"#00ff00\",\"#00ff00\",\"#00ff00\",\"#00ff00\",\"#00ff00\",\"#00ff00\",\"#00ff00\",\"#00ff00\",\"#00ffff\",\"#00ff00\",\"#00ff00\",\"#00ffff\",\"#00ffff\",\"#00ff00\",\"#00ff00\",\"#00ff00\",\"#00ff00\",\"#00ff00\",\"#00ff00\",\"#00ff00\",\"#00ff00\",\"#00ffff\",\"#00ffff\",\"#00ff00\",\"#00ffff\",\"#00ff00\",\"#00ff00\",\"#00ff00\",\"#00ff00\",\"#00ff00\",\"#00ff00\",\"#00ff00\",\"#00ff00\",\"#00ff00\",\"#00ffff\",\"#00ff00\",\"#00ff00\",\"#00ff00\",\"#00ff00\",\"#00ff00\",\"#000000\",\"#00ff00\",\"#00ff00\",\"#00ff00\",\"#00ff00\",\"#00ff00\",\"#00ff00\",\"#00ffff\",\"#00ff00\",\"#00ff00\",\"#00ff00\",\"#00ff00\",\"#00ffff\",\"#00ff00\",\"#00ff00\",\"#00ffff\",\"#00ffff\",\"#00ffff\",\"#00ff00\",\"#00ff00\",\"#00ff00\",\"#00ff00\",\"#00ff00\",\"#00ff00\",\"#00ff00\",\"#00ff00\",\"#00ff00\",\"#000000\",\"#00ffff\",\"#000000\",\"#00ff00\",\"#000000\",\"#00ff00\",\"#00ff00\",\"#00ff00\",\"#00ff00\",\"#00ff00\",\"#00ff00\",\"#00ffff\",\"#00ffff\",\"#00ff00\",\"#00ff00\",\"#00ffff\",\"#00ff00\",\"#00ff00\",\"#00ff00\",\"#00ff00\",\"#00ff00\",\"#00ff00\",\"#00ff00\",\"#00ff00\",\"#00ff00\",\"#00ff00\",\"#00ff00\",\"#00ffff\",\"#00ff00\",\"#00ffff\",\"#00ff00\",\"#00ff00\",\"#00ff00\",\"#00ff00\",\"#00ff00\",\"#00ffff\",\"#00ff00\",\"#00ff00\",\"#00ff00\",\"#00ff00\",\"#00ff00\",\"#00ff00\",\"#00ff00\",\"#00ff00\",\"#00ff00\",\"#00ff00\",\"#00ff00\",\"#00ff00\",\"#00ff00\",\"#00ff00\",\"#00ff00\",\"#00ff00\",\"#00ff00\",\"#00ff00\",\"#00ff00\",\"#00ff00\",\"#00ff00\",\"#00ff00\",\"#000000\",\"#00ff00\",\"#00ff00\",\"#000000\",\"#000000\",\"#00ff00\",\"#00ff00\",\"#00ff00\",\"#00ff00\",\"#00ff00\",\"#00ff00\",\"#00ff00\",\"#00ff00\",\"#00ff00\",\"#00ff00\",\"#00ff00\",\"#00ff00\",\"#00ff00\",\"#00ff00\",\"#00ff00\",\"#00ff00\",\"#00ff00\",\"#00ff00\",\"#00ff00\",\"#00ff00\",\"#00ff00\",\"#00ff00\",\"#00ff00\",\"#00ff00\",\"#00ffff\",\"#00ff00\",\"#000000\",\"#00ff00\",\"#00ff00\",\"#00ff00\",\"#00ff00\",\"#000000\",\"#00ffff\",\"#00ff00\",\"#00ff00\",\"#00ff00\",\"#00ff00\",\"#00ff00\",\"#00ff00\",\"#00ff00\",\"#00ff00\",\"#00ff00\",\"#00ff00\",\"#00ff00\",\"#00ffff\",\"#000000\",\"#00ff00\",\"#00ff00\",\"#00ff00\",\"#000000\",\"#00ff00\",\"#000000\",\"#00ff00\",\"#00ff00\",\"#00ff00\",\"#00ff00\",\"#000000\",\"#000000\",\"#00ff00\",\"#00ff00\",\"#00ff00\",\"#00ff00\",\"#00ff00\",\"#00ff00\",\"#00ff00\",\"#00ff00\",\"#00ff00\",\"#00ff00\",\"#00ff00\",\"#00ff00\",\"#00ff00\",\"#00ff00\",\"#000000\",\"#00ff00\",\"#00ff00\",\"#00ff00\",\"#00ffff\",\"#00ff00\",\"#00ffff\",\"#00ff00\",\"#00ff00\",\"#00ff00\",\"#000000\",\"#00ff00\",\"#000000\",\"#00ff00\",\"#00ff00\",\"#00ff00\",\"#00ff00\",\"#00ff00\",\"#00ffff\",\"#00ff00\",\"#00ff00\",\"#00ffff\",\"#00ff00\",\"#00ff00\",\"#00ffff\",\"#00ff00\",\"#00ffff\",\"#00ff00\",\"#00ff00\",\"#00ff00\",\"#00ff00\",\"#000000\",\"#00ff00\",\"#00ff00\",\"#00ffff\",\"#00ff00\",\"#00ff00\",\"#00ff00\",\"#00ffff\",\"#00ffff\",\"#00ffff\",\"#00ff00\",\"#00ff00\",\"#000000\",\"#00ff00\",\"#00ff00\",\"#00ff00\",\"#00ff00\",\"#00ff00\",\"#00ff00\",\"#00ff00\",\"#00ff00\",\"#00ff00\",\"#00ff00\",\"#00ff00\",\"#000000\",\"#00ff00\",\"#00ff00\",\"#00ffff\",\"#00ff00\",\"#00ff00\",\"#00ff00\",\"#000000\",\"#00ffff\",\"#00ff00\",\"#00ff00\",\"#00ff00\",\"#00ff00\",\"#00ff00\",\"#00ff00\",\"#00ff00\",\"#000000\",\"#00ff00\",\"#00ff00\",\"#00ff00\",\"#00ff00\",\"#00ff00\",\"#00ff00\",\"#00ff00\",\"#00ff00\",\"#00ffff\",\"#00ff00\",\"#00ffff\",\"#00ff00\",\"#00ff00\",\"#00ff00\",\"#00ff00\",\"#00ff00\",\"#000000\",\"#00ff00\",\"#00ff00\",\"#00ff00\",\"#00ff00\",\"#00ffff\",\"#00ff00\",\"#00ff00\",\"#00ffff\",\"#00ff00\",\"#00ff00\",\"#00ff00\",\"#00ff00\",\"#00ff00\",\"#000000\",\"#00ff00\",\"#000000\",\"#00ffff\",\"#00ff00\",\"#00ff00\",\"#00ff00\",\"#00ff00\",\"#00ffff\",\"#00ffff\",\"#00ff00\",\"#00ff00\",\"#00ff00\",\"#00ffff\",\"#000000\",\"#00ff00\",\"#00ffff\",\"#00ff00\",\"#00ff00\",\"#00ff00\",\"#00ff00\",\"#00ffff\",\"#00ff00\",\"#00ff00\",\"#00ffff\",\"#00ff00\",\"#00ff00\",\"#00ff00\",\"#00ff00\",\"#00ff00\",\"#000000\",\"#00ff00\",\"#00ff00\",\"#00ff00\",\"#00ff00\",\"#00ff00\",\"#00ff00\",\"#00ff00\",\"#000000\",\"#00ff00\",\"#00ff00\",\"#00ffff\",\"#00ff00\",\"#00ffff\",\"#00ff00\",\"#00ffff\",\"#00ffff\",\"#00ff00\",\"#00ff00\",\"#00ff00\",\"#00ff00\",\"#00ffff\",\"#00ff00\",\"#00ff00\",\"#00ff00\",\"#00ff00\",\"#00ff00\",\"#00ff00\",\"#00ff00\",\"#000000\",\"#00ff00\",\"#00ff00\",\"#00ffff\",\"#00ffff\",\"#00ff00\",\"#00ff00\",\"#00ff00\",\"#00ffff\",\"#00ff00\",\"#00ff00\",\"#00ff00\",\"#00ff00\",\"#00ffff\",\"#000000\",\"#00ff00\",\"#00ff00\",\"#00ff00\",\"#00ff00\",\"#00ff00\",\"#00ff00\",\"#00ff00\",\"#00ff00\",\"#00ffff\",\"#00ff00\",\"#00ff00\",\"#00ff00\",\"#00ff00\",\"#00ffff\",\"#00ffff\",\"#00ffff\",\"#00ff00\",\"#00ff00\",\"#00ff00\",\"#00ffff\",\"#00ffff\",\"#00ff00\",\"#00ff00\",\"#00ff00\",\"#00ff00\",\"#00ff00\",\"#00ff00\",\"#00ff00\",\"#00ff00\",\"#00ff00\",\"#00ffff\",\"#00ff00\",\"#00ff00\",\"#00ff00\",\"#00ff00\",\"#00ff00\",\"#00ff00\",\"#000000\",\"#00ff00\",\"#000000\",\"#00ffff\",\"#00ff00\",\"#00ff00\",\"#00ff00\",\"#00ff00\",\"#00ff00\",\"#00ff00\",\"#00ff00\",\"#00ff00\",\"#00ffff\",\"#00ff00\",\"#00ff00\",\"#000000\",\"#00ffff\",\"#00ffff\",\"#00ff00\",\"#00ff00\",\"#000000\",\"#00ff00\",\"#00ff00\",\"#00ffff\",\"#00ff00\",\"#00ff00\",\"#00ff00\",\"#00ff00\",\"#00ffff\",\"#00ff00\",\"#00ff00\",\"#00ff00\",\"#00ff00\",\"#00ff00\",\"#00ff00\",\"#00ff00\",\"#00ff00\",\"#00ff00\",\"#000000\",\"#00ff00\",\"#00ff00\",\"#00ff00\",\"#00ff00\",\"#00ff00\",\"#00ff00\",\"#00ff00\",\"#000000\",\"#000000\",\"#00ff00\",\"#00ff00\",\"#00ff00\",\"#00ff00\",\"#00ff00\",\"#00ff00\",\"#00ff00\",\"#00ff00\",\"#00ff00\",\"#00ff00\",\"#00ffff\",\"#00ff00\",\"#00ff00\",\"#00ff00\",\"#00ff00\",\"#00ff00\",\"#00ffff\",\"#00ff00\",\"#00ffff\",\"#00ff00\",\"#00ff00\",\"#00ff00\",\"#00ff00\",\"#00ff00\",\"#00ff00\",\"#00ff00\",\"#00ffff\",\"#00ff00\",\"#00ff00\",\"#00ff00\",\"#00ff00\",\"#00ff00\",\"#00ffff\",\"#00ffff\",\"#00ff00\",\"#00ff00\",\"#00ffff\",\"#00ff00\",\"#00ff00\",\"#00ffff\",\"#00ff00\",\"#00ff00\",\"#00ff00\",\"#00ff00\",\"#00ff00\",\"#00ff00\",\"#00ff00\",\"#00ff00\",\"#00ff00\",\"#00ffff\",\"#00ff00\",\"#00ff00\",\"#00ff00\",\"#00ff00\",\"#00ff00\",\"#00ff00\",\"#00ff00\",\"#00ff00\",\"#00ff00\",\"#00ff00\",\"#00ff00\",\"#00ff00\",\"#00ff00\",\"#00ff00\",\"#00ff00\",\"#00ffff\",\"#00ff00\",\"#00ffff\",\"#00ff00\",\"#000000\",\"#00ff00\",\"#00ff00\",\"#00ff00\",\"#00ff00\",\"#000000\",\"#00ff00\",\"#00ff00\",\"#00ff00\",\"#00ff00\",\"#00ff00\",\"#000000\",\"#00ff00\",\"#00ff00\",\"#00ffff\",\"#00ff00\",\"#00ff00\",\"#00ff00\",\"#00ff00\",\"#00ff00\",\"#00ffff\",\"#00ff00\",\"#00ff00\",\"#00ffff\",\"#00ff00\",\"#00ff00\",\"#00ff00\",\"#00ffff\",\"#00ff00\",\"#00ff00\",\"#00ff00\",\"#00ff00\",\"#00ffff\",\"#00ff00\",\"#00ff00\",\"#00ff00\",\"#00ff00\",\"#00ff00\",\"#00ff00\",\"#00ff00\",\"#00ff00\",\"#000000\",\"#00ff00\",\"#00ff00\",\"#00ff00\",\"#00ff00\",\"#00ffff\",\"#00ff00\",\"#00ff00\",\"#00ff00\",\"#00ff00\",\"#00ff00\",\"#00ff00\",\"#00ff00\",\"#00ff00\",\"#00ff00\",\"#00ffff\",\"#00ff00\",\"#00ff00\",\"#00ffff\",\"#00ff00\",\"#00ff00\",\"#00ff00\",\"#00ff00\",\"#00ff00\",\"#00ff00\",\"#00ffff\",\"#00ff00\",\"#00ff00\",\"#00ff00\",\"#00ff00\",\"#00ff00\",\"#00ff00\",\"#00ff00\",\"#000000\",\"#00ff00\",\"#00ff00\",\"#00ffff\",\"#00ff00\",\"#00ff00\",\"#00ffff\",\"#00ff00\",\"#000000\",\"#00ff00\",\"#00ffff\",\"#00ff00\",\"#00ff00\",\"#00ff00\",\"#00ff00\",\"#00ff00\",\"#00ff00\",\"#00ff00\",\"#00ff00\",\"#00ff00\",\"#000000\",\"#00ff00\",\"#00ff00\",\"#00ff00\",\"#00ffff\",\"#00ff00\",\"#00ff00\",\"#00ff00\",\"#00ff00\",\"#00ff00\",\"#00ff00\",\"#00ff00\",\"#00ffff\",\"#00ff00\",\"#00ff00\",\"#00ff00\",\"#000000\",\"#00ff00\",\"#00ff00\",\"#00ff00\",\"#00ff00\",\"#00ff00\",\"#00ff00\",\"#00ff00\",\"#00ff00\",\"#00ff00\",\"#00ff00\",\"#00ff00\",\"#000000\",\"#00ff00\",\"#00ff00\",\"#00ff00\",\"#00ff00\",\"#00ff00\",\"#00ff00\",\"#00ff00\",\"#00ffff\",\"#000000\",\"#00ff00\",\"#00ff00\",\"#00ff00\",\"#00ff00\",\"#00ffff\",\"#00ff00\",\"#00ff00\",\"#00ff00\",\"#00ff00\",\"#00ff00\",\"#00ff00\",\"#000000\",\"#00ff00\",\"#00ff00\",\"#00ff00\",\"#00ff00\",\"#00ff00\",\"#00ff00\",\"#00ff00\",\"#00ff00\",\"#00ff00\",\"#00ff00\",\"#00ff00\",\"#00ff00\",\"#00ff00\",\"#00ff00\",\"#00ff00\",\"#00ff00\",\"#00ff00\",\"#00ffff\",\"#00ff00\",\"#00ff00\",\"#00ffff\",\"#00ff00\",\"#00ffff\",\"#00ff00\",\"#00ff00\",\"#00ffff\",\"#00ff00\",\"#00ff00\",\"#00ff00\",\"#00ff00\",\"#00ff00\",\"#00ffff\",\"#00ff00\",\"#00ff00\",\"#00ff00\",\"#00ff00\",\"#00ffff\",\"#00ff00\",\"#00ff00\",\"#00ff00\",\"#00ff00\",\"#00ff00\",\"#00ff00\",\"#00ffff\",\"#00ff00\",\"#00ff00\",\"#00ff00\",\"#00ff00\",\"#00ff00\",\"#00ff00\",\"#00ff00\",\"#00ff00\",\"#00ff00\",\"#00ff00\",\"#00ff00\",\"#00ff00\",\"#00ff00\",\"#00ff00\",\"#00ff00\",\"#00ff00\",\"#00ff00\",\"#00ff00\",\"#00ff00\",\"#00ff00\",\"#00ff00\",\"#00ff00\",\"#00ff00\",\"#00ffff\",\"#00ff00\",\"#00ff00\",\"#000000\",\"#00ff00\",\"#00ff00\",\"#00ff00\",\"#00ff00\",\"#00ff00\",\"#00ff00\",\"#00ff00\",\"#00ff00\",\"#000000\",\"#00ff00\",\"#00ff00\",\"#00ff00\",\"#00ff00\",\"#00ff00\",\"#00ff00\",\"#00ffff\",\"#00ffff\",\"#000000\",\"#00ff00\",\"#000000\",\"#00ff00\",\"#00ff00\",\"#00ff00\",\"#00ff00\",\"#00ff00\",\"#00ff00\",\"#00ff00\",\"#000000\",\"#00ff00\",\"#00ff00\",\"#000000\",\"#000000\",\"#00ff00\",\"#00ff00\",\"#000000\",\"#00ff00\",\"#00ffff\",\"#00ff00\",\"#00ff00\",\"#00ff00\",\"#00ff00\",\"#00ff00\",\"#00ff00\",\"#000000\",\"#00ff00\",\"#00ff00\",\"#00ff00\",\"#00ff00\",\"#00ff00\",\"#00ffff\",\"#00ffff\",\"#00ff00\",\"#00ff00\",\"#00ff00\",\"#00ff00\",\"#00ffff\",\"#00ff00\",\"#00ffff\",\"#00ff00\",\"#00ff00\",\"#00ff00\",\"#00ff00\",\"#000000\",\"#00ff00\",\"#00ff00\",\"#00ffff\",\"#00ff00\",\"#00ff00\",\"#00ff00\",\"#00ff00\",\"#000000\",\"#00ff00\",\"#00ff00\",\"#00ff00\",\"#00ff00\",\"#00ff00\",\"#00ff00\",\"#00ff00\",\"#000000\",\"#000000\",\"#000000\",\"#00ff00\",\"#00ffff\",\"#00ff00\",\"#00ff00\",\"#00ff00\",\"#00ff00\",\"#000000\",\"#000000\",\"#00ffff\",\"#00ff00\",\"#00ff00\",\"#00ff00\",\"#00ff00\",\"#00ff00\",\"#00ff00\",\"#00ff00\",\"#00ff00\",\"#00ff00\",\"#00ff00\",\"#00ff00\",\"#00ff00\",\"#00ff00\",\"#00ff00\",\"#00ffff\",\"#00ff00\",\"#00ff00\",\"#00ff00\",\"#00ff00\",\"#00ff00\",\"#00ff00\",\"#00ff00\",\"#000000\",\"#000000\",\"#00ff00\",\"#00ff00\",\"#00ff00\",\"#00ffff\",\"#00ff00\",\"#000000\",\"#00ff00\",\"#00ff00\",\"#00ffff\",\"#00ff00\",\"#00ffff\",\"#00ff00\",\"#00ff00\",\"#00ff00\",\"#00ff00\",\"#00ff00\",\"#00ff00\",\"#00ffff\",\"#00ff00\",\"#00ff00\",\"#00ff00\",\"#000000\",\"#00ff00\",\"#000000\",\"#00ff00\",\"#00ff00\",\"#00ff00\",\"#00ff00\",\"#00ff00\",\"#00ff00\",\"#000000\",\"#00ff00\",\"#00ff00\",\"#00ff00\",\"#00ff00\",\"#00ff00\",\"#00ff00\",\"#00ff00\",\"#000000\",\"#00ff00\",\"#00ff00\",\"#00ff00\",\"#00ff00\",\"#00ff00\",\"#00ffff\",\"#000000\",\"#00ff00\",\"#00ff00\",\"#000000\",\"#00ffff\",\"#00ff00\",\"#00ff00\",\"#00ff00\",\"#00ff00\",\"#00ff00\",\"#00ff00\",\"#00ff00\",\"#00ff00\",\"#00ff00\",\"#00ff00\",\"#00ff00\",\"#00ff00\",\"#00ff00\",\"#000000\",\"#00ff00\",\"#000000\",\"#00ffff\",\"#00ff00\",\"#00ff00\",\"#00ff00\",\"#00ff00\",\"#00ff00\",\"#00ff00\",\"#00ff00\",\"#00ffff\",\"#00ff00\",\"#00ff00\",\"#00ff00\",\"#00ff00\",\"#00ff00\",\"#00ff00\",\"#00ffff\",\"#00ff00\",\"#00ff00\",\"#00ff00\",\"#00ff00\",\"#00ff00\",\"#00ff00\",\"#00ff00\",\"#000000\",\"#000000\",\"#00ff00\",\"#00ff00\",\"#00ff00\",\"#00ff00\",\"#00ff00\",\"#00ff00\",\"#00ff00\",\"#00ff00\",\"#00ffff\",\"#00ffff\",\"#00ff00\",\"#00ffff\",\"#00ff00\",\"#00ff00\",\"#00ff00\",\"#00ffff\",\"#00ff00\",\"#00ff00\",\"#00ff00\",\"#00ff00\",\"#00ff00\",\"#000000\",\"#00ff00\",\"#00ff00\",\"#00ff00\",\"#00ff00\",\"#00ff00\",\"#00ffff\",\"#00ffff\",\"#00ff00\",\"#00ff00\",\"#00ff00\",\"#00ff00\",\"#00ff00\",\"#00ff00\",\"#00ff00\",\"#00ff00\",\"#00ff00\",\"#00ff00\",\"#00ff00\",\"#00ff00\",\"#00ff00\",\"#00ffff\",\"#00ffff\",\"#00ff00\",\"#00ff00\",\"#00ff00\",\"#00ff00\",\"#00ff00\",\"#00ffff\",\"#00ff00\",\"#00ffff\",\"#00ffff\",\"#00ff00\",\"#00ff00\",\"#00ff00\",\"#00ff00\",\"#00ff00\",\"#00ff00\",\"#00ff00\",\"#00ffff\",\"#00ff00\",\"#00ff00\",\"#00ff00\",\"#00ff00\",\"#00ff00\",\"#00ff00\",\"#00ffff\",\"#00ff00\",\"#00ff00\",\"#00ffff\",\"#00ff00\",\"#000000\",\"#00ff00\",\"#00ff00\",\"#00ff00\",\"#00ffff\",\"#00ff00\",\"#00ff00\",\"#000000\",\"#00ff00\",\"#00ff00\",\"#00ff00\",\"#000000\",\"#00ff00\",\"#00ff00\",\"#00ffff\",\"#00ffff\",\"#00ff00\",\"#000000\",\"#00ff00\",\"#00ff00\",\"#00ff00\",\"#00ff00\",\"#00ff00\",\"#00ff00\",\"#00ffff\",\"#00ff00\",\"#00ffff\",\"#00ff00\",\"#000000\",\"#00ff00\",\"#00ff00\",\"#00ff00\",\"#00ff00\",\"#00ff00\",\"#00ff00\",\"#00ff00\",\"#00ff00\",\"#00ffff\",\"#00ffff\",\"#00ff00\",\"#00ff00\",\"#00ff00\",\"#00ffff\",\"#00ff00\",\"#00ff00\",\"#00ff00\",\"#00ff00\",\"#00ff00\",\"#00ff00\",\"#00ff00\",\"#00ff00\",\"#00ff00\",\"#00ff00\",\"#000000\",\"#00ff00\",\"#00ff00\",\"#00ff00\",\"#00ffff\",\"#00ff00\",\"#00ff00\",\"#00ff00\",\"#00ff00\",\"#00ff00\",\"#00ff00\",\"#00ff00\",\"#00ff00\",\"#00ff00\",\"#00ff00\",\"#00ff00\",\"#00ff00\",\"#00ff00\",\"#00ff00\",\"#00ff00\",\"#00ff00\",\"#000000\",\"#00ffff\",\"#00ff00\",\"#000000\",\"#00ff00\",\"#00ffff\",\"#00ffff\",\"#00ff00\",\"#00ff00\",\"#00ffff\",\"#00ffff\",\"#00ff00\",\"#00ff00\",\"#00ffff\",\"#00ffff\",\"#000000\",\"#00ff00\",\"#00ff00\",\"#00ff00\",\"#00ff00\",\"#00ff00\",\"#00ff00\",\"#00ff00\",\"#00ff00\",\"#00ff00\",\"#00ff00\",\"#00ff00\",\"#00ff00\",\"#00ff00\",\"#00ffff\",\"#00ff00\",\"#000000\",\"#00ff00\",\"#00ff00\",\"#00ff00\",\"#00ffff\",\"#000000\",\"#00ff00\",\"#00ff00\",\"#000000\",\"#000000\",\"#00ff00\",\"#00ff00\",\"#00ff00\",\"#00ff00\",\"#00ff00\",\"#00ff00\",\"#000000\",\"#00ff00\",\"#00ffff\",\"#00ff00\",\"#000000\",\"#00ff00\",\"#00ff00\",\"#00ff00\",\"#00ff00\",\"#00ff00\",\"#00ff00\",\"#00ff00\",\"#00ff00\",\"#00ff00\",\"#00ff00\",\"#00ff00\",\"#00ff00\",\"#00ff00\",\"#00ff00\",\"#00ff00\",\"#00ff00\",\"#00ff00\",\"#00ff00\",\"#00ff00\",\"#00ff00\",\"#00ff00\",\"#00ff00\",\"#00ff00\",\"#00ff00\",\"#00ff00\",\"#00ff00\",\"#00ff00\",\"#00ff00\",\"#000000\",\"#00ff00\",\"#00ff00\",\"#00ff00\",\"#00ff00\",\"#00ff00\",\"#00ffff\",\"#00ff00\",\"#00ff00\",\"#00ff00\",\"#00ff00\",\"#00ff00\",\"#00ff00\",\"#00ff00\",\"#00ff00\",\"#00ff00\",\"#00ff00\",\"#00ff00\",\"#00ffff\",\"#00ffff\",\"#000000\",\"#00ff00\",\"#00ff00\",\"#00ff00\",\"#00ff00\",\"#00ff00\",\"#00ffff\",\"#00ff00\",\"#00ff00\",\"#00ff00\",\"#00ff00\",\"#00ff00\",\"#00ff00\",\"#00ff00\",\"#00ff00\",\"#00ff00\",\"#000000\",\"#00ffff\",\"#00ff00\",\"#00ff00\",\"#00ff00\",\"#00ff00\",\"#00ff00\",\"#00ff00\",\"#00ffff\",\"#00ff00\",\"#00ff00\",\"#00ffff\",\"#00ff00\",\"#00ff00\",\"#00ff00\",\"#00ff00\",\"#00ff00\",\"#00ffff\",\"#00ffff\",\"#00ffff\",\"#00ffff\",\"#00ffff\",\"#00ff00\",\"#00ff00\",\"#00ff00\",\"#00ff00\",\"#00ff00\",\"#00ff00\",\"#00ff00\",\"#00ff00\",\"#00ff00\",\"#00ff00\",\"#00ff00\",\"#000000\",\"#00ff00\",\"#00ff00\",\"#00ffff\",\"#00ffff\",\"#00ff00\",\"#00ff00\",\"#00ff00\",\"#00ff00\",\"#00ff00\",\"#00ff00\",\"#00ffff\",\"#00ff00\",\"#00ff00\",\"#00ff00\",\"#00ffff\",\"#00ffff\",\"#000000\",\"#00ff00\",\"#00ff00\",\"#00ff00\",\"#00ff00\",\"#00ff00\",\"#00ff00\",\"#000000\",\"#00ff00\",\"#00ff00\",\"#00ffff\",\"#00ff00\",\"#00ff00\",\"#000000\",\"#00ff00\",\"#000000\",\"#00ff00\",\"#00ff00\",\"#00ff00\",\"#00ff00\",\"#00ff00\",\"#000000\",\"#00ffff\",\"#00ff00\",\"#00ff00\",\"#00ff00\",\"#00ff00\",\"#00ff00\",\"#00ff00\",\"#00ffff\",\"#00ff00\",\"#00ff00\",\"#00ffff\",\"#000000\",\"#00ff00\",\"#00ff00\",\"#00ff00\",\"#00ff00\",\"#00ff00\",\"#00ff00\",\"#00ff00\",\"#00ff00\",\"#00ff00\",\"#00ffff\",\"#000000\",\"#00ff00\",\"#00ff00\",\"#00ff00\",\"#00ff00\",\"#00ff00\",\"#000000\",\"#00ff00\",\"#00ff00\",\"#00ff00\",\"#00ff00\",\"#00ffff\",\"#00ff00\",\"#00ffff\",\"#00ff00\",\"#00ff00\",\"#00ffff\",\"#00ff00\",\"#00ff00\",\"#00ff00\",\"#00ff00\",\"#00ff00\",\"#00ff00\",\"#00ff00\",\"#00ffff\",\"#00ff00\",\"#00ff00\",\"#00ff00\",\"#00ff00\",\"#00ff00\",\"#00ff00\",\"#00ff00\",\"#00ff00\",\"#00ff00\",\"#00ffff\",\"#00ff00\",\"#00ff00\",\"#00ff00\",\"#00ffff\",\"#00ff00\",\"#00ff00\",\"#00ffff\",\"#00ff00\",\"#00ff00\",\"#00ff00\",\"#00ff00\",\"#00ff00\",\"#00ff00\",\"#00ff00\",\"#00ff00\",\"#00ff00\",\"#00ff00\",\"#00ff00\",\"#00ff00\",\"#00ff00\",\"#00ff00\",\"#00ff00\",\"#00ff00\",\"#00ff00\",\"#00ff00\",\"#00ff00\",\"#00ff00\",\"#00ff00\",\"#00ff00\",\"#00ff00\",\"#00ff00\",\"#00ff00\",\"#00ff00\",\"#00ff00\",\"#00ff00\",\"#00ff00\",\"#00ff00\",\"#00ff00\",\"#00ff00\",\"#00ff00\",\"#00ff00\",\"#00ff00\",\"#00ff00\",\"#00ffff\",\"#00ff00\",\"#00ff00\",\"#000000\",\"#00ff00\",\"#000000\",\"#00ff00\",\"#00ff00\",\"#00ff00\",\"#00ff00\",\"#00ff00\",\"#00ffff\",\"#00ff00\",\"#000000\",\"#00ff00\",\"#00ff00\",\"#00ff00\",\"#00ffff\",\"#00ff00\",\"#00ff00\",\"#00ff00\",\"#00ff00\",\"#00ffff\",\"#00ff00\",\"#00ff00\",\"#00ffff\",\"#00ff00\",\"#00ff00\",\"#00ffff\",\"#00ff00\",\"#000000\",\"#00ff00\",\"#00ff00\",\"#00ff00\",\"#00ff00\",\"#000000\",\"#00ff00\",\"#00ff00\",\"#00ff00\",\"#00ff00\",\"#00ffff\",\"#000000\",\"#000000\",\"#00ff00\",\"#00ffff\",\"#00ff00\",\"#00ff00\",\"#00ff00\",\"#00ffff\",\"#00ff00\",\"#00ff00\",\"#00ff00\",\"#000000\",\"#00ff00\",\"#00ffff\",\"#00ff00\",\"#00ff00\",\"#00ffff\",\"#00ff00\",\"#00ff00\",\"#00ff00\",\"#00ff00\",\"#00ff00\",\"#00ff00\",\"#000000\",\"#00ff00\",\"#00ff00\",\"#00ff00\",\"#00ff00\",\"#000000\",\"#00ff00\",\"#00ff00\",\"#00ff00\",\"#00ff00\",\"#00ffff\",\"#00ff00\",\"#00ff00\",\"#00ff00\",\"#00ff00\",\"#00ff00\",\"#00ff00\",\"#00ff00\",\"#00ff00\",\"#00ff00\",\"#00ff00\",\"#000000\",\"#00ffff\",\"#00ff00\",\"#00ff00\",\"#00ff00\",\"#00ff00\",\"#00ffff\",\"#00ff00\",\"#00ff00\",\"#00ff00\",\"#00ff00\",\"#00ff00\",\"#00ff00\",\"#00ff00\",\"#000000\",\"#00ffff\",\"#00ff00\",\"#00ff00\",\"#00ff00\",\"#00ff00\",\"#00ff00\",\"#00ffff\",\"#00ff00\",\"#00ff00\",\"#00ff00\",\"#00ff00\",\"#00ff00\",\"#00ff00\",\"#00ffff\",\"#00ff00\",\"#00ff00\",\"#00ff00\",\"#00ff00\",\"#00ff00\",\"#000000\",\"#00ff00\",\"#000000\",\"#00ffff\",\"#00ff00\",\"#00ff00\",\"#00ff00\",\"#00ff00\",\"#00ffff\",\"#00ff00\",\"#000000\",\"#00ff00\",\"#000000\",\"#00ff00\",\"#00ff00\",\"#00ff00\",\"#00ff00\",\"#00ff00\",\"#00ff00\",\"#00ff00\",\"#00ff00\",\"#000000\",\"#00ff00\",\"#00ff00\",\"#00ff00\",\"#00ffff\",\"#00ff00\",\"#000000\",\"#00ff00\",\"#00ff00\",\"#00ffff\",\"#00ff00\",\"#00ff00\",\"#00ff00\",\"#00ff00\",\"#00ff00\",\"#00ff00\",\"#00ffff\",\"#00ff00\",\"#00ff00\",\"#000000\",\"#00ffff\",\"#00ff00\",\"#00ff00\",\"#000000\",\"#000000\",\"#000000\",\"#00ff00\",\"#00ffff\",\"#00ff00\",\"#00ffff\",\"#00ffff\",\"#00ff00\",\"#00ff00\",\"#00ff00\",\"#000000\",\"#00ff00\",\"#00ff00\",\"#00ff00\",\"#00ffff\",\"#00ff00\",\"#00ff00\",\"#00ffff\",\"#00ff00\",\"#00ffff\",\"#00ff00\",\"#00ff00\",\"#00ff00\",\"#00ffff\",\"#00ff00\",\"#00ff00\",\"#00ff00\",\"#00ff00\",\"#000000\",\"#00ff00\",\"#00ff00\",\"#00ff00\",\"#00ff00\",\"#00ff00\",\"#00ff00\",\"#000000\",\"#00ff00\",\"#00ff00\",\"#00ffff\",\"#00ff00\",\"#00ff00\",\"#00ff00\",\"#00ffff\",\"#00ff00\",\"#000000\",\"#000000\",\"#00ff00\",\"#00ff00\",\"#00ffff\",\"#00ff00\",\"#00ff00\",\"#00ff00\",\"#00ff00\",\"#00ffff\",\"#00ff00\",\"#00ff00\",\"#00ff00\",\"#00ff00\",\"#00ff00\",\"#00ffff\",\"#00ffff\",\"#00ff00\",\"#00ffff\",\"#00ff00\",\"#00ff00\",\"#00ffff\",\"#00ffff\",\"#00ff00\",\"#00ff00\",\"#00ffff\",\"#00ff00\",\"#00ff00\",\"#000000\",\"#00ff00\",\"#00ff00\",\"#00ff00\",\"#00ff00\",\"#00ff00\",\"#00ff00\",\"#000000\",\"#00ff00\",\"#00ff00\",\"#00ffff\",\"#00ff00\",\"#00ff00\",\"#00ff00\",\"#00ff00\",\"#00ff00\",\"#00ffff\",\"#00ffff\",\"#00ff00\",\"#00ffff\",\"#00ffff\",\"#00ff00\",\"#00ff00\",\"#000000\",\"#00ff00\",\"#00ff00\",\"#00ff00\",\"#00ff00\",\"#00ffff\",\"#00ff00\",\"#00ff00\",\"#00ffff\",\"#00ff00\",\"#00ff00\",\"#00ffff\",\"#00ff00\",\"#00ff00\",\"#00ff00\",\"#00ff00\",\"#00ffff\",\"#000000\",\"#00ff00\",\"#00ff00\",\"#00ff00\",\"#000000\",\"#00ff00\",\"#00ff00\",\"#00ffff\",\"#00ff00\",\"#00ff00\",\"#00ff00\",\"#00ff00\",\"#000000\",\"#000000\",\"#00ffff\",\"#00ff00\",\"#00ff00\",\"#00ff00\",\"#00ff00\",\"#00ff00\",\"#00ff00\",\"#00ffff\",\"#00ff00\",\"#00ff00\",\"#00ff00\",\"#00ff00\",\"#00ff00\",\"#00ff00\",\"#00ffff\",\"#000000\",\"#00ff00\",\"#00ff00\",\"#00ff00\",\"#00ff00\",\"#00ffff\",\"#00ff00\",\"#00ff00\",\"#00ffff\",\"#00ffff\",\"#00ff00\",\"#00ff00\",\"#00ff00\",\"#00ffff\",\"#00ff00\",\"#00ff00\",\"#00ff00\",\"#00ff00\",\"#00ff00\",\"#00ffff\",\"#00ff00\",\"#00ff00\",\"#00ff00\",\"#00ff00\",\"#00ffff\",\"#00ff00\",\"#00ffff\",\"#00ffff\",\"#00ff00\",\"#00ff00\",\"#00ff00\",\"#00ff00\",\"#00ff00\",\"#00ff00\",\"#00ffff\",\"#00ff00\",\"#00ff00\",\"#00ff00\",\"#00ff00\",\"#00ff00\",\"#00ff00\",\"#00ff00\",\"#00ff00\",\"#00ff00\",\"#00ff00\",\"#00ffff\",\"#00ff00\",\"#00ff00\",\"#00ff00\",\"#00ff00\",\"#00ffff\",\"#00ff00\",\"#00ff00\",\"#00ff00\",\"#000000\",\"#00ff00\",\"#00ff00\",\"#00ff00\",\"#00ffff\",\"#00ffff\",\"#00ff00\",\"#00ff00\",\"#00ff00\",\"#00ff00\",\"#00ffff\",\"#00ff00\",\"#00ffff\",\"#00ff00\",\"#00ffff\",\"#00ff00\",\"#00ff00\",\"#00ff00\",\"#00ff00\",\"#00ff00\",\"#00ff00\",\"#00ff00\",\"#00ff00\",\"#00ff00\",\"#00ff00\",\"#000000\",\"#000000\",\"#00ff00\",\"#000000\",\"#00ff00\",\"#00ff00\",\"#00ff00\",\"#00ff00\",\"#00ff00\",\"#00ff00\",\"#00ff00\",\"#000000\",\"#000000\",\"#00ff00\",\"#00ffff\",\"#00ff00\",\"#00ff00\",\"#00ffff\",\"#00ff00\",\"#00ffff\",\"#000000\",\"#000000\",\"#00ff00\",\"#00ff00\",\"#00ffff\",\"#00ff00\",\"#00ff00\",\"#00ff00\",\"#00ff00\",\"#00ff00\",\"#00ffff\",\"#000000\",\"#00ff00\",\"#000000\",\"#000000\",\"#00ff00\",\"#00ff00\",\"#00ff00\",\"#00ff00\",\"#00ff00\",\"#00ff00\",\"#00ff00\",\"#00ff00\",\"#00ff00\",\"#00ff00\",\"#00ff00\",\"#00ff00\",\"#000000\",\"#00ff00\",\"#00ff00\",\"#000000\",\"#000000\",\"#00ff00\",\"#00ff00\",\"#00ff00\",\"#00ffff\",\"#00ff00\",\"#000000\",\"#00ff00\",\"#00ff00\",\"#00ff00\",\"#00ff00\",\"#00ff00\",\"#00ff00\",\"#00ffff\",\"#00ff00\",\"#00ff00\",\"#000000\",\"#00ff00\",\"#00ff00\",\"#00ff00\",\"#00ff00\",\"#00ff00\",\"#00ff00\",\"#00ff00\",\"#00ff00\",\"#00ff00\",\"#00ff00\",\"#00ff00\",\"#00ff00\",\"#00ff00\",\"#00ff00\",\"#00ff00\",\"#00ff00\",\"#00ff00\",\"#00ff00\",\"#00ff00\",\"#00ff00\",\"#00ff00\",\"#000000\",\"#00ffff\",\"#00ffff\",\"#00ff00\",\"#00ff00\",\"#000000\",\"#00ffff\",\"#00ffff\",\"#00ff00\",\"#000000\",\"#00ff00\",\"#00ff00\",\"#00ff00\",\"#00ff00\",\"#00ff00\",\"#00ff00\",\"#00ff00\",\"#00ffff\",\"#00ffff\",\"#000000\",\"#000000\",\"#00ff00\",\"#00ff00\",\"#00ff00\",\"#00ffff\",\"#00ff00\",\"#00ff00\",\"#00ff00\",\"#00ff00\",\"#00ff00\",\"#00ff00\",\"#00ff00\",\"#00ff00\",\"#00ff00\",\"#00ff00\",\"#00ff00\",\"#00ff00\",\"#00ff00\",\"#00ff00\",\"#00ff00\",\"#00ff00\",\"#00ff00\",\"#00ff00\",\"#000000\",\"#00ff00\",\"#00ff00\",\"#000000\",\"#00ff00\",\"#00ffff\",\"#00ffff\",\"#00ff00\",\"#00ff00\",\"#00ff00\",\"#00ff00\",\"#00ff00\",\"#00ff00\",\"#00ff00\",\"#00ffff\",\"#00ff00\",\"#00ffff\",\"#00ff00\",\"#00ff00\",\"#00ff00\",\"#00ff00\",\"#00ff00\",\"#00ff00\",\"#00ff00\",\"#00ff00\",\"#00ff00\",\"#00ff00\",\"#00ff00\",\"#00ffff\",\"#00ff00\",\"#00ffff\",\"#00ff00\",\"#00ff00\",\"#00ff00\",\"#00ff00\",\"#00ff00\",\"#00ff00\",\"#00ff00\",\"#00ffff\",\"#00ff00\",\"#00ff00\",\"#00ff00\",\"#000000\",\"#00ff00\",\"#00ff00\",\"#00ffff\",\"#00ff00\",\"#00ff00\",\"#00ff00\",\"#00ff00\",\"#00ff00\",\"#000000\",\"#00ff00\",\"#00ff00\",\"#00ff00\",\"#00ff00\",\"#00ff00\",\"#00ff00\",\"#000000\",\"#00ffff\",\"#000000\",\"#00ff00\",\"#00ff00\",\"#00ff00\",\"#00ff00\",\"#00ff00\",\"#00ff00\",\"#00ff00\",\"#00ff00\",\"#00ff00\",\"#00ff00\",\"#00ff00\",\"#00ff00\",\"#00ff00\",\"#000000\",\"#000000\",\"#00ff00\",\"#00ffff\",\"#00ff00\",\"#00ff00\",\"#00ff00\",\"#00ff00\",\"#00ff00\",\"#00ffff\",\"#00ff00\",\"#00ff00\",\"#00ff00\",\"#00ff00\",\"#00ff00\",\"#00ff00\",\"#00ff00\",\"#00ff00\",\"#00ff00\",\"#00ff00\",\"#00ff00\",\"#00ff00\",\"#00ff00\",\"#00ff00\",\"#00ff00\",\"#00ff00\",\"#00ff00\",\"#00ff00\",\"#00ff00\",\"#00ff00\",\"#00ff00\",\"#00ff00\",\"#00ff00\",\"#00ffff\",\"#00ff00\",\"#00ffff\",\"#00ff00\",\"#00ff00\",\"#00ff00\",\"#00ff00\",\"#00ff00\",\"#00ffff\",\"#00ff00\",\"#00ff00\",\"#00ff00\",\"#00ff00\",\"#00ff00\",\"#00ff00\",\"#00ff00\",\"#00ff00\",\"#000000\",\"#00ff00\",\"#00ff00\",\"#00ff00\",\"#00ff00\",\"#00ff00\",\"#00ff00\",\"#00ff00\",\"#00ff00\",\"#00ff00\",\"#00ff00\",\"#00ff00\",\"#00ff00\",\"#00ff00\",\"#00ffff\",\"#00ff00\",\"#00ff00\",\"#00ff00\",\"#00ff00\",\"#00ff00\",\"#00ff00\",\"#00ff00\",\"#00ff00\",\"#00ff00\",\"#00ff00\",\"#00ff00\",\"#00ff00\",\"#00ff00\",\"#00ff00\",\"#00ff00\",\"#00ff00\",\"#00ff00\",\"#00ff00\",\"#00ff00\",\"#00ff00\",\"#00ff00\",\"#00ff00\",\"#00ffff\",\"#00ff00\",\"#00ff00\",\"#00ff00\",\"#00ff00\",\"#00ff00\",\"#00ffff\",\"#00ff00\",\"#00ff00\",\"#00ff00\",\"#00ff00\",\"#00ff00\",\"#00ffff\",\"#00ff00\",\"#000000\",\"#00ff00\",\"#00ff00\",\"#00ff00\",\"#00ffff\",\"#00ff00\",\"#00ff00\",\"#000000\",\"#00ff00\",\"#00ff00\",\"#00ff00\",\"#00ff00\",\"#00ff00\",\"#00ff00\",\"#00ffff\",\"#00ff00\",\"#00ffff\",\"#000000\",\"#00ff00\",\"#00ff00\",\"#00ff00\",\"#000000\",\"#00ff00\",\"#00ff00\",\"#00ffff\",\"#00ff00\",\"#00ff00\",\"#00ffff\",\"#00ff00\",\"#000000\",\"#00ff00\",\"#000000\",\"#00ff00\",\"#00ffff\",\"#00ff00\",\"#00ff00\",\"#00ff00\",\"#00ffff\",\"#00ff00\",\"#00ff00\",\"#000000\",\"#00ff00\",\"#00ffff\",\"#00ff00\",\"#00ff00\",\"#00ff00\",\"#00ff00\",\"#00ff00\",\"#00ff00\",\"#00ffff\",\"#00ff00\",\"#00ff00\",\"#00ff00\",\"#00ff00\",\"#00ff00\",\"#00ffff\",\"#00ff00\",\"#00ff00\",\"#00ffff\",\"#00ff00\",\"#00ff00\",\"#00ff00\",\"#00ff00\",\"#00ff00\",\"#00ff00\",\"#00ff00\",\"#00ff00\",\"#00ff00\",\"#00ff00\",\"#00ff00\",\"#00ff00\",\"#00ff00\",\"#00ffff\",\"#00ff00\",\"#00ff00\",\"#00ffff\",\"#00ff00\",\"#00ff00\",\"#00ff00\",\"#00ffff\",\"#00ff00\",\"#00ff00\",\"#000000\",\"#00ffff\",\"#00ff00\",\"#00ff00\",\"#00ffff\",\"#00ff00\",\"#00ff00\",\"#00ffff\",\"#00ffff\",\"#00ff00\",\"#00ff00\",\"#00ff00\",\"#00ff00\",\"#00ffff\",\"#00ff00\",\"#00ff00\",\"#00ff00\",\"#00ff00\",\"#00ff00\",\"#00ff00\",\"#000000\",\"#000000\",\"#000000\",\"#00ffff\",\"#00ffff\",\"#00ff00\",\"#00ff00\",\"#00ff00\",\"#00ff00\",\"#00ff00\",\"#00ff00\",\"#00ff00\",\"#00ff00\",\"#00ff00\",\"#00ff00\",\"#00ff00\",\"#00ff00\",\"#00ff00\",\"#00ff00\",\"#00ff00\",\"#00ff00\",\"#00ff00\",\"#00ff00\",\"#00ff00\",\"#000000\",\"#00ff00\",\"#00ff00\",\"#000000\",\"#00ff00\",\"#00ff00\",\"#00ff00\",\"#00ff00\",\"#00ff00\",\"#000000\",\"#00ff00\",\"#00ff00\",\"#00ff00\",\"#00ff00\",\"#00ffff\",\"#00ffff\",\"#00ff00\",\"#00ffff\",\"#00ff00\",\"#00ffff\",\"#00ffff\",\"#00ff00\",\"#00ff00\",\"#00ff00\",\"#00ff00\",\"#00ffff\",\"#00ff00\",\"#00ff00\",\"#00ff00\",\"#00ff00\",\"#00ff00\",\"#00ff00\",\"#00ffff\",\"#00ff00\",\"#00ff00\",\"#00ff00\",\"#00ffff\",\"#00ffff\",\"#000000\",\"#00ff00\",\"#00ff00\",\"#00ff00\",\"#00ff00\",\"#00ffff\",\"#00ff00\",\"#00ff00\",\"#00ff00\",\"#00ff00\",\"#00ff00\",\"#000000\",\"#00ff00\",\"#00ff00\",\"#00ff00\",\"#00ff00\",\"#00ff00\",\"#00ff00\",\"#00ff00\",\"#00ff00\",\"#00ff00\",\"#00ffff\",\"#00ff00\",\"#00ff00\",\"#00ff00\",\"#00ff00\",\"#00ff00\",\"#00ff00\",\"#00ff00\",\"#00ff00\",\"#00ff00\",\"#00ff00\",\"#00ff00\",\"#00ff00\",\"#000000\",\"#00ff00\",\"#00ff00\",\"#00ff00\",\"#00ff00\",\"#00ff00\",\"#00ff00\",\"#00ff00\",\"#00ff00\",\"#00ff00\",\"#00ff00\",\"#00ff00\",\"#00ffff\",\"#00ff00\",\"#00ff00\",\"#00ffff\",\"#00ff00\",\"#00ff00\",\"#00ff00\",\"#00ff00\",\"#00ff00\",\"#00ff00\",\"#00ff00\",\"#00ff00\",\"#00ff00\",\"#00ffff\",\"#00ff00\",\"#00ff00\",\"#00ff00\",\"#00ff00\",\"#00ff00\",\"#00ffff\",\"#00ff00\",\"#000000\",\"#00ffff\",\"#00ff00\",\"#00ff00\",\"#00ff00\",\"#00ff00\",\"#00ffff\",\"#00ff00\",\"#00ff00\",\"#00ff00\",\"#00ff00\",\"#00ff00\",\"#000000\",\"#00ff00\",\"#00ff00\",\"#00ffff\",\"#00ff00\",\"#00ff00\",\"#00ff00\",\"#00ff00\",\"#00ff00\",\"#00ff00\",\"#00ff00\",\"#00ffff\",\"#00ff00\",\"#00ff00\",\"#00ff00\",\"#00ffff\",\"#00ff00\",\"#00ff00\",\"#00ff00\",\"#00ff00\",\"#00ff00\",\"#00ff00\",\"#00ff00\",\"#00ff00\",\"#00ff00\",\"#00ff00\",\"#00ff00\",\"#00ff00\",\"#000000\",\"#00ff00\",\"#000000\",\"#00ff00\",\"#00ff00\",\"#00ff00\",\"#000000\",\"#00ff00\",\"#000000\",\"#00ff00\",\"#00ff00\",\"#00ff00\",\"#00ff00\",\"#00ffff\",\"#00ff00\",\"#00ffff\",\"#00ff00\",\"#00ff00\",\"#00ffff\",\"#00ffff\",\"#00ffff\",\"#00ff00\",\"#00ff00\",\"#00ff00\",\"#00ff00\",\"#00ff00\",\"#00ffff\",\"#00ff00\",\"#00ff00\",\"#00ff00\",\"#00ff00\",\"#00ff00\",\"#00ff00\",\"#00ff00\",\"#00ffff\",\"#00ff00\",\"#00ff00\",\"#00ff00\",\"#00ff00\",\"#00ff00\",\"#00ff00\",\"#00ff00\",\"#00ff00\",\"#00ff00\",\"#00ff00\",\"#00ff00\",\"#00ff00\",\"#00ffff\",\"#00ff00\",\"#00ff00\",\"#00ff00\",\"#000000\",\"#00ff00\",\"#000000\",\"#00ff00\",\"#00ffff\",\"#00ff00\",\"#00ff00\",\"#00ffff\"],\"names\":[\"<unk>\",\"<pad>\",\"modi\",\"india\",\"peopl\",\"bjp\",\"like\",\"elect\",\"vote\",\"congress\",\"narendra\",\"nation\",\"govt\",\"year\",\"indian\",\"time\",\"countri\",\"dont\",\"want\",\"know\",\"sai\",\"support\",\"rahul\",\"govern\",\"new\",\"come\",\"power\",\"work\",\"parti\",\"minist\",\"gandhi\",\"think\",\"polit\",\"credit\",\"need\",\"leader\",\"good\",\"space\",\"ask\",\"said\",\"chowkidar\",\"win\",\"sir\",\"pakistan\",\"prime\",\"monei\",\"promis\",\"opposit\",\"scientist\",\"announc\",\"dai\",\"achiev\",\"todai\",\"live\",\"job\",\"address\",\"hai\",\"question\",\"right\",\"world\",\"thing\",\"great\",\"talk\",\"thank\",\"corrupt\",\"let\",\"drdo\",\"poor\",\"satellit\",\"person\",\"media\",\"anti\",\"nehru\",\"develop\",\"nirav\",\"happen\",\"campaign\",\"lakh\",\"watch\",\"famili\",\"best\",\"wai\",\"go\",\"mission\",\"better\",\"that\",\"scheme\",\"start\",\"give\",\"seat\",\"crore\",\"make\",\"man\",\"stop\",\"state\",\"look\",\"bhakt\",\"hate\",\"call\",\"proud\",\"given\",\"test\",\"tell\",\"got\",\"issu\",\"tweet\",\"public\",\"hindu\",\"ye\",\"try\",\"rule\",\"chang\",\"jai\",\"strike\",\"congratul\",\"contest\",\"help\",\"love\",\"shah\",\"mean\",\"speech\",\"success\",\"understand\",\"follow\",\"big\",\"upa\",\"namo\",\"didnt\",\"sure\",\"ralli\",\"take\",\"muslim\",\"gui\",\"get\",\"differ\",\"shakti\",\"missil\",\"believ\",\"attack\",\"reason\",\"fight\",\"asat\",\"creat\",\"fake\",\"speak\",\"read\",\"doesnt\",\"hope\",\"fail\",\"pappu\",\"account\",\"interview\",\"feel\",\"wait\",\"bank\",\"isro\",\"gave\",\"true\",\"forc\",\"respons\",\"blame\",\"fact\",\"candid\",\"show\",\"respect\",\"shame\",\"fool\",\"real\",\"destroi\",\"secur\",\"answer\",\"bring\",\"voter\",\"face\",\"case\",\"wrong\",\"stand\",\"problem\",\"decis\",\"join\",\"video\",\"capabl\",\"don\",\"claim\",\"poll\",\"terrorist\",\"chor\",\"economi\",\"varanasi\",\"major\",\"run\",\"us\",\"yr\",\"launch\",\"farmer\",\"polici\",\"team\",\"term\",\"word\",\"life\",\"conduct\",\"strong\",\"import\",\"ppl\",\"expect\",\"bhi\",\"save\",\"hand\",\"bharat\",\"point\",\"happi\",\"kill\",\"sarkar\",\"report\",\"court\",\"leadership\",\"plan\",\"code\",\"awai\",\"china\",\"busi\",\"dear\",\"post\",\"tax\",\"sabha\",\"chief\",\"surgic\",\"educ\",\"air\",\"wish\",\"wont\",\"lok\",\"complet\",\"friend\",\"armi\",\"scam\",\"defeat\",\"free\",\"hard\",\"lot\",\"possibl\",\"matter\",\"goe\",\"democraci\",\"till\",\"econom\",\"app\",\"politician\",\"shri\",\"actual\",\"seen\",\"citizen\",\"long\",\"mind\",\"care\",\"agre\",\"lose\",\"gujarat\",\"taken\",\"statement\",\"gener\",\"worri\",\"pak\",\"prove\",\"came\",\"plai\",\"amit\",\"bad\",\"rememb\",\"hind\",\"fear\",\"commiss\",\"singh\",\"proof\",\"god\",\"th\",\"took\",\"lost\",\"action\",\"month\",\"futur\",\"channel\",\"instead\",\"act\",\"allow\",\"common\",\"place\",\"project\",\"loot\",\"li\",\"bail\",\"loan\",\"thought\",\"critic\",\"commun\",\"share\",\"incom\",\"antisatellit\",\"high\",\"violat\",\"releas\",\"modiji\",\"wave\",\"cong\",\"movi\",\"rss\",\"meet\",\"vision\",\"continu\",\"shot\",\"abus\",\"left\",\"target\",\"open\",\"poverti\",\"agenda\",\"youth\",\"shoot\",\"set\",\"entir\",\"journalist\",\"clear\",\"terror\",\"failur\",\"truth\",\"decid\",\"remov\",\"war\",\"end\",\"black\",\"delhi\",\"forget\",\"updat\",\"biggest\",\"pai\",\"biopic\",\"low\",\"write\",\"messag\",\"south\",\"accept\",\"trust\",\"idea\",\"comment\",\"model\",\"provid\",\"nda\",\"wonder\",\"hatr\",\"kind\",\"super\",\"deserv\",\"main\",\"kashmir\",\"ahead\",\"institut\",\"won\",\"far\",\"clean\",\"offic\",\"singl\",\"oppos\",\"women\",\"past\",\"turn\",\"old\",\"prais\",\"readi\",\"raga\",\"soon\",\"chanc\",\"leav\",\"compar\",\"level\",\"jumla\",\"second\",\"check\",\"listen\",\"result\",\"safe\",\"benefit\",\"doubt\",\"histori\",\"request\",\"increas\",\"huge\",\"posit\",\"repli\",\"spread\",\"desper\",\"hit\",\"stupid\",\"abl\",\"stori\",\"unemploy\",\"growth\",\"total\",\"law\",\"told\",\"number\",\"ambani\",\"film\",\"successfulli\",\"twitter\",\"hear\",\"return\",\"dream\",\"head\",\"jail\",\"fan\",\"priyanka\",\"fund\",\"mallya\",\"social\",\"debat\",\"moment\",\"constitu\",\"what\",\"assam\",\"deliv\",\"indira\",\"pl\",\"lac\",\"courag\",\"patriot\",\"have\",\"ticket\",\"demonetis\",\"visit\",\"propaganda\",\"blind\",\"presid\",\"idiot\",\"list\",\"build\",\"declar\",\"send\",\"includ\",\"logic\",\"lead\",\"remain\",\"nyai\",\"form\",\"lol\",\"deal\",\"definit\",\"pass\",\"offici\",\"arnab\",\"intern\",\"press\",\"defenc\",\"implement\",\"deni\",\"hater\",\"mention\",\"view\",\"scare\",\"ignor\",\"realiti\",\"line\",\"liber\",\"sell\",\"isnt\",\"imran\",\"land\",\"vijai\",\"ground\",\"home\",\"paid\",\"balakot\",\"independ\",\"antimodi\",\"rais\",\"foreign\",\"aap\",\"articl\",\"expos\",\"rest\",\"brought\",\"soldier\",\"went\",\"honest\",\"present\",\"class\",\"ensur\",\"khan\",\"correct\",\"game\",\"yogi\",\"challeng\",\"progress\",\"meerut\",\"order\",\"regim\",\"hous\",\"london\",\"pradesh\",\"sens\",\"step\",\"learn\",\"master\",\"explain\",\"minor\",\"grow\",\"base\",\"he\",\"perform\",\"self\",\"express\",\"kya\",\"surpris\",\"promot\",\"reach\",\"dynasti\",\"note\",\"cast\",\"data\",\"technolog\",\"member\",\"can\",\"final\",\"nahi\",\"bhai\",\"april\",\"stai\",\"bodi\",\"interest\",\"peac\",\"market\",\"current\",\"mumkin\",\"high_voltag\",\"choic\",\"gang\",\"absolut\",\"mistak\",\"appreci\",\"pulwama\",\"miss\",\"pakistani\",\"rafal\",\"concern\",\"narr\",\"ban\",\"protect\",\"rich\",\"sorri\",\"danger\",\"hold\",\"victori\",\"weapon\",\"earth\",\"effort\",\"earlier\",\"fals\",\"joke\",\"special\",\"orbit\",\"aur\",\"break\",\"wast\",\"choos\",\"inform\",\"jawan\",\"march\",\"young\",\"link\",\"gone\",\"gut\",\"har\",\"sit\",\"enjoi\",\"million\",\"loos\",\"allianc\",\"jee\",\"didn\",\"name\",\"confid\",\"criticis\",\"serv\",\"connect\",\"group\",\"opinion\",\"brother\",\"rate\",\"employ\",\"languag\",\"accus\",\"popular\",\"relat\",\"accord\",\"opportun\",\"tri\",\"record\",\"father\",\"ram\",\"sonia\",\"count\",\"rajan\",\"bless\",\"lack\",\"evid\",\"seek\",\"raid\",\"sourc\",\"atleast\",\"fulfil\",\"direct\",\"suffer\",\"son\",\"gain\",\"contribut\",\"hell\",\"simpl\",\"heard\",\"awar\",\"deposit\",\"arm\",\"constitut\",\"era\",\"minut\",\"slogan\",\"ndtv\",\"exactli\",\"threat\",\"earn\",\"celebr\",\"small\",\"adani\",\"cost\",\"drama\",\"heart\",\"led\",\"minimum\",\"odisha\",\"fall\",\"file\",\"karnataka\",\"trailer\",\"notic\",\"villag\",\"situat\",\"road\",\"advani\",\"enemi\",\"guess\",\"tenur\",\"economist\",\"offer\",\"decad\",\"nationalist\",\"consid\",\"exist\",\"permiss\",\"hour\",\"statu\",\"week\",\"welcom\",\"card\",\"rd\",\"see\",\"amethi\",\"initi\",\"trump\",\"worst\",\"clearli\",\"previou\",\"plz\",\"secular\",\"basic\",\"favour\",\"program\",\"control\",\"hain\",\"north\",\"gst\",\"shameless\",\"baar\",\"republ\",\"shit\",\"voic\",\"carri\",\"imagin\",\"unlik\",\"compani\",\"hide\",\"human\",\"shown\",\"transfer\",\"brain\",\"bui\",\"commit\",\"antin\",\"ji\",\"desh\",\"insult\",\"kar\",\"abt\",\"close\",\"known\",\"lie\",\"role\",\"wah\",\"toh\",\"coz\",\"death\",\"pictur\",\"kumar\",\"unit\",\"doesn\",\"option\",\"cours\",\"inspir\",\"type\",\"religion\",\"discuss\",\"actor\",\"effect\",\"judg\",\"manmohan\",\"your\",\"improv\",\"knowledg\",\"mother\",\"bar\",\"book\",\"chowkidaar\",\"congi\",\"divid\",\"middl\",\"victory_hand\",\"caus\",\"fraud\",\"dare\",\"kejriw\",\"appeal\",\"produc\",\"pro\",\"ago\",\"confer\",\"jammu\",\"attent\",\"exampl\",\"requir\",\"saw\",\"btw\",\"hei\",\"manag\",\"st\",\"sad\",\"kick\",\"keep\",\"begin\",\"worker\",\"parliament\",\"wow\",\"neg\",\"theatr\",\"rupe\",\"elector\",\"photo\",\"yeah\",\"yesterdai\",\"forward\",\"littl\",\"citi\",\"built\",\"railwai\",\"imag\",\"involv\",\"alleg\",\"recent\",\"reelect\",\"ey\",\"freedom\",\"jaitlei\",\"despit\",\"surviv\",\"demand\",\"easi\",\"kuch\",\"reject\",\"upcom\",\"afraid\",\"counter\",\"salut\",\"serious\",\"troll\",\"elit\",\"sleep\",\"kept\",\"pm\",\"liar\",\"mock\",\"depart\",\"intellig\",\"research\",\"sector\",\"bcoz\",\"handl\",\"rise\",\"rs\",\"seri\",\"establish\",\"superpow\",\"there\",\"cbi\",\"crimin\",\"match\",\"repres\",\"eat\",\"nice\",\"madam\",\"train\",\"price\",\"suggest\",\"bangalor\",\"congrat\",\"collect\",\"societi\",\"worth\",\"ideolog\",\"move\",\"board\",\"spend\",\"swami\",\"activ\",\"mein\",\"arrest\",\"modishah\",\"cover\",\"loss\",\"water\",\"andhra\",\"realis\",\"belong\",\"star\",\"defend\",\"abhinandan\",\"cultur\",\"doubl\",\"area\",\"gdp\",\"joker\",\"kid\",\"oper\",\"beat\",\"non\",\"pride\",\"bro\",\"detail\",\"vajpaye\",\"ag\",\"food\",\"honour\",\"skill\",\"enter\",\"equal\",\"governor\",\"select\",\"moron\",\"nonsens\",\"servic\",\"hatao\",\"sold\",\"late\",\"mental\",\"on\",\"mm\",\"similar\",\"directli\",\"massiv\",\"tea\",\"din\",\"kerala\",\"phir\",\"global\",\"tamil\",\"rbi\",\"russia\",\"cabinet\",\"croni\",\"mayb\",\"popul\",\"wife\",\"sent\",\"approv\",\"dog\",\"ministri\",\"central\",\"region\",\"smart\",\"wit\",\"charg\",\"health\",\"bigger\",\"centr\",\"repeat\",\"shout\",\"unfortun\",\"pic\",\"rural\",\"event\",\"justic\",\"riot\",\"cheat\",\"gov\",\"hail\",\"highest\",\"men\",\"mrmodi\",\"travel\",\"emerg\",\"hero\",\"joshi\",\"reduc\",\"demonet\",\"militari\",\"mumbai\",\"put\",\"standard\",\"budget\",\"receiv\",\"chant\",\"democrat\",\"amaz\",\"respond\",\"ga\",\"school\",\"intellectu\",\"half\",\"mouth\",\"field\",\"laugh\",\"scienc\",\"univers\",\"dumb\",\"toilet\",\"excel\",\"chair\",\"hindi\",\"local\",\"ad\",\"maker\",\"rajasthan\",\"probabl\",\"sign\",\"figur\",\"ghar\",\"push\",\"survei\",\"chit\",\"difficult\",\"red_heart\",\"cut\",\"ill\",\"latest\",\"ly\",\"nuclear\",\"programm\",\"simpli\",\"east\",\"focu\",\"hindustan\",\"sab\",\"sri\",\"confus\",\"gonna\",\"murder\",\"faith\",\"feku\",\"interact\",\"tomorrow\",\"border\",\"credibl\",\"raghuram\",\"teach\",\"thousand\",\"tune\",\"appear\",\"limit\",\"openli\",\"strengthen\",\"cr\",\"paper\",\"tough\",\"zero\",\"kashmiri\",\"slam\",\"strength\",\"valu\",\"complain\",\"confirm\",\"nomin\",\"who\",\"bengal\",\"disast\",\"pidi\",\"mass\",\"date\",\"degre\",\"fourth\",\"qualiti\",\"block\",\"chaiwala\",\"usual\",\"fellow\",\"letter\",\"senior\",\"later\",\"add\",\"bollywood\",\"di\",\"threaten\",\"born\",\"bihar\",\"fun\",\"song\",\"wise\",\"forev\",\"hindutva\",\"billion\",\"engin\",\"intent\",\"ladi\",\"luck\",\"raj\",\"fine\",\"guarante\",\"shouldnt\",\"night\",\"period\",\"corpor\",\"gujrat\",\"prai\",\"strategi\",\"throw\",\"prepar\",\"slave\",\"children\",\"freebi\",\"highlight\",\"investig\",\"vadra\",\"demonstr\",\"sanghi\",\"attempt\",\"especi\",\"fir\",\"mamata\",\"sound\",\"west\",\"written\",\"boss\",\"crime\",\"fair\",\"extrem\",\"gift\",\"remind\",\"cry\",\"daili\",\"fascist\",\"templ\",\"brand\",\"download\",\"student\",\"avail\",\"crowd\",\"impact\",\"morn\",\"rajdeep\",\"reserv\",\"secret\",\"hurt\",\"male_sign\",\"manifesto\",\"tejasvi\",\"cheap\",\"frustrat\",\"knew\",\"silent\",\"predict\",\"urg\",\"bias\",\"cell\",\"kcr\",\"remonetis\",\"journei\",\"altern\",\"award\",\"dead\",\"outsid\",\"reform\",\"saraswat\",\"appli\",\"duti\",\"iaf\",\"object\",\"lynch\",\"ruin\",\"shock\",\"trend\",\"condit\",\"escap\",\"larg\",\"organis\",\"remark\",\"foolish\",\"nd\",\"wors\",\"journal\",\"motiv\",\"propos\",\"vivek\",\"fugit\",\"inflat\",\"innoc\",\"niti\",\"tha\",\"piec\",\"shut\",\"wear\",\"advertis\",\"congressi\",\"influenc\",\"mark\",\"perfect\",\"polic\",\"surya\",\"track\",\"cross\",\"short\",\"\\u0936\\u092c\\u091a\",\"assur\",\"extradit\",\"girl\",\"histor\",\"beg\",\"refer\",\"reveal\",\"burn\",\"damag\",\"exclus\",\"expert\",\"boi\",\"child\",\"electr\",\"finish\",\"realiz\",\"solv\",\"spent\",\"weak\",\"biryani\",\"delai\",\"suprem\",\"agenc\",\"fought\",\"punish\",\"replac\",\"basi\",\"dynast\",\"empow\",\"truli\",\"convinc\",\"natur\",\"pain\",\"you\",\"antiindia\",\"balanc\",\"chose\",\"shortli\",\"battl\",\"bit\",\"cow\",\"fix\",\"pure\",\"bcz\",\"copi\",\"divert\",\"stage\",\"suit\",\"touch\",\"cash\",\"everybodi\",\"process\",\"welfar\",\"disappoint\",\"fault\",\"kiya\",\"plea\",\"suppos\",\"useless\",\"uttar\",\"bold\",\"digit\",\"fuck\",\"height\",\"inr\",\"jet\",\"jobless\",\"kindli\",\"mam\",\"lesson\",\"liter\",\"movement\",\"naidu\",\"recov\",\"refus\",\"transform\",\"affect\",\"feat\",\"funni\",\"author\",\"financi\",\"tag\",\"convert\",\"insid\",\"bigot\",\"distribut\",\"owaisi\",\"traitor\",\"anybodi\",\"argument\",\"crook\",\"execut\",\"mere\",\"neutral\",\"rajiv\",\"resign\",\"spoke\",\"studi\",\"telangana\",\"thug\",\"here\",\"individu\",\"product\",\"sack\",\"treat\",\"unemploi\",\"analysi\",\"dedic\",\"environ\",\"moral\",\"properti\",\"shift\",\"oppon\",\"visionari\",\"youtub\",\"mai\",\"sky\",\"fulli\",\"islam\",\"prosper\",\"mla\",\"prefer\",\"back\",\"grand\",\"near\",\"ran\",\"bluff\",\"held\",\"invit\",\"section\",\"anil\",\"art\",\"bark\",\"belov\",\"die\",\"financ\",\"forgot\",\"margin\",\"pick\",\"poorest\",\"vika\",\"wasnt\",\"mad\",\"paint\",\"prioriti\",\"shall\",\"style\",\"bloodi\",\"club\",\"union\",\"convers\",\"industri\",\"masood\",\"anymor\",\"invest\",\"misus\",\"plu\",\"director\",\"fast\",\"goswami\",\"largest\",\"practic\",\"trap\",\"arunach\",\"risk\",\"usa\",\"eci\",\"immedi\",\"isi\",\"patel\",\"pledg\",\"apart\",\"auction\",\"stronger\",\"brave\",\"tshirt\",\"walk\",\"advantag\",\"approach\",\"infrastructur\",\"mess\",\"pull\",\"retir\",\"sharma\",\"boost\",\"dirti\",\"narend\",\"shud\",\"aim\",\"bsp\",\"lutyen\",\"british\",\"encourag\",\"wouldnt\",\"yojana\",\"admit\",\"assembl\",\"bother\",\"bsf\",\"easili\",\"haha\",\"retweet\",\"search\",\"arrog\",\"arun\",\"bribe\",\"dictat\",\"jump\",\"religi\",\"atal\",\"fly\",\"king\",\"light\",\"min\",\"season\",\"tht\",\"avoid\",\"blood\",\"depend\",\"factor\",\"fill\",\"hitler\",\"journo\",\"mehul\",\"oberoi\",\"quot\",\"scientif\",\"arent\",\"attend\",\"bomb\",\"certainli\",\"english\",\"gadkari\",\"incid\",\"lick\",\"nod\",\"npa\",\"violenc\",\"civil\",\"imposs\",\"jagan\",\"mamta\",\"maximum\",\"puppet\",\"yadav\",\"ass\",\"complaint\",\"defens\",\"garibi\",\"reaction\",\"thread\",\"advanc\",\"hat\",\"mcc\",\"pocket\",\"behav\",\"deep\",\"pathet\",\"privat\",\"resourc\",\"atm\",\"beef\",\"condemn\",\"construct\",\"incompet\",\"kei\",\"obvious\",\"airstrik\",\"core\",\"pmo\",\"protest\",\"sinha\",\"wayanad\",\"arriv\",\"pressur\",\"topic\",\"gimmick\",\"km\",\"meant\",\"acknowledg\",\"alli\",\"coward\",\"experi\",\"leagu\",\"mata\",\"mp\",\"ridicul\",\"airport\",\"brilliant\",\"chokidar\",\"choksi\",\"higher\",\"spirit\",\"intoler\",\"kanhaiya\",\"payer\",\"sake\",\"utter\",\"hypocrisi\",\"indic\",\"liy\",\"smiling_fac\",\"comparison\",\"destruct\",\"evil\",\"baba\",\"babu\",\"charact\",\"loksabha\",\"scrap\",\"accomplish\",\"met\",\"web\",\"assum\",\"honor\",\"solut\",\"stunt\",\"fit\",\"goal\",\"nadu\",\"sister\",\"steal\",\"wake\",\"chamcha\",\"dude\",\"elimin\",\"measur\",\"northeast\",\"wednesdai\",\"advis\",\"averag\",\"hello\",\"par\",\"rhetor\",\"safeti\",\"street\",\"subsidi\",\"wala\",\"wud\",\"abil\",\"drop\",\"mar\",\"obsess\",\"asset\",\"bash\",\"career\",\"gun\",\"introduc\",\"irani\",\"page\",\"rank\",\"crisi\",\"nhi\",\"thrown\",\"toler\",\"annual\",\"bet\",\"debri\",\"divis\",\"havent\",\"mudra\",\"whatsapp\",\"baat\",\"badli\",\"boot\",\"hahaha\",\"headlin\",\"mindset\",\"struggl\",\"wing\",\"appoint\",\"creation\",\"dalit\",\"dole\",\"find\",\"goon\",\"harm\",\"isn\",\"purpos\",\"ball\",\"pandit\",\"regist\",\"urban\",\"yeh\",\"afford\",\"cup\",\"diya\",\"impress\",\"mayawati\",\"newspap\",\"woman\",\"kudo\",\"compet\",\"content\",\"doval\",\"evm\",\"mandat\",\"normal\",\"side\",\"ani\",\"akhilesh\",\"bengaluru\",\"didi\",\"origin\",\"rahe\",\"strateg\",\"chidambaram\",\"daughter\",\"digest\",\"ganga\",\"highli\",\"hypocrit\",\"looter\",\"spokesperson\",\"asham\",\"attitud\",\"calcul\",\"suddenli\",\"wealth\",\"favor\",\"greatest\",\"justifi\",\"magic\",\"manufactur\",\"mega\",\"sanction\",\"tukd\",\"waiv\",\"clearanc\",\"lower\",\"mandir\",\"manner\",\"pilot\",\"print\",\"uttarakhand\",\"will\",\"camp\",\"christian\",\"cricket\",\"disgrac\",\"jibe\",\"log\",\"lord\",\"mislead\",\"path\",\"proper\",\"rocket\",\"sentiment\",\"illiter\",\"ipl\",\"lalit\",\"rare\",\"wat\",\"abroad\",\"aspir\",\"disgust\",\"fire\",\"gather\",\"indirectli\",\"victim\",\"agent\",\"certain\",\"damn\",\"earli\",\"energi\",\"okai\",\"rafael\",\"slap\",\"wale\",\"warn\",\"genuin\",\"grant\",\"hardwork\",\"oppn\",\"sick\",\"stone\",\"angri\",\"banerje\",\"endors\",\"fiscal\",\"observ\",\"america\",\"chines\",\"doctor\",\"drive\",\"googl\",\"math\",\"smriti\",\"trick\",\"troubl\",\"tum\",\"dept\",\"distress\",\"gujarati\",\"maharashtra\",\"modibjp\",\"sort\",\"caught\",\"defam\",\"dynam\",\"understood\",\"broadcast\",\"capac\",\"chairman\",\"madhavan\",\"pretti\",\"rajnath\",\"react\",\"white\",\"admir\",\"catch\",\"centuri\",\"everydai\",\"legal\",\"sat\",\"treatment\",\"demo\",\"probe\",\"arvind\",\"cbn\",\"felt\",\"integr\",\"organ\",\"platform\",\"associ\",\"chest\",\"committe\",\"expens\",\"famou\",\"honesti\",\"hug\",\"paki\",\"plane\",\"unpreced\",\"corner\",\"design\",\"door\",\"excit\",\"humbl\",\"startup\",\"talent\",\"awesom\",\"azhar\",\"bought\",\"capit\",\"necessari\",\"rid\",\"westminst\",\"applic\",\"blast\",\"cap\",\"car\",\"filmmak\",\"janta\",\"leo\",\"publish\",\"race\",\"salari\",\"thief\",\"vadodara\",\"center\",\"click\",\"godi\",\"unabl\",\"upset\",\"aayog\",\"beauti\",\"bond\",\"brigad\",\"curs\",\"mode\",\"punjab\",\"round\",\"tak\",\"uncl\",\"waiver\",\"examin\",\"loworbit\",\"potenti\",\"televis\",\"thump\",\"trip\",\"advic\",\"certif\",\"dig\",\"drink\",\"duo\",\"invent\",\"mig\",\"sun\",\"uneduc\",\"chandrababu\",\"emot\",\"jealou\",\"soul\",\"stuff\",\"anywai\",\"ashwin\",\"bhakti\",\"extent\",\"feed\",\"folk\",\"frm\",\"jd\",\"nota\",\"raha\",\"signific\",\"suicid\",\"swiss\",\"affair\",\"anchor\",\"beneficiari\",\"chai\",\"convict\",\"scale\",\"version\",\"background\",\"bullshit\",\"pnb\",\"regard\",\"toi\",\"venom\",\"visibl\",\"appeas\",\"bridg\",\"dmk\",\"neta\",\"stock\",\"bhakth\",\"pakoda\",\"tall\",\"burnol\",\"controversi\",\"erad\",\"extra\",\"honbl\",\"jan\",\"obviou\",\"percent\",\"spell\",\"subject\",\"withdraw\",\"administr\",\"appar\",\"brahmin\",\"ecosystem\",\"entertain\",\"illeg\",\"leftist\",\"aggress\",\"anger\",\"betrai\",\"flop\",\"italian\",\"machin\",\"mob\",\"particip\",\"roll\",\"hint\",\"mileston\",\"monger\",\"nri\",\"parent\",\"ride\",\"shine\",\"stick\",\"abdullah\",\"acquir\",\"maintain\",\"rant\",\"tour\",\"youngster\",\"aaj\",\"bachao\",\"cheer\",\"district\",\"employe\",\"foot\",\"fridai\",\"irrespect\",\"longer\",\"mahagathbandhan\",\"mobil\",\"partner\",\"sensibl\",\"wrote\",\"argu\",\"asid\",\"bear\",\"captur\",\"coalit\",\"competit\",\"green\",\"kalyan\",\"maam\",\"phase\",\"sikh\",\"silenc\",\"consult\",\"focus\",\"guard\",\"piti\",\"properli\",\"raja\",\"sarab\",\"score\",\"taxpay\",\"tech\",\"western\",\"birth\",\"boast\",\"default\",\"demon\",\"disclos\",\"gaya\",\"greet\",\"hum\",\"israel\",\"pradhan\",\"strongli\",\"theori\",\"thi\",\"aliv\",\"combin\",\"debt\",\"desir\",\"feet\",\"hinduism\",\"rape\",\"sing\",\"coverag\",\"firm\",\"nervou\",\"perman\",\"pet\",\"pollut\",\"reflect\",\"rudrapur\",\"spare\",\"chaukidar\",\"command\",\"defin\",\"displai\",\"eas\",\"extend\",\"fighter\",\"judiciari\",\"offend\",\"symbol\",\"theatric\",\"changer\",\"cook\",\"dbt\",\"lawyer\",\"magistr\",\"malya\",\"moon\",\"resolv\",\"revers\",\"sale\",\"script\",\"shree\",\"transpar\",\"wash\",\"bahadur\",\"bat\",\"blindli\",\"dailyhunt\",\"finger\",\"forgotten\",\"gold\",\"rattl\",\"tactic\",\"wipe\",\"wire\",\"blunder\",\"hardli\",\"honestli\",\"iv\",\"koi\",\"lover\",\"neglect\",\"satisfi\",\"screw\",\"specif\",\"speed\",\"spot\",\"stroke\",\"surjewala\",\"bullet\",\"bunch\",\"farm\",\"flag\",\"purchas\",\"scenario\",\"signal\",\"specul\",\"tear\",\"valid\",\"asia\",\"becoz\",\"currenc\",\"digniti\",\"embarrass\",\"engag\",\"husband\",\"jihadi\",\"miser\",\"pretend\",\"upto\",\"dark\",\"extremist\",\"hon\",\"manohar\",\"marri\",\"mnrega\",\"modifi\",\"recognis\",\"stoog\",\"translat\",\"bootlick\",\"comedi\",\"crap\",\"document\",\"forgiv\",\"foundat\",\"greater\",\"karo\",\"lion\",\"modern\",\"network\",\"reddi\",\"thursdai\",\"ti\",\"agricultur\",\"behalf\",\"blow\",\"enabl\",\"precis\",\"rao\",\"rival\",\"root\",\"sena\",\"straight\",\"uniti\",\"communist\",\"erosnow\",\"inch\",\"phone\",\"plant\",\"principl\",\"row\",\"subscrib\",\"cancel\",\"drag\",\"export\",\"function\",\"sabka\",\"ultim\",\"capitalist\",\"cool\",\"nair\",\"nsa\",\"percept\",\"rel\",\"rock\",\"station\",\"strict\",\"taraf\",\"bye\",\"clown\",\"hype\",\"lotu\",\"lucki\",\"naxal\",\"own\",\"profil\",\"somebodi\",\"apn\",\"await\",\"ayog\",\"bia\",\"contract\",\"determin\",\"episod\",\"healthcar\",\"ident\",\"matur\",\"merchandis\",\"oath\",\"proven\",\"reward\",\"rubbish\",\"twist\",\"backward\",\"blah\",\"deliber\",\"fakendra\",\"hidden\",\"loser\",\"masterstrok\",\"naam\",\"schedul\",\"theyr\",\"tmc\",\"breakthrough\",\"clarifi\",\"favourit\",\"hoga\",\"memori\",\"omg\",\"petrol\",\"presenc\",\"reveng\",\"rightli\",\"spoil\",\"stood\",\"stoop\",\"winner\",\"youll\",\"appl\",\"breath\",\"comedian\",\"dislik\",\"editor\",\"excus\",\"guru\",\"indulg\",\"infact\",\"mantri\",\"multipl\",\"onlin\",\"profession\",\"scene\",\"shop\",\"task\",\"uturn\",\"wanna\",\"blog\",\"chill\",\"conspiraci\",\"crazi\",\"humili\",\"josh\",\"lal\",\"prevail\",\"red\",\"richest\",\"sphere\",\"theprint\",\"airforc\",\"andh\",\"attract\",\"billionair\",\"colleg\",\"karma\",\"learnt\",\"lowest\",\"manipul\",\"poster\",\"qualif\",\"yojna\",\"abhi\",\"abki\",\"adityanath\",\"ayushman\",\"bjpmodi\",\"coupl\",\"facebook\",\"fantast\",\"ironi\",\"legaci\",\"neerav\",\"no\",\"pace\",\"particular\",\"radio\",\"relationship\",\"saal\",\"silli\",\"undermin\",\"veteran\",\"chutiya\",\"exchief\",\"mood\",\"polaris\",\"profit\",\"ration\",\"tamilnadu\",\"twice\",\"addit\",\"colour\",\"danc\",\"domin\",\"donat\",\"fastest\",\"helicopt\",\"lier\",\"revolut\",\"agar\",\"aid\",\"babi\",\"bright\",\"diplomaci\",\"disagre\",\"female_sign\",\"glad\",\"grab\",\"hang\",\"haryana\",\"hashtag\",\"internet\",\"peddl\",\"politicis\",\"prosecut\",\"screen\",\"spoken\",\"upper\",\"bigotri\",\"compromis\",\"diplomat\",\"gupta\",\"jnu\",\"labour\",\"nitin\",\"oil\",\"part\",\"pre\",\"shd\",\"site\",\"tulsi\",\"alert\",\"chosen\",\"dat\",\"gutter\",\"holder\",\"iron\",\"lata\",\"nawaz\",\"panel\",\"peak\",\"shatrughan\",\"teacher\",\"airlin\",\"arrang\",\"bound\",\"dawood\",\"draw\",\"hota\",\"identifi\",\"killer\",\"parliamentari\",\"prevent\",\"relev\",\"sweep\",\"sympathi\",\"tej\",\"thei\",\"tsunami\",\"aircraft\",\"attach\",\"exploit\",\"mantra\",\"nearli\",\"papu\",\"sirf\",\"titl\",\"ajit\",\"equat\",\"fed\",\"forest\",\"label\",\"resort\",\"sentenc\",\"settl\",\"sycoph\",\"tree\",\"clip\",\"conclus\",\"consequ\",\"eagerli\",\"graduat\",\"locat\",\"mahatma\",\"nahin\",\"typic\",\"aka\",\"citizenship\",\"da\",\"highwai\",\"joint\",\"stalin\",\"strang\",\"thackerai\",\"tho\",\"facil\",\"hema\",\"inspit\",\"payment\",\"pmmodi\",\"retain\",\"the\",\"viral\",\"achh\",\"apolog\",\"carefulli\",\"consist\",\"delet\",\"dismiss\",\"ego\",\"empower\",\"even\",\"gay\",\"janata\",\"orop\",\"piddi\",\"quick\",\"wide\",\"bal\",\"coin\",\"concentr\",\"deficit\",\"flight\",\"itna\",\"kurnool\",\"lpg\",\"pitch\",\"qualifi\",\"suck\",\"technic\",\"tv\",\"uplift\",\"urmila\",\"waah\",\"access\",\"alloc\",\"asaduddin\",\"dialogu\",\"everyon\",\"hospit\",\"insur\",\"jacket\",\"medic\",\"mera\",\"mom\",\"ordinari\",\"pdp\",\"proudli\",\"remot\",\"sacrific\",\"scamster\",\"snatch\",\"sought\",\"tire\",\"tremend\",\"activist\",\"appropri\",\"assault\",\"attain\",\"baap\",\"co\",\"dalal\",\"elig\",\"fish\",\"inaugur\",\"injustic\",\"mafia\",\"occupi\",\"pend\",\"pseudo\",\"solid\",\"tejaswi\",\"wage\",\"american\",\"blabber\",\"cent\",\"dictatorship\",\"dollar\",\"irrelev\",\"itali\",\"kaam\",\"presstitut\",\"review\",\"room\",\"sarkaar\",\"sole\",\"suppress\",\"worship\",\"bangladesh\",\"cloth\",\"couldn\",\"dad\",\"demonitis\",\"dhan\",\"effici\",\"emploi\",\"heavi\",\"loyalti\",\"mr\",\"norm\",\"sadli\",\"she\",\"surrend\",\"tdp\",\"telecast\",\"yaar\",\"ab\",\"butcher\",\"categori\",\"duffer\",\"fortun\",\"found\",\"hyderabad\",\"infiltr\",\"noon\",\"overal\",\"poison\",\"rush\",\"selfish\",\"separ\",\"shiv\",\"switch\",\"tracker\",\"acch\",\"acronym\",\"annum\",\"bag\",\"calm\",\"cartoon\",\"ceo\",\"concept\",\"due\",\"dump\",\"exam\",\"fetch\",\"heavili\",\"how\",\"industrialist\",\"iss\",\"jawaharl\",\"jii\",\"logo\",\"propag\",\"propoganda\",\"relief\",\"sincer\",\"stall\",\"websit\",\"amend\",\"aspect\",\"belief\",\"cylind\",\"dhruv\",\"elder\",\"flat\",\"herald\",\"jharkhand\",\"laid\",\"maha\",\"nail\",\"saint\",\"shamelessli\",\"spine\",\"statist\",\"subramanian\",\"convei\",\"disrespect\",\"fate\",\"fell\",\"flaw\",\"guilti\",\"hua\",\"leap\",\"malini\",\"odd\",\"outcom\",\"owner\",\"rail\",\"renam\",\"saffron\",\"sath\",\"servant\",\"taught\",\"tribut\",\"watchman\",\"zee\",\"alien\",\"bbc\",\"began\",\"discov\",\"ero\",\"hungri\",\"info\",\"ravi\",\"reap\",\"relax\",\"befit\",\"chowkidhar\",\"complex\",\"context\",\"crash\",\"crpf\",\"describ\",\"disastr\",\"discredit\",\"exchang\",\"factori\",\"foul\",\"guid\",\"hal\",\"holi\",\"in\",\"instal\",\"jhumla\",\"lazi\",\"patra\",\"secretari\",\"smile\",\"sushma\",\"wisdom\",\"aadhar\",\"akhnoor\",\"analys\",\"bare\",\"contact\",\"conveni\",\"deed\",\"except\",\"farooq\",\"hopefulli\",\"iit\",\"innov\",\"mat\",\"mile\",\"ofcours\",\"petit\",\"quit\",\"seiz\",\"shape\",\"stadium\",\"town\",\"trade\",\"assist\",\"brainless\",\"disturb\",\"element\",\"ethic\",\"krishna\",\"mileag\",\"netanyahu\",\"pant\",\"pellet\",\"permit\",\"prison\",\"sambit\",\"sharab\",\"shirt\",\"submit\",\"applaud\",\"astrolog\",\"audienc\",\"bol\",\"civilian\",\"comfort\",\"depriv\",\"driven\",\"fuel\",\"gowda\",\"hire\",\"insecur\",\"omar\",\"prior\",\"scream\",\"spin\",\"tight\",\"uri\",\"vanish\",\"wht\",\"artist\",\"bharath\",\"dy\",\"everytim\",\"heat\",\"ideal\",\"lift\",\"loyal\",\"marriag\",\"possess\",\"reviv\",\"saath\",\"tension\",\"terribl\",\"thiev\",\"vand\",\"analyst\",\"angel\",\"ashok\",\"bharatiya\",\"chowkidari\",\"church\",\"crack\",\"flee\",\"glori\",\"hav\",\"healthi\",\"impos\",\"jave\",\"lectur\",\"massacr\",\"narendar\",\"ow\",\"phd\",\"prize\",\"profess\",\"rapist\",\"resid\",\"sardar\",\"suppli\",\"swachh\",\"unbias\",\"wall\",\"advoc\",\"demean\",\"dint\",\"fabric\",\"fresh\",\"gandhinagar\",\"goa\",\"hr\",\"karyakarta\",\"koraput\",\"lalu\",\"petti\",\"phobia\",\"sangh\",\"soft\",\"statur\",\"weaken\",\"wil\",\"band\",\"bastard\",\"deliveri\",\"eventu\",\"formula\",\"friendli\",\"hole\",\"immens\",\"jab\",\"mask\",\"pack\",\"passion\",\"pension\",\"presidenti\",\"puri\",\"sahab\",\"slow\",\"speaker\",\"spew\",\"stake\",\"succe\",\"uddhav\",\"wouldn\",\"bewar\",\"bite\",\"brainwash\",\"conclav\",\"crucial\",\"culprit\",\"decent\",\"dress\",\"genocid\",\"grade\",\"grave\",\"haven\",\"instruct\",\"kam\",\"licker\",\"map\",\"middlemen\",\"obc\",\"pig\",\"strongest\",\"sum\",\"tr\",\"venezuela\",\"aayega\",\"an\",\"arithmet\",\"birthdai\",\"booth\",\"bu\",\"cadr\",\"congresss\",\"damodarda\",\"dirt\",\"dnt\",\"equival\",\"european\",\"harmoni\",\"incred\",\"insan\",\"karn\",\"sanjai\",\"statesman\",\"stuck\",\"sundai\",\"vice\",\"volunt\",\"ananth\",\"assert\",\"bihari\",\"chacha\",\"crush\",\"exercis\",\"explan\",\"fruit\",\"harass\",\"hot\",\"kapil\",\"machineri\",\"mallaya\",\"modih\",\"nautanki\",\"piss\",\"privileg\",\"showcas\",\"sponsor\",\"visa\",\"abolish\",\"absurd\",\"bankrupt\",\"broken\",\"burden\",\"clue\",\"enforc\",\"entri\",\"featur\",\"founder\",\"garbag\",\"golden\",\"gover\",\"gujju\",\"hilari\",\"index\",\"jem\",\"kare\",\"medicin\",\"nai\",\"opportunist\",\"pokhran\",\"quiet\",\"river\",\"roam\",\"rout\",\"secondli\",\"shekhar\",\"tejaswini\",\"cm\",\"compuls\",\"demolish\",\"diseas\",\"dishearten\",\"entitl\",\"fascism\",\"karna\",\"murli\",\"neighbour\",\"ohh\",\"opindia\",\"professor\",\"shouldn\",\"spineless\",\"stanc\",\"stolen\",\"urself\",\"verdict\",\"wasn\",\"woh\",\"writer\",\"abv\",\"adopt\",\"angl\",\"automat\",\"aviat\",\"ba\",\"bid\",\"dil\",\"disappear\",\"firmli\",\"household\",\"martyr\",\"mohan\",\"narendramodi\",\"radic\",\"recommend\",\"tast\",\"ayodhya\",\"bombai\",\"box\",\"boycott\",\"bpl\",\"commi\",\"countrymen\",\"damodar\",\"diamantair\",\"driver\",\"fame\",\"gathbandhan\",\"giriraj\",\"gohpur\",\"helm\",\"jain\",\"kamal\",\"mgnrega\",\"milk\",\"opp\",\"revenu\",\"saturdai\",\"soch\",\"stream\",\"sustain\",\"tackl\",\"tool\",\"belittl\",\"brief\",\"cite\",\"edit\",\"estim\",\"feather\",\"fyi\",\"geniu\",\"habit\",\"hardcor\",\"helpless\",\"iam\",\"incumb\",\"jaya\",\"limelight\",\"merci\",\"outrag\",\"prefix\",\"ujjwala\",\"airwai\",\"assess\",\"barkha\",\"dna\",\"fallen\",\"hunger\",\"jio\",\"judgement\",\"merit\",\"mitron\",\"narind\",\"player\",\"rahi\",\"retali\",\"rti\",\"shake\",\"sin\",\"split\",\"spy\",\"suspect\",\"unbeliev\",\"abhisar\",\"asshol\",\"bjd\",\"bolo\",\"chahiy\",\"chap\",\"dhoni\",\"electrif\",\"extens\",\"fled\",\"grown\",\"immatur\",\"inclus\",\"kanpur\",\"kisan\",\"lobbi\",\"meme\",\"msg\",\"msme\",\"nowadai\",\"oblig\",\"paisa\",\"park\",\"perfectli\",\"prasad\",\"primari\",\"publicli\",\"quint\",\"rai\",\"royal\",\"sane\",\"sever\",\"sharif\",\"sink\",\"socal\",\"stabil\",\"stole\",\"stress\",\"superb\",\"swing\",\"tata\",\"tradit\",\"unhappi\",\"verifi\",\"ambassador\",\"backfir\",\"bahut\",\"beaten\",\"buddi\",\"cancer\",\"champion\",\"consum\",\"discours\",\"easier\",\"hike\",\"intend\",\"kaha\",\"loud\",\"nois\",\"portrai\",\"preach\",\"psu\",\"reput\",\"robert\",\"sardesai\",\"sha\",\"smoke\",\"whine\",\"wid\",\"youv\",\"accident\",\"aris\",\"attribut\",\"divers\",\"down\",\"enlighten\",\"entrepreneur\",\"essenti\",\"exit\",\"favorit\",\"feb\",\"icon\",\"jait\",\"kannada\",\"karan\",\"load\",\"mangeshkar\",\"mirror\",\"obama\",\"orat\",\"oust\",\"parivar\",\"patna\",\"photograph\",\"postpon\",\"princ\",\"regret\",\"sahib\",\"saudi\",\"ship\",\"sibal\",\"slowli\",\"suffici\",\"theyll\",\"thn\",\"tourism\",\"worldwid\",\"am\",\"anim\",\"apologis\",\"bow\",\"button\",\"clap\",\"conflict\",\"giant\",\"godhra\",\"jais\",\"joi\",\"kitna\",\"malign\",\"music\",\"mynt\",\"particularli\",\"planet\",\"proclaim\",\"promin\",\"prosecutor\",\"rat\",\"recogn\",\"reign\",\"seller\",\"similarli\",\"sport\",\"xxxxx\",\"ambit\",\"ashish\",\"belt\",\"bent\",\"broke\",\"brutal\",\"businessmen\",\"clueless\",\"cud\",\"declin\",\"den\",\"diff\",\"epic\",\"experienc\",\"goyal\",\"jewel\",\"kumaraswami\",\"maharaja\",\"outstand\",\"personnel\",\"restor\",\"restrict\",\"sahi\",\"salman\",\"shakthi\",\"telugu\",\"tone\",\"trash\",\"aadhaar\",\"abandon\",\"advisor\",\"anand\",\"anna\",\"bana\",\"chori\",\"commission\",\"correctli\",\"doom\",\"draft\",\"exact\",\"filthi\",\"formal\",\"gap\",\"intellect\",\"iran\",\"kart\",\"mockeri\",\"nose\",\"packag\",\"perspect\",\"reuter\",\"sea\",\"succeed\",\"suspend\",\"theater\",\"uniqu\",\"worthi\",\"at\",\"blue\",\"camera\",\"classic\",\"coal\",\"comprehens\",\"crop\",\"doctrin\",\"dust\",\"grace\",\"hundr\",\"ilk\",\"imp\",\"instanc\",\"irrit\",\"lifetim\",\"luxuri\",\"naya\",\"nightmar\",\"panic\",\"patient\",\"plot\",\"poem\",\"polar\",\"preciou\",\"prospect\",\"putin\",\"queue\",\"regular\",\"repeatedli\",\"resist\",\"soil\",\"subscript\",\"trillion\",\"tripl\",\"where\",\"wtf\",\"achiv\",\"atom\",\"bunker\",\"chao\",\"curiou\",\"degrad\",\"drug\",\"faster\",\"gareebi\",\"grate\",\"handout\",\"hasn\",\"hue\",\"jha\",\"kabhi\",\"kickstart\",\"momentum\",\"moran\",\"nope\",\"passport\",\"rhe\",\"saheb\",\"scum\",\"shankar\",\"shld\",\"teleprompt\",\"thrive\",\"thy\",\"trp\",\"twitterati\",\"ugli\",\"unfair\",\"vacat\",\"wouldv\",\"amount\",\"behaviour\",\"captain\",\"collaps\",\"constantli\",\"dekh\",\"feasibl\",\"front\",\"gai\",\"gate\",\"indigen\",\"outer\",\"pais\",\"percentag\",\"portfolio\",\"sirji\",\"stabl\",\"substanti\",\"tat\",\"tortur\",\"versu\",\"ahmedabad\",\"apna\",\"aveng\",\"broker\",\"businessman\",\"candidatur\",\"chhattisgarh\",\"colleagu\",\"color\",\"compel\",\"conclud\",\"contrari\",\"courtesi\",\"creativ\",\"decreas\",\"dekho\",\"donald\",\"flow\",\"gotten\",\"hors\",\"investor\",\"kalam\",\"khangress\",\"korea\",\"lesser\",\"liquor\",\"materi\",\"milit\",\"mix\",\"pawar\",\"politic\",\"pronounc\",\"rang\",\"rob\",\"sacrif\",\"session\",\"sheer\",\"size\",\"stat\",\"staunch\",\"sub\",\"thier\",\"trail\",\"vow\",\"whistl\",\"wine\",\"ach\",\"aint\",\"bang\",\"beta\",\"bhushan\",\"bore\",\"breach\",\"bsnl\",\"deng\",\"dent\",\"distract\",\"fanat\",\"frame\",\"hardik\",\"importantli\",\"incap\",\"interfer\",\"laud\",\"mainstream\",\"matondkar\",\"monitor\",\"mute\",\"neech\",\"papa\",\"pen\",\"physic\",\"prachar\",\"reli\",\"rip\",\"roi\",\"salesman\",\"sam\",\"shadow\",\"socialist\",\"system\",\"thr\",\"tiger\",\"uniform\",\"venu\",\"weaker\",\"yechuri\",\"younger\",\"aren\",\"atmospher\",\"cake\",\"circul\",\"clever\",\"closer\",\"dar\",\"foe\",\"gen\",\"goahead\",\"guj\",\"implic\",\"larger\",\"misguid\",\"net\",\"nsso\",\"pathankot\",\"prakash\",\"procedur\",\"rahulji\",\"rathe\",\"resolut\",\"roadshow\",\"snake\",\"suitabl\",\"taunt\",\"trader\",\"upgrad\",\"urgent\",\"zindabad\",\"aiim\",\"allah\",\"allegedli\",\"banker\",\"beggar\",\"bust\",\"chota\",\"choukidar\",\"concret\",\"custom\",\"dei\",\"error\",\"guidanc\",\"hesit\",\"hmm\",\"illog\",\"irrespons\",\"jindabad\",\"kim\",\"mukesh\",\"myth\",\"nazi\",\"pin\",\"rashtra\",\"recal\",\"tharoor\",\"tizzi\",\"wais\",\"wed\",\"ahm\",\"atalji\",\"atroc\",\"bhim\",\"bla\",\"bogu\",\"chal\",\"consolid\",\"discrimin\",\"domest\",\"electrifi\",\"emin\",\"fold\",\"fraudster\",\"friendship\",\"fudg\",\"gentleman\",\"intens\",\"ism\",\"kia\",\"maa\",\"monkei\",\"pan\",\"racist\",\"recoveri\",\"saab\",\"safeguard\",\"sanit\",\"separatist\",\"shield\",\"slip\",\"sudden\",\"tere\",\"territori\",\"vehicl\",\"warm\",\"aam\",\"ais\",\"analog\",\"aunti\",\"baki\",\"beti\",\"blatant\",\"cheater\",\"childhood\",\"eastern\",\"edg\",\"equip\",\"fundament\",\"glass\",\"guha\",\"hack\",\"heaven\",\"hoon\",\"iim\",\"knw\",\"mataram\",\"mysteri\",\"occas\",\"pillar\",\"rabid\",\"sare\",\"shashi\",\"store\",\"suspens\",\"sweet\",\"timelin\",\"tribal\",\"vacanc\",\"vallei\",\"aadmi\",\"akhtar\",\"anytim\",\"arr\",\"authent\",\"baad\",\"bench\",\"cec\",\"confisc\",\"credenti\",\"devot\",\"disciplin\",\"flourish\",\"gayi\",\"glorifi\",\"holidai\",\"impli\",\"item\",\"kaun\",\"lai\",\"launder\",\"matlab\",\"mujh\",\"mukt\",\"neighbor\",\"plenti\",\"prostitut\",\"rajeev\",\"rana\",\"randeep\",\"relianc\",\"routin\",\"rumour\",\"shoe\",\"shoulder\",\"spbsp\",\"struck\",\"studio\",\"telegraph\",\"tongu\",\"transact\",\"veloc\",\"weather\",\"ala\",\"azad\",\"bco\",\"begusarai\",\"bharatvarsh\",\"brag\",\"buri\",\"circu\",\"crib\",\"cuz\",\"deshbhakt\",\"differenti\",\"dissent\",\"donkei\",\"fart\",\"gross\",\"hahahaha\",\"happili\",\"historian\",\"jagannath\",\"knock\",\"mani\",\"method\",\"now\",\"onward\",\"opt\",\"orgasm\",\"pair\",\"retard\",\"robust\",\"rupani\",\"sen\",\"sham\",\"sidelin\",\"slept\",\"staff\",\"structur\",\"superior\",\"tabl\",\"tirelessli\",\"tonight\",\"academ\",\"bada\",\"bird\",\"bureaucrat\",\"cafe\",\"darbari\",\"endeavour\",\"enhanc\",\"firstpost\",\"frankli\",\"freeli\",\"insist\",\"jaipur\",\"japan\",\"kyu\",\"megar\",\"motherland\",\"nehruji\",\"populist\",\"pose\",\"prada\",\"rajya\",\"random\",\"ravish\",\"rogu\",\"sez\",\"sooner\",\"surnam\",\"trigger\",\"underestim\",\"unleash\",\"weed\",\"weve\",\"\\u0938\\u0930\\u0915\",\"abp\",\"alcohol\",\"auto\",\"bitch\",\"cold\",\"contrast\",\"corridor\",\"crow\",\"distanc\",\"exagger\",\"expenditur\",\"fashion\",\"handpick\",\"horribl\",\"kejri\",\"lag\",\"liya\",\"longest\",\"neck\",\"patienc\",\"photoshop\",\"plank\",\"pti\",\"rahulgandhi\",\"ratna\",\"raul\",\"ruler\",\"seed\",\"sickular\",\"sushil\",\"thoda\",\"trial\",\"undertaken\",\"urdu\",\"vegetarian\",\"vest\",\"warrior\",\"yup\",\"zone\",\"accid\",\"amus\",\"audac\",\"bitter\",\"circl\",\"curb\",\"drastic\",\"electron\",\"franc\",\"germani\",\"goi\",\"hunt\",\"immigr\",\"infra\",\"kolkata\",\"metro\",\"misrul\",\"myanmar\",\"nitish\",\"nobel\",\"penni\",\"prashant\",\"previous\",\"reliev\",\"rld\",\"scoundrel\",\"segment\",\"spite\",\"transport\",\"vendetta\",\"wind\",\"airspac\",\"bengali\",\"berojgar\",\"borrow\",\"builder\",\"bypass\",\"ca\",\"canvass\",\"chalo\",\"charter\",\"creator\",\"cri\",\"cycl\",\"dal\",\"denial\",\"devast\",\"devil\",\"diamond\",\"dishonest\",\"escal\",\"extern\",\"focuss\",\"gestur\",\"glimps\",\"hafiz\",\"isol\",\"kaftan\",\"keen\",\"lage\",\"leak\",\"legend\",\"length\",\"mei\",\"ministeri\",\"misadventur\",\"naiv\",\"nephew\",\"offens\",\"rakesh\",\"sattelit\",\"sevak\",\"spit\",\"stash\",\"storm\",\"summer\",\"sunris\",\"syndrom\",\"tihar\",\"vindic\",\"antimissil\",\"arab\",\"awak\",\"banara\",\"bedi\",\"bhage\",\"bread\",\"butter\",\"cat\",\"chandra\",\"childish\",\"coffer\",\"confess\",\"cooper\",\"crown\",\"dena\",\"deterr\",\"dharma\",\"ear\",\"expel\",\"firstli\",\"gaddar\",\"gautam\",\"globe\",\"gud\",\"gullibl\",\"invok\",\"malik\",\"mate\",\"mil\",\"modibut\",\"modimodi\",\"mulayam\",\"narrow\",\"ncp\",\"nepal\",\"ongo\",\"op\",\"queen\",\"quickli\",\"quota\",\"rcb\",\"rescu\",\"rjd\",\"rssbjp\",\"selfless\",\"snub\",\"squar\",\"stamp\",\"swaraj\",\"swear\",\"talli\",\"thano\",\"theme\",\"theyv\",\"window\",\"youngest\",\"agreement\",\"ajai\",\"amid\",\"anyai\",\"bastion\",\"bind\",\"bjprss\",\"blackmail\",\"blitz\",\"certifi\",\"chawkidar\",\"clariti\",\"cpi\",\"cun\",\"ditch\",\"exempt\",\"fee\",\"filth\",\"grandfath\",\"grew\",\"ineffici\",\"leg\",\"liabil\",\"maya\",\"mufti\",\"nagar\",\"ngo\",\"parrot\",\"pok\",\"pursu\",\"rascal\",\"rose\",\"sach\",\"sakta\",\"sharp\",\"shukla\",\"tab\",\"ubi\",\"unnecessari\",\"upload\",\"util\",\"aalo\",\"acheiv\",\"agni\",\"alarm\",\"ancestor\",\"antiindian\",\"audit\",\"bangladeshi\",\"bed\",\"bin\",\"commend\",\"conscienc\",\"cute\",\"dam\",\"deepli\",\"demonit\",\"development\",\"doabl\",\"dozen\",\"enterpris\",\"format\",\"gabbard\",\"garib\",\"gloriou\",\"greed\",\"gyan\",\"hook\",\"indra\",\"infront\",\"khud\",\"lash\",\"lollipop\",\"lure\",\"maddi\",\"narcissist\",\"nut\",\"out\",\"pehl\",\"pil\",\"plain\",\"raghu\",\"recruit\",\"reiter\",\"rejoic\",\"saboot\",\"sachin\",\"scratch\",\"seal\",\"sight\",\"sleepless\",\"southern\",\"talkatora\",\"thoothukudi\",\"ton\",\"tweetstorm\",\"aimim\",\"andhbhakt\",\"blackmonei\",\"boat\",\"bull\",\"chicken\",\"chopper\",\"civilis\",\"coincid\",\"comeback\",\"comic\",\"delight\",\"destin\",\"discard\",\"environment\",\"esp\",\"facilit\",\"fade\",\"gamechang\",\"heart_suit\",\"hollow\",\"host\",\"hoti\",\"jaitli\",\"jayega\",\"kabir\",\"kahan\",\"kisi\",\"kitchen\",\"legitim\",\"lunch\",\"mahal\",\"middleclass\",\"modii\",\"monthli\",\"mum\",\"partial\",\"pata\",\"paytm\",\"priminist\",\"realist\",\"reckless\",\"sabotag\",\"safer\",\"seven\",\"skin\",\"sympathis\",\"thapar\",\"usd\",\"vast\",\"aaya\",\"abscond\",\"annoi\",\"antihindu\",\"benifit\",\"bhakta\",\"blatantli\",\"chennai\",\"constant\",\"contain\",\"cpim\",\"deceiv\",\"desai\",\"donot\",\"dunga\",\"enthusiasm\",\"factual\",\"fort\",\"gehlot\",\"glue\",\"greedi\",\"haan\",\"haunt\",\"hurri\",\"insight\",\"introspect\",\"lap\",\"limitless\",\"looser\",\"lowearth\",\"mahamilavat\",\"manoj\",\"miracl\",\"nagpur\",\"nia\",\"parasit\",\"potato\",\"privatis\",\"raaj\",\"saar\",\"sarcasm\",\"shatter\",\"slaveri\",\"townhal\",\"tripura\",\"verma\",\"wapsi\",\"yearli\",\"yoga\",\"accumul\",\"actress\",\"akbaruddin\",\"banana\",\"bankruptci\",\"beliv\",\"blink\",\"cloud\",\"compens\",\"consider\",\"council\",\"deshdrohi\",\"embrac\",\"fav\",\"fdi\",\"femal\",\"gandi\",\"ghandi\",\"hve\",\"jealousi\",\"kais\",\"max\",\"monster\",\"monument\",\"mrnarendra\",\"nasa\",\"naveen\",\"nurtur\",\"oppress\",\"optic\",\"promo\",\"provis\",\"revolutionari\",\"sarcast\",\"smell\",\"synonym\",\"taint\",\"tank\",\"trait\",\"unknown\",\"verg\",\"vibrant\",\"vocal\",\"yashodaben\",\"ac\",\"aisa\",\"antipoor\",\"bai\",\"bakth\",\"begun\",\"bhagwan\",\"bolt\",\"centric\",\"chase\",\"chat\",\"conspir\",\"dalla\",\"decenc\",\"depict\",\"dignifi\",\"discount\",\"distort\",\"divin\",\"domain\",\"drdoisro\",\"dum\",\"elabor\",\"fare\",\"feder\",\"fragil\",\"gaali\",\"guest\",\"harsh\",\"heartiest\",\"jeet\",\"juggernaut\",\"junior\",\"lean\",\"livelihood\",\"mi\",\"navi\",\"overcom\",\"overwhelm\",\"perpetu\",\"pit\",\"pitroda\",\"prof\",\"regress\",\"regul\",\"roar\",\"shahid\",\"shatru\",\"sop\",\"substanc\",\"surfac\",\"taj\",\"thrash\",\"unawar\",\"unveil\",\"utterli\",\"villain\",\"volum\",\"warfar\",\"withdrawn\",\"aag\",\"admiss\",\"adress\",\"ananthkumar\",\"avatar\",\"aw\",\"baroda\",\"bc\",\"but\",\"cabal\",\"conferenc\",\"convent\",\"creatur\",\"custodi\",\"daddi\",\"deleg\",\"der\",\"disguis\",\"excess\",\"falsehood\",\"februari\",\"garner\",\"gr\",\"gvt\",\"jago\",\"jaishemoham\",\"jhoot\",\"kannadiga\",\"kashi\",\"laga\",\"libtard\",\"mmj\",\"modithem\",\"msm\",\"msp\",\"nake\",\"neglig\",\"pimp\",\"preced\",\"prestigi\",\"primeminist\",\"proport\",\"puls\",\"refrain\",\"renew\",\"resembl\",\"scholar\",\"shastri\",\"shell\",\"stomach\",\"testfir\",\"user\",\"wen\",\"akbar\",\"amazon\",\"anticip\",\"balochistan\",\"behavior\",\"berozgar\",\"biriyani\",\"bose\",\"bowl\",\"burnt\",\"celeb\",\"ceremoni\",\"column\",\"criteria\",\"defer\",\"devote\",\"dictionari\",\"dimwit\",\"dismantl\",\"dose\",\"dumbo\",\"ev\",\"festiv\",\"gobar\",\"gods\",\"guardian\",\"gulam\",\"hammer\",\"headquart\",\"hung\",\"idol\",\"incharg\",\"islamist\",\"jao\",\"kovind\",\"legisl\",\"mankad\",\"marvel\",\"masjid\",\"mehbooba\",\"narrat\",\"nehrugandhi\",\"nidhi\",\"numer\",\"occur\",\"oscar\",\"plight\",\"pmopm\",\"poorer\",\"queri\",\"rg\",\"richer\",\"sagarika\",\"sakti\",\"sensit\",\"setup\",\"shiver\",\"spark\",\"sting\",\"tail\",\"taker\",\"thumb\",\"treasuri\",\"umpir\",\"underwai\",\"unsaf\",\"unturn\",\"violent\",\"virtual\",\"acquit\",\"align\",\"asap\",\"assad\",\"bluf\",\"bravo\",\"breed\",\"climat\",\"coloni\",\"cpm\",\"cult\",\"cure\",\"decim\",\"depress\",\"desi\",\"dete\",\"detect\",\"deve\",\"dilut\",\"dish\",\"dramat\",\"eras\",\"fearless\",\"gear\",\"hijack\",\"immin\",\"interpret\",\"itll\",\"jeypor\",\"kab\",\"kickback\",\"kinda\",\"lame\",\"lao\",\"lock\",\"madhav\",\"mentor\",\"minu\",\"modia\",\"modinom\",\"mosqu\",\"mushroom\",\"nobl\",\"noida\",\"peon\",\"perpetr\",\"pliabl\",\"prestitut\",\"pump\",\"regularli\",\"sarabhai\",\"satisfact\",\"shakha\",\"shy\",\"soo\",\"summit\",\"swai\",\"sweat\",\"tera\",\"text\",\"thunder\",\"tragedi\",\"umesh\",\"up\",\"wali\",\"affili\",\"alok\",\"ancient\",\"apt\",\"australia\",\"babri\",\"backbon\",\"backstab\",\"be\",\"benami\",\"betray\",\"bhagat\",\"bulli\",\"chandrashekhar\",\"chattisgarh\",\"congr\",\"congressmen\",\"contend\",\"crass\",\"critiqu\",\"dada\",\"deputi\",\"dhokla\",\"etern\",\"expand\",\"flood\",\"forth\",\"forum\",\"hall\",\"heartland\",\"hoard\",\"hote\",\"ia\",\"illus\",\"incent\",\"janpath\",\"ju\",\"judici\",\"junk\",\"lapdog\",\"lekin\",\"loc\",\"mama\",\"medium\",\"mouthpiec\",\"needi\",\"negoti\",\"newli\",\"nov\",\"nuke\",\"orissa\",\"padma\",\"pal\",\"patrakar\",\"pattern\",\"perceiv\",\"raho\",\"rap\",\"rha\",\"risen\",\"saeed\",\"samajwadi\",\"sec\",\"serial\",\"sidhu\",\"singer\",\"srk\",\"teeth\",\"throne\",\"top\",\"willing\",\"woo\",\"york\",\"aan\",\"abdul\",\"arena\",\"ashutosh\",\"authoritarian\",\"baseless\",\"benefici\",\"bill\",\"blown\",\"bole\",\"casualti\",\"disclosur\",\"diwali\",\"dono\",\"explos\",\"financialxpress\",\"habitu\",\"hearti\",\"hostil\",\"huh\",\"hurdl\",\"insensit\",\"instrument\",\"jawahar\",\"jihad\",\"jingoism\",\"jinnah\",\"lak\",\"mann\",\"mismanag\",\"mount\",\"mulla\",\"offenc\",\"oratori\",\"piyush\",\"port\",\"prop\",\"rein\",\"scrutini\",\"senseless\",\"sex\",\"shed\",\"smarter\",\"stretch\",\"toxic\",\"tweeter\",\"unpopular\",\"valour\",\"ventur\",\"watchmen\",\"yuva\",\"aay\",\"accha\",\"allevi\",\"ambedkar\",\"apologist\",\"articul\",\"asian\",\"autocrat\",\"awaken\",\"baloch\",\"bola\",\"bottl\",\"broad\",\"carpet\",\"cheerlead\",\"crude\",\"darr\",\"deceit\",\"deport\",\"dispens\",\"dot\",\"encount\",\"endless\",\"footstep\",\"ghotala\",\"ghu\",\"hopeless\",\"ic\",\"indecis\",\"intention\",\"invad\",\"issro\",\"kher\",\"kyun\",\"lmao\",\"meal\",\"mechan\",\"megalomaniac\",\"mindless\",\"nonbjp\",\"paramet\",\"patholog\",\"pleas\",\"pleasur\",\"pvt\",\"que\",\"reduct\",\"renown\",\"sandip\",\"sapna\",\"saviour\",\"scandal\",\"scoot\",\"stab\",\"stun\",\"sugarcan\",\"supervis\",\"surround\",\"swach\",\"systemat\",\"tom\",\"undo\",\"untru\",\"vultur\",\"warmong\",\"werent\",\"acha\",\"adr\",\"adventur\",\"afghanistan\",\"allot\",\"amartya\",\"anonym\",\"anxieti\",\"ardent\",\"bhakat\",\"ble\",\"booklet\",\"boom\",\"burst\",\"charisma\",\"chhota\",\"chore\",\"disrupt\",\"drain\",\"eager\",\"editori\",\"emperor\",\"enorm\",\"europ\",\"feedback\",\"forefath\",\"gaurav\",\"glove\",\"goodwil\",\"heck\",\"heritag\",\"hogi\",\"homework\",\"humour\",\"hyper\",\"incit\",\"inevit\",\"inferior\",\"inherit\",\"jahan\",\"kha\",\"mahesh\",\"mainli\",\"mandya\",\"minion\",\"mod\",\"mullah\",\"mutual\",\"nifti\",\"notebandi\",\"ntr\",\"nyt\",\"oversea\",\"pagal\",\"parallel\",\"pew\",\"prayer\",\"proxi\",\"punch\",\"recognit\",\"reel\",\"represent\",\"selfi\",\"sexual\",\"sheet\",\"shouldv\",\"sitaram\",\"skip\",\"spade\",\"sworn\",\"toe\",\"traffic\",\"tragic\",\"urgenc\",\"whatsoev\",\"worsen\",\"yatra\",\"zealand\",\"acc\",\"akshai\",\"alright\",\"analyz\",\"anapadh\",\"apni\",\"ayega\",\"badal\",\"buffoon\",\"cag\",\"canada\",\"chowksi\",\"circumst\",\"cnn\",\"coffe\",\"com\",\"conced\",\"contradict\",\"craft\",\"cruel\",\"deaf\",\"despic\",\"disput\",\"disqualifi\",\"doordarshan\",\"dub\",\"ep\",\"erdogan\",\"expertis\",\"fadnavi\",\"farc\",\"finest\",\"first\",\"float\",\"gem\",\"gujrati\",\"hahahahaha\",\"hair\",\"handsom\",\"harder\",\"hesh\",\"hindustani\",\"hurl\",\"hypothet\",\"imparti\",\"impot\",\"incorrect\",\"januari\",\"jay\",\"kareng\",\"karta\",\"lokpal\",\"masquerad\",\"messiah\",\"misinform\",\"modiit\",\"motto\",\"namast\",\"naresh\",\"nirmala\",\"paradis\",\"paralysi\",\"predecessor\",\"prejudic\",\"rage\",\"ratan\",\"rebel\",\"recit\",\"reson\",\"scari\",\"sensat\",\"sheep\",\"shitti\",\"shower\",\"someon\",\"stride\",\"subtl\",\"swipe\",\"thinker\",\"threw\",\"tiwari\",\"tribe\",\"uproot\",\"ur\",\"valuabl\",\"vendor\",\"viciou\",\"vikram\",\"vile\",\"webseri\",\"why\",\"yep\",\"advers\",\"all\",\"amar\",\"amitabh\",\"amith\",\"arei\",\"bakht\",\"befool\",\"carrier\",\"chip\",\"chokidaar\",\"conceiv\",\"confront\",\"conquer\",\"contractor\",\"costli\",\"couldv\",\"decod\",\"derail\",\"destini\",\"doklam\",\"evad\",\"extraordinari\",\"fascin\",\"flower\",\"frequent\",\"gabbar\",\"garb\",\"groom\",\"grudg\",\"hamar\",\"hotel\",\"hub\",\"humor\",\"imaginari\",\"intact\",\"invinc\",\"isliy\",\"isra\",\"jaisa\",\"male\",\"mathemat\",\"misde\",\"missionari\",\"modirahul\",\"modiy\",\"motor\",\"mutra\",\"not\",\"nrc\",\"ocean\",\"orient\",\"partit\",\"rafel\",\"rain\",\"rama\",\"raw\",\"repair\",\"revok\",\"rig\",\"rot\",\"scope\",\"secretli\",\"standup\",\"statesmanship\",\"sticker\",\"surat\",\"teja\",\"tip\",\"treati\",\"troop\",\"tuesdai\",\"ujwala\",\"unexpect\",\"viabl\",\"viewer\",\"vigilant\",\"willpow\",\"woke\",\"afteral\",\"agrarian\",\"antibjp\",\"bachchan\",\"bahumat\",\"banner\",\"bibi\",\"boil\",\"chacko\",\"chain\",\"chart\",\"cheif\",\"clan\",\"coach\",\"constip\",\"cum\",\"currupt\",\"dancer\",\"depth\",\"dhume\",\"dick\",\"do\",\"drown\",\"dry\",\"fever\",\"hadnt\",\"halt\",\"harri\",\"ind\",\"indiapakistan\",\"input\",\"instig\",\"internation\",\"isko\",\"isrodrdo\",\"jandhan\",\"karti\",\"knee\",\"laughabl\",\"legendari\",\"mahagatbandhan\",\"mahamilawat\",\"malaya\",\"mandal\",\"massag\",\"milega\",\"minster\",\"missionshakti\",\"modiand\",\"modiw\",\"mondai\",\"nath\",\"oop\",\"osama\",\"overnight\",\"panelist\",\"partisan\",\"peacefulli\",\"ploi\",\"pol\",\"prez\",\"prowess\",\"punctur\",\"refresh\",\"reliabl\",\"revolv\",\"rrr\",\"sapoot\",\"sedit\",\"somedai\",\"sona\",\"sow\",\"speach\",\"spectrum\",\"ssingh\",\"stalwart\",\"streanh\",\"tamper\",\"their\",\"tie\",\"undoubtedli\",\"undu\",\"utilis\",\"varieti\",\"vinci\",\"weekend\",\"weep\",\"whn\",\"wicket\",\"wild\",\"yearold\",\"aapk\",\"accompani\",\"acquitt\",\"affidavit\",\"airplan\",\"and\",\"antimuslim\",\"anupam\",\"artwork\",\"baaki\",\"bacha\",\"bakwa\",\"ballot\",\"bandhan\",\"bhagao\",\"blore\",\"buck\",\"buzz\",\"cab\",\"chaukidaar\",\"cinema\",\"counti\",\"crawl\",\"daagdar\",\"decept\",\"derogatori\",\"dethron\",\"eco\",\"egg\",\"election\",\"eleph\",\"fanci\",\"flash\",\"for\",\"forg\",\"gali\",\"hamara\",\"hindumuslim\",\"injur\",\"interven\",\"jayegi\",\"jong\",\"jst\",\"kaho\",\"kanyakumari\",\"khaunga\",\"kohli\",\"lone\",\"maharaj\",\"meat\",\"meri\",\"midnight\",\"mishra\",\"mistaken\",\"modibhakt\",\"modith\",\"nehruvian\",\"nepot\",\"pahl\",\"parrikar\",\"patnaik\",\"persecut\",\"phenomen\",\"procur\",\"propagandist\",\"provok\",\"quietli\",\"raised_hand\",\"rohingya\",\"sandeep\",\"scold\",\"seeker\",\"shelter\",\"shouri\",\"signatur\",\"siliguri\",\"solar\",\"srinagar\",\"surpass\",\"tamilian\",\"thrill\",\"tini\",\"twit\",\"unaccept\",\"uneth\",\"unnecessarili\",\"unparallel\",\"unwant\",\"upaera\",\"vanuatu\",\"versa\",\"virtu\",\"waynad\",\"weird\",\"whop\",\"worthless\",\"aapn\",\"accur\",\"addict\",\"afternoon\",\"aloo\",\"avg\",\"bend\",\"bhartiya\",\"bio\",\"biscuit\",\"bleed\",\"bubbl\",\"chala\",\"chomu\",\"clash\",\"cmon\",\"commerci\",\"cwg\",\"deduct\",\"dia\",\"diesel\",\"dinner\",\"dispos\",\"evalu\",\"exhibit\",\"explor\",\"fabul\",\"forthcom\",\"frai\",\"fraudul\",\"gulf\",\"gunda\",\"gya\",\"gye\",\"hahah\",\"ham\",\"hog\",\"hone\",\"hong\",\"hui\",\"imo\",\"induct\",\"inner\",\"jaish\",\"kidnap\",\"landslid\",\"lend\",\"lunat\",\"malnutrit\",\"mangalyaan\",\"mathura\",\"migrat\",\"mine\",\"ministerpm\",\"miseri\",\"navig\",\"nearest\",\"older\",\"optimist\",\"outfit\",\"paf\",\"passeng\",\"poorna\",\"pregnant\",\"propel\",\"psycholog\",\"rae\",\"render\",\"repeal\",\"saniti\",\"sanjeev\",\"scath\",\"secondari\",\"solidar\",\"somvirsheoran\",\"sonakshi\",\"starv\",\"suresh\",\"swatch\",\"tape\",\"tbh\",\"tendenc\",\"termin\",\"thingi\",\"to\",\"trembl\",\"tufail\",\"tym\",\"unfollow\",\"unlimit\",\"unrest\",\"unsc\",\"varansi\",\"vinod\",\"vulner\",\"vvpat\",\"yea\",\"yeddi\",\"ysrcp\",\"aapko\",\"acceler\",\"accordingli\",\"allahabad\",\"alot\",\"approx\",\"assumpt\",\"bandwagon\",\"ben\",\"bhaiya\",\"bofor\",\"boln\",\"bolna\",\"braveri\",\"chale\",\"chalia\",\"chanakya\",\"charcha\",\"collabor\",\"concurr\",\"consciou\",\"demolit\",\"demonis\",\"descend\",\"devlop\",\"dilemma\",\"distinct\",\"dolt\",\"drawn\",\"echo\",\"ei\",\"empir\",\"enlist\",\"facist\",\"fat\",\"fiction\",\"fifth\",\"fond\",\"forbid\",\"french\",\"gareeb\",\"gram\",\"grandson\",\"hanuman\",\"hari\",\"harp\",\"hein\",\"hona\",\"hound\",\"humil\",\"if\",\"inact\",\"inequ\",\"intervent\",\"iota\",\"jaihind\",\"jam\",\"kal\",\"karega\",\"khaan\",\"khadi\",\"kingdom\",\"kkr\",\"ktr\",\"lahar\",\"lanka\",\"leakag\",\"lodg\",\"loom\",\"lucknow\",\"mahan\",\"maoist\",\"merg\",\"nasha\",\"necess\",\"netflix\",\"nmodi\",\"nuisanc\",\"nvr\",\"phrase\",\"plung\",\"poetri\",\"poltic\",\"ponzi\",\"pour\",\"priya\",\"publicis\",\"punjabi\",\"rahega\",\"refuge\",\"remonet\",\"resum\",\"rofl\",\"rotten\",\"sadist\",\"sangi\",\"setback\",\"sharad\",\"spectacular\",\"spectat\",\"stark\",\"steer\",\"stir\",\"talaq\",\"tarnish\",\"teri\",\"thakur\",\"togadia\",\"until\",\"vigil\",\"viru\",\"weakest\",\"wet\",\"wheel\",\"wifi\",\"wth\",\"aapki\",\"aat\",\"accommod\",\"acr\",\"ant\",\"arundhati\",\"astronaut\",\"avenu\",\"balloon\",\"bane\",\"below\",\"bhabha\",\"bindi\",\"bloom\",\"bone\",\"bugger\",\"chaiwalla\",\"cleanli\",\"compaign\",\"compliment\",\"confin\",\"crocodil\",\"delusion\",\"demograph\",\"deplor\",\"desert\",\"destroy\",\"dev\",\"disburs\",\"disintegr\",\"dung\",\"dupe\",\"duplic\",\"dustbin\",\"ec\",\"entiti\",\"envis\",\"esteem\",\"exbsf\",\"familiar\",\"flaunt\",\"flew\",\"floor\",\"footag\",\"fratern\",\"ghost\",\"gratitud\",\"grip\",\"guv\",\"hafeez\",\"handedli\",\"hariprasad\",\"hmmm\",\"inclin\",\"incomplet\",\"intercept\",\"intimid\",\"iyer\",\"kin\",\"kuchh\",\"lahor\",\"landmark\",\"laps\",\"madhya\",\"mail\",\"malai\",\"mirag\",\"modiamit\",\"mountain\",\"naa\",\"narayan\",\"nativ\",\"ongc\",\"ordin\",\"panchayat\",\"parad\",\"paradigm\",\"philosophi\",\"pill\",\"politi\",\"porkistan\",\"princip\",\"proactiv\"],\"x1\":{\"__ndarray__\":\"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\",\"dtype\":\"float32\",\"order\":\"little\",\"shape\":[5002]},\"x2\":{\"__ndarray__\":\"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\",\"dtype\":\"float32\",\"order\":\"little\",\"shape\":[5002]}},\"selected\":{\"id\":\"1046\"},\"selection_policy\":{\"id\":\"1045\"}},\"id\":\"1030\",\"type\":\"ColumnDataSource\"},{\"attributes\":{},\"id\":\"1041\",\"type\":\"AllLabels\"},{\"attributes\":{},\"id\":\"1014\",\"type\":\"BasicTicker\"},{\"attributes\":{},\"id\":\"1009\",\"type\":\"LinearScale\"},{\"attributes\":{\"data_source\":{\"id\":\"1030\"},\"glyph\":{\"id\":\"1032\"},\"hover_glyph\":null,\"muted_glyph\":null,\"nonselection_glyph\":{\"id\":\"1033\"},\"view\":{\"id\":\"1035\"}},\"id\":\"1034\",\"type\":\"GlyphRenderer\"},{\"attributes\":{},\"id\":\"1021\",\"type\":\"PanTool\"},{\"attributes\":{},\"id\":\"1045\",\"type\":\"UnionRenderers\"},{\"attributes\":{},\"id\":\"1046\",\"type\":\"Selection\"},{\"attributes\":{},\"id\":\"1018\",\"type\":\"BasicTicker\"},{\"attributes\":{},\"id\":\"1007\",\"type\":\"DataRange1d\"},{\"attributes\":{\"axis\":{\"id\":\"1017\"},\"dimension\":1,\"ticker\":null},\"id\":\"1020\",\"type\":\"Grid\"},{\"attributes\":{\"fill_color\":{\"field\":\"color\"},\"line_color\":{\"value\":\"#1f77b4\"},\"size\":{\"value\":8},\"x\":{\"field\":\"x1\"},\"y\":{\"field\":\"x2\"}},\"id\":\"1032\",\"type\":\"Scatter\"},{\"attributes\":{\"source\":{\"id\":\"1030\"}},\"id\":\"1035\",\"type\":\"CDSView\"},{\"attributes\":{},\"id\":\"1005\",\"type\":\"DataRange1d\"},{\"attributes\":{\"fill_alpha\":{\"value\":0.1},\"fill_color\":{\"field\":\"color\"},\"line_alpha\":{\"value\":0.1},\"line_color\":{\"value\":\"#1f77b4\"},\"size\":{\"value\":8},\"x\":{\"field\":\"x1\"},\"y\":{\"field\":\"x2\"}},\"id\":\"1033\",\"type\":\"Scatter\"},{\"attributes\":{},\"id\":\"1022\",\"type\":\"WheelZoomTool\"},{\"attributes\":{\"formatter\":{\"id\":\"1043\"},\"major_label_policy\":{\"id\":\"1044\"},\"ticker\":{\"id\":\"1018\"}},\"id\":\"1017\",\"type\":\"LinearAxis\"},{\"attributes\":{},\"id\":\"1023\",\"type\":\"ResetTool\"},{\"attributes\":{},\"id\":\"1043\",\"type\":\"BasicTickFormatter\"},{\"attributes\":{},\"id\":\"1024\",\"type\":\"SaveTool\"},{\"attributes\":{\"active_multi\":null,\"tools\":[{\"id\":\"1021\"},{\"id\":\"1022\"},{\"id\":\"1023\"},{\"id\":\"1024\"}]},\"id\":\"1025\",\"type\":\"Toolbar\"}],\"root_ids\":[\"1002\"]},\"title\":\"Bokeh Application\",\"version\":\"2.3.0\"}};\n",
              "  var render_items = [{\"docid\":\"b2bf7874-d3cf-4393-91fb-fdc626e245bb\",\"root_ids\":[\"1002\"],\"roots\":{\"1002\":\"eca8ca63-6632-4354-979d-7f4429f35023\"}}];\n",
              "  root.Bokeh.embed.embed_items_notebook(docs_json, render_items);\n",
              "\n",
              "  }\n",
              "  if (root.Bokeh !== undefined) {\n",
              "    embed_document(root);\n",
              "  } else {\n",
              "    var attempts = 0;\n",
              "    var timer = setInterval(function(root) {\n",
              "      if (root.Bokeh !== undefined) {\n",
              "        clearInterval(timer);\n",
              "        embed_document(root);\n",
              "      } else {\n",
              "        attempts++;\n",
              "        if (attempts > 100) {\n",
              "          clearInterval(timer);\n",
              "          console.log(\"Bokeh: ERROR: Unable to run BokehJS code because BokehJS library is missing\");\n",
              "        }\n",
              "      }\n",
              "    }, 10, root)\n",
              "  }\n",
              "})(window);"
            ],
            "application/vnd.bokehjs_exec.v0+json": ""
          },
          "metadata": {
            "tags": [],
            "application/vnd.bokehjs_exec.v0+json": {
              "id": "1002"
            }
          }
        }
      ]
    },
    {
      "cell_type": "code",
      "metadata": {
        "ExecuteTime": {
          "end_time": "2021-04-05T15:55:20.282440Z",
          "start_time": "2021-04-05T15:55:20.162442Z"
        },
        "id": "wWbpD19Dz9ku",
        "outputId": "394af0a1-fec0-4c13-8fc4-0081d1f7c7a9",
        "colab": {
          "base_uri": "https://localhost:8080/",
          "height": 617
        }
      },
      "source": [
        "p = figure(tools=\"pan,wheel_zoom,reset,save\",\n",
        "           toolbar_location=\"above\",\n",
        "           title=\"vector T-SNE for most polarized words\")\n",
        "\n",
        "source = ColumnDataSource(data=dict(x1=words_top_ted_tsne[:,0],\n",
        "                                    x2=words_top_ted_tsne[:,1],\n",
        "                                    names=Text.vocab.itos,\n",
        "                                    color=colorlist))\n",
        "\n",
        "p.scatter(x=\"x1\", y=\"x2\", size=8, source=source, fill_color=\"color\")\n",
        "\n",
        "word_labels = LabelSet(x=\"x1\", y=\"x2\", text=\"names\", y_offset=6,\n",
        "                       text_font_size=\"8pt\", text_color=\"#555555\",\n",
        "                       source=source, text_align='center',render_mode='canvas')\n",
        "p.add_layout(word_labels)\n",
        "\n",
        "show(p)"
      ],
      "execution_count": 38,
      "outputs": [
        {
          "output_type": "display_data",
          "data": {
            "application/javascript": [
              "\n",
              "(function(root) {\n",
              "  function now() {\n",
              "    return new Date();\n",
              "  }\n",
              "\n",
              "  var force = true;\n",
              "\n",
              "  if (typeof root._bokeh_onload_callbacks === \"undefined\" || force === true) {\n",
              "    root._bokeh_onload_callbacks = [];\n",
              "    root._bokeh_is_loading = undefined;\n",
              "  }\n",
              "\n",
              "  var JS_MIME_TYPE = 'application/javascript';\n",
              "  var HTML_MIME_TYPE = 'text/html';\n",
              "  var EXEC_MIME_TYPE = 'application/vnd.bokehjs_exec.v0+json';\n",
              "  var CLASS_NAME = 'output_bokeh rendered_html';\n",
              "\n",
              "  /**\n",
              "   * Render data to the DOM node\n",
              "   */\n",
              "  function render(props, node) {\n",
              "    var script = document.createElement(\"script\");\n",
              "    node.appendChild(script);\n",
              "  }\n",
              "\n",
              "  /**\n",
              "   * Handle when an output is cleared or removed\n",
              "   */\n",
              "  function handleClearOutput(event, handle) {\n",
              "    var cell = handle.cell;\n",
              "\n",
              "    var id = cell.output_area._bokeh_element_id;\n",
              "    var server_id = cell.output_area._bokeh_server_id;\n",
              "    // Clean up Bokeh references\n",
              "    if (id != null && id in Bokeh.index) {\n",
              "      Bokeh.index[id].model.document.clear();\n",
              "      delete Bokeh.index[id];\n",
              "    }\n",
              "\n",
              "    if (server_id !== undefined) {\n",
              "      // Clean up Bokeh references\n",
              "      var cmd = \"from bokeh.io.state import curstate; print(curstate().uuid_to_server['\" + server_id + \"'].get_sessions()[0].document.roots[0]._id)\";\n",
              "      cell.notebook.kernel.execute(cmd, {\n",
              "        iopub: {\n",
              "          output: function(msg) {\n",
              "            var id = msg.content.text.trim();\n",
              "            if (id in Bokeh.index) {\n",
              "              Bokeh.index[id].model.document.clear();\n",
              "              delete Bokeh.index[id];\n",
              "            }\n",
              "          }\n",
              "        }\n",
              "      });\n",
              "      // Destroy server and session\n",
              "      var cmd = \"import bokeh.io.notebook as ion; ion.destroy_server('\" + server_id + \"')\";\n",
              "      cell.notebook.kernel.execute(cmd);\n",
              "    }\n",
              "  }\n",
              "\n",
              "  /**\n",
              "   * Handle when a new output is added\n",
              "   */\n",
              "  function handleAddOutput(event, handle) {\n",
              "    var output_area = handle.output_area;\n",
              "    var output = handle.output;\n",
              "\n",
              "    // limit handleAddOutput to display_data with EXEC_MIME_TYPE content only\n",
              "    if ((output.output_type != \"display_data\") || (!Object.prototype.hasOwnProperty.call(output.data, EXEC_MIME_TYPE))) {\n",
              "      return\n",
              "    }\n",
              "\n",
              "    var toinsert = output_area.element.find(\".\" + CLASS_NAME.split(' ')[0]);\n",
              "\n",
              "    if (output.metadata[EXEC_MIME_TYPE][\"id\"] !== undefined) {\n",
              "      toinsert[toinsert.length - 1].firstChild.textContent = output.data[JS_MIME_TYPE];\n",
              "      // store reference to embed id on output_area\n",
              "      output_area._bokeh_element_id = output.metadata[EXEC_MIME_TYPE][\"id\"];\n",
              "    }\n",
              "    if (output.metadata[EXEC_MIME_TYPE][\"server_id\"] !== undefined) {\n",
              "      var bk_div = document.createElement(\"div\");\n",
              "      bk_div.innerHTML = output.data[HTML_MIME_TYPE];\n",
              "      var script_attrs = bk_div.children[0].attributes;\n",
              "      for (var i = 0; i < script_attrs.length; i++) {\n",
              "        toinsert[toinsert.length - 1].firstChild.setAttribute(script_attrs[i].name, script_attrs[i].value);\n",
              "        toinsert[toinsert.length - 1].firstChild.textContent = bk_div.children[0].textContent\n",
              "      }\n",
              "      // store reference to server id on output_area\n",
              "      output_area._bokeh_server_id = output.metadata[EXEC_MIME_TYPE][\"server_id\"];\n",
              "    }\n",
              "  }\n",
              "\n",
              "  function register_renderer(events, OutputArea) {\n",
              "\n",
              "    function append_mime(data, metadata, element) {\n",
              "      // create a DOM node to render to\n",
              "      var toinsert = this.create_output_subarea(\n",
              "        metadata,\n",
              "        CLASS_NAME,\n",
              "        EXEC_MIME_TYPE\n",
              "      );\n",
              "      this.keyboard_manager.register_events(toinsert);\n",
              "      // Render to node\n",
              "      var props = {data: data, metadata: metadata[EXEC_MIME_TYPE]};\n",
              "      render(props, toinsert[toinsert.length - 1]);\n",
              "      element.append(toinsert);\n",
              "      return toinsert\n",
              "    }\n",
              "\n",
              "    /* Handle when an output is cleared or removed */\n",
              "    events.on('clear_output.CodeCell', handleClearOutput);\n",
              "    events.on('delete.Cell', handleClearOutput);\n",
              "\n",
              "    /* Handle when a new output is added */\n",
              "    events.on('output_added.OutputArea', handleAddOutput);\n",
              "\n",
              "    /**\n",
              "     * Register the mime type and append_mime function with output_area\n",
              "     */\n",
              "    OutputArea.prototype.register_mime_type(EXEC_MIME_TYPE, append_mime, {\n",
              "      /* Is output safe? */\n",
              "      safe: true,\n",
              "      /* Index of renderer in `output_area.display_order` */\n",
              "      index: 0\n",
              "    });\n",
              "  }\n",
              "\n",
              "  // register the mime type if in Jupyter Notebook environment and previously unregistered\n",
              "  if (root.Jupyter !== undefined) {\n",
              "    var events = require('base/js/events');\n",
              "    var OutputArea = require('notebook/js/outputarea').OutputArea;\n",
              "\n",
              "    if (OutputArea.prototype.mime_types().indexOf(EXEC_MIME_TYPE) == -1) {\n",
              "      register_renderer(events, OutputArea);\n",
              "    }\n",
              "  }\n",
              "\n",
              "  \n",
              "  if (typeof (root._bokeh_timeout) === \"undefined\" || force === true) {\n",
              "    root._bokeh_timeout = Date.now() + 5000;\n",
              "    root._bokeh_failed_load = false;\n",
              "  }\n",
              "\n",
              "  var NB_LOAD_WARNING = {'data': {'text/html':\n",
              "     \"<div style='background-color: #fdd'>\\n\"+\n",
              "     \"<p>\\n\"+\n",
              "     \"BokehJS does not appear to have successfully loaded. If loading BokehJS from CDN, this \\n\"+\n",
              "     \"may be due to a slow or bad network connection. Possible fixes:\\n\"+\n",
              "     \"</p>\\n\"+\n",
              "     \"<ul>\\n\"+\n",
              "     \"<li>re-rerun `output_notebook()` to attempt to load from CDN again, or</li>\\n\"+\n",
              "     \"<li>use INLINE resources instead, as so:</li>\\n\"+\n",
              "     \"</ul>\\n\"+\n",
              "     \"<code>\\n\"+\n",
              "     \"from bokeh.resources import INLINE\\n\"+\n",
              "     \"output_notebook(resources=INLINE)\\n\"+\n",
              "     \"</code>\\n\"+\n",
              "     \"</div>\"}};\n",
              "\n",
              "  function display_loaded() {\n",
              "    var el = document.getElementById(null);\n",
              "    if (el != null) {\n",
              "      el.textContent = \"BokehJS is loading...\";\n",
              "    }\n",
              "    if (root.Bokeh !== undefined) {\n",
              "      if (el != null) {\n",
              "        el.textContent = \"BokehJS \" + root.Bokeh.version + \" successfully loaded.\";\n",
              "      }\n",
              "    } else if (Date.now() < root._bokeh_timeout) {\n",
              "      setTimeout(display_loaded, 100)\n",
              "    }\n",
              "  }\n",
              "\n",
              "\n",
              "  function run_callbacks() {\n",
              "    try {\n",
              "      root._bokeh_onload_callbacks.forEach(function(callback) {\n",
              "        if (callback != null)\n",
              "          callback();\n",
              "      });\n",
              "    } finally {\n",
              "      delete root._bokeh_onload_callbacks\n",
              "    }\n",
              "    console.debug(\"Bokeh: all callbacks have finished\");\n",
              "  }\n",
              "\n",
              "  function load_libs(css_urls, js_urls, callback) {\n",
              "    if (css_urls == null) css_urls = [];\n",
              "    if (js_urls == null) js_urls = [];\n",
              "\n",
              "    root._bokeh_onload_callbacks.push(callback);\n",
              "    if (root._bokeh_is_loading > 0) {\n",
              "      console.debug(\"Bokeh: BokehJS is being loaded, scheduling callback at\", now());\n",
              "      return null;\n",
              "    }\n",
              "    if (js_urls == null || js_urls.length === 0) {\n",
              "      run_callbacks();\n",
              "      return null;\n",
              "    }\n",
              "    console.debug(\"Bokeh: BokehJS not loaded, scheduling load and callback at\", now());\n",
              "    root._bokeh_is_loading = css_urls.length + js_urls.length;\n",
              "\n",
              "    function on_load() {\n",
              "      root._bokeh_is_loading--;\n",
              "      if (root._bokeh_is_loading === 0) {\n",
              "        console.debug(\"Bokeh: all BokehJS libraries/stylesheets loaded\");\n",
              "        run_callbacks()\n",
              "      }\n",
              "    }\n",
              "\n",
              "    function on_error(url) {\n",
              "      console.error(\"failed to load \" + url);\n",
              "    }\n",
              "\n",
              "    for (let i = 0; i < css_urls.length; i++) {\n",
              "      const url = css_urls[i];\n",
              "      const element = document.createElement(\"link\");\n",
              "      element.onload = on_load;\n",
              "      element.onerror = on_error.bind(null, url);\n",
              "      element.rel = \"stylesheet\";\n",
              "      element.type = \"text/css\";\n",
              "      element.href = url;\n",
              "      console.debug(\"Bokeh: injecting link tag for BokehJS stylesheet: \", url);\n",
              "      document.body.appendChild(element);\n",
              "    }\n",
              "\n",
              "    const hashes = {\"https://cdn.bokeh.org/bokeh/release/bokeh-2.3.0.min.js\": \"HjagQp6T0/7bxYTAXbLotF1MLAGWmhkY5siA1Gc/pcEgvgRPtMsRn0gQtMwGKiw1\", \"https://cdn.bokeh.org/bokeh/release/bokeh-widgets-2.3.0.min.js\": \"ZEPPTjL+mdyqgIq+/pl9KTwzji8Kow2NnI3zWY8+sFinWP/SYJ80BnfeJsa45iYj\", \"https://cdn.bokeh.org/bokeh/release/bokeh-tables-2.3.0.min.js\": \"exLqv2ACDRIaV7ZK1iL8aGzGYQvKVuT3U2CT7FsQREBxRah6JrkVCoFy0koY1YqV\"};\n",
              "\n",
              "    for (let i = 0; i < js_urls.length; i++) {\n",
              "      const url = js_urls[i];\n",
              "      const element = document.createElement('script');\n",
              "      element.onload = on_load;\n",
              "      element.onerror = on_error.bind(null, url);\n",
              "      element.async = false;\n",
              "      element.src = url;\n",
              "      if (url in hashes) {\n",
              "        element.crossOrigin = \"anonymous\";\n",
              "        element.integrity = \"sha384-\" + hashes[url];\n",
              "      }\n",
              "      console.debug(\"Bokeh: injecting script tag for BokehJS library: \", url);\n",
              "      document.head.appendChild(element);\n",
              "    }\n",
              "  };\n",
              "\n",
              "  function inject_raw_css(css) {\n",
              "    const element = document.createElement(\"style\");\n",
              "    element.appendChild(document.createTextNode(css));\n",
              "    document.body.appendChild(element);\n",
              "  }\n",
              "\n",
              "  \n",
              "  var js_urls = [\"https://cdn.bokeh.org/bokeh/release/bokeh-2.3.0.min.js\", \"https://cdn.bokeh.org/bokeh/release/bokeh-widgets-2.3.0.min.js\", \"https://cdn.bokeh.org/bokeh/release/bokeh-tables-2.3.0.min.js\"];\n",
              "  var css_urls = [];\n",
              "  \n",
              "\n",
              "  var inline_js = [\n",
              "    function(Bokeh) {\n",
              "      Bokeh.set_log_level(\"info\");\n",
              "    },\n",
              "    function(Bokeh) {\n",
              "    \n",
              "    \n",
              "    }\n",
              "  ];\n",
              "\n",
              "  function run_inline_js() {\n",
              "    \n",
              "    if (root.Bokeh !== undefined || force === true) {\n",
              "      \n",
              "    for (var i = 0; i < inline_js.length; i++) {\n",
              "      inline_js[i].call(root, root.Bokeh);\n",
              "    }\n",
              "    } else if (Date.now() < root._bokeh_timeout) {\n",
              "      setTimeout(run_inline_js, 100);\n",
              "    } else if (!root._bokeh_failed_load) {\n",
              "      console.log(\"Bokeh: BokehJS failed to load within specified timeout.\");\n",
              "      root._bokeh_failed_load = true;\n",
              "    } else if (force !== true) {\n",
              "      var cell = $(document.getElementById(null)).parents('.cell').data().cell;\n",
              "      cell.output_area.append_execute_result(NB_LOAD_WARNING)\n",
              "    }\n",
              "\n",
              "  }\n",
              "\n",
              "  if (root._bokeh_is_loading === 0) {\n",
              "    console.debug(\"Bokeh: BokehJS loaded, going straight to plotting\");\n",
              "    run_inline_js();\n",
              "  } else {\n",
              "    load_libs(css_urls, js_urls, function() {\n",
              "      console.debug(\"Bokeh: BokehJS plotting callback run at\", now());\n",
              "      run_inline_js();\n",
              "    });\n",
              "  }\n",
              "}(window));"
            ],
            "application/vnd.bokehjs_load.v0+json": "\n(function(root) {\n  function now() {\n    return new Date();\n  }\n\n  var force = true;\n\n  if (typeof root._bokeh_onload_callbacks === \"undefined\" || force === true) {\n    root._bokeh_onload_callbacks = [];\n    root._bokeh_is_loading = undefined;\n  }\n\n  \n\n  \n  if (typeof (root._bokeh_timeout) === \"undefined\" || force === true) {\n    root._bokeh_timeout = Date.now() + 5000;\n    root._bokeh_failed_load = false;\n  }\n\n  var NB_LOAD_WARNING = {'data': {'text/html':\n     \"<div style='background-color: #fdd'>\\n\"+\n     \"<p>\\n\"+\n     \"BokehJS does not appear to have successfully loaded. If loading BokehJS from CDN, this \\n\"+\n     \"may be due to a slow or bad network connection. Possible fixes:\\n\"+\n     \"</p>\\n\"+\n     \"<ul>\\n\"+\n     \"<li>re-rerun `output_notebook()` to attempt to load from CDN again, or</li>\\n\"+\n     \"<li>use INLINE resources instead, as so:</li>\\n\"+\n     \"</ul>\\n\"+\n     \"<code>\\n\"+\n     \"from bokeh.resources import INLINE\\n\"+\n     \"output_notebook(resources=INLINE)\\n\"+\n     \"</code>\\n\"+\n     \"</div>\"}};\n\n  function display_loaded() {\n    var el = document.getElementById(null);\n    if (el != null) {\n      el.textContent = \"BokehJS is loading...\";\n    }\n    if (root.Bokeh !== undefined) {\n      if (el != null) {\n        el.textContent = \"BokehJS \" + root.Bokeh.version + \" successfully loaded.\";\n      }\n    } else if (Date.now() < root._bokeh_timeout) {\n      setTimeout(display_loaded, 100)\n    }\n  }\n\n\n  function run_callbacks() {\n    try {\n      root._bokeh_onload_callbacks.forEach(function(callback) {\n        if (callback != null)\n          callback();\n      });\n    } finally {\n      delete root._bokeh_onload_callbacks\n    }\n    console.debug(\"Bokeh: all callbacks have finished\");\n  }\n\n  function load_libs(css_urls, js_urls, callback) {\n    if (css_urls == null) css_urls = [];\n    if (js_urls == null) js_urls = [];\n\n    root._bokeh_onload_callbacks.push(callback);\n    if (root._bokeh_is_loading > 0) {\n      console.debug(\"Bokeh: BokehJS is being loaded, scheduling callback at\", now());\n      return null;\n    }\n    if (js_urls == null || js_urls.length === 0) {\n      run_callbacks();\n      return null;\n    }\n    console.debug(\"Bokeh: BokehJS not loaded, scheduling load and callback at\", now());\n    root._bokeh_is_loading = css_urls.length + js_urls.length;\n\n    function on_load() {\n      root._bokeh_is_loading--;\n      if (root._bokeh_is_loading === 0) {\n        console.debug(\"Bokeh: all BokehJS libraries/stylesheets loaded\");\n        run_callbacks()\n      }\n    }\n\n    function on_error(url) {\n      console.error(\"failed to load \" + url);\n    }\n\n    for (let i = 0; i < css_urls.length; i++) {\n      const url = css_urls[i];\n      const element = document.createElement(\"link\");\n      element.onload = on_load;\n      element.onerror = on_error.bind(null, url);\n      element.rel = \"stylesheet\";\n      element.type = \"text/css\";\n      element.href = url;\n      console.debug(\"Bokeh: injecting link tag for BokehJS stylesheet: \", url);\n      document.body.appendChild(element);\n    }\n\n    const hashes = {\"https://cdn.bokeh.org/bokeh/release/bokeh-2.3.0.min.js\": \"HjagQp6T0/7bxYTAXbLotF1MLAGWmhkY5siA1Gc/pcEgvgRPtMsRn0gQtMwGKiw1\", \"https://cdn.bokeh.org/bokeh/release/bokeh-widgets-2.3.0.min.js\": \"ZEPPTjL+mdyqgIq+/pl9KTwzji8Kow2NnI3zWY8+sFinWP/SYJ80BnfeJsa45iYj\", \"https://cdn.bokeh.org/bokeh/release/bokeh-tables-2.3.0.min.js\": \"exLqv2ACDRIaV7ZK1iL8aGzGYQvKVuT3U2CT7FsQREBxRah6JrkVCoFy0koY1YqV\"};\n\n    for (let i = 0; i < js_urls.length; i++) {\n      const url = js_urls[i];\n      const element = document.createElement('script');\n      element.onload = on_load;\n      element.onerror = on_error.bind(null, url);\n      element.async = false;\n      element.src = url;\n      if (url in hashes) {\n        element.crossOrigin = \"anonymous\";\n        element.integrity = \"sha384-\" + hashes[url];\n      }\n      console.debug(\"Bokeh: injecting script tag for BokehJS library: \", url);\n      document.head.appendChild(element);\n    }\n  };\n\n  function inject_raw_css(css) {\n    const element = document.createElement(\"style\");\n    element.appendChild(document.createTextNode(css));\n    document.body.appendChild(element);\n  }\n\n  \n  var js_urls = [\"https://cdn.bokeh.org/bokeh/release/bokeh-2.3.0.min.js\", \"https://cdn.bokeh.org/bokeh/release/bokeh-widgets-2.3.0.min.js\", \"https://cdn.bokeh.org/bokeh/release/bokeh-tables-2.3.0.min.js\"];\n  var css_urls = [];\n  \n\n  var inline_js = [\n    function(Bokeh) {\n      Bokeh.set_log_level(\"info\");\n    },\n    function(Bokeh) {\n    \n    \n    }\n  ];\n\n  function run_inline_js() {\n    \n    if (root.Bokeh !== undefined || force === true) {\n      \n    for (var i = 0; i < inline_js.length; i++) {\n      inline_js[i].call(root, root.Bokeh);\n    }\n    } else if (Date.now() < root._bokeh_timeout) {\n      setTimeout(run_inline_js, 100);\n    } else if (!root._bokeh_failed_load) {\n      console.log(\"Bokeh: BokehJS failed to load within specified timeout.\");\n      root._bokeh_failed_load = true;\n    } else if (force !== true) {\n      var cell = $(document.getElementById(null)).parents('.cell').data().cell;\n      cell.output_area.append_execute_result(NB_LOAD_WARNING)\n    }\n\n  }\n\n  if (root._bokeh_is_loading === 0) {\n    console.debug(\"Bokeh: BokehJS loaded, going straight to plotting\");\n    run_inline_js();\n  } else {\n    load_libs(css_urls, js_urls, function() {\n      console.debug(\"Bokeh: BokehJS plotting callback run at\", now());\n      run_inline_js();\n    });\n  }\n}(window));"
          },
          "metadata": {
            "tags": []
          }
        },
        {
          "output_type": "display_data",
          "data": {
            "text/html": [
              "\n",
              "\n",
              "\n",
              "\n",
              "\n",
              "\n",
              "  <div class=\"bk-root\" id=\"43b03227-b550-4e9b-84c1-e5585100438a\" data-root-id=\"1092\"></div>\n"
            ]
          },
          "metadata": {
            "tags": []
          }
        },
        {
          "output_type": "display_data",
          "data": {
            "application/javascript": [
              "(function(root) {\n",
              "  function embed_document(root) {\n",
              "    \n",
              "  var docs_json = {\"fca363ea-663b-46dc-a6ad-787ab42135f4\":{\"defs\":[{\"extends\":null,\"module\":null,\"name\":\"DataModel\",\"overrides\":[],\"properties\":[]}],\"roots\":{\"references\":[{\"attributes\":{\"below\":[{\"id\":\"1103\"}],\"center\":[{\"id\":\"1106\"},{\"id\":\"1110\"},{\"id\":\"1126\"}],\"left\":[{\"id\":\"1107\"}],\"renderers\":[{\"id\":\"1124\"}],\"title\":{\"id\":\"1093\"},\"toolbar\":{\"id\":\"1115\"},\"toolbar_location\":\"above\",\"x_range\":{\"id\":\"1095\"},\"x_scale\":{\"id\":\"1099\"},\"y_range\":{\"id\":\"1097\"},\"y_scale\":{\"id\":\"1101\"}},\"id\":\"1092\",\"subtype\":\"Figure\",\"type\":\"Plot\"},{\"attributes\":{},\"id\":\"1097\",\"type\":\"DataRange1d\"},{\"attributes\":{},\"id\":\"1099\",\"type\":\"LinearScale\"},{\"attributes\":{},\"id\":\"1112\",\"type\":\"WheelZoomTool\"},{\"attributes\":{},\"id\":\"1144\",\"type\":\"UnionRenderers\"},{\"attributes\":{},\"id\":\"1101\",\"type\":\"LinearScale\"},{\"attributes\":{},\"id\":\"1145\",\"type\":\"Selection\"},{\"attributes\":{\"formatter\":{\"id\":\"1139\"},\"major_label_policy\":{\"id\":\"1140\"},\"ticker\":{\"id\":\"1104\"}},\"id\":\"1103\",\"type\":\"LinearAxis\"},{\"attributes\":{},\"id\":\"1108\",\"type\":\"BasicTicker\"},{\"attributes\":{},\"id\":\"1104\",\"type\":\"BasicTicker\"},{\"attributes\":{},\"id\":\"1142\",\"type\":\"BasicTickFormatter\"},{\"attributes\":{\"axis\":{\"id\":\"1103\"},\"ticker\":null},\"id\":\"1106\",\"type\":\"Grid\"},{\"attributes\":{\"source\":{\"id\":\"1120\"},\"text\":{\"field\":\"names\"},\"text_align\":{\"value\":\"center\"},\"text_color\":{\"value\":\"#555555\"},\"text_font_size\":{\"value\":\"8pt\"},\"x\":{\"field\":\"x1\"},\"y\":{\"field\":\"x2\"},\"y_offset\":{\"value\":6}},\"id\":\"1126\",\"type\":\"LabelSet\"},{\"attributes\":{\"data\":{\"color\":[\"#00ff00\",\"#00ff00\",\"#00ff00\",\"#00ff00\",\"#00ff00\",\"#00ff00\",\"#00ff00\",\"#00ff00\",\"#00ff00\",\"#00ff00\",\"#00ff00\",\"#00ff00\",\"#00ff00\",\"#00ff00\",\"#00ff00\",\"#00ffff\",\"#00ff00\",\"#00ff00\",\"#00ff00\",\"#00ff00\",\"#00ff00\",\"#00ff00\",\"#00ff00\",\"#00ff00\",\"#00ffff\",\"#00ff00\",\"#00ffff\",\"#00ff00\",\"#00ff00\",\"#00ff00\",\"#00ff00\",\"#00ff00\",\"#00ff00\",\"#00ff00\",\"#00ff00\",\"#00ff00\",\"#00ffff\",\"#00ff00\",\"#00ff00\",\"#00ff00\",\"#00ff00\",\"#00ffff\",\"#00ff00\",\"#00ff00\",\"#00ff00\",\"#00ff00\",\"#00ff00\",\"#00ff00\",\"#00ff00\",\"#00ff00\",\"#00ff00\",\"#00ff00\",\"#00ff00\",\"#00ffff\",\"#00ff00\",\"#00ff00\",\"#00ff00\",\"#00ff00\",\"#00ffff\",\"#00ff00\",\"#00ffff\",\"#00ffff\",\"#00ff00\",\"#00ffff\",\"#000000\",\"#00ff00\",\"#00ff00\",\"#000000\",\"#00ff00\",\"#00ff00\",\"#00ff00\",\"#00ff00\",\"#00ff00\",\"#00ff00\",\"#00ff00\",\"#00ff00\",\"#00ff00\",\"#00ff00\",\"#00ff00\",\"#00ff00\",\"#00ffff\",\"#00ff00\",\"#00ff00\",\"#00ff00\",\"#00ffff\",\"#00ff00\",\"#00ff00\",\"#00ff00\",\"#00ff00\",\"#00ff00\",\"#00ff00\",\"#00ff00\",\"#00ff00\",\"#00ff00\",\"#00ff00\",\"#00ff00\",\"#00ff00\",\"#000000\",\"#00ff00\",\"#00ffff\",\"#00ff00\",\"#00ff00\",\"#00ff00\",\"#00ff00\",\"#00ff00\",\"#00ff00\",\"#00ff00\",\"#00ff00\",\"#00ff00\",\"#00ff00\",\"#00ff00\",\"#00ff00\",\"#00ff00\",\"#00ff00\",\"#00ff00\",\"#00ff00\",\"#00ff00\",\"#00ffff\",\"#00ff00\",\"#000000\",\"#00ffff\",\"#00ffff\",\"#00ff00\",\"#00ff00\",\"#00ff00\",\"#00ff00\",\"#00ff00\",\"#00ff00\",\"#00ffff\",\"#00ff00\",\"#00ff00\",\"#00ff00\",\"#00ff00\",\"#00ff00\",\"#00ff00\",\"#00ff00\",\"#00ff00\",\"#00ff00\",\"#00ff00\",\"#00ffff\",\"#00ff00\",\"#00ff00\",\"#00ff00\",\"#000000\",\"#00ff00\",\"#00ffff\",\"#00ff00\",\"#00ff00\",\"#000000\",\"#00ff00\",\"#00ff00\",\"#00ff00\",\"#00ff00\",\"#00ff00\",\"#00ff00\",\"#00ff00\",\"#00ff00\",\"#00ffff\",\"#00ff00\",\"#00ff00\",\"#00ff00\",\"#00ff00\",\"#00ff00\",\"#00ff00\",\"#00ff00\",\"#00ff00\",\"#00ff00\",\"#00ffff\",\"#000000\",\"#00ff00\",\"#00ff00\",\"#00ffff\",\"#00ff00\",\"#00ff00\",\"#00ff00\",\"#000000\",\"#00ff00\",\"#00ff00\",\"#00ff00\",\"#00ff00\",\"#00ffff\",\"#00ffff\",\"#00ff00\",\"#00ff00\",\"#00ff00\",\"#00ff00\",\"#00ff00\",\"#00ff00\",\"#00ff00\",\"#00ffff\",\"#00ff00\",\"#00ff00\",\"#00ff00\",\"#00ff00\",\"#00ff00\",\"#00ff00\",\"#00ff00\",\"#00ff00\",\"#00ff00\",\"#00ff00\",\"#00ff00\",\"#00ffff\",\"#00ffff\",\"#00ffff\",\"#000000\",\"#00ff00\",\"#00ff00\",\"#000000\",\"#00ff00\",\"#00ff00\",\"#00ffff\",\"#000000\",\"#00ff00\",\"#00ff00\",\"#00ff00\",\"#00ff00\",\"#00ff00\",\"#00ff00\",\"#00ff00\",\"#00ff00\",\"#00ffff\",\"#00ff00\",\"#00ff00\",\"#00ff00\",\"#00ff00\",\"#00ff00\",\"#00ff00\",\"#00ffff\",\"#00ff00\",\"#00ff00\",\"#00ff00\",\"#00ff00\",\"#00ffff\",\"#00ff00\",\"#00ff00\",\"#00ff00\",\"#00ff00\",\"#00ffff\",\"#000000\",\"#00ffff\",\"#00ff00\",\"#00ff00\",\"#00ff00\",\"#00ff00\",\"#00ff00\",\"#00ffff\",\"#00ff00\",\"#00ffff\",\"#00ff00\",\"#00ff00\",\"#00ff00\",\"#00ff00\",\"#000000\",\"#00ff00\",\"#00ff00\",\"#00ff00\",\"#000000\",\"#00ff00\",\"#00ff00\",\"#00ff00\",\"#00ffff\",\"#00ff00\",\"#00ff00\",\"#00ffff\",\"#00ff00\",\"#00ff00\",\"#00ff00\",\"#000000\",\"#00ff00\",\"#00ff00\",\"#00ff00\",\"#00ff00\",\"#00ff00\",\"#00ff00\",\"#00ff00\",\"#00ff00\",\"#00ff00\",\"#00ff00\",\"#00ffff\",\"#00ff00\",\"#00ff00\",\"#00ff00\",\"#00ff00\",\"#00ff00\",\"#00ff00\",\"#000000\",\"#00ff00\",\"#00ff00\",\"#00ff00\",\"#00ff00\",\"#00ff00\",\"#00ff00\",\"#00ff00\",\"#00ff00\",\"#00ff00\",\"#00ff00\",\"#00ff00\",\"#00ff00\",\"#00ffff\",\"#00ff00\",\"#00ff00\",\"#00ff00\",\"#00ff00\",\"#00ff00\",\"#00ff00\",\"#00ff00\",\"#00ff00\",\"#00ff00\",\"#00ff00\",\"#000000\",\"#00ff00\",\"#00ff00\",\"#00ff00\",\"#00ff00\",\"#00ff00\",\"#000000\",\"#00ff00\",\"#000000\",\"#00ff00\",\"#00ff00\",\"#00ff00\",\"#00ffff\",\"#00ff00\",\"#000000\",\"#00ff00\",\"#00ff00\",\"#00ff00\",\"#00ff00\",\"#00ff00\",\"#000000\",\"#00ff00\",\"#00ff00\",\"#00ff00\",\"#00ff00\",\"#00ff00\",\"#00ff00\",\"#00ff00\",\"#00ff00\",\"#00ff00\",\"#00ff00\",\"#00ff00\",\"#00ff00\",\"#00ff00\",\"#00ff00\",\"#00ff00\",\"#00ff00\",\"#00ff00\",\"#00ffff\",\"#00ff00\",\"#00ffff\",\"#00ffff\",\"#00ff00\",\"#00ffff\",\"#00ff00\",\"#00ff00\",\"#00ff00\",\"#00ff00\",\"#00ffff\",\"#00ffff\",\"#00ff00\",\"#00ffff\",\"#00ff00\",\"#00ff00\",\"#000000\",\"#00ff00\",\"#00ffff\",\"#00ff00\",\"#00ffff\",\"#00ffff\",\"#00ff00\",\"#00ff00\",\"#00ff00\",\"#00ff00\",\"#00ff00\",\"#00ff00\",\"#00ff00\",\"#00ff00\",\"#00ff00\",\"#00ff00\",\"#00ffff\",\"#00ffff\",\"#00ff00\",\"#00ffff\",\"#00ff00\",\"#00ff00\",\"#00ffff\",\"#00ffff\",\"#00ff00\",\"#00ff00\",\"#000000\",\"#00ff00\",\"#000000\",\"#00ffff\",\"#00ffff\",\"#00ffff\",\"#00ff00\",\"#00ff00\",\"#00ff00\",\"#00ff00\",\"#00ff00\",\"#00ff00\",\"#00ff00\",\"#00ffff\",\"#00ff00\",\"#00ff00\",\"#00ff00\",\"#00ff00\",\"#00ff00\",\"#000000\",\"#00ff00\",\"#00ff00\",\"#00ff00\",\"#00ff00\",\"#00ffff\",\"#00ff00\",\"#00ff00\",\"#00ff00\",\"#00ff00\",\"#00ff00\",\"#00ff00\",\"#00ff00\",\"#00ff00\",\"#00ff00\",\"#00ff00\",\"#00ff00\",\"#00ff00\",\"#00ff00\",\"#00ff00\",\"#00ff00\",\"#000000\",\"#000000\",\"#00ff00\",\"#000000\",\"#00ff00\",\"#00ff00\",\"#00ff00\",\"#00ff00\",\"#00ff00\",\"#00ff00\",\"#00ff00\",\"#00ff00\",\"#00ff00\",\"#00ffff\",\"#00ffff\",\"#00ff00\",\"#00ffff\",\"#00ff00\",\"#00ff00\",\"#00ff00\",\"#00ff00\",\"#00ff00\",\"#00ff00\",\"#00ff00\",\"#00ff00\",\"#00ff00\",\"#00ff00\",\"#00ff00\",\"#00ff00\",\"#00ff00\",\"#00ff00\",\"#00ff00\",\"#00ff00\",\"#00ff00\",\"#00ff00\",\"#00ff00\",\"#00ff00\",\"#00ff00\",\"#00ff00\",\"#00ff00\",\"#00ff00\",\"#00ff00\",\"#00ff00\",\"#00ff00\",\"#00ff00\",\"#000000\",\"#00ff00\",\"#00ff00\",\"#00ff00\",\"#00ff00\",\"#000000\",\"#00ff00\",\"#00ff00\",\"#00ffff\",\"#00ff00\",\"#00ff00\",\"#00ff00\",\"#00ff00\",\"#00ff00\",\"#000000\",\"#00ff00\",\"#00ff00\",\"#00ff00\",\"#00ff00\",\"#00ff00\",\"#00ff00\",\"#00ff00\",\"#00ff00\",\"#00ff00\",\"#000000\",\"#00ff00\",\"#00ff00\",\"#00ff00\",\"#00ff00\",\"#00ff00\",\"#00ff00\",\"#000000\",\"#00ff00\",\"#00ff00\",\"#00ff00\",\"#00ff00\",\"#00ff00\",\"#00ff00\",\"#00ff00\",\"#00ff00\",\"#00ff00\",\"#00ff00\",\"#00ff00\",\"#00ff00\",\"#00ffff\",\"#00ff00\",\"#00ff00\",\"#00ff00\",\"#00ff00\",\"#00ff00\",\"#00ff00\",\"#00ff00\",\"#00ff00\",\"#00ff00\",\"#00ff00\",\"#00ff00\",\"#00ff00\",\"#00ff00\",\"#00ff00\",\"#000000\",\"#00ff00\",\"#00ffff\",\"#00ff00\",\"#00ffff\",\"#00ff00\",\"#000000\",\"#00ff00\",\"#00ff00\",\"#00ff00\",\"#00ff00\",\"#00ff00\",\"#00ff00\",\"#00ffff\",\"#000000\",\"#000000\",\"#00ff00\",\"#00ff00\",\"#00ff00\",\"#00ff00\",\"#00ff00\",\"#00ff00\",\"#00ff00\",\"#00ff00\",\"#00ffff\",\"#000000\",\"#00ff00\",\"#00ff00\",\"#000000\",\"#00ff00\",\"#00ff00\",\"#00ff00\",\"#00ff00\",\"#00ffff\",\"#00ff00\",\"#00ff00\",\"#00ff00\",\"#00ff00\",\"#00ff00\",\"#00ffff\",\"#00ff00\",\"#00ff00\",\"#00ff00\",\"#00ff00\",\"#00ff00\",\"#00ff00\",\"#00ffff\",\"#00ff00\",\"#00ff00\",\"#00ff00\",\"#00ff00\",\"#00ff00\",\"#00ff00\",\"#00ff00\",\"#00ffff\",\"#00ff00\",\"#00ff00\",\"#00ffff\",\"#00ff00\",\"#00ff00\",\"#00ff00\",\"#000000\",\"#00ff00\",\"#00ff00\",\"#00ff00\",\"#00ff00\",\"#00ff00\",\"#00ff00\",\"#00ffff\",\"#00ff00\",\"#00ffff\",\"#00ff00\",\"#00ff00\",\"#00ff00\",\"#00ff00\",\"#00ff00\",\"#00ffff\",\"#00ffff\",\"#00ff00\",\"#00ff00\",\"#00ff00\",\"#00ff00\",\"#00ff00\",\"#00ff00\",\"#00ffff\",\"#00ff00\",\"#00ff00\",\"#00ff00\",\"#00ff00\",\"#000000\",\"#00ff00\",\"#00ff00\",\"#00ffff\",\"#00ff00\",\"#00ffff\",\"#00ff00\",\"#000000\",\"#00ff00\",\"#00ff00\",\"#00ff00\",\"#00ff00\",\"#00ff00\",\"#00ff00\",\"#00ff00\",\"#00ff00\",\"#00ff00\",\"#00ff00\",\"#00ff00\",\"#00ff00\",\"#00ff00\",\"#00ff00\",\"#00ff00\",\"#00ff00\",\"#00ff00\",\"#00ff00\",\"#00ff00\",\"#00ff00\",\"#00ff00\",\"#00ff00\",\"#00ff00\",\"#00ff00\",\"#00ff00\",\"#00ff00\",\"#00ff00\",\"#00ff00\",\"#00ff00\",\"#00ffff\",\"#00ff00\",\"#00ff00\",\"#00ff00\",\"#00ffff\",\"#00ff00\",\"#00ff00\",\"#000000\",\"#00ffff\",\"#000000\",\"#00ff00\",\"#00ff00\",\"#00ff00\",\"#00ff00\",\"#00ff00\",\"#00ff00\",\"#00ff00\",\"#00ff00\",\"#00ff00\",\"#00ff00\",\"#00ffff\",\"#00ff00\",\"#000000\",\"#00ff00\",\"#00ff00\",\"#00ff00\",\"#000000\",\"#00ff00\",\"#000000\",\"#00ff00\",\"#00ff00\",\"#00ff00\",\"#00ff00\",\"#00ff00\",\"#00ff00\",\"#00ff00\",\"#00ff00\",\"#00ff00\",\"#000000\",\"#00ff00\",\"#00ffff\",\"#000000\",\"#00ff00\",\"#00ff00\",\"#00ff00\",\"#00ff00\",\"#00ff00\",\"#00ff00\",\"#00ff00\",\"#00ff00\",\"#00ff00\",\"#00ff00\",\"#00ff00\",\"#000000\",\"#00ff00\",\"#00ffff\",\"#00ff00\",\"#00ffff\",\"#00ff00\",\"#00ff00\",\"#00ffff\",\"#00ff00\",\"#00ff00\",\"#00ff00\",\"#00ff00\",\"#00ff00\",\"#00ff00\",\"#000000\",\"#00ff00\",\"#00ff00\",\"#00ff00\",\"#00ff00\",\"#00ffff\",\"#00ff00\",\"#00ff00\",\"#00ff00\",\"#00ff00\",\"#00ff00\",\"#00ff00\",\"#00ff00\",\"#00ff00\",\"#00ff00\",\"#00ff00\",\"#00ff00\",\"#00ff00\",\"#00ff00\",\"#00ff00\",\"#00ff00\",\"#00ff00\",\"#00ff00\",\"#00ff00\",\"#00ff00\",\"#000000\",\"#00ff00\",\"#00ff00\",\"#00ff00\",\"#00ff00\",\"#00ff00\",\"#00ffff\",\"#000000\",\"#00ff00\",\"#00ff00\",\"#00ff00\",\"#00ff00\",\"#00ff00\",\"#00ff00\",\"#00ff00\",\"#000000\",\"#00ff00\",\"#00ff00\",\"#00ff00\",\"#00ff00\",\"#00ff00\",\"#000000\",\"#00ff00\",\"#00ff00\",\"#00ff00\",\"#00ff00\",\"#00ff00\",\"#00ff00\",\"#00ff00\",\"#00ff00\",\"#00ffff\",\"#00ff00\",\"#00ff00\",\"#00ff00\",\"#000000\",\"#00ff00\",\"#00ff00\",\"#00ff00\",\"#00ff00\",\"#00ff00\",\"#00ff00\",\"#00ff00\",\"#00ff00\",\"#00ff00\",\"#00ff00\",\"#00ff00\",\"#00ffff\",\"#00ff00\",\"#00ff00\",\"#00ff00\",\"#00ff00\",\"#00ff00\",\"#00ff00\",\"#00ff00\",\"#00ff00\",\"#00ff00\",\"#00ff00\",\"#00ff00\",\"#000000\",\"#00ff00\",\"#00ff00\",\"#00ff00\",\"#00ffff\",\"#00ff00\",\"#00ff00\",\"#000000\",\"#00ff00\",\"#00ff00\",\"#00ff00\",\"#00ff00\",\"#00ff00\",\"#00ffff\",\"#00ff00\",\"#00ff00\",\"#00ff00\",\"#00ffff\",\"#00ff00\",\"#000000\",\"#00ff00\",\"#000000\",\"#00ff00\",\"#00ff00\",\"#00ff00\",\"#00ff00\",\"#00ff00\",\"#00ff00\",\"#00ff00\",\"#00ff00\",\"#00ff00\",\"#00ff00\",\"#00ffff\",\"#00ff00\",\"#00ffff\",\"#00ff00\",\"#00ff00\",\"#00ff00\",\"#00ff00\",\"#00ff00\",\"#00ff00\",\"#00ff00\",\"#00ff00\",\"#00ff00\",\"#00ff00\",\"#00ff00\",\"#00ff00\",\"#00ff00\",\"#00ff00\",\"#00ff00\",\"#00ff00\",\"#00ff00\",\"#00ffff\",\"#000000\",\"#00ff00\",\"#00ff00\",\"#00ff00\",\"#00ff00\",\"#000000\",\"#000000\",\"#00ff00\",\"#00ff00\",\"#00ff00\",\"#00ffff\",\"#00ff00\",\"#00ff00\",\"#00ff00\",\"#00ff00\",\"#00ff00\",\"#00ff00\",\"#00ff00\",\"#00ff00\",\"#00ff00\",\"#00ff00\",\"#00ff00\",\"#00ff00\",\"#00ff00\",\"#00ff00\",\"#00ff00\",\"#00ffff\",\"#00ff00\",\"#00ff00\",\"#00ff00\",\"#00ff00\",\"#00ffff\",\"#00ff00\",\"#00ff00\",\"#00ff00\",\"#00ff00\",\"#00ff00\",\"#00ff00\",\"#000000\",\"#000000\",\"#00ff00\",\"#00ff00\",\"#00ff00\",\"#00ff00\",\"#00ff00\",\"#00ff00\",\"#00ff00\",\"#00ff00\",\"#00ff00\",\"#00ff00\",\"#00ff00\",\"#00ff00\",\"#00ff00\",\"#00ff00\",\"#00ff00\",\"#00ff00\",\"#00ff00\",\"#000000\",\"#00ff00\",\"#00ff00\",\"#000000\",\"#00ff00\",\"#00ff00\",\"#00ff00\",\"#00ff00\",\"#00ffff\",\"#00ff00\",\"#00ff00\",\"#00ff00\",\"#00ffff\",\"#000000\",\"#00ff00\",\"#00ffff\",\"#00ffff\",\"#00ff00\",\"#00ff00\",\"#000000\",\"#000000\",\"#00ffff\",\"#000000\",\"#00ff00\",\"#00ff00\",\"#00ff00\",\"#00ff00\",\"#00ffff\",\"#00ff00\",\"#00ff00\",\"#00ff00\",\"#00ff00\",\"#00ff00\",\"#00ff00\",\"#00ffff\",\"#000000\",\"#00ff00\",\"#000000\",\"#000000\",\"#00ffff\",\"#00ff00\",\"#00ff00\",\"#00ff00\",\"#00ff00\",\"#00ffff\",\"#00ff00\",\"#00ff00\",\"#00ff00\",\"#00ffff\",\"#00ff00\",\"#00ff00\",\"#00ff00\",\"#00ffff\",\"#00ff00\",\"#00ff00\",\"#00ff00\",\"#00ff00\",\"#00ff00\",\"#00ff00\",\"#00ff00\",\"#00ff00\",\"#00ff00\",\"#00ff00\",\"#000000\",\"#00ff00\",\"#00ff00\",\"#00ff00\",\"#00ff00\",\"#000000\",\"#00ff00\",\"#00ff00\",\"#00ff00\",\"#00ff00\",\"#00ff00\",\"#000000\",\"#00ffff\",\"#00ff00\",\"#00ff00\",\"#00ff00\",\"#00ff00\",\"#00ff00\",\"#00ff00\",\"#00ff00\",\"#00ff00\",\"#00ff00\",\"#00ff00\",\"#00ff00\",\"#00ff00\",\"#000000\",\"#00ff00\",\"#00ff00\",\"#00ff00\",\"#00ff00\",\"#00ff00\",\"#00ff00\",\"#00ff00\",\"#00ff00\",\"#00ff00\",\"#00ff00\",\"#00ffff\",\"#00ff00\",\"#00ffff\",\"#00ff00\",\"#000000\",\"#00ff00\",\"#00ffff\",\"#00ff00\",\"#00ff00\",\"#00ff00\",\"#00ff00\",\"#00ffff\",\"#00ff00\",\"#00ff00\",\"#00ff00\",\"#00ff00\",\"#00ff00\",\"#00ff00\",\"#00ff00\",\"#00ff00\",\"#00ff00\",\"#00ff00\",\"#00ffff\",\"#00ff00\",\"#00ff00\",\"#00ff00\",\"#00ff00\",\"#00ff00\",\"#00ff00\",\"#00ff00\",\"#000000\",\"#00ff00\",\"#00ff00\",\"#00ff00\",\"#00ffff\",\"#00ff00\",\"#00ff00\",\"#00ff00\",\"#00ff00\",\"#00ffff\",\"#000000\",\"#00ff00\",\"#00ff00\",\"#00ff00\",\"#00ff00\",\"#00ff00\",\"#00ff00\",\"#00ff00\",\"#00ff00\",\"#00ff00\",\"#00ffff\",\"#00ffff\",\"#00ff00\",\"#00ff00\",\"#00ff00\",\"#00ff00\",\"#000000\",\"#00ff00\",\"#00ff00\",\"#00ff00\",\"#00ff00\",\"#00ffff\",\"#000000\",\"#00ff00\",\"#00ff00\",\"#00ff00\",\"#00ff00\",\"#00ff00\",\"#00ff00\",\"#00ff00\",\"#00ff00\",\"#00ff00\",\"#00ff00\",\"#00ff00\",\"#000000\",\"#00ff00\",\"#00ff00\",\"#00ff00\",\"#00ff00\",\"#00ff00\",\"#00ff00\",\"#00ff00\",\"#00ff00\",\"#00ff00\",\"#000000\",\"#00ffff\",\"#00ff00\",\"#00ff00\",\"#00ffff\",\"#00ff00\",\"#00ffff\",\"#00ff00\",\"#00ff00\",\"#00ff00\",\"#00ff00\",\"#000000\",\"#00ff00\",\"#00ff00\",\"#00ff00\",\"#00ff00\",\"#00ffff\",\"#00ff00\",\"#00ff00\",\"#00ff00\",\"#000000\",\"#00ff00\",\"#00ff00\",\"#00ff00\",\"#00ff00\",\"#00ff00\",\"#00ffff\",\"#00ff00\",\"#00ff00\",\"#00ff00\",\"#00ff00\",\"#00ff00\",\"#00ff00\",\"#00ff00\",\"#00ff00\",\"#00ff00\",\"#00ff00\",\"#00ff00\",\"#00ff00\",\"#00ff00\",\"#00ffff\",\"#00ff00\",\"#00ff00\",\"#00ff00\",\"#00ff00\",\"#00ff00\",\"#00ff00\",\"#00ff00\",\"#00ff00\",\"#00ff00\",\"#000000\",\"#000000\",\"#00ff00\",\"#00ff00\",\"#00ff00\",\"#00ff00\",\"#00ff00\",\"#00ff00\",\"#00ff00\",\"#00ff00\",\"#00ff00\",\"#00ff00\",\"#00ff00\",\"#00ff00\",\"#00ffff\",\"#00ff00\",\"#00ff00\",\"#00ff00\",\"#00ffff\",\"#00ff00\",\"#00ff00\",\"#00ffff\",\"#00ff00\",\"#000000\",\"#00ffff\",\"#00ffff\",\"#00ff00\",\"#00ff00\",\"#00ff00\",\"#00ff00\",\"#00ff00\",\"#00ff00\",\"#00ff00\",\"#00ff00\",\"#00ff00\",\"#00ff00\",\"#000000\",\"#00ff00\",\"#00ff00\",\"#00ff00\",\"#00ff00\",\"#000000\",\"#00ff00\",\"#00ffff\",\"#00ff00\",\"#000000\",\"#00ff00\",\"#00ff00\",\"#00ff00\",\"#00ff00\",\"#00ffff\",\"#00ff00\",\"#00ff00\",\"#00ff00\",\"#00ff00\",\"#00ff00\",\"#00ff00\",\"#00ff00\",\"#00ff00\",\"#000000\",\"#00ff00\",\"#00ffff\",\"#00ff00\",\"#00ff00\",\"#00ff00\",\"#00ff00\",\"#00ff00\",\"#00ff00\",\"#00ff00\",\"#00ff00\",\"#00ff00\",\"#00ff00\",\"#00ff00\",\"#00ff00\",\"#00ff00\",\"#000000\",\"#00ff00\",\"#00ff00\",\"#00ff00\",\"#00ff00\",\"#00ff00\",\"#00ff00\",\"#00ff00\",\"#00ff00\",\"#00ff00\",\"#00ffff\",\"#00ff00\",\"#00ff00\",\"#00ffff\",\"#00ff00\",\"#00ff00\",\"#00ffff\",\"#000000\",\"#00ff00\",\"#00ff00\",\"#00ff00\",\"#00ff00\",\"#00ff00\",\"#00ff00\",\"#00ff00\",\"#00ff00\",\"#00ff00\",\"#00ff00\",\"#00ff00\",\"#00ff00\",\"#00ff00\",\"#00ffff\",\"#00ffff\",\"#00ff00\",\"#00ff00\",\"#00ff00\",\"#00ff00\",\"#00ff00\",\"#00ff00\",\"#00ff00\",\"#00ff00\",\"#00ffff\",\"#00ff00\",\"#00ff00\",\"#00ff00\",\"#00ff00\",\"#00ff00\",\"#00ff00\",\"#00ff00\",\"#00ff00\",\"#000000\",\"#00ff00\",\"#00ff00\",\"#00ff00\",\"#00ffff\",\"#000000\",\"#00ff00\",\"#00ff00\",\"#00ff00\",\"#00ff00\",\"#00ff00\",\"#00ff00\",\"#00ff00\",\"#00ff00\",\"#00ff00\",\"#00ff00\",\"#00ffff\",\"#00ffff\",\"#00ff00\",\"#00ff00\",\"#00ff00\",\"#00ff00\",\"#00ff00\",\"#00ff00\",\"#00ff00\",\"#00ff00\",\"#00ff00\",\"#00ff00\",\"#00ff00\",\"#00ff00\",\"#00ff00\",\"#00ffff\",\"#00ffff\",\"#00ff00\",\"#00ff00\",\"#00ff00\",\"#00ff00\",\"#00ff00\",\"#000000\",\"#000000\",\"#00ff00\",\"#00ff00\",\"#00ff00\",\"#000000\",\"#00ff00\",\"#00ff00\",\"#00ff00\",\"#00ff00\",\"#00ff00\",\"#00ff00\",\"#00ff00\",\"#00ff00\",\"#00ff00\",\"#00ff00\",\"#00ff00\",\"#00ff00\",\"#00ff00\",\"#00ffff\",\"#00ffff\",\"#00ff00\",\"#00ff00\",\"#000000\",\"#00ff00\",\"#00ff00\",\"#00ff00\",\"#00ff00\",\"#00ff00\",\"#00ffff\",\"#00ffff\",\"#00ff00\",\"#00ffff\",\"#00ff00\",\"#00ff00\",\"#00ff00\",\"#00ff00\",\"#00ff00\",\"#00ff00\",\"#00ff00\",\"#00ff00\",\"#00ff00\",\"#00ff00\",\"#00ff00\",\"#00ff00\",\"#00ff00\",\"#00ff00\",\"#00ff00\",\"#00ff00\",\"#00ff00\",\"#00ffff\",\"#00ff00\",\"#00ff00\",\"#00ff00\",\"#00ff00\",\"#00ff00\",\"#00ff00\",\"#00ff00\",\"#00ff00\",\"#000000\",\"#00ff00\",\"#00ff00\",\"#00ff00\",\"#00ff00\",\"#00ff00\",\"#00ff00\",\"#000000\",\"#00ff00\",\"#00ff00\",\"#00ff00\",\"#00ff00\",\"#00ff00\",\"#00ff00\",\"#00ff00\",\"#00ff00\",\"#00ff00\",\"#00ff00\",\"#000000\",\"#00ff00\",\"#00ffff\",\"#00ff00\",\"#00ff00\",\"#00ff00\",\"#00ff00\",\"#000000\",\"#00ff00\",\"#00ff00\",\"#00ff00\",\"#00ff00\",\"#00ff00\",\"#00ff00\",\"#00ff00\",\"#00ff00\",\"#00ff00\",\"#00ff00\",\"#00ff00\",\"#00ff00\",\"#00ff00\",\"#00ff00\",\"#00ff00\",\"#00ff00\",\"#00ff00\",\"#00ff00\",\"#00ffff\",\"#00ff00\",\"#00ffff\",\"#000000\",\"#00ff00\",\"#00ffff\",\"#00ff00\",\"#00ffff\",\"#00ffff\",\"#00ff00\",\"#00ff00\",\"#00ff00\",\"#00ff00\",\"#00ff00\",\"#00ff00\",\"#00ff00\",\"#00ff00\",\"#00ff00\",\"#00ff00\",\"#00ff00\",\"#000000\",\"#000000\",\"#00ff00\",\"#00ff00\",\"#00ff00\",\"#00ff00\",\"#00ff00\",\"#00ffff\",\"#00ff00\",\"#00ff00\",\"#00ff00\",\"#00ff00\",\"#00ff00\",\"#00ff00\",\"#00ffff\",\"#00ff00\",\"#00ff00\",\"#00ff00\",\"#00ff00\",\"#00ff00\",\"#00ff00\",\"#00ff00\",\"#00ff00\",\"#00ff00\",\"#00ff00\",\"#00ffff\",\"#00ff00\",\"#000000\",\"#00ff00\",\"#00ff00\",\"#00ff00\",\"#00ff00\",\"#00ff00\",\"#00ff00\",\"#00ff00\",\"#00ff00\",\"#00ff00\",\"#00ff00\",\"#00ff00\",\"#000000\",\"#00ff00\",\"#00ff00\",\"#00ffff\",\"#00ff00\",\"#00ff00\",\"#00ff00\",\"#00ff00\",\"#000000\",\"#00ff00\",\"#00ff00\",\"#00ff00\",\"#00ff00\",\"#00ff00\",\"#00ff00\",\"#00ff00\",\"#00ff00\",\"#00ff00\",\"#00ff00\",\"#000000\",\"#00ff00\",\"#000000\",\"#00ff00\",\"#00ffff\",\"#00ffff\",\"#00ff00\",\"#00ff00\",\"#00ff00\",\"#00ff00\",\"#00ff00\",\"#00ff00\",\"#00ff00\",\"#00ff00\",\"#00ff00\",\"#00ff00\",\"#00ffff\",\"#00ff00\",\"#00ff00\",\"#00ff00\",\"#00ff00\",\"#00ff00\",\"#00ffff\",\"#00ff00\",\"#00ff00\",\"#00ff00\",\"#00ffff\",\"#00ff00\",\"#00ff00\",\"#00ff00\",\"#00ff00\",\"#00ff00\",\"#00ff00\",\"#00ff00\",\"#00ff00\",\"#00ffff\",\"#00ffff\",\"#00ff00\",\"#00ff00\",\"#00ff00\",\"#00ff00\",\"#00ff00\",\"#00ffff\",\"#00ff00\",\"#00ff00\",\"#00ff00\",\"#00ff00\",\"#00ff00\",\"#00ff00\",\"#00ffff\",\"#00ff00\",\"#00ff00\",\"#00ff00\",\"#00ff00\",\"#00ffff\",\"#00ff00\",\"#00ff00\",\"#00ff00\",\"#00ff00\",\"#00ffff\",\"#00ffff\",\"#00ffff\",\"#00ff00\",\"#00ff00\",\"#00ff00\",\"#00ff00\",\"#00ff00\",\"#00ff00\",\"#00ff00\",\"#00ff00\",\"#00ff00\",\"#00ff00\",\"#00ff00\",\"#00ff00\",\"#00ff00\",\"#00ff00\",\"#00ff00\",\"#00ff00\",\"#00ff00\",\"#00ff00\",\"#00ff00\",\"#00ff00\",\"#00ff00\",\"#00ff00\",\"#00ff00\",\"#00ff00\",\"#00ff00\",\"#00ff00\",\"#00ff00\",\"#00ff00\",\"#00ffff\",\"#00ff00\",\"#00ff00\",\"#00ff00\",\"#000000\",\"#00ff00\",\"#00ff00\",\"#00ffff\",\"#000000\",\"#00ff00\",\"#00ffff\",\"#00ff00\",\"#00ffff\",\"#00ff00\",\"#00ffff\",\"#00ff00\",\"#00ff00\",\"#00ff00\",\"#00ff00\",\"#00ffff\",\"#000000\",\"#00ff00\",\"#00ff00\",\"#000000\",\"#00ff00\",\"#000000\",\"#00ff00\",\"#00ff00\",\"#00ff00\",\"#00ff00\",\"#00ff00\",\"#00ff00\",\"#00ff00\",\"#00ff00\",\"#00ff00\",\"#000000\",\"#00ffff\",\"#000000\",\"#000000\",\"#00ff00\",\"#00ff00\",\"#00ff00\",\"#00ff00\",\"#00ff00\",\"#00ff00\",\"#00ff00\",\"#00ff00\",\"#00ff00\",\"#00ff00\",\"#00ff00\",\"#00ff00\",\"#00ff00\",\"#00ff00\",\"#00ff00\",\"#00ffff\",\"#00ff00\",\"#00ff00\",\"#00ff00\",\"#00ff00\",\"#00ffff\",\"#00ff00\",\"#000000\",\"#00ffff\",\"#00ff00\",\"#00ff00\",\"#00ff00\",\"#00ff00\",\"#00ff00\",\"#00ff00\",\"#00ff00\",\"#00ff00\",\"#00ff00\",\"#00ffff\",\"#00ff00\",\"#00ff00\",\"#00ff00\",\"#00ff00\",\"#00ffff\",\"#00ff00\",\"#00ffff\",\"#00ffff\",\"#00ff00\",\"#00ff00\",\"#00ff00\",\"#00ff00\",\"#00ff00\",\"#00ffff\",\"#000000\",\"#00ff00\",\"#00ffff\",\"#00ffff\",\"#00ff00\",\"#00ff00\",\"#00ff00\",\"#00ff00\",\"#00ff00\",\"#00ff00\",\"#00ff00\",\"#00ff00\",\"#00ff00\",\"#00ff00\",\"#00ff00\",\"#00ff00\",\"#00ff00\",\"#00ff00\",\"#00ff00\",\"#00ff00\",\"#00ff00\",\"#00ff00\",\"#000000\",\"#00ffff\",\"#00ff00\",\"#000000\",\"#00ff00\",\"#00ff00\",\"#00ffff\",\"#00ff00\",\"#00ff00\",\"#00ff00\",\"#00ff00\",\"#00ff00\",\"#000000\",\"#00ff00\",\"#00ff00\",\"#00ff00\",\"#00ff00\",\"#00ffff\",\"#00ff00\",\"#00ff00\",\"#00ff00\",\"#00ff00\",\"#00ffff\",\"#00ffff\",\"#00ff00\",\"#00ff00\",\"#00ff00\",\"#00ff00\",\"#00ff00\",\"#00ff00\",\"#00ff00\",\"#00ff00\",\"#00ff00\",\"#00ff00\",\"#00ff00\",\"#00ff00\",\"#00ff00\",\"#00ff00\",\"#00ff00\",\"#00ff00\",\"#00ff00\",\"#00ffff\",\"#00ff00\",\"#00ff00\",\"#00ff00\",\"#00ff00\",\"#00ff00\",\"#00ff00\",\"#00ff00\",\"#00ff00\",\"#00ff00\",\"#00ff00\",\"#00ff00\",\"#00ff00\",\"#00ff00\",\"#00ff00\",\"#00ff00\",\"#00ff00\",\"#00ff00\",\"#00ff00\",\"#00ffff\",\"#00ffff\",\"#00ffff\",\"#00ff00\",\"#00ffff\",\"#00ff00\",\"#00ff00\",\"#00ff00\",\"#00ff00\",\"#00ff00\",\"#00ff00\",\"#00ff00\",\"#00ffff\",\"#00ff00\",\"#00ff00\",\"#00ff00\",\"#00ff00\",\"#00ff00\",\"#00ff00\",\"#00ff00\",\"#000000\",\"#00ff00\",\"#00ff00\",\"#00ffff\",\"#00ff00\",\"#00ff00\",\"#00ff00\",\"#000000\",\"#000000\",\"#00ffff\",\"#000000\",\"#00ff00\",\"#00ff00\",\"#000000\",\"#00ffff\",\"#00ff00\",\"#00ff00\",\"#00ff00\",\"#00ff00\",\"#00ff00\",\"#00ff00\",\"#00ffff\",\"#00ff00\",\"#00ff00\",\"#00ff00\",\"#00ff00\",\"#00ff00\",\"#00ff00\",\"#00ff00\",\"#00ff00\",\"#00ff00\",\"#00ff00\",\"#00ff00\",\"#00ff00\",\"#00ff00\",\"#00ff00\",\"#00ff00\",\"#000000\",\"#00ff00\",\"#00ff00\",\"#00ff00\",\"#00ffff\",\"#00ff00\",\"#00ff00\",\"#00ffff\",\"#00ff00\",\"#00ff00\",\"#000000\",\"#00ff00\",\"#00ff00\",\"#00ff00\",\"#00ff00\",\"#000000\",\"#00ff00\",\"#00ff00\",\"#00ff00\",\"#00ff00\",\"#00ff00\",\"#00ff00\",\"#00ff00\",\"#00ff00\",\"#000000\",\"#00ff00\",\"#00ff00\",\"#00ff00\",\"#00ff00\",\"#00ff00\",\"#00ff00\",\"#00ff00\",\"#00ff00\",\"#00ff00\",\"#00ff00\",\"#00ffff\",\"#00ff00\",\"#00ff00\",\"#00ff00\",\"#00ff00\",\"#00ff00\",\"#00ff00\",\"#00ffff\",\"#00ff00\",\"#00ff00\",\"#00ffff\",\"#00ff00\",\"#00ff00\",\"#00ff00\",\"#00ff00\",\"#00ff00\",\"#00ff00\",\"#00ff00\",\"#00ffff\",\"#000000\",\"#00ff00\",\"#00ff00\",\"#00ff00\",\"#00ff00\",\"#00ff00\",\"#00ff00\",\"#00ff00\",\"#00ff00\",\"#00ff00\",\"#00ff00\",\"#00ff00\",\"#00ff00\",\"#00ff00\",\"#00ffff\",\"#00ff00\",\"#00ff00\",\"#00ff00\",\"#00ff00\",\"#000000\",\"#00ff00\",\"#00ff00\",\"#00ff00\",\"#00ff00\",\"#00ff00\",\"#00ff00\",\"#00ff00\",\"#00ff00\",\"#00ff00\",\"#00ff00\",\"#00ff00\",\"#00ff00\",\"#00ff00\",\"#00ff00\",\"#00ff00\",\"#000000\",\"#00ff00\",\"#00ff00\",\"#00ff00\",\"#00ff00\",\"#00ff00\",\"#00ff00\",\"#00ff00\",\"#00ff00\",\"#00ff00\",\"#000000\",\"#00ffff\",\"#00ff00\",\"#00ff00\",\"#00ff00\",\"#00ff00\",\"#00ffff\",\"#00ff00\",\"#00ffff\",\"#00ff00\",\"#00ff00\",\"#00ff00\",\"#00ff00\",\"#00ff00\",\"#00ff00\",\"#00ff00\",\"#00ff00\",\"#00ff00\",\"#00ff00\",\"#00ff00\",\"#00ff00\",\"#00ff00\",\"#00ff00\",\"#00ff00\",\"#00ff00\",\"#00ff00\",\"#00ff00\",\"#00ffff\",\"#00ff00\",\"#00ff00\",\"#00ff00\",\"#000000\",\"#00ff00\",\"#00ff00\",\"#000000\",\"#00ff00\",\"#00ffff\",\"#00ff00\",\"#00ffff\",\"#00ff00\",\"#00ff00\",\"#00ff00\",\"#00ff00\",\"#00ff00\",\"#00ff00\",\"#00ff00\",\"#000000\",\"#00ff00\",\"#00ff00\",\"#00ff00\",\"#00ffff\",\"#00ff00\",\"#00ff00\",\"#00ffff\",\"#00ff00\",\"#00ff00\",\"#00ff00\",\"#00ff00\",\"#00ff00\",\"#00ff00\",\"#00ff00\",\"#00ff00\",\"#00ff00\",\"#00ff00\",\"#00ff00\",\"#00ff00\",\"#00ff00\",\"#00ffff\",\"#00ff00\",\"#00ff00\",\"#00ffff\",\"#00ffff\",\"#00ff00\",\"#00ff00\",\"#00ff00\",\"#000000\",\"#00ff00\",\"#00ff00\",\"#00ff00\",\"#00ff00\",\"#00ff00\",\"#00ff00\",\"#00ff00\",\"#00ff00\",\"#00ffff\",\"#00ff00\",\"#00ff00\",\"#00ff00\",\"#00ff00\",\"#00ff00\",\"#00ff00\",\"#00ff00\",\"#00ff00\",\"#00ff00\",\"#00ffff\",\"#00ff00\",\"#00ff00\",\"#00ffff\",\"#00ff00\",\"#00ff00\",\"#00ff00\",\"#00ff00\",\"#00ff00\",\"#00ff00\",\"#00ff00\",\"#00ff00\",\"#00ff00\",\"#00ff00\",\"#00ff00\",\"#00ff00\",\"#00ff00\",\"#00ffff\",\"#00ff00\",\"#00ff00\",\"#00ff00\",\"#00ff00\",\"#00ff00\",\"#000000\",\"#00ff00\",\"#00ff00\",\"#00ff00\",\"#00ff00\",\"#000000\",\"#000000\",\"#00ff00\",\"#00ff00\",\"#00ff00\",\"#00ff00\",\"#00ff00\",\"#00ff00\",\"#00ff00\",\"#00ff00\",\"#00ff00\",\"#00ff00\",\"#00ff00\",\"#00ff00\",\"#00ff00\",\"#00ff00\",\"#00ffff\",\"#00ff00\",\"#00ff00\",\"#00ff00\",\"#00ff00\",\"#00ff00\",\"#00ff00\",\"#00ff00\",\"#00ff00\",\"#00ffff\",\"#00ff00\",\"#00ff00\",\"#00ffff\",\"#00ff00\",\"#00ffff\",\"#00ff00\",\"#00ff00\",\"#00ff00\",\"#00ff00\",\"#000000\",\"#00ff00\",\"#00ff00\",\"#00ff00\",\"#00ff00\",\"#00ffff\",\"#00ff00\",\"#00ff00\",\"#000000\",\"#00ffff\",\"#00ffff\",\"#00ffff\",\"#00ff00\",\"#00ff00\",\"#00ff00\",\"#00ff00\",\"#00ff00\",\"#00ffff\",\"#00ff00\",\"#00ffff\",\"#00ff00\",\"#00ff00\",\"#00ff00\",\"#00ff00\",\"#00ff00\",\"#00ff00\",\"#00ff00\",\"#00ff00\",\"#00ff00\",\"#00ff00\",\"#00ff00\",\"#00ff00\",\"#00ffff\",\"#00ff00\",\"#00ff00\",\"#00ff00\",\"#00ffff\",\"#00ff00\",\"#00ff00\",\"#00ff00\",\"#00ff00\",\"#000000\",\"#00ffff\",\"#00ff00\",\"#00ff00\",\"#00ff00\",\"#000000\",\"#00ff00\",\"#00ff00\",\"#00ff00\",\"#00ff00\",\"#00ff00\",\"#00ff00\",\"#00ffff\",\"#00ff00\",\"#00ff00\",\"#00ff00\",\"#00ff00\",\"#00ff00\",\"#00ff00\",\"#00ff00\",\"#00ff00\",\"#00ff00\",\"#00ffff\",\"#00ff00\",\"#00ffff\",\"#00ff00\",\"#00ff00\",\"#00ff00\",\"#00ffff\",\"#00ff00\",\"#00ff00\",\"#00ff00\",\"#00ffff\",\"#000000\",\"#00ff00\",\"#00ff00\",\"#00ff00\",\"#00ff00\",\"#00ff00\",\"#00ff00\",\"#00ffff\",\"#00ff00\",\"#00ff00\",\"#00ff00\",\"#00ff00\",\"#00ff00\",\"#00ff00\",\"#00ff00\",\"#000000\",\"#00ff00\",\"#00ff00\",\"#00ff00\",\"#00ff00\",\"#00ff00\",\"#00ff00\",\"#00ffff\",\"#00ff00\",\"#00ff00\",\"#00ff00\",\"#00ff00\",\"#00ff00\",\"#00ff00\",\"#00ffff\",\"#00ff00\",\"#00ff00\",\"#00ff00\",\"#00ff00\",\"#00ff00\",\"#00ff00\",\"#00ff00\",\"#00ff00\",\"#00ff00\",\"#00ff00\",\"#00ff00\",\"#00ff00\",\"#00ffff\",\"#00ff00\",\"#00ff00\",\"#00ff00\",\"#00ffff\",\"#00ff00\",\"#00ff00\",\"#00ff00\",\"#00ff00\",\"#00ff00\",\"#00ff00\",\"#00ff00\",\"#00ff00\",\"#00ff00\",\"#00ffff\",\"#00ff00\",\"#00ff00\",\"#00ff00\",\"#00ff00\",\"#00ff00\",\"#00ff00\",\"#00ff00\",\"#00ff00\",\"#00ff00\",\"#00ff00\",\"#00ff00\",\"#00ff00\",\"#00ff00\",\"#00ff00\",\"#00ff00\",\"#00ff00\",\"#00ff00\",\"#00ff00\",\"#00ff00\",\"#00ff00\",\"#00ff00\",\"#000000\",\"#00ff00\",\"#00ff00\",\"#00ff00\",\"#00ff00\",\"#00ff00\",\"#00ff00\",\"#000000\",\"#00ff00\",\"#00ff00\",\"#00ff00\",\"#00ff00\",\"#00ff00\",\"#00ff00\",\"#00ff00\",\"#00ff00\",\"#00ff00\",\"#00ff00\",\"#00ff00\",\"#00ffff\",\"#000000\",\"#00ffff\",\"#00ff00\",\"#00ff00\",\"#00ff00\",\"#00ff00\",\"#00ff00\",\"#00ffff\",\"#00ff00\",\"#00ff00\",\"#00ff00\",\"#00ffff\",\"#000000\",\"#00ff00\",\"#00ff00\",\"#00ff00\",\"#00ff00\",\"#00ff00\",\"#00ff00\",\"#00ff00\",\"#00ff00\",\"#00ff00\",\"#00ffff\",\"#000000\",\"#00ff00\",\"#00ff00\",\"#00ff00\",\"#00ff00\",\"#00ff00\",\"#00ffff\",\"#00ff00\",\"#00ff00\",\"#00ff00\",\"#00ff00\",\"#00ff00\",\"#00ff00\",\"#00ff00\",\"#00ff00\",\"#00ff00\",\"#00ff00\",\"#000000\",\"#00ffff\",\"#00ffff\",\"#000000\",\"#00ff00\",\"#00ff00\",\"#00ff00\",\"#00ff00\",\"#000000\",\"#00ffff\",\"#00ff00\",\"#00ffff\",\"#00ff00\",\"#00ff00\",\"#00ff00\",\"#00ff00\",\"#00ff00\",\"#00ff00\",\"#00ff00\",\"#00ff00\",\"#00ff00\",\"#00ff00\",\"#00ff00\",\"#00ff00\",\"#00ff00\",\"#00ff00\",\"#00ff00\",\"#00ff00\",\"#00ff00\",\"#00ff00\",\"#00ff00\",\"#00ff00\",\"#00ff00\",\"#000000\",\"#00ff00\",\"#00ffff\",\"#00ff00\",\"#00ff00\",\"#00ffff\",\"#00ff00\",\"#000000\",\"#00ffff\",\"#00ff00\",\"#00ff00\",\"#00ff00\",\"#00ff00\",\"#00ff00\",\"#00ffff\",\"#00ffff\",\"#00ffff\",\"#00ffff\",\"#000000\",\"#00ff00\",\"#00ff00\",\"#00ffff\",\"#000000\",\"#00ff00\",\"#00ff00\",\"#00ff00\",\"#000000\",\"#00ff00\",\"#00ff00\",\"#00ff00\",\"#00ff00\",\"#00ff00\",\"#00ffff\",\"#00ff00\",\"#00ff00\",\"#00ff00\",\"#00ff00\",\"#00ff00\",\"#00ff00\",\"#00ff00\",\"#000000\",\"#00ff00\",\"#00ff00\",\"#00ff00\",\"#00ff00\",\"#00ff00\",\"#00ff00\",\"#00ff00\",\"#00ffff\",\"#00ffff\",\"#00ff00\",\"#00ff00\",\"#00ff00\",\"#00ff00\",\"#00ff00\",\"#000000\",\"#00ff00\",\"#000000\",\"#00ff00\",\"#00ffff\",\"#00ff00\",\"#00ff00\",\"#00ff00\",\"#00ff00\",\"#00ff00\",\"#00ff00\",\"#00ff00\",\"#00ffff\",\"#00ff00\",\"#00ff00\",\"#00ff00\",\"#00ffff\",\"#00ff00\",\"#00ff00\",\"#00ff00\",\"#00ff00\",\"#000000\",\"#00ff00\",\"#00ff00\",\"#00ff00\",\"#00ff00\",\"#00ff00\",\"#000000\",\"#00ff00\",\"#00ff00\",\"#00ff00\",\"#00ff00\",\"#00ff00\",\"#00ff00\",\"#00ff00\",\"#00ff00\",\"#000000\",\"#000000\",\"#00ff00\",\"#00ff00\",\"#000000\",\"#000000\",\"#00ff00\",\"#000000\",\"#00ff00\",\"#00ff00\",\"#00ff00\",\"#00ff00\",\"#00ff00\",\"#00ff00\",\"#00ff00\",\"#00ff00\",\"#00ff00\",\"#000000\",\"#00ff00\",\"#00ffff\",\"#00ff00\",\"#00ff00\",\"#00ff00\",\"#00ff00\",\"#00ff00\",\"#00ff00\",\"#00ff00\",\"#00ff00\",\"#00ff00\",\"#000000\",\"#00ff00\",\"#00ff00\",\"#00ff00\",\"#00ffff\",\"#000000\",\"#00ff00\",\"#00ff00\",\"#00ff00\",\"#00ff00\",\"#00ff00\",\"#00ff00\",\"#00ff00\",\"#00ff00\",\"#00ffff\",\"#00ff00\",\"#000000\",\"#00ff00\",\"#00ffff\",\"#00ffff\",\"#00ff00\",\"#00ffff\",\"#00ff00\",\"#00ff00\",\"#00ff00\",\"#00ffff\",\"#00ff00\",\"#00ff00\",\"#00ff00\",\"#00ff00\",\"#00ff00\",\"#00ffff\",\"#000000\",\"#00ffff\",\"#00ff00\",\"#00ff00\",\"#00ff00\",\"#00ff00\",\"#00ff00\",\"#00ff00\",\"#000000\",\"#00ffff\",\"#00ff00\",\"#00ff00\",\"#00ff00\",\"#00ff00\",\"#000000\",\"#00ffff\",\"#00ff00\",\"#00ff00\",\"#00ff00\",\"#00ff00\",\"#00ffff\",\"#00ff00\",\"#00ff00\",\"#00ff00\",\"#00ff00\",\"#00ff00\",\"#00ff00\",\"#00ff00\",\"#00ffff\",\"#00ff00\",\"#00ff00\",\"#00ff00\",\"#00ff00\",\"#00ffff\",\"#00ff00\",\"#00ff00\",\"#00ff00\",\"#00ff00\",\"#00ff00\",\"#000000\",\"#00ff00\",\"#00ff00\",\"#00ff00\",\"#00ff00\",\"#000000\",\"#00ff00\",\"#00ff00\",\"#00ff00\",\"#00ff00\",\"#00ffff\",\"#00ff00\",\"#00ff00\",\"#00ff00\",\"#00ffff\",\"#00ff00\",\"#00ffff\",\"#00ff00\",\"#00ff00\",\"#00ff00\",\"#00ff00\",\"#00ff00\",\"#000000\",\"#00ff00\",\"#00ff00\",\"#00ffff\",\"#00ff00\",\"#00ff00\",\"#00ff00\",\"#00ff00\",\"#00ff00\",\"#00ffff\",\"#00ff00\",\"#00ff00\",\"#00ff00\",\"#00ffff\",\"#00ff00\",\"#00ff00\",\"#00ff00\",\"#00ff00\",\"#00ffff\",\"#00ffff\",\"#00ff00\",\"#00ff00\",\"#00ff00\",\"#00ff00\",\"#00ff00\",\"#00ff00\",\"#00ff00\",\"#00ff00\",\"#00ff00\",\"#00ff00\",\"#00ff00\",\"#00ff00\",\"#00ff00\",\"#00ffff\",\"#00ffff\",\"#00ffff\",\"#00ff00\",\"#00ff00\",\"#00ff00\",\"#00ff00\",\"#00ff00\",\"#00ff00\",\"#00ff00\",\"#00ff00\",\"#00ffff\",\"#00ff00\",\"#00ff00\",\"#00ff00\",\"#00ff00\",\"#00ff00\",\"#00ff00\",\"#00ff00\",\"#00ff00\",\"#00ffff\",\"#00ff00\",\"#00ff00\",\"#00ff00\",\"#00ff00\",\"#00ff00\",\"#00ff00\",\"#00ff00\",\"#00ff00\",\"#00ff00\",\"#00ff00\",\"#000000\",\"#00ff00\",\"#00ff00\",\"#00ff00\",\"#00ff00\",\"#00ff00\",\"#00ff00\",\"#00ff00\",\"#00ff00\",\"#00ff00\",\"#00ff00\",\"#00ff00\",\"#00ff00\",\"#00ffff\",\"#00ff00\",\"#00ff00\",\"#00ffff\",\"#00ffff\",\"#00ff00\",\"#00ff00\",\"#00ff00\",\"#00ff00\",\"#00ff00\",\"#00ff00\",\"#00ff00\",\"#00ff00\",\"#00ffff\",\"#00ffff\",\"#00ff00\",\"#00ffff\",\"#00ff00\",\"#00ff00\",\"#00ff00\",\"#00ff00\",\"#00ff00\",\"#00ff00\",\"#00ff00\",\"#00ff00\",\"#00ff00\",\"#00ffff\",\"#00ff00\",\"#00ff00\",\"#00ff00\",\"#00ff00\",\"#00ff00\",\"#000000\",\"#00ff00\",\"#00ff00\",\"#00ff00\",\"#00ff00\",\"#00ff00\",\"#00ff00\",\"#00ffff\",\"#00ff00\",\"#00ff00\",\"#00ff00\",\"#00ff00\",\"#00ffff\",\"#00ff00\",\"#00ff00\",\"#00ffff\",\"#00ffff\",\"#00ffff\",\"#00ff00\",\"#00ff00\",\"#00ff00\",\"#00ff00\",\"#00ff00\",\"#00ff00\",\"#00ff00\",\"#00ff00\",\"#00ff00\",\"#000000\",\"#00ffff\",\"#000000\",\"#00ff00\",\"#000000\",\"#00ff00\",\"#00ff00\",\"#00ff00\",\"#00ff00\",\"#00ff00\",\"#00ff00\",\"#00ffff\",\"#00ffff\",\"#00ff00\",\"#00ff00\",\"#00ffff\",\"#00ff00\",\"#00ff00\",\"#00ff00\",\"#00ff00\",\"#00ff00\",\"#00ff00\",\"#00ff00\",\"#00ff00\",\"#00ff00\",\"#00ff00\",\"#00ff00\",\"#00ffff\",\"#00ff00\",\"#00ffff\",\"#00ff00\",\"#00ff00\",\"#00ff00\",\"#00ff00\",\"#00ff00\",\"#00ffff\",\"#00ff00\",\"#00ff00\",\"#00ff00\",\"#00ff00\",\"#00ff00\",\"#00ff00\",\"#00ff00\",\"#00ff00\",\"#00ff00\",\"#00ff00\",\"#00ff00\",\"#00ff00\",\"#00ff00\",\"#00ff00\",\"#00ff00\",\"#00ff00\",\"#00ff00\",\"#00ff00\",\"#00ff00\",\"#00ff00\",\"#00ff00\",\"#00ff00\",\"#000000\",\"#00ff00\",\"#00ff00\",\"#000000\",\"#000000\",\"#00ff00\",\"#00ff00\",\"#00ff00\",\"#00ff00\",\"#00ff00\",\"#00ff00\",\"#00ff00\",\"#00ff00\",\"#00ff00\",\"#00ff00\",\"#00ff00\",\"#00ff00\",\"#00ff00\",\"#00ff00\",\"#00ff00\",\"#00ff00\",\"#00ff00\",\"#00ff00\",\"#00ff00\",\"#00ff00\",\"#00ff00\",\"#00ff00\",\"#00ff00\",\"#00ff00\",\"#00ffff\",\"#00ff00\",\"#000000\",\"#00ff00\",\"#00ff00\",\"#00ff00\",\"#00ff00\",\"#000000\",\"#00ffff\",\"#00ff00\",\"#00ff00\",\"#00ff00\",\"#00ff00\",\"#00ff00\",\"#00ff00\",\"#00ff00\",\"#00ff00\",\"#00ff00\",\"#00ff00\",\"#00ff00\",\"#00ffff\",\"#000000\",\"#00ff00\",\"#00ff00\",\"#00ff00\",\"#000000\",\"#00ff00\",\"#000000\",\"#00ff00\",\"#00ff00\",\"#00ff00\",\"#00ff00\",\"#000000\",\"#000000\",\"#00ff00\",\"#00ff00\",\"#00ff00\",\"#00ff00\",\"#00ff00\",\"#00ff00\",\"#00ff00\",\"#00ff00\",\"#00ff00\",\"#00ff00\",\"#00ff00\",\"#00ff00\",\"#00ff00\",\"#00ff00\",\"#000000\",\"#00ff00\",\"#00ff00\",\"#00ff00\",\"#00ffff\",\"#00ff00\",\"#00ffff\",\"#00ff00\",\"#00ff00\",\"#00ff00\",\"#000000\",\"#00ff00\",\"#000000\",\"#00ff00\",\"#00ff00\",\"#00ff00\",\"#00ff00\",\"#00ff00\",\"#00ffff\",\"#00ff00\",\"#00ff00\",\"#00ffff\",\"#00ff00\",\"#00ff00\",\"#00ffff\",\"#00ff00\",\"#00ffff\",\"#00ff00\",\"#00ff00\",\"#00ff00\",\"#00ff00\",\"#000000\",\"#00ff00\",\"#00ff00\",\"#00ffff\",\"#00ff00\",\"#00ff00\",\"#00ff00\",\"#00ffff\",\"#00ffff\",\"#00ffff\",\"#00ff00\",\"#00ff00\",\"#000000\",\"#00ff00\",\"#00ff00\",\"#00ff00\",\"#00ff00\",\"#00ff00\",\"#00ff00\",\"#00ff00\",\"#00ff00\",\"#00ff00\",\"#00ff00\",\"#00ff00\",\"#000000\",\"#00ff00\",\"#00ff00\",\"#00ffff\",\"#00ff00\",\"#00ff00\",\"#00ff00\",\"#000000\",\"#00ffff\",\"#00ff00\",\"#00ff00\",\"#00ff00\",\"#00ff00\",\"#00ff00\",\"#00ff00\",\"#00ff00\",\"#000000\",\"#00ff00\",\"#00ff00\",\"#00ff00\",\"#00ff00\",\"#00ff00\",\"#00ff00\",\"#00ff00\",\"#00ff00\",\"#00ffff\",\"#00ff00\",\"#00ffff\",\"#00ff00\",\"#00ff00\",\"#00ff00\",\"#00ff00\",\"#00ff00\",\"#000000\",\"#00ff00\",\"#00ff00\",\"#00ff00\",\"#00ff00\",\"#00ffff\",\"#00ff00\",\"#00ff00\",\"#00ffff\",\"#00ff00\",\"#00ff00\",\"#00ff00\",\"#00ff00\",\"#00ff00\",\"#000000\",\"#00ff00\",\"#000000\",\"#00ffff\",\"#00ff00\",\"#00ff00\",\"#00ff00\",\"#00ff00\",\"#00ffff\",\"#00ffff\",\"#00ff00\",\"#00ff00\",\"#00ff00\",\"#00ffff\",\"#000000\",\"#00ff00\",\"#00ffff\",\"#00ff00\",\"#00ff00\",\"#00ff00\",\"#00ff00\",\"#00ffff\",\"#00ff00\",\"#00ff00\",\"#00ffff\",\"#00ff00\",\"#00ff00\",\"#00ff00\",\"#00ff00\",\"#00ff00\",\"#000000\",\"#00ff00\",\"#00ff00\",\"#00ff00\",\"#00ff00\",\"#00ff00\",\"#00ff00\",\"#00ff00\",\"#000000\",\"#00ff00\",\"#00ff00\",\"#00ffff\",\"#00ff00\",\"#00ffff\",\"#00ff00\",\"#00ffff\",\"#00ffff\",\"#00ff00\",\"#00ff00\",\"#00ff00\",\"#00ff00\",\"#00ffff\",\"#00ff00\",\"#00ff00\",\"#00ff00\",\"#00ff00\",\"#00ff00\",\"#00ff00\",\"#00ff00\",\"#000000\",\"#00ff00\",\"#00ff00\",\"#00ffff\",\"#00ffff\",\"#00ff00\",\"#00ff00\",\"#00ff00\",\"#00ffff\",\"#00ff00\",\"#00ff00\",\"#00ff00\",\"#00ff00\",\"#00ffff\",\"#000000\",\"#00ff00\",\"#00ff00\",\"#00ff00\",\"#00ff00\",\"#00ff00\",\"#00ff00\",\"#00ff00\",\"#00ff00\",\"#00ffff\",\"#00ff00\",\"#00ff00\",\"#00ff00\",\"#00ff00\",\"#00ffff\",\"#00ffff\",\"#00ffff\",\"#00ff00\",\"#00ff00\",\"#00ff00\",\"#00ffff\",\"#00ffff\",\"#00ff00\",\"#00ff00\",\"#00ff00\",\"#00ff00\",\"#00ff00\",\"#00ff00\",\"#00ff00\",\"#00ff00\",\"#00ff00\",\"#00ffff\",\"#00ff00\",\"#00ff00\",\"#00ff00\",\"#00ff00\",\"#00ff00\",\"#00ff00\",\"#000000\",\"#00ff00\",\"#000000\",\"#00ffff\",\"#00ff00\",\"#00ff00\",\"#00ff00\",\"#00ff00\",\"#00ff00\",\"#00ff00\",\"#00ff00\",\"#00ff00\",\"#00ffff\",\"#00ff00\",\"#00ff00\",\"#000000\",\"#00ffff\",\"#00ffff\",\"#00ff00\",\"#00ff00\",\"#000000\",\"#00ff00\",\"#00ff00\",\"#00ffff\",\"#00ff00\",\"#00ff00\",\"#00ff00\",\"#00ff00\",\"#00ffff\",\"#00ff00\",\"#00ff00\",\"#00ff00\",\"#00ff00\",\"#00ff00\",\"#00ff00\",\"#00ff00\",\"#00ff00\",\"#00ff00\",\"#000000\",\"#00ff00\",\"#00ff00\",\"#00ff00\",\"#00ff00\",\"#00ff00\",\"#00ff00\",\"#00ff00\",\"#000000\",\"#000000\",\"#00ff00\",\"#00ff00\",\"#00ff00\",\"#00ff00\",\"#00ff00\",\"#00ff00\",\"#00ff00\",\"#00ff00\",\"#00ff00\",\"#00ff00\",\"#00ffff\",\"#00ff00\",\"#00ff00\",\"#00ff00\",\"#00ff00\",\"#00ff00\",\"#00ffff\",\"#00ff00\",\"#00ffff\",\"#00ff00\",\"#00ff00\",\"#00ff00\",\"#00ff00\",\"#00ff00\",\"#00ff00\",\"#00ff00\",\"#00ffff\",\"#00ff00\",\"#00ff00\",\"#00ff00\",\"#00ff00\",\"#00ff00\",\"#00ffff\",\"#00ffff\",\"#00ff00\",\"#00ff00\",\"#00ffff\",\"#00ff00\",\"#00ff00\",\"#00ffff\",\"#00ff00\",\"#00ff00\",\"#00ff00\",\"#00ff00\",\"#00ff00\",\"#00ff00\",\"#00ff00\",\"#00ff00\",\"#00ff00\",\"#00ffff\",\"#00ff00\",\"#00ff00\",\"#00ff00\",\"#00ff00\",\"#00ff00\",\"#00ff00\",\"#00ff00\",\"#00ff00\",\"#00ff00\",\"#00ff00\",\"#00ff00\",\"#00ff00\",\"#00ff00\",\"#00ff00\",\"#00ff00\",\"#00ffff\",\"#00ff00\",\"#00ffff\",\"#00ff00\",\"#000000\",\"#00ff00\",\"#00ff00\",\"#00ff00\",\"#00ff00\",\"#000000\",\"#00ff00\",\"#00ff00\",\"#00ff00\",\"#00ff00\",\"#00ff00\",\"#000000\",\"#00ff00\",\"#00ff00\",\"#00ffff\",\"#00ff00\",\"#00ff00\",\"#00ff00\",\"#00ff00\",\"#00ff00\",\"#00ffff\",\"#00ff00\",\"#00ff00\",\"#00ffff\",\"#00ff00\",\"#00ff00\",\"#00ff00\",\"#00ffff\",\"#00ff00\",\"#00ff00\",\"#00ff00\",\"#00ff00\",\"#00ffff\",\"#00ff00\",\"#00ff00\",\"#00ff00\",\"#00ff00\",\"#00ff00\",\"#00ff00\",\"#00ff00\",\"#00ff00\",\"#000000\",\"#00ff00\",\"#00ff00\",\"#00ff00\",\"#00ff00\",\"#00ffff\",\"#00ff00\",\"#00ff00\",\"#00ff00\",\"#00ff00\",\"#00ff00\",\"#00ff00\",\"#00ff00\",\"#00ff00\",\"#00ff00\",\"#00ffff\",\"#00ff00\",\"#00ff00\",\"#00ffff\",\"#00ff00\",\"#00ff00\",\"#00ff00\",\"#00ff00\",\"#00ff00\",\"#00ff00\",\"#00ffff\",\"#00ff00\",\"#00ff00\",\"#00ff00\",\"#00ff00\",\"#00ff00\",\"#00ff00\",\"#00ff00\",\"#000000\",\"#00ff00\",\"#00ff00\",\"#00ffff\",\"#00ff00\",\"#00ff00\",\"#00ffff\",\"#00ff00\",\"#000000\",\"#00ff00\",\"#00ffff\",\"#00ff00\",\"#00ff00\",\"#00ff00\",\"#00ff00\",\"#00ff00\",\"#00ff00\",\"#00ff00\",\"#00ff00\",\"#00ff00\",\"#000000\",\"#00ff00\",\"#00ff00\",\"#00ff00\",\"#00ffff\",\"#00ff00\",\"#00ff00\",\"#00ff00\",\"#00ff00\",\"#00ff00\",\"#00ff00\",\"#00ff00\",\"#00ffff\",\"#00ff00\",\"#00ff00\",\"#00ff00\",\"#000000\",\"#00ff00\",\"#00ff00\",\"#00ff00\",\"#00ff00\",\"#00ff00\",\"#00ff00\",\"#00ff00\",\"#00ff00\",\"#00ff00\",\"#00ff00\",\"#00ff00\",\"#000000\",\"#00ff00\",\"#00ff00\",\"#00ff00\",\"#00ff00\",\"#00ff00\",\"#00ff00\",\"#00ff00\",\"#00ffff\",\"#000000\",\"#00ff00\",\"#00ff00\",\"#00ff00\",\"#00ff00\",\"#00ffff\",\"#00ff00\",\"#00ff00\",\"#00ff00\",\"#00ff00\",\"#00ff00\",\"#00ff00\",\"#000000\",\"#00ff00\",\"#00ff00\",\"#00ff00\",\"#00ff00\",\"#00ff00\",\"#00ff00\",\"#00ff00\",\"#00ff00\",\"#00ff00\",\"#00ff00\",\"#00ff00\",\"#00ff00\",\"#00ff00\",\"#00ff00\",\"#00ff00\",\"#00ff00\",\"#00ff00\",\"#00ffff\",\"#00ff00\",\"#00ff00\",\"#00ffff\",\"#00ff00\",\"#00ffff\",\"#00ff00\",\"#00ff00\",\"#00ffff\",\"#00ff00\",\"#00ff00\",\"#00ff00\",\"#00ff00\",\"#00ff00\",\"#00ffff\",\"#00ff00\",\"#00ff00\",\"#00ff00\",\"#00ff00\",\"#00ffff\",\"#00ff00\",\"#00ff00\",\"#00ff00\",\"#00ff00\",\"#00ff00\",\"#00ff00\",\"#00ffff\",\"#00ff00\",\"#00ff00\",\"#00ff00\",\"#00ff00\",\"#00ff00\",\"#00ff00\",\"#00ff00\",\"#00ff00\",\"#00ff00\",\"#00ff00\",\"#00ff00\",\"#00ff00\",\"#00ff00\",\"#00ff00\",\"#00ff00\",\"#00ff00\",\"#00ff00\",\"#00ff00\",\"#00ff00\",\"#00ff00\",\"#00ff00\",\"#00ff00\",\"#00ff00\",\"#00ffff\",\"#00ff00\",\"#00ff00\",\"#000000\",\"#00ff00\",\"#00ff00\",\"#00ff00\",\"#00ff00\",\"#00ff00\",\"#00ff00\",\"#00ff00\",\"#00ff00\",\"#000000\",\"#00ff00\",\"#00ff00\",\"#00ff00\",\"#00ff00\",\"#00ff00\",\"#00ff00\",\"#00ffff\",\"#00ffff\",\"#000000\",\"#00ff00\",\"#000000\",\"#00ff00\",\"#00ff00\",\"#00ff00\",\"#00ff00\",\"#00ff00\",\"#00ff00\",\"#00ff00\",\"#000000\",\"#00ff00\",\"#00ff00\",\"#000000\",\"#000000\",\"#00ff00\",\"#00ff00\",\"#000000\",\"#00ff00\",\"#00ffff\",\"#00ff00\",\"#00ff00\",\"#00ff00\",\"#00ff00\",\"#00ff00\",\"#00ff00\",\"#000000\",\"#00ff00\",\"#00ff00\",\"#00ff00\",\"#00ff00\",\"#00ff00\",\"#00ffff\",\"#00ffff\",\"#00ff00\",\"#00ff00\",\"#00ff00\",\"#00ff00\",\"#00ffff\",\"#00ff00\",\"#00ffff\",\"#00ff00\",\"#00ff00\",\"#00ff00\",\"#00ff00\",\"#000000\",\"#00ff00\",\"#00ff00\",\"#00ffff\",\"#00ff00\",\"#00ff00\",\"#00ff00\",\"#00ff00\",\"#000000\",\"#00ff00\",\"#00ff00\",\"#00ff00\",\"#00ff00\",\"#00ff00\",\"#00ff00\",\"#00ff00\",\"#000000\",\"#000000\",\"#000000\",\"#00ff00\",\"#00ffff\",\"#00ff00\",\"#00ff00\",\"#00ff00\",\"#00ff00\",\"#000000\",\"#000000\",\"#00ffff\",\"#00ff00\",\"#00ff00\",\"#00ff00\",\"#00ff00\",\"#00ff00\",\"#00ff00\",\"#00ff00\",\"#00ff00\",\"#00ff00\",\"#00ff00\",\"#00ff00\",\"#00ff00\",\"#00ff00\",\"#00ff00\",\"#00ffff\",\"#00ff00\",\"#00ff00\",\"#00ff00\",\"#00ff00\",\"#00ff00\",\"#00ff00\",\"#00ff00\",\"#000000\",\"#000000\",\"#00ff00\",\"#00ff00\",\"#00ff00\",\"#00ffff\",\"#00ff00\",\"#000000\",\"#00ff00\",\"#00ff00\",\"#00ffff\",\"#00ff00\",\"#00ffff\",\"#00ff00\",\"#00ff00\",\"#00ff00\",\"#00ff00\",\"#00ff00\",\"#00ff00\",\"#00ffff\",\"#00ff00\",\"#00ff00\",\"#00ff00\",\"#000000\",\"#00ff00\",\"#000000\",\"#00ff00\",\"#00ff00\",\"#00ff00\",\"#00ff00\",\"#00ff00\",\"#00ff00\",\"#000000\",\"#00ff00\",\"#00ff00\",\"#00ff00\",\"#00ff00\",\"#00ff00\",\"#00ff00\",\"#00ff00\",\"#000000\",\"#00ff00\",\"#00ff00\",\"#00ff00\",\"#00ff00\",\"#00ff00\",\"#00ffff\",\"#000000\",\"#00ff00\",\"#00ff00\",\"#000000\",\"#00ffff\",\"#00ff00\",\"#00ff00\",\"#00ff00\",\"#00ff00\",\"#00ff00\",\"#00ff00\",\"#00ff00\",\"#00ff00\",\"#00ff00\",\"#00ff00\",\"#00ff00\",\"#00ff00\",\"#00ff00\",\"#000000\",\"#00ff00\",\"#000000\",\"#00ffff\",\"#00ff00\",\"#00ff00\",\"#00ff00\",\"#00ff00\",\"#00ff00\",\"#00ff00\",\"#00ff00\",\"#00ffff\",\"#00ff00\",\"#00ff00\",\"#00ff00\",\"#00ff00\",\"#00ff00\",\"#00ff00\",\"#00ffff\",\"#00ff00\",\"#00ff00\",\"#00ff00\",\"#00ff00\",\"#00ff00\",\"#00ff00\",\"#00ff00\",\"#000000\",\"#000000\",\"#00ff00\",\"#00ff00\",\"#00ff00\",\"#00ff00\",\"#00ff00\",\"#00ff00\",\"#00ff00\",\"#00ff00\",\"#00ffff\",\"#00ffff\",\"#00ff00\",\"#00ffff\",\"#00ff00\",\"#00ff00\",\"#00ff00\",\"#00ffff\",\"#00ff00\",\"#00ff00\",\"#00ff00\",\"#00ff00\",\"#00ff00\",\"#000000\",\"#00ff00\",\"#00ff00\",\"#00ff00\",\"#00ff00\",\"#00ff00\",\"#00ffff\",\"#00ffff\",\"#00ff00\",\"#00ff00\",\"#00ff00\",\"#00ff00\",\"#00ff00\",\"#00ff00\",\"#00ff00\",\"#00ff00\",\"#00ff00\",\"#00ff00\",\"#00ff00\",\"#00ff00\",\"#00ff00\",\"#00ffff\",\"#00ffff\",\"#00ff00\",\"#00ff00\",\"#00ff00\",\"#00ff00\",\"#00ff00\",\"#00ffff\",\"#00ff00\",\"#00ffff\",\"#00ffff\",\"#00ff00\",\"#00ff00\",\"#00ff00\",\"#00ff00\",\"#00ff00\",\"#00ff00\",\"#00ff00\",\"#00ffff\",\"#00ff00\",\"#00ff00\",\"#00ff00\",\"#00ff00\",\"#00ff00\",\"#00ff00\",\"#00ffff\",\"#00ff00\",\"#00ff00\",\"#00ffff\",\"#00ff00\",\"#000000\",\"#00ff00\",\"#00ff00\",\"#00ff00\",\"#00ffff\",\"#00ff00\",\"#00ff00\",\"#000000\",\"#00ff00\",\"#00ff00\",\"#00ff00\",\"#000000\",\"#00ff00\",\"#00ff00\",\"#00ffff\",\"#00ffff\",\"#00ff00\",\"#000000\",\"#00ff00\",\"#00ff00\",\"#00ff00\",\"#00ff00\",\"#00ff00\",\"#00ff00\",\"#00ffff\",\"#00ff00\",\"#00ffff\",\"#00ff00\",\"#000000\",\"#00ff00\",\"#00ff00\",\"#00ff00\",\"#00ff00\",\"#00ff00\",\"#00ff00\",\"#00ff00\",\"#00ff00\",\"#00ffff\",\"#00ffff\",\"#00ff00\",\"#00ff00\",\"#00ff00\",\"#00ffff\",\"#00ff00\",\"#00ff00\",\"#00ff00\",\"#00ff00\",\"#00ff00\",\"#00ff00\",\"#00ff00\",\"#00ff00\",\"#00ff00\",\"#00ff00\",\"#000000\",\"#00ff00\",\"#00ff00\",\"#00ff00\",\"#00ffff\",\"#00ff00\",\"#00ff00\",\"#00ff00\",\"#00ff00\",\"#00ff00\",\"#00ff00\",\"#00ff00\",\"#00ff00\",\"#00ff00\",\"#00ff00\",\"#00ff00\",\"#00ff00\",\"#00ff00\",\"#00ff00\",\"#00ff00\",\"#00ff00\",\"#000000\",\"#00ffff\",\"#00ff00\",\"#000000\",\"#00ff00\",\"#00ffff\",\"#00ffff\",\"#00ff00\",\"#00ff00\",\"#00ffff\",\"#00ffff\",\"#00ff00\",\"#00ff00\",\"#00ffff\",\"#00ffff\",\"#000000\",\"#00ff00\",\"#00ff00\",\"#00ff00\",\"#00ff00\",\"#00ff00\",\"#00ff00\",\"#00ff00\",\"#00ff00\",\"#00ff00\",\"#00ff00\",\"#00ff00\",\"#00ff00\",\"#00ff00\",\"#00ffff\",\"#00ff00\",\"#000000\",\"#00ff00\",\"#00ff00\",\"#00ff00\",\"#00ffff\",\"#000000\",\"#00ff00\",\"#00ff00\",\"#000000\",\"#000000\",\"#00ff00\",\"#00ff00\",\"#00ff00\",\"#00ff00\",\"#00ff00\",\"#00ff00\",\"#000000\",\"#00ff00\",\"#00ffff\",\"#00ff00\",\"#000000\",\"#00ff00\",\"#00ff00\",\"#00ff00\",\"#00ff00\",\"#00ff00\",\"#00ff00\",\"#00ff00\",\"#00ff00\",\"#00ff00\",\"#00ff00\",\"#00ff00\",\"#00ff00\",\"#00ff00\",\"#00ff00\",\"#00ff00\",\"#00ff00\",\"#00ff00\",\"#00ff00\",\"#00ff00\",\"#00ff00\",\"#00ff00\",\"#00ff00\",\"#00ff00\",\"#00ff00\",\"#00ff00\",\"#00ff00\",\"#00ff00\",\"#00ff00\",\"#000000\",\"#00ff00\",\"#00ff00\",\"#00ff00\",\"#00ff00\",\"#00ff00\",\"#00ffff\",\"#00ff00\",\"#00ff00\",\"#00ff00\",\"#00ff00\",\"#00ff00\",\"#00ff00\",\"#00ff00\",\"#00ff00\",\"#00ff00\",\"#00ff00\",\"#00ff00\",\"#00ffff\",\"#00ffff\",\"#000000\",\"#00ff00\",\"#00ff00\",\"#00ff00\",\"#00ff00\",\"#00ff00\",\"#00ffff\",\"#00ff00\",\"#00ff00\",\"#00ff00\",\"#00ff00\",\"#00ff00\",\"#00ff00\",\"#00ff00\",\"#00ff00\",\"#00ff00\",\"#000000\",\"#00ffff\",\"#00ff00\",\"#00ff00\",\"#00ff00\",\"#00ff00\",\"#00ff00\",\"#00ff00\",\"#00ffff\",\"#00ff00\",\"#00ff00\",\"#00ffff\",\"#00ff00\",\"#00ff00\",\"#00ff00\",\"#00ff00\",\"#00ff00\",\"#00ffff\",\"#00ffff\",\"#00ffff\",\"#00ffff\",\"#00ffff\",\"#00ff00\",\"#00ff00\",\"#00ff00\",\"#00ff00\",\"#00ff00\",\"#00ff00\",\"#00ff00\",\"#00ff00\",\"#00ff00\",\"#00ff00\",\"#00ff00\",\"#000000\",\"#00ff00\",\"#00ff00\",\"#00ffff\",\"#00ffff\",\"#00ff00\",\"#00ff00\",\"#00ff00\",\"#00ff00\",\"#00ff00\",\"#00ff00\",\"#00ffff\",\"#00ff00\",\"#00ff00\",\"#00ff00\",\"#00ffff\",\"#00ffff\",\"#000000\",\"#00ff00\",\"#00ff00\",\"#00ff00\",\"#00ff00\",\"#00ff00\",\"#00ff00\",\"#000000\",\"#00ff00\",\"#00ff00\",\"#00ffff\",\"#00ff00\",\"#00ff00\",\"#000000\",\"#00ff00\",\"#000000\",\"#00ff00\",\"#00ff00\",\"#00ff00\",\"#00ff00\",\"#00ff00\",\"#000000\",\"#00ffff\",\"#00ff00\",\"#00ff00\",\"#00ff00\",\"#00ff00\",\"#00ff00\",\"#00ff00\",\"#00ffff\",\"#00ff00\",\"#00ff00\",\"#00ffff\",\"#000000\",\"#00ff00\",\"#00ff00\",\"#00ff00\",\"#00ff00\",\"#00ff00\",\"#00ff00\",\"#00ff00\",\"#00ff00\",\"#00ff00\",\"#00ffff\",\"#000000\",\"#00ff00\",\"#00ff00\",\"#00ff00\",\"#00ff00\",\"#00ff00\",\"#000000\",\"#00ff00\",\"#00ff00\",\"#00ff00\",\"#00ff00\",\"#00ffff\",\"#00ff00\",\"#00ffff\",\"#00ff00\",\"#00ff00\",\"#00ffff\",\"#00ff00\",\"#00ff00\",\"#00ff00\",\"#00ff00\",\"#00ff00\",\"#00ff00\",\"#00ff00\",\"#00ffff\",\"#00ff00\",\"#00ff00\",\"#00ff00\",\"#00ff00\",\"#00ff00\",\"#00ff00\",\"#00ff00\",\"#00ff00\",\"#00ff00\",\"#00ffff\",\"#00ff00\",\"#00ff00\",\"#00ff00\",\"#00ffff\",\"#00ff00\",\"#00ff00\",\"#00ffff\",\"#00ff00\",\"#00ff00\",\"#00ff00\",\"#00ff00\",\"#00ff00\",\"#00ff00\",\"#00ff00\",\"#00ff00\",\"#00ff00\",\"#00ff00\",\"#00ff00\",\"#00ff00\",\"#00ff00\",\"#00ff00\",\"#00ff00\",\"#00ff00\",\"#00ff00\",\"#00ff00\",\"#00ff00\",\"#00ff00\",\"#00ff00\",\"#00ff00\",\"#00ff00\",\"#00ff00\",\"#00ff00\",\"#00ff00\",\"#00ff00\",\"#00ff00\",\"#00ff00\",\"#00ff00\",\"#00ff00\",\"#00ff00\",\"#00ff00\",\"#00ff00\",\"#00ff00\",\"#00ff00\",\"#00ffff\",\"#00ff00\",\"#00ff00\",\"#000000\",\"#00ff00\",\"#000000\",\"#00ff00\",\"#00ff00\",\"#00ff00\",\"#00ff00\",\"#00ff00\",\"#00ffff\",\"#00ff00\",\"#000000\",\"#00ff00\",\"#00ff00\",\"#00ff00\",\"#00ffff\",\"#00ff00\",\"#00ff00\",\"#00ff00\",\"#00ff00\",\"#00ffff\",\"#00ff00\",\"#00ff00\",\"#00ffff\",\"#00ff00\",\"#00ff00\",\"#00ffff\",\"#00ff00\",\"#000000\",\"#00ff00\",\"#00ff00\",\"#00ff00\",\"#00ff00\",\"#000000\",\"#00ff00\",\"#00ff00\",\"#00ff00\",\"#00ff00\",\"#00ffff\",\"#000000\",\"#000000\",\"#00ff00\",\"#00ffff\",\"#00ff00\",\"#00ff00\",\"#00ff00\",\"#00ffff\",\"#00ff00\",\"#00ff00\",\"#00ff00\",\"#000000\",\"#00ff00\",\"#00ffff\",\"#00ff00\",\"#00ff00\",\"#00ffff\",\"#00ff00\",\"#00ff00\",\"#00ff00\",\"#00ff00\",\"#00ff00\",\"#00ff00\",\"#000000\",\"#00ff00\",\"#00ff00\",\"#00ff00\",\"#00ff00\",\"#000000\",\"#00ff00\",\"#00ff00\",\"#00ff00\",\"#00ff00\",\"#00ffff\",\"#00ff00\",\"#00ff00\",\"#00ff00\",\"#00ff00\",\"#00ff00\",\"#00ff00\",\"#00ff00\",\"#00ff00\",\"#00ff00\",\"#00ff00\",\"#000000\",\"#00ffff\",\"#00ff00\",\"#00ff00\",\"#00ff00\",\"#00ff00\",\"#00ffff\",\"#00ff00\",\"#00ff00\",\"#00ff00\",\"#00ff00\",\"#00ff00\",\"#00ff00\",\"#00ff00\",\"#000000\",\"#00ffff\",\"#00ff00\",\"#00ff00\",\"#00ff00\",\"#00ff00\",\"#00ff00\",\"#00ffff\",\"#00ff00\",\"#00ff00\",\"#00ff00\",\"#00ff00\",\"#00ff00\",\"#00ff00\",\"#00ffff\",\"#00ff00\",\"#00ff00\",\"#00ff00\",\"#00ff00\",\"#00ff00\",\"#000000\",\"#00ff00\",\"#000000\",\"#00ffff\",\"#00ff00\",\"#00ff00\",\"#00ff00\",\"#00ff00\",\"#00ffff\",\"#00ff00\",\"#000000\",\"#00ff00\",\"#000000\",\"#00ff00\",\"#00ff00\",\"#00ff00\",\"#00ff00\",\"#00ff00\",\"#00ff00\",\"#00ff00\",\"#00ff00\",\"#000000\",\"#00ff00\",\"#00ff00\",\"#00ff00\",\"#00ffff\",\"#00ff00\",\"#000000\",\"#00ff00\",\"#00ff00\",\"#00ffff\",\"#00ff00\",\"#00ff00\",\"#00ff00\",\"#00ff00\",\"#00ff00\",\"#00ff00\",\"#00ffff\",\"#00ff00\",\"#00ff00\",\"#000000\",\"#00ffff\",\"#00ff00\",\"#00ff00\",\"#000000\",\"#000000\",\"#000000\",\"#00ff00\",\"#00ffff\",\"#00ff00\",\"#00ffff\",\"#00ffff\",\"#00ff00\",\"#00ff00\",\"#00ff00\",\"#000000\",\"#00ff00\",\"#00ff00\",\"#00ff00\",\"#00ffff\",\"#00ff00\",\"#00ff00\",\"#00ffff\",\"#00ff00\",\"#00ffff\",\"#00ff00\",\"#00ff00\",\"#00ff00\",\"#00ffff\",\"#00ff00\",\"#00ff00\",\"#00ff00\",\"#00ff00\",\"#000000\",\"#00ff00\",\"#00ff00\",\"#00ff00\",\"#00ff00\",\"#00ff00\",\"#00ff00\",\"#000000\",\"#00ff00\",\"#00ff00\",\"#00ffff\",\"#00ff00\",\"#00ff00\",\"#00ff00\",\"#00ffff\",\"#00ff00\",\"#000000\",\"#000000\",\"#00ff00\",\"#00ff00\",\"#00ffff\",\"#00ff00\",\"#00ff00\",\"#00ff00\",\"#00ff00\",\"#00ffff\",\"#00ff00\",\"#00ff00\",\"#00ff00\",\"#00ff00\",\"#00ff00\",\"#00ffff\",\"#00ffff\",\"#00ff00\",\"#00ffff\",\"#00ff00\",\"#00ff00\",\"#00ffff\",\"#00ffff\",\"#00ff00\",\"#00ff00\",\"#00ffff\",\"#00ff00\",\"#00ff00\",\"#000000\",\"#00ff00\",\"#00ff00\",\"#00ff00\",\"#00ff00\",\"#00ff00\",\"#00ff00\",\"#000000\",\"#00ff00\",\"#00ff00\",\"#00ffff\",\"#00ff00\",\"#00ff00\",\"#00ff00\",\"#00ff00\",\"#00ff00\",\"#00ffff\",\"#00ffff\",\"#00ff00\",\"#00ffff\",\"#00ffff\",\"#00ff00\",\"#00ff00\",\"#000000\",\"#00ff00\",\"#00ff00\",\"#00ff00\",\"#00ff00\",\"#00ffff\",\"#00ff00\",\"#00ff00\",\"#00ffff\",\"#00ff00\",\"#00ff00\",\"#00ffff\",\"#00ff00\",\"#00ff00\",\"#00ff00\",\"#00ff00\",\"#00ffff\",\"#000000\",\"#00ff00\",\"#00ff00\",\"#00ff00\",\"#000000\",\"#00ff00\",\"#00ff00\",\"#00ffff\",\"#00ff00\",\"#00ff00\",\"#00ff00\",\"#00ff00\",\"#000000\",\"#000000\",\"#00ffff\",\"#00ff00\",\"#00ff00\",\"#00ff00\",\"#00ff00\",\"#00ff00\",\"#00ff00\",\"#00ffff\",\"#00ff00\",\"#00ff00\",\"#00ff00\",\"#00ff00\",\"#00ff00\",\"#00ff00\",\"#00ffff\",\"#000000\",\"#00ff00\",\"#00ff00\",\"#00ff00\",\"#00ff00\",\"#00ffff\",\"#00ff00\",\"#00ff00\",\"#00ffff\",\"#00ffff\",\"#00ff00\",\"#00ff00\",\"#00ff00\",\"#00ffff\",\"#00ff00\",\"#00ff00\",\"#00ff00\",\"#00ff00\",\"#00ff00\",\"#00ffff\",\"#00ff00\",\"#00ff00\",\"#00ff00\",\"#00ff00\",\"#00ffff\",\"#00ff00\",\"#00ffff\",\"#00ffff\",\"#00ff00\",\"#00ff00\",\"#00ff00\",\"#00ff00\",\"#00ff00\",\"#00ff00\",\"#00ffff\",\"#00ff00\",\"#00ff00\",\"#00ff00\",\"#00ff00\",\"#00ff00\",\"#00ff00\",\"#00ff00\",\"#00ff00\",\"#00ff00\",\"#00ff00\",\"#00ffff\",\"#00ff00\",\"#00ff00\",\"#00ff00\",\"#00ff00\",\"#00ffff\",\"#00ff00\",\"#00ff00\",\"#00ff00\",\"#000000\",\"#00ff00\",\"#00ff00\",\"#00ff00\",\"#00ffff\",\"#00ffff\",\"#00ff00\",\"#00ff00\",\"#00ff00\",\"#00ff00\",\"#00ffff\",\"#00ff00\",\"#00ffff\",\"#00ff00\",\"#00ffff\",\"#00ff00\",\"#00ff00\",\"#00ff00\",\"#00ff00\",\"#00ff00\",\"#00ff00\",\"#00ff00\",\"#00ff00\",\"#00ff00\",\"#00ff00\",\"#000000\",\"#000000\",\"#00ff00\",\"#000000\",\"#00ff00\",\"#00ff00\",\"#00ff00\",\"#00ff00\",\"#00ff00\",\"#00ff00\",\"#00ff00\",\"#000000\",\"#000000\",\"#00ff00\",\"#00ffff\",\"#00ff00\",\"#00ff00\",\"#00ffff\",\"#00ff00\",\"#00ffff\",\"#000000\",\"#000000\",\"#00ff00\",\"#00ff00\",\"#00ffff\",\"#00ff00\",\"#00ff00\",\"#00ff00\",\"#00ff00\",\"#00ff00\",\"#00ffff\",\"#000000\",\"#00ff00\",\"#000000\",\"#000000\",\"#00ff00\",\"#00ff00\",\"#00ff00\",\"#00ff00\",\"#00ff00\",\"#00ff00\",\"#00ff00\",\"#00ff00\",\"#00ff00\",\"#00ff00\",\"#00ff00\",\"#00ff00\",\"#000000\",\"#00ff00\",\"#00ff00\",\"#000000\",\"#000000\",\"#00ff00\",\"#00ff00\",\"#00ff00\",\"#00ffff\",\"#00ff00\",\"#000000\",\"#00ff00\",\"#00ff00\",\"#00ff00\",\"#00ff00\",\"#00ff00\",\"#00ff00\",\"#00ffff\",\"#00ff00\",\"#00ff00\",\"#000000\",\"#00ff00\",\"#00ff00\",\"#00ff00\",\"#00ff00\",\"#00ff00\",\"#00ff00\",\"#00ff00\",\"#00ff00\",\"#00ff00\",\"#00ff00\",\"#00ff00\",\"#00ff00\",\"#00ff00\",\"#00ff00\",\"#00ff00\",\"#00ff00\",\"#00ff00\",\"#00ff00\",\"#00ff00\",\"#00ff00\",\"#00ff00\",\"#000000\",\"#00ffff\",\"#00ffff\",\"#00ff00\",\"#00ff00\",\"#000000\",\"#00ffff\",\"#00ffff\",\"#00ff00\",\"#000000\",\"#00ff00\",\"#00ff00\",\"#00ff00\",\"#00ff00\",\"#00ff00\",\"#00ff00\",\"#00ff00\",\"#00ffff\",\"#00ffff\",\"#000000\",\"#000000\",\"#00ff00\",\"#00ff00\",\"#00ff00\",\"#00ffff\",\"#00ff00\",\"#00ff00\",\"#00ff00\",\"#00ff00\",\"#00ff00\",\"#00ff00\",\"#00ff00\",\"#00ff00\",\"#00ff00\",\"#00ff00\",\"#00ff00\",\"#00ff00\",\"#00ff00\",\"#00ff00\",\"#00ff00\",\"#00ff00\",\"#00ff00\",\"#00ff00\",\"#000000\",\"#00ff00\",\"#00ff00\",\"#000000\",\"#00ff00\",\"#00ffff\",\"#00ffff\",\"#00ff00\",\"#00ff00\",\"#00ff00\",\"#00ff00\",\"#00ff00\",\"#00ff00\",\"#00ff00\",\"#00ffff\",\"#00ff00\",\"#00ffff\",\"#00ff00\",\"#00ff00\",\"#00ff00\",\"#00ff00\",\"#00ff00\",\"#00ff00\",\"#00ff00\",\"#00ff00\",\"#00ff00\",\"#00ff00\",\"#00ff00\",\"#00ffff\",\"#00ff00\",\"#00ffff\",\"#00ff00\",\"#00ff00\",\"#00ff00\",\"#00ff00\",\"#00ff00\",\"#00ff00\",\"#00ff00\",\"#00ffff\",\"#00ff00\",\"#00ff00\",\"#00ff00\",\"#000000\",\"#00ff00\",\"#00ff00\",\"#00ffff\",\"#00ff00\",\"#00ff00\",\"#00ff00\",\"#00ff00\",\"#00ff00\",\"#000000\",\"#00ff00\",\"#00ff00\",\"#00ff00\",\"#00ff00\",\"#00ff00\",\"#00ff00\",\"#000000\",\"#00ffff\",\"#000000\",\"#00ff00\",\"#00ff00\",\"#00ff00\",\"#00ff00\",\"#00ff00\",\"#00ff00\",\"#00ff00\",\"#00ff00\",\"#00ff00\",\"#00ff00\",\"#00ff00\",\"#00ff00\",\"#00ff00\",\"#000000\",\"#000000\",\"#00ff00\",\"#00ffff\",\"#00ff00\",\"#00ff00\",\"#00ff00\",\"#00ff00\",\"#00ff00\",\"#00ffff\",\"#00ff00\",\"#00ff00\",\"#00ff00\",\"#00ff00\",\"#00ff00\",\"#00ff00\",\"#00ff00\",\"#00ff00\",\"#00ff00\",\"#00ff00\",\"#00ff00\",\"#00ff00\",\"#00ff00\",\"#00ff00\",\"#00ff00\",\"#00ff00\",\"#00ff00\",\"#00ff00\",\"#00ff00\",\"#00ff00\",\"#00ff00\",\"#00ff00\",\"#00ff00\",\"#00ffff\",\"#00ff00\",\"#00ffff\",\"#00ff00\",\"#00ff00\",\"#00ff00\",\"#00ff00\",\"#00ff00\",\"#00ffff\",\"#00ff00\",\"#00ff00\",\"#00ff00\",\"#00ff00\",\"#00ff00\",\"#00ff00\",\"#00ff00\",\"#00ff00\",\"#000000\",\"#00ff00\",\"#00ff00\",\"#00ff00\",\"#00ff00\",\"#00ff00\",\"#00ff00\",\"#00ff00\",\"#00ff00\",\"#00ff00\",\"#00ff00\",\"#00ff00\",\"#00ff00\",\"#00ff00\",\"#00ffff\",\"#00ff00\",\"#00ff00\",\"#00ff00\",\"#00ff00\",\"#00ff00\",\"#00ff00\",\"#00ff00\",\"#00ff00\",\"#00ff00\",\"#00ff00\",\"#00ff00\",\"#00ff00\",\"#00ff00\",\"#00ff00\",\"#00ff00\",\"#00ff00\",\"#00ff00\",\"#00ff00\",\"#00ff00\",\"#00ff00\",\"#00ff00\",\"#00ff00\",\"#00ffff\",\"#00ff00\",\"#00ff00\",\"#00ff00\",\"#00ff00\",\"#00ff00\",\"#00ffff\",\"#00ff00\",\"#00ff00\",\"#00ff00\",\"#00ff00\",\"#00ff00\",\"#00ffff\",\"#00ff00\",\"#000000\",\"#00ff00\",\"#00ff00\",\"#00ff00\",\"#00ffff\",\"#00ff00\",\"#00ff00\",\"#000000\",\"#00ff00\",\"#00ff00\",\"#00ff00\",\"#00ff00\",\"#00ff00\",\"#00ff00\",\"#00ffff\",\"#00ff00\",\"#00ffff\",\"#000000\",\"#00ff00\",\"#00ff00\",\"#00ff00\",\"#000000\",\"#00ff00\",\"#00ff00\",\"#00ffff\",\"#00ff00\",\"#00ff00\",\"#00ffff\",\"#00ff00\",\"#000000\",\"#00ff00\",\"#000000\",\"#00ff00\",\"#00ffff\",\"#00ff00\",\"#00ff00\",\"#00ff00\",\"#00ffff\",\"#00ff00\",\"#00ff00\",\"#000000\",\"#00ff00\",\"#00ffff\",\"#00ff00\",\"#00ff00\",\"#00ff00\",\"#00ff00\",\"#00ff00\",\"#00ff00\",\"#00ffff\",\"#00ff00\",\"#00ff00\",\"#00ff00\",\"#00ff00\",\"#00ff00\",\"#00ffff\",\"#00ff00\",\"#00ff00\",\"#00ffff\",\"#00ff00\",\"#00ff00\",\"#00ff00\",\"#00ff00\",\"#00ff00\",\"#00ff00\",\"#00ff00\",\"#00ff00\",\"#00ff00\",\"#00ff00\",\"#00ff00\",\"#00ff00\",\"#00ff00\",\"#00ffff\",\"#00ff00\",\"#00ff00\",\"#00ffff\",\"#00ff00\",\"#00ff00\",\"#00ff00\",\"#00ffff\",\"#00ff00\",\"#00ff00\",\"#000000\",\"#00ffff\",\"#00ff00\",\"#00ff00\",\"#00ffff\",\"#00ff00\",\"#00ff00\",\"#00ffff\",\"#00ffff\",\"#00ff00\",\"#00ff00\",\"#00ff00\",\"#00ff00\",\"#00ffff\",\"#00ff00\",\"#00ff00\",\"#00ff00\",\"#00ff00\",\"#00ff00\",\"#00ff00\",\"#000000\",\"#000000\",\"#000000\",\"#00ffff\",\"#00ffff\",\"#00ff00\",\"#00ff00\",\"#00ff00\",\"#00ff00\",\"#00ff00\",\"#00ff00\",\"#00ff00\",\"#00ff00\",\"#00ff00\",\"#00ff00\",\"#00ff00\",\"#00ff00\",\"#00ff00\",\"#00ff00\",\"#00ff00\",\"#00ff00\",\"#00ff00\",\"#00ff00\",\"#00ff00\",\"#000000\",\"#00ff00\",\"#00ff00\",\"#000000\",\"#00ff00\",\"#00ff00\",\"#00ff00\",\"#00ff00\",\"#00ff00\",\"#000000\",\"#00ff00\",\"#00ff00\",\"#00ff00\",\"#00ff00\",\"#00ffff\",\"#00ffff\",\"#00ff00\",\"#00ffff\",\"#00ff00\",\"#00ffff\",\"#00ffff\",\"#00ff00\",\"#00ff00\",\"#00ff00\",\"#00ff00\",\"#00ffff\",\"#00ff00\",\"#00ff00\",\"#00ff00\",\"#00ff00\",\"#00ff00\",\"#00ff00\",\"#00ffff\",\"#00ff00\",\"#00ff00\",\"#00ff00\",\"#00ffff\",\"#00ffff\",\"#000000\",\"#00ff00\",\"#00ff00\",\"#00ff00\",\"#00ff00\",\"#00ffff\",\"#00ff00\",\"#00ff00\",\"#00ff00\",\"#00ff00\",\"#00ff00\",\"#000000\",\"#00ff00\",\"#00ff00\",\"#00ff00\",\"#00ff00\",\"#00ff00\",\"#00ff00\",\"#00ff00\",\"#00ff00\",\"#00ff00\",\"#00ffff\",\"#00ff00\",\"#00ff00\",\"#00ff00\",\"#00ff00\",\"#00ff00\",\"#00ff00\",\"#00ff00\",\"#00ff00\",\"#00ff00\",\"#00ff00\",\"#00ff00\",\"#00ff00\",\"#000000\",\"#00ff00\",\"#00ff00\",\"#00ff00\",\"#00ff00\",\"#00ff00\",\"#00ff00\",\"#00ff00\",\"#00ff00\",\"#00ff00\",\"#00ff00\",\"#00ff00\",\"#00ffff\",\"#00ff00\",\"#00ff00\",\"#00ffff\",\"#00ff00\",\"#00ff00\",\"#00ff00\",\"#00ff00\",\"#00ff00\",\"#00ff00\",\"#00ff00\",\"#00ff00\",\"#00ff00\",\"#00ffff\",\"#00ff00\",\"#00ff00\",\"#00ff00\",\"#00ff00\",\"#00ff00\",\"#00ffff\",\"#00ff00\",\"#000000\",\"#00ffff\",\"#00ff00\",\"#00ff00\",\"#00ff00\",\"#00ff00\",\"#00ffff\",\"#00ff00\",\"#00ff00\",\"#00ff00\",\"#00ff00\",\"#00ff00\",\"#000000\",\"#00ff00\",\"#00ff00\",\"#00ffff\",\"#00ff00\",\"#00ff00\",\"#00ff00\",\"#00ff00\",\"#00ff00\",\"#00ff00\",\"#00ff00\",\"#00ffff\",\"#00ff00\",\"#00ff00\",\"#00ff00\",\"#00ffff\",\"#00ff00\",\"#00ff00\",\"#00ff00\",\"#00ff00\",\"#00ff00\",\"#00ff00\",\"#00ff00\",\"#00ff00\",\"#00ff00\",\"#00ff00\",\"#00ff00\",\"#00ff00\",\"#000000\",\"#00ff00\",\"#000000\",\"#00ff00\",\"#00ff00\",\"#00ff00\",\"#000000\",\"#00ff00\",\"#000000\",\"#00ff00\",\"#00ff00\",\"#00ff00\",\"#00ff00\",\"#00ffff\",\"#00ff00\",\"#00ffff\",\"#00ff00\",\"#00ff00\",\"#00ffff\",\"#00ffff\",\"#00ffff\",\"#00ff00\",\"#00ff00\",\"#00ff00\",\"#00ff00\",\"#00ff00\",\"#00ffff\",\"#00ff00\",\"#00ff00\",\"#00ff00\",\"#00ff00\",\"#00ff00\",\"#00ff00\",\"#00ff00\",\"#00ffff\",\"#00ff00\",\"#00ff00\",\"#00ff00\",\"#00ff00\",\"#00ff00\",\"#00ff00\",\"#00ff00\",\"#00ff00\",\"#00ff00\",\"#00ff00\",\"#00ff00\",\"#00ff00\",\"#00ffff\",\"#00ff00\",\"#00ff00\",\"#00ff00\",\"#000000\",\"#00ff00\",\"#000000\",\"#00ff00\",\"#00ffff\",\"#00ff00\",\"#00ff00\",\"#00ffff\"],\"names\":[\"<unk>\",\"<pad>\",\"modi\",\"india\",\"peopl\",\"bjp\",\"like\",\"elect\",\"vote\",\"congress\",\"narendra\",\"nation\",\"govt\",\"year\",\"indian\",\"time\",\"countri\",\"dont\",\"want\",\"know\",\"sai\",\"support\",\"rahul\",\"govern\",\"new\",\"come\",\"power\",\"work\",\"parti\",\"minist\",\"gandhi\",\"think\",\"polit\",\"credit\",\"need\",\"leader\",\"good\",\"space\",\"ask\",\"said\",\"chowkidar\",\"win\",\"sir\",\"pakistan\",\"prime\",\"monei\",\"promis\",\"opposit\",\"scientist\",\"announc\",\"dai\",\"achiev\",\"todai\",\"live\",\"job\",\"address\",\"hai\",\"question\",\"right\",\"world\",\"thing\",\"great\",\"talk\",\"thank\",\"corrupt\",\"let\",\"drdo\",\"poor\",\"satellit\",\"person\",\"media\",\"anti\",\"nehru\",\"develop\",\"nirav\",\"happen\",\"campaign\",\"lakh\",\"watch\",\"famili\",\"best\",\"wai\",\"go\",\"mission\",\"better\",\"that\",\"scheme\",\"start\",\"give\",\"seat\",\"crore\",\"make\",\"man\",\"stop\",\"state\",\"look\",\"bhakt\",\"hate\",\"call\",\"proud\",\"given\",\"test\",\"tell\",\"got\",\"issu\",\"tweet\",\"public\",\"hindu\",\"ye\",\"try\",\"rule\",\"chang\",\"jai\",\"strike\",\"congratul\",\"contest\",\"help\",\"love\",\"shah\",\"mean\",\"speech\",\"success\",\"understand\",\"follow\",\"big\",\"upa\",\"namo\",\"didnt\",\"sure\",\"ralli\",\"take\",\"muslim\",\"gui\",\"get\",\"differ\",\"shakti\",\"missil\",\"believ\",\"attack\",\"reason\",\"fight\",\"asat\",\"creat\",\"fake\",\"speak\",\"read\",\"doesnt\",\"hope\",\"fail\",\"pappu\",\"account\",\"interview\",\"feel\",\"wait\",\"bank\",\"isro\",\"gave\",\"true\",\"forc\",\"respons\",\"blame\",\"fact\",\"candid\",\"show\",\"respect\",\"shame\",\"fool\",\"real\",\"destroi\",\"secur\",\"answer\",\"bring\",\"voter\",\"face\",\"case\",\"wrong\",\"stand\",\"problem\",\"decis\",\"join\",\"video\",\"capabl\",\"don\",\"claim\",\"poll\",\"terrorist\",\"chor\",\"economi\",\"varanasi\",\"major\",\"run\",\"us\",\"yr\",\"launch\",\"farmer\",\"polici\",\"team\",\"term\",\"word\",\"life\",\"conduct\",\"strong\",\"import\",\"ppl\",\"expect\",\"bhi\",\"save\",\"hand\",\"bharat\",\"point\",\"happi\",\"kill\",\"sarkar\",\"report\",\"court\",\"leadership\",\"plan\",\"code\",\"awai\",\"china\",\"busi\",\"dear\",\"post\",\"tax\",\"sabha\",\"chief\",\"surgic\",\"educ\",\"air\",\"wish\",\"wont\",\"lok\",\"complet\",\"friend\",\"armi\",\"scam\",\"defeat\",\"free\",\"hard\",\"lot\",\"possibl\",\"matter\",\"goe\",\"democraci\",\"till\",\"econom\",\"app\",\"politician\",\"shri\",\"actual\",\"seen\",\"citizen\",\"long\",\"mind\",\"care\",\"agre\",\"lose\",\"gujarat\",\"taken\",\"statement\",\"gener\",\"worri\",\"pak\",\"prove\",\"came\",\"plai\",\"amit\",\"bad\",\"rememb\",\"hind\",\"fear\",\"commiss\",\"singh\",\"proof\",\"god\",\"th\",\"took\",\"lost\",\"action\",\"month\",\"futur\",\"channel\",\"instead\",\"act\",\"allow\",\"common\",\"place\",\"project\",\"loot\",\"li\",\"bail\",\"loan\",\"thought\",\"critic\",\"commun\",\"share\",\"incom\",\"antisatellit\",\"high\",\"violat\",\"releas\",\"modiji\",\"wave\",\"cong\",\"movi\",\"rss\",\"meet\",\"vision\",\"continu\",\"shot\",\"abus\",\"left\",\"target\",\"open\",\"poverti\",\"agenda\",\"youth\",\"shoot\",\"set\",\"entir\",\"journalist\",\"clear\",\"terror\",\"failur\",\"truth\",\"decid\",\"remov\",\"war\",\"end\",\"black\",\"delhi\",\"forget\",\"updat\",\"biggest\",\"pai\",\"biopic\",\"low\",\"write\",\"messag\",\"south\",\"accept\",\"trust\",\"idea\",\"comment\",\"model\",\"provid\",\"nda\",\"wonder\",\"hatr\",\"kind\",\"super\",\"deserv\",\"main\",\"kashmir\",\"ahead\",\"institut\",\"won\",\"far\",\"clean\",\"offic\",\"singl\",\"oppos\",\"women\",\"past\",\"turn\",\"old\",\"prais\",\"readi\",\"raga\",\"soon\",\"chanc\",\"leav\",\"compar\",\"level\",\"jumla\",\"second\",\"check\",\"listen\",\"result\",\"safe\",\"benefit\",\"doubt\",\"histori\",\"request\",\"increas\",\"huge\",\"posit\",\"repli\",\"spread\",\"desper\",\"hit\",\"stupid\",\"abl\",\"stori\",\"unemploy\",\"growth\",\"total\",\"law\",\"told\",\"number\",\"ambani\",\"film\",\"successfulli\",\"twitter\",\"hear\",\"return\",\"dream\",\"head\",\"jail\",\"fan\",\"priyanka\",\"fund\",\"mallya\",\"social\",\"debat\",\"moment\",\"constitu\",\"what\",\"assam\",\"deliv\",\"indira\",\"pl\",\"lac\",\"courag\",\"patriot\",\"have\",\"ticket\",\"demonetis\",\"visit\",\"propaganda\",\"blind\",\"presid\",\"idiot\",\"list\",\"build\",\"declar\",\"send\",\"includ\",\"logic\",\"lead\",\"remain\",\"nyai\",\"form\",\"lol\",\"deal\",\"definit\",\"pass\",\"offici\",\"arnab\",\"intern\",\"press\",\"defenc\",\"implement\",\"deni\",\"hater\",\"mention\",\"view\",\"scare\",\"ignor\",\"realiti\",\"line\",\"liber\",\"sell\",\"isnt\",\"imran\",\"land\",\"vijai\",\"ground\",\"home\",\"paid\",\"balakot\",\"independ\",\"antimodi\",\"rais\",\"foreign\",\"aap\",\"articl\",\"expos\",\"rest\",\"brought\",\"soldier\",\"went\",\"honest\",\"present\",\"class\",\"ensur\",\"khan\",\"correct\",\"game\",\"yogi\",\"challeng\",\"progress\",\"meerut\",\"order\",\"regim\",\"hous\",\"london\",\"pradesh\",\"sens\",\"step\",\"learn\",\"master\",\"explain\",\"minor\",\"grow\",\"base\",\"he\",\"perform\",\"self\",\"express\",\"kya\",\"surpris\",\"promot\",\"reach\",\"dynasti\",\"note\",\"cast\",\"data\",\"technolog\",\"member\",\"can\",\"final\",\"nahi\",\"bhai\",\"april\",\"stai\",\"bodi\",\"interest\",\"peac\",\"market\",\"current\",\"mumkin\",\"high_voltag\",\"choic\",\"gang\",\"absolut\",\"mistak\",\"appreci\",\"pulwama\",\"miss\",\"pakistani\",\"rafal\",\"concern\",\"narr\",\"ban\",\"protect\",\"rich\",\"sorri\",\"danger\",\"hold\",\"victori\",\"weapon\",\"earth\",\"effort\",\"earlier\",\"fals\",\"joke\",\"special\",\"orbit\",\"aur\",\"break\",\"wast\",\"choos\",\"inform\",\"jawan\",\"march\",\"young\",\"link\",\"gone\",\"gut\",\"har\",\"sit\",\"enjoi\",\"million\",\"loos\",\"allianc\",\"jee\",\"didn\",\"name\",\"confid\",\"criticis\",\"serv\",\"connect\",\"group\",\"opinion\",\"brother\",\"rate\",\"employ\",\"languag\",\"accus\",\"popular\",\"relat\",\"accord\",\"opportun\",\"tri\",\"record\",\"father\",\"ram\",\"sonia\",\"count\",\"rajan\",\"bless\",\"lack\",\"evid\",\"seek\",\"raid\",\"sourc\",\"atleast\",\"fulfil\",\"direct\",\"suffer\",\"son\",\"gain\",\"contribut\",\"hell\",\"simpl\",\"heard\",\"awar\",\"deposit\",\"arm\",\"constitut\",\"era\",\"minut\",\"slogan\",\"ndtv\",\"exactli\",\"threat\",\"earn\",\"celebr\",\"small\",\"adani\",\"cost\",\"drama\",\"heart\",\"led\",\"minimum\",\"odisha\",\"fall\",\"file\",\"karnataka\",\"trailer\",\"notic\",\"villag\",\"situat\",\"road\",\"advani\",\"enemi\",\"guess\",\"tenur\",\"economist\",\"offer\",\"decad\",\"nationalist\",\"consid\",\"exist\",\"permiss\",\"hour\",\"statu\",\"week\",\"welcom\",\"card\",\"rd\",\"see\",\"amethi\",\"initi\",\"trump\",\"worst\",\"clearli\",\"previou\",\"plz\",\"secular\",\"basic\",\"favour\",\"program\",\"control\",\"hain\",\"north\",\"gst\",\"shameless\",\"baar\",\"republ\",\"shit\",\"voic\",\"carri\",\"imagin\",\"unlik\",\"compani\",\"hide\",\"human\",\"shown\",\"transfer\",\"brain\",\"bui\",\"commit\",\"antin\",\"ji\",\"desh\",\"insult\",\"kar\",\"abt\",\"close\",\"known\",\"lie\",\"role\",\"wah\",\"toh\",\"coz\",\"death\",\"pictur\",\"kumar\",\"unit\",\"doesn\",\"option\",\"cours\",\"inspir\",\"type\",\"religion\",\"discuss\",\"actor\",\"effect\",\"judg\",\"manmohan\",\"your\",\"improv\",\"knowledg\",\"mother\",\"bar\",\"book\",\"chowkidaar\",\"congi\",\"divid\",\"middl\",\"victory_hand\",\"caus\",\"fraud\",\"dare\",\"kejriw\",\"appeal\",\"produc\",\"pro\",\"ago\",\"confer\",\"jammu\",\"attent\",\"exampl\",\"requir\",\"saw\",\"btw\",\"hei\",\"manag\",\"st\",\"sad\",\"kick\",\"keep\",\"begin\",\"worker\",\"parliament\",\"wow\",\"neg\",\"theatr\",\"rupe\",\"elector\",\"photo\",\"yeah\",\"yesterdai\",\"forward\",\"littl\",\"citi\",\"built\",\"railwai\",\"imag\",\"involv\",\"alleg\",\"recent\",\"reelect\",\"ey\",\"freedom\",\"jaitlei\",\"despit\",\"surviv\",\"demand\",\"easi\",\"kuch\",\"reject\",\"upcom\",\"afraid\",\"counter\",\"salut\",\"serious\",\"troll\",\"elit\",\"sleep\",\"kept\",\"pm\",\"liar\",\"mock\",\"depart\",\"intellig\",\"research\",\"sector\",\"bcoz\",\"handl\",\"rise\",\"rs\",\"seri\",\"establish\",\"superpow\",\"there\",\"cbi\",\"crimin\",\"match\",\"repres\",\"eat\",\"nice\",\"madam\",\"train\",\"price\",\"suggest\",\"bangalor\",\"congrat\",\"collect\",\"societi\",\"worth\",\"ideolog\",\"move\",\"board\",\"spend\",\"swami\",\"activ\",\"mein\",\"arrest\",\"modishah\",\"cover\",\"loss\",\"water\",\"andhra\",\"realis\",\"belong\",\"star\",\"defend\",\"abhinandan\",\"cultur\",\"doubl\",\"area\",\"gdp\",\"joker\",\"kid\",\"oper\",\"beat\",\"non\",\"pride\",\"bro\",\"detail\",\"vajpaye\",\"ag\",\"food\",\"honour\",\"skill\",\"enter\",\"equal\",\"governor\",\"select\",\"moron\",\"nonsens\",\"servic\",\"hatao\",\"sold\",\"late\",\"mental\",\"on\",\"mm\",\"similar\",\"directli\",\"massiv\",\"tea\",\"din\",\"kerala\",\"phir\",\"global\",\"tamil\",\"rbi\",\"russia\",\"cabinet\",\"croni\",\"mayb\",\"popul\",\"wife\",\"sent\",\"approv\",\"dog\",\"ministri\",\"central\",\"region\",\"smart\",\"wit\",\"charg\",\"health\",\"bigger\",\"centr\",\"repeat\",\"shout\",\"unfortun\",\"pic\",\"rural\",\"event\",\"justic\",\"riot\",\"cheat\",\"gov\",\"hail\",\"highest\",\"men\",\"mrmodi\",\"travel\",\"emerg\",\"hero\",\"joshi\",\"reduc\",\"demonet\",\"militari\",\"mumbai\",\"put\",\"standard\",\"budget\",\"receiv\",\"chant\",\"democrat\",\"amaz\",\"respond\",\"ga\",\"school\",\"intellectu\",\"half\",\"mouth\",\"field\",\"laugh\",\"scienc\",\"univers\",\"dumb\",\"toilet\",\"excel\",\"chair\",\"hindi\",\"local\",\"ad\",\"maker\",\"rajasthan\",\"probabl\",\"sign\",\"figur\",\"ghar\",\"push\",\"survei\",\"chit\",\"difficult\",\"red_heart\",\"cut\",\"ill\",\"latest\",\"ly\",\"nuclear\",\"programm\",\"simpli\",\"east\",\"focu\",\"hindustan\",\"sab\",\"sri\",\"confus\",\"gonna\",\"murder\",\"faith\",\"feku\",\"interact\",\"tomorrow\",\"border\",\"credibl\",\"raghuram\",\"teach\",\"thousand\",\"tune\",\"appear\",\"limit\",\"openli\",\"strengthen\",\"cr\",\"paper\",\"tough\",\"zero\",\"kashmiri\",\"slam\",\"strength\",\"valu\",\"complain\",\"confirm\",\"nomin\",\"who\",\"bengal\",\"disast\",\"pidi\",\"mass\",\"date\",\"degre\",\"fourth\",\"qualiti\",\"block\",\"chaiwala\",\"usual\",\"fellow\",\"letter\",\"senior\",\"later\",\"add\",\"bollywood\",\"di\",\"threaten\",\"born\",\"bihar\",\"fun\",\"song\",\"wise\",\"forev\",\"hindutva\",\"billion\",\"engin\",\"intent\",\"ladi\",\"luck\",\"raj\",\"fine\",\"guarante\",\"shouldnt\",\"night\",\"period\",\"corpor\",\"gujrat\",\"prai\",\"strategi\",\"throw\",\"prepar\",\"slave\",\"children\",\"freebi\",\"highlight\",\"investig\",\"vadra\",\"demonstr\",\"sanghi\",\"attempt\",\"especi\",\"fir\",\"mamata\",\"sound\",\"west\",\"written\",\"boss\",\"crime\",\"fair\",\"extrem\",\"gift\",\"remind\",\"cry\",\"daili\",\"fascist\",\"templ\",\"brand\",\"download\",\"student\",\"avail\",\"crowd\",\"impact\",\"morn\",\"rajdeep\",\"reserv\",\"secret\",\"hurt\",\"male_sign\",\"manifesto\",\"tejasvi\",\"cheap\",\"frustrat\",\"knew\",\"silent\",\"predict\",\"urg\",\"bias\",\"cell\",\"kcr\",\"remonetis\",\"journei\",\"altern\",\"award\",\"dead\",\"outsid\",\"reform\",\"saraswat\",\"appli\",\"duti\",\"iaf\",\"object\",\"lynch\",\"ruin\",\"shock\",\"trend\",\"condit\",\"escap\",\"larg\",\"organis\",\"remark\",\"foolish\",\"nd\",\"wors\",\"journal\",\"motiv\",\"propos\",\"vivek\",\"fugit\",\"inflat\",\"innoc\",\"niti\",\"tha\",\"piec\",\"shut\",\"wear\",\"advertis\",\"congressi\",\"influenc\",\"mark\",\"perfect\",\"polic\",\"surya\",\"track\",\"cross\",\"short\",\"\\u0936\\u092c\\u091a\",\"assur\",\"extradit\",\"girl\",\"histor\",\"beg\",\"refer\",\"reveal\",\"burn\",\"damag\",\"exclus\",\"expert\",\"boi\",\"child\",\"electr\",\"finish\",\"realiz\",\"solv\",\"spent\",\"weak\",\"biryani\",\"delai\",\"suprem\",\"agenc\",\"fought\",\"punish\",\"replac\",\"basi\",\"dynast\",\"empow\",\"truli\",\"convinc\",\"natur\",\"pain\",\"you\",\"antiindia\",\"balanc\",\"chose\",\"shortli\",\"battl\",\"bit\",\"cow\",\"fix\",\"pure\",\"bcz\",\"copi\",\"divert\",\"stage\",\"suit\",\"touch\",\"cash\",\"everybodi\",\"process\",\"welfar\",\"disappoint\",\"fault\",\"kiya\",\"plea\",\"suppos\",\"useless\",\"uttar\",\"bold\",\"digit\",\"fuck\",\"height\",\"inr\",\"jet\",\"jobless\",\"kindli\",\"mam\",\"lesson\",\"liter\",\"movement\",\"naidu\",\"recov\",\"refus\",\"transform\",\"affect\",\"feat\",\"funni\",\"author\",\"financi\",\"tag\",\"convert\",\"insid\",\"bigot\",\"distribut\",\"owaisi\",\"traitor\",\"anybodi\",\"argument\",\"crook\",\"execut\",\"mere\",\"neutral\",\"rajiv\",\"resign\",\"spoke\",\"studi\",\"telangana\",\"thug\",\"here\",\"individu\",\"product\",\"sack\",\"treat\",\"unemploi\",\"analysi\",\"dedic\",\"environ\",\"moral\",\"properti\",\"shift\",\"oppon\",\"visionari\",\"youtub\",\"mai\",\"sky\",\"fulli\",\"islam\",\"prosper\",\"mla\",\"prefer\",\"back\",\"grand\",\"near\",\"ran\",\"bluff\",\"held\",\"invit\",\"section\",\"anil\",\"art\",\"bark\",\"belov\",\"die\",\"financ\",\"forgot\",\"margin\",\"pick\",\"poorest\",\"vika\",\"wasnt\",\"mad\",\"paint\",\"prioriti\",\"shall\",\"style\",\"bloodi\",\"club\",\"union\",\"convers\",\"industri\",\"masood\",\"anymor\",\"invest\",\"misus\",\"plu\",\"director\",\"fast\",\"goswami\",\"largest\",\"practic\",\"trap\",\"arunach\",\"risk\",\"usa\",\"eci\",\"immedi\",\"isi\",\"patel\",\"pledg\",\"apart\",\"auction\",\"stronger\",\"brave\",\"tshirt\",\"walk\",\"advantag\",\"approach\",\"infrastructur\",\"mess\",\"pull\",\"retir\",\"sharma\",\"boost\",\"dirti\",\"narend\",\"shud\",\"aim\",\"bsp\",\"lutyen\",\"british\",\"encourag\",\"wouldnt\",\"yojana\",\"admit\",\"assembl\",\"bother\",\"bsf\",\"easili\",\"haha\",\"retweet\",\"search\",\"arrog\",\"arun\",\"bribe\",\"dictat\",\"jump\",\"religi\",\"atal\",\"fly\",\"king\",\"light\",\"min\",\"season\",\"tht\",\"avoid\",\"blood\",\"depend\",\"factor\",\"fill\",\"hitler\",\"journo\",\"mehul\",\"oberoi\",\"quot\",\"scientif\",\"arent\",\"attend\",\"bomb\",\"certainli\",\"english\",\"gadkari\",\"incid\",\"lick\",\"nod\",\"npa\",\"violenc\",\"civil\",\"imposs\",\"jagan\",\"mamta\",\"maximum\",\"puppet\",\"yadav\",\"ass\",\"complaint\",\"defens\",\"garibi\",\"reaction\",\"thread\",\"advanc\",\"hat\",\"mcc\",\"pocket\",\"behav\",\"deep\",\"pathet\",\"privat\",\"resourc\",\"atm\",\"beef\",\"condemn\",\"construct\",\"incompet\",\"kei\",\"obvious\",\"airstrik\",\"core\",\"pmo\",\"protest\",\"sinha\",\"wayanad\",\"arriv\",\"pressur\",\"topic\",\"gimmick\",\"km\",\"meant\",\"acknowledg\",\"alli\",\"coward\",\"experi\",\"leagu\",\"mata\",\"mp\",\"ridicul\",\"airport\",\"brilliant\",\"chokidar\",\"choksi\",\"higher\",\"spirit\",\"intoler\",\"kanhaiya\",\"payer\",\"sake\",\"utter\",\"hypocrisi\",\"indic\",\"liy\",\"smiling_fac\",\"comparison\",\"destruct\",\"evil\",\"baba\",\"babu\",\"charact\",\"loksabha\",\"scrap\",\"accomplish\",\"met\",\"web\",\"assum\",\"honor\",\"solut\",\"stunt\",\"fit\",\"goal\",\"nadu\",\"sister\",\"steal\",\"wake\",\"chamcha\",\"dude\",\"elimin\",\"measur\",\"northeast\",\"wednesdai\",\"advis\",\"averag\",\"hello\",\"par\",\"rhetor\",\"safeti\",\"street\",\"subsidi\",\"wala\",\"wud\",\"abil\",\"drop\",\"mar\",\"obsess\",\"asset\",\"bash\",\"career\",\"gun\",\"introduc\",\"irani\",\"page\",\"rank\",\"crisi\",\"nhi\",\"thrown\",\"toler\",\"annual\",\"bet\",\"debri\",\"divis\",\"havent\",\"mudra\",\"whatsapp\",\"baat\",\"badli\",\"boot\",\"hahaha\",\"headlin\",\"mindset\",\"struggl\",\"wing\",\"appoint\",\"creation\",\"dalit\",\"dole\",\"find\",\"goon\",\"harm\",\"isn\",\"purpos\",\"ball\",\"pandit\",\"regist\",\"urban\",\"yeh\",\"afford\",\"cup\",\"diya\",\"impress\",\"mayawati\",\"newspap\",\"woman\",\"kudo\",\"compet\",\"content\",\"doval\",\"evm\",\"mandat\",\"normal\",\"side\",\"ani\",\"akhilesh\",\"bengaluru\",\"didi\",\"origin\",\"rahe\",\"strateg\",\"chidambaram\",\"daughter\",\"digest\",\"ganga\",\"highli\",\"hypocrit\",\"looter\",\"spokesperson\",\"asham\",\"attitud\",\"calcul\",\"suddenli\",\"wealth\",\"favor\",\"greatest\",\"justifi\",\"magic\",\"manufactur\",\"mega\",\"sanction\",\"tukd\",\"waiv\",\"clearanc\",\"lower\",\"mandir\",\"manner\",\"pilot\",\"print\",\"uttarakhand\",\"will\",\"camp\",\"christian\",\"cricket\",\"disgrac\",\"jibe\",\"log\",\"lord\",\"mislead\",\"path\",\"proper\",\"rocket\",\"sentiment\",\"illiter\",\"ipl\",\"lalit\",\"rare\",\"wat\",\"abroad\",\"aspir\",\"disgust\",\"fire\",\"gather\",\"indirectli\",\"victim\",\"agent\",\"certain\",\"damn\",\"earli\",\"energi\",\"okai\",\"rafael\",\"slap\",\"wale\",\"warn\",\"genuin\",\"grant\",\"hardwork\",\"oppn\",\"sick\",\"stone\",\"angri\",\"banerje\",\"endors\",\"fiscal\",\"observ\",\"america\",\"chines\",\"doctor\",\"drive\",\"googl\",\"math\",\"smriti\",\"trick\",\"troubl\",\"tum\",\"dept\",\"distress\",\"gujarati\",\"maharashtra\",\"modibjp\",\"sort\",\"caught\",\"defam\",\"dynam\",\"understood\",\"broadcast\",\"capac\",\"chairman\",\"madhavan\",\"pretti\",\"rajnath\",\"react\",\"white\",\"admir\",\"catch\",\"centuri\",\"everydai\",\"legal\",\"sat\",\"treatment\",\"demo\",\"probe\",\"arvind\",\"cbn\",\"felt\",\"integr\",\"organ\",\"platform\",\"associ\",\"chest\",\"committe\",\"expens\",\"famou\",\"honesti\",\"hug\",\"paki\",\"plane\",\"unpreced\",\"corner\",\"design\",\"door\",\"excit\",\"humbl\",\"startup\",\"talent\",\"awesom\",\"azhar\",\"bought\",\"capit\",\"necessari\",\"rid\",\"westminst\",\"applic\",\"blast\",\"cap\",\"car\",\"filmmak\",\"janta\",\"leo\",\"publish\",\"race\",\"salari\",\"thief\",\"vadodara\",\"center\",\"click\",\"godi\",\"unabl\",\"upset\",\"aayog\",\"beauti\",\"bond\",\"brigad\",\"curs\",\"mode\",\"punjab\",\"round\",\"tak\",\"uncl\",\"waiver\",\"examin\",\"loworbit\",\"potenti\",\"televis\",\"thump\",\"trip\",\"advic\",\"certif\",\"dig\",\"drink\",\"duo\",\"invent\",\"mig\",\"sun\",\"uneduc\",\"chandrababu\",\"emot\",\"jealou\",\"soul\",\"stuff\",\"anywai\",\"ashwin\",\"bhakti\",\"extent\",\"feed\",\"folk\",\"frm\",\"jd\",\"nota\",\"raha\",\"signific\",\"suicid\",\"swiss\",\"affair\",\"anchor\",\"beneficiari\",\"chai\",\"convict\",\"scale\",\"version\",\"background\",\"bullshit\",\"pnb\",\"regard\",\"toi\",\"venom\",\"visibl\",\"appeas\",\"bridg\",\"dmk\",\"neta\",\"stock\",\"bhakth\",\"pakoda\",\"tall\",\"burnol\",\"controversi\",\"erad\",\"extra\",\"honbl\",\"jan\",\"obviou\",\"percent\",\"spell\",\"subject\",\"withdraw\",\"administr\",\"appar\",\"brahmin\",\"ecosystem\",\"entertain\",\"illeg\",\"leftist\",\"aggress\",\"anger\",\"betrai\",\"flop\",\"italian\",\"machin\",\"mob\",\"particip\",\"roll\",\"hint\",\"mileston\",\"monger\",\"nri\",\"parent\",\"ride\",\"shine\",\"stick\",\"abdullah\",\"acquir\",\"maintain\",\"rant\",\"tour\",\"youngster\",\"aaj\",\"bachao\",\"cheer\",\"district\",\"employe\",\"foot\",\"fridai\",\"irrespect\",\"longer\",\"mahagathbandhan\",\"mobil\",\"partner\",\"sensibl\",\"wrote\",\"argu\",\"asid\",\"bear\",\"captur\",\"coalit\",\"competit\",\"green\",\"kalyan\",\"maam\",\"phase\",\"sikh\",\"silenc\",\"consult\",\"focus\",\"guard\",\"piti\",\"properli\",\"raja\",\"sarab\",\"score\",\"taxpay\",\"tech\",\"western\",\"birth\",\"boast\",\"default\",\"demon\",\"disclos\",\"gaya\",\"greet\",\"hum\",\"israel\",\"pradhan\",\"strongli\",\"theori\",\"thi\",\"aliv\",\"combin\",\"debt\",\"desir\",\"feet\",\"hinduism\",\"rape\",\"sing\",\"coverag\",\"firm\",\"nervou\",\"perman\",\"pet\",\"pollut\",\"reflect\",\"rudrapur\",\"spare\",\"chaukidar\",\"command\",\"defin\",\"displai\",\"eas\",\"extend\",\"fighter\",\"judiciari\",\"offend\",\"symbol\",\"theatric\",\"changer\",\"cook\",\"dbt\",\"lawyer\",\"magistr\",\"malya\",\"moon\",\"resolv\",\"revers\",\"sale\",\"script\",\"shree\",\"transpar\",\"wash\",\"bahadur\",\"bat\",\"blindli\",\"dailyhunt\",\"finger\",\"forgotten\",\"gold\",\"rattl\",\"tactic\",\"wipe\",\"wire\",\"blunder\",\"hardli\",\"honestli\",\"iv\",\"koi\",\"lover\",\"neglect\",\"satisfi\",\"screw\",\"specif\",\"speed\",\"spot\",\"stroke\",\"surjewala\",\"bullet\",\"bunch\",\"farm\",\"flag\",\"purchas\",\"scenario\",\"signal\",\"specul\",\"tear\",\"valid\",\"asia\",\"becoz\",\"currenc\",\"digniti\",\"embarrass\",\"engag\",\"husband\",\"jihadi\",\"miser\",\"pretend\",\"upto\",\"dark\",\"extremist\",\"hon\",\"manohar\",\"marri\",\"mnrega\",\"modifi\",\"recognis\",\"stoog\",\"translat\",\"bootlick\",\"comedi\",\"crap\",\"document\",\"forgiv\",\"foundat\",\"greater\",\"karo\",\"lion\",\"modern\",\"network\",\"reddi\",\"thursdai\",\"ti\",\"agricultur\",\"behalf\",\"blow\",\"enabl\",\"precis\",\"rao\",\"rival\",\"root\",\"sena\",\"straight\",\"uniti\",\"communist\",\"erosnow\",\"inch\",\"phone\",\"plant\",\"principl\",\"row\",\"subscrib\",\"cancel\",\"drag\",\"export\",\"function\",\"sabka\",\"ultim\",\"capitalist\",\"cool\",\"nair\",\"nsa\",\"percept\",\"rel\",\"rock\",\"station\",\"strict\",\"taraf\",\"bye\",\"clown\",\"hype\",\"lotu\",\"lucki\",\"naxal\",\"own\",\"profil\",\"somebodi\",\"apn\",\"await\",\"ayog\",\"bia\",\"contract\",\"determin\",\"episod\",\"healthcar\",\"ident\",\"matur\",\"merchandis\",\"oath\",\"proven\",\"reward\",\"rubbish\",\"twist\",\"backward\",\"blah\",\"deliber\",\"fakendra\",\"hidden\",\"loser\",\"masterstrok\",\"naam\",\"schedul\",\"theyr\",\"tmc\",\"breakthrough\",\"clarifi\",\"favourit\",\"hoga\",\"memori\",\"omg\",\"petrol\",\"presenc\",\"reveng\",\"rightli\",\"spoil\",\"stood\",\"stoop\",\"winner\",\"youll\",\"appl\",\"breath\",\"comedian\",\"dislik\",\"editor\",\"excus\",\"guru\",\"indulg\",\"infact\",\"mantri\",\"multipl\",\"onlin\",\"profession\",\"scene\",\"shop\",\"task\",\"uturn\",\"wanna\",\"blog\",\"chill\",\"conspiraci\",\"crazi\",\"humili\",\"josh\",\"lal\",\"prevail\",\"red\",\"richest\",\"sphere\",\"theprint\",\"airforc\",\"andh\",\"attract\",\"billionair\",\"colleg\",\"karma\",\"learnt\",\"lowest\",\"manipul\",\"poster\",\"qualif\",\"yojna\",\"abhi\",\"abki\",\"adityanath\",\"ayushman\",\"bjpmodi\",\"coupl\",\"facebook\",\"fantast\",\"ironi\",\"legaci\",\"neerav\",\"no\",\"pace\",\"particular\",\"radio\",\"relationship\",\"saal\",\"silli\",\"undermin\",\"veteran\",\"chutiya\",\"exchief\",\"mood\",\"polaris\",\"profit\",\"ration\",\"tamilnadu\",\"twice\",\"addit\",\"colour\",\"danc\",\"domin\",\"donat\",\"fastest\",\"helicopt\",\"lier\",\"revolut\",\"agar\",\"aid\",\"babi\",\"bright\",\"diplomaci\",\"disagre\",\"female_sign\",\"glad\",\"grab\",\"hang\",\"haryana\",\"hashtag\",\"internet\",\"peddl\",\"politicis\",\"prosecut\",\"screen\",\"spoken\",\"upper\",\"bigotri\",\"compromis\",\"diplomat\",\"gupta\",\"jnu\",\"labour\",\"nitin\",\"oil\",\"part\",\"pre\",\"shd\",\"site\",\"tulsi\",\"alert\",\"chosen\",\"dat\",\"gutter\",\"holder\",\"iron\",\"lata\",\"nawaz\",\"panel\",\"peak\",\"shatrughan\",\"teacher\",\"airlin\",\"arrang\",\"bound\",\"dawood\",\"draw\",\"hota\",\"identifi\",\"killer\",\"parliamentari\",\"prevent\",\"relev\",\"sweep\",\"sympathi\",\"tej\",\"thei\",\"tsunami\",\"aircraft\",\"attach\",\"exploit\",\"mantra\",\"nearli\",\"papu\",\"sirf\",\"titl\",\"ajit\",\"equat\",\"fed\",\"forest\",\"label\",\"resort\",\"sentenc\",\"settl\",\"sycoph\",\"tree\",\"clip\",\"conclus\",\"consequ\",\"eagerli\",\"graduat\",\"locat\",\"mahatma\",\"nahin\",\"typic\",\"aka\",\"citizenship\",\"da\",\"highwai\",\"joint\",\"stalin\",\"strang\",\"thackerai\",\"tho\",\"facil\",\"hema\",\"inspit\",\"payment\",\"pmmodi\",\"retain\",\"the\",\"viral\",\"achh\",\"apolog\",\"carefulli\",\"consist\",\"delet\",\"dismiss\",\"ego\",\"empower\",\"even\",\"gay\",\"janata\",\"orop\",\"piddi\",\"quick\",\"wide\",\"bal\",\"coin\",\"concentr\",\"deficit\",\"flight\",\"itna\",\"kurnool\",\"lpg\",\"pitch\",\"qualifi\",\"suck\",\"technic\",\"tv\",\"uplift\",\"urmila\",\"waah\",\"access\",\"alloc\",\"asaduddin\",\"dialogu\",\"everyon\",\"hospit\",\"insur\",\"jacket\",\"medic\",\"mera\",\"mom\",\"ordinari\",\"pdp\",\"proudli\",\"remot\",\"sacrific\",\"scamster\",\"snatch\",\"sought\",\"tire\",\"tremend\",\"activist\",\"appropri\",\"assault\",\"attain\",\"baap\",\"co\",\"dalal\",\"elig\",\"fish\",\"inaugur\",\"injustic\",\"mafia\",\"occupi\",\"pend\",\"pseudo\",\"solid\",\"tejaswi\",\"wage\",\"american\",\"blabber\",\"cent\",\"dictatorship\",\"dollar\",\"irrelev\",\"itali\",\"kaam\",\"presstitut\",\"review\",\"room\",\"sarkaar\",\"sole\",\"suppress\",\"worship\",\"bangladesh\",\"cloth\",\"couldn\",\"dad\",\"demonitis\",\"dhan\",\"effici\",\"emploi\",\"heavi\",\"loyalti\",\"mr\",\"norm\",\"sadli\",\"she\",\"surrend\",\"tdp\",\"telecast\",\"yaar\",\"ab\",\"butcher\",\"categori\",\"duffer\",\"fortun\",\"found\",\"hyderabad\",\"infiltr\",\"noon\",\"overal\",\"poison\",\"rush\",\"selfish\",\"separ\",\"shiv\",\"switch\",\"tracker\",\"acch\",\"acronym\",\"annum\",\"bag\",\"calm\",\"cartoon\",\"ceo\",\"concept\",\"due\",\"dump\",\"exam\",\"fetch\",\"heavili\",\"how\",\"industrialist\",\"iss\",\"jawaharl\",\"jii\",\"logo\",\"propag\",\"propoganda\",\"relief\",\"sincer\",\"stall\",\"websit\",\"amend\",\"aspect\",\"belief\",\"cylind\",\"dhruv\",\"elder\",\"flat\",\"herald\",\"jharkhand\",\"laid\",\"maha\",\"nail\",\"saint\",\"shamelessli\",\"spine\",\"statist\",\"subramanian\",\"convei\",\"disrespect\",\"fate\",\"fell\",\"flaw\",\"guilti\",\"hua\",\"leap\",\"malini\",\"odd\",\"outcom\",\"owner\",\"rail\",\"renam\",\"saffron\",\"sath\",\"servant\",\"taught\",\"tribut\",\"watchman\",\"zee\",\"alien\",\"bbc\",\"began\",\"discov\",\"ero\",\"hungri\",\"info\",\"ravi\",\"reap\",\"relax\",\"befit\",\"chowkidhar\",\"complex\",\"context\",\"crash\",\"crpf\",\"describ\",\"disastr\",\"discredit\",\"exchang\",\"factori\",\"foul\",\"guid\",\"hal\",\"holi\",\"in\",\"instal\",\"jhumla\",\"lazi\",\"patra\",\"secretari\",\"smile\",\"sushma\",\"wisdom\",\"aadhar\",\"akhnoor\",\"analys\",\"bare\",\"contact\",\"conveni\",\"deed\",\"except\",\"farooq\",\"hopefulli\",\"iit\",\"innov\",\"mat\",\"mile\",\"ofcours\",\"petit\",\"quit\",\"seiz\",\"shape\",\"stadium\",\"town\",\"trade\",\"assist\",\"brainless\",\"disturb\",\"element\",\"ethic\",\"krishna\",\"mileag\",\"netanyahu\",\"pant\",\"pellet\",\"permit\",\"prison\",\"sambit\",\"sharab\",\"shirt\",\"submit\",\"applaud\",\"astrolog\",\"audienc\",\"bol\",\"civilian\",\"comfort\",\"depriv\",\"driven\",\"fuel\",\"gowda\",\"hire\",\"insecur\",\"omar\",\"prior\",\"scream\",\"spin\",\"tight\",\"uri\",\"vanish\",\"wht\",\"artist\",\"bharath\",\"dy\",\"everytim\",\"heat\",\"ideal\",\"lift\",\"loyal\",\"marriag\",\"possess\",\"reviv\",\"saath\",\"tension\",\"terribl\",\"thiev\",\"vand\",\"analyst\",\"angel\",\"ashok\",\"bharatiya\",\"chowkidari\",\"church\",\"crack\",\"flee\",\"glori\",\"hav\",\"healthi\",\"impos\",\"jave\",\"lectur\",\"massacr\",\"narendar\",\"ow\",\"phd\",\"prize\",\"profess\",\"rapist\",\"resid\",\"sardar\",\"suppli\",\"swachh\",\"unbias\",\"wall\",\"advoc\",\"demean\",\"dint\",\"fabric\",\"fresh\",\"gandhinagar\",\"goa\",\"hr\",\"karyakarta\",\"koraput\",\"lalu\",\"petti\",\"phobia\",\"sangh\",\"soft\",\"statur\",\"weaken\",\"wil\",\"band\",\"bastard\",\"deliveri\",\"eventu\",\"formula\",\"friendli\",\"hole\",\"immens\",\"jab\",\"mask\",\"pack\",\"passion\",\"pension\",\"presidenti\",\"puri\",\"sahab\",\"slow\",\"speaker\",\"spew\",\"stake\",\"succe\",\"uddhav\",\"wouldn\",\"bewar\",\"bite\",\"brainwash\",\"conclav\",\"crucial\",\"culprit\",\"decent\",\"dress\",\"genocid\",\"grade\",\"grave\",\"haven\",\"instruct\",\"kam\",\"licker\",\"map\",\"middlemen\",\"obc\",\"pig\",\"strongest\",\"sum\",\"tr\",\"venezuela\",\"aayega\",\"an\",\"arithmet\",\"birthdai\",\"booth\",\"bu\",\"cadr\",\"congresss\",\"damodarda\",\"dirt\",\"dnt\",\"equival\",\"european\",\"harmoni\",\"incred\",\"insan\",\"karn\",\"sanjai\",\"statesman\",\"stuck\",\"sundai\",\"vice\",\"volunt\",\"ananth\",\"assert\",\"bihari\",\"chacha\",\"crush\",\"exercis\",\"explan\",\"fruit\",\"harass\",\"hot\",\"kapil\",\"machineri\",\"mallaya\",\"modih\",\"nautanki\",\"piss\",\"privileg\",\"showcas\",\"sponsor\",\"visa\",\"abolish\",\"absurd\",\"bankrupt\",\"broken\",\"burden\",\"clue\",\"enforc\",\"entri\",\"featur\",\"founder\",\"garbag\",\"golden\",\"gover\",\"gujju\",\"hilari\",\"index\",\"jem\",\"kare\",\"medicin\",\"nai\",\"opportunist\",\"pokhran\",\"quiet\",\"river\",\"roam\",\"rout\",\"secondli\",\"shekhar\",\"tejaswini\",\"cm\",\"compuls\",\"demolish\",\"diseas\",\"dishearten\",\"entitl\",\"fascism\",\"karna\",\"murli\",\"neighbour\",\"ohh\",\"opindia\",\"professor\",\"shouldn\",\"spineless\",\"stanc\",\"stolen\",\"urself\",\"verdict\",\"wasn\",\"woh\",\"writer\",\"abv\",\"adopt\",\"angl\",\"automat\",\"aviat\",\"ba\",\"bid\",\"dil\",\"disappear\",\"firmli\",\"household\",\"martyr\",\"mohan\",\"narendramodi\",\"radic\",\"recommend\",\"tast\",\"ayodhya\",\"bombai\",\"box\",\"boycott\",\"bpl\",\"commi\",\"countrymen\",\"damodar\",\"diamantair\",\"driver\",\"fame\",\"gathbandhan\",\"giriraj\",\"gohpur\",\"helm\",\"jain\",\"kamal\",\"mgnrega\",\"milk\",\"opp\",\"revenu\",\"saturdai\",\"soch\",\"stream\",\"sustain\",\"tackl\",\"tool\",\"belittl\",\"brief\",\"cite\",\"edit\",\"estim\",\"feather\",\"fyi\",\"geniu\",\"habit\",\"hardcor\",\"helpless\",\"iam\",\"incumb\",\"jaya\",\"limelight\",\"merci\",\"outrag\",\"prefix\",\"ujjwala\",\"airwai\",\"assess\",\"barkha\",\"dna\",\"fallen\",\"hunger\",\"jio\",\"judgement\",\"merit\",\"mitron\",\"narind\",\"player\",\"rahi\",\"retali\",\"rti\",\"shake\",\"sin\",\"split\",\"spy\",\"suspect\",\"unbeliev\",\"abhisar\",\"asshol\",\"bjd\",\"bolo\",\"chahiy\",\"chap\",\"dhoni\",\"electrif\",\"extens\",\"fled\",\"grown\",\"immatur\",\"inclus\",\"kanpur\",\"kisan\",\"lobbi\",\"meme\",\"msg\",\"msme\",\"nowadai\",\"oblig\",\"paisa\",\"park\",\"perfectli\",\"prasad\",\"primari\",\"publicli\",\"quint\",\"rai\",\"royal\",\"sane\",\"sever\",\"sharif\",\"sink\",\"socal\",\"stabil\",\"stole\",\"stress\",\"superb\",\"swing\",\"tata\",\"tradit\",\"unhappi\",\"verifi\",\"ambassador\",\"backfir\",\"bahut\",\"beaten\",\"buddi\",\"cancer\",\"champion\",\"consum\",\"discours\",\"easier\",\"hike\",\"intend\",\"kaha\",\"loud\",\"nois\",\"portrai\",\"preach\",\"psu\",\"reput\",\"robert\",\"sardesai\",\"sha\",\"smoke\",\"whine\",\"wid\",\"youv\",\"accident\",\"aris\",\"attribut\",\"divers\",\"down\",\"enlighten\",\"entrepreneur\",\"essenti\",\"exit\",\"favorit\",\"feb\",\"icon\",\"jait\",\"kannada\",\"karan\",\"load\",\"mangeshkar\",\"mirror\",\"obama\",\"orat\",\"oust\",\"parivar\",\"patna\",\"photograph\",\"postpon\",\"princ\",\"regret\",\"sahib\",\"saudi\",\"ship\",\"sibal\",\"slowli\",\"suffici\",\"theyll\",\"thn\",\"tourism\",\"worldwid\",\"am\",\"anim\",\"apologis\",\"bow\",\"button\",\"clap\",\"conflict\",\"giant\",\"godhra\",\"jais\",\"joi\",\"kitna\",\"malign\",\"music\",\"mynt\",\"particularli\",\"planet\",\"proclaim\",\"promin\",\"prosecutor\",\"rat\",\"recogn\",\"reign\",\"seller\",\"similarli\",\"sport\",\"xxxxx\",\"ambit\",\"ashish\",\"belt\",\"bent\",\"broke\",\"brutal\",\"businessmen\",\"clueless\",\"cud\",\"declin\",\"den\",\"diff\",\"epic\",\"experienc\",\"goyal\",\"jewel\",\"kumaraswami\",\"maharaja\",\"outstand\",\"personnel\",\"restor\",\"restrict\",\"sahi\",\"salman\",\"shakthi\",\"telugu\",\"tone\",\"trash\",\"aadhaar\",\"abandon\",\"advisor\",\"anand\",\"anna\",\"bana\",\"chori\",\"commission\",\"correctli\",\"doom\",\"draft\",\"exact\",\"filthi\",\"formal\",\"gap\",\"intellect\",\"iran\",\"kart\",\"mockeri\",\"nose\",\"packag\",\"perspect\",\"reuter\",\"sea\",\"succeed\",\"suspend\",\"theater\",\"uniqu\",\"worthi\",\"at\",\"blue\",\"camera\",\"classic\",\"coal\",\"comprehens\",\"crop\",\"doctrin\",\"dust\",\"grace\",\"hundr\",\"ilk\",\"imp\",\"instanc\",\"irrit\",\"lifetim\",\"luxuri\",\"naya\",\"nightmar\",\"panic\",\"patient\",\"plot\",\"poem\",\"polar\",\"preciou\",\"prospect\",\"putin\",\"queue\",\"regular\",\"repeatedli\",\"resist\",\"soil\",\"subscript\",\"trillion\",\"tripl\",\"where\",\"wtf\",\"achiv\",\"atom\",\"bunker\",\"chao\",\"curiou\",\"degrad\",\"drug\",\"faster\",\"gareebi\",\"grate\",\"handout\",\"hasn\",\"hue\",\"jha\",\"kabhi\",\"kickstart\",\"momentum\",\"moran\",\"nope\",\"passport\",\"rhe\",\"saheb\",\"scum\",\"shankar\",\"shld\",\"teleprompt\",\"thrive\",\"thy\",\"trp\",\"twitterati\",\"ugli\",\"unfair\",\"vacat\",\"wouldv\",\"amount\",\"behaviour\",\"captain\",\"collaps\",\"constantli\",\"dekh\",\"feasibl\",\"front\",\"gai\",\"gate\",\"indigen\",\"outer\",\"pais\",\"percentag\",\"portfolio\",\"sirji\",\"stabl\",\"substanti\",\"tat\",\"tortur\",\"versu\",\"ahmedabad\",\"apna\",\"aveng\",\"broker\",\"businessman\",\"candidatur\",\"chhattisgarh\",\"colleagu\",\"color\",\"compel\",\"conclud\",\"contrari\",\"courtesi\",\"creativ\",\"decreas\",\"dekho\",\"donald\",\"flow\",\"gotten\",\"hors\",\"investor\",\"kalam\",\"khangress\",\"korea\",\"lesser\",\"liquor\",\"materi\",\"milit\",\"mix\",\"pawar\",\"politic\",\"pronounc\",\"rang\",\"rob\",\"sacrif\",\"session\",\"sheer\",\"size\",\"stat\",\"staunch\",\"sub\",\"thier\",\"trail\",\"vow\",\"whistl\",\"wine\",\"ach\",\"aint\",\"bang\",\"beta\",\"bhushan\",\"bore\",\"breach\",\"bsnl\",\"deng\",\"dent\",\"distract\",\"fanat\",\"frame\",\"hardik\",\"importantli\",\"incap\",\"interfer\",\"laud\",\"mainstream\",\"matondkar\",\"monitor\",\"mute\",\"neech\",\"papa\",\"pen\",\"physic\",\"prachar\",\"reli\",\"rip\",\"roi\",\"salesman\",\"sam\",\"shadow\",\"socialist\",\"system\",\"thr\",\"tiger\",\"uniform\",\"venu\",\"weaker\",\"yechuri\",\"younger\",\"aren\",\"atmospher\",\"cake\",\"circul\",\"clever\",\"closer\",\"dar\",\"foe\",\"gen\",\"goahead\",\"guj\",\"implic\",\"larger\",\"misguid\",\"net\",\"nsso\",\"pathankot\",\"prakash\",\"procedur\",\"rahulji\",\"rathe\",\"resolut\",\"roadshow\",\"snake\",\"suitabl\",\"taunt\",\"trader\",\"upgrad\",\"urgent\",\"zindabad\",\"aiim\",\"allah\",\"allegedli\",\"banker\",\"beggar\",\"bust\",\"chota\",\"choukidar\",\"concret\",\"custom\",\"dei\",\"error\",\"guidanc\",\"hesit\",\"hmm\",\"illog\",\"irrespons\",\"jindabad\",\"kim\",\"mukesh\",\"myth\",\"nazi\",\"pin\",\"rashtra\",\"recal\",\"tharoor\",\"tizzi\",\"wais\",\"wed\",\"ahm\",\"atalji\",\"atroc\",\"bhim\",\"bla\",\"bogu\",\"chal\",\"consolid\",\"discrimin\",\"domest\",\"electrifi\",\"emin\",\"fold\",\"fraudster\",\"friendship\",\"fudg\",\"gentleman\",\"intens\",\"ism\",\"kia\",\"maa\",\"monkei\",\"pan\",\"racist\",\"recoveri\",\"saab\",\"safeguard\",\"sanit\",\"separatist\",\"shield\",\"slip\",\"sudden\",\"tere\",\"territori\",\"vehicl\",\"warm\",\"aam\",\"ais\",\"analog\",\"aunti\",\"baki\",\"beti\",\"blatant\",\"cheater\",\"childhood\",\"eastern\",\"edg\",\"equip\",\"fundament\",\"glass\",\"guha\",\"hack\",\"heaven\",\"hoon\",\"iim\",\"knw\",\"mataram\",\"mysteri\",\"occas\",\"pillar\",\"rabid\",\"sare\",\"shashi\",\"store\",\"suspens\",\"sweet\",\"timelin\",\"tribal\",\"vacanc\",\"vallei\",\"aadmi\",\"akhtar\",\"anytim\",\"arr\",\"authent\",\"baad\",\"bench\",\"cec\",\"confisc\",\"credenti\",\"devot\",\"disciplin\",\"flourish\",\"gayi\",\"glorifi\",\"holidai\",\"impli\",\"item\",\"kaun\",\"lai\",\"launder\",\"matlab\",\"mujh\",\"mukt\",\"neighbor\",\"plenti\",\"prostitut\",\"rajeev\",\"rana\",\"randeep\",\"relianc\",\"routin\",\"rumour\",\"shoe\",\"shoulder\",\"spbsp\",\"struck\",\"studio\",\"telegraph\",\"tongu\",\"transact\",\"veloc\",\"weather\",\"ala\",\"azad\",\"bco\",\"begusarai\",\"bharatvarsh\",\"brag\",\"buri\",\"circu\",\"crib\",\"cuz\",\"deshbhakt\",\"differenti\",\"dissent\",\"donkei\",\"fart\",\"gross\",\"hahahaha\",\"happili\",\"historian\",\"jagannath\",\"knock\",\"mani\",\"method\",\"now\",\"onward\",\"opt\",\"orgasm\",\"pair\",\"retard\",\"robust\",\"rupani\",\"sen\",\"sham\",\"sidelin\",\"slept\",\"staff\",\"structur\",\"superior\",\"tabl\",\"tirelessli\",\"tonight\",\"academ\",\"bada\",\"bird\",\"bureaucrat\",\"cafe\",\"darbari\",\"endeavour\",\"enhanc\",\"firstpost\",\"frankli\",\"freeli\",\"insist\",\"jaipur\",\"japan\",\"kyu\",\"megar\",\"motherland\",\"nehruji\",\"populist\",\"pose\",\"prada\",\"rajya\",\"random\",\"ravish\",\"rogu\",\"sez\",\"sooner\",\"surnam\",\"trigger\",\"underestim\",\"unleash\",\"weed\",\"weve\",\"\\u0938\\u0930\\u0915\",\"abp\",\"alcohol\",\"auto\",\"bitch\",\"cold\",\"contrast\",\"corridor\",\"crow\",\"distanc\",\"exagger\",\"expenditur\",\"fashion\",\"handpick\",\"horribl\",\"kejri\",\"lag\",\"liya\",\"longest\",\"neck\",\"patienc\",\"photoshop\",\"plank\",\"pti\",\"rahulgandhi\",\"ratna\",\"raul\",\"ruler\",\"seed\",\"sickular\",\"sushil\",\"thoda\",\"trial\",\"undertaken\",\"urdu\",\"vegetarian\",\"vest\",\"warrior\",\"yup\",\"zone\",\"accid\",\"amus\",\"audac\",\"bitter\",\"circl\",\"curb\",\"drastic\",\"electron\",\"franc\",\"germani\",\"goi\",\"hunt\",\"immigr\",\"infra\",\"kolkata\",\"metro\",\"misrul\",\"myanmar\",\"nitish\",\"nobel\",\"penni\",\"prashant\",\"previous\",\"reliev\",\"rld\",\"scoundrel\",\"segment\",\"spite\",\"transport\",\"vendetta\",\"wind\",\"airspac\",\"bengali\",\"berojgar\",\"borrow\",\"builder\",\"bypass\",\"ca\",\"canvass\",\"chalo\",\"charter\",\"creator\",\"cri\",\"cycl\",\"dal\",\"denial\",\"devast\",\"devil\",\"diamond\",\"dishonest\",\"escal\",\"extern\",\"focuss\",\"gestur\",\"glimps\",\"hafiz\",\"isol\",\"kaftan\",\"keen\",\"lage\",\"leak\",\"legend\",\"length\",\"mei\",\"ministeri\",\"misadventur\",\"naiv\",\"nephew\",\"offens\",\"rakesh\",\"sattelit\",\"sevak\",\"spit\",\"stash\",\"storm\",\"summer\",\"sunris\",\"syndrom\",\"tihar\",\"vindic\",\"antimissil\",\"arab\",\"awak\",\"banara\",\"bedi\",\"bhage\",\"bread\",\"butter\",\"cat\",\"chandra\",\"childish\",\"coffer\",\"confess\",\"cooper\",\"crown\",\"dena\",\"deterr\",\"dharma\",\"ear\",\"expel\",\"firstli\",\"gaddar\",\"gautam\",\"globe\",\"gud\",\"gullibl\",\"invok\",\"malik\",\"mate\",\"mil\",\"modibut\",\"modimodi\",\"mulayam\",\"narrow\",\"ncp\",\"nepal\",\"ongo\",\"op\",\"queen\",\"quickli\",\"quota\",\"rcb\",\"rescu\",\"rjd\",\"rssbjp\",\"selfless\",\"snub\",\"squar\",\"stamp\",\"swaraj\",\"swear\",\"talli\",\"thano\",\"theme\",\"theyv\",\"window\",\"youngest\",\"agreement\",\"ajai\",\"amid\",\"anyai\",\"bastion\",\"bind\",\"bjprss\",\"blackmail\",\"blitz\",\"certifi\",\"chawkidar\",\"clariti\",\"cpi\",\"cun\",\"ditch\",\"exempt\",\"fee\",\"filth\",\"grandfath\",\"grew\",\"ineffici\",\"leg\",\"liabil\",\"maya\",\"mufti\",\"nagar\",\"ngo\",\"parrot\",\"pok\",\"pursu\",\"rascal\",\"rose\",\"sach\",\"sakta\",\"sharp\",\"shukla\",\"tab\",\"ubi\",\"unnecessari\",\"upload\",\"util\",\"aalo\",\"acheiv\",\"agni\",\"alarm\",\"ancestor\",\"antiindian\",\"audit\",\"bangladeshi\",\"bed\",\"bin\",\"commend\",\"conscienc\",\"cute\",\"dam\",\"deepli\",\"demonit\",\"development\",\"doabl\",\"dozen\",\"enterpris\",\"format\",\"gabbard\",\"garib\",\"gloriou\",\"greed\",\"gyan\",\"hook\",\"indra\",\"infront\",\"khud\",\"lash\",\"lollipop\",\"lure\",\"maddi\",\"narcissist\",\"nut\",\"out\",\"pehl\",\"pil\",\"plain\",\"raghu\",\"recruit\",\"reiter\",\"rejoic\",\"saboot\",\"sachin\",\"scratch\",\"seal\",\"sight\",\"sleepless\",\"southern\",\"talkatora\",\"thoothukudi\",\"ton\",\"tweetstorm\",\"aimim\",\"andhbhakt\",\"blackmonei\",\"boat\",\"bull\",\"chicken\",\"chopper\",\"civilis\",\"coincid\",\"comeback\",\"comic\",\"delight\",\"destin\",\"discard\",\"environment\",\"esp\",\"facilit\",\"fade\",\"gamechang\",\"heart_suit\",\"hollow\",\"host\",\"hoti\",\"jaitli\",\"jayega\",\"kabir\",\"kahan\",\"kisi\",\"kitchen\",\"legitim\",\"lunch\",\"mahal\",\"middleclass\",\"modii\",\"monthli\",\"mum\",\"partial\",\"pata\",\"paytm\",\"priminist\",\"realist\",\"reckless\",\"sabotag\",\"safer\",\"seven\",\"skin\",\"sympathis\",\"thapar\",\"usd\",\"vast\",\"aaya\",\"abscond\",\"annoi\",\"antihindu\",\"benifit\",\"bhakta\",\"blatantli\",\"chennai\",\"constant\",\"contain\",\"cpim\",\"deceiv\",\"desai\",\"donot\",\"dunga\",\"enthusiasm\",\"factual\",\"fort\",\"gehlot\",\"glue\",\"greedi\",\"haan\",\"haunt\",\"hurri\",\"insight\",\"introspect\",\"lap\",\"limitless\",\"looser\",\"lowearth\",\"mahamilavat\",\"manoj\",\"miracl\",\"nagpur\",\"nia\",\"parasit\",\"potato\",\"privatis\",\"raaj\",\"saar\",\"sarcasm\",\"shatter\",\"slaveri\",\"townhal\",\"tripura\",\"verma\",\"wapsi\",\"yearli\",\"yoga\",\"accumul\",\"actress\",\"akbaruddin\",\"banana\",\"bankruptci\",\"beliv\",\"blink\",\"cloud\",\"compens\",\"consider\",\"council\",\"deshdrohi\",\"embrac\",\"fav\",\"fdi\",\"femal\",\"gandi\",\"ghandi\",\"hve\",\"jealousi\",\"kais\",\"max\",\"monster\",\"monument\",\"mrnarendra\",\"nasa\",\"naveen\",\"nurtur\",\"oppress\",\"optic\",\"promo\",\"provis\",\"revolutionari\",\"sarcast\",\"smell\",\"synonym\",\"taint\",\"tank\",\"trait\",\"unknown\",\"verg\",\"vibrant\",\"vocal\",\"yashodaben\",\"ac\",\"aisa\",\"antipoor\",\"bai\",\"bakth\",\"begun\",\"bhagwan\",\"bolt\",\"centric\",\"chase\",\"chat\",\"conspir\",\"dalla\",\"decenc\",\"depict\",\"dignifi\",\"discount\",\"distort\",\"divin\",\"domain\",\"drdoisro\",\"dum\",\"elabor\",\"fare\",\"feder\",\"fragil\",\"gaali\",\"guest\",\"harsh\",\"heartiest\",\"jeet\",\"juggernaut\",\"junior\",\"lean\",\"livelihood\",\"mi\",\"navi\",\"overcom\",\"overwhelm\",\"perpetu\",\"pit\",\"pitroda\",\"prof\",\"regress\",\"regul\",\"roar\",\"shahid\",\"shatru\",\"sop\",\"substanc\",\"surfac\",\"taj\",\"thrash\",\"unawar\",\"unveil\",\"utterli\",\"villain\",\"volum\",\"warfar\",\"withdrawn\",\"aag\",\"admiss\",\"adress\",\"ananthkumar\",\"avatar\",\"aw\",\"baroda\",\"bc\",\"but\",\"cabal\",\"conferenc\",\"convent\",\"creatur\",\"custodi\",\"daddi\",\"deleg\",\"der\",\"disguis\",\"excess\",\"falsehood\",\"februari\",\"garner\",\"gr\",\"gvt\",\"jago\",\"jaishemoham\",\"jhoot\",\"kannadiga\",\"kashi\",\"laga\",\"libtard\",\"mmj\",\"modithem\",\"msm\",\"msp\",\"nake\",\"neglig\",\"pimp\",\"preced\",\"prestigi\",\"primeminist\",\"proport\",\"puls\",\"refrain\",\"renew\",\"resembl\",\"scholar\",\"shastri\",\"shell\",\"stomach\",\"testfir\",\"user\",\"wen\",\"akbar\",\"amazon\",\"anticip\",\"balochistan\",\"behavior\",\"berozgar\",\"biriyani\",\"bose\",\"bowl\",\"burnt\",\"celeb\",\"ceremoni\",\"column\",\"criteria\",\"defer\",\"devote\",\"dictionari\",\"dimwit\",\"dismantl\",\"dose\",\"dumbo\",\"ev\",\"festiv\",\"gobar\",\"gods\",\"guardian\",\"gulam\",\"hammer\",\"headquart\",\"hung\",\"idol\",\"incharg\",\"islamist\",\"jao\",\"kovind\",\"legisl\",\"mankad\",\"marvel\",\"masjid\",\"mehbooba\",\"narrat\",\"nehrugandhi\",\"nidhi\",\"numer\",\"occur\",\"oscar\",\"plight\",\"pmopm\",\"poorer\",\"queri\",\"rg\",\"richer\",\"sagarika\",\"sakti\",\"sensit\",\"setup\",\"shiver\",\"spark\",\"sting\",\"tail\",\"taker\",\"thumb\",\"treasuri\",\"umpir\",\"underwai\",\"unsaf\",\"unturn\",\"violent\",\"virtual\",\"acquit\",\"align\",\"asap\",\"assad\",\"bluf\",\"bravo\",\"breed\",\"climat\",\"coloni\",\"cpm\",\"cult\",\"cure\",\"decim\",\"depress\",\"desi\",\"dete\",\"detect\",\"deve\",\"dilut\",\"dish\",\"dramat\",\"eras\",\"fearless\",\"gear\",\"hijack\",\"immin\",\"interpret\",\"itll\",\"jeypor\",\"kab\",\"kickback\",\"kinda\",\"lame\",\"lao\",\"lock\",\"madhav\",\"mentor\",\"minu\",\"modia\",\"modinom\",\"mosqu\",\"mushroom\",\"nobl\",\"noida\",\"peon\",\"perpetr\",\"pliabl\",\"prestitut\",\"pump\",\"regularli\",\"sarabhai\",\"satisfact\",\"shakha\",\"shy\",\"soo\",\"summit\",\"swai\",\"sweat\",\"tera\",\"text\",\"thunder\",\"tragedi\",\"umesh\",\"up\",\"wali\",\"affili\",\"alok\",\"ancient\",\"apt\",\"australia\",\"babri\",\"backbon\",\"backstab\",\"be\",\"benami\",\"betray\",\"bhagat\",\"bulli\",\"chandrashekhar\",\"chattisgarh\",\"congr\",\"congressmen\",\"contend\",\"crass\",\"critiqu\",\"dada\",\"deputi\",\"dhokla\",\"etern\",\"expand\",\"flood\",\"forth\",\"forum\",\"hall\",\"heartland\",\"hoard\",\"hote\",\"ia\",\"illus\",\"incent\",\"janpath\",\"ju\",\"judici\",\"junk\",\"lapdog\",\"lekin\",\"loc\",\"mama\",\"medium\",\"mouthpiec\",\"needi\",\"negoti\",\"newli\",\"nov\",\"nuke\",\"orissa\",\"padma\",\"pal\",\"patrakar\",\"pattern\",\"perceiv\",\"raho\",\"rap\",\"rha\",\"risen\",\"saeed\",\"samajwadi\",\"sec\",\"serial\",\"sidhu\",\"singer\",\"srk\",\"teeth\",\"throne\",\"top\",\"willing\",\"woo\",\"york\",\"aan\",\"abdul\",\"arena\",\"ashutosh\",\"authoritarian\",\"baseless\",\"benefici\",\"bill\",\"blown\",\"bole\",\"casualti\",\"disclosur\",\"diwali\",\"dono\",\"explos\",\"financialxpress\",\"habitu\",\"hearti\",\"hostil\",\"huh\",\"hurdl\",\"insensit\",\"instrument\",\"jawahar\",\"jihad\",\"jingoism\",\"jinnah\",\"lak\",\"mann\",\"mismanag\",\"mount\",\"mulla\",\"offenc\",\"oratori\",\"piyush\",\"port\",\"prop\",\"rein\",\"scrutini\",\"senseless\",\"sex\",\"shed\",\"smarter\",\"stretch\",\"toxic\",\"tweeter\",\"unpopular\",\"valour\",\"ventur\",\"watchmen\",\"yuva\",\"aay\",\"accha\",\"allevi\",\"ambedkar\",\"apologist\",\"articul\",\"asian\",\"autocrat\",\"awaken\",\"baloch\",\"bola\",\"bottl\",\"broad\",\"carpet\",\"cheerlead\",\"crude\",\"darr\",\"deceit\",\"deport\",\"dispens\",\"dot\",\"encount\",\"endless\",\"footstep\",\"ghotala\",\"ghu\",\"hopeless\",\"ic\",\"indecis\",\"intention\",\"invad\",\"issro\",\"kher\",\"kyun\",\"lmao\",\"meal\",\"mechan\",\"megalomaniac\",\"mindless\",\"nonbjp\",\"paramet\",\"patholog\",\"pleas\",\"pleasur\",\"pvt\",\"que\",\"reduct\",\"renown\",\"sandip\",\"sapna\",\"saviour\",\"scandal\",\"scoot\",\"stab\",\"stun\",\"sugarcan\",\"supervis\",\"surround\",\"swach\",\"systemat\",\"tom\",\"undo\",\"untru\",\"vultur\",\"warmong\",\"werent\",\"acha\",\"adr\",\"adventur\",\"afghanistan\",\"allot\",\"amartya\",\"anonym\",\"anxieti\",\"ardent\",\"bhakat\",\"ble\",\"booklet\",\"boom\",\"burst\",\"charisma\",\"chhota\",\"chore\",\"disrupt\",\"drain\",\"eager\",\"editori\",\"emperor\",\"enorm\",\"europ\",\"feedback\",\"forefath\",\"gaurav\",\"glove\",\"goodwil\",\"heck\",\"heritag\",\"hogi\",\"homework\",\"humour\",\"hyper\",\"incit\",\"inevit\",\"inferior\",\"inherit\",\"jahan\",\"kha\",\"mahesh\",\"mainli\",\"mandya\",\"minion\",\"mod\",\"mullah\",\"mutual\",\"nifti\",\"notebandi\",\"ntr\",\"nyt\",\"oversea\",\"pagal\",\"parallel\",\"pew\",\"prayer\",\"proxi\",\"punch\",\"recognit\",\"reel\",\"represent\",\"selfi\",\"sexual\",\"sheet\",\"shouldv\",\"sitaram\",\"skip\",\"spade\",\"sworn\",\"toe\",\"traffic\",\"tragic\",\"urgenc\",\"whatsoev\",\"worsen\",\"yatra\",\"zealand\",\"acc\",\"akshai\",\"alright\",\"analyz\",\"anapadh\",\"apni\",\"ayega\",\"badal\",\"buffoon\",\"cag\",\"canada\",\"chowksi\",\"circumst\",\"cnn\",\"coffe\",\"com\",\"conced\",\"contradict\",\"craft\",\"cruel\",\"deaf\",\"despic\",\"disput\",\"disqualifi\",\"doordarshan\",\"dub\",\"ep\",\"erdogan\",\"expertis\",\"fadnavi\",\"farc\",\"finest\",\"first\",\"float\",\"gem\",\"gujrati\",\"hahahahaha\",\"hair\",\"handsom\",\"harder\",\"hesh\",\"hindustani\",\"hurl\",\"hypothet\",\"imparti\",\"impot\",\"incorrect\",\"januari\",\"jay\",\"kareng\",\"karta\",\"lokpal\",\"masquerad\",\"messiah\",\"misinform\",\"modiit\",\"motto\",\"namast\",\"naresh\",\"nirmala\",\"paradis\",\"paralysi\",\"predecessor\",\"prejudic\",\"rage\",\"ratan\",\"rebel\",\"recit\",\"reson\",\"scari\",\"sensat\",\"sheep\",\"shitti\",\"shower\",\"someon\",\"stride\",\"subtl\",\"swipe\",\"thinker\",\"threw\",\"tiwari\",\"tribe\",\"uproot\",\"ur\",\"valuabl\",\"vendor\",\"viciou\",\"vikram\",\"vile\",\"webseri\",\"why\",\"yep\",\"advers\",\"all\",\"amar\",\"amitabh\",\"amith\",\"arei\",\"bakht\",\"befool\",\"carrier\",\"chip\",\"chokidaar\",\"conceiv\",\"confront\",\"conquer\",\"contractor\",\"costli\",\"couldv\",\"decod\",\"derail\",\"destini\",\"doklam\",\"evad\",\"extraordinari\",\"fascin\",\"flower\",\"frequent\",\"gabbar\",\"garb\",\"groom\",\"grudg\",\"hamar\",\"hotel\",\"hub\",\"humor\",\"imaginari\",\"intact\",\"invinc\",\"isliy\",\"isra\",\"jaisa\",\"male\",\"mathemat\",\"misde\",\"missionari\",\"modirahul\",\"modiy\",\"motor\",\"mutra\",\"not\",\"nrc\",\"ocean\",\"orient\",\"partit\",\"rafel\",\"rain\",\"rama\",\"raw\",\"repair\",\"revok\",\"rig\",\"rot\",\"scope\",\"secretli\",\"standup\",\"statesmanship\",\"sticker\",\"surat\",\"teja\",\"tip\",\"treati\",\"troop\",\"tuesdai\",\"ujwala\",\"unexpect\",\"viabl\",\"viewer\",\"vigilant\",\"willpow\",\"woke\",\"afteral\",\"agrarian\",\"antibjp\",\"bachchan\",\"bahumat\",\"banner\",\"bibi\",\"boil\",\"chacko\",\"chain\",\"chart\",\"cheif\",\"clan\",\"coach\",\"constip\",\"cum\",\"currupt\",\"dancer\",\"depth\",\"dhume\",\"dick\",\"do\",\"drown\",\"dry\",\"fever\",\"hadnt\",\"halt\",\"harri\",\"ind\",\"indiapakistan\",\"input\",\"instig\",\"internation\",\"isko\",\"isrodrdo\",\"jandhan\",\"karti\",\"knee\",\"laughabl\",\"legendari\",\"mahagatbandhan\",\"mahamilawat\",\"malaya\",\"mandal\",\"massag\",\"milega\",\"minster\",\"missionshakti\",\"modiand\",\"modiw\",\"mondai\",\"nath\",\"oop\",\"osama\",\"overnight\",\"panelist\",\"partisan\",\"peacefulli\",\"ploi\",\"pol\",\"prez\",\"prowess\",\"punctur\",\"refresh\",\"reliabl\",\"revolv\",\"rrr\",\"sapoot\",\"sedit\",\"somedai\",\"sona\",\"sow\",\"speach\",\"spectrum\",\"ssingh\",\"stalwart\",\"streanh\",\"tamper\",\"their\",\"tie\",\"undoubtedli\",\"undu\",\"utilis\",\"varieti\",\"vinci\",\"weekend\",\"weep\",\"whn\",\"wicket\",\"wild\",\"yearold\",\"aapk\",\"accompani\",\"acquitt\",\"affidavit\",\"airplan\",\"and\",\"antimuslim\",\"anupam\",\"artwork\",\"baaki\",\"bacha\",\"bakwa\",\"ballot\",\"bandhan\",\"bhagao\",\"blore\",\"buck\",\"buzz\",\"cab\",\"chaukidaar\",\"cinema\",\"counti\",\"crawl\",\"daagdar\",\"decept\",\"derogatori\",\"dethron\",\"eco\",\"egg\",\"election\",\"eleph\",\"fanci\",\"flash\",\"for\",\"forg\",\"gali\",\"hamara\",\"hindumuslim\",\"injur\",\"interven\",\"jayegi\",\"jong\",\"jst\",\"kaho\",\"kanyakumari\",\"khaunga\",\"kohli\",\"lone\",\"maharaj\",\"meat\",\"meri\",\"midnight\",\"mishra\",\"mistaken\",\"modibhakt\",\"modith\",\"nehruvian\",\"nepot\",\"pahl\",\"parrikar\",\"patnaik\",\"persecut\",\"phenomen\",\"procur\",\"propagandist\",\"provok\",\"quietli\",\"raised_hand\",\"rohingya\",\"sandeep\",\"scold\",\"seeker\",\"shelter\",\"shouri\",\"signatur\",\"siliguri\",\"solar\",\"srinagar\",\"surpass\",\"tamilian\",\"thrill\",\"tini\",\"twit\",\"unaccept\",\"uneth\",\"unnecessarili\",\"unparallel\",\"unwant\",\"upaera\",\"vanuatu\",\"versa\",\"virtu\",\"waynad\",\"weird\",\"whop\",\"worthless\",\"aapn\",\"accur\",\"addict\",\"afternoon\",\"aloo\",\"avg\",\"bend\",\"bhartiya\",\"bio\",\"biscuit\",\"bleed\",\"bubbl\",\"chala\",\"chomu\",\"clash\",\"cmon\",\"commerci\",\"cwg\",\"deduct\",\"dia\",\"diesel\",\"dinner\",\"dispos\",\"evalu\",\"exhibit\",\"explor\",\"fabul\",\"forthcom\",\"frai\",\"fraudul\",\"gulf\",\"gunda\",\"gya\",\"gye\",\"hahah\",\"ham\",\"hog\",\"hone\",\"hong\",\"hui\",\"imo\",\"induct\",\"inner\",\"jaish\",\"kidnap\",\"landslid\",\"lend\",\"lunat\",\"malnutrit\",\"mangalyaan\",\"mathura\",\"migrat\",\"mine\",\"ministerpm\",\"miseri\",\"navig\",\"nearest\",\"older\",\"optimist\",\"outfit\",\"paf\",\"passeng\",\"poorna\",\"pregnant\",\"propel\",\"psycholog\",\"rae\",\"render\",\"repeal\",\"saniti\",\"sanjeev\",\"scath\",\"secondari\",\"solidar\",\"somvirsheoran\",\"sonakshi\",\"starv\",\"suresh\",\"swatch\",\"tape\",\"tbh\",\"tendenc\",\"termin\",\"thingi\",\"to\",\"trembl\",\"tufail\",\"tym\",\"unfollow\",\"unlimit\",\"unrest\",\"unsc\",\"varansi\",\"vinod\",\"vulner\",\"vvpat\",\"yea\",\"yeddi\",\"ysrcp\",\"aapko\",\"acceler\",\"accordingli\",\"allahabad\",\"alot\",\"approx\",\"assumpt\",\"bandwagon\",\"ben\",\"bhaiya\",\"bofor\",\"boln\",\"bolna\",\"braveri\",\"chale\",\"chalia\",\"chanakya\",\"charcha\",\"collabor\",\"concurr\",\"consciou\",\"demolit\",\"demonis\",\"descend\",\"devlop\",\"dilemma\",\"distinct\",\"dolt\",\"drawn\",\"echo\",\"ei\",\"empir\",\"enlist\",\"facist\",\"fat\",\"fiction\",\"fifth\",\"fond\",\"forbid\",\"french\",\"gareeb\",\"gram\",\"grandson\",\"hanuman\",\"hari\",\"harp\",\"hein\",\"hona\",\"hound\",\"humil\",\"if\",\"inact\",\"inequ\",\"intervent\",\"iota\",\"jaihind\",\"jam\",\"kal\",\"karega\",\"khaan\",\"khadi\",\"kingdom\",\"kkr\",\"ktr\",\"lahar\",\"lanka\",\"leakag\",\"lodg\",\"loom\",\"lucknow\",\"mahan\",\"maoist\",\"merg\",\"nasha\",\"necess\",\"netflix\",\"nmodi\",\"nuisanc\",\"nvr\",\"phrase\",\"plung\",\"poetri\",\"poltic\",\"ponzi\",\"pour\",\"priya\",\"publicis\",\"punjabi\",\"rahega\",\"refuge\",\"remonet\",\"resum\",\"rofl\",\"rotten\",\"sadist\",\"sangi\",\"setback\",\"sharad\",\"spectacular\",\"spectat\",\"stark\",\"steer\",\"stir\",\"talaq\",\"tarnish\",\"teri\",\"thakur\",\"togadia\",\"until\",\"vigil\",\"viru\",\"weakest\",\"wet\",\"wheel\",\"wifi\",\"wth\",\"aapki\",\"aat\",\"accommod\",\"acr\",\"ant\",\"arundhati\",\"astronaut\",\"avenu\",\"balloon\",\"bane\",\"below\",\"bhabha\",\"bindi\",\"bloom\",\"bone\",\"bugger\",\"chaiwalla\",\"cleanli\",\"compaign\",\"compliment\",\"confin\",\"crocodil\",\"delusion\",\"demograph\",\"deplor\",\"desert\",\"destroy\",\"dev\",\"disburs\",\"disintegr\",\"dung\",\"dupe\",\"duplic\",\"dustbin\",\"ec\",\"entiti\",\"envis\",\"esteem\",\"exbsf\",\"familiar\",\"flaunt\",\"flew\",\"floor\",\"footag\",\"fratern\",\"ghost\",\"gratitud\",\"grip\",\"guv\",\"hafeez\",\"handedli\",\"hariprasad\",\"hmmm\",\"inclin\",\"incomplet\",\"intercept\",\"intimid\",\"iyer\",\"kin\",\"kuchh\",\"lahor\",\"landmark\",\"laps\",\"madhya\",\"mail\",\"malai\",\"mirag\",\"modiamit\",\"mountain\",\"naa\",\"narayan\",\"nativ\",\"ongc\",\"ordin\",\"panchayat\",\"parad\",\"paradigm\",\"philosophi\",\"pill\",\"politi\",\"porkistan\",\"princip\",\"proactiv\"],\"x1\":{\"__ndarray__\":\"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\",\"dtype\":\"float32\",\"order\":\"little\",\"shape\":[5002]},\"x2\":{\"__ndarray__\":\"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\",\"dtype\":\"float32\",\"order\":\"little\",\"shape\":[5002]}},\"selected\":{\"id\":\"1145\"},\"selection_policy\":{\"id\":\"1144\"}},\"id\":\"1120\",\"type\":\"ColumnDataSource\"},{\"attributes\":{\"fill_color\":{\"field\":\"color\"},\"line_color\":{\"value\":\"#1f77b4\"},\"size\":{\"value\":8},\"x\":{\"field\":\"x1\"},\"y\":{\"field\":\"x2\"}},\"id\":\"1122\",\"type\":\"Scatter\"},{\"attributes\":{\"formatter\":{\"id\":\"1142\"},\"major_label_policy\":{\"id\":\"1143\"},\"ticker\":{\"id\":\"1108\"}},\"id\":\"1107\",\"type\":\"LinearAxis\"},{\"attributes\":{\"data_source\":{\"id\":\"1120\"},\"glyph\":{\"id\":\"1122\"},\"hover_glyph\":null,\"muted_glyph\":null,\"nonselection_glyph\":{\"id\":\"1123\"},\"view\":{\"id\":\"1125\"}},\"id\":\"1124\",\"type\":\"GlyphRenderer\"},{\"attributes\":{\"active_multi\":null,\"tools\":[{\"id\":\"1111\"},{\"id\":\"1112\"},{\"id\":\"1113\"},{\"id\":\"1114\"}]},\"id\":\"1115\",\"type\":\"Toolbar\"},{\"attributes\":{},\"id\":\"1113\",\"type\":\"ResetTool\"},{\"attributes\":{\"source\":{\"id\":\"1120\"}},\"id\":\"1125\",\"type\":\"CDSView\"},{\"attributes\":{\"fill_alpha\":{\"value\":0.1},\"fill_color\":{\"field\":\"color\"},\"line_alpha\":{\"value\":0.1},\"line_color\":{\"value\":\"#1f77b4\"},\"size\":{\"value\":8},\"x\":{\"field\":\"x1\"},\"y\":{\"field\":\"x2\"}},\"id\":\"1123\",\"type\":\"Scatter\"},{\"attributes\":{},\"id\":\"1114\",\"type\":\"SaveTool\"},{\"attributes\":{},\"id\":\"1140\",\"type\":\"AllLabels\"},{\"attributes\":{},\"id\":\"1111\",\"type\":\"PanTool\"},{\"attributes\":{},\"id\":\"1095\",\"type\":\"DataRange1d\"},{\"attributes\":{\"axis\":{\"id\":\"1107\"},\"dimension\":1,\"ticker\":null},\"id\":\"1110\",\"type\":\"Grid\"},{\"attributes\":{},\"id\":\"1139\",\"type\":\"BasicTickFormatter\"},{\"attributes\":{\"text\":\"vector T-SNE for most polarized words\"},\"id\":\"1093\",\"type\":\"Title\"},{\"attributes\":{},\"id\":\"1143\",\"type\":\"AllLabels\"}],\"root_ids\":[\"1092\"]},\"title\":\"Bokeh Application\",\"version\":\"2.3.0\"}};\n",
              "  var render_items = [{\"docid\":\"fca363ea-663b-46dc-a6ad-787ab42135f4\",\"root_ids\":[\"1092\"],\"roots\":{\"1092\":\"43b03227-b550-4e9b-84c1-e5585100438a\"}}];\n",
              "  root.Bokeh.embed.embed_items_notebook(docs_json, render_items);\n",
              "\n",
              "  }\n",
              "  if (root.Bokeh !== undefined) {\n",
              "    embed_document(root);\n",
              "  } else {\n",
              "    var attempts = 0;\n",
              "    var timer = setInterval(function(root) {\n",
              "      if (root.Bokeh !== undefined) {\n",
              "        clearInterval(timer);\n",
              "        embed_document(root);\n",
              "      } else {\n",
              "        attempts++;\n",
              "        if (attempts > 100) {\n",
              "          clearInterval(timer);\n",
              "          console.log(\"Bokeh: ERROR: Unable to run BokehJS code because BokehJS library is missing\");\n",
              "        }\n",
              "      }\n",
              "    }, 10, root)\n",
              "  }\n",
              "})(window);"
            ],
            "application/vnd.bokehjs_exec.v0+json": ""
          },
          "metadata": {
            "tags": [],
            "application/vnd.bokehjs_exec.v0+json": {
              "id": "1092"
            }
          }
        }
      ]
    }
  ]
}