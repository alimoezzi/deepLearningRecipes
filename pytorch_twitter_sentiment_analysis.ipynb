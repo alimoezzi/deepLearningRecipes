{
  "nbformat": 4,
  "nbformat_minor": 0,
  "metadata": {
    "colab": {
      "name": "pytorch_twitter_sentiment_analysis.ipynb",
      "provenance": []
    },
    "kernelspec": {
      "display_name": "Python 3",
      "language": "python",
      "name": "python3"
    },
    "language_info": {
      "codemirror_mode": {
        "name": "ipython",
        "version": 3
      },
      "file_extension": ".py",
      "mimetype": "text/x-python",
      "name": "python",
      "nbconvert_exporter": "python",
      "pygments_lexer": "ipython3",
      "version": "3.7.4"
    },
    "toc": {
      "base_numbering": 1,
      "nav_menu": {},
      "number_sections": true,
      "sideBar": true,
      "skip_h1_title": false,
      "title_cell": "Table of Contents",
      "title_sidebar": "Contents",
      "toc_cell": false,
      "toc_position": {},
      "toc_section_display": true,
      "toc_window_display": false
    },
    "varInspector": {
      "cols": {
        "lenName": 16,
        "lenType": 16,
        "lenVar": 40
      },
      "kernels_config": {
        "python": {
          "delete_cmd_postfix": "",
          "delete_cmd_prefix": "del ",
          "library": "var_list.py",
          "varRefreshCmd": "print(var_dic_list())"
        },
        "r": {
          "delete_cmd_postfix": ") ",
          "delete_cmd_prefix": "rm(",
          "library": "var_list.r",
          "varRefreshCmd": "cat(var_dic_list()) "
        }
      },
      "types_to_exclude": [
        "module",
        "function",
        "builtin_function_or_method",
        "instance",
        "_Feature"
      ],
      "window_display": false
    },
    "accelerator": "GPU"
  },
  "cells": [
    {
      "cell_type": "markdown",
      "metadata": {
        "collapsed": true,
        "id": "oYCfnhWzJrUI",
        "pycharm": {
          "name": "#%% md\n"
        }
      },
      "source": [
        "# Twitter Sentiment Analysis Pytorch"
      ]
    },
    {
      "cell_type": "code",
      "metadata": {
        "colab": {
          "base_uri": "https://localhost:8080/",
          "height": 0
        },
        "id": "MS1rkSnEJrUQ",
        "pycharm": {
          "name": "#%%\n"
        },
        "outputId": "79a1ef2c-84cf-441f-fc7c-4742cd6e696a"
      },
      "source": [
        "import numpy as np\n",
        "import pandas as pd\n",
        "import csv\n",
        "import re\n",
        "import imblearn\n",
        "import torch\n",
        "from nltk.corpus import stopwords\n",
        "from nltk.stem import WordNetLemmatizer\n",
        "from gensim.parsing.porter import PorterStemmer\n",
        "from gensim.utils import tokenize\n",
        "from gensim.utils import simple_preprocess\n",
        "from gensim.parsing.preprocessing import remove_stopwords\n",
        "import torch.nn as nn\n",
        "import torch.nn.functional as F\n",
        "import torch.optim as optim\n",
        "from torch.autograd import Variable\n",
        "import torch\n",
        "from torchtext.legacy import data\n",
        "# from torchtext import data\n",
        "import matplotlib.pyplot as plt\n",
        "import seaborn as sb\n",
        "from sklearn.metrics import roc_curve,auc\n",
        "from scipy import interp\n",
        "from itertools import cycle\n",
        "from sklearn.metrics import accuracy_score\n",
        "from sklearn.metrics import confusion_matrix\n",
        "from sklearn.model_selection import train_test_split\n",
        "from sklearn.metrics import classification_report\n",
        "from bokeh.models import ColumnDataSource, LabelSet\n",
        "from bokeh.plotting import figure, show, output_file\n",
        "from collections import Counter\n",
        "from functools import reduce\n",
        "! pip install captum bokeh spacy emot parameter-sherpa\n",
        "import sherpa\n",
        "import captum\n",
        "import spacy\n",
        "from captum.attr import LayerIntegratedGradients, TokenReferenceBase, visualization, IntegratedGradients, LayerConductance\n",
        "from captum.attr import visualization as viz\n",
        "from captum.attr import configure_interpretable_embedding_layer, remove_interpretable_embedding_layer\n",
        "import emot\n",
        "from bokeh.io import output_notebook\n",
        "output_notebook()\n",
        "! python -m spacy download en_core_web_sm\n",
        "nlp = spacy.load('en')\n",
        "%matplotlib inline"
      ],
      "execution_count": 53,
      "outputs": [
        {
          "output_type": "stream",
          "text": [
            "Requirement already satisfied: captum in /usr/local/lib/python3.7/dist-packages (0.3.1)\n",
            "Requirement already satisfied: bokeh in /usr/local/lib/python3.7/dist-packages (2.3.0)\n",
            "Requirement already satisfied: spacy in /usr/local/lib/python3.7/dist-packages (2.2.4)\n",
            "Requirement already satisfied: emot in /usr/local/lib/python3.7/dist-packages (2.1)\n",
            "Requirement already satisfied: parameter-sherpa in /usr/local/lib/python3.7/dist-packages (1.0.6)\n",
            "Requirement already satisfied: numpy in /usr/local/lib/python3.7/dist-packages (from captum) (1.19.5)\n",
            "Requirement already satisfied: torch>=1.2 in /usr/local/lib/python3.7/dist-packages (from captum) (1.8.1+cu101)\n",
            "Requirement already satisfied: matplotlib in /usr/local/lib/python3.7/dist-packages (from captum) (3.2.2)\n",
            "Requirement already satisfied: typing-extensions>=3.7.4 in /usr/local/lib/python3.7/dist-packages (from bokeh) (3.7.4.3)\n",
            "Requirement already satisfied: packaging>=16.8 in /usr/local/lib/python3.7/dist-packages (from bokeh) (20.9)\n",
            "Requirement already satisfied: python-dateutil>=2.1 in /usr/local/lib/python3.7/dist-packages (from bokeh) (2.8.1)\n",
            "Requirement already satisfied: pillow>=7.1.0 in /usr/local/lib/python3.7/dist-packages (from bokeh) (7.1.2)\n",
            "Requirement already satisfied: PyYAML>=3.10 in /usr/local/lib/python3.7/dist-packages (from bokeh) (3.13)\n",
            "Requirement already satisfied: Jinja2>=2.7 in /usr/local/lib/python3.7/dist-packages (from bokeh) (2.11.3)\n",
            "Requirement already satisfied: tornado>=5.1 in /usr/local/lib/python3.7/dist-packages (from bokeh) (5.1.1)\n",
            "Requirement already satisfied: requests<3.0.0,>=2.13.0 in /usr/local/lib/python3.7/dist-packages (from spacy) (2.23.0)\n",
            "Requirement already satisfied: srsly<1.1.0,>=1.0.2 in /usr/local/lib/python3.7/dist-packages (from spacy) (1.0.5)\n",
            "Requirement already satisfied: catalogue<1.1.0,>=0.0.7 in /usr/local/lib/python3.7/dist-packages (from spacy) (1.0.0)\n",
            "Requirement already satisfied: murmurhash<1.1.0,>=0.28.0 in /usr/local/lib/python3.7/dist-packages (from spacy) (1.0.5)\n",
            "Requirement already satisfied: preshed<3.1.0,>=3.0.2 in /usr/local/lib/python3.7/dist-packages (from spacy) (3.0.5)\n",
            "Requirement already satisfied: plac<1.2.0,>=0.9.6 in /usr/local/lib/python3.7/dist-packages (from spacy) (1.1.3)\n",
            "Requirement already satisfied: wasabi<1.1.0,>=0.4.0 in /usr/local/lib/python3.7/dist-packages (from spacy) (0.8.2)\n",
            "Requirement already satisfied: tqdm<5.0.0,>=4.38.0 in /usr/local/lib/python3.7/dist-packages (from spacy) (4.41.1)\n",
            "Requirement already satisfied: setuptools in /usr/local/lib/python3.7/dist-packages (from spacy) (54.2.0)\n",
            "Requirement already satisfied: blis<0.5.0,>=0.4.0 in /usr/local/lib/python3.7/dist-packages (from spacy) (0.4.1)\n",
            "Requirement already satisfied: thinc==7.4.0 in /usr/local/lib/python3.7/dist-packages (from spacy) (7.4.0)\n",
            "Requirement already satisfied: cymem<2.1.0,>=2.0.2 in /usr/local/lib/python3.7/dist-packages (from spacy) (2.0.5)\n",
            "Requirement already satisfied: flask>=0.12.2 in /usr/local/lib/python3.7/dist-packages (from parameter-sherpa) (1.1.2)\n",
            "Requirement already satisfied: GPyOpt>=1.2.5 in /usr/local/lib/python3.7/dist-packages (from parameter-sherpa) (1.2.6)\n",
            "Requirement already satisfied: pandas>=0.20.3 in /usr/local/lib/python3.7/dist-packages (from parameter-sherpa) (1.1.5)\n",
            "Requirement already satisfied: scikit-learn>=0.19.1 in /usr/local/lib/python3.7/dist-packages (from parameter-sherpa) (0.22.2.post1)\n",
            "Requirement already satisfied: scipy>=1.0.0 in /usr/local/lib/python3.7/dist-packages (from parameter-sherpa) (1.4.1)\n",
            "Requirement already satisfied: enum34 in /usr/local/lib/python3.7/dist-packages (from parameter-sherpa) (1.1.10)\n",
            "Requirement already satisfied: pymongo>=3.5.1 in /usr/local/lib/python3.7/dist-packages (from parameter-sherpa) (3.11.3)\n",
            "Requirement already satisfied: pyparsing!=2.0.4,!=2.1.2,!=2.1.6,>=2.0.1 in /usr/local/lib/python3.7/dist-packages (from matplotlib->captum) (2.4.7)\n",
            "Requirement already satisfied: kiwisolver>=1.0.1 in /usr/local/lib/python3.7/dist-packages (from matplotlib->captum) (1.3.1)\n",
            "Requirement already satisfied: cycler>=0.10 in /usr/local/lib/python3.7/dist-packages (from matplotlib->captum) (0.10.0)\n",
            "Requirement already satisfied: six>=1.5 in /usr/local/lib/python3.7/dist-packages (from python-dateutil>=2.1->bokeh) (1.15.0)\n",
            "Requirement already satisfied: MarkupSafe>=0.23 in /usr/local/lib/python3.7/dist-packages (from Jinja2>=2.7->bokeh) (1.1.1)\n",
            "Requirement already satisfied: idna<3,>=2.5 in /usr/local/lib/python3.7/dist-packages (from requests<3.0.0,>=2.13.0->spacy) (2.10)\n",
            "Requirement already satisfied: urllib3!=1.25.0,!=1.25.1,<1.26,>=1.21.1 in /usr/local/lib/python3.7/dist-packages (from requests<3.0.0,>=2.13.0->spacy) (1.24.3)\n",
            "Requirement already satisfied: certifi>=2017.4.17 in /usr/local/lib/python3.7/dist-packages (from requests<3.0.0,>=2.13.0->spacy) (2020.12.5)\n",
            "Requirement already satisfied: chardet<4,>=3.0.2 in /usr/local/lib/python3.7/dist-packages (from requests<3.0.0,>=2.13.0->spacy) (3.0.4)\n",
            "Requirement already satisfied: importlib-metadata>=0.20; python_version < \"3.8\" in /usr/local/lib/python3.7/dist-packages (from catalogue<1.1.0,>=0.0.7->spacy) (3.8.1)\n",
            "Requirement already satisfied: itsdangerous>=0.24 in /usr/local/lib/python3.7/dist-packages (from flask>=0.12.2->parameter-sherpa) (1.1.0)\n",
            "Requirement already satisfied: click>=5.1 in /usr/local/lib/python3.7/dist-packages (from flask>=0.12.2->parameter-sherpa) (7.1.2)\n",
            "Requirement already satisfied: Werkzeug>=0.15 in /usr/local/lib/python3.7/dist-packages (from flask>=0.12.2->parameter-sherpa) (1.0.1)\n",
            "Requirement already satisfied: GPy>=1.8 in /usr/local/lib/python3.7/dist-packages (from GPyOpt>=1.2.5->parameter-sherpa) (1.9.9)\n",
            "Requirement already satisfied: pytz>=2017.2 in /usr/local/lib/python3.7/dist-packages (from pandas>=0.20.3->parameter-sherpa) (2018.9)\n",
            "Requirement already satisfied: joblib>=0.11 in /usr/local/lib/python3.7/dist-packages (from scikit-learn>=0.19.1->parameter-sherpa) (1.0.1)\n",
            "Requirement already satisfied: zipp>=0.5 in /usr/local/lib/python3.7/dist-packages (from importlib-metadata>=0.20; python_version < \"3.8\"->catalogue<1.1.0,>=0.0.7->spacy) (3.4.1)\n",
            "Requirement already satisfied: paramz>=0.9.0 in /usr/local/lib/python3.7/dist-packages (from GPy>=1.8->GPyOpt>=1.2.5->parameter-sherpa) (0.9.5)\n",
            "Requirement already satisfied: decorator>=4.0.10 in /usr/local/lib/python3.7/dist-packages (from paramz>=0.9.0->GPy>=1.8->GPyOpt>=1.2.5->parameter-sherpa) (4.4.2)\n",
            "Requirement already satisfied: en_core_web_sm==2.2.5 from https://github.com/explosion/spacy-models/releases/download/en_core_web_sm-2.2.5/en_core_web_sm-2.2.5.tar.gz#egg=en_core_web_sm==2.2.5 in /usr/local/lib/python3.7/dist-packages (2.2.5)\n",
            "Requirement already satisfied: spacy>=2.2.2 in /usr/local/lib/python3.7/dist-packages (from en_core_web_sm==2.2.5) (2.2.4)\n",
            "Requirement already satisfied: murmurhash<1.1.0,>=0.28.0 in /usr/local/lib/python3.7/dist-packages (from spacy>=2.2.2->en_core_web_sm==2.2.5) (1.0.5)\n",
            "Requirement already satisfied: numpy>=1.15.0 in /usr/local/lib/python3.7/dist-packages (from spacy>=2.2.2->en_core_web_sm==2.2.5) (1.19.5)\n",
            "Requirement already satisfied: plac<1.2.0,>=0.9.6 in /usr/local/lib/python3.7/dist-packages (from spacy>=2.2.2->en_core_web_sm==2.2.5) (1.1.3)\n",
            "Requirement already satisfied: wasabi<1.1.0,>=0.4.0 in /usr/local/lib/python3.7/dist-packages (from spacy>=2.2.2->en_core_web_sm==2.2.5) (0.8.2)\n",
            "Requirement already satisfied: cymem<2.1.0,>=2.0.2 in /usr/local/lib/python3.7/dist-packages (from spacy>=2.2.2->en_core_web_sm==2.2.5) (2.0.5)\n",
            "Requirement already satisfied: setuptools in /usr/local/lib/python3.7/dist-packages (from spacy>=2.2.2->en_core_web_sm==2.2.5) (54.2.0)\n",
            "Requirement already satisfied: requests<3.0.0,>=2.13.0 in /usr/local/lib/python3.7/dist-packages (from spacy>=2.2.2->en_core_web_sm==2.2.5) (2.23.0)\n",
            "Requirement already satisfied: preshed<3.1.0,>=3.0.2 in /usr/local/lib/python3.7/dist-packages (from spacy>=2.2.2->en_core_web_sm==2.2.5) (3.0.5)\n",
            "Requirement already satisfied: tqdm<5.0.0,>=4.38.0 in /usr/local/lib/python3.7/dist-packages (from spacy>=2.2.2->en_core_web_sm==2.2.5) (4.41.1)\n",
            "Requirement already satisfied: srsly<1.1.0,>=1.0.2 in /usr/local/lib/python3.7/dist-packages (from spacy>=2.2.2->en_core_web_sm==2.2.5) (1.0.5)\n",
            "Requirement already satisfied: blis<0.5.0,>=0.4.0 in /usr/local/lib/python3.7/dist-packages (from spacy>=2.2.2->en_core_web_sm==2.2.5) (0.4.1)\n",
            "Requirement already satisfied: catalogue<1.1.0,>=0.0.7 in /usr/local/lib/python3.7/dist-packages (from spacy>=2.2.2->en_core_web_sm==2.2.5) (1.0.0)\n",
            "Requirement already satisfied: thinc==7.4.0 in /usr/local/lib/python3.7/dist-packages (from spacy>=2.2.2->en_core_web_sm==2.2.5) (7.4.0)\n",
            "Requirement already satisfied: urllib3!=1.25.0,!=1.25.1,<1.26,>=1.21.1 in /usr/local/lib/python3.7/dist-packages (from requests<3.0.0,>=2.13.0->spacy>=2.2.2->en_core_web_sm==2.2.5) (1.24.3)\n",
            "Requirement already satisfied: idna<3,>=2.5 in /usr/local/lib/python3.7/dist-packages (from requests<3.0.0,>=2.13.0->spacy>=2.2.2->en_core_web_sm==2.2.5) (2.10)\n",
            "Requirement already satisfied: chardet<4,>=3.0.2 in /usr/local/lib/python3.7/dist-packages (from requests<3.0.0,>=2.13.0->spacy>=2.2.2->en_core_web_sm==2.2.5) (3.0.4)\n",
            "Requirement already satisfied: certifi>=2017.4.17 in /usr/local/lib/python3.7/dist-packages (from requests<3.0.0,>=2.13.0->spacy>=2.2.2->en_core_web_sm==2.2.5) (2020.12.5)\n",
            "Requirement already satisfied: importlib-metadata>=0.20; python_version < \"3.8\" in /usr/local/lib/python3.7/dist-packages (from catalogue<1.1.0,>=0.0.7->spacy>=2.2.2->en_core_web_sm==2.2.5) (3.8.1)\n",
            "Requirement already satisfied: typing-extensions>=3.6.4; python_version < \"3.8\" in /usr/local/lib/python3.7/dist-packages (from importlib-metadata>=0.20; python_version < \"3.8\"->catalogue<1.1.0,>=0.0.7->spacy>=2.2.2->en_core_web_sm==2.2.5) (3.7.4.3)\n",
            "Requirement already satisfied: zipp>=0.5 in /usr/local/lib/python3.7/dist-packages (from importlib-metadata>=0.20; python_version < \"3.8\"->catalogue<1.1.0,>=0.0.7->spacy>=2.2.2->en_core_web_sm==2.2.5) (3.4.1)\n",
            "\u001b[38;5;2m✔ Download and installation successful\u001b[0m\n",
            "You can now load the model via spacy.load('en_core_web_sm')\n"
          ],
          "name": "stdout"
        }
      ]
    },
    {
      "cell_type": "markdown",
      "metadata": {
        "id": "6DETgMPgJrUS",
        "pycharm": {
          "name": "#%% md\n"
        }
      },
      "source": [
        "## Loading the data"
      ]
    },
    {
      "cell_type": "code",
      "metadata": {
        "colab": {
          "base_uri": "https://localhost:8080/",
          "height": 272
        },
        "id": "QwFJPG55JrUT",
        "pycharm": {
          "name": "#%%\n"
        },
        "outputId": "2ea2af17-7ab6-4f49-b0c6-f5b328fdcba3"
      },
      "source": [
        "!curl https://raw.githubusercontent.com/realsarm/deepLearningRecipes/main/.pytorch/tweets/Twitter_Data.csv --create-dirs -o .pytorch/tweets/Twitter_Data.csv\n",
        "!mkdir checkpoint\n",
        "df = pd.read_csv('.pytorch/tweets/Twitter_Data.csv')\n",
        "df.head()"
      ],
      "execution_count": 2,
      "outputs": [
        {
          "output_type": "stream",
          "text": [
            "  % Total    % Received % Xferd  Average Speed   Time    Time     Time  Current\n",
            "                                 Dload  Upload   Total   Spent    Left  Speed\n",
            "100 19.9M  100 19.9M    0     0  15.8M      0  0:00:01  0:00:01 --:--:-- 15.8M\n",
            "mkdir: cannot create directory ‘checkpoint’: File exists\n"
          ],
          "name": "stdout"
        },
        {
          "output_type": "execute_result",
          "data": {
            "text/html": [
              "<div>\n",
              "<style scoped>\n",
              "    .dataframe tbody tr th:only-of-type {\n",
              "        vertical-align: middle;\n",
              "    }\n",
              "\n",
              "    .dataframe tbody tr th {\n",
              "        vertical-align: top;\n",
              "    }\n",
              "\n",
              "    .dataframe thead th {\n",
              "        text-align: right;\n",
              "    }\n",
              "</style>\n",
              "<table border=\"1\" class=\"dataframe\">\n",
              "  <thead>\n",
              "    <tr style=\"text-align: right;\">\n",
              "      <th></th>\n",
              "      <th>clean_text</th>\n",
              "      <th>category</th>\n",
              "    </tr>\n",
              "  </thead>\n",
              "  <tbody>\n",
              "    <tr>\n",
              "      <th>0</th>\n",
              "      <td>when modi promised “minimum government maximum...</td>\n",
              "      <td>-1.0</td>\n",
              "    </tr>\n",
              "    <tr>\n",
              "      <th>1</th>\n",
              "      <td>talk all the nonsense and continue all the dra...</td>\n",
              "      <td>0.0</td>\n",
              "    </tr>\n",
              "    <tr>\n",
              "      <th>2</th>\n",
              "      <td>what did just say vote for modi  welcome bjp t...</td>\n",
              "      <td>1.0</td>\n",
              "    </tr>\n",
              "    <tr>\n",
              "      <th>3</th>\n",
              "      <td>asking his supporters prefix chowkidar their n...</td>\n",
              "      <td>1.0</td>\n",
              "    </tr>\n",
              "    <tr>\n",
              "      <th>4</th>\n",
              "      <td>answer who among these the most powerful world...</td>\n",
              "      <td>1.0</td>\n",
              "    </tr>\n",
              "  </tbody>\n",
              "</table>\n",
              "</div>"
            ],
            "text/plain": [
              "                                          clean_text  category\n",
              "0  when modi promised “minimum government maximum...      -1.0\n",
              "1  talk all the nonsense and continue all the dra...       0.0\n",
              "2  what did just say vote for modi  welcome bjp t...       1.0\n",
              "3  asking his supporters prefix chowkidar their n...       1.0\n",
              "4  answer who among these the most powerful world...       1.0"
            ]
          },
          "metadata": {
            "tags": []
          },
          "execution_count": 2
        }
      ]
    },
    {
      "cell_type": "markdown",
      "metadata": {
        "id": "wnZDU5kUJrUT"
      },
      "source": [
        "### Exploring features"
      ]
    },
    {
      "cell_type": "code",
      "metadata": {
        "colab": {
          "base_uri": "https://localhost:8080/",
          "height": 297
        },
        "id": "8iEEuqAuJrUT",
        "pycharm": {
          "name": "#%%\n"
        },
        "outputId": "6de99fbf-d9bb-447f-b781-390761b9c625"
      },
      "source": [
        "df.describe()"
      ],
      "execution_count": 3,
      "outputs": [
        {
          "output_type": "execute_result",
          "data": {
            "text/html": [
              "<div>\n",
              "<style scoped>\n",
              "    .dataframe tbody tr th:only-of-type {\n",
              "        vertical-align: middle;\n",
              "    }\n",
              "\n",
              "    .dataframe tbody tr th {\n",
              "        vertical-align: top;\n",
              "    }\n",
              "\n",
              "    .dataframe thead th {\n",
              "        text-align: right;\n",
              "    }\n",
              "</style>\n",
              "<table border=\"1\" class=\"dataframe\">\n",
              "  <thead>\n",
              "    <tr style=\"text-align: right;\">\n",
              "      <th></th>\n",
              "      <th>category</th>\n",
              "    </tr>\n",
              "  </thead>\n",
              "  <tbody>\n",
              "    <tr>\n",
              "      <th>count</th>\n",
              "      <td>162973.000000</td>\n",
              "    </tr>\n",
              "    <tr>\n",
              "      <th>mean</th>\n",
              "      <td>0.225436</td>\n",
              "    </tr>\n",
              "    <tr>\n",
              "      <th>std</th>\n",
              "      <td>0.781279</td>\n",
              "    </tr>\n",
              "    <tr>\n",
              "      <th>min</th>\n",
              "      <td>-1.000000</td>\n",
              "    </tr>\n",
              "    <tr>\n",
              "      <th>25%</th>\n",
              "      <td>0.000000</td>\n",
              "    </tr>\n",
              "    <tr>\n",
              "      <th>50%</th>\n",
              "      <td>0.000000</td>\n",
              "    </tr>\n",
              "    <tr>\n",
              "      <th>75%</th>\n",
              "      <td>1.000000</td>\n",
              "    </tr>\n",
              "    <tr>\n",
              "      <th>max</th>\n",
              "      <td>1.000000</td>\n",
              "    </tr>\n",
              "  </tbody>\n",
              "</table>\n",
              "</div>"
            ],
            "text/plain": [
              "            category\n",
              "count  162973.000000\n",
              "mean        0.225436\n",
              "std         0.781279\n",
              "min        -1.000000\n",
              "25%         0.000000\n",
              "50%         0.000000\n",
              "75%         1.000000\n",
              "max         1.000000"
            ]
          },
          "metadata": {
            "tags": []
          },
          "execution_count": 3
        }
      ]
    },
    {
      "cell_type": "markdown",
      "metadata": {
        "id": "pLQm2ZkvJrUU",
        "pycharm": {
          "name": "#%% md\n"
        }
      },
      "source": [
        ""
      ]
    },
    {
      "cell_type": "code",
      "metadata": {
        "colab": {
          "base_uri": "https://localhost:8080/",
          "height": 221
        },
        "id": "HLQhe0zgJrUU",
        "pycharm": {
          "name": "#%%\n"
        },
        "outputId": "d47ef3ed-1c18-4dcc-cd15-ef51dbd567e8"
      },
      "source": [
        "df.groupby('category').describe()"
      ],
      "execution_count": 4,
      "outputs": [
        {
          "output_type": "stream",
          "text": [
            "INFO:numexpr.utils:NumExpr defaulting to 2 threads.\n"
          ],
          "name": "stderr"
        },
        {
          "output_type": "execute_result",
          "data": {
            "text/html": [
              "<div>\n",
              "<style scoped>\n",
              "    .dataframe tbody tr th:only-of-type {\n",
              "        vertical-align: middle;\n",
              "    }\n",
              "\n",
              "    .dataframe tbody tr th {\n",
              "        vertical-align: top;\n",
              "    }\n",
              "\n",
              "    .dataframe thead tr th {\n",
              "        text-align: left;\n",
              "    }\n",
              "\n",
              "    .dataframe thead tr:last-of-type th {\n",
              "        text-align: right;\n",
              "    }\n",
              "</style>\n",
              "<table border=\"1\" class=\"dataframe\">\n",
              "  <thead>\n",
              "    <tr>\n",
              "      <th></th>\n",
              "      <th colspan=\"4\" halign=\"left\">clean_text</th>\n",
              "    </tr>\n",
              "    <tr>\n",
              "      <th></th>\n",
              "      <th>count</th>\n",
              "      <th>unique</th>\n",
              "      <th>top</th>\n",
              "      <th>freq</th>\n",
              "    </tr>\n",
              "    <tr>\n",
              "      <th>category</th>\n",
              "      <th></th>\n",
              "      <th></th>\n",
              "      <th></th>\n",
              "      <th></th>\n",
              "    </tr>\n",
              "  </thead>\n",
              "  <tbody>\n",
              "    <tr>\n",
              "      <th>-1.0</th>\n",
              "      <td>35509</td>\n",
              "      <td>35509</td>\n",
              "      <td>what about getting the behind the scenes video...</td>\n",
              "      <td>1</td>\n",
              "    </tr>\n",
              "    <tr>\n",
              "      <th>0.0</th>\n",
              "      <td>55211</td>\n",
              "      <td>55211</td>\n",
              "      <td>modi can fight from varanasi being gujarati th...</td>\n",
              "      <td>1</td>\n",
              "    </tr>\n",
              "    <tr>\n",
              "      <th>1.0</th>\n",
              "      <td>72249</td>\n",
              "      <td>72249</td>\n",
              "      <td>think this modi 2019 than many comedians will ...</td>\n",
              "      <td>1</td>\n",
              "    </tr>\n",
              "  </tbody>\n",
              "</table>\n",
              "</div>"
            ],
            "text/plain": [
              "         clean_text  ...     \n",
              "              count  ... freq\n",
              "category             ...     \n",
              "-1.0          35509  ...    1\n",
              " 0.0          55211  ...    1\n",
              " 1.0          72249  ...    1\n",
              "\n",
              "[3 rows x 4 columns]"
            ]
          },
          "metadata": {
            "tags": []
          },
          "execution_count": 4
        }
      ]
    },
    {
      "cell_type": "code",
      "metadata": {
        "colab": {
          "base_uri": "https://localhost:8080/",
          "height": 0
        },
        "id": "mgpw8FCZJrUV",
        "pycharm": {
          "name": "#%%\n"
        },
        "outputId": "bd16add0-dea6-44c8-f6f9-baeb99987b00"
      },
      "source": [
        "df.info()"
      ],
      "execution_count": 5,
      "outputs": [
        {
          "output_type": "stream",
          "text": [
            "<class 'pandas.core.frame.DataFrame'>\n",
            "RangeIndex: 162980 entries, 0 to 162979\n",
            "Data columns (total 2 columns):\n",
            " #   Column      Non-Null Count   Dtype  \n",
            "---  ------      --------------   -----  \n",
            " 0   clean_text  162976 non-null  object \n",
            " 1   category    162973 non-null  float64\n",
            "dtypes: float64(1), object(1)\n",
            "memory usage: 2.5+ MB\n"
          ],
          "name": "stdout"
        }
      ]
    },
    {
      "cell_type": "code",
      "metadata": {
        "colab": {
          "base_uri": "https://localhost:8080/",
          "height": 0
        },
        "id": "6oGU6704JrUV",
        "pycharm": {
          "name": "#%%\n"
        },
        "outputId": "831a46a8-d50e-44a1-a27a-f4a15e177566"
      },
      "source": [
        "df.isnull().sum()"
      ],
      "execution_count": 6,
      "outputs": [
        {
          "output_type": "execute_result",
          "data": {
            "text/plain": [
              "clean_text    4\n",
              "category      7\n",
              "dtype: int64"
            ]
          },
          "metadata": {
            "tags": []
          },
          "execution_count": 6
        }
      ]
    },
    {
      "cell_type": "code",
      "metadata": {
        "colab": {
          "base_uri": "https://localhost:8080/",
          "height": 80
        },
        "id": "QFUejj4jJrUV",
        "pycharm": {
          "name": "#%%\n"
        },
        "outputId": "e5d0b1d4-edb6-4706-af65-cbfdd96d0952"
      },
      "source": [
        "df[df['clean_text'].str.len() < 2]"
      ],
      "execution_count": 7,
      "outputs": [
        {
          "output_type": "execute_result",
          "data": {
            "text/html": [
              "<div>\n",
              "<style scoped>\n",
              "    .dataframe tbody tr th:only-of-type {\n",
              "        vertical-align: middle;\n",
              "    }\n",
              "\n",
              "    .dataframe tbody tr th {\n",
              "        vertical-align: top;\n",
              "    }\n",
              "\n",
              "    .dataframe thead th {\n",
              "        text-align: right;\n",
              "    }\n",
              "</style>\n",
              "<table border=\"1\" class=\"dataframe\">\n",
              "  <thead>\n",
              "    <tr style=\"text-align: right;\">\n",
              "      <th></th>\n",
              "      <th>clean_text</th>\n",
              "      <th>category</th>\n",
              "    </tr>\n",
              "  </thead>\n",
              "  <tbody>\n",
              "    <tr>\n",
              "      <th>77224</th>\n",
              "      <td></td>\n",
              "      <td>0.0</td>\n",
              "    </tr>\n",
              "  </tbody>\n",
              "</table>\n",
              "</div>"
            ],
            "text/plain": [
              "      clean_text  category\n",
              "77224                  0.0"
            ]
          },
          "metadata": {
            "tags": []
          },
          "execution_count": 7
        }
      ]
    },
    {
      "cell_type": "code",
      "metadata": {
        "colab": {
          "base_uri": "https://localhost:8080/",
          "height": 142
        },
        "id": "yZ6t1ICXJrUW",
        "pycharm": {
          "name": "#%%\n"
        },
        "outputId": "56cdb413-3bb0-4606-9895-c990227cf800"
      },
      "source": [
        "df[df.duplicated('clean_text')]"
      ],
      "execution_count": 8,
      "outputs": [
        {
          "output_type": "execute_result",
          "data": {
            "text/html": [
              "<div>\n",
              "<style scoped>\n",
              "    .dataframe tbody tr th:only-of-type {\n",
              "        vertical-align: middle;\n",
              "    }\n",
              "\n",
              "    .dataframe tbody tr th {\n",
              "        vertical-align: top;\n",
              "    }\n",
              "\n",
              "    .dataframe thead th {\n",
              "        text-align: right;\n",
              "    }\n",
              "</style>\n",
              "<table border=\"1\" class=\"dataframe\">\n",
              "  <thead>\n",
              "    <tr style=\"text-align: right;\">\n",
              "      <th></th>\n",
              "      <th>clean_text</th>\n",
              "      <th>category</th>\n",
              "    </tr>\n",
              "  </thead>\n",
              "  <tbody>\n",
              "    <tr>\n",
              "      <th>158694</th>\n",
              "      <td>NaN</td>\n",
              "      <td>-1.0</td>\n",
              "    </tr>\n",
              "    <tr>\n",
              "      <th>159443</th>\n",
              "      <td>NaN</td>\n",
              "      <td>0.0</td>\n",
              "    </tr>\n",
              "    <tr>\n",
              "      <th>160560</th>\n",
              "      <td>NaN</td>\n",
              "      <td>1.0</td>\n",
              "    </tr>\n",
              "  </tbody>\n",
              "</table>\n",
              "</div>"
            ],
            "text/plain": [
              "       clean_text  category\n",
              "158694        NaN      -1.0\n",
              "159443        NaN       0.0\n",
              "160560        NaN       1.0"
            ]
          },
          "metadata": {
            "tags": []
          },
          "execution_count": 8
        }
      ]
    },
    {
      "cell_type": "code",
      "metadata": {
        "colab": {
          "base_uri": "https://localhost:8080/",
          "height": 49
        },
        "id": "HHfQVsljJrUW",
        "pycharm": {
          "name": "#%%\n"
        },
        "outputId": "17671561-a148-42b3-eb71-749e2a6dbeca"
      },
      "source": [
        "df.drop_duplicates('clean_text', inplace=True)\n",
        "df[df.duplicated('clean_text')]"
      ],
      "execution_count": 9,
      "outputs": [
        {
          "output_type": "execute_result",
          "data": {
            "text/html": [
              "<div>\n",
              "<style scoped>\n",
              "    .dataframe tbody tr th:only-of-type {\n",
              "        vertical-align: middle;\n",
              "    }\n",
              "\n",
              "    .dataframe tbody tr th {\n",
              "        vertical-align: top;\n",
              "    }\n",
              "\n",
              "    .dataframe thead th {\n",
              "        text-align: right;\n",
              "    }\n",
              "</style>\n",
              "<table border=\"1\" class=\"dataframe\">\n",
              "  <thead>\n",
              "    <tr style=\"text-align: right;\">\n",
              "      <th></th>\n",
              "      <th>clean_text</th>\n",
              "      <th>category</th>\n",
              "    </tr>\n",
              "  </thead>\n",
              "  <tbody>\n",
              "  </tbody>\n",
              "</table>\n",
              "</div>"
            ],
            "text/plain": [
              "Empty DataFrame\n",
              "Columns: [clean_text, category]\n",
              "Index: []"
            ]
          },
          "metadata": {
            "tags": []
          },
          "execution_count": 9
        }
      ]
    },
    {
      "cell_type": "code",
      "metadata": {
        "colab": {
          "base_uri": "https://localhost:8080/",
          "height": 306
        },
        "id": "y_GcsS8iJrUX",
        "pycharm": {
          "name": "#%%\n"
        },
        "outputId": "68e4aa22-b89d-45e4-f970-ac19deb1562f"
      },
      "source": [
        "df[['category', 'clean_text']].groupby('category').count().plot.bar()"
      ],
      "execution_count": 10,
      "outputs": [
        {
          "output_type": "execute_result",
          "data": {
            "text/plain": [
              "<matplotlib.axes._subplots.AxesSubplot at 0x7f30f85add10>"
            ]
          },
          "metadata": {
            "tags": []
          },
          "execution_count": 10
        },
        {
          "output_type": "display_data",
          "data": {
            "image/png": "[encoded data removed]",
            "text/plain": [
              "<Figure size 432x288 with 1 Axes>"
            ]
          },
          "metadata": {
            "tags": [],
            "needs_background": "light"
          }
        }
      ]
    },
    {
      "cell_type": "markdown",
      "metadata": {
        "id": "qRNRGUr1JrUX"
      },
      "source": [
        "### Preprocessing Data"
      ]
    },
    {
      "cell_type": "markdown",
      "metadata": {
        "id": "8_Sbn3-qJrUX"
      },
      "source": [
        "#### Steps\n",
        "1. encode lables\n",
        "2. Replace tags and metion with a unique symbol\n",
        "3. Replace `emoji` and `emoticons` with their meaning\n",
        "4. Remove stop-words\n",
        "5. Remove punctuation and tokenize sentences\n",
        "6. Lemmatizing each token\n",
        "7. Remove outliers"
      ]
    },
    {
      "cell_type": "code",
      "metadata": {
        "colab": {
          "base_uri": "https://localhost:8080/",
          "height": 204
        },
        "id": "iy0yXqzYJrUY",
        "pycharm": {
          "name": "#%%\n"
        },
        "outputId": "06d3dd29-ac3c-4890-a7fd-4e8cdcceb145"
      },
      "source": [
        "\n",
        "condlist = [\n",
        "    df['category'] == 1, # pos\n",
        "    df['category'] == 0, # neu\n",
        "    df['category'] == -1 # neg\n",
        "]\n",
        "df['sentiment'] = np.select(condlist, [1,0,2])\n",
        "d = df[['clean_text', 'sentiment']]\n",
        "d.rename(columns={'clean_text': 'text'}, inplace=True)\n",
        "d.head()"
      ],
      "execution_count": 11,
      "outputs": [
        {
          "output_type": "execute_result",
          "data": {
            "text/html": [
              "<div>\n",
              "<style scoped>\n",
              "    .dataframe tbody tr th:only-of-type {\n",
              "        vertical-align: middle;\n",
              "    }\n",
              "\n",
              "    .dataframe tbody tr th {\n",
              "        vertical-align: top;\n",
              "    }\n",
              "\n",
              "    .dataframe thead th {\n",
              "        text-align: right;\n",
              "    }\n",
              "</style>\n",
              "<table border=\"1\" class=\"dataframe\">\n",
              "  <thead>\n",
              "    <tr style=\"text-align: right;\">\n",
              "      <th></th>\n",
              "      <th>text</th>\n",
              "      <th>sentiment</th>\n",
              "    </tr>\n",
              "  </thead>\n",
              "  <tbody>\n",
              "    <tr>\n",
              "      <th>0</th>\n",
              "      <td>when modi promised “minimum government maximum...</td>\n",
              "      <td>2</td>\n",
              "    </tr>\n",
              "    <tr>\n",
              "      <th>1</th>\n",
              "      <td>talk all the nonsense and continue all the dra...</td>\n",
              "      <td>0</td>\n",
              "    </tr>\n",
              "    <tr>\n",
              "      <th>2</th>\n",
              "      <td>what did just say vote for modi  welcome bjp t...</td>\n",
              "      <td>1</td>\n",
              "    </tr>\n",
              "    <tr>\n",
              "      <th>3</th>\n",
              "      <td>asking his supporters prefix chowkidar their n...</td>\n",
              "      <td>1</td>\n",
              "    </tr>\n",
              "    <tr>\n",
              "      <th>4</th>\n",
              "      <td>answer who among these the most powerful world...</td>\n",
              "      <td>1</td>\n",
              "    </tr>\n",
              "  </tbody>\n",
              "</table>\n",
              "</div>"
            ],
            "text/plain": [
              "                                                text  sentiment\n",
              "0  when modi promised “minimum government maximum...          2\n",
              "1  talk all the nonsense and continue all the dra...          0\n",
              "2  what did just say vote for modi  welcome bjp t...          1\n",
              "3  asking his supporters prefix chowkidar their n...          1\n",
              "4  answer who among these the most powerful world...          1"
            ]
          },
          "metadata": {
            "tags": []
          },
          "execution_count": 11
        }
      ]
    },
    {
      "cell_type": "code",
      "metadata": {
        "colab": {
          "base_uri": "https://localhost:8080/",
          "height": 419
        },
        "id": "xHC-GTGIJrUY",
        "pycharm": {
          "name": "#%%\n"
        },
        "outputId": "482750e2-af8b-41ec-f5b5-f45428211405"
      },
      "source": [
        "def emoji_helper(text):\n",
        "    clean_mean = lambda x:  x.replace('-', '_').replace(':', ' ')\n",
        "    for emoti in emot.emo_unicode.EMOTICONS:\n",
        "        if emoti in text:\n",
        "            text = text.replace(emoti, clean_mean(emot.emo_unicode.EMOTICONS.get(emoti, '')))\n",
        "\n",
        "    for emoti in emot.emo_unicode.UNICODE_EMO:\n",
        "        if emoti in text:\n",
        "            text = text.replace(emoti, clean_mean(emot.emo_unicode.UNICODE_EMO.get(emoti, '')))\n",
        "\n",
        "    for emoti in emot.emo_unicode.EMOTICONS_EMO:\n",
        "        if emoti in text:\n",
        "            text = text.replace(emoti, clean_mean(emot.emo_unicode.EMOTICONS_EMO.get(emoti, '')).replace(' ','_'))\n",
        "    return text\n",
        "\n",
        "lemmatizer = WordNetLemmatizer()\n",
        "def preprocess(x):\n",
        "    return [lemmatizer.lemmatize(word) for word in\n",
        "        simple_preprocess(remove_stopwords(emoji_helper(re.sub(r'\\s*([@#][\\w_-]+)', '', str(x)))), deacc=True)\n",
        "    ]\n",
        "\n",
        "d['text'] = d['text'].apply(func=lambda x:preprocess(x))\n",
        "\n",
        "d"
      ],
      "execution_count": 12,
      "outputs": [
        {
          "output_type": "execute_result",
          "data": {
            "text/html": [
              "<div>\n",
              "<style scoped>\n",
              "    .dataframe tbody tr th:only-of-type {\n",
              "        vertical-align: middle;\n",
              "    }\n",
              "\n",
              "    .dataframe tbody tr th {\n",
              "        vertical-align: top;\n",
              "    }\n",
              "\n",
              "    .dataframe thead th {\n",
              "        text-align: right;\n",
              "    }\n",
              "</style>\n",
              "<table border=\"1\" class=\"dataframe\">\n",
              "  <thead>\n",
              "    <tr style=\"text-align: right;\">\n",
              "      <th></th>\n",
              "      <th>text</th>\n",
              "      <th>sentiment</th>\n",
              "    </tr>\n",
              "  </thead>\n",
              "  <tbody>\n",
              "    <tr>\n",
              "      <th>0</th>\n",
              "      <td>[modi, promised, minimum, government, maximum,...</td>\n",
              "      <td>2</td>\n",
              "    </tr>\n",
              "    <tr>\n",
              "      <th>1</th>\n",
              "      <td>[talk, nonsense, continue, drama, vote, modi]</td>\n",
              "      <td>0</td>\n",
              "    </tr>\n",
              "    <tr>\n",
              "      <th>2</th>\n",
              "      <td>[vote, modi, welcome, bjp, told, rahul, main, ...</td>\n",
              "      <td>1</td>\n",
              "    </tr>\n",
              "    <tr>\n",
              "      <th>3</th>\n",
              "      <td>[asking, supporter, prefix, chowkidar, name, m...</td>\n",
              "      <td>1</td>\n",
              "    </tr>\n",
              "    <tr>\n",
              "      <th>4</th>\n",
              "      <td>[answer, powerful, world, leader, today, trump...</td>\n",
              "      <td>1</td>\n",
              "    </tr>\n",
              "    <tr>\n",
              "      <th>...</th>\n",
              "      <td>...</td>\n",
              "      <td>...</td>\n",
              "    </tr>\n",
              "    <tr>\n",
              "      <th>162975</th>\n",
              "      <td>[crore, paid, neerav, modi, recovered, congres...</td>\n",
              "      <td>2</td>\n",
              "    </tr>\n",
              "    <tr>\n",
              "      <th>162976</th>\n",
              "      <td>[dear, r, terrorist, payal, gawar, modi, killi...</td>\n",
              "      <td>2</td>\n",
              "    </tr>\n",
              "    <tr>\n",
              "      <th>162977</th>\n",
              "      <td>[cover, interaction, forum, left]</td>\n",
              "      <td>0</td>\n",
              "    </tr>\n",
              "    <tr>\n",
              "      <th>162978</th>\n",
              "      <td>[big, project, came, india, modi, dream, proje...</td>\n",
              "      <td>0</td>\n",
              "    </tr>\n",
              "    <tr>\n",
              "      <th>162979</th>\n",
              "      <td>[listen, like, gurukul, discipline, maintained...</td>\n",
              "      <td>1</td>\n",
              "    </tr>\n",
              "  </tbody>\n",
              "</table>\n",
              "<p>162977 rows × 2 columns</p>\n",
              "</div>"
            ],
            "text/plain": [
              "                                                     text  sentiment\n",
              "0       [modi, promised, minimum, government, maximum,...          2\n",
              "1           [talk, nonsense, continue, drama, vote, modi]          0\n",
              "2       [vote, modi, welcome, bjp, told, rahul, main, ...          1\n",
              "3       [asking, supporter, prefix, chowkidar, name, m...          1\n",
              "4       [answer, powerful, world, leader, today, trump...          1\n",
              "...                                                   ...        ...\n",
              "162975  [crore, paid, neerav, modi, recovered, congres...          2\n",
              "162976  [dear, r, terrorist, payal, gawar, modi, killi...          2\n",
              "162977                  [cover, interaction, forum, left]          0\n",
              "162978  [big, project, came, india, modi, dream, proje...          0\n",
              "162979  [listen, like, gurukul, discipline, maintained...          1\n",
              "\n",
              "[162977 rows x 2 columns]"
            ]
          },
          "metadata": {
            "tags": []
          },
          "execution_count": 12
        }
      ]
    },
    {
      "cell_type": "markdown",
      "metadata": {
        "id": "V1lsg8zVJrUY"
      },
      "source": [
        "#### Analyze review length\n",
        "Here we remove the outliers"
      ]
    },
    {
      "cell_type": "code",
      "metadata": {
        "colab": {
          "base_uri": "https://localhost:8080/",
          "height": 0
        },
        "id": "nE-zLQLWJrUZ",
        "pycharm": {
          "name": "#%%\n"
        },
        "outputId": "0b428133-b8bd-42cc-a6cf-bb8385305c9c"
      },
      "source": [
        "d['text'].str.len().describe()"
      ],
      "execution_count": 13,
      "outputs": [
        {
          "output_type": "execute_result",
          "data": {
            "text/plain": [
              "count    162977.000000\n",
              "mean         12.895034\n",
              "std           6.987574\n",
              "min           0.000000\n",
              "25%           7.000000\n",
              "50%          12.000000\n",
              "75%          18.000000\n",
              "max          42.000000\n",
              "Name: text, dtype: float64"
            ]
          },
          "metadata": {
            "tags": []
          },
          "execution_count": 13
        }
      ]
    },
    {
      "cell_type": "code",
      "metadata": {
        "colab": {
          "base_uri": "https://localhost:8080/",
          "height": 282
        },
        "id": "241NoGKyJrUZ",
        "pycharm": {
          "name": "#%%\n"
        },
        "outputId": "9205ee56-8718-4efc-863f-dfabb6e80798"
      },
      "source": [
        "d['text'].str.len().hist()"
      ],
      "execution_count": 14,
      "outputs": [
        {
          "output_type": "execute_result",
          "data": {
            "text/plain": [
              "<matplotlib.axes._subplots.AxesSubplot at 0x7f30f84bc510>"
            ]
          },
          "metadata": {
            "tags": []
          },
          "execution_count": 14
        },
        {
          "output_type": "display_data",
          "data": {
            "image/png": "[encoded data removed]",
            "text/plain": [
              "<Figure size 432x288 with 1 Axes>"
            ]
          },
          "metadata": {
            "tags": [],
            "needs_background": "light"
          }
        }
      ]
    },
    {
      "cell_type": "code",
      "metadata": {
        "colab": {
          "base_uri": "https://localhost:8080/",
          "height": 282
        },
        "id": "YKCZ7SYYJrUZ",
        "pycharm": {
          "name": "#%%\n"
        },
        "outputId": "45978ed8-f83f-4a90-f828-19cd6241d072"
      },
      "source": [
        "d = d[ (2 < d['text'].str.len()) & (d['text'].str.len() < 24) ]\n",
        "d['text'].str.len().hist()"
      ],
      "execution_count": 15,
      "outputs": [
        {
          "output_type": "execute_result",
          "data": {
            "text/plain": [
              "<matplotlib.axes._subplots.AxesSubplot at 0x7f30edbf4890>"
            ]
          },
          "metadata": {
            "tags": []
          },
          "execution_count": 15
        },
        {
          "output_type": "display_data",
          "data": {
            "image/png": "[encoded data removed]",
            "text/plain": [
              "<Figure size 432x288 with 1 Axes>"
            ]
          },
          "metadata": {
            "tags": [],
            "needs_background": "light"
          }
        }
      ]
    },
    {
      "cell_type": "markdown",
      "metadata": {
        "id": "8FTBryPnJrUa",
        "pycharm": {
          "name": "#%% md\n"
        }
      },
      "source": [
        "### Creating vocab"
      ]
    },
    {
      "cell_type": "code",
      "metadata": {
        "id": "j6jBsOu6JrUa",
        "pycharm": {
          "name": "#%%\n"
        }
      },
      "source": [
        "max_document_length = d['text'].str.len().max()  # each sentence has until 100 words\n",
        "max_size = 5000\n",
        "Text = data.Field(batch_first=True, tokenize=lambda x: x, include_lengths=True, fix_length=max_document_length)\n",
        "Label = data.Field(sequential=False, use_vocab=False, pad_token=None, unk_token=None)\n",
        "fields = [('text', Text), ('labels', Label)]"
      ],
      "execution_count": 16,
      "outputs": []
    },
    {
      "cell_type": "code",
      "metadata": {
        "colab": {
          "base_uri": "https://localhost:8080/",
          "height": 0
        },
        "id": "DOIRUDjzJrUa",
        "pycharm": {
          "name": "#%%\n"
        },
        "outputId": "4208296e-8ea5-4400-b3a6-33ca240af3c5"
      },
      "source": [
        "class DataFrameDataset(data.Dataset):\n",
        "\n",
        "    def __init__(self, df, text_field, label_field, is_test=False, **kwargs):\n",
        "        fields = [('text', text_field), ('labels', label_field)]\n",
        "        examples = []\n",
        "        for i, row in df.iterrows():\n",
        "            label = row.sentiment\n",
        "            text = row.text\n",
        "            examples.append(data.Example.fromlist([text, label], fields))\n",
        "\n",
        "        super().__init__(examples, fields, **kwargs)\n",
        "\n",
        "    @staticmethod\n",
        "    def sort_key(ex):\n",
        "        return len(ex.text)\n",
        "\n",
        "    @classmethod\n",
        "    def splits(cls, text_field, label_field, train_df, test_df=None, **kwargs):\n",
        "        train_data, test_data = (None, None)\n",
        "\n",
        "        if train_df is not None:\n",
        "            train_data = cls(train_df.copy(), text_field, label_field, **kwargs)\n",
        "        if test_df is not None:\n",
        "            test_data = cls(test_df.copy(), text_field, label_field, True, **kwargs)\n",
        "\n",
        "        return tuple(d for d in (train_data, test_data) if d is not None)\n",
        "test_size = 0.2 # split percentage to train\\validation data\n",
        "X_train,X_test,y_train,y_test = train_test_split(d['text'].index,d['sentiment'], test_size=test_size, random_state=0, stratify=d['sentiment'])\n",
        "train_df = d.loc[X_train.values]\n",
        "test_df = d.loc[X_test.values]\n",
        "train_ds, test_ds = DataFrameDataset.splits(\n",
        "    text_field=Text, label_field=Label, train_df=train_df, test_df=test_df)\n",
        "vars(test_ds[0])"
      ],
      "execution_count": 17,
      "outputs": [
        {
          "output_type": "execute_result",
          "data": {
            "text/plain": [
              "{'labels': 1,\n",
              " 'text': ['modi',\n",
              "  'govt',\n",
              "  'taken',\n",
              "  'good',\n",
              "  'step',\n",
              "  'india',\n",
              "  'economic',\n",
              "  'huge',\n",
              "  'rupee',\n",
              "  'bjp',\n",
              "  'parliamentary',\n",
              "  'election',\n",
              "  'campaign',\n",
              "  'bcoz',\n",
              "  'har',\n",
              "  'bande',\n",
              "  'kaam',\n",
              "  'bolta']}"
            ]
          },
          "metadata": {
            "tags": []
          },
          "execution_count": 17
        }
      ]
    },
    {
      "cell_type": "markdown",
      "metadata": {
        "id": "-rzlLLUsKDPJ"
      },
      "source": [
        "### Checking how balance is our testset in comparison to trainset"
      ]
    },
    {
      "cell_type": "code",
      "metadata": {
        "id": "8fU_1ta2JuSZ",
        "colab": {
          "base_uri": "https://localhost:8080/",
          "height": 0
        },
        "outputId": "d17b0efb-4eb0-47c7-cf3c-a18f2aac91e0"
      },
      "source": [
        "test_df.groupby('sentiment').count()/test_df['sentiment'].count()*100"
      ],
      "execution_count": 18,
      "outputs": [
        {
          "output_type": "execute_result",
          "data": {
            "text/html": [
              "<div>\n",
              "<style scoped>\n",
              "    .dataframe tbody tr th:only-of-type {\n",
              "        vertical-align: middle;\n",
              "    }\n",
              "\n",
              "    .dataframe tbody tr th {\n",
              "        vertical-align: top;\n",
              "    }\n",
              "\n",
              "    .dataframe thead th {\n",
              "        text-align: right;\n",
              "    }\n",
              "</style>\n",
              "<table border=\"1\" class=\"dataframe\">\n",
              "  <thead>\n",
              "    <tr style=\"text-align: right;\">\n",
              "      <th></th>\n",
              "      <th>text</th>\n",
              "    </tr>\n",
              "    <tr>\n",
              "      <th>sentiment</th>\n",
              "      <th></th>\n",
              "    </tr>\n",
              "  </thead>\n",
              "  <tbody>\n",
              "    <tr>\n",
              "      <th>0</th>\n",
              "      <td>34.421928</td>\n",
              "    </tr>\n",
              "    <tr>\n",
              "      <th>1</th>\n",
              "      <td>44.208927</td>\n",
              "    </tr>\n",
              "    <tr>\n",
              "      <th>2</th>\n",
              "      <td>21.369144</td>\n",
              "    </tr>\n",
              "  </tbody>\n",
              "</table>\n",
              "</div>"
            ],
            "text/plain": [
              "                text\n",
              "sentiment           \n",
              "0          34.421928\n",
              "1          44.208927\n",
              "2          21.369144"
            ]
          },
          "metadata": {
            "tags": []
          },
          "execution_count": 18
        }
      ]
    },
    {
      "cell_type": "code",
      "metadata": {
        "id": "W-8DkMpgJ8Nz",
        "colab": {
          "base_uri": "https://localhost:8080/",
          "height": 0
        },
        "outputId": "f121690e-6d06-41d5-db5d-f2027e6d0662"
      },
      "source": [
        "train_df.groupby('sentiment').count()/train_df['sentiment'].count()*100"
      ],
      "execution_count": 19,
      "outputs": [
        {
          "output_type": "execute_result",
          "data": {
            "text/html": [
              "<div>\n",
              "<style scoped>\n",
              "    .dataframe tbody tr th:only-of-type {\n",
              "        vertical-align: middle;\n",
              "    }\n",
              "\n",
              "    .dataframe tbody tr th {\n",
              "        vertical-align: top;\n",
              "    }\n",
              "\n",
              "    .dataframe thead th {\n",
              "        text-align: right;\n",
              "    }\n",
              "</style>\n",
              "<table border=\"1\" class=\"dataframe\">\n",
              "  <thead>\n",
              "    <tr style=\"text-align: right;\">\n",
              "      <th></th>\n",
              "      <th>text</th>\n",
              "    </tr>\n",
              "    <tr>\n",
              "      <th>sentiment</th>\n",
              "      <th></th>\n",
              "    </tr>\n",
              "  </thead>\n",
              "  <tbody>\n",
              "    <tr>\n",
              "      <th>0</th>\n",
              "      <td>34.423683</td>\n",
              "    </tr>\n",
              "    <tr>\n",
              "      <th>1</th>\n",
              "      <td>44.206620</td>\n",
              "    </tr>\n",
              "    <tr>\n",
              "      <th>2</th>\n",
              "      <td>21.369697</td>\n",
              "    </tr>\n",
              "  </tbody>\n",
              "</table>\n",
              "</div>"
            ],
            "text/plain": [
              "                text\n",
              "sentiment           \n",
              "0          34.423683\n",
              "1          44.206620\n",
              "2          21.369697"
            ]
          },
          "metadata": {
            "tags": []
          },
          "execution_count": 19
        }
      ]
    },
    {
      "cell_type": "code",
      "metadata": {
        "pycharm": {
          "name": "#%%\n"
        },
        "id": "SFHEes6ewWpa",
        "colab": {
          "base_uri": "https://localhost:8080/",
          "height": 0
        },
        "outputId": "33340cb6-d56a-445c-a706-9e307893beae"
      },
      "source": [
        "items = train_df.groupby('sentiment').count().to_numpy()\n",
        "neu, pos, neg = items[0][0], items[1][0], items[2][0]\n",
        "total = train_df.count()[0]\n",
        "weight_for_0 = (1 / neu)*(total)/2.0\n",
        "weight_for_1 = (1 / pos)*(total)/2.0\n",
        "weight_for_2 = (1 / neg)*(total)/2.0\n",
        "print(weight_for_0, weight_for_1, weight_for_2)"
      ],
      "execution_count": 20,
      "outputs": [
        {
          "output_type": "stream",
          "text": [
            "1.4524884041619657 1.1310523233112066 2.3397617124394188\n"
          ],
          "name": "stdout"
        }
      ]
    },
    {
      "cell_type": "code",
      "metadata": {
        "id": "L4QWhGExJrUb",
        "pycharm": {
          "name": "#%%\n"
        }
      },
      "source": [
        "Text.build_vocab(train_ds, test_ds, max_size=max_size)\n",
        "Label.build_vocab(train_ds)\n",
        "vocab_size = len(Text.vocab)"
      ],
      "execution_count": 21,
      "outputs": []
    },
    {
      "cell_type": "code",
      "metadata": {
        "id": "Fm69dUmTJrUb",
        "pycharm": {
          "name": "#%%\n"
        }
      },
      "source": [
        "PAD_IND = Text.vocab.stoi['pad']\n",
        "# captum\n",
        "token_reference = TokenReferenceBase(reference_token_idx=PAD_IND) # create a reference (aka baseline) for the sentences and its constituent parts, tokens"
      ],
      "execution_count": 22,
      "outputs": []
    },
    {
      "cell_type": "markdown",
      "metadata": {
        "id": "f5xCcMgXJrUb",
        "pycharm": {
          "name": "#%% md\n"
        }
      },
      "source": [
        "## Defining model"
      ]
    },
    {
      "cell_type": "code",
      "metadata": {
        "colab": {
          "base_uri": "https://localhost:8080/",
          "height": 0
        },
        "id": "jjpQpWbkJrUb",
        "pycharm": {
          "name": "#%%\n"
        },
        "outputId": "881b9715-4db1-47cd-9260-1c3111ad7eed"
      },
      "source": [
        "device = torch.device('cuda' if torch.cuda.is_available() else 'cpu')\n",
        "device"
      ],
      "execution_count": 23,
      "outputs": [
        {
          "output_type": "execute_result",
          "data": {
            "text/plain": [
              "device(type='cuda')"
            ]
          },
          "metadata": {
            "tags": []
          },
          "execution_count": 23
        }
      ]
    },
    {
      "cell_type": "code",
      "metadata": {
        "id": "zFri3ivlJrUc",
        "pycharm": {
          "name": "#%%\n"
        }
      },
      "source": [
        "from torch.nn.utils.rnn import pack_padded_sequence, pad_packed_sequence\n",
        "class LSTM(nn.Module):\n",
        "\n",
        "    # define all the layers used in model\n",
        "    def __init__(self, vocab_size, embedding_dim, hidden_dim1, hidden_dim2, output_dim, n_layers,\n",
        "                 bidirectional, dropout, pad_index):\n",
        "        # Constructor\n",
        "        super().__init__()\n",
        "        self.n_layers = n_layers\n",
        "        self.hidden_dim1 = hidden_dim1\n",
        "        self.bidirectional = bidirectional\n",
        "        # embedding layer\n",
        "        self.embedding = nn.Embedding(vocab_size, embedding_dim, padding_idx = pad_index)\n",
        "\n",
        "        # lstm layer\n",
        "        self.lstm = nn.LSTM(embedding_dim,\n",
        "                            hidden_dim1,\n",
        "                            num_layers=n_layers,\n",
        "                            bidirectional=bidirectional,\n",
        "                            batch_first=True)\n",
        "        self.fc1 = nn.Linear(hidden_dim1 * 2, hidden_dim2)\n",
        "        self.fc2 = nn.Linear(hidden_dim2, output_dim)\n",
        "        self.relu = nn.SELU()\n",
        "        self.dropout = nn.Dropout(dropout)\n",
        "        self.dropout1 = nn.Dropout(dropout)\n",
        "        # activation function\n",
        "        self.act = nn.Softmax() #\\ F.log_softmax(outp)\n",
        "\n",
        "    def forward(self, text, text_lengths, hid=None):\n",
        "        # text = [batch size,sent_length]\n",
        "        if hid == None:\n",
        "            hid = self.init_hidden(text.shape[0])\n",
        "        embedded = self.embedding(text)\n",
        "        # embedded = [batch size, sent_len, emb dim]\n",
        "\n",
        "        # packed sequence\n",
        "        packed_embedded = pack_padded_sequence(embedded, text_lengths.cpu(), batch_first=True) # unpad\n",
        "\n",
        "        packed_output, (hidden, cell) = self.lstm(packed_embedded, hid)\n",
        "        # packed_output shape = (batch, seq_len, num_directions * hidden_size)\n",
        "        # hidden shape  = (num_layers * num_directions, batch, hidden_size)\n",
        "\n",
        "        # concat the final forward and backward hidden state\n",
        "        cat = torch.cat((hidden[-2, :, :], hidden[-1, :, :]), dim=1)\n",
        "        # output, output_lengths = pad_packed_sequence(packed_output)  # pad the sequence to the max length in the batch\n",
        "        cat = self.dropout1(cat)\n",
        "        rel = self.relu(cat)\n",
        "        dense1 = self.fc1(rel)\n",
        "\n",
        "        drop = self.dropout(dense1)\n",
        "        preds = self.fc2(drop)\n",
        "\n",
        "        # Final activation function\n",
        "        # preds = self.act(preds)\n",
        "        # preds = preds.argmax(dim=1).unsqueeze(0)\n",
        "        return preds, (hidden, cell)\n",
        "    \n",
        "    def init_hidden(self, batch_size):\n",
        "        ''' Initializes hidden state '''\n",
        "        # Create two new tensors with sizes n_layers x batch_size x n_hidden,\n",
        "        # initialized to zero, for hidden state and cell state of LSTM\n",
        "        weight = next(self.parameters()).data\n",
        "\n",
        "        hidden = (torch.zeros(self.n_layers*(2 if self.bidirectional else 1), batch_size, self.hidden_dim1).to(device),\n",
        "                  torch.zeros(self.n_layers*(2 if self.bidirectional else 1), batch_size, self.hidden_dim1).to(device))\n",
        "\n",
        "        return hidden"
      ],
      "execution_count": 24,
      "outputs": []
    },
    {
      "cell_type": "code",
      "metadata": {
        "colab": {
          "base_uri": "https://localhost:8080/",
          "height": 0
        },
        "id": "2zLwnk5UJrUg",
        "pycharm": {
          "name": "#%%\n"
        },
        "outputId": "546c7eae-8e0a-40f7-c01c-55dc26ec6f52"
      },
      "source": [
        "\n",
        "# hyper-parameters:\n",
        "lr = 0.0011204927661213097\n",
        "batch_size = 50\n",
        "dropout_keep_prob = 0.48209457439897463\n",
        "embedding_size = 361\n",
        "seed = 0\n",
        "clip=5\n",
        "num_classes = 3\n",
        "num_hidden_nodes = 117\n",
        "hidden_dim2 = 85\n",
        "num_layers = 2  # LSTM layers\n",
        "bi_directional = True\n",
        "num_epochs = 100\n",
        "\n",
        "parameters = [sherpa.Discrete('num_hidden_nodes', [64, 128]),\n",
        "              sherpa.Discrete('embedding_size', [300, 800]),\n",
        "              sherpa.Discrete('hidden_dim2', [64, 128]),\n",
        "              sherpa.Continuous('lr',[1e-6,1e-2]),\n",
        "              sherpa.Continuous('dropout_keep_prob',[0.4,0.8])]\n",
        "algorithm= sherpa.algorithms.Genetic(max_num_trials=50)\n",
        "pad_index = Text.vocab.stoi[Text.pad_token]\n",
        "\n",
        "# Build the model\n",
        "lstm_model = LSTM(vocab_size, embedding_size, num_hidden_nodes, hidden_dim2 , num_classes, num_layers,\n",
        "                  bi_directional, dropout_keep_prob, pad_index)\n",
        "lstm_model.to(device)\n",
        "print(lstm_model)"
      ],
      "execution_count": 25,
      "outputs": [
        {
          "output_type": "stream",
          "text": [
            "LSTM(\n",
            "  (embedding): Embedding(5002, 361, padding_idx=1)\n",
            "  (lstm): LSTM(361, 117, num_layers=2, batch_first=True, bidirectional=True)\n",
            "  (fc1): Linear(in_features=234, out_features=85, bias=True)\n",
            "  (fc2): Linear(in_features=85, out_features=3, bias=True)\n",
            "  (relu): SELU()\n",
            "  (dropout): Dropout(p=0.48209457439897463, inplace=False)\n",
            "  (dropout1): Dropout(p=0.48209457439897463, inplace=False)\n",
            "  (act): Softmax(dim=None)\n",
            ")\n"
          ],
          "name": "stdout"
        }
      ]
    },
    {
      "cell_type": "markdown",
      "metadata": {
        "id": "ZLmmdfsyJrUk",
        "pycharm": {
          "name": "#%% md\n"
        }
      },
      "source": [
        "## training the model"
      ]
    },
    {
      "cell_type": "code",
      "metadata": {
        "id": "tESutgn6JrUk",
        "pycharm": {
          "name": "#%%\n"
        }
      },
      "source": [
        "train_iterator, test_iterator = data.BucketIterator.splits((train_ds, test_ds),\n",
        "                                                           batch_size=batch_size,\n",
        "                                                           sort_key=lambda x: len(x.text),\n",
        "                                                           # Sort the batches by text length size\n",
        "                                                           sort_within_batch=True,\n",
        "                                                           device=device,\n",
        "                                                           )"
      ],
      "execution_count": 26,
      "outputs": []
    },
    {
      "cell_type": "code",
      "metadata": {
        "id": "Ne_LiAoSJrUk",
        "pycharm": {
          "name": "#%%\n"
        }
      },
      "source": [
        "report_pred_test =[]\n",
        "report_label_test =[]\n",
        "\n",
        "report_pred_train =[]\n",
        "report_label_train =[]\n",
        "def accuracy(probs, target):\n",
        "    winners = probs.argmax(dim=1)\n",
        "    corrects = (winners == target)\n",
        "    accuracy = corrects.sum().float() / float(target.size(0))\n",
        "    return accuracy\n",
        "\n",
        "def plot_cm(y_true, y_pred, target_names):\n",
        "    cm = confusion_matrix(y_true, y_pred, labels=target_names)\n",
        "    plt.figure(figsize=(5,5))\n",
        "    sb.heatmap(cm, annot=True, fmt=\"d\")\n",
        "    plt.title('Confusion matrix')\n",
        "    plt.ylabel('Actual label')\n",
        "    plt.xlabel('Predicted label')\n",
        "\n",
        "def train(model, iterator, optimizer, criterion):\n",
        "    epoch_loss = 0\n",
        "    epoch_acc = 0\n",
        "\n",
        "    model.train()\n",
        "    h = model.init_hidden(batch_size)\n",
        "    for batch in iterator:\n",
        "        optimizer.zero_grad()\n",
        "        # zero accumulated gradients\n",
        "        model.zero_grad()\n",
        "        # retrieve text and no. of words\n",
        "        text, text_lengths = batch.text\n",
        "        if (text.shape[0], text.shape[1]) != (batch_size, max_document_length):\n",
        "            continue\n",
        "\n",
        "        # Creating new variables for the hidden state, otherwise\n",
        "        # we'd backprop through the entire training history\n",
        "        h = tuple([each.data for each in h])\n",
        "\n",
        "        predictions, h = model(text, text_lengths, h)\n",
        "        loss = criterion(predictions, batch.labels.squeeze())\n",
        "\n",
        "        acc = accuracy(predictions, batch.labels)\n",
        "\n",
        "        # perform backpropagation\n",
        "        loss.backward()\n",
        "        # `clip_grad_norm` helps prevent the exploding gradient problem in RNNs / LSTMs.\n",
        "        nn.utils.clip_grad_norm_(model.parameters(), clip)\n",
        "        optimizer.step()\n",
        "\n",
        "        epoch_loss += loss.item()\n",
        "        epoch_acc += acc.item()\n",
        "\n",
        "    return epoch_loss / len(iterator), epoch_acc / len(iterator)\n",
        "\n",
        "def evaluate(model, iterator, criterion, report=False):\n",
        "    epoch_loss = 0\n",
        "    epoch_acc = 0\n",
        "    \n",
        "\n",
        "    model.eval()\n",
        "    val_h = model.init_hidden(batch_size)\n",
        "    with torch.no_grad():\n",
        "        for batch in iterator:\n",
        "            text, text_lengths = batch.text\n",
        "            if (text.shape[0], text.shape[1]) != (batch_size, max_document_length):\n",
        "                continue\n",
        "\n",
        "            # Creating new variables for the hidden state, otherwise\n",
        "            # we'd backprop through the entire training history\n",
        "            val_h = tuple([each.data for each in val_h])\n",
        "\n",
        "            predictions, val_h = model(text, text_lengths, val_h)\n",
        "\n",
        "            loss = criterion(predictions, batch.labels)\n",
        "\n",
        "            acc = accuracy(predictions, batch.labels)\n",
        "            if report:\n",
        "                report_pred_test.extend(predictions.argmax(dim=1).cpu())\n",
        "                report_label_test.extend(batch.labels.cpu())\n",
        "\n",
        "            epoch_loss += loss.item()\n",
        "            epoch_acc += acc.item()\n",
        "    if report:\n",
        "        print(classification_report(report_label_test, report_pred_test, target_names=['neutral', 'positive', 'negative']))\n",
        "        plot_cm(report_label_test, report_pred_test, target_names=[0, 1, 2])\n",
        "\n",
        "    return epoch_loss / len(iterator), epoch_acc / len(iterator)\n",
        "\n",
        "\n",
        "def run_train(epochs, model, train_iterator, valid_iterator, optimizer, criterion, study=None, trial=None):\n",
        "    best_valid_loss = float('inf')\n",
        "\n",
        "    for epoch in range(epochs):\n",
        "\n",
        "        # train the model\n",
        "        train_loss, train_acc = train(model, train_iterator, optimizer, criterion)\n",
        "\n",
        "        # evaluate the model\n",
        "        valid_loss, valid_acc = evaluate(model, valid_iterator, criterion)\n",
        "        \n",
        "        # save the best model\n",
        "        if valid_loss < best_valid_loss:\n",
        "            best_valid_loss = valid_loss\n",
        "            torch.save(model.state_dict(), 'checkpoint/twitter.t7')\n",
        "\n",
        "        print(f'\\tTrain Loss: {train_loss:.3f} | Train Acc: {train_acc * 100:.2f}%')\n",
        "        print(f'\\t Val. Loss: {valid_loss:.3f} |  Val. Acc: {valid_acc * 100:.2f}%')\n",
        "        if study != None:\n",
        "          study.add_observation(trial=trial,\n",
        "                          iteration=epoch,\n",
        "                          objective=valid_loss)\n",
        "          if study.should_trial_stop(trial):\n",
        "            break "
      ],
      "execution_count": 47,
      "outputs": []
    },
    {
      "cell_type": "code",
      "metadata": {
        "id": "aPadIekjJrUl",
        "pycharm": {
          "name": "#%%\n"
        }
      },
      "source": [
        "# loss function\n",
        "loss_func = nn.CrossEntropyLoss()\n",
        "optimizer = torch.optim.Adam(lstm_model.parameters(), lr=lr)"
      ],
      "execution_count": 28,
      "outputs": []
    },
    {
      "cell_type": "code",
      "metadata": {
        "colab": {
          "base_uri": "https://localhost:8080/",
          "height": 680
        },
        "id": "r9ILuYmE4PEQ",
        "outputId": "3d080712-f016-4fef-a9d9-e5d9b8d8ccd5"
      },
      "source": [
        "run_train(num_epochs, lstm_model, train_iterator, test_iterator, optimizer, loss_func)"
      ],
      "execution_count": 29,
      "outputs": [
        {
          "output_type": "stream",
          "text": [
            "\tTrain Loss: 0.648 | Train Acc: 74.37%\n",
            "\t Val. Loss: 0.528 |  Val. Acc: 80.83%\n",
            "\tTrain Loss: 0.520 | Train Acc: 81.65%\n",
            "\t Val. Loss: 0.505 |  Val. Acc: 82.19%\n",
            "\tTrain Loss: 0.487 | Train Acc: 82.75%\n",
            "\t Val. Loss: 0.508 |  Val. Acc: 82.72%\n",
            "\tTrain Loss: 0.459 | Train Acc: 83.70%\n",
            "\t Val. Loss: 0.506 |  Val. Acc: 82.51%\n",
            "\tTrain Loss: 0.428 | Train Acc: 84.79%\n",
            "\t Val. Loss: 0.523 |  Val. Acc: 81.96%\n",
            "\tTrain Loss: 0.392 | Train Acc: 85.94%\n",
            "\t Val. Loss: 0.552 |  Val. Acc: 81.39%\n",
            "\tTrain Loss: 0.356 | Train Acc: 87.17%\n",
            "\t Val. Loss: 0.606 |  Val. Acc: 80.55%\n",
            "\tTrain Loss: 0.320 | Train Acc: 88.43%\n",
            "\t Val. Loss: 0.630 |  Val. Acc: 80.52%\n",
            "\tTrain Loss: 0.283 | Train Acc: 89.79%\n",
            "\t Val. Loss: 0.656 |  Val. Acc: 80.15%\n",
            "\tTrain Loss: 0.253 | Train Acc: 91.01%\n",
            "\t Val. Loss: 0.747 |  Val. Acc: 80.09%\n",
            "\tTrain Loss: 0.228 | Train Acc: 91.97%\n",
            "\t Val. Loss: 0.758 |  Val. Acc: 79.64%\n"
          ],
          "name": "stdout"
        },
        {
          "output_type": "error",
          "ename": "KeyboardInterrupt",
          "evalue": "ignored",
          "traceback": [
            "\u001b[0;31m---------------------------------------------------------------------------\u001b[0m",
            "\u001b[0;31mKeyboardInterrupt\u001b[0m                         Traceback (most recent call last)",
            "\u001b[0;32m<ipython-input-29-8395ce2faaf6>\u001b[0m in \u001b[0;36m<module>\u001b[0;34m()\u001b[0m\n\u001b[0;32m----> 1\u001b[0;31m \u001b[0mrun_train\u001b[0m\u001b[0;34m(\u001b[0m\u001b[0mnum_epochs\u001b[0m\u001b[0;34m,\u001b[0m \u001b[0mlstm_model\u001b[0m\u001b[0;34m,\u001b[0m \u001b[0mtrain_iterator\u001b[0m\u001b[0;34m,\u001b[0m \u001b[0mtest_iterator\u001b[0m\u001b[0;34m,\u001b[0m \u001b[0moptimizer\u001b[0m\u001b[0;34m,\u001b[0m \u001b[0mloss_func\u001b[0m\u001b[0;34m)\u001b[0m\u001b[0;34m\u001b[0m\u001b[0;34m\u001b[0m\u001b[0m\n\u001b[0m",
            "\u001b[0;32m<ipython-input-27-ebc1c9bdfa16>\u001b[0m in \u001b[0;36mrun_train\u001b[0;34m(epochs, model, train_iterator, valid_iterator, optimizer, criterion, study, trial)\u001b[0m\n\u001b[1;32m     90\u001b[0m \u001b[0;34m\u001b[0m\u001b[0m\n\u001b[1;32m     91\u001b[0m         \u001b[0;31m# train the model\u001b[0m\u001b[0;34m\u001b[0m\u001b[0;34m\u001b[0m\u001b[0;34m\u001b[0m\u001b[0m\n\u001b[0;32m---> 92\u001b[0;31m         \u001b[0mtrain_loss\u001b[0m\u001b[0;34m,\u001b[0m \u001b[0mtrain_acc\u001b[0m \u001b[0;34m=\u001b[0m \u001b[0mtrain\u001b[0m\u001b[0;34m(\u001b[0m\u001b[0mmodel\u001b[0m\u001b[0;34m,\u001b[0m \u001b[0mtrain_iterator\u001b[0m\u001b[0;34m,\u001b[0m \u001b[0moptimizer\u001b[0m\u001b[0;34m,\u001b[0m \u001b[0mcriterion\u001b[0m\u001b[0;34m)\u001b[0m\u001b[0;34m\u001b[0m\u001b[0;34m\u001b[0m\u001b[0m\n\u001b[0m\u001b[1;32m     93\u001b[0m \u001b[0;34m\u001b[0m\u001b[0m\n\u001b[1;32m     94\u001b[0m         \u001b[0;31m# evaluate the model\u001b[0m\u001b[0;34m\u001b[0m\u001b[0;34m\u001b[0m\u001b[0;34m\u001b[0m\u001b[0m\n",
            "\u001b[0;32m<ipython-input-27-ebc1c9bdfa16>\u001b[0m in \u001b[0;36mtrain\u001b[0;34m(model, iterator, optimizer, criterion)\u001b[0m\n\u001b[1;32m     40\u001b[0m         \u001b[0mloss\u001b[0m\u001b[0;34m.\u001b[0m\u001b[0mbackward\u001b[0m\u001b[0;34m(\u001b[0m\u001b[0;34m)\u001b[0m\u001b[0;34m\u001b[0m\u001b[0;34m\u001b[0m\u001b[0m\n\u001b[1;32m     41\u001b[0m         \u001b[0;31m# `clip_grad_norm` helps prevent the exploding gradient problem in RNNs / LSTMs.\u001b[0m\u001b[0;34m\u001b[0m\u001b[0;34m\u001b[0m\u001b[0;34m\u001b[0m\u001b[0m\n\u001b[0;32m---> 42\u001b[0;31m         \u001b[0mnn\u001b[0m\u001b[0;34m.\u001b[0m\u001b[0mutils\u001b[0m\u001b[0;34m.\u001b[0m\u001b[0mclip_grad_norm_\u001b[0m\u001b[0;34m(\u001b[0m\u001b[0mmodel\u001b[0m\u001b[0;34m.\u001b[0m\u001b[0mparameters\u001b[0m\u001b[0;34m(\u001b[0m\u001b[0;34m)\u001b[0m\u001b[0;34m,\u001b[0m \u001b[0mclip\u001b[0m\u001b[0;34m)\u001b[0m\u001b[0;34m\u001b[0m\u001b[0;34m\u001b[0m\u001b[0m\n\u001b[0m\u001b[1;32m     43\u001b[0m         \u001b[0moptimizer\u001b[0m\u001b[0;34m.\u001b[0m\u001b[0mstep\u001b[0m\u001b[0;34m(\u001b[0m\u001b[0;34m)\u001b[0m\u001b[0;34m\u001b[0m\u001b[0;34m\u001b[0m\u001b[0m\n\u001b[1;32m     44\u001b[0m \u001b[0;34m\u001b[0m\u001b[0m\n",
            "\u001b[0;32m/usr/local/lib/python3.7/dist-packages/torch/nn/utils/clip_grad.py\u001b[0m in \u001b[0;36mclip_grad_norm_\u001b[0;34m(parameters, max_norm, norm_type)\u001b[0m\n\u001b[1;32m     34\u001b[0m         \u001b[0mtotal_norm\u001b[0m \u001b[0;34m=\u001b[0m \u001b[0mmax\u001b[0m\u001b[0;34m(\u001b[0m\u001b[0mp\u001b[0m\u001b[0;34m.\u001b[0m\u001b[0mgrad\u001b[0m\u001b[0;34m.\u001b[0m\u001b[0mdetach\u001b[0m\u001b[0;34m(\u001b[0m\u001b[0;34m)\u001b[0m\u001b[0;34m.\u001b[0m\u001b[0mabs\u001b[0m\u001b[0;34m(\u001b[0m\u001b[0;34m)\u001b[0m\u001b[0;34m.\u001b[0m\u001b[0mmax\u001b[0m\u001b[0;34m(\u001b[0m\u001b[0;34m)\u001b[0m\u001b[0;34m.\u001b[0m\u001b[0mto\u001b[0m\u001b[0;34m(\u001b[0m\u001b[0mdevice\u001b[0m\u001b[0;34m)\u001b[0m \u001b[0;32mfor\u001b[0m \u001b[0mp\u001b[0m \u001b[0;32min\u001b[0m \u001b[0mparameters\u001b[0m\u001b[0;34m)\u001b[0m\u001b[0;34m\u001b[0m\u001b[0;34m\u001b[0m\u001b[0m\n\u001b[1;32m     35\u001b[0m     \u001b[0;32melse\u001b[0m\u001b[0;34m:\u001b[0m\u001b[0;34m\u001b[0m\u001b[0;34m\u001b[0m\u001b[0m\n\u001b[0;32m---> 36\u001b[0;31m         \u001b[0mtotal_norm\u001b[0m \u001b[0;34m=\u001b[0m \u001b[0mtorch\u001b[0m\u001b[0;34m.\u001b[0m\u001b[0mnorm\u001b[0m\u001b[0;34m(\u001b[0m\u001b[0mtorch\u001b[0m\u001b[0;34m.\u001b[0m\u001b[0mstack\u001b[0m\u001b[0;34m(\u001b[0m\u001b[0;34m[\u001b[0m\u001b[0mtorch\u001b[0m\u001b[0;34m.\u001b[0m\u001b[0mnorm\u001b[0m\u001b[0;34m(\u001b[0m\u001b[0mp\u001b[0m\u001b[0;34m.\u001b[0m\u001b[0mgrad\u001b[0m\u001b[0;34m.\u001b[0m\u001b[0mdetach\u001b[0m\u001b[0;34m(\u001b[0m\u001b[0;34m)\u001b[0m\u001b[0;34m,\u001b[0m \u001b[0mnorm_type\u001b[0m\u001b[0;34m)\u001b[0m\u001b[0;34m.\u001b[0m\u001b[0mto\u001b[0m\u001b[0;34m(\u001b[0m\u001b[0mdevice\u001b[0m\u001b[0;34m)\u001b[0m \u001b[0;32mfor\u001b[0m \u001b[0mp\u001b[0m \u001b[0;32min\u001b[0m \u001b[0mparameters\u001b[0m\u001b[0;34m]\u001b[0m\u001b[0;34m)\u001b[0m\u001b[0;34m,\u001b[0m \u001b[0mnorm_type\u001b[0m\u001b[0;34m)\u001b[0m\u001b[0;34m\u001b[0m\u001b[0;34m\u001b[0m\u001b[0m\n\u001b[0m\u001b[1;32m     37\u001b[0m     \u001b[0mclip_coef\u001b[0m \u001b[0;34m=\u001b[0m \u001b[0mmax_norm\u001b[0m \u001b[0;34m/\u001b[0m \u001b[0;34m(\u001b[0m\u001b[0mtotal_norm\u001b[0m \u001b[0;34m+\u001b[0m \u001b[0;36m1e-6\u001b[0m\u001b[0;34m)\u001b[0m\u001b[0;34m\u001b[0m\u001b[0;34m\u001b[0m\u001b[0m\n\u001b[1;32m     38\u001b[0m     \u001b[0;32mif\u001b[0m \u001b[0mclip_coef\u001b[0m \u001b[0;34m<\u001b[0m \u001b[0;36m1\u001b[0m\u001b[0;34m:\u001b[0m\u001b[0;34m\u001b[0m\u001b[0;34m\u001b[0m\u001b[0m\n",
            "\u001b[0;32m/usr/local/lib/python3.7/dist-packages/torch/nn/utils/clip_grad.py\u001b[0m in \u001b[0;36m<listcomp>\u001b[0;34m(.0)\u001b[0m\n\u001b[1;32m     34\u001b[0m         \u001b[0mtotal_norm\u001b[0m \u001b[0;34m=\u001b[0m \u001b[0mmax\u001b[0m\u001b[0;34m(\u001b[0m\u001b[0mp\u001b[0m\u001b[0;34m.\u001b[0m\u001b[0mgrad\u001b[0m\u001b[0;34m.\u001b[0m\u001b[0mdetach\u001b[0m\u001b[0;34m(\u001b[0m\u001b[0;34m)\u001b[0m\u001b[0;34m.\u001b[0m\u001b[0mabs\u001b[0m\u001b[0;34m(\u001b[0m\u001b[0;34m)\u001b[0m\u001b[0;34m.\u001b[0m\u001b[0mmax\u001b[0m\u001b[0;34m(\u001b[0m\u001b[0;34m)\u001b[0m\u001b[0;34m.\u001b[0m\u001b[0mto\u001b[0m\u001b[0;34m(\u001b[0m\u001b[0mdevice\u001b[0m\u001b[0;34m)\u001b[0m \u001b[0;32mfor\u001b[0m \u001b[0mp\u001b[0m \u001b[0;32min\u001b[0m \u001b[0mparameters\u001b[0m\u001b[0;34m)\u001b[0m\u001b[0;34m\u001b[0m\u001b[0;34m\u001b[0m\u001b[0m\n\u001b[1;32m     35\u001b[0m     \u001b[0;32melse\u001b[0m\u001b[0;34m:\u001b[0m\u001b[0;34m\u001b[0m\u001b[0;34m\u001b[0m\u001b[0m\n\u001b[0;32m---> 36\u001b[0;31m         \u001b[0mtotal_norm\u001b[0m \u001b[0;34m=\u001b[0m \u001b[0mtorch\u001b[0m\u001b[0;34m.\u001b[0m\u001b[0mnorm\u001b[0m\u001b[0;34m(\u001b[0m\u001b[0mtorch\u001b[0m\u001b[0;34m.\u001b[0m\u001b[0mstack\u001b[0m\u001b[0;34m(\u001b[0m\u001b[0;34m[\u001b[0m\u001b[0mtorch\u001b[0m\u001b[0;34m.\u001b[0m\u001b[0mnorm\u001b[0m\u001b[0;34m(\u001b[0m\u001b[0mp\u001b[0m\u001b[0;34m.\u001b[0m\u001b[0mgrad\u001b[0m\u001b[0;34m.\u001b[0m\u001b[0mdetach\u001b[0m\u001b[0;34m(\u001b[0m\u001b[0;34m)\u001b[0m\u001b[0;34m,\u001b[0m \u001b[0mnorm_type\u001b[0m\u001b[0;34m)\u001b[0m\u001b[0;34m.\u001b[0m\u001b[0mto\u001b[0m\u001b[0;34m(\u001b[0m\u001b[0mdevice\u001b[0m\u001b[0;34m)\u001b[0m \u001b[0;32mfor\u001b[0m \u001b[0mp\u001b[0m \u001b[0;32min\u001b[0m \u001b[0mparameters\u001b[0m\u001b[0;34m]\u001b[0m\u001b[0;34m)\u001b[0m\u001b[0;34m,\u001b[0m \u001b[0mnorm_type\u001b[0m\u001b[0;34m)\u001b[0m\u001b[0;34m\u001b[0m\u001b[0;34m\u001b[0m\u001b[0m\n\u001b[0m\u001b[1;32m     37\u001b[0m     \u001b[0mclip_coef\u001b[0m \u001b[0;34m=\u001b[0m \u001b[0mmax_norm\u001b[0m \u001b[0;34m/\u001b[0m \u001b[0;34m(\u001b[0m\u001b[0mtotal_norm\u001b[0m \u001b[0;34m+\u001b[0m \u001b[0;36m1e-6\u001b[0m\u001b[0;34m)\u001b[0m\u001b[0;34m\u001b[0m\u001b[0;34m\u001b[0m\u001b[0m\n\u001b[1;32m     38\u001b[0m     \u001b[0;32mif\u001b[0m \u001b[0mclip_coef\u001b[0m \u001b[0;34m<\u001b[0m \u001b[0;36m1\u001b[0m\u001b[0;34m:\u001b[0m\u001b[0;34m\u001b[0m\u001b[0;34m\u001b[0m\u001b[0m\n",
            "\u001b[0;32m/usr/local/lib/python3.7/dist-packages/torch/functional.py\u001b[0m in \u001b[0;36mnorm\u001b[0;34m(input, p, dim, keepdim, out, dtype)\u001b[0m\n\u001b[1;32m   1374\u001b[0m         \u001b[0;32mif\u001b[0m \u001b[0;32mnot\u001b[0m \u001b[0misinstance\u001b[0m\u001b[0;34m(\u001b[0m\u001b[0mp\u001b[0m\u001b[0;34m,\u001b[0m \u001b[0mstr\u001b[0m\u001b[0;34m)\u001b[0m\u001b[0;34m:\u001b[0m\u001b[0;34m\u001b[0m\u001b[0;34m\u001b[0m\u001b[0m\n\u001b[1;32m   1375\u001b[0m             \u001b[0m_dim\u001b[0m \u001b[0;34m=\u001b[0m \u001b[0;34m[\u001b[0m\u001b[0mi\u001b[0m \u001b[0;32mfor\u001b[0m \u001b[0mi\u001b[0m \u001b[0;32min\u001b[0m \u001b[0mrange\u001b[0m\u001b[0;34m(\u001b[0m\u001b[0mndim\u001b[0m\u001b[0;34m)\u001b[0m\u001b[0;34m]\u001b[0m  \u001b[0;31m# noqa: C416 TODO: rewrite as list(range(m))\u001b[0m\u001b[0;34m\u001b[0m\u001b[0;34m\u001b[0m\u001b[0m\n\u001b[0;32m-> 1376\u001b[0;31m             \u001b[0;32mreturn\u001b[0m \u001b[0m_VF\u001b[0m\u001b[0;34m.\u001b[0m\u001b[0mnorm\u001b[0m\u001b[0;34m(\u001b[0m\u001b[0minput\u001b[0m\u001b[0;34m,\u001b[0m \u001b[0mp\u001b[0m\u001b[0;34m,\u001b[0m \u001b[0mdim\u001b[0m\u001b[0;34m=\u001b[0m\u001b[0m_dim\u001b[0m\u001b[0;34m,\u001b[0m \u001b[0mkeepdim\u001b[0m\u001b[0;34m=\u001b[0m\u001b[0mkeepdim\u001b[0m\u001b[0;34m)\u001b[0m  \u001b[0;31m# type: ignore\u001b[0m\u001b[0;34m\u001b[0m\u001b[0;34m\u001b[0m\u001b[0m\n\u001b[0m\u001b[1;32m   1377\u001b[0m \u001b[0;34m\u001b[0m\u001b[0m\n\u001b[1;32m   1378\u001b[0m     \u001b[0;31m# TODO: when https://github.com/pytorch/pytorch/issues/33782 is fixed\u001b[0m\u001b[0;34m\u001b[0m\u001b[0;34m\u001b[0m\u001b[0;34m\u001b[0m\u001b[0m\n",
            "\u001b[0;31mKeyboardInterrupt\u001b[0m: "
          ]
        }
      ]
    },
    {
      "cell_type": "code",
      "metadata": {
        "id": "wlRLwH6Kav-o"
      },
      "source": [
        "study = sherpa.Study(parameters=parameters,\n",
        "                     algorithm=algorithm,\n",
        "                     lower_is_better=True)\n",
        "for trial in study:\n",
        "    print(\"Trial {}:\\t{}\".format(trial.id, trial.parameters))\n",
        "    lstm_model = LSTM(vocab_size, trial.parameters['embedding_size'], trial.parameters['num_hidden_nodes'], trial.parameters['hidden_dim2'] , num_classes, num_layers,\n",
        "                  bi_directional, trial.parameters['dropout_keep_prob'], pad_index)\n",
        "    lstm_model.to(device)\n",
        "    print(lstm_model)\n",
        "    optimizer = torch.optim.Adam(lstm_model.parameters(), lr=trial.parameters['lr'])\n",
        "    run_train(num_epochs, lstm_model, train_iterator, test_iterator, optimizer, loss_func, study, trial)\n",
        "    study.finalize(trial=trial)"
      ],
      "execution_count": null,
      "outputs": []
    },
    {
      "cell_type": "code",
      "metadata": {
        "id": "1M3eT4p7197o"
      },
      "source": [
        "print(study.get_best_result())\n",
        "lr = study.get_best_result()['lr']\n",
        "dropout_keep_prob = study.get_best_result()['dropout_keep_prob']\n",
        "embedding_size = study.get_best_result()['embedding_size']\n",
        "num_hidden_nodes = study.get_best_result()['num_hidden_nodes']\n",
        "hidden_dim2 = study.get_best_result()['hidden_dim2']\n",
        "num_epochs = 100"
      ],
      "execution_count": null,
      "outputs": []
    },
    {
      "cell_type": "code",
      "metadata": {
        "id": "IXSVKXpkJrUl",
        "pycharm": {
          "name": "#%%\n"
        }
      },
      "source": [
        "run_train(num_epochs, lstm_model, train_iterator, test_iterator, optimizer, loss_func)"
      ],
      "execution_count": null,
      "outputs": []
    },
    {
      "cell_type": "code",
      "metadata": {
        "id": "zNhQggYQJrUm",
        "pycharm": {
          "name": "#%%\n"
        },
        "colab": {
          "base_uri": "https://localhost:8080/",
          "height": 537
        },
        "outputId": "976cdbe1-fc04-4ed8-9d2b-1724a6346e10"
      },
      "source": [
        "lstm_model.load_state_dict(torch.load('checkpoint/twitter.t7', map_location=device))\n",
        "# predict\n",
        "test_loss, test_acc = evaluate(lstm_model, test_iterator, loss_func, report=True)\n",
        "print(f'Test Loss: {test_loss:.3f} | Test Acc: {test_acc * 100:.2f}%')"
      ],
      "execution_count": 93,
      "outputs": [
        {
          "output_type": "stream",
          "text": [
            "              precision    recall  f1-score   support\n",
            "\n",
            "     neutral       0.77      0.92      0.84     19940\n",
            "    positive       0.90      0.77      0.83     25592\n",
            "    negative       0.78      0.77      0.78     12368\n",
            "\n",
            "    accuracy                           0.82     57900\n",
            "   macro avg       0.82      0.82      0.82     57900\n",
            "weighted avg       0.83      0.82      0.82     57900\n",
            "\n",
            "Test Loss: 0.505 | Test Acc: 82.19%\n"
          ],
          "name": "stdout"
        },
        {
          "output_type": "display_data",
          "data": {
            "image/png": "[encoded data removed]",
            "text/plain": [
              "<Figure size 360x360 with 2 Axes>"
            ]
          },
          "metadata": {
            "tags": [],
            "needs_background": "light"
          }
        }
      ]
    },
    {
      "cell_type": "markdown",
      "metadata": {
        "collapsed": false,
        "id": "ocDF29euwWph"
      },
      "source": [
        "If the model is predicted perfectly confusion matrix should be diagonal which indicates values off the main diagonal representing incorrect prediction is zero"
      ]
    },
    {
      "cell_type": "markdown",
      "metadata": {
        "id": "2C02kTb7RT7Y"
      },
      "source": [
        "### Ploting the ROC"
      ]
    },
    {
      "cell_type": "code",
      "metadata": {
        "id": "tEPjRV2mRaNC"
      },
      "source": [
        "def plot_roc(name, labels, predictions, **kwargs):\n",
        "  fpr = dict()\n",
        "  tpr = dict()\n",
        "  roc_auc = dict()\n",
        "\n",
        "  for i in range(num_classes):\n",
        "      fpr[i], tpr[i], _ = roc_curve(np.array(np.eye(num_classes,num_classes)[labels])[:, i], np.array(np.eye(num_classes,num_classes)[predictions])[:, i])\n",
        "      roc_auc[i] = auc(fpr[i], tpr[i])\n",
        "\n",
        "\n",
        "  all_fpr = np.unique(np.concatenate([fpr[i] for i in range(num_classes)]))\n",
        "\n",
        "  mean_tpr = np.zeros_like(all_fpr)\n",
        "  for i in range(num_classes):\n",
        "      mean_tpr += interp(all_fpr, fpr[i], tpr[i])\n",
        "\n",
        "  mean_tpr /= num_classes\n",
        "\n",
        "  fpr[\"macro\"] = all_fpr\n",
        "  tpr[\"macro\"] = mean_tpr\n",
        "  roc_auc[\"macro\"] = auc(fpr[\"macro\"], tpr[\"macro\"])\n",
        "\n",
        "  lw=2\n",
        "  plt.figure(figsize=(10,7))\n",
        "  plt.plot(fpr[\"macro\"], tpr[\"macro\"],\n",
        "          label='macro-average ROC curve (area = {0:0.2f})'\n",
        "                ''.format(roc_auc[\"macro\"]),\n",
        "          color='green', linestyle=':', linewidth=4)\n",
        "\n",
        "  colors = cycle(['aqua', 'darkorange', 'cornflowerblue'])\n",
        "  for i, color in zip(range(num_classes), colors):\n",
        "      plt.plot(fpr[i], tpr[i], color=color, lw=lw,\n",
        "              label='ROC curve of class {0} (area = {1:0.2f})'\n",
        "              ''.format(i, roc_auc[i]), **kwargs)\n",
        "\n",
        "  plt.plot([0, 1], [0, 1],color='red', lw=lw, **kwargs)\n",
        "  plt.xlim([0.0, 1.0])\n",
        "  plt.ylim([0.0, 1.05])\n",
        "  plt.annotate(name,(.5,.48),color='red')\n",
        "  plt.xlabel('False Positive Rate')\n",
        "  plt.ylabel('True Positive Rate')\n",
        "  plt.title('Receiver Operating Characteristic for Model')\n",
        "  plt.grid(True)\n",
        "  ax = plt.gca()\n",
        "  ax.set_aspect('equal')"
      ],
      "execution_count": 91,
      "outputs": []
    },
    {
      "cell_type": "code",
      "metadata": {
        "id": "vMdx-5SORfJk",
        "outputId": "88de8fb6-13ab-46d2-c66b-ecf97e92ca29",
        "colab": {
          "base_uri": "https://localhost:8080/",
          "height": 475
        }
      },
      "source": [
        "plot_roc(\"Test Baseline\", report_label_test, report_pred_test, linestyle='--')\n",
        "plt.legend(loc=\"lower right\")"
      ],
      "execution_count": 92,
      "outputs": [
        {
          "output_type": "execute_result",
          "data": {
            "text/plain": [
              "<matplotlib.legend.Legend at 0x7f30749955d0>"
            ]
          },
          "metadata": {
            "tags": []
          },
          "execution_count": 92
        },
        {
          "output_type": "display_data",
          "data": {
            "image/png": "[encoded data removed]",
            "text/plain": [
              "<Figure size 720x504 with 1 Axes>"
            ]
          },
          "metadata": {
            "tags": [],
            "needs_background": "light"
          }
        }
      ]
    },
    {
      "cell_type": "markdown",
      "metadata": {
        "id": "Z5poLy0ybCkw"
      },
      "source": [
        "The ideal case of `ROC` is when it has an `inverse L` meaning classes are greagreatly sepseparated with an `AUC` of 1 under the curve.\n",
        "\n",
        "Here `AUC` of near 0.9 and curl is almost `inverse L` shaped which indicates it has a good measure of separability. This graph also conveys model's strength is on class-0 `neutral` tweets"
      ]
    },
    {
      "cell_type": "markdown",
      "metadata": {
        "id": "QifVxbhqJrUm",
        "pycharm": {
          "name": "#%% md\n"
        }
      },
      "source": [
        "## Visualizing the model"
      ]
    },
    {
      "cell_type": "code",
      "metadata": {
        "ExecuteTime": {
          "end_time": "2021-04-04T20:11:40.665155Z",
          "start_time": "2021-04-04T20:11:40.648151Z"
        },
        "id": "gH1wMUQVJrUm",
        "pycharm": {
          "name": "#%%\n"
        }
      },
      "source": [
        "vis_data_records_ig = []\n",
        "def forward(input, text_length):\n",
        "    return F.softmax(lstm_model(input, text_length)[0])\n",
        "lig = LayerIntegratedGradients(forward, lstm_model.embedding)\n",
        "def interpret_sentence(model, sentence, min_len = max_document_length, label = 0):\n",
        "    model.train()\n",
        "    h = model.init_hidden(1)\n",
        "    h500 = model.init_hidden(500)\n",
        "    text = preprocess(sentence)\n",
        "    actual_len = len(text)\n",
        "    if len(text) < min_len:\n",
        "        text += ['<pad>'] * (min_len - len(text))\n",
        "    indexed = [Text.vocab.stoi[t] for t in text]\n",
        "\n",
        "    model.zero_grad()\n",
        "\n",
        "    input_indices = torch.tensor(indexed, device=device)\n",
        "    input_indices = input_indices.unsqueeze(0)\n",
        "    text_length = torch.tensor([actual_len], device=device)\n",
        "    # input_indices dim: [sequence_length]\n",
        "    seq_length = min_len\n",
        "\n",
        "    # predict\n",
        "    pred = F.softmax(model(input_indices, text_length, h)[0]).argmax(dim=1).item()\n",
        "    pred_ind = round(pred)\n",
        "\n",
        "    # generate reference indices for each sample\n",
        "    reference_indices = token_reference.generate_reference(seq_length, device=device).unsqueeze(0)\n",
        "\n",
        "    # compute attributions and approximation delta using layer integrated gradients\n",
        "    attributions_ig, delta = lig.attribute(input_indices, reference_indices,\n",
        "                                           n_steps=500,target=2-label, return_convergence_delta=True, additional_forward_args=text_length)\n",
        "\n",
        "    print(sentence, 'pred: ', {1:'positive', 0: 'netural', 2: 'negative'}[pred_ind], '(', '%.2f'%pred, ')', ', delta: ', abs(delta))\n",
        "\n",
        "    add_attributions_to_visualizer(attributions_ig, text, pred, pred_ind, label, delta, vis_data_records_ig)\n",
        "\n",
        "def add_attributions_to_visualizer(attributions, text, pred, pred_ind, label, delta, vis_data_records):\n",
        "    attributions = attributions.sum(dim=2).squeeze(0)\n",
        "    attributions = attributions / torch.norm(attributions)\n",
        "    attributions = attributions.cpu().detach().numpy()\n",
        "\n",
        "\n",
        "    # storing couple samples in an array for visualization purposes\n",
        "    vis_data_records.append(visualization.VisualizationDataRecord(\n",
        "        attributions,\n",
        "        pred,\n",
        "        {1:'positive', 0: 'netural', 2: 'negative'}[pred_ind],\n",
        "        {1:'positive', 0: 'netural', 2: 'negative'}[label],\n",
        "        {1:'positive', 0: 'netural', 2: 'negative'}[label],\n",
        "        attributions.sum(),\n",
        "        text,\n",
        "        delta))"
      ],
      "execution_count": 43,
      "outputs": []
    },
    {
      "cell_type": "code",
      "metadata": {
        "pycharm": {
          "name": "#%%\n"
        },
        "id": "wUrqYoqLz9ks",
        "colab": {
          "base_uri": "https://localhost:8080/",
          "height": 0
        },
        "outputId": "8abb73a2-0ee6-484d-e416-b37e546f22a3"
      },
      "source": [
        "interpret_sentence(lstm_model, 'It was a fantastic performance !', label=1)\n",
        "interpret_sentence(lstm_model, 'Best film ever', label=1)\n",
        "interpret_sentence(lstm_model, 'Such a great show!', label=1)\n",
        "interpret_sentence(lstm_model, 'It was a horrible movie', label=2)\n",
        "interpret_sentence(lstm_model, 'I\\'ve never watched something as bad', label=2)\n",
        "interpret_sentence(lstm_model, 'It is a disgusting movie!', label=2)\n",
        "interpret_sentence(lstm_model, 'ok', label=0)"
      ],
      "execution_count": 44,
      "outputs": [
        {
          "output_type": "stream",
          "text": [
            "It was a fantastic performance ! pred:  positive ( 1.00 ) , delta:  tensor([0.0229], device='cuda:0', dtype=torch.float64)\n",
            "Best film ever pred:  positive ( 1.00 ) , delta:  tensor([0.0182], device='cuda:0', dtype=torch.float64)\n",
            "Such a great show! pred:  positive ( 1.00 ) , delta:  tensor([0.0560], device='cuda:0', dtype=torch.float64)\n",
            "It was a horrible movie pred:  negative ( 2.00 ) , delta:  tensor([0.1166], device='cuda:0', dtype=torch.float64)\n",
            "I've never watched something as bad pred:  negative ( 2.00 ) , delta:  tensor([0.0158], device='cuda:0', dtype=torch.float64)\n",
            "It is a disgusting movie! pred:  negative ( 2.00 ) , delta:  tensor([0.0194], device='cuda:0', dtype=torch.float64)\n",
            "ok pred:  netural ( 0.00 ) , delta:  tensor([0.0847], device='cuda:0', dtype=torch.float64)\n"
          ],
          "name": "stdout"
        }
      ]
    },
    {
      "cell_type": "code",
      "metadata": {
        "colab": {
          "base_uri": "https://localhost:8080/",
          "height": 383
        },
        "id": "4pQF5kz7PN3f",
        "outputId": "4eebc70a-0ebc-4b12-eee5-c8876eb3f790"
      },
      "source": [
        "_ = visualization.visualize_text(vis_data_records_ig)"
      ],
      "execution_count": 45,
      "outputs": [
        {
          "output_type": "display_data",
          "data": {
            "text/html": [
              "<table width: 100%><div style=\"border-top: 1px solid; margin-top: 5px;             padding-top: 5px; display: inline-block\"><b>Legend: </b><span style=\"display: inline-block; width: 10px; height: 10px;                 border: 1px solid; background-color:                 hsl(0, 75%, 60%)\"></span> Negative  <span style=\"display: inline-block; width: 10px; height: 10px;                 border: 1px solid; background-color:                 hsl(0, 75%, 100%)\"></span> Neutral  <span style=\"display: inline-block; width: 10px; height: 10px;                 border: 1px solid; background-color:                 hsl(120, 75%, 50%)\"></span> Positive  </div><tr><th>True Label</th><th>Predicted Label</th><th>Attribution Label</th><th>Attribution Score</th><th>Word Importance</th><tr><td><text style=\"padding-right:2em\"><b>positive</b></text></td><td><text style=\"padding-right:2em\"><b>positive (1.00)</b></text></td><td><text style=\"padding-right:2em\"><b>positive</b></text></td><td><text style=\"padding-right:2em\"><b>1.05</b></text></td><td><mark style=\"background-color: hsl(0, 75%, 100%); opacity:1.0;                     line-height:1.75\"><font color=\"black\"> it                    </font></mark><mark style=\"background-color: hsl(120, 75%, 51%); opacity:1.0;                     line-height:1.75\"><font color=\"black\"> fantastic                    </font></mark><mark style=\"background-color: hsl(120, 75%, 98%); opacity:1.0;                     line-height:1.75\"><font color=\"black\"> performance                    </font></mark><mark style=\"background-color: hsl(0, 75%, 100%); opacity:1.0;                     line-height:1.75\"><font color=\"black\"> #pad                    </font></mark><mark style=\"background-color: hsl(0, 75%, 100%); opacity:1.0;                     line-height:1.75\"><font color=\"black\"> #pad                    </font></mark><mark style=\"background-color: hsl(0, 75%, 100%); opacity:1.0;                     line-height:1.75\"><font color=\"black\"> #pad                    </font></mark><mark style=\"background-color: hsl(0, 75%, 100%); opacity:1.0;                     line-height:1.75\"><font color=\"black\"> #pad                    </font></mark><mark style=\"background-color: hsl(0, 75%, 100%); opacity:1.0;                     line-height:1.75\"><font color=\"black\"> #pad                    </font></mark><mark style=\"background-color: hsl(0, 75%, 100%); opacity:1.0;                     line-height:1.75\"><font color=\"black\"> #pad                    </font></mark><mark style=\"background-color: hsl(0, 75%, 100%); opacity:1.0;                     line-height:1.75\"><font color=\"black\"> #pad                    </font></mark><mark style=\"background-color: hsl(0, 75%, 100%); opacity:1.0;                     line-height:1.75\"><font color=\"black\"> #pad                    </font></mark><mark style=\"background-color: hsl(0, 75%, 100%); opacity:1.0;                     line-height:1.75\"><font color=\"black\"> #pad                    </font></mark><mark style=\"background-color: hsl(0, 75%, 100%); opacity:1.0;                     line-height:1.75\"><font color=\"black\"> #pad                    </font></mark><mark style=\"background-color: hsl(0, 75%, 100%); opacity:1.0;                     line-height:1.75\"><font color=\"black\"> #pad                    </font></mark><mark style=\"background-color: hsl(0, 75%, 100%); opacity:1.0;                     line-height:1.75\"><font color=\"black\"> #pad                    </font></mark><mark style=\"background-color: hsl(0, 75%, 100%); opacity:1.0;                     line-height:1.75\"><font color=\"black\"> #pad                    </font></mark><mark style=\"background-color: hsl(0, 75%, 100%); opacity:1.0;                     line-height:1.75\"><font color=\"black\"> #pad                    </font></mark><mark style=\"background-color: hsl(0, 75%, 100%); opacity:1.0;                     line-height:1.75\"><font color=\"black\"> #pad                    </font></mark><mark style=\"background-color: hsl(0, 75%, 100%); opacity:1.0;                     line-height:1.75\"><font color=\"black\"> #pad                    </font></mark><mark style=\"background-color: hsl(0, 75%, 100%); opacity:1.0;                     line-height:1.75\"><font color=\"black\"> #pad                    </font></mark><mark style=\"background-color: hsl(0, 75%, 100%); opacity:1.0;                     line-height:1.75\"><font color=\"black\"> #pad                    </font></mark><mark style=\"background-color: hsl(0, 75%, 100%); opacity:1.0;                     line-height:1.75\"><font color=\"black\"> #pad                    </font></mark><mark style=\"background-color: hsl(0, 75%, 100%); opacity:1.0;                     line-height:1.75\"><font color=\"black\"> #pad                    </font></mark></td><tr><tr><td><text style=\"padding-right:2em\"><b>positive</b></text></td><td><text style=\"padding-right:2em\"><b>positive (1.00)</b></text></td><td><text style=\"padding-right:2em\"><b>positive</b></text></td><td><text style=\"padding-right:2em\"><b>1.03</b></text></td><td><mark style=\"background-color: hsl(120, 75%, 51%); opacity:1.0;                     line-height:1.75\"><font color=\"black\"> best                    </font></mark><mark style=\"background-color: hsl(120, 75%, 99%); opacity:1.0;                     line-height:1.75\"><font color=\"black\"> film                    </font></mark><mark style=\"background-color: hsl(0, 75%, 100%); opacity:1.0;                     line-height:1.75\"><font color=\"black\"> #pad                    </font></mark><mark style=\"background-color: hsl(0, 75%, 100%); opacity:1.0;                     line-height:1.75\"><font color=\"black\"> #pad                    </font></mark><mark style=\"background-color: hsl(0, 75%, 100%); opacity:1.0;                     line-height:1.75\"><font color=\"black\"> #pad                    </font></mark><mark style=\"background-color: hsl(0, 75%, 100%); opacity:1.0;                     line-height:1.75\"><font color=\"black\"> #pad                    </font></mark><mark style=\"background-color: hsl(0, 75%, 100%); opacity:1.0;                     line-height:1.75\"><font color=\"black\"> #pad                    </font></mark><mark style=\"background-color: hsl(0, 75%, 100%); opacity:1.0;                     line-height:1.75\"><font color=\"black\"> #pad                    </font></mark><mark style=\"background-color: hsl(0, 75%, 100%); opacity:1.0;                     line-height:1.75\"><font color=\"black\"> #pad                    </font></mark><mark style=\"background-color: hsl(0, 75%, 100%); opacity:1.0;                     line-height:1.75\"><font color=\"black\"> #pad                    </font></mark><mark style=\"background-color: hsl(0, 75%, 100%); opacity:1.0;                     line-height:1.75\"><font color=\"black\"> #pad                    </font></mark><mark style=\"background-color: hsl(0, 75%, 100%); opacity:1.0;                     line-height:1.75\"><font color=\"black\"> #pad                    </font></mark><mark style=\"background-color: hsl(0, 75%, 100%); opacity:1.0;                     line-height:1.75\"><font color=\"black\"> #pad                    </font></mark><mark style=\"background-color: hsl(0, 75%, 100%); opacity:1.0;                     line-height:1.75\"><font color=\"black\"> #pad                    </font></mark><mark style=\"background-color: hsl(0, 75%, 100%); opacity:1.0;                     line-height:1.75\"><font color=\"black\"> #pad                    </font></mark><mark style=\"background-color: hsl(0, 75%, 100%); opacity:1.0;                     line-height:1.75\"><font color=\"black\"> #pad                    </font></mark><mark style=\"background-color: hsl(0, 75%, 100%); opacity:1.0;                     line-height:1.75\"><font color=\"black\"> #pad                    </font></mark><mark style=\"background-color: hsl(0, 75%, 100%); opacity:1.0;                     line-height:1.75\"><font color=\"black\"> #pad                    </font></mark><mark style=\"background-color: hsl(0, 75%, 100%); opacity:1.0;                     line-height:1.75\"><font color=\"black\"> #pad                    </font></mark><mark style=\"background-color: hsl(0, 75%, 100%); opacity:1.0;                     line-height:1.75\"><font color=\"black\"> #pad                    </font></mark><mark style=\"background-color: hsl(0, 75%, 100%); opacity:1.0;                     line-height:1.75\"><font color=\"black\"> #pad                    </font></mark><mark style=\"background-color: hsl(0, 75%, 100%); opacity:1.0;                     line-height:1.75\"><font color=\"black\"> #pad                    </font></mark><mark style=\"background-color: hsl(0, 75%, 100%); opacity:1.0;                     line-height:1.75\"><font color=\"black\"> #pad                    </font></mark></td><tr><tr><td><text style=\"padding-right:2em\"><b>positive</b></text></td><td><text style=\"padding-right:2em\"><b>positive (1.00)</b></text></td><td><text style=\"padding-right:2em\"><b>positive</b></text></td><td><text style=\"padding-right:2em\"><b>1.01</b></text></td><td><mark style=\"background-color: hsl(0, 75%, 100%); opacity:1.0;                     line-height:1.75\"><font color=\"black\"> such                    </font></mark><mark style=\"background-color: hsl(120, 75%, 51%); opacity:1.0;                     line-height:1.75\"><font color=\"black\"> great                    </font></mark><mark style=\"background-color: hsl(120, 75%, 100%); opacity:1.0;                     line-height:1.75\"><font color=\"black\"> show                    </font></mark><mark style=\"background-color: hsl(0, 75%, 100%); opacity:1.0;                     line-height:1.75\"><font color=\"black\"> #pad                    </font></mark><mark style=\"background-color: hsl(0, 75%, 100%); opacity:1.0;                     line-height:1.75\"><font color=\"black\"> #pad                    </font></mark><mark style=\"background-color: hsl(0, 75%, 100%); opacity:1.0;                     line-height:1.75\"><font color=\"black\"> #pad                    </font></mark><mark style=\"background-color: hsl(0, 75%, 100%); opacity:1.0;                     line-height:1.75\"><font color=\"black\"> #pad                    </font></mark><mark style=\"background-color: hsl(0, 75%, 100%); opacity:1.0;                     line-height:1.75\"><font color=\"black\"> #pad                    </font></mark><mark style=\"background-color: hsl(0, 75%, 100%); opacity:1.0;                     line-height:1.75\"><font color=\"black\"> #pad                    </font></mark><mark style=\"background-color: hsl(0, 75%, 100%); opacity:1.0;                     line-height:1.75\"><font color=\"black\"> #pad                    </font></mark><mark style=\"background-color: hsl(0, 75%, 100%); opacity:1.0;                     line-height:1.75\"><font color=\"black\"> #pad                    </font></mark><mark style=\"background-color: hsl(0, 75%, 100%); opacity:1.0;                     line-height:1.75\"><font color=\"black\"> #pad                    </font></mark><mark style=\"background-color: hsl(0, 75%, 100%); opacity:1.0;                     line-height:1.75\"><font color=\"black\"> #pad                    </font></mark><mark style=\"background-color: hsl(0, 75%, 100%); opacity:1.0;                     line-height:1.75\"><font color=\"black\"> #pad                    </font></mark><mark style=\"background-color: hsl(0, 75%, 100%); opacity:1.0;                     line-height:1.75\"><font color=\"black\"> #pad                    </font></mark><mark style=\"background-color: hsl(0, 75%, 100%); opacity:1.0;                     line-height:1.75\"><font color=\"black\"> #pad                    </font></mark><mark style=\"background-color: hsl(0, 75%, 100%); opacity:1.0;                     line-height:1.75\"><font color=\"black\"> #pad                    </font></mark><mark style=\"background-color: hsl(0, 75%, 100%); opacity:1.0;                     line-height:1.75\"><font color=\"black\"> #pad                    </font></mark><mark style=\"background-color: hsl(0, 75%, 100%); opacity:1.0;                     line-height:1.75\"><font color=\"black\"> #pad                    </font></mark><mark style=\"background-color: hsl(0, 75%, 100%); opacity:1.0;                     line-height:1.75\"><font color=\"black\"> #pad                    </font></mark><mark style=\"background-color: hsl(0, 75%, 100%); opacity:1.0;                     line-height:1.75\"><font color=\"black\"> #pad                    </font></mark><mark style=\"background-color: hsl(0, 75%, 100%); opacity:1.0;                     line-height:1.75\"><font color=\"black\"> #pad                    </font></mark><mark style=\"background-color: hsl(0, 75%, 100%); opacity:1.0;                     line-height:1.75\"><font color=\"black\"> #pad                    </font></mark></td><tr><tr><td><text style=\"padding-right:2em\"><b>negative</b></text></td><td><text style=\"padding-right:2em\"><b>negative (2.00)</b></text></td><td><text style=\"padding-right:2em\"><b>negative</b></text></td><td><text style=\"padding-right:2em\"><b>-1.05</b></text></td><td><mark style=\"background-color: hsl(0, 75%, 100%); opacity:1.0;                     line-height:1.75\"><font color=\"black\"> it                    </font></mark><mark style=\"background-color: hsl(0, 75%, 61%); opacity:1.0;                     line-height:1.75\"><font color=\"black\"> horrible                    </font></mark><mark style=\"background-color: hsl(0, 75%, 99%); opacity:1.0;                     line-height:1.75\"><font color=\"black\"> movie                    </font></mark><mark style=\"background-color: hsl(0, 75%, 100%); opacity:1.0;                     line-height:1.75\"><font color=\"black\"> #pad                    </font></mark><mark style=\"background-color: hsl(0, 75%, 100%); opacity:1.0;                     line-height:1.75\"><font color=\"black\"> #pad                    </font></mark><mark style=\"background-color: hsl(0, 75%, 100%); opacity:1.0;                     line-height:1.75\"><font color=\"black\"> #pad                    </font></mark><mark style=\"background-color: hsl(0, 75%, 100%); opacity:1.0;                     line-height:1.75\"><font color=\"black\"> #pad                    </font></mark><mark style=\"background-color: hsl(0, 75%, 100%); opacity:1.0;                     line-height:1.75\"><font color=\"black\"> #pad                    </font></mark><mark style=\"background-color: hsl(0, 75%, 100%); opacity:1.0;                     line-height:1.75\"><font color=\"black\"> #pad                    </font></mark><mark style=\"background-color: hsl(0, 75%, 100%); opacity:1.0;                     line-height:1.75\"><font color=\"black\"> #pad                    </font></mark><mark style=\"background-color: hsl(0, 75%, 100%); opacity:1.0;                     line-height:1.75\"><font color=\"black\"> #pad                    </font></mark><mark style=\"background-color: hsl(0, 75%, 100%); opacity:1.0;                     line-height:1.75\"><font color=\"black\"> #pad                    </font></mark><mark style=\"background-color: hsl(0, 75%, 100%); opacity:1.0;                     line-height:1.75\"><font color=\"black\"> #pad                    </font></mark><mark style=\"background-color: hsl(0, 75%, 100%); opacity:1.0;                     line-height:1.75\"><font color=\"black\"> #pad                    </font></mark><mark style=\"background-color: hsl(0, 75%, 100%); opacity:1.0;                     line-height:1.75\"><font color=\"black\"> #pad                    </font></mark><mark style=\"background-color: hsl(0, 75%, 100%); opacity:1.0;                     line-height:1.75\"><font color=\"black\"> #pad                    </font></mark><mark style=\"background-color: hsl(0, 75%, 100%); opacity:1.0;                     line-height:1.75\"><font color=\"black\"> #pad                    </font></mark><mark style=\"background-color: hsl(0, 75%, 100%); opacity:1.0;                     line-height:1.75\"><font color=\"black\"> #pad                    </font></mark><mark style=\"background-color: hsl(0, 75%, 100%); opacity:1.0;                     line-height:1.75\"><font color=\"black\"> #pad                    </font></mark><mark style=\"background-color: hsl(0, 75%, 100%); opacity:1.0;                     line-height:1.75\"><font color=\"black\"> #pad                    </font></mark><mark style=\"background-color: hsl(0, 75%, 100%); opacity:1.0;                     line-height:1.75\"><font color=\"black\"> #pad                    </font></mark><mark style=\"background-color: hsl(0, 75%, 100%); opacity:1.0;                     line-height:1.75\"><font color=\"black\"> #pad                    </font></mark><mark style=\"background-color: hsl(0, 75%, 100%); opacity:1.0;                     line-height:1.75\"><font color=\"black\"> #pad                    </font></mark></td><tr><tr><td><text style=\"padding-right:2em\"><b>negative</b></text></td><td><text style=\"padding-right:2em\"><b>negative (2.00)</b></text></td><td><text style=\"padding-right:2em\"><b>negative</b></text></td><td><text style=\"padding-right:2em\"><b>-1.01</b></text></td><td><mark style=\"background-color: hsl(0, 75%, 100%); opacity:1.0;                     line-height:1.75\"><font color=\"black\"> ve                    </font></mark><mark style=\"background-color: hsl(0, 75%, 100%); opacity:1.0;                     line-height:1.75\"><font color=\"black\"> watched                    </font></mark><mark style=\"background-color: hsl(0, 75%, 61%); opacity:1.0;                     line-height:1.75\"><font color=\"black\"> bad                    </font></mark><mark style=\"background-color: hsl(0, 75%, 100%); opacity:1.0;                     line-height:1.75\"><font color=\"black\"> #pad                    </font></mark><mark style=\"background-color: hsl(0, 75%, 100%); opacity:1.0;                     line-height:1.75\"><font color=\"black\"> #pad                    </font></mark><mark style=\"background-color: hsl(0, 75%, 100%); opacity:1.0;                     line-height:1.75\"><font color=\"black\"> #pad                    </font></mark><mark style=\"background-color: hsl(0, 75%, 100%); opacity:1.0;                     line-height:1.75\"><font color=\"black\"> #pad                    </font></mark><mark style=\"background-color: hsl(0, 75%, 100%); opacity:1.0;                     line-height:1.75\"><font color=\"black\"> #pad                    </font></mark><mark style=\"background-color: hsl(0, 75%, 100%); opacity:1.0;                     line-height:1.75\"><font color=\"black\"> #pad                    </font></mark><mark style=\"background-color: hsl(0, 75%, 100%); opacity:1.0;                     line-height:1.75\"><font color=\"black\"> #pad                    </font></mark><mark style=\"background-color: hsl(0, 75%, 100%); opacity:1.0;                     line-height:1.75\"><font color=\"black\"> #pad                    </font></mark><mark style=\"background-color: hsl(0, 75%, 100%); opacity:1.0;                     line-height:1.75\"><font color=\"black\"> #pad                    </font></mark><mark style=\"background-color: hsl(0, 75%, 100%); opacity:1.0;                     line-height:1.75\"><font color=\"black\"> #pad                    </font></mark><mark style=\"background-color: hsl(0, 75%, 100%); opacity:1.0;                     line-height:1.75\"><font color=\"black\"> #pad                    </font></mark><mark style=\"background-color: hsl(0, 75%, 100%); opacity:1.0;                     line-height:1.75\"><font color=\"black\"> #pad                    </font></mark><mark style=\"background-color: hsl(0, 75%, 100%); opacity:1.0;                     line-height:1.75\"><font color=\"black\"> #pad                    </font></mark><mark style=\"background-color: hsl(0, 75%, 100%); opacity:1.0;                     line-height:1.75\"><font color=\"black\"> #pad                    </font></mark><mark style=\"background-color: hsl(0, 75%, 100%); opacity:1.0;                     line-height:1.75\"><font color=\"black\"> #pad                    </font></mark><mark style=\"background-color: hsl(0, 75%, 100%); opacity:1.0;                     line-height:1.75\"><font color=\"black\"> #pad                    </font></mark><mark style=\"background-color: hsl(0, 75%, 100%); opacity:1.0;                     line-height:1.75\"><font color=\"black\"> #pad                    </font></mark><mark style=\"background-color: hsl(0, 75%, 100%); opacity:1.0;                     line-height:1.75\"><font color=\"black\"> #pad                    </font></mark><mark style=\"background-color: hsl(0, 75%, 100%); opacity:1.0;                     line-height:1.75\"><font color=\"black\"> #pad                    </font></mark><mark style=\"background-color: hsl(0, 75%, 100%); opacity:1.0;                     line-height:1.75\"><font color=\"black\"> #pad                    </font></mark></td><tr><tr><td><text style=\"padding-right:2em\"><b>negative</b></text></td><td><text style=\"padding-right:2em\"><b>negative (2.00)</b></text></td><td><text style=\"padding-right:2em\"><b>negative</b></text></td><td><text style=\"padding-right:2em\"><b>-1.02</b></text></td><td><mark style=\"background-color: hsl(0, 75%, 100%); opacity:1.0;                     line-height:1.75\"><font color=\"black\"> it                    </font></mark><mark style=\"background-color: hsl(0, 75%, 61%); opacity:1.0;                     line-height:1.75\"><font color=\"black\"> disgusting                    </font></mark><mark style=\"background-color: hsl(0, 75%, 100%); opacity:1.0;                     line-height:1.75\"><font color=\"black\"> movie                    </font></mark><mark style=\"background-color: hsl(0, 75%, 100%); opacity:1.0;                     line-height:1.75\"><font color=\"black\"> #pad                    </font></mark><mark style=\"background-color: hsl(0, 75%, 100%); opacity:1.0;                     line-height:1.75\"><font color=\"black\"> #pad                    </font></mark><mark style=\"background-color: hsl(0, 75%, 100%); opacity:1.0;                     line-height:1.75\"><font color=\"black\"> #pad                    </font></mark><mark style=\"background-color: hsl(0, 75%, 100%); opacity:1.0;                     line-height:1.75\"><font color=\"black\"> #pad                    </font></mark><mark style=\"background-color: hsl(0, 75%, 100%); opacity:1.0;                     line-height:1.75\"><font color=\"black\"> #pad                    </font></mark><mark style=\"background-color: hsl(0, 75%, 100%); opacity:1.0;                     line-height:1.75\"><font color=\"black\"> #pad                    </font></mark><mark style=\"background-color: hsl(0, 75%, 100%); opacity:1.0;                     line-height:1.75\"><font color=\"black\"> #pad                    </font></mark><mark style=\"background-color: hsl(0, 75%, 100%); opacity:1.0;                     line-height:1.75\"><font color=\"black\"> #pad                    </font></mark><mark style=\"background-color: hsl(0, 75%, 100%); opacity:1.0;                     line-height:1.75\"><font color=\"black\"> #pad                    </font></mark><mark style=\"background-color: hsl(0, 75%, 100%); opacity:1.0;                     line-height:1.75\"><font color=\"black\"> #pad                    </font></mark><mark style=\"background-color: hsl(0, 75%, 100%); opacity:1.0;                     line-height:1.75\"><font color=\"black\"> #pad                    </font></mark><mark style=\"background-color: hsl(0, 75%, 100%); opacity:1.0;                     line-height:1.75\"><font color=\"black\"> #pad                    </font></mark><mark style=\"background-color: hsl(0, 75%, 100%); opacity:1.0;                     line-height:1.75\"><font color=\"black\"> #pad                    </font></mark><mark style=\"background-color: hsl(0, 75%, 100%); opacity:1.0;                     line-height:1.75\"><font color=\"black\"> #pad                    </font></mark><mark style=\"background-color: hsl(0, 75%, 100%); opacity:1.0;                     line-height:1.75\"><font color=\"black\"> #pad                    </font></mark><mark style=\"background-color: hsl(0, 75%, 100%); opacity:1.0;                     line-height:1.75\"><font color=\"black\"> #pad                    </font></mark><mark style=\"background-color: hsl(0, 75%, 100%); opacity:1.0;                     line-height:1.75\"><font color=\"black\"> #pad                    </font></mark><mark style=\"background-color: hsl(0, 75%, 100%); opacity:1.0;                     line-height:1.75\"><font color=\"black\"> #pad                    </font></mark><mark style=\"background-color: hsl(0, 75%, 100%); opacity:1.0;                     line-height:1.75\"><font color=\"black\"> #pad                    </font></mark><mark style=\"background-color: hsl(0, 75%, 100%); opacity:1.0;                     line-height:1.75\"><font color=\"black\"> #pad                    </font></mark></td><tr><tr><td><text style=\"padding-right:2em\"><b>netural</b></text></td><td><text style=\"padding-right:2em\"><b>netural (0.00)</b></text></td><td><text style=\"padding-right:2em\"><b>netural</b></text></td><td><text style=\"padding-right:2em\"><b>nan</b></text></td><td><mark style=\"background-color: hsl(120, 75%, 50%); opacity:1.0;                     line-height:1.75\"><font color=\"black\"> ok                    </font></mark><mark style=\"background-color: hsl(120, 75%, 50%); opacity:1.0;                     line-height:1.75\"><font color=\"black\"> #pad                    </font></mark><mark style=\"background-color: hsl(120, 75%, 50%); opacity:1.0;                     line-height:1.75\"><font color=\"black\"> #pad                    </font></mark><mark style=\"background-color: hsl(120, 75%, 50%); opacity:1.0;                     line-height:1.75\"><font color=\"black\"> #pad                    </font></mark><mark style=\"background-color: hsl(120, 75%, 50%); opacity:1.0;                     line-height:1.75\"><font color=\"black\"> #pad                    </font></mark><mark style=\"background-color: hsl(120, 75%, 50%); opacity:1.0;                     line-height:1.75\"><font color=\"black\"> #pad                    </font></mark><mark style=\"background-color: hsl(120, 75%, 50%); opacity:1.0;                     line-height:1.75\"><font color=\"black\"> #pad                    </font></mark><mark style=\"background-color: hsl(120, 75%, 50%); opacity:1.0;                     line-height:1.75\"><font color=\"black\"> #pad                    </font></mark><mark style=\"background-color: hsl(120, 75%, 50%); opacity:1.0;                     line-height:1.75\"><font color=\"black\"> #pad                    </font></mark><mark style=\"background-color: hsl(120, 75%, 50%); opacity:1.0;                     line-height:1.75\"><font color=\"black\"> #pad                    </font></mark><mark style=\"background-color: hsl(120, 75%, 50%); opacity:1.0;                     line-height:1.75\"><font color=\"black\"> #pad                    </font></mark><mark style=\"background-color: hsl(120, 75%, 50%); opacity:1.0;                     line-height:1.75\"><font color=\"black\"> #pad                    </font></mark><mark style=\"background-color: hsl(120, 75%, 50%); opacity:1.0;                     line-height:1.75\"><font color=\"black\"> #pad                    </font></mark><mark style=\"background-color: hsl(120, 75%, 50%); opacity:1.0;                     line-height:1.75\"><font color=\"black\"> #pad                    </font></mark><mark style=\"background-color: hsl(120, 75%, 50%); opacity:1.0;                     line-height:1.75\"><font color=\"black\"> #pad                    </font></mark><mark style=\"background-color: hsl(120, 75%, 50%); opacity:1.0;                     line-height:1.75\"><font color=\"black\"> #pad                    </font></mark><mark style=\"background-color: hsl(120, 75%, 50%); opacity:1.0;                     line-height:1.75\"><font color=\"black\"> #pad                    </font></mark><mark style=\"background-color: hsl(120, 75%, 50%); opacity:1.0;                     line-height:1.75\"><font color=\"black\"> #pad                    </font></mark><mark style=\"background-color: hsl(120, 75%, 50%); opacity:1.0;                     line-height:1.75\"><font color=\"black\"> #pad                    </font></mark><mark style=\"background-color: hsl(120, 75%, 50%); opacity:1.0;                     line-height:1.75\"><font color=\"black\"> #pad                    </font></mark><mark style=\"background-color: hsl(120, 75%, 50%); opacity:1.0;                     line-height:1.75\"><font color=\"black\"> #pad                    </font></mark><mark style=\"background-color: hsl(120, 75%, 50%); opacity:1.0;                     line-height:1.75\"><font color=\"black\"> #pad                    </font></mark><mark style=\"background-color: hsl(120, 75%, 50%); opacity:1.0;                     line-height:1.75\"><font color=\"black\"> #pad                    </font></mark></td><tr></table>"
            ],
            "text/plain": [
              "<IPython.core.display.HTML object>"
            ]
          },
          "metadata": {
            "tags": []
          }
        }
      ]
    },
    {
      "cell_type": "code",
      "metadata": {
        "pycharm": {
          "name": "#%%\n"
        },
        "id": "3R8NdKcbz9kt"
      },
      "source": [
        "vis_word = []\n",
        "colorlist= []\n",
        "def interpret_word(model, word, min_len = max_document_length, label = 0):\n",
        "    model.train()\n",
        "    text = preprocess(word)\n",
        "    actual_len = 1\n",
        "    if len(text) < min_len:\n",
        "        text += ['<pad>'] * (min_len - len(text))\n",
        "    indexed = [Text.vocab.stoi[t] for t in text]\n",
        "\n",
        "    model.zero_grad()\n",
        "\n",
        "    input_indices = torch.tensor(indexed, device=device)\n",
        "    input_indices = input_indices.unsqueeze(0)\n",
        "    text_length = torch.tensor([actual_len], device=device)\n",
        "    # input_indices dim: [sequence_length]\n",
        "    seq_length = min_len\n",
        "\n",
        "    # predict\n",
        "    pred = F.softmax(model(input_indices, text_length)[0]).cpu()\n",
        "\n",
        "\n",
        "    vis_word.append(pred.detach().numpy().squeeze(0))\n",
        "    colorlist.append({0:'#00ff00', 1: '#00ffff', 2:'#000000' }[pred.argmax(dim=1).item()])"
      ],
      "execution_count": 34,
      "outputs": []
    },
    {
      "cell_type": "code",
      "metadata": {
        "pycharm": {
          "name": "#%%\n"
        },
        "id": "kMTrDK7sz9kt"
      },
      "source": [
        "for i in Text.vocab.itos:\n",
        "    interpret_word(lstm_model, i)"
      ],
      "execution_count": 35,
      "outputs": []
    },
    {
      "cell_type": "code",
      "metadata": {
        "pycharm": {
          "name": "#%%\n"
        },
        "id": "ndkX6219z9kt"
      },
      "source": [
        "from sklearn.manifold import TSNE\n",
        "tsne = TSNE(n_components=2, random_state=0)\n",
        "words_top_ted_tsne = tsne.fit_transform(vis_word)"
      ],
      "execution_count": 36,
      "outputs": []
    },
    {
      "cell_type": "code",
      "metadata": {
        "ExecuteTime": {
          "end_time": "2021-04-05T15:55:28.003009Z",
          "start_time": "2021-04-05T15:55:27.883014Z"
        },
        "pycharm": {
          "name": "#%%\n"
        },
        "id": "Yd79T06dz9kt",
        "colab": {
          "base_uri": "https://localhost:8080/",
          "height": 617
        },
        "outputId": "6e6fd75c-940d-4966-82f7-897f3dfcdfd4"
      },
      "source": [
        "p = figure(tools=\"pan,wheel_zoom,reset,save\",\n",
        "           toolbar_location=\"above\",\n",
        "           title=\"vector T-SNE for most polarized words\")\n",
        "\n",
        "source = ColumnDataSource(data=dict(x1=words_top_ted_tsne[:,0],\n",
        "                                    x2=words_top_ted_tsne[:,1],\n",
        "                                    names=Text.vocab.itos,\n",
        "                                    color=colorlist))\n",
        "\n",
        "p.scatter(x=\"x1\", y=\"x2\", size=8, source=source, fill_color=\"color\")\n",
        "\n",
        "word_labels = LabelSet(x=\"x1\", y=\"x2\", text=\"names\", y_offset=6,\n",
        "                       text_font_size=\"8pt\", text_color=\"#555555\",\n",
        "                       source=source, text_align='center',render_mode='canvas')\n",
        "# p.add_layout(word_labels)\n",
        "\n",
        "show(p)\n"
      ],
      "execution_count": 37,
      "outputs": [
        {
          "output_type": "display_data",
          "data": {
            "application/javascript": [
              "\n",
              "(function(root) {\n",
              "  function now() {\n",
              "    return new Date();\n",
              "  }\n",
              "\n",
              "  var force = true;\n",
              "\n",
              "  if (typeof root._bokeh_onload_callbacks === \"undefined\" || force === true) {\n",
              "    root._bokeh_onload_callbacks = [];\n",
              "    root._bokeh_is_loading = undefined;\n",
              "  }\n",
              "\n",
              "  var JS_MIME_TYPE = 'application/javascript';\n",
              "  var HTML_MIME_TYPE = 'text/html';\n",
              "  var EXEC_MIME_TYPE = 'application/vnd.bokehjs_exec.v0+json';\n",
              "  var CLASS_NAME = 'output_bokeh rendered_html';\n",
              "\n",
              "  /**\n",
              "   * Render data to the DOM node\n",
              "   */\n",
              "  function render(props, node) {\n",
              "    var script = document.createElement(\"script\");\n",
              "    node.appendChild(script);\n",
              "  }\n",
              "\n",
              "  /**\n",
              "   * Handle when an output is cleared or removed\n",
              "   */\n",
              "  function handleClearOutput(event, handle) {\n",
              "    var cell = handle.cell;\n",
              "\n",
              "    var id = cell.output_area._bokeh_element_id;\n",
              "    var server_id = cell.output_area._bokeh_server_id;\n",
              "    // Clean up Bokeh references\n",
              "    if (id != null && id in Bokeh.index) {\n",
              "      Bokeh.index[id].model.document.clear();\n",
              "      delete Bokeh.index[id];\n",
              "    }\n",
              "\n",
              "    if (server_id !== undefined) {\n",
              "      // Clean up Bokeh references\n",
              "      var cmd = \"from bokeh.io.state import curstate; print(curstate().uuid_to_server['\" + server_id + \"'].get_sessions()[0].document.roots[0]._id)\";\n",
              "      cell.notebook.kernel.execute(cmd, {\n",
              "        iopub: {\n",
              "          output: function(msg) {\n",
              "            var id = msg.content.text.trim();\n",
              "            if (id in Bokeh.index) {\n",
              "              Bokeh.index[id].model.document.clear();\n",
              "              delete Bokeh.index[id];\n",
              "            }\n",
              "          }\n",
              "        }\n",
              "      });\n",
              "      // Destroy server and session\n",
              "      var cmd = \"import bokeh.io.notebook as ion; ion.destroy_server('\" + server_id + \"')\";\n",
              "      cell.notebook.kernel.execute(cmd);\n",
              "    }\n",
              "  }\n",
              "\n",
              "  /**\n",
              "   * Handle when a new output is added\n",
              "   */\n",
              "  function handleAddOutput(event, handle) {\n",
              "    var output_area = handle.output_area;\n",
              "    var output = handle.output;\n",
              "\n",
              "    // limit handleAddOutput to display_data with EXEC_MIME_TYPE content only\n",
              "    if ((output.output_type != \"display_data\") || (!Object.prototype.hasOwnProperty.call(output.data, EXEC_MIME_TYPE))) {\n",
              "      return\n",
              "    }\n",
              "\n",
              "    var toinsert = output_area.element.find(\".\" + CLASS_NAME.split(' ')[0]);\n",
              "\n",
              "    if (output.metadata[EXEC_MIME_TYPE][\"id\"] !== undefined) {\n",
              "      toinsert[toinsert.length - 1].firstChild.textContent = output.data[JS_MIME_TYPE];\n",
              "      // store reference to embed id on output_area\n",
              "      output_area._bokeh_element_id = output.metadata[EXEC_MIME_TYPE][\"id\"];\n",
              "    }\n",
              "    if (output.metadata[EXEC_MIME_TYPE][\"server_id\"] !== undefined) {\n",
              "      var bk_div = document.createElement(\"div\");\n",
              "      bk_div.innerHTML = output.data[HTML_MIME_TYPE];\n",
              "      var script_attrs = bk_div.children[0].attributes;\n",
              "      for (var i = 0; i < script_attrs.length; i++) {\n",
              "        toinsert[toinsert.length - 1].firstChild.setAttribute(script_attrs[i].name, script_attrs[i].value);\n",
              "        toinsert[toinsert.length - 1].firstChild.textContent = bk_div.children[0].textContent\n",
              "      }\n",
              "      // store reference to server id on output_area\n",
              "      output_area._bokeh_server_id = output.metadata[EXEC_MIME_TYPE][\"server_id\"];\n",
              "    }\n",
              "  }\n",
              "\n",
              "  function register_renderer(events, OutputArea) {\n",
              "\n",
              "    function append_mime(data, metadata, element) {\n",
              "      // create a DOM node to render to\n",
              "      var toinsert = this.create_output_subarea(\n",
              "        metadata,\n",
              "        CLASS_NAME,\n",
              "        EXEC_MIME_TYPE\n",
              "      );\n",
              "      this.keyboard_manager.register_events(toinsert);\n",
              "      // Render to node\n",
              "      var props = {data: data, metadata: metadata[EXEC_MIME_TYPE]};\n",
              "      render(props, toinsert[toinsert.length - 1]);\n",
              "      element.append(toinsert);\n",
              "      return toinsert\n",
              "    }\n",
              "\n",
              "    /* Handle when an output is cleared or removed */\n",
              "    events.on('clear_output.CodeCell', handleClearOutput);\n",
              "    events.on('delete.Cell', handleClearOutput);\n",
              "\n",
              "    /* Handle when a new output is added */\n",
              "    events.on('output_added.OutputArea', handleAddOutput);\n",
              "\n",
              "    /**\n",
              "     * Register the mime type and append_mime function with output_area\n",
              "     */\n",
              "    OutputArea.prototype.register_mime_type(EXEC_MIME_TYPE, append_mime, {\n",
              "      /* Is output safe? */\n",
              "      safe: true,\n",
              "      /* Index of renderer in `output_area.display_order` */\n",
              "      index: 0\n",
              "    });\n",
              "  }\n",
              "\n",
              "  // register the mime type if in Jupyter Notebook environment and previously unregistered\n",
              "  if (root.Jupyter !== undefined) {\n",
              "    var events = require('base/js/events');\n",
              "    var OutputArea = require('notebook/js/outputarea').OutputArea;\n",
              "\n",
              "    if (OutputArea.prototype.mime_types().indexOf(EXEC_MIME_TYPE) == -1) {\n",
              "      register_renderer(events, OutputArea);\n",
              "    }\n",
              "  }\n",
              "\n",
              "  \n",
              "  if (typeof (root._bokeh_timeout) === \"undefined\" || force === true) {\n",
              "    root._bokeh_timeout = Date.now() + 5000;\n",
              "    root._bokeh_failed_load = false;\n",
              "  }\n",
              "\n",
              "  var NB_LOAD_WARNING = {'data': {'text/html':\n",
              "     \"<div style='background-color: #fdd'>\\n\"+\n",
              "     \"<p>\\n\"+\n",
              "     \"BokehJS does not appear to have successfully loaded. If loading BokehJS from CDN, this \\n\"+\n",
              "     \"may be due to a slow or bad network connection. Possible fixes:\\n\"+\n",
              "     \"</p>\\n\"+\n",
              "     \"<ul>\\n\"+\n",
              "     \"<li>re-rerun `output_notebook()` to attempt to load from CDN again, or</li>\\n\"+\n",
              "     \"<li>use INLINE resources instead, as so:</li>\\n\"+\n",
              "     \"</ul>\\n\"+\n",
              "     \"<code>\\n\"+\n",
              "     \"from bokeh.resources import INLINE\\n\"+\n",
              "     \"output_notebook(resources=INLINE)\\n\"+\n",
              "     \"</code>\\n\"+\n",
              "     \"</div>\"}};\n",
              "\n",
              "  function display_loaded() {\n",
              "    var el = document.getElementById(null);\n",
              "    if (el != null) {\n",
              "      el.textContent = \"BokehJS is loading...\";\n",
              "    }\n",
              "    if (root.Bokeh !== undefined) {\n",
              "      if (el != null) {\n",
              "        el.textContent = \"BokehJS \" + root.Bokeh.version + \" successfully loaded.\";\n",
              "      }\n",
              "    } else if (Date.now() < root._bokeh_timeout) {\n",
              "      setTimeout(display_loaded, 100)\n",
              "    }\n",
              "  }\n",
              "\n",
              "\n",
              "  function run_callbacks() {\n",
              "    try {\n",
              "      root._bokeh_onload_callbacks.forEach(function(callback) {\n",
              "        if (callback != null)\n",
              "          callback();\n",
              "      });\n",
              "    } finally {\n",
              "      delete root._bokeh_onload_callbacks\n",
              "    }\n",
              "    console.debug(\"Bokeh: all callbacks have finished\");\n",
              "  }\n",
              "\n",
              "  function load_libs(css_urls, js_urls, callback) {\n",
              "    if (css_urls == null) css_urls = [];\n",
              "    if (js_urls == null) js_urls = [];\n",
              "\n",
              "    root._bokeh_onload_callbacks.push(callback);\n",
              "    if (root._bokeh_is_loading > 0) {\n",
              "      console.debug(\"Bokeh: BokehJS is being loaded, scheduling callback at\", now());\n",
              "      return null;\n",
              "    }\n",
              "    if (js_urls == null || js_urls.length === 0) {\n",
              "      run_callbacks();\n",
              "      return null;\n",
              "    }\n",
              "    console.debug(\"Bokeh: BokehJS not loaded, scheduling load and callback at\", now());\n",
              "    root._bokeh_is_loading = css_urls.length + js_urls.length;\n",
              "\n",
              "    function on_load() {\n",
              "      root._bokeh_is_loading--;\n",
              "      if (root._bokeh_is_loading === 0) {\n",
              "        console.debug(\"Bokeh: all BokehJS libraries/stylesheets loaded\");\n",
              "        run_callbacks()\n",
              "      }\n",
              "    }\n",
              "\n",
              "    function on_error(url) {\n",
              "      console.error(\"failed to load \" + url);\n",
              "    }\n",
              "\n",
              "    for (let i = 0; i < css_urls.length; i++) {\n",
              "      const url = css_urls[i];\n",
              "      const element = document.createElement(\"link\");\n",
              "      element.onload = on_load;\n",
              "      element.onerror = on_error.bind(null, url);\n",
              "      element.rel = \"stylesheet\";\n",
              "      element.type = \"text/css\";\n",
              "      element.href = url;\n",
              "      console.debug(\"Bokeh: injecting link tag for BokehJS stylesheet: \", url);\n",
              "      document.body.appendChild(element);\n",
              "    }\n",
              "\n",
              "    const hashes = {\"https://cdn.bokeh.org/bokeh/release/bokeh-2.3.0.min.js\": \"HjagQp6T0/7bxYTAXbLotF1MLAGWmhkY5siA1Gc/pcEgvgRPtMsRn0gQtMwGKiw1\", \"https://cdn.bokeh.org/bokeh/release/bokeh-widgets-2.3.0.min.js\": \"ZEPPTjL+mdyqgIq+/pl9KTwzji8Kow2NnI3zWY8+sFinWP/SYJ80BnfeJsa45iYj\", \"https://cdn.bokeh.org/bokeh/release/bokeh-tables-2.3.0.min.js\": \"exLqv2ACDRIaV7ZK1iL8aGzGYQvKVuT3U2CT7FsQREBxRah6JrkVCoFy0koY1YqV\"};\n",
              "\n",
              "    for (let i = 0; i < js_urls.length; i++) {\n",
              "      const url = js_urls[i];\n",
              "      const element = document.createElement('script');\n",
              "      element.onload = on_load;\n",
              "      element.onerror = on_error.bind(null, url);\n",
              "      element.async = false;\n",
              "      element.src = url;\n",
              "      if (url in hashes) {\n",
              "        element.crossOrigin = \"anonymous\";\n",
              "        element.integrity = \"sha384-\" + hashes[url];\n",
              "      }\n",
              "      console.debug(\"Bokeh: injecting script tag for BokehJS library: \", url);\n",
              "      document.head.appendChild(element);\n",
              "    }\n",
              "  };\n",
              "\n",
              "  function inject_raw_css(css) {\n",
              "    const element = document.createElement(\"style\");\n",
              "    element.appendChild(document.createTextNode(css));\n",
              "    document.body.appendChild(element);\n",
              "  }\n",
              "\n",
              "  \n",
              "  var js_urls = [\"https://cdn.bokeh.org/bokeh/release/bokeh-2.3.0.min.js\", \"https://cdn.bokeh.org/bokeh/release/bokeh-widgets-2.3.0.min.js\", \"https://cdn.bokeh.org/bokeh/release/bokeh-tables-2.3.0.min.js\"];\n",
              "  var css_urls = [];\n",
              "  \n",
              "\n",
              "  var inline_js = [\n",
              "    function(Bokeh) {\n",
              "      Bokeh.set_log_level(\"info\");\n",
              "    },\n",
              "    function(Bokeh) {\n",
              "    \n",
              "    \n",
              "    }\n",
              "  ];\n",
              "\n",
              "  function run_inline_js() {\n",
              "    \n",
              "    if (root.Bokeh !== undefined || force === true) {\n",
              "      \n",
              "    for (var i = 0; i < inline_js.length; i++) {\n",
              "      inline_js[i].call(root, root.Bokeh);\n",
              "    }\n",
              "    } else if (Date.now() < root._bokeh_timeout) {\n",
              "      setTimeout(run_inline_js, 100);\n",
              "    } else if (!root._bokeh_failed_load) {\n",
              "      console.log(\"Bokeh: BokehJS failed to load within specified timeout.\");\n",
              "      root._bokeh_failed_load = true;\n",
              "    } else if (force !== true) {\n",
              "      var cell = $(document.getElementById(null)).parents('.cell').data().cell;\n",
              "      cell.output_area.append_execute_result(NB_LOAD_WARNING)\n",
              "    }\n",
              "\n",
              "  }\n",
              "\n",
              "  if (root._bokeh_is_loading === 0) {\n",
              "    console.debug(\"Bokeh: BokehJS loaded, going straight to plotting\");\n",
              "    run_inline_js();\n",
              "  } else {\n",
              "    load_libs(css_urls, js_urls, function() {\n",
              "      console.debug(\"Bokeh: BokehJS plotting callback run at\", now());\n",
              "      run_inline_js();\n",
              "    });\n",
              "  }\n",
              "}(window));"
            ],
            "application/vnd.bokehjs_load.v0+json": "\n(function(root) {\n  function now() {\n    return new Date();\n  }\n\n  var force = true;\n\n  if (typeof root._bokeh_onload_callbacks === \"undefined\" || force === true) {\n    root._bokeh_onload_callbacks = [];\n    root._bokeh_is_loading = undefined;\n  }\n\n  \n\n  \n  if (typeof (root._bokeh_timeout) === \"undefined\" || force === true) {\n    root._bokeh_timeout = Date.now() + 5000;\n    root._bokeh_failed_load = false;\n  }\n\n  var NB_LOAD_WARNING = {'data': {'text/html':\n     \"<div style='background-color: #fdd'>\\n\"+\n     \"<p>\\n\"+\n     \"BokehJS does not appear to have successfully loaded. If loading BokehJS from CDN, this \\n\"+\n     \"may be due to a slow or bad network connection. Possible fixes:\\n\"+\n     \"</p>\\n\"+\n     \"<ul>\\n\"+\n     \"<li>re-rerun `output_notebook()` to attempt to load from CDN again, or</li>\\n\"+\n     \"<li>use INLINE resources instead, as so:</li>\\n\"+\n     \"</ul>\\n\"+\n     \"<code>\\n\"+\n     \"from bokeh.resources import INLINE\\n\"+\n     \"output_notebook(resources=INLINE)\\n\"+\n     \"</code>\\n\"+\n     \"</div>\"}};\n\n  function display_loaded() {\n    var el = document.getElementById(null);\n    if (el != null) {\n      el.textContent = \"BokehJS is loading...\";\n    }\n    if (root.Bokeh !== undefined) {\n      if (el != null) {\n        el.textContent = \"BokehJS \" + root.Bokeh.version + \" successfully loaded.\";\n      }\n    } else if (Date.now() < root._bokeh_timeout) {\n      setTimeout(display_loaded, 100)\n    }\n  }\n\n\n  function run_callbacks() {\n    try {\n      root._bokeh_onload_callbacks.forEach(function(callback) {\n        if (callback != null)\n          callback();\n      });\n    } finally {\n      delete root._bokeh_onload_callbacks\n    }\n    console.debug(\"Bokeh: all callbacks have finished\");\n  }\n\n  function load_libs(css_urls, js_urls, callback) {\n    if (css_urls == null) css_urls = [];\n    if (js_urls == null) js_urls = [];\n\n    root._bokeh_onload_callbacks.push(callback);\n    if (root._bokeh_is_loading > 0) {\n      console.debug(\"Bokeh: BokehJS is being loaded, scheduling callback at\", now());\n      return null;\n    }\n    if (js_urls == null || js_urls.length === 0) {\n      run_callbacks();\n      return null;\n    }\n    console.debug(\"Bokeh: BokehJS not loaded, scheduling load and callback at\", now());\n    root._bokeh_is_loading = css_urls.length + js_urls.length;\n\n    function on_load() {\n      root._bokeh_is_loading--;\n      if (root._bokeh_is_loading === 0) {\n        console.debug(\"Bokeh: all BokehJS libraries/stylesheets loaded\");\n        run_callbacks()\n      }\n    }\n\n    function on_error(url) {\n      console.error(\"failed to load \" + url);\n    }\n\n    for (let i = 0; i < css_urls.length; i++) {\n      const url = css_urls[i];\n      const element = document.createElement(\"link\");\n      element.onload = on_load;\n      element.onerror = on_error.bind(null, url);\n      element.rel = \"stylesheet\";\n      element.type = \"text/css\";\n      element.href = url;\n      console.debug(\"Bokeh: injecting link tag for BokehJS stylesheet: \", url);\n      document.body.appendChild(element);\n    }\n\n    const hashes = {\"https://cdn.bokeh.org/bokeh/release/bokeh-2.3.0.min.js\": \"HjagQp6T0/7bxYTAXbLotF1MLAGWmhkY5siA1Gc/pcEgvgRPtMsRn0gQtMwGKiw1\", \"https://cdn.bokeh.org/bokeh/release/bokeh-widgets-2.3.0.min.js\": \"ZEPPTjL+mdyqgIq+/pl9KTwzji8Kow2NnI3zWY8+sFinWP/SYJ80BnfeJsa45iYj\", \"https://cdn.bokeh.org/bokeh/release/bokeh-tables-2.3.0.min.js\": \"exLqv2ACDRIaV7ZK1iL8aGzGYQvKVuT3U2CT7FsQREBxRah6JrkVCoFy0koY1YqV\"};\n\n    for (let i = 0; i < js_urls.length; i++) {\n      const url = js_urls[i];\n      const element = document.createElement('script');\n      element.onload = on_load;\n      element.onerror = on_error.bind(null, url);\n      element.async = false;\n      element.src = url;\n      if (url in hashes) {\n        element.crossOrigin = \"anonymous\";\n        element.integrity = \"sha384-\" + hashes[url];\n      }\n      console.debug(\"Bokeh: injecting script tag for BokehJS library: \", url);\n      document.head.appendChild(element);\n    }\n  };\n\n  function inject_raw_css(css) {\n    const element = document.createElement(\"style\");\n    element.appendChild(document.createTextNode(css));\n    document.body.appendChild(element);\n  }\n\n  \n  var js_urls = [\"https://cdn.bokeh.org/bokeh/release/bokeh-2.3.0.min.js\", \"https://cdn.bokeh.org/bokeh/release/bokeh-widgets-2.3.0.min.js\", \"https://cdn.bokeh.org/bokeh/release/bokeh-tables-2.3.0.min.js\"];\n  var css_urls = [];\n  \n\n  var inline_js = [\n    function(Bokeh) {\n      Bokeh.set_log_level(\"info\");\n    },\n    function(Bokeh) {\n    \n    \n    }\n  ];\n\n  function run_inline_js() {\n    \n    if (root.Bokeh !== undefined || force === true) {\n      \n    for (var i = 0; i < inline_js.length; i++) {\n      inline_js[i].call(root, root.Bokeh);\n    }\n    } else if (Date.now() < root._bokeh_timeout) {\n      setTimeout(run_inline_js, 100);\n    } else if (!root._bokeh_failed_load) {\n      console.log(\"Bokeh: BokehJS failed to load within specified timeout.\");\n      root._bokeh_failed_load = true;\n    } else if (force !== true) {\n      var cell = $(document.getElementById(null)).parents('.cell').data().cell;\n      cell.output_area.append_execute_result(NB_LOAD_WARNING)\n    }\n\n  }\n\n  if (root._bokeh_is_loading === 0) {\n    console.debug(\"Bokeh: BokehJS loaded, going straight to plotting\");\n    run_inline_js();\n  } else {\n    load_libs(css_urls, js_urls, function() {\n      console.debug(\"Bokeh: BokehJS plotting callback run at\", now());\n      run_inline_js();\n    });\n  }\n}(window));"
          },
          "metadata": {
            "tags": []
          }
        },
        {
          "output_type": "display_data",
          "data": {
            "text/html": [
              "\n",
              "\n",
              "\n",
              "\n",
              "\n",
              "\n",
              "  <div class=\"bk-root\" id=\"acc348e0-c13d-4ba4-a3a6-f327f9a031b7\" data-root-id=\"1002\"></div>\n"
            ]
          },
          "metadata": {
            "tags": []
          }
        },
        {
          "output_type": "display_data",
          "data": {
            "application/javascript": [
              "(function(root) {\n",
              "  function embed_document(root) {\n",
              "    \n",
              "  var docs_json = {\"64c548e8-f7ae-4571-940d-53e0c93fdea5\":{\"defs\":[{\"extends\":null,\"module\":null,\"name\":\"DataModel\",\"overrides\":[],\"properties\":[]}],\"roots\":{\"references\":[{\"attributes\":{\"below\":[{\"id\":\"1013\"}],\"center\":[{\"id\":\"1016\"},{\"id\":\"1020\"}],\"left\":[{\"id\":\"1017\"}],\"renderers\":[{\"id\":\"1034\"}],\"title\":{\"id\":\"1003\"},\"toolbar\":{\"id\":\"1025\"},\"toolbar_location\":\"above\",\"x_range\":{\"id\":\"1005\"},\"x_scale\":{\"id\":\"1009\"},\"y_range\":{\"id\":\"1007\"},\"y_scale\":{\"id\":\"1011\"}},\"id\":\"1002\",\"subtype\":\"Figure\",\"type\":\"Plot\"},{\"attributes\":{\"data\":{\"color\":[\"#00ff00\",\"#00ff00\",\"#00ff00\",\"#00ff00\",\"#00ff00\",\"#00ff00\",\"#00ff00\",\"#00ff00\",\"#00ff00\",\"#00ff00\",\"#00ff00\",\"#00ff00\",\"#00ff00\",\"#00ff00\",\"#00ffff\",\"#00ff00\",\"#00ff00\",\"#00ff00\",\"#00ff00\",\"#00ff00\",\"#00ff00\",\"#00ffff\",\"#00ff00\",\"#00ff00\",\"#00ff00\",\"#00ff00\",\"#00ff00\",\"#00ff00\",\"#00ff00\",\"#00ffff\",\"#00ff00\",\"#00ff00\",\"#00ff00\",\"#00ff00\",\"#00ff00\",\"#00ff00\",\"#00ff00\",\"#00ff00\",\"#00ff00\",\"#00ff00\",\"#00ff00\",\"#00ff00\",\"#00ff00\",\"#00ff00\",\"#00ff00\",\"#00ff00\",\"#00ff00\",\"#00ffff\",\"#00ff00\",\"#00ff00\",\"#00ffff\",\"#00ffff\",\"#00ff00\",\"#00ffff\",\"#00ffff\",\"#00ff00\",\"#000000\",\"#00ff00\",\"#00ff00\",\"#00ff00\",\"#00ff00\",\"#00ff00\",\"#00ff00\",\"#00ff00\",\"#00ff00\",\"#00ff00\",\"#00ffff\",\"#00ff00\",\"#00ff00\",\"#00ff00\",\"#00ffff\",\"#00ff00\",\"#00ff00\",\"#00ff00\",\"#00ff00\",\"#00ff00\",\"#00ffff\",\"#00ffff\",\"#00ff00\",\"#00ff00\",\"#00ff00\",\"#00ff00\",\"#00ff00\",\"#00ffff\",\"#00ff00\",\"#00ff00\",\"#00ffff\",\"#00ff00\",\"#00ff00\",\"#00ff00\",\"#00ff00\",\"#00ff00\",\"#00ff00\",\"#000000\",\"#00ff00\",\"#00ff00\",\"#00ff00\",\"#00ff00\",\"#00ff00\",\"#00ff00\",\"#00ff00\",\"#00ff00\",\"#00ff00\",\"#00ff00\",\"#00ff00\",\"#00ff00\",\"#00ff00\",\"#000000\",\"#00ff00\",\"#000000\",\"#00ff00\",\"#00ff00\",\"#00ff00\",\"#00ff00\",\"#00ff00\",\"#00ff00\",\"#00ffff\",\"#00ff00\",\"#00ff00\",\"#00ff00\",\"#00ffff\",\"#00ff00\",\"#00ff00\",\"#00ff00\",\"#00ff00\",\"#000000\",\"#00ffff\",\"#00ff00\",\"#00ff00\",\"#00ff00\",\"#00ff00\",\"#00ffff\",\"#00ffff\",\"#00ff00\",\"#00ffff\",\"#00ff00\",\"#00ff00\",\"#00ff00\",\"#00ff00\",\"#00ff00\",\"#00ff00\",\"#00ff00\",\"#00ff00\",\"#00ffff\",\"#00ff00\",\"#00ff00\",\"#00ff00\",\"#00ff00\",\"#00ff00\",\"#00ff00\",\"#00ff00\",\"#00ff00\",\"#000000\",\"#00ff00\",\"#00ff00\",\"#00ff00\",\"#00ff00\",\"#00ff00\",\"#00ff00\",\"#00ff00\",\"#00ff00\",\"#00ff00\",\"#00ff00\",\"#00ff00\",\"#00ff00\",\"#00ff00\",\"#00ff00\",\"#00ff00\",\"#00ff00\",\"#00ffff\",\"#00ff00\",\"#00ff00\",\"#00ff00\",\"#00ff00\",\"#00ff00\",\"#00ff00\",\"#00ff00\",\"#00ff00\",\"#00ff00\",\"#00ff00\",\"#00ff00\",\"#00ff00\",\"#00ffff\",\"#00ff00\",\"#00ff00\",\"#00ff00\",\"#00ff00\",\"#00ff00\",\"#00ff00\",\"#00ff00\",\"#00ff00\",\"#00ff00\",\"#000000\",\"#00ff00\",\"#00ff00\",\"#00ff00\",\"#00ff00\",\"#00ff00\",\"#000000\",\"#00ff00\",\"#00ff00\",\"#00ff00\",\"#00ffff\",\"#00ff00\",\"#00ff00\",\"#00ff00\",\"#00ff00\",\"#00ff00\",\"#00ff00\",\"#00ff00\",\"#00ff00\",\"#000000\",\"#00ff00\",\"#00ff00\",\"#00ff00\",\"#00ff00\",\"#00ffff\",\"#00ff00\",\"#00ff00\",\"#000000\",\"#00ff00\",\"#00ffff\",\"#00ffff\",\"#00ff00\",\"#00ff00\",\"#00ff00\",\"#00ff00\",\"#00ff00\",\"#00ff00\",\"#00ff00\",\"#00ff00\",\"#00ff00\",\"#00ff00\",\"#000000\",\"#00ff00\",\"#00ff00\",\"#00ff00\",\"#000000\",\"#00ff00\",\"#00ffff\",\"#00ff00\",\"#00ff00\",\"#00ff00\",\"#00ff00\",\"#00ff00\",\"#000000\",\"#00ff00\",\"#00ff00\",\"#00ff00\",\"#00ff00\",\"#00ff00\",\"#00ff00\",\"#00ff00\",\"#00ff00\",\"#00ff00\",\"#00ff00\",\"#00ffff\",\"#00ff00\",\"#00ff00\",\"#00ffff\",\"#00ff00\",\"#00ff00\",\"#00ff00\",\"#00ff00\",\"#00ff00\",\"#00ff00\",\"#00ff00\",\"#00ff00\",\"#00ff00\",\"#00ff00\",\"#000000\",\"#00ff00\",\"#00ffff\",\"#00ff00\",\"#00ff00\",\"#00ffff\",\"#00ff00\",\"#00ff00\",\"#00ff00\",\"#00ff00\",\"#000000\",\"#00ff00\",\"#00ff00\",\"#00ff00\",\"#00ff00\",\"#00ff00\",\"#00ff00\",\"#00ff00\",\"#00ffff\",\"#00ff00\",\"#000000\",\"#00ff00\",\"#00ff00\",\"#00ff00\",\"#00ff00\",\"#00ff00\",\"#00ff00\",\"#000000\",\"#00ff00\",\"#00ff00\",\"#00ff00\",\"#000000\",\"#00ff00\",\"#00ff00\",\"#00ff00\",\"#00ff00\",\"#00ff00\",\"#00ff00\",\"#00ff00\",\"#00ff00\",\"#00ff00\",\"#00ff00\",\"#00ffff\",\"#00ff00\",\"#00ff00\",\"#00ff00\",\"#00ffff\",\"#00ff00\",\"#00ff00\",\"#00ff00\",\"#00ff00\",\"#00ff00\",\"#00ff00\",\"#00ff00\",\"#00ffff\",\"#00ffff\",\"#00ff00\",\"#00ff00\",\"#00ffff\",\"#00ffff\",\"#00ff00\",\"#00ff00\",\"#00ffff\",\"#00ff00\",\"#00ff00\",\"#000000\",\"#00ff00\",\"#00ffff\",\"#00ff00\",\"#00ff00\",\"#00ff00\",\"#00ffff\",\"#00ffff\",\"#00ff00\",\"#00ff00\",\"#00ff00\",\"#00ff00\",\"#00ff00\",\"#000000\",\"#00ff00\",\"#00ff00\",\"#00ff00\",\"#00ffff\",\"#00ffff\",\"#00ff00\",\"#00ff00\",\"#00ffff\",\"#00ff00\",\"#00ffff\",\"#00ff00\",\"#00ff00\",\"#00ff00\",\"#00ff00\",\"#00ff00\",\"#00ffff\",\"#00ff00\",\"#00ff00\",\"#00ff00\",\"#00ff00\",\"#00ff00\",\"#00ff00\",\"#00ff00\",\"#00ff00\",\"#00ff00\",\"#00ff00\",\"#00ff00\",\"#00ffff\",\"#00ff00\",\"#00ff00\",\"#00ff00\",\"#00ff00\",\"#00ff00\",\"#00ff00\",\"#00ff00\",\"#00ffff\",\"#00ff00\",\"#00ff00\",\"#00ff00\",\"#00ff00\",\"#00ff00\",\"#00ff00\",\"#00ff00\",\"#000000\",\"#00ff00\",\"#00ff00\",\"#000000\",\"#000000\",\"#00ff00\",\"#00ff00\",\"#00ffff\",\"#00ff00\",\"#00ff00\",\"#00ff00\",\"#00ffff\",\"#00ff00\",\"#00ff00\",\"#00ffff\",\"#00ff00\",\"#00ff00\",\"#00ff00\",\"#00ff00\",\"#00ff00\",\"#00ff00\",\"#00ff00\",\"#00ff00\",\"#00ff00\",\"#00ff00\",\"#00ff00\",\"#00ff00\",\"#00ff00\",\"#00ff00\",\"#00ff00\",\"#00ff00\",\"#00ff00\",\"#00ff00\",\"#00ff00\",\"#00ff00\",\"#00ff00\",\"#00ff00\",\"#00ff00\",\"#00ff00\",\"#00ff00\",\"#00ff00\",\"#00ff00\",\"#000000\",\"#00ff00\",\"#00ff00\",\"#00ff00\",\"#00ff00\",\"#00ffff\",\"#00ff00\",\"#00ff00\",\"#00ff00\",\"#000000\",\"#00ff00\",\"#00ff00\",\"#00ff00\",\"#00ff00\",\"#00ff00\",\"#00ff00\",\"#00ff00\",\"#00ff00\",\"#00ff00\",\"#00ff00\",\"#00ffff\",\"#00ff00\",\"#00ff00\",\"#00ff00\",\"#000000\",\"#00ff00\",\"#00ff00\",\"#00ff00\",\"#00ff00\",\"#00ff00\",\"#00ff00\",\"#00ff00\",\"#000000\",\"#00ff00\",\"#00ff00\",\"#00ff00\",\"#00ff00\",\"#00ff00\",\"#00ff00\",\"#00ff00\",\"#00ff00\",\"#00ff00\",\"#00ff00\",\"#00ff00\",\"#00ff00\",\"#00ff00\",\"#00ff00\",\"#00ff00\",\"#00ff00\",\"#00ff00\",\"#00ff00\",\"#00ff00\",\"#00ff00\",\"#00ff00\",\"#00ff00\",\"#00ff00\",\"#00ff00\",\"#00ff00\",\"#00ff00\",\"#00ff00\",\"#000000\",\"#00ff00\",\"#00ffff\",\"#00ff00\",\"#00ff00\",\"#00ffff\",\"#00ff00\",\"#00ff00\",\"#000000\",\"#00ff00\",\"#00ff00\",\"#00ffff\",\"#00ff00\",\"#00ff00\",\"#00ffff\",\"#00ff00\",\"#00ff00\",\"#00ff00\",\"#00ff00\",\"#00ff00\",\"#00ff00\",\"#00ff00\",\"#000000\",\"#00ffff\",\"#00ff00\",\"#00ff00\",\"#000000\",\"#00ff00\",\"#00ff00\",\"#00ff00\",\"#00ff00\",\"#00ff00\",\"#00ff00\",\"#00ff00\",\"#00ff00\",\"#00ff00\",\"#00ff00\",\"#00ff00\",\"#00ff00\",\"#00ff00\",\"#00ff00\",\"#00ff00\",\"#00ff00\",\"#00ffff\",\"#00ff00\",\"#000000\",\"#00ff00\",\"#00ff00\",\"#00ff00\",\"#00ff00\",\"#00ff00\",\"#00ff00\",\"#00ff00\",\"#00ff00\",\"#00ff00\",\"#00ff00\",\"#00ff00\",\"#00ff00\",\"#00ff00\",\"#00ff00\",\"#00ff00\",\"#00ffff\",\"#00ff00\",\"#00ff00\",\"#00ff00\",\"#00ffff\",\"#00ff00\",\"#00ff00\",\"#00ff00\",\"#00ff00\",\"#00ff00\",\"#000000\",\"#00ff00\",\"#00ff00\",\"#00ff00\",\"#00ff00\",\"#00ff00\",\"#00ff00\",\"#00ffff\",\"#00ff00\",\"#00ff00\",\"#00ff00\",\"#00ff00\",\"#00ffff\",\"#00ff00\",\"#00ff00\",\"#00ff00\",\"#00ff00\",\"#00ff00\",\"#00ff00\",\"#00ff00\",\"#00ff00\",\"#00ff00\",\"#00ffff\",\"#00ff00\",\"#00ff00\",\"#00ff00\",\"#00ff00\",\"#00ff00\",\"#00ff00\",\"#00ff00\",\"#00ff00\",\"#00ffff\",\"#00ff00\",\"#00ff00\",\"#00ff00\",\"#00ff00\",\"#00ff00\",\"#00ffff\",\"#000000\",\"#00ff00\",\"#000000\",\"#00ff00\",\"#00ff00\",\"#00ff00\",\"#00ff00\",\"#00ff00\",\"#00ff00\",\"#00ff00\",\"#00ff00\",\"#00ffff\",\"#00ff00\",\"#00ff00\",\"#00ff00\",\"#00ff00\",\"#00ff00\",\"#00ff00\",\"#00ff00\",\"#00ff00\",\"#00ff00\",\"#00ff00\",\"#00ff00\",\"#00ff00\",\"#00ff00\",\"#00ff00\",\"#00ff00\",\"#00ff00\",\"#00ff00\",\"#00ff00\",\"#00ff00\",\"#00ff00\",\"#00ffff\",\"#00ff00\",\"#00ff00\",\"#00ff00\",\"#00ff00\",\"#00ff00\",\"#00ff00\",\"#00ff00\",\"#00ff00\",\"#00ff00\",\"#00ff00\",\"#00ff00\",\"#00ff00\",\"#00ff00\",\"#00ff00\",\"#00ff00\",\"#00ff00\",\"#00ff00\",\"#00ff00\",\"#00ff00\",\"#00ff00\",\"#00ff00\",\"#00ff00\",\"#00ffff\",\"#00ff00\",\"#00ff00\",\"#00ff00\",\"#000000\",\"#00ff00\",\"#00ff00\",\"#00ff00\",\"#00ff00\",\"#00ff00\",\"#00ff00\",\"#00ff00\",\"#00ff00\",\"#00ff00\",\"#00ff00\",\"#00ff00\",\"#00ff00\",\"#00ff00\",\"#00ff00\",\"#00ff00\",\"#000000\",\"#00ff00\",\"#00ff00\",\"#00ff00\",\"#00ff00\",\"#00ff00\",\"#00ff00\",\"#00ff00\",\"#00ff00\",\"#00ff00\",\"#00ff00\",\"#00ff00\",\"#00ff00\",\"#00ff00\",\"#00ff00\",\"#00ff00\",\"#00ff00\",\"#00ff00\",\"#00ff00\",\"#00ff00\",\"#00ff00\",\"#00ff00\",\"#00ff00\",\"#00ff00\",\"#00ffff\",\"#00ff00\",\"#00ffff\",\"#00ff00\",\"#00ff00\",\"#00ff00\",\"#00ff00\",\"#00ffff\",\"#00ffff\",\"#00ff00\",\"#000000\",\"#00ffff\",\"#00ff00\",\"#00ff00\",\"#00ff00\",\"#000000\",\"#00ff00\",\"#00ff00\",\"#00ff00\",\"#00ff00\",\"#00ffff\",\"#00ff00\",\"#00ff00\",\"#00ff00\",\"#00ff00\",\"#00ff00\",\"#00ff00\",\"#00ff00\",\"#00ff00\",\"#00ff00\",\"#00ffff\",\"#00ff00\",\"#00ffff\",\"#00ff00\",\"#000000\",\"#00ff00\",\"#00ff00\",\"#00ff00\",\"#00ff00\",\"#00ff00\",\"#00ff00\",\"#00ff00\",\"#00ff00\",\"#00ffff\",\"#00ff00\",\"#000000\",\"#00ff00\",\"#00ff00\",\"#00ff00\",\"#00ff00\",\"#00ff00\",\"#00ff00\",\"#00ff00\",\"#00ffff\",\"#00ff00\",\"#00ff00\",\"#00ff00\",\"#00ff00\",\"#00ff00\",\"#00ffff\",\"#00ff00\",\"#00ff00\",\"#00ff00\",\"#00ff00\",\"#000000\",\"#00ff00\",\"#00ff00\",\"#00ff00\",\"#00ff00\",\"#00ff00\",\"#00ff00\",\"#00ff00\",\"#00ffff\",\"#00ff00\",\"#00ffff\",\"#000000\",\"#00ff00\",\"#00ff00\",\"#00ff00\",\"#00ff00\",\"#00ff00\",\"#00ff00\",\"#00ff00\",\"#00ff00\",\"#00ff00\",\"#00ffff\",\"#00ff00\",\"#00ff00\",\"#00ff00\",\"#00ff00\",\"#00ffff\",\"#00ff00\",\"#00ff00\",\"#00ff00\",\"#00ff00\",\"#00ff00\",\"#00ff00\",\"#00ffff\",\"#00ff00\",\"#00ff00\",\"#00ff00\",\"#00ff00\",\"#00ffff\",\"#00ff00\",\"#00ff00\",\"#00ff00\",\"#00ffff\",\"#00ff00\",\"#00ff00\",\"#00ff00\",\"#00ff00\",\"#00ff00\",\"#00ff00\",\"#00ff00\",\"#000000\",\"#00ff00\",\"#00ffff\",\"#00ff00\",\"#00ff00\",\"#00ff00\",\"#000000\",\"#00ff00\",\"#00ff00\",\"#00ff00\",\"#00ff00\",\"#00ff00\",\"#00ff00\",\"#00ff00\",\"#00ff00\",\"#00ff00\",\"#00ffff\",\"#00ff00\",\"#00ff00\",\"#00ff00\",\"#00ff00\",\"#00ff00\",\"#00ff00\",\"#00ff00\",\"#00ff00\",\"#000000\",\"#00ff00\",\"#00ff00\",\"#00ff00\",\"#00ff00\",\"#00ff00\",\"#00ff00\",\"#00ffff\",\"#00ff00\",\"#00ff00\",\"#00ff00\",\"#00ff00\",\"#00ff00\",\"#00ff00\",\"#00ff00\",\"#00ff00\",\"#00ff00\",\"#00ff00\",\"#00ff00\",\"#00ff00\",\"#00ff00\",\"#00ff00\",\"#00ff00\",\"#00ff00\",\"#00ff00\",\"#00ff00\",\"#00ff00\",\"#00ff00\",\"#000000\",\"#00ff00\",\"#00ff00\",\"#00ff00\",\"#00ff00\",\"#00ff00\",\"#00ff00\",\"#00ff00\",\"#00ff00\",\"#00ff00\",\"#00ff00\",\"#00ff00\",\"#000000\",\"#000000\",\"#00ff00\",\"#00ff00\",\"#00ff00\",\"#00ffff\",\"#000000\",\"#00ff00\",\"#00ff00\",\"#00ff00\",\"#00ff00\",\"#00ff00\",\"#00ff00\",\"#00ff00\",\"#00ff00\",\"#000000\",\"#00ff00\",\"#00ff00\",\"#00ff00\",\"#00ff00\",\"#00ffff\",\"#00ff00\",\"#000000\",\"#00ff00\",\"#00ff00\",\"#00ff00\",\"#00ff00\",\"#00ff00\",\"#00ff00\",\"#00ff00\",\"#00ffff\",\"#00ff00\",\"#00ff00\",\"#000000\",\"#00ff00\",\"#00ff00\",\"#000000\",\"#00ffff\",\"#00ff00\",\"#00ff00\",\"#00ff00\",\"#00ff00\",\"#00ff00\",\"#00ff00\",\"#00ffff\",\"#000000\",\"#00ff00\",\"#00ff00\",\"#00ff00\",\"#00ffff\",\"#00ffff\",\"#00ffff\",\"#00ff00\",\"#00ff00\",\"#00ff00\",\"#00ff00\",\"#00ff00\",\"#00ff00\",\"#00ff00\",\"#00ff00\",\"#00ff00\",\"#00ff00\",\"#00ff00\",\"#00ff00\",\"#00ff00\",\"#00ff00\",\"#00ff00\",\"#00ff00\",\"#00ff00\",\"#000000\",\"#00ff00\",\"#00ff00\",\"#00ff00\",\"#000000\",\"#00ff00\",\"#00ff00\",\"#00ff00\",\"#00ff00\",\"#00ffff\",\"#00ff00\",\"#00ff00\",\"#00ff00\",\"#00ff00\",\"#000000\",\"#00ff00\",\"#00ff00\",\"#000000\",\"#000000\",\"#00ff00\",\"#00ff00\",\"#00ffff\",\"#00ff00\",\"#00ff00\",\"#00ff00\",\"#00ff00\",\"#00ff00\",\"#00ff00\",\"#00ff00\",\"#00ffff\",\"#00ff00\",\"#00ff00\",\"#00ff00\",\"#00ffff\",\"#00ff00\",\"#00ff00\",\"#00ff00\",\"#00ff00\",\"#00ff00\",\"#00ff00\",\"#00ff00\",\"#00ff00\",\"#00ff00\",\"#00ff00\",\"#00ff00\",\"#00ff00\",\"#00ffff\",\"#00ff00\",\"#00ff00\",\"#00ff00\",\"#000000\",\"#00ff00\",\"#00ff00\",\"#00ff00\",\"#000000\",\"#00ff00\",\"#00ff00\",\"#00ff00\",\"#00ffff\",\"#00ffff\",\"#00ff00\",\"#000000\",\"#00ff00\",\"#00ff00\",\"#00ff00\",\"#00ff00\",\"#00ff00\",\"#00ff00\",\"#00ff00\",\"#00ff00\",\"#00ff00\",\"#00ff00\",\"#00ff00\",\"#00ff00\",\"#00ff00\",\"#00ff00\",\"#00ffff\",\"#00ffff\",\"#00ff00\",\"#00ff00\",\"#00ff00\",\"#00ff00\",\"#00ff00\",\"#00ff00\",\"#00ff00\",\"#00ff00\",\"#00ff00\",\"#00ff00\",\"#00ff00\",\"#00ffff\",\"#00ff00\",\"#00ff00\",\"#00ff00\",\"#00ff00\",\"#00ffff\",\"#00ff00\",\"#00ff00\",\"#00ff00\",\"#00ff00\",\"#00ff00\",\"#00ff00\",\"#000000\",\"#000000\",\"#00ff00\",\"#00ff00\",\"#00ff00\",\"#00ff00\",\"#00ff00\",\"#00ff00\",\"#00ffff\",\"#00ff00\",\"#00ff00\",\"#00ff00\",\"#00ff00\",\"#00ff00\",\"#00ff00\",\"#00ff00\",\"#00ff00\",\"#00ff00\",\"#00ff00\",\"#00ffff\",\"#00ff00\",\"#00ff00\",\"#00ff00\",\"#00ff00\",\"#00ff00\",\"#00ffff\",\"#00ff00\",\"#00ffff\",\"#00ff00\",\"#00ff00\",\"#00ff00\",\"#00ff00\",\"#00ffff\",\"#00ff00\",\"#00ff00\",\"#00ff00\",\"#000000\",\"#00ff00\",\"#000000\",\"#00ffff\",\"#00ff00\",\"#00ffff\",\"#00ff00\",\"#00ff00\",\"#000000\",\"#00ff00\",\"#00ff00\",\"#00ff00\",\"#00ffff\",\"#000000\",\"#00ff00\",\"#00ff00\",\"#00ff00\",\"#00ff00\",\"#00ff00\",\"#00ff00\",\"#00ff00\",\"#00ff00\",\"#00ff00\",\"#00ff00\",\"#00ff00\",\"#00ff00\",\"#000000\",\"#00ff00\",\"#00ff00\",\"#00ff00\",\"#00ff00\",\"#00ffff\",\"#00ff00\",\"#00ffff\",\"#00ff00\",\"#00ff00\",\"#00ff00\",\"#00ff00\",\"#00ff00\",\"#00ff00\",\"#00ff00\",\"#00ff00\",\"#00ffff\",\"#00ff00\",\"#00ffff\",\"#000000\",\"#00ffff\",\"#00ff00\",\"#00ff00\",\"#00ffff\",\"#00ff00\",\"#00ff00\",\"#00ff00\",\"#00ff00\",\"#00ff00\",\"#00ff00\",\"#00ff00\",\"#00ff00\",\"#00ff00\",\"#00ff00\",\"#000000\",\"#00ffff\",\"#00ff00\",\"#00ff00\",\"#00ff00\",\"#00ff00\",\"#00ff00\",\"#00ffff\",\"#00ff00\",\"#00ffff\",\"#00ff00\",\"#00ff00\",\"#00ff00\",\"#00ff00\",\"#00ff00\",\"#00ff00\",\"#00ff00\",\"#000000\",\"#00ff00\",\"#00ff00\",\"#000000\",\"#00ffff\",\"#00ff00\",\"#00ff00\",\"#00ffff\",\"#00ff00\",\"#00ff00\",\"#00ff00\",\"#00ff00\",\"#00ff00\",\"#000000\",\"#00ff00\",\"#00ff00\",\"#00ff00\",\"#00ff00\",\"#00ffff\",\"#00ff00\",\"#00ff00\",\"#00ffff\",\"#00ff00\",\"#00ff00\",\"#00ff00\",\"#00ff00\",\"#000000\",\"#00ff00\",\"#00ff00\",\"#00ff00\",\"#00ff00\",\"#00ffff\",\"#00ff00\",\"#00ffff\",\"#00ff00\",\"#00ff00\",\"#00ff00\",\"#00ff00\",\"#00ff00\",\"#00ff00\",\"#00ff00\",\"#00ff00\",\"#00ff00\",\"#00ff00\",\"#00ff00\",\"#00ff00\",\"#00ff00\",\"#00ff00\",\"#00ff00\",\"#00ff00\",\"#00ff00\",\"#00ff00\",\"#00ff00\",\"#00ffff\",\"#00ff00\",\"#000000\",\"#00ff00\",\"#00ff00\",\"#00ffff\",\"#000000\",\"#00ff00\",\"#00ff00\",\"#00ff00\",\"#00ff00\",\"#00ffff\",\"#00ff00\",\"#00ff00\",\"#00ff00\",\"#00ff00\",\"#00ff00\",\"#00ffff\",\"#00ff00\",\"#00ff00\",\"#00ff00\",\"#00ffff\",\"#000000\",\"#00ff00\",\"#00ff00\",\"#00ffff\",\"#00ff00\",\"#00ffff\",\"#00ff00\",\"#00ffff\",\"#00ff00\",\"#00ff00\",\"#00ff00\",\"#00ff00\",\"#000000\",\"#000000\",\"#00ff00\",\"#000000\",\"#00ff00\",\"#00ff00\",\"#00ff00\",\"#00ff00\",\"#00ff00\",\"#00ff00\",\"#00ff00\",\"#00ff00\",\"#00ff00\",\"#00ffff\",\"#00ff00\",\"#00ff00\",\"#00ff00\",\"#00ff00\",\"#00ff00\",\"#00ff00\",\"#00ff00\",\"#00ff00\",\"#00ff00\",\"#00ff00\",\"#00ff00\",\"#00ff00\",\"#00ff00\",\"#00ff00\",\"#00ff00\",\"#00ff00\",\"#00ff00\",\"#00ff00\",\"#00ff00\",\"#000000\",\"#00ffff\",\"#000000\",\"#00ff00\",\"#00ff00\",\"#00ff00\",\"#00ff00\",\"#00ff00\",\"#00ff00\",\"#00ff00\",\"#000000\",\"#00ff00\",\"#00ff00\",\"#00ff00\",\"#00ffff\",\"#00ffff\",\"#00ff00\",\"#00ffff\",\"#00ff00\",\"#00ff00\",\"#00ff00\",\"#00ff00\",\"#00ff00\",\"#00ff00\",\"#00ff00\",\"#000000\",\"#00ff00\",\"#00ff00\",\"#00ff00\",\"#000000\",\"#00ff00\",\"#000000\",\"#00ff00\",\"#00ff00\",\"#00ffff\",\"#00ff00\",\"#00ffff\",\"#00ff00\",\"#00ff00\",\"#00ff00\",\"#00ff00\",\"#00ffff\",\"#00ff00\",\"#00ff00\",\"#00ff00\",\"#00ff00\",\"#00ff00\",\"#00ff00\",\"#00ff00\",\"#000000\",\"#00ff00\",\"#00ff00\",\"#00ff00\",\"#00ff00\",\"#00ff00\",\"#00ff00\",\"#00ff00\",\"#00ff00\",\"#00ff00\",\"#00ff00\",\"#00ff00\",\"#00ff00\",\"#00ff00\",\"#000000\",\"#00ff00\",\"#00ff00\",\"#00ff00\",\"#00ff00\",\"#00ffff\",\"#000000\",\"#00ff00\",\"#00ff00\",\"#00ff00\",\"#00ff00\",\"#00ff00\",\"#00ff00\",\"#00ff00\",\"#00ff00\",\"#00ff00\",\"#00ff00\",\"#00ff00\",\"#00ff00\",\"#00ff00\",\"#00ff00\",\"#00ff00\",\"#00ffff\",\"#00ff00\",\"#00ff00\",\"#00ff00\",\"#00ff00\",\"#00ff00\",\"#00ff00\",\"#00ff00\",\"#00ff00\",\"#00ff00\",\"#00ff00\",\"#00ff00\",\"#00ff00\",\"#00ff00\",\"#00ff00\",\"#00ff00\",\"#00ff00\",\"#00ffff\",\"#00ff00\",\"#00ff00\",\"#00ff00\",\"#00ff00\",\"#00ff00\",\"#00ff00\",\"#00ff00\",\"#00ff00\",\"#00ff00\",\"#00ff00\",\"#00ff00\",\"#00ff00\",\"#00ff00\",\"#00ff00\",\"#00ff00\",\"#00ffff\",\"#00ff00\",\"#00ff00\",\"#00ff00\",\"#00ffff\",\"#00ffff\",\"#00ffff\",\"#000000\",\"#00ff00\",\"#00ffff\",\"#00ff00\",\"#00ff00\",\"#00ffff\",\"#00ff00\",\"#00ff00\",\"#00ff00\",\"#00ff00\",\"#00ff00\",\"#000000\",\"#00ff00\",\"#00ff00\",\"#00ffff\",\"#00ff00\",\"#00ff00\",\"#00ff00\",\"#00ff00\",\"#00ff00\",\"#00ff00\",\"#00ff00\",\"#000000\",\"#00ff00\",\"#000000\",\"#00ff00\",\"#00ff00\",\"#00ff00\",\"#00ff00\",\"#00ff00\",\"#00ff00\",\"#00ff00\",\"#00ff00\",\"#00ff00\",\"#00ff00\",\"#00ff00\",\"#00ffff\",\"#00ff00\",\"#00ff00\",\"#00ffff\",\"#00ffff\",\"#00ff00\",\"#000000\",\"#00ff00\",\"#00ffff\",\"#00ff00\",\"#00ffff\",\"#00ff00\",\"#00ff00\",\"#00ff00\",\"#00ff00\",\"#000000\",\"#00ff00\",\"#00ff00\",\"#00ff00\",\"#00ff00\",\"#00ff00\",\"#00ff00\",\"#00ffff\",\"#00ff00\",\"#00ff00\",\"#00ff00\",\"#000000\",\"#00ff00\",\"#00ff00\",\"#00ff00\",\"#00ff00\",\"#00ff00\",\"#00ff00\",\"#00ff00\",\"#00ff00\",\"#00ff00\",\"#00ff00\",\"#00ff00\",\"#00ff00\",\"#00ff00\",\"#00ff00\",\"#00ffff\",\"#00ff00\",\"#00ffff\",\"#00ff00\",\"#00ff00\",\"#00ff00\",\"#00ff00\",\"#00ff00\",\"#00ff00\",\"#00ff00\",\"#00ff00\",\"#00ff00\",\"#00ff00\",\"#00ff00\",\"#00ffff\",\"#00ff00\",\"#00ff00\",\"#00ff00\",\"#00ff00\",\"#00ff00\",\"#00ff00\",\"#00ff00\",\"#00ffff\",\"#00ff00\",\"#00ff00\",\"#00ffff\",\"#00ff00\",\"#00ff00\",\"#00ff00\",\"#000000\",\"#00ff00\",\"#00ff00\",\"#00ff00\",\"#00ff00\",\"#00ff00\",\"#00ff00\",\"#00ff00\",\"#00ff00\",\"#00ff00\",\"#000000\",\"#00ff00\",\"#00ffff\",\"#00ff00\",\"#00ff00\",\"#00ff00\",\"#00ffff\",\"#00ff00\",\"#00ff00\",\"#00ff00\",\"#00ff00\",\"#00ff00\",\"#00ff00\",\"#00ff00\",\"#000000\",\"#00ff00\",\"#00ff00\",\"#00ff00\",\"#00ff00\",\"#00ff00\",\"#00ff00\",\"#00ff00\",\"#00ff00\",\"#00ff00\",\"#00ff00\",\"#000000\",\"#00ff00\",\"#00ff00\",\"#00ff00\",\"#00ff00\",\"#00ff00\",\"#00ff00\",\"#00ff00\",\"#00ff00\",\"#00ff00\",\"#00ff00\",\"#00ff00\",\"#00ff00\",\"#00ffff\",\"#00ff00\",\"#00ff00\",\"#00ffff\",\"#00ff00\",\"#00ffff\",\"#00ff00\",\"#00ff00\",\"#00ff00\",\"#00ff00\",\"#000000\",\"#00ff00\",\"#00ff00\",\"#00ff00\",\"#00ff00\",\"#00ff00\",\"#00ff00\",\"#00ff00\",\"#000000\",\"#00ff00\",\"#00ff00\",\"#00ffff\",\"#00ff00\",\"#00ff00\",\"#00ff00\",\"#00ff00\",\"#00ff00\",\"#00ff00\",\"#00ff00\",\"#00ff00\",\"#00ff00\",\"#00ff00\",\"#00ff00\",\"#00ff00\",\"#00ff00\",\"#000000\",\"#00ffff\",\"#00ff00\",\"#00ff00\",\"#00ff00\",\"#00ffff\",\"#00ff00\",\"#00ff00\",\"#00ff00\",\"#00ff00\",\"#000000\",\"#00ff00\",\"#00ff00\",\"#00ff00\",\"#00ffff\",\"#00ff00\",\"#00ff00\",\"#00ff00\",\"#00ff00\",\"#00ff00\",\"#00ff00\",\"#00ff00\",\"#00ff00\",\"#00ff00\",\"#00ff00\",\"#00ff00\",\"#00ff00\",\"#00ff00\",\"#00ff00\",\"#00ff00\",\"#00ffff\",\"#000000\",\"#00ff00\",\"#00ff00\",\"#000000\",\"#00ff00\",\"#00ff00\",\"#00ffff\",\"#00ff00\",\"#000000\",\"#00ff00\",\"#00ff00\",\"#00ff00\",\"#00ff00\",\"#000000\",\"#00ff00\",\"#00ffff\",\"#00ff00\",\"#00ff00\",\"#00ffff\",\"#00ff00\",\"#00ff00\",\"#00ff00\",\"#00ffff\",\"#00ffff\",\"#000000\",\"#00ff00\",\"#00ff00\",\"#00ff00\",\"#00ffff\",\"#00ff00\",\"#00ff00\",\"#00ff00\",\"#00ff00\",\"#00ff00\",\"#00ff00\",\"#00ffff\",\"#00ffff\",\"#00ff00\",\"#000000\",\"#00ff00\",\"#00ff00\",\"#00ff00\",\"#00ff00\",\"#00ff00\",\"#00ff00\",\"#00ff00\",\"#00ff00\",\"#00ff00\",\"#00ff00\",\"#00ff00\",\"#00ff00\",\"#00ff00\",\"#00ffff\",\"#00ff00\",\"#00ff00\",\"#00ff00\",\"#000000\",\"#00ff00\",\"#00ff00\",\"#00ff00\",\"#000000\",\"#00ff00\",\"#00ff00\",\"#00ff00\",\"#00ff00\",\"#00ff00\",\"#00ff00\",\"#00ff00\",\"#00ffff\",\"#00ff00\",\"#00ff00\",\"#00ffff\",\"#00ff00\",\"#00ffff\",\"#00ff00\",\"#00ff00\",\"#00ff00\",\"#00ff00\",\"#00ffff\",\"#00ff00\",\"#00ff00\",\"#00ff00\",\"#00ff00\",\"#000000\",\"#00ff00\",\"#00ff00\",\"#00ff00\",\"#00ff00\",\"#00ff00\",\"#00ffff\",\"#00ffff\",\"#00ff00\",\"#00ffff\",\"#00ff00\",\"#00ff00\",\"#00ff00\",\"#00ff00\",\"#00ff00\",\"#00ff00\",\"#00ffff\",\"#00ff00\",\"#00ff00\",\"#00ff00\",\"#00ff00\",\"#00ffff\",\"#00ff00\",\"#00ff00\",\"#00ff00\",\"#00ff00\",\"#00ff00\",\"#00ff00\",\"#00ff00\",\"#00ffff\",\"#00ff00\",\"#00ff00\",\"#00ff00\",\"#00ff00\",\"#00ff00\",\"#00ffff\",\"#00ff00\",\"#00ff00\",\"#00ffff\",\"#00ff00\",\"#00ff00\",\"#000000\",\"#00ff00\",\"#00ff00\",\"#00ff00\",\"#00ffff\",\"#00ff00\",\"#00ff00\",\"#00ff00\",\"#00ff00\",\"#000000\",\"#00ff00\",\"#00ff00\",\"#00ff00\",\"#00ff00\",\"#00ff00\",\"#00ff00\",\"#00ff00\",\"#00ff00\",\"#00ff00\",\"#00ff00\",\"#00ff00\",\"#00ff00\",\"#00ff00\",\"#000000\",\"#00ff00\",\"#000000\",\"#00ffff\",\"#00ff00\",\"#00ff00\",\"#00ff00\",\"#00ff00\",\"#00ff00\",\"#00ff00\",\"#00ff00\",\"#00ff00\",\"#00ff00\",\"#000000\",\"#00ff00\",\"#00ffff\",\"#00ffff\",\"#00ff00\",\"#00ff00\",\"#00ff00\",\"#00ffff\",\"#00ff00\",\"#00ff00\",\"#000000\",\"#000000\",\"#00ff00\",\"#00ff00\",\"#00ff00\",\"#00ff00\",\"#00ffff\",\"#00ffff\",\"#00ff00\",\"#00ff00\",\"#00ffff\",\"#00ffff\",\"#00ff00\",\"#00ff00\",\"#00ff00\",\"#00ff00\",\"#00ff00\",\"#00ff00\",\"#00ff00\",\"#00ff00\",\"#00ff00\",\"#00ff00\",\"#00ff00\",\"#00ff00\",\"#00ff00\",\"#00ff00\",\"#00ff00\",\"#00ff00\",\"#00ff00\",\"#00ff00\",\"#00ff00\",\"#00ff00\",\"#00ff00\",\"#00ff00\",\"#00ff00\",\"#00ff00\",\"#000000\",\"#00ff00\",\"#00ff00\",\"#00ffff\",\"#00ff00\",\"#00ff00\",\"#00ff00\",\"#00ffff\",\"#00ff00\",\"#00ff00\",\"#00ff00\",\"#00ff00\",\"#00ff00\",\"#00ff00\",\"#000000\",\"#00ff00\",\"#00ff00\",\"#00ffff\",\"#00ff00\",\"#000000\",\"#00ff00\",\"#00ffff\",\"#00ff00\",\"#00ff00\",\"#00ff00\",\"#000000\",\"#00ffff\",\"#000000\",\"#00ff00\",\"#00ff00\",\"#00ff00\",\"#00ff00\",\"#00ffff\",\"#00ff00\",\"#00ff00\",\"#00ffff\",\"#00ff00\",\"#00ff00\",\"#00ff00\",\"#00ff00\",\"#00ff00\",\"#00ff00\",\"#00ff00\",\"#00ff00\",\"#00ff00\",\"#00ffff\",\"#00ffff\",\"#00ff00\",\"#00ff00\",\"#00ff00\",\"#00ff00\",\"#00ff00\",\"#00ff00\",\"#00ff00\",\"#00ff00\",\"#00ff00\",\"#00ff00\",\"#00ff00\",\"#00ff00\",\"#00ff00\",\"#00ff00\",\"#000000\",\"#00ff00\",\"#00ff00\",\"#00ff00\",\"#00ff00\",\"#00ff00\",\"#00ff00\",\"#000000\",\"#00ff00\",\"#00ff00\",\"#00ff00\",\"#00ff00\",\"#00ff00\",\"#00ffff\",\"#00ff00\",\"#00ff00\",\"#000000\",\"#00ff00\",\"#00ff00\",\"#00ff00\",\"#00ff00\",\"#000000\",\"#00ff00\",\"#00ff00\",\"#00ff00\",\"#00ff00\",\"#00ff00\",\"#00ffff\",\"#00ff00\",\"#00ff00\",\"#00ff00\",\"#00ffff\",\"#00ff00\",\"#00ff00\",\"#00ff00\",\"#00ff00\",\"#00ffff\",\"#000000\",\"#00ff00\",\"#00ff00\",\"#00ff00\",\"#000000\",\"#00ff00\",\"#00ff00\",\"#00ff00\",\"#000000\",\"#00ff00\",\"#00ff00\",\"#00ff00\",\"#00ff00\",\"#00ff00\",\"#00ffff\",\"#000000\",\"#00ff00\",\"#00ff00\",\"#00ff00\",\"#00ff00\",\"#00ff00\",\"#00ff00\",\"#000000\",\"#00ff00\",\"#00ff00\",\"#00ff00\",\"#00ff00\",\"#000000\",\"#00ff00\",\"#00ff00\",\"#00ffff\",\"#00ff00\",\"#00ff00\",\"#00ff00\",\"#000000\",\"#000000\",\"#00ff00\",\"#000000\",\"#00ff00\",\"#00ff00\",\"#00ff00\",\"#00ff00\",\"#00ff00\",\"#00ff00\",\"#00ff00\",\"#00ff00\",\"#00ff00\",\"#00ff00\",\"#00ff00\",\"#00ff00\",\"#00ff00\",\"#00ff00\",\"#000000\",\"#00ff00\",\"#00ff00\",\"#00ffff\",\"#00ff00\",\"#00ff00\",\"#000000\",\"#00ff00\",\"#00ff00\",\"#00ffff\",\"#00ff00\",\"#00ffff\",\"#00ff00\",\"#00ff00\",\"#00ff00\",\"#00ff00\",\"#00ffff\",\"#00ff00\",\"#00ff00\",\"#000000\",\"#000000\",\"#00ffff\",\"#00ff00\",\"#00ff00\",\"#00ff00\",\"#00ffff\",\"#00ff00\",\"#00ffff\",\"#000000\",\"#00ff00\",\"#00ff00\",\"#00ff00\",\"#00ff00\",\"#00ff00\",\"#00ff00\",\"#00ff00\",\"#000000\",\"#00ff00\",\"#00ff00\",\"#00ff00\",\"#00ff00\",\"#00ff00\",\"#00ff00\",\"#00ff00\",\"#00ff00\",\"#00ff00\",\"#00ff00\",\"#00ff00\",\"#000000\",\"#00ff00\",\"#00ff00\",\"#00ffff\",\"#00ff00\",\"#00ff00\",\"#00ff00\",\"#00ff00\",\"#00ff00\",\"#00ff00\",\"#00ff00\",\"#00ff00\",\"#00ff00\",\"#00ff00\",\"#000000\",\"#00ff00\",\"#00ff00\",\"#00ff00\",\"#00ffff\",\"#00ff00\",\"#00ff00\",\"#00ff00\",\"#00ff00\",\"#00ff00\",\"#00ff00\",\"#00ff00\",\"#00ff00\",\"#00ff00\",\"#00ff00\",\"#00ff00\",\"#00ff00\",\"#00ff00\",\"#00ffff\",\"#00ff00\",\"#00ff00\",\"#00ffff\",\"#00ffff\",\"#000000\",\"#00ff00\",\"#000000\",\"#00ffff\",\"#00ff00\",\"#00ff00\",\"#00ff00\",\"#00ffff\",\"#00ff00\",\"#000000\",\"#000000\",\"#00ff00\",\"#00ff00\",\"#000000\",\"#00ff00\",\"#00ff00\",\"#00ff00\",\"#00ff00\",\"#00ff00\",\"#000000\",\"#00ff00\",\"#00ff00\",\"#00ff00\",\"#00ff00\",\"#00ff00\",\"#00ff00\",\"#00ff00\",\"#00ff00\",\"#00ff00\",\"#00ff00\",\"#00ff00\",\"#000000\",\"#00ff00\",\"#00ff00\",\"#00ff00\",\"#00ffff\",\"#00ff00\",\"#00ff00\",\"#00ff00\",\"#00ff00\",\"#00ff00\",\"#000000\",\"#00ff00\",\"#00ffff\",\"#00ff00\",\"#00ff00\",\"#000000\",\"#00ff00\",\"#00ff00\",\"#00ff00\",\"#00ff00\",\"#00ff00\",\"#00ff00\",\"#00ff00\",\"#000000\",\"#00ffff\",\"#00ff00\",\"#00ff00\",\"#00ff00\",\"#00ffff\",\"#00ffff\",\"#00ffff\",\"#00ff00\",\"#00ff00\",\"#00ff00\",\"#00ff00\",\"#000000\",\"#000000\",\"#00ff00\",\"#00ff00\",\"#00ff00\",\"#00ff00\",\"#00ff00\",\"#00ff00\",\"#00ff00\",\"#00ff00\",\"#00ff00\",\"#00ffff\",\"#00ff00\",\"#00ff00\",\"#00ff00\",\"#000000\",\"#00ff00\",\"#00ff00\",\"#00ff00\",\"#00ff00\",\"#00ff00\",\"#00ff00\",\"#00ff00\",\"#00ffff\",\"#00ff00\",\"#000000\",\"#00ff00\",\"#00ff00\",\"#000000\",\"#00ff00\",\"#00ff00\",\"#00ff00\",\"#00ff00\",\"#00ff00\",\"#00ff00\",\"#00ff00\",\"#00ff00\",\"#000000\",\"#00ff00\",\"#00ff00\",\"#00ff00\",\"#00ffff\",\"#00ff00\",\"#00ff00\",\"#00ffff\",\"#00ff00\",\"#00ff00\",\"#00ff00\",\"#00ff00\",\"#00ff00\",\"#00ff00\",\"#00ff00\",\"#00ffff\",\"#00ff00\",\"#00ff00\",\"#00ff00\",\"#00ff00\",\"#00ff00\",\"#00ffff\",\"#00ffff\",\"#00ff00\",\"#00ff00\",\"#000000\",\"#00ff00\",\"#00ff00\",\"#00ff00\",\"#00ff00\",\"#000000\",\"#00ff00\",\"#00ff00\",\"#00ff00\",\"#00ff00\",\"#00ff00\",\"#00ff00\",\"#000000\",\"#00ffff\",\"#00ff00\",\"#00ff00\",\"#00ff00\",\"#00ff00\",\"#00ff00\",\"#00ff00\",\"#00ff00\",\"#00ff00\",\"#00ffff\",\"#00ff00\",\"#00ff00\",\"#00ff00\",\"#000000\",\"#00ff00\",\"#00ffff\",\"#00ff00\",\"#00ff00\",\"#00ff00\",\"#00ff00\",\"#00ff00\",\"#00ff00\",\"#00ff00\",\"#00ff00\",\"#00ff00\",\"#00ffff\",\"#00ff00\",\"#00ff00\",\"#00ff00\",\"#00ff00\",\"#00ff00\",\"#00ff00\",\"#00ff00\",\"#00ffff\",\"#00ff00\",\"#00ffff\",\"#000000\",\"#00ff00\",\"#00ff00\",\"#00ffff\",\"#00ff00\",\"#000000\",\"#00ff00\",\"#00ff00\",\"#000000\",\"#00ffff\",\"#00ff00\",\"#00ff00\",\"#000000\",\"#00ff00\",\"#00ff00\",\"#00ff00\",\"#00ff00\",\"#00ff00\",\"#00ff00\",\"#00ff00\",\"#00ffff\",\"#00ff00\",\"#00ff00\",\"#00ff00\",\"#00ff00\",\"#00ff00\",\"#000000\",\"#00ff00\",\"#00ff00\",\"#00ff00\",\"#00ff00\",\"#00ff00\",\"#00ff00\",\"#00ff00\",\"#00ff00\",\"#00ff00\",\"#00ffff\",\"#00ff00\",\"#00ff00\",\"#00ff00\",\"#00ff00\",\"#000000\",\"#00ff00\",\"#00ff00\",\"#00ffff\",\"#00ff00\",\"#00ff00\",\"#00ff00\",\"#00ff00\",\"#00ff00\",\"#00ff00\",\"#00ffff\",\"#00ff00\",\"#00ffff\",\"#00ff00\",\"#00ff00\",\"#00ff00\",\"#00ff00\",\"#00ff00\",\"#00ff00\",\"#00ff00\",\"#00ff00\",\"#00ff00\",\"#00ff00\",\"#00ff00\",\"#000000\",\"#00ff00\",\"#00ff00\",\"#00ff00\",\"#00ff00\",\"#00ffff\",\"#00ff00\",\"#00ff00\",\"#00ff00\",\"#00ff00\",\"#00ff00\",\"#00ff00\",\"#00ff00\",\"#00ff00\",\"#00ff00\",\"#00ff00\",\"#00ff00\",\"#00ffff\",\"#00ff00\",\"#00ff00\",\"#00ffff\",\"#00ff00\",\"#00ff00\",\"#00ff00\",\"#00ff00\",\"#00ffff\",\"#00ffff\",\"#00ff00\",\"#00ff00\",\"#00ffff\",\"#00ff00\",\"#00ff00\",\"#00ff00\",\"#00ff00\",\"#00ff00\",\"#00ff00\",\"#00ff00\",\"#00ff00\",\"#00ffff\",\"#00ff00\",\"#00ff00\",\"#00ffff\",\"#00ff00\",\"#00ff00\",\"#00ff00\",\"#00ff00\",\"#00ff00\",\"#00ff00\",\"#00ff00\",\"#00ffff\",\"#00ff00\",\"#00ff00\",\"#00ffff\",\"#00ff00\",\"#000000\",\"#00ff00\",\"#00ff00\",\"#00ff00\",\"#00ff00\",\"#00ff00\",\"#00ff00\",\"#00ff00\",\"#00ff00\",\"#00ff00\",\"#00ff00\",\"#00ff00\",\"#00ff00\",\"#00ff00\",\"#00ff00\",\"#00ff00\",\"#00ff00\",\"#00ff00\",\"#00ff00\",\"#00ff00\",\"#00ff00\",\"#00ffff\",\"#00ff00\",\"#00ff00\",\"#00ff00\",\"#00ff00\",\"#00ff00\",\"#000000\",\"#00ff00\",\"#00ff00\",\"#000000\",\"#00ff00\",\"#00ff00\",\"#000000\",\"#00ff00\",\"#00ff00\",\"#00ff00\",\"#00ff00\",\"#00ff00\",\"#00ff00\",\"#00ff00\",\"#00ff00\",\"#00ff00\",\"#00ff00\",\"#00ff00\",\"#00ffff\",\"#00ff00\",\"#00ff00\",\"#00ff00\",\"#00ff00\",\"#00ff00\",\"#00ff00\",\"#00ff00\",\"#00ff00\",\"#00ff00\",\"#00ff00\",\"#00ff00\",\"#00ff00\",\"#00ff00\",\"#00ff00\",\"#00ff00\",\"#00ff00\",\"#00ff00\",\"#00ff00\",\"#00ff00\",\"#00ff00\",\"#00ff00\",\"#00ff00\",\"#00ffff\",\"#00ff00\",\"#00ff00\",\"#000000\",\"#00ff00\",\"#00ffff\",\"#00ff00\",\"#00ff00\",\"#00ff00\",\"#00ff00\",\"#00ff00\",\"#00ff00\",\"#00ff00\",\"#000000\",\"#00ff00\",\"#00ff00\",\"#00ff00\",\"#00ff00\",\"#00ff00\",\"#00ff00\",\"#00ff00\",\"#00ff00\",\"#00ff00\",\"#00ffff\",\"#00ff00\",\"#00ff00\",\"#00ff00\",\"#00ff00\",\"#00ff00\",\"#00ff00\",\"#00ff00\",\"#00ff00\",\"#00ff00\",\"#00ff00\",\"#00ff00\",\"#00ff00\",\"#000000\",\"#00ff00\",\"#00ff00\",\"#00ff00\",\"#00ff00\",\"#00ff00\",\"#00ff00\",\"#00ff00\",\"#00ffff\",\"#00ffff\",\"#00ff00\",\"#00ff00\",\"#00ff00\",\"#00ff00\",\"#00ffff\",\"#00ff00\",\"#00ff00\",\"#00ff00\",\"#00ff00\",\"#00ff00\",\"#00ff00\",\"#00ff00\",\"#00ff00\",\"#00ff00\",\"#00ff00\",\"#00ff00\",\"#00ff00\",\"#00ff00\",\"#00ffff\",\"#00ffff\",\"#00ffff\",\"#00ffff\",\"#00ff00\",\"#00ff00\",\"#00ff00\",\"#000000\",\"#00ff00\",\"#000000\",\"#000000\",\"#00ffff\",\"#00ffff\",\"#00ff00\",\"#00ff00\",\"#00ff00\",\"#00ff00\",\"#00ff00\",\"#00ff00\",\"#00ff00\",\"#00ff00\",\"#00ff00\",\"#00ff00\",\"#00ff00\",\"#00ff00\",\"#00ff00\",\"#00ff00\",\"#00ffff\",\"#00ff00\",\"#00ff00\",\"#000000\",\"#00ffff\",\"#00ff00\",\"#00ffff\",\"#00ff00\",\"#00ff00\",\"#00ff00\",\"#00ff00\",\"#00ff00\",\"#00ff00\",\"#00ff00\",\"#00ff00\",\"#00ff00\",\"#00ff00\",\"#00ff00\",\"#00ff00\",\"#00ffff\",\"#00ff00\",\"#00ff00\",\"#00ff00\",\"#00ff00\",\"#00ff00\",\"#00ffff\",\"#00ff00\",\"#00ff00\",\"#00ff00\",\"#00ff00\",\"#00ff00\",\"#000000\",\"#000000\",\"#00ff00\",\"#00ffff\",\"#00ff00\",\"#00ff00\",\"#00ff00\",\"#00ff00\",\"#000000\",\"#00ffff\",\"#00ff00\",\"#00ff00\",\"#000000\",\"#00ff00\",\"#00ff00\",\"#00ff00\",\"#00ff00\",\"#00ff00\",\"#00ff00\",\"#00ff00\",\"#00ff00\",\"#00ff00\",\"#00ff00\",\"#00ff00\",\"#00ff00\",\"#00ff00\",\"#000000\",\"#00ff00\",\"#00ff00\",\"#00ff00\",\"#00ff00\",\"#00ff00\",\"#00ff00\",\"#00ff00\",\"#00ff00\",\"#00ff00\",\"#00ff00\",\"#00ff00\",\"#00ff00\",\"#00ffff\",\"#00ff00\",\"#00ff00\",\"#000000\",\"#00ff00\",\"#00ff00\",\"#000000\",\"#00ff00\",\"#00ff00\",\"#000000\",\"#00ff00\",\"#00ff00\",\"#00ff00\",\"#00ff00\",\"#00ff00\",\"#00ff00\",\"#00ff00\",\"#00ff00\",\"#00ff00\",\"#000000\",\"#00ff00\",\"#00ff00\",\"#00ff00\",\"#000000\",\"#00ff00\",\"#00ff00\",\"#000000\",\"#00ff00\",\"#00ff00\",\"#00ffff\",\"#00ff00\",\"#00ff00\",\"#00ff00\",\"#00ff00\",\"#00ffff\",\"#00ff00\",\"#00ffff\",\"#00ffff\",\"#00ff00\",\"#00ff00\",\"#000000\",\"#00ff00\",\"#00ffff\",\"#000000\",\"#00ff00\",\"#00ff00\",\"#00ff00\",\"#00ff00\",\"#000000\",\"#00ff00\",\"#00ff00\",\"#00ff00\",\"#00ff00\",\"#00ff00\",\"#00ff00\",\"#00ff00\",\"#00ff00\",\"#00ff00\",\"#00ffff\",\"#00ff00\",\"#00ff00\",\"#00ffff\",\"#00ff00\",\"#00ff00\",\"#00ff00\",\"#000000\",\"#00ff00\",\"#00ff00\",\"#00ffff\",\"#00ff00\",\"#00ff00\",\"#000000\",\"#00ff00\",\"#00ff00\",\"#00ff00\",\"#00ff00\",\"#00ff00\",\"#00ff00\",\"#00ffff\",\"#000000\",\"#00ffff\",\"#00ff00\",\"#00ff00\",\"#00ff00\",\"#00ff00\",\"#00ff00\",\"#00ff00\",\"#00ff00\",\"#00ff00\",\"#00ffff\",\"#00ff00\",\"#00ff00\",\"#000000\",\"#00ff00\",\"#00ff00\",\"#00ff00\",\"#00ff00\",\"#00ff00\",\"#00ff00\",\"#00ff00\",\"#00ff00\",\"#00ff00\",\"#000000\",\"#00ff00\",\"#000000\",\"#00ff00\",\"#00ff00\",\"#00ff00\",\"#00ff00\",\"#00ffff\",\"#000000\",\"#00ff00\",\"#00ff00\",\"#00ff00\",\"#00ff00\",\"#00ff00\",\"#00ff00\",\"#00ff00\",\"#00ff00\",\"#00ff00\",\"#00ff00\",\"#00ff00\",\"#00ff00\",\"#00ffff\",\"#00ff00\",\"#00ff00\",\"#00ff00\",\"#00ff00\",\"#00ff00\",\"#00ffff\",\"#00ff00\",\"#00ffff\",\"#00ffff\",\"#00ff00\",\"#00ff00\",\"#000000\",\"#00ff00\",\"#00ff00\",\"#00ff00\",\"#00ff00\",\"#00ffff\",\"#00ffff\",\"#00ff00\",\"#00ffff\",\"#00ff00\",\"#00ff00\",\"#00ff00\",\"#00ff00\",\"#00ff00\",\"#00ffff\",\"#00ff00\",\"#00ff00\",\"#00ff00\",\"#00ff00\",\"#00ff00\",\"#00ff00\",\"#00ff00\",\"#00ff00\",\"#00ffff\",\"#00ffff\",\"#00ff00\",\"#00ff00\",\"#00ff00\",\"#000000\",\"#00ff00\",\"#00ff00\",\"#00ffff\",\"#00ff00\",\"#00ff00\",\"#00ff00\",\"#00ff00\",\"#000000\",\"#000000\",\"#00ffff\",\"#00ff00\",\"#00ff00\",\"#00ff00\",\"#000000\",\"#00ff00\",\"#00ff00\",\"#00ff00\",\"#00ff00\",\"#00ff00\",\"#000000\",\"#00ffff\",\"#00ff00\",\"#00ff00\",\"#00ff00\",\"#00ff00\",\"#00ffff\",\"#00ff00\",\"#00ff00\",\"#00ff00\",\"#00ff00\",\"#00ff00\",\"#00ff00\",\"#00ff00\",\"#00ff00\",\"#00ff00\",\"#00ff00\",\"#00ff00\",\"#00ff00\",\"#00ffff\",\"#00ff00\",\"#00ff00\",\"#00ff00\",\"#00ffff\",\"#00ff00\",\"#00ff00\",\"#00ffff\",\"#00ff00\",\"#00ff00\",\"#00ffff\",\"#00ff00\",\"#00ff00\",\"#00ff00\",\"#00ff00\",\"#00ffff\",\"#00ff00\",\"#00ff00\",\"#00ff00\",\"#00ff00\",\"#00ff00\",\"#00ff00\",\"#00ff00\",\"#00ffff\",\"#00ff00\",\"#00ff00\",\"#000000\",\"#00ff00\",\"#00ff00\",\"#00ff00\",\"#00ff00\",\"#00ff00\",\"#00ff00\",\"#00ff00\",\"#000000\",\"#00ff00\",\"#00ff00\",\"#00ff00\",\"#00ff00\",\"#00ff00\",\"#00ff00\",\"#00ffff\",\"#00ff00\",\"#00ff00\",\"#00ff00\",\"#00ff00\",\"#00ff00\",\"#00ff00\",\"#00ff00\",\"#00ffff\",\"#00ff00\",\"#00ff00\",\"#00ff00\",\"#00ff00\",\"#00ff00\",\"#00ff00\",\"#00ffff\",\"#00ff00\",\"#00ff00\",\"#00ff00\",\"#00ff00\",\"#00ff00\",\"#00ff00\",\"#00ff00\",\"#00ff00\",\"#00ff00\",\"#00ff00\",\"#00ff00\",\"#00ff00\",\"#00ff00\",\"#00ff00\",\"#00ffff\",\"#00ff00\",\"#00ff00\",\"#00ff00\",\"#00ff00\",\"#00ff00\",\"#00ff00\",\"#00ff00\",\"#00ffff\",\"#00ff00\",\"#00ff00\",\"#00ffff\",\"#00ff00\",\"#00ff00\",\"#00ffff\",\"#00ffff\",\"#00ff00\",\"#00ffff\",\"#00ff00\",\"#00ffff\",\"#00ff00\",\"#00ff00\",\"#00ffff\",\"#00ff00\",\"#000000\",\"#00ff00\",\"#00ff00\",\"#00ff00\",\"#00ff00\",\"#00ff00\",\"#00ffff\",\"#00ff00\",\"#00ff00\",\"#000000\",\"#00ff00\",\"#00ff00\",\"#00ff00\",\"#00ff00\",\"#00ff00\",\"#000000\",\"#00ff00\",\"#00ff00\",\"#00ff00\",\"#00ff00\",\"#00ff00\",\"#00ff00\",\"#00ffff\",\"#00ff00\",\"#00ffff\",\"#00ff00\",\"#00ff00\",\"#00ff00\",\"#00ff00\",\"#00ff00\",\"#00ff00\",\"#00ff00\",\"#00ff00\",\"#000000\",\"#00ffff\",\"#00ff00\",\"#00ff00\",\"#00ff00\",\"#00ff00\",\"#00ffff\",\"#00ff00\",\"#00ff00\",\"#00ff00\",\"#00ff00\",\"#00ff00\",\"#00ffff\",\"#00ff00\",\"#000000\",\"#00ffff\",\"#00ff00\",\"#00ffff\",\"#00ff00\",\"#00ff00\",\"#00ff00\",\"#00ff00\",\"#00ff00\",\"#000000\",\"#00ffff\",\"#00ff00\",\"#00ff00\",\"#00ff00\",\"#00ffff\",\"#00ff00\",\"#00ff00\",\"#00ff00\",\"#000000\",\"#00ff00\",\"#000000\",\"#00ff00\",\"#000000\",\"#00ff00\",\"#00ffff\",\"#00ff00\",\"#00ff00\",\"#00ffff\",\"#00ffff\",\"#00ff00\",\"#00ff00\",\"#00ff00\",\"#00ffff\",\"#00ffff\",\"#00ff00\",\"#00ff00\",\"#00ff00\",\"#00ff00\",\"#00ff00\",\"#000000\",\"#000000\",\"#000000\",\"#00ff00\",\"#00ff00\",\"#00ff00\",\"#00ff00\",\"#00ff00\",\"#000000\",\"#00ff00\",\"#00ffff\",\"#00ff00\",\"#00ff00\",\"#00ff00\",\"#00ff00\",\"#00ff00\",\"#00ff00\",\"#00ff00\",\"#00ff00\",\"#00ffff\",\"#00ff00\",\"#00ffff\",\"#00ffff\",\"#00ff00\",\"#00ff00\",\"#00ffff\",\"#00ff00\",\"#00ff00\",\"#00ff00\",\"#00ff00\",\"#00ff00\",\"#00ff00\",\"#00ff00\",\"#00ff00\",\"#00ff00\",\"#00ff00\",\"#00ff00\",\"#00ff00\",\"#00ff00\",\"#00ff00\",\"#00ff00\",\"#00ff00\",\"#00ffff\",\"#00ffff\",\"#000000\",\"#000000\",\"#00ff00\",\"#00ff00\",\"#00ffff\",\"#00ff00\",\"#00ff00\",\"#00ff00\",\"#00ff00\",\"#00ff00\",\"#00ff00\",\"#000000\",\"#000000\",\"#00ff00\",\"#00ff00\",\"#00ffff\",\"#00ffff\",\"#000000\",\"#00ffff\",\"#00ff00\",\"#00ff00\",\"#00ff00\",\"#00ff00\",\"#00ff00\",\"#00ff00\",\"#00ff00\",\"#00ff00\",\"#00ff00\",\"#00ff00\",\"#00ff00\",\"#00ffff\",\"#00ff00\",\"#00ff00\",\"#00ff00\",\"#00ffff\",\"#00ff00\",\"#00ff00\",\"#00ff00\",\"#00ff00\",\"#00ff00\",\"#000000\",\"#00ff00\",\"#00ff00\",\"#00ff00\",\"#00ff00\",\"#000000\",\"#00ff00\",\"#00ff00\",\"#00ff00\",\"#00ff00\",\"#00ff00\",\"#00ff00\",\"#00ff00\",\"#00ff00\",\"#00ff00\",\"#00ff00\",\"#00ff00\",\"#00ffff\",\"#00ff00\",\"#00ff00\",\"#00ff00\",\"#00ff00\",\"#00ff00\",\"#00ffff\",\"#00ff00\",\"#00ff00\",\"#00ff00\",\"#00ffff\",\"#00ff00\",\"#00ff00\",\"#00ff00\",\"#00ff00\",\"#00ff00\",\"#00ff00\",\"#00ff00\",\"#00ff00\",\"#000000\",\"#00ff00\",\"#00ff00\",\"#00ff00\",\"#00ff00\",\"#00ff00\",\"#00ff00\",\"#00ff00\",\"#00ff00\",\"#00ff00\",\"#00ff00\",\"#00ffff\",\"#00ffff\",\"#00ff00\",\"#00ff00\",\"#00ffff\",\"#00ff00\",\"#00ff00\",\"#00ff00\",\"#00ff00\",\"#00ff00\",\"#00ff00\",\"#00ff00\",\"#00ff00\",\"#000000\",\"#00ff00\",\"#00ff00\",\"#00ff00\",\"#00ff00\",\"#00ff00\",\"#00ff00\",\"#000000\",\"#00ff00\",\"#00ff00\",\"#00ff00\",\"#00ff00\",\"#00ff00\",\"#00ff00\",\"#00ff00\",\"#00ffff\",\"#00ff00\",\"#00ff00\",\"#00ffff\",\"#00ff00\",\"#00ff00\",\"#00ff00\",\"#000000\",\"#00ff00\",\"#00ff00\",\"#00ffff\",\"#00ff00\",\"#00ff00\",\"#00ff00\",\"#00ff00\",\"#00ff00\",\"#00ff00\",\"#00ff00\",\"#00ffff\",\"#00ffff\",\"#00ffff\",\"#00ff00\",\"#00ff00\",\"#00ff00\",\"#00ffff\",\"#00ff00\",\"#00ff00\",\"#00ff00\",\"#00ff00\",\"#000000\",\"#00ff00\",\"#00ff00\",\"#00ff00\",\"#00ffff\",\"#00ff00\",\"#00ff00\",\"#00ff00\",\"#00ff00\",\"#00ff00\",\"#00ff00\",\"#00ff00\",\"#00ff00\",\"#00ff00\",\"#000000\",\"#00ffff\",\"#00ff00\",\"#00ff00\",\"#00ff00\",\"#00ff00\",\"#00ffff\",\"#00ff00\",\"#00ff00\",\"#00ffff\",\"#00ffff\",\"#00ff00\",\"#00ff00\",\"#00ff00\",\"#00ff00\",\"#00ff00\",\"#00ff00\",\"#000000\",\"#00ff00\",\"#00ff00\",\"#000000\",\"#00ff00\",\"#00ff00\",\"#000000\",\"#00ff00\",\"#00ff00\",\"#00ffff\",\"#000000\",\"#00ff00\",\"#00ff00\",\"#00ff00\",\"#00ff00\",\"#000000\",\"#00ff00\",\"#00ffff\",\"#00ff00\",\"#00ff00\",\"#00ff00\",\"#00ffff\",\"#00ff00\",\"#00ff00\",\"#00ff00\",\"#00ff00\",\"#00ff00\",\"#00ffff\",\"#00ff00\",\"#00ff00\",\"#00ff00\",\"#00ff00\",\"#00ffff\",\"#00ffff\",\"#00ff00\",\"#00ff00\",\"#00ff00\",\"#00ffff\",\"#000000\",\"#00ff00\",\"#00ff00\",\"#000000\",\"#00ff00\",\"#000000\",\"#00ffff\",\"#00ff00\",\"#00ff00\",\"#00ff00\",\"#00ff00\",\"#00ffff\",\"#00ff00\",\"#00ff00\",\"#00ff00\",\"#00ff00\",\"#00ff00\",\"#00ff00\",\"#00ff00\",\"#00ff00\",\"#00ff00\",\"#00ffff\",\"#00ff00\",\"#00ffff\",\"#00ff00\",\"#00ff00\",\"#00ff00\",\"#00ff00\",\"#00ff00\",\"#00ff00\",\"#00ffff\",\"#00ff00\",\"#00ffff\",\"#00ff00\",\"#00ff00\",\"#00ff00\",\"#00ff00\",\"#00ff00\",\"#00ff00\",\"#00ffff\",\"#000000\",\"#00ff00\",\"#00ff00\",\"#000000\",\"#00ff00\",\"#00ff00\",\"#00ff00\",\"#00ffff\",\"#00ffff\",\"#00ff00\",\"#00ff00\",\"#00ff00\",\"#00ff00\",\"#000000\",\"#00ff00\",\"#00ff00\",\"#00ff00\",\"#00ff00\",\"#00ffff\",\"#00ffff\",\"#00ff00\",\"#00ff00\",\"#00ff00\",\"#00ff00\",\"#00ffff\",\"#00ffff\",\"#00ff00\",\"#00ff00\",\"#00ff00\",\"#00ff00\",\"#00ffff\",\"#00ff00\",\"#00ff00\",\"#00ff00\",\"#00ff00\",\"#00ff00\",\"#000000\",\"#00ff00\",\"#00ff00\",\"#00ff00\",\"#00ff00\",\"#00ff00\",\"#00ff00\",\"#00ff00\",\"#00ff00\",\"#000000\",\"#00ffff\",\"#00ffff\",\"#00ff00\",\"#00ff00\",\"#00ff00\",\"#00ff00\",\"#00ff00\",\"#00ff00\",\"#00ff00\",\"#00ffff\",\"#00ff00\",\"#00ff00\",\"#00ff00\",\"#00ff00\",\"#00ff00\",\"#00ffff\",\"#00ff00\",\"#00ff00\",\"#00ffff\",\"#00ff00\",\"#000000\",\"#00ff00\",\"#00ff00\",\"#00ff00\",\"#00ff00\",\"#00ff00\",\"#00ffff\",\"#00ff00\",\"#00ff00\",\"#00ffff\",\"#00ff00\",\"#00ff00\",\"#00ff00\",\"#00ff00\",\"#00ff00\",\"#00ffff\",\"#00ffff\",\"#00ffff\",\"#00ff00\",\"#00ff00\",\"#00ff00\",\"#00ffff\",\"#00ff00\",\"#00ff00\",\"#000000\",\"#00ff00\",\"#00ff00\",\"#00ff00\",\"#00ff00\",\"#00ff00\",\"#00ff00\",\"#000000\",\"#00ff00\",\"#00ff00\",\"#00ff00\",\"#00ff00\",\"#00ffff\",\"#00ffff\",\"#00ff00\",\"#00ff00\",\"#00ff00\",\"#00ffff\",\"#00ff00\",\"#00ff00\",\"#00ffff\",\"#00ff00\",\"#00ff00\",\"#00ff00\",\"#00ff00\",\"#00ff00\",\"#00ff00\",\"#00ff00\",\"#00ff00\",\"#00ffff\",\"#00ffff\",\"#00ff00\",\"#00ff00\",\"#00ff00\",\"#00ff00\",\"#00ff00\",\"#00ff00\",\"#00ffff\",\"#00ff00\",\"#00ff00\",\"#00ff00\",\"#00ff00\",\"#000000\",\"#00ffff\",\"#00ff00\",\"#00ff00\",\"#00ffff\",\"#000000\",\"#00ff00\",\"#000000\",\"#00ff00\",\"#00ff00\",\"#00ff00\",\"#00ff00\",\"#00ff00\",\"#00ff00\",\"#00ff00\",\"#00ff00\",\"#000000\",\"#00ff00\",\"#00ffff\",\"#00ff00\",\"#00ff00\",\"#00ff00\",\"#00ff00\",\"#00ff00\",\"#00ff00\",\"#00ffff\",\"#00ff00\",\"#00ff00\",\"#00ff00\",\"#00ff00\",\"#00ff00\",\"#00ffff\",\"#00ffff\",\"#00ff00\",\"#00ff00\",\"#00ff00\",\"#00ff00\",\"#00ffff\",\"#00ffff\",\"#00ff00\",\"#00ff00\",\"#00ff00\",\"#00ff00\",\"#00ff00\",\"#00ff00\",\"#00ff00\",\"#00ff00\",\"#00ff00\",\"#00ff00\",\"#00ff00\",\"#00ff00\",\"#00ff00\",\"#00ff00\",\"#000000\",\"#00ffff\",\"#00ff00\",\"#00ff00\",\"#00ff00\",\"#00ff00\",\"#00ff00\",\"#00ff00\",\"#00ff00\",\"#00ff00\",\"#00ff00\",\"#00ff00\",\"#00ff00\",\"#00ff00\",\"#00ff00\",\"#00ff00\",\"#000000\",\"#00ff00\",\"#00ff00\",\"#00ff00\",\"#00ff00\",\"#00ff00\",\"#00ff00\",\"#00ff00\",\"#00ff00\",\"#00ffff\",\"#000000\",\"#00ff00\",\"#00ffff\",\"#00ff00\",\"#00ff00\",\"#00ff00\",\"#000000\",\"#000000\",\"#00ff00\",\"#00ff00\",\"#00ff00\",\"#00ff00\",\"#00ff00\",\"#00ff00\",\"#00ff00\",\"#00ff00\",\"#00ff00\",\"#00ff00\",\"#00ff00\",\"#00ff00\",\"#00ff00\",\"#00ffff\",\"#00ff00\",\"#00ffff\",\"#00ff00\",\"#00ffff\",\"#00ff00\",\"#00ff00\",\"#00ff00\",\"#00ff00\",\"#00ff00\",\"#00ff00\",\"#00ff00\",\"#00ff00\",\"#000000\",\"#00ff00\",\"#00ff00\",\"#00ff00\",\"#00ffff\",\"#00ff00\",\"#00ff00\",\"#00ff00\",\"#00ff00\",\"#00ff00\",\"#00ff00\",\"#00ff00\",\"#00ffff\",\"#00ffff\",\"#00ffff\",\"#00ff00\",\"#00ff00\",\"#00ff00\",\"#00ff00\",\"#00ff00\",\"#00ff00\",\"#000000\",\"#00ff00\",\"#00ff00\",\"#00ffff\",\"#00ff00\",\"#00ff00\",\"#00ff00\",\"#00ff00\",\"#00ffff\",\"#000000\",\"#000000\",\"#00ff00\",\"#00ff00\",\"#000000\",\"#00ff00\",\"#00ff00\",\"#000000\",\"#00ffff\",\"#00ff00\",\"#00ff00\",\"#00ff00\",\"#00ff00\",\"#00ffff\",\"#00ff00\",\"#00ffff\",\"#00ff00\",\"#00ff00\",\"#00ff00\",\"#00ff00\",\"#00ff00\",\"#00ff00\",\"#00ff00\",\"#00ff00\",\"#00ff00\",\"#00ff00\",\"#00ff00\",\"#00ff00\",\"#00ff00\",\"#00ff00\",\"#000000\",\"#00ff00\",\"#00ff00\",\"#00ff00\",\"#00ff00\",\"#000000\",\"#000000\",\"#00ff00\",\"#00ff00\",\"#00ff00\",\"#00ff00\",\"#00ff00\",\"#00ffff\",\"#00ffff\",\"#00ff00\",\"#00ff00\",\"#00ff00\",\"#00ff00\",\"#00ff00\",\"#00ff00\",\"#00ff00\",\"#00ffff\",\"#00ffff\",\"#00ff00\",\"#00ff00\",\"#00ffff\",\"#00ff00\",\"#00ff00\",\"#00ff00\",\"#00ff00\",\"#00ff00\",\"#00ff00\",\"#00ff00\",\"#00ff00\",\"#00ffff\",\"#00ff00\",\"#000000\",\"#00ff00\",\"#00ff00\",\"#00ff00\",\"#00ff00\",\"#00ff00\",\"#00ff00\",\"#00ff00\",\"#00ff00\",\"#000000\",\"#00ff00\",\"#00ff00\",\"#00ffff\",\"#00ff00\",\"#00ff00\",\"#00ff00\",\"#00ff00\",\"#000000\",\"#00ff00\",\"#00ff00\",\"#00ff00\",\"#00ff00\",\"#00ff00\",\"#00ff00\",\"#00ff00\",\"#00ff00\",\"#000000\",\"#00ff00\",\"#00ff00\",\"#00ff00\",\"#00ffff\",\"#00ff00\",\"#00ff00\",\"#00ff00\",\"#00ff00\",\"#000000\",\"#00ffff\",\"#00ffff\",\"#00ff00\",\"#00ff00\",\"#00ff00\",\"#00ff00\",\"#00ffff\",\"#00ff00\",\"#00ff00\",\"#00ff00\",\"#00ff00\",\"#00ffff\",\"#00ff00\",\"#00ff00\",\"#00ff00\",\"#000000\",\"#00ff00\",\"#00ff00\",\"#00ff00\",\"#000000\",\"#00ff00\",\"#00ff00\",\"#00ff00\",\"#00ffff\",\"#00ff00\",\"#00ff00\",\"#00ff00\",\"#00ff00\",\"#00ff00\",\"#00ff00\",\"#00ff00\",\"#00ffff\",\"#00ff00\",\"#000000\",\"#00ff00\",\"#00ff00\",\"#00ff00\",\"#00ff00\",\"#00ff00\",\"#00ff00\",\"#00ff00\",\"#00ff00\",\"#00ff00\",\"#00ff00\",\"#00ff00\",\"#00ffff\",\"#00ff00\",\"#00ff00\",\"#00ff00\",\"#00ff00\",\"#00ff00\",\"#00ff00\",\"#00ff00\",\"#00ff00\",\"#00ff00\",\"#00ffff\",\"#00ffff\",\"#00ff00\",\"#000000\",\"#00ffff\",\"#00ff00\",\"#00ffff\",\"#00ffff\",\"#00ff00\",\"#00ffff\",\"#00ff00\",\"#00ff00\",\"#00ff00\",\"#000000\",\"#00ff00\",\"#000000\",\"#00ff00\",\"#000000\",\"#00ffff\",\"#00ff00\",\"#00ff00\",\"#00ff00\",\"#00ff00\",\"#00ff00\",\"#00ff00\",\"#00ff00\",\"#00ff00\",\"#00ff00\",\"#00ffff\",\"#00ff00\",\"#00ffff\",\"#00ff00\",\"#00ffff\",\"#000000\",\"#000000\",\"#00ff00\",\"#00ff00\",\"#00ffff\",\"#00ff00\",\"#000000\",\"#00ff00\",\"#00ffff\",\"#00ffff\",\"#00ff00\",\"#00ff00\",\"#00ff00\",\"#00ff00\",\"#00ff00\",\"#00ffff\",\"#00ff00\",\"#00ff00\",\"#00ffff\",\"#00ff00\",\"#00ff00\",\"#00ff00\",\"#00ff00\",\"#00ff00\",\"#00ff00\",\"#00ff00\",\"#00ff00\",\"#00ff00\",\"#00ff00\",\"#00ff00\",\"#00ff00\",\"#00ffff\",\"#00ffff\",\"#00ffff\",\"#00ff00\",\"#00ff00\",\"#00ff00\",\"#00ffff\",\"#00ff00\",\"#00ff00\",\"#000000\",\"#00ff00\",\"#00ff00\",\"#00ffff\",\"#00ff00\",\"#00ff00\",\"#00ff00\",\"#00ff00\",\"#00ff00\",\"#00ff00\",\"#00ff00\",\"#00ff00\",\"#00ff00\",\"#00ff00\",\"#00ff00\",\"#00ffff\",\"#00ff00\",\"#00ff00\",\"#000000\",\"#00ff00\",\"#00ff00\",\"#00ff00\",\"#00ff00\",\"#00ff00\",\"#00ff00\",\"#00ff00\",\"#00ff00\",\"#000000\",\"#00ff00\",\"#00ffff\",\"#00ff00\",\"#00ff00\",\"#000000\",\"#00ff00\",\"#00ffff\",\"#00ff00\",\"#00ff00\",\"#00ff00\",\"#00ff00\",\"#00ff00\",\"#000000\",\"#00ffff\",\"#00ffff\",\"#000000\",\"#00ffff\",\"#00ffff\",\"#00ff00\",\"#00ff00\",\"#00ff00\",\"#00ff00\",\"#00ffff\",\"#00ff00\",\"#00ff00\",\"#00ff00\",\"#00ff00\",\"#00ff00\",\"#00ff00\",\"#00ff00\",\"#00ff00\",\"#00ff00\",\"#00ff00\",\"#00ff00\",\"#00ff00\",\"#00ff00\",\"#00ff00\",\"#00ff00\",\"#00ffff\",\"#00ff00\",\"#00ff00\",\"#00ff00\",\"#00ff00\",\"#00ff00\",\"#00ff00\",\"#00ff00\",\"#00ff00\",\"#00ff00\",\"#00ff00\",\"#000000\",\"#00ff00\",\"#00ff00\",\"#00ff00\",\"#00ffff\",\"#00ff00\",\"#00ff00\",\"#000000\",\"#00ffff\",\"#00ff00\",\"#00ff00\",\"#00ffff\",\"#00ff00\",\"#00ff00\",\"#00ff00\",\"#00ff00\",\"#00ff00\",\"#00ffff\",\"#00ffff\",\"#00ff00\",\"#00ff00\",\"#00ff00\",\"#00ff00\",\"#00ff00\",\"#00ff00\",\"#00ff00\",\"#00ff00\",\"#000000\",\"#00ff00\",\"#00ffff\",\"#00ff00\",\"#00ffff\",\"#00ff00\",\"#00ffff\",\"#00ff00\",\"#000000\",\"#00ff00\",\"#00ff00\",\"#00ff00\",\"#00ff00\",\"#00ff00\",\"#00ff00\",\"#00ff00\",\"#00ff00\",\"#00ff00\",\"#00ff00\",\"#00ff00\",\"#00ff00\",\"#00ffff\",\"#00ff00\",\"#00ffff\",\"#00ff00\",\"#00ff00\",\"#00ff00\",\"#00ff00\",\"#00ff00\",\"#00ff00\",\"#00ff00\",\"#00ff00\",\"#00ff00\",\"#00ff00\",\"#00ff00\",\"#00ff00\",\"#00ff00\",\"#00ff00\",\"#00ff00\",\"#000000\",\"#00ff00\",\"#00ff00\",\"#00ff00\",\"#00ff00\",\"#00ff00\",\"#00ff00\",\"#00ff00\",\"#000000\",\"#00ff00\",\"#00ff00\",\"#00ff00\",\"#00ff00\",\"#00ffff\",\"#00ff00\",\"#00ff00\",\"#00ff00\",\"#00ff00\",\"#00ff00\",\"#00ff00\",\"#00ff00\",\"#00ff00\",\"#00ff00\",\"#000000\",\"#00ff00\",\"#000000\",\"#00ff00\",\"#00ff00\",\"#00ff00\",\"#00ff00\",\"#00ff00\",\"#00ff00\",\"#00ff00\",\"#00ffff\",\"#00ff00\",\"#00ffff\",\"#00ff00\",\"#00ff00\",\"#00ff00\",\"#00ff00\",\"#00ff00\",\"#00ff00\",\"#00ffff\",\"#00ffff\",\"#00ff00\",\"#00ff00\",\"#00ff00\",\"#00ff00\",\"#00ff00\",\"#00ff00\",\"#00ff00\",\"#00ffff\",\"#00ff00\",\"#00ff00\",\"#00ff00\",\"#00ff00\",\"#00ff00\",\"#00ff00\",\"#00ffff\",\"#00ff00\",\"#00ff00\",\"#00ff00\",\"#00ff00\",\"#00ff00\",\"#00ffff\",\"#00ff00\",\"#00ff00\",\"#00ff00\",\"#00ffff\",\"#00ff00\",\"#00ff00\",\"#00ff00\",\"#00ff00\",\"#00ff00\",\"#00ff00\",\"#000000\",\"#00ff00\",\"#00ffff\",\"#000000\",\"#00ff00\",\"#00ff00\",\"#00ff00\",\"#00ff00\",\"#00ff00\",\"#00ff00\",\"#00ffff\",\"#000000\",\"#00ff00\",\"#00ff00\",\"#00ffff\",\"#00ff00\",\"#00ff00\",\"#00ff00\",\"#000000\",\"#00ff00\",\"#00ff00\",\"#00ff00\",\"#00ff00\",\"#00ffff\",\"#00ff00\",\"#00ff00\",\"#00ff00\",\"#00ff00\",\"#00ff00\",\"#00ff00\",\"#00ff00\",\"#00ff00\",\"#000000\",\"#00ffff\",\"#00ff00\",\"#000000\",\"#00ffff\",\"#000000\",\"#00ffff\",\"#00ff00\",\"#00ff00\",\"#00ff00\",\"#00ff00\",\"#000000\",\"#00ff00\",\"#00ff00\",\"#000000\",\"#00ff00\",\"#00ff00\",\"#00ff00\",\"#00ff00\",\"#00ff00\",\"#00ff00\",\"#00ff00\",\"#00ffff\",\"#00ff00\",\"#00ff00\",\"#00ff00\",\"#00ff00\",\"#000000\",\"#00ff00\",\"#00ff00\",\"#000000\",\"#00ff00\",\"#00ff00\",\"#00ff00\",\"#00ff00\",\"#00ff00\",\"#00ff00\",\"#00ff00\",\"#00ff00\",\"#00ff00\",\"#00ff00\",\"#00ff00\",\"#00ff00\",\"#00ff00\",\"#00ff00\",\"#00ff00\",\"#00ff00\",\"#00ffff\",\"#00ff00\",\"#00ff00\",\"#00ff00\",\"#00ff00\",\"#00ffff\",\"#00ff00\",\"#00ff00\",\"#00ff00\",\"#00ff00\",\"#000000\",\"#00ffff\",\"#00ff00\",\"#00ff00\",\"#00ff00\",\"#00ff00\",\"#00ff00\",\"#00ff00\",\"#00ff00\",\"#000000\",\"#00ff00\",\"#00ff00\",\"#00ff00\",\"#00ffff\",\"#00ff00\",\"#00ff00\",\"#00ffff\",\"#00ffff\",\"#00ff00\",\"#00ff00\",\"#00ff00\",\"#000000\",\"#00ffff\",\"#00ff00\",\"#00ff00\",\"#00ff00\",\"#00ffff\",\"#00ff00\",\"#00ff00\",\"#00ff00\",\"#000000\",\"#00ff00\",\"#00ff00\",\"#00ff00\",\"#00ffff\",\"#00ff00\",\"#00ff00\",\"#00ff00\",\"#00ffff\",\"#00ff00\",\"#00ff00\",\"#000000\",\"#00ff00\",\"#00ff00\",\"#00ff00\",\"#00ff00\",\"#000000\",\"#00ff00\",\"#00ff00\",\"#00ff00\",\"#00ffff\",\"#00ff00\",\"#00ff00\",\"#00ff00\",\"#00ff00\",\"#00ffff\",\"#00ff00\",\"#00ff00\",\"#00ffff\",\"#00ff00\",\"#00ffff\",\"#00ffff\",\"#00ff00\",\"#00ff00\",\"#00ff00\",\"#00ff00\",\"#00ff00\",\"#00ff00\",\"#00ff00\",\"#00ff00\",\"#00ff00\",\"#00ff00\",\"#00ff00\",\"#00ff00\",\"#00ff00\",\"#00ff00\",\"#00ffff\",\"#00ff00\",\"#00ff00\",\"#00ff00\",\"#00ffff\",\"#00ff00\",\"#00ff00\",\"#00ff00\",\"#00ff00\",\"#00ff00\",\"#00ff00\",\"#00ff00\",\"#00ff00\",\"#00ff00\",\"#00ffff\",\"#00ff00\",\"#00ff00\",\"#00ff00\",\"#00ff00\",\"#00ff00\",\"#00ffff\",\"#00ff00\",\"#00ff00\",\"#00ff00\",\"#00ff00\",\"#00ff00\",\"#00ff00\",\"#00ff00\",\"#00ffff\",\"#00ff00\",\"#00ff00\",\"#00ff00\",\"#00ff00\",\"#00ff00\",\"#00ff00\",\"#00ff00\",\"#00ff00\",\"#00ff00\",\"#00ff00\",\"#00ffff\",\"#000000\",\"#000000\",\"#00ff00\",\"#00ff00\",\"#00ff00\",\"#00ff00\",\"#00ff00\",\"#00ff00\",\"#00ff00\",\"#00ff00\",\"#00ff00\",\"#00ff00\",\"#00ff00\",\"#00ffff\",\"#00ff00\",\"#00ff00\",\"#00ffff\",\"#00ff00\",\"#00ff00\",\"#00ffff\",\"#00ffff\",\"#00ffff\",\"#00ff00\",\"#00ff00\",\"#000000\",\"#00ffff\",\"#00ffff\",\"#00ff00\",\"#00ff00\",\"#00ffff\",\"#00ff00\",\"#00ff00\",\"#00ff00\",\"#00ff00\",\"#00ff00\",\"#00ffff\",\"#00ff00\",\"#00ff00\",\"#00ff00\",\"#00ff00\",\"#00ff00\",\"#00ffff\",\"#00ffff\",\"#00ff00\",\"#00ff00\",\"#00ff00\",\"#00ff00\",\"#00ff00\",\"#000000\",\"#00ff00\",\"#00ff00\",\"#000000\",\"#00ff00\",\"#00ffff\",\"#00ff00\",\"#00ff00\",\"#00ff00\",\"#00ff00\",\"#00ff00\",\"#00ff00\",\"#00ff00\",\"#000000\",\"#00ff00\",\"#00ff00\",\"#00ffff\",\"#00ffff\",\"#00ff00\",\"#00ff00\",\"#00ff00\",\"#00ff00\",\"#00ff00\",\"#00ff00\",\"#00ff00\",\"#000000\",\"#00ff00\",\"#00ff00\",\"#00ff00\",\"#00ffff\",\"#00ff00\",\"#00ff00\",\"#00ff00\",\"#00ff00\",\"#00ff00\",\"#00ff00\",\"#00ff00\",\"#00ff00\",\"#00ff00\",\"#00ffff\",\"#00ff00\",\"#00ffff\",\"#00ff00\",\"#00ff00\",\"#00ff00\",\"#00ff00\",\"#00ff00\",\"#00ff00\",\"#00ff00\",\"#00ff00\",\"#00ff00\",\"#00ff00\",\"#00ff00\",\"#00ff00\",\"#00ff00\",\"#00ff00\",\"#00ff00\",\"#000000\",\"#000000\",\"#00ff00\",\"#00ffff\",\"#00ffff\",\"#00ffff\",\"#00ff00\",\"#00ff00\",\"#00ff00\",\"#00ff00\",\"#00ff00\",\"#00ff00\",\"#00ff00\",\"#00ff00\",\"#00ff00\",\"#00ff00\",\"#00ff00\",\"#000000\",\"#00ff00\",\"#00ff00\",\"#00ff00\",\"#00ff00\",\"#00ffff\",\"#00ff00\",\"#00ff00\",\"#00ff00\",\"#00ff00\",\"#00ff00\",\"#00ffff\",\"#000000\",\"#00ff00\",\"#00ff00\",\"#00ff00\",\"#00ffff\",\"#00ff00\",\"#00ff00\",\"#00ff00\",\"#00ff00\",\"#00ff00\",\"#000000\",\"#00ff00\",\"#00ff00\",\"#00ff00\",\"#00ff00\",\"#00ff00\",\"#00ff00\",\"#00ff00\",\"#00ff00\",\"#00ff00\",\"#00ff00\",\"#00ff00\",\"#00ff00\",\"#00ff00\",\"#00ff00\",\"#00ff00\",\"#00ff00\",\"#00ff00\",\"#00ff00\",\"#00ff00\",\"#00ff00\",\"#000000\",\"#000000\",\"#00ff00\",\"#00ff00\",\"#00ff00\",\"#00ff00\",\"#00ff00\",\"#00ff00\",\"#00ffff\",\"#00ff00\",\"#00ff00\",\"#00ff00\",\"#00ff00\",\"#00ff00\",\"#00ff00\",\"#00ff00\",\"#00ff00\",\"#00ff00\",\"#00ff00\",\"#00ff00\",\"#00ff00\",\"#000000\",\"#00ffff\",\"#00ff00\",\"#00ff00\",\"#00ffff\",\"#00ff00\",\"#00ff00\",\"#00ff00\",\"#00ff00\",\"#00ff00\",\"#000000\",\"#00ff00\",\"#00ff00\",\"#00ff00\",\"#00ffff\",\"#00ff00\",\"#00ff00\",\"#00ff00\",\"#00ff00\",\"#00ff00\",\"#00ff00\",\"#00ff00\",\"#000000\",\"#00ff00\",\"#00ff00\",\"#00ffff\",\"#00ff00\",\"#000000\",\"#00ff00\",\"#00ff00\",\"#00ff00\",\"#00ff00\",\"#00ff00\",\"#00ff00\",\"#00ff00\",\"#00ff00\",\"#00ff00\",\"#00ff00\",\"#00ff00\",\"#00ff00\",\"#00ff00\",\"#00ff00\",\"#00ff00\",\"#00ff00\",\"#00ff00\",\"#00ff00\",\"#00ff00\",\"#00ff00\",\"#00ff00\",\"#00ff00\",\"#00ffff\",\"#000000\",\"#00ff00\",\"#00ff00\",\"#00ff00\",\"#00ff00\",\"#00ff00\",\"#00ff00\",\"#00ff00\",\"#00ff00\",\"#00ff00\",\"#00ff00\",\"#00ff00\",\"#00ff00\",\"#00ff00\",\"#00ff00\",\"#00ffff\",\"#000000\",\"#000000\",\"#00ff00\",\"#00ff00\",\"#00ff00\",\"#00ff00\",\"#00ffff\",\"#00ff00\",\"#00ff00\",\"#00ff00\",\"#00ff00\",\"#00ff00\",\"#00ff00\",\"#00ff00\",\"#00ff00\",\"#00ff00\",\"#00ffff\",\"#00ff00\",\"#00ff00\",\"#00ff00\",\"#00ff00\",\"#00ff00\",\"#000000\",\"#00ff00\",\"#00ffff\",\"#00ff00\",\"#00ffff\",\"#00ffff\",\"#00ff00\",\"#00ff00\",\"#00ff00\",\"#00ff00\",\"#00ff00\",\"#00ff00\",\"#00ff00\",\"#000000\",\"#00ff00\",\"#000000\",\"#00ff00\",\"#00ff00\",\"#00ffff\",\"#00ffff\",\"#00ff00\",\"#00ff00\",\"#00ff00\",\"#00ff00\",\"#00ff00\",\"#00ff00\",\"#00ffff\",\"#00ffff\",\"#000000\",\"#00ff00\",\"#00ff00\",\"#00ff00\",\"#00ff00\",\"#00ff00\",\"#00ff00\",\"#00ff00\",\"#000000\",\"#00ff00\",\"#00ffff\",\"#00ff00\",\"#00ff00\",\"#00ff00\",\"#00ff00\",\"#00ff00\",\"#00ffff\",\"#00ff00\",\"#00ffff\",\"#00ff00\",\"#00ffff\",\"#00ff00\",\"#00ff00\",\"#00ff00\",\"#00ff00\",\"#00ff00\",\"#00ff00\",\"#00ff00\",\"#00ffff\",\"#00ff00\",\"#00ff00\",\"#00ff00\",\"#00ff00\",\"#00ff00\",\"#000000\",\"#00ff00\",\"#00ff00\",\"#00ff00\",\"#00ff00\",\"#00ff00\",\"#00ff00\",\"#00ff00\",\"#00ff00\",\"#00ff00\",\"#00ff00\",\"#00ffff\",\"#00ff00\",\"#00ff00\",\"#00ff00\",\"#00ff00\",\"#00ff00\",\"#00ff00\",\"#00ff00\",\"#000000\",\"#00ffff\",\"#00ff00\",\"#00ff00\",\"#00ff00\",\"#00ff00\",\"#00ff00\",\"#00ff00\",\"#00ff00\",\"#00ff00\",\"#00ffff\",\"#00ff00\",\"#00ff00\",\"#00ff00\",\"#00ff00\",\"#00ff00\",\"#00ffff\",\"#00ff00\",\"#00ff00\",\"#00ff00\",\"#000000\",\"#00ff00\",\"#00ff00\",\"#00ff00\",\"#00ff00\",\"#00ff00\",\"#00ff00\",\"#00ff00\",\"#00ff00\",\"#00ff00\",\"#00ff00\",\"#00ff00\",\"#00ffff\",\"#00ffff\",\"#00ff00\",\"#000000\",\"#00ff00\",\"#00ffff\",\"#00ffff\",\"#00ff00\",\"#00ffff\",\"#00ff00\",\"#00ff00\",\"#00ff00\",\"#00ff00\",\"#00ff00\",\"#00ff00\",\"#000000\",\"#00ff00\",\"#00ff00\",\"#00ff00\",\"#00ff00\",\"#00ff00\",\"#00ff00\",\"#00ff00\",\"#00ff00\",\"#00ff00\",\"#00ff00\",\"#00ffff\",\"#00ff00\",\"#000000\",\"#00ff00\",\"#00ffff\",\"#00ff00\",\"#00ff00\",\"#00ff00\",\"#00ffff\",\"#00ffff\",\"#00ff00\",\"#00ff00\",\"#000000\",\"#00ff00\",\"#00ff00\",\"#00ffff\",\"#00ff00\",\"#00ffff\",\"#00ff00\",\"#00ff00\",\"#00ff00\",\"#00ff00\",\"#00ff00\",\"#00ff00\",\"#00ff00\",\"#00ffff\",\"#00ff00\",\"#00ff00\",\"#00ff00\",\"#00ffff\",\"#00ff00\",\"#00ff00\",\"#00ffff\",\"#000000\",\"#00ff00\",\"#00ff00\",\"#00ff00\",\"#00ff00\",\"#00ffff\",\"#00ff00\",\"#00ff00\",\"#00ff00\",\"#00ff00\",\"#00ff00\",\"#00ff00\",\"#00ff00\",\"#00ff00\",\"#00ff00\",\"#00ffff\",\"#00ff00\",\"#00ff00\",\"#00ff00\",\"#00ff00\",\"#00ff00\",\"#00ff00\",\"#00ffff\",\"#000000\",\"#00ff00\",\"#00ff00\",\"#00ff00\",\"#00ff00\",\"#00ff00\",\"#00ff00\",\"#00ff00\",\"#00ff00\",\"#00ffff\",\"#000000\",\"#00ff00\",\"#00ff00\",\"#00ff00\",\"#00ffff\",\"#00ff00\",\"#00ff00\",\"#00ffff\",\"#000000\",\"#00ff00\",\"#00ff00\",\"#00ff00\",\"#00ffff\",\"#00ff00\",\"#000000\",\"#00ff00\",\"#00ff00\",\"#00ff00\",\"#00ff00\",\"#00ff00\",\"#00ff00\",\"#00ff00\",\"#00ff00\",\"#00ff00\",\"#00ff00\",\"#00ff00\",\"#00ff00\",\"#00ff00\",\"#00ff00\",\"#00ff00\",\"#00ffff\",\"#00ff00\",\"#00ff00\",\"#00ffff\",\"#00ff00\",\"#00ffff\",\"#00ff00\",\"#00ff00\",\"#00ff00\",\"#00ff00\",\"#00ff00\",\"#00ff00\",\"#000000\",\"#00ff00\",\"#00ff00\",\"#00ff00\",\"#00ffff\",\"#00ff00\",\"#00ff00\",\"#00ff00\",\"#00ff00\",\"#00ff00\",\"#00ff00\",\"#00ff00\",\"#00ff00\",\"#00ff00\",\"#000000\",\"#00ff00\",\"#00ffff\",\"#00ff00\",\"#00ff00\",\"#00ff00\",\"#000000\",\"#00ff00\",\"#00ff00\",\"#00ff00\",\"#00ff00\",\"#00ff00\",\"#00ff00\",\"#00ffff\",\"#00ffff\",\"#00ff00\",\"#00ff00\",\"#00ff00\",\"#00ff00\",\"#00ffff\",\"#00ff00\",\"#00ff00\",\"#00ffff\",\"#00ff00\",\"#00ff00\",\"#00ff00\",\"#00ff00\",\"#00ffff\",\"#00ff00\",\"#000000\",\"#00ff00\",\"#00ffff\",\"#00ff00\",\"#00ff00\",\"#00ff00\",\"#00ff00\",\"#00ffff\",\"#00ff00\",\"#00ff00\",\"#00ff00\",\"#00ff00\",\"#00ff00\",\"#00ff00\",\"#00ff00\",\"#00ff00\",\"#000000\",\"#00ff00\",\"#00ff00\",\"#00ff00\",\"#00ffff\",\"#000000\",\"#00ff00\",\"#00ff00\",\"#00ff00\",\"#000000\",\"#00ff00\",\"#00ff00\",\"#00ff00\",\"#00ffff\",\"#00ff00\",\"#00ff00\",\"#00ffff\",\"#00ff00\",\"#00ff00\",\"#000000\",\"#000000\",\"#00ff00\",\"#00ff00\",\"#000000\",\"#00ff00\",\"#00ff00\",\"#00ffff\",\"#00ff00\",\"#000000\",\"#00ff00\",\"#00ff00\",\"#00ff00\",\"#00ff00\",\"#00ff00\",\"#00ff00\",\"#00ffff\",\"#00ff00\",\"#00ffff\",\"#00ff00\",\"#00ff00\",\"#000000\",\"#00ff00\",\"#00ffff\",\"#00ff00\",\"#00ff00\",\"#00ff00\",\"#00ffff\",\"#00ff00\",\"#000000\",\"#00ff00\",\"#00ff00\",\"#00ff00\",\"#00ff00\",\"#000000\",\"#00ff00\",\"#00ff00\",\"#00ff00\",\"#00ff00\",\"#00ffff\",\"#00ff00\",\"#00ff00\",\"#00ff00\",\"#00ffff\",\"#00ff00\",\"#00ffff\",\"#00ff00\",\"#00ff00\",\"#00ff00\",\"#00ff00\",\"#00ff00\",\"#00ff00\",\"#00ff00\",\"#00ff00\",\"#00ffff\",\"#00ff00\",\"#00ff00\",\"#00ff00\",\"#000000\",\"#00ff00\",\"#00ffff\",\"#00ff00\",\"#00ff00\",\"#00ff00\",\"#00ff00\",\"#00ff00\",\"#00ff00\",\"#00ff00\",\"#00ffff\",\"#00ff00\",\"#000000\",\"#00ff00\",\"#00ff00\",\"#00ff00\",\"#00ff00\",\"#00ff00\",\"#00ff00\",\"#00ff00\",\"#00ff00\",\"#00ff00\",\"#00ff00\",\"#00ff00\",\"#00ff00\",\"#00ff00\",\"#00ff00\",\"#00ff00\",\"#00ff00\",\"#00ff00\",\"#00ff00\",\"#000000\",\"#00ff00\",\"#00ffff\",\"#00ff00\",\"#00ff00\",\"#00ff00\",\"#00ffff\",\"#00ff00\",\"#00ff00\",\"#00ffff\",\"#00ff00\",\"#00ff00\",\"#00ff00\",\"#00ff00\",\"#00ff00\",\"#00ff00\",\"#00ff00\",\"#00ff00\",\"#000000\",\"#00ff00\",\"#00ff00\",\"#00ff00\",\"#00ff00\",\"#00ff00\",\"#00ff00\",\"#00ff00\",\"#00ff00\",\"#00ff00\",\"#00ff00\",\"#00ff00\",\"#00ff00\",\"#00ff00\",\"#00ff00\",\"#00ff00\",\"#00ff00\",\"#00ffff\",\"#00ff00\",\"#00ff00\",\"#00ff00\",\"#00ff00\",\"#000000\",\"#00ffff\",\"#00ff00\",\"#00ffff\",\"#00ff00\",\"#00ff00\",\"#00ff00\",\"#00ff00\",\"#00ff00\",\"#00ff00\",\"#00ff00\",\"#00ff00\",\"#00ff00\",\"#00ffff\",\"#00ffff\",\"#00ff00\",\"#00ff00\",\"#00ff00\",\"#00ff00\",\"#00ff00\",\"#00ff00\",\"#000000\",\"#00ff00\",\"#00ffff\",\"#00ff00\",\"#000000\",\"#000000\",\"#00ff00\",\"#00ff00\",\"#00ff00\",\"#00ff00\",\"#00ff00\",\"#00ffff\",\"#000000\",\"#00ff00\",\"#00ffff\",\"#00ff00\",\"#00ff00\",\"#00ffff\",\"#00ff00\",\"#000000\",\"#00ffff\",\"#00ff00\",\"#00ff00\",\"#00ffff\",\"#00ffff\",\"#00ff00\",\"#00ff00\",\"#00ff00\",\"#000000\",\"#00ff00\",\"#00ff00\",\"#000000\",\"#00ff00\",\"#000000\",\"#00ff00\",\"#000000\",\"#00ff00\",\"#00ffff\",\"#00ff00\",\"#00ff00\",\"#00ff00\",\"#000000\",\"#00ff00\",\"#00ff00\",\"#00ff00\",\"#00ffff\",\"#00ff00\",\"#00ff00\",\"#000000\"],\"names\":[\"<unk>\",\"<pad>\",\"modi\",\"india\",\"people\",\"bjp\",\"congress\",\"like\",\"narendra\",\"election\",\"vote\",\"year\",\"govt\",\"indian\",\"time\",\"country\",\"modis\",\"dont\",\"nation\",\"know\",\"rahul\",\"want\",\"government\",\"party\",\"minister\",\"power\",\"gandhi\",\"leader\",\"say\",\"good\",\"space\",\"credit\",\"come\",\"need\",\"said\",\"think\",\"sir\",\"pakistan\",\"prime\",\"work\",\"money\",\"scientist\",\"opposition\",\"day\",\"support\",\"chowkidar\",\"today\",\"win\",\"job\",\"hai\",\"right\",\"new\",\"world\",\"thing\",\"great\",\"news\",\"poor\",\"satellite\",\"let\",\"drdo\",\"medium\",\"anti\",\"nehru\",\"political\",\"nirav\",\"address\",\"live\",\"question\",\"lakh\",\"family\",\"best\",\"way\",\"achievement\",\"mission\",\"going\",\"scheme\",\"better\",\"seat\",\"crore\",\"man\",\"promise\",\"state\",\"campaign\",\"proud\",\"national\",\"given\",\"got\",\"yes\",\"hindu\",\"watch\",\"thats\",\"ask\",\"issue\",\"hate\",\"strike\",\"shah\",\"speech\",\"big\",\"namo\",\"didnt\",\"development\",\"upa\",\"person\",\"stop\",\"rally\",\"muslim\",\"politics\",\"guy\",\"jai\",\"mean\",\"shakti\",\"look\",\"missile\",\"tweet\",\"tell\",\"saying\",\"love\",\"public\",\"giving\",\"asat\",\"reason\",\"making\",\"understand\",\"doesnt\",\"talk\",\"fake\",\"thanks\",\"test\",\"life\",\"gave\",\"pappu\",\"sure\",\"true\",\"corruption\",\"interview\",\"isro\",\"congratulation\",\"fact\",\"hope\",\"read\",\"candidate\",\"announcement\",\"rule\",\"real\",\"bank\",\"attack\",\"supporter\",\"called\",\"case\",\"voter\",\"help\",\"account\",\"wrong\",\"problem\",\"believe\",\"video\",\"change\",\"don\",\"terrorist\",\"bhakts\",\"lie\",\"r\",\"varanasi\",\"economy\",\"yr\",\"farmer\",\"policy\",\"team\",\"poll\",\"strong\",\"chor\",\"word\",\"force\",\"trying\",\"bhi\",\"taking\",\"answer\",\"bharat\",\"ppl\",\"contest\",\"coming\",\"leadership\",\"success\",\"court\",\"shame\",\"away\",\"china\",\"code\",\"sarkar\",\"dear\",\"term\",\"started\",\"failed\",\"promised\",\"talking\",\"sabha\",\"chief\",\"fight\",\"corrupt\",\"decision\",\"tax\",\"surgical\",\"happy\",\"thank\",\"feel\",\"wont\",\"lok\",\"air\",\"friend\",\"start\",\"army\",\"hand\",\"stand\",\"security\",\"getting\",\"use\",\"point\",\"face\",\"scam\",\"hard\",\"go\",\"free\",\"lot\",\"democracy\",\"matter\",\"till\",\"fool\",\"politician\",\"app\",\"shri\",\"seen\",\"citizen\",\"conduct\",\"long\",\"bring\",\"gujarat\",\"taken\",\"statement\",\"happened\",\"important\",\"post\",\"came\",\"amit\",\"pak\",\"asking\",\"bad\",\"hind\",\"proof\",\"god\",\"commission\",\"th\",\"working\",\"took\",\"lost\",\"difference\",\"month\",\"action\",\"future\",\"instead\",\"channel\",\"mind\",\"capability\",\"singh\",\"announced\",\"bhakt\",\"loan\",\"wish\",\"blame\",\"respect\",\"thought\",\"common\",\"bail\",\"woman\",\"antisatellite\",\"possible\",\"high\",\"income\",\"movie\",\"report\",\"care\",\"shot\",\"vision\",\"left\",\"place\",\"poverty\",\"save\",\"agenda\",\"asked\",\"responsible\",\"wave\",\"try\",\"youth\",\"cong\",\"modiji\",\"remember\",\"join\",\"project\",\"failure\",\"actually\",\"journalist\",\"war\",\"black\",\"delhi\",\"entire\",\"claim\",\"biggest\",\"low\",\"truth\",\"south\",\"fear\",\"run\",\"defeat\",\"supporting\",\"idea\",\"model\",\"agree\",\"majority\",\"biopic\",\"message\",\"speak\",\"update\",\"hatred\",\"set\",\"show\",\"kind\",\"super\",\"kashmir\",\"ahead\",\"main\",\"clear\",\"follow\",\"won\",\"far\",\"waiting\",\"nda\",\"single\",\"happen\",\"old\",\"voting\",\"soon\",\"chance\",\"economic\",\"ready\",\"forget\",\"second\",\"history\",\"end\",\"level\",\"past\",\"give\",\"plan\",\"raga\",\"safe\",\"huge\",\"business\",\"trust\",\"able\",\"different\",\"story\",\"growth\",\"launch\",\"told\",\"law\",\"created\",\"successfully\",\"twitter\",\"number\",\"film\",\"make\",\"result\",\"unemployment\",\"comment\",\"fan\",\"priyanka\",\"act\",\"assam\",\"clean\",\"get\",\"lac\",\"pls\",\"share\",\"moment\",\"indira\",\"check\",\"successful\",\"constituency\",\"doubt\",\"announce\",\"ticket\",\"worry\",\"mallya\",\"institution\",\"propaganda\",\"having\",\"wait\",\"jail\",\"shoot\",\"president\",\"open\",\"benefit\",\"nyay\",\"courage\",\"hit\",\"lol\",\"debate\",\"defence\",\"social\",\"take\",\"ambani\",\"pay\",\"destroyed\",\"list\",\"thinking\",\"reality\",\"reply\",\"arnab\",\"expect\",\"hater\",\"isnt\",\"dream\",\"leave\",\"target\",\"vijay\",\"home\",\"release\",\"paid\",\"imran\",\"view\",\"press\",\"ground\",\"return\",\"request\",\"antimodi\",\"article\",\"stupid\",\"brought\",\"soldier\",\"went\",\"deal\",\"honest\",\"class\",\"khan\",\"line\",\"game\",\"yogi\",\"lose\",\"rest\",\"meerut\",\"aap\",\"london\",\"regime\",\"self\",\"achieved\",\"head\",\"liberal\",\"elected\",\"he\",\"jumla\",\"idiot\",\"balakot\",\"kya\",\"official\",\"logic\",\"dynasty\",\"pradesh\",\"data\",\"foreign\",\"voted\",\"member\",\"land\",\"master\",\"can\",\"nahi\",\"wonder\",\"definitely\",\"april\",\"scared\",\"step\",\"meeting\",\"bhai\",\"body\",\"mumkin\",\"high_voltage\",\"create\",\"choice\",\"wanted\",\"whats\",\"mistake\",\"personal\",\"pulwama\",\"listen\",\"narrative\",\"minority\",\"pakistani\",\"sorry\",\"remove\",\"rich\",\"education\",\"earth\",\"effort\",\"fighting\",\"earlier\",\"killed\",\"weapon\",\"sense\",\"winning\",\"aur\",\"jawan\",\"young\",\"changed\",\"gone\",\"gut\",\"har\",\"note\",\"brother\",\"million\",\"blind\",\"general\",\"rafale\",\"alliance\",\"false\",\"didn\",\"continue\",\"march\",\"form\",\"gang\",\"jee\",\"contesting\",\"opinion\",\"joke\",\"order\",\"victory\",\"language\",\"technology\",\"group\",\"including\",\"child\",\"stay\",\"ram\",\"destroy\",\"educated\",\"international\",\"chowkidars\",\"father\",\"house\",\"atleast\",\"orbit\",\"lead\",\"son\",\"hell\",\"simple\",\"heard\",\"opportunity\",\"era\",\"loot\",\"source\",\"that\",\"rajan\",\"sonia\",\"exactly\",\"correct\",\"employment\",\"looking\",\"minute\",\"ndtv\",\"small\",\"threat\",\"drama\",\"prove\",\"led\",\"minimum\",\"accept\",\"major\",\"karnataka\",\"trailer\",\"follower\",\"praise\",\"abuse\",\"happens\",\"road\",\"enemy\",\"feeling\",\"tenure\",\"economist\",\"situation\",\"slogan\",\"terrorism\",\"busy\",\"decade\",\"according\",\"hour\",\"raid\",\"week\",\"odisha\",\"present\",\"card\",\"showing\",\"rd\",\"heart\",\"permission\",\"advani\",\"amethi\",\"clearly\",\"previous\",\"trump\",\"worst\",\"peace\",\"plz\",\"hain\",\"north\",\"speaking\",\"play\",\"visit\",\"addressing\",\"gst\",\"terror\",\"cost\",\"fund\",\"allowed\",\"republic\",\"running\",\"current\",\"calling\",\"progress\",\"program\",\"company\",\"shown\",\"office\",\"record\",\"ji\",\"launched\",\"baar\",\"desh\",\"living\",\"voice\",\"abt\",\"kar\",\"nationalist\",\"role\",\"wah\",\"known\",\"shameless\",\"toh\",\"coz\",\"demonetisation\",\"death\",\"picture\",\"brain\",\"governance\",\"doesn\",\"course\",\"deserve\",\"violation\",\"challenge\",\"actor\",\"link\",\"option\",\"rate\",\"religion\",\"send\",\"hold\",\"playing\",\"desperate\",\"express\",\"learn\",\"based\",\"adani\",\"guess\",\"mother\",\"middle\",\"type\",\"victory_hand\",\"youre\",\"kumar\",\"manmohan\",\"decided\",\"stopped\",\"fraud\",\"shit\",\"spread\",\"pro\",\"kill\",\"ago\",\"community\",\"position\",\"turn\",\"choose\",\"example\",\"saw\",\"btw\",\"jammu\",\"lack\",\"govts\",\"conference\",\"happening\",\"tried\",\"attention\",\"st\",\"kejriwal\",\"worker\",\"knowledge\",\"parliament\",\"wow\",\"telling\",\"welcome\",\"gain\",\"rupee\",\"theatre\",\"allow\",\"developed\",\"absolutely\",\"photo\",\"sad\",\"powerful\",\"totally\",\"yeah\",\"yesterday\",\"little\",\"nationalism\",\"village\",\"write\",\"city\",\"complete\",\"decide\",\"denied\",\"following\",\"meet\",\"provide\",\"built\",\"railway\",\"speaks\",\"ensure\",\"special\",\"freedom\",\"unlike\",\"ban\",\"bar\",\"compare\",\"image\",\"judge\",\"despite\",\"favour\",\"watching\",\"fall\",\"kuch\",\"easy\",\"upcoming\",\"afraid\",\"hey\",\"bjps\",\"elite\",\"finally\",\"kept\",\"pm\",\"worked\",\"capable\",\"jaitley\",\"liar\",\"proved\",\"hear\",\"performance\",\"sector\",\"bcoz\",\"series\",\"officer\",\"superpower\",\"seriously\",\"there\",\"questioning\",\"salute\",\"bangalore\",\"respected\",\"forward\",\"society\",\"worth\",\"armed\",\"completely\",\"criminal\",\"department\",\"appeal\",\"eye\",\"notice\",\"evidence\",\"madam\",\"price\",\"deposit\",\"increase\",\"nice\",\"call\",\"mein\",\"remain\",\"andhra\",\"aware\",\"chowkidaar\",\"congrats\",\"hearing\",\"loss\",\"response\",\"book\",\"building\",\"asks\",\"match\",\"water\",\"wife\",\"surely\",\"area\",\"gdp\",\"joker\",\"spreading\",\"non\",\"secular\",\"seeing\",\"total\",\"looted\",\"modishah\",\"patriotism\",\"dangerous\",\"pride\",\"publicity\",\"campaigning\",\"food\",\"governor\",\"loose\",\"communal\",\"counter\",\"mm\",\"service\",\"sold\",\"creating\",\"dare\",\"hatao\",\"imagine\",\"directly\",\"tea\",\"cbi\",\"reach\",\"worried\",\"din\",\"phir\",\"star\",\"constitution\",\"expected\",\"ideology\",\"selling\",\"tamil\",\"blaming\",\"bro\",\"build\",\"needed\",\"rbi\",\"russia\",\"cabinet\",\"ruling\",\"antinational\",\"buy\",\"maybe\",\"sent\",\"vajpayee\",\"crony\",\"generation\",\"human\",\"ministry\",\"electoral\",\"kerala\",\"dog\",\"health\",\"bigger\",\"cause\",\"pic\",\"late\",\"planning\",\"rural\",\"announces\",\"appreciate\",\"control\",\"highest\",\"justice\",\"nonsense\",\"centre\",\"event\",\"men\",\"moron\",\"negative\",\"one\",\"hero\",\"massive\",\"smart\",\"military\",\"mumbai\",\"gov\",\"kid\",\"losing\",\"standard\",\"central\",\"deliver\",\"gas\",\"file\",\"mrmodi\",\"culture\",\"hide\",\"skill\",\"achieve\",\"age\",\"half\",\"oppose\",\"status\",\"abhinandan\",\"budget\",\"joshi\",\"research\",\"riot\",\"focus\",\"science\",\"school\",\"toilet\",\"explain\",\"growing\",\"hindi\",\"positive\",\"maker\",\"rajasthan\",\"population\",\"similar\",\"ghar\",\"mention\",\"chit\",\"difficult\",\"exposed\",\"red_heart\",\"deserves\",\"intellectual\",\"killing\",\"latest\",\"nuclear\",\"raise\",\"simply\",\"east\",\"hindustan\",\"name\",\"sab\",\"seek\",\"supported\",\"gonna\",\"sri\",\"caste\",\"credited\",\"tomorrow\",\"transfer\",\"lying\",\"raghuram\",\"double\",\"increased\",\"programme\",\"thousand\",\"dumb\",\"involved\",\"openly\",\"turned\",\"cr\",\"independence\",\"sell\",\"zero\",\"who\",\"border\",\"paper\",\"strength\",\"survey\",\"tough\",\"waste\",\"breaking\",\"claimed\",\"concerned\",\"train\",\"bengal\",\"contribution\",\"detail\",\"feku\",\"likely\",\"basic\",\"disaster\",\"kashmiri\",\"local\",\"completed\",\"enjoy\",\"related\",\"degree\",\"fourth\",\"mass\",\"quality\",\"protect\",\"writes\",\"independent\",\"letter\",\"rise\",\"swamy\",\"cry\",\"figure\",\"mouth\",\"add\",\"fellow\",\"ill\",\"sitting\",\"united\",\"bollywood\",\"chair\",\"later\",\"senior\",\"bihar\",\"elect\",\"fun\",\"song\",\"destroying\",\"forever\",\"global\",\"billion\",\"luck\",\"market\",\"raj\",\"belief\",\"demonetization\",\"faith\",\"shouldnt\",\"value\",\"hindutva\",\"lady\",\"night\",\"probably\",\"tested\",\"boarding\",\"delivered\",\"handle\",\"mentioned\",\"strategy\",\"gujrat\",\"born\",\"declared\",\"period\",\"beat\",\"freebie\",\"slave\",\"charge\",\"fir\",\"helped\",\"especially\",\"fine\",\"helping\",\"west\",\"written\",\"crime\",\"offer\",\"opposing\",\"ruled\",\"shooting\",\"begin\",\"close\",\"daily\",\"date\",\"mamata\",\"temple\",\"bringing\",\"democratic\",\"student\",\"fascist\",\"abusing\",\"criticize\",\"implemented\",\"male_sign\",\"manifesto\",\"morning\",\"vadra\",\"amazing\",\"grow\",\"knew\",\"operation\",\"standing\",\"cell\",\"cheap\",\"download\",\"field\",\"information\",\"popularity\",\"rajdeep\",\"acting\",\"crowd\",\"demand\",\"journey\",\"tejasvi\",\"dead\",\"pas\",\"secret\",\"marketing\",\"duty\",\"fair\",\"kcr\",\"nd\",\"worse\",\"accused\",\"joining\",\"chaiwala\",\"excellent\",\"fail\",\"fugitive\",\"kick\",\"saraswat\",\"confidence\",\"piece\",\"tha\",\"niti\",\"personally\",\"surya\",\"journalism\",\"violate\",\"\\u0936\\u092c\\u091a\",\"girl\",\"surprise\",\"announcing\",\"demonetised\",\"vivek\",\"confident\",\"impact\",\"promising\",\"responsibility\",\"short\",\"bos\",\"expert\",\"troll\",\"biryani\",\"counting\",\"effect\",\"interesting\",\"remonetise\",\"required\",\"spent\",\"surprised\",\"agency\",\"biased\",\"desperation\",\"fought\",\"iaf\",\"released\",\"shut\",\"foot\",\"shameful\",\"truly\",\"tune\",\"basis\",\"contested\",\"inflation\",\"innocent\",\"supreme\",\"testing\",\"antiindia\",\"boy\",\"police\",\"popular\",\"shortly\",\"sound\",\"break\",\"cut\",\"hail\",\"provided\",\"you\",\"bit\",\"slam\",\"forced\",\"bcz\",\"concern\",\"cow\",\"perfect\",\"survive\",\"welfare\",\"cast\",\"insult\",\"plea\",\"analysis\",\"attempt\",\"kiya\",\"reform\",\"teach\",\"uttar\",\"fault\",\"height\",\"initiative\",\"inr\",\"jet\",\"kindly\",\"mam\",\"producer\",\"silent\",\"sky\",\"useless\",\"joined\",\"lesson\",\"movement\",\"award\",\"direct\",\"feat\",\"funny\",\"naidu\",\"process\",\"congratulate\",\"jay\",\"putting\",\"chose\",\"condition\",\"develop\",\"patriot\",\"questioned\",\"cash\",\"eat\",\"spoke\",\"track\",\"here\",\"mark\",\"outside\",\"telangana\",\"traitor\",\"unemployed\",\"battle\",\"compared\",\"property\",\"thief\",\"bold\",\"environment\",\"owaisi\",\"visionary\",\"foolish\",\"guarantee\",\"hurt\",\"opponent\",\"rajiv\",\"showed\",\"throw\",\"argument\",\"available\",\"criticism\",\"fully\",\"thug\",\"tweeted\",\"usual\",\"alternative\",\"bless\",\"large\",\"credibility\",\"grand\",\"ran\",\"sit\",\"anybody\",\"bluff\",\"keep\",\"praising\",\"section\",\"anil\",\"arrested\",\"forgot\",\"held\",\"poorest\",\"vikas\",\"wasnt\",\"die\",\"priority\",\"shall\",\"youtube\",\"art\",\"beloved\",\"everybody\",\"exclusive\",\"gift\",\"suffering\",\"suit\",\"union\",\"individual\",\"plus\",\"anymore\",\"club\",\"count\",\"economics\",\"implement\",\"largest\",\"style\",\"nomination\",\"removed\",\"usa\",\"addressed\",\"bloody\",\"ignore\",\"financial\",\"isi\",\"stage\",\"stronger\",\"writing\",\"electricity\",\"jumlas\",\"masood\",\"unfortunately\",\"arunachal\",\"carry\",\"connection\",\"goswami\",\"near\",\"eci\",\"fast\",\"reelected\",\"sharma\",\"shud\",\"advantage\",\"allegation\",\"blamed\",\"bsp\",\"dirty\",\"expose\",\"narender\",\"paying\",\"missing\",\"recent\",\"weak\",\"wouldnt\",\"bsf\",\"easily\",\"established\",\"haha\",\"sleep\",\"arun\",\"cover\",\"raised\",\"consider\",\"king\",\"min\",\"criticise\",\"developing\",\"hitler\",\"mehul\",\"arent\",\"certainly\",\"decisive\",\"english\",\"fulfilled\",\"npa\",\"gadkari\",\"highlight\",\"inside\",\"maximum\",\"neutral\",\"puppet\",\"violence\",\"atal\",\"garibi\",\"impossible\",\"reaction\",\"scientific\",\"apart\",\"blood\",\"brave\",\"complaint\",\"engineer\",\"finance\",\"hat\",\"mcc\",\"serve\",\"thread\",\"brand\",\"declare\",\"deep\",\"jagan\",\"nod\",\"pain\",\"yojana\",\"atm\",\"divide\",\"light\",\"lynching\",\"obviously\",\"pray\",\"risk\",\"university\",\"assembly\",\"beef\",\"congi\",\"congressi\",\"crisis\",\"defeated\",\"escape\",\"factor\",\"fooled\",\"key\",\"patel\",\"resource\",\"seeking\",\"topic\",\"claiming\",\"core\",\"fooling\",\"gimmick\",\"km\",\"mamta\",\"meant\",\"miss\",\"religious\",\"wayanad\",\"witness\",\"extradition\",\"jobless\",\"league\",\"mp\",\"urge\",\"airport\",\"congis\",\"earn\",\"higher\",\"pathetic\",\"sacked\",\"spend\",\"yadav\",\"added\",\"brilliant\",\"coward\",\"mata\",\"payer\",\"pmo\",\"sinha\",\"funding\",\"hypocrisy\",\"incident\",\"interested\",\"liye\",\"lutyens\",\"pocket\",\"realise\",\"sake\",\"smiling_face\",\"bigot\",\"comparison\",\"danger\",\"evil\",\"promoting\",\"targeted\",\"baba\",\"babu\",\"character\",\"choksi\",\"loksabha\",\"actual\",\"crook\",\"defend\",\"pass\",\"prof\",\"web\",\"equal\",\"final\",\"intelligent\",\"leading\",\"mad\",\"private\",\"secure\",\"spirit\",\"travel\",\"facing\",\"goal\",\"met\",\"sister\",\"balance\",\"director\",\"dude\",\"followed\",\"kanhaiya\",\"northeast\",\"personality\",\"recently\",\"sign\",\"solution\",\"wednesday\",\"average\",\"hating\",\"keeping\",\"named\",\"par\",\"played\",\"received\",\"safety\",\"street\",\"subsidy\",\"wud\",\"ability\",\"hello\",\"intelligence\",\"pressure\",\"pure\",\"asset\",\"career\",\"chokidar\",\"committed\",\"irani\",\"moving\",\"page\",\"rahuls\",\"looting\",\"nhi\",\"oberoi\",\"rejected\",\"thrown\",\"tht\",\"emergency\",\"havent\",\"mai\",\"mar\",\"mudra\",\"pledge\",\"reduced\",\"hahaha\",\"listening\",\"mindset\",\"stunt\",\"wake\",\"whatsapp\",\"baat\",\"badly\",\"british\",\"creation\",\"debris\",\"goon\",\"repeat\",\"ball\",\"blessing\",\"gun\",\"headline\",\"mess\",\"painting\",\"region\",\"wing\",\"yeh\",\"cup\",\"defense\",\"diya\",\"providing\",\"saved\",\"urban\",\"activity\",\"newspaper\",\"reject\",\"shouting\",\"sleeping\",\"timing\",\"ally\",\"honourable\",\"isn\",\"kudos\",\"literally\",\"promote\",\"reading\",\"as\",\"confused\",\"infrastructure\",\"mla\",\"agreed\",\"authority\",\"intention\",\"knowing\",\"mock\",\"rhetoric\",\"wala\",\"bengaluru\",\"limit\",\"supposed\",\"visited\",\"akhilesh\",\"daughter\",\"highly\",\"spokesperson\",\"attitude\",\"damage\",\"dictator\",\"doval\",\"ganga\",\"margin\",\"mayawati\",\"opened\",\"pidis\",\"rahe\",\"suddenly\",\"trap\",\"wealth\",\"base\",\"changing\",\"digital\",\"greatest\",\"immediately\",\"influence\",\"mega\",\"approach\",\"clearance\",\"commitment\",\"basically\",\"content\",\"historic\",\"log\",\"path\",\"pilot\",\"tukde\",\"understanding\",\"absolute\",\"comparing\",\"conducted\",\"didi\",\"died\",\"illiterate\",\"jibe\",\"lalit\",\"lord\",\"loses\",\"opposed\",\"respond\",\"tag\",\"abroad\",\"ashamed\",\"indirectly\",\"ipl\",\"looter\",\"mandir\",\"proper\",\"trend\",\"agent\",\"bet\",\"boot\",\"chairman\",\"chant\",\"christian\",\"corporate\",\"energy\",\"mandate\",\"moral\",\"purpose\",\"talked\",\"victim\",\"wale\",\"what\",\"certain\",\"continues\",\"extremely\",\"industry\",\"remains\",\"reservation\",\"season\",\"angry\",\"collection\",\"fit\",\"push\",\"stone\",\"wise\",\"america\",\"chidambaram\",\"chinese\",\"early\",\"filled\",\"mere\",\"oppn\",\"tum\",\"us\",\"violated\",\"blinded\",\"direction\",\"earned\",\"importance\",\"maharashtra\",\"math\",\"smriti\",\"caught\",\"destruction\",\"discussion\",\"inspired\",\"manner\",\"measure\",\"murder\",\"organisation\",\"rocket\",\"sentiment\",\"solve\",\"understood\",\"banerjee\",\"capacity\",\"gujarati\",\"modibjp\",\"pretty\",\"rajnath\",\"remark\",\"shared\",\"sick\",\"white\",\"camp\",\"century\",\"everyday\",\"rafael\",\"reached\",\"sat\",\"treatment\",\"trick\",\"accepted\",\"attacked\",\"boost\",\"criticising\",\"honorable\",\"okay\",\"sanghi\",\"wonderful\",\"begging\",\"bomb\",\"digest\",\"experience\",\"felt\",\"hypocrite\",\"meaning\",\"missed\",\"platform\",\"regional\",\"arvind\",\"cbn\",\"committee\",\"demo\",\"expecting\",\"famous\",\"honesty\",\"served\",\"statue\",\"aim\",\"ani\",\"belong\",\"damn\",\"dole\",\"door\",\"enjoying\",\"google\",\"madhavan\",\"ruined\",\"startup\",\"unprecedented\",\"bought\",\"chest\",\"necessary\",\"rid\",\"study\",\"westminster\",\"dynamic\",\"filmmaker\",\"fix\",\"leo\",\"starting\",\"tweeting\",\"vadodara\",\"car\",\"copy\",\"janta\",\"loosing\",\"azhar\",\"bribe\",\"brigade\",\"dept\",\"godi\",\"lower\",\"magic\",\"planned\",\"punjab\",\"relation\",\"tak\",\"unable\",\"uncle\",\"uttarakhand\",\"wat\",\"banned\",\"duo\",\"realize\",\"sending\",\"strategic\",\"waiver\",\"wear\",\"bond\",\"cap\",\"ignored\",\"incompetent\",\"mode\",\"round\",\"suffer\",\"sun\",\"touch\",\"aayog\",\"carried\",\"chandrababu\",\"jealous\",\"sort\",\"soul\",\"stuff\",\"stupidity\",\"threatened\",\"trip\",\"uneducated\",\"upset\",\"anyways\",\"approval\",\"awesome\",\"bhakti\",\"celebrate\",\"disappointed\",\"disgusting\",\"fiscal\",\"folk\",\"frm\",\"jds\",\"laughing\",\"product\",\"saving\",\"swiss\",\"advice\",\"affair\",\"beneficiary\",\"distress\",\"entered\",\"extent\",\"nadu\",\"nota\",\"opposite\",\"raha\",\"suggest\",\"version\",\"attacking\",\"background\",\"belongs\",\"campaigner\",\"delay\",\"divert\",\"frustration\",\"launching\",\"race\",\"chai\",\"fulfill\",\"internal\",\"plane\",\"resign\",\"trouble\",\"anchor\",\"doctor\",\"fly\",\"improve\",\"interaction\",\"pnb\",\"stock\",\"tall\",\"block\",\"considered\",\"extra\",\"honble\",\"jan\",\"mental\",\"obvious\",\"percent\",\"rare\",\"serving\",\"center\",\"conversation\",\"corner\",\"dmk\",\"ecosystem\",\"initiated\",\"italian\",\"journos\",\"leftist\",\"reporter\",\"strengthen\",\"chanting\",\"civil\",\"laugh\",\"mob\",\"passed\",\"specially\",\"spending\",\"critic\",\"cross\",\"favor\",\"machine\",\"milestone\",\"protest\",\"burnol\",\"mentality\",\"normal\",\"original\",\"youngster\",\"aaj\",\"bachao\",\"bashing\",\"district\",\"employee\",\"friday\",\"interest\",\"longer\",\"mahagathbandhan\",\"wrote\",\"aside\",\"certificate\",\"coalition\",\"green\",\"irrespective\",\"maam\",\"sikh\",\"slap\",\"banking\",\"dedicated\",\"humble\",\"parent\",\"potential\",\"properly\",\"raja\",\"sarab\",\"shout\",\"taxpayer\",\"walk\",\"anger\",\"bullshit\",\"congratulated\",\"dynast\",\"ensured\",\"fuck\",\"gaya\",\"israel\",\"leaving\",\"pradhan\",\"salary\",\"strongly\",\"tech\",\"theory\",\"advertisement\",\"alive\",\"apply\",\"barking\",\"birth\",\"bridge\",\"confirmed\",\"hiding\",\"hinduism\",\"increasing\",\"partner\",\"pity\",\"regard\",\"thumping\",\"treat\",\"active\",\"ashwin\",\"brahmin\",\"coverage\",\"critical\",\"debt\",\"discus\",\"fails\",\"kalyan\",\"nervous\",\"pet\",\"retweet\",\"rudrapur\",\"awareness\",\"beginning\",\"deny\",\"expectation\",\"fighter\",\"hum\",\"institute\",\"introduced\",\"judiciary\",\"legal\",\"patriotic\",\"replace\",\"western\",\"arrest\",\"changer\",\"constitutional\",\"corrupts\",\"criticizing\",\"dbt\",\"islamic\",\"kicked\",\"lawyer\",\"magistrate\",\"moon\",\"paisa\",\"phase\",\"sharing\",\"shree\",\"tshirts\",\"venom\",\"bahadur\",\"blindly\",\"convince\",\"dailyhunt\",\"forgotten\",\"gold\",\"honour\",\"obsessed\",\"pidi\",\"sale\",\"willing\",\"wire\",\"wisely\",\"abdullah\",\"avoid\",\"blocked\",\"burn\",\"click\",\"faced\",\"finger\",\"firm\",\"hardly\",\"honestly\",\"intolerance\",\"lover\",\"managed\",\"prosperous\",\"refused\",\"represent\",\"wasted\",\"appears\",\"bias\",\"bullet\",\"cheated\",\"investigation\",\"ive\",\"koi\",\"loworbit\",\"malya\",\"scenario\",\"surjewala\",\"toi\",\"watched\",\"asia\",\"bunch\",\"currency\",\"dignity\",\"husband\",\"mobile\",\"mocking\",\"upto\",\"becoz\",\"catch\",\"extremist\",\"feed\",\"finish\",\"manohar\",\"mnrega\",\"sanghis\",\"search\",\"watchman\",\"arm\",\"auction\",\"blunder\",\"comedy\",\"divided\",\"foundation\",\"greater\",\"hint\",\"karo\",\"licking\",\"lion\",\"praised\",\"scrap\",\"stick\",\"stooge\",\"stroke\",\"thursday\",\"behalf\",\"blast\",\"broadcast\",\"currently\",\"ease\",\"hon\",\"implementation\",\"straight\",\"subject\",\"tour\",\"unfortunate\",\"unity\",\"communist\",\"cricket\",\"criticised\",\"genuine\",\"holding\",\"insulting\",\"limited\",\"mig\",\"phone\",\"pull\",\"reddy\",\"rival\",\"row\",\"strengthening\",\"suicide\",\"alleged\",\"corrupted\",\"dig\",\"erosnow\",\"evm\",\"network\",\"practice\",\"sabka\",\"see\",\"sena\",\"wondering\",\"chaukidar\",\"crap\",\"flop\",\"inch\",\"nsa\",\"speed\",\"taraf\",\"bye\",\"cheat\",\"convert\",\"drive\",\"frustrated\",\"lotus\",\"lucky\",\"pick\",\"rao\",\"signal\",\"silence\",\"somebody\",\"station\",\"capitalist\",\"celebrating\",\"clown\",\"healthcare\",\"illegal\",\"modern\",\"nair\",\"oath\",\"profile\",\"proven\",\"rubbish\",\"strict\",\"betterment\",\"blah\",\"episode\",\"fakendra\",\"hidden\",\"loser\",\"masterstroke\",\"merchandise\",\"naam\",\"perception\",\"politically\",\"stated\",\"tactic\",\"targeting\",\"theyre\",\"visible\",\"arrogance\",\"ayog\",\"breakthrough\",\"contract\",\"disgrace\",\"investment\",\"omg\",\"presence\",\"progressive\",\"raising\",\"rattled\",\"rightly\",\"scale\",\"sensible\",\"stood\",\"struggle\",\"tmc\",\"winner\",\"youll\",\"abused\",\"affect\",\"apple\",\"burning\",\"buying\",\"comedian\",\"drop\",\"dynastic\",\"eating\",\"editor\",\"guru\",\"hoga\",\"infact\",\"loved\",\"removing\",\"scene\",\"steal\",\"utter\",\"wanna\",\"apne\",\"conspiracy\",\"cool\",\"dalits\",\"defending\",\"finding\",\"finished\",\"identity\",\"josh\",\"lal\",\"online\",\"petrol\",\"quote\",\"red\",\"richest\",\"secularism\",\"sphere\",\"suggestion\",\"wearing\",\"airforce\",\"allowing\",\"billionaire\",\"bother\",\"college\",\"crazy\",\"empowering\",\"flag\",\"karma\",\"learnt\",\"lowest\",\"mantri\",\"multiple\",\"objective\",\"offered\",\"qualification\",\"revenge\",\"shift\",\"tear\",\"abhi\",\"abki\",\"ayushman\",\"existing\",\"facebook\",\"favourite\",\"hoping\",\"improved\",\"irony\",\"legacy\",\"neerav\",\"no\",\"particular\",\"radio\",\"relationship\",\"side\",\"transferred\",\"uturn\",\"veteran\",\"adityanath\",\"apparently\",\"harm\",\"housing\",\"informed\",\"mood\",\"pappus\",\"peaceful\",\"sends\",\"silly\",\"tamilnadu\",\"task\",\"twice\",\"waived\",\"wasting\",\"afford\",\"closed\",\"communication\",\"document\",\"equally\",\"exchief\",\"exist\",\"fastest\",\"fired\",\"helicopter\",\"integrity\",\"invite\",\"murderer\",\"proposal\",\"revolution\",\"ridiculous\",\"suffered\",\"wishing\",\"yojna\",\"accepting\",\"agar\",\"antinationals\",\"baby\",\"diplomacy\",\"female_sign\",\"glad\",\"internet\",\"misuse\",\"modified\",\"poster\",\"promotion\",\"protecting\",\"ride\",\"significant\",\"spoken\",\"symbol\",\"upper\",\"bear\",\"bigotry\",\"blog\",\"bright\",\"dividing\",\"fantastic\",\"move\",\"nature\",\"pandit\",\"prefer\",\"principle\",\"select\",\"shd\",\"application\",\"bjpmodi\",\"chosen\",\"dat\",\"excuse\",\"exposing\",\"forgive\",\"gutter\",\"haryana\",\"holder\",\"humanity\",\"lata\",\"nitin\",\"panel\",\"representative\",\"setting\",\"turning\",\"waited\",\"airline\",\"answered\",\"approved\",\"connect\",\"defame\",\"dis\",\"evident\",\"explained\",\"follows\",\"hota\",\"killer\",\"loving\",\"opening\",\"parliamentary\",\"print\",\"professional\",\"proposed\",\"realised\",\"recovered\",\"shatrughan\",\"sympathy\",\"talent\",\"teacher\",\"tej\",\"trusted\",\"tsunami\",\"achieving\",\"aircraft\",\"appear\",\"cheer\",\"competition\",\"couple\",\"desire\",\"dreaming\",\"eliminate\",\"formed\",\"mantra\",\"nawaz\",\"nearly\",\"oil\",\"shocking\",\"sirf\",\"site\",\"advance\",\"airstrike\",\"ajit\",\"chamcha\",\"chill\",\"chutiya\",\"existence\",\"expense\",\"fed\",\"forest\",\"gupta\",\"misleading\",\"peak\",\"registered\",\"releasing\",\"tree\",\"tulsi\",\"assure\",\"beautiful\",\"believed\",\"bound\",\"celebrity\",\"dawood\",\"eagerly\",\"jump\",\"mahatma\",\"nahin\",\"rank\",\"reelection\",\"relative\",\"sanction\",\"score\",\"spot\",\"they\",\"tie\",\"aka\",\"andh\",\"annual\",\"assured\",\"behave\",\"blessed\",\"citizenship\",\"considering\",\"da\",\"disagree\",\"dislike\",\"expression\",\"farm\",\"filed\",\"highway\",\"hitting\",\"intent\",\"islam\",\"jnu\",\"joint\",\"middleman\",\"offender\",\"papu\",\"requested\",\"thackeray\",\"tho\",\"trending\",\"airstrikes\",\"alert\",\"appeasement\",\"enter\",\"facility\",\"hema\",\"idiotic\",\"inspite\",\"pakoda\",\"payment\",\"remind\",\"sentence\",\"stalin\",\"subscribe\",\"viral\",\"achhe\",\"carefully\",\"carrying\",\"construction\",\"declares\",\"ego\",\"empowerment\",\"explains\",\"gaye\",\"organization\",\"pmmodi\",\"quick\",\"rock\",\"shop\",\"television\",\"valid\",\"administration\",\"admit\",\"agriculture\",\"arrival\",\"bal\",\"complaining\",\"deficit\",\"deposited\",\"desperately\",\"falling\",\"flight\",\"guard\",\"hashtag\",\"inform\",\"itna\",\"janata\",\"kurnool\",\"liked\",\"orop\",\"possibility\",\"prepared\",\"reaching\",\"remarkable\",\"saal\",\"selected\",\"signed\",\"stopping\",\"the\",\"tv\",\"violating\",\"waah\",\"ambanis\",\"backing\",\"capital\",\"connectivity\",\"controlled\",\"dialogue\",\"earning\",\"effective\",\"granted\",\"jacket\",\"lpg\",\"mera\",\"mom\",\"noticed\",\"ordinary\",\"pace\",\"pdp\",\"proudly\",\"punish\",\"reveals\",\"sacrifice\",\"thankful\",\"activist\",\"asaduddin\",\"calculation\",\"complain\",\"injustice\",\"issued\",\"lied\",\"mafia\",\"pending\",\"pseudo\",\"recover\",\"root\",\"tejaswi\",\"typical\",\"understands\",\"urmila\",\"american\",\"appointed\",\"arrogant\",\"baap\",\"cent\",\"co\",\"colour\",\"consequence\",\"controversy\",\"dictatorship\",\"dollar\",\"failing\",\"kaam\",\"natural\",\"posted\",\"put\",\"roll\",\"room\",\"sought\",\"surprising\",\"accountable\",\"bangladesh\",\"couldn\",\"dad\",\"dhan\",\"hardworking\",\"heavy\",\"ignoring\",\"improving\",\"inspiration\",\"italy\",\"lier\",\"loyalty\",\"miserably\",\"mr\",\"offering\",\"permanent\",\"sadly\",\"sarkaar\",\"aspiration\",\"category\",\"cheating\",\"conclusion\",\"corporates\",\"export\",\"hyderabad\",\"ignorant\",\"noon\",\"norm\",\"overall\",\"rant\",\"relief\",\"shiv\",\"theatrics\",\"tracker\",\"yaar\",\"abusive\",\"acche\",\"acronym\",\"annum\",\"assume\",\"brings\",\"cartoon\",\"ceo\",\"discussing\",\"due\",\"duffer\",\"evening\",\"exam\",\"funded\",\"heavily\",\"industrialist\",\"jawaharlal\",\"labour\",\"logo\",\"medical\",\"memory\",\"part\",\"reduce\",\"replied\",\"spare\",\"tdp\",\"website\",\"aspect\",\"bark\",\"bootlicker\",\"bus\",\"complained\",\"cylinder\",\"elder\",\"flat\",\"insulted\",\"invented\",\"laid\",\"maha\",\"published\",\"saint\",\"shamelessly\",\"spine\",\"subramanian\",\"appreciated\",\"converted\",\"dhruv\",\"divisive\",\"encourage\",\"eros\",\"excited\",\"guilty\",\"hua\",\"insurance\",\"jii\",\"learning\",\"manufacturing\",\"mocked\",\"outcome\",\"propoganda\",\"reporting\",\"servant\",\"taught\",\"tribute\",\"tshirt\",\"zee\",\"began\",\"clip\",\"concept\",\"economically\",\"eradicate\",\"examine\",\"existed\",\"extreme\",\"herald\",\"hungry\",\"info\",\"jharkhand\",\"justify\",\"looked\",\"owner\",\"pre\",\"rail\",\"rising\",\"ruin\",\"sath\",\"solid\",\"strange\",\"appropriate\",\"bbc\",\"board\",\"chamchas\",\"context\",\"crpf\",\"ended\",\"factory\",\"foul\",\"happiness\",\"hospital\",\"include\",\"irrelevant\",\"leap\",\"location\",\"management\",\"produce\",\"rape\",\"ravi\",\"refuse\",\"resolve\",\"secretary\",\"shocked\",\"sushma\",\"transparency\",\"aadhar\",\"akhnoor\",\"bat\",\"bothered\",\"calm\",\"careful\",\"deed\",\"distribute\",\"division\",\"fate\",\"hopefully\",\"hype\",\"mat\",\"mile\",\"motivated\",\"ofcourse\",\"saffron\",\"spell\",\"stadium\",\"threatening\",\"title\",\"town\",\"warning\",\"attend\",\"bag\",\"beg\",\"conviction\",\"convinced\",\"demanding\",\"diplomatic\",\"disastrous\",\"element\",\"explaining\",\"farooq\",\"hal\",\"inspiring\",\"krishna\",\"mileage\",\"moved\",\"ordered\",\"pant\",\"pellet\",\"probe\",\"profit\",\"pushed\",\"remaining\",\"sambit\",\"shirt\",\"accusing\",\"annually\",\"audience\",\"bol\",\"brainless\",\"civilian\",\"criticized\",\"directed\",\"driven\",\"improvement\",\"malini\",\"netanyahu\",\"omar\",\"pakis\",\"prior\",\"sharab\",\"specific\",\"thi\",\"tight\",\"tired\",\"uri\",\"wisdom\",\"assault\",\"commenting\",\"complex\",\"congratulates\",\"covered\",\"everytime\",\"fell\",\"index\",\"lazy\",\"logical\",\"marriage\",\"saath\",\"screen\",\"searching\",\"shifting\",\"survival\",\"treated\",\"vande\",\"villager\",\"analyst\",\"ashok\",\"befitting\",\"church\",\"condemn\",\"decides\",\"dedication\",\"demonstration\",\"eligible\",\"empowered\",\"glory\",\"hav\",\"healthy\",\"javed\",\"jihadi\",\"narendar\",\"phd\",\"rapist\",\"remained\",\"speculation\",\"swachh\",\"tension\",\"trolling\",\"unbiased\",\"wage\",\"wall\",\"auctioned\",\"cleared\",\"denies\",\"dint\",\"flying\",\"fresh\",\"gandhinagar\",\"goa\",\"hr\",\"ignorance\",\"koraput\",\"learned\",\"patra\",\"phobia\",\"sardar\",\"secured\",\"selfish\",\"stature\",\"acknowledge\",\"bharath\",\"chowkidari\",\"contact\",\"continued\",\"credible\",\"curse\",\"deliberately\",\"delivery\",\"display\",\"drink\",\"fish\",\"formula\",\"headed\",\"interact\",\"jab\",\"netas\",\"petition\",\"prediction\",\"repeated\",\"satisfied\",\"shock\",\"speaker\",\"statesman\",\"sweep\",\"wouldn\",\"accuse\",\"bastard\",\"beware\",\"bharatiya\",\"collect\",\"conclave\",\"culprit\",\"demonitisation\",\"dying\",\"friendly\",\"haven\",\"hole\",\"hug\",\"kam\",\"lalu\",\"letting\",\"lick\",\"loyal\",\"owned\",\"pig\",\"prepare\",\"presidential\",\"punished\",\"retire\",\"soft\",\"stake\",\"strongest\",\"transformation\",\"tremendous\",\"trs\",\"uddhav\",\"venezuela\",\"aayega\",\"arithmetic\",\"backward\",\"bhakths\",\"birthday\",\"boast\",\"booth\",\"chors\",\"congratulating\",\"conversion\",\"crossed\",\"crucial\",\"damodardas\",\"dirt\",\"dnt\",\"european\",\"fucking\",\"fuel\",\"gowda\",\"karne\",\"map\",\"mongering\",\"naxals\",\"nris\",\"petty\",\"picked\",\"plant\",\"praying\",\"repeating\",\"review\",\"sangh\",\"sanjay\",\"stealing\",\"sunday\",\"technical\",\"unite\",\"vice\",\"wht\",\"wil\",\"aid\",\"ananth\",\"bihari\",\"blow\",\"cadre\",\"confirm\",\"correction\",\"countryman\",\"covering\",\"dark\",\"definition\",\"educate\",\"employed\",\"explanation\",\"gentleman\",\"historical\",\"manage\",\"minded\",\"passing\",\"pointing\",\"prize\",\"protection\",\"referring\",\"relevant\",\"requesting\",\"termed\",\"visa\",\"accomplishment\",\"angel\",\"broken\",\"chacha\",\"challenged\",\"clue\",\"contributing\",\"draw\",\"entry\",\"executed\",\"focused\",\"founder\",\"garbage\",\"genius\",\"golden\",\"heat\",\"jem\",\"kare\",\"machinery\",\"mask\",\"medicine\",\"misusing\",\"pandits\",\"profession\",\"puri\",\"realized\",\"receive\",\"reveal\",\"river\",\"sahab\",\"script\",\"secondly\",\"seized\",\"stuck\",\"tejaswini\",\"theprint\",\"accountability\",\"beating\",\"betrayed\",\"butcher\",\"challenging\",\"cm\",\"decent\",\"delayed\",\"fascism\",\"grade\",\"hot\",\"kapil\",\"karna\",\"massacre\",\"murli\",\"ohh\",\"opindia\",\"perform\",\"pitch\",\"pokhran\",\"professor\",\"quiet\",\"shouldn\",\"spineless\",\"stolen\",\"stoop\",\"tolerate\",\"urself\",\"visiting\",\"wasn\",\"wide\",\"woh\",\"writer\",\"accomplished\",\"advise\",\"affected\",\"aggressive\",\"ba\",\"dil\",\"fetch\",\"firmly\",\"grab\",\"graduate\",\"harmony\",\"hilarious\",\"married\",\"merely\",\"mohan\",\"paki\",\"presstitutes\",\"react\",\"reported\",\"stance\",\"verdict\",\"volunteer\",\"an\",\"aviation\",\"ayodhya\",\"bombay\",\"boycott\",\"bpl\",\"compete\",\"damodar\",\"dependent\",\"driver\",\"giriraj\",\"gohpur\",\"household\",\"kamal\",\"mentally\",\"mgnrega\",\"narendramodi\",\"pension\",\"proving\",\"revenue\",\"saturday\",\"shekhar\",\"sum\",\"technological\",\"telecast\",\"tool\",\"advertising\",\"angle\",\"choosing\",\"connected\",\"diamantaire\",\"effectively\",\"fame\",\"feather\",\"fyi\",\"gathbandhan\",\"grave\",\"hardcore\",\"hardwork\",\"helm\",\"i\",\"iam\",\"jaya\",\"limelight\",\"maintain\",\"mallaya\",\"nautanki\",\"officially\",\"produced\",\"register\",\"remote\",\"replaced\",\"succeed\",\"ujjwala\",\"access\",\"airway\",\"burden\",\"dalit\",\"disease\",\"dismissed\",\"dna\",\"drinking\",\"emotion\",\"emotional\",\"find\",\"fixed\",\"gathering\",\"handed\",\"hunger\",\"linked\",\"mercy\",\"mitron\",\"narinder\",\"player\",\"represents\",\"rti\",\"shine\",\"supply\",\"ultimately\",\"withdraws\",\"abhisar\",\"acceptable\",\"argue\",\"asshole\",\"automatically\",\"bjd\",\"bolo\",\"caused\",\"chahiye\",\"chap\",\"chowkidaars\",\"clarify\",\"demonstrate\",\"electrification\",\"ensuring\",\"eventually\",\"fallen\",\"fled\",\"goverment\",\"grown\",\"habit\",\"jio\",\"journo\",\"kanpur\",\"meme\",\"merit\",\"msg\",\"nowadays\",\"perfectly\",\"primary\",\"publicly\",\"purchase\",\"quint\",\"reference\",\"reminds\",\"salesman\",\"sane\",\"shining\",\"slow\",\"socalled\",\"soch\",\"solved\",\"superb\",\"abv\",\"ambassador\",\"artist\",\"astrologer\",\"back\",\"bahut\",\"barkha\",\"beaten\",\"buddy\",\"checked\",\"concentrate\",\"defaulter\",\"demonstrated\",\"dhoni\",\"discourse\",\"easier\",\"invited\",\"kaha\",\"loud\",\"noise\",\"obc\",\"prasad\",\"pushing\",\"rahi\",\"robert\",\"sha\",\"shape\",\"statistic\",\"stole\",\"sycophant\",\"wid\",\"youve\",\"absurd\",\"ad\",\"admire\",\"affordable\",\"bankrupt\",\"box\",\"commie\",\"copying\",\"discredit\",\"enters\",\"entertainment\",\"entrepreneur\",\"fearing\",\"feb\",\"fulfilling\",\"incredible\",\"jaitely\",\"kannada\",\"mangeshkar\",\"mentioning\",\"opp\",\"patna\",\"posting\",\"prince\",\"probing\",\"remembered\",\"sahib\",\"sardesai\",\"saudi\",\"scheduled\",\"selective\",\"sin\",\"slowly\",\"thanking\",\"theyll\",\"thn\",\"tourism\",\"usually\",\"worldwide\",\"associated\",\"backed\",\"bhakth\",\"blabbering\",\"button\",\"chowkidhar\",\"continuously\",\"contribute\",\"delivering\",\"disheartened\",\"dropped\",\"exercise\",\"founded\",\"fulfil\",\"giant\",\"godhra\",\"jaise\",\"jumped\",\"kisan\",\"kitna\",\"mirror\",\"mynt\",\"parivar\",\"particularly\",\"planet\",\"prosecution\",\"prosecutor\",\"scamsters\",\"screwed\",\"seller\",\"similarly\",\"suppose\",\"swing\",\"unbelievable\",\"xxxxx\",\"abe\",\"alien\",\"approve\",\"bent\",\"bite\",\"businessmen\",\"cleaning\",\"clueless\",\"coin\",\"command\",\"cud\",\"cutting\",\"demon\",\"diff\",\"discussed\",\"distributed\",\"emerge\",\"epic\",\"flee\",\"genocide\",\"imagination\",\"karan\",\"kumaraswamy\",\"liking\",\"maharaja\",\"nai\",\"neta\",\"organised\",\"outstanding\",\"performing\",\"personnel\",\"qualified\",\"rat\",\"require\",\"reserve\",\"retain\",\"returning\",\"sahi\",\"salman\",\"settle\",\"spin\",\"telugu\",\"transformed\",\"unhappy\",\"aadhaar\",\"advisor\",\"am\",\"anand\",\"anna\",\"attached\",\"band\",\"belt\",\"broke\",\"capture\",\"chori\",\"compromised\",\"conflict\",\"correctly\",\"declaring\",\"den\",\"deserved\",\"everyones\",\"favorite\",\"filing\",\"filthy\",\"forgetting\",\"fruit\",\"gap\",\"goyal\",\"greeting\",\"ideal\",\"intellect\",\"iran\",\"jain\",\"judgement\",\"leaf\",\"manager\",\"mislead\",\"mockery\",\"nose\",\"perspective\",\"relax\",\"requires\",\"sea\",\"shakthi\",\"sincerely\",\"stability\",\"teaching\",\"theater\",\"ashish\",\"believing\",\"blue\",\"breath\",\"camera\",\"champion\",\"coal\",\"commissioner\",\"confusion\",\"dalal\",\"defeating\",\"ethic\",\"exact\",\"gather\",\"heading\",\"hows\",\"imp\",\"instance\",\"instruction\",\"joy\",\"karte\",\"lifetime\",\"momentum\",\"naya\",\"nightmare\",\"panic\",\"poem\",\"pollution\",\"precious\",\"predicted\",\"prison\",\"promoted\",\"putin\",\"reign\",\"repeatedly\",\"responded\",\"sanctioned\",\"separate\",\"sibal\",\"singing\",\"subscription\",\"suck\",\"tone\",\"trillion\",\"universe\",\"worthy\",\"wtf\",\"accuses\",\"animal\",\"appreciation\",\"awaiting\",\"bana\",\"behaving\",\"bid\",\"bunker\",\"cancer\",\"chaos\",\"curious\",\"deprived\",\"faster\",\"gareebi\",\"handout\",\"hasn\",\"hue\",\"hundred\",\"ilk\",\"impressed\",\"inspire\",\"intolerant\",\"jha\",\"moran\",\"music\",\"negativity\",\"nri\",\"obama\",\"orator\",\"passport\",\"polling\",\"punishment\",\"purely\",\"queue\",\"quit\",\"regular\",\"revealed\",\"reverse\",\"reward\",\"rhe\",\"shankar\",\"shes\",\"shld\",\"soil\",\"taste\",\"teleprompter\",\"thy\",\"unfair\",\"witnessed\",\"wouldve\",\"behaviour\",\"celebration\",\"clothes\",\"constantly\",\"creates\",\"damaged\",\"doctrine\",\"electing\",\"equivalent\",\"establishment\",\"execution\",\"front\",\"gate\",\"hike\",\"influenced\",\"kabhi\",\"neglected\",\"outer\",\"percentage\",\"portfolio\",\"possibly\",\"prevent\",\"returned\",\"scum\",\"spoil\",\"stable\",\"switch\",\"tackle\",\"tat\",\"ugly\",\"unlikely\",\"versus\",\"advancement\",\"ahmedabad\",\"businessman\",\"candidature\",\"captain\",\"chhattisgarh\",\"colleague\",\"contrary\",\"courtesy\",\"dance\",\"dekho\",\"disclose\",\"donald\",\"dress\",\"enjoyed\",\"establish\",\"exception\",\"exchange\",\"exit\",\"gotten\",\"helpless\",\"horse\",\"investor\",\"khangress\",\"korea\",\"lesser\",\"liquor\",\"observation\",\"saheb\",\"session\",\"sharif\",\"sheer\",\"sirji\",\"staunch\",\"succeeded\",\"swami\",\"tata\",\"thier\",\"twitterati\",\"unique\",\"worship\",\"advocate\",\"aint\",\"ambition\",\"apna\",\"benefited\",\"beta\",\"broker\",\"bsnl\",\"classic\",\"contributed\",\"denge\",\"drug\",\"hardik\",\"importantly\",\"infiltration\",\"insane\",\"jhumla\",\"monger\",\"odd\",\"papa\",\"prachar\",\"pretending\",\"retired\",\"retirement\",\"reuters\",\"sam\",\"scare\",\"securing\",\"ship\",\"spy\",\"stating\",\"sub\",\"sufficient\",\"tiger\",\"trash\",\"weaker\",\"wipe\",\"apology\",\"appreciating\",\"aren\",\"assuming\",\"bhushan\",\"captured\",\"closer\",\"denying\",\"designed\",\"determined\",\"discovered\",\"evms\",\"fearful\",\"foe\",\"function\",\"gen\",\"goahead\",\"guj\",\"larger\",\"lived\",\"mainstream\",\"matondkar\",\"net\",\"nope\",\"opposes\",\"pack\",\"package\",\"passion\",\"pathankot\",\"prakash\",\"pretend\",\"researcher\",\"resort\",\"showcase\",\"snake\",\"thr\",\"trader\",\"trail\",\"younger\",\"zindabad\",\"adanis\",\"aiims\",\"allah\",\"allegedly\",\"answering\",\"applied\",\"atmosphere\",\"banker\",\"beggar\",\"cake\",\"chota\",\"commit\",\"congressman\",\"delivers\",\"error\",\"essential\",\"exists\",\"generated\",\"guidance\",\"hmm\",\"immature\",\"jailed\",\"jindabad\",\"mukesh\",\"myth\",\"nazi\",\"nsso\",\"posse\",\"procedure\",\"quoted\",\"rahulji\",\"rashtra\",\"reelect\",\"respective\",\"roy\",\"shadow\",\"sport\",\"surrender\",\"terrible\",\"tizzy\",\"trade\",\"waise\",\"wash\",\"witnessing\",\"ache\",\"acquired\",\"adding\",\"apologise\",\"atrocity\",\"bhim\",\"bogus\",\"brainwashed\",\"chal\",\"consult\",\"crack\",\"cursing\",\"dar\",\"declaration\",\"drag\",\"friendship\",\"generate\",\"hang\",\"identify\",\"industrial\",\"irresponsible\",\"kalam\",\"kia\",\"lecture\",\"lobby\",\"maa\",\"mature\",\"modihe\",\"monkey\",\"pan\",\"pawar\",\"photograph\",\"poison\",\"preparing\",\"racist\",\"ranking\",\"rathee\",\"recovery\",\"representing\",\"reversed\",\"separatist\",\"sudden\",\"tere\",\"trolled\",\"vehicle\",\"wiped\",\"aam\",\"addition\",\"additional\",\"aise\",\"attended\",\"baki\",\"bla\",\"blatant\",\"celebrated\",\"cheater\",\"childhood\",\"clever\",\"commander\",\"concrete\",\"donation\",\"dust\",\"eastern\",\"encouraging\",\"equality\",\"expensive\",\"extend\",\"flawed\",\"guaranteed\",\"guha\",\"heaven\",\"highlighting\",\"hoon\",\"illogical\",\"iron\",\"mataram\",\"motive\",\"nail\",\"occasion\",\"performed\",\"pillar\",\"plot\",\"prosperity\",\"rabid\",\"rational\",\"saab\",\"shashi\",\"smile\",\"socialism\",\"socialist\",\"studied\",\"sweet\",\"territory\",\"tharoor\",\"throwing\",\"timeline\",\"vacancy\",\"valley\",\"whistle\",\"withdraw\",\"aadmi\",\"anytime\",\"ate\",\"author\",\"baad\",\"bang\",\"belonging\",\"beti\",\"color\",\"credential\",\"dekh\",\"design\",\"destroys\",\"diverting\",\"efficient\",\"embarrassment\",\"experienced\",\"forming\",\"gayi\",\"glass\",\"globally\",\"handling\",\"iit\",\"immense\",\"included\",\"investigate\",\"isme\",\"item\",\"kaun\",\"matlab\",\"milk\",\"mlas\",\"mukt\",\"objection\",\"patient\",\"pulling\",\"rai\",\"rajeev\",\"rana\",\"randeep\",\"reliance\",\"size\",\"spbsp\",\"studio\",\"telegraph\",\"uniform\",\"universal\",\"velocity\",\"acknowledged\",\"advised\",\"ala\",\"analogy\",\"azad\",\"bharatvarsh\",\"circus\",\"collective\",\"continuing\",\"cooking\",\"cuz\",\"default\",\"donkey\",\"drdos\",\"empower\",\"fanatic\",\"hahahaha\",\"happily\",\"historian\",\"impression\",\"incapable\",\"indication\",\"jagannath\",\"knw\",\"msme\",\"neighbour\",\"now\",\"object\",\"plenty\",\"radical\",\"roadshow\",\"robust\",\"royal\",\"sanitation\",\"scrapped\",\"sen\",\"slept\",\"sole\",\"staff\",\"stats\",\"struggling\",\"suitable\",\"suspect\",\"tirelessly\",\"tongue\",\"tonight\",\"weather\",\"yechury\",\"academic\",\"bada\",\"bcos\",\"begusarai\",\"bench\",\"cafe\",\"chooses\",\"choukidar\",\"competent\",\"convey\",\"crash\",\"crediting\",\"dealing\",\"dent\",\"dominated\",\"educational\",\"electorate\",\"eliminated\",\"entitled\",\"firstpost\",\"focusing\",\"frankly\",\"freely\",\"indulge\",\"jaipur\",\"japan\",\"kyu\",\"lacked\",\"method\",\"motherland\",\"mujhe\",\"penny\",\"politicising\",\"populist\",\"practical\",\"precisely\",\"preparation\",\"prospect\",\"rajya\",\"random\",\"rating\",\"ravish\",\"reflects\",\"rogue\",\"rupani\",\"shoe\",\"sided\",\"sing\",\"sooner\",\"split\",\"struck\",\"table\",\"talented\",\"televised\",\"touched\",\"trp\",\"weve\",\"\\u0938\\u0930\\u0915\",\"abp\",\"accidental\",\"acquire\",\"allows\",\"atalji\",\"auto\",\"beauty\",\"bird\",\"bribing\",\"cancel\",\"capitalism\",\"cec\",\"cold\",\"corridor\",\"domestic\",\"endeavour\",\"expenditure\",\"gross\",\"holiday\",\"invest\",\"literate\",\"liya\",\"longest\",\"material\",\"megarally\",\"naturally\",\"neech\",\"park\",\"patience\",\"peddling\",\"piddis\",\"plank\",\"prada\",\"production\",\"pti\",\"ratna\",\"refer\",\"regret\",\"renamed\",\"route\",\"ruler\",\"sponsored\",\"surname\",\"sushil\",\"this\",\"thoda\",\"trial\",\"tuned\",\"ultimate\",\"undermining\",\"undertaken\",\"urdu\",\"vegetarian\",\"warrior\",\"yup\",\"admitted\",\"adopted\",\"arre\",\"audacity\",\"aunty\",\"bow\",\"conveniently\",\"crop\",\"detailed\",\"draft\",\"edge\",\"forcing\",\"france\",\"fundamental\",\"gained\",\"germany\",\"grace\",\"icon\",\"in\",\"kolkata\",\"metro\",\"minor\",\"myanmar\",\"neck\",\"nehruji\",\"nitish\",\"nobel\",\"participate\",\"polarising\",\"prashant\",\"prefix\",\"prevail\",\"previously\",\"printed\",\"prominent\",\"recognise\",\"responds\",\"rld\",\"rumour\",\"scoundrel\",\"scripted\",\"segment\",\"sez\",\"sham\",\"shoulder\",\"transaction\",\"twist\",\"vendetta\",\"wished\",\"zone\",\"airspace\",\"amount\",\"builder\",\"ca\",\"chalo\",\"controversial\",\"convicted\",\"cook\",\"creator\",\"cycle\",\"dal\",\"dancing\",\"darkness\",\"delete\",\"denial\",\"described\",\"devil\",\"dey\",\"diamond\",\"dishonest\",\"disrespect\",\"glimpse\",\"guide\",\"gujju\",\"hafiz\",\"hated\",\"immediate\",\"infra\",\"insecure\",\"kaftan\",\"keen\",\"legend\",\"length\",\"may\",\"misadventure\",\"misrule\",\"nephew\",\"noted\",\"opportunist\",\"pair\",\"placed\",\"range\",\"raul\",\"recall\",\"recognised\",\"reducing\",\"schedule\",\"slammed\",\"summer\",\"syndrome\",\"system\",\"tihar\",\"travelling\",\"welcomed\",\"wind\",\"accident\",\"acted\",\"akhtar\",\"alcohol\",\"antimissile\",\"arise\",\"arrange\",\"assessment\",\"banaras\",\"bedi\",\"bengali\",\"bhage\",\"bread\",\"cancelled\",\"cat\",\"chandra\",\"childish\",\"circle\",\"coffer\",\"confirms\",\"cricketer\",\"define\",\"dena\",\"dharma\",\"disclosed\",\"distance\",\"ear\",\"endorse\",\"feature\",\"firstly\",\"gautam\",\"gesture\",\"globe\",\"grateful\",\"gud\",\"implementing\",\"karyakartas\",\"kejri\",\"lovely\",\"luxury\",\"malik\",\"mani\",\"mil\",\"militant\",\"modibut\",\"modimodi\",\"naive\",\"ncp\",\"nepal\",\"ongoing\",\"precision\",\"presenting\",\"prostitute\",\"queen\",\"quickly\",\"quota\",\"rahulgandhi\",\"rakesh\",\"replying\",\"reserved\",\"rjd\",\"rssbjp\",\"sacrificed\",\"spite\",\"swaraj\",\"thanos\",\"theyve\",\"venue\",\"window\",\"agreement\",\"ahmed\",\"amendment\",\"amid\",\"anyay\",\"applies\",\"ass\",\"atomic\",\"bastion\",\"bjprss\",\"blowing\",\"bureaucrat\",\"clarity\",\"collected\",\"completion\",\"confuse\",\"congressis\",\"contrast\",\"cpi\",\"cunning\",\"demean\",\"driving\",\"dump\",\"endorsing\",\"extradited\",\"fee\",\"filth\",\"gaining\",\"goi\",\"grandfather\",\"grew\",\"handled\",\"holy\",\"import\",\"indigenous\",\"kim\",\"leg\",\"liability\",\"martyr\",\"maya\",\"mufti\",\"mulayam\",\"nagar\",\"ngo\",\"nominated\",\"obsession\",\"onwards\",\"piddi\",\"pok\",\"realising\",\"roaming\",\"rose\",\"routine\",\"sakta\",\"screw\",\"shukla\",\"snatched\",\"store\",\"suggested\",\"suspense\",\"tab\",\"thanked\",\"touching\",\"trapped\",\"unnecessary\",\"updated\",\"wedding\",\"weed\",\"youngest\",\"aalo\",\"acceptance\",\"agni\",\"appointment\",\"associate\",\"bangladeshi\",\"bed\",\"berojgar\",\"blitz\",\"booked\",\"branding\",\"cleaned\",\"conscience\",\"constructive\",\"consulted\",\"crossing\",\"customer\",\"deeply\",\"depends\",\"deserving\",\"developmental\",\"dissent\",\"doable\",\"dozen\",\"enforcement\",\"enterprise\",\"feasible\",\"flow\",\"gabbard\",\"glorious\",\"gyan\",\"handpicked\",\"indra\",\"infront\",\"interacts\",\"jumping\",\"justified\",\"khud\",\"kickstart\",\"lollipop\",\"nadus\",\"ndas\",\"nut\",\"orgasm\",\"pehle\",\"plain\",\"pointed\",\"raghu\",\"rascal\",\"removal\",\"resolution\",\"saboot\",\"sachin\",\"seed\",\"selection\",\"sharp\",\"southern\",\"suspended\",\"talkatora\",\"tally\",\"thoothukudi\",\"tied\",\"ton\",\"training\",\"transforming\",\"tweetstorm\",\"vindicated\",\"worrying\",\"achieves\",\"agrees\",\"ajay\",\"ancestor\",\"arrived\",\"bin\",\"bind\",\"bitch\",\"blackmoney\",\"boat\",\"bull\",\"charged\",\"chartered\",\"chopper\",\"clap\",\"combined\",\"comeback\",\"condemned\",\"conducting\",\"crooked\",\"crow\",\"crown\",\"determination\",\"eminent\",\"engaged\",\"engine\",\"entering\",\"environmental\",\"esp\",\"external\",\"feared\",\"forgets\",\"functioning\",\"grant\",\"greed\",\"gullible\",\"heart_suit\",\"indicates\",\"investigating\",\"jayega\",\"jihadis\",\"joblessness\",\"kabir\",\"kahan\",\"kisi\",\"kitchen\",\"lickers\",\"lifted\",\"load\",\"maddy\",\"mahal\",\"mate\",\"monthly\",\"mum\",\"occupied\",\"pakodas\",\"pata\",\"paytm\",\"pil\",\"predicts\",\"priminister\",\"projected\",\"ragas\",\"ranting\",\"relate\",\"sach\",\"safer\",\"sattelite\",\"selfless\",\"sevak\",\"seven\",\"sleepless\",\"spelling\",\"stall\",\"submitted\",\"suggesting\",\"sunrise\",\"ubi\",\"undermine\",\"usd\",\"vast\",\"vested\",\"violates\",\"vow\",\"whining\",\"aaya\",\"allocation\",\"analyse\",\"applicable\",\"avoided\",\"awake\",\"bitter\",\"blatantly\",\"boosting\",\"breach\",\"casting\",\"chawkidar\",\"chennai\",\"closely\",\"consistent\",\"constant\",\"continuous\",\"cpim\",\"dam\",\"desai\",\"discipline\",\"donot\",\"dunga\",\"enthusiasm\",\"haan\",\"hailing\",\"hook\",\"horrible\",\"hoti\",\"lacking\",\"limitless\",\"lowearth\",\"mahamilavat\",\"manoj\",\"middleclass\",\"miracle\",\"nagpur\",\"narrow\",\"nia\",\"oust\",\"potato\",\"pulled\",\"purchased\",\"raaj\",\"reminder\",\"resident\",\"rushed\",\"sarcasm\",\"slavery\",\"specifically\",\"tolerance\",\"translation\",\"transparent\",\"tripura\",\"twisted\",\"vanished\",\"verma\",\"walked\",\"wapsi\",\"weakness\",\"yearly\",\"yoga\",\"actress\",\"akbaruddin\",\"amazed\",\"assist\",\"attract\",\"banana\",\"bankruptcy\",\"bash\",\"batting\",\"combination\",\"combine\",\"confiscated\",\"council\",\"criticises\",\"crush\",\"cute\",\"daring\",\"differentiate\",\"disgraceful\",\"distribution\",\"diverted\",\"execute\",\"exploit\",\"expressed\",\"female\",\"gehlot\",\"glue\",\"hailed\",\"hve\",\"incumbent\",\"kaise\",\"lage\",\"max\",\"monster\",\"mrnarendra\",\"mute\",\"nasa\",\"out\",\"permit\",\"predict\",\"presented\",\"prosper\",\"resigned\",\"revolutionary\",\"rip\",\"scream\",\"solely\",\"stashed\",\"storm\",\"tagged\",\"thapar\",\"townhall\",\"tradition\",\"trait\",\"unknown\",\"verge\",\"vibrant\",\"waive\",\"yashodaben\",\"advanced\",\"antihindu\",\"antipoor\",\"association\",\"begun\",\"bigoted\",\"centric\",\"civilization\",\"counted\",\"criterion\",\"debating\",\"decency\",\"demonization\",\"dignified\",\"disappear\",\"distributing\",\"domain\",\"doomed\",\"drdoisro\",\"dum\",\"electrified\",\"encouraged\",\"enlighten\",\"fart\",\"fav\",\"fdi\",\"filling\",\"fortune\",\"gaddar\",\"garib\",\"guest\",\"harsh\",\"heartiest\",\"hugged\",\"hurry\",\"incompetence\",\"innovation\",\"interfere\",\"jealousy\",\"jeweller\",\"juggernaut\",\"junior\",\"label\",\"laundering\",\"livelihood\",\"mei\",\"mi\",\"misused\",\"naveen\",\"neglect\",\"planted\",\"preference\",\"privilege\",\"provision\",\"rcb\",\"reap\",\"receiving\",\"reckless\",\"recorded\",\"resulted\",\"retweets\",\"rewarded\",\"safeguard\",\"shahid\",\"shatru\",\"sop\",\"stream\",\"substance\",\"superior\",\"survived\",\"taj\",\"theme\",\"threaten\",\"transform\",\"triple\",\"utterly\",\"volume\",\"walking\",\"warfare\",\"withdrawn\",\"admirer\",\"aimed\",\"aisa\",\"avatar\",\"backfire\",\"baroda\",\"benefitted\",\"bhagwan\",\"biopics\",\"butter\",\"cabal\",\"cite\",\"comic\",\"completing\",\"conferencing\",\"courageous\",\"creature\",\"daddy\",\"doubting\",\"downed\",\"emerging\",\"enable\",\"ending\",\"falsehood\",\"fashion\",\"february\",\"forum\",\"fragile\",\"genuinely\",\"gifted\",\"greatness\",\"includes\",\"indulging\",\"infrastructural\",\"innovative\",\"jago\",\"jaishemohammed\",\"kashi\",\"laga\",\"lunch\",\"mmj\",\"modithemed\",\"msp\",\"parasite\",\"prestigious\",\"primeminister\",\"proclaimed\",\"pulse\",\"quoting\",\"responding\",\"scholar\",\"severe\",\"shaking\",\"shifted\",\"significance\",\"stomach\",\"substantial\",\"tainted\",\"tank\",\"travelled\",\"upas\",\"user\",\"villain\",\"washed\",\"wen\",\"abandoned\",\"abhinandans\",\"admission\",\"aimim\",\"akbar\",\"amazon\",\"answerable\",\"arab\",\"arguing\",\"attained\",\"audit\",\"balochistan\",\"bcs\",\"burnt\",\"campaigned\",\"ceremony\",\"collapse\",\"column\",\"comfortable\",\"dared\",\"demanded\",\"democratically\",\"depend\",\"der\",\"deshbhakt\",\"devotee\",\"dictionary\",\"digit\",\"enabled\",\"equation\",\"establishing\",\"eve\",\"experiment\",\"gr\",\"greedy\",\"guardian\",\"holi\",\"hurting\",\"islamist\",\"jao\",\"kovind\",\"masjid\",\"ministerial\",\"naked\",\"neighbor\",\"nidhi\",\"observe\",\"oscar\",\"plight\",\"pmopm\",\"protects\",\"protesting\",\"query\",\"refrain\",\"reputation\",\"rg\",\"sakti\",\"setup\",\"shastri\",\"spoiled\",\"square\",\"staying\",\"tail\",\"taker\",\"treasury\",\"unaware\",\"underway\",\"unsafe\",\"vocal\",\"accusation\",\"affection\",\"asap\",\"assumed\",\"berozgar\",\"boasting\",\"bravo\",\"canvassing\",\"climate\",\"compulsion\",\"cult\",\"demonitization\",\"dete\",\"deve\",\"dimwit\",\"discard\",\"evidently\",\"excitement\",\"expelled\",\"extension\",\"firing\",\"gay\",\"godse\",\"greet\",\"guessing\",\"gvt\",\"harmful\",\"helpful\",\"hollow\",\"hugging\",\"hung\",\"imminent\",\"implication\",\"incharge\",\"itll\",\"jeypore\",\"jhoot\",\"kab\",\"kickback\",\"kinda\",\"knock\",\"lag\",\"lame\",\"lao\",\"laughed\",\"malign\",\"marry\",\"mehbooba\",\"minus\",\"modinomics\",\"mosque\",\"motivation\",\"msm\",\"naming\",\"navy\",\"noble\",\"noida\",\"obliged\",\"occupy\",\"overcome\",\"participation\",\"peon\",\"permanently\",\"pitroda\",\"poorer\",\"protected\",\"regularly\",\"relieved\",\"richer\",\"sagarika\",\"sarabhai\",\"satisfaction\",\"shell\",\"soo\",\"spared\",\"spewing\",\"summit\",\"tera\",\"text\",\"theprints\",\"torture\",\"tragedy\",\"umesh\",\"unturned\",\"urged\",\"urging\",\"wali\",\"wanting\",\"admits\",\"ananthkumar\",\"ancient\",\"apt\",\"assad\",\"australia\",\"babri\",\"backbone\",\"barely\",\"biriyani\",\"bose\",\"brief\",\"cared\",\"chattisgarh\",\"compromise\",\"creative\",\"custody\",\"dada\",\"darbari\",\"delaying\",\"deputy\",\"dhokla\",\"disappointment\",\"divine\",\"dose\",\"escaped\",\"estimate\",\"extended\",\"fearless\",\"festival\",\"foreigner\",\"fraudsters\",\"generally\",\"gobar\",\"hall\",\"hay\",\"heartland\",\"honoured\",\"hote\",\"ia\",\"incentive\",\"interviewed\",\"interviewing\",\"jus\",\"lapdog\",\"largely\",\"lekin\",\"linking\",\"madhav\",\"maintained\",\"mama\",\"managing\",\"manufacturer\",\"mouthpiece\",\"mushroom\",\"needy\",\"nehrugandhi\",\"newly\",\"nov\",\"observed\",\"optic\",\"orissa\",\"pal\",\"pattern\",\"pliable\",\"propagate\",\"provides\",\"raho\",\"remembering\",\"requirement\",\"resolved\",\"rha\",\"risen\",\"rush\",\"saeed\",\"satisfy\",\"sec\",\"sidhu\",\"singer\",\"spends\",\"stamp\",\"sympathiser\",\"timely\",\"umpire\",\"underestimate\",\"unit\",\"urgent\",\"vanish\",\"violent\",\"weakened\",\"willingness\",\"york\",\"aage\",\"abdul\",\"abolish\",\"alok\",\"applying\",\"arena\",\"ashutosh\",\"authoritarian\",\"baseless\",\"behavior\",\"belittle\",\"blown\",\"bole\",\"casualty\",\"chandrashekhar\",\"chicken\",\"congres\",\"convincing\",\"cpm\",\"deleted\",\"deshdrohi\",\"disclosure\",\"displayed\",\"diwali\",\"dono\",\"dy\",\"emerged\",\"engage\",\"engineering\",\"fabric\",\"financialxpress\",\"gathered\",\"hearty\",\"hopeful\",\"huh\",\"hurdle\",\"illusion\",\"janpath\",\"jingoism\",\"jinnah\",\"landed\",\"libtards\",\"listened\",\"loc\",\"mann\",\"manufactured\",\"mentor\",\"messaging\",\"mulla\",\"numerous\",\"offence\",\"oratory\",\"outsider\",\"padma\",\"pai\",\"painful\",\"piyush\",\"port\",\"ppls\",\"privileged\",\"publish\",\"reaping\",\"reminding\",\"ridicule\",\"screaming\",\"scrutiny\",\"sens\",\"senseless\",\"sensitive\",\"sex\",\"shattered\",\"sink\",\"smarter\",\"spew\",\"srk\",\"structure\",\"teeth\",\"tweeter\",\"valour\",\"aaye\",\"actively\",\"aggression\",\"alternate\",\"apologist\",\"asian\",\"attribute\",\"balakote\",\"balanced\",\"baloch\",\"benami\",\"bhagat\",\"blink\",\"bola\",\"broad\",\"but\",\"carpet\",\"catching\",\"chaiwalas\",\"cloud\",\"commendable\",\"communalism\",\"compulsive\",\"corrected\",\"crass\",\"crude\",\"darr\",\"defaming\",\"discrimination\",\"distract\",\"disturbed\",\"eats\",\"endless\",\"endorsed\",\"entertaining\",\"entirely\",\"executive\",\"exemption\",\"flaw\",\"foolishness\",\"footstep\",\"gaali\",\"gamechanger\",\"inclusion\",\"intentionally\",\"involvement\"],\"x1\":{\"__ndarray__\":\"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\",\"dtype\":\"float32\",\"order\":\"little\",\"shape\":[5002]},\"x2\":{\"__ndarray__\":\"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\",\"dtype\":\"float32\",\"order\":\"little\",\"shape\":[5002]}},\"selected\":{\"id\":\"1045\"},\"selection_policy\":{\"id\":\"1046\"}},\"id\":\"1030\",\"type\":\"ColumnDataSource\"},{\"attributes\":{\"source\":{\"id\":\"1030\"}},\"id\":\"1035\",\"type\":\"CDSView\"},{\"attributes\":{},\"id\":\"1043\",\"type\":\"BasicTickFormatter\"},{\"attributes\":{\"data_source\":{\"id\":\"1030\"},\"glyph\":{\"id\":\"1032\"},\"hover_glyph\":null,\"muted_glyph\":null,\"nonselection_glyph\":{\"id\":\"1033\"},\"view\":{\"id\":\"1035\"}},\"id\":\"1034\",\"type\":\"GlyphRenderer\"},{\"attributes\":{},\"id\":\"1044\",\"type\":\"AllLabels\"},{\"attributes\":{},\"id\":\"1021\",\"type\":\"PanTool\"},{\"attributes\":{\"active_multi\":null,\"tools\":[{\"id\":\"1021\"},{\"id\":\"1022\"},{\"id\":\"1023\"},{\"id\":\"1024\"}]},\"id\":\"1025\",\"type\":\"Toolbar\"},{\"attributes\":{},\"id\":\"1022\",\"type\":\"WheelZoomTool\"},{\"attributes\":{\"fill_color\":{\"field\":\"color\"},\"line_color\":{\"value\":\"#1f77b4\"},\"size\":{\"value\":8},\"x\":{\"field\":\"x1\"},\"y\":{\"field\":\"x2\"}},\"id\":\"1032\",\"type\":\"Scatter\"},{\"attributes\":{},\"id\":\"1023\",\"type\":\"ResetTool\"},{\"attributes\":{},\"id\":\"1024\",\"type\":\"SaveTool\"},{\"attributes\":{},\"id\":\"1045\",\"type\":\"Selection\"},{\"attributes\":{\"text\":\"vector T-SNE for most polarized words\"},\"id\":\"1003\",\"type\":\"Title\"},{\"attributes\":{},\"id\":\"1011\",\"type\":\"LinearScale\"},{\"attributes\":{},\"id\":\"1005\",\"type\":\"DataRange1d\"},{\"attributes\":{},\"id\":\"1041\",\"type\":\"AllLabels\"},{\"attributes\":{},\"id\":\"1009\",\"type\":\"LinearScale\"},{\"attributes\":{\"formatter\":{\"id\":\"1043\"},\"major_label_policy\":{\"id\":\"1044\"},\"ticker\":{\"id\":\"1014\"}},\"id\":\"1013\",\"type\":\"LinearAxis\"},{\"attributes\":{},\"id\":\"1040\",\"type\":\"BasicTickFormatter\"},{\"attributes\":{\"fill_alpha\":{\"value\":0.1},\"fill_color\":{\"field\":\"color\"},\"line_alpha\":{\"value\":0.1},\"line_color\":{\"value\":\"#1f77b4\"},\"size\":{\"value\":8},\"x\":{\"field\":\"x1\"},\"y\":{\"field\":\"x2\"}},\"id\":\"1033\",\"type\":\"Scatter\"},{\"attributes\":{},\"id\":\"1018\",\"type\":\"BasicTicker\"},{\"attributes\":{},\"id\":\"1007\",\"type\":\"DataRange1d\"},{\"attributes\":{},\"id\":\"1014\",\"type\":\"BasicTicker\"},{\"attributes\":{\"axis\":{\"id\":\"1013\"},\"ticker\":null},\"id\":\"1016\",\"type\":\"Grid\"},{\"attributes\":{\"axis\":{\"id\":\"1017\"},\"dimension\":1,\"ticker\":null},\"id\":\"1020\",\"type\":\"Grid\"},{\"attributes\":{},\"id\":\"1046\",\"type\":\"UnionRenderers\"},{\"attributes\":{\"formatter\":{\"id\":\"1040\"},\"major_label_policy\":{\"id\":\"1041\"},\"ticker\":{\"id\":\"1018\"}},\"id\":\"1017\",\"type\":\"LinearAxis\"}],\"root_ids\":[\"1002\"]},\"title\":\"Bokeh Application\",\"version\":\"2.3.0\"}};\n",
              "  var render_items = [{\"docid\":\"64c548e8-f7ae-4571-940d-53e0c93fdea5\",\"root_ids\":[\"1002\"],\"roots\":{\"1002\":\"acc348e0-c13d-4ba4-a3a6-f327f9a031b7\"}}];\n",
              "  root.Bokeh.embed.embed_items_notebook(docs_json, render_items);\n",
              "\n",
              "  }\n",
              "  if (root.Bokeh !== undefined) {\n",
              "    embed_document(root);\n",
              "  } else {\n",
              "    var attempts = 0;\n",
              "    var timer = setInterval(function(root) {\n",
              "      if (root.Bokeh !== undefined) {\n",
              "        clearInterval(timer);\n",
              "        embed_document(root);\n",
              "      } else {\n",
              "        attempts++;\n",
              "        if (attempts > 100) {\n",
              "          clearInterval(timer);\n",
              "          console.log(\"Bokeh: ERROR: Unable to run BokehJS code because BokehJS library is missing\");\n",
              "        }\n",
              "      }\n",
              "    }, 10, root)\n",
              "  }\n",
              "})(window);"
            ],
            "application/vnd.bokehjs_exec.v0+json": ""
          },
          "metadata": {
            "tags": [],
            "application/vnd.bokehjs_exec.v0+json": {
              "id": "1002"
            }
          }
        }
      ]
    },
    {
      "cell_type": "code",
      "metadata": {
        "ExecuteTime": {
          "end_time": "2021-04-05T15:55:20.282440Z",
          "start_time": "2021-04-05T15:55:20.162442Z"
        },
        "id": "wWbpD19Dz9ku",
        "colab": {
          "base_uri": "https://localhost:8080/",
          "height": 617
        },
        "outputId": "9cc27e08-0560-414c-b87d-4bcbd737272c"
      },
      "source": [
        "p = figure(tools=\"pan,wheel_zoom,reset,save\",\n",
        "           toolbar_location=\"above\",\n",
        "           title=\"vector T-SNE for most polarized words\")\n",
        "\n",
        "source = ColumnDataSource(data=dict(x1=words_top_ted_tsne[:,0],\n",
        "                                    x2=words_top_ted_tsne[:,1],\n",
        "                                    names=Text.vocab.itos,\n",
        "                                    color=colorlist))\n",
        "\n",
        "p.scatter(x=\"x1\", y=\"x2\", size=8, source=source, fill_color=\"color\")\n",
        "\n",
        "word_labels = LabelSet(x=\"x1\", y=\"x2\", text=\"names\", y_offset=6,\n",
        "                       text_font_size=\"8pt\", text_color=\"#555555\",\n",
        "                       source=source, text_align='center',render_mode='canvas')\n",
        "p.add_layout(word_labels)\n",
        "\n",
        "show(p)"
      ],
      "execution_count": 38,
      "outputs": [
        {
          "output_type": "display_data",
          "data": {
            "application/javascript": [
              "\n",
              "(function(root) {\n",
              "  function now() {\n",
              "    return new Date();\n",
              "  }\n",
              "\n",
              "  var force = true;\n",
              "\n",
              "  if (typeof root._bokeh_onload_callbacks === \"undefined\" || force === true) {\n",
              "    root._bokeh_onload_callbacks = [];\n",
              "    root._bokeh_is_loading = undefined;\n",
              "  }\n",
              "\n",
              "  var JS_MIME_TYPE = 'application/javascript';\n",
              "  var HTML_MIME_TYPE = 'text/html';\n",
              "  var EXEC_MIME_TYPE = 'application/vnd.bokehjs_exec.v0+json';\n",
              "  var CLASS_NAME = 'output_bokeh rendered_html';\n",
              "\n",
              "  /**\n",
              "   * Render data to the DOM node\n",
              "   */\n",
              "  function render(props, node) {\n",
              "    var script = document.createElement(\"script\");\n",
              "    node.appendChild(script);\n",
              "  }\n",
              "\n",
              "  /**\n",
              "   * Handle when an output is cleared or removed\n",
              "   */\n",
              "  function handleClearOutput(event, handle) {\n",
              "    var cell = handle.cell;\n",
              "\n",
              "    var id = cell.output_area._bokeh_element_id;\n",
              "    var server_id = cell.output_area._bokeh_server_id;\n",
              "    // Clean up Bokeh references\n",
              "    if (id != null && id in Bokeh.index) {\n",
              "      Bokeh.index[id].model.document.clear();\n",
              "      delete Bokeh.index[id];\n",
              "    }\n",
              "\n",
              "    if (server_id !== undefined) {\n",
              "      // Clean up Bokeh references\n",
              "      var cmd = \"from bokeh.io.state import curstate; print(curstate().uuid_to_server['\" + server_id + \"'].get_sessions()[0].document.roots[0]._id)\";\n",
              "      cell.notebook.kernel.execute(cmd, {\n",
              "        iopub: {\n",
              "          output: function(msg) {\n",
              "            var id = msg.content.text.trim();\n",
              "            if (id in Bokeh.index) {\n",
              "              Bokeh.index[id].model.document.clear();\n",
              "              delete Bokeh.index[id];\n",
              "            }\n",
              "          }\n",
              "        }\n",
              "      });\n",
              "      // Destroy server and session\n",
              "      var cmd = \"import bokeh.io.notebook as ion; ion.destroy_server('\" + server_id + \"')\";\n",
              "      cell.notebook.kernel.execute(cmd);\n",
              "    }\n",
              "  }\n",
              "\n",
              "  /**\n",
              "   * Handle when a new output is added\n",
              "   */\n",
              "  function handleAddOutput(event, handle) {\n",
              "    var output_area = handle.output_area;\n",
              "    var output = handle.output;\n",
              "\n",
              "    // limit handleAddOutput to display_data with EXEC_MIME_TYPE content only\n",
              "    if ((output.output_type != \"display_data\") || (!Object.prototype.hasOwnProperty.call(output.data, EXEC_MIME_TYPE))) {\n",
              "      return\n",
              "    }\n",
              "\n",
              "    var toinsert = output_area.element.find(\".\" + CLASS_NAME.split(' ')[0]);\n",
              "\n",
              "    if (output.metadata[EXEC_MIME_TYPE][\"id\"] !== undefined) {\n",
              "      toinsert[toinsert.length - 1].firstChild.textContent = output.data[JS_MIME_TYPE];\n",
              "      // store reference to embed id on output_area\n",
              "      output_area._bokeh_element_id = output.metadata[EXEC_MIME_TYPE][\"id\"];\n",
              "    }\n",
              "    if (output.metadata[EXEC_MIME_TYPE][\"server_id\"] !== undefined) {\n",
              "      var bk_div = document.createElement(\"div\");\n",
              "      bk_div.innerHTML = output.data[HTML_MIME_TYPE];\n",
              "      var script_attrs = bk_div.children[0].attributes;\n",
              "      for (var i = 0; i < script_attrs.length; i++) {\n",
              "        toinsert[toinsert.length - 1].firstChild.setAttribute(script_attrs[i].name, script_attrs[i].value);\n",
              "        toinsert[toinsert.length - 1].firstChild.textContent = bk_div.children[0].textContent\n",
              "      }\n",
              "      // store reference to server id on output_area\n",
              "      output_area._bokeh_server_id = output.metadata[EXEC_MIME_TYPE][\"server_id\"];\n",
              "    }\n",
              "  }\n",
              "\n",
              "  function register_renderer(events, OutputArea) {\n",
              "\n",
              "    function append_mime(data, metadata, element) {\n",
              "      // create a DOM node to render to\n",
              "      var toinsert = this.create_output_subarea(\n",
              "        metadata,\n",
              "        CLASS_NAME,\n",
              "        EXEC_MIME_TYPE\n",
              "      );\n",
              "      this.keyboard_manager.register_events(toinsert);\n",
              "      // Render to node\n",
              "      var props = {data: data, metadata: metadata[EXEC_MIME_TYPE]};\n",
              "      render(props, toinsert[toinsert.length - 1]);\n",
              "      element.append(toinsert);\n",
              "      return toinsert\n",
              "    }\n",
              "\n",
              "    /* Handle when an output is cleared or removed */\n",
              "    events.on('clear_output.CodeCell', handleClearOutput);\n",
              "    events.on('delete.Cell', handleClearOutput);\n",
              "\n",
              "    /* Handle when a new output is added */\n",
              "    events.on('output_added.OutputArea', handleAddOutput);\n",
              "\n",
              "    /**\n",
              "     * Register the mime type and append_mime function with output_area\n",
              "     */\n",
              "    OutputArea.prototype.register_mime_type(EXEC_MIME_TYPE, append_mime, {\n",
              "      /* Is output safe? */\n",
              "      safe: true,\n",
              "      /* Index of renderer in `output_area.display_order` */\n",
              "      index: 0\n",
              "    });\n",
              "  }\n",
              "\n",
              "  // register the mime type if in Jupyter Notebook environment and previously unregistered\n",
              "  if (root.Jupyter !== undefined) {\n",
              "    var events = require('base/js/events');\n",
              "    var OutputArea = require('notebook/js/outputarea').OutputArea;\n",
              "\n",
              "    if (OutputArea.prototype.mime_types().indexOf(EXEC_MIME_TYPE) == -1) {\n",
              "      register_renderer(events, OutputArea);\n",
              "    }\n",
              "  }\n",
              "\n",
              "  \n",
              "  if (typeof (root._bokeh_timeout) === \"undefined\" || force === true) {\n",
              "    root._bokeh_timeout = Date.now() + 5000;\n",
              "    root._bokeh_failed_load = false;\n",
              "  }\n",
              "\n",
              "  var NB_LOAD_WARNING = {'data': {'text/html':\n",
              "     \"<div style='background-color: #fdd'>\\n\"+\n",
              "     \"<p>\\n\"+\n",
              "     \"BokehJS does not appear to have successfully loaded. If loading BokehJS from CDN, this \\n\"+\n",
              "     \"may be due to a slow or bad network connection. Possible fixes:\\n\"+\n",
              "     \"</p>\\n\"+\n",
              "     \"<ul>\\n\"+\n",
              "     \"<li>re-rerun `output_notebook()` to attempt to load from CDN again, or</li>\\n\"+\n",
              "     \"<li>use INLINE resources instead, as so:</li>\\n\"+\n",
              "     \"</ul>\\n\"+\n",
              "     \"<code>\\n\"+\n",
              "     \"from bokeh.resources import INLINE\\n\"+\n",
              "     \"output_notebook(resources=INLINE)\\n\"+\n",
              "     \"</code>\\n\"+\n",
              "     \"</div>\"}};\n",
              "\n",
              "  function display_loaded() {\n",
              "    var el = document.getElementById(null);\n",
              "    if (el != null) {\n",
              "      el.textContent = \"BokehJS is loading...\";\n",
              "    }\n",
              "    if (root.Bokeh !== undefined) {\n",
              "      if (el != null) {\n",
              "        el.textContent = \"BokehJS \" + root.Bokeh.version + \" successfully loaded.\";\n",
              "      }\n",
              "    } else if (Date.now() < root._bokeh_timeout) {\n",
              "      setTimeout(display_loaded, 100)\n",
              "    }\n",
              "  }\n",
              "\n",
              "\n",
              "  function run_callbacks() {\n",
              "    try {\n",
              "      root._bokeh_onload_callbacks.forEach(function(callback) {\n",
              "        if (callback != null)\n",
              "          callback();\n",
              "      });\n",
              "    } finally {\n",
              "      delete root._bokeh_onload_callbacks\n",
              "    }\n",
              "    console.debug(\"Bokeh: all callbacks have finished\");\n",
              "  }\n",
              "\n",
              "  function load_libs(css_urls, js_urls, callback) {\n",
              "    if (css_urls == null) css_urls = [];\n",
              "    if (js_urls == null) js_urls = [];\n",
              "\n",
              "    root._bokeh_onload_callbacks.push(callback);\n",
              "    if (root._bokeh_is_loading > 0) {\n",
              "      console.debug(\"Bokeh: BokehJS is being loaded, scheduling callback at\", now());\n",
              "      return null;\n",
              "    }\n",
              "    if (js_urls == null || js_urls.length === 0) {\n",
              "      run_callbacks();\n",
              "      return null;\n",
              "    }\n",
              "    console.debug(\"Bokeh: BokehJS not loaded, scheduling load and callback at\", now());\n",
              "    root._bokeh_is_loading = css_urls.length + js_urls.length;\n",
              "\n",
              "    function on_load() {\n",
              "      root._bokeh_is_loading--;\n",
              "      if (root._bokeh_is_loading === 0) {\n",
              "        console.debug(\"Bokeh: all BokehJS libraries/stylesheets loaded\");\n",
              "        run_callbacks()\n",
              "      }\n",
              "    }\n",
              "\n",
              "    function on_error(url) {\n",
              "      console.error(\"failed to load \" + url);\n",
              "    }\n",
              "\n",
              "    for (let i = 0; i < css_urls.length; i++) {\n",
              "      const url = css_urls[i];\n",
              "      const element = document.createElement(\"link\");\n",
              "      element.onload = on_load;\n",
              "      element.onerror = on_error.bind(null, url);\n",
              "      element.rel = \"stylesheet\";\n",
              "      element.type = \"text/css\";\n",
              "      element.href = url;\n",
              "      console.debug(\"Bokeh: injecting link tag for BokehJS stylesheet: \", url);\n",
              "      document.body.appendChild(element);\n",
              "    }\n",
              "\n",
              "    const hashes = {\"https://cdn.bokeh.org/bokeh/release/bokeh-2.3.0.min.js\": \"HjagQp6T0/7bxYTAXbLotF1MLAGWmhkY5siA1Gc/pcEgvgRPtMsRn0gQtMwGKiw1\", \"https://cdn.bokeh.org/bokeh/release/bokeh-widgets-2.3.0.min.js\": \"ZEPPTjL+mdyqgIq+/pl9KTwzji8Kow2NnI3zWY8+sFinWP/SYJ80BnfeJsa45iYj\", \"https://cdn.bokeh.org/bokeh/release/bokeh-tables-2.3.0.min.js\": \"exLqv2ACDRIaV7ZK1iL8aGzGYQvKVuT3U2CT7FsQREBxRah6JrkVCoFy0koY1YqV\"};\n",
              "\n",
              "    for (let i = 0; i < js_urls.length; i++) {\n",
              "      const url = js_urls[i];\n",
              "      const element = document.createElement('script');\n",
              "      element.onload = on_load;\n",
              "      element.onerror = on_error.bind(null, url);\n",
              "      element.async = false;\n",
              "      element.src = url;\n",
              "      if (url in hashes) {\n",
              "        element.crossOrigin = \"anonymous\";\n",
              "        element.integrity = \"sha384-\" + hashes[url];\n",
              "      }\n",
              "      console.debug(\"Bokeh: injecting script tag for BokehJS library: \", url);\n",
              "      document.head.appendChild(element);\n",
              "    }\n",
              "  };\n",
              "\n",
              "  function inject_raw_css(css) {\n",
              "    const element = document.createElement(\"style\");\n",
              "    element.appendChild(document.createTextNode(css));\n",
              "    document.body.appendChild(element);\n",
              "  }\n",
              "\n",
              "  \n",
              "  var js_urls = [\"https://cdn.bokeh.org/bokeh/release/bokeh-2.3.0.min.js\", \"https://cdn.bokeh.org/bokeh/release/bokeh-widgets-2.3.0.min.js\", \"https://cdn.bokeh.org/bokeh/release/bokeh-tables-2.3.0.min.js\"];\n",
              "  var css_urls = [];\n",
              "  \n",
              "\n",
              "  var inline_js = [\n",
              "    function(Bokeh) {\n",
              "      Bokeh.set_log_level(\"info\");\n",
              "    },\n",
              "    function(Bokeh) {\n",
              "    \n",
              "    \n",
              "    }\n",
              "  ];\n",
              "\n",
              "  function run_inline_js() {\n",
              "    \n",
              "    if (root.Bokeh !== undefined || force === true) {\n",
              "      \n",
              "    for (var i = 0; i < inline_js.length; i++) {\n",
              "      inline_js[i].call(root, root.Bokeh);\n",
              "    }\n",
              "    } else if (Date.now() < root._bokeh_timeout) {\n",
              "      setTimeout(run_inline_js, 100);\n",
              "    } else if (!root._bokeh_failed_load) {\n",
              "      console.log(\"Bokeh: BokehJS failed to load within specified timeout.\");\n",
              "      root._bokeh_failed_load = true;\n",
              "    } else if (force !== true) {\n",
              "      var cell = $(document.getElementById(null)).parents('.cell').data().cell;\n",
              "      cell.output_area.append_execute_result(NB_LOAD_WARNING)\n",
              "    }\n",
              "\n",
              "  }\n",
              "\n",
              "  if (root._bokeh_is_loading === 0) {\n",
              "    console.debug(\"Bokeh: BokehJS loaded, going straight to plotting\");\n",
              "    run_inline_js();\n",
              "  } else {\n",
              "    load_libs(css_urls, js_urls, function() {\n",
              "      console.debug(\"Bokeh: BokehJS plotting callback run at\", now());\n",
              "      run_inline_js();\n",
              "    });\n",
              "  }\n",
              "}(window));"
            ],
            "application/vnd.bokehjs_load.v0+json": "\n(function(root) {\n  function now() {\n    return new Date();\n  }\n\n  var force = true;\n\n  if (typeof root._bokeh_onload_callbacks === \"undefined\" || force === true) {\n    root._bokeh_onload_callbacks = [];\n    root._bokeh_is_loading = undefined;\n  }\n\n  \n\n  \n  if (typeof (root._bokeh_timeout) === \"undefined\" || force === true) {\n    root._bokeh_timeout = Date.now() + 5000;\n    root._bokeh_failed_load = false;\n  }\n\n  var NB_LOAD_WARNING = {'data': {'text/html':\n     \"<div style='background-color: #fdd'>\\n\"+\n     \"<p>\\n\"+\n     \"BokehJS does not appear to have successfully loaded. If loading BokehJS from CDN, this \\n\"+\n     \"may be due to a slow or bad network connection. Possible fixes:\\n\"+\n     \"</p>\\n\"+\n     \"<ul>\\n\"+\n     \"<li>re-rerun `output_notebook()` to attempt to load from CDN again, or</li>\\n\"+\n     \"<li>use INLINE resources instead, as so:</li>\\n\"+\n     \"</ul>\\n\"+\n     \"<code>\\n\"+\n     \"from bokeh.resources import INLINE\\n\"+\n     \"output_notebook(resources=INLINE)\\n\"+\n     \"</code>\\n\"+\n     \"</div>\"}};\n\n  function display_loaded() {\n    var el = document.getElementById(null);\n    if (el != null) {\n      el.textContent = \"BokehJS is loading...\";\n    }\n    if (root.Bokeh !== undefined) {\n      if (el != null) {\n        el.textContent = \"BokehJS \" + root.Bokeh.version + \" successfully loaded.\";\n      }\n    } else if (Date.now() < root._bokeh_timeout) {\n      setTimeout(display_loaded, 100)\n    }\n  }\n\n\n  function run_callbacks() {\n    try {\n      root._bokeh_onload_callbacks.forEach(function(callback) {\n        if (callback != null)\n          callback();\n      });\n    } finally {\n      delete root._bokeh_onload_callbacks\n    }\n    console.debug(\"Bokeh: all callbacks have finished\");\n  }\n\n  function load_libs(css_urls, js_urls, callback) {\n    if (css_urls == null) css_urls = [];\n    if (js_urls == null) js_urls = [];\n\n    root._bokeh_onload_callbacks.push(callback);\n    if (root._bokeh_is_loading > 0) {\n      console.debug(\"Bokeh: BokehJS is being loaded, scheduling callback at\", now());\n      return null;\n    }\n    if (js_urls == null || js_urls.length === 0) {\n      run_callbacks();\n      return null;\n    }\n    console.debug(\"Bokeh: BokehJS not loaded, scheduling load and callback at\", now());\n    root._bokeh_is_loading = css_urls.length + js_urls.length;\n\n    function on_load() {\n      root._bokeh_is_loading--;\n      if (root._bokeh_is_loading === 0) {\n        console.debug(\"Bokeh: all BokehJS libraries/stylesheets loaded\");\n        run_callbacks()\n      }\n    }\n\n    function on_error(url) {\n      console.error(\"failed to load \" + url);\n    }\n\n    for (let i = 0; i < css_urls.length; i++) {\n      const url = css_urls[i];\n      const element = document.createElement(\"link\");\n      element.onload = on_load;\n      element.onerror = on_error.bind(null, url);\n      element.rel = \"stylesheet\";\n      element.type = \"text/css\";\n      element.href = url;\n      console.debug(\"Bokeh: injecting link tag for BokehJS stylesheet: \", url);\n      document.body.appendChild(element);\n    }\n\n    const hashes = {\"https://cdn.bokeh.org/bokeh/release/bokeh-2.3.0.min.js\": \"HjagQp6T0/7bxYTAXbLotF1MLAGWmhkY5siA1Gc/pcEgvgRPtMsRn0gQtMwGKiw1\", \"https://cdn.bokeh.org/bokeh/release/bokeh-widgets-2.3.0.min.js\": \"ZEPPTjL+mdyqgIq+/pl9KTwzji8Kow2NnI3zWY8+sFinWP/SYJ80BnfeJsa45iYj\", \"https://cdn.bokeh.org/bokeh/release/bokeh-tables-2.3.0.min.js\": \"exLqv2ACDRIaV7ZK1iL8aGzGYQvKVuT3U2CT7FsQREBxRah6JrkVCoFy0koY1YqV\"};\n\n    for (let i = 0; i < js_urls.length; i++) {\n      const url = js_urls[i];\n      const element = document.createElement('script');\n      element.onload = on_load;\n      element.onerror = on_error.bind(null, url);\n      element.async = false;\n      element.src = url;\n      if (url in hashes) {\n        element.crossOrigin = \"anonymous\";\n        element.integrity = \"sha384-\" + hashes[url];\n      }\n      console.debug(\"Bokeh: injecting script tag for BokehJS library: \", url);\n      document.head.appendChild(element);\n    }\n  };\n\n  function inject_raw_css(css) {\n    const element = document.createElement(\"style\");\n    element.appendChild(document.createTextNode(css));\n    document.body.appendChild(element);\n  }\n\n  \n  var js_urls = [\"https://cdn.bokeh.org/bokeh/release/bokeh-2.3.0.min.js\", \"https://cdn.bokeh.org/bokeh/release/bokeh-widgets-2.3.0.min.js\", \"https://cdn.bokeh.org/bokeh/release/bokeh-tables-2.3.0.min.js\"];\n  var css_urls = [];\n  \n\n  var inline_js = [\n    function(Bokeh) {\n      Bokeh.set_log_level(\"info\");\n    },\n    function(Bokeh) {\n    \n    \n    }\n  ];\n\n  function run_inline_js() {\n    \n    if (root.Bokeh !== undefined || force === true) {\n      \n    for (var i = 0; i < inline_js.length; i++) {\n      inline_js[i].call(root, root.Bokeh);\n    }\n    } else if (Date.now() < root._bokeh_timeout) {\n      setTimeout(run_inline_js, 100);\n    } else if (!root._bokeh_failed_load) {\n      console.log(\"Bokeh: BokehJS failed to load within specified timeout.\");\n      root._bokeh_failed_load = true;\n    } else if (force !== true) {\n      var cell = $(document.getElementById(null)).parents('.cell').data().cell;\n      cell.output_area.append_execute_result(NB_LOAD_WARNING)\n    }\n\n  }\n\n  if (root._bokeh_is_loading === 0) {\n    console.debug(\"Bokeh: BokehJS loaded, going straight to plotting\");\n    run_inline_js();\n  } else {\n    load_libs(css_urls, js_urls, function() {\n      console.debug(\"Bokeh: BokehJS plotting callback run at\", now());\n      run_inline_js();\n    });\n  }\n}(window));"
          },
          "metadata": {
            "tags": []
          }
        },
        {
          "output_type": "display_data",
          "data": {
            "text/html": [
              "\n",
              "\n",
              "\n",
              "\n",
              "\n",
              "\n",
              "  <div class=\"bk-root\" id=\"e8fc421d-fec3-4eb6-bb20-578b9b885d64\" data-root-id=\"1092\"></div>\n"
            ]
          },
          "metadata": {
            "tags": []
          }
        },
        {
          "output_type": "display_data",
          "data": {
            "application/javascript": [
              "(function(root) {\n",
              "  function embed_document(root) {\n",
              "    \n",
              "  var docs_json = {\"33b41b40-8dfa-4940-9e67-63659f5e4c2e\":{\"defs\":[{\"extends\":null,\"module\":null,\"name\":\"DataModel\",\"overrides\":[],\"properties\":[]}],\"roots\":{\"references\":[{\"attributes\":{\"below\":[{\"id\":\"1103\"}],\"center\":[{\"id\":\"1106\"},{\"id\":\"1110\"},{\"id\":\"1126\"}],\"left\":[{\"id\":\"1107\"}],\"renderers\":[{\"id\":\"1124\"}],\"title\":{\"id\":\"1093\"},\"toolbar\":{\"id\":\"1115\"},\"toolbar_location\":\"above\",\"x_range\":{\"id\":\"1095\"},\"x_scale\":{\"id\":\"1099\"},\"y_range\":{\"id\":\"1097\"},\"y_scale\":{\"id\":\"1101\"}},\"id\":\"1092\",\"subtype\":\"Figure\",\"type\":\"Plot\"},{\"attributes\":{},\"id\":\"1108\",\"type\":\"BasicTicker\"},{\"attributes\":{\"fill_color\":{\"field\":\"color\"},\"line_color\":{\"value\":\"#1f77b4\"},\"size\":{\"value\":8},\"x\":{\"field\":\"x1\"},\"y\":{\"field\":\"x2\"}},\"id\":\"1122\",\"type\":\"Scatter\"},{\"attributes\":{},\"id\":\"1140\",\"type\":\"AllLabels\"},{\"attributes\":{\"axis\":{\"id\":\"1103\"},\"ticker\":null},\"id\":\"1106\",\"type\":\"Grid\"},{\"attributes\":{\"source\":{\"id\":\"1120\"}},\"id\":\"1125\",\"type\":\"CDSView\"},{\"attributes\":{\"active_multi\":null,\"tools\":[{\"id\":\"1111\"},{\"id\":\"1112\"},{\"id\":\"1113\"},{\"id\":\"1114\"}]},\"id\":\"1115\",\"type\":\"Toolbar\"},{\"attributes\":{},\"id\":\"1139\",\"type\":\"BasicTickFormatter\"},{\"attributes\":{\"text\":\"vector T-SNE for most polarized words\"},\"id\":\"1093\",\"type\":\"Title\"},{\"attributes\":{},\"id\":\"1142\",\"type\":\"BasicTickFormatter\"},{\"attributes\":{\"source\":{\"id\":\"1120\"},\"text\":{\"field\":\"names\"},\"text_align\":{\"value\":\"center\"},\"text_color\":{\"value\":\"#555555\"},\"text_font_size\":{\"value\":\"8pt\"},\"x\":{\"field\":\"x1\"},\"y\":{\"field\":\"x2\"},\"y_offset\":{\"value\":6}},\"id\":\"1126\",\"type\":\"LabelSet\"},{\"attributes\":{\"data\":{\"color\":[\"#00ff00\",\"#00ff00\",\"#00ff00\",\"#00ff00\",\"#00ff00\",\"#00ff00\",\"#00ff00\",\"#00ff00\",\"#00ff00\",\"#00ff00\",\"#00ff00\",\"#00ff00\",\"#00ff00\",\"#00ff00\",\"#00ffff\",\"#00ff00\",\"#00ff00\",\"#00ff00\",\"#00ff00\",\"#00ff00\",\"#00ff00\",\"#00ffff\",\"#00ff00\",\"#00ff00\",\"#00ff00\",\"#00ff00\",\"#00ff00\",\"#00ff00\",\"#00ff00\",\"#00ffff\",\"#00ff00\",\"#00ff00\",\"#00ff00\",\"#00ff00\",\"#00ff00\",\"#00ff00\",\"#00ff00\",\"#00ff00\",\"#00ff00\",\"#00ff00\",\"#00ff00\",\"#00ff00\",\"#00ff00\",\"#00ff00\",\"#00ff00\",\"#00ff00\",\"#00ff00\",\"#00ffff\",\"#00ff00\",\"#00ff00\",\"#00ffff\",\"#00ffff\",\"#00ff00\",\"#00ffff\",\"#00ffff\",\"#00ff00\",\"#000000\",\"#00ff00\",\"#00ff00\",\"#00ff00\",\"#00ff00\",\"#00ff00\",\"#00ff00\",\"#00ff00\",\"#00ff00\",\"#00ff00\",\"#00ffff\",\"#00ff00\",\"#00ff00\",\"#00ff00\",\"#00ffff\",\"#00ff00\",\"#00ff00\",\"#00ff00\",\"#00ff00\",\"#00ff00\",\"#00ffff\",\"#00ffff\",\"#00ff00\",\"#00ff00\",\"#00ff00\",\"#00ff00\",\"#00ff00\",\"#00ffff\",\"#00ff00\",\"#00ff00\",\"#00ffff\",\"#00ff00\",\"#00ff00\",\"#00ff00\",\"#00ff00\",\"#00ff00\",\"#00ff00\",\"#000000\",\"#00ff00\",\"#00ff00\",\"#00ff00\",\"#00ff00\",\"#00ff00\",\"#00ff00\",\"#00ff00\",\"#00ff00\",\"#00ff00\",\"#00ff00\",\"#00ff00\",\"#00ff00\",\"#00ff00\",\"#000000\",\"#00ff00\",\"#000000\",\"#00ff00\",\"#00ff00\",\"#00ff00\",\"#00ff00\",\"#00ff00\",\"#00ff00\",\"#00ffff\",\"#00ff00\",\"#00ff00\",\"#00ff00\",\"#00ffff\",\"#00ff00\",\"#00ff00\",\"#00ff00\",\"#00ff00\",\"#000000\",\"#00ffff\",\"#00ff00\",\"#00ff00\",\"#00ff00\",\"#00ff00\",\"#00ffff\",\"#00ffff\",\"#00ff00\",\"#00ffff\",\"#00ff00\",\"#00ff00\",\"#00ff00\",\"#00ff00\",\"#00ff00\",\"#00ff00\",\"#00ff00\",\"#00ff00\",\"#00ffff\",\"#00ff00\",\"#00ff00\",\"#00ff00\",\"#00ff00\",\"#00ff00\",\"#00ff00\",\"#00ff00\",\"#00ff00\",\"#000000\",\"#00ff00\",\"#00ff00\",\"#00ff00\",\"#00ff00\",\"#00ff00\",\"#00ff00\",\"#00ff00\",\"#00ff00\",\"#00ff00\",\"#00ff00\",\"#00ff00\",\"#00ff00\",\"#00ff00\",\"#00ff00\",\"#00ff00\",\"#00ff00\",\"#00ffff\",\"#00ff00\",\"#00ff00\",\"#00ff00\",\"#00ff00\",\"#00ff00\",\"#00ff00\",\"#00ff00\",\"#00ff00\",\"#00ff00\",\"#00ff00\",\"#00ff00\",\"#00ff00\",\"#00ffff\",\"#00ff00\",\"#00ff00\",\"#00ff00\",\"#00ff00\",\"#00ff00\",\"#00ff00\",\"#00ff00\",\"#00ff00\",\"#00ff00\",\"#000000\",\"#00ff00\",\"#00ff00\",\"#00ff00\",\"#00ff00\",\"#00ff00\",\"#000000\",\"#00ff00\",\"#00ff00\",\"#00ff00\",\"#00ffff\",\"#00ff00\",\"#00ff00\",\"#00ff00\",\"#00ff00\",\"#00ff00\",\"#00ff00\",\"#00ff00\",\"#00ff00\",\"#000000\",\"#00ff00\",\"#00ff00\",\"#00ff00\",\"#00ff00\",\"#00ffff\",\"#00ff00\",\"#00ff00\",\"#000000\",\"#00ff00\",\"#00ffff\",\"#00ffff\",\"#00ff00\",\"#00ff00\",\"#00ff00\",\"#00ff00\",\"#00ff00\",\"#00ff00\",\"#00ff00\",\"#00ff00\",\"#00ff00\",\"#00ff00\",\"#000000\",\"#00ff00\",\"#00ff00\",\"#00ff00\",\"#000000\",\"#00ff00\",\"#00ffff\",\"#00ff00\",\"#00ff00\",\"#00ff00\",\"#00ff00\",\"#00ff00\",\"#000000\",\"#00ff00\",\"#00ff00\",\"#00ff00\",\"#00ff00\",\"#00ff00\",\"#00ff00\",\"#00ff00\",\"#00ff00\",\"#00ff00\",\"#00ff00\",\"#00ffff\",\"#00ff00\",\"#00ff00\",\"#00ffff\",\"#00ff00\",\"#00ff00\",\"#00ff00\",\"#00ff00\",\"#00ff00\",\"#00ff00\",\"#00ff00\",\"#00ff00\",\"#00ff00\",\"#00ff00\",\"#000000\",\"#00ff00\",\"#00ffff\",\"#00ff00\",\"#00ff00\",\"#00ffff\",\"#00ff00\",\"#00ff00\",\"#00ff00\",\"#00ff00\",\"#000000\",\"#00ff00\",\"#00ff00\",\"#00ff00\",\"#00ff00\",\"#00ff00\",\"#00ff00\",\"#00ff00\",\"#00ffff\",\"#00ff00\",\"#000000\",\"#00ff00\",\"#00ff00\",\"#00ff00\",\"#00ff00\",\"#00ff00\",\"#00ff00\",\"#000000\",\"#00ff00\",\"#00ff00\",\"#00ff00\",\"#000000\",\"#00ff00\",\"#00ff00\",\"#00ff00\",\"#00ff00\",\"#00ff00\",\"#00ff00\",\"#00ff00\",\"#00ff00\",\"#00ff00\",\"#00ff00\",\"#00ffff\",\"#00ff00\",\"#00ff00\",\"#00ff00\",\"#00ffff\",\"#00ff00\",\"#00ff00\",\"#00ff00\",\"#00ff00\",\"#00ff00\",\"#00ff00\",\"#00ff00\",\"#00ffff\",\"#00ffff\",\"#00ff00\",\"#00ff00\",\"#00ffff\",\"#00ffff\",\"#00ff00\",\"#00ff00\",\"#00ffff\",\"#00ff00\",\"#00ff00\",\"#000000\",\"#00ff00\",\"#00ffff\",\"#00ff00\",\"#00ff00\",\"#00ff00\",\"#00ffff\",\"#00ffff\",\"#00ff00\",\"#00ff00\",\"#00ff00\",\"#00ff00\",\"#00ff00\",\"#000000\",\"#00ff00\",\"#00ff00\",\"#00ff00\",\"#00ffff\",\"#00ffff\",\"#00ff00\",\"#00ff00\",\"#00ffff\",\"#00ff00\",\"#00ffff\",\"#00ff00\",\"#00ff00\",\"#00ff00\",\"#00ff00\",\"#00ff00\",\"#00ffff\",\"#00ff00\",\"#00ff00\",\"#00ff00\",\"#00ff00\",\"#00ff00\",\"#00ff00\",\"#00ff00\",\"#00ff00\",\"#00ff00\",\"#00ff00\",\"#00ff00\",\"#00ffff\",\"#00ff00\",\"#00ff00\",\"#00ff00\",\"#00ff00\",\"#00ff00\",\"#00ff00\",\"#00ff00\",\"#00ffff\",\"#00ff00\",\"#00ff00\",\"#00ff00\",\"#00ff00\",\"#00ff00\",\"#00ff00\",\"#00ff00\",\"#000000\",\"#00ff00\",\"#00ff00\",\"#000000\",\"#000000\",\"#00ff00\",\"#00ff00\",\"#00ffff\",\"#00ff00\",\"#00ff00\",\"#00ff00\",\"#00ffff\",\"#00ff00\",\"#00ff00\",\"#00ffff\",\"#00ff00\",\"#00ff00\",\"#00ff00\",\"#00ff00\",\"#00ff00\",\"#00ff00\",\"#00ff00\",\"#00ff00\",\"#00ff00\",\"#00ff00\",\"#00ff00\",\"#00ff00\",\"#00ff00\",\"#00ff00\",\"#00ff00\",\"#00ff00\",\"#00ff00\",\"#00ff00\",\"#00ff00\",\"#00ff00\",\"#00ff00\",\"#00ff00\",\"#00ff00\",\"#00ff00\",\"#00ff00\",\"#00ff00\",\"#00ff00\",\"#000000\",\"#00ff00\",\"#00ff00\",\"#00ff00\",\"#00ff00\",\"#00ffff\",\"#00ff00\",\"#00ff00\",\"#00ff00\",\"#000000\",\"#00ff00\",\"#00ff00\",\"#00ff00\",\"#00ff00\",\"#00ff00\",\"#00ff00\",\"#00ff00\",\"#00ff00\",\"#00ff00\",\"#00ff00\",\"#00ffff\",\"#00ff00\",\"#00ff00\",\"#00ff00\",\"#000000\",\"#00ff00\",\"#00ff00\",\"#00ff00\",\"#00ff00\",\"#00ff00\",\"#00ff00\",\"#00ff00\",\"#000000\",\"#00ff00\",\"#00ff00\",\"#00ff00\",\"#00ff00\",\"#00ff00\",\"#00ff00\",\"#00ff00\",\"#00ff00\",\"#00ff00\",\"#00ff00\",\"#00ff00\",\"#00ff00\",\"#00ff00\",\"#00ff00\",\"#00ff00\",\"#00ff00\",\"#00ff00\",\"#00ff00\",\"#00ff00\",\"#00ff00\",\"#00ff00\",\"#00ff00\",\"#00ff00\",\"#00ff00\",\"#00ff00\",\"#00ff00\",\"#00ff00\",\"#000000\",\"#00ff00\",\"#00ffff\",\"#00ff00\",\"#00ff00\",\"#00ffff\",\"#00ff00\",\"#00ff00\",\"#000000\",\"#00ff00\",\"#00ff00\",\"#00ffff\",\"#00ff00\",\"#00ff00\",\"#00ffff\",\"#00ff00\",\"#00ff00\",\"#00ff00\",\"#00ff00\",\"#00ff00\",\"#00ff00\",\"#00ff00\",\"#000000\",\"#00ffff\",\"#00ff00\",\"#00ff00\",\"#000000\",\"#00ff00\",\"#00ff00\",\"#00ff00\",\"#00ff00\",\"#00ff00\",\"#00ff00\",\"#00ff00\",\"#00ff00\",\"#00ff00\",\"#00ff00\",\"#00ff00\",\"#00ff00\",\"#00ff00\",\"#00ff00\",\"#00ff00\",\"#00ff00\",\"#00ffff\",\"#00ff00\",\"#000000\",\"#00ff00\",\"#00ff00\",\"#00ff00\",\"#00ff00\",\"#00ff00\",\"#00ff00\",\"#00ff00\",\"#00ff00\",\"#00ff00\",\"#00ff00\",\"#00ff00\",\"#00ff00\",\"#00ff00\",\"#00ff00\",\"#00ff00\",\"#00ffff\",\"#00ff00\",\"#00ff00\",\"#00ff00\",\"#00ffff\",\"#00ff00\",\"#00ff00\",\"#00ff00\",\"#00ff00\",\"#00ff00\",\"#000000\",\"#00ff00\",\"#00ff00\",\"#00ff00\",\"#00ff00\",\"#00ff00\",\"#00ff00\",\"#00ffff\",\"#00ff00\",\"#00ff00\",\"#00ff00\",\"#00ff00\",\"#00ffff\",\"#00ff00\",\"#00ff00\",\"#00ff00\",\"#00ff00\",\"#00ff00\",\"#00ff00\",\"#00ff00\",\"#00ff00\",\"#00ff00\",\"#00ffff\",\"#00ff00\",\"#00ff00\",\"#00ff00\",\"#00ff00\",\"#00ff00\",\"#00ff00\",\"#00ff00\",\"#00ff00\",\"#00ffff\",\"#00ff00\",\"#00ff00\",\"#00ff00\",\"#00ff00\",\"#00ff00\",\"#00ffff\",\"#000000\",\"#00ff00\",\"#000000\",\"#00ff00\",\"#00ff00\",\"#00ff00\",\"#00ff00\",\"#00ff00\",\"#00ff00\",\"#00ff00\",\"#00ff00\",\"#00ffff\",\"#00ff00\",\"#00ff00\",\"#00ff00\",\"#00ff00\",\"#00ff00\",\"#00ff00\",\"#00ff00\",\"#00ff00\",\"#00ff00\",\"#00ff00\",\"#00ff00\",\"#00ff00\",\"#00ff00\",\"#00ff00\",\"#00ff00\",\"#00ff00\",\"#00ff00\",\"#00ff00\",\"#00ff00\",\"#00ff00\",\"#00ffff\",\"#00ff00\",\"#00ff00\",\"#00ff00\",\"#00ff00\",\"#00ff00\",\"#00ff00\",\"#00ff00\",\"#00ff00\",\"#00ff00\",\"#00ff00\",\"#00ff00\",\"#00ff00\",\"#00ff00\",\"#00ff00\",\"#00ff00\",\"#00ff00\",\"#00ff00\",\"#00ff00\",\"#00ff00\",\"#00ff00\",\"#00ff00\",\"#00ff00\",\"#00ffff\",\"#00ff00\",\"#00ff00\",\"#00ff00\",\"#000000\",\"#00ff00\",\"#00ff00\",\"#00ff00\",\"#00ff00\",\"#00ff00\",\"#00ff00\",\"#00ff00\",\"#00ff00\",\"#00ff00\",\"#00ff00\",\"#00ff00\",\"#00ff00\",\"#00ff00\",\"#00ff00\",\"#00ff00\",\"#000000\",\"#00ff00\",\"#00ff00\",\"#00ff00\",\"#00ff00\",\"#00ff00\",\"#00ff00\",\"#00ff00\",\"#00ff00\",\"#00ff00\",\"#00ff00\",\"#00ff00\",\"#00ff00\",\"#00ff00\",\"#00ff00\",\"#00ff00\",\"#00ff00\",\"#00ff00\",\"#00ff00\",\"#00ff00\",\"#00ff00\",\"#00ff00\",\"#00ff00\",\"#00ff00\",\"#00ffff\",\"#00ff00\",\"#00ffff\",\"#00ff00\",\"#00ff00\",\"#00ff00\",\"#00ff00\",\"#00ffff\",\"#00ffff\",\"#00ff00\",\"#000000\",\"#00ffff\",\"#00ff00\",\"#00ff00\",\"#00ff00\",\"#000000\",\"#00ff00\",\"#00ff00\",\"#00ff00\",\"#00ff00\",\"#00ffff\",\"#00ff00\",\"#00ff00\",\"#00ff00\",\"#00ff00\",\"#00ff00\",\"#00ff00\",\"#00ff00\",\"#00ff00\",\"#00ff00\",\"#00ffff\",\"#00ff00\",\"#00ffff\",\"#00ff00\",\"#000000\",\"#00ff00\",\"#00ff00\",\"#00ff00\",\"#00ff00\",\"#00ff00\",\"#00ff00\",\"#00ff00\",\"#00ff00\",\"#00ffff\",\"#00ff00\",\"#000000\",\"#00ff00\",\"#00ff00\",\"#00ff00\",\"#00ff00\",\"#00ff00\",\"#00ff00\",\"#00ff00\",\"#00ffff\",\"#00ff00\",\"#00ff00\",\"#00ff00\",\"#00ff00\",\"#00ff00\",\"#00ffff\",\"#00ff00\",\"#00ff00\",\"#00ff00\",\"#00ff00\",\"#000000\",\"#00ff00\",\"#00ff00\",\"#00ff00\",\"#00ff00\",\"#00ff00\",\"#00ff00\",\"#00ff00\",\"#00ffff\",\"#00ff00\",\"#00ffff\",\"#000000\",\"#00ff00\",\"#00ff00\",\"#00ff00\",\"#00ff00\",\"#00ff00\",\"#00ff00\",\"#00ff00\",\"#00ff00\",\"#00ff00\",\"#00ffff\",\"#00ff00\",\"#00ff00\",\"#00ff00\",\"#00ff00\",\"#00ffff\",\"#00ff00\",\"#00ff00\",\"#00ff00\",\"#00ff00\",\"#00ff00\",\"#00ff00\",\"#00ffff\",\"#00ff00\",\"#00ff00\",\"#00ff00\",\"#00ff00\",\"#00ffff\",\"#00ff00\",\"#00ff00\",\"#00ff00\",\"#00ffff\",\"#00ff00\",\"#00ff00\",\"#00ff00\",\"#00ff00\",\"#00ff00\",\"#00ff00\",\"#00ff00\",\"#000000\",\"#00ff00\",\"#00ffff\",\"#00ff00\",\"#00ff00\",\"#00ff00\",\"#000000\",\"#00ff00\",\"#00ff00\",\"#00ff00\",\"#00ff00\",\"#00ff00\",\"#00ff00\",\"#00ff00\",\"#00ff00\",\"#00ff00\",\"#00ffff\",\"#00ff00\",\"#00ff00\",\"#00ff00\",\"#00ff00\",\"#00ff00\",\"#00ff00\",\"#00ff00\",\"#00ff00\",\"#000000\",\"#00ff00\",\"#00ff00\",\"#00ff00\",\"#00ff00\",\"#00ff00\",\"#00ff00\",\"#00ffff\",\"#00ff00\",\"#00ff00\",\"#00ff00\",\"#00ff00\",\"#00ff00\",\"#00ff00\",\"#00ff00\",\"#00ff00\",\"#00ff00\",\"#00ff00\",\"#00ff00\",\"#00ff00\",\"#00ff00\",\"#00ff00\",\"#00ff00\",\"#00ff00\",\"#00ff00\",\"#00ff00\",\"#00ff00\",\"#00ff00\",\"#000000\",\"#00ff00\",\"#00ff00\",\"#00ff00\",\"#00ff00\",\"#00ff00\",\"#00ff00\",\"#00ff00\",\"#00ff00\",\"#00ff00\",\"#00ff00\",\"#00ff00\",\"#000000\",\"#000000\",\"#00ff00\",\"#00ff00\",\"#00ff00\",\"#00ffff\",\"#000000\",\"#00ff00\",\"#00ff00\",\"#00ff00\",\"#00ff00\",\"#00ff00\",\"#00ff00\",\"#00ff00\",\"#00ff00\",\"#000000\",\"#00ff00\",\"#00ff00\",\"#00ff00\",\"#00ff00\",\"#00ffff\",\"#00ff00\",\"#000000\",\"#00ff00\",\"#00ff00\",\"#00ff00\",\"#00ff00\",\"#00ff00\",\"#00ff00\",\"#00ff00\",\"#00ffff\",\"#00ff00\",\"#00ff00\",\"#000000\",\"#00ff00\",\"#00ff00\",\"#000000\",\"#00ffff\",\"#00ff00\",\"#00ff00\",\"#00ff00\",\"#00ff00\",\"#00ff00\",\"#00ff00\",\"#00ffff\",\"#000000\",\"#00ff00\",\"#00ff00\",\"#00ff00\",\"#00ffff\",\"#00ffff\",\"#00ffff\",\"#00ff00\",\"#00ff00\",\"#00ff00\",\"#00ff00\",\"#00ff00\",\"#00ff00\",\"#00ff00\",\"#00ff00\",\"#00ff00\",\"#00ff00\",\"#00ff00\",\"#00ff00\",\"#00ff00\",\"#00ff00\",\"#00ff00\",\"#00ff00\",\"#00ff00\",\"#000000\",\"#00ff00\",\"#00ff00\",\"#00ff00\",\"#000000\",\"#00ff00\",\"#00ff00\",\"#00ff00\",\"#00ff00\",\"#00ffff\",\"#00ff00\",\"#00ff00\",\"#00ff00\",\"#00ff00\",\"#000000\",\"#00ff00\",\"#00ff00\",\"#000000\",\"#000000\",\"#00ff00\",\"#00ff00\",\"#00ffff\",\"#00ff00\",\"#00ff00\",\"#00ff00\",\"#00ff00\",\"#00ff00\",\"#00ff00\",\"#00ff00\",\"#00ffff\",\"#00ff00\",\"#00ff00\",\"#00ff00\",\"#00ffff\",\"#00ff00\",\"#00ff00\",\"#00ff00\",\"#00ff00\",\"#00ff00\",\"#00ff00\",\"#00ff00\",\"#00ff00\",\"#00ff00\",\"#00ff00\",\"#00ff00\",\"#00ff00\",\"#00ffff\",\"#00ff00\",\"#00ff00\",\"#00ff00\",\"#000000\",\"#00ff00\",\"#00ff00\",\"#00ff00\",\"#000000\",\"#00ff00\",\"#00ff00\",\"#00ff00\",\"#00ffff\",\"#00ffff\",\"#00ff00\",\"#000000\",\"#00ff00\",\"#00ff00\",\"#00ff00\",\"#00ff00\",\"#00ff00\",\"#00ff00\",\"#00ff00\",\"#00ff00\",\"#00ff00\",\"#00ff00\",\"#00ff00\",\"#00ff00\",\"#00ff00\",\"#00ff00\",\"#00ffff\",\"#00ffff\",\"#00ff00\",\"#00ff00\",\"#00ff00\",\"#00ff00\",\"#00ff00\",\"#00ff00\",\"#00ff00\",\"#00ff00\",\"#00ff00\",\"#00ff00\",\"#00ff00\",\"#00ffff\",\"#00ff00\",\"#00ff00\",\"#00ff00\",\"#00ff00\",\"#00ffff\",\"#00ff00\",\"#00ff00\",\"#00ff00\",\"#00ff00\",\"#00ff00\",\"#00ff00\",\"#000000\",\"#000000\",\"#00ff00\",\"#00ff00\",\"#00ff00\",\"#00ff00\",\"#00ff00\",\"#00ff00\",\"#00ffff\",\"#00ff00\",\"#00ff00\",\"#00ff00\",\"#00ff00\",\"#00ff00\",\"#00ff00\",\"#00ff00\",\"#00ff00\",\"#00ff00\",\"#00ff00\",\"#00ffff\",\"#00ff00\",\"#00ff00\",\"#00ff00\",\"#00ff00\",\"#00ff00\",\"#00ffff\",\"#00ff00\",\"#00ffff\",\"#00ff00\",\"#00ff00\",\"#00ff00\",\"#00ff00\",\"#00ffff\",\"#00ff00\",\"#00ff00\",\"#00ff00\",\"#000000\",\"#00ff00\",\"#000000\",\"#00ffff\",\"#00ff00\",\"#00ffff\",\"#00ff00\",\"#00ff00\",\"#000000\",\"#00ff00\",\"#00ff00\",\"#00ff00\",\"#00ffff\",\"#000000\",\"#00ff00\",\"#00ff00\",\"#00ff00\",\"#00ff00\",\"#00ff00\",\"#00ff00\",\"#00ff00\",\"#00ff00\",\"#00ff00\",\"#00ff00\",\"#00ff00\",\"#00ff00\",\"#000000\",\"#00ff00\",\"#00ff00\",\"#00ff00\",\"#00ff00\",\"#00ffff\",\"#00ff00\",\"#00ffff\",\"#00ff00\",\"#00ff00\",\"#00ff00\",\"#00ff00\",\"#00ff00\",\"#00ff00\",\"#00ff00\",\"#00ff00\",\"#00ffff\",\"#00ff00\",\"#00ffff\",\"#000000\",\"#00ffff\",\"#00ff00\",\"#00ff00\",\"#00ffff\",\"#00ff00\",\"#00ff00\",\"#00ff00\",\"#00ff00\",\"#00ff00\",\"#00ff00\",\"#00ff00\",\"#00ff00\",\"#00ff00\",\"#00ff00\",\"#000000\",\"#00ffff\",\"#00ff00\",\"#00ff00\",\"#00ff00\",\"#00ff00\",\"#00ff00\",\"#00ffff\",\"#00ff00\",\"#00ffff\",\"#00ff00\",\"#00ff00\",\"#00ff00\",\"#00ff00\",\"#00ff00\",\"#00ff00\",\"#00ff00\",\"#000000\",\"#00ff00\",\"#00ff00\",\"#000000\",\"#00ffff\",\"#00ff00\",\"#00ff00\",\"#00ffff\",\"#00ff00\",\"#00ff00\",\"#00ff00\",\"#00ff00\",\"#00ff00\",\"#000000\",\"#00ff00\",\"#00ff00\",\"#00ff00\",\"#00ff00\",\"#00ffff\",\"#00ff00\",\"#00ff00\",\"#00ffff\",\"#00ff00\",\"#00ff00\",\"#00ff00\",\"#00ff00\",\"#000000\",\"#00ff00\",\"#00ff00\",\"#00ff00\",\"#00ff00\",\"#00ffff\",\"#00ff00\",\"#00ffff\",\"#00ff00\",\"#00ff00\",\"#00ff00\",\"#00ff00\",\"#00ff00\",\"#00ff00\",\"#00ff00\",\"#00ff00\",\"#00ff00\",\"#00ff00\",\"#00ff00\",\"#00ff00\",\"#00ff00\",\"#00ff00\",\"#00ff00\",\"#00ff00\",\"#00ff00\",\"#00ff00\",\"#00ff00\",\"#00ffff\",\"#00ff00\",\"#000000\",\"#00ff00\",\"#00ff00\",\"#00ffff\",\"#000000\",\"#00ff00\",\"#00ff00\",\"#00ff00\",\"#00ff00\",\"#00ffff\",\"#00ff00\",\"#00ff00\",\"#00ff00\",\"#00ff00\",\"#00ff00\",\"#00ffff\",\"#00ff00\",\"#00ff00\",\"#00ff00\",\"#00ffff\",\"#000000\",\"#00ff00\",\"#00ff00\",\"#00ffff\",\"#00ff00\",\"#00ffff\",\"#00ff00\",\"#00ffff\",\"#00ff00\",\"#00ff00\",\"#00ff00\",\"#00ff00\",\"#000000\",\"#000000\",\"#00ff00\",\"#000000\",\"#00ff00\",\"#00ff00\",\"#00ff00\",\"#00ff00\",\"#00ff00\",\"#00ff00\",\"#00ff00\",\"#00ff00\",\"#00ff00\",\"#00ffff\",\"#00ff00\",\"#00ff00\",\"#00ff00\",\"#00ff00\",\"#00ff00\",\"#00ff00\",\"#00ff00\",\"#00ff00\",\"#00ff00\",\"#00ff00\",\"#00ff00\",\"#00ff00\",\"#00ff00\",\"#00ff00\",\"#00ff00\",\"#00ff00\",\"#00ff00\",\"#00ff00\",\"#00ff00\",\"#000000\",\"#00ffff\",\"#000000\",\"#00ff00\",\"#00ff00\",\"#00ff00\",\"#00ff00\",\"#00ff00\",\"#00ff00\",\"#00ff00\",\"#000000\",\"#00ff00\",\"#00ff00\",\"#00ff00\",\"#00ffff\",\"#00ffff\",\"#00ff00\",\"#00ffff\",\"#00ff00\",\"#00ff00\",\"#00ff00\",\"#00ff00\",\"#00ff00\",\"#00ff00\",\"#00ff00\",\"#000000\",\"#00ff00\",\"#00ff00\",\"#00ff00\",\"#000000\",\"#00ff00\",\"#000000\",\"#00ff00\",\"#00ff00\",\"#00ffff\",\"#00ff00\",\"#00ffff\",\"#00ff00\",\"#00ff00\",\"#00ff00\",\"#00ff00\",\"#00ffff\",\"#00ff00\",\"#00ff00\",\"#00ff00\",\"#00ff00\",\"#00ff00\",\"#00ff00\",\"#00ff00\",\"#000000\",\"#00ff00\",\"#00ff00\",\"#00ff00\",\"#00ff00\",\"#00ff00\",\"#00ff00\",\"#00ff00\",\"#00ff00\",\"#00ff00\",\"#00ff00\",\"#00ff00\",\"#00ff00\",\"#00ff00\",\"#000000\",\"#00ff00\",\"#00ff00\",\"#00ff00\",\"#00ff00\",\"#00ffff\",\"#000000\",\"#00ff00\",\"#00ff00\",\"#00ff00\",\"#00ff00\",\"#00ff00\",\"#00ff00\",\"#00ff00\",\"#00ff00\",\"#00ff00\",\"#00ff00\",\"#00ff00\",\"#00ff00\",\"#00ff00\",\"#00ff00\",\"#00ff00\",\"#00ffff\",\"#00ff00\",\"#00ff00\",\"#00ff00\",\"#00ff00\",\"#00ff00\",\"#00ff00\",\"#00ff00\",\"#00ff00\",\"#00ff00\",\"#00ff00\",\"#00ff00\",\"#00ff00\",\"#00ff00\",\"#00ff00\",\"#00ff00\",\"#00ff00\",\"#00ffff\",\"#00ff00\",\"#00ff00\",\"#00ff00\",\"#00ff00\",\"#00ff00\",\"#00ff00\",\"#00ff00\",\"#00ff00\",\"#00ff00\",\"#00ff00\",\"#00ff00\",\"#00ff00\",\"#00ff00\",\"#00ff00\",\"#00ff00\",\"#00ffff\",\"#00ff00\",\"#00ff00\",\"#00ff00\",\"#00ffff\",\"#00ffff\",\"#00ffff\",\"#000000\",\"#00ff00\",\"#00ffff\",\"#00ff00\",\"#00ff00\",\"#00ffff\",\"#00ff00\",\"#00ff00\",\"#00ff00\",\"#00ff00\",\"#00ff00\",\"#000000\",\"#00ff00\",\"#00ff00\",\"#00ffff\",\"#00ff00\",\"#00ff00\",\"#00ff00\",\"#00ff00\",\"#00ff00\",\"#00ff00\",\"#00ff00\",\"#000000\",\"#00ff00\",\"#000000\",\"#00ff00\",\"#00ff00\",\"#00ff00\",\"#00ff00\",\"#00ff00\",\"#00ff00\",\"#00ff00\",\"#00ff00\",\"#00ff00\",\"#00ff00\",\"#00ff00\",\"#00ffff\",\"#00ff00\",\"#00ff00\",\"#00ffff\",\"#00ffff\",\"#00ff00\",\"#000000\",\"#00ff00\",\"#00ffff\",\"#00ff00\",\"#00ffff\",\"#00ff00\",\"#00ff00\",\"#00ff00\",\"#00ff00\",\"#000000\",\"#00ff00\",\"#00ff00\",\"#00ff00\",\"#00ff00\",\"#00ff00\",\"#00ff00\",\"#00ffff\",\"#00ff00\",\"#00ff00\",\"#00ff00\",\"#000000\",\"#00ff00\",\"#00ff00\",\"#00ff00\",\"#00ff00\",\"#00ff00\",\"#00ff00\",\"#00ff00\",\"#00ff00\",\"#00ff00\",\"#00ff00\",\"#00ff00\",\"#00ff00\",\"#00ff00\",\"#00ff00\",\"#00ffff\",\"#00ff00\",\"#00ffff\",\"#00ff00\",\"#00ff00\",\"#00ff00\",\"#00ff00\",\"#00ff00\",\"#00ff00\",\"#00ff00\",\"#00ff00\",\"#00ff00\",\"#00ff00\",\"#00ff00\",\"#00ffff\",\"#00ff00\",\"#00ff00\",\"#00ff00\",\"#00ff00\",\"#00ff00\",\"#00ff00\",\"#00ff00\",\"#00ffff\",\"#00ff00\",\"#00ff00\",\"#00ffff\",\"#00ff00\",\"#00ff00\",\"#00ff00\",\"#000000\",\"#00ff00\",\"#00ff00\",\"#00ff00\",\"#00ff00\",\"#00ff00\",\"#00ff00\",\"#00ff00\",\"#00ff00\",\"#00ff00\",\"#000000\",\"#00ff00\",\"#00ffff\",\"#00ff00\",\"#00ff00\",\"#00ff00\",\"#00ffff\",\"#00ff00\",\"#00ff00\",\"#00ff00\",\"#00ff00\",\"#00ff00\",\"#00ff00\",\"#00ff00\",\"#000000\",\"#00ff00\",\"#00ff00\",\"#00ff00\",\"#00ff00\",\"#00ff00\",\"#00ff00\",\"#00ff00\",\"#00ff00\",\"#00ff00\",\"#00ff00\",\"#000000\",\"#00ff00\",\"#00ff00\",\"#00ff00\",\"#00ff00\",\"#00ff00\",\"#00ff00\",\"#00ff00\",\"#00ff00\",\"#00ff00\",\"#00ff00\",\"#00ff00\",\"#00ff00\",\"#00ffff\",\"#00ff00\",\"#00ff00\",\"#00ffff\",\"#00ff00\",\"#00ffff\",\"#00ff00\",\"#00ff00\",\"#00ff00\",\"#00ff00\",\"#000000\",\"#00ff00\",\"#00ff00\",\"#00ff00\",\"#00ff00\",\"#00ff00\",\"#00ff00\",\"#00ff00\",\"#000000\",\"#00ff00\",\"#00ff00\",\"#00ffff\",\"#00ff00\",\"#00ff00\",\"#00ff00\",\"#00ff00\",\"#00ff00\",\"#00ff00\",\"#00ff00\",\"#00ff00\",\"#00ff00\",\"#00ff00\",\"#00ff00\",\"#00ff00\",\"#00ff00\",\"#000000\",\"#00ffff\",\"#00ff00\",\"#00ff00\",\"#00ff00\",\"#00ffff\",\"#00ff00\",\"#00ff00\",\"#00ff00\",\"#00ff00\",\"#000000\",\"#00ff00\",\"#00ff00\",\"#00ff00\",\"#00ffff\",\"#00ff00\",\"#00ff00\",\"#00ff00\",\"#00ff00\",\"#00ff00\",\"#00ff00\",\"#00ff00\",\"#00ff00\",\"#00ff00\",\"#00ff00\",\"#00ff00\",\"#00ff00\",\"#00ff00\",\"#00ff00\",\"#00ff00\",\"#00ffff\",\"#000000\",\"#00ff00\",\"#00ff00\",\"#000000\",\"#00ff00\",\"#00ff00\",\"#00ffff\",\"#00ff00\",\"#000000\",\"#00ff00\",\"#00ff00\",\"#00ff00\",\"#00ff00\",\"#000000\",\"#00ff00\",\"#00ffff\",\"#00ff00\",\"#00ff00\",\"#00ffff\",\"#00ff00\",\"#00ff00\",\"#00ff00\",\"#00ffff\",\"#00ffff\",\"#000000\",\"#00ff00\",\"#00ff00\",\"#00ff00\",\"#00ffff\",\"#00ff00\",\"#00ff00\",\"#00ff00\",\"#00ff00\",\"#00ff00\",\"#00ff00\",\"#00ffff\",\"#00ffff\",\"#00ff00\",\"#000000\",\"#00ff00\",\"#00ff00\",\"#00ff00\",\"#00ff00\",\"#00ff00\",\"#00ff00\",\"#00ff00\",\"#00ff00\",\"#00ff00\",\"#00ff00\",\"#00ff00\",\"#00ff00\",\"#00ff00\",\"#00ffff\",\"#00ff00\",\"#00ff00\",\"#00ff00\",\"#000000\",\"#00ff00\",\"#00ff00\",\"#00ff00\",\"#000000\",\"#00ff00\",\"#00ff00\",\"#00ff00\",\"#00ff00\",\"#00ff00\",\"#00ff00\",\"#00ff00\",\"#00ffff\",\"#00ff00\",\"#00ff00\",\"#00ffff\",\"#00ff00\",\"#00ffff\",\"#00ff00\",\"#00ff00\",\"#00ff00\",\"#00ff00\",\"#00ffff\",\"#00ff00\",\"#00ff00\",\"#00ff00\",\"#00ff00\",\"#000000\",\"#00ff00\",\"#00ff00\",\"#00ff00\",\"#00ff00\",\"#00ff00\",\"#00ffff\",\"#00ffff\",\"#00ff00\",\"#00ffff\",\"#00ff00\",\"#00ff00\",\"#00ff00\",\"#00ff00\",\"#00ff00\",\"#00ff00\",\"#00ffff\",\"#00ff00\",\"#00ff00\",\"#00ff00\",\"#00ff00\",\"#00ffff\",\"#00ff00\",\"#00ff00\",\"#00ff00\",\"#00ff00\",\"#00ff00\",\"#00ff00\",\"#00ff00\",\"#00ffff\",\"#00ff00\",\"#00ff00\",\"#00ff00\",\"#00ff00\",\"#00ff00\",\"#00ffff\",\"#00ff00\",\"#00ff00\",\"#00ffff\",\"#00ff00\",\"#00ff00\",\"#000000\",\"#00ff00\",\"#00ff00\",\"#00ff00\",\"#00ffff\",\"#00ff00\",\"#00ff00\",\"#00ff00\",\"#00ff00\",\"#000000\",\"#00ff00\",\"#00ff00\",\"#00ff00\",\"#00ff00\",\"#00ff00\",\"#00ff00\",\"#00ff00\",\"#00ff00\",\"#00ff00\",\"#00ff00\",\"#00ff00\",\"#00ff00\",\"#00ff00\",\"#000000\",\"#00ff00\",\"#000000\",\"#00ffff\",\"#00ff00\",\"#00ff00\",\"#00ff00\",\"#00ff00\",\"#00ff00\",\"#00ff00\",\"#00ff00\",\"#00ff00\",\"#00ff00\",\"#000000\",\"#00ff00\",\"#00ffff\",\"#00ffff\",\"#00ff00\",\"#00ff00\",\"#00ff00\",\"#00ffff\",\"#00ff00\",\"#00ff00\",\"#000000\",\"#000000\",\"#00ff00\",\"#00ff00\",\"#00ff00\",\"#00ff00\",\"#00ffff\",\"#00ffff\",\"#00ff00\",\"#00ff00\",\"#00ffff\",\"#00ffff\",\"#00ff00\",\"#00ff00\",\"#00ff00\",\"#00ff00\",\"#00ff00\",\"#00ff00\",\"#00ff00\",\"#00ff00\",\"#00ff00\",\"#00ff00\",\"#00ff00\",\"#00ff00\",\"#00ff00\",\"#00ff00\",\"#00ff00\",\"#00ff00\",\"#00ff00\",\"#00ff00\",\"#00ff00\",\"#00ff00\",\"#00ff00\",\"#00ff00\",\"#00ff00\",\"#00ff00\",\"#000000\",\"#00ff00\",\"#00ff00\",\"#00ffff\",\"#00ff00\",\"#00ff00\",\"#00ff00\",\"#00ffff\",\"#00ff00\",\"#00ff00\",\"#00ff00\",\"#00ff00\",\"#00ff00\",\"#00ff00\",\"#000000\",\"#00ff00\",\"#00ff00\",\"#00ffff\",\"#00ff00\",\"#000000\",\"#00ff00\",\"#00ffff\",\"#00ff00\",\"#00ff00\",\"#00ff00\",\"#000000\",\"#00ffff\",\"#000000\",\"#00ff00\",\"#00ff00\",\"#00ff00\",\"#00ff00\",\"#00ffff\",\"#00ff00\",\"#00ff00\",\"#00ffff\",\"#00ff00\",\"#00ff00\",\"#00ff00\",\"#00ff00\",\"#00ff00\",\"#00ff00\",\"#00ff00\",\"#00ff00\",\"#00ff00\",\"#00ffff\",\"#00ffff\",\"#00ff00\",\"#00ff00\",\"#00ff00\",\"#00ff00\",\"#00ff00\",\"#00ff00\",\"#00ff00\",\"#00ff00\",\"#00ff00\",\"#00ff00\",\"#00ff00\",\"#00ff00\",\"#00ff00\",\"#00ff00\",\"#000000\",\"#00ff00\",\"#00ff00\",\"#00ff00\",\"#00ff00\",\"#00ff00\",\"#00ff00\",\"#000000\",\"#00ff00\",\"#00ff00\",\"#00ff00\",\"#00ff00\",\"#00ff00\",\"#00ffff\",\"#00ff00\",\"#00ff00\",\"#000000\",\"#00ff00\",\"#00ff00\",\"#00ff00\",\"#00ff00\",\"#000000\",\"#00ff00\",\"#00ff00\",\"#00ff00\",\"#00ff00\",\"#00ff00\",\"#00ffff\",\"#00ff00\",\"#00ff00\",\"#00ff00\",\"#00ffff\",\"#00ff00\",\"#00ff00\",\"#00ff00\",\"#00ff00\",\"#00ffff\",\"#000000\",\"#00ff00\",\"#00ff00\",\"#00ff00\",\"#000000\",\"#00ff00\",\"#00ff00\",\"#00ff00\",\"#000000\",\"#00ff00\",\"#00ff00\",\"#00ff00\",\"#00ff00\",\"#00ff00\",\"#00ffff\",\"#000000\",\"#00ff00\",\"#00ff00\",\"#00ff00\",\"#00ff00\",\"#00ff00\",\"#00ff00\",\"#000000\",\"#00ff00\",\"#00ff00\",\"#00ff00\",\"#00ff00\",\"#000000\",\"#00ff00\",\"#00ff00\",\"#00ffff\",\"#00ff00\",\"#00ff00\",\"#00ff00\",\"#000000\",\"#000000\",\"#00ff00\",\"#000000\",\"#00ff00\",\"#00ff00\",\"#00ff00\",\"#00ff00\",\"#00ff00\",\"#00ff00\",\"#00ff00\",\"#00ff00\",\"#00ff00\",\"#00ff00\",\"#00ff00\",\"#00ff00\",\"#00ff00\",\"#00ff00\",\"#000000\",\"#00ff00\",\"#00ff00\",\"#00ffff\",\"#00ff00\",\"#00ff00\",\"#000000\",\"#00ff00\",\"#00ff00\",\"#00ffff\",\"#00ff00\",\"#00ffff\",\"#00ff00\",\"#00ff00\",\"#00ff00\",\"#00ff00\",\"#00ffff\",\"#00ff00\",\"#00ff00\",\"#000000\",\"#000000\",\"#00ffff\",\"#00ff00\",\"#00ff00\",\"#00ff00\",\"#00ffff\",\"#00ff00\",\"#00ffff\",\"#000000\",\"#00ff00\",\"#00ff00\",\"#00ff00\",\"#00ff00\",\"#00ff00\",\"#00ff00\",\"#00ff00\",\"#000000\",\"#00ff00\",\"#00ff00\",\"#00ff00\",\"#00ff00\",\"#00ff00\",\"#00ff00\",\"#00ff00\",\"#00ff00\",\"#00ff00\",\"#00ff00\",\"#00ff00\",\"#000000\",\"#00ff00\",\"#00ff00\",\"#00ffff\",\"#00ff00\",\"#00ff00\",\"#00ff00\",\"#00ff00\",\"#00ff00\",\"#00ff00\",\"#00ff00\",\"#00ff00\",\"#00ff00\",\"#00ff00\",\"#000000\",\"#00ff00\",\"#00ff00\",\"#00ff00\",\"#00ffff\",\"#00ff00\",\"#00ff00\",\"#00ff00\",\"#00ff00\",\"#00ff00\",\"#00ff00\",\"#00ff00\",\"#00ff00\",\"#00ff00\",\"#00ff00\",\"#00ff00\",\"#00ff00\",\"#00ff00\",\"#00ffff\",\"#00ff00\",\"#00ff00\",\"#00ffff\",\"#00ffff\",\"#000000\",\"#00ff00\",\"#000000\",\"#00ffff\",\"#00ff00\",\"#00ff00\",\"#00ff00\",\"#00ffff\",\"#00ff00\",\"#000000\",\"#000000\",\"#00ff00\",\"#00ff00\",\"#000000\",\"#00ff00\",\"#00ff00\",\"#00ff00\",\"#00ff00\",\"#00ff00\",\"#000000\",\"#00ff00\",\"#00ff00\",\"#00ff00\",\"#00ff00\",\"#00ff00\",\"#00ff00\",\"#00ff00\",\"#00ff00\",\"#00ff00\",\"#00ff00\",\"#00ff00\",\"#000000\",\"#00ff00\",\"#00ff00\",\"#00ff00\",\"#00ffff\",\"#00ff00\",\"#00ff00\",\"#00ff00\",\"#00ff00\",\"#00ff00\",\"#000000\",\"#00ff00\",\"#00ffff\",\"#00ff00\",\"#00ff00\",\"#000000\",\"#00ff00\",\"#00ff00\",\"#00ff00\",\"#00ff00\",\"#00ff00\",\"#00ff00\",\"#00ff00\",\"#000000\",\"#00ffff\",\"#00ff00\",\"#00ff00\",\"#00ff00\",\"#00ffff\",\"#00ffff\",\"#00ffff\",\"#00ff00\",\"#00ff00\",\"#00ff00\",\"#00ff00\",\"#000000\",\"#000000\",\"#00ff00\",\"#00ff00\",\"#00ff00\",\"#00ff00\",\"#00ff00\",\"#00ff00\",\"#00ff00\",\"#00ff00\",\"#00ff00\",\"#00ffff\",\"#00ff00\",\"#00ff00\",\"#00ff00\",\"#000000\",\"#00ff00\",\"#00ff00\",\"#00ff00\",\"#00ff00\",\"#00ff00\",\"#00ff00\",\"#00ff00\",\"#00ffff\",\"#00ff00\",\"#000000\",\"#00ff00\",\"#00ff00\",\"#000000\",\"#00ff00\",\"#00ff00\",\"#00ff00\",\"#00ff00\",\"#00ff00\",\"#00ff00\",\"#00ff00\",\"#00ff00\",\"#000000\",\"#00ff00\",\"#00ff00\",\"#00ff00\",\"#00ffff\",\"#00ff00\",\"#00ff00\",\"#00ffff\",\"#00ff00\",\"#00ff00\",\"#00ff00\",\"#00ff00\",\"#00ff00\",\"#00ff00\",\"#00ff00\",\"#00ffff\",\"#00ff00\",\"#00ff00\",\"#00ff00\",\"#00ff00\",\"#00ff00\",\"#00ffff\",\"#00ffff\",\"#00ff00\",\"#00ff00\",\"#000000\",\"#00ff00\",\"#00ff00\",\"#00ff00\",\"#00ff00\",\"#000000\",\"#00ff00\",\"#00ff00\",\"#00ff00\",\"#00ff00\",\"#00ff00\",\"#00ff00\",\"#000000\",\"#00ffff\",\"#00ff00\",\"#00ff00\",\"#00ff00\",\"#00ff00\",\"#00ff00\",\"#00ff00\",\"#00ff00\",\"#00ff00\",\"#00ffff\",\"#00ff00\",\"#00ff00\",\"#00ff00\",\"#000000\",\"#00ff00\",\"#00ffff\",\"#00ff00\",\"#00ff00\",\"#00ff00\",\"#00ff00\",\"#00ff00\",\"#00ff00\",\"#00ff00\",\"#00ff00\",\"#00ff00\",\"#00ffff\",\"#00ff00\",\"#00ff00\",\"#00ff00\",\"#00ff00\",\"#00ff00\",\"#00ff00\",\"#00ff00\",\"#00ffff\",\"#00ff00\",\"#00ffff\",\"#000000\",\"#00ff00\",\"#00ff00\",\"#00ffff\",\"#00ff00\",\"#000000\",\"#00ff00\",\"#00ff00\",\"#000000\",\"#00ffff\",\"#00ff00\",\"#00ff00\",\"#000000\",\"#00ff00\",\"#00ff00\",\"#00ff00\",\"#00ff00\",\"#00ff00\",\"#00ff00\",\"#00ff00\",\"#00ffff\",\"#00ff00\",\"#00ff00\",\"#00ff00\",\"#00ff00\",\"#00ff00\",\"#000000\",\"#00ff00\",\"#00ff00\",\"#00ff00\",\"#00ff00\",\"#00ff00\",\"#00ff00\",\"#00ff00\",\"#00ff00\",\"#00ff00\",\"#00ffff\",\"#00ff00\",\"#00ff00\",\"#00ff00\",\"#00ff00\",\"#000000\",\"#00ff00\",\"#00ff00\",\"#00ffff\",\"#00ff00\",\"#00ff00\",\"#00ff00\",\"#00ff00\",\"#00ff00\",\"#00ff00\",\"#00ffff\",\"#00ff00\",\"#00ffff\",\"#00ff00\",\"#00ff00\",\"#00ff00\",\"#00ff00\",\"#00ff00\",\"#00ff00\",\"#00ff00\",\"#00ff00\",\"#00ff00\",\"#00ff00\",\"#00ff00\",\"#000000\",\"#00ff00\",\"#00ff00\",\"#00ff00\",\"#00ff00\",\"#00ffff\",\"#00ff00\",\"#00ff00\",\"#00ff00\",\"#00ff00\",\"#00ff00\",\"#00ff00\",\"#00ff00\",\"#00ff00\",\"#00ff00\",\"#00ff00\",\"#00ff00\",\"#00ffff\",\"#00ff00\",\"#00ff00\",\"#00ffff\",\"#00ff00\",\"#00ff00\",\"#00ff00\",\"#00ff00\",\"#00ffff\",\"#00ffff\",\"#00ff00\",\"#00ff00\",\"#00ffff\",\"#00ff00\",\"#00ff00\",\"#00ff00\",\"#00ff00\",\"#00ff00\",\"#00ff00\",\"#00ff00\",\"#00ff00\",\"#00ffff\",\"#00ff00\",\"#00ff00\",\"#00ffff\",\"#00ff00\",\"#00ff00\",\"#00ff00\",\"#00ff00\",\"#00ff00\",\"#00ff00\",\"#00ff00\",\"#00ffff\",\"#00ff00\",\"#00ff00\",\"#00ffff\",\"#00ff00\",\"#000000\",\"#00ff00\",\"#00ff00\",\"#00ff00\",\"#00ff00\",\"#00ff00\",\"#00ff00\",\"#00ff00\",\"#00ff00\",\"#00ff00\",\"#00ff00\",\"#00ff00\",\"#00ff00\",\"#00ff00\",\"#00ff00\",\"#00ff00\",\"#00ff00\",\"#00ff00\",\"#00ff00\",\"#00ff00\",\"#00ff00\",\"#00ffff\",\"#00ff00\",\"#00ff00\",\"#00ff00\",\"#00ff00\",\"#00ff00\",\"#000000\",\"#00ff00\",\"#00ff00\",\"#000000\",\"#00ff00\",\"#00ff00\",\"#000000\",\"#00ff00\",\"#00ff00\",\"#00ff00\",\"#00ff00\",\"#00ff00\",\"#00ff00\",\"#00ff00\",\"#00ff00\",\"#00ff00\",\"#00ff00\",\"#00ff00\",\"#00ffff\",\"#00ff00\",\"#00ff00\",\"#00ff00\",\"#00ff00\",\"#00ff00\",\"#00ff00\",\"#00ff00\",\"#00ff00\",\"#00ff00\",\"#00ff00\",\"#00ff00\",\"#00ff00\",\"#00ff00\",\"#00ff00\",\"#00ff00\",\"#00ff00\",\"#00ff00\",\"#00ff00\",\"#00ff00\",\"#00ff00\",\"#00ff00\",\"#00ff00\",\"#00ffff\",\"#00ff00\",\"#00ff00\",\"#000000\",\"#00ff00\",\"#00ffff\",\"#00ff00\",\"#00ff00\",\"#00ff00\",\"#00ff00\",\"#00ff00\",\"#00ff00\",\"#00ff00\",\"#000000\",\"#00ff00\",\"#00ff00\",\"#00ff00\",\"#00ff00\",\"#00ff00\",\"#00ff00\",\"#00ff00\",\"#00ff00\",\"#00ff00\",\"#00ffff\",\"#00ff00\",\"#00ff00\",\"#00ff00\",\"#00ff00\",\"#00ff00\",\"#00ff00\",\"#00ff00\",\"#00ff00\",\"#00ff00\",\"#00ff00\",\"#00ff00\",\"#00ff00\",\"#000000\",\"#00ff00\",\"#00ff00\",\"#00ff00\",\"#00ff00\",\"#00ff00\",\"#00ff00\",\"#00ff00\",\"#00ffff\",\"#00ffff\",\"#00ff00\",\"#00ff00\",\"#00ff00\",\"#00ff00\",\"#00ffff\",\"#00ff00\",\"#00ff00\",\"#00ff00\",\"#00ff00\",\"#00ff00\",\"#00ff00\",\"#00ff00\",\"#00ff00\",\"#00ff00\",\"#00ff00\",\"#00ff00\",\"#00ff00\",\"#00ff00\",\"#00ffff\",\"#00ffff\",\"#00ffff\",\"#00ffff\",\"#00ff00\",\"#00ff00\",\"#00ff00\",\"#000000\",\"#00ff00\",\"#000000\",\"#000000\",\"#00ffff\",\"#00ffff\",\"#00ff00\",\"#00ff00\",\"#00ff00\",\"#00ff00\",\"#00ff00\",\"#00ff00\",\"#00ff00\",\"#00ff00\",\"#00ff00\",\"#00ff00\",\"#00ff00\",\"#00ff00\",\"#00ff00\",\"#00ff00\",\"#00ffff\",\"#00ff00\",\"#00ff00\",\"#000000\",\"#00ffff\",\"#00ff00\",\"#00ffff\",\"#00ff00\",\"#00ff00\",\"#00ff00\",\"#00ff00\",\"#00ff00\",\"#00ff00\",\"#00ff00\",\"#00ff00\",\"#00ff00\",\"#00ff00\",\"#00ff00\",\"#00ff00\",\"#00ffff\",\"#00ff00\",\"#00ff00\",\"#00ff00\",\"#00ff00\",\"#00ff00\",\"#00ffff\",\"#00ff00\",\"#00ff00\",\"#00ff00\",\"#00ff00\",\"#00ff00\",\"#000000\",\"#000000\",\"#00ff00\",\"#00ffff\",\"#00ff00\",\"#00ff00\",\"#00ff00\",\"#00ff00\",\"#000000\",\"#00ffff\",\"#00ff00\",\"#00ff00\",\"#000000\",\"#00ff00\",\"#00ff00\",\"#00ff00\",\"#00ff00\",\"#00ff00\",\"#00ff00\",\"#00ff00\",\"#00ff00\",\"#00ff00\",\"#00ff00\",\"#00ff00\",\"#00ff00\",\"#00ff00\",\"#000000\",\"#00ff00\",\"#00ff00\",\"#00ff00\",\"#00ff00\",\"#00ff00\",\"#00ff00\",\"#00ff00\",\"#00ff00\",\"#00ff00\",\"#00ff00\",\"#00ff00\",\"#00ff00\",\"#00ffff\",\"#00ff00\",\"#00ff00\",\"#000000\",\"#00ff00\",\"#00ff00\",\"#000000\",\"#00ff00\",\"#00ff00\",\"#000000\",\"#00ff00\",\"#00ff00\",\"#00ff00\",\"#00ff00\",\"#00ff00\",\"#00ff00\",\"#00ff00\",\"#00ff00\",\"#00ff00\",\"#000000\",\"#00ff00\",\"#00ff00\",\"#00ff00\",\"#000000\",\"#00ff00\",\"#00ff00\",\"#000000\",\"#00ff00\",\"#00ff00\",\"#00ffff\",\"#00ff00\",\"#00ff00\",\"#00ff00\",\"#00ff00\",\"#00ffff\",\"#00ff00\",\"#00ffff\",\"#00ffff\",\"#00ff00\",\"#00ff00\",\"#000000\",\"#00ff00\",\"#00ffff\",\"#000000\",\"#00ff00\",\"#00ff00\",\"#00ff00\",\"#00ff00\",\"#000000\",\"#00ff00\",\"#00ff00\",\"#00ff00\",\"#00ff00\",\"#00ff00\",\"#00ff00\",\"#00ff00\",\"#00ff00\",\"#00ff00\",\"#00ffff\",\"#00ff00\",\"#00ff00\",\"#00ffff\",\"#00ff00\",\"#00ff00\",\"#00ff00\",\"#000000\",\"#00ff00\",\"#00ff00\",\"#00ffff\",\"#00ff00\",\"#00ff00\",\"#000000\",\"#00ff00\",\"#00ff00\",\"#00ff00\",\"#00ff00\",\"#00ff00\",\"#00ff00\",\"#00ffff\",\"#000000\",\"#00ffff\",\"#00ff00\",\"#00ff00\",\"#00ff00\",\"#00ff00\",\"#00ff00\",\"#00ff00\",\"#00ff00\",\"#00ff00\",\"#00ffff\",\"#00ff00\",\"#00ff00\",\"#000000\",\"#00ff00\",\"#00ff00\",\"#00ff00\",\"#00ff00\",\"#00ff00\",\"#00ff00\",\"#00ff00\",\"#00ff00\",\"#00ff00\",\"#000000\",\"#00ff00\",\"#000000\",\"#00ff00\",\"#00ff00\",\"#00ff00\",\"#00ff00\",\"#00ffff\",\"#000000\",\"#00ff00\",\"#00ff00\",\"#00ff00\",\"#00ff00\",\"#00ff00\",\"#00ff00\",\"#00ff00\",\"#00ff00\",\"#00ff00\",\"#00ff00\",\"#00ff00\",\"#00ff00\",\"#00ffff\",\"#00ff00\",\"#00ff00\",\"#00ff00\",\"#00ff00\",\"#00ff00\",\"#00ffff\",\"#00ff00\",\"#00ffff\",\"#00ffff\",\"#00ff00\",\"#00ff00\",\"#000000\",\"#00ff00\",\"#00ff00\",\"#00ff00\",\"#00ff00\",\"#00ffff\",\"#00ffff\",\"#00ff00\",\"#00ffff\",\"#00ff00\",\"#00ff00\",\"#00ff00\",\"#00ff00\",\"#00ff00\",\"#00ffff\",\"#00ff00\",\"#00ff00\",\"#00ff00\",\"#00ff00\",\"#00ff00\",\"#00ff00\",\"#00ff00\",\"#00ff00\",\"#00ffff\",\"#00ffff\",\"#00ff00\",\"#00ff00\",\"#00ff00\",\"#000000\",\"#00ff00\",\"#00ff00\",\"#00ffff\",\"#00ff00\",\"#00ff00\",\"#00ff00\",\"#00ff00\",\"#000000\",\"#000000\",\"#00ffff\",\"#00ff00\",\"#00ff00\",\"#00ff00\",\"#000000\",\"#00ff00\",\"#00ff00\",\"#00ff00\",\"#00ff00\",\"#00ff00\",\"#000000\",\"#00ffff\",\"#00ff00\",\"#00ff00\",\"#00ff00\",\"#00ff00\",\"#00ffff\",\"#00ff00\",\"#00ff00\",\"#00ff00\",\"#00ff00\",\"#00ff00\",\"#00ff00\",\"#00ff00\",\"#00ff00\",\"#00ff00\",\"#00ff00\",\"#00ff00\",\"#00ff00\",\"#00ffff\",\"#00ff00\",\"#00ff00\",\"#00ff00\",\"#00ffff\",\"#00ff00\",\"#00ff00\",\"#00ffff\",\"#00ff00\",\"#00ff00\",\"#00ffff\",\"#00ff00\",\"#00ff00\",\"#00ff00\",\"#00ff00\",\"#00ffff\",\"#00ff00\",\"#00ff00\",\"#00ff00\",\"#00ff00\",\"#00ff00\",\"#00ff00\",\"#00ff00\",\"#00ffff\",\"#00ff00\",\"#00ff00\",\"#000000\",\"#00ff00\",\"#00ff00\",\"#00ff00\",\"#00ff00\",\"#00ff00\",\"#00ff00\",\"#00ff00\",\"#000000\",\"#00ff00\",\"#00ff00\",\"#00ff00\",\"#00ff00\",\"#00ff00\",\"#00ff00\",\"#00ffff\",\"#00ff00\",\"#00ff00\",\"#00ff00\",\"#00ff00\",\"#00ff00\",\"#00ff00\",\"#00ff00\",\"#00ffff\",\"#00ff00\",\"#00ff00\",\"#00ff00\",\"#00ff00\",\"#00ff00\",\"#00ff00\",\"#00ffff\",\"#00ff00\",\"#00ff00\",\"#00ff00\",\"#00ff00\",\"#00ff00\",\"#00ff00\",\"#00ff00\",\"#00ff00\",\"#00ff00\",\"#00ff00\",\"#00ff00\",\"#00ff00\",\"#00ff00\",\"#00ff00\",\"#00ffff\",\"#00ff00\",\"#00ff00\",\"#00ff00\",\"#00ff00\",\"#00ff00\",\"#00ff00\",\"#00ff00\",\"#00ffff\",\"#00ff00\",\"#00ff00\",\"#00ffff\",\"#00ff00\",\"#00ff00\",\"#00ffff\",\"#00ffff\",\"#00ff00\",\"#00ffff\",\"#00ff00\",\"#00ffff\",\"#00ff00\",\"#00ff00\",\"#00ffff\",\"#00ff00\",\"#000000\",\"#00ff00\",\"#00ff00\",\"#00ff00\",\"#00ff00\",\"#00ff00\",\"#00ffff\",\"#00ff00\",\"#00ff00\",\"#000000\",\"#00ff00\",\"#00ff00\",\"#00ff00\",\"#00ff00\",\"#00ff00\",\"#000000\",\"#00ff00\",\"#00ff00\",\"#00ff00\",\"#00ff00\",\"#00ff00\",\"#00ff00\",\"#00ffff\",\"#00ff00\",\"#00ffff\",\"#00ff00\",\"#00ff00\",\"#00ff00\",\"#00ff00\",\"#00ff00\",\"#00ff00\",\"#00ff00\",\"#00ff00\",\"#000000\",\"#00ffff\",\"#00ff00\",\"#00ff00\",\"#00ff00\",\"#00ff00\",\"#00ffff\",\"#00ff00\",\"#00ff00\",\"#00ff00\",\"#00ff00\",\"#00ff00\",\"#00ffff\",\"#00ff00\",\"#000000\",\"#00ffff\",\"#00ff00\",\"#00ffff\",\"#00ff00\",\"#00ff00\",\"#00ff00\",\"#00ff00\",\"#00ff00\",\"#000000\",\"#00ffff\",\"#00ff00\",\"#00ff00\",\"#00ff00\",\"#00ffff\",\"#00ff00\",\"#00ff00\",\"#00ff00\",\"#000000\",\"#00ff00\",\"#000000\",\"#00ff00\",\"#000000\",\"#00ff00\",\"#00ffff\",\"#00ff00\",\"#00ff00\",\"#00ffff\",\"#00ffff\",\"#00ff00\",\"#00ff00\",\"#00ff00\",\"#00ffff\",\"#00ffff\",\"#00ff00\",\"#00ff00\",\"#00ff00\",\"#00ff00\",\"#00ff00\",\"#000000\",\"#000000\",\"#000000\",\"#00ff00\",\"#00ff00\",\"#00ff00\",\"#00ff00\",\"#00ff00\",\"#000000\",\"#00ff00\",\"#00ffff\",\"#00ff00\",\"#00ff00\",\"#00ff00\",\"#00ff00\",\"#00ff00\",\"#00ff00\",\"#00ff00\",\"#00ff00\",\"#00ffff\",\"#00ff00\",\"#00ffff\",\"#00ffff\",\"#00ff00\",\"#00ff00\",\"#00ffff\",\"#00ff00\",\"#00ff00\",\"#00ff00\",\"#00ff00\",\"#00ff00\",\"#00ff00\",\"#00ff00\",\"#00ff00\",\"#00ff00\",\"#00ff00\",\"#00ff00\",\"#00ff00\",\"#00ff00\",\"#00ff00\",\"#00ff00\",\"#00ff00\",\"#00ffff\",\"#00ffff\",\"#000000\",\"#000000\",\"#00ff00\",\"#00ff00\",\"#00ffff\",\"#00ff00\",\"#00ff00\",\"#00ff00\",\"#00ff00\",\"#00ff00\",\"#00ff00\",\"#000000\",\"#000000\",\"#00ff00\",\"#00ff00\",\"#00ffff\",\"#00ffff\",\"#000000\",\"#00ffff\",\"#00ff00\",\"#00ff00\",\"#00ff00\",\"#00ff00\",\"#00ff00\",\"#00ff00\",\"#00ff00\",\"#00ff00\",\"#00ff00\",\"#00ff00\",\"#00ff00\",\"#00ffff\",\"#00ff00\",\"#00ff00\",\"#00ff00\",\"#00ffff\",\"#00ff00\",\"#00ff00\",\"#00ff00\",\"#00ff00\",\"#00ff00\",\"#000000\",\"#00ff00\",\"#00ff00\",\"#00ff00\",\"#00ff00\",\"#000000\",\"#00ff00\",\"#00ff00\",\"#00ff00\",\"#00ff00\",\"#00ff00\",\"#00ff00\",\"#00ff00\",\"#00ff00\",\"#00ff00\",\"#00ff00\",\"#00ff00\",\"#00ffff\",\"#00ff00\",\"#00ff00\",\"#00ff00\",\"#00ff00\",\"#00ff00\",\"#00ffff\",\"#00ff00\",\"#00ff00\",\"#00ff00\",\"#00ffff\",\"#00ff00\",\"#00ff00\",\"#00ff00\",\"#00ff00\",\"#00ff00\",\"#00ff00\",\"#00ff00\",\"#00ff00\",\"#000000\",\"#00ff00\",\"#00ff00\",\"#00ff00\",\"#00ff00\",\"#00ff00\",\"#00ff00\",\"#00ff00\",\"#00ff00\",\"#00ff00\",\"#00ff00\",\"#00ffff\",\"#00ffff\",\"#00ff00\",\"#00ff00\",\"#00ffff\",\"#00ff00\",\"#00ff00\",\"#00ff00\",\"#00ff00\",\"#00ff00\",\"#00ff00\",\"#00ff00\",\"#00ff00\",\"#000000\",\"#00ff00\",\"#00ff00\",\"#00ff00\",\"#00ff00\",\"#00ff00\",\"#00ff00\",\"#000000\",\"#00ff00\",\"#00ff00\",\"#00ff00\",\"#00ff00\",\"#00ff00\",\"#00ff00\",\"#00ff00\",\"#00ffff\",\"#00ff00\",\"#00ff00\",\"#00ffff\",\"#00ff00\",\"#00ff00\",\"#00ff00\",\"#000000\",\"#00ff00\",\"#00ff00\",\"#00ffff\",\"#00ff00\",\"#00ff00\",\"#00ff00\",\"#00ff00\",\"#00ff00\",\"#00ff00\",\"#00ff00\",\"#00ffff\",\"#00ffff\",\"#00ffff\",\"#00ff00\",\"#00ff00\",\"#00ff00\",\"#00ffff\",\"#00ff00\",\"#00ff00\",\"#00ff00\",\"#00ff00\",\"#000000\",\"#00ff00\",\"#00ff00\",\"#00ff00\",\"#00ffff\",\"#00ff00\",\"#00ff00\",\"#00ff00\",\"#00ff00\",\"#00ff00\",\"#00ff00\",\"#00ff00\",\"#00ff00\",\"#00ff00\",\"#000000\",\"#00ffff\",\"#00ff00\",\"#00ff00\",\"#00ff00\",\"#00ff00\",\"#00ffff\",\"#00ff00\",\"#00ff00\",\"#00ffff\",\"#00ffff\",\"#00ff00\",\"#00ff00\",\"#00ff00\",\"#00ff00\",\"#00ff00\",\"#00ff00\",\"#000000\",\"#00ff00\",\"#00ff00\",\"#000000\",\"#00ff00\",\"#00ff00\",\"#000000\",\"#00ff00\",\"#00ff00\",\"#00ffff\",\"#000000\",\"#00ff00\",\"#00ff00\",\"#00ff00\",\"#00ff00\",\"#000000\",\"#00ff00\",\"#00ffff\",\"#00ff00\",\"#00ff00\",\"#00ff00\",\"#00ffff\",\"#00ff00\",\"#00ff00\",\"#00ff00\",\"#00ff00\",\"#00ff00\",\"#00ffff\",\"#00ff00\",\"#00ff00\",\"#00ff00\",\"#00ff00\",\"#00ffff\",\"#00ffff\",\"#00ff00\",\"#00ff00\",\"#00ff00\",\"#00ffff\",\"#000000\",\"#00ff00\",\"#00ff00\",\"#000000\",\"#00ff00\",\"#000000\",\"#00ffff\",\"#00ff00\",\"#00ff00\",\"#00ff00\",\"#00ff00\",\"#00ffff\",\"#00ff00\",\"#00ff00\",\"#00ff00\",\"#00ff00\",\"#00ff00\",\"#00ff00\",\"#00ff00\",\"#00ff00\",\"#00ff00\",\"#00ffff\",\"#00ff00\",\"#00ffff\",\"#00ff00\",\"#00ff00\",\"#00ff00\",\"#00ff00\",\"#00ff00\",\"#00ff00\",\"#00ffff\",\"#00ff00\",\"#00ffff\",\"#00ff00\",\"#00ff00\",\"#00ff00\",\"#00ff00\",\"#00ff00\",\"#00ff00\",\"#00ffff\",\"#000000\",\"#00ff00\",\"#00ff00\",\"#000000\",\"#00ff00\",\"#00ff00\",\"#00ff00\",\"#00ffff\",\"#00ffff\",\"#00ff00\",\"#00ff00\",\"#00ff00\",\"#00ff00\",\"#000000\",\"#00ff00\",\"#00ff00\",\"#00ff00\",\"#00ff00\",\"#00ffff\",\"#00ffff\",\"#00ff00\",\"#00ff00\",\"#00ff00\",\"#00ff00\",\"#00ffff\",\"#00ffff\",\"#00ff00\",\"#00ff00\",\"#00ff00\",\"#00ff00\",\"#00ffff\",\"#00ff00\",\"#00ff00\",\"#00ff00\",\"#00ff00\",\"#00ff00\",\"#000000\",\"#00ff00\",\"#00ff00\",\"#00ff00\",\"#00ff00\",\"#00ff00\",\"#00ff00\",\"#00ff00\",\"#00ff00\",\"#000000\",\"#00ffff\",\"#00ffff\",\"#00ff00\",\"#00ff00\",\"#00ff00\",\"#00ff00\",\"#00ff00\",\"#00ff00\",\"#00ff00\",\"#00ffff\",\"#00ff00\",\"#00ff00\",\"#00ff00\",\"#00ff00\",\"#00ff00\",\"#00ffff\",\"#00ff00\",\"#00ff00\",\"#00ffff\",\"#00ff00\",\"#000000\",\"#00ff00\",\"#00ff00\",\"#00ff00\",\"#00ff00\",\"#00ff00\",\"#00ffff\",\"#00ff00\",\"#00ff00\",\"#00ffff\",\"#00ff00\",\"#00ff00\",\"#00ff00\",\"#00ff00\",\"#00ff00\",\"#00ffff\",\"#00ffff\",\"#00ffff\",\"#00ff00\",\"#00ff00\",\"#00ff00\",\"#00ffff\",\"#00ff00\",\"#00ff00\",\"#000000\",\"#00ff00\",\"#00ff00\",\"#00ff00\",\"#00ff00\",\"#00ff00\",\"#00ff00\",\"#000000\",\"#00ff00\",\"#00ff00\",\"#00ff00\",\"#00ff00\",\"#00ffff\",\"#00ffff\",\"#00ff00\",\"#00ff00\",\"#00ff00\",\"#00ffff\",\"#00ff00\",\"#00ff00\",\"#00ffff\",\"#00ff00\",\"#00ff00\",\"#00ff00\",\"#00ff00\",\"#00ff00\",\"#00ff00\",\"#00ff00\",\"#00ff00\",\"#00ffff\",\"#00ffff\",\"#00ff00\",\"#00ff00\",\"#00ff00\",\"#00ff00\",\"#00ff00\",\"#00ff00\",\"#00ffff\",\"#00ff00\",\"#00ff00\",\"#00ff00\",\"#00ff00\",\"#000000\",\"#00ffff\",\"#00ff00\",\"#00ff00\",\"#00ffff\",\"#000000\",\"#00ff00\",\"#000000\",\"#00ff00\",\"#00ff00\",\"#00ff00\",\"#00ff00\",\"#00ff00\",\"#00ff00\",\"#00ff00\",\"#00ff00\",\"#000000\",\"#00ff00\",\"#00ffff\",\"#00ff00\",\"#00ff00\",\"#00ff00\",\"#00ff00\",\"#00ff00\",\"#00ff00\",\"#00ffff\",\"#00ff00\",\"#00ff00\",\"#00ff00\",\"#00ff00\",\"#00ff00\",\"#00ffff\",\"#00ffff\",\"#00ff00\",\"#00ff00\",\"#00ff00\",\"#00ff00\",\"#00ffff\",\"#00ffff\",\"#00ff00\",\"#00ff00\",\"#00ff00\",\"#00ff00\",\"#00ff00\",\"#00ff00\",\"#00ff00\",\"#00ff00\",\"#00ff00\",\"#00ff00\",\"#00ff00\",\"#00ff00\",\"#00ff00\",\"#00ff00\",\"#000000\",\"#00ffff\",\"#00ff00\",\"#00ff00\",\"#00ff00\",\"#00ff00\",\"#00ff00\",\"#00ff00\",\"#00ff00\",\"#00ff00\",\"#00ff00\",\"#00ff00\",\"#00ff00\",\"#00ff00\",\"#00ff00\",\"#00ff00\",\"#000000\",\"#00ff00\",\"#00ff00\",\"#00ff00\",\"#00ff00\",\"#00ff00\",\"#00ff00\",\"#00ff00\",\"#00ff00\",\"#00ffff\",\"#000000\",\"#00ff00\",\"#00ffff\",\"#00ff00\",\"#00ff00\",\"#00ff00\",\"#000000\",\"#000000\",\"#00ff00\",\"#00ff00\",\"#00ff00\",\"#00ff00\",\"#00ff00\",\"#00ff00\",\"#00ff00\",\"#00ff00\",\"#00ff00\",\"#00ff00\",\"#00ff00\",\"#00ff00\",\"#00ff00\",\"#00ffff\",\"#00ff00\",\"#00ffff\",\"#00ff00\",\"#00ffff\",\"#00ff00\",\"#00ff00\",\"#00ff00\",\"#00ff00\",\"#00ff00\",\"#00ff00\",\"#00ff00\",\"#00ff00\",\"#000000\",\"#00ff00\",\"#00ff00\",\"#00ff00\",\"#00ffff\",\"#00ff00\",\"#00ff00\",\"#00ff00\",\"#00ff00\",\"#00ff00\",\"#00ff00\",\"#00ff00\",\"#00ffff\",\"#00ffff\",\"#00ffff\",\"#00ff00\",\"#00ff00\",\"#00ff00\",\"#00ff00\",\"#00ff00\",\"#00ff00\",\"#000000\",\"#00ff00\",\"#00ff00\",\"#00ffff\",\"#00ff00\",\"#00ff00\",\"#00ff00\",\"#00ff00\",\"#00ffff\",\"#000000\",\"#000000\",\"#00ff00\",\"#00ff00\",\"#000000\",\"#00ff00\",\"#00ff00\",\"#000000\",\"#00ffff\",\"#00ff00\",\"#00ff00\",\"#00ff00\",\"#00ff00\",\"#00ffff\",\"#00ff00\",\"#00ffff\",\"#00ff00\",\"#00ff00\",\"#00ff00\",\"#00ff00\",\"#00ff00\",\"#00ff00\",\"#00ff00\",\"#00ff00\",\"#00ff00\",\"#00ff00\",\"#00ff00\",\"#00ff00\",\"#00ff00\",\"#00ff00\",\"#000000\",\"#00ff00\",\"#00ff00\",\"#00ff00\",\"#00ff00\",\"#000000\",\"#000000\",\"#00ff00\",\"#00ff00\",\"#00ff00\",\"#00ff00\",\"#00ff00\",\"#00ffff\",\"#00ffff\",\"#00ff00\",\"#00ff00\",\"#00ff00\",\"#00ff00\",\"#00ff00\",\"#00ff00\",\"#00ff00\",\"#00ffff\",\"#00ffff\",\"#00ff00\",\"#00ff00\",\"#00ffff\",\"#00ff00\",\"#00ff00\",\"#00ff00\",\"#00ff00\",\"#00ff00\",\"#00ff00\",\"#00ff00\",\"#00ff00\",\"#00ffff\",\"#00ff00\",\"#000000\",\"#00ff00\",\"#00ff00\",\"#00ff00\",\"#00ff00\",\"#00ff00\",\"#00ff00\",\"#00ff00\",\"#00ff00\",\"#000000\",\"#00ff00\",\"#00ff00\",\"#00ffff\",\"#00ff00\",\"#00ff00\",\"#00ff00\",\"#00ff00\",\"#000000\",\"#00ff00\",\"#00ff00\",\"#00ff00\",\"#00ff00\",\"#00ff00\",\"#00ff00\",\"#00ff00\",\"#00ff00\",\"#000000\",\"#00ff00\",\"#00ff00\",\"#00ff00\",\"#00ffff\",\"#00ff00\",\"#00ff00\",\"#00ff00\",\"#00ff00\",\"#000000\",\"#00ffff\",\"#00ffff\",\"#00ff00\",\"#00ff00\",\"#00ff00\",\"#00ff00\",\"#00ffff\",\"#00ff00\",\"#00ff00\",\"#00ff00\",\"#00ff00\",\"#00ffff\",\"#00ff00\",\"#00ff00\",\"#00ff00\",\"#000000\",\"#00ff00\",\"#00ff00\",\"#00ff00\",\"#000000\",\"#00ff00\",\"#00ff00\",\"#00ff00\",\"#00ffff\",\"#00ff00\",\"#00ff00\",\"#00ff00\",\"#00ff00\",\"#00ff00\",\"#00ff00\",\"#00ff00\",\"#00ffff\",\"#00ff00\",\"#000000\",\"#00ff00\",\"#00ff00\",\"#00ff00\",\"#00ff00\",\"#00ff00\",\"#00ff00\",\"#00ff00\",\"#00ff00\",\"#00ff00\",\"#00ff00\",\"#00ff00\",\"#00ffff\",\"#00ff00\",\"#00ff00\",\"#00ff00\",\"#00ff00\",\"#00ff00\",\"#00ff00\",\"#00ff00\",\"#00ff00\",\"#00ff00\",\"#00ffff\",\"#00ffff\",\"#00ff00\",\"#000000\",\"#00ffff\",\"#00ff00\",\"#00ffff\",\"#00ffff\",\"#00ff00\",\"#00ffff\",\"#00ff00\",\"#00ff00\",\"#00ff00\",\"#000000\",\"#00ff00\",\"#000000\",\"#00ff00\",\"#000000\",\"#00ffff\",\"#00ff00\",\"#00ff00\",\"#00ff00\",\"#00ff00\",\"#00ff00\",\"#00ff00\",\"#00ff00\",\"#00ff00\",\"#00ff00\",\"#00ffff\",\"#00ff00\",\"#00ffff\",\"#00ff00\",\"#00ffff\",\"#000000\",\"#000000\",\"#00ff00\",\"#00ff00\",\"#00ffff\",\"#00ff00\",\"#000000\",\"#00ff00\",\"#00ffff\",\"#00ffff\",\"#00ff00\",\"#00ff00\",\"#00ff00\",\"#00ff00\",\"#00ff00\",\"#00ffff\",\"#00ff00\",\"#00ff00\",\"#00ffff\",\"#00ff00\",\"#00ff00\",\"#00ff00\",\"#00ff00\",\"#00ff00\",\"#00ff00\",\"#00ff00\",\"#00ff00\",\"#00ff00\",\"#00ff00\",\"#00ff00\",\"#00ff00\",\"#00ffff\",\"#00ffff\",\"#00ffff\",\"#00ff00\",\"#00ff00\",\"#00ff00\",\"#00ffff\",\"#00ff00\",\"#00ff00\",\"#000000\",\"#00ff00\",\"#00ff00\",\"#00ffff\",\"#00ff00\",\"#00ff00\",\"#00ff00\",\"#00ff00\",\"#00ff00\",\"#00ff00\",\"#00ff00\",\"#00ff00\",\"#00ff00\",\"#00ff00\",\"#00ff00\",\"#00ffff\",\"#00ff00\",\"#00ff00\",\"#000000\",\"#00ff00\",\"#00ff00\",\"#00ff00\",\"#00ff00\",\"#00ff00\",\"#00ff00\",\"#00ff00\",\"#00ff00\",\"#000000\",\"#00ff00\",\"#00ffff\",\"#00ff00\",\"#00ff00\",\"#000000\",\"#00ff00\",\"#00ffff\",\"#00ff00\",\"#00ff00\",\"#00ff00\",\"#00ff00\",\"#00ff00\",\"#000000\",\"#00ffff\",\"#00ffff\",\"#000000\",\"#00ffff\",\"#00ffff\",\"#00ff00\",\"#00ff00\",\"#00ff00\",\"#00ff00\",\"#00ffff\",\"#00ff00\",\"#00ff00\",\"#00ff00\",\"#00ff00\",\"#00ff00\",\"#00ff00\",\"#00ff00\",\"#00ff00\",\"#00ff00\",\"#00ff00\",\"#00ff00\",\"#00ff00\",\"#00ff00\",\"#00ff00\",\"#00ff00\",\"#00ffff\",\"#00ff00\",\"#00ff00\",\"#00ff00\",\"#00ff00\",\"#00ff00\",\"#00ff00\",\"#00ff00\",\"#00ff00\",\"#00ff00\",\"#00ff00\",\"#000000\",\"#00ff00\",\"#00ff00\",\"#00ff00\",\"#00ffff\",\"#00ff00\",\"#00ff00\",\"#000000\",\"#00ffff\",\"#00ff00\",\"#00ff00\",\"#00ffff\",\"#00ff00\",\"#00ff00\",\"#00ff00\",\"#00ff00\",\"#00ff00\",\"#00ffff\",\"#00ffff\",\"#00ff00\",\"#00ff00\",\"#00ff00\",\"#00ff00\",\"#00ff00\",\"#00ff00\",\"#00ff00\",\"#00ff00\",\"#000000\",\"#00ff00\",\"#00ffff\",\"#00ff00\",\"#00ffff\",\"#00ff00\",\"#00ffff\",\"#00ff00\",\"#000000\",\"#00ff00\",\"#00ff00\",\"#00ff00\",\"#00ff00\",\"#00ff00\",\"#00ff00\",\"#00ff00\",\"#00ff00\",\"#00ff00\",\"#00ff00\",\"#00ff00\",\"#00ff00\",\"#00ffff\",\"#00ff00\",\"#00ffff\",\"#00ff00\",\"#00ff00\",\"#00ff00\",\"#00ff00\",\"#00ff00\",\"#00ff00\",\"#00ff00\",\"#00ff00\",\"#00ff00\",\"#00ff00\",\"#00ff00\",\"#00ff00\",\"#00ff00\",\"#00ff00\",\"#00ff00\",\"#000000\",\"#00ff00\",\"#00ff00\",\"#00ff00\",\"#00ff00\",\"#00ff00\",\"#00ff00\",\"#00ff00\",\"#000000\",\"#00ff00\",\"#00ff00\",\"#00ff00\",\"#00ff00\",\"#00ffff\",\"#00ff00\",\"#00ff00\",\"#00ff00\",\"#00ff00\",\"#00ff00\",\"#00ff00\",\"#00ff00\",\"#00ff00\",\"#00ff00\",\"#000000\",\"#00ff00\",\"#000000\",\"#00ff00\",\"#00ff00\",\"#00ff00\",\"#00ff00\",\"#00ff00\",\"#00ff00\",\"#00ff00\",\"#00ffff\",\"#00ff00\",\"#00ffff\",\"#00ff00\",\"#00ff00\",\"#00ff00\",\"#00ff00\",\"#00ff00\",\"#00ff00\",\"#00ffff\",\"#00ffff\",\"#00ff00\",\"#00ff00\",\"#00ff00\",\"#00ff00\",\"#00ff00\",\"#00ff00\",\"#00ff00\",\"#00ffff\",\"#00ff00\",\"#00ff00\",\"#00ff00\",\"#00ff00\",\"#00ff00\",\"#00ff00\",\"#00ffff\",\"#00ff00\",\"#00ff00\",\"#00ff00\",\"#00ff00\",\"#00ff00\",\"#00ffff\",\"#00ff00\",\"#00ff00\",\"#00ff00\",\"#00ffff\",\"#00ff00\",\"#00ff00\",\"#00ff00\",\"#00ff00\",\"#00ff00\",\"#00ff00\",\"#000000\",\"#00ff00\",\"#00ffff\",\"#000000\",\"#00ff00\",\"#00ff00\",\"#00ff00\",\"#00ff00\",\"#00ff00\",\"#00ff00\",\"#00ffff\",\"#000000\",\"#00ff00\",\"#00ff00\",\"#00ffff\",\"#00ff00\",\"#00ff00\",\"#00ff00\",\"#000000\",\"#00ff00\",\"#00ff00\",\"#00ff00\",\"#00ff00\",\"#00ffff\",\"#00ff00\",\"#00ff00\",\"#00ff00\",\"#00ff00\",\"#00ff00\",\"#00ff00\",\"#00ff00\",\"#00ff00\",\"#000000\",\"#00ffff\",\"#00ff00\",\"#000000\",\"#00ffff\",\"#000000\",\"#00ffff\",\"#00ff00\",\"#00ff00\",\"#00ff00\",\"#00ff00\",\"#000000\",\"#00ff00\",\"#00ff00\",\"#000000\",\"#00ff00\",\"#00ff00\",\"#00ff00\",\"#00ff00\",\"#00ff00\",\"#00ff00\",\"#00ff00\",\"#00ffff\",\"#00ff00\",\"#00ff00\",\"#00ff00\",\"#00ff00\",\"#000000\",\"#00ff00\",\"#00ff00\",\"#000000\",\"#00ff00\",\"#00ff00\",\"#00ff00\",\"#00ff00\",\"#00ff00\",\"#00ff00\",\"#00ff00\",\"#00ff00\",\"#00ff00\",\"#00ff00\",\"#00ff00\",\"#00ff00\",\"#00ff00\",\"#00ff00\",\"#00ff00\",\"#00ff00\",\"#00ffff\",\"#00ff00\",\"#00ff00\",\"#00ff00\",\"#00ff00\",\"#00ffff\",\"#00ff00\",\"#00ff00\",\"#00ff00\",\"#00ff00\",\"#000000\",\"#00ffff\",\"#00ff00\",\"#00ff00\",\"#00ff00\",\"#00ff00\",\"#00ff00\",\"#00ff00\",\"#00ff00\",\"#000000\",\"#00ff00\",\"#00ff00\",\"#00ff00\",\"#00ffff\",\"#00ff00\",\"#00ff00\",\"#00ffff\",\"#00ffff\",\"#00ff00\",\"#00ff00\",\"#00ff00\",\"#000000\",\"#00ffff\",\"#00ff00\",\"#00ff00\",\"#00ff00\",\"#00ffff\",\"#00ff00\",\"#00ff00\",\"#00ff00\",\"#000000\",\"#00ff00\",\"#00ff00\",\"#00ff00\",\"#00ffff\",\"#00ff00\",\"#00ff00\",\"#00ff00\",\"#00ffff\",\"#00ff00\",\"#00ff00\",\"#000000\",\"#00ff00\",\"#00ff00\",\"#00ff00\",\"#00ff00\",\"#000000\",\"#00ff00\",\"#00ff00\",\"#00ff00\",\"#00ffff\",\"#00ff00\",\"#00ff00\",\"#00ff00\",\"#00ff00\",\"#00ffff\",\"#00ff00\",\"#00ff00\",\"#00ffff\",\"#00ff00\",\"#00ffff\",\"#00ffff\",\"#00ff00\",\"#00ff00\",\"#00ff00\",\"#00ff00\",\"#00ff00\",\"#00ff00\",\"#00ff00\",\"#00ff00\",\"#00ff00\",\"#00ff00\",\"#00ff00\",\"#00ff00\",\"#00ff00\",\"#00ff00\",\"#00ffff\",\"#00ff00\",\"#00ff00\",\"#00ff00\",\"#00ffff\",\"#00ff00\",\"#00ff00\",\"#00ff00\",\"#00ff00\",\"#00ff00\",\"#00ff00\",\"#00ff00\",\"#00ff00\",\"#00ff00\",\"#00ffff\",\"#00ff00\",\"#00ff00\",\"#00ff00\",\"#00ff00\",\"#00ff00\",\"#00ffff\",\"#00ff00\",\"#00ff00\",\"#00ff00\",\"#00ff00\",\"#00ff00\",\"#00ff00\",\"#00ff00\",\"#00ffff\",\"#00ff00\",\"#00ff00\",\"#00ff00\",\"#00ff00\",\"#00ff00\",\"#00ff00\",\"#00ff00\",\"#00ff00\",\"#00ff00\",\"#00ff00\",\"#00ffff\",\"#000000\",\"#000000\",\"#00ff00\",\"#00ff00\",\"#00ff00\",\"#00ff00\",\"#00ff00\",\"#00ff00\",\"#00ff00\",\"#00ff00\",\"#00ff00\",\"#00ff00\",\"#00ff00\",\"#00ffff\",\"#00ff00\",\"#00ff00\",\"#00ffff\",\"#00ff00\",\"#00ff00\",\"#00ffff\",\"#00ffff\",\"#00ffff\",\"#00ff00\",\"#00ff00\",\"#000000\",\"#00ffff\",\"#00ffff\",\"#00ff00\",\"#00ff00\",\"#00ffff\",\"#00ff00\",\"#00ff00\",\"#00ff00\",\"#00ff00\",\"#00ff00\",\"#00ffff\",\"#00ff00\",\"#00ff00\",\"#00ff00\",\"#00ff00\",\"#00ff00\",\"#00ffff\",\"#00ffff\",\"#00ff00\",\"#00ff00\",\"#00ff00\",\"#00ff00\",\"#00ff00\",\"#000000\",\"#00ff00\",\"#00ff00\",\"#000000\",\"#00ff00\",\"#00ffff\",\"#00ff00\",\"#00ff00\",\"#00ff00\",\"#00ff00\",\"#00ff00\",\"#00ff00\",\"#00ff00\",\"#000000\",\"#00ff00\",\"#00ff00\",\"#00ffff\",\"#00ffff\",\"#00ff00\",\"#00ff00\",\"#00ff00\",\"#00ff00\",\"#00ff00\",\"#00ff00\",\"#00ff00\",\"#000000\",\"#00ff00\",\"#00ff00\",\"#00ff00\",\"#00ffff\",\"#00ff00\",\"#00ff00\",\"#00ff00\",\"#00ff00\",\"#00ff00\",\"#00ff00\",\"#00ff00\",\"#00ff00\",\"#00ff00\",\"#00ffff\",\"#00ff00\",\"#00ffff\",\"#00ff00\",\"#00ff00\",\"#00ff00\",\"#00ff00\",\"#00ff00\",\"#00ff00\",\"#00ff00\",\"#00ff00\",\"#00ff00\",\"#00ff00\",\"#00ff00\",\"#00ff00\",\"#00ff00\",\"#00ff00\",\"#00ff00\",\"#000000\",\"#000000\",\"#00ff00\",\"#00ffff\",\"#00ffff\",\"#00ffff\",\"#00ff00\",\"#00ff00\",\"#00ff00\",\"#00ff00\",\"#00ff00\",\"#00ff00\",\"#00ff00\",\"#00ff00\",\"#00ff00\",\"#00ff00\",\"#00ff00\",\"#000000\",\"#00ff00\",\"#00ff00\",\"#00ff00\",\"#00ff00\",\"#00ffff\",\"#00ff00\",\"#00ff00\",\"#00ff00\",\"#00ff00\",\"#00ff00\",\"#00ffff\",\"#000000\",\"#00ff00\",\"#00ff00\",\"#00ff00\",\"#00ffff\",\"#00ff00\",\"#00ff00\",\"#00ff00\",\"#00ff00\",\"#00ff00\",\"#000000\",\"#00ff00\",\"#00ff00\",\"#00ff00\",\"#00ff00\",\"#00ff00\",\"#00ff00\",\"#00ff00\",\"#00ff00\",\"#00ff00\",\"#00ff00\",\"#00ff00\",\"#00ff00\",\"#00ff00\",\"#00ff00\",\"#00ff00\",\"#00ff00\",\"#00ff00\",\"#00ff00\",\"#00ff00\",\"#00ff00\",\"#000000\",\"#000000\",\"#00ff00\",\"#00ff00\",\"#00ff00\",\"#00ff00\",\"#00ff00\",\"#00ff00\",\"#00ffff\",\"#00ff00\",\"#00ff00\",\"#00ff00\",\"#00ff00\",\"#00ff00\",\"#00ff00\",\"#00ff00\",\"#00ff00\",\"#00ff00\",\"#00ff00\",\"#00ff00\",\"#00ff00\",\"#000000\",\"#00ffff\",\"#00ff00\",\"#00ff00\",\"#00ffff\",\"#00ff00\",\"#00ff00\",\"#00ff00\",\"#00ff00\",\"#00ff00\",\"#000000\",\"#00ff00\",\"#00ff00\",\"#00ff00\",\"#00ffff\",\"#00ff00\",\"#00ff00\",\"#00ff00\",\"#00ff00\",\"#00ff00\",\"#00ff00\",\"#00ff00\",\"#000000\",\"#00ff00\",\"#00ff00\",\"#00ffff\",\"#00ff00\",\"#000000\",\"#00ff00\",\"#00ff00\",\"#00ff00\",\"#00ff00\",\"#00ff00\",\"#00ff00\",\"#00ff00\",\"#00ff00\",\"#00ff00\",\"#00ff00\",\"#00ff00\",\"#00ff00\",\"#00ff00\",\"#00ff00\",\"#00ff00\",\"#00ff00\",\"#00ff00\",\"#00ff00\",\"#00ff00\",\"#00ff00\",\"#00ff00\",\"#00ff00\",\"#00ffff\",\"#000000\",\"#00ff00\",\"#00ff00\",\"#00ff00\",\"#00ff00\",\"#00ff00\",\"#00ff00\",\"#00ff00\",\"#00ff00\",\"#00ff00\",\"#00ff00\",\"#00ff00\",\"#00ff00\",\"#00ff00\",\"#00ff00\",\"#00ffff\",\"#000000\",\"#000000\",\"#00ff00\",\"#00ff00\",\"#00ff00\",\"#00ff00\",\"#00ffff\",\"#00ff00\",\"#00ff00\",\"#00ff00\",\"#00ff00\",\"#00ff00\",\"#00ff00\",\"#00ff00\",\"#00ff00\",\"#00ff00\",\"#00ffff\",\"#00ff00\",\"#00ff00\",\"#00ff00\",\"#00ff00\",\"#00ff00\",\"#000000\",\"#00ff00\",\"#00ffff\",\"#00ff00\",\"#00ffff\",\"#00ffff\",\"#00ff00\",\"#00ff00\",\"#00ff00\",\"#00ff00\",\"#00ff00\",\"#00ff00\",\"#00ff00\",\"#000000\",\"#00ff00\",\"#000000\",\"#00ff00\",\"#00ff00\",\"#00ffff\",\"#00ffff\",\"#00ff00\",\"#00ff00\",\"#00ff00\",\"#00ff00\",\"#00ff00\",\"#00ff00\",\"#00ffff\",\"#00ffff\",\"#000000\",\"#00ff00\",\"#00ff00\",\"#00ff00\",\"#00ff00\",\"#00ff00\",\"#00ff00\",\"#00ff00\",\"#000000\",\"#00ff00\",\"#00ffff\",\"#00ff00\",\"#00ff00\",\"#00ff00\",\"#00ff00\",\"#00ff00\",\"#00ffff\",\"#00ff00\",\"#00ffff\",\"#00ff00\",\"#00ffff\",\"#00ff00\",\"#00ff00\",\"#00ff00\",\"#00ff00\",\"#00ff00\",\"#00ff00\",\"#00ff00\",\"#00ffff\",\"#00ff00\",\"#00ff00\",\"#00ff00\",\"#00ff00\",\"#00ff00\",\"#000000\",\"#00ff00\",\"#00ff00\",\"#00ff00\",\"#00ff00\",\"#00ff00\",\"#00ff00\",\"#00ff00\",\"#00ff00\",\"#00ff00\",\"#00ff00\",\"#00ffff\",\"#00ff00\",\"#00ff00\",\"#00ff00\",\"#00ff00\",\"#00ff00\",\"#00ff00\",\"#00ff00\",\"#000000\",\"#00ffff\",\"#00ff00\",\"#00ff00\",\"#00ff00\",\"#00ff00\",\"#00ff00\",\"#00ff00\",\"#00ff00\",\"#00ff00\",\"#00ffff\",\"#00ff00\",\"#00ff00\",\"#00ff00\",\"#00ff00\",\"#00ff00\",\"#00ffff\",\"#00ff00\",\"#00ff00\",\"#00ff00\",\"#000000\",\"#00ff00\",\"#00ff00\",\"#00ff00\",\"#00ff00\",\"#00ff00\",\"#00ff00\",\"#00ff00\",\"#00ff00\",\"#00ff00\",\"#00ff00\",\"#00ff00\",\"#00ffff\",\"#00ffff\",\"#00ff00\",\"#000000\",\"#00ff00\",\"#00ffff\",\"#00ffff\",\"#00ff00\",\"#00ffff\",\"#00ff00\",\"#00ff00\",\"#00ff00\",\"#00ff00\",\"#00ff00\",\"#00ff00\",\"#000000\",\"#00ff00\",\"#00ff00\",\"#00ff00\",\"#00ff00\",\"#00ff00\",\"#00ff00\",\"#00ff00\",\"#00ff00\",\"#00ff00\",\"#00ff00\",\"#00ffff\",\"#00ff00\",\"#000000\",\"#00ff00\",\"#00ffff\",\"#00ff00\",\"#00ff00\",\"#00ff00\",\"#00ffff\",\"#00ffff\",\"#00ff00\",\"#00ff00\",\"#000000\",\"#00ff00\",\"#00ff00\",\"#00ffff\",\"#00ff00\",\"#00ffff\",\"#00ff00\",\"#00ff00\",\"#00ff00\",\"#00ff00\",\"#00ff00\",\"#00ff00\",\"#00ff00\",\"#00ffff\",\"#00ff00\",\"#00ff00\",\"#00ff00\",\"#00ffff\",\"#00ff00\",\"#00ff00\",\"#00ffff\",\"#000000\",\"#00ff00\",\"#00ff00\",\"#00ff00\",\"#00ff00\",\"#00ffff\",\"#00ff00\",\"#00ff00\",\"#00ff00\",\"#00ff00\",\"#00ff00\",\"#00ff00\",\"#00ff00\",\"#00ff00\",\"#00ff00\",\"#00ffff\",\"#00ff00\",\"#00ff00\",\"#00ff00\",\"#00ff00\",\"#00ff00\",\"#00ff00\",\"#00ffff\",\"#000000\",\"#00ff00\",\"#00ff00\",\"#00ff00\",\"#00ff00\",\"#00ff00\",\"#00ff00\",\"#00ff00\",\"#00ff00\",\"#00ffff\",\"#000000\",\"#00ff00\",\"#00ff00\",\"#00ff00\",\"#00ffff\",\"#00ff00\",\"#00ff00\",\"#00ffff\",\"#000000\",\"#00ff00\",\"#00ff00\",\"#00ff00\",\"#00ffff\",\"#00ff00\",\"#000000\",\"#00ff00\",\"#00ff00\",\"#00ff00\",\"#00ff00\",\"#00ff00\",\"#00ff00\",\"#00ff00\",\"#00ff00\",\"#00ff00\",\"#00ff00\",\"#00ff00\",\"#00ff00\",\"#00ff00\",\"#00ff00\",\"#00ff00\",\"#00ffff\",\"#00ff00\",\"#00ff00\",\"#00ffff\",\"#00ff00\",\"#00ffff\",\"#00ff00\",\"#00ff00\",\"#00ff00\",\"#00ff00\",\"#00ff00\",\"#00ff00\",\"#000000\",\"#00ff00\",\"#00ff00\",\"#00ff00\",\"#00ffff\",\"#00ff00\",\"#00ff00\",\"#00ff00\",\"#00ff00\",\"#00ff00\",\"#00ff00\",\"#00ff00\",\"#00ff00\",\"#00ff00\",\"#000000\",\"#00ff00\",\"#00ffff\",\"#00ff00\",\"#00ff00\",\"#00ff00\",\"#000000\",\"#00ff00\",\"#00ff00\",\"#00ff00\",\"#00ff00\",\"#00ff00\",\"#00ff00\",\"#00ffff\",\"#00ffff\",\"#00ff00\",\"#00ff00\",\"#00ff00\",\"#00ff00\",\"#00ffff\",\"#00ff00\",\"#00ff00\",\"#00ffff\",\"#00ff00\",\"#00ff00\",\"#00ff00\",\"#00ff00\",\"#00ffff\",\"#00ff00\",\"#000000\",\"#00ff00\",\"#00ffff\",\"#00ff00\",\"#00ff00\",\"#00ff00\",\"#00ff00\",\"#00ffff\",\"#00ff00\",\"#00ff00\",\"#00ff00\",\"#00ff00\",\"#00ff00\",\"#00ff00\",\"#00ff00\",\"#00ff00\",\"#000000\",\"#00ff00\",\"#00ff00\",\"#00ff00\",\"#00ffff\",\"#000000\",\"#00ff00\",\"#00ff00\",\"#00ff00\",\"#000000\",\"#00ff00\",\"#00ff00\",\"#00ff00\",\"#00ffff\",\"#00ff00\",\"#00ff00\",\"#00ffff\",\"#00ff00\",\"#00ff00\",\"#000000\",\"#000000\",\"#00ff00\",\"#00ff00\",\"#000000\",\"#00ff00\",\"#00ff00\",\"#00ffff\",\"#00ff00\",\"#000000\",\"#00ff00\",\"#00ff00\",\"#00ff00\",\"#00ff00\",\"#00ff00\",\"#00ff00\",\"#00ffff\",\"#00ff00\",\"#00ffff\",\"#00ff00\",\"#00ff00\",\"#000000\",\"#00ff00\",\"#00ffff\",\"#00ff00\",\"#00ff00\",\"#00ff00\",\"#00ffff\",\"#00ff00\",\"#000000\",\"#00ff00\",\"#00ff00\",\"#00ff00\",\"#00ff00\",\"#000000\",\"#00ff00\",\"#00ff00\",\"#00ff00\",\"#00ff00\",\"#00ffff\",\"#00ff00\",\"#00ff00\",\"#00ff00\",\"#00ffff\",\"#00ff00\",\"#00ffff\",\"#00ff00\",\"#00ff00\",\"#00ff00\",\"#00ff00\",\"#00ff00\",\"#00ff00\",\"#00ff00\",\"#00ff00\",\"#00ffff\",\"#00ff00\",\"#00ff00\",\"#00ff00\",\"#000000\",\"#00ff00\",\"#00ffff\",\"#00ff00\",\"#00ff00\",\"#00ff00\",\"#00ff00\",\"#00ff00\",\"#00ff00\",\"#00ff00\",\"#00ffff\",\"#00ff00\",\"#000000\",\"#00ff00\",\"#00ff00\",\"#00ff00\",\"#00ff00\",\"#00ff00\",\"#00ff00\",\"#00ff00\",\"#00ff00\",\"#00ff00\",\"#00ff00\",\"#00ff00\",\"#00ff00\",\"#00ff00\",\"#00ff00\",\"#00ff00\",\"#00ff00\",\"#00ff00\",\"#00ff00\",\"#000000\",\"#00ff00\",\"#00ffff\",\"#00ff00\",\"#00ff00\",\"#00ff00\",\"#00ffff\",\"#00ff00\",\"#00ff00\",\"#00ffff\",\"#00ff00\",\"#00ff00\",\"#00ff00\",\"#00ff00\",\"#00ff00\",\"#00ff00\",\"#00ff00\",\"#00ff00\",\"#000000\",\"#00ff00\",\"#00ff00\",\"#00ff00\",\"#00ff00\",\"#00ff00\",\"#00ff00\",\"#00ff00\",\"#00ff00\",\"#00ff00\",\"#00ff00\",\"#00ff00\",\"#00ff00\",\"#00ff00\",\"#00ff00\",\"#00ff00\",\"#00ff00\",\"#00ffff\",\"#00ff00\",\"#00ff00\",\"#00ff00\",\"#00ff00\",\"#000000\",\"#00ffff\",\"#00ff00\",\"#00ffff\",\"#00ff00\",\"#00ff00\",\"#00ff00\",\"#00ff00\",\"#00ff00\",\"#00ff00\",\"#00ff00\",\"#00ff00\",\"#00ff00\",\"#00ffff\",\"#00ffff\",\"#00ff00\",\"#00ff00\",\"#00ff00\",\"#00ff00\",\"#00ff00\",\"#00ff00\",\"#000000\",\"#00ff00\",\"#00ffff\",\"#00ff00\",\"#000000\",\"#000000\",\"#00ff00\",\"#00ff00\",\"#00ff00\",\"#00ff00\",\"#00ff00\",\"#00ffff\",\"#000000\",\"#00ff00\",\"#00ffff\",\"#00ff00\",\"#00ff00\",\"#00ffff\",\"#00ff00\",\"#000000\",\"#00ffff\",\"#00ff00\",\"#00ff00\",\"#00ffff\",\"#00ffff\",\"#00ff00\",\"#00ff00\",\"#00ff00\",\"#000000\",\"#00ff00\",\"#00ff00\",\"#000000\",\"#00ff00\",\"#000000\",\"#00ff00\",\"#000000\",\"#00ff00\",\"#00ffff\",\"#00ff00\",\"#00ff00\",\"#00ff00\",\"#000000\",\"#00ff00\",\"#00ff00\",\"#00ff00\",\"#00ffff\",\"#00ff00\",\"#00ff00\",\"#000000\"],\"names\":[\"<unk>\",\"<pad>\",\"modi\",\"india\",\"people\",\"bjp\",\"congress\",\"like\",\"narendra\",\"election\",\"vote\",\"year\",\"govt\",\"indian\",\"time\",\"country\",\"modis\",\"dont\",\"nation\",\"know\",\"rahul\",\"want\",\"government\",\"party\",\"minister\",\"power\",\"gandhi\",\"leader\",\"say\",\"good\",\"space\",\"credit\",\"come\",\"need\",\"said\",\"think\",\"sir\",\"pakistan\",\"prime\",\"work\",\"money\",\"scientist\",\"opposition\",\"day\",\"support\",\"chowkidar\",\"today\",\"win\",\"job\",\"hai\",\"right\",\"new\",\"world\",\"thing\",\"great\",\"news\",\"poor\",\"satellite\",\"let\",\"drdo\",\"medium\",\"anti\",\"nehru\",\"political\",\"nirav\",\"address\",\"live\",\"question\",\"lakh\",\"family\",\"best\",\"way\",\"achievement\",\"mission\",\"going\",\"scheme\",\"better\",\"seat\",\"crore\",\"man\",\"promise\",\"state\",\"campaign\",\"proud\",\"national\",\"given\",\"got\",\"yes\",\"hindu\",\"watch\",\"thats\",\"ask\",\"issue\",\"hate\",\"strike\",\"shah\",\"speech\",\"big\",\"namo\",\"didnt\",\"development\",\"upa\",\"person\",\"stop\",\"rally\",\"muslim\",\"politics\",\"guy\",\"jai\",\"mean\",\"shakti\",\"look\",\"missile\",\"tweet\",\"tell\",\"saying\",\"love\",\"public\",\"giving\",\"asat\",\"reason\",\"making\",\"understand\",\"doesnt\",\"talk\",\"fake\",\"thanks\",\"test\",\"life\",\"gave\",\"pappu\",\"sure\",\"true\",\"corruption\",\"interview\",\"isro\",\"congratulation\",\"fact\",\"hope\",\"read\",\"candidate\",\"announcement\",\"rule\",\"real\",\"bank\",\"attack\",\"supporter\",\"called\",\"case\",\"voter\",\"help\",\"account\",\"wrong\",\"problem\",\"believe\",\"video\",\"change\",\"don\",\"terrorist\",\"bhakts\",\"lie\",\"r\",\"varanasi\",\"economy\",\"yr\",\"farmer\",\"policy\",\"team\",\"poll\",\"strong\",\"chor\",\"word\",\"force\",\"trying\",\"bhi\",\"taking\",\"answer\",\"bharat\",\"ppl\",\"contest\",\"coming\",\"leadership\",\"success\",\"court\",\"shame\",\"away\",\"china\",\"code\",\"sarkar\",\"dear\",\"term\",\"started\",\"failed\",\"promised\",\"talking\",\"sabha\",\"chief\",\"fight\",\"corrupt\",\"decision\",\"tax\",\"surgical\",\"happy\",\"thank\",\"feel\",\"wont\",\"lok\",\"air\",\"friend\",\"start\",\"army\",\"hand\",\"stand\",\"security\",\"getting\",\"use\",\"point\",\"face\",\"scam\",\"hard\",\"go\",\"free\",\"lot\",\"democracy\",\"matter\",\"till\",\"fool\",\"politician\",\"app\",\"shri\",\"seen\",\"citizen\",\"conduct\",\"long\",\"bring\",\"gujarat\",\"taken\",\"statement\",\"happened\",\"important\",\"post\",\"came\",\"amit\",\"pak\",\"asking\",\"bad\",\"hind\",\"proof\",\"god\",\"commission\",\"th\",\"working\",\"took\",\"lost\",\"difference\",\"month\",\"action\",\"future\",\"instead\",\"channel\",\"mind\",\"capability\",\"singh\",\"announced\",\"bhakt\",\"loan\",\"wish\",\"blame\",\"respect\",\"thought\",\"common\",\"bail\",\"woman\",\"antisatellite\",\"possible\",\"high\",\"income\",\"movie\",\"report\",\"care\",\"shot\",\"vision\",\"left\",\"place\",\"poverty\",\"save\",\"agenda\",\"asked\",\"responsible\",\"wave\",\"try\",\"youth\",\"cong\",\"modiji\",\"remember\",\"join\",\"project\",\"failure\",\"actually\",\"journalist\",\"war\",\"black\",\"delhi\",\"entire\",\"claim\",\"biggest\",\"low\",\"truth\",\"south\",\"fear\",\"run\",\"defeat\",\"supporting\",\"idea\",\"model\",\"agree\",\"majority\",\"biopic\",\"message\",\"speak\",\"update\",\"hatred\",\"set\",\"show\",\"kind\",\"super\",\"kashmir\",\"ahead\",\"main\",\"clear\",\"follow\",\"won\",\"far\",\"waiting\",\"nda\",\"single\",\"happen\",\"old\",\"voting\",\"soon\",\"chance\",\"economic\",\"ready\",\"forget\",\"second\",\"history\",\"end\",\"level\",\"past\",\"give\",\"plan\",\"raga\",\"safe\",\"huge\",\"business\",\"trust\",\"able\",\"different\",\"story\",\"growth\",\"launch\",\"told\",\"law\",\"created\",\"successfully\",\"twitter\",\"number\",\"film\",\"make\",\"result\",\"unemployment\",\"comment\",\"fan\",\"priyanka\",\"act\",\"assam\",\"clean\",\"get\",\"lac\",\"pls\",\"share\",\"moment\",\"indira\",\"check\",\"successful\",\"constituency\",\"doubt\",\"announce\",\"ticket\",\"worry\",\"mallya\",\"institution\",\"propaganda\",\"having\",\"wait\",\"jail\",\"shoot\",\"president\",\"open\",\"benefit\",\"nyay\",\"courage\",\"hit\",\"lol\",\"debate\",\"defence\",\"social\",\"take\",\"ambani\",\"pay\",\"destroyed\",\"list\",\"thinking\",\"reality\",\"reply\",\"arnab\",\"expect\",\"hater\",\"isnt\",\"dream\",\"leave\",\"target\",\"vijay\",\"home\",\"release\",\"paid\",\"imran\",\"view\",\"press\",\"ground\",\"return\",\"request\",\"antimodi\",\"article\",\"stupid\",\"brought\",\"soldier\",\"went\",\"deal\",\"honest\",\"class\",\"khan\",\"line\",\"game\",\"yogi\",\"lose\",\"rest\",\"meerut\",\"aap\",\"london\",\"regime\",\"self\",\"achieved\",\"head\",\"liberal\",\"elected\",\"he\",\"jumla\",\"idiot\",\"balakot\",\"kya\",\"official\",\"logic\",\"dynasty\",\"pradesh\",\"data\",\"foreign\",\"voted\",\"member\",\"land\",\"master\",\"can\",\"nahi\",\"wonder\",\"definitely\",\"april\",\"scared\",\"step\",\"meeting\",\"bhai\",\"body\",\"mumkin\",\"high_voltage\",\"create\",\"choice\",\"wanted\",\"whats\",\"mistake\",\"personal\",\"pulwama\",\"listen\",\"narrative\",\"minority\",\"pakistani\",\"sorry\",\"remove\",\"rich\",\"education\",\"earth\",\"effort\",\"fighting\",\"earlier\",\"killed\",\"weapon\",\"sense\",\"winning\",\"aur\",\"jawan\",\"young\",\"changed\",\"gone\",\"gut\",\"har\",\"note\",\"brother\",\"million\",\"blind\",\"general\",\"rafale\",\"alliance\",\"false\",\"didn\",\"continue\",\"march\",\"form\",\"gang\",\"jee\",\"contesting\",\"opinion\",\"joke\",\"order\",\"victory\",\"language\",\"technology\",\"group\",\"including\",\"child\",\"stay\",\"ram\",\"destroy\",\"educated\",\"international\",\"chowkidars\",\"father\",\"house\",\"atleast\",\"orbit\",\"lead\",\"son\",\"hell\",\"simple\",\"heard\",\"opportunity\",\"era\",\"loot\",\"source\",\"that\",\"rajan\",\"sonia\",\"exactly\",\"correct\",\"employment\",\"looking\",\"minute\",\"ndtv\",\"small\",\"threat\",\"drama\",\"prove\",\"led\",\"minimum\",\"accept\",\"major\",\"karnataka\",\"trailer\",\"follower\",\"praise\",\"abuse\",\"happens\",\"road\",\"enemy\",\"feeling\",\"tenure\",\"economist\",\"situation\",\"slogan\",\"terrorism\",\"busy\",\"decade\",\"according\",\"hour\",\"raid\",\"week\",\"odisha\",\"present\",\"card\",\"showing\",\"rd\",\"heart\",\"permission\",\"advani\",\"amethi\",\"clearly\",\"previous\",\"trump\",\"worst\",\"peace\",\"plz\",\"hain\",\"north\",\"speaking\",\"play\",\"visit\",\"addressing\",\"gst\",\"terror\",\"cost\",\"fund\",\"allowed\",\"republic\",\"running\",\"current\",\"calling\",\"progress\",\"program\",\"company\",\"shown\",\"office\",\"record\",\"ji\",\"launched\",\"baar\",\"desh\",\"living\",\"voice\",\"abt\",\"kar\",\"nationalist\",\"role\",\"wah\",\"known\",\"shameless\",\"toh\",\"coz\",\"demonetisation\",\"death\",\"picture\",\"brain\",\"governance\",\"doesn\",\"course\",\"deserve\",\"violation\",\"challenge\",\"actor\",\"link\",\"option\",\"rate\",\"religion\",\"send\",\"hold\",\"playing\",\"desperate\",\"express\",\"learn\",\"based\",\"adani\",\"guess\",\"mother\",\"middle\",\"type\",\"victory_hand\",\"youre\",\"kumar\",\"manmohan\",\"decided\",\"stopped\",\"fraud\",\"shit\",\"spread\",\"pro\",\"kill\",\"ago\",\"community\",\"position\",\"turn\",\"choose\",\"example\",\"saw\",\"btw\",\"jammu\",\"lack\",\"govts\",\"conference\",\"happening\",\"tried\",\"attention\",\"st\",\"kejriwal\",\"worker\",\"knowledge\",\"parliament\",\"wow\",\"telling\",\"welcome\",\"gain\",\"rupee\",\"theatre\",\"allow\",\"developed\",\"absolutely\",\"photo\",\"sad\",\"powerful\",\"totally\",\"yeah\",\"yesterday\",\"little\",\"nationalism\",\"village\",\"write\",\"city\",\"complete\",\"decide\",\"denied\",\"following\",\"meet\",\"provide\",\"built\",\"railway\",\"speaks\",\"ensure\",\"special\",\"freedom\",\"unlike\",\"ban\",\"bar\",\"compare\",\"image\",\"judge\",\"despite\",\"favour\",\"watching\",\"fall\",\"kuch\",\"easy\",\"upcoming\",\"afraid\",\"hey\",\"bjps\",\"elite\",\"finally\",\"kept\",\"pm\",\"worked\",\"capable\",\"jaitley\",\"liar\",\"proved\",\"hear\",\"performance\",\"sector\",\"bcoz\",\"series\",\"officer\",\"superpower\",\"seriously\",\"there\",\"questioning\",\"salute\",\"bangalore\",\"respected\",\"forward\",\"society\",\"worth\",\"armed\",\"completely\",\"criminal\",\"department\",\"appeal\",\"eye\",\"notice\",\"evidence\",\"madam\",\"price\",\"deposit\",\"increase\",\"nice\",\"call\",\"mein\",\"remain\",\"andhra\",\"aware\",\"chowkidaar\",\"congrats\",\"hearing\",\"loss\",\"response\",\"book\",\"building\",\"asks\",\"match\",\"water\",\"wife\",\"surely\",\"area\",\"gdp\",\"joker\",\"spreading\",\"non\",\"secular\",\"seeing\",\"total\",\"looted\",\"modishah\",\"patriotism\",\"dangerous\",\"pride\",\"publicity\",\"campaigning\",\"food\",\"governor\",\"loose\",\"communal\",\"counter\",\"mm\",\"service\",\"sold\",\"creating\",\"dare\",\"hatao\",\"imagine\",\"directly\",\"tea\",\"cbi\",\"reach\",\"worried\",\"din\",\"phir\",\"star\",\"constitution\",\"expected\",\"ideology\",\"selling\",\"tamil\",\"blaming\",\"bro\",\"build\",\"needed\",\"rbi\",\"russia\",\"cabinet\",\"ruling\",\"antinational\",\"buy\",\"maybe\",\"sent\",\"vajpayee\",\"crony\",\"generation\",\"human\",\"ministry\",\"electoral\",\"kerala\",\"dog\",\"health\",\"bigger\",\"cause\",\"pic\",\"late\",\"planning\",\"rural\",\"announces\",\"appreciate\",\"control\",\"highest\",\"justice\",\"nonsense\",\"centre\",\"event\",\"men\",\"moron\",\"negative\",\"one\",\"hero\",\"massive\",\"smart\",\"military\",\"mumbai\",\"gov\",\"kid\",\"losing\",\"standard\",\"central\",\"deliver\",\"gas\",\"file\",\"mrmodi\",\"culture\",\"hide\",\"skill\",\"achieve\",\"age\",\"half\",\"oppose\",\"status\",\"abhinandan\",\"budget\",\"joshi\",\"research\",\"riot\",\"focus\",\"science\",\"school\",\"toilet\",\"explain\",\"growing\",\"hindi\",\"positive\",\"maker\",\"rajasthan\",\"population\",\"similar\",\"ghar\",\"mention\",\"chit\",\"difficult\",\"exposed\",\"red_heart\",\"deserves\",\"intellectual\",\"killing\",\"latest\",\"nuclear\",\"raise\",\"simply\",\"east\",\"hindustan\",\"name\",\"sab\",\"seek\",\"supported\",\"gonna\",\"sri\",\"caste\",\"credited\",\"tomorrow\",\"transfer\",\"lying\",\"raghuram\",\"double\",\"increased\",\"programme\",\"thousand\",\"dumb\",\"involved\",\"openly\",\"turned\",\"cr\",\"independence\",\"sell\",\"zero\",\"who\",\"border\",\"paper\",\"strength\",\"survey\",\"tough\",\"waste\",\"breaking\",\"claimed\",\"concerned\",\"train\",\"bengal\",\"contribution\",\"detail\",\"feku\",\"likely\",\"basic\",\"disaster\",\"kashmiri\",\"local\",\"completed\",\"enjoy\",\"related\",\"degree\",\"fourth\",\"mass\",\"quality\",\"protect\",\"writes\",\"independent\",\"letter\",\"rise\",\"swamy\",\"cry\",\"figure\",\"mouth\",\"add\",\"fellow\",\"ill\",\"sitting\",\"united\",\"bollywood\",\"chair\",\"later\",\"senior\",\"bihar\",\"elect\",\"fun\",\"song\",\"destroying\",\"forever\",\"global\",\"billion\",\"luck\",\"market\",\"raj\",\"belief\",\"demonetization\",\"faith\",\"shouldnt\",\"value\",\"hindutva\",\"lady\",\"night\",\"probably\",\"tested\",\"boarding\",\"delivered\",\"handle\",\"mentioned\",\"strategy\",\"gujrat\",\"born\",\"declared\",\"period\",\"beat\",\"freebie\",\"slave\",\"charge\",\"fir\",\"helped\",\"especially\",\"fine\",\"helping\",\"west\",\"written\",\"crime\",\"offer\",\"opposing\",\"ruled\",\"shooting\",\"begin\",\"close\",\"daily\",\"date\",\"mamata\",\"temple\",\"bringing\",\"democratic\",\"student\",\"fascist\",\"abusing\",\"criticize\",\"implemented\",\"male_sign\",\"manifesto\",\"morning\",\"vadra\",\"amazing\",\"grow\",\"knew\",\"operation\",\"standing\",\"cell\",\"cheap\",\"download\",\"field\",\"information\",\"popularity\",\"rajdeep\",\"acting\",\"crowd\",\"demand\",\"journey\",\"tejasvi\",\"dead\",\"pas\",\"secret\",\"marketing\",\"duty\",\"fair\",\"kcr\",\"nd\",\"worse\",\"accused\",\"joining\",\"chaiwala\",\"excellent\",\"fail\",\"fugitive\",\"kick\",\"saraswat\",\"confidence\",\"piece\",\"tha\",\"niti\",\"personally\",\"surya\",\"journalism\",\"violate\",\"\\u0936\\u092c\\u091a\",\"girl\",\"surprise\",\"announcing\",\"demonetised\",\"vivek\",\"confident\",\"impact\",\"promising\",\"responsibility\",\"short\",\"bos\",\"expert\",\"troll\",\"biryani\",\"counting\",\"effect\",\"interesting\",\"remonetise\",\"required\",\"spent\",\"surprised\",\"agency\",\"biased\",\"desperation\",\"fought\",\"iaf\",\"released\",\"shut\",\"foot\",\"shameful\",\"truly\",\"tune\",\"basis\",\"contested\",\"inflation\",\"innocent\",\"supreme\",\"testing\",\"antiindia\",\"boy\",\"police\",\"popular\",\"shortly\",\"sound\",\"break\",\"cut\",\"hail\",\"provided\",\"you\",\"bit\",\"slam\",\"forced\",\"bcz\",\"concern\",\"cow\",\"perfect\",\"survive\",\"welfare\",\"cast\",\"insult\",\"plea\",\"analysis\",\"attempt\",\"kiya\",\"reform\",\"teach\",\"uttar\",\"fault\",\"height\",\"initiative\",\"inr\",\"jet\",\"kindly\",\"mam\",\"producer\",\"silent\",\"sky\",\"useless\",\"joined\",\"lesson\",\"movement\",\"award\",\"direct\",\"feat\",\"funny\",\"naidu\",\"process\",\"congratulate\",\"jay\",\"putting\",\"chose\",\"condition\",\"develop\",\"patriot\",\"questioned\",\"cash\",\"eat\",\"spoke\",\"track\",\"here\",\"mark\",\"outside\",\"telangana\",\"traitor\",\"unemployed\",\"battle\",\"compared\",\"property\",\"thief\",\"bold\",\"environment\",\"owaisi\",\"visionary\",\"foolish\",\"guarantee\",\"hurt\",\"opponent\",\"rajiv\",\"showed\",\"throw\",\"argument\",\"available\",\"criticism\",\"fully\",\"thug\",\"tweeted\",\"usual\",\"alternative\",\"bless\",\"large\",\"credibility\",\"grand\",\"ran\",\"sit\",\"anybody\",\"bluff\",\"keep\",\"praising\",\"section\",\"anil\",\"arrested\",\"forgot\",\"held\",\"poorest\",\"vikas\",\"wasnt\",\"die\",\"priority\",\"shall\",\"youtube\",\"art\",\"beloved\",\"everybody\",\"exclusive\",\"gift\",\"suffering\",\"suit\",\"union\",\"individual\",\"plus\",\"anymore\",\"club\",\"count\",\"economics\",\"implement\",\"largest\",\"style\",\"nomination\",\"removed\",\"usa\",\"addressed\",\"bloody\",\"ignore\",\"financial\",\"isi\",\"stage\",\"stronger\",\"writing\",\"electricity\",\"jumlas\",\"masood\",\"unfortunately\",\"arunachal\",\"carry\",\"connection\",\"goswami\",\"near\",\"eci\",\"fast\",\"reelected\",\"sharma\",\"shud\",\"advantage\",\"allegation\",\"blamed\",\"bsp\",\"dirty\",\"expose\",\"narender\",\"paying\",\"missing\",\"recent\",\"weak\",\"wouldnt\",\"bsf\",\"easily\",\"established\",\"haha\",\"sleep\",\"arun\",\"cover\",\"raised\",\"consider\",\"king\",\"min\",\"criticise\",\"developing\",\"hitler\",\"mehul\",\"arent\",\"certainly\",\"decisive\",\"english\",\"fulfilled\",\"npa\",\"gadkari\",\"highlight\",\"inside\",\"maximum\",\"neutral\",\"puppet\",\"violence\",\"atal\",\"garibi\",\"impossible\",\"reaction\",\"scientific\",\"apart\",\"blood\",\"brave\",\"complaint\",\"engineer\",\"finance\",\"hat\",\"mcc\",\"serve\",\"thread\",\"brand\",\"declare\",\"deep\",\"jagan\",\"nod\",\"pain\",\"yojana\",\"atm\",\"divide\",\"light\",\"lynching\",\"obviously\",\"pray\",\"risk\",\"university\",\"assembly\",\"beef\",\"congi\",\"congressi\",\"crisis\",\"defeated\",\"escape\",\"factor\",\"fooled\",\"key\",\"patel\",\"resource\",\"seeking\",\"topic\",\"claiming\",\"core\",\"fooling\",\"gimmick\",\"km\",\"mamta\",\"meant\",\"miss\",\"religious\",\"wayanad\",\"witness\",\"extradition\",\"jobless\",\"league\",\"mp\",\"urge\",\"airport\",\"congis\",\"earn\",\"higher\",\"pathetic\",\"sacked\",\"spend\",\"yadav\",\"added\",\"brilliant\",\"coward\",\"mata\",\"payer\",\"pmo\",\"sinha\",\"funding\",\"hypocrisy\",\"incident\",\"interested\",\"liye\",\"lutyens\",\"pocket\",\"realise\",\"sake\",\"smiling_face\",\"bigot\",\"comparison\",\"danger\",\"evil\",\"promoting\",\"targeted\",\"baba\",\"babu\",\"character\",\"choksi\",\"loksabha\",\"actual\",\"crook\",\"defend\",\"pass\",\"prof\",\"web\",\"equal\",\"final\",\"intelligent\",\"leading\",\"mad\",\"private\",\"secure\",\"spirit\",\"travel\",\"facing\",\"goal\",\"met\",\"sister\",\"balance\",\"director\",\"dude\",\"followed\",\"kanhaiya\",\"northeast\",\"personality\",\"recently\",\"sign\",\"solution\",\"wednesday\",\"average\",\"hating\",\"keeping\",\"named\",\"par\",\"played\",\"received\",\"safety\",\"street\",\"subsidy\",\"wud\",\"ability\",\"hello\",\"intelligence\",\"pressure\",\"pure\",\"asset\",\"career\",\"chokidar\",\"committed\",\"irani\",\"moving\",\"page\",\"rahuls\",\"looting\",\"nhi\",\"oberoi\",\"rejected\",\"thrown\",\"tht\",\"emergency\",\"havent\",\"mai\",\"mar\",\"mudra\",\"pledge\",\"reduced\",\"hahaha\",\"listening\",\"mindset\",\"stunt\",\"wake\",\"whatsapp\",\"baat\",\"badly\",\"british\",\"creation\",\"debris\",\"goon\",\"repeat\",\"ball\",\"blessing\",\"gun\",\"headline\",\"mess\",\"painting\",\"region\",\"wing\",\"yeh\",\"cup\",\"defense\",\"diya\",\"providing\",\"saved\",\"urban\",\"activity\",\"newspaper\",\"reject\",\"shouting\",\"sleeping\",\"timing\",\"ally\",\"honourable\",\"isn\",\"kudos\",\"literally\",\"promote\",\"reading\",\"as\",\"confused\",\"infrastructure\",\"mla\",\"agreed\",\"authority\",\"intention\",\"knowing\",\"mock\",\"rhetoric\",\"wala\",\"bengaluru\",\"limit\",\"supposed\",\"visited\",\"akhilesh\",\"daughter\",\"highly\",\"spokesperson\",\"attitude\",\"damage\",\"dictator\",\"doval\",\"ganga\",\"margin\",\"mayawati\",\"opened\",\"pidis\",\"rahe\",\"suddenly\",\"trap\",\"wealth\",\"base\",\"changing\",\"digital\",\"greatest\",\"immediately\",\"influence\",\"mega\",\"approach\",\"clearance\",\"commitment\",\"basically\",\"content\",\"historic\",\"log\",\"path\",\"pilot\",\"tukde\",\"understanding\",\"absolute\",\"comparing\",\"conducted\",\"didi\",\"died\",\"illiterate\",\"jibe\",\"lalit\",\"lord\",\"loses\",\"opposed\",\"respond\",\"tag\",\"abroad\",\"ashamed\",\"indirectly\",\"ipl\",\"looter\",\"mandir\",\"proper\",\"trend\",\"agent\",\"bet\",\"boot\",\"chairman\",\"chant\",\"christian\",\"corporate\",\"energy\",\"mandate\",\"moral\",\"purpose\",\"talked\",\"victim\",\"wale\",\"what\",\"certain\",\"continues\",\"extremely\",\"industry\",\"remains\",\"reservation\",\"season\",\"angry\",\"collection\",\"fit\",\"push\",\"stone\",\"wise\",\"america\",\"chidambaram\",\"chinese\",\"early\",\"filled\",\"mere\",\"oppn\",\"tum\",\"us\",\"violated\",\"blinded\",\"direction\",\"earned\",\"importance\",\"maharashtra\",\"math\",\"smriti\",\"caught\",\"destruction\",\"discussion\",\"inspired\",\"manner\",\"measure\",\"murder\",\"organisation\",\"rocket\",\"sentiment\",\"solve\",\"understood\",\"banerjee\",\"capacity\",\"gujarati\",\"modibjp\",\"pretty\",\"rajnath\",\"remark\",\"shared\",\"sick\",\"white\",\"camp\",\"century\",\"everyday\",\"rafael\",\"reached\",\"sat\",\"treatment\",\"trick\",\"accepted\",\"attacked\",\"boost\",\"criticising\",\"honorable\",\"okay\",\"sanghi\",\"wonderful\",\"begging\",\"bomb\",\"digest\",\"experience\",\"felt\",\"hypocrite\",\"meaning\",\"missed\",\"platform\",\"regional\",\"arvind\",\"cbn\",\"committee\",\"demo\",\"expecting\",\"famous\",\"honesty\",\"served\",\"statue\",\"aim\",\"ani\",\"belong\",\"damn\",\"dole\",\"door\",\"enjoying\",\"google\",\"madhavan\",\"ruined\",\"startup\",\"unprecedented\",\"bought\",\"chest\",\"necessary\",\"rid\",\"study\",\"westminster\",\"dynamic\",\"filmmaker\",\"fix\",\"leo\",\"starting\",\"tweeting\",\"vadodara\",\"car\",\"copy\",\"janta\",\"loosing\",\"azhar\",\"bribe\",\"brigade\",\"dept\",\"godi\",\"lower\",\"magic\",\"planned\",\"punjab\",\"relation\",\"tak\",\"unable\",\"uncle\",\"uttarakhand\",\"wat\",\"banned\",\"duo\",\"realize\",\"sending\",\"strategic\",\"waiver\",\"wear\",\"bond\",\"cap\",\"ignored\",\"incompetent\",\"mode\",\"round\",\"suffer\",\"sun\",\"touch\",\"aayog\",\"carried\",\"chandrababu\",\"jealous\",\"sort\",\"soul\",\"stuff\",\"stupidity\",\"threatened\",\"trip\",\"uneducated\",\"upset\",\"anyways\",\"approval\",\"awesome\",\"bhakti\",\"celebrate\",\"disappointed\",\"disgusting\",\"fiscal\",\"folk\",\"frm\",\"jds\",\"laughing\",\"product\",\"saving\",\"swiss\",\"advice\",\"affair\",\"beneficiary\",\"distress\",\"entered\",\"extent\",\"nadu\",\"nota\",\"opposite\",\"raha\",\"suggest\",\"version\",\"attacking\",\"background\",\"belongs\",\"campaigner\",\"delay\",\"divert\",\"frustration\",\"launching\",\"race\",\"chai\",\"fulfill\",\"internal\",\"plane\",\"resign\",\"trouble\",\"anchor\",\"doctor\",\"fly\",\"improve\",\"interaction\",\"pnb\",\"stock\",\"tall\",\"block\",\"considered\",\"extra\",\"honble\",\"jan\",\"mental\",\"obvious\",\"percent\",\"rare\",\"serving\",\"center\",\"conversation\",\"corner\",\"dmk\",\"ecosystem\",\"initiated\",\"italian\",\"journos\",\"leftist\",\"reporter\",\"strengthen\",\"chanting\",\"civil\",\"laugh\",\"mob\",\"passed\",\"specially\",\"spending\",\"critic\",\"cross\",\"favor\",\"machine\",\"milestone\",\"protest\",\"burnol\",\"mentality\",\"normal\",\"original\",\"youngster\",\"aaj\",\"bachao\",\"bashing\",\"district\",\"employee\",\"friday\",\"interest\",\"longer\",\"mahagathbandhan\",\"wrote\",\"aside\",\"certificate\",\"coalition\",\"green\",\"irrespective\",\"maam\",\"sikh\",\"slap\",\"banking\",\"dedicated\",\"humble\",\"parent\",\"potential\",\"properly\",\"raja\",\"sarab\",\"shout\",\"taxpayer\",\"walk\",\"anger\",\"bullshit\",\"congratulated\",\"dynast\",\"ensured\",\"fuck\",\"gaya\",\"israel\",\"leaving\",\"pradhan\",\"salary\",\"strongly\",\"tech\",\"theory\",\"advertisement\",\"alive\",\"apply\",\"barking\",\"birth\",\"bridge\",\"confirmed\",\"hiding\",\"hinduism\",\"increasing\",\"partner\",\"pity\",\"regard\",\"thumping\",\"treat\",\"active\",\"ashwin\",\"brahmin\",\"coverage\",\"critical\",\"debt\",\"discus\",\"fails\",\"kalyan\",\"nervous\",\"pet\",\"retweet\",\"rudrapur\",\"awareness\",\"beginning\",\"deny\",\"expectation\",\"fighter\",\"hum\",\"institute\",\"introduced\",\"judiciary\",\"legal\",\"patriotic\",\"replace\",\"western\",\"arrest\",\"changer\",\"constitutional\",\"corrupts\",\"criticizing\",\"dbt\",\"islamic\",\"kicked\",\"lawyer\",\"magistrate\",\"moon\",\"paisa\",\"phase\",\"sharing\",\"shree\",\"tshirts\",\"venom\",\"bahadur\",\"blindly\",\"convince\",\"dailyhunt\",\"forgotten\",\"gold\",\"honour\",\"obsessed\",\"pidi\",\"sale\",\"willing\",\"wire\",\"wisely\",\"abdullah\",\"avoid\",\"blocked\",\"burn\",\"click\",\"faced\",\"finger\",\"firm\",\"hardly\",\"honestly\",\"intolerance\",\"lover\",\"managed\",\"prosperous\",\"refused\",\"represent\",\"wasted\",\"appears\",\"bias\",\"bullet\",\"cheated\",\"investigation\",\"ive\",\"koi\",\"loworbit\",\"malya\",\"scenario\",\"surjewala\",\"toi\",\"watched\",\"asia\",\"bunch\",\"currency\",\"dignity\",\"husband\",\"mobile\",\"mocking\",\"upto\",\"becoz\",\"catch\",\"extremist\",\"feed\",\"finish\",\"manohar\",\"mnrega\",\"sanghis\",\"search\",\"watchman\",\"arm\",\"auction\",\"blunder\",\"comedy\",\"divided\",\"foundation\",\"greater\",\"hint\",\"karo\",\"licking\",\"lion\",\"praised\",\"scrap\",\"stick\",\"stooge\",\"stroke\",\"thursday\",\"behalf\",\"blast\",\"broadcast\",\"currently\",\"ease\",\"hon\",\"implementation\",\"straight\",\"subject\",\"tour\",\"unfortunate\",\"unity\",\"communist\",\"cricket\",\"criticised\",\"genuine\",\"holding\",\"insulting\",\"limited\",\"mig\",\"phone\",\"pull\",\"reddy\",\"rival\",\"row\",\"strengthening\",\"suicide\",\"alleged\",\"corrupted\",\"dig\",\"erosnow\",\"evm\",\"network\",\"practice\",\"sabka\",\"see\",\"sena\",\"wondering\",\"chaukidar\",\"crap\",\"flop\",\"inch\",\"nsa\",\"speed\",\"taraf\",\"bye\",\"cheat\",\"convert\",\"drive\",\"frustrated\",\"lotus\",\"lucky\",\"pick\",\"rao\",\"signal\",\"silence\",\"somebody\",\"station\",\"capitalist\",\"celebrating\",\"clown\",\"healthcare\",\"illegal\",\"modern\",\"nair\",\"oath\",\"profile\",\"proven\",\"rubbish\",\"strict\",\"betterment\",\"blah\",\"episode\",\"fakendra\",\"hidden\",\"loser\",\"masterstroke\",\"merchandise\",\"naam\",\"perception\",\"politically\",\"stated\",\"tactic\",\"targeting\",\"theyre\",\"visible\",\"arrogance\",\"ayog\",\"breakthrough\",\"contract\",\"disgrace\",\"investment\",\"omg\",\"presence\",\"progressive\",\"raising\",\"rattled\",\"rightly\",\"scale\",\"sensible\",\"stood\",\"struggle\",\"tmc\",\"winner\",\"youll\",\"abused\",\"affect\",\"apple\",\"burning\",\"buying\",\"comedian\",\"drop\",\"dynastic\",\"eating\",\"editor\",\"guru\",\"hoga\",\"infact\",\"loved\",\"removing\",\"scene\",\"steal\",\"utter\",\"wanna\",\"apne\",\"conspiracy\",\"cool\",\"dalits\",\"defending\",\"finding\",\"finished\",\"identity\",\"josh\",\"lal\",\"online\",\"petrol\",\"quote\",\"red\",\"richest\",\"secularism\",\"sphere\",\"suggestion\",\"wearing\",\"airforce\",\"allowing\",\"billionaire\",\"bother\",\"college\",\"crazy\",\"empowering\",\"flag\",\"karma\",\"learnt\",\"lowest\",\"mantri\",\"multiple\",\"objective\",\"offered\",\"qualification\",\"revenge\",\"shift\",\"tear\",\"abhi\",\"abki\",\"ayushman\",\"existing\",\"facebook\",\"favourite\",\"hoping\",\"improved\",\"irony\",\"legacy\",\"neerav\",\"no\",\"particular\",\"radio\",\"relationship\",\"side\",\"transferred\",\"uturn\",\"veteran\",\"adityanath\",\"apparently\",\"harm\",\"housing\",\"informed\",\"mood\",\"pappus\",\"peaceful\",\"sends\",\"silly\",\"tamilnadu\",\"task\",\"twice\",\"waived\",\"wasting\",\"afford\",\"closed\",\"communication\",\"document\",\"equally\",\"exchief\",\"exist\",\"fastest\",\"fired\",\"helicopter\",\"integrity\",\"invite\",\"murderer\",\"proposal\",\"revolution\",\"ridiculous\",\"suffered\",\"wishing\",\"yojna\",\"accepting\",\"agar\",\"antinationals\",\"baby\",\"diplomacy\",\"female_sign\",\"glad\",\"internet\",\"misuse\",\"modified\",\"poster\",\"promotion\",\"protecting\",\"ride\",\"significant\",\"spoken\",\"symbol\",\"upper\",\"bear\",\"bigotry\",\"blog\",\"bright\",\"dividing\",\"fantastic\",\"move\",\"nature\",\"pandit\",\"prefer\",\"principle\",\"select\",\"shd\",\"application\",\"bjpmodi\",\"chosen\",\"dat\",\"excuse\",\"exposing\",\"forgive\",\"gutter\",\"haryana\",\"holder\",\"humanity\",\"lata\",\"nitin\",\"panel\",\"representative\",\"setting\",\"turning\",\"waited\",\"airline\",\"answered\",\"approved\",\"connect\",\"defame\",\"dis\",\"evident\",\"explained\",\"follows\",\"hota\",\"killer\",\"loving\",\"opening\",\"parliamentary\",\"print\",\"professional\",\"proposed\",\"realised\",\"recovered\",\"shatrughan\",\"sympathy\",\"talent\",\"teacher\",\"tej\",\"trusted\",\"tsunami\",\"achieving\",\"aircraft\",\"appear\",\"cheer\",\"competition\",\"couple\",\"desire\",\"dreaming\",\"eliminate\",\"formed\",\"mantra\",\"nawaz\",\"nearly\",\"oil\",\"shocking\",\"sirf\",\"site\",\"advance\",\"airstrike\",\"ajit\",\"chamcha\",\"chill\",\"chutiya\",\"existence\",\"expense\",\"fed\",\"forest\",\"gupta\",\"misleading\",\"peak\",\"registered\",\"releasing\",\"tree\",\"tulsi\",\"assure\",\"beautiful\",\"believed\",\"bound\",\"celebrity\",\"dawood\",\"eagerly\",\"jump\",\"mahatma\",\"nahin\",\"rank\",\"reelection\",\"relative\",\"sanction\",\"score\",\"spot\",\"they\",\"tie\",\"aka\",\"andh\",\"annual\",\"assured\",\"behave\",\"blessed\",\"citizenship\",\"considering\",\"da\",\"disagree\",\"dislike\",\"expression\",\"farm\",\"filed\",\"highway\",\"hitting\",\"intent\",\"islam\",\"jnu\",\"joint\",\"middleman\",\"offender\",\"papu\",\"requested\",\"thackeray\",\"tho\",\"trending\",\"airstrikes\",\"alert\",\"appeasement\",\"enter\",\"facility\",\"hema\",\"idiotic\",\"inspite\",\"pakoda\",\"payment\",\"remind\",\"sentence\",\"stalin\",\"subscribe\",\"viral\",\"achhe\",\"carefully\",\"carrying\",\"construction\",\"declares\",\"ego\",\"empowerment\",\"explains\",\"gaye\",\"organization\",\"pmmodi\",\"quick\",\"rock\",\"shop\",\"television\",\"valid\",\"administration\",\"admit\",\"agriculture\",\"arrival\",\"bal\",\"complaining\",\"deficit\",\"deposited\",\"desperately\",\"falling\",\"flight\",\"guard\",\"hashtag\",\"inform\",\"itna\",\"janata\",\"kurnool\",\"liked\",\"orop\",\"possibility\",\"prepared\",\"reaching\",\"remarkable\",\"saal\",\"selected\",\"signed\",\"stopping\",\"the\",\"tv\",\"violating\",\"waah\",\"ambanis\",\"backing\",\"capital\",\"connectivity\",\"controlled\",\"dialogue\",\"earning\",\"effective\",\"granted\",\"jacket\",\"lpg\",\"mera\",\"mom\",\"noticed\",\"ordinary\",\"pace\",\"pdp\",\"proudly\",\"punish\",\"reveals\",\"sacrifice\",\"thankful\",\"activist\",\"asaduddin\",\"calculation\",\"complain\",\"injustice\",\"issued\",\"lied\",\"mafia\",\"pending\",\"pseudo\",\"recover\",\"root\",\"tejaswi\",\"typical\",\"understands\",\"urmila\",\"american\",\"appointed\",\"arrogant\",\"baap\",\"cent\",\"co\",\"colour\",\"consequence\",\"controversy\",\"dictatorship\",\"dollar\",\"failing\",\"kaam\",\"natural\",\"posted\",\"put\",\"roll\",\"room\",\"sought\",\"surprising\",\"accountable\",\"bangladesh\",\"couldn\",\"dad\",\"dhan\",\"hardworking\",\"heavy\",\"ignoring\",\"improving\",\"inspiration\",\"italy\",\"lier\",\"loyalty\",\"miserably\",\"mr\",\"offering\",\"permanent\",\"sadly\",\"sarkaar\",\"aspiration\",\"category\",\"cheating\",\"conclusion\",\"corporates\",\"export\",\"hyderabad\",\"ignorant\",\"noon\",\"norm\",\"overall\",\"rant\",\"relief\",\"shiv\",\"theatrics\",\"tracker\",\"yaar\",\"abusive\",\"acche\",\"acronym\",\"annum\",\"assume\",\"brings\",\"cartoon\",\"ceo\",\"discussing\",\"due\",\"duffer\",\"evening\",\"exam\",\"funded\",\"heavily\",\"industrialist\",\"jawaharlal\",\"labour\",\"logo\",\"medical\",\"memory\",\"part\",\"reduce\",\"replied\",\"spare\",\"tdp\",\"website\",\"aspect\",\"bark\",\"bootlicker\",\"bus\",\"complained\",\"cylinder\",\"elder\",\"flat\",\"insulted\",\"invented\",\"laid\",\"maha\",\"published\",\"saint\",\"shamelessly\",\"spine\",\"subramanian\",\"appreciated\",\"converted\",\"dhruv\",\"divisive\",\"encourage\",\"eros\",\"excited\",\"guilty\",\"hua\",\"insurance\",\"jii\",\"learning\",\"manufacturing\",\"mocked\",\"outcome\",\"propoganda\",\"reporting\",\"servant\",\"taught\",\"tribute\",\"tshirt\",\"zee\",\"began\",\"clip\",\"concept\",\"economically\",\"eradicate\",\"examine\",\"existed\",\"extreme\",\"herald\",\"hungry\",\"info\",\"jharkhand\",\"justify\",\"looked\",\"owner\",\"pre\",\"rail\",\"rising\",\"ruin\",\"sath\",\"solid\",\"strange\",\"appropriate\",\"bbc\",\"board\",\"chamchas\",\"context\",\"crpf\",\"ended\",\"factory\",\"foul\",\"happiness\",\"hospital\",\"include\",\"irrelevant\",\"leap\",\"location\",\"management\",\"produce\",\"rape\",\"ravi\",\"refuse\",\"resolve\",\"secretary\",\"shocked\",\"sushma\",\"transparency\",\"aadhar\",\"akhnoor\",\"bat\",\"bothered\",\"calm\",\"careful\",\"deed\",\"distribute\",\"division\",\"fate\",\"hopefully\",\"hype\",\"mat\",\"mile\",\"motivated\",\"ofcourse\",\"saffron\",\"spell\",\"stadium\",\"threatening\",\"title\",\"town\",\"warning\",\"attend\",\"bag\",\"beg\",\"conviction\",\"convinced\",\"demanding\",\"diplomatic\",\"disastrous\",\"element\",\"explaining\",\"farooq\",\"hal\",\"inspiring\",\"krishna\",\"mileage\",\"moved\",\"ordered\",\"pant\",\"pellet\",\"probe\",\"profit\",\"pushed\",\"remaining\",\"sambit\",\"shirt\",\"accusing\",\"annually\",\"audience\",\"bol\",\"brainless\",\"civilian\",\"criticized\",\"directed\",\"driven\",\"improvement\",\"malini\",\"netanyahu\",\"omar\",\"pakis\",\"prior\",\"sharab\",\"specific\",\"thi\",\"tight\",\"tired\",\"uri\",\"wisdom\",\"assault\",\"commenting\",\"complex\",\"congratulates\",\"covered\",\"everytime\",\"fell\",\"index\",\"lazy\",\"logical\",\"marriage\",\"saath\",\"screen\",\"searching\",\"shifting\",\"survival\",\"treated\",\"vande\",\"villager\",\"analyst\",\"ashok\",\"befitting\",\"church\",\"condemn\",\"decides\",\"dedication\",\"demonstration\",\"eligible\",\"empowered\",\"glory\",\"hav\",\"healthy\",\"javed\",\"jihadi\",\"narendar\",\"phd\",\"rapist\",\"remained\",\"speculation\",\"swachh\",\"tension\",\"trolling\",\"unbiased\",\"wage\",\"wall\",\"auctioned\",\"cleared\",\"denies\",\"dint\",\"flying\",\"fresh\",\"gandhinagar\",\"goa\",\"hr\",\"ignorance\",\"koraput\",\"learned\",\"patra\",\"phobia\",\"sardar\",\"secured\",\"selfish\",\"stature\",\"acknowledge\",\"bharath\",\"chowkidari\",\"contact\",\"continued\",\"credible\",\"curse\",\"deliberately\",\"delivery\",\"display\",\"drink\",\"fish\",\"formula\",\"headed\",\"interact\",\"jab\",\"netas\",\"petition\",\"prediction\",\"repeated\",\"satisfied\",\"shock\",\"speaker\",\"statesman\",\"sweep\",\"wouldn\",\"accuse\",\"bastard\",\"beware\",\"bharatiya\",\"collect\",\"conclave\",\"culprit\",\"demonitisation\",\"dying\",\"friendly\",\"haven\",\"hole\",\"hug\",\"kam\",\"lalu\",\"letting\",\"lick\",\"loyal\",\"owned\",\"pig\",\"prepare\",\"presidential\",\"punished\",\"retire\",\"soft\",\"stake\",\"strongest\",\"transformation\",\"tremendous\",\"trs\",\"uddhav\",\"venezuela\",\"aayega\",\"arithmetic\",\"backward\",\"bhakths\",\"birthday\",\"boast\",\"booth\",\"chors\",\"congratulating\",\"conversion\",\"crossed\",\"crucial\",\"damodardas\",\"dirt\",\"dnt\",\"european\",\"fucking\",\"fuel\",\"gowda\",\"karne\",\"map\",\"mongering\",\"naxals\",\"nris\",\"petty\",\"picked\",\"plant\",\"praying\",\"repeating\",\"review\",\"sangh\",\"sanjay\",\"stealing\",\"sunday\",\"technical\",\"unite\",\"vice\",\"wht\",\"wil\",\"aid\",\"ananth\",\"bihari\",\"blow\",\"cadre\",\"confirm\",\"correction\",\"countryman\",\"covering\",\"dark\",\"definition\",\"educate\",\"employed\",\"explanation\",\"gentleman\",\"historical\",\"manage\",\"minded\",\"passing\",\"pointing\",\"prize\",\"protection\",\"referring\",\"relevant\",\"requesting\",\"termed\",\"visa\",\"accomplishment\",\"angel\",\"broken\",\"chacha\",\"challenged\",\"clue\",\"contributing\",\"draw\",\"entry\",\"executed\",\"focused\",\"founder\",\"garbage\",\"genius\",\"golden\",\"heat\",\"jem\",\"kare\",\"machinery\",\"mask\",\"medicine\",\"misusing\",\"pandits\",\"profession\",\"puri\",\"realized\",\"receive\",\"reveal\",\"river\",\"sahab\",\"script\",\"secondly\",\"seized\",\"stuck\",\"tejaswini\",\"theprint\",\"accountability\",\"beating\",\"betrayed\",\"butcher\",\"challenging\",\"cm\",\"decent\",\"delayed\",\"fascism\",\"grade\",\"hot\",\"kapil\",\"karna\",\"massacre\",\"murli\",\"ohh\",\"opindia\",\"perform\",\"pitch\",\"pokhran\",\"professor\",\"quiet\",\"shouldn\",\"spineless\",\"stolen\",\"stoop\",\"tolerate\",\"urself\",\"visiting\",\"wasn\",\"wide\",\"woh\",\"writer\",\"accomplished\",\"advise\",\"affected\",\"aggressive\",\"ba\",\"dil\",\"fetch\",\"firmly\",\"grab\",\"graduate\",\"harmony\",\"hilarious\",\"married\",\"merely\",\"mohan\",\"paki\",\"presstitutes\",\"react\",\"reported\",\"stance\",\"verdict\",\"volunteer\",\"an\",\"aviation\",\"ayodhya\",\"bombay\",\"boycott\",\"bpl\",\"compete\",\"damodar\",\"dependent\",\"driver\",\"giriraj\",\"gohpur\",\"household\",\"kamal\",\"mentally\",\"mgnrega\",\"narendramodi\",\"pension\",\"proving\",\"revenue\",\"saturday\",\"shekhar\",\"sum\",\"technological\",\"telecast\",\"tool\",\"advertising\",\"angle\",\"choosing\",\"connected\",\"diamantaire\",\"effectively\",\"fame\",\"feather\",\"fyi\",\"gathbandhan\",\"grave\",\"hardcore\",\"hardwork\",\"helm\",\"i\",\"iam\",\"jaya\",\"limelight\",\"maintain\",\"mallaya\",\"nautanki\",\"officially\",\"produced\",\"register\",\"remote\",\"replaced\",\"succeed\",\"ujjwala\",\"access\",\"airway\",\"burden\",\"dalit\",\"disease\",\"dismissed\",\"dna\",\"drinking\",\"emotion\",\"emotional\",\"find\",\"fixed\",\"gathering\",\"handed\",\"hunger\",\"linked\",\"mercy\",\"mitron\",\"narinder\",\"player\",\"represents\",\"rti\",\"shine\",\"supply\",\"ultimately\",\"withdraws\",\"abhisar\",\"acceptable\",\"argue\",\"asshole\",\"automatically\",\"bjd\",\"bolo\",\"caused\",\"chahiye\",\"chap\",\"chowkidaars\",\"clarify\",\"demonstrate\",\"electrification\",\"ensuring\",\"eventually\",\"fallen\",\"fled\",\"goverment\",\"grown\",\"habit\",\"jio\",\"journo\",\"kanpur\",\"meme\",\"merit\",\"msg\",\"nowadays\",\"perfectly\",\"primary\",\"publicly\",\"purchase\",\"quint\",\"reference\",\"reminds\",\"salesman\",\"sane\",\"shining\",\"slow\",\"socalled\",\"soch\",\"solved\",\"superb\",\"abv\",\"ambassador\",\"artist\",\"astrologer\",\"back\",\"bahut\",\"barkha\",\"beaten\",\"buddy\",\"checked\",\"concentrate\",\"defaulter\",\"demonstrated\",\"dhoni\",\"discourse\",\"easier\",\"invited\",\"kaha\",\"loud\",\"noise\",\"obc\",\"prasad\",\"pushing\",\"rahi\",\"robert\",\"sha\",\"shape\",\"statistic\",\"stole\",\"sycophant\",\"wid\",\"youve\",\"absurd\",\"ad\",\"admire\",\"affordable\",\"bankrupt\",\"box\",\"commie\",\"copying\",\"discredit\",\"enters\",\"entertainment\",\"entrepreneur\",\"fearing\",\"feb\",\"fulfilling\",\"incredible\",\"jaitely\",\"kannada\",\"mangeshkar\",\"mentioning\",\"opp\",\"patna\",\"posting\",\"prince\",\"probing\",\"remembered\",\"sahib\",\"sardesai\",\"saudi\",\"scheduled\",\"selective\",\"sin\",\"slowly\",\"thanking\",\"theyll\",\"thn\",\"tourism\",\"usually\",\"worldwide\",\"associated\",\"backed\",\"bhakth\",\"blabbering\",\"button\",\"chowkidhar\",\"continuously\",\"contribute\",\"delivering\",\"disheartened\",\"dropped\",\"exercise\",\"founded\",\"fulfil\",\"giant\",\"godhra\",\"jaise\",\"jumped\",\"kisan\",\"kitna\",\"mirror\",\"mynt\",\"parivar\",\"particularly\",\"planet\",\"prosecution\",\"prosecutor\",\"scamsters\",\"screwed\",\"seller\",\"similarly\",\"suppose\",\"swing\",\"unbelievable\",\"xxxxx\",\"abe\",\"alien\",\"approve\",\"bent\",\"bite\",\"businessmen\",\"cleaning\",\"clueless\",\"coin\",\"command\",\"cud\",\"cutting\",\"demon\",\"diff\",\"discussed\",\"distributed\",\"emerge\",\"epic\",\"flee\",\"genocide\",\"imagination\",\"karan\",\"kumaraswamy\",\"liking\",\"maharaja\",\"nai\",\"neta\",\"organised\",\"outstanding\",\"performing\",\"personnel\",\"qualified\",\"rat\",\"require\",\"reserve\",\"retain\",\"returning\",\"sahi\",\"salman\",\"settle\",\"spin\",\"telugu\",\"transformed\",\"unhappy\",\"aadhaar\",\"advisor\",\"am\",\"anand\",\"anna\",\"attached\",\"band\",\"belt\",\"broke\",\"capture\",\"chori\",\"compromised\",\"conflict\",\"correctly\",\"declaring\",\"den\",\"deserved\",\"everyones\",\"favorite\",\"filing\",\"filthy\",\"forgetting\",\"fruit\",\"gap\",\"goyal\",\"greeting\",\"ideal\",\"intellect\",\"iran\",\"jain\",\"judgement\",\"leaf\",\"manager\",\"mislead\",\"mockery\",\"nose\",\"perspective\",\"relax\",\"requires\",\"sea\",\"shakthi\",\"sincerely\",\"stability\",\"teaching\",\"theater\",\"ashish\",\"believing\",\"blue\",\"breath\",\"camera\",\"champion\",\"coal\",\"commissioner\",\"confusion\",\"dalal\",\"defeating\",\"ethic\",\"exact\",\"gather\",\"heading\",\"hows\",\"imp\",\"instance\",\"instruction\",\"joy\",\"karte\",\"lifetime\",\"momentum\",\"naya\",\"nightmare\",\"panic\",\"poem\",\"pollution\",\"precious\",\"predicted\",\"prison\",\"promoted\",\"putin\",\"reign\",\"repeatedly\",\"responded\",\"sanctioned\",\"separate\",\"sibal\",\"singing\",\"subscription\",\"suck\",\"tone\",\"trillion\",\"universe\",\"worthy\",\"wtf\",\"accuses\",\"animal\",\"appreciation\",\"awaiting\",\"bana\",\"behaving\",\"bid\",\"bunker\",\"cancer\",\"chaos\",\"curious\",\"deprived\",\"faster\",\"gareebi\",\"handout\",\"hasn\",\"hue\",\"hundred\",\"ilk\",\"impressed\",\"inspire\",\"intolerant\",\"jha\",\"moran\",\"music\",\"negativity\",\"nri\",\"obama\",\"orator\",\"passport\",\"polling\",\"punishment\",\"purely\",\"queue\",\"quit\",\"regular\",\"revealed\",\"reverse\",\"reward\",\"rhe\",\"shankar\",\"shes\",\"shld\",\"soil\",\"taste\",\"teleprompter\",\"thy\",\"unfair\",\"witnessed\",\"wouldve\",\"behaviour\",\"celebration\",\"clothes\",\"constantly\",\"creates\",\"damaged\",\"doctrine\",\"electing\",\"equivalent\",\"establishment\",\"execution\",\"front\",\"gate\",\"hike\",\"influenced\",\"kabhi\",\"neglected\",\"outer\",\"percentage\",\"portfolio\",\"possibly\",\"prevent\",\"returned\",\"scum\",\"spoil\",\"stable\",\"switch\",\"tackle\",\"tat\",\"ugly\",\"unlikely\",\"versus\",\"advancement\",\"ahmedabad\",\"businessman\",\"candidature\",\"captain\",\"chhattisgarh\",\"colleague\",\"contrary\",\"courtesy\",\"dance\",\"dekho\",\"disclose\",\"donald\",\"dress\",\"enjoyed\",\"establish\",\"exception\",\"exchange\",\"exit\",\"gotten\",\"helpless\",\"horse\",\"investor\",\"khangress\",\"korea\",\"lesser\",\"liquor\",\"observation\",\"saheb\",\"session\",\"sharif\",\"sheer\",\"sirji\",\"staunch\",\"succeeded\",\"swami\",\"tata\",\"thier\",\"twitterati\",\"unique\",\"worship\",\"advocate\",\"aint\",\"ambition\",\"apna\",\"benefited\",\"beta\",\"broker\",\"bsnl\",\"classic\",\"contributed\",\"denge\",\"drug\",\"hardik\",\"importantly\",\"infiltration\",\"insane\",\"jhumla\",\"monger\",\"odd\",\"papa\",\"prachar\",\"pretending\",\"retired\",\"retirement\",\"reuters\",\"sam\",\"scare\",\"securing\",\"ship\",\"spy\",\"stating\",\"sub\",\"sufficient\",\"tiger\",\"trash\",\"weaker\",\"wipe\",\"apology\",\"appreciating\",\"aren\",\"assuming\",\"bhushan\",\"captured\",\"closer\",\"denying\",\"designed\",\"determined\",\"discovered\",\"evms\",\"fearful\",\"foe\",\"function\",\"gen\",\"goahead\",\"guj\",\"larger\",\"lived\",\"mainstream\",\"matondkar\",\"net\",\"nope\",\"opposes\",\"pack\",\"package\",\"passion\",\"pathankot\",\"prakash\",\"pretend\",\"researcher\",\"resort\",\"showcase\",\"snake\",\"thr\",\"trader\",\"trail\",\"younger\",\"zindabad\",\"adanis\",\"aiims\",\"allah\",\"allegedly\",\"answering\",\"applied\",\"atmosphere\",\"banker\",\"beggar\",\"cake\",\"chota\",\"commit\",\"congressman\",\"delivers\",\"error\",\"essential\",\"exists\",\"generated\",\"guidance\",\"hmm\",\"immature\",\"jailed\",\"jindabad\",\"mukesh\",\"myth\",\"nazi\",\"nsso\",\"posse\",\"procedure\",\"quoted\",\"rahulji\",\"rashtra\",\"reelect\",\"respective\",\"roy\",\"shadow\",\"sport\",\"surrender\",\"terrible\",\"tizzy\",\"trade\",\"waise\",\"wash\",\"witnessing\",\"ache\",\"acquired\",\"adding\",\"apologise\",\"atrocity\",\"bhim\",\"bogus\",\"brainwashed\",\"chal\",\"consult\",\"crack\",\"cursing\",\"dar\",\"declaration\",\"drag\",\"friendship\",\"generate\",\"hang\",\"identify\",\"industrial\",\"irresponsible\",\"kalam\",\"kia\",\"lecture\",\"lobby\",\"maa\",\"mature\",\"modihe\",\"monkey\",\"pan\",\"pawar\",\"photograph\",\"poison\",\"preparing\",\"racist\",\"ranking\",\"rathee\",\"recovery\",\"representing\",\"reversed\",\"separatist\",\"sudden\",\"tere\",\"trolled\",\"vehicle\",\"wiped\",\"aam\",\"addition\",\"additional\",\"aise\",\"attended\",\"baki\",\"bla\",\"blatant\",\"celebrated\",\"cheater\",\"childhood\",\"clever\",\"commander\",\"concrete\",\"donation\",\"dust\",\"eastern\",\"encouraging\",\"equality\",\"expensive\",\"extend\",\"flawed\",\"guaranteed\",\"guha\",\"heaven\",\"highlighting\",\"hoon\",\"illogical\",\"iron\",\"mataram\",\"motive\",\"nail\",\"occasion\",\"performed\",\"pillar\",\"plot\",\"prosperity\",\"rabid\",\"rational\",\"saab\",\"shashi\",\"smile\",\"socialism\",\"socialist\",\"studied\",\"sweet\",\"territory\",\"tharoor\",\"throwing\",\"timeline\",\"vacancy\",\"valley\",\"whistle\",\"withdraw\",\"aadmi\",\"anytime\",\"ate\",\"author\",\"baad\",\"bang\",\"belonging\",\"beti\",\"color\",\"credential\",\"dekh\",\"design\",\"destroys\",\"diverting\",\"efficient\",\"embarrassment\",\"experienced\",\"forming\",\"gayi\",\"glass\",\"globally\",\"handling\",\"iit\",\"immense\",\"included\",\"investigate\",\"isme\",\"item\",\"kaun\",\"matlab\",\"milk\",\"mlas\",\"mukt\",\"objection\",\"patient\",\"pulling\",\"rai\",\"rajeev\",\"rana\",\"randeep\",\"reliance\",\"size\",\"spbsp\",\"studio\",\"telegraph\",\"uniform\",\"universal\",\"velocity\",\"acknowledged\",\"advised\",\"ala\",\"analogy\",\"azad\",\"bharatvarsh\",\"circus\",\"collective\",\"continuing\",\"cooking\",\"cuz\",\"default\",\"donkey\",\"drdos\",\"empower\",\"fanatic\",\"hahahaha\",\"happily\",\"historian\",\"impression\",\"incapable\",\"indication\",\"jagannath\",\"knw\",\"msme\",\"neighbour\",\"now\",\"object\",\"plenty\",\"radical\",\"roadshow\",\"robust\",\"royal\",\"sanitation\",\"scrapped\",\"sen\",\"slept\",\"sole\",\"staff\",\"stats\",\"struggling\",\"suitable\",\"suspect\",\"tirelessly\",\"tongue\",\"tonight\",\"weather\",\"yechury\",\"academic\",\"bada\",\"bcos\",\"begusarai\",\"bench\",\"cafe\",\"chooses\",\"choukidar\",\"competent\",\"convey\",\"crash\",\"crediting\",\"dealing\",\"dent\",\"dominated\",\"educational\",\"electorate\",\"eliminated\",\"entitled\",\"firstpost\",\"focusing\",\"frankly\",\"freely\",\"indulge\",\"jaipur\",\"japan\",\"kyu\",\"lacked\",\"method\",\"motherland\",\"mujhe\",\"penny\",\"politicising\",\"populist\",\"practical\",\"precisely\",\"preparation\",\"prospect\",\"rajya\",\"random\",\"rating\",\"ravish\",\"reflects\",\"rogue\",\"rupani\",\"shoe\",\"sided\",\"sing\",\"sooner\",\"split\",\"struck\",\"table\",\"talented\",\"televised\",\"touched\",\"trp\",\"weve\",\"\\u0938\\u0930\\u0915\",\"abp\",\"accidental\",\"acquire\",\"allows\",\"atalji\",\"auto\",\"beauty\",\"bird\",\"bribing\",\"cancel\",\"capitalism\",\"cec\",\"cold\",\"corridor\",\"domestic\",\"endeavour\",\"expenditure\",\"gross\",\"holiday\",\"invest\",\"literate\",\"liya\",\"longest\",\"material\",\"megarally\",\"naturally\",\"neech\",\"park\",\"patience\",\"peddling\",\"piddis\",\"plank\",\"prada\",\"production\",\"pti\",\"ratna\",\"refer\",\"regret\",\"renamed\",\"route\",\"ruler\",\"sponsored\",\"surname\",\"sushil\",\"this\",\"thoda\",\"trial\",\"tuned\",\"ultimate\",\"undermining\",\"undertaken\",\"urdu\",\"vegetarian\",\"warrior\",\"yup\",\"admitted\",\"adopted\",\"arre\",\"audacity\",\"aunty\",\"bow\",\"conveniently\",\"crop\",\"detailed\",\"draft\",\"edge\",\"forcing\",\"france\",\"fundamental\",\"gained\",\"germany\",\"grace\",\"icon\",\"in\",\"kolkata\",\"metro\",\"minor\",\"myanmar\",\"neck\",\"nehruji\",\"nitish\",\"nobel\",\"participate\",\"polarising\",\"prashant\",\"prefix\",\"prevail\",\"previously\",\"printed\",\"prominent\",\"recognise\",\"responds\",\"rld\",\"rumour\",\"scoundrel\",\"scripted\",\"segment\",\"sez\",\"sham\",\"shoulder\",\"transaction\",\"twist\",\"vendetta\",\"wished\",\"zone\",\"airspace\",\"amount\",\"builder\",\"ca\",\"chalo\",\"controversial\",\"convicted\",\"cook\",\"creator\",\"cycle\",\"dal\",\"dancing\",\"darkness\",\"delete\",\"denial\",\"described\",\"devil\",\"dey\",\"diamond\",\"dishonest\",\"disrespect\",\"glimpse\",\"guide\",\"gujju\",\"hafiz\",\"hated\",\"immediate\",\"infra\",\"insecure\",\"kaftan\",\"keen\",\"legend\",\"length\",\"may\",\"misadventure\",\"misrule\",\"nephew\",\"noted\",\"opportunist\",\"pair\",\"placed\",\"range\",\"raul\",\"recall\",\"recognised\",\"reducing\",\"schedule\",\"slammed\",\"summer\",\"syndrome\",\"system\",\"tihar\",\"travelling\",\"welcomed\",\"wind\",\"accident\",\"acted\",\"akhtar\",\"alcohol\",\"antimissile\",\"arise\",\"arrange\",\"assessment\",\"banaras\",\"bedi\",\"bengali\",\"bhage\",\"bread\",\"cancelled\",\"cat\",\"chandra\",\"childish\",\"circle\",\"coffer\",\"confirms\",\"cricketer\",\"define\",\"dena\",\"dharma\",\"disclosed\",\"distance\",\"ear\",\"endorse\",\"feature\",\"firstly\",\"gautam\",\"gesture\",\"globe\",\"grateful\",\"gud\",\"implementing\",\"karyakartas\",\"kejri\",\"lovely\",\"luxury\",\"malik\",\"mani\",\"mil\",\"militant\",\"modibut\",\"modimodi\",\"naive\",\"ncp\",\"nepal\",\"ongoing\",\"precision\",\"presenting\",\"prostitute\",\"queen\",\"quickly\",\"quota\",\"rahulgandhi\",\"rakesh\",\"replying\",\"reserved\",\"rjd\",\"rssbjp\",\"sacrificed\",\"spite\",\"swaraj\",\"thanos\",\"theyve\",\"venue\",\"window\",\"agreement\",\"ahmed\",\"amendment\",\"amid\",\"anyay\",\"applies\",\"ass\",\"atomic\",\"bastion\",\"bjprss\",\"blowing\",\"bureaucrat\",\"clarity\",\"collected\",\"completion\",\"confuse\",\"congressis\",\"contrast\",\"cpi\",\"cunning\",\"demean\",\"driving\",\"dump\",\"endorsing\",\"extradited\",\"fee\",\"filth\",\"gaining\",\"goi\",\"grandfather\",\"grew\",\"handled\",\"holy\",\"import\",\"indigenous\",\"kim\",\"leg\",\"liability\",\"martyr\",\"maya\",\"mufti\",\"mulayam\",\"nagar\",\"ngo\",\"nominated\",\"obsession\",\"onwards\",\"piddi\",\"pok\",\"realising\",\"roaming\",\"rose\",\"routine\",\"sakta\",\"screw\",\"shukla\",\"snatched\",\"store\",\"suggested\",\"suspense\",\"tab\",\"thanked\",\"touching\",\"trapped\",\"unnecessary\",\"updated\",\"wedding\",\"weed\",\"youngest\",\"aalo\",\"acceptance\",\"agni\",\"appointment\",\"associate\",\"bangladeshi\",\"bed\",\"berojgar\",\"blitz\",\"booked\",\"branding\",\"cleaned\",\"conscience\",\"constructive\",\"consulted\",\"crossing\",\"customer\",\"deeply\",\"depends\",\"deserving\",\"developmental\",\"dissent\",\"doable\",\"dozen\",\"enforcement\",\"enterprise\",\"feasible\",\"flow\",\"gabbard\",\"glorious\",\"gyan\",\"handpicked\",\"indra\",\"infront\",\"interacts\",\"jumping\",\"justified\",\"khud\",\"kickstart\",\"lollipop\",\"nadus\",\"ndas\",\"nut\",\"orgasm\",\"pehle\",\"plain\",\"pointed\",\"raghu\",\"rascal\",\"removal\",\"resolution\",\"saboot\",\"sachin\",\"seed\",\"selection\",\"sharp\",\"southern\",\"suspended\",\"talkatora\",\"tally\",\"thoothukudi\",\"tied\",\"ton\",\"training\",\"transforming\",\"tweetstorm\",\"vindicated\",\"worrying\",\"achieves\",\"agrees\",\"ajay\",\"ancestor\",\"arrived\",\"bin\",\"bind\",\"bitch\",\"blackmoney\",\"boat\",\"bull\",\"charged\",\"chartered\",\"chopper\",\"clap\",\"combined\",\"comeback\",\"condemned\",\"conducting\",\"crooked\",\"crow\",\"crown\",\"determination\",\"eminent\",\"engaged\",\"engine\",\"entering\",\"environmental\",\"esp\",\"external\",\"feared\",\"forgets\",\"functioning\",\"grant\",\"greed\",\"gullible\",\"heart_suit\",\"indicates\",\"investigating\",\"jayega\",\"jihadis\",\"joblessness\",\"kabir\",\"kahan\",\"kisi\",\"kitchen\",\"lickers\",\"lifted\",\"load\",\"maddy\",\"mahal\",\"mate\",\"monthly\",\"mum\",\"occupied\",\"pakodas\",\"pata\",\"paytm\",\"pil\",\"predicts\",\"priminister\",\"projected\",\"ragas\",\"ranting\",\"relate\",\"sach\",\"safer\",\"sattelite\",\"selfless\",\"sevak\",\"seven\",\"sleepless\",\"spelling\",\"stall\",\"submitted\",\"suggesting\",\"sunrise\",\"ubi\",\"undermine\",\"usd\",\"vast\",\"vested\",\"violates\",\"vow\",\"whining\",\"aaya\",\"allocation\",\"analyse\",\"applicable\",\"avoided\",\"awake\",\"bitter\",\"blatantly\",\"boosting\",\"breach\",\"casting\",\"chawkidar\",\"chennai\",\"closely\",\"consistent\",\"constant\",\"continuous\",\"cpim\",\"dam\",\"desai\",\"discipline\",\"donot\",\"dunga\",\"enthusiasm\",\"haan\",\"hailing\",\"hook\",\"horrible\",\"hoti\",\"lacking\",\"limitless\",\"lowearth\",\"mahamilavat\",\"manoj\",\"middleclass\",\"miracle\",\"nagpur\",\"narrow\",\"nia\",\"oust\",\"potato\",\"pulled\",\"purchased\",\"raaj\",\"reminder\",\"resident\",\"rushed\",\"sarcasm\",\"slavery\",\"specifically\",\"tolerance\",\"translation\",\"transparent\",\"tripura\",\"twisted\",\"vanished\",\"verma\",\"walked\",\"wapsi\",\"weakness\",\"yearly\",\"yoga\",\"actress\",\"akbaruddin\",\"amazed\",\"assist\",\"attract\",\"banana\",\"bankruptcy\",\"bash\",\"batting\",\"combination\",\"combine\",\"confiscated\",\"council\",\"criticises\",\"crush\",\"cute\",\"daring\",\"differentiate\",\"disgraceful\",\"distribution\",\"diverted\",\"execute\",\"exploit\",\"expressed\",\"female\",\"gehlot\",\"glue\",\"hailed\",\"hve\",\"incumbent\",\"kaise\",\"lage\",\"max\",\"monster\",\"mrnarendra\",\"mute\",\"nasa\",\"out\",\"permit\",\"predict\",\"presented\",\"prosper\",\"resigned\",\"revolutionary\",\"rip\",\"scream\",\"solely\",\"stashed\",\"storm\",\"tagged\",\"thapar\",\"townhall\",\"tradition\",\"trait\",\"unknown\",\"verge\",\"vibrant\",\"waive\",\"yashodaben\",\"advanced\",\"antihindu\",\"antipoor\",\"association\",\"begun\",\"bigoted\",\"centric\",\"civilization\",\"counted\",\"criterion\",\"debating\",\"decency\",\"demonization\",\"dignified\",\"disappear\",\"distributing\",\"domain\",\"doomed\",\"drdoisro\",\"dum\",\"electrified\",\"encouraged\",\"enlighten\",\"fart\",\"fav\",\"fdi\",\"filling\",\"fortune\",\"gaddar\",\"garib\",\"guest\",\"harsh\",\"heartiest\",\"hugged\",\"hurry\",\"incompetence\",\"innovation\",\"interfere\",\"jealousy\",\"jeweller\",\"juggernaut\",\"junior\",\"label\",\"laundering\",\"livelihood\",\"mei\",\"mi\",\"misused\",\"naveen\",\"neglect\",\"planted\",\"preference\",\"privilege\",\"provision\",\"rcb\",\"reap\",\"receiving\",\"reckless\",\"recorded\",\"resulted\",\"retweets\",\"rewarded\",\"safeguard\",\"shahid\",\"shatru\",\"sop\",\"stream\",\"substance\",\"superior\",\"survived\",\"taj\",\"theme\",\"threaten\",\"transform\",\"triple\",\"utterly\",\"volume\",\"walking\",\"warfare\",\"withdrawn\",\"admirer\",\"aimed\",\"aisa\",\"avatar\",\"backfire\",\"baroda\",\"benefitted\",\"bhagwan\",\"biopics\",\"butter\",\"cabal\",\"cite\",\"comic\",\"completing\",\"conferencing\",\"courageous\",\"creature\",\"daddy\",\"doubting\",\"downed\",\"emerging\",\"enable\",\"ending\",\"falsehood\",\"fashion\",\"february\",\"forum\",\"fragile\",\"genuinely\",\"gifted\",\"greatness\",\"includes\",\"indulging\",\"infrastructural\",\"innovative\",\"jago\",\"jaishemohammed\",\"kashi\",\"laga\",\"lunch\",\"mmj\",\"modithemed\",\"msp\",\"parasite\",\"prestigious\",\"primeminister\",\"proclaimed\",\"pulse\",\"quoting\",\"responding\",\"scholar\",\"severe\",\"shaking\",\"shifted\",\"significance\",\"stomach\",\"substantial\",\"tainted\",\"tank\",\"travelled\",\"upas\",\"user\",\"villain\",\"washed\",\"wen\",\"abandoned\",\"abhinandans\",\"admission\",\"aimim\",\"akbar\",\"amazon\",\"answerable\",\"arab\",\"arguing\",\"attained\",\"audit\",\"balochistan\",\"bcs\",\"burnt\",\"campaigned\",\"ceremony\",\"collapse\",\"column\",\"comfortable\",\"dared\",\"demanded\",\"democratically\",\"depend\",\"der\",\"deshbhakt\",\"devotee\",\"dictionary\",\"digit\",\"enabled\",\"equation\",\"establishing\",\"eve\",\"experiment\",\"gr\",\"greedy\",\"guardian\",\"holi\",\"hurting\",\"islamist\",\"jao\",\"kovind\",\"masjid\",\"ministerial\",\"naked\",\"neighbor\",\"nidhi\",\"observe\",\"oscar\",\"plight\",\"pmopm\",\"protects\",\"protesting\",\"query\",\"refrain\",\"reputation\",\"rg\",\"sakti\",\"setup\",\"shastri\",\"spoiled\",\"square\",\"staying\",\"tail\",\"taker\",\"treasury\",\"unaware\",\"underway\",\"unsafe\",\"vocal\",\"accusation\",\"affection\",\"asap\",\"assumed\",\"berozgar\",\"boasting\",\"bravo\",\"canvassing\",\"climate\",\"compulsion\",\"cult\",\"demonitization\",\"dete\",\"deve\",\"dimwit\",\"discard\",\"evidently\",\"excitement\",\"expelled\",\"extension\",\"firing\",\"gay\",\"godse\",\"greet\",\"guessing\",\"gvt\",\"harmful\",\"helpful\",\"hollow\",\"hugging\",\"hung\",\"imminent\",\"implication\",\"incharge\",\"itll\",\"jeypore\",\"jhoot\",\"kab\",\"kickback\",\"kinda\",\"knock\",\"lag\",\"lame\",\"lao\",\"laughed\",\"malign\",\"marry\",\"mehbooba\",\"minus\",\"modinomics\",\"mosque\",\"motivation\",\"msm\",\"naming\",\"navy\",\"noble\",\"noida\",\"obliged\",\"occupy\",\"overcome\",\"participation\",\"peon\",\"permanently\",\"pitroda\",\"poorer\",\"protected\",\"regularly\",\"relieved\",\"richer\",\"sagarika\",\"sarabhai\",\"satisfaction\",\"shell\",\"soo\",\"spared\",\"spewing\",\"summit\",\"tera\",\"text\",\"theprints\",\"torture\",\"tragedy\",\"umesh\",\"unturned\",\"urged\",\"urging\",\"wali\",\"wanting\",\"admits\",\"ananthkumar\",\"ancient\",\"apt\",\"assad\",\"australia\",\"babri\",\"backbone\",\"barely\",\"biriyani\",\"bose\",\"brief\",\"cared\",\"chattisgarh\",\"compromise\",\"creative\",\"custody\",\"dada\",\"darbari\",\"delaying\",\"deputy\",\"dhokla\",\"disappointment\",\"divine\",\"dose\",\"escaped\",\"estimate\",\"extended\",\"fearless\",\"festival\",\"foreigner\",\"fraudsters\",\"generally\",\"gobar\",\"hall\",\"hay\",\"heartland\",\"honoured\",\"hote\",\"ia\",\"incentive\",\"interviewed\",\"interviewing\",\"jus\",\"lapdog\",\"largely\",\"lekin\",\"linking\",\"madhav\",\"maintained\",\"mama\",\"managing\",\"manufacturer\",\"mouthpiece\",\"mushroom\",\"needy\",\"nehrugandhi\",\"newly\",\"nov\",\"observed\",\"optic\",\"orissa\",\"pal\",\"pattern\",\"pliable\",\"propagate\",\"provides\",\"raho\",\"remembering\",\"requirement\",\"resolved\",\"rha\",\"risen\",\"rush\",\"saeed\",\"satisfy\",\"sec\",\"sidhu\",\"singer\",\"spends\",\"stamp\",\"sympathiser\",\"timely\",\"umpire\",\"underestimate\",\"unit\",\"urgent\",\"vanish\",\"violent\",\"weakened\",\"willingness\",\"york\",\"aage\",\"abdul\",\"abolish\",\"alok\",\"applying\",\"arena\",\"ashutosh\",\"authoritarian\",\"baseless\",\"behavior\",\"belittle\",\"blown\",\"bole\",\"casualty\",\"chandrashekhar\",\"chicken\",\"congres\",\"convincing\",\"cpm\",\"deleted\",\"deshdrohi\",\"disclosure\",\"displayed\",\"diwali\",\"dono\",\"dy\",\"emerged\",\"engage\",\"engineering\",\"fabric\",\"financialxpress\",\"gathered\",\"hearty\",\"hopeful\",\"huh\",\"hurdle\",\"illusion\",\"janpath\",\"jingoism\",\"jinnah\",\"landed\",\"libtards\",\"listened\",\"loc\",\"mann\",\"manufactured\",\"mentor\",\"messaging\",\"mulla\",\"numerous\",\"offence\",\"oratory\",\"outsider\",\"padma\",\"pai\",\"painful\",\"piyush\",\"port\",\"ppls\",\"privileged\",\"publish\",\"reaping\",\"reminding\",\"ridicule\",\"screaming\",\"scrutiny\",\"sens\",\"senseless\",\"sensitive\",\"sex\",\"shattered\",\"sink\",\"smarter\",\"spew\",\"srk\",\"structure\",\"teeth\",\"tweeter\",\"valour\",\"aaye\",\"actively\",\"aggression\",\"alternate\",\"apologist\",\"asian\",\"attribute\",\"balakote\",\"balanced\",\"baloch\",\"benami\",\"bhagat\",\"blink\",\"bola\",\"broad\",\"but\",\"carpet\",\"catching\",\"chaiwalas\",\"cloud\",\"commendable\",\"communalism\",\"compulsive\",\"corrected\",\"crass\",\"crude\",\"darr\",\"defaming\",\"discrimination\",\"distract\",\"disturbed\",\"eats\",\"endless\",\"endorsed\",\"entertaining\",\"entirely\",\"executive\",\"exemption\",\"flaw\",\"foolishness\",\"footstep\",\"gaali\",\"gamechanger\",\"inclusion\",\"intentionally\",\"involvement\"],\"x1\":{\"__ndarray__\":\"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\",\"dtype\":\"float32\",\"order\":\"little\",\"shape\":[5002]},\"x2\":{\"__ndarray__\":\"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\",\"dtype\":\"float32\",\"order\":\"little\",\"shape\":[5002]}},\"selected\":{\"id\":\"1144\"},\"selection_policy\":{\"id\":\"1145\"}},\"id\":\"1120\",\"type\":\"ColumnDataSource\"},{\"attributes\":{\"formatter\":{\"id\":\"1142\"},\"major_label_policy\":{\"id\":\"1143\"},\"ticker\":{\"id\":\"1104\"}},\"id\":\"1103\",\"type\":\"LinearAxis\"},{\"attributes\":{\"fill_alpha\":{\"value\":0.1},\"fill_color\":{\"field\":\"color\"},\"line_alpha\":{\"value\":0.1},\"line_color\":{\"value\":\"#1f77b4\"},\"size\":{\"value\":8},\"x\":{\"field\":\"x1\"},\"y\":{\"field\":\"x2\"}},\"id\":\"1123\",\"type\":\"Scatter\"},{\"attributes\":{},\"id\":\"1104\",\"type\":\"BasicTicker\"},{\"attributes\":{},\"id\":\"1111\",\"type\":\"PanTool\"},{\"attributes\":{\"data_source\":{\"id\":\"1120\"},\"glyph\":{\"id\":\"1122\"},\"hover_glyph\":null,\"muted_glyph\":null,\"nonselection_glyph\":{\"id\":\"1123\"},\"view\":{\"id\":\"1125\"}},\"id\":\"1124\",\"type\":\"GlyphRenderer\"},{\"attributes\":{},\"id\":\"1112\",\"type\":\"WheelZoomTool\"},{\"attributes\":{},\"id\":\"1113\",\"type\":\"ResetTool\"},{\"attributes\":{},\"id\":\"1114\",\"type\":\"SaveTool\"},{\"attributes\":{},\"id\":\"1143\",\"type\":\"AllLabels\"},{\"attributes\":{},\"id\":\"1144\",\"type\":\"Selection\"},{\"attributes\":{},\"id\":\"1101\",\"type\":\"LinearScale\"},{\"attributes\":{},\"id\":\"1097\",\"type\":\"DataRange1d\"},{\"attributes\":{},\"id\":\"1145\",\"type\":\"UnionRenderers\"},{\"attributes\":{\"formatter\":{\"id\":\"1139\"},\"major_label_policy\":{\"id\":\"1140\"},\"ticker\":{\"id\":\"1108\"}},\"id\":\"1107\",\"type\":\"LinearAxis\"},{\"attributes\":{\"axis\":{\"id\":\"1107\"},\"dimension\":1,\"ticker\":null},\"id\":\"1110\",\"type\":\"Grid\"},{\"attributes\":{},\"id\":\"1099\",\"type\":\"LinearScale\"},{\"attributes\":{},\"id\":\"1095\",\"type\":\"DataRange1d\"}],\"root_ids\":[\"1092\"]},\"title\":\"Bokeh Application\",\"version\":\"2.3.0\"}};\n",
              "  var render_items = [{\"docid\":\"33b41b40-8dfa-4940-9e67-63659f5e4c2e\",\"root_ids\":[\"1092\"],\"roots\":{\"1092\":\"e8fc421d-fec3-4eb6-bb20-578b9b885d64\"}}];\n",
              "  root.Bokeh.embed.embed_items_notebook(docs_json, render_items);\n",
              "\n",
              "  }\n",
              "  if (root.Bokeh !== undefined) {\n",
              "    embed_document(root);\n",
              "  } else {\n",
              "    var attempts = 0;\n",
              "    var timer = setInterval(function(root) {\n",
              "      if (root.Bokeh !== undefined) {\n",
              "        clearInterval(timer);\n",
              "        embed_document(root);\n",
              "      } else {\n",
              "        attempts++;\n",
              "        if (attempts > 100) {\n",
              "          clearInterval(timer);\n",
              "          console.log(\"Bokeh: ERROR: Unable to run BokehJS code because BokehJS library is missing\");\n",
              "        }\n",
              "      }\n",
              "    }, 10, root)\n",
              "  }\n",
              "})(window);"
            ],
            "application/vnd.bokehjs_exec.v0+json": ""
          },
          "metadata": {
            "tags": [],
            "application/vnd.bokehjs_exec.v0+json": {
              "id": "1092"
            }
          }
        }
      ]
    }
  ]
}