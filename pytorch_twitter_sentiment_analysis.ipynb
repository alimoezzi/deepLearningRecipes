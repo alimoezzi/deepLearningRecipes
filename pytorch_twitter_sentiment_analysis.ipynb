{
 "cells": [
  {
   "cell_type": "markdown",
   "metadata": {
    "collapsed": true,
    "id": "oYCfnhWzJrUI",
    "pycharm": {
     "name": "#%% md\n"
    }
   },
   "source": [
    "# Twitter Sentiment Analysis Pytorch"
   ]
  },
  {
   "cell_type": "code",
   "execution_count": 5,
   "metadata": {
    "ExecuteTime": {
     "end_time": "2021-04-07T08:57:44.243767Z",
     "start_time": "2021-04-07T08:57:43.316485Z"
    },
    "colab": {
     "base_uri": "https://localhost:8080/",
     "height": 0
    },
    "id": "MS1rkSnEJrUQ",
    "outputId": "79a1ef2c-84cf-441f-fc7c-4742cd6e696a",
    "pycharm": {
     "name": "#%%\n"
    }
   },
   "outputs": [
    {
     "data": {
      "text/html": [
       "\n",
       "    <div class=\"bk-root\">\n",
       "        <a href=\"https://bokeh.org\" target=\"_blank\" class=\"bk-logo bk-logo-small bk-logo-notebook\"></a>\n",
       "        <span id=\"1002\">Loading BokehJS ...</span>\n",
       "    </div>"
      ]
     },
     "metadata": {},
     "output_type": "display_data"
    },
    {
     "data": {
      "application/javascript": [
       "\n",
       "(function(root) {\n",
       "  function now() {\n",
       "    return new Date();\n",
       "  }\n",
       "\n",
       "  var force = true;\n",
       "\n",
       "  if (typeof root._bokeh_onload_callbacks === \"undefined\" || force === true) {\n",
       "    root._bokeh_onload_callbacks = [];\n",
       "    root._bokeh_is_loading = undefined;\n",
       "  }\n",
       "\n",
       "  var JS_MIME_TYPE = 'application/javascript';\n",
       "  var HTML_MIME_TYPE = 'text/html';\n",
       "  var EXEC_MIME_TYPE = 'application/vnd.bokehjs_exec.v0+json';\n",
       "  var CLASS_NAME = 'output_bokeh rendered_html';\n",
       "\n",
       "  /**\n",
       "   * Render data to the DOM node\n",
       "   */\n",
       "  function render(props, node) {\n",
       "    var script = document.createElement(\"script\");\n",
       "    node.appendChild(script);\n",
       "  }\n",
       "\n",
       "  /**\n",
       "   * Handle when an output is cleared or removed\n",
       "   */\n",
       "  function handleClearOutput(event, handle) {\n",
       "    var cell = handle.cell;\n",
       "\n",
       "    var id = cell.output_area._bokeh_element_id;\n",
       "    var server_id = cell.output_area._bokeh_server_id;\n",
       "    // Clean up Bokeh references\n",
       "    if (id != null && id in Bokeh.index) {\n",
       "      Bokeh.index[id].model.document.clear();\n",
       "      delete Bokeh.index[id];\n",
       "    }\n",
       "\n",
       "    if (server_id !== undefined) {\n",
       "      // Clean up Bokeh references\n",
       "      var cmd = \"from bokeh.io.state import curstate; print(curstate().uuid_to_server['\" + server_id + \"'].get_sessions()[0].document.roots[0]._id)\";\n",
       "      cell.notebook.kernel.execute(cmd, {\n",
       "        iopub: {\n",
       "          output: function(msg) {\n",
       "            var id = msg.content.text.trim();\n",
       "            if (id in Bokeh.index) {\n",
       "              Bokeh.index[id].model.document.clear();\n",
       "              delete Bokeh.index[id];\n",
       "            }\n",
       "          }\n",
       "        }\n",
       "      });\n",
       "      // Destroy server and session\n",
       "      var cmd = \"import bokeh.io.notebook as ion; ion.destroy_server('\" + server_id + \"')\";\n",
       "      cell.notebook.kernel.execute(cmd);\n",
       "    }\n",
       "  }\n",
       "\n",
       "  /**\n",
       "   * Handle when a new output is added\n",
       "   */\n",
       "  function handleAddOutput(event, handle) {\n",
       "    var output_area = handle.output_area;\n",
       "    var output = handle.output;\n",
       "\n",
       "    // limit handleAddOutput to display_data with EXEC_MIME_TYPE content only\n",
       "    if ((output.output_type != \"display_data\") || (!output.data.hasOwnProperty(EXEC_MIME_TYPE))) {\n",
       "      return\n",
       "    }\n",
       "\n",
       "    var toinsert = output_area.element.find(\".\" + CLASS_NAME.split(' ')[0]);\n",
       "\n",
       "    if (output.metadata[EXEC_MIME_TYPE][\"id\"] !== undefined) {\n",
       "      toinsert[toinsert.length - 1].firstChild.textContent = output.data[JS_MIME_TYPE];\n",
       "      // store reference to embed id on output_area\n",
       "      output_area._bokeh_element_id = output.metadata[EXEC_MIME_TYPE][\"id\"];\n",
       "    }\n",
       "    if (output.metadata[EXEC_MIME_TYPE][\"server_id\"] !== undefined) {\n",
       "      var bk_div = document.createElement(\"div\");\n",
       "      bk_div.innerHTML = output.data[HTML_MIME_TYPE];\n",
       "      var script_attrs = bk_div.children[0].attributes;\n",
       "      for (var i = 0; i < script_attrs.length; i++) {\n",
       "        toinsert[toinsert.length - 1].firstChild.setAttribute(script_attrs[i].name, script_attrs[i].value);\n",
       "        toinsert[toinsert.length - 1].firstChild.textContent = bk_div.children[0].textContent\n",
       "      }\n",
       "      // store reference to server id on output_area\n",
       "      output_area._bokeh_server_id = output.metadata[EXEC_MIME_TYPE][\"server_id\"];\n",
       "    }\n",
       "  }\n",
       "\n",
       "  function register_renderer(events, OutputArea) {\n",
       "\n",
       "    function append_mime(data, metadata, element) {\n",
       "      // create a DOM node to render to\n",
       "      var toinsert = this.create_output_subarea(\n",
       "        metadata,\n",
       "        CLASS_NAME,\n",
       "        EXEC_MIME_TYPE\n",
       "      );\n",
       "      this.keyboard_manager.register_events(toinsert);\n",
       "      // Render to node\n",
       "      var props = {data: data, metadata: metadata[EXEC_MIME_TYPE]};\n",
       "      render(props, toinsert[toinsert.length - 1]);\n",
       "      element.append(toinsert);\n",
       "      return toinsert\n",
       "    }\n",
       "\n",
       "    /* Handle when an output is cleared or removed */\n",
       "    events.on('clear_output.CodeCell', handleClearOutput);\n",
       "    events.on('delete.Cell', handleClearOutput);\n",
       "\n",
       "    /* Handle when a new output is added */\n",
       "    events.on('output_added.OutputArea', handleAddOutput);\n",
       "\n",
       "    /**\n",
       "     * Register the mime type and append_mime function with output_area\n",
       "     */\n",
       "    OutputArea.prototype.register_mime_type(EXEC_MIME_TYPE, append_mime, {\n",
       "      /* Is output safe? */\n",
       "      safe: true,\n",
       "      /* Index of renderer in `output_area.display_order` */\n",
       "      index: 0\n",
       "    });\n",
       "  }\n",
       "\n",
       "  // register the mime type if in Jupyter Notebook environment and previously unregistered\n",
       "  if (root.Jupyter !== undefined) {\n",
       "    var events = require('base/js/events');\n",
       "    var OutputArea = require('notebook/js/outputarea').OutputArea;\n",
       "\n",
       "    if (OutputArea.prototype.mime_types().indexOf(EXEC_MIME_TYPE) == -1) {\n",
       "      register_renderer(events, OutputArea);\n",
       "    }\n",
       "  }\n",
       "\n",
       "  \n",
       "  if (typeof (root._bokeh_timeout) === \"undefined\" || force === true) {\n",
       "    root._bokeh_timeout = Date.now() + 5000;\n",
       "    root._bokeh_failed_load = false;\n",
       "  }\n",
       "\n",
       "  var NB_LOAD_WARNING = {'data': {'text/html':\n",
       "     \"<div style='background-color: #fdd'>\\n\"+\n",
       "     \"<p>\\n\"+\n",
       "     \"BokehJS does not appear to have successfully loaded. If loading BokehJS from CDN, this \\n\"+\n",
       "     \"may be due to a slow or bad network connection. Possible fixes:\\n\"+\n",
       "     \"</p>\\n\"+\n",
       "     \"<ul>\\n\"+\n",
       "     \"<li>re-rerun `output_notebook()` to attempt to load from CDN again, or</li>\\n\"+\n",
       "     \"<li>use INLINE resources instead, as so:</li>\\n\"+\n",
       "     \"</ul>\\n\"+\n",
       "     \"<code>\\n\"+\n",
       "     \"from bokeh.resources import INLINE\\n\"+\n",
       "     \"output_notebook(resources=INLINE)\\n\"+\n",
       "     \"</code>\\n\"+\n",
       "     \"</div>\"}};\n",
       "\n",
       "  function display_loaded() {\n",
       "    var el = document.getElementById(\"1002\");\n",
       "    if (el != null) {\n",
       "      el.textContent = \"BokehJS is loading...\";\n",
       "    }\n",
       "    if (root.Bokeh !== undefined) {\n",
       "      if (el != null) {\n",
       "        el.textContent = \"BokehJS \" + root.Bokeh.version + \" successfully loaded.\";\n",
       "      }\n",
       "    } else if (Date.now() < root._bokeh_timeout) {\n",
       "      setTimeout(display_loaded, 100)\n",
       "    }\n",
       "  }\n",
       "\n",
       "\n",
       "  function run_callbacks() {\n",
       "    try {\n",
       "      root._bokeh_onload_callbacks.forEach(function(callback) {\n",
       "        if (callback != null)\n",
       "          callback();\n",
       "      });\n",
       "    } finally {\n",
       "      delete root._bokeh_onload_callbacks\n",
       "    }\n",
       "    console.debug(\"Bokeh: all callbacks have finished\");\n",
       "  }\n",
       "\n",
       "  function load_libs(css_urls, js_urls, callback) {\n",
       "    if (css_urls == null) css_urls = [];\n",
       "    if (js_urls == null) js_urls = [];\n",
       "\n",
       "    root._bokeh_onload_callbacks.push(callback);\n",
       "    if (root._bokeh_is_loading > 0) {\n",
       "      console.debug(\"Bokeh: BokehJS is being loaded, scheduling callback at\", now());\n",
       "      return null;\n",
       "    }\n",
       "    if (js_urls == null || js_urls.length === 0) {\n",
       "      run_callbacks();\n",
       "      return null;\n",
       "    }\n",
       "    console.debug(\"Bokeh: BokehJS not loaded, scheduling load and callback at\", now());\n",
       "    root._bokeh_is_loading = css_urls.length + js_urls.length;\n",
       "\n",
       "    function on_load() {\n",
       "      root._bokeh_is_loading--;\n",
       "      if (root._bokeh_is_loading === 0) {\n",
       "        console.debug(\"Bokeh: all BokehJS libraries/stylesheets loaded\");\n",
       "        run_callbacks()\n",
       "      }\n",
       "    }\n",
       "\n",
       "    function on_error() {\n",
       "      console.error(\"failed to load \" + url);\n",
       "    }\n",
       "\n",
       "    for (var i = 0; i < css_urls.length; i++) {\n",
       "      var url = css_urls[i];\n",
       "      const element = document.createElement(\"link\");\n",
       "      element.onload = on_load;\n",
       "      element.onerror = on_error;\n",
       "      element.rel = \"stylesheet\";\n",
       "      element.type = \"text/css\";\n",
       "      element.href = url;\n",
       "      console.debug(\"Bokeh: injecting link tag for BokehJS stylesheet: \", url);\n",
       "      document.body.appendChild(element);\n",
       "    }\n",
       "\n",
       "    const hashes = {\"https://cdn.bokeh.org/bokeh/release/bokeh-2.2.1.min.js\": \"qkRvDQVAIfzsJo40iRBbxt6sttt0hv4lh74DG7OK4MCHv4C5oohXYoHUM5W11uqS\", \"https://cdn.bokeh.org/bokeh/release/bokeh-widgets-2.2.1.min.js\": \"Sb7Mr06a9TNlet/GEBeKaf5xH3eb6AlCzwjtU82wNPyDrnfoiVl26qnvlKjmcAd+\", \"https://cdn.bokeh.org/bokeh/release/bokeh-tables-2.2.1.min.js\": \"HaJ15vgfmcfRtB4c4YBOI4f1MUujukqInOWVqZJZZGK7Q+ivud0OKGSTn/Vm2iso\"};\n",
       "\n",
       "    for (var i = 0; i < js_urls.length; i++) {\n",
       "      var url = js_urls[i];\n",
       "      var element = document.createElement('script');\n",
       "      element.onload = on_load;\n",
       "      element.onerror = on_error;\n",
       "      element.async = false;\n",
       "      element.src = url;\n",
       "      if (url in hashes) {\n",
       "        element.crossOrigin = \"anonymous\";\n",
       "        element.integrity = \"sha384-\" + hashes[url];\n",
       "      }\n",
       "      console.debug(\"Bokeh: injecting script tag for BokehJS library: \", url);\n",
       "      document.head.appendChild(element);\n",
       "    }\n",
       "  };\n",
       "\n",
       "  function inject_raw_css(css) {\n",
       "    const element = document.createElement(\"style\");\n",
       "    element.appendChild(document.createTextNode(css));\n",
       "    document.body.appendChild(element);\n",
       "  }\n",
       "\n",
       "  \n",
       "  var js_urls = [\"https://cdn.bokeh.org/bokeh/release/bokeh-2.2.1.min.js\", \"https://cdn.bokeh.org/bokeh/release/bokeh-widgets-2.2.1.min.js\", \"https://cdn.bokeh.org/bokeh/release/bokeh-tables-2.2.1.min.js\"];\n",
       "  var css_urls = [];\n",
       "  \n",
       "\n",
       "  var inline_js = [\n",
       "    function(Bokeh) {\n",
       "      Bokeh.set_log_level(\"info\");\n",
       "    },\n",
       "    function(Bokeh) {\n",
       "    \n",
       "    \n",
       "    }\n",
       "  ];\n",
       "\n",
       "  function run_inline_js() {\n",
       "    \n",
       "    if (root.Bokeh !== undefined || force === true) {\n",
       "      \n",
       "    for (var i = 0; i < inline_js.length; i++) {\n",
       "      inline_js[i].call(root, root.Bokeh);\n",
       "    }\n",
       "    if (force === true) {\n",
       "        display_loaded();\n",
       "      }} else if (Date.now() < root._bokeh_timeout) {\n",
       "      setTimeout(run_inline_js, 100);\n",
       "    } else if (!root._bokeh_failed_load) {\n",
       "      console.log(\"Bokeh: BokehJS failed to load within specified timeout.\");\n",
       "      root._bokeh_failed_load = true;\n",
       "    } else if (force !== true) {\n",
       "      var cell = $(document.getElementById(\"1002\")).parents('.cell').data().cell;\n",
       "      cell.output_area.append_execute_result(NB_LOAD_WARNING)\n",
       "    }\n",
       "\n",
       "  }\n",
       "\n",
       "  if (root._bokeh_is_loading === 0) {\n",
       "    console.debug(\"Bokeh: BokehJS loaded, going straight to plotting\");\n",
       "    run_inline_js();\n",
       "  } else {\n",
       "    load_libs(css_urls, js_urls, function() {\n",
       "      console.debug(\"Bokeh: BokehJS plotting callback run at\", now());\n",
       "      run_inline_js();\n",
       "    });\n",
       "  }\n",
       "}(window));"
      ],
      "application/vnd.bokehjs_load.v0+json": "\n(function(root) {\n  function now() {\n    return new Date();\n  }\n\n  var force = true;\n\n  if (typeof root._bokeh_onload_callbacks === \"undefined\" || force === true) {\n    root._bokeh_onload_callbacks = [];\n    root._bokeh_is_loading = undefined;\n  }\n\n  \n\n  \n  if (typeof (root._bokeh_timeout) === \"undefined\" || force === true) {\n    root._bokeh_timeout = Date.now() + 5000;\n    root._bokeh_failed_load = false;\n  }\n\n  var NB_LOAD_WARNING = {'data': {'text/html':\n     \"<div style='background-color: #fdd'>\\n\"+\n     \"<p>\\n\"+\n     \"BokehJS does not appear to have successfully loaded. If loading BokehJS from CDN, this \\n\"+\n     \"may be due to a slow or bad network connection. Possible fixes:\\n\"+\n     \"</p>\\n\"+\n     \"<ul>\\n\"+\n     \"<li>re-rerun `output_notebook()` to attempt to load from CDN again, or</li>\\n\"+\n     \"<li>use INLINE resources instead, as so:</li>\\n\"+\n     \"</ul>\\n\"+\n     \"<code>\\n\"+\n     \"from bokeh.resources import INLINE\\n\"+\n     \"output_notebook(resources=INLINE)\\n\"+\n     \"</code>\\n\"+\n     \"</div>\"}};\n\n  function display_loaded() {\n    var el = document.getElementById(\"1002\");\n    if (el != null) {\n      el.textContent = \"BokehJS is loading...\";\n    }\n    if (root.Bokeh !== undefined) {\n      if (el != null) {\n        el.textContent = \"BokehJS \" + root.Bokeh.version + \" successfully loaded.\";\n      }\n    } else if (Date.now() < root._bokeh_timeout) {\n      setTimeout(display_loaded, 100)\n    }\n  }\n\n\n  function run_callbacks() {\n    try {\n      root._bokeh_onload_callbacks.forEach(function(callback) {\n        if (callback != null)\n          callback();\n      });\n    } finally {\n      delete root._bokeh_onload_callbacks\n    }\n    console.debug(\"Bokeh: all callbacks have finished\");\n  }\n\n  function load_libs(css_urls, js_urls, callback) {\n    if (css_urls == null) css_urls = [];\n    if (js_urls == null) js_urls = [];\n\n    root._bokeh_onload_callbacks.push(callback);\n    if (root._bokeh_is_loading > 0) {\n      console.debug(\"Bokeh: BokehJS is being loaded, scheduling callback at\", now());\n      return null;\n    }\n    if (js_urls == null || js_urls.length === 0) {\n      run_callbacks();\n      return null;\n    }\n    console.debug(\"Bokeh: BokehJS not loaded, scheduling load and callback at\", now());\n    root._bokeh_is_loading = css_urls.length + js_urls.length;\n\n    function on_load() {\n      root._bokeh_is_loading--;\n      if (root._bokeh_is_loading === 0) {\n        console.debug(\"Bokeh: all BokehJS libraries/stylesheets loaded\");\n        run_callbacks()\n      }\n    }\n\n    function on_error() {\n      console.error(\"failed to load \" + url);\n    }\n\n    for (var i = 0; i < css_urls.length; i++) {\n      var url = css_urls[i];\n      const element = document.createElement(\"link\");\n      element.onload = on_load;\n      element.onerror = on_error;\n      element.rel = \"stylesheet\";\n      element.type = \"text/css\";\n      element.href = url;\n      console.debug(\"Bokeh: injecting link tag for BokehJS stylesheet: \", url);\n      document.body.appendChild(element);\n    }\n\n    const hashes = {\"https://cdn.bokeh.org/bokeh/release/bokeh-2.2.1.min.js\": \"qkRvDQVAIfzsJo40iRBbxt6sttt0hv4lh74DG7OK4MCHv4C5oohXYoHUM5W11uqS\", \"https://cdn.bokeh.org/bokeh/release/bokeh-widgets-2.2.1.min.js\": \"Sb7Mr06a9TNlet/GEBeKaf5xH3eb6AlCzwjtU82wNPyDrnfoiVl26qnvlKjmcAd+\", \"https://cdn.bokeh.org/bokeh/release/bokeh-tables-2.2.1.min.js\": \"HaJ15vgfmcfRtB4c4YBOI4f1MUujukqInOWVqZJZZGK7Q+ivud0OKGSTn/Vm2iso\"};\n\n    for (var i = 0; i < js_urls.length; i++) {\n      var url = js_urls[i];\n      var element = document.createElement('script');\n      element.onload = on_load;\n      element.onerror = on_error;\n      element.async = false;\n      element.src = url;\n      if (url in hashes) {\n        element.crossOrigin = \"anonymous\";\n        element.integrity = \"sha384-\" + hashes[url];\n      }\n      console.debug(\"Bokeh: injecting script tag for BokehJS library: \", url);\n      document.head.appendChild(element);\n    }\n  };\n\n  function inject_raw_css(css) {\n    const element = document.createElement(\"style\");\n    element.appendChild(document.createTextNode(css));\n    document.body.appendChild(element);\n  }\n\n  \n  var js_urls = [\"https://cdn.bokeh.org/bokeh/release/bokeh-2.2.1.min.js\", \"https://cdn.bokeh.org/bokeh/release/bokeh-widgets-2.2.1.min.js\", \"https://cdn.bokeh.org/bokeh/release/bokeh-tables-2.2.1.min.js\"];\n  var css_urls = [];\n  \n\n  var inline_js = [\n    function(Bokeh) {\n      Bokeh.set_log_level(\"info\");\n    },\n    function(Bokeh) {\n    \n    \n    }\n  ];\n\n  function run_inline_js() {\n    \n    if (root.Bokeh !== undefined || force === true) {\n      \n    for (var i = 0; i < inline_js.length; i++) {\n      inline_js[i].call(root, root.Bokeh);\n    }\n    if (force === true) {\n        display_loaded();\n      }} else if (Date.now() < root._bokeh_timeout) {\n      setTimeout(run_inline_js, 100);\n    } else if (!root._bokeh_failed_load) {\n      console.log(\"Bokeh: BokehJS failed to load within specified timeout.\");\n      root._bokeh_failed_load = true;\n    } else if (force !== true) {\n      var cell = $(document.getElementById(\"1002\")).parents('.cell').data().cell;\n      cell.output_area.append_execute_result(NB_LOAD_WARNING)\n    }\n\n  }\n\n  if (root._bokeh_is_loading === 0) {\n    console.debug(\"Bokeh: BokehJS loaded, going straight to plotting\");\n    run_inline_js();\n  } else {\n    load_libs(css_urls, js_urls, function() {\n      console.debug(\"Bokeh: BokehJS plotting callback run at\", now());\n      run_inline_js();\n    });\n  }\n}(window));"
     },
     "metadata": {},
     "output_type": "display_data"
    }
   ],
   "source": [
    "import numpy as np\n",
    "import pandas as pd\n",
    "import csv\n",
    "import re\n",
    "import imblearn\n",
    "import torch\n",
    "from nltk.corpus import stopwords\n",
    "from nltk.stem import WordNetLemmatizer\n",
    "from gensim.parsing.porter import PorterStemmer\n",
    "from gensim.utils import tokenize\n",
    "from gensim.utils import simple_preprocess\n",
    "from gensim.parsing.preprocessing import remove_stopwords\n",
    "import torch.nn as nn\n",
    "import torch.nn.functional as F\n",
    "import torch.optim as optim\n",
    "from torch.autograd import Variable\n",
    "import torch\n",
    "from torchtext.legacy import data\n",
    "# from torchtext import data\n",
    "import matplotlib.pyplot as plt\n",
    "import seaborn as sb\n",
    "from sklearn.metrics import roc_curve,auc\n",
    "from scipy import interp\n",
    "from itertools import cycle\n",
    "from sklearn.metrics import accuracy_score\n",
    "from sklearn.metrics import confusion_matrix\n",
    "from sklearn.model_selection import train_test_split\n",
    "from sklearn.metrics import classification_report\n",
    "from bokeh.models import ColumnDataSource, LabelSet\n",
    "from bokeh.plotting import figure, show, output_file\n",
    "from collections import Counter\n",
    "from functools import reduce\n",
    "# ! pip install captum bokeh spacy emot parameter-sherpa\n",
    "import sherpa\n",
    "import captum\n",
    "import spacy\n",
    "from captum.attr import LayerIntegratedGradients, TokenReferenceBase, visualization, IntegratedGradients, LayerConductance\n",
    "from captum.attr import visualization as viz\n",
    "from captum.attr import configure_interpretable_embedding_layer, remove_interpretable_embedding_layer\n",
    "import emot\n",
    "from bokeh.io import output_notebook\n",
    "output_notebook()\n",
    "# ! python -m spacy download en_core_web_sm\n",
    "nlp = spacy.load('en')\n",
    "%matplotlib inline"
   ]
  },
  {
   "cell_type": "markdown",
   "metadata": {
    "id": "6DETgMPgJrUS",
    "pycharm": {
     "name": "#%% md\n"
    }
   },
   "source": [
    "## Loading the data"
   ]
  },
  {
   "cell_type": "code",
   "execution_count": 6,
   "metadata": {
    "ExecuteTime": {
     "end_time": "2021-04-07T08:58:07.567355Z",
     "start_time": "2021-04-07T08:57:44.247754Z"
    },
    "colab": {
     "base_uri": "https://localhost:8080/",
     "height": 272
    },
    "id": "QwFJPG55JrUT",
    "outputId": "2ea2af17-7ab6-4f49-b0c6-f5b328fdcba3",
    "pycharm": {
     "name": "#%%\n"
    }
   },
   "outputs": [
    {
     "name": "stderr",
     "output_type": "stream",
     "text": [
      "  % Total    % Received % Xferd  Average Speed   Time    Time     Time  Current\n",
      "                                 Dload  Upload   Total   Spent    Left  Speed\n",
      "\n",
      "  0     0    0     0    0     0      0      0 --:--:-- --:--:-- --:--:--     0\n",
      "  0     0    0     0    0     0      0      0 --:--:-- --:--:-- --:--:--     0\n",
      "  0     0    0     0    0     0      0      0 --:--:--  0:00:01 --:--:--     0\n",
      "  0 19.9M    0 61464    0     0  27686      0  0:12:34  0:00:02  0:12:32 27698\n",
      "  4 19.9M    4  823k    0     0   257k      0  0:01:19  0:00:03  0:01:16  257k\n",
      "  9 19.9M    9 1895k    0     0   450k      0  0:00:45  0:00:04  0:00:41  450k\n",
      " 14 19.9M   14 2935k    0     0   560k      0  0:00:36  0:00:05  0:00:31  589k\n",
      " 19 19.9M   19 3991k    0     0   642k      0  0:00:31  0:00:06  0:00:25  851k\n",
      " 24 19.9M   24 5063k    0     0   703k      0  0:00:28  0:00:07  0:00:21 1006k\n",
      " 30 19.9M   30 6135k    0     0   747k      0  0:00:27  0:00:08  0:00:19 1060k\n",
      " 35 19.9M   35 7175k    0     0   779k      0  0:00:26  0:00:09  0:00:17 1056k\n",
      " 40 19.9M   40 8231k    0     0   807k      0  0:00:25  0:00:10  0:00:15 1067k\n",
      " 43 19.9M   43 8871k    0     0   790k      0  0:00:25  0:00:11  0:00:14  973k\n",
      " 48 19.9M   48 9911k    0     0   812k      0  0:00:25  0:00:12  0:00:13  967k\n",
      " 53 19.9M   53 10.7M    0     0   830k      0  0:00:24  0:00:13  0:00:11  967k\n",
      " 58 19.9M   58 11.7M    0     0   847k      0  0:00:24  0:00:14  0:00:10  970k\n",
      " 64 19.9M   64 12.7M    0     0   861k      0  0:00:23  0:00:15  0:00:08  971k\n",
      " 69 19.9M   69 13.8M    0     0   872k      0  0:00:23  0:00:16  0:00:07 1056k\n",
      " 74 19.9M   74 14.8M    0     0   883k      0  0:00:23  0:00:17  0:00:06 1056k\n",
      " 79 19.9M   79 15.8M    0     0   893k      0  0:00:22  0:00:18  0:00:04 1058k\n",
      " 84 19.9M   84 16.8M    0     0   899k      0  0:00:22  0:00:19  0:00:03 1045k\n",
      " 90 19.9M   90 17.9M    0     0   910k      0  0:00:22  0:00:20  0:00:02 1058k\n",
      " 94 19.9M   94 18.9M    0     0   913k      0  0:00:22  0:00:21  0:00:01 1045k\n",
      " 98 19.9M   98 19.5M    0     0   902k      0  0:00:22  0:00:22 --:--:--  967k\n",
      "100 19.9M  100 19.9M    0     0   905k      0  0:00:22  0:00:22 --:--:--  954k\n",
      "A subdirectory or file checkpoint already exists.\n"
     ]
    },
    {
     "data": {
      "text/html": [
       "<div>\n",
       "<style scoped>\n",
       "    .dataframe tbody tr th:only-of-type {\n",
       "        vertical-align: middle;\n",
       "    }\n",
       "\n",
       "    .dataframe tbody tr th {\n",
       "        vertical-align: top;\n",
       "    }\n",
       "\n",
       "    .dataframe thead th {\n",
       "        text-align: right;\n",
       "    }\n",
       "</style>\n",
       "<table border=\"1\" class=\"dataframe\">\n",
       "  <thead>\n",
       "    <tr style=\"text-align: right;\">\n",
       "      <th></th>\n",
       "      <th>clean_text</th>\n",
       "      <th>category</th>\n",
       "    </tr>\n",
       "  </thead>\n",
       "  <tbody>\n",
       "    <tr>\n",
       "      <th>0</th>\n",
       "      <td>when modi promised “minimum government maximum...</td>\n",
       "      <td>-1.0</td>\n",
       "    </tr>\n",
       "    <tr>\n",
       "      <th>1</th>\n",
       "      <td>talk all the nonsense and continue all the dra...</td>\n",
       "      <td>0.0</td>\n",
       "    </tr>\n",
       "    <tr>\n",
       "      <th>2</th>\n",
       "      <td>what did just say vote for modi  welcome bjp t...</td>\n",
       "      <td>1.0</td>\n",
       "    </tr>\n",
       "    <tr>\n",
       "      <th>3</th>\n",
       "      <td>asking his supporters prefix chowkidar their n...</td>\n",
       "      <td>1.0</td>\n",
       "    </tr>\n",
       "    <tr>\n",
       "      <th>4</th>\n",
       "      <td>answer who among these the most powerful world...</td>\n",
       "      <td>1.0</td>\n",
       "    </tr>\n",
       "  </tbody>\n",
       "</table>\n",
       "</div>"
      ],
      "text/plain": [
       "                                          clean_text  category\n",
       "0  when modi promised “minimum government maximum...      -1.0\n",
       "1  talk all the nonsense and continue all the dra...       0.0\n",
       "2  what did just say vote for modi  welcome bjp t...       1.0\n",
       "3  asking his supporters prefix chowkidar their n...       1.0\n",
       "4  answer who among these the most powerful world...       1.0"
      ]
     },
     "execution_count": 6,
     "metadata": {},
     "output_type": "execute_result"
    }
   ],
   "source": [
    "!curl https://raw.githubusercontent.com/realsarm/deepLearningRecipes/main/.pytorch/tweets/Twitter_Data.csv --create-dirs -o .pytorch/tweets/Twitter_Data.csv\n",
    "!mkdir checkpoint\n",
    "df = pd.read_csv('.pytorch/tweets/Twitter_Data.csv')\n",
    "df.head()"
   ]
  },
  {
   "cell_type": "markdown",
   "metadata": {
    "id": "wnZDU5kUJrUT"
   },
   "source": [
    "### Exploring features"
   ]
  },
  {
   "cell_type": "code",
   "execution_count": 7,
   "metadata": {
    "ExecuteTime": {
     "end_time": "2021-04-07T08:58:07.615454Z",
     "start_time": "2021-04-07T08:58:07.571357Z"
    },
    "colab": {
     "base_uri": "https://localhost:8080/",
     "height": 297
    },
    "id": "8iEEuqAuJrUT",
    "outputId": "6de99fbf-d9bb-447f-b781-390761b9c625",
    "pycharm": {
     "name": "#%%\n"
    }
   },
   "outputs": [
    {
     "data": {
      "text/html": [
       "<div>\n",
       "<style scoped>\n",
       "    .dataframe tbody tr th:only-of-type {\n",
       "        vertical-align: middle;\n",
       "    }\n",
       "\n",
       "    .dataframe tbody tr th {\n",
       "        vertical-align: top;\n",
       "    }\n",
       "\n",
       "    .dataframe thead th {\n",
       "        text-align: right;\n",
       "    }\n",
       "</style>\n",
       "<table border=\"1\" class=\"dataframe\">\n",
       "  <thead>\n",
       "    <tr style=\"text-align: right;\">\n",
       "      <th></th>\n",
       "      <th>category</th>\n",
       "    </tr>\n",
       "  </thead>\n",
       "  <tbody>\n",
       "    <tr>\n",
       "      <th>count</th>\n",
       "      <td>162973.000000</td>\n",
       "    </tr>\n",
       "    <tr>\n",
       "      <th>mean</th>\n",
       "      <td>0.225436</td>\n",
       "    </tr>\n",
       "    <tr>\n",
       "      <th>std</th>\n",
       "      <td>0.781279</td>\n",
       "    </tr>\n",
       "    <tr>\n",
       "      <th>min</th>\n",
       "      <td>-1.000000</td>\n",
       "    </tr>\n",
       "    <tr>\n",
       "      <th>25%</th>\n",
       "      <td>0.000000</td>\n",
       "    </tr>\n",
       "    <tr>\n",
       "      <th>50%</th>\n",
       "      <td>0.000000</td>\n",
       "    </tr>\n",
       "    <tr>\n",
       "      <th>75%</th>\n",
       "      <td>1.000000</td>\n",
       "    </tr>\n",
       "    <tr>\n",
       "      <th>max</th>\n",
       "      <td>1.000000</td>\n",
       "    </tr>\n",
       "  </tbody>\n",
       "</table>\n",
       "</div>"
      ],
      "text/plain": [
       "            category\n",
       "count  162973.000000\n",
       "mean        0.225436\n",
       "std         0.781279\n",
       "min        -1.000000\n",
       "25%         0.000000\n",
       "50%         0.000000\n",
       "75%         1.000000\n",
       "max         1.000000"
      ]
     },
     "execution_count": 7,
     "metadata": {},
     "output_type": "execute_result"
    }
   ],
   "source": [
    "df.describe()"
   ]
  },
  {
   "cell_type": "code",
   "execution_count": 8,
   "metadata": {
    "ExecuteTime": {
     "end_time": "2021-04-07T08:58:07.930752Z",
     "start_time": "2021-04-07T08:58:07.618977Z"
    },
    "colab": {
     "base_uri": "https://localhost:8080/",
     "height": 221
    },
    "id": "HLQhe0zgJrUU",
    "outputId": "d47ef3ed-1c18-4dcc-cd15-ef51dbd567e8",
    "pycharm": {
     "name": "#%%\n"
    }
   },
   "outputs": [
    {
     "data": {
      "text/html": [
       "<div>\n",
       "<style scoped>\n",
       "    .dataframe tbody tr th:only-of-type {\n",
       "        vertical-align: middle;\n",
       "    }\n",
       "\n",
       "    .dataframe tbody tr th {\n",
       "        vertical-align: top;\n",
       "    }\n",
       "\n",
       "    .dataframe thead tr th {\n",
       "        text-align: left;\n",
       "    }\n",
       "\n",
       "    .dataframe thead tr:last-of-type th {\n",
       "        text-align: right;\n",
       "    }\n",
       "</style>\n",
       "<table border=\"1\" class=\"dataframe\">\n",
       "  <thead>\n",
       "    <tr>\n",
       "      <th></th>\n",
       "      <th colspan=\"4\" halign=\"left\">clean_text</th>\n",
       "    </tr>\n",
       "    <tr>\n",
       "      <th></th>\n",
       "      <th>count</th>\n",
       "      <th>unique</th>\n",
       "      <th>top</th>\n",
       "      <th>freq</th>\n",
       "    </tr>\n",
       "    <tr>\n",
       "      <th>category</th>\n",
       "      <th></th>\n",
       "      <th></th>\n",
       "      <th></th>\n",
       "      <th></th>\n",
       "    </tr>\n",
       "  </thead>\n",
       "  <tbody>\n",
       "    <tr>\n",
       "      <th>-1.0</th>\n",
       "      <td>35509</td>\n",
       "      <td>35509</td>\n",
       "      <td>why this coward didnt join the dynasty the las...</td>\n",
       "      <td>1</td>\n",
       "    </tr>\n",
       "    <tr>\n",
       "      <th>0.0</th>\n",
       "      <td>55211</td>\n",
       "      <td>55211</td>\n",
       "      <td>modi — man who came riding the plank fighting ...</td>\n",
       "      <td>1</td>\n",
       "    </tr>\n",
       "    <tr>\n",
       "      <th>1.0</th>\n",
       "      <td>72249</td>\n",
       "      <td>72249</td>\n",
       "      <td>gets ticket contest for modis party the upcomi...</td>\n",
       "      <td>1</td>\n",
       "    </tr>\n",
       "  </tbody>\n",
       "</table>\n",
       "</div>"
      ],
      "text/plain": [
       "         clean_text                                                            \\\n",
       "              count unique                                                top   \n",
       "category                                                                        \n",
       "-1.0          35509  35509  why this coward didnt join the dynasty the las...   \n",
       " 0.0          55211  55211  modi — man who came riding the plank fighting ...   \n",
       " 1.0          72249  72249  gets ticket contest for modis party the upcomi...   \n",
       "\n",
       "               \n",
       "         freq  \n",
       "category       \n",
       "-1.0        1  \n",
       " 0.0        1  \n",
       " 1.0        1  "
      ]
     },
     "execution_count": 8,
     "metadata": {},
     "output_type": "execute_result"
    }
   ],
   "source": [
    "df.groupby('category').describe()"
   ]
  },
  {
   "cell_type": "code",
   "execution_count": 9,
   "metadata": {
    "ExecuteTime": {
     "end_time": "2021-04-07T08:58:07.977750Z",
     "start_time": "2021-04-07T08:58:07.937753Z"
    },
    "colab": {
     "base_uri": "https://localhost:8080/",
     "height": 0
    },
    "id": "mgpw8FCZJrUV",
    "outputId": "bd16add0-dea6-44c8-f6f9-baeb99987b00",
    "pycharm": {
     "name": "#%%\n"
    }
   },
   "outputs": [
    {
     "name": "stdout",
     "output_type": "stream",
     "text": [
      "<class 'pandas.core.frame.DataFrame'>\n",
      "RangeIndex: 162980 entries, 0 to 162979\n",
      "Data columns (total 2 columns):\n",
      " #   Column      Non-Null Count   Dtype  \n",
      "---  ------      --------------   -----  \n",
      " 0   clean_text  162976 non-null  object \n",
      " 1   category    162973 non-null  float64\n",
      "dtypes: float64(1), object(1)\n",
      "memory usage: 2.5+ MB\n"
     ]
    }
   ],
   "source": [
    "df.info()"
   ]
  },
  {
   "cell_type": "code",
   "execution_count": 10,
   "metadata": {
    "ExecuteTime": {
     "end_time": "2021-04-07T08:58:08.009753Z",
     "start_time": "2021-04-07T08:58:07.983754Z"
    },
    "colab": {
     "base_uri": "https://localhost:8080/",
     "height": 0
    },
    "id": "6oGU6704JrUV",
    "outputId": "831a46a8-d50e-44a1-a27a-f4a15e177566",
    "pycharm": {
     "name": "#%%\n"
    }
   },
   "outputs": [
    {
     "data": {
      "text/plain": [
       "clean_text    4\n",
       "category      7\n",
       "dtype: int64"
      ]
     },
     "execution_count": 10,
     "metadata": {},
     "output_type": "execute_result"
    }
   ],
   "source": [
    "df.isnull().sum()"
   ]
  },
  {
   "cell_type": "code",
   "execution_count": 11,
   "metadata": {
    "ExecuteTime": {
     "end_time": "2021-04-07T08:58:08.136756Z",
     "start_time": "2021-04-07T08:58:08.011752Z"
    },
    "colab": {
     "base_uri": "https://localhost:8080/",
     "height": 80
    },
    "id": "QFUejj4jJrUV",
    "outputId": "e5d0b1d4-edb6-4706-af65-cbfdd96d0952",
    "pycharm": {
     "name": "#%%\n"
    }
   },
   "outputs": [
    {
     "data": {
      "text/html": [
       "<div>\n",
       "<style scoped>\n",
       "    .dataframe tbody tr th:only-of-type {\n",
       "        vertical-align: middle;\n",
       "    }\n",
       "\n",
       "    .dataframe tbody tr th {\n",
       "        vertical-align: top;\n",
       "    }\n",
       "\n",
       "    .dataframe thead th {\n",
       "        text-align: right;\n",
       "    }\n",
       "</style>\n",
       "<table border=\"1\" class=\"dataframe\">\n",
       "  <thead>\n",
       "    <tr style=\"text-align: right;\">\n",
       "      <th></th>\n",
       "      <th>clean_text</th>\n",
       "      <th>category</th>\n",
       "    </tr>\n",
       "  </thead>\n",
       "  <tbody>\n",
       "    <tr>\n",
       "      <th>77224</th>\n",
       "      <td></td>\n",
       "      <td>0.0</td>\n",
       "    </tr>\n",
       "  </tbody>\n",
       "</table>\n",
       "</div>"
      ],
      "text/plain": [
       "      clean_text  category\n",
       "77224                  0.0"
      ]
     },
     "execution_count": 11,
     "metadata": {},
     "output_type": "execute_result"
    }
   ],
   "source": [
    "df[df['clean_text'].str.len() < 2]"
   ]
  },
  {
   "cell_type": "code",
   "execution_count": 12,
   "metadata": {
    "ExecuteTime": {
     "end_time": "2021-04-07T08:58:08.232375Z",
     "start_time": "2021-04-07T08:58:08.138752Z"
    },
    "colab": {
     "base_uri": "https://localhost:8080/",
     "height": 142
    },
    "id": "yZ6t1ICXJrUW",
    "outputId": "56cdb413-3bb0-4606-9895-c990227cf800",
    "pycharm": {
     "name": "#%%\n"
    }
   },
   "outputs": [
    {
     "data": {
      "text/html": [
       "<div>\n",
       "<style scoped>\n",
       "    .dataframe tbody tr th:only-of-type {\n",
       "        vertical-align: middle;\n",
       "    }\n",
       "\n",
       "    .dataframe tbody tr th {\n",
       "        vertical-align: top;\n",
       "    }\n",
       "\n",
       "    .dataframe thead th {\n",
       "        text-align: right;\n",
       "    }\n",
       "</style>\n",
       "<table border=\"1\" class=\"dataframe\">\n",
       "  <thead>\n",
       "    <tr style=\"text-align: right;\">\n",
       "      <th></th>\n",
       "      <th>clean_text</th>\n",
       "      <th>category</th>\n",
       "    </tr>\n",
       "  </thead>\n",
       "  <tbody>\n",
       "    <tr>\n",
       "      <th>158694</th>\n",
       "      <td>NaN</td>\n",
       "      <td>-1.0</td>\n",
       "    </tr>\n",
       "    <tr>\n",
       "      <th>159443</th>\n",
       "      <td>NaN</td>\n",
       "      <td>0.0</td>\n",
       "    </tr>\n",
       "    <tr>\n",
       "      <th>160560</th>\n",
       "      <td>NaN</td>\n",
       "      <td>1.0</td>\n",
       "    </tr>\n",
       "  </tbody>\n",
       "</table>\n",
       "</div>"
      ],
      "text/plain": [
       "       clean_text  category\n",
       "158694        NaN      -1.0\n",
       "159443        NaN       0.0\n",
       "160560        NaN       1.0"
      ]
     },
     "execution_count": 12,
     "metadata": {},
     "output_type": "execute_result"
    }
   ],
   "source": [
    "df[df.duplicated('clean_text')]"
   ]
  },
  {
   "cell_type": "code",
   "execution_count": 13,
   "metadata": {
    "ExecuteTime": {
     "end_time": "2021-04-07T08:58:08.390373Z",
     "start_time": "2021-04-07T08:58:08.235377Z"
    },
    "colab": {
     "base_uri": "https://localhost:8080/",
     "height": 49
    },
    "id": "HHfQVsljJrUW",
    "outputId": "17671561-a148-42b3-eb71-749e2a6dbeca",
    "pycharm": {
     "name": "#%%\n"
    }
   },
   "outputs": [
    {
     "data": {
      "text/html": [
       "<div>\n",
       "<style scoped>\n",
       "    .dataframe tbody tr th:only-of-type {\n",
       "        vertical-align: middle;\n",
       "    }\n",
       "\n",
       "    .dataframe tbody tr th {\n",
       "        vertical-align: top;\n",
       "    }\n",
       "\n",
       "    .dataframe thead th {\n",
       "        text-align: right;\n",
       "    }\n",
       "</style>\n",
       "<table border=\"1\" class=\"dataframe\">\n",
       "  <thead>\n",
       "    <tr style=\"text-align: right;\">\n",
       "      <th></th>\n",
       "      <th>clean_text</th>\n",
       "      <th>category</th>\n",
       "    </tr>\n",
       "  </thead>\n",
       "  <tbody>\n",
       "  </tbody>\n",
       "</table>\n",
       "</div>"
      ],
      "text/plain": [
       "Empty DataFrame\n",
       "Columns: [clean_text, category]\n",
       "Index: []"
      ]
     },
     "execution_count": 13,
     "metadata": {},
     "output_type": "execute_result"
    }
   ],
   "source": [
    "df.drop_duplicates('clean_text', inplace=True)\n",
    "df[df.duplicated('clean_text')]"
   ]
  },
  {
   "cell_type": "code",
   "execution_count": 14,
   "metadata": {
    "ExecuteTime": {
     "end_time": "2021-04-07T08:58:08.689988Z",
     "start_time": "2021-04-07T08:58:08.394383Z"
    },
    "colab": {
     "base_uri": "https://localhost:8080/",
     "height": 306
    },
    "id": "y_GcsS8iJrUX",
    "outputId": "68e4aa22-b89d-45e4-f970-ac19deb1562f",
    "pycharm": {
     "name": "#%%\n"
    }
   },
   "outputs": [
    {
     "data": {
      "text/plain": [
       "<matplotlib.axes._subplots.AxesSubplot at 0x1c42baf3048>"
      ]
     },
     "execution_count": 14,
     "metadata": {},
     "output_type": "execute_result"
    },
    {
     "data": {
      "image/png": "[encoded data removed]",
      "text/plain": [
       "<Figure size 432x288 with 1 Axes>"
      ]
     },
     "metadata": {
      "needs_background": "light"
     },
     "output_type": "display_data"
    }
   ],
   "source": [
    "df[['category', 'clean_text']].groupby('category').count().plot.bar()"
   ]
  },
  {
   "cell_type": "markdown",
   "metadata": {
    "id": "qRNRGUr1JrUX"
   },
   "source": [
    "### Preprocessing Data"
   ]
  },
  {
   "cell_type": "markdown",
   "metadata": {
    "id": "8_Sbn3-qJrUX"
   },
   "source": [
    "#### Steps\n",
    "1. encode lables\n",
    "2. Replace tags and metion with a unique symbol\n",
    "3. Replace `emoji` and `emoticons` with their meaning\n",
    "4. Remove stop-words\n",
    "5. Remove punctuation and tokenize sentences\n",
    "6. Lemmatizing each token\n",
    "7. Remove outliers"
   ]
  },
  {
   "cell_type": "code",
   "execution_count": 15,
   "metadata": {
    "ExecuteTime": {
     "end_time": "2021-04-07T08:58:08.721992Z",
     "start_time": "2021-04-07T08:58:08.691992Z"
    },
    "colab": {
     "base_uri": "https://localhost:8080/",
     "height": 204
    },
    "id": "iy0yXqzYJrUY",
    "outputId": "06d3dd29-ac3c-4890-a7fd-4e8cdcceb145",
    "pycharm": {
     "name": "#%%\n"
    }
   },
   "outputs": [
    {
     "data": {
      "text/html": [
       "<div>\n",
       "<style scoped>\n",
       "    .dataframe tbody tr th:only-of-type {\n",
       "        vertical-align: middle;\n",
       "    }\n",
       "\n",
       "    .dataframe tbody tr th {\n",
       "        vertical-align: top;\n",
       "    }\n",
       "\n",
       "    .dataframe thead th {\n",
       "        text-align: right;\n",
       "    }\n",
       "</style>\n",
       "<table border=\"1\" class=\"dataframe\">\n",
       "  <thead>\n",
       "    <tr style=\"text-align: right;\">\n",
       "      <th></th>\n",
       "      <th>text</th>\n",
       "      <th>sentiment</th>\n",
       "    </tr>\n",
       "  </thead>\n",
       "  <tbody>\n",
       "    <tr>\n",
       "      <th>0</th>\n",
       "      <td>when modi promised “minimum government maximum...</td>\n",
       "      <td>2</td>\n",
       "    </tr>\n",
       "    <tr>\n",
       "      <th>1</th>\n",
       "      <td>talk all the nonsense and continue all the dra...</td>\n",
       "      <td>0</td>\n",
       "    </tr>\n",
       "    <tr>\n",
       "      <th>2</th>\n",
       "      <td>what did just say vote for modi  welcome bjp t...</td>\n",
       "      <td>1</td>\n",
       "    </tr>\n",
       "    <tr>\n",
       "      <th>3</th>\n",
       "      <td>asking his supporters prefix chowkidar their n...</td>\n",
       "      <td>1</td>\n",
       "    </tr>\n",
       "    <tr>\n",
       "      <th>4</th>\n",
       "      <td>answer who among these the most powerful world...</td>\n",
       "      <td>1</td>\n",
       "    </tr>\n",
       "  </tbody>\n",
       "</table>\n",
       "</div>"
      ],
      "text/plain": [
       "                                                text  sentiment\n",
       "0  when modi promised “minimum government maximum...          2\n",
       "1  talk all the nonsense and continue all the dra...          0\n",
       "2  what did just say vote for modi  welcome bjp t...          1\n",
       "3  asking his supporters prefix chowkidar their n...          1\n",
       "4  answer who among these the most powerful world...          1"
      ]
     },
     "execution_count": 15,
     "metadata": {},
     "output_type": "execute_result"
    }
   ],
   "source": [
    "\n",
    "condlist = [\n",
    "    df['category'] == 1, # pos\n",
    "    df['category'] == 0, # neu\n",
    "    df['category'] == -1 # neg\n",
    "]\n",
    "df['sentiment'] = np.select(condlist, [1,0,2])\n",
    "d = df[['clean_text', 'sentiment']]\n",
    "d.rename(columns={'clean_text': 'text'}, inplace=True)\n",
    "d.head()"
   ]
  },
  {
   "cell_type": "code",
   "execution_count": 16,
   "metadata": {
    "ExecuteTime": {
     "end_time": "2021-04-07T08:58:52.131548Z",
     "start_time": "2021-04-07T08:58:08.724992Z"
    },
    "colab": {
     "base_uri": "https://localhost:8080/",
     "height": 419
    },
    "id": "xHC-GTGIJrUY",
    "outputId": "482750e2-af8b-41ec-f5b5-f45428211405",
    "pycharm": {
     "name": "#%%\n"
    }
   },
   "outputs": [
    {
     "data": {
      "text/html": [
       "<div>\n",
       "<style scoped>\n",
       "    .dataframe tbody tr th:only-of-type {\n",
       "        vertical-align: middle;\n",
       "    }\n",
       "\n",
       "    .dataframe tbody tr th {\n",
       "        vertical-align: top;\n",
       "    }\n",
       "\n",
       "    .dataframe thead th {\n",
       "        text-align: right;\n",
       "    }\n",
       "</style>\n",
       "<table border=\"1\" class=\"dataframe\">\n",
       "  <thead>\n",
       "    <tr style=\"text-align: right;\">\n",
       "      <th></th>\n",
       "      <th>text</th>\n",
       "      <th>sentiment</th>\n",
       "    </tr>\n",
       "  </thead>\n",
       "  <tbody>\n",
       "    <tr>\n",
       "      <th>0</th>\n",
       "      <td>[modi, promised, minimum, government, maximum,...</td>\n",
       "      <td>2</td>\n",
       "    </tr>\n",
       "    <tr>\n",
       "      <th>1</th>\n",
       "      <td>[talk, nonsense, continue, drama, vote, modi]</td>\n",
       "      <td>0</td>\n",
       "    </tr>\n",
       "    <tr>\n",
       "      <th>2</th>\n",
       "      <td>[vote, modi, welcome, bjp, told, rahul, main, ...</td>\n",
       "      <td>1</td>\n",
       "    </tr>\n",
       "    <tr>\n",
       "      <th>3</th>\n",
       "      <td>[asking, supporter, prefix, chowkidar, name, m...</td>\n",
       "      <td>1</td>\n",
       "    </tr>\n",
       "    <tr>\n",
       "      <th>4</th>\n",
       "      <td>[answer, powerful, world, leader, today, trump...</td>\n",
       "      <td>1</td>\n",
       "    </tr>\n",
       "    <tr>\n",
       "      <th>...</th>\n",
       "      <td>...</td>\n",
       "      <td>...</td>\n",
       "    </tr>\n",
       "    <tr>\n",
       "      <th>162975</th>\n",
       "      <td>[crore, paid, neerav, modi, recovered, congres...</td>\n",
       "      <td>2</td>\n",
       "    </tr>\n",
       "    <tr>\n",
       "      <th>162976</th>\n",
       "      <td>[dear, r, terrorist, payal, gawar, modi, killi...</td>\n",
       "      <td>2</td>\n",
       "    </tr>\n",
       "    <tr>\n",
       "      <th>162977</th>\n",
       "      <td>[cover, interaction, forum, left]</td>\n",
       "      <td>0</td>\n",
       "    </tr>\n",
       "    <tr>\n",
       "      <th>162978</th>\n",
       "      <td>[big, project, came, india, modi, dream, proje...</td>\n",
       "      <td>0</td>\n",
       "    </tr>\n",
       "    <tr>\n",
       "      <th>162979</th>\n",
       "      <td>[listen, like, gurukul, discipline, maintained...</td>\n",
       "      <td>1</td>\n",
       "    </tr>\n",
       "  </tbody>\n",
       "</table>\n",
       "<p>162977 rows × 2 columns</p>\n",
       "</div>"
      ],
      "text/plain": [
       "                                                     text  sentiment\n",
       "0       [modi, promised, minimum, government, maximum,...          2\n",
       "1           [talk, nonsense, continue, drama, vote, modi]          0\n",
       "2       [vote, modi, welcome, bjp, told, rahul, main, ...          1\n",
       "3       [asking, supporter, prefix, chowkidar, name, m...          1\n",
       "4       [answer, powerful, world, leader, today, trump...          1\n",
       "...                                                   ...        ...\n",
       "162975  [crore, paid, neerav, modi, recovered, congres...          2\n",
       "162976  [dear, r, terrorist, payal, gawar, modi, killi...          2\n",
       "162977                  [cover, interaction, forum, left]          0\n",
       "162978  [big, project, came, india, modi, dream, proje...          0\n",
       "162979  [listen, like, gurukul, discipline, maintained...          1\n",
       "\n",
       "[162977 rows x 2 columns]"
      ]
     },
     "execution_count": 16,
     "metadata": {},
     "output_type": "execute_result"
    }
   ],
   "source": [
    "def emoji_helper(text):\n",
    "    clean_mean = lambda x:  x.replace('-', '_').replace(':', ' ')\n",
    "    for emoti in emot.emo_unicode.EMOTICONS:\n",
    "        if emoti in text:\n",
    "            text = text.replace(emoti, clean_mean(emot.emo_unicode.EMOTICONS.get(emoti, '')))\n",
    "\n",
    "    for emoti in emot.emo_unicode.UNICODE_EMO:\n",
    "        if emoti in text:\n",
    "            text = text.replace(emoti, clean_mean(emot.emo_unicode.UNICODE_EMO.get(emoti, '')))\n",
    "\n",
    "    for emoti in emot.emo_unicode.EMOTICONS_EMO:\n",
    "        if emoti in text:\n",
    "            text = text.replace(emoti, clean_mean(emot.emo_unicode.EMOTICONS_EMO.get(emoti, '')).replace(' ','_'))\n",
    "    return text\n",
    "\n",
    "lemmatizer = WordNetLemmatizer()\n",
    "def preprocess(x):\n",
    "    return [lemmatizer.lemmatize(word) for word in\n",
    "        simple_preprocess(remove_stopwords(emoji_helper(re.sub(r'\\s*([@#][\\w_-]+)', '', str(x)))), deacc=True)\n",
    "    ]\n",
    "\n",
    "d['text'] = d['text'].apply(func=lambda x:preprocess(x))\n",
    "\n",
    "d"
   ]
  },
  {
   "cell_type": "markdown",
   "metadata": {
    "id": "V1lsg8zVJrUY"
   },
   "source": [
    "#### Analyze review length\n",
    "Here we remove the outliers"
   ]
  },
  {
   "cell_type": "code",
   "execution_count": 17,
   "metadata": {
    "ExecuteTime": {
     "end_time": "2021-04-07T08:58:52.322118Z",
     "start_time": "2021-04-07T08:58:52.134551Z"
    },
    "colab": {
     "base_uri": "https://localhost:8080/",
     "height": 0
    },
    "id": "nE-zLQLWJrUZ",
    "outputId": "0b428133-b8bd-42cc-a6cf-bb8385305c9c",
    "pycharm": {
     "name": "#%%\n"
    }
   },
   "outputs": [
    {
     "data": {
      "text/plain": [
       "count    162977.000000\n",
       "mean         12.894905\n",
       "std           6.987476\n",
       "min           0.000000\n",
       "25%           7.000000\n",
       "50%          12.000000\n",
       "75%          18.000000\n",
       "max          42.000000\n",
       "Name: text, dtype: float64"
      ]
     },
     "execution_count": 17,
     "metadata": {},
     "output_type": "execute_result"
    }
   ],
   "source": [
    "d['text'].str.len().describe()"
   ]
  },
  {
   "cell_type": "code",
   "execution_count": 18,
   "metadata": {
    "ExecuteTime": {
     "end_time": "2021-04-07T08:58:52.638411Z",
     "start_time": "2021-04-07T08:58:52.326120Z"
    },
    "colab": {
     "base_uri": "https://localhost:8080/",
     "height": 282
    },
    "id": "241NoGKyJrUZ",
    "outputId": "9205ee56-8718-4efc-863f-dfabb6e80798",
    "pycharm": {
     "name": "#%%\n"
    }
   },
   "outputs": [
    {
     "data": {
      "text/plain": [
       "<matplotlib.axes._subplots.AxesSubplot at 0x1c429e16808>"
      ]
     },
     "execution_count": 18,
     "metadata": {},
     "output_type": "execute_result"
    },
    {
     "data": {
      "image/png": "[encoded data removed]",
      "text/plain": [
       "<Figure size 432x288 with 1 Axes>"
      ]
     },
     "metadata": {
      "needs_background": "light"
     },
     "output_type": "display_data"
    }
   ],
   "source": [
    "d['text'].str.len().hist()"
   ]
  },
  {
   "cell_type": "code",
   "execution_count": 19,
   "metadata": {
    "ExecuteTime": {
     "end_time": "2021-04-07T08:58:53.143863Z",
     "start_time": "2021-04-07T08:58:52.641417Z"
    },
    "colab": {
     "base_uri": "https://localhost:8080/",
     "height": 282
    },
    "id": "YKCZ7SYYJrUZ",
    "outputId": "45978ed8-f83f-4a90-f828-19cd6241d072",
    "pycharm": {
     "name": "#%%\n"
    }
   },
   "outputs": [
    {
     "data": {
      "text/plain": [
       "<matplotlib.axes._subplots.AxesSubplot at 0x1c42bf1ef48>"
      ]
     },
     "execution_count": 19,
     "metadata": {},
     "output_type": "execute_result"
    },
    {
     "data": {
      "image/png": "[encoded data removed]",
      "text/plain": [
       "<Figure size 432x288 with 1 Axes>"
      ]
     },
     "metadata": {
      "needs_background": "light"
     },
     "output_type": "display_data"
    }
   ],
   "source": [
    "d = d[ (2 < d['text'].str.len()) & (d['text'].str.len() < 24) ]\n",
    "d['text'].str.len().hist()"
   ]
  },
  {
   "cell_type": "markdown",
   "metadata": {
    "id": "8FTBryPnJrUa",
    "pycharm": {
     "name": "#%% md\n"
    }
   },
   "source": [
    "### Creating vocab"
   ]
  },
  {
   "cell_type": "code",
   "execution_count": 20,
   "metadata": {
    "ExecuteTime": {
     "end_time": "2021-04-07T08:58:53.239644Z",
     "start_time": "2021-04-07T08:58:53.146858Z"
    },
    "id": "j6jBsOu6JrUa",
    "pycharm": {
     "name": "#%%\n"
    }
   },
   "outputs": [],
   "source": [
    "max_document_length = d['text'].str.len().max()  # each sentence has until 100 words\n",
    "max_size = 5000\n",
    "Text = data.Field(batch_first=True, tokenize=lambda x: x, include_lengths=True, fix_length=max_document_length)\n",
    "Label = data.Field(sequential=False, use_vocab=False, pad_token=None, unk_token=None)\n",
    "fields = [('text', Text), ('labels', Label)]"
   ]
  },
  {
   "cell_type": "code",
   "execution_count": 21,
   "metadata": {
    "ExecuteTime": {
     "end_time": "2021-04-07T08:59:09.865306Z",
     "start_time": "2021-04-07T08:58:53.241623Z"
    },
    "colab": {
     "base_uri": "https://localhost:8080/",
     "height": 0
    },
    "id": "DOIRUDjzJrUa",
    "outputId": "4208296e-8ea5-4400-b3a6-33ca240af3c5",
    "pycharm": {
     "name": "#%%\n"
    }
   },
   "outputs": [
    {
     "data": {
      "text/plain": [
       "{'text': ['country',\n",
       "  'forward',\n",
       "  'economy',\n",
       "  'remove',\n",
       "  'poverty',\n",
       "  'protect',\n",
       "  'country',\n",
       "  'remove',\n",
       "  'modi',\n",
       "  'shri'],\n",
       " 'labels': 1}"
      ]
     },
     "execution_count": 21,
     "metadata": {},
     "output_type": "execute_result"
    }
   ],
   "source": [
    "class DataFrameDataset(data.Dataset):\n",
    "\n",
    "    def __init__(self, df, text_field, label_field, is_test=False, **kwargs):\n",
    "        fields = [('text', text_field), ('labels', label_field)]\n",
    "        examples = []\n",
    "        for i, row in df.iterrows():\n",
    "            label = row.sentiment\n",
    "            text = row.text\n",
    "            examples.append(data.Example.fromlist([text, label], fields))\n",
    "\n",
    "        super().__init__(examples, fields, **kwargs)\n",
    "\n",
    "    @staticmethod\n",
    "    def sort_key(ex):\n",
    "        return len(ex.text)\n",
    "\n",
    "    @classmethod\n",
    "    def splits(cls, text_field, label_field, train_df, test_df=None, **kwargs):\n",
    "        train_data, test_data = (None, None)\n",
    "\n",
    "        if train_df is not None:\n",
    "            train_data = cls(train_df.copy(), text_field, label_field, **kwargs)\n",
    "        if test_df is not None:\n",
    "            test_data = cls(test_df.copy(), text_field, label_field, True, **kwargs)\n",
    "\n",
    "        return tuple(d for d in (train_data, test_data) if d is not None)\n",
    "test_size = 0.2 # split percentage to train\\validation data\n",
    "X_train,X_test,y_train,y_test = train_test_split(d['text'].index,d['sentiment'], test_size=test_size, random_state=0, stratify=d['sentiment'])\n",
    "train_df = d.loc[X_train.values]\n",
    "test_df = d.loc[X_test.values]\n",
    "train_ds, test_ds = DataFrameDataset.splits(\n",
    "    text_field=Text, label_field=Label, train_df=train_df, test_df=test_df)\n",
    "vars(test_ds[0])"
   ]
  },
  {
   "cell_type": "markdown",
   "metadata": {
    "id": "-rzlLLUsKDPJ"
   },
   "source": [
    "### Checking how balance is our testset in comparison to trainset"
   ]
  },
  {
   "cell_type": "code",
   "execution_count": 22,
   "metadata": {
    "ExecuteTime": {
     "end_time": "2021-04-07T08:59:09.895307Z",
     "start_time": "2021-04-07T08:59:09.870311Z"
    },
    "colab": {
     "base_uri": "https://localhost:8080/",
     "height": 0
    },
    "id": "8fU_1ta2JuSZ",
    "outputId": "d17b0efb-4eb0-47c7-cf3c-a18f2aac91e0"
   },
   "outputs": [
    {
     "data": {
      "text/html": [
       "<div>\n",
       "<style scoped>\n",
       "    .dataframe tbody tr th:only-of-type {\n",
       "        vertical-align: middle;\n",
       "    }\n",
       "\n",
       "    .dataframe tbody tr th {\n",
       "        vertical-align: top;\n",
       "    }\n",
       "\n",
       "    .dataframe thead th {\n",
       "        text-align: right;\n",
       "    }\n",
       "</style>\n",
       "<table border=\"1\" class=\"dataframe\">\n",
       "  <thead>\n",
       "    <tr style=\"text-align: right;\">\n",
       "      <th></th>\n",
       "      <th>text</th>\n",
       "    </tr>\n",
       "    <tr>\n",
       "      <th>sentiment</th>\n",
       "      <th></th>\n",
       "    </tr>\n",
       "  </thead>\n",
       "  <tbody>\n",
       "    <tr>\n",
       "      <th>0</th>\n",
       "      <td>34.421928</td>\n",
       "    </tr>\n",
       "    <tr>\n",
       "      <th>1</th>\n",
       "      <td>44.208927</td>\n",
       "    </tr>\n",
       "    <tr>\n",
       "      <th>2</th>\n",
       "      <td>21.369144</td>\n",
       "    </tr>\n",
       "  </tbody>\n",
       "</table>\n",
       "</div>"
      ],
      "text/plain": [
       "                text\n",
       "sentiment           \n",
       "0          34.421928\n",
       "1          44.208927\n",
       "2          21.369144"
      ]
     },
     "execution_count": 22,
     "metadata": {},
     "output_type": "execute_result"
    }
   ],
   "source": [
    "test_df.groupby('sentiment').count()/test_df['sentiment'].count()*100"
   ]
  },
  {
   "cell_type": "code",
   "execution_count": 23,
   "metadata": {
    "ExecuteTime": {
     "end_time": "2021-04-07T08:59:09.991304Z",
     "start_time": "2021-04-07T08:59:09.907305Z"
    },
    "colab": {
     "base_uri": "https://localhost:8080/",
     "height": 0
    },
    "id": "W-8DkMpgJ8Nz",
    "outputId": "f121690e-6d06-41d5-db5d-f2027e6d0662"
   },
   "outputs": [
    {
     "data": {
      "text/html": [
       "<div>\n",
       "<style scoped>\n",
       "    .dataframe tbody tr th:only-of-type {\n",
       "        vertical-align: middle;\n",
       "    }\n",
       "\n",
       "    .dataframe tbody tr th {\n",
       "        vertical-align: top;\n",
       "    }\n",
       "\n",
       "    .dataframe thead th {\n",
       "        text-align: right;\n",
       "    }\n",
       "</style>\n",
       "<table border=\"1\" class=\"dataframe\">\n",
       "  <thead>\n",
       "    <tr style=\"text-align: right;\">\n",
       "      <th></th>\n",
       "      <th>text</th>\n",
       "    </tr>\n",
       "    <tr>\n",
       "      <th>sentiment</th>\n",
       "      <th></th>\n",
       "    </tr>\n",
       "  </thead>\n",
       "  <tbody>\n",
       "    <tr>\n",
       "      <th>0</th>\n",
       "      <td>34.423089</td>\n",
       "    </tr>\n",
       "    <tr>\n",
       "      <th>1</th>\n",
       "      <td>44.206720</td>\n",
       "    </tr>\n",
       "    <tr>\n",
       "      <th>2</th>\n",
       "      <td>21.370192</td>\n",
       "    </tr>\n",
       "  </tbody>\n",
       "</table>\n",
       "</div>"
      ],
      "text/plain": [
       "                text\n",
       "sentiment           \n",
       "0          34.423089\n",
       "1          44.206720\n",
       "2          21.370192"
      ]
     },
     "execution_count": 23,
     "metadata": {},
     "output_type": "execute_result"
    }
   ],
   "source": [
    "train_df.groupby('sentiment').count()/train_df['sentiment'].count()*100"
   ]
  },
  {
   "cell_type": "code",
   "execution_count": 24,
   "metadata": {
    "ExecuteTime": {
     "end_time": "2021-04-07T08:59:10.070301Z",
     "start_time": "2021-04-07T08:59:09.993303Z"
    },
    "colab": {
     "base_uri": "https://localhost:8080/",
     "height": 0
    },
    "id": "SFHEes6ewWpa",
    "outputId": "33340cb6-d56a-445c-a706-9e307893beae",
    "pycharm": {
     "name": "#%%\n"
    }
   },
   "outputs": [
    {
     "name": "stdout",
     "output_type": "stream",
     "text": [
      "1.452513476244202 1.1310497647449287 2.339707604700941\n"
     ]
    }
   ],
   "source": [
    "items = train_df.groupby('sentiment').count().to_numpy()\n",
    "neu, pos, neg = items[0][0], items[1][0], items[2][0]\n",
    "total = train_df.count()[0]\n",
    "weight_for_0 = (1 / neu)*(total)/2.0\n",
    "weight_for_1 = (1 / pos)*(total)/2.0\n",
    "weight_for_2 = (1 / neg)*(total)/2.0\n",
    "print(weight_for_0, weight_for_1, weight_for_2)"
   ]
  },
  {
   "cell_type": "code",
   "execution_count": 25,
   "metadata": {
    "ExecuteTime": {
     "end_time": "2021-04-07T08:59:11.211867Z",
     "start_time": "2021-04-07T08:59:10.073305Z"
    },
    "id": "L4QWhGExJrUb",
    "pycharm": {
     "name": "#%%\n"
    }
   },
   "outputs": [],
   "source": [
    "Text.build_vocab(train_ds, test_ds, max_size=max_size)\n",
    "Label.build_vocab(train_ds)\n",
    "vocab_size = len(Text.vocab)"
   ]
  },
  {
   "cell_type": "code",
   "execution_count": 26,
   "metadata": {
    "ExecuteTime": {
     "end_time": "2021-04-07T08:59:11.227868Z",
     "start_time": "2021-04-07T08:59:11.219871Z"
    },
    "id": "Fm69dUmTJrUb",
    "pycharm": {
     "name": "#%%\n"
    }
   },
   "outputs": [],
   "source": [
    "PAD_IND = Text.vocab.stoi['pad']\n",
    "# captum\n",
    "token_reference = TokenReferenceBase(reference_token_idx=PAD_IND) # create a reference (aka baseline) for the sentences and its constituent parts, tokens"
   ]
  },
  {
   "cell_type": "markdown",
   "metadata": {
    "id": "f5xCcMgXJrUb",
    "pycharm": {
     "name": "#%% md\n"
    }
   },
   "source": [
    "## Defining model"
   ]
  },
  {
   "cell_type": "code",
   "execution_count": 27,
   "metadata": {
    "ExecuteTime": {
     "end_time": "2021-04-07T08:59:11.258869Z",
     "start_time": "2021-04-07T08:59:11.234869Z"
    },
    "colab": {
     "base_uri": "https://localhost:8080/",
     "height": 0
    },
    "id": "jjpQpWbkJrUb",
    "outputId": "881b9715-4db1-47cd-9260-1c3111ad7eed",
    "pycharm": {
     "name": "#%%\n"
    }
   },
   "outputs": [
    {
     "data": {
      "text/plain": [
       "device(type='cpu')"
      ]
     },
     "execution_count": 27,
     "metadata": {},
     "output_type": "execute_result"
    }
   ],
   "source": [
    "device = torch.device('cuda' if torch.cuda.is_available() else 'cpu')\n",
    "device"
   ]
  },
  {
   "cell_type": "code",
   "execution_count": 28,
   "metadata": {
    "ExecuteTime": {
     "end_time": "2021-04-07T08:59:11.306865Z",
     "start_time": "2021-04-07T08:59:11.267870Z"
    },
    "id": "zFri3ivlJrUc",
    "pycharm": {
     "name": "#%%\n"
    }
   },
   "outputs": [],
   "source": [
    "from torch.nn.utils.rnn import pack_padded_sequence, pad_packed_sequence\n",
    "class LSTM(nn.Module):\n",
    "\n",
    "    # define all the layers used in model\n",
    "    def __init__(self, vocab_size, embedding_dim, hidden_dim1, hidden_dim2, output_dim, n_layers,\n",
    "                 bidirectional, dropout, pad_index):\n",
    "        # Constructor\n",
    "        super().__init__()\n",
    "        self.n_layers = n_layers\n",
    "        self.hidden_dim1 = hidden_dim1\n",
    "        self.bidirectional = bidirectional\n",
    "        # embedding layer\n",
    "        self.embedding = nn.Embedding(vocab_size, embedding_dim, padding_idx = pad_index)\n",
    "\n",
    "        # lstm layer\n",
    "        self.lstm = nn.LSTM(embedding_dim,\n",
    "                            hidden_dim1,\n",
    "                            num_layers=n_layers,\n",
    "                            bidirectional=bidirectional,\n",
    "                            batch_first=True)\n",
    "        self.fc1 = nn.Linear(hidden_dim1 * 2, hidden_dim2)\n",
    "        self.fc2 = nn.Linear(hidden_dim2, output_dim)\n",
    "        self.relu = nn.SELU()\n",
    "        self.dropout = nn.Dropout(dropout)\n",
    "        self.dropout1 = nn.Dropout(dropout)\n",
    "        # activation function\n",
    "        self.act = nn.Softmax() #\\ F.log_softmax(outp)\n",
    "\n",
    "    def forward(self, text, text_lengths, hid=None):\n",
    "        # text = [batch size,sent_length]\n",
    "        if hid == None:\n",
    "            hid = self.init_hidden(text.shape[0])\n",
    "        embedded = self.embedding(text)\n",
    "        # embedded = [batch size, sent_len, emb dim]\n",
    "\n",
    "        # packed sequence\n",
    "        packed_embedded = pack_padded_sequence(embedded, text_lengths.cpu(), batch_first=True) # unpad\n",
    "\n",
    "        packed_output, (hidden, cell) = self.lstm(packed_embedded, hid)\n",
    "        # packed_output shape = (batch, seq_len, num_directions * hidden_size)\n",
    "        # hidden shape  = (num_layers * num_directions, batch, hidden_size)\n",
    "\n",
    "        # concat the final forward and backward hidden state\n",
    "        cat = torch.cat((hidden[-2, :, :], hidden[-1, :, :]), dim=1)\n",
    "        # output, output_lengths = pad_packed_sequence(packed_output)  # pad the sequence to the max length in the batch\n",
    "        cat = self.dropout1(cat)\n",
    "        rel = self.relu(cat)\n",
    "        dense1 = self.fc1(rel)\n",
    "\n",
    "        drop = self.dropout(dense1)\n",
    "        preds = self.fc2(drop)\n",
    "\n",
    "        # Final activation function\n",
    "        # preds = self.act(preds)\n",
    "        # preds = preds.argmax(dim=1).unsqueeze(0)\n",
    "        return preds, (hidden, cell)\n",
    "    \n",
    "    def init_hidden(self, batch_size):\n",
    "        ''' Initializes hidden state '''\n",
    "        # Create two new tensors with sizes n_layers x batch_size x n_hidden,\n",
    "        # initialized to zero, for hidden state and cell state of LSTM\n",
    "        weight = next(self.parameters()).data\n",
    "\n",
    "        hidden = (torch.zeros(self.n_layers*(2 if self.bidirectional else 1), batch_size, self.hidden_dim1).to(device),\n",
    "                  torch.zeros(self.n_layers*(2 if self.bidirectional else 1), batch_size, self.hidden_dim1).to(device))\n",
    "\n",
    "        return hidden"
   ]
  },
  {
   "cell_type": "code",
   "execution_count": 29,
   "metadata": {
    "ExecuteTime": {
     "end_time": "2021-04-07T08:59:11.400866Z",
     "start_time": "2021-04-07T08:59:11.309869Z"
    },
    "colab": {
     "base_uri": "https://localhost:8080/",
     "height": 0
    },
    "id": "2zLwnk5UJrUg",
    "outputId": "546c7eae-8e0a-40f7-c01c-55dc26ec6f52",
    "pycharm": {
     "name": "#%%\n"
    }
   },
   "outputs": [
    {
     "name": "stdout",
     "output_type": "stream",
     "text": [
      "LSTM(\n",
      "  (embedding): Embedding(5002, 361, padding_idx=1)\n",
      "  (lstm): LSTM(361, 117, num_layers=2, batch_first=True, bidirectional=True)\n",
      "  (fc1): Linear(in_features=234, out_features=85, bias=True)\n",
      "  (fc2): Linear(in_features=85, out_features=3, bias=True)\n",
      "  (relu): SELU()\n",
      "  (dropout): Dropout(p=0.48209457439897463, inplace=False)\n",
      "  (dropout1): Dropout(p=0.48209457439897463, inplace=False)\n",
      "  (act): Softmax(dim=None)\n",
      ")\n"
     ]
    }
   ],
   "source": [
    "\n",
    "# hyper-parameters:\n",
    "lr = 0.0011204927661213097\n",
    "batch_size = 50\n",
    "dropout_keep_prob = 0.48209457439897463\n",
    "embedding_size = 361\n",
    "seed = 0\n",
    "clip=5\n",
    "num_classes = 3\n",
    "num_hidden_nodes = 117\n",
    "hidden_dim2 = 85\n",
    "num_layers = 2  # LSTM layers\n",
    "bi_directional = True\n",
    "num_epochs = 7\n",
    "\n",
    "parameters = [sherpa.Discrete('num_hidden_nodes', [64, 128]),\n",
    "              sherpa.Discrete('embedding_size', [300, 800]),\n",
    "              sherpa.Discrete('hidden_dim2', [64, 128]),\n",
    "              sherpa.Continuous('lr',[1e-6,1e-2]),\n",
    "              sherpa.Continuous('dropout_keep_prob',[0.4,0.8])]\n",
    "algorithm= sherpa.algorithms.Genetic(max_num_trials=50)\n",
    "pad_index = Text.vocab.stoi[Text.pad_token]\n",
    "\n",
    "# Build the model\n",
    "lstm_model = LSTM(vocab_size, embedding_size, num_hidden_nodes, hidden_dim2 , num_classes, num_layers,\n",
    "                  bi_directional, dropout_keep_prob, pad_index)\n",
    "lstm_model.to(device)\n",
    "print(lstm_model)"
   ]
  },
  {
   "cell_type": "markdown",
   "metadata": {
    "id": "ZLmmdfsyJrUk",
    "pycharm": {
     "name": "#%% md\n"
    }
   },
   "source": [
    "## training the model"
   ]
  },
  {
   "cell_type": "code",
   "execution_count": 30,
   "metadata": {
    "ExecuteTime": {
     "end_time": "2021-04-07T08:59:11.416866Z",
     "start_time": "2021-04-07T08:59:11.403868Z"
    },
    "id": "tESutgn6JrUk",
    "pycharm": {
     "name": "#%%\n"
    }
   },
   "outputs": [],
   "source": [
    "train_iterator, test_iterator = data.BucketIterator.splits((train_ds, test_ds),\n",
    "                                                           batch_size=batch_size,\n",
    "                                                           sort_key=lambda x: len(x.text),\n",
    "                                                           # Sort the batches by text length size\n",
    "                                                           sort_within_batch=True,\n",
    "                                                           device=device,\n",
    "                                                           )"
   ]
  },
  {
   "cell_type": "code",
   "execution_count": 31,
   "metadata": {
    "ExecuteTime": {
     "end_time": "2021-04-07T08:59:11.464870Z",
     "start_time": "2021-04-07T08:59:11.419867Z"
    },
    "id": "Ne_LiAoSJrUk",
    "pycharm": {
     "name": "#%%\n"
    }
   },
   "outputs": [],
   "source": [
    "report_pred_test =[]\n",
    "report_label_test =[]\n",
    "\n",
    "report_pred_train =[]\n",
    "report_label_train =[]\n",
    "def accuracy(probs, target):\n",
    "    winners = probs.argmax(dim=1)\n",
    "    corrects = (winners == target)\n",
    "    accuracy = corrects.sum().float() / float(target.size(0))\n",
    "    return accuracy\n",
    "\n",
    "def plot_cm(y_true, y_pred, target_names):\n",
    "    cm = confusion_matrix(y_true, y_pred, labels=target_names)\n",
    "    plt.figure(figsize=(5,5))\n",
    "    sb.heatmap(cm, annot=True, fmt=\"d\")\n",
    "    plt.title('Confusion matrix')\n",
    "    plt.ylabel('Actual label')\n",
    "    plt.xlabel('Predicted label')\n",
    "\n",
    "def train(model, iterator, optimizer, criterion):\n",
    "    epoch_loss = 0\n",
    "    epoch_acc = 0\n",
    "\n",
    "    model.train()\n",
    "    h = model.init_hidden(batch_size)\n",
    "    for batch in iterator:\n",
    "        optimizer.zero_grad()\n",
    "        # zero accumulated gradients\n",
    "        model.zero_grad()\n",
    "        # retrieve text and no. of words\n",
    "        text, text_lengths = batch.text\n",
    "        if (text.shape[0], text.shape[1]) != (batch_size, max_document_length):\n",
    "            continue\n",
    "\n",
    "        # Creating new variables for the hidden state, otherwise\n",
    "        # we'd backprop through the entire training history\n",
    "        h = tuple([each.data for each in h])\n",
    "\n",
    "        predictions, h = model(text, text_lengths, h)\n",
    "        loss = criterion(predictions, batch.labels.squeeze())\n",
    "\n",
    "        acc = accuracy(predictions, batch.labels)\n",
    "\n",
    "        # perform backpropagation\n",
    "        loss.backward()\n",
    "        # `clip_grad_norm` helps prevent the exploding gradient problem in RNNs / LSTMs.\n",
    "        nn.utils.clip_grad_norm_(model.parameters(), clip)\n",
    "        optimizer.step()\n",
    "\n",
    "        epoch_loss += loss.item()\n",
    "        epoch_acc += acc.item()\n",
    "\n",
    "    return epoch_loss / len(iterator), epoch_acc / len(iterator)\n",
    "\n",
    "def evaluate(model, iterator, criterion, report=False):\n",
    "    epoch_loss = 0\n",
    "    epoch_acc = 0\n",
    "    \n",
    "\n",
    "    model.eval()\n",
    "    val_h = model.init_hidden(batch_size)\n",
    "    with torch.no_grad():\n",
    "        for batch in iterator:\n",
    "            text, text_lengths = batch.text\n",
    "            if (text.shape[0], text.shape[1]) != (batch_size, max_document_length):\n",
    "                continue\n",
    "\n",
    "            # Creating new variables for the hidden state, otherwise\n",
    "            # we'd backprop through the entire training history\n",
    "            val_h = tuple([each.data for each in val_h])\n",
    "\n",
    "            predictions, val_h = model(text, text_lengths, val_h)\n",
    "\n",
    "            loss = criterion(predictions, batch.labels)\n",
    "\n",
    "            acc = accuracy(predictions, batch.labels)\n",
    "            if report:\n",
    "                report_pred_test.extend(predictions.argmax(dim=1).cpu())\n",
    "                report_label_test.extend(batch.labels.cpu())\n",
    "\n",
    "            epoch_loss += loss.item()\n",
    "            epoch_acc += acc.item()\n",
    "    if report:\n",
    "        print(classification_report(report_label_test, report_pred_test, target_names=['neutral', 'positive', 'negative']))\n",
    "        plot_cm(report_label_test, report_pred_test, target_names=[0, 1, 2])\n",
    "\n",
    "    return epoch_loss / len(iterator), epoch_acc / len(iterator)\n",
    "\n",
    "\n",
    "def run_train(epochs, model, train_iterator, valid_iterator, optimizer, criterion, study=None, trial=None):\n",
    "    best_valid_loss = float('inf')\n",
    "\n",
    "    for epoch in range(epochs):\n",
    "\n",
    "        # train the model\n",
    "        train_loss, train_acc = train(model, train_iterator, optimizer, criterion)\n",
    "\n",
    "        # evaluate the model\n",
    "        valid_loss, valid_acc = evaluate(model, valid_iterator, criterion)\n",
    "        \n",
    "        # save the best model\n",
    "        if valid_loss < best_valid_loss:\n",
    "            best_valid_loss = valid_loss\n",
    "            torch.save(model.state_dict(), 'checkpoint/twitter.t7')\n",
    "\n",
    "        print(f'\\tTrain Loss: {train_loss:.3f} | Train Acc: {train_acc * 100:.2f}%')\n",
    "        print(f'\\t Val. Loss: {valid_loss:.3f} |  Val. Acc: {valid_acc * 100:.2f}%')\n",
    "        if study != None:\n",
    "          study.add_observation(trial=trial,\n",
    "                          iteration=epoch,\n",
    "                          objective=valid_loss)\n",
    "          if study.should_trial_stop(trial):\n",
    "            break "
   ]
  },
  {
   "cell_type": "code",
   "execution_count": 33,
   "metadata": {
    "ExecuteTime": {
     "end_time": "2021-04-07T08:59:50.393162Z",
     "start_time": "2021-04-07T08:59:50.379164Z"
    },
    "id": "aPadIekjJrUl",
    "pycharm": {
     "name": "#%%\n"
    }
   },
   "outputs": [],
   "source": [
    "# loss function\n",
    "loss_func = nn.CrossEntropyLoss()\n",
    "optimizer = torch.optim.Adam(lstm_model.parameters(), lr=lr)"
   ]
  },
  {
   "cell_type": "markdown",
   "metadata": {},
   "source": [
    "> Run this cell if you want to train the model with default parameters"
   ]
  },
  {
   "cell_type": "code",
   "execution_count": 29,
   "metadata": {
    "colab": {
     "base_uri": "https://localhost:8080/",
     "height": 680
    },
    "id": "r9ILuYmE4PEQ",
    "outputId": "3d080712-f016-4fef-a9d9-e5d9b8d8ccd5"
   },
   "outputs": [
    {
     "name": "stdout",
     "output_type": "stream",
     "text": [
      "\tTrain Loss: 0.648 | Train Acc: 74.37%\n",
      "\t Val. Loss: 0.528 |  Val. Acc: 80.83%\n",
      "\tTrain Loss: 0.520 | Train Acc: 81.65%\n",
      "\t Val. Loss: 0.505 |  Val. Acc: 82.19%\n",
      "\tTrain Loss: 0.487 | Train Acc: 82.75%\n",
      "\t Val. Loss: 0.508 |  Val. Acc: 82.72%\n",
      "\tTrain Loss: 0.459 | Train Acc: 83.70%\n",
      "\t Val. Loss: 0.506 |  Val. Acc: 82.51%\n",
      "\tTrain Loss: 0.428 | Train Acc: 84.79%\n",
      "\t Val. Loss: 0.523 |  Val. Acc: 81.96%\n",
      "\tTrain Loss: 0.392 | Train Acc: 85.94%\n",
      "\t Val. Loss: 0.552 |  Val. Acc: 81.39%\n",
      "\tTrain Loss: 0.356 | Train Acc: 87.17%\n",
      "\t Val. Loss: 0.606 |  Val. Acc: 80.55%\n",
      "\tTrain Loss: 0.320 | Train Acc: 88.43%\n",
      "\t Val. Loss: 0.630 |  Val. Acc: 80.52%\n",
      "\tTrain Loss: 0.283 | Train Acc: 89.79%\n",
      "\t Val. Loss: 0.656 |  Val. Acc: 80.15%\n",
      "\tTrain Loss: 0.253 | Train Acc: 91.01%\n",
      "\t Val. Loss: 0.747 |  Val. Acc: 80.09%\n",
      "\tTrain Loss: 0.228 | Train Acc: 91.97%\n",
      "\t Val. Loss: 0.758 |  Val. Acc: 79.64%\n"
     ]
    },
    {
     "ename": "KeyboardInterrupt",
     "evalue": "ignored",
     "output_type": "error",
     "traceback": [
      "\u001b[0;31m---------------------------------------------------------------------------\u001b[0m",
      "\u001b[0;31mKeyboardInterrupt\u001b[0m                         Traceback (most recent call last)",
      "\u001b[0;32m<ipython-input-29-8395ce2faaf6>\u001b[0m in \u001b[0;36m<module>\u001b[0;34m()\u001b[0m\n\u001b[0;32m----> 1\u001b[0;31m \u001b[0mrun_train\u001b[0m\u001b[0;34m(\u001b[0m\u001b[0mnum_epochs\u001b[0m\u001b[0;34m,\u001b[0m \u001b[0mlstm_model\u001b[0m\u001b[0;34m,\u001b[0m \u001b[0mtrain_iterator\u001b[0m\u001b[0;34m,\u001b[0m \u001b[0mtest_iterator\u001b[0m\u001b[0;34m,\u001b[0m \u001b[0moptimizer\u001b[0m\u001b[0;34m,\u001b[0m \u001b[0mloss_func\u001b[0m\u001b[0;34m)\u001b[0m\u001b[0;34m\u001b[0m\u001b[0;34m\u001b[0m\u001b[0m\n\u001b[0m",
      "\u001b[0;32m<ipython-input-27-ebc1c9bdfa16>\u001b[0m in \u001b[0;36mrun_train\u001b[0;34m(epochs, model, train_iterator, valid_iterator, optimizer, criterion, study, trial)\u001b[0m\n\u001b[1;32m     90\u001b[0m \u001b[0;34m\u001b[0m\u001b[0m\n\u001b[1;32m     91\u001b[0m         \u001b[0;31m# train the model\u001b[0m\u001b[0;34m\u001b[0m\u001b[0;34m\u001b[0m\u001b[0;34m\u001b[0m\u001b[0m\n\u001b[0;32m---> 92\u001b[0;31m         \u001b[0mtrain_loss\u001b[0m\u001b[0;34m,\u001b[0m \u001b[0mtrain_acc\u001b[0m \u001b[0;34m=\u001b[0m \u001b[0mtrain\u001b[0m\u001b[0;34m(\u001b[0m\u001b[0mmodel\u001b[0m\u001b[0;34m,\u001b[0m \u001b[0mtrain_iterator\u001b[0m\u001b[0;34m,\u001b[0m \u001b[0moptimizer\u001b[0m\u001b[0;34m,\u001b[0m \u001b[0mcriterion\u001b[0m\u001b[0;34m)\u001b[0m\u001b[0;34m\u001b[0m\u001b[0;34m\u001b[0m\u001b[0m\n\u001b[0m\u001b[1;32m     93\u001b[0m \u001b[0;34m\u001b[0m\u001b[0m\n\u001b[1;32m     94\u001b[0m         \u001b[0;31m# evaluate the model\u001b[0m\u001b[0;34m\u001b[0m\u001b[0;34m\u001b[0m\u001b[0;34m\u001b[0m\u001b[0m\n",
      "\u001b[0;32m<ipython-input-27-ebc1c9bdfa16>\u001b[0m in \u001b[0;36mtrain\u001b[0;34m(model, iterator, optimizer, criterion)\u001b[0m\n\u001b[1;32m     40\u001b[0m         \u001b[0mloss\u001b[0m\u001b[0;34m.\u001b[0m\u001b[0mbackward\u001b[0m\u001b[0;34m(\u001b[0m\u001b[0;34m)\u001b[0m\u001b[0;34m\u001b[0m\u001b[0;34m\u001b[0m\u001b[0m\n\u001b[1;32m     41\u001b[0m         \u001b[0;31m# `clip_grad_norm` helps prevent the exploding gradient problem in RNNs / LSTMs.\u001b[0m\u001b[0;34m\u001b[0m\u001b[0;34m\u001b[0m\u001b[0;34m\u001b[0m\u001b[0m\n\u001b[0;32m---> 42\u001b[0;31m         \u001b[0mnn\u001b[0m\u001b[0;34m.\u001b[0m\u001b[0mutils\u001b[0m\u001b[0;34m.\u001b[0m\u001b[0mclip_grad_norm_\u001b[0m\u001b[0;34m(\u001b[0m\u001b[0mmodel\u001b[0m\u001b[0;34m.\u001b[0m\u001b[0mparameters\u001b[0m\u001b[0;34m(\u001b[0m\u001b[0;34m)\u001b[0m\u001b[0;34m,\u001b[0m \u001b[0mclip\u001b[0m\u001b[0;34m)\u001b[0m\u001b[0;34m\u001b[0m\u001b[0;34m\u001b[0m\u001b[0m\n\u001b[0m\u001b[1;32m     43\u001b[0m         \u001b[0moptimizer\u001b[0m\u001b[0;34m.\u001b[0m\u001b[0mstep\u001b[0m\u001b[0;34m(\u001b[0m\u001b[0;34m)\u001b[0m\u001b[0;34m\u001b[0m\u001b[0;34m\u001b[0m\u001b[0m\n\u001b[1;32m     44\u001b[0m \u001b[0;34m\u001b[0m\u001b[0m\n",
      "\u001b[0;32m/usr/local/lib/python3.7/dist-packages/torch/nn/utils/clip_grad.py\u001b[0m in \u001b[0;36mclip_grad_norm_\u001b[0;34m(parameters, max_norm, norm_type)\u001b[0m\n\u001b[1;32m     34\u001b[0m         \u001b[0mtotal_norm\u001b[0m \u001b[0;34m=\u001b[0m \u001b[0mmax\u001b[0m\u001b[0;34m(\u001b[0m\u001b[0mp\u001b[0m\u001b[0;34m.\u001b[0m\u001b[0mgrad\u001b[0m\u001b[0;34m.\u001b[0m\u001b[0mdetach\u001b[0m\u001b[0;34m(\u001b[0m\u001b[0;34m)\u001b[0m\u001b[0;34m.\u001b[0m\u001b[0mabs\u001b[0m\u001b[0;34m(\u001b[0m\u001b[0;34m)\u001b[0m\u001b[0;34m.\u001b[0m\u001b[0mmax\u001b[0m\u001b[0;34m(\u001b[0m\u001b[0;34m)\u001b[0m\u001b[0;34m.\u001b[0m\u001b[0mto\u001b[0m\u001b[0;34m(\u001b[0m\u001b[0mdevice\u001b[0m\u001b[0;34m)\u001b[0m \u001b[0;32mfor\u001b[0m \u001b[0mp\u001b[0m \u001b[0;32min\u001b[0m \u001b[0mparameters\u001b[0m\u001b[0;34m)\u001b[0m\u001b[0;34m\u001b[0m\u001b[0;34m\u001b[0m\u001b[0m\n\u001b[1;32m     35\u001b[0m     \u001b[0;32melse\u001b[0m\u001b[0;34m:\u001b[0m\u001b[0;34m\u001b[0m\u001b[0;34m\u001b[0m\u001b[0m\n\u001b[0;32m---> 36\u001b[0;31m         \u001b[0mtotal_norm\u001b[0m \u001b[0;34m=\u001b[0m \u001b[0mtorch\u001b[0m\u001b[0;34m.\u001b[0m\u001b[0mnorm\u001b[0m\u001b[0;34m(\u001b[0m\u001b[0mtorch\u001b[0m\u001b[0;34m.\u001b[0m\u001b[0mstack\u001b[0m\u001b[0;34m(\u001b[0m\u001b[0;34m[\u001b[0m\u001b[0mtorch\u001b[0m\u001b[0;34m.\u001b[0m\u001b[0mnorm\u001b[0m\u001b[0;34m(\u001b[0m\u001b[0mp\u001b[0m\u001b[0;34m.\u001b[0m\u001b[0mgrad\u001b[0m\u001b[0;34m.\u001b[0m\u001b[0mdetach\u001b[0m\u001b[0;34m(\u001b[0m\u001b[0;34m)\u001b[0m\u001b[0;34m,\u001b[0m \u001b[0mnorm_type\u001b[0m\u001b[0;34m)\u001b[0m\u001b[0;34m.\u001b[0m\u001b[0mto\u001b[0m\u001b[0;34m(\u001b[0m\u001b[0mdevice\u001b[0m\u001b[0;34m)\u001b[0m \u001b[0;32mfor\u001b[0m \u001b[0mp\u001b[0m \u001b[0;32min\u001b[0m \u001b[0mparameters\u001b[0m\u001b[0;34m]\u001b[0m\u001b[0;34m)\u001b[0m\u001b[0;34m,\u001b[0m \u001b[0mnorm_type\u001b[0m\u001b[0;34m)\u001b[0m\u001b[0;34m\u001b[0m\u001b[0;34m\u001b[0m\u001b[0m\n\u001b[0m\u001b[1;32m     37\u001b[0m     \u001b[0mclip_coef\u001b[0m \u001b[0;34m=\u001b[0m \u001b[0mmax_norm\u001b[0m \u001b[0;34m/\u001b[0m \u001b[0;34m(\u001b[0m\u001b[0mtotal_norm\u001b[0m \u001b[0;34m+\u001b[0m \u001b[0;36m1e-6\u001b[0m\u001b[0;34m)\u001b[0m\u001b[0;34m\u001b[0m\u001b[0;34m\u001b[0m\u001b[0m\n\u001b[1;32m     38\u001b[0m     \u001b[0;32mif\u001b[0m \u001b[0mclip_coef\u001b[0m \u001b[0;34m<\u001b[0m \u001b[0;36m1\u001b[0m\u001b[0;34m:\u001b[0m\u001b[0;34m\u001b[0m\u001b[0;34m\u001b[0m\u001b[0m\n",
      "\u001b[0;32m/usr/local/lib/python3.7/dist-packages/torch/nn/utils/clip_grad.py\u001b[0m in \u001b[0;36m<listcomp>\u001b[0;34m(.0)\u001b[0m\n\u001b[1;32m     34\u001b[0m         \u001b[0mtotal_norm\u001b[0m \u001b[0;34m=\u001b[0m \u001b[0mmax\u001b[0m\u001b[0;34m(\u001b[0m\u001b[0mp\u001b[0m\u001b[0;34m.\u001b[0m\u001b[0mgrad\u001b[0m\u001b[0;34m.\u001b[0m\u001b[0mdetach\u001b[0m\u001b[0;34m(\u001b[0m\u001b[0;34m)\u001b[0m\u001b[0;34m.\u001b[0m\u001b[0mabs\u001b[0m\u001b[0;34m(\u001b[0m\u001b[0;34m)\u001b[0m\u001b[0;34m.\u001b[0m\u001b[0mmax\u001b[0m\u001b[0;34m(\u001b[0m\u001b[0;34m)\u001b[0m\u001b[0;34m.\u001b[0m\u001b[0mto\u001b[0m\u001b[0;34m(\u001b[0m\u001b[0mdevice\u001b[0m\u001b[0;34m)\u001b[0m \u001b[0;32mfor\u001b[0m \u001b[0mp\u001b[0m \u001b[0;32min\u001b[0m \u001b[0mparameters\u001b[0m\u001b[0;34m)\u001b[0m\u001b[0;34m\u001b[0m\u001b[0;34m\u001b[0m\u001b[0m\n\u001b[1;32m     35\u001b[0m     \u001b[0;32melse\u001b[0m\u001b[0;34m:\u001b[0m\u001b[0;34m\u001b[0m\u001b[0;34m\u001b[0m\u001b[0m\n\u001b[0;32m---> 36\u001b[0;31m         \u001b[0mtotal_norm\u001b[0m \u001b[0;34m=\u001b[0m \u001b[0mtorch\u001b[0m\u001b[0;34m.\u001b[0m\u001b[0mnorm\u001b[0m\u001b[0;34m(\u001b[0m\u001b[0mtorch\u001b[0m\u001b[0;34m.\u001b[0m\u001b[0mstack\u001b[0m\u001b[0;34m(\u001b[0m\u001b[0;34m[\u001b[0m\u001b[0mtorch\u001b[0m\u001b[0;34m.\u001b[0m\u001b[0mnorm\u001b[0m\u001b[0;34m(\u001b[0m\u001b[0mp\u001b[0m\u001b[0;34m.\u001b[0m\u001b[0mgrad\u001b[0m\u001b[0;34m.\u001b[0m\u001b[0mdetach\u001b[0m\u001b[0;34m(\u001b[0m\u001b[0;34m)\u001b[0m\u001b[0;34m,\u001b[0m \u001b[0mnorm_type\u001b[0m\u001b[0;34m)\u001b[0m\u001b[0;34m.\u001b[0m\u001b[0mto\u001b[0m\u001b[0;34m(\u001b[0m\u001b[0mdevice\u001b[0m\u001b[0;34m)\u001b[0m \u001b[0;32mfor\u001b[0m \u001b[0mp\u001b[0m \u001b[0;32min\u001b[0m \u001b[0mparameters\u001b[0m\u001b[0;34m]\u001b[0m\u001b[0;34m)\u001b[0m\u001b[0;34m,\u001b[0m \u001b[0mnorm_type\u001b[0m\u001b[0;34m)\u001b[0m\u001b[0;34m\u001b[0m\u001b[0;34m\u001b[0m\u001b[0m\n\u001b[0m\u001b[1;32m     37\u001b[0m     \u001b[0mclip_coef\u001b[0m \u001b[0;34m=\u001b[0m \u001b[0mmax_norm\u001b[0m \u001b[0;34m/\u001b[0m \u001b[0;34m(\u001b[0m\u001b[0mtotal_norm\u001b[0m \u001b[0;34m+\u001b[0m \u001b[0;36m1e-6\u001b[0m\u001b[0;34m)\u001b[0m\u001b[0;34m\u001b[0m\u001b[0;34m\u001b[0m\u001b[0m\n\u001b[1;32m     38\u001b[0m     \u001b[0;32mif\u001b[0m \u001b[0mclip_coef\u001b[0m \u001b[0;34m<\u001b[0m \u001b[0;36m1\u001b[0m\u001b[0;34m:\u001b[0m\u001b[0;34m\u001b[0m\u001b[0;34m\u001b[0m\u001b[0m\n",
      "\u001b[0;32m/usr/local/lib/python3.7/dist-packages/torch/functional.py\u001b[0m in \u001b[0;36mnorm\u001b[0;34m(input, p, dim, keepdim, out, dtype)\u001b[0m\n\u001b[1;32m   1374\u001b[0m         \u001b[0;32mif\u001b[0m \u001b[0;32mnot\u001b[0m \u001b[0misinstance\u001b[0m\u001b[0;34m(\u001b[0m\u001b[0mp\u001b[0m\u001b[0;34m,\u001b[0m \u001b[0mstr\u001b[0m\u001b[0;34m)\u001b[0m\u001b[0;34m:\u001b[0m\u001b[0;34m\u001b[0m\u001b[0;34m\u001b[0m\u001b[0m\n\u001b[1;32m   1375\u001b[0m             \u001b[0m_dim\u001b[0m \u001b[0;34m=\u001b[0m \u001b[0;34m[\u001b[0m\u001b[0mi\u001b[0m \u001b[0;32mfor\u001b[0m \u001b[0mi\u001b[0m \u001b[0;32min\u001b[0m \u001b[0mrange\u001b[0m\u001b[0;34m(\u001b[0m\u001b[0mndim\u001b[0m\u001b[0;34m)\u001b[0m\u001b[0;34m]\u001b[0m  \u001b[0;31m# noqa: C416 TODO: rewrite as list(range(m))\u001b[0m\u001b[0;34m\u001b[0m\u001b[0;34m\u001b[0m\u001b[0m\n\u001b[0;32m-> 1376\u001b[0;31m             \u001b[0;32mreturn\u001b[0m \u001b[0m_VF\u001b[0m\u001b[0;34m.\u001b[0m\u001b[0mnorm\u001b[0m\u001b[0;34m(\u001b[0m\u001b[0minput\u001b[0m\u001b[0;34m,\u001b[0m \u001b[0mp\u001b[0m\u001b[0;34m,\u001b[0m \u001b[0mdim\u001b[0m\u001b[0;34m=\u001b[0m\u001b[0m_dim\u001b[0m\u001b[0;34m,\u001b[0m \u001b[0mkeepdim\u001b[0m\u001b[0;34m=\u001b[0m\u001b[0mkeepdim\u001b[0m\u001b[0;34m)\u001b[0m  \u001b[0;31m# type: ignore\u001b[0m\u001b[0;34m\u001b[0m\u001b[0;34m\u001b[0m\u001b[0m\n\u001b[0m\u001b[1;32m   1377\u001b[0m \u001b[0;34m\u001b[0m\u001b[0m\n\u001b[1;32m   1378\u001b[0m     \u001b[0;31m# TODO: when https://github.com/pytorch/pytorch/issues/33782 is fixed\u001b[0m\u001b[0;34m\u001b[0m\u001b[0;34m\u001b[0m\u001b[0;34m\u001b[0m\u001b[0m\n",
      "\u001b[0;31mKeyboardInterrupt\u001b[0m: "
     ]
    }
   ],
   "source": [
    "run_train(num_epochs, lstm_model, train_iterator, test_iterator, optimizer, loss_func)"
   ]
  },
  {
   "cell_type": "markdown",
   "metadata": {},
   "source": [
    "### Hyperparameter Tuning"
   ]
  },
  {
   "cell_type": "markdown",
   "metadata": {},
   "source": [
    "> Run this cell if you want to fine tune the model parameters"
   ]
  },
  {
   "cell_type": "code",
   "execution_count": null,
   "metadata": {
    "id": "wlRLwH6Kav-o"
   },
   "outputs": [],
   "source": [
    "study = sherpa.Study(parameters=parameters,\n",
    "                     algorithm=algorithm,\n",
    "                     lower_is_better=True)\n",
    "for trial in study:\n",
    "    print(\"Trial {}:\\t{}\".format(trial.id, trial.parameters))\n",
    "    lstm_model = LSTM(vocab_size, trial.parameters['embedding_size'], trial.parameters['num_hidden_nodes'], trial.parameters['hidden_dim2'] , num_classes, num_layers,\n",
    "                  bi_directional, trial.parameters['dropout_keep_prob'], pad_index)\n",
    "    lstm_model.to(device)\n",
    "    print(lstm_model)\n",
    "    optimizer = torch.optim.Adam(lstm_model.parameters(), lr=trial.parameters['lr'])\n",
    "    run_train(num_epochs, lstm_model, train_iterator, test_iterator, optimizer, loss_func, study, trial)\n",
    "    study.finalize(trial=trial)"
   ]
  },
  {
   "cell_type": "markdown",
   "metadata": {},
   "source": [
    "> run this cell to set the best parameters"
   ]
  },
  {
   "cell_type": "code",
   "execution_count": null,
   "metadata": {
    "id": "1M3eT4p7197o"
   },
   "outputs": [],
   "source": [
    "print(study.get_best_result())\n",
    "lr = study.get_best_result()['lr']\n",
    "dropout_keep_prob = study.get_best_result()['dropout_keep_prob']\n",
    "embedding_size = study.get_best_result()['embedding_size']\n",
    "num_hidden_nodes = study.get_best_result()['num_hidden_nodes']\n",
    "hidden_dim2 = study.get_best_result()['hidden_dim2']\n",
    "num_epochs = 100"
   ]
  },
  {
   "cell_type": "markdown",
   "metadata": {},
   "source": [
    "### Training"
   ]
  },
  {
   "cell_type": "markdown",
   "metadata": {},
   "source": [
    "> run this cell to train the model again with best parameters"
   ]
  },
  {
   "cell_type": "code",
   "execution_count": null,
   "metadata": {
    "id": "IXSVKXpkJrUl",
    "pycharm": {
     "name": "#%%\n"
    }
   },
   "outputs": [],
   "source": [
    "run_train(num_epochs, lstm_model, train_iterator, test_iterator, optimizer, loss_func)"
   ]
  },
  {
   "cell_type": "markdown",
   "metadata": {},
   "source": [
    "### Evaluation"
   ]
  },
  {
   "cell_type": "code",
   "execution_count": 34,
   "metadata": {
    "ExecuteTime": {
     "end_time": "2021-04-07T09:00:17.219970Z",
     "start_time": "2021-04-07T08:59:57.778508Z"
    },
    "colab": {
     "base_uri": "https://localhost:8080/",
     "height": 537
    },
    "id": "zNhQggYQJrUm",
    "outputId": "976cdbe1-fc04-4ed8-9d2b-1724a6346e10",
    "pycharm": {
     "name": "#%%\n"
    }
   },
   "outputs": [
    {
     "name": "stdout",
     "output_type": "stream",
     "text": [
      "              precision    recall  f1-score   support\n",
      "\n",
      "     neutral       0.78      0.91      0.84      9970\n",
      "    positive       0.91      0.79      0.84     12798\n",
      "    negative       0.78      0.78      0.78      6182\n",
      "\n",
      "    accuracy                           0.83     28950\n",
      "   macro avg       0.82      0.82      0.82     28950\n",
      "weighted avg       0.84      0.83      0.83     28950\n",
      "\n",
      "Test Loss: 0.495 | Test Acc: 82.58%\n"
     ]
    },
    {
     "data": {
      "image/png": "[encoded data removed]",
      "text/plain": [
       "<Figure size 360x360 with 2 Axes>"
      ]
     },
     "metadata": {
      "needs_background": "light"
     },
     "output_type": "display_data"
    }
   ],
   "source": [
    "lstm_model.load_state_dict(torch.load('checkpoint/twitter.t7', map_location=device))\n",
    "# predict\n",
    "test_loss, test_acc = evaluate(lstm_model, test_iterator, loss_func, report=True)\n",
    "print(f'Test Loss: {test_loss:.3f} | Test Acc: {test_acc * 100:.2f}%')"
   ]
  },
  {
   "cell_type": "markdown",
   "metadata": {
    "id": "ocDF29euwWph"
   },
   "source": [
    "If the model is predicted perfectly confusion matrix should be diagonal which indicates values off the main diagonal representing incorrect prediction is zero"
   ]
  },
  {
   "cell_type": "markdown",
   "metadata": {
    "id": "2C02kTb7RT7Y"
   },
   "source": [
    "### Ploting the ROC"
   ]
  },
  {
   "cell_type": "code",
   "execution_count": 35,
   "metadata": {
    "ExecuteTime": {
     "end_time": "2021-04-07T09:00:17.252004Z",
     "start_time": "2021-04-07T09:00:17.223972Z"
    },
    "id": "tEPjRV2mRaNC"
   },
   "outputs": [],
   "source": [
    "def plot_roc(name, labels, predictions, **kwargs):\n",
    "  fpr = dict()\n",
    "  tpr = dict()\n",
    "  roc_auc = dict()\n",
    "\n",
    "  for i in range(num_classes):\n",
    "      fpr[i], tpr[i], _ = roc_curve(np.array(np.eye(num_classes,num_classes)[labels])[:, i], np.array(np.eye(num_classes,num_classes)[predictions])[:, i])\n",
    "      roc_auc[i] = auc(fpr[i], tpr[i])\n",
    "\n",
    "\n",
    "  all_fpr = np.unique(np.concatenate([fpr[i] for i in range(num_classes)]))\n",
    "\n",
    "  mean_tpr = np.zeros_like(all_fpr)\n",
    "  for i in range(num_classes):\n",
    "      mean_tpr += interp(all_fpr, fpr[i], tpr[i])\n",
    "\n",
    "  mean_tpr /= num_classes\n",
    "\n",
    "  fpr[\"macro\"] = all_fpr\n",
    "  tpr[\"macro\"] = mean_tpr\n",
    "  roc_auc[\"macro\"] = auc(fpr[\"macro\"], tpr[\"macro\"])\n",
    "\n",
    "  lw=2\n",
    "  plt.figure(figsize=(10,7))\n",
    "  plt.plot(fpr[\"macro\"], tpr[\"macro\"],\n",
    "          label='macro-average ROC curve (area = {0:0.2f})'\n",
    "                ''.format(roc_auc[\"macro\"]),\n",
    "          color='green', linestyle=':', linewidth=4)\n",
    "\n",
    "  colors = cycle(['aqua', 'darkorange', 'cornflowerblue'])\n",
    "  for i, color in zip(range(num_classes), colors):\n",
    "      plt.plot(fpr[i], tpr[i], color=color, lw=lw,\n",
    "              label='ROC curve of class {0} (area = {1:0.2f})'\n",
    "              ''.format(i, roc_auc[i]), **kwargs)\n",
    "\n",
    "  plt.plot([0, 1], [0, 1],color='red', lw=lw, **kwargs)\n",
    "  plt.xlim([0.0, 1.0])\n",
    "  plt.ylim([0.0, 1.05])\n",
    "  plt.annotate(name,(.5,.48),color='red')\n",
    "  plt.xlabel('False Positive Rate')\n",
    "  plt.ylabel('True Positive Rate')\n",
    "  plt.title('Receiver Operating Characteristic for Model')\n",
    "  plt.grid(True)\n",
    "  ax = plt.gca()\n",
    "  ax.set_aspect('equal')"
   ]
  },
  {
   "cell_type": "code",
   "execution_count": 36,
   "metadata": {
    "ExecuteTime": {
     "end_time": "2021-04-07T09:00:18.106165Z",
     "start_time": "2021-04-07T09:00:17.254971Z"
    },
    "colab": {
     "base_uri": "https://localhost:8080/",
     "height": 475
    },
    "id": "vMdx-5SORfJk",
    "outputId": "88de8fb6-13ab-46d2-c66b-ecf97e92ca29"
   },
   "outputs": [
    {
     "data": {
      "text/plain": [
       "<matplotlib.legend.Legend at 0x1c44f5df6c8>"
      ]
     },
     "execution_count": 36,
     "metadata": {},
     "output_type": "execute_result"
    },
    {
     "data": {
      "image/png": "[encoded data removed]",
      "text/plain": [
       "<Figure size 720x504 with 1 Axes>"
      ]
     },
     "metadata": {
      "needs_background": "light"
     },
     "output_type": "display_data"
    }
   ],
   "source": [
    "plot_roc(\"Test Baseline\", report_label_test, report_pred_test, linestyle='--')\n",
    "plt.legend(loc=\"lower right\")"
   ]
  },
  {
   "cell_type": "markdown",
   "metadata": {
    "id": "Z5poLy0ybCkw"
   },
   "source": [
    "The ideal case of `ROC` is when it has an `inverse L` meaning classes are greatly separated with an `AUC` of 1 under the curve.\n",
    "\n",
    "Here `AUC` of near 0.9 and curl is almost `inverse L` shaped which indicates it has a good measure of separability. This graph also conveys model's strength is on class-0 `neutral` tweets"
   ]
  },
  {
   "cell_type": "markdown",
   "metadata": {
    "id": "QifVxbhqJrUm",
    "pycharm": {
     "name": "#%% md\n"
    }
   },
   "source": [
    "## Visualizing the model"
   ]
  },
  {
   "cell_type": "code",
   "execution_count": 51,
   "metadata": {
    "ExecuteTime": {
     "end_time": "2021-04-07T09:01:44.365151Z",
     "start_time": "2021-04-07T09:01:44.342156Z"
    },
    "id": "gH1wMUQVJrUm",
    "pycharm": {
     "name": "#%%\n"
    }
   },
   "outputs": [],
   "source": [
    "vis_data_records_ig = []\n",
    "def forward(input, text_length):\n",
    "    return F.softmax(lstm_model(input, text_length)[0])\n",
    "lig = LayerIntegratedGradients(forward, lstm_model.embedding)\n",
    "def interpret_sentence(model, sentence, min_len = max_document_length, label = 0):\n",
    "    model.train()\n",
    "    h = model.init_hidden(1)\n",
    "    h500 = model.init_hidden(500)\n",
    "    text = preprocess(sentence)\n",
    "    actual_len = len(text)\n",
    "    if len(text) < min_len:\n",
    "        text += ['<pad>'] * (min_len - len(text))\n",
    "    indexed = [Text.vocab.stoi[t] for t in text]\n",
    "\n",
    "    model.zero_grad()\n",
    "\n",
    "    input_indices = torch.tensor(indexed, device=device)\n",
    "    input_indices = input_indices.unsqueeze(0)\n",
    "    text_length = torch.tensor([actual_len], device=device)\n",
    "    # input_indices dim: [sequence_length]\n",
    "    seq_length = min_len\n",
    "\n",
    "    # predict\n",
    "    pred = F.softmax(model(input_indices, text_length, h)[0]).argmax(dim=1).item()\n",
    "    pred_ind = round(pred)\n",
    "\n",
    "    # generate reference indices for each sample\n",
    "    reference_indices = token_reference.generate_reference(seq_length, device=device).unsqueeze(0)\n",
    "\n",
    "    # compute attributions and approximation delta using layer integrated gradients\n",
    "    attributions_ig, delta = lig.attribute(input_indices, reference_indices,\n",
    "                                           n_steps=500,target=2-label, return_convergence_delta=True, additional_forward_args=text_length)\n",
    "\n",
    "    print(sentence, 'pred: ', {1:'positive', 0: 'netural', 2: 'negative'}[pred_ind], '(', '%.2f'%pred, ')', ', delta: ', abs(delta))\n",
    "\n",
    "    add_attributions_to_visualizer(attributions_ig, text, pred, pred_ind, label, delta, vis_data_records_ig)\n",
    "\n",
    "def add_attributions_to_visualizer(attributions, text, pred, pred_ind, label, delta, vis_data_records):\n",
    "    attributions = attributions.sum(dim=2).squeeze(0)\n",
    "    attributions = attributions / torch.norm(attributions)\n",
    "    attributions = attributions.cpu().detach().numpy()\n",
    "\n",
    "\n",
    "    # storing couple samples in an array for visualization purposes\n",
    "    vis_data_records.append(visualization.VisualizationDataRecord(\n",
    "        attributions,\n",
    "        pred,\n",
    "        {1:'positive', 0: 'netural', 2: 'negative'}[pred_ind],\n",
    "        {1:'positive', 0: 'netural', 2: 'negative'}[label],\n",
    "        {1:'positive', 0: 'netural', 2: 'negative'}[label],\n",
    "        attributions.sum(),\n",
    "        text,\n",
    "        delta))"
   ]
  },
  {
   "cell_type": "markdown",
   "metadata": {},
   "source": [
    "### Attribution"
   ]
  },
  {
   "cell_type": "code",
   "execution_count": 52,
   "metadata": {
    "ExecuteTime": {
     "end_time": "2021-04-07T09:01:49.331412Z",
     "start_time": "2021-04-07T09:01:47.197656Z"
    },
    "colab": {
     "base_uri": "https://localhost:8080/",
     "height": 0
    },
    "id": "wUrqYoqLz9ks",
    "outputId": "8abb73a2-0ee6-484d-e416-b37e546f22a3",
    "pycharm": {
     "name": "#%%\n"
    }
   },
   "outputs": [
    {
     "name": "stdout",
     "output_type": "stream",
     "text": [
      "It was a fantastic performance ! pred:  positive ( 1.00 ) , delta:  tensor([0.0376], dtype=torch.float64)\n",
      "Best film ever pred:  positive ( 1.00 ) , delta:  tensor([0.0537], dtype=torch.float64)\n",
      "Such a great show! pred:  positive ( 1.00 ) , delta:  tensor([0.0426], dtype=torch.float64)\n",
      "It was a horrible movie pred:  negative ( 2.00 ) , delta:  tensor([0.0218], dtype=torch.float64)\n",
      "I've never watched something as bad pred:  negative ( 2.00 ) , delta:  tensor([0.0536], dtype=torch.float64)\n",
      "It is a disgusting movie! pred:  negative ( 2.00 ) , delta:  tensor([0.0383], dtype=torch.float64)\n",
      "ok pred:  netural ( 0.00 ) , delta:  tensor([0.0444], dtype=torch.float64)\n"
     ]
    }
   ],
   "source": [
    "interpret_sentence(lstm_model, 'It was a fantastic performance !', label=1)\n",
    "interpret_sentence(lstm_model, 'Best film ever', label=1)\n",
    "interpret_sentence(lstm_model, 'Such a great show!', label=1)\n",
    "interpret_sentence(lstm_model, 'It was a horrible movie', label=2)\n",
    "interpret_sentence(lstm_model, 'I\\'ve never watched something as bad', label=2)\n",
    "interpret_sentence(lstm_model, 'It is a disgusting movie!', label=2)\n",
    "interpret_sentence(lstm_model, 'ok', label=0)"
   ]
  },
  {
   "cell_type": "code",
   "execution_count": 53,
   "metadata": {
    "ExecuteTime": {
     "end_time": "2021-04-07T09:01:56.797134Z",
     "start_time": "2021-04-07T09:01:56.785102Z"
    },
    "colab": {
     "base_uri": "https://localhost:8080/",
     "height": 383
    },
    "id": "4pQF5kz7PN3f",
    "outputId": "4eebc70a-0ebc-4b12-eee5-c8876eb3f790"
   },
   "outputs": [
    {
     "data": {
      "text/html": [
       "<table width: 100%><div style=\"border-top: 1px solid; margin-top: 5px;             padding-top: 5px; display: inline-block\"><b>Legend: </b><span style=\"display: inline-block; width: 10px; height: 10px;                 border: 1px solid; background-color:                 hsl(0, 75%, 60%)\"></span> Negative  <span style=\"display: inline-block; width: 10px; height: 10px;                 border: 1px solid; background-color:                 hsl(0, 75%, 100%)\"></span> Neutral  <span style=\"display: inline-block; width: 10px; height: 10px;                 border: 1px solid; background-color:                 hsl(120, 75%, 50%)\"></span> Positive  </div><tr><th>True Label</th><th>Predicted Label</th><th>Attribution Label</th><th>Attribution Score</th><th>Word Importance</th><tr><td><text style=\"padding-right:2em\"><b>positive</b></text></td><td><text style=\"padding-right:2em\"><b>positive (1.00)</b></text></td><td><text style=\"padding-right:2em\"><b>positive</b></text></td><td><text style=\"padding-right:2em\"><b>1.05</b></text></td><td><mark style=\"background-color: hsl(0, 75%, 100%); opacity:1.0;                     line-height:1.75\"><font color=\"black\"> it                    </font></mark><mark style=\"background-color: hsl(120, 75%, 51%); opacity:1.0;                     line-height:1.75\"><font color=\"black\"> fantastic                    </font></mark><mark style=\"background-color: hsl(120, 75%, 98%); opacity:1.0;                     line-height:1.75\"><font color=\"black\"> performance                    </font></mark><mark style=\"background-color: hsl(0, 75%, 100%); opacity:1.0;                     line-height:1.75\"><font color=\"black\"> #pad                    </font></mark><mark style=\"background-color: hsl(0, 75%, 100%); opacity:1.0;                     line-height:1.75\"><font color=\"black\"> #pad                    </font></mark><mark style=\"background-color: hsl(0, 75%, 100%); opacity:1.0;                     line-height:1.75\"><font color=\"black\"> #pad                    </font></mark><mark style=\"background-color: hsl(0, 75%, 100%); opacity:1.0;                     line-height:1.75\"><font color=\"black\"> #pad                    </font></mark><mark style=\"background-color: hsl(0, 75%, 100%); opacity:1.0;                     line-height:1.75\"><font color=\"black\"> #pad                    </font></mark><mark style=\"background-color: hsl(0, 75%, 100%); opacity:1.0;                     line-height:1.75\"><font color=\"black\"> #pad                    </font></mark><mark style=\"background-color: hsl(0, 75%, 100%); opacity:1.0;                     line-height:1.75\"><font color=\"black\"> #pad                    </font></mark><mark style=\"background-color: hsl(0, 75%, 100%); opacity:1.0;                     line-height:1.75\"><font color=\"black\"> #pad                    </font></mark><mark style=\"background-color: hsl(0, 75%, 100%); opacity:1.0;                     line-height:1.75\"><font color=\"black\"> #pad                    </font></mark><mark style=\"background-color: hsl(0, 75%, 100%); opacity:1.0;                     line-height:1.75\"><font color=\"black\"> #pad                    </font></mark><mark style=\"background-color: hsl(0, 75%, 100%); opacity:1.0;                     line-height:1.75\"><font color=\"black\"> #pad                    </font></mark><mark style=\"background-color: hsl(0, 75%, 100%); opacity:1.0;                     line-height:1.75\"><font color=\"black\"> #pad                    </font></mark><mark style=\"background-color: hsl(0, 75%, 100%); opacity:1.0;                     line-height:1.75\"><font color=\"black\"> #pad                    </font></mark><mark style=\"background-color: hsl(0, 75%, 100%); opacity:1.0;                     line-height:1.75\"><font color=\"black\"> #pad                    </font></mark><mark style=\"background-color: hsl(0, 75%, 100%); opacity:1.0;                     line-height:1.75\"><font color=\"black\"> #pad                    </font></mark><mark style=\"background-color: hsl(0, 75%, 100%); opacity:1.0;                     line-height:1.75\"><font color=\"black\"> #pad                    </font></mark><mark style=\"background-color: hsl(0, 75%, 100%); opacity:1.0;                     line-height:1.75\"><font color=\"black\"> #pad                    </font></mark><mark style=\"background-color: hsl(0, 75%, 100%); opacity:1.0;                     line-height:1.75\"><font color=\"black\"> #pad                    </font></mark><mark style=\"background-color: hsl(0, 75%, 100%); opacity:1.0;                     line-height:1.75\"><font color=\"black\"> #pad                    </font></mark><mark style=\"background-color: hsl(0, 75%, 100%); opacity:1.0;                     line-height:1.75\"><font color=\"black\"> #pad                    </font></mark></td><tr><tr><td><text style=\"padding-right:2em\"><b>positive</b></text></td><td><text style=\"padding-right:2em\"><b>positive (1.00)</b></text></td><td><text style=\"padding-right:2em\"><b>positive</b></text></td><td><text style=\"padding-right:2em\"><b>1.03</b></text></td><td><mark style=\"background-color: hsl(120, 75%, 51%); opacity:1.0;                     line-height:1.75\"><font color=\"black\"> best                    </font></mark><mark style=\"background-color: hsl(120, 75%, 99%); opacity:1.0;                     line-height:1.75\"><font color=\"black\"> film                    </font></mark><mark style=\"background-color: hsl(0, 75%, 100%); opacity:1.0;                     line-height:1.75\"><font color=\"black\"> #pad                    </font></mark><mark style=\"background-color: hsl(0, 75%, 100%); opacity:1.0;                     line-height:1.75\"><font color=\"black\"> #pad                    </font></mark><mark style=\"background-color: hsl(0, 75%, 100%); opacity:1.0;                     line-height:1.75\"><font color=\"black\"> #pad                    </font></mark><mark style=\"background-color: hsl(0, 75%, 100%); opacity:1.0;                     line-height:1.75\"><font color=\"black\"> #pad                    </font></mark><mark style=\"background-color: hsl(0, 75%, 100%); opacity:1.0;                     line-height:1.75\"><font color=\"black\"> #pad                    </font></mark><mark style=\"background-color: hsl(0, 75%, 100%); opacity:1.0;                     line-height:1.75\"><font color=\"black\"> #pad                    </font></mark><mark style=\"background-color: hsl(0, 75%, 100%); opacity:1.0;                     line-height:1.75\"><font color=\"black\"> #pad                    </font></mark><mark style=\"background-color: hsl(0, 75%, 100%); opacity:1.0;                     line-height:1.75\"><font color=\"black\"> #pad                    </font></mark><mark style=\"background-color: hsl(0, 75%, 100%); opacity:1.0;                     line-height:1.75\"><font color=\"black\"> #pad                    </font></mark><mark style=\"background-color: hsl(0, 75%, 100%); opacity:1.0;                     line-height:1.75\"><font color=\"black\"> #pad                    </font></mark><mark style=\"background-color: hsl(0, 75%, 100%); opacity:1.0;                     line-height:1.75\"><font color=\"black\"> #pad                    </font></mark><mark style=\"background-color: hsl(0, 75%, 100%); opacity:1.0;                     line-height:1.75\"><font color=\"black\"> #pad                    </font></mark><mark style=\"background-color: hsl(0, 75%, 100%); opacity:1.0;                     line-height:1.75\"><font color=\"black\"> #pad                    </font></mark><mark style=\"background-color: hsl(0, 75%, 100%); opacity:1.0;                     line-height:1.75\"><font color=\"black\"> #pad                    </font></mark><mark style=\"background-color: hsl(0, 75%, 100%); opacity:1.0;                     line-height:1.75\"><font color=\"black\"> #pad                    </font></mark><mark style=\"background-color: hsl(0, 75%, 100%); opacity:1.0;                     line-height:1.75\"><font color=\"black\"> #pad                    </font></mark><mark style=\"background-color: hsl(0, 75%, 100%); opacity:1.0;                     line-height:1.75\"><font color=\"black\"> #pad                    </font></mark><mark style=\"background-color: hsl(0, 75%, 100%); opacity:1.0;                     line-height:1.75\"><font color=\"black\"> #pad                    </font></mark><mark style=\"background-color: hsl(0, 75%, 100%); opacity:1.0;                     line-height:1.75\"><font color=\"black\"> #pad                    </font></mark><mark style=\"background-color: hsl(0, 75%, 100%); opacity:1.0;                     line-height:1.75\"><font color=\"black\"> #pad                    </font></mark><mark style=\"background-color: hsl(0, 75%, 100%); opacity:1.0;                     line-height:1.75\"><font color=\"black\"> #pad                    </font></mark></td><tr><tr><td><text style=\"padding-right:2em\"><b>positive</b></text></td><td><text style=\"padding-right:2em\"><b>positive (1.00)</b></text></td><td><text style=\"padding-right:2em\"><b>positive</b></text></td><td><text style=\"padding-right:2em\"><b>1.01</b></text></td><td><mark style=\"background-color: hsl(0, 75%, 100%); opacity:1.0;                     line-height:1.75\"><font color=\"black\"> such                    </font></mark><mark style=\"background-color: hsl(120, 75%, 51%); opacity:1.0;                     line-height:1.75\"><font color=\"black\"> great                    </font></mark><mark style=\"background-color: hsl(120, 75%, 100%); opacity:1.0;                     line-height:1.75\"><font color=\"black\"> show                    </font></mark><mark style=\"background-color: hsl(0, 75%, 100%); opacity:1.0;                     line-height:1.75\"><font color=\"black\"> #pad                    </font></mark><mark style=\"background-color: hsl(0, 75%, 100%); opacity:1.0;                     line-height:1.75\"><font color=\"black\"> #pad                    </font></mark><mark style=\"background-color: hsl(0, 75%, 100%); opacity:1.0;                     line-height:1.75\"><font color=\"black\"> #pad                    </font></mark><mark style=\"background-color: hsl(0, 75%, 100%); opacity:1.0;                     line-height:1.75\"><font color=\"black\"> #pad                    </font></mark><mark style=\"background-color: hsl(0, 75%, 100%); opacity:1.0;                     line-height:1.75\"><font color=\"black\"> #pad                    </font></mark><mark style=\"background-color: hsl(0, 75%, 100%); opacity:1.0;                     line-height:1.75\"><font color=\"black\"> #pad                    </font></mark><mark style=\"background-color: hsl(0, 75%, 100%); opacity:1.0;                     line-height:1.75\"><font color=\"black\"> #pad                    </font></mark><mark style=\"background-color: hsl(0, 75%, 100%); opacity:1.0;                     line-height:1.75\"><font color=\"black\"> #pad                    </font></mark><mark style=\"background-color: hsl(0, 75%, 100%); opacity:1.0;                     line-height:1.75\"><font color=\"black\"> #pad                    </font></mark><mark style=\"background-color: hsl(0, 75%, 100%); opacity:1.0;                     line-height:1.75\"><font color=\"black\"> #pad                    </font></mark><mark style=\"background-color: hsl(0, 75%, 100%); opacity:1.0;                     line-height:1.75\"><font color=\"black\"> #pad                    </font></mark><mark style=\"background-color: hsl(0, 75%, 100%); opacity:1.0;                     line-height:1.75\"><font color=\"black\"> #pad                    </font></mark><mark style=\"background-color: hsl(0, 75%, 100%); opacity:1.0;                     line-height:1.75\"><font color=\"black\"> #pad                    </font></mark><mark style=\"background-color: hsl(0, 75%, 100%); opacity:1.0;                     line-height:1.75\"><font color=\"black\"> #pad                    </font></mark><mark style=\"background-color: hsl(0, 75%, 100%); opacity:1.0;                     line-height:1.75\"><font color=\"black\"> #pad                    </font></mark><mark style=\"background-color: hsl(0, 75%, 100%); opacity:1.0;                     line-height:1.75\"><font color=\"black\"> #pad                    </font></mark><mark style=\"background-color: hsl(0, 75%, 100%); opacity:1.0;                     line-height:1.75\"><font color=\"black\"> #pad                    </font></mark><mark style=\"background-color: hsl(0, 75%, 100%); opacity:1.0;                     line-height:1.75\"><font color=\"black\"> #pad                    </font></mark><mark style=\"background-color: hsl(0, 75%, 100%); opacity:1.0;                     line-height:1.75\"><font color=\"black\"> #pad                    </font></mark><mark style=\"background-color: hsl(0, 75%, 100%); opacity:1.0;                     line-height:1.75\"><font color=\"black\"> #pad                    </font></mark></td><tr><tr><td><text style=\"padding-right:2em\"><b>negative</b></text></td><td><text style=\"padding-right:2em\"><b>negative (2.00)</b></text></td><td><text style=\"padding-right:2em\"><b>negative</b></text></td><td><text style=\"padding-right:2em\"><b>-1.05</b></text></td><td><mark style=\"background-color: hsl(0, 75%, 100%); opacity:1.0;                     line-height:1.75\"><font color=\"black\"> it                    </font></mark><mark style=\"background-color: hsl(0, 75%, 61%); opacity:1.0;                     line-height:1.75\"><font color=\"black\"> horrible                    </font></mark><mark style=\"background-color: hsl(0, 75%, 99%); opacity:1.0;                     line-height:1.75\"><font color=\"black\"> movie                    </font></mark><mark style=\"background-color: hsl(0, 75%, 100%); opacity:1.0;                     line-height:1.75\"><font color=\"black\"> #pad                    </font></mark><mark style=\"background-color: hsl(0, 75%, 100%); opacity:1.0;                     line-height:1.75\"><font color=\"black\"> #pad                    </font></mark><mark style=\"background-color: hsl(0, 75%, 100%); opacity:1.0;                     line-height:1.75\"><font color=\"black\"> #pad                    </font></mark><mark style=\"background-color: hsl(0, 75%, 100%); opacity:1.0;                     line-height:1.75\"><font color=\"black\"> #pad                    </font></mark><mark style=\"background-color: hsl(0, 75%, 100%); opacity:1.0;                     line-height:1.75\"><font color=\"black\"> #pad                    </font></mark><mark style=\"background-color: hsl(0, 75%, 100%); opacity:1.0;                     line-height:1.75\"><font color=\"black\"> #pad                    </font></mark><mark style=\"background-color: hsl(0, 75%, 100%); opacity:1.0;                     line-height:1.75\"><font color=\"black\"> #pad                    </font></mark><mark style=\"background-color: hsl(0, 75%, 100%); opacity:1.0;                     line-height:1.75\"><font color=\"black\"> #pad                    </font></mark><mark style=\"background-color: hsl(0, 75%, 100%); opacity:1.0;                     line-height:1.75\"><font color=\"black\"> #pad                    </font></mark><mark style=\"background-color: hsl(0, 75%, 100%); opacity:1.0;                     line-height:1.75\"><font color=\"black\"> #pad                    </font></mark><mark style=\"background-color: hsl(0, 75%, 100%); opacity:1.0;                     line-height:1.75\"><font color=\"black\"> #pad                    </font></mark><mark style=\"background-color: hsl(0, 75%, 100%); opacity:1.0;                     line-height:1.75\"><font color=\"black\"> #pad                    </font></mark><mark style=\"background-color: hsl(0, 75%, 100%); opacity:1.0;                     line-height:1.75\"><font color=\"black\"> #pad                    </font></mark><mark style=\"background-color: hsl(0, 75%, 100%); opacity:1.0;                     line-height:1.75\"><font color=\"black\"> #pad                    </font></mark><mark style=\"background-color: hsl(0, 75%, 100%); opacity:1.0;                     line-height:1.75\"><font color=\"black\"> #pad                    </font></mark><mark style=\"background-color: hsl(0, 75%, 100%); opacity:1.0;                     line-height:1.75\"><font color=\"black\"> #pad                    </font></mark><mark style=\"background-color: hsl(0, 75%, 100%); opacity:1.0;                     line-height:1.75\"><font color=\"black\"> #pad                    </font></mark><mark style=\"background-color: hsl(0, 75%, 100%); opacity:1.0;                     line-height:1.75\"><font color=\"black\"> #pad                    </font></mark><mark style=\"background-color: hsl(0, 75%, 100%); opacity:1.0;                     line-height:1.75\"><font color=\"black\"> #pad                    </font></mark><mark style=\"background-color: hsl(0, 75%, 100%); opacity:1.0;                     line-height:1.75\"><font color=\"black\"> #pad                    </font></mark></td><tr><tr><td><text style=\"padding-right:2em\"><b>negative</b></text></td><td><text style=\"padding-right:2em\"><b>negative (2.00)</b></text></td><td><text style=\"padding-right:2em\"><b>negative</b></text></td><td><text style=\"padding-right:2em\"><b>-1.01</b></text></td><td><mark style=\"background-color: hsl(0, 75%, 100%); opacity:1.0;                     line-height:1.75\"><font color=\"black\"> ve                    </font></mark><mark style=\"background-color: hsl(0, 75%, 100%); opacity:1.0;                     line-height:1.75\"><font color=\"black\"> watched                    </font></mark><mark style=\"background-color: hsl(0, 75%, 61%); opacity:1.0;                     line-height:1.75\"><font color=\"black\"> bad                    </font></mark><mark style=\"background-color: hsl(0, 75%, 100%); opacity:1.0;                     line-height:1.75\"><font color=\"black\"> #pad                    </font></mark><mark style=\"background-color: hsl(0, 75%, 100%); opacity:1.0;                     line-height:1.75\"><font color=\"black\"> #pad                    </font></mark><mark style=\"background-color: hsl(0, 75%, 100%); opacity:1.0;                     line-height:1.75\"><font color=\"black\"> #pad                    </font></mark><mark style=\"background-color: hsl(0, 75%, 100%); opacity:1.0;                     line-height:1.75\"><font color=\"black\"> #pad                    </font></mark><mark style=\"background-color: hsl(0, 75%, 100%); opacity:1.0;                     line-height:1.75\"><font color=\"black\"> #pad                    </font></mark><mark style=\"background-color: hsl(0, 75%, 100%); opacity:1.0;                     line-height:1.75\"><font color=\"black\"> #pad                    </font></mark><mark style=\"background-color: hsl(0, 75%, 100%); opacity:1.0;                     line-height:1.75\"><font color=\"black\"> #pad                    </font></mark><mark style=\"background-color: hsl(0, 75%, 100%); opacity:1.0;                     line-height:1.75\"><font color=\"black\"> #pad                    </font></mark><mark style=\"background-color: hsl(0, 75%, 100%); opacity:1.0;                     line-height:1.75\"><font color=\"black\"> #pad                    </font></mark><mark style=\"background-color: hsl(0, 75%, 100%); opacity:1.0;                     line-height:1.75\"><font color=\"black\"> #pad                    </font></mark><mark style=\"background-color: hsl(0, 75%, 100%); opacity:1.0;                     line-height:1.75\"><font color=\"black\"> #pad                    </font></mark><mark style=\"background-color: hsl(0, 75%, 100%); opacity:1.0;                     line-height:1.75\"><font color=\"black\"> #pad                    </font></mark><mark style=\"background-color: hsl(0, 75%, 100%); opacity:1.0;                     line-height:1.75\"><font color=\"black\"> #pad                    </font></mark><mark style=\"background-color: hsl(0, 75%, 100%); opacity:1.0;                     line-height:1.75\"><font color=\"black\"> #pad                    </font></mark><mark style=\"background-color: hsl(0, 75%, 100%); opacity:1.0;                     line-height:1.75\"><font color=\"black\"> #pad                    </font></mark><mark style=\"background-color: hsl(0, 75%, 100%); opacity:1.0;                     line-height:1.75\"><font color=\"black\"> #pad                    </font></mark><mark style=\"background-color: hsl(0, 75%, 100%); opacity:1.0;                     line-height:1.75\"><font color=\"black\"> #pad                    </font></mark><mark style=\"background-color: hsl(0, 75%, 100%); opacity:1.0;                     line-height:1.75\"><font color=\"black\"> #pad                    </font></mark><mark style=\"background-color: hsl(0, 75%, 100%); opacity:1.0;                     line-height:1.75\"><font color=\"black\"> #pad                    </font></mark><mark style=\"background-color: hsl(0, 75%, 100%); opacity:1.0;                     line-height:1.75\"><font color=\"black\"> #pad                    </font></mark></td><tr><tr><td><text style=\"padding-right:2em\"><b>negative</b></text></td><td><text style=\"padding-right:2em\"><b>negative (2.00)</b></text></td><td><text style=\"padding-right:2em\"><b>negative</b></text></td><td><text style=\"padding-right:2em\"><b>-1.02</b></text></td><td><mark style=\"background-color: hsl(0, 75%, 100%); opacity:1.0;                     line-height:1.75\"><font color=\"black\"> it                    </font></mark><mark style=\"background-color: hsl(0, 75%, 61%); opacity:1.0;                     line-height:1.75\"><font color=\"black\"> disgusting                    </font></mark><mark style=\"background-color: hsl(0, 75%, 100%); opacity:1.0;                     line-height:1.75\"><font color=\"black\"> movie                    </font></mark><mark style=\"background-color: hsl(0, 75%, 100%); opacity:1.0;                     line-height:1.75\"><font color=\"black\"> #pad                    </font></mark><mark style=\"background-color: hsl(0, 75%, 100%); opacity:1.0;                     line-height:1.75\"><font color=\"black\"> #pad                    </font></mark><mark style=\"background-color: hsl(0, 75%, 100%); opacity:1.0;                     line-height:1.75\"><font color=\"black\"> #pad                    </font></mark><mark style=\"background-color: hsl(0, 75%, 100%); opacity:1.0;                     line-height:1.75\"><font color=\"black\"> #pad                    </font></mark><mark style=\"background-color: hsl(0, 75%, 100%); opacity:1.0;                     line-height:1.75\"><font color=\"black\"> #pad                    </font></mark><mark style=\"background-color: hsl(0, 75%, 100%); opacity:1.0;                     line-height:1.75\"><font color=\"black\"> #pad                    </font></mark><mark style=\"background-color: hsl(0, 75%, 100%); opacity:1.0;                     line-height:1.75\"><font color=\"black\"> #pad                    </font></mark><mark style=\"background-color: hsl(0, 75%, 100%); opacity:1.0;                     line-height:1.75\"><font color=\"black\"> #pad                    </font></mark><mark style=\"background-color: hsl(0, 75%, 100%); opacity:1.0;                     line-height:1.75\"><font color=\"black\"> #pad                    </font></mark><mark style=\"background-color: hsl(0, 75%, 100%); opacity:1.0;                     line-height:1.75\"><font color=\"black\"> #pad                    </font></mark><mark style=\"background-color: hsl(0, 75%, 100%); opacity:1.0;                     line-height:1.75\"><font color=\"black\"> #pad                    </font></mark><mark style=\"background-color: hsl(0, 75%, 100%); opacity:1.0;                     line-height:1.75\"><font color=\"black\"> #pad                    </font></mark><mark style=\"background-color: hsl(0, 75%, 100%); opacity:1.0;                     line-height:1.75\"><font color=\"black\"> #pad                    </font></mark><mark style=\"background-color: hsl(0, 75%, 100%); opacity:1.0;                     line-height:1.75\"><font color=\"black\"> #pad                    </font></mark><mark style=\"background-color: hsl(0, 75%, 100%); opacity:1.0;                     line-height:1.75\"><font color=\"black\"> #pad                    </font></mark><mark style=\"background-color: hsl(0, 75%, 100%); opacity:1.0;                     line-height:1.75\"><font color=\"black\"> #pad                    </font></mark><mark style=\"background-color: hsl(0, 75%, 100%); opacity:1.0;                     line-height:1.75\"><font color=\"black\"> #pad                    </font></mark><mark style=\"background-color: hsl(0, 75%, 100%); opacity:1.0;                     line-height:1.75\"><font color=\"black\"> #pad                    </font></mark><mark style=\"background-color: hsl(0, 75%, 100%); opacity:1.0;                     line-height:1.75\"><font color=\"black\"> #pad                    </font></mark><mark style=\"background-color: hsl(0, 75%, 100%); opacity:1.0;                     line-height:1.75\"><font color=\"black\"> #pad                    </font></mark></td><tr><tr><td><text style=\"padding-right:2em\"><b>netural</b></text></td><td><text style=\"padding-right:2em\"><b>netural (0.00)</b></text></td><td><text style=\"padding-right:2em\"><b>netural</b></text></td><td><text style=\"padding-right:2em\"><b>nan</b></text></td><td><mark style=\"background-color: hsl(120, 75%, 50%); opacity:1.0;                     line-height:1.75\"><font color=\"black\"> ok                    </font></mark><mark style=\"background-color: hsl(120, 75%, 50%); opacity:1.0;                     line-height:1.75\"><font color=\"black\"> #pad                    </font></mark><mark style=\"background-color: hsl(120, 75%, 50%); opacity:1.0;                     line-height:1.75\"><font color=\"black\"> #pad                    </font></mark><mark style=\"background-color: hsl(120, 75%, 50%); opacity:1.0;                     line-height:1.75\"><font color=\"black\"> #pad                    </font></mark><mark style=\"background-color: hsl(120, 75%, 50%); opacity:1.0;                     line-height:1.75\"><font color=\"black\"> #pad                    </font></mark><mark style=\"background-color: hsl(120, 75%, 50%); opacity:1.0;                     line-height:1.75\"><font color=\"black\"> #pad                    </font></mark><mark style=\"background-color: hsl(120, 75%, 50%); opacity:1.0;                     line-height:1.75\"><font color=\"black\"> #pad                    </font></mark><mark style=\"background-color: hsl(120, 75%, 50%); opacity:1.0;                     line-height:1.75\"><font color=\"black\"> #pad                    </font></mark><mark style=\"background-color: hsl(120, 75%, 50%); opacity:1.0;                     line-height:1.75\"><font color=\"black\"> #pad                    </font></mark><mark style=\"background-color: hsl(120, 75%, 50%); opacity:1.0;                     line-height:1.75\"><font color=\"black\"> #pad                    </font></mark><mark style=\"background-color: hsl(120, 75%, 50%); opacity:1.0;                     line-height:1.75\"><font color=\"black\"> #pad                    </font></mark><mark style=\"background-color: hsl(120, 75%, 50%); opacity:1.0;                     line-height:1.75\"><font color=\"black\"> #pad                    </font></mark><mark style=\"background-color: hsl(120, 75%, 50%); opacity:1.0;                     line-height:1.75\"><font color=\"black\"> #pad                    </font></mark><mark style=\"background-color: hsl(120, 75%, 50%); opacity:1.0;                     line-height:1.75\"><font color=\"black\"> #pad                    </font></mark><mark style=\"background-color: hsl(120, 75%, 50%); opacity:1.0;                     line-height:1.75\"><font color=\"black\"> #pad                    </font></mark><mark style=\"background-color: hsl(120, 75%, 50%); opacity:1.0;                     line-height:1.75\"><font color=\"black\"> #pad                    </font></mark><mark style=\"background-color: hsl(120, 75%, 50%); opacity:1.0;                     line-height:1.75\"><font color=\"black\"> #pad                    </font></mark><mark style=\"background-color: hsl(120, 75%, 50%); opacity:1.0;                     line-height:1.75\"><font color=\"black\"> #pad                    </font></mark><mark style=\"background-color: hsl(120, 75%, 50%); opacity:1.0;                     line-height:1.75\"><font color=\"black\"> #pad                    </font></mark><mark style=\"background-color: hsl(120, 75%, 50%); opacity:1.0;                     line-height:1.75\"><font color=\"black\"> #pad                    </font></mark><mark style=\"background-color: hsl(120, 75%, 50%); opacity:1.0;                     line-height:1.75\"><font color=\"black\"> #pad                    </font></mark><mark style=\"background-color: hsl(120, 75%, 50%); opacity:1.0;                     line-height:1.75\"><font color=\"black\"> #pad                    </font></mark><mark style=\"background-color: hsl(120, 75%, 50%); opacity:1.0;                     line-height:1.75\"><font color=\"black\"> #pad                    </font></mark></td><tr></table>"
      ],
      "text/plain": [
       "<IPython.core.display.HTML object>"
      ]
     },
     "metadata": {},
     "output_type": "display_data"
    }
   ],
   "source": [
    "_ = visualization.visualize_text(vis_data_records_ig)"
   ]
  },
  {
   "cell_type": "code",
   "execution_count": 40,
   "metadata": {
    "ExecuteTime": {
     "end_time": "2021-04-07T09:00:20.482377Z",
     "start_time": "2021-04-07T09:00:20.470378Z"
    },
    "id": "3R8NdKcbz9kt",
    "pycharm": {
     "name": "#%%\n"
    }
   },
   "outputs": [],
   "source": [
    "vis_word = []\n",
    "colorlist= []\n",
    "def interpret_word(model, word, min_len = max_document_length, label = 0):\n",
    "    model.train()\n",
    "    text = preprocess(word)\n",
    "    actual_len = 1\n",
    "    if len(text) < min_len:\n",
    "        text += ['<pad>'] * (min_len - len(text))\n",
    "    indexed = [Text.vocab.stoi[t] for t in text]\n",
    "\n",
    "    model.zero_grad()\n",
    "\n",
    "    input_indices = torch.tensor(indexed, device=device)\n",
    "    input_indices = input_indices.unsqueeze(0)\n",
    "    text_length = torch.tensor([actual_len], device=device)\n",
    "    # input_indices dim: [sequence_length]\n",
    "    seq_length = min_len\n",
    "\n",
    "    # predict\n",
    "    pred = F.softmax(model(input_indices, text_length)[0]).cpu()\n",
    "\n",
    "\n",
    "    vis_word.append(pred.detach().numpy().squeeze(0))\n",
    "    colorlist.append({0:'#00ff00', 1: '#00ffff', 2:'#000000' }[pred.argmax(dim=1).item()])"
   ]
  },
  {
   "cell_type": "code",
   "execution_count": 41,
   "metadata": {
    "ExecuteTime": {
     "end_time": "2021-04-07T09:00:29.806542Z",
     "start_time": "2021-04-07T09:00:20.485380Z"
    },
    "id": "kMTrDK7sz9kt",
    "pycharm": {
     "name": "#%%\n"
    }
   },
   "outputs": [],
   "source": [
    "for i in Text.vocab.itos:\n",
    "    interpret_word(lstm_model, i)"
   ]
  },
  {
   "cell_type": "markdown",
   "metadata": {},
   "source": [
    "### Embedding Visualization"
   ]
  },
  {
   "cell_type": "code",
   "execution_count": 54,
   "metadata": {
    "ExecuteTime": {
     "end_time": "2021-04-07T09:02:53.009780Z",
     "start_time": "2021-04-07T09:02:26.204974Z"
    },
    "id": "ndkX6219z9kt",
    "pycharm": {
     "name": "#%%\n"
    }
   },
   "outputs": [],
   "source": [
    "from sklearn.manifold import TSNE\n",
    "tsne = TSNE(n_components=2, random_state=0)\n",
    "words_top_ted_tsne = tsne.fit_transform(vis_word)"
   ]
  },
  {
   "cell_type": "code",
   "execution_count": 55,
   "metadata": {
    "ExecuteTime": {
     "end_time": "2021-04-07T09:02:59.134060Z",
     "start_time": "2021-04-07T09:02:59.051085Z"
    },
    "colab": {
     "base_uri": "https://localhost:8080/",
     "height": 617
    },
    "id": "Yd79T06dz9kt",
    "outputId": "6e6fd75c-940d-4966-82f7-897f3dfcdfd4",
    "pycharm": {
     "name": "#%%\n"
    }
   },
   "outputs": [
    {
     "data": {
      "text/html": [
       "\n",
       "\n",
       "\n",
       "\n",
       "\n",
       "\n",
       "  <div class=\"bk-root\" id=\"4ca50f08-051c-4906-b1ce-12ab3ab46204\" data-root-id=\"1166\"></div>\n"
      ]
     },
     "metadata": {},
     "output_type": "display_data"
    },
    {
     "data": {
      "application/javascript": [
       "(function(root) {\n",
       "  function embed_document(root) {\n",
       "    \n",
       "  var docs_json = {\"8af7879a-ed1e-4d24-9a35-29162df5006f\":{\"roots\":{\"references\":[{\"attributes\":{\"below\":[{\"id\":\"1177\"}],\"center\":[{\"id\":\"1180\"},{\"id\":\"1184\"}],\"left\":[{\"id\":\"1181\"}],\"renderers\":[{\"id\":\"1198\"}],\"title\":{\"id\":\"1167\"},\"toolbar\":{\"id\":\"1189\"},\"toolbar_location\":\"above\",\"x_range\":{\"id\":\"1169\"},\"x_scale\":{\"id\":\"1173\"},\"y_range\":{\"id\":\"1171\"},\"y_scale\":{\"id\":\"1175\"}},\"id\":\"1166\",\"subtype\":\"Figure\",\"type\":\"Plot\"},{\"attributes\":{\"formatter\":{\"id\":\"1218\"},\"ticker\":{\"id\":\"1178\"}},\"id\":\"1177\",\"type\":\"LinearAxis\"},{\"attributes\":{},\"id\":\"1169\",\"type\":\"DataRange1d\"},{\"attributes\":{},\"id\":\"1186\",\"type\":\"WheelZoomTool\"},{\"attributes\":{\"formatter\":{\"id\":\"1220\"},\"ticker\":{\"id\":\"1182\"}},\"id\":\"1181\",\"type\":\"LinearAxis\"},{\"attributes\":{\"axis\":{\"id\":\"1177\"},\"ticker\":null},\"id\":\"1180\",\"type\":\"Grid\"},{\"attributes\":{\"text\":\"vector T-SNE for embeddings\"},\"id\":\"1167\",\"type\":\"Title\"},{\"attributes\":{},\"id\":\"1222\",\"type\":\"Selection\"},{\"attributes\":{\"axis\":{\"id\":\"1181\"},\"dimension\":1,\"ticker\":null},\"id\":\"1184\",\"type\":\"Grid\"},{\"attributes\":{},\"id\":\"1175\",\"type\":\"LinearScale\"},{\"attributes\":{},\"id\":\"1171\",\"type\":\"DataRange1d\"},{\"attributes\":{\"fill_color\":{\"field\":\"color\"},\"line_color\":{\"value\":\"#1f77b4\"},\"size\":{\"units\":\"screen\",\"value\":8},\"x\":{\"field\":\"x1\"},\"y\":{\"field\":\"x2\"}},\"id\":\"1196\",\"type\":\"Scatter\"},{\"attributes\":{\"data_source\":{\"id\":\"1194\"},\"glyph\":{\"id\":\"1196\"},\"hover_glyph\":null,\"muted_glyph\":null,\"nonselection_glyph\":{\"id\":\"1197\"},\"selection_glyph\":null,\"view\":{\"id\":\"1199\"}},\"id\":\"1198\",\"type\":\"GlyphRenderer\"},{\"attributes\":{\"fill_alpha\":{\"value\":0.1},\"fill_color\":{\"field\":\"color\"},\"line_alpha\":{\"value\":0.1},\"line_color\":{\"value\":\"#1f77b4\"},\"size\":{\"units\":\"screen\",\"value\":8},\"x\":{\"field\":\"x1\"},\"y\":{\"field\":\"x2\"}},\"id\":\"1197\",\"type\":\"Scatter\"},{\"attributes\":{},\"id\":\"1173\",\"type\":\"LinearScale\"},{\"attributes\":{},\"id\":\"1185\",\"type\":\"PanTool\"},{\"attributes\":{\"source\":{\"id\":\"1194\"}},\"id\":\"1199\",\"type\":\"CDSView\"},{\"attributes\":{},\"id\":\"1188\",\"type\":\"SaveTool\"},{\"attributes\":{},\"id\":\"1178\",\"type\":\"BasicTicker\"},{\"attributes\":{},\"id\":\"1220\",\"type\":\"BasicTickFormatter\"},{\"attributes\":{\"data\":{\"color\":[\"#00ff00\",\"#00ff00\",\"#00ff00\",\"#00ff00\",\"#00ff00\",\"#00ff00\",\"#00ff00\",\"#00ff00\",\"#00ff00\",\"#00ff00\",\"#00ff00\",\"#00ff00\",\"#00ff00\",\"#00ff00\",\"#00ffff\",\"#00ff00\",\"#00ff00\",\"#00ff00\",\"#00ff00\",\"#00ff00\",\"#00ff00\",\"#00ffff\",\"#00ff00\",\"#00ff00\",\"#00ff00\",\"#00ff00\",\"#00ff00\",\"#00ff00\",\"#00ff00\",\"#00ffff\",\"#00ff00\",\"#00ff00\",\"#00ff00\",\"#00ff00\",\"#00ff00\",\"#00ff00\",\"#00ff00\",\"#00ff00\",\"#00ff00\",\"#00ff00\",\"#00ff00\",\"#00ff00\",\"#00ff00\",\"#00ff00\",\"#00ff00\",\"#00ff00\",\"#00ff00\",\"#00ffff\",\"#00ff00\",\"#00ff00\",\"#00ffff\",\"#00ffff\",\"#00ff00\",\"#00ff00\",\"#00ffff\",\"#00ff00\",\"#000000\",\"#00ff00\",\"#00ff00\",\"#00ff00\",\"#00ff00\",\"#00ff00\",\"#00ff00\",\"#00ff00\",\"#00ff00\",\"#00ff00\",\"#00ffff\",\"#00ff00\",\"#00ff00\",\"#00ffff\",\"#00ffff\",\"#00ff00\",\"#00ff00\",\"#00ff00\",\"#00ff00\",\"#00ff00\",\"#00ffff\",\"#00ff00\",\"#00ff00\",\"#00ff00\",\"#00ff00\",\"#00ff00\",\"#00ff00\",\"#00ffff\",\"#00ff00\",\"#00ff00\",\"#00ff00\",\"#00ff00\",\"#00ff00\",\"#00ff00\",\"#00ff00\",\"#00ff00\",\"#00ff00\",\"#000000\",\"#00ff00\",\"#00ff00\",\"#00ffff\",\"#00ff00\",\"#00ff00\",\"#00ff00\",\"#00ff00\",\"#00ff00\",\"#00ff00\",\"#00ff00\",\"#00ff00\",\"#00ff00\",\"#00ff00\",\"#00ffff\",\"#00ff00\",\"#000000\",\"#00ff00\",\"#00ff00\",\"#00ff00\",\"#00ff00\",\"#00ff00\",\"#00ff00\",\"#00ffff\",\"#00ff00\",\"#00ff00\",\"#00ff00\",\"#00ff00\",\"#00ff00\",\"#00ff00\",\"#00ff00\",\"#00ff00\",\"#000000\",\"#00ffff\",\"#00ff00\",\"#00ff00\",\"#00ff00\",\"#00ff00\",\"#00ffff\",\"#00ffff\",\"#00ff00\",\"#00ff00\",\"#00ff00\",\"#00ff00\",\"#00ff00\",\"#00ff00\",\"#00ff00\",\"#00ff00\",\"#00ff00\",\"#00ff00\",\"#00ffff\",\"#00ff00\",\"#00ff00\",\"#00ff00\",\"#00ff00\",\"#00ff00\",\"#00ff00\",\"#00ff00\",\"#00ff00\",\"#000000\",\"#00ff00\",\"#00ff00\",\"#00ff00\",\"#00ff00\",\"#00ff00\",\"#00ff00\",\"#00ff00\",\"#00ff00\",\"#00ff00\",\"#00ff00\",\"#00ff00\",\"#00ff00\",\"#00ff00\",\"#00ff00\",\"#00ff00\",\"#00ff00\",\"#00ffff\",\"#00ff00\",\"#00ff00\",\"#00ff00\",\"#00ff00\",\"#00ff00\",\"#00ff00\",\"#00ff00\",\"#00ff00\",\"#00ff00\",\"#00ff00\",\"#00ff00\",\"#00ff00\",\"#00ffff\",\"#00ff00\",\"#00ff00\",\"#00ff00\",\"#00ff00\",\"#00ff00\",\"#00ff00\",\"#00ff00\",\"#00ff00\",\"#00ff00\",\"#000000\",\"#00ff00\",\"#00ff00\",\"#00ff00\",\"#00ff00\",\"#00ff00\",\"#000000\",\"#00ff00\",\"#00ff00\",\"#00ff00\",\"#00ffff\",\"#00ff00\",\"#00ff00\",\"#00ff00\",\"#00ff00\",\"#00ff00\",\"#00ff00\",\"#00ff00\",\"#00ff00\",\"#000000\",\"#00ff00\",\"#00ff00\",\"#00ff00\",\"#00ff00\",\"#00ffff\",\"#00ff00\",\"#00ff00\",\"#000000\",\"#00ff00\",\"#00ffff\",\"#00ffff\",\"#00ff00\",\"#00ff00\",\"#00ff00\",\"#00ff00\",\"#00ff00\",\"#00ff00\",\"#00ff00\",\"#00ff00\",\"#00ff00\",\"#00ff00\",\"#000000\",\"#00ff00\",\"#00ff00\",\"#00ff00\",\"#000000\",\"#00ff00\",\"#00ffff\",\"#00ff00\",\"#00ff00\",\"#00ff00\",\"#00ff00\",\"#00ff00\",\"#000000\",\"#00ff00\",\"#00ff00\",\"#00ff00\",\"#00ff00\",\"#00ff00\",\"#00ff00\",\"#00ff00\",\"#00ff00\",\"#00ff00\",\"#00ff00\",\"#00ffff\",\"#00ff00\",\"#00ff00\",\"#00ffff\",\"#00ff00\",\"#00ff00\",\"#00ff00\",\"#00ff00\",\"#00ff00\",\"#00ff00\",\"#00ff00\",\"#00ff00\",\"#000000\",\"#00ff00\",\"#000000\",\"#00ff00\",\"#00ff00\",\"#00ff00\",\"#00ff00\",\"#00ffff\",\"#00ff00\",\"#00ff00\",\"#00ff00\",\"#00ff00\",\"#000000\",\"#00ff00\",\"#00ff00\",\"#00ff00\",\"#00ff00\",\"#00ff00\",\"#00ff00\",\"#00ff00\",\"#00ffff\",\"#00ff00\",\"#000000\",\"#00ff00\",\"#00ff00\",\"#00ff00\",\"#00ff00\",\"#00ff00\",\"#00ff00\",\"#000000\",\"#00ff00\",\"#00ff00\",\"#00ff00\",\"#000000\",\"#00ff00\",\"#00ff00\",\"#00ff00\",\"#00ff00\",\"#00ff00\",\"#00ff00\",\"#00ff00\",\"#00ff00\",\"#00ff00\",\"#00ff00\",\"#00ffff\",\"#00ff00\",\"#00ff00\",\"#00ff00\",\"#00ffff\",\"#00ff00\",\"#00ff00\",\"#00ff00\",\"#00ff00\",\"#00ff00\",\"#00ff00\",\"#00ff00\",\"#00ffff\",\"#00ffff\",\"#00ff00\",\"#00ff00\",\"#00ffff\",\"#00ffff\",\"#00ff00\",\"#00ff00\",\"#00ffff\",\"#00ff00\",\"#00ff00\",\"#00ffff\",\"#00ff00\",\"#00ffff\",\"#00ff00\",\"#00ff00\",\"#00ff00\",\"#00ffff\",\"#00ffff\",\"#00ff00\",\"#00ff00\",\"#00ffff\",\"#00ff00\",\"#00ff00\",\"#000000\",\"#00ff00\",\"#00ff00\",\"#00ff00\",\"#00ffff\",\"#00ffff\",\"#00ff00\",\"#00ff00\",\"#00ffff\",\"#00ff00\",\"#00ffff\",\"#00ff00\",\"#00ff00\",\"#00ff00\",\"#00ff00\",\"#00ff00\",\"#00ffff\",\"#00ff00\",\"#00ff00\",\"#00ff00\",\"#00ff00\",\"#00ff00\",\"#00ff00\",\"#00ff00\",\"#00ff00\",\"#00ff00\",\"#00ff00\",\"#00ff00\",\"#00ffff\",\"#00ff00\",\"#00ff00\",\"#00ff00\",\"#00ff00\",\"#00ff00\",\"#00ff00\",\"#00ff00\",\"#00ffff\",\"#00ff00\",\"#00ff00\",\"#00ff00\",\"#00ff00\",\"#00ff00\",\"#00ff00\",\"#00ff00\",\"#000000\",\"#00ff00\",\"#00ff00\",\"#000000\",\"#000000\",\"#00ff00\",\"#00ff00\",\"#00ffff\",\"#00ff00\",\"#00ff00\",\"#00ff00\",\"#00ffff\",\"#00ff00\",\"#00ff00\",\"#00ffff\",\"#00ff00\",\"#00ff00\",\"#00ff00\",\"#00ff00\",\"#00ff00\",\"#00ff00\",\"#00ff00\",\"#00ff00\",\"#00ff00\",\"#00ff00\",\"#00ff00\",\"#00ff00\",\"#00ff00\",\"#00ff00\",\"#00ff00\",\"#00ff00\",\"#00ff00\",\"#00ff00\",\"#00ff00\",\"#00ff00\",\"#00ff00\",\"#00ff00\",\"#00ff00\",\"#00ff00\",\"#00ff00\",\"#00ff00\",\"#00ff00\",\"#000000\",\"#00ff00\",\"#00ff00\",\"#00ff00\",\"#00ff00\",\"#00ffff\",\"#00ff00\",\"#00ff00\",\"#00ff00\",\"#000000\",\"#00ff00\",\"#00ff00\",\"#00ff00\",\"#00ff00\",\"#00ff00\",\"#00ff00\",\"#00ff00\",\"#00ff00\",\"#00ff00\",\"#00ff00\",\"#00ffff\",\"#00ff00\",\"#00ff00\",\"#00ff00\",\"#000000\",\"#00ff00\",\"#00ff00\",\"#00ff00\",\"#00ff00\",\"#00ff00\",\"#00ff00\",\"#00ff00\",\"#000000\",\"#00ff00\",\"#00ff00\",\"#00ff00\",\"#00ff00\",\"#00ff00\",\"#00ff00\",\"#00ff00\",\"#00ff00\",\"#00ff00\",\"#00ff00\",\"#00ff00\",\"#00ff00\",\"#00ff00\",\"#00ff00\",\"#00ff00\",\"#00ff00\",\"#00ff00\",\"#00ff00\",\"#00ff00\",\"#00ff00\",\"#00ff00\",\"#00ff00\",\"#00ff00\",\"#00ff00\",\"#00ff00\",\"#00ff00\",\"#00ff00\",\"#000000\",\"#00ff00\",\"#00ffff\",\"#00ff00\",\"#00ff00\",\"#00ffff\",\"#00ff00\",\"#00ff00\",\"#000000\",\"#00ff00\",\"#00ff00\",\"#00ffff\",\"#00ff00\",\"#00ff00\",\"#00ffff\",\"#00ff00\",\"#00ff00\",\"#00ff00\",\"#00ff00\",\"#00ff00\",\"#00ff00\",\"#00ff00\",\"#000000\",\"#00ffff\",\"#00ff00\",\"#00ff00\",\"#000000\",\"#00ff00\",\"#00ff00\",\"#00ff00\",\"#00ff00\",\"#00ff00\",\"#00ff00\",\"#00ff00\",\"#00ff00\",\"#00ff00\",\"#00ff00\",\"#00ff00\",\"#00ff00\",\"#00ff00\",\"#00ff00\",\"#00ff00\",\"#00ff00\",\"#00ffff\",\"#00ff00\",\"#000000\",\"#00ff00\",\"#00ff00\",\"#00ff00\",\"#00ff00\",\"#00ff00\",\"#00ff00\",\"#00ff00\",\"#00ff00\",\"#00ff00\",\"#00ff00\",\"#00ff00\",\"#00ff00\",\"#00ffff\",\"#00ff00\",\"#00ff00\",\"#00ffff\",\"#00ff00\",\"#00ff00\",\"#00ff00\",\"#00ffff\",\"#00ff00\",\"#00ff00\",\"#00ff00\",\"#00ff00\",\"#00ff00\",\"#000000\",\"#00ff00\",\"#00ff00\",\"#00ff00\",\"#00ff00\",\"#00ff00\",\"#00ff00\",\"#00ffff\",\"#00ff00\",\"#00ff00\",\"#00ff00\",\"#00ff00\",\"#00ffff\",\"#00ff00\",\"#00ff00\",\"#00ff00\",\"#00ff00\",\"#00ff00\",\"#00ff00\",\"#00ff00\",\"#00ff00\",\"#00ff00\",\"#00ffff\",\"#00ff00\",\"#00ff00\",\"#00ff00\",\"#00ff00\",\"#00ff00\",\"#00ff00\",\"#00ff00\",\"#00ff00\",\"#00ff00\",\"#00ff00\",\"#00ff00\",\"#00ff00\",\"#00ff00\",\"#00ff00\",\"#00ffff\",\"#000000\",\"#00ff00\",\"#000000\",\"#00ff00\",\"#00ff00\",\"#00ff00\",\"#00ff00\",\"#00ff00\",\"#00ff00\",\"#00ff00\",\"#00ff00\",\"#00ffff\",\"#00ff00\",\"#00ff00\",\"#00ff00\",\"#00ff00\",\"#00ff00\",\"#00ff00\",\"#00ff00\",\"#00ff00\",\"#00ff00\",\"#00ff00\",\"#00ff00\",\"#00ff00\",\"#00ff00\",\"#00ff00\",\"#00ff00\",\"#00ff00\",\"#00ff00\",\"#00ff00\",\"#00ff00\",\"#00ff00\",\"#00ffff\",\"#00ff00\",\"#00ff00\",\"#00ff00\",\"#00ff00\",\"#00ff00\",\"#00ff00\",\"#00ff00\",\"#00ff00\",\"#00ff00\",\"#00ff00\",\"#00ff00\",\"#00ff00\",\"#00ff00\",\"#00ff00\",\"#00ff00\",\"#00ff00\",\"#00ff00\",\"#00ff00\",\"#00ff00\",\"#00ff00\",\"#00ff00\",\"#00ff00\",\"#00ffff\",\"#00ff00\",\"#00ff00\",\"#00ff00\",\"#000000\",\"#00ff00\",\"#00ff00\",\"#00ff00\",\"#00ff00\",\"#00ff00\",\"#00ff00\",\"#00ff00\",\"#00ff00\",\"#00ff00\",\"#00ff00\",\"#00ff00\",\"#00ff00\",\"#00ff00\",\"#00ff00\",\"#00ff00\",\"#000000\",\"#00ff00\",\"#00ff00\",\"#00ff00\",\"#00ff00\",\"#00ff00\",\"#00ff00\",\"#00ff00\",\"#00ff00\",\"#00ff00\",\"#00ff00\",\"#00ff00\",\"#00ff00\",\"#00ff00\",\"#00ff00\",\"#00ff00\",\"#00ff00\",\"#00ff00\",\"#00ff00\",\"#00ff00\",\"#00ff00\",\"#00ff00\",\"#00ff00\",\"#00ff00\",\"#00ffff\",\"#00ff00\",\"#00ffff\",\"#00ff00\",\"#00ff00\",\"#00ff00\",\"#00ff00\",\"#00ffff\",\"#00ffff\",\"#00ff00\",\"#000000\",\"#00ffff\",\"#00ff00\",\"#00ff00\",\"#00ff00\",\"#000000\",\"#00ff00\",\"#00ff00\",\"#00ff00\",\"#00ff00\",\"#00ffff\",\"#00ff00\",\"#00ff00\",\"#00ff00\",\"#00ff00\",\"#00ff00\",\"#00ff00\",\"#00ff00\",\"#00ff00\",\"#00ff00\",\"#00ffff\",\"#00ff00\",\"#00ffff\",\"#00ff00\",\"#000000\",\"#00ff00\",\"#00ff00\",\"#00ff00\",\"#00ff00\",\"#00ff00\",\"#00ff00\",\"#00ff00\",\"#00ff00\",\"#00ffff\",\"#00ff00\",\"#000000\",\"#00ff00\",\"#00ff00\",\"#00ff00\",\"#00ff00\",\"#00ff00\",\"#00ff00\",\"#00ff00\",\"#00ffff\",\"#00ff00\",\"#00ff00\",\"#00ff00\",\"#00ff00\",\"#00ff00\",\"#00ffff\",\"#00ff00\",\"#00ff00\",\"#00ffff\",\"#00ff00\",\"#000000\",\"#00ff00\",\"#00ff00\",\"#00ff00\",\"#00ff00\",\"#00ff00\",\"#00ff00\",\"#00ff00\",\"#00ffff\",\"#00ff00\",\"#00ffff\",\"#000000\",\"#00ff00\",\"#00ff00\",\"#00ff00\",\"#00ff00\",\"#00ff00\",\"#00ff00\",\"#00ff00\",\"#00ff00\",\"#00ff00\",\"#00ffff\",\"#00ff00\",\"#00ff00\",\"#00ff00\",\"#00ff00\",\"#00ffff\",\"#00ff00\",\"#00ff00\",\"#00ff00\",\"#00ff00\",\"#00ff00\",\"#00ff00\",\"#00ffff\",\"#00ff00\",\"#00ff00\",\"#00ff00\",\"#00ff00\",\"#00ffff\",\"#00ffff\",\"#00ff00\",\"#00ff00\",\"#000000\",\"#00ff00\",\"#00ff00\",\"#00ff00\",\"#00ff00\",\"#00ff00\",\"#00ff00\",\"#00ff00\",\"#000000\",\"#00ff00\",\"#00ffff\",\"#00ff00\",\"#00ff00\",\"#00ff00\",\"#000000\",\"#00ff00\",\"#00ff00\",\"#00ff00\",\"#00ff00\",\"#00ff00\",\"#00ff00\",\"#00ff00\",\"#00ff00\",\"#00ff00\",\"#00ffff\",\"#00ff00\",\"#00ff00\",\"#00ff00\",\"#00ff00\",\"#00ff00\",\"#00ff00\",\"#00ff00\",\"#00ff00\",\"#000000\",\"#00ff00\",\"#00ff00\",\"#00ff00\",\"#00ff00\",\"#00ff00\",\"#00ff00\",\"#00ffff\",\"#00ff00\",\"#00ff00\",\"#00ff00\",\"#00ff00\",\"#00ff00\",\"#00ff00\",\"#00ff00\",\"#00ff00\",\"#00ff00\",\"#00ff00\",\"#00ff00\",\"#00ff00\",\"#00ff00\",\"#00ff00\",\"#00ff00\",\"#00ff00\",\"#00ff00\",\"#00ff00\",\"#00ff00\",\"#00ff00\",\"#000000\",\"#00ff00\",\"#00ff00\",\"#00ff00\",\"#00ff00\",\"#00ff00\",\"#00ff00\",\"#00ff00\",\"#00ff00\",\"#00ff00\",\"#00ff00\",\"#00ff00\",\"#000000\",\"#000000\",\"#00ff00\",\"#00ff00\",\"#00ff00\",\"#00ffff\",\"#000000\",\"#00ff00\",\"#00ff00\",\"#00ff00\",\"#00ff00\",\"#00ff00\",\"#00ff00\",\"#00ff00\",\"#00ff00\",\"#000000\",\"#00ff00\",\"#00ff00\",\"#00ff00\",\"#00ff00\",\"#00ffff\",\"#00ff00\",\"#000000\",\"#00ff00\",\"#00ff00\",\"#00ff00\",\"#00ff00\",\"#00ff00\",\"#00ff00\",\"#00ff00\",\"#00ffff\",\"#00ff00\",\"#00ff00\",\"#000000\",\"#00ff00\",\"#00ff00\",\"#000000\",\"#00ffff\",\"#00ff00\",\"#00ff00\",\"#00ff00\",\"#00ff00\",\"#00ff00\",\"#00ff00\",\"#00ffff\",\"#000000\",\"#00ff00\",\"#00ff00\",\"#00ff00\",\"#00ffff\",\"#00ffff\",\"#00ffff\",\"#00ff00\",\"#00ff00\",\"#00ff00\",\"#00ff00\",\"#00ff00\",\"#00ff00\",\"#00ff00\",\"#00ff00\",\"#00ff00\",\"#00ff00\",\"#00ff00\",\"#00ff00\",\"#00ff00\",\"#00ff00\",\"#00ff00\",\"#00ff00\",\"#00ff00\",\"#000000\",\"#00ff00\",\"#00ff00\",\"#00ffff\",\"#000000\",\"#00ff00\",\"#00ff00\",\"#00ff00\",\"#00ff00\",\"#00ffff\",\"#00ff00\",\"#00ff00\",\"#00ff00\",\"#00ff00\",\"#000000\",\"#00ff00\",\"#00ff00\",\"#000000\",\"#000000\",\"#00ff00\",\"#00ff00\",\"#00ffff\",\"#00ff00\",\"#00ff00\",\"#00ff00\",\"#00ff00\",\"#00ff00\",\"#00ff00\",\"#00ff00\",\"#00ffff\",\"#00ff00\",\"#00ff00\",\"#00ff00\",\"#00ffff\",\"#00ff00\",\"#00ff00\",\"#00ff00\",\"#00ff00\",\"#00ff00\",\"#00ff00\",\"#00ff00\",\"#00ff00\",\"#00ff00\",\"#00ff00\",\"#00ff00\",\"#00ff00\",\"#00ffff\",\"#00ff00\",\"#00ff00\",\"#00ff00\",\"#000000\",\"#00ff00\",\"#00ff00\",\"#00ff00\",\"#000000\",\"#00ff00\",\"#00ff00\",\"#00ff00\",\"#00ffff\",\"#00ffff\",\"#00ff00\",\"#000000\",\"#00ff00\",\"#00ff00\",\"#00ff00\",\"#00ff00\",\"#00ff00\",\"#00ff00\",\"#00ff00\",\"#00ff00\",\"#00ff00\",\"#00ff00\",\"#00ff00\",\"#00ff00\",\"#00ff00\",\"#00ff00\",\"#00ffff\",\"#00ffff\",\"#00ff00\",\"#00ff00\",\"#00ff00\",\"#00ff00\",\"#00ff00\",\"#00ff00\",\"#00ff00\",\"#00ff00\",\"#00ff00\",\"#00ff00\",\"#00ff00\",\"#00ffff\",\"#00ff00\",\"#00ff00\",\"#00ff00\",\"#00ff00\",\"#00ffff\",\"#00ff00\",\"#00ff00\",\"#00ff00\",\"#00ff00\",\"#00ff00\",\"#00ff00\",\"#00ff00\",\"#000000\",\"#00ff00\",\"#00ff00\",\"#00ff00\",\"#00ff00\",\"#00ff00\",\"#00ff00\",\"#00ffff\",\"#00ff00\",\"#00ff00\",\"#00ff00\",\"#00ff00\",\"#00ff00\",\"#00ff00\",\"#00ff00\",\"#00ff00\",\"#00ff00\",\"#00ff00\",\"#00ffff\",\"#00ff00\",\"#00ff00\",\"#00ff00\",\"#00ff00\",\"#00ff00\",\"#00ffff\",\"#00ff00\",\"#00ffff\",\"#00ff00\",\"#00ff00\",\"#00ff00\",\"#00ff00\",\"#00ffff\",\"#00ff00\",\"#00ff00\",\"#00ff00\",\"#000000\",\"#00ff00\",\"#000000\",\"#00ffff\",\"#00ff00\",\"#00ffff\",\"#00ff00\",\"#00ff00\",\"#000000\",\"#00ff00\",\"#00ff00\",\"#00ff00\",\"#00ffff\",\"#000000\",\"#00ff00\",\"#00ff00\",\"#00ff00\",\"#00ff00\",\"#00ff00\",\"#00ff00\",\"#00ff00\",\"#00ff00\",\"#00ff00\",\"#00ff00\",\"#00ff00\",\"#00ff00\",\"#000000\",\"#00ff00\",\"#00ff00\",\"#00ff00\",\"#00ff00\",\"#00ffff\",\"#00ff00\",\"#00ffff\",\"#00ff00\",\"#00ff00\",\"#00ff00\",\"#00ff00\",\"#00ff00\",\"#00ff00\",\"#00ff00\",\"#00ff00\",\"#00ffff\",\"#00ff00\",\"#00ff00\",\"#000000\",\"#00ffff\",\"#00ff00\",\"#00ff00\",\"#00ffff\",\"#00ff00\",\"#00ffff\",\"#00ff00\",\"#00ff00\",\"#00ff00\",\"#00ff00\",\"#00ff00\",\"#00ff00\",\"#00ff00\",\"#00ff00\",\"#00ff00\",\"#00ffff\",\"#00ff00\",\"#00ff00\",\"#00ff00\",\"#00ff00\",\"#00ff00\",\"#00ffff\",\"#00ff00\",\"#00ffff\",\"#00ff00\",\"#00ff00\",\"#00ff00\",\"#00ff00\",\"#00ff00\",\"#00ff00\",\"#00ff00\",\"#000000\",\"#00ff00\",\"#00ff00\",\"#000000\",\"#00ffff\",\"#00ff00\",\"#00ff00\",\"#00ffff\",\"#00ff00\",\"#00ff00\",\"#00ffff\",\"#00ff00\",\"#00ff00\",\"#00ff00\",\"#00ff00\",\"#00ff00\",\"#00ff00\",\"#00ff00\",\"#00ffff\",\"#00ff00\",\"#00ff00\",\"#00ffff\",\"#00ff00\",\"#00ff00\",\"#00ff00\",\"#00ff00\",\"#000000\",\"#00ff00\",\"#00ff00\",\"#00ff00\",\"#00ff00\",\"#00ffff\",\"#00ff00\",\"#00ffff\",\"#00ff00\",\"#00ff00\",\"#00ff00\",\"#00ff00\",\"#00ff00\",\"#00ff00\",\"#00ff00\",\"#00ff00\",\"#00ff00\",\"#00ff00\",\"#00ff00\",\"#00ff00\",\"#00ff00\",\"#00ff00\",\"#00ff00\",\"#00ff00\",\"#00ff00\",\"#00ff00\",\"#00ff00\",\"#00ffff\",\"#00ff00\",\"#000000\",\"#00ff00\",\"#00ff00\",\"#00ffff\",\"#000000\",\"#00ff00\",\"#00ff00\",\"#00ff00\",\"#00ff00\",\"#00ffff\",\"#00ff00\",\"#00ff00\",\"#00ff00\",\"#00ff00\",\"#00ff00\",\"#00ffff\",\"#00ff00\",\"#00ff00\",\"#00ff00\",\"#00ffff\",\"#000000\",\"#00ff00\",\"#00ff00\",\"#00ffff\",\"#00ff00\",\"#00ffff\",\"#00ff00\",\"#00ffff\",\"#00ff00\",\"#00ff00\",\"#00ff00\",\"#00ff00\",\"#000000\",\"#000000\",\"#00ff00\",\"#00ff00\",\"#00ff00\",\"#00ff00\",\"#00ff00\",\"#00ff00\",\"#00ff00\",\"#00ff00\",\"#00ff00\",\"#00ff00\",\"#00ff00\",\"#00ffff\",\"#00ff00\",\"#00ff00\",\"#00ff00\",\"#00ff00\",\"#00ff00\",\"#00ff00\",\"#00ff00\",\"#00ff00\",\"#00ff00\",\"#00ff00\",\"#00ff00\",\"#00ff00\",\"#00ff00\",\"#00ff00\",\"#00ff00\",\"#00ff00\",\"#00ff00\",\"#00ff00\",\"#00ff00\",\"#000000\",\"#00ffff\",\"#000000\",\"#00ff00\",\"#00ff00\",\"#00ff00\",\"#00ff00\",\"#00ff00\",\"#00ff00\",\"#00ff00\",\"#000000\",\"#00ff00\",\"#00ff00\",\"#00ff00\",\"#00ffff\",\"#00ffff\",\"#00ff00\",\"#00ffff\",\"#00ff00\",\"#00ff00\",\"#00ff00\",\"#00ff00\",\"#00ff00\",\"#00ff00\",\"#00ff00\",\"#000000\",\"#00ff00\",\"#00ff00\",\"#00ff00\",\"#000000\",\"#00ff00\",\"#000000\",\"#00ff00\",\"#00ff00\",\"#00ffff\",\"#00ff00\",\"#00ffff\",\"#00ff00\",\"#00ff00\",\"#00ff00\",\"#00ff00\",\"#00ffff\",\"#00ff00\",\"#00ff00\",\"#00ff00\",\"#00ff00\",\"#00ff00\",\"#00ff00\",\"#00ff00\",\"#00ffff\",\"#00ff00\",\"#00ff00\",\"#00ff00\",\"#00ff00\",\"#00ff00\",\"#00ff00\",\"#00ff00\",\"#00ff00\",\"#00ff00\",\"#00ff00\",\"#00ff00\",\"#00ff00\",\"#00ff00\",\"#000000\",\"#00ff00\",\"#00ff00\",\"#00ff00\",\"#00ff00\",\"#00ffff\",\"#000000\",\"#00ff00\",\"#00ff00\",\"#00ff00\",\"#00ff00\",\"#00ff00\",\"#00ffff\",\"#00ff00\",\"#00ff00\",\"#00ff00\",\"#00ff00\",\"#00ff00\",\"#00ff00\",\"#00ff00\",\"#00ff00\",\"#00ff00\",\"#00ffff\",\"#00ff00\",\"#00ff00\",\"#00ff00\",\"#00ff00\",\"#00ff00\",\"#00ff00\",\"#00ff00\",\"#00ff00\",\"#00ff00\",\"#00ff00\",\"#00ff00\",\"#00ff00\",\"#00ff00\",\"#00ff00\",\"#00ff00\",\"#00ff00\",\"#00ffff\",\"#00ff00\",\"#00ff00\",\"#00ff00\",\"#00ff00\",\"#00ff00\",\"#00ff00\",\"#00ff00\",\"#00ff00\",\"#00ff00\",\"#00ff00\",\"#00ff00\",\"#00ff00\",\"#00ff00\",\"#00ff00\",\"#00ff00\",\"#00ff00\",\"#00ff00\",\"#00ff00\",\"#00ff00\",\"#00ffff\",\"#00ffff\",\"#00ffff\",\"#000000\",\"#00ff00\",\"#00ffff\",\"#00ff00\",\"#00ff00\",\"#00ffff\",\"#00ff00\",\"#00ff00\",\"#00ff00\",\"#00ff00\",\"#00ff00\",\"#00ff00\",\"#00ff00\",\"#00ff00\",\"#00ffff\",\"#00ff00\",\"#00ff00\",\"#00ff00\",\"#00ff00\",\"#00ff00\",\"#00ff00\",\"#00ff00\",\"#000000\",\"#00ff00\",\"#000000\",\"#00ff00\",\"#00ff00\",\"#00ff00\",\"#00ff00\",\"#00ff00\",\"#00ff00\",\"#00ff00\",\"#00ff00\",\"#00ff00\",\"#00ff00\",\"#00ff00\",\"#00ffff\",\"#00ff00\",\"#00ff00\",\"#00ffff\",\"#00ffff\",\"#00ff00\",\"#000000\",\"#00ff00\",\"#00ffff\",\"#00ff00\",\"#00ffff\",\"#00ff00\",\"#00ff00\",\"#00ff00\",\"#00ff00\",\"#000000\",\"#00ff00\",\"#00ff00\",\"#00ff00\",\"#00ff00\",\"#00ff00\",\"#00ffff\",\"#00ffff\",\"#00ff00\",\"#00ff00\",\"#00ff00\",\"#000000\",\"#00ff00\",\"#00ff00\",\"#00ff00\",\"#00ff00\",\"#00ff00\",\"#00ff00\",\"#00ff00\",\"#00ff00\",\"#00ff00\",\"#00ff00\",\"#00ff00\",\"#00ff00\",\"#00ff00\",\"#00ff00\",\"#00ffff\",\"#00ff00\",\"#00ffff\",\"#00ff00\",\"#00ff00\",\"#00ff00\",\"#00ff00\",\"#00ff00\",\"#00ff00\",\"#00ff00\",\"#00ff00\",\"#00ffff\",\"#00ff00\",\"#00ff00\",\"#00ffff\",\"#00ff00\",\"#00ff00\",\"#00ff00\",\"#00ff00\",\"#00ff00\",\"#00ff00\",\"#00ff00\",\"#00ffff\",\"#00ff00\",\"#00ff00\",\"#00ffff\",\"#00ff00\",\"#00ff00\",\"#00ff00\",\"#000000\",\"#00ff00\",\"#00ff00\",\"#00ff00\",\"#00ff00\",\"#00ff00\",\"#00ff00\",\"#00ff00\",\"#00ff00\",\"#00ffff\",\"#000000\",\"#00ff00\",\"#00ffff\",\"#00ff00\",\"#00ff00\",\"#00ff00\",\"#000000\",\"#00ff00\",\"#00ffff\",\"#00ff00\",\"#00ff00\",\"#00ff00\",\"#00ff00\",\"#00ff00\",\"#000000\",\"#00ff00\",\"#00ff00\",\"#00ff00\",\"#00ff00\",\"#00ffff\",\"#00ff00\",\"#00ff00\",\"#00ff00\",\"#00ff00\",\"#00ff00\",\"#000000\",\"#00ff00\",\"#00ff00\",\"#00ff00\",\"#00ff00\",\"#00ff00\",\"#00ff00\",\"#00ff00\",\"#00ff00\",\"#00ff00\",\"#00ff00\",\"#00ff00\",\"#00ff00\",\"#00ffff\",\"#00ff00\",\"#00ff00\",\"#00ffff\",\"#00ff00\",\"#00ffff\",\"#00ff00\",\"#00ff00\",\"#00ff00\",\"#00ff00\",\"#00ff00\",\"#00ff00\",\"#00ff00\",\"#00ff00\",\"#00ff00\",\"#00ff00\",\"#00ff00\",\"#00ff00\",\"#000000\",\"#00ff00\",\"#00ff00\",\"#00ffff\",\"#00ff00\",\"#00ff00\",\"#00ff00\",\"#00ff00\",\"#00ff00\",\"#00ff00\",\"#00ff00\",\"#00ff00\",\"#00ff00\",\"#00ff00\",\"#00ff00\",\"#00ff00\",\"#00ff00\",\"#000000\",\"#00ffff\",\"#00ff00\",\"#00ff00\",\"#00ff00\",\"#00ffff\",\"#00ff00\",\"#00ff00\",\"#00ff00\",\"#00ff00\",\"#000000\",\"#00ff00\",\"#00ff00\",\"#00ff00\",\"#00ffff\",\"#00ff00\",\"#00ff00\",\"#00ff00\",\"#00ff00\",\"#00ff00\",\"#00ff00\",\"#00ff00\",\"#00ff00\",\"#00ff00\",\"#00ff00\",\"#00ff00\",\"#00ff00\",\"#00ff00\",\"#00ff00\",\"#00ff00\",\"#00ffff\",\"#000000\",\"#00ff00\",\"#00ff00\",\"#000000\",\"#00ff00\",\"#00ff00\",\"#00ffff\",\"#00ff00\",\"#000000\",\"#00ff00\",\"#00ff00\",\"#00ff00\",\"#00ff00\",\"#000000\",\"#00ff00\",\"#00ffff\",\"#00ff00\",\"#00ff00\",\"#00ffff\",\"#00ff00\",\"#00ff00\",\"#00ff00\",\"#00ffff\",\"#00ffff\",\"#000000\",\"#00ff00\",\"#00ff00\",\"#00ff00\",\"#00ff00\",\"#00ff00\",\"#00ff00\",\"#00ff00\",\"#00ff00\",\"#00ff00\",\"#00ff00\",\"#00ffff\",\"#00ffff\",\"#00ff00\",\"#000000\",\"#00ff00\",\"#00ff00\",\"#00ff00\",\"#00ff00\",\"#00ff00\",\"#00ff00\",\"#00ff00\",\"#00ff00\",\"#00ff00\",\"#00ff00\",\"#00ff00\",\"#00ff00\",\"#00ff00\",\"#00ffff\",\"#00ff00\",\"#00ff00\",\"#00ff00\",\"#000000\",\"#00ff00\",\"#00ff00\",\"#00ff00\",\"#000000\",\"#00ff00\",\"#00ff00\",\"#00ff00\",\"#00ff00\",\"#00ff00\",\"#00ff00\",\"#00ff00\",\"#00ffff\",\"#00ff00\",\"#00ff00\",\"#00ffff\",\"#00ff00\",\"#00ffff\",\"#00ff00\",\"#00ff00\",\"#00ff00\",\"#00ff00\",\"#000000\",\"#00ff00\",\"#00ff00\",\"#00ff00\",\"#00ff00\",\"#000000\",\"#00ff00\",\"#00ff00\",\"#00ff00\",\"#00ff00\",\"#00ff00\",\"#00ffff\",\"#00ffff\",\"#00ff00\",\"#00ffff\",\"#00ff00\",\"#00ff00\",\"#00ff00\",\"#00ff00\",\"#00ff00\",\"#00ff00\",\"#00ffff\",\"#00ff00\",\"#00ff00\",\"#00ff00\",\"#00ff00\",\"#00ffff\",\"#00ff00\",\"#00ff00\",\"#00ff00\",\"#00ff00\",\"#00ff00\",\"#00ff00\",\"#00ff00\",\"#00ffff\",\"#00ff00\",\"#00ff00\",\"#00ff00\",\"#00ff00\",\"#00ff00\",\"#00ffff\",\"#00ff00\",\"#00ff00\",\"#00ffff\",\"#00ff00\",\"#00ff00\",\"#000000\",\"#00ff00\",\"#00ff00\",\"#00ff00\",\"#00ffff\",\"#00ff00\",\"#00ff00\",\"#00ff00\",\"#00ff00\",\"#000000\",\"#00ff00\",\"#00ff00\",\"#00ff00\",\"#00ff00\",\"#00ff00\",\"#00ff00\",\"#00ff00\",\"#00ff00\",\"#00ff00\",\"#00ff00\",\"#00ff00\",\"#00ff00\",\"#00ff00\",\"#000000\",\"#00ff00\",\"#000000\",\"#00ffff\",\"#00ff00\",\"#00ff00\",\"#00ff00\",\"#00ff00\",\"#00ff00\",\"#00ff00\",\"#00ff00\",\"#00ff00\",\"#00ff00\",\"#000000\",\"#00ff00\",\"#00ffff\",\"#00ffff\",\"#00ff00\",\"#00ff00\",\"#00ff00\",\"#00ffff\",\"#00ff00\",\"#00ff00\",\"#000000\",\"#000000\",\"#00ff00\",\"#00ffff\",\"#00ff00\",\"#00ff00\",\"#00ffff\",\"#00ffff\",\"#00ff00\",\"#00ff00\",\"#00ffff\",\"#00ffff\",\"#00ff00\",\"#00ff00\",\"#00ff00\",\"#00ff00\",\"#00ff00\",\"#00ff00\",\"#00ff00\",\"#00ff00\",\"#00ff00\",\"#00ff00\",\"#00ff00\",\"#00ff00\",\"#00ff00\",\"#00ff00\",\"#00ff00\",\"#00ff00\",\"#00ff00\",\"#00ff00\",\"#00ff00\",\"#00ff00\",\"#00ff00\",\"#00ff00\",\"#00ff00\",\"#00ff00\",\"#000000\",\"#00ff00\",\"#00ff00\",\"#00ffff\",\"#00ff00\",\"#00ff00\",\"#00ff00\",\"#00ffff\",\"#00ff00\",\"#00ff00\",\"#00ff00\",\"#00ff00\",\"#00ff00\",\"#00ff00\",\"#000000\",\"#00ff00\",\"#00ff00\",\"#00ffff\",\"#00ff00\",\"#000000\",\"#00ff00\",\"#00ffff\",\"#00ff00\",\"#00ff00\",\"#00ff00\",\"#000000\",\"#00ffff\",\"#000000\",\"#00ff00\",\"#00ff00\",\"#00ff00\",\"#00ff00\",\"#00ffff\",\"#00ff00\",\"#00ff00\",\"#00ffff\",\"#00ff00\",\"#00ff00\",\"#00ff00\",\"#00ff00\",\"#00ff00\",\"#00ff00\",\"#00ff00\",\"#00ff00\",\"#00ff00\",\"#00ffff\",\"#00ffff\",\"#00ff00\",\"#00ff00\",\"#00ff00\",\"#00ff00\",\"#00ff00\",\"#00ff00\",\"#00ff00\",\"#00ff00\",\"#00ff00\",\"#00ff00\",\"#00ff00\",\"#00ff00\",\"#00ff00\",\"#00ff00\",\"#000000\",\"#00ff00\",\"#00ff00\",\"#00ff00\",\"#00ff00\",\"#00ff00\",\"#00ff00\",\"#000000\",\"#00ff00\",\"#00ff00\",\"#00ff00\",\"#00ff00\",\"#00ff00\",\"#00ffff\",\"#00ff00\",\"#00ff00\",\"#000000\",\"#00ff00\",\"#00ff00\",\"#00ff00\",\"#00ff00\",\"#000000\",\"#00ff00\",\"#00ff00\",\"#00ff00\",\"#00ff00\",\"#00ff00\",\"#00ffff\",\"#00ff00\",\"#00ff00\",\"#00ff00\",\"#00ffff\",\"#00ff00\",\"#00ff00\",\"#00ff00\",\"#00ff00\",\"#00ffff\",\"#000000\",\"#00ff00\",\"#00ff00\",\"#00ffff\",\"#000000\",\"#00ff00\",\"#00ff00\",\"#00ff00\",\"#000000\",\"#00ff00\",\"#00ff00\",\"#00ff00\",\"#00ff00\",\"#00ff00\",\"#00ffff\",\"#000000\",\"#00ff00\",\"#00ff00\",\"#00ff00\",\"#00ff00\",\"#00ff00\",\"#00ff00\",\"#000000\",\"#00ff00\",\"#00ff00\",\"#00ff00\",\"#00ff00\",\"#000000\",\"#00ff00\",\"#00ff00\",\"#00ffff\",\"#00ff00\",\"#00ff00\",\"#00ff00\",\"#000000\",\"#000000\",\"#00ff00\",\"#000000\",\"#00ff00\",\"#00ff00\",\"#00ff00\",\"#00ff00\",\"#00ff00\",\"#00ff00\",\"#00ff00\",\"#00ff00\",\"#00ff00\",\"#00ff00\",\"#00ff00\",\"#00ff00\",\"#00ff00\",\"#00ff00\",\"#000000\",\"#00ff00\",\"#00ff00\",\"#00ffff\",\"#00ff00\",\"#00ff00\",\"#000000\",\"#00ff00\",\"#00ff00\",\"#00ffff\",\"#00ff00\",\"#00ffff\",\"#00ff00\",\"#00ff00\",\"#00ff00\",\"#00ff00\",\"#00ffff\",\"#00ff00\",\"#00ff00\",\"#000000\",\"#000000\",\"#00ffff\",\"#00ff00\",\"#00ff00\",\"#00ff00\",\"#00ffff\",\"#00ff00\",\"#00ffff\",\"#000000\",\"#00ff00\",\"#00ff00\",\"#00ff00\",\"#00ff00\",\"#00ff00\",\"#00ff00\",\"#00ff00\",\"#000000\",\"#00ff00\",\"#00ff00\",\"#00ff00\",\"#00ff00\",\"#00ff00\",\"#00ff00\",\"#00ff00\",\"#00ff00\",\"#00ff00\",\"#00ff00\",\"#00ff00\",\"#000000\",\"#00ff00\",\"#00ff00\",\"#00ff00\",\"#00ff00\",\"#00ff00\",\"#00ff00\",\"#00ff00\",\"#00ff00\",\"#00ff00\",\"#00ff00\",\"#00ff00\",\"#00ff00\",\"#00ff00\",\"#000000\",\"#00ff00\",\"#00ff00\",\"#00ff00\",\"#00ffff\",\"#000000\",\"#00ff00\",\"#00ff00\",\"#00ff00\",\"#00ff00\",\"#00ff00\",\"#00ff00\",\"#00ff00\",\"#00ff00\",\"#00ff00\",\"#00ff00\",\"#00ff00\",\"#00ff00\",\"#00ffff\",\"#00ff00\",\"#00ff00\",\"#00ffff\",\"#00ffff\",\"#000000\",\"#00ff00\",\"#000000\",\"#00ffff\",\"#00ff00\",\"#00ff00\",\"#00ff00\",\"#00ffff\",\"#00ff00\",\"#000000\",\"#000000\",\"#00ff00\",\"#00ff00\",\"#000000\",\"#00ff00\",\"#00ff00\",\"#000000\",\"#00ff00\",\"#00ff00\",\"#000000\",\"#00ff00\",\"#00ff00\",\"#00ff00\",\"#00ff00\",\"#00ff00\",\"#00ff00\",\"#00ff00\",\"#00ff00\",\"#00ff00\",\"#00ff00\",\"#00ff00\",\"#000000\",\"#00ff00\",\"#00ff00\",\"#00ff00\",\"#00ffff\",\"#00ff00\",\"#00ff00\",\"#00ff00\",\"#00ff00\",\"#00ff00\",\"#000000\",\"#00ff00\",\"#00ffff\",\"#00ff00\",\"#00ff00\",\"#00ff00\",\"#00ff00\",\"#00ff00\",\"#00ff00\",\"#00ff00\",\"#00ff00\",\"#00ff00\",\"#00ff00\",\"#000000\",\"#00ffff\",\"#00ff00\",\"#00ff00\",\"#00ff00\",\"#00ffff\",\"#00ffff\",\"#00ffff\",\"#00ff00\",\"#00ff00\",\"#00ff00\",\"#00ff00\",\"#000000\",\"#000000\",\"#00ff00\",\"#00ff00\",\"#00ff00\",\"#00ff00\",\"#00ff00\",\"#00ff00\",\"#00ff00\",\"#00ff00\",\"#00ff00\",\"#00ffff\",\"#00ff00\",\"#00ff00\",\"#00ff00\",\"#00ff00\",\"#00ff00\",\"#00ff00\",\"#00ff00\",\"#00ff00\",\"#00ff00\",\"#00ff00\",\"#00ff00\",\"#00ffff\",\"#00ff00\",\"#000000\",\"#00ff00\",\"#00ff00\",\"#00ff00\",\"#00ff00\",\"#00ff00\",\"#00ff00\",\"#00ff00\",\"#00ff00\",\"#00ff00\",\"#00ff00\",\"#00ff00\",\"#000000\",\"#00ff00\",\"#00ff00\",\"#00ff00\",\"#00ffff\",\"#00ff00\",\"#00ff00\",\"#00ffff\",\"#00ff00\",\"#00ff00\",\"#00ff00\",\"#00ff00\",\"#00ff00\",\"#00ff00\",\"#00ff00\",\"#00ffff\",\"#00ff00\",\"#00ff00\",\"#00ff00\",\"#00ff00\",\"#00ff00\",\"#00ffff\",\"#00ffff\",\"#00ff00\",\"#00ff00\",\"#000000\",\"#00ff00\",\"#00ff00\",\"#00ff00\",\"#00ff00\",\"#000000\",\"#00ff00\",\"#00ff00\",\"#00ff00\",\"#00ff00\",\"#00ff00\",\"#00ff00\",\"#000000\",\"#00ffff\",\"#00ff00\",\"#00ff00\",\"#00ff00\",\"#00ff00\",\"#00ff00\",\"#00ff00\",\"#00ff00\",\"#00ff00\",\"#00ff00\",\"#00ff00\",\"#00ff00\",\"#00ff00\",\"#00ff00\",\"#00ff00\",\"#00ffff\",\"#00ff00\",\"#00ff00\",\"#00ff00\",\"#00ff00\",\"#00ff00\",\"#00ff00\",\"#00ff00\",\"#00ff00\",\"#00ff00\",\"#00ff00\",\"#00ff00\",\"#00ff00\",\"#00ff00\",\"#00ff00\",\"#00ff00\",\"#00ff00\",\"#00ff00\",\"#00ffff\",\"#00ff00\",\"#00ffff\",\"#00ff00\",\"#00ff00\",\"#00ff00\",\"#00ffff\",\"#00ff00\",\"#000000\",\"#00ff00\",\"#00ff00\",\"#000000\",\"#00ffff\",\"#00ff00\",\"#00ff00\",\"#000000\",\"#00ff00\",\"#00ff00\",\"#00ff00\",\"#00ff00\",\"#00ff00\",\"#00ff00\",\"#00ff00\",\"#00ffff\",\"#00ff00\",\"#00ff00\",\"#00ff00\",\"#00ff00\",\"#00ff00\",\"#000000\",\"#000000\",\"#00ff00\",\"#00ff00\",\"#00ff00\",\"#00ff00\",\"#00ff00\",\"#00ff00\",\"#00ff00\",\"#00ff00\",\"#00ffff\",\"#00ff00\",\"#00ff00\",\"#00ff00\",\"#00ff00\",\"#00ffff\",\"#00ff00\",\"#00ff00\",\"#00ffff\",\"#00ff00\",\"#00ff00\",\"#00ff00\",\"#00ff00\",\"#00ff00\",\"#00ff00\",\"#00ffff\",\"#00ff00\",\"#00ffff\",\"#00ff00\",\"#00ff00\",\"#00ff00\",\"#00ff00\",\"#00ff00\",\"#00ff00\",\"#00ff00\",\"#00ff00\",\"#00ff00\",\"#00ff00\",\"#00ff00\",\"#000000\",\"#00ff00\",\"#00ff00\",\"#00ff00\",\"#00ff00\",\"#00ffff\",\"#00ff00\",\"#00ff00\",\"#00ff00\",\"#00ff00\",\"#00ff00\",\"#00ff00\",\"#00ff00\",\"#00ff00\",\"#00ff00\",\"#00ff00\",\"#00ff00\",\"#00ffff\",\"#00ff00\",\"#00ff00\",\"#00ffff\",\"#00ff00\",\"#00ff00\",\"#00ff00\",\"#00ff00\",\"#00ffff\",\"#00ffff\",\"#00ff00\",\"#00ff00\",\"#00ffff\",\"#00ff00\",\"#00ff00\",\"#00ff00\",\"#00ff00\",\"#00ff00\",\"#00ff00\",\"#00ff00\",\"#00ff00\",\"#00ffff\",\"#00ff00\",\"#00ff00\",\"#000000\",\"#00ff00\",\"#00ff00\",\"#00ff00\",\"#00ff00\",\"#00ff00\",\"#00ff00\",\"#00ff00\",\"#00ffff\",\"#00ff00\",\"#00ff00\",\"#00ffff\",\"#00ff00\",\"#000000\",\"#00ff00\",\"#00ff00\",\"#00ff00\",\"#00ff00\",\"#00ff00\",\"#00ff00\",\"#00ff00\",\"#00ff00\",\"#00ff00\",\"#00ff00\",\"#00ff00\",\"#00ff00\",\"#00ff00\",\"#00ff00\",\"#00ff00\",\"#00ff00\",\"#00ff00\",\"#00ff00\",\"#00ff00\",\"#00ff00\",\"#00ffff\",\"#00ff00\",\"#00ff00\",\"#00ff00\",\"#00ff00\",\"#00ff00\",\"#000000\",\"#00ff00\",\"#00ff00\",\"#000000\",\"#00ff00\",\"#00ff00\",\"#000000\",\"#000000\",\"#00ff00\",\"#00ff00\",\"#00ff00\",\"#00ff00\",\"#00ff00\",\"#00ff00\",\"#00ff00\",\"#00ff00\",\"#00ff00\",\"#00ff00\",\"#00ffff\",\"#00ff00\",\"#00ff00\",\"#00ff00\",\"#00ff00\",\"#00ff00\",\"#00ff00\",\"#00ff00\",\"#00ff00\",\"#00ff00\",\"#00ff00\",\"#00ff00\",\"#00ff00\",\"#00ff00\",\"#00ff00\",\"#00ff00\",\"#00ff00\",\"#00ff00\",\"#00ff00\",\"#00ff00\",\"#00ff00\",\"#00ff00\",\"#00ff00\",\"#00ffff\",\"#00ff00\",\"#00ff00\",\"#000000\",\"#00ff00\",\"#00ffff\",\"#00ff00\",\"#00ff00\",\"#00ff00\",\"#00ff00\",\"#00ff00\",\"#00ff00\",\"#00ff00\",\"#000000\",\"#00ff00\",\"#00ff00\",\"#00ff00\",\"#00ff00\",\"#00ff00\",\"#00ff00\",\"#00ff00\",\"#00ffff\",\"#00ff00\",\"#00ffff\",\"#00ff00\",\"#00ff00\",\"#00ff00\",\"#00ff00\",\"#00ff00\",\"#00ff00\",\"#00ff00\",\"#00ff00\",\"#00ff00\",\"#00ff00\",\"#00ff00\",\"#00ff00\",\"#000000\",\"#00ff00\",\"#00ff00\",\"#00ff00\",\"#00ff00\",\"#00ff00\",\"#00ff00\",\"#00ff00\",\"#00ffff\",\"#00ffff\",\"#00ff00\",\"#00ff00\",\"#00ff00\",\"#00ff00\",\"#00ffff\",\"#00ff00\",\"#00ff00\",\"#00ff00\",\"#00ff00\",\"#00ff00\",\"#00ff00\",\"#00ff00\",\"#00ff00\",\"#00ff00\",\"#00ff00\",\"#00ff00\",\"#00ff00\",\"#00ff00\",\"#00ffff\",\"#00ffff\",\"#00ffff\",\"#00ffff\",\"#00ff00\",\"#00ff00\",\"#00ff00\",\"#000000\",\"#00ff00\",\"#000000\",\"#000000\",\"#00ffff\",\"#00ffff\",\"#00ff00\",\"#00ff00\",\"#00ff00\",\"#00ff00\",\"#00ff00\",\"#00ff00\",\"#00ff00\",\"#00ff00\",\"#00ff00\",\"#00ff00\",\"#00ff00\",\"#00ff00\",\"#00ff00\",\"#00ff00\",\"#00ffff\",\"#00ff00\",\"#00ff00\",\"#000000\",\"#00ffff\",\"#00ff00\",\"#00ffff\",\"#00ff00\",\"#00ff00\",\"#00ff00\",\"#00ff00\",\"#00ff00\",\"#00ff00\",\"#00ff00\",\"#00ff00\",\"#00ff00\",\"#00ff00\",\"#00ff00\",\"#00ff00\",\"#00ffff\",\"#00ff00\",\"#00ff00\",\"#00ff00\",\"#00ff00\",\"#00ff00\",\"#00ffff\",\"#00ff00\",\"#00ff00\",\"#00ff00\",\"#00ff00\",\"#00ff00\",\"#000000\",\"#000000\",\"#00ff00\",\"#00ff00\",\"#00ff00\",\"#00ff00\",\"#00ff00\",\"#00ff00\",\"#000000\",\"#00ffff\",\"#00ff00\",\"#00ff00\",\"#000000\",\"#00ff00\",\"#00ff00\",\"#00ff00\",\"#00ff00\",\"#00ff00\",\"#00ff00\",\"#00ff00\",\"#00ff00\",\"#00ff00\",\"#00ff00\",\"#00ff00\",\"#00ff00\",\"#00ff00\",\"#00ff00\",\"#00ff00\",\"#00ff00\",\"#00ff00\",\"#00ff00\",\"#00ff00\",\"#00ff00\",\"#00ff00\",\"#00ff00\",\"#00ff00\",\"#00ff00\",\"#00ff00\",\"#00ff00\",\"#00ffff\",\"#00ff00\",\"#00ff00\",\"#000000\",\"#00ff00\",\"#00ff00\",\"#000000\",\"#00ff00\",\"#00ff00\",\"#000000\",\"#00ff00\",\"#00ff00\",\"#00ff00\",\"#00ff00\",\"#00ff00\",\"#00ff00\",\"#00ff00\",\"#00ff00\",\"#00ff00\",\"#000000\",\"#00ff00\",\"#00ff00\",\"#00ff00\",\"#000000\",\"#00ff00\",\"#00ff00\",\"#000000\",\"#00ff00\",\"#00ff00\",\"#00ffff\",\"#00ff00\",\"#00ff00\",\"#00ff00\",\"#00ff00\",\"#00ffff\",\"#00ff00\",\"#00ffff\",\"#00ffff\",\"#00ff00\",\"#00ff00\",\"#00ffff\",\"#00ff00\",\"#00ffff\",\"#000000\",\"#00ff00\",\"#00ff00\",\"#00ff00\",\"#00ff00\",\"#00ff00\",\"#00ff00\",\"#00ff00\",\"#00ff00\",\"#00ff00\",\"#00ff00\",\"#00ff00\",\"#00ff00\",\"#00ff00\",\"#00ff00\",\"#00ff00\",\"#00ff00\",\"#00ff00\",\"#00ffff\",\"#00ff00\",\"#00ff00\",\"#00ff00\",\"#000000\",\"#00ff00\",\"#00ff00\",\"#00ffff\",\"#00ff00\",\"#00ff00\",\"#000000\",\"#00ff00\",\"#00ff00\",\"#00ff00\",\"#00ff00\",\"#00ff00\",\"#00ff00\",\"#00ffff\",\"#000000\",\"#00ffff\",\"#00ff00\",\"#00ff00\",\"#00ff00\",\"#00ff00\",\"#00ff00\",\"#00ff00\",\"#00ff00\",\"#00ff00\",\"#00ffff\",\"#00ff00\",\"#00ff00\",\"#000000\",\"#00ff00\",\"#00ff00\",\"#00ff00\",\"#00ff00\",\"#00ff00\",\"#00ff00\",\"#00ff00\",\"#00ff00\",\"#00ff00\",\"#000000\",\"#00ff00\",\"#000000\",\"#00ff00\",\"#00ff00\",\"#00ff00\",\"#00ff00\",\"#00ffff\",\"#000000\",\"#00ff00\",\"#00ff00\",\"#00ff00\",\"#00ff00\",\"#00ff00\",\"#00ff00\",\"#00ffff\",\"#00ff00\",\"#00ff00\",\"#00ff00\",\"#00ff00\",\"#00ff00\",\"#00ffff\",\"#00ff00\",\"#00ff00\",\"#00ff00\",\"#00ff00\",\"#00ff00\",\"#00ffff\",\"#00ff00\",\"#00ffff\",\"#00ffff\",\"#00ff00\",\"#00ff00\",\"#000000\",\"#00ff00\",\"#00ff00\",\"#00ff00\",\"#00ff00\",\"#00ffff\",\"#00ff00\",\"#00ff00\",\"#00ffff\",\"#00ff00\",\"#00ff00\",\"#00ff00\",\"#00ff00\",\"#00ff00\",\"#00ffff\",\"#00ff00\",\"#00ff00\",\"#00ff00\",\"#00ff00\",\"#00ff00\",\"#00ff00\",\"#00ff00\",\"#00ff00\",\"#00ffff\",\"#00ffff\",\"#00ff00\",\"#00ff00\",\"#00ff00\",\"#000000\",\"#00ff00\",\"#00ff00\",\"#00ffff\",\"#00ff00\",\"#00ff00\",\"#00ff00\",\"#00ff00\",\"#000000\",\"#000000\",\"#00ffff\",\"#00ff00\",\"#00ff00\",\"#00ff00\",\"#000000\",\"#00ff00\",\"#00ff00\",\"#00ff00\",\"#00ff00\",\"#00ff00\",\"#000000\",\"#00ffff\",\"#00ff00\",\"#00ff00\",\"#00ff00\",\"#00ff00\",\"#000000\",\"#00ff00\",\"#00ff00\",\"#00ff00\",\"#00ff00\",\"#00ff00\",\"#00ff00\",\"#00ff00\",\"#00ff00\",\"#00ff00\",\"#00ff00\",\"#00ff00\",\"#00ff00\",\"#00ffff\",\"#00ff00\",\"#00ff00\",\"#00ff00\",\"#00ffff\",\"#00ff00\",\"#00ffff\",\"#00ffff\",\"#00ff00\",\"#00ff00\",\"#00ffff\",\"#00ff00\",\"#00ff00\",\"#00ff00\",\"#00ff00\",\"#00ffff\",\"#00ff00\",\"#00ff00\",\"#00ff00\",\"#00ff00\",\"#00ff00\",\"#00ff00\",\"#00ff00\",\"#00ffff\",\"#00ffff\",\"#00ff00\",\"#000000\",\"#00ff00\",\"#00ff00\",\"#00ff00\",\"#00ff00\",\"#00ff00\",\"#00ff00\",\"#00ff00\",\"#000000\",\"#00ff00\",\"#00ff00\",\"#00ffff\",\"#00ff00\",\"#00ff00\",\"#00ff00\",\"#00ffff\",\"#00ff00\",\"#00ff00\",\"#00ff00\",\"#00ff00\",\"#00ff00\",\"#00ff00\",\"#00ff00\",\"#00ffff\",\"#00ff00\",\"#00ff00\",\"#00ff00\",\"#00ff00\",\"#00ff00\",\"#00ffff\",\"#00ffff\",\"#00ff00\",\"#00ff00\",\"#00ff00\",\"#00ff00\",\"#00ff00\",\"#00ff00\",\"#00ff00\",\"#00ff00\",\"#00ff00\",\"#00ff00\",\"#00ff00\",\"#00ffff\",\"#00ff00\",\"#00ff00\",\"#00ffff\",\"#00ff00\",\"#00ff00\",\"#00ff00\",\"#00ff00\",\"#00ff00\",\"#00ff00\",\"#00ff00\",\"#00ffff\",\"#00ff00\",\"#00ff00\",\"#00ff00\",\"#00ff00\",\"#00ff00\",\"#00ffff\",\"#00ffff\",\"#00ff00\",\"#00ffff\",\"#00ff00\",\"#00ffff\",\"#00ff00\",\"#00ff00\",\"#00ffff\",\"#00ff00\",\"#000000\",\"#00ff00\",\"#00ff00\",\"#00ff00\",\"#00ff00\",\"#00ff00\",\"#00ffff\",\"#00ff00\",\"#00ff00\",\"#000000\",\"#00ff00\",\"#00ff00\",\"#00ff00\",\"#00ff00\",\"#00ff00\",\"#000000\",\"#00ff00\",\"#00ff00\",\"#00ff00\",\"#00ff00\",\"#00ff00\",\"#00ff00\",\"#00ffff\",\"#00ff00\",\"#00ffff\",\"#00ff00\",\"#00ff00\",\"#00ff00\",\"#00ff00\",\"#00ff00\",\"#00ff00\",\"#00ff00\",\"#00ff00\",\"#000000\",\"#00ffff\",\"#00ff00\",\"#00ff00\",\"#00ff00\",\"#00ff00\",\"#00ffff\",\"#00ff00\",\"#00ff00\",\"#00ff00\",\"#00ff00\",\"#00ff00\",\"#00ffff\",\"#00ff00\",\"#000000\",\"#00ffff\",\"#00ff00\",\"#00ffff\",\"#00ff00\",\"#00ff00\",\"#00ff00\",\"#00ff00\",\"#00ff00\",\"#00ffff\",\"#000000\",\"#00ff00\",\"#00ff00\",\"#00ff00\",\"#00ffff\",\"#00ff00\",\"#00ff00\",\"#00ff00\",\"#000000\",\"#00ff00\",\"#000000\",\"#00ff00\",\"#00ff00\",\"#00ff00\",\"#00ffff\",\"#00ff00\",\"#00ff00\",\"#00ffff\",\"#00ffff\",\"#00ff00\",\"#00ff00\",\"#00ff00\",\"#00ffff\",\"#00ff00\",\"#00ff00\",\"#00ff00\",\"#00ff00\",\"#00ff00\",\"#00ff00\",\"#000000\",\"#000000\",\"#000000\",\"#00ff00\",\"#00ff00\",\"#00ff00\",\"#00ff00\",\"#00ff00\",\"#00ffff\",\"#00ff00\",\"#000000\",\"#00ff00\",\"#00ff00\",\"#00ff00\",\"#00ff00\",\"#00ff00\",\"#00ff00\",\"#00ff00\",\"#00ff00\",\"#00ffff\",\"#00ff00\",\"#00ffff\",\"#000000\",\"#00ff00\",\"#00ff00\",\"#00ffff\",\"#00ff00\",\"#00ff00\",\"#00ff00\",\"#00ff00\",\"#00ff00\",\"#00ff00\",\"#00ff00\",\"#00ff00\",\"#00ff00\",\"#00ff00\",\"#00ff00\",\"#00ff00\",\"#00ff00\",\"#00ff00\",\"#00ff00\",\"#00ff00\",\"#00ffff\",\"#00ffff\",\"#000000\",\"#000000\",\"#00ff00\",\"#00ff00\",\"#00ffff\",\"#00ff00\",\"#00ff00\",\"#00ff00\",\"#00ff00\",\"#00ff00\",\"#00ff00\",\"#000000\",\"#000000\",\"#00ff00\",\"#00ff00\",\"#00ffff\",\"#00ffff\",\"#000000\",\"#00ffff\",\"#00ff00\",\"#00ff00\",\"#00ff00\",\"#00ff00\",\"#00ff00\",\"#00ff00\",\"#00ff00\",\"#00ff00\",\"#00ff00\",\"#00ff00\",\"#00ff00\",\"#00ff00\",\"#00ff00\",\"#00ff00\",\"#00ff00\",\"#00ffff\",\"#00ff00\",\"#00ff00\",\"#00ff00\",\"#00ff00\",\"#00ff00\",\"#000000\",\"#00ff00\",\"#00ff00\",\"#00ff00\",\"#00ff00\",\"#00ff00\",\"#00ff00\",\"#00ff00\",\"#00ff00\",\"#00ff00\",\"#00ff00\",\"#00ff00\",\"#00ff00\",\"#00ff00\",\"#00ff00\",\"#00ff00\",\"#00ff00\",\"#00ffff\",\"#00ff00\",\"#00ff00\",\"#00ff00\",\"#00ff00\",\"#00ff00\",\"#00ffff\",\"#00ff00\",\"#00ff00\",\"#00ff00\",\"#00ffff\",\"#00ff00\",\"#00ff00\",\"#00ff00\",\"#000000\",\"#00ff00\",\"#00ff00\",\"#00ff00\",\"#00ff00\",\"#000000\",\"#00ff00\",\"#00ff00\",\"#00ff00\",\"#00ff00\",\"#00ff00\",\"#00ff00\",\"#00ff00\",\"#00ff00\",\"#00ff00\",\"#00ff00\",\"#000000\",\"#00ffff\",\"#00ff00\",\"#00ff00\",\"#00ffff\",\"#00ff00\",\"#00ff00\",\"#00ff00\",\"#00ff00\",\"#00ff00\",\"#00ff00\",\"#00ff00\",\"#00ff00\",\"#000000\",\"#00ff00\",\"#00ff00\",\"#00ff00\",\"#00ff00\",\"#00ff00\",\"#00ff00\",\"#000000\",\"#00ff00\",\"#00ff00\",\"#00ff00\",\"#00ff00\",\"#00ff00\",\"#00ff00\",\"#00ff00\",\"#00ffff\",\"#00ffff\",\"#00ff00\",\"#00ffff\",\"#00ff00\",\"#00ff00\",\"#00ff00\",\"#000000\",\"#00ff00\",\"#00ff00\",\"#00ffff\",\"#00ff00\",\"#00ff00\",\"#00ff00\",\"#00ff00\",\"#00ff00\",\"#00ff00\",\"#00ff00\",\"#00ffff\",\"#00ffff\",\"#00ffff\",\"#00ff00\",\"#00ff00\",\"#00ff00\",\"#00ffff\",\"#00ff00\",\"#00ff00\",\"#00ff00\",\"#00ff00\",\"#000000\",\"#00ff00\",\"#00ff00\",\"#00ff00\",\"#00ffff\",\"#00ff00\",\"#00ff00\",\"#00ff00\",\"#00ff00\",\"#00ff00\",\"#00ff00\",\"#00ff00\",\"#00ff00\",\"#00ff00\",\"#000000\",\"#00ffff\",\"#00ff00\",\"#00ff00\",\"#00ff00\",\"#00ff00\",\"#00ffff\",\"#00ff00\",\"#00ff00\",\"#00ffff\",\"#00ffff\",\"#00ff00\",\"#00ff00\",\"#00ff00\",\"#00ff00\",\"#00ff00\",\"#00ff00\",\"#000000\",\"#00ff00\",\"#00ff00\",\"#000000\",\"#00ff00\",\"#00ff00\",\"#000000\",\"#00ff00\",\"#00ff00\",\"#00ffff\",\"#00ff00\",\"#00ff00\",\"#00ff00\",\"#00ff00\",\"#00ff00\",\"#000000\",\"#00ff00\",\"#00ffff\",\"#00ff00\",\"#00ff00\",\"#00ff00\",\"#00ffff\",\"#00ff00\",\"#00ff00\",\"#00ffff\",\"#00ff00\",\"#00ff00\",\"#00ffff\",\"#00ff00\",\"#00ff00\",\"#00ff00\",\"#00ff00\",\"#00ffff\",\"#00ffff\",\"#00ff00\",\"#00ff00\",\"#00ff00\",\"#00ffff\",\"#000000\",\"#00ff00\",\"#00ff00\",\"#00ff00\",\"#00ff00\",\"#000000\",\"#00ffff\",\"#00ffff\",\"#00ff00\",\"#00ff00\",\"#00ff00\",\"#00ffff\",\"#00ff00\",\"#00ff00\",\"#00ffff\",\"#00ff00\",\"#00ff00\",\"#00ff00\",\"#00ff00\",\"#00ff00\",\"#00ff00\",\"#00ffff\",\"#000000\",\"#00ffff\",\"#00ff00\",\"#00ff00\",\"#00ff00\",\"#00ff00\",\"#00ff00\",\"#00ff00\",\"#00ffff\",\"#00ff00\",\"#00ffff\",\"#00ff00\",\"#00ff00\",\"#00ff00\",\"#00ff00\",\"#00ff00\",\"#00ff00\",\"#00ffff\",\"#000000\",\"#00ff00\",\"#00ff00\",\"#000000\",\"#00ff00\",\"#00ffff\",\"#00ff00\",\"#00ffff\",\"#00ffff\",\"#00ff00\",\"#00ff00\",\"#00ff00\",\"#00ff00\",\"#000000\",\"#00ff00\",\"#00ff00\",\"#00ff00\",\"#00ff00\",\"#00ff00\",\"#00ffff\",\"#00ff00\",\"#00ff00\",\"#00ff00\",\"#00ff00\",\"#00ff00\",\"#00ffff\",\"#00ffff\",\"#00ff00\",\"#00ffff\",\"#00ff00\",\"#00ffff\",\"#00ff00\",\"#00ff00\",\"#00ff00\",\"#00ff00\",\"#00ff00\",\"#000000\",\"#00ff00\",\"#00ff00\",\"#00ff00\",\"#00ff00\",\"#00ff00\",\"#00ff00\",\"#00ff00\",\"#00ff00\",\"#000000\",\"#00ffff\",\"#00ffff\",\"#00ff00\",\"#00ff00\",\"#00ff00\",\"#00ff00\",\"#00ff00\",\"#00ff00\",\"#00ff00\",\"#00ff00\",\"#00ff00\",\"#00ff00\",\"#00ff00\",\"#00ff00\",\"#00ff00\",\"#000000\",\"#00ff00\",\"#00ff00\",\"#00ffff\",\"#00ff00\",\"#000000\",\"#00ff00\",\"#00ff00\",\"#00ff00\",\"#00ff00\",\"#00ff00\",\"#00ffff\",\"#00ff00\",\"#00ff00\",\"#00ffff\",\"#00ff00\",\"#00ff00\",\"#00ff00\",\"#00ffff\",\"#00ff00\",\"#00ffff\",\"#00ffff\",\"#00ffff\",\"#00ff00\",\"#00ff00\",\"#00ff00\",\"#00ffff\",\"#00ff00\",\"#00ff00\",\"#000000\",\"#00ff00\",\"#00ff00\",\"#00ff00\",\"#00ff00\",\"#00ff00\",\"#00ff00\",\"#000000\",\"#00ff00\",\"#00ff00\",\"#00ff00\",\"#00ff00\",\"#00ff00\",\"#00ffff\",\"#00ff00\",\"#00ff00\",\"#00ff00\",\"#00ffff\",\"#00ff00\",\"#00ff00\",\"#00ffff\",\"#00ff00\",\"#00ff00\",\"#00ff00\",\"#00ff00\",\"#00ff00\",\"#00ff00\",\"#00ff00\",\"#00ff00\",\"#00ffff\",\"#00ffff\",\"#00ff00\",\"#000000\",\"#00ff00\",\"#00ff00\",\"#00ff00\",\"#00ff00\",\"#00ffff\",\"#00ff00\",\"#00ff00\",\"#00ff00\",\"#00ff00\",\"#000000\",\"#00ffff\",\"#00ff00\",\"#00ff00\",\"#00ffff\",\"#000000\",\"#00ff00\",\"#000000\",\"#00ff00\",\"#00ff00\",\"#00ff00\",\"#00ff00\",\"#00ff00\",\"#00ff00\",\"#00ff00\",\"#00ff00\",\"#000000\",\"#00ff00\",\"#00ffff\",\"#00ff00\",\"#00ff00\",\"#00ff00\",\"#00ff00\",\"#00ff00\",\"#00ff00\",\"#00ffff\",\"#00ff00\",\"#00ff00\",\"#00ff00\",\"#00ff00\",\"#00ff00\",\"#00ffff\",\"#00ffff\",\"#00ff00\",\"#00ff00\",\"#00ff00\",\"#00ff00\",\"#00ffff\",\"#00ffff\",\"#00ff00\",\"#00ff00\",\"#00ff00\",\"#00ff00\",\"#00ff00\",\"#00ff00\",\"#00ff00\",\"#00ff00\",\"#00ff00\",\"#00ff00\",\"#00ff00\",\"#00ff00\",\"#00ff00\",\"#00ff00\",\"#000000\",\"#00ffff\",\"#00ff00\",\"#00ff00\",\"#00ff00\",\"#00ff00\",\"#00ff00\",\"#00ff00\",\"#00ff00\",\"#00ff00\",\"#00ff00\",\"#00ff00\",\"#00ff00\",\"#00ff00\",\"#00ff00\",\"#00ff00\",\"#000000\",\"#00ff00\",\"#00ff00\",\"#00ff00\",\"#00ff00\",\"#00ff00\",\"#00ff00\",\"#00ff00\",\"#00ff00\",\"#00ffff\",\"#000000\",\"#00ff00\",\"#00ffff\",\"#00ff00\",\"#00ff00\",\"#00ff00\",\"#000000\",\"#000000\",\"#00ff00\",\"#00ff00\",\"#00ff00\",\"#00ff00\",\"#00ff00\",\"#00ff00\",\"#00ff00\",\"#00ff00\",\"#00ff00\",\"#00ff00\",\"#00ff00\",\"#00ff00\",\"#00ff00\",\"#00ffff\",\"#00ff00\",\"#00ffff\",\"#00ff00\",\"#00ffff\",\"#00ff00\",\"#00ff00\",\"#00ff00\",\"#00ff00\",\"#00ff00\",\"#00ff00\",\"#00ff00\",\"#00ff00\",\"#000000\",\"#00ff00\",\"#00ff00\",\"#00ff00\",\"#00ffff\",\"#00ff00\",\"#00ff00\",\"#00ff00\",\"#00ff00\",\"#00ff00\",\"#00ff00\",\"#00ff00\",\"#00ffff\",\"#00ffff\",\"#00ffff\",\"#00ff00\",\"#00ff00\",\"#00ff00\",\"#00ff00\",\"#00ff00\",\"#00ff00\",\"#000000\",\"#00ff00\",\"#00ff00\",\"#00ffff\",\"#00ff00\",\"#00ff00\",\"#00ff00\",\"#00ff00\",\"#00ffff\",\"#000000\",\"#000000\",\"#00ff00\",\"#00ff00\",\"#000000\",\"#00ff00\",\"#00ff00\",\"#000000\",\"#00ffff\",\"#00ff00\",\"#00ff00\",\"#00ff00\",\"#00ff00\",\"#00ffff\",\"#00ff00\",\"#00ffff\",\"#00ff00\",\"#00ff00\",\"#00ff00\",\"#00ff00\",\"#00ff00\",\"#00ff00\",\"#00ff00\",\"#00ff00\",\"#00ff00\",\"#00ff00\",\"#00ff00\",\"#00ff00\",\"#00ff00\",\"#00ff00\",\"#00ff00\",\"#00ff00\",\"#00ff00\",\"#00ff00\",\"#00ff00\",\"#000000\",\"#000000\",\"#00ff00\",\"#00ff00\",\"#00ff00\",\"#00ff00\",\"#00ff00\",\"#00ffff\",\"#00ffff\",\"#00ff00\",\"#00ff00\",\"#00ff00\",\"#00ff00\",\"#00ff00\",\"#00ff00\",\"#00ff00\",\"#00ffff\",\"#00ffff\",\"#00ff00\",\"#00ff00\",\"#00ffff\",\"#00ff00\",\"#00ff00\",\"#00ff00\",\"#00ff00\",\"#00ffff\",\"#00ff00\",\"#00ff00\",\"#00ff00\",\"#00ffff\",\"#00ff00\",\"#000000\",\"#00ff00\",\"#00ff00\",\"#00ff00\",\"#00ff00\",\"#00ff00\",\"#00ff00\",\"#00ff00\",\"#00ff00\",\"#000000\",\"#00ff00\",\"#00ff00\",\"#00ffff\",\"#00ff00\",\"#00ff00\",\"#00ff00\",\"#00ff00\",\"#000000\",\"#00ff00\",\"#00ff00\",\"#00ff00\",\"#00ff00\",\"#00ff00\",\"#00ff00\",\"#00ff00\",\"#00ff00\",\"#000000\",\"#00ff00\",\"#00ff00\",\"#00ff00\",\"#00ffff\",\"#00ff00\",\"#00ff00\",\"#00ff00\",\"#00ff00\",\"#000000\",\"#00ffff\",\"#00ffff\",\"#00ff00\",\"#00ff00\",\"#00ff00\",\"#00ff00\",\"#00ff00\",\"#00ff00\",\"#00ff00\",\"#00ff00\",\"#00ff00\",\"#00ffff\",\"#00ff00\",\"#00ff00\",\"#00ff00\",\"#000000\",\"#00ff00\",\"#00ff00\",\"#00ff00\",\"#000000\",\"#00ff00\",\"#00ff00\",\"#00ff00\",\"#00ffff\",\"#00ff00\",\"#00ff00\",\"#00ff00\",\"#00ff00\",\"#00ff00\",\"#00ff00\",\"#00ff00\",\"#00ffff\",\"#00ff00\",\"#000000\",\"#00ff00\",\"#00ff00\",\"#00ff00\",\"#00ff00\",\"#00ff00\",\"#00ff00\",\"#00ff00\",\"#00ff00\",\"#00ff00\",\"#00ff00\",\"#00ff00\",\"#00ff00\",\"#00ff00\",\"#00ff00\",\"#00ff00\",\"#00ff00\",\"#00ff00\",\"#00ff00\",\"#00ff00\",\"#00ff00\",\"#00ff00\",\"#00ffff\",\"#00ffff\",\"#00ff00\",\"#000000\",\"#00ffff\",\"#00ff00\",\"#00ffff\",\"#00ffff\",\"#00ff00\",\"#00ffff\",\"#00ff00\",\"#00ff00\",\"#00ff00\",\"#000000\",\"#00ff00\",\"#000000\",\"#00ff00\",\"#000000\",\"#00ffff\",\"#00ff00\",\"#00ff00\",\"#00ff00\",\"#00ff00\",\"#00ff00\",\"#00ff00\",\"#00ff00\",\"#00ff00\",\"#00ff00\",\"#00ffff\",\"#00ff00\",\"#00ffff\",\"#00ff00\",\"#00ffff\",\"#000000\",\"#000000\",\"#00ff00\",\"#00ff00\",\"#00ffff\",\"#00ff00\",\"#000000\",\"#00ff00\",\"#00ffff\",\"#00ffff\",\"#00ff00\",\"#00ff00\",\"#00ff00\",\"#00ff00\",\"#00ff00\",\"#00ffff\",\"#00ff00\",\"#00ff00\",\"#00ff00\",\"#00ff00\",\"#00ff00\",\"#00ff00\",\"#00ff00\",\"#00ff00\",\"#00ff00\",\"#00ff00\",\"#00ffff\",\"#00ff00\",\"#00ff00\",\"#00ff00\",\"#00ff00\",\"#00ffff\",\"#00ffff\",\"#00ffff\",\"#00ff00\",\"#00ff00\",\"#00ff00\",\"#00ffff\",\"#00ff00\",\"#00ff00\",\"#000000\",\"#00ff00\",\"#00ff00\",\"#00ffff\",\"#00ff00\",\"#00ff00\",\"#00ff00\",\"#00ff00\",\"#00ff00\",\"#00ff00\",\"#00ff00\",\"#00ff00\",\"#00ff00\",\"#00ff00\",\"#00ff00\",\"#00ff00\",\"#00ff00\",\"#00ff00\",\"#000000\",\"#00ff00\",\"#00ff00\",\"#00ff00\",\"#00ff00\",\"#00ff00\",\"#00ff00\",\"#00ff00\",\"#00ff00\",\"#000000\",\"#00ff00\",\"#00ffff\",\"#00ff00\",\"#00ff00\",\"#000000\",\"#00ff00\",\"#00ff00\",\"#00ff00\",\"#00ff00\",\"#00ff00\",\"#00ff00\",\"#00ff00\",\"#000000\",\"#00ffff\",\"#00ffff\",\"#000000\",\"#00ffff\",\"#00ffff\",\"#00ff00\",\"#00ff00\",\"#00ff00\",\"#00ff00\",\"#00ffff\",\"#00ff00\",\"#00ff00\",\"#00ff00\",\"#00ff00\",\"#00ff00\",\"#00ff00\",\"#00ff00\",\"#00ff00\",\"#00ff00\",\"#00ff00\",\"#00ff00\",\"#00ff00\",\"#00ff00\",\"#00ff00\",\"#00ff00\",\"#00ffff\",\"#00ff00\",\"#00ff00\",\"#00ff00\",\"#00ff00\",\"#00ff00\",\"#00ff00\",\"#00ff00\",\"#00ff00\",\"#00ff00\",\"#00ff00\",\"#000000\",\"#00ff00\",\"#00ff00\",\"#00ff00\",\"#00ffff\",\"#00ff00\",\"#00ff00\",\"#00ff00\",\"#00ffff\",\"#00ff00\",\"#00ff00\",\"#00ffff\",\"#00ff00\",\"#00ff00\",\"#00ff00\",\"#00ff00\",\"#00ffff\",\"#00ffff\",\"#00ffff\",\"#00ff00\",\"#00ff00\",\"#00ff00\",\"#00ff00\",\"#00ff00\",\"#00ff00\",\"#00ff00\",\"#00ff00\",\"#000000\",\"#00ff00\",\"#00ffff\",\"#00ff00\",\"#00ffff\",\"#00ff00\",\"#00ffff\",\"#00ff00\",\"#000000\",\"#00ff00\",\"#00ff00\",\"#00ff00\",\"#00ff00\",\"#00ff00\",\"#00ff00\",\"#00ff00\",\"#00ff00\",\"#00ff00\",\"#00ff00\",\"#00ff00\",\"#00ff00\",\"#00ffff\",\"#00ff00\",\"#00ff00\",\"#00ff00\",\"#00ff00\",\"#00ff00\",\"#00ff00\",\"#00ff00\",\"#00ff00\",\"#00ff00\",\"#00ff00\",\"#00ff00\",\"#00ff00\",\"#00ff00\",\"#00ff00\",\"#00ff00\",\"#00ff00\",\"#00ff00\",\"#000000\",\"#000000\",\"#00ff00\",\"#00ff00\",\"#00ff00\",\"#00ff00\",\"#00ff00\",\"#00ff00\",\"#000000\",\"#00ff00\",\"#00ff00\",\"#00ff00\",\"#00ff00\",\"#00ffff\",\"#00ff00\",\"#00ff00\",\"#00ff00\",\"#00ff00\",\"#00ff00\",\"#00ff00\",\"#00ff00\",\"#00ff00\",\"#00ff00\",\"#000000\",\"#00ff00\",\"#000000\",\"#00ff00\",\"#00ff00\",\"#00ff00\",\"#00ff00\",\"#00ff00\",\"#00ff00\",\"#00ff00\",\"#00ffff\",\"#00ff00\",\"#00ffff\",\"#00ff00\",\"#00ff00\",\"#00ff00\",\"#00ff00\",\"#00ff00\",\"#00ff00\",\"#00ffff\",\"#00ffff\",\"#00ff00\",\"#00ff00\",\"#00ff00\",\"#00ff00\",\"#00ff00\",\"#00ff00\",\"#00ff00\",\"#00ffff\",\"#00ff00\",\"#00ff00\",\"#00ff00\",\"#00ff00\",\"#00ff00\",\"#00ff00\",\"#00ffff\",\"#00ff00\",\"#00ff00\",\"#00ff00\",\"#00ff00\",\"#00ff00\",\"#00ffff\",\"#00ff00\",\"#00ff00\",\"#00ffff\",\"#00ffff\",\"#00ff00\",\"#00ff00\",\"#00ff00\",\"#00ff00\",\"#00ff00\",\"#00ff00\",\"#000000\",\"#00ff00\",\"#00ffff\",\"#000000\",\"#00ff00\",\"#00ff00\",\"#00ff00\",\"#00ff00\",\"#00ff00\",\"#00ff00\",\"#00ffff\",\"#000000\",\"#00ff00\",\"#00ff00\",\"#00ffff\",\"#00ff00\",\"#00ff00\",\"#00ff00\",\"#000000\",\"#00ff00\",\"#00ff00\",\"#00ff00\",\"#00ffff\",\"#00ffff\",\"#00ff00\",\"#00ff00\",\"#00ff00\",\"#00ff00\",\"#00ff00\",\"#00ff00\",\"#00ff00\",\"#00ff00\",\"#000000\",\"#00ffff\",\"#00ff00\",\"#00ff00\",\"#00ffff\",\"#000000\",\"#00ffff\",\"#00ff00\",\"#00ff00\",\"#00ff00\",\"#00ff00\",\"#000000\",\"#00ff00\",\"#00ff00\",\"#000000\",\"#00ff00\",\"#00ff00\",\"#00ff00\",\"#00ff00\",\"#00ff00\",\"#00ff00\",\"#00ff00\",\"#00ffff\",\"#00ff00\",\"#00ff00\",\"#00ff00\",\"#00ff00\",\"#000000\",\"#00ff00\",\"#00ff00\",\"#000000\",\"#00ff00\",\"#00ffff\",\"#00ff00\",\"#00ff00\",\"#00ff00\",\"#00ff00\",\"#00ff00\",\"#00ff00\",\"#00ff00\",\"#00ff00\",\"#00ff00\",\"#00ff00\",\"#00ff00\",\"#00ff00\",\"#00ff00\",\"#00ff00\",\"#00ff00\",\"#00ff00\",\"#00ff00\",\"#00ff00\",\"#00ff00\",\"#00ffff\",\"#00ff00\",\"#00ff00\",\"#00ff00\",\"#00ff00\",\"#000000\",\"#00ffff\",\"#00ff00\",\"#00ff00\",\"#00ff00\",\"#00ff00\",\"#00ff00\",\"#00ff00\",\"#00ff00\",\"#000000\",\"#00ff00\",\"#00ff00\",\"#00ff00\",\"#00ffff\",\"#00ff00\",\"#00ff00\",\"#00ffff\",\"#00ffff\",\"#00ff00\",\"#00ff00\",\"#00ff00\",\"#000000\",\"#00ffff\",\"#00ff00\",\"#00ff00\",\"#00ff00\",\"#00ffff\",\"#00ff00\",\"#00ff00\",\"#00ff00\",\"#000000\",\"#00ff00\",\"#00ff00\",\"#00ff00\",\"#00ffff\",\"#00ff00\",\"#00ff00\",\"#00ff00\",\"#00ffff\",\"#00ff00\",\"#00ff00\",\"#000000\",\"#00ff00\",\"#00ff00\",\"#00ff00\",\"#00ff00\",\"#000000\",\"#00ff00\",\"#00ff00\",\"#00ff00\",\"#000000\",\"#00ff00\",\"#00ff00\",\"#00ff00\",\"#00ff00\",\"#00ffff\",\"#00ff00\",\"#00ff00\",\"#00ffff\",\"#00ff00\",\"#00ffff\",\"#00ffff\",\"#00ff00\",\"#00ff00\",\"#00ff00\",\"#00ff00\",\"#00ff00\",\"#00ff00\",\"#00ff00\",\"#00ff00\",\"#000000\",\"#00ff00\",\"#00ff00\",\"#00ff00\",\"#00ff00\",\"#00ff00\",\"#00ffff\",\"#00ff00\",\"#00ff00\",\"#00ff00\",\"#00ffff\",\"#00ffff\",\"#00ff00\",\"#00ff00\",\"#00ff00\",\"#00ff00\",\"#00ff00\",\"#00ff00\",\"#00ff00\",\"#00ff00\",\"#00ffff\",\"#00ff00\",\"#00ff00\",\"#00ff00\",\"#00ff00\",\"#00ff00\",\"#00ffff\",\"#00ff00\",\"#00ff00\",\"#00ff00\",\"#00ff00\",\"#00ff00\",\"#00ff00\",\"#00ff00\",\"#00ffff\",\"#00ff00\",\"#00ff00\",\"#00ff00\",\"#00ff00\",\"#00ff00\",\"#00ff00\",\"#00ff00\",\"#00ff00\",\"#00ff00\",\"#00ff00\",\"#00ffff\",\"#000000\",\"#000000\",\"#00ff00\",\"#00ff00\",\"#00ff00\",\"#00ff00\",\"#00ff00\",\"#00ff00\",\"#00ff00\",\"#00ff00\",\"#00ff00\",\"#00ff00\",\"#00ff00\",\"#00ffff\",\"#00ff00\",\"#00ff00\",\"#00ffff\",\"#00ff00\",\"#00ff00\",\"#00ffff\",\"#00ffff\",\"#000000\",\"#00ff00\",\"#00ff00\",\"#000000\",\"#00ffff\",\"#00ffff\",\"#00ff00\",\"#00ff00\",\"#00ffff\",\"#00ff00\",\"#00ff00\",\"#00ff00\",\"#00ff00\",\"#00ff00\",\"#00ffff\",\"#00ff00\",\"#00ff00\",\"#00ff00\",\"#00ff00\",\"#00ff00\",\"#00ffff\",\"#00ffff\",\"#00ff00\",\"#00ff00\",\"#00ff00\",\"#00ff00\",\"#00ff00\",\"#00ff00\",\"#00ff00\",\"#00ff00\",\"#000000\",\"#00ff00\",\"#00ffff\",\"#00ff00\",\"#00ff00\",\"#00ff00\",\"#00ff00\",\"#00ff00\",\"#00ff00\",\"#00ff00\",\"#000000\",\"#00ff00\",\"#00ff00\",\"#00ffff\",\"#00ffff\",\"#00ff00\",\"#00ff00\",\"#00ff00\",\"#00ff00\",\"#00ff00\",\"#00ff00\",\"#00ff00\",\"#000000\",\"#00ff00\",\"#00ff00\",\"#00ff00\",\"#00ffff\",\"#00ff00\",\"#00ff00\",\"#00ff00\",\"#00ff00\",\"#00ff00\",\"#00ff00\",\"#00ff00\",\"#00ff00\",\"#00ff00\",\"#00ffff\",\"#00ff00\",\"#00ffff\",\"#00ff00\",\"#00ff00\",\"#00ff00\",\"#00ff00\",\"#00ff00\",\"#00ff00\",\"#00ff00\",\"#00ff00\",\"#00ff00\",\"#00ff00\",\"#00ff00\",\"#00ff00\",\"#00ff00\",\"#00ff00\",\"#00ff00\",\"#000000\",\"#00ff00\",\"#00ff00\",\"#00ff00\",\"#00ffff\",\"#00ffff\",\"#00ff00\",\"#00ff00\",\"#00ff00\",\"#00ffff\",\"#00ff00\",\"#00ff00\",\"#00ff00\",\"#00ff00\",\"#00ff00\",\"#00ff00\",\"#00ff00\",\"#000000\",\"#00ff00\",\"#00ff00\",\"#00ff00\",\"#00ff00\",\"#00ffff\",\"#00ff00\",\"#00ff00\",\"#00ff00\",\"#00ff00\",\"#00ff00\",\"#00ffff\",\"#000000\",\"#00ff00\",\"#00ff00\",\"#00ff00\",\"#00ffff\",\"#00ff00\",\"#00ff00\",\"#00ff00\",\"#00ff00\",\"#00ff00\",\"#000000\",\"#00ff00\",\"#00ff00\",\"#00ff00\",\"#00ff00\",\"#00ff00\",\"#00ff00\",\"#00ff00\",\"#00ff00\",\"#00ff00\",\"#00ff00\",\"#00ff00\",\"#00ff00\",\"#00ff00\",\"#000000\",\"#00ff00\",\"#00ff00\",\"#00ff00\",\"#00ff00\",\"#00ff00\",\"#00ff00\",\"#000000\",\"#000000\",\"#00ff00\",\"#00ff00\",\"#00ff00\",\"#00ff00\",\"#00ff00\",\"#00ff00\",\"#00ffff\",\"#00ff00\",\"#00ff00\",\"#00ff00\",\"#00ff00\",\"#00ff00\",\"#00ff00\",\"#00ff00\",\"#00ff00\",\"#00ff00\",\"#00ff00\",\"#00ff00\",\"#00ff00\",\"#000000\",\"#00ffff\",\"#00ff00\",\"#00ff00\",\"#00ffff\",\"#00ff00\",\"#00ff00\",\"#00ff00\",\"#00ff00\",\"#00ff00\",\"#000000\",\"#00ff00\",\"#00ff00\",\"#00ff00\",\"#00ffff\",\"#00ff00\",\"#00ff00\",\"#00ff00\",\"#00ff00\",\"#00ff00\",\"#00ff00\",\"#00ff00\",\"#000000\",\"#00ff00\",\"#00ff00\",\"#00ffff\",\"#00ff00\",\"#000000\",\"#00ff00\",\"#00ff00\",\"#00ff00\",\"#00ff00\",\"#00ffff\",\"#00ff00\",\"#00ff00\",\"#00ff00\",\"#00ff00\",\"#00ff00\",\"#00ff00\",\"#00ff00\",\"#00ff00\",\"#00ff00\",\"#00ff00\",\"#00ff00\",\"#00ff00\",\"#00ff00\",\"#00ff00\",\"#00ff00\",\"#00ff00\",\"#00ff00\",\"#00ffff\",\"#000000\",\"#00ff00\",\"#00ff00\",\"#00ff00\",\"#00ff00\",\"#00ff00\",\"#00ff00\",\"#00ff00\",\"#00ff00\",\"#00ff00\",\"#00ff00\",\"#00ff00\",\"#00ff00\",\"#00ff00\",\"#00ff00\",\"#00ffff\",\"#00ff00\",\"#000000\",\"#00ff00\",\"#00ff00\",\"#00ff00\",\"#00ff00\",\"#00ffff\",\"#00ff00\",\"#00ff00\",\"#00ff00\",\"#00ff00\",\"#00ff00\",\"#00ff00\",\"#00ff00\",\"#00ff00\",\"#00ff00\",\"#000000\",\"#00ff00\",\"#00ff00\",\"#00ff00\",\"#00ff00\",\"#00ff00\",\"#000000\",\"#00ff00\",\"#00ffff\",\"#00ff00\",\"#00ff00\",\"#00ffff\",\"#00ff00\",\"#00ff00\",\"#00ff00\",\"#00ff00\",\"#00ff00\",\"#00ff00\",\"#00ff00\",\"#000000\",\"#00ff00\",\"#000000\",\"#00ff00\",\"#00ff00\",\"#000000\",\"#00ffff\",\"#00ff00\",\"#00ff00\",\"#00ff00\",\"#00ff00\",\"#00ff00\",\"#00ff00\",\"#00ffff\",\"#00ff00\",\"#000000\",\"#00ff00\",\"#00ff00\",\"#00ff00\",\"#00ff00\",\"#00ff00\",\"#00ff00\",\"#00ff00\",\"#000000\",\"#00ff00\",\"#00ffff\",\"#00ff00\",\"#00ff00\",\"#00ff00\",\"#00ff00\",\"#00ff00\",\"#00ffff\",\"#00ff00\",\"#00ffff\",\"#00ff00\",\"#00ffff\",\"#00ff00\",\"#00ff00\",\"#00ff00\",\"#00ff00\",\"#00ff00\",\"#00ff00\",\"#00ff00\",\"#00ffff\",\"#00ff00\",\"#00ff00\",\"#00ff00\",\"#00ff00\",\"#00ff00\",\"#000000\",\"#00ff00\",\"#00ff00\",\"#00ff00\",\"#00ff00\",\"#00ff00\",\"#00ff00\",\"#00ff00\",\"#00ff00\",\"#00ff00\",\"#00ff00\",\"#00ffff\",\"#00ff00\",\"#00ff00\",\"#00ff00\",\"#00ff00\",\"#00ff00\",\"#00ff00\",\"#00ff00\",\"#000000\",\"#00ffff\",\"#00ff00\",\"#00ff00\",\"#00ff00\",\"#00ff00\",\"#00ff00\",\"#00ff00\",\"#00ff00\",\"#00ff00\",\"#00ffff\",\"#00ff00\",\"#00ff00\",\"#00ff00\",\"#00ff00\",\"#00ff00\",\"#00ffff\",\"#00ff00\",\"#00ff00\",\"#00ff00\",\"#000000\",\"#00ff00\",\"#00ff00\",\"#00ff00\",\"#00ff00\",\"#00ff00\",\"#00ff00\",\"#00ff00\",\"#00ff00\",\"#00ff00\",\"#00ff00\",\"#00ff00\",\"#00ffff\",\"#00ffff\",\"#00ff00\",\"#000000\",\"#00ff00\",\"#00ffff\",\"#00ffff\",\"#00ff00\",\"#00ffff\",\"#00ff00\",\"#00ff00\",\"#00ff00\",\"#00ff00\",\"#00ff00\",\"#00ff00\",\"#000000\",\"#00ff00\",\"#00ff00\",\"#00ff00\",\"#00ff00\",\"#000000\",\"#00ff00\",\"#00ff00\",\"#00ff00\",\"#00ff00\",\"#00ff00\",\"#00ffff\",\"#00ff00\",\"#000000\",\"#00ff00\",\"#00ffff\",\"#00ff00\",\"#00ff00\",\"#00ff00\",\"#00ffff\",\"#00ff00\",\"#00ff00\",\"#00ff00\",\"#00ffff\",\"#00ff00\",\"#00ff00\",\"#00ff00\",\"#00ff00\",\"#00ffff\",\"#00ff00\",\"#00ff00\",\"#00ff00\",\"#00ff00\",\"#00ff00\",\"#00ff00\",\"#00ff00\",\"#00ffff\",\"#00ff00\",\"#00ff00\",\"#00ff00\",\"#00ffff\",\"#00ff00\",\"#00ff00\",\"#00ff00\",\"#000000\",\"#00ff00\",\"#00ff00\",\"#00ff00\",\"#00ff00\",\"#00ffff\",\"#00ff00\",\"#00ff00\",\"#00ff00\",\"#00ff00\",\"#00ff00\",\"#00ff00\",\"#00ff00\",\"#00ff00\",\"#00ff00\",\"#00ffff\",\"#00ff00\",\"#00ff00\",\"#00ff00\",\"#00ff00\",\"#00ff00\",\"#00ff00\",\"#00ffff\",\"#000000\",\"#00ff00\",\"#00ff00\",\"#00ff00\",\"#00ff00\",\"#00ff00\",\"#00ff00\",\"#00ff00\",\"#00ff00\",\"#00ffff\",\"#000000\",\"#00ff00\",\"#00ff00\",\"#00ff00\",\"#00ffff\",\"#00ff00\",\"#00ff00\",\"#00ffff\",\"#000000\",\"#00ff00\",\"#00ff00\",\"#00ff00\",\"#00ffff\",\"#00ff00\",\"#000000\",\"#00ff00\",\"#00ff00\",\"#00ff00\",\"#00ff00\",\"#00ff00\",\"#00ff00\",\"#00ff00\",\"#00ff00\",\"#00ff00\",\"#00ff00\",\"#00ff00\",\"#00ff00\",\"#00ff00\",\"#00ff00\",\"#00ff00\",\"#00ffff\",\"#00ff00\",\"#00ff00\",\"#00ffff\",\"#00ff00\",\"#00ffff\",\"#00ff00\",\"#00ff00\",\"#00ff00\",\"#00ff00\",\"#00ff00\",\"#00ff00\",\"#000000\",\"#00ff00\",\"#00ff00\",\"#00ffff\",\"#00ff00\",\"#00ff00\",\"#00ff00\",\"#00ff00\",\"#00ff00\",\"#00ff00\",\"#00ff00\",\"#00ff00\",\"#00ff00\",\"#00ff00\",\"#000000\",\"#00ff00\",\"#00ffff\",\"#00ff00\",\"#00ff00\",\"#00ff00\",\"#000000\",\"#00ff00\",\"#00ff00\",\"#00ff00\",\"#00ff00\",\"#00ff00\",\"#00ff00\",\"#00ffff\",\"#00ffff\",\"#00ff00\",\"#00ff00\",\"#00ff00\",\"#00ff00\",\"#00ffff\",\"#00ff00\",\"#00ff00\",\"#00ffff\",\"#00ff00\",\"#00ff00\",\"#00ff00\",\"#00ff00\",\"#00ffff\",\"#00ff00\",\"#000000\",\"#00ff00\",\"#00ffff\",\"#00ff00\",\"#00ff00\",\"#00ff00\",\"#00ff00\",\"#00ffff\",\"#00ff00\",\"#00ff00\",\"#00ff00\",\"#00ff00\",\"#00ff00\",\"#00ff00\",\"#00ff00\",\"#00ff00\",\"#000000\",\"#00ff00\",\"#00ff00\",\"#00ff00\",\"#00ffff\",\"#000000\",\"#00ff00\",\"#00ff00\",\"#00ff00\",\"#000000\",\"#00ff00\",\"#00ff00\",\"#00ff00\",\"#00ffff\",\"#00ff00\",\"#00ff00\",\"#00ffff\",\"#00ff00\",\"#00ff00\",\"#000000\",\"#00ff00\",\"#00ff00\",\"#00ff00\",\"#000000\",\"#00ff00\",\"#00ff00\",\"#00ffff\",\"#00ff00\",\"#000000\",\"#00ff00\",\"#00ff00\",\"#00ff00\",\"#00ff00\",\"#00ff00\",\"#00ff00\",\"#00ffff\",\"#00ff00\",\"#00ffff\",\"#00ff00\",\"#00ff00\",\"#000000\",\"#00ff00\",\"#00ffff\",\"#00ff00\",\"#00ff00\",\"#00ff00\",\"#00ffff\",\"#00ff00\",\"#000000\",\"#00ff00\",\"#00ff00\",\"#00ff00\",\"#00ff00\",\"#000000\",\"#00ff00\",\"#00ff00\",\"#00ff00\",\"#00ff00\",\"#00ffff\",\"#00ff00\",\"#00ff00\",\"#00ff00\",\"#00ffff\",\"#00ff00\",\"#00ff00\",\"#00ff00\",\"#00ff00\",\"#00ff00\",\"#00ff00\",\"#00ff00\",\"#00ff00\",\"#00ff00\",\"#00ff00\",\"#00ffff\",\"#00ff00\",\"#00ff00\",\"#00ff00\",\"#000000\",\"#00ff00\",\"#00ffff\",\"#00ff00\",\"#00ff00\",\"#00ff00\",\"#00ff00\",\"#00ff00\",\"#00ff00\",\"#00ff00\",\"#00ffff\",\"#00ff00\",\"#000000\",\"#00ff00\",\"#00ff00\",\"#00ff00\",\"#00ff00\",\"#00ff00\",\"#00ff00\",\"#00ff00\",\"#00ff00\",\"#00ff00\",\"#00ff00\",\"#00ff00\",\"#00ff00\",\"#00ff00\",\"#00ff00\",\"#00ff00\",\"#00ff00\",\"#00ff00\",\"#00ff00\",\"#000000\",\"#00ff00\",\"#00ffff\",\"#00ff00\",\"#00ff00\",\"#00ff00\",\"#00ffff\",\"#00ff00\",\"#00ff00\",\"#00ffff\",\"#00ff00\",\"#00ff00\",\"#00ff00\",\"#00ff00\",\"#00ff00\",\"#00ff00\",\"#00ff00\",\"#00ff00\",\"#000000\",\"#00ff00\",\"#00ff00\",\"#00ff00\",\"#00ff00\",\"#00ff00\",\"#00ff00\",\"#00ff00\",\"#00ff00\",\"#00ff00\",\"#00ff00\",\"#00ff00\",\"#00ff00\",\"#00ff00\",\"#00ff00\",\"#00ff00\",\"#00ff00\",\"#00ffff\",\"#00ff00\",\"#00ff00\",\"#00ff00\",\"#00ff00\",\"#000000\",\"#00ffff\",\"#00ff00\",\"#00ffff\",\"#00ff00\",\"#00ff00\",\"#00ff00\",\"#00ff00\",\"#00ff00\",\"#00ff00\",\"#00ff00\",\"#000000\",\"#00ff00\",\"#00ffff\",\"#00ffff\",\"#00ff00\",\"#00ff00\",\"#00ff00\",\"#00ff00\",\"#00ff00\",\"#00ff00\",\"#000000\",\"#00ff00\",\"#00ffff\",\"#00ff00\",\"#000000\",\"#000000\",\"#00ff00\",\"#00ff00\",\"#00ff00\",\"#00ff00\",\"#00ff00\",\"#00ffff\",\"#000000\",\"#00ff00\",\"#00ffff\",\"#00ff00\",\"#00ff00\",\"#00ffff\",\"#00ffff\",\"#00ff00\",\"#00ffff\",\"#00ff00\",\"#00ff00\",\"#00ffff\",\"#00ffff\",\"#00ff00\",\"#00ff00\",\"#00ff00\",\"#000000\",\"#00ff00\",\"#00ff00\",\"#000000\",\"#00ff00\",\"#000000\",\"#00ff00\",\"#000000\",\"#00ff00\",\"#00ffff\",\"#00ff00\",\"#00ff00\",\"#00ff00\",\"#000000\",\"#00ff00\",\"#00ff00\",\"#00ffff\",\"#00ffff\",\"#00ff00\",\"#00ff00\",\"#000000\"],\"names\":[\"<unk>\",\"<pad>\",\"modi\",\"india\",\"people\",\"bjp\",\"congress\",\"like\",\"narendra\",\"election\",\"vote\",\"year\",\"govt\",\"indian\",\"time\",\"country\",\"modis\",\"dont\",\"nation\",\"know\",\"rahul\",\"want\",\"government\",\"party\",\"minister\",\"power\",\"gandhi\",\"leader\",\"say\",\"good\",\"space\",\"credit\",\"come\",\"need\",\"said\",\"think\",\"sir\",\"pakistan\",\"prime\",\"work\",\"money\",\"scientist\",\"opposition\",\"day\",\"support\",\"chowkidar\",\"today\",\"win\",\"job\",\"hai\",\"right\",\"new\",\"world\",\"thing\",\"great\",\"news\",\"poor\",\"satellite\",\"let\",\"drdo\",\"medium\",\"anti\",\"nehru\",\"political\",\"nirav\",\"address\",\"live\",\"question\",\"lakh\",\"family\",\"best\",\"way\",\"achievement\",\"mission\",\"going\",\"scheme\",\"better\",\"seat\",\"crore\",\"man\",\"promise\",\"state\",\"campaign\",\"proud\",\"national\",\"given\",\"got\",\"yes\",\"hindu\",\"watch\",\"thats\",\"ask\",\"issue\",\"hate\",\"strike\",\"shah\",\"speech\",\"big\",\"namo\",\"didnt\",\"development\",\"upa\",\"person\",\"stop\",\"rally\",\"muslim\",\"politics\",\"guy\",\"jai\",\"mean\",\"shakti\",\"look\",\"missile\",\"tweet\",\"tell\",\"saying\",\"love\",\"public\",\"giving\",\"asat\",\"reason\",\"making\",\"understand\",\"doesnt\",\"talk\",\"fake\",\"thanks\",\"test\",\"life\",\"gave\",\"pappu\",\"sure\",\"true\",\"corruption\",\"interview\",\"isro\",\"congratulation\",\"fact\",\"hope\",\"read\",\"candidate\",\"announcement\",\"rule\",\"real\",\"bank\",\"attack\",\"supporter\",\"called\",\"case\",\"voter\",\"help\",\"account\",\"wrong\",\"problem\",\"believe\",\"video\",\"change\",\"don\",\"terrorist\",\"bhakts\",\"lie\",\"r\",\"varanasi\",\"economy\",\"yr\",\"farmer\",\"policy\",\"team\",\"poll\",\"strong\",\"chor\",\"word\",\"force\",\"trying\",\"bhi\",\"taking\",\"answer\",\"bharat\",\"ppl\",\"contest\",\"coming\",\"leadership\",\"success\",\"court\",\"shame\",\"away\",\"china\",\"code\",\"sarkar\",\"dear\",\"term\",\"started\",\"failed\",\"promised\",\"talking\",\"sabha\",\"chief\",\"fight\",\"corrupt\",\"decision\",\"tax\",\"surgical\",\"happy\",\"thank\",\"feel\",\"wont\",\"lok\",\"air\",\"friend\",\"start\",\"army\",\"hand\",\"stand\",\"security\",\"getting\",\"use\",\"point\",\"face\",\"scam\",\"hard\",\"go\",\"free\",\"lot\",\"democracy\",\"matter\",\"till\",\"fool\",\"politician\",\"app\",\"shri\",\"seen\",\"citizen\",\"conduct\",\"bring\",\"long\",\"gujarat\",\"taken\",\"statement\",\"happened\",\"important\",\"post\",\"came\",\"amit\",\"pak\",\"asking\",\"bad\",\"hind\",\"proof\",\"god\",\"commission\",\"th\",\"working\",\"took\",\"lost\",\"difference\",\"month\",\"action\",\"future\",\"instead\",\"channel\",\"mind\",\"capability\",\"singh\",\"announced\",\"bhakt\",\"loan\",\"wish\",\"blame\",\"respect\",\"thought\",\"common\",\"bail\",\"woman\",\"antisatellite\",\"possible\",\"high\",\"income\",\"movie\",\"report\",\"care\",\"shot\",\"vision\",\"left\",\"place\",\"poverty\",\"save\",\"agenda\",\"asked\",\"responsible\",\"wave\",\"try\",\"youth\",\"cong\",\"modiji\",\"remember\",\"join\",\"project\",\"failure\",\"actually\",\"journalist\",\"war\",\"black\",\"claim\",\"delhi\",\"entire\",\"biggest\",\"low\",\"truth\",\"south\",\"fear\",\"run\",\"defeat\",\"supporting\",\"idea\",\"model\",\"agree\",\"majority\",\"biopic\",\"message\",\"speak\",\"update\",\"hatred\",\"set\",\"show\",\"kind\",\"super\",\"kashmir\",\"ahead\",\"main\",\"clear\",\"follow\",\"won\",\"far\",\"waiting\",\"nda\",\"single\",\"happen\",\"old\",\"voting\",\"soon\",\"chance\",\"economic\",\"ready\",\"forget\",\"second\",\"history\",\"end\",\"level\",\"past\",\"give\",\"plan\",\"raga\",\"safe\",\"huge\",\"business\",\"trust\",\"able\",\"different\",\"story\",\"growth\",\"launch\",\"told\",\"law\",\"created\",\"successfully\",\"twitter\",\"number\",\"film\",\"make\",\"result\",\"unemployment\",\"comment\",\"fan\",\"priyanka\",\"act\",\"assam\",\"clean\",\"get\",\"lac\",\"pls\",\"share\",\"indira\",\"moment\",\"check\",\"successful\",\"constituency\",\"doubt\",\"announce\",\"ticket\",\"worry\",\"mallya\",\"institution\",\"propaganda\",\"having\",\"wait\",\"jail\",\"shoot\",\"president\",\"open\",\"benefit\",\"nyay\",\"courage\",\"hit\",\"lol\",\"debate\",\"defence\",\"social\",\"take\",\"ambani\",\"pay\",\"destroyed\",\"list\",\"thinking\",\"reality\",\"reply\",\"arnab\",\"expect\",\"hater\",\"isnt\",\"dream\",\"leave\",\"target\",\"vijay\",\"home\",\"release\",\"paid\",\"imran\",\"view\",\"press\",\"ground\",\"return\",\"request\",\"antimodi\",\"article\",\"stupid\",\"brought\",\"soldier\",\"went\",\"deal\",\"honest\",\"class\",\"khan\",\"line\",\"game\",\"yogi\",\"lose\",\"rest\",\"meerut\",\"aap\",\"london\",\"regime\",\"self\",\"achieved\",\"head\",\"liberal\",\"elected\",\"he\",\"jumla\",\"idiot\",\"balakot\",\"kya\",\"official\",\"logic\",\"dynasty\",\"pradesh\",\"data\",\"foreign\",\"voted\",\"member\",\"land\",\"master\",\"can\",\"nahi\",\"wonder\",\"definitely\",\"april\",\"scared\",\"step\",\"meeting\",\"bhai\",\"body\",\"mumkin\",\"high_voltage\",\"create\",\"choice\",\"wanted\",\"whats\",\"mistake\",\"personal\",\"pulwama\",\"listen\",\"narrative\",\"minority\",\"pakistani\",\"sorry\",\"remove\",\"rich\",\"education\",\"earth\",\"effort\",\"fighting\",\"earlier\",\"killed\",\"weapon\",\"sense\",\"winning\",\"aur\",\"jawan\",\"young\",\"changed\",\"gone\",\"gut\",\"har\",\"note\",\"brother\",\"million\",\"blind\",\"general\",\"rafale\",\"alliance\",\"false\",\"didn\",\"continue\",\"march\",\"form\",\"gang\",\"jee\",\"contesting\",\"opinion\",\"joke\",\"order\",\"victory\",\"language\",\"technology\",\"group\",\"including\",\"child\",\"stay\",\"ram\",\"destroy\",\"educated\",\"international\",\"chowkidars\",\"father\",\"house\",\"atleast\",\"orbit\",\"lead\",\"son\",\"hell\",\"simple\",\"heard\",\"opportunity\",\"era\",\"loot\",\"source\",\"that\",\"rajan\",\"sonia\",\"exactly\",\"correct\",\"employment\",\"looking\",\"minute\",\"ndtv\",\"small\",\"threat\",\"drama\",\"prove\",\"led\",\"minimum\",\"accept\",\"major\",\"karnataka\",\"trailer\",\"follower\",\"praise\",\"abuse\",\"happens\",\"road\",\"enemy\",\"feeling\",\"tenure\",\"economist\",\"situation\",\"slogan\",\"terrorism\",\"busy\",\"decade\",\"according\",\"hour\",\"raid\",\"week\",\"odisha\",\"present\",\"card\",\"showing\",\"rd\",\"heart\",\"permission\",\"advani\",\"amethi\",\"clearly\",\"previous\",\"trump\",\"worst\",\"peace\",\"plz\",\"hain\",\"north\",\"speaking\",\"play\",\"visit\",\"addressing\",\"gst\",\"terror\",\"cost\",\"fund\",\"allowed\",\"republic\",\"running\",\"current\",\"calling\",\"progress\",\"program\",\"company\",\"shown\",\"office\",\"record\",\"ji\",\"launched\",\"baar\",\"desh\",\"living\",\"voice\",\"abt\",\"kar\",\"nationalist\",\"role\",\"wah\",\"known\",\"shameless\",\"toh\",\"coz\",\"demonetisation\",\"death\",\"picture\",\"brain\",\"governance\",\"doesn\",\"course\",\"deserve\",\"violation\",\"challenge\",\"rate\",\"actor\",\"link\",\"option\",\"religion\",\"send\",\"hold\",\"playing\",\"desperate\",\"express\",\"learn\",\"based\",\"adani\",\"guess\",\"mother\",\"middle\",\"type\",\"victory_hand\",\"youre\",\"kumar\",\"manmohan\",\"decided\",\"stopped\",\"fraud\",\"shit\",\"spread\",\"pro\",\"kill\",\"ago\",\"community\",\"position\",\"turn\",\"choose\",\"example\",\"saw\",\"btw\",\"jammu\",\"lack\",\"govts\",\"conference\",\"happening\",\"tried\",\"attention\",\"st\",\"kejriwal\",\"worker\",\"knowledge\",\"parliament\",\"wow\",\"telling\",\"welcome\",\"gain\",\"rupee\",\"theatre\",\"allow\",\"developed\",\"absolutely\",\"photo\",\"sad\",\"powerful\",\"totally\",\"yeah\",\"yesterday\",\"little\",\"nationalism\",\"village\",\"write\",\"city\",\"complete\",\"decide\",\"denied\",\"following\",\"meet\",\"provide\",\"built\",\"railway\",\"speaks\",\"ensure\",\"special\",\"freedom\",\"unlike\",\"ban\",\"bar\",\"compare\",\"image\",\"judge\",\"despite\",\"favour\",\"watching\",\"fall\",\"kuch\",\"easy\",\"upcoming\",\"afraid\",\"hey\",\"bjps\",\"elite\",\"finally\",\"kept\",\"pm\",\"worked\",\"capable\",\"jaitley\",\"liar\",\"proved\",\"hear\",\"performance\",\"sector\",\"bcoz\",\"series\",\"officer\",\"superpower\",\"seriously\",\"there\",\"questioning\",\"salute\",\"bangalore\",\"respected\",\"forward\",\"society\",\"worth\",\"armed\",\"completely\",\"criminal\",\"department\",\"appeal\",\"eye\",\"notice\",\"evidence\",\"madam\",\"price\",\"deposit\",\"increase\",\"nice\",\"call\",\"mein\",\"remain\",\"andhra\",\"aware\",\"chowkidaar\",\"congrats\",\"hearing\",\"loss\",\"response\",\"book\",\"building\",\"asks\",\"match\",\"water\",\"wife\",\"surely\",\"area\",\"gdp\",\"joker\",\"spreading\",\"non\",\"secular\",\"seeing\",\"total\",\"looted\",\"modishah\",\"patriotism\",\"dangerous\",\"pride\",\"publicity\",\"campaigning\",\"food\",\"governor\",\"loose\",\"communal\",\"counter\",\"mm\",\"service\",\"sold\",\"creating\",\"dare\",\"hatao\",\"imagine\",\"directly\",\"tea\",\"cbi\",\"reach\",\"worried\",\"din\",\"phir\",\"star\",\"constitution\",\"expected\",\"ideology\",\"selling\",\"tamil\",\"blaming\",\"bro\",\"build\",\"needed\",\"rbi\",\"russia\",\"cabinet\",\"ruling\",\"antinational\",\"buy\",\"maybe\",\"sent\",\"vajpayee\",\"crony\",\"generation\",\"human\",\"ministry\",\"electoral\",\"kerala\",\"dog\",\"health\",\"bigger\",\"cause\",\"pic\",\"planning\",\"late\",\"rural\",\"announces\",\"appreciate\",\"control\",\"highest\",\"justice\",\"nonsense\",\"centre\",\"event\",\"men\",\"moron\",\"negative\",\"one\",\"hero\",\"massive\",\"smart\",\"military\",\"mumbai\",\"gov\",\"kid\",\"losing\",\"standard\",\"central\",\"deliver\",\"gas\",\"file\",\"mrmodi\",\"culture\",\"hide\",\"skill\",\"achieve\",\"age\",\"half\",\"oppose\",\"status\",\"abhinandan\",\"budget\",\"joshi\",\"research\",\"riot\",\"focus\",\"science\",\"school\",\"toilet\",\"explain\",\"growing\",\"hindi\",\"positive\",\"maker\",\"rajasthan\",\"population\",\"similar\",\"ghar\",\"mention\",\"chit\",\"difficult\",\"exposed\",\"red_heart\",\"deserves\",\"intellectual\",\"killing\",\"latest\",\"nuclear\",\"raise\",\"simply\",\"east\",\"hindustan\",\"name\",\"sab\",\"seek\",\"supported\",\"gonna\",\"sri\",\"caste\",\"credited\",\"tomorrow\",\"transfer\",\"lying\",\"raghuram\",\"double\",\"increased\",\"programme\",\"thousand\",\"dumb\",\"involved\",\"openly\",\"turned\",\"cr\",\"independence\",\"sell\",\"zero\",\"who\",\"border\",\"paper\",\"strength\",\"survey\",\"tough\",\"waste\",\"breaking\",\"claimed\",\"concerned\",\"train\",\"bengal\",\"contribution\",\"detail\",\"feku\",\"likely\",\"basic\",\"disaster\",\"kashmiri\",\"local\",\"completed\",\"enjoy\",\"related\",\"degree\",\"fourth\",\"mass\",\"quality\",\"protect\",\"writes\",\"independent\",\"letter\",\"rise\",\"swamy\",\"cry\",\"figure\",\"mouth\",\"add\",\"fellow\",\"ill\",\"sitting\",\"united\",\"bollywood\",\"chair\",\"later\",\"senior\",\"bihar\",\"elect\",\"fun\",\"song\",\"destroying\",\"forever\",\"global\",\"billion\",\"luck\",\"market\",\"raj\",\"belief\",\"demonetization\",\"faith\",\"shouldnt\",\"value\",\"hindutva\",\"lady\",\"night\",\"probably\",\"tested\",\"boarding\",\"delivered\",\"handle\",\"mentioned\",\"strategy\",\"gujrat\",\"born\",\"declared\",\"period\",\"beat\",\"freebie\",\"helped\",\"slave\",\"charge\",\"fir\",\"especially\",\"fine\",\"helping\",\"west\",\"written\",\"crime\",\"offer\",\"opposing\",\"ruled\",\"shooting\",\"begin\",\"close\",\"daily\",\"date\",\"mamata\",\"temple\",\"bringing\",\"democratic\",\"student\",\"fascist\",\"abusing\",\"criticize\",\"implemented\",\"male_sign\",\"manifesto\",\"morning\",\"vadra\",\"amazing\",\"grow\",\"knew\",\"operation\",\"standing\",\"cell\",\"cheap\",\"download\",\"field\",\"information\",\"popularity\",\"rajdeep\",\"acting\",\"crowd\",\"demand\",\"journey\",\"tejasvi\",\"dead\",\"pas\",\"secret\",\"marketing\",\"duty\",\"fair\",\"kcr\",\"nd\",\"worse\",\"accused\",\"joining\",\"chaiwala\",\"excellent\",\"fail\",\"fugitive\",\"kick\",\"saraswat\",\"confidence\",\"piece\",\"tha\",\"niti\",\"personally\",\"surya\",\"journalism\",\"violate\",\"\\u0936\\u092c\\u091a\",\"girl\",\"surprise\",\"announcing\",\"demonetised\",\"vivek\",\"confident\",\"impact\",\"promising\",\"responsibility\",\"short\",\"bos\",\"expert\",\"troll\",\"biryani\",\"counting\",\"effect\",\"interesting\",\"remonetise\",\"required\",\"spent\",\"surprised\",\"agency\",\"biased\",\"desperation\",\"fought\",\"iaf\",\"released\",\"shut\",\"foot\",\"shameful\",\"truly\",\"tune\",\"basis\",\"contested\",\"inflation\",\"innocent\",\"supreme\",\"testing\",\"antiindia\",\"boy\",\"police\",\"popular\",\"shortly\",\"sound\",\"break\",\"cut\",\"hail\",\"provided\",\"you\",\"bit\",\"slam\",\"forced\",\"bcz\",\"concern\",\"cow\",\"perfect\",\"survive\",\"welfare\",\"cast\",\"insult\",\"plea\",\"analysis\",\"attempt\",\"kiya\",\"reform\",\"teach\",\"uttar\",\"fault\",\"height\",\"initiative\",\"inr\",\"jet\",\"kindly\",\"mam\",\"producer\",\"silent\",\"sky\",\"useless\",\"joined\",\"lesson\",\"movement\",\"award\",\"direct\",\"feat\",\"funny\",\"naidu\",\"process\",\"congratulate\",\"jay\",\"putting\",\"chose\",\"condition\",\"develop\",\"patriot\",\"questioned\",\"cash\",\"eat\",\"spoke\",\"thief\",\"track\",\"here\",\"mark\",\"outside\",\"telangana\",\"traitor\",\"unemployed\",\"battle\",\"compared\",\"property\",\"bold\",\"environment\",\"owaisi\",\"visionary\",\"foolish\",\"guarantee\",\"hurt\",\"opponent\",\"rajiv\",\"showed\",\"throw\",\"argument\",\"available\",\"criticism\",\"fully\",\"thug\",\"tweeted\",\"usual\",\"alternative\",\"bless\",\"large\",\"credibility\",\"grand\",\"ran\",\"sit\",\"anybody\",\"bluff\",\"keep\",\"praising\",\"section\",\"anil\",\"arrested\",\"forgot\",\"held\",\"poorest\",\"vikas\",\"wasnt\",\"die\",\"priority\",\"shall\",\"youtube\",\"art\",\"beloved\",\"everybody\",\"exclusive\",\"gift\",\"suffering\",\"suit\",\"union\",\"individual\",\"plus\",\"anymore\",\"club\",\"count\",\"economics\",\"implement\",\"largest\",\"style\",\"nomination\",\"removed\",\"usa\",\"addressed\",\"bloody\",\"ignore\",\"financial\",\"isi\",\"stage\",\"stronger\",\"writing\",\"electricity\",\"jumlas\",\"masood\",\"unfortunately\",\"arunachal\",\"carry\",\"connection\",\"goswami\",\"near\",\"eci\",\"fast\",\"reelected\",\"sharma\",\"shud\",\"advantage\",\"allegation\",\"blamed\",\"bsp\",\"dirty\",\"expose\",\"narender\",\"paying\",\"missing\",\"recent\",\"weak\",\"wouldnt\",\"bsf\",\"easily\",\"established\",\"haha\",\"sleep\",\"arun\",\"cover\",\"raised\",\"consider\",\"king\",\"min\",\"criticise\",\"developing\",\"hitler\",\"mehul\",\"arent\",\"certainly\",\"decisive\",\"english\",\"fulfilled\",\"npa\",\"gadkari\",\"highlight\",\"inside\",\"maximum\",\"neutral\",\"puppet\",\"violence\",\"atal\",\"garibi\",\"impossible\",\"reaction\",\"scientific\",\"apart\",\"blood\",\"brave\",\"complaint\",\"engineer\",\"finance\",\"hat\",\"mcc\",\"serve\",\"thread\",\"brand\",\"declare\",\"deep\",\"jagan\",\"nod\",\"pain\",\"yojana\",\"atm\",\"divide\",\"light\",\"lynching\",\"obviously\",\"pray\",\"risk\",\"university\",\"assembly\",\"beef\",\"congi\",\"congressi\",\"crisis\",\"defeated\",\"escape\",\"factor\",\"fooled\",\"key\",\"patel\",\"resource\",\"seeking\",\"topic\",\"claiming\",\"core\",\"fooling\",\"gimmick\",\"km\",\"mamta\",\"meant\",\"miss\",\"religious\",\"wayanad\",\"witness\",\"extradition\",\"jobless\",\"league\",\"mp\",\"urge\",\"airport\",\"congis\",\"earn\",\"higher\",\"pathetic\",\"sacked\",\"spend\",\"yadav\",\"added\",\"brilliant\",\"coward\",\"mata\",\"payer\",\"pmo\",\"sinha\",\"funding\",\"hypocrisy\",\"incident\",\"interested\",\"liye\",\"lutyens\",\"pocket\",\"realise\",\"sake\",\"smiling_face\",\"bigot\",\"comparison\",\"danger\",\"evil\",\"promoting\",\"targeted\",\"baba\",\"babu\",\"character\",\"choksi\",\"loksabha\",\"actual\",\"crook\",\"defend\",\"pass\",\"prof\",\"web\",\"equal\",\"final\",\"intelligent\",\"leading\",\"mad\",\"private\",\"secure\",\"spirit\",\"travel\",\"facing\",\"goal\",\"met\",\"sister\",\"balance\",\"director\",\"dude\",\"followed\",\"kanhaiya\",\"northeast\",\"personality\",\"recently\",\"sign\",\"solution\",\"wednesday\",\"average\",\"hating\",\"keeping\",\"named\",\"par\",\"played\",\"received\",\"safety\",\"street\",\"subsidy\",\"wud\",\"ability\",\"hello\",\"intelligence\",\"pressure\",\"pure\",\"asset\",\"career\",\"chokidar\",\"committed\",\"irani\",\"moving\",\"page\",\"rahuls\",\"looting\",\"nhi\",\"oberoi\",\"rejected\",\"thrown\",\"tht\",\"emergency\",\"havent\",\"mai\",\"mar\",\"mudra\",\"pledge\",\"reduced\",\"hahaha\",\"listening\",\"mindset\",\"stunt\",\"wake\",\"whatsapp\",\"baat\",\"badly\",\"british\",\"creation\",\"debris\",\"goon\",\"repeat\",\"ball\",\"blessing\",\"gun\",\"headline\",\"mess\",\"painting\",\"region\",\"wing\",\"yeh\",\"cup\",\"defense\",\"diya\",\"providing\",\"saved\",\"urban\",\"activity\",\"newspaper\",\"reject\",\"shouting\",\"sleeping\",\"timing\",\"ally\",\"honourable\",\"isn\",\"kudos\",\"literally\",\"promote\",\"reading\",\"as\",\"confused\",\"infrastructure\",\"mla\",\"agreed\",\"authority\",\"intention\",\"knowing\",\"mock\",\"rhetoric\",\"wala\",\"bengaluru\",\"limit\",\"supposed\",\"visited\",\"akhilesh\",\"daughter\",\"highly\",\"spokesperson\",\"attitude\",\"damage\",\"dictator\",\"doval\",\"ganga\",\"margin\",\"mayawati\",\"opened\",\"pidis\",\"rahe\",\"suddenly\",\"trap\",\"wealth\",\"base\",\"changing\",\"digital\",\"greatest\",\"immediately\",\"influence\",\"mega\",\"approach\",\"clearance\",\"commitment\",\"basically\",\"content\",\"historic\",\"log\",\"path\",\"pilot\",\"tukde\",\"understanding\",\"absolute\",\"comparing\",\"conducted\",\"didi\",\"died\",\"illiterate\",\"jibe\",\"lalit\",\"lord\",\"loses\",\"opposed\",\"respond\",\"tag\",\"abroad\",\"ashamed\",\"indirectly\",\"ipl\",\"looter\",\"mandir\",\"proper\",\"trend\",\"agent\",\"bet\",\"boot\",\"chairman\",\"chant\",\"christian\",\"corporate\",\"energy\",\"mandate\",\"moral\",\"purpose\",\"talked\",\"victim\",\"wale\",\"what\",\"certain\",\"continues\",\"extremely\",\"industry\",\"remains\",\"reservation\",\"season\",\"angry\",\"collection\",\"fit\",\"push\",\"stone\",\"wise\",\"america\",\"chidambaram\",\"chinese\",\"early\",\"filled\",\"mere\",\"oppn\",\"tum\",\"us\",\"violated\",\"blinded\",\"direction\",\"earned\",\"importance\",\"maharashtra\",\"math\",\"smriti\",\"caught\",\"destruction\",\"discussion\",\"inspired\",\"manner\",\"measure\",\"murder\",\"organisation\",\"rocket\",\"sentiment\",\"solve\",\"understood\",\"banerjee\",\"capacity\",\"gujarati\",\"modibjp\",\"pretty\",\"rajnath\",\"remark\",\"shared\",\"sick\",\"white\",\"camp\",\"century\",\"everyday\",\"rafael\",\"reached\",\"sat\",\"treatment\",\"trick\",\"accepted\",\"attacked\",\"boost\",\"criticising\",\"honorable\",\"okay\",\"sanghi\",\"wonderful\",\"begging\",\"bomb\",\"digest\",\"experience\",\"felt\",\"hypocrite\",\"meaning\",\"missed\",\"platform\",\"regional\",\"arvind\",\"cbn\",\"committee\",\"demo\",\"expecting\",\"famous\",\"honesty\",\"served\",\"statue\",\"aim\",\"ani\",\"belong\",\"damn\",\"dole\",\"door\",\"enjoying\",\"google\",\"madhavan\",\"ruined\",\"startup\",\"unprecedented\",\"bought\",\"chest\",\"necessary\",\"rid\",\"study\",\"westminster\",\"dynamic\",\"filmmaker\",\"fix\",\"leo\",\"starting\",\"tweeting\",\"vadodara\",\"car\",\"copy\",\"janta\",\"loosing\",\"azhar\",\"bribe\",\"brigade\",\"dept\",\"godi\",\"lower\",\"magic\",\"planned\",\"punjab\",\"relation\",\"tak\",\"unable\",\"uncle\",\"uttarakhand\",\"wat\",\"banned\",\"duo\",\"realize\",\"sending\",\"strategic\",\"waiver\",\"wear\",\"bond\",\"cap\",\"ignored\",\"incompetent\",\"mode\",\"round\",\"suffer\",\"sun\",\"touch\",\"aayog\",\"carried\",\"chandrababu\",\"jealous\",\"sort\",\"soul\",\"stuff\",\"stupidity\",\"threatened\",\"trip\",\"uneducated\",\"upset\",\"anyways\",\"approval\",\"awesome\",\"bhakti\",\"celebrate\",\"disappointed\",\"disgusting\",\"fiscal\",\"folk\",\"frm\",\"jds\",\"laughing\",\"product\",\"saving\",\"swiss\",\"advice\",\"affair\",\"beneficiary\",\"distress\",\"entered\",\"extent\",\"nadu\",\"nota\",\"opposite\",\"raha\",\"suggest\",\"version\",\"attacking\",\"background\",\"belongs\",\"campaigner\",\"delay\",\"divert\",\"frustration\",\"launching\",\"race\",\"chai\",\"fulfill\",\"internal\",\"plane\",\"resign\",\"trouble\",\"anchor\",\"doctor\",\"fly\",\"improve\",\"interaction\",\"pnb\",\"stock\",\"tall\",\"block\",\"considered\",\"extra\",\"honble\",\"jan\",\"mental\",\"obvious\",\"percent\",\"rare\",\"serving\",\"center\",\"conversation\",\"corner\",\"dmk\",\"ecosystem\",\"initiated\",\"italian\",\"journos\",\"leftist\",\"reporter\",\"strengthen\",\"chanting\",\"civil\",\"laugh\",\"mob\",\"passed\",\"specially\",\"spending\",\"critic\",\"cross\",\"favor\",\"machine\",\"milestone\",\"protest\",\"burnol\",\"mentality\",\"normal\",\"original\",\"youngster\",\"aaj\",\"bachao\",\"bashing\",\"district\",\"employee\",\"friday\",\"interest\",\"longer\",\"mahagathbandhan\",\"wrote\",\"aside\",\"certificate\",\"coalition\",\"green\",\"irrespective\",\"maam\",\"sikh\",\"slap\",\"banking\",\"dedicated\",\"humble\",\"parent\",\"potential\",\"properly\",\"raja\",\"sarab\",\"shout\",\"taxpayer\",\"walk\",\"anger\",\"bullshit\",\"congratulated\",\"dynast\",\"ensured\",\"fuck\",\"gaya\",\"israel\",\"leaving\",\"pradhan\",\"salary\",\"strongly\",\"tech\",\"theory\",\"advertisement\",\"alive\",\"apply\",\"barking\",\"birth\",\"bridge\",\"confirmed\",\"hiding\",\"hinduism\",\"increasing\",\"partner\",\"pity\",\"regard\",\"thumping\",\"treat\",\"active\",\"ashwin\",\"brahmin\",\"coverage\",\"critical\",\"debt\",\"discus\",\"fails\",\"kalyan\",\"nervous\",\"pet\",\"retweet\",\"rudrapur\",\"awareness\",\"beginning\",\"deny\",\"expectation\",\"fighter\",\"hum\",\"institute\",\"introduced\",\"judiciary\",\"legal\",\"patriotic\",\"replace\",\"western\",\"arrest\",\"changer\",\"constitutional\",\"corrupts\",\"criticizing\",\"dbt\",\"islamic\",\"kicked\",\"lawyer\",\"magistrate\",\"moon\",\"paisa\",\"phase\",\"sharing\",\"shree\",\"tshirts\",\"venom\",\"bahadur\",\"blindly\",\"convince\",\"dailyhunt\",\"forgotten\",\"gold\",\"honour\",\"obsessed\",\"pidi\",\"sale\",\"willing\",\"wire\",\"wisely\",\"abdullah\",\"avoid\",\"blocked\",\"burn\",\"click\",\"faced\",\"finger\",\"firm\",\"hardly\",\"honestly\",\"intolerance\",\"lover\",\"managed\",\"prosperous\",\"refused\",\"represent\",\"wasted\",\"appears\",\"bias\",\"bullet\",\"cheated\",\"investigation\",\"ive\",\"koi\",\"loworbit\",\"malya\",\"scenario\",\"surjewala\",\"toi\",\"watched\",\"asia\",\"bunch\",\"currency\",\"dignity\",\"husband\",\"mobile\",\"mocking\",\"upto\",\"becoz\",\"catch\",\"extremist\",\"feed\",\"finish\",\"manohar\",\"mnrega\",\"sanghis\",\"search\",\"watchman\",\"arm\",\"auction\",\"blunder\",\"comedy\",\"divided\",\"foundation\",\"greater\",\"hint\",\"karo\",\"licking\",\"lion\",\"praised\",\"scrap\",\"stick\",\"stooge\",\"stroke\",\"thursday\",\"behalf\",\"blast\",\"broadcast\",\"currently\",\"ease\",\"hon\",\"implementation\",\"straight\",\"subject\",\"tour\",\"unfortunate\",\"unity\",\"communist\",\"cricket\",\"criticised\",\"genuine\",\"holding\",\"insulting\",\"limited\",\"mig\",\"phone\",\"pull\",\"reddy\",\"rival\",\"row\",\"strengthening\",\"suicide\",\"alleged\",\"corrupted\",\"dig\",\"erosnow\",\"evm\",\"network\",\"practice\",\"sabka\",\"see\",\"sena\",\"wondering\",\"chaukidar\",\"crap\",\"flop\",\"inch\",\"nsa\",\"speed\",\"taraf\",\"bye\",\"cheat\",\"convert\",\"drive\",\"frustrated\",\"lotus\",\"lucky\",\"pick\",\"rao\",\"signal\",\"silence\",\"somebody\",\"station\",\"capitalist\",\"celebrating\",\"clown\",\"healthcare\",\"illegal\",\"modern\",\"nair\",\"oath\",\"profile\",\"proven\",\"rubbish\",\"strict\",\"betterment\",\"blah\",\"episode\",\"fakendra\",\"hidden\",\"loser\",\"masterstroke\",\"merchandise\",\"naam\",\"perception\",\"politically\",\"stated\",\"tactic\",\"targeting\",\"theyre\",\"visible\",\"arrogance\",\"ayog\",\"breakthrough\",\"contract\",\"disgrace\",\"investment\",\"omg\",\"presence\",\"progressive\",\"raising\",\"rattled\",\"rightly\",\"scale\",\"sensible\",\"stood\",\"struggle\",\"tmc\",\"winner\",\"youll\",\"abused\",\"affect\",\"apple\",\"burning\",\"buying\",\"comedian\",\"drop\",\"dynastic\",\"eating\",\"editor\",\"guru\",\"hoga\",\"infact\",\"loved\",\"removing\",\"scene\",\"steal\",\"utter\",\"wanna\",\"apne\",\"conspiracy\",\"cool\",\"dalits\",\"defending\",\"finding\",\"finished\",\"identity\",\"josh\",\"lal\",\"online\",\"petrol\",\"quote\",\"red\",\"richest\",\"secularism\",\"sphere\",\"suggestion\",\"wearing\",\"airforce\",\"allowing\",\"billionaire\",\"bother\",\"college\",\"crazy\",\"empowering\",\"flag\",\"karma\",\"learnt\",\"lowest\",\"mantri\",\"multiple\",\"objective\",\"offered\",\"qualification\",\"revenge\",\"shift\",\"tear\",\"abhi\",\"abki\",\"ayushman\",\"existing\",\"facebook\",\"favourite\",\"hoping\",\"housing\",\"improved\",\"irony\",\"legacy\",\"neerav\",\"no\",\"particular\",\"radio\",\"relationship\",\"side\",\"transferred\",\"uturn\",\"veteran\",\"adityanath\",\"apparently\",\"harm\",\"informed\",\"mood\",\"pappus\",\"peaceful\",\"sends\",\"silly\",\"tamilnadu\",\"task\",\"twice\",\"waived\",\"wasting\",\"afford\",\"closed\",\"communication\",\"document\",\"equally\",\"exchief\",\"exist\",\"fastest\",\"fired\",\"helicopter\",\"integrity\",\"invite\",\"murderer\",\"proposal\",\"revolution\",\"ridiculous\",\"suffered\",\"wishing\",\"yojna\",\"accepting\",\"agar\",\"antinationals\",\"baby\",\"diplomacy\",\"female_sign\",\"glad\",\"internet\",\"misuse\",\"modified\",\"poster\",\"promotion\",\"protecting\",\"ride\",\"significant\",\"spoken\",\"symbol\",\"upper\",\"bear\",\"bigotry\",\"blog\",\"bright\",\"dividing\",\"fantastic\",\"move\",\"nature\",\"pandit\",\"prefer\",\"principle\",\"select\",\"shd\",\"application\",\"bjpmodi\",\"chosen\",\"dat\",\"excuse\",\"exposing\",\"forgive\",\"gutter\",\"haryana\",\"holder\",\"humanity\",\"lata\",\"nitin\",\"panel\",\"representative\",\"setting\",\"turning\",\"waited\",\"airline\",\"answered\",\"approved\",\"connect\",\"defame\",\"dis\",\"evident\",\"explained\",\"follows\",\"hota\",\"killer\",\"loving\",\"opening\",\"parliamentary\",\"print\",\"professional\",\"proposed\",\"realised\",\"recovered\",\"shatrughan\",\"sympathy\",\"talent\",\"teacher\",\"tej\",\"trusted\",\"tsunami\",\"achieving\",\"aircraft\",\"appear\",\"cheer\",\"competition\",\"couple\",\"desire\",\"dreaming\",\"eliminate\",\"formed\",\"mantra\",\"nawaz\",\"nearly\",\"oil\",\"shocking\",\"sirf\",\"site\",\"advance\",\"airstrike\",\"ajit\",\"chamcha\",\"chill\",\"chutiya\",\"existence\",\"expense\",\"fed\",\"forest\",\"gupta\",\"misleading\",\"peak\",\"registered\",\"releasing\",\"tree\",\"tulsi\",\"assure\",\"beautiful\",\"believed\",\"bound\",\"celebrity\",\"dawood\",\"eagerly\",\"jump\",\"mahatma\",\"nahin\",\"rank\",\"reelection\",\"relative\",\"sanction\",\"score\",\"spot\",\"they\",\"tie\",\"aka\",\"andh\",\"annual\",\"assured\",\"behave\",\"blessed\",\"citizenship\",\"considering\",\"da\",\"disagree\",\"dislike\",\"expression\",\"farm\",\"filed\",\"highway\",\"hitting\",\"intent\",\"islam\",\"jnu\",\"joint\",\"middleman\",\"offender\",\"papu\",\"requested\",\"thackeray\",\"tho\",\"trending\",\"airstrikes\",\"alert\",\"appeasement\",\"enter\",\"facility\",\"hema\",\"idiotic\",\"inspite\",\"pakoda\",\"payment\",\"remind\",\"sentence\",\"stalin\",\"subscribe\",\"viral\",\"achhe\",\"carefully\",\"carrying\",\"construction\",\"declares\",\"ego\",\"empowerment\",\"explains\",\"gaye\",\"organization\",\"pmmodi\",\"quick\",\"rock\",\"shop\",\"television\",\"valid\",\"administration\",\"admit\",\"agriculture\",\"arrival\",\"bal\",\"complaining\",\"deficit\",\"deposited\",\"desperately\",\"falling\",\"flight\",\"guard\",\"hashtag\",\"inform\",\"itna\",\"janata\",\"kurnool\",\"liked\",\"orop\",\"possibility\",\"prepared\",\"reaching\",\"remarkable\",\"saal\",\"selected\",\"signed\",\"stopping\",\"the\",\"tv\",\"violating\",\"waah\",\"ambanis\",\"backing\",\"capital\",\"connectivity\",\"controlled\",\"dialogue\",\"earning\",\"effective\",\"granted\",\"jacket\",\"lpg\",\"mera\",\"mom\",\"noticed\",\"ordinary\",\"pace\",\"pdp\",\"proudly\",\"punish\",\"reveals\",\"sacrifice\",\"thankful\",\"activist\",\"asaduddin\",\"calculation\",\"complain\",\"injustice\",\"issued\",\"lied\",\"mafia\",\"pending\",\"pseudo\",\"recover\",\"root\",\"tejaswi\",\"typical\",\"understands\",\"urmila\",\"american\",\"appointed\",\"arrogant\",\"baap\",\"cent\",\"co\",\"colour\",\"consequence\",\"controversy\",\"dictatorship\",\"dollar\",\"failing\",\"kaam\",\"natural\",\"posted\",\"put\",\"roll\",\"room\",\"sought\",\"surprising\",\"accountable\",\"bangladesh\",\"couldn\",\"dad\",\"dhan\",\"hardworking\",\"heavy\",\"ignoring\",\"improving\",\"inspiration\",\"italy\",\"lier\",\"loyalty\",\"miserably\",\"mr\",\"offering\",\"permanent\",\"sadly\",\"sarkaar\",\"aspiration\",\"category\",\"cheating\",\"conclusion\",\"corporates\",\"export\",\"hyderabad\",\"ignorant\",\"noon\",\"norm\",\"overall\",\"rant\",\"relief\",\"shiv\",\"theatrics\",\"tracker\",\"yaar\",\"abusive\",\"acche\",\"acronym\",\"annum\",\"assume\",\"brings\",\"cartoon\",\"ceo\",\"discussing\",\"due\",\"duffer\",\"evening\",\"exam\",\"funded\",\"heavily\",\"industrialist\",\"jawaharlal\",\"labour\",\"logo\",\"medical\",\"memory\",\"part\",\"reduce\",\"replied\",\"spare\",\"tdp\",\"website\",\"aspect\",\"bark\",\"bootlicker\",\"bus\",\"complained\",\"cylinder\",\"elder\",\"flat\",\"insulted\",\"invented\",\"laid\",\"maha\",\"published\",\"saint\",\"shamelessly\",\"spine\",\"subramanian\",\"appreciated\",\"converted\",\"dhruv\",\"divisive\",\"encourage\",\"eros\",\"excited\",\"guilty\",\"hua\",\"insurance\",\"jii\",\"learning\",\"manufacturing\",\"mocked\",\"outcome\",\"propoganda\",\"reporting\",\"servant\",\"taught\",\"tribute\",\"tshirt\",\"zee\",\"began\",\"clip\",\"concept\",\"economically\",\"eradicate\",\"examine\",\"existed\",\"extreme\",\"herald\",\"hungry\",\"info\",\"jharkhand\",\"justify\",\"looked\",\"owner\",\"pre\",\"rail\",\"rising\",\"ruin\",\"sath\",\"solid\",\"strange\",\"appropriate\",\"bbc\",\"board\",\"chamchas\",\"context\",\"crpf\",\"ended\",\"factory\",\"foul\",\"happiness\",\"hospital\",\"include\",\"irrelevant\",\"leap\",\"location\",\"management\",\"produce\",\"rape\",\"ravi\",\"refuse\",\"resolve\",\"secretary\",\"shocked\",\"sushma\",\"transparency\",\"aadhar\",\"akhnoor\",\"bat\",\"bothered\",\"calm\",\"careful\",\"deed\",\"distribute\",\"division\",\"fate\",\"hopefully\",\"hype\",\"mat\",\"mile\",\"motivated\",\"ofcourse\",\"saffron\",\"spell\",\"stadium\",\"threatening\",\"title\",\"town\",\"warning\",\"attend\",\"bag\",\"beg\",\"conviction\",\"convinced\",\"demanding\",\"diplomatic\",\"disastrous\",\"element\",\"explaining\",\"farooq\",\"hal\",\"inspiring\",\"krishna\",\"mileage\",\"moved\",\"ordered\",\"pant\",\"pellet\",\"probe\",\"profit\",\"pushed\",\"remaining\",\"sambit\",\"shirt\",\"accusing\",\"annually\",\"audience\",\"bol\",\"brainless\",\"civilian\",\"criticized\",\"directed\",\"driven\",\"improvement\",\"malini\",\"netanyahu\",\"omar\",\"pakis\",\"prior\",\"sharab\",\"specific\",\"thi\",\"tight\",\"tired\",\"uri\",\"wisdom\",\"assault\",\"commenting\",\"complex\",\"congratulates\",\"covered\",\"everytime\",\"fell\",\"index\",\"lazy\",\"logical\",\"marriage\",\"saath\",\"screen\",\"searching\",\"shifting\",\"survival\",\"treated\",\"vande\",\"villager\",\"analyst\",\"ashok\",\"befitting\",\"church\",\"condemn\",\"decides\",\"dedication\",\"demonstration\",\"eligible\",\"empowered\",\"glory\",\"hav\",\"healthy\",\"javed\",\"jihadi\",\"narendar\",\"phd\",\"rapist\",\"remained\",\"speculation\",\"swachh\",\"tension\",\"trolling\",\"unbiased\",\"wage\",\"wall\",\"auctioned\",\"cleared\",\"denies\",\"dint\",\"flying\",\"fresh\",\"gandhinagar\",\"goa\",\"hr\",\"ignorance\",\"koraput\",\"learned\",\"patra\",\"phobia\",\"sardar\",\"secured\",\"selfish\",\"stature\",\"acknowledge\",\"bharath\",\"chowkidari\",\"contact\",\"continued\",\"credible\",\"curse\",\"deliberately\",\"delivery\",\"display\",\"drink\",\"fish\",\"formula\",\"headed\",\"interact\",\"jab\",\"netas\",\"petition\",\"prediction\",\"repeated\",\"satisfied\",\"shock\",\"speaker\",\"statesman\",\"sweep\",\"wouldn\",\"accuse\",\"bastard\",\"beware\",\"bharatiya\",\"collect\",\"conclave\",\"culprit\",\"demonitisation\",\"dying\",\"friendly\",\"haven\",\"hole\",\"hug\",\"kam\",\"lalu\",\"letting\",\"lick\",\"loyal\",\"owned\",\"pig\",\"prepare\",\"presidential\",\"punished\",\"retire\",\"soft\",\"stake\",\"strongest\",\"transformation\",\"tremendous\",\"trs\",\"uddhav\",\"venezuela\",\"aayega\",\"arithmetic\",\"backward\",\"bhakths\",\"birthday\",\"boast\",\"booth\",\"chors\",\"congratulating\",\"conversion\",\"crossed\",\"crucial\",\"damodardas\",\"dirt\",\"dnt\",\"european\",\"fucking\",\"fuel\",\"gowda\",\"karne\",\"map\",\"mongering\",\"naxals\",\"nris\",\"petty\",\"picked\",\"plant\",\"praying\",\"repeating\",\"review\",\"sangh\",\"sanjay\",\"stealing\",\"sunday\",\"technical\",\"unite\",\"vice\",\"wht\",\"wil\",\"aid\",\"ananth\",\"bihari\",\"blow\",\"cadre\",\"confirm\",\"correction\",\"countryman\",\"covering\",\"dark\",\"definition\",\"educate\",\"employed\",\"explanation\",\"gentleman\",\"historical\",\"manage\",\"minded\",\"passing\",\"pointing\",\"prize\",\"protection\",\"referring\",\"relevant\",\"requesting\",\"termed\",\"visa\",\"accomplishment\",\"angel\",\"broken\",\"chacha\",\"challenged\",\"clue\",\"contributing\",\"draw\",\"entry\",\"executed\",\"focused\",\"founder\",\"garbage\",\"genius\",\"golden\",\"heat\",\"jem\",\"kare\",\"machinery\",\"mask\",\"medicine\",\"misusing\",\"pandits\",\"profession\",\"puri\",\"realized\",\"receive\",\"reveal\",\"river\",\"sahab\",\"script\",\"secondly\",\"seized\",\"stolen\",\"stuck\",\"tejaswini\",\"theprint\",\"accountability\",\"beating\",\"betrayed\",\"butcher\",\"challenging\",\"cm\",\"decent\",\"delayed\",\"fascism\",\"grade\",\"hot\",\"kapil\",\"karna\",\"massacre\",\"murli\",\"ohh\",\"opindia\",\"perform\",\"pitch\",\"pokhran\",\"professor\",\"quiet\",\"shouldn\",\"spineless\",\"stoop\",\"tolerate\",\"urself\",\"visiting\",\"wasn\",\"wide\",\"woh\",\"writer\",\"accomplished\",\"advise\",\"affected\",\"aggressive\",\"ba\",\"dil\",\"fetch\",\"firmly\",\"grab\",\"graduate\",\"harmony\",\"hilarious\",\"married\",\"merely\",\"mohan\",\"paki\",\"presstitutes\",\"react\",\"reported\",\"stance\",\"verdict\",\"volunteer\",\"an\",\"aviation\",\"ayodhya\",\"bombay\",\"boycott\",\"bpl\",\"compete\",\"damodar\",\"dependent\",\"driver\",\"giriraj\",\"gohpur\",\"household\",\"kamal\",\"mentally\",\"mgnrega\",\"narendramodi\",\"pension\",\"proving\",\"revenue\",\"saturday\",\"shekhar\",\"sum\",\"technological\",\"telecast\",\"tool\",\"advertising\",\"angle\",\"choosing\",\"connected\",\"diamantaire\",\"effectively\",\"fame\",\"feather\",\"fyi\",\"gathbandhan\",\"grave\",\"hardcore\",\"hardwork\",\"helm\",\"i\",\"iam\",\"jaya\",\"limelight\",\"maintain\",\"mallaya\",\"nautanki\",\"officially\",\"produced\",\"register\",\"remote\",\"replaced\",\"succeed\",\"ujjwala\",\"access\",\"airway\",\"burden\",\"dalit\",\"disease\",\"dismissed\",\"dna\",\"drinking\",\"emotion\",\"emotional\",\"find\",\"fixed\",\"gathering\",\"handed\",\"hunger\",\"linked\",\"mercy\",\"mitron\",\"narinder\",\"player\",\"represents\",\"rti\",\"shine\",\"supply\",\"ultimately\",\"withdraws\",\"abhisar\",\"acceptable\",\"argue\",\"asshole\",\"automatically\",\"bjd\",\"bolo\",\"caused\",\"chahiye\",\"chap\",\"chowkidaars\",\"clarify\",\"demonstrate\",\"electrification\",\"ensuring\",\"eventually\",\"fallen\",\"fled\",\"goverment\",\"grown\",\"habit\",\"jio\",\"journo\",\"kanpur\",\"meme\",\"merit\",\"msg\",\"nowadays\",\"perfectly\",\"primary\",\"publicly\",\"purchase\",\"quint\",\"reference\",\"reminds\",\"salesman\",\"sane\",\"shining\",\"slow\",\"socalled\",\"soch\",\"solved\",\"superb\",\"abv\",\"ambassador\",\"artist\",\"astrologer\",\"back\",\"bahut\",\"barkha\",\"beaten\",\"buddy\",\"checked\",\"concentrate\",\"defaulter\",\"demonstrated\",\"dhoni\",\"discourse\",\"easier\",\"invited\",\"kaha\",\"loud\",\"noise\",\"obc\",\"prasad\",\"pushing\",\"rahi\",\"robert\",\"sha\",\"shape\",\"statistic\",\"stole\",\"sycophant\",\"wid\",\"youve\",\"absurd\",\"ad\",\"admire\",\"affordable\",\"bankrupt\",\"box\",\"commie\",\"copying\",\"discredit\",\"enters\",\"entertainment\",\"entrepreneur\",\"fearing\",\"feb\",\"fulfilling\",\"incredible\",\"jaitely\",\"kannada\",\"mangeshkar\",\"mentioning\",\"opp\",\"patna\",\"posting\",\"prince\",\"probing\",\"remembered\",\"sahib\",\"sardesai\",\"saudi\",\"scheduled\",\"selective\",\"sin\",\"slowly\",\"thanking\",\"theyll\",\"thn\",\"tourism\",\"usually\",\"worldwide\",\"associated\",\"backed\",\"bhakth\",\"blabbering\",\"button\",\"chowkidhar\",\"continuously\",\"contribute\",\"delivering\",\"disheartened\",\"dropped\",\"exercise\",\"founded\",\"fulfil\",\"giant\",\"godhra\",\"jaise\",\"jumped\",\"kisan\",\"kitna\",\"mirror\",\"mynt\",\"parivar\",\"particularly\",\"planet\",\"prosecution\",\"prosecutor\",\"scamsters\",\"screwed\",\"seller\",\"similarly\",\"suppose\",\"swing\",\"unbelievable\",\"xxxxx\",\"abe\",\"alien\",\"approve\",\"bent\",\"bite\",\"businessmen\",\"cleaning\",\"clueless\",\"coin\",\"command\",\"cud\",\"cutting\",\"demon\",\"diff\",\"discussed\",\"distributed\",\"emerge\",\"epic\",\"flee\",\"genocide\",\"imagination\",\"karan\",\"kumaraswamy\",\"liking\",\"maharaja\",\"nai\",\"neta\",\"organised\",\"outstanding\",\"performing\",\"personnel\",\"qualified\",\"rat\",\"require\",\"reserve\",\"retain\",\"returning\",\"sahi\",\"salman\",\"settle\",\"spin\",\"telugu\",\"transformed\",\"unhappy\",\"aadhaar\",\"advisor\",\"am\",\"anand\",\"anna\",\"attached\",\"band\",\"belt\",\"broke\",\"capture\",\"chori\",\"compromised\",\"conflict\",\"correctly\",\"declaring\",\"den\",\"deserved\",\"everyones\",\"favorite\",\"filing\",\"filthy\",\"forgetting\",\"fruit\",\"gap\",\"goyal\",\"greeting\",\"ideal\",\"intellect\",\"iran\",\"jain\",\"judgement\",\"leaf\",\"manager\",\"mislead\",\"mockery\",\"nose\",\"perspective\",\"relax\",\"requires\",\"sea\",\"shakthi\",\"sincerely\",\"stability\",\"teaching\",\"theater\",\"ashish\",\"believing\",\"blue\",\"breath\",\"camera\",\"champion\",\"coal\",\"commissioner\",\"confusion\",\"dalal\",\"defeating\",\"ethic\",\"exact\",\"gather\",\"heading\",\"hows\",\"imp\",\"instance\",\"instruction\",\"joy\",\"karte\",\"lifetime\",\"momentum\",\"naya\",\"nightmare\",\"panic\",\"poem\",\"pollution\",\"precious\",\"predicted\",\"prison\",\"promoted\",\"putin\",\"reign\",\"repeatedly\",\"responded\",\"sanctioned\",\"separate\",\"sibal\",\"singing\",\"subscription\",\"suck\",\"tone\",\"trillion\",\"universe\",\"worthy\",\"wtf\",\"accuses\",\"animal\",\"appreciation\",\"awaiting\",\"bana\",\"behaving\",\"bid\",\"bunker\",\"cancer\",\"chaos\",\"curious\",\"deprived\",\"faster\",\"gareebi\",\"handout\",\"hasn\",\"hue\",\"hundred\",\"ilk\",\"impressed\",\"inspire\",\"intolerant\",\"jha\",\"moran\",\"music\",\"negativity\",\"nri\",\"obama\",\"orator\",\"passport\",\"polling\",\"punishment\",\"purely\",\"queue\",\"quit\",\"regular\",\"revealed\",\"reverse\",\"reward\",\"rhe\",\"shankar\",\"shes\",\"shld\",\"soil\",\"taste\",\"teleprompter\",\"thy\",\"unfair\",\"witnessed\",\"wouldve\",\"behaviour\",\"celebration\",\"clothes\",\"constantly\",\"creates\",\"damaged\",\"doctrine\",\"electing\",\"equivalent\",\"establishment\",\"execution\",\"front\",\"gate\",\"hike\",\"influenced\",\"kabhi\",\"neglected\",\"outer\",\"percentage\",\"portfolio\",\"possibly\",\"prevent\",\"returned\",\"scum\",\"spoil\",\"stable\",\"switch\",\"tackle\",\"tat\",\"ugly\",\"unlikely\",\"versus\",\"advancement\",\"ahmedabad\",\"businessman\",\"candidature\",\"captain\",\"chhattisgarh\",\"colleague\",\"contrary\",\"courtesy\",\"dance\",\"dekho\",\"disclose\",\"donald\",\"dress\",\"enjoyed\",\"establish\",\"exception\",\"exchange\",\"exit\",\"gotten\",\"helpless\",\"horse\",\"investor\",\"khangress\",\"korea\",\"lesser\",\"liquor\",\"observation\",\"saheb\",\"session\",\"sharif\",\"sheer\",\"sirji\",\"staunch\",\"succeeded\",\"swami\",\"tata\",\"thier\",\"twitterati\",\"unique\",\"worship\",\"advocate\",\"aint\",\"ambition\",\"apna\",\"benefited\",\"beta\",\"broker\",\"bsnl\",\"classic\",\"contributed\",\"denge\",\"drug\",\"hardik\",\"importantly\",\"infiltration\",\"insane\",\"jhumla\",\"monger\",\"odd\",\"papa\",\"prachar\",\"pretending\",\"retired\",\"retirement\",\"reuters\",\"sam\",\"scare\",\"securing\",\"ship\",\"spy\",\"stating\",\"sub\",\"sufficient\",\"tiger\",\"trash\",\"weaker\",\"wipe\",\"apology\",\"appreciating\",\"aren\",\"assuming\",\"bhushan\",\"captured\",\"closer\",\"denying\",\"designed\",\"determined\",\"discovered\",\"evms\",\"fearful\",\"foe\",\"function\",\"gen\",\"goahead\",\"guj\",\"larger\",\"lived\",\"mainstream\",\"matondkar\",\"net\",\"nope\",\"opposes\",\"pack\",\"package\",\"passion\",\"pathankot\",\"prakash\",\"pretend\",\"researcher\",\"resort\",\"showcase\",\"snake\",\"thr\",\"trader\",\"trail\",\"younger\",\"zindabad\",\"adanis\",\"aiims\",\"allah\",\"allegedly\",\"answering\",\"applied\",\"atmosphere\",\"banker\",\"beggar\",\"cake\",\"chota\",\"commit\",\"congressman\",\"delivers\",\"error\",\"essential\",\"exists\",\"generated\",\"guidance\",\"hmm\",\"immature\",\"jailed\",\"jindabad\",\"mukesh\",\"myth\",\"nazi\",\"nsso\",\"posse\",\"procedure\",\"quoted\",\"rahulji\",\"rashtra\",\"reelect\",\"respective\",\"roy\",\"shadow\",\"sport\",\"surrender\",\"terrible\",\"tizzy\",\"trade\",\"waise\",\"wash\",\"witnessing\",\"ache\",\"acquired\",\"adding\",\"apologise\",\"atrocity\",\"bhim\",\"bogus\",\"brainwashed\",\"chal\",\"consult\",\"crack\",\"cursing\",\"dar\",\"declaration\",\"drag\",\"friendship\",\"generate\",\"hang\",\"identify\",\"industrial\",\"irresponsible\",\"kalam\",\"kia\",\"lecture\",\"lobby\",\"maa\",\"mature\",\"modihe\",\"monkey\",\"pan\",\"pawar\",\"photograph\",\"poison\",\"preparing\",\"racist\",\"ranking\",\"rathee\",\"recovery\",\"representing\",\"reversed\",\"separatist\",\"sudden\",\"tere\",\"trolled\",\"vehicle\",\"wiped\",\"aam\",\"addition\",\"additional\",\"aise\",\"attended\",\"baki\",\"bla\",\"blatant\",\"celebrated\",\"cheater\",\"childhood\",\"clever\",\"commander\",\"concrete\",\"donation\",\"dust\",\"eastern\",\"encouraging\",\"equality\",\"expensive\",\"extend\",\"flawed\",\"guaranteed\",\"guha\",\"heaven\",\"highlighting\",\"hoon\",\"illogical\",\"iron\",\"mataram\",\"motive\",\"nail\",\"occasion\",\"performed\",\"pillar\",\"plot\",\"prosperity\",\"rabid\",\"rational\",\"saab\",\"shashi\",\"smile\",\"socialism\",\"socialist\",\"studied\",\"sweet\",\"territory\",\"tharoor\",\"throwing\",\"timeline\",\"vacancy\",\"valley\",\"whistle\",\"withdraw\",\"aadmi\",\"anytime\",\"ate\",\"author\",\"baad\",\"bang\",\"belonging\",\"beti\",\"color\",\"credential\",\"dekh\",\"design\",\"destroys\",\"diverting\",\"efficient\",\"embarrassment\",\"experienced\",\"forming\",\"gayi\",\"glass\",\"globally\",\"handling\",\"iit\",\"immense\",\"included\",\"investigate\",\"isme\",\"item\",\"kaun\",\"matlab\",\"milk\",\"mlas\",\"mukt\",\"objection\",\"patient\",\"pulling\",\"rai\",\"rajeev\",\"rana\",\"randeep\",\"reliance\",\"size\",\"spbsp\",\"studio\",\"telegraph\",\"uniform\",\"universal\",\"velocity\",\"acknowledged\",\"advised\",\"ala\",\"analogy\",\"azad\",\"bharatvarsh\",\"circus\",\"collective\",\"continuing\",\"cooking\",\"cuz\",\"default\",\"donkey\",\"drdos\",\"empower\",\"fanatic\",\"hahahaha\",\"happily\",\"historian\",\"impression\",\"incapable\",\"indication\",\"jagannath\",\"knw\",\"msme\",\"neighbour\",\"now\",\"object\",\"penny\",\"plenty\",\"radical\",\"roadshow\",\"robust\",\"royal\",\"sanitation\",\"scrapped\",\"sen\",\"slept\",\"sole\",\"staff\",\"stats\",\"struggling\",\"suitable\",\"suspect\",\"tirelessly\",\"tongue\",\"tonight\",\"weather\",\"yechury\",\"academic\",\"bada\",\"bcos\",\"begusarai\",\"bench\",\"cafe\",\"chooses\",\"choukidar\",\"competent\",\"convey\",\"crash\",\"crediting\",\"dealing\",\"dent\",\"dominated\",\"educational\",\"electorate\",\"eliminated\",\"entitled\",\"firstpost\",\"focusing\",\"frankly\",\"freely\",\"indulge\",\"jaipur\",\"japan\",\"kyu\",\"lacked\",\"method\",\"motherland\",\"mujhe\",\"politicising\",\"populist\",\"practical\",\"precisely\",\"preparation\",\"prospect\",\"rajya\",\"random\",\"rating\",\"ravish\",\"reflects\",\"rogue\",\"rupani\",\"shoe\",\"sided\",\"sing\",\"sooner\",\"split\",\"struck\",\"table\",\"talented\",\"televised\",\"touched\",\"trp\",\"weve\",\"\\u0938\\u0930\\u0915\",\"abp\",\"accidental\",\"acquire\",\"allows\",\"atalji\",\"auto\",\"beauty\",\"bird\",\"bribing\",\"cancel\",\"capitalism\",\"cec\",\"cold\",\"corridor\",\"domestic\",\"endeavour\",\"expenditure\",\"gross\",\"holiday\",\"invest\",\"literate\",\"liya\",\"longest\",\"material\",\"megarally\",\"naturally\",\"neech\",\"park\",\"patience\",\"peddling\",\"piddis\",\"plank\",\"prada\",\"production\",\"pti\",\"ratna\",\"refer\",\"regret\",\"renamed\",\"route\",\"ruler\",\"sponsored\",\"surname\",\"sushil\",\"this\",\"thoda\",\"trial\",\"tuned\",\"ultimate\",\"undermining\",\"undertaken\",\"urdu\",\"vegetarian\",\"warrior\",\"yup\",\"admitted\",\"adopted\",\"arre\",\"audacity\",\"aunty\",\"bow\",\"conveniently\",\"crop\",\"detailed\",\"draft\",\"edge\",\"forcing\",\"france\",\"fundamental\",\"gained\",\"germany\",\"grace\",\"icon\",\"in\",\"kolkata\",\"metro\",\"minor\",\"myanmar\",\"neck\",\"nehruji\",\"nitish\",\"nobel\",\"participate\",\"polarising\",\"prashant\",\"prefix\",\"prevail\",\"previously\",\"printed\",\"prominent\",\"recognise\",\"responds\",\"rld\",\"rumour\",\"scoundrel\",\"scripted\",\"segment\",\"sez\",\"sham\",\"shoulder\",\"transaction\",\"twist\",\"vendetta\",\"wished\",\"zone\",\"airspace\",\"amount\",\"builder\",\"ca\",\"chalo\",\"controversial\",\"convicted\",\"cook\",\"creator\",\"cycle\",\"dal\",\"dancing\",\"darkness\",\"delete\",\"denial\",\"described\",\"devil\",\"dey\",\"diamond\",\"dishonest\",\"disrespect\",\"glimpse\",\"guide\",\"gujju\",\"hafiz\",\"hated\",\"immediate\",\"infra\",\"insecure\",\"kaftan\",\"keen\",\"legend\",\"length\",\"may\",\"misadventure\",\"misrule\",\"nephew\",\"noted\",\"opportunist\",\"pair\",\"placed\",\"range\",\"raul\",\"recall\",\"recognised\",\"reducing\",\"schedule\",\"slammed\",\"summer\",\"syndrome\",\"system\",\"tihar\",\"travelling\",\"welcomed\",\"wind\",\"accident\",\"acted\",\"akhtar\",\"alcohol\",\"antimissile\",\"arise\",\"arrange\",\"assessment\",\"banaras\",\"bedi\",\"bengali\",\"bhage\",\"bread\",\"cancelled\",\"cat\",\"chandra\",\"childish\",\"circle\",\"coffer\",\"confirms\",\"cricketer\",\"define\",\"dena\",\"dharma\",\"disclosed\",\"distance\",\"ear\",\"endorse\",\"feature\",\"firstly\",\"gautam\",\"gesture\",\"globe\",\"grateful\",\"gud\",\"implementing\",\"karyakartas\",\"kejri\",\"lovely\",\"luxury\",\"malik\",\"mani\",\"mil\",\"militant\",\"modibut\",\"modimodi\",\"naive\",\"ncp\",\"nepal\",\"ongoing\",\"precision\",\"presenting\",\"prostitute\",\"queen\",\"quickly\",\"quota\",\"rahulgandhi\",\"rakesh\",\"replying\",\"reserved\",\"rjd\",\"rssbjp\",\"sacrificed\",\"spite\",\"swaraj\",\"thanos\",\"theyve\",\"venue\",\"window\",\"agreement\",\"ahmed\",\"amendment\",\"amid\",\"anyay\",\"applies\",\"ass\",\"atomic\",\"bastion\",\"bjprss\",\"blowing\",\"bureaucrat\",\"clarity\",\"collected\",\"completion\",\"confuse\",\"congressis\",\"contrast\",\"cpi\",\"cunning\",\"demean\",\"driving\",\"dump\",\"endorsing\",\"extradited\",\"fee\",\"filth\",\"gaining\",\"goi\",\"grandfather\",\"grew\",\"handled\",\"holy\",\"import\",\"indigenous\",\"kim\",\"leg\",\"liability\",\"martyr\",\"maya\",\"mufti\",\"mulayam\",\"nagar\",\"ngo\",\"nominated\",\"obsession\",\"onwards\",\"piddi\",\"pok\",\"realising\",\"roaming\",\"rose\",\"routine\",\"sakta\",\"screw\",\"shukla\",\"snatched\",\"store\",\"suggested\",\"suspense\",\"tab\",\"thanked\",\"touching\",\"trapped\",\"unnecessary\",\"updated\",\"wedding\",\"weed\",\"youngest\",\"aalo\",\"acceptance\",\"agni\",\"appointment\",\"associate\",\"bangladeshi\",\"bed\",\"berojgar\",\"blitz\",\"booked\",\"branding\",\"cleaned\",\"conscience\",\"constructive\",\"consulted\",\"crossing\",\"customer\",\"deeply\",\"depends\",\"deserving\",\"developmental\",\"dissent\",\"doable\",\"dozen\",\"enforcement\",\"enterprise\",\"feasible\",\"flow\",\"gabbard\",\"glorious\",\"gyan\",\"handpicked\",\"indra\",\"infront\",\"interacts\",\"jumping\",\"justified\",\"khud\",\"kickstart\",\"lollipop\",\"nadus\",\"ndas\",\"nut\",\"orgasm\",\"pehle\",\"plain\",\"pointed\",\"raghu\",\"rascal\",\"removal\",\"resolution\",\"saboot\",\"sachin\",\"seed\",\"selection\",\"sharp\",\"southern\",\"suspended\",\"talkatora\",\"tally\",\"thoothukudi\",\"tied\",\"ton\",\"training\",\"transforming\",\"tweetstorm\",\"vindicated\",\"worrying\",\"achieves\",\"agrees\",\"ajay\",\"ancestor\",\"arrived\",\"bin\",\"bind\",\"bitch\",\"blackmoney\",\"boat\",\"bull\",\"charged\",\"chartered\",\"chopper\",\"clap\",\"combined\",\"comeback\",\"condemned\",\"conducting\",\"crooked\",\"crow\",\"crown\",\"determination\",\"eminent\",\"engaged\",\"engine\",\"entering\",\"environmental\",\"esp\",\"external\",\"feared\",\"forgets\",\"functioning\",\"grant\",\"greed\",\"gullible\",\"heart_suit\",\"indicates\",\"investigating\",\"jayega\",\"jihadis\",\"joblessness\",\"kabir\",\"kahan\",\"kisi\",\"kitchen\",\"lickers\",\"lifted\",\"load\",\"maddy\",\"mahal\",\"mate\",\"monthly\",\"mum\",\"occupied\",\"pakodas\",\"pata\",\"paytm\",\"pil\",\"predicts\",\"priminister\",\"projected\",\"ragas\",\"ranting\",\"relate\",\"sach\",\"safer\",\"sattelite\",\"selfless\",\"sevak\",\"seven\",\"sleepless\",\"spelling\",\"stall\",\"submitted\",\"suggesting\",\"sunrise\",\"ubi\",\"undermine\",\"usd\",\"vast\",\"vested\",\"violates\",\"vow\",\"whining\",\"aaya\",\"allocation\",\"analyse\",\"applicable\",\"avoided\",\"awake\",\"bitter\",\"blatantly\",\"boosting\",\"breach\",\"casting\",\"chawkidar\",\"chennai\",\"closely\",\"consistent\",\"constant\",\"continuous\",\"cpim\",\"dam\",\"desai\",\"discipline\",\"donot\",\"dunga\",\"enthusiasm\",\"haan\",\"hailing\",\"hook\",\"horrible\",\"hoti\",\"lacking\",\"limitless\",\"lowearth\",\"mahamilavat\",\"manoj\",\"middleclass\",\"miracle\",\"nagpur\",\"narrow\",\"nia\",\"oust\",\"potato\",\"pulled\",\"purchased\",\"raaj\",\"reminder\",\"resident\",\"rushed\",\"sarcasm\",\"slavery\",\"specifically\",\"tolerance\",\"translation\",\"transparent\",\"tripura\",\"twisted\",\"vanished\",\"verma\",\"walked\",\"wapsi\",\"weakness\",\"yearly\",\"yoga\",\"actress\",\"akbaruddin\",\"amazed\",\"assist\",\"attract\",\"banana\",\"bankruptcy\",\"bash\",\"batting\",\"combination\",\"combine\",\"confiscated\",\"council\",\"criticises\",\"crush\",\"cute\",\"daring\",\"differentiate\",\"disgraceful\",\"distribution\",\"diverted\",\"execute\",\"exploit\",\"expressed\",\"female\",\"gehlot\",\"glue\",\"hailed\",\"hve\",\"incumbent\",\"kaise\",\"lage\",\"max\",\"monster\",\"mrnarendra\",\"mute\",\"nasa\",\"out\",\"permit\",\"predict\",\"presented\",\"prosper\",\"resigned\",\"revolutionary\",\"rip\",\"scream\",\"solely\",\"stashed\",\"storm\",\"tagged\",\"thapar\",\"townhall\",\"tradition\",\"trait\",\"unknown\",\"verge\",\"vibrant\",\"waive\",\"yashodaben\",\"advanced\",\"antihindu\",\"antipoor\",\"association\",\"begun\",\"bigoted\",\"centric\",\"civilization\",\"counted\",\"criterion\",\"debating\",\"decency\",\"demonization\",\"dignified\",\"disappear\",\"distributing\",\"domain\",\"doomed\",\"drdoisro\",\"dum\",\"electrified\",\"encouraged\",\"enlighten\",\"fart\",\"fav\",\"fdi\",\"filling\",\"fortune\",\"gaddar\",\"garib\",\"guest\",\"harsh\",\"heartiest\",\"hugged\",\"hurry\",\"incompetence\",\"innovation\",\"interfere\",\"jealousy\",\"jeweller\",\"juggernaut\",\"junior\",\"label\",\"laundering\",\"livelihood\",\"mei\",\"mi\",\"misused\",\"naveen\",\"neglect\",\"planted\",\"preference\",\"privilege\",\"provision\",\"rcb\",\"reap\",\"receiving\",\"reckless\",\"recorded\",\"resulted\",\"retweets\",\"rewarded\",\"safeguard\",\"shahid\",\"shatru\",\"sop\",\"stream\",\"substance\",\"superior\",\"survived\",\"taj\",\"theme\",\"threaten\",\"transform\",\"triple\",\"utterly\",\"volume\",\"walking\",\"warfare\",\"withdrawn\",\"admirer\",\"aimed\",\"aisa\",\"avatar\",\"backfire\",\"baroda\",\"benefitted\",\"bhagwan\",\"biopics\",\"butter\",\"cabal\",\"cite\",\"comic\",\"completing\",\"conferencing\",\"courageous\",\"creature\",\"daddy\",\"doubting\",\"downed\",\"emerging\",\"enable\",\"ending\",\"falsehood\",\"fashion\",\"february\",\"forum\",\"fragile\",\"genuinely\",\"gifted\",\"greatness\",\"includes\",\"indulging\",\"infrastructural\",\"innovative\",\"jago\",\"jaishemohammed\",\"kashi\",\"laga\",\"lunch\",\"mmj\",\"modithemed\",\"msp\",\"parasite\",\"prestigious\",\"primeminister\",\"proclaimed\",\"pulse\",\"quoting\",\"responding\",\"scholar\",\"severe\",\"shaking\",\"shifted\",\"significance\",\"stomach\",\"substantial\",\"tainted\",\"tank\",\"travelled\",\"upas\",\"user\",\"villain\",\"washed\",\"wen\",\"abandoned\",\"abhinandans\",\"admission\",\"aimim\",\"akbar\",\"amazon\",\"answerable\",\"arab\",\"arguing\",\"attained\",\"audit\",\"balochistan\",\"bcs\",\"burnt\",\"campaigned\",\"ceremony\",\"collapse\",\"column\",\"comfortable\",\"dared\",\"demanded\",\"democratically\",\"depend\",\"der\",\"deshbhakt\",\"devotee\",\"dictionary\",\"digit\",\"enabled\",\"equation\",\"establishing\",\"eve\",\"experiment\",\"gr\",\"greedy\",\"guardian\",\"holi\",\"hurting\",\"islamist\",\"jao\",\"kovind\",\"masjid\",\"ministerial\",\"naked\",\"neighbor\",\"nidhi\",\"observe\",\"oscar\",\"plight\",\"pmopm\",\"protects\",\"protesting\",\"query\",\"refrain\",\"reputation\",\"rg\",\"sakti\",\"setup\",\"shastri\",\"spoiled\",\"square\",\"staying\",\"tail\",\"taker\",\"treasury\",\"unaware\",\"underway\",\"unsafe\",\"vocal\",\"accusation\",\"affection\",\"asap\",\"assumed\",\"berozgar\",\"boasting\",\"bravo\",\"canvassing\",\"climate\",\"compulsion\",\"cult\",\"demonitization\",\"dete\",\"deve\",\"dimwit\",\"discard\",\"evidently\",\"excitement\",\"expelled\",\"extension\",\"firing\",\"gay\",\"godse\",\"greet\",\"guessing\",\"gvt\",\"harmful\",\"helpful\",\"hollow\",\"hugging\",\"hung\",\"imminent\",\"implication\",\"incharge\",\"itll\",\"jeypore\",\"jhoot\",\"kab\",\"kickback\",\"kinda\",\"knock\",\"lag\",\"lame\",\"lao\",\"laughed\",\"malign\",\"marry\",\"mehbooba\",\"minus\",\"modinomics\",\"mosque\",\"motivation\",\"msm\",\"naming\",\"navy\",\"noble\",\"noida\",\"obliged\",\"occupy\",\"overcome\",\"participation\",\"peon\",\"permanently\",\"pitroda\",\"poorer\",\"protected\",\"regularly\",\"relieved\",\"richer\",\"sagarika\",\"sarabhai\",\"satisfaction\",\"shell\",\"soo\",\"spared\",\"spewing\",\"summit\",\"tera\",\"text\",\"theprints\",\"torture\",\"tragedy\",\"umesh\",\"unturned\",\"urged\",\"urging\",\"wali\",\"wanting\",\"admits\",\"ananthkumar\",\"ancient\",\"apt\",\"assad\",\"australia\",\"babri\",\"backbone\",\"barely\",\"biriyani\",\"bose\",\"brief\",\"cared\",\"chattisgarh\",\"compromise\",\"creative\",\"custody\",\"dada\",\"darbari\",\"delaying\",\"deputy\",\"dhokla\",\"disappointment\",\"divine\",\"dose\",\"escaped\",\"estimate\",\"extended\",\"fearless\",\"festival\",\"foreigner\",\"fraudsters\",\"generally\",\"gobar\",\"hall\",\"hay\",\"heartland\",\"honoured\",\"hote\",\"ia\",\"incentive\",\"interviewed\",\"interviewing\",\"jus\",\"lapdog\",\"largely\",\"lekin\",\"linking\",\"madhav\",\"maintained\",\"mama\",\"managing\",\"manufacturer\",\"mouthpiece\",\"mushroom\",\"needy\",\"nehrugandhi\",\"newly\",\"nov\",\"observed\",\"optic\",\"orissa\",\"pal\",\"pattern\",\"pliable\",\"propagate\",\"provides\",\"raho\",\"remembering\",\"requirement\",\"resolved\",\"rha\",\"risen\",\"rush\",\"saeed\",\"satisfy\",\"sec\",\"sidhu\",\"singer\",\"spends\",\"stamp\",\"sympathiser\",\"timely\",\"umpire\",\"underestimate\",\"unit\",\"urgent\",\"vanish\",\"violent\",\"weakened\",\"willingness\",\"york\",\"aage\",\"abdul\",\"abolish\",\"alok\",\"applying\",\"arena\",\"ashutosh\",\"authoritarian\",\"baseless\",\"behavior\",\"belittle\",\"blown\",\"bole\",\"casualty\",\"chandrashekhar\",\"chicken\",\"congres\",\"convincing\",\"cpm\",\"deleted\",\"deshdrohi\",\"disclosure\",\"displayed\",\"diwali\",\"dono\",\"dy\",\"emerged\",\"engage\",\"engineering\",\"fabric\",\"financialxpress\",\"gathered\",\"hearty\",\"hopeful\",\"huh\",\"hurdle\",\"illusion\",\"janpath\",\"jingoism\",\"jinnah\",\"landed\",\"libtards\",\"listened\",\"loc\",\"mann\",\"manufactured\",\"meal\",\"mentor\",\"messaging\",\"mulla\",\"numerous\",\"offence\",\"oratory\",\"outsider\",\"padma\",\"pai\",\"painful\",\"piyush\",\"port\",\"ppls\",\"privileged\",\"publish\",\"reaping\",\"reminding\",\"ridicule\",\"screaming\",\"scrutiny\",\"sens\",\"senseless\",\"sensitive\",\"sex\",\"shattered\",\"sink\",\"smarter\",\"spew\",\"srk\",\"structure\",\"teeth\",\"tweeter\",\"valour\",\"aaye\",\"actively\",\"aggression\",\"alternate\",\"apologist\",\"asian\",\"attribute\",\"balakote\",\"balanced\",\"baloch\",\"benami\",\"bhagat\",\"blink\",\"bola\",\"broad\",\"but\",\"carpet\",\"catching\",\"chaiwalas\",\"cloud\",\"commendable\",\"communalism\",\"compulsive\",\"corrected\",\"crass\",\"crude\",\"darr\",\"defaming\",\"discrimination\",\"distract\",\"disturbed\",\"eats\",\"endless\",\"endorsed\",\"entertaining\",\"entirely\",\"executive\",\"exemption\",\"flaw\",\"foolishness\",\"footstep\",\"gaali\",\"gamechanger\",\"inclusion\",\"intentionally\"],\"x1\":{\"__ndarray__\":\"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\",\"dtype\":\"float32\",\"order\":\"little\",\"shape\":[5002]},\"x2\":{\"__ndarray__\":\"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\",\"dtype\":\"float32\",\"order\":\"little\",\"shape\":[5002]}},\"selected\":{\"id\":\"1222\"},\"selection_policy\":{\"id\":\"1221\"}},\"id\":\"1194\",\"type\":\"ColumnDataSource\"},{\"attributes\":{},\"id\":\"1182\",\"type\":\"BasicTicker\"},{\"attributes\":{\"active_drag\":\"auto\",\"active_inspect\":\"auto\",\"active_multi\":null,\"active_scroll\":\"auto\",\"active_tap\":\"auto\",\"tools\":[{\"id\":\"1185\"},{\"id\":\"1186\"},{\"id\":\"1187\"},{\"id\":\"1188\"}]},\"id\":\"1189\",\"type\":\"Toolbar\"},{\"attributes\":{},\"id\":\"1218\",\"type\":\"BasicTickFormatter\"},{\"attributes\":{},\"id\":\"1187\",\"type\":\"ResetTool\"},{\"attributes\":{},\"id\":\"1221\",\"type\":\"UnionRenderers\"}],\"root_ids\":[\"1166\"]},\"title\":\"Bokeh Application\",\"version\":\"2.2.1\"}};\n",
       "  var render_items = [{\"docid\":\"8af7879a-ed1e-4d24-9a35-29162df5006f\",\"root_ids\":[\"1166\"],\"roots\":{\"1166\":\"4ca50f08-051c-4906-b1ce-12ab3ab46204\"}}];\n",
       "  root.Bokeh.embed.embed_items_notebook(docs_json, render_items);\n",
       "\n",
       "  }\n",
       "  if (root.Bokeh !== undefined) {\n",
       "    embed_document(root);\n",
       "  } else {\n",
       "    var attempts = 0;\n",
       "    var timer = setInterval(function(root) {\n",
       "      if (root.Bokeh !== undefined) {\n",
       "        clearInterval(timer);\n",
       "        embed_document(root);\n",
       "      } else {\n",
       "        attempts++;\n",
       "        if (attempts > 100) {\n",
       "          clearInterval(timer);\n",
       "          console.log(\"Bokeh: ERROR: Unable to run BokehJS code because BokehJS library is missing\");\n",
       "        }\n",
       "      }\n",
       "    }, 10, root)\n",
       "  }\n",
       "})(window);"
      ],
      "application/vnd.bokehjs_exec.v0+json": ""
     },
     "metadata": {
      "application/vnd.bokehjs_exec.v0+json": {
       "id": "1166"
      }
     },
     "output_type": "display_data"
    }
   ],
   "source": [
    "p = figure(tools=\"pan,wheel_zoom,reset,save\",\n",
    "           toolbar_location=\"above\",\n",
    "           title=\"vector T-SNE for embeddings\")\n",
    "\n",
    "source = ColumnDataSource(data=dict(x1=words_top_ted_tsne[:,0],\n",
    "                                    x2=words_top_ted_tsne[:,1],\n",
    "                                    names=Text.vocab.itos,\n",
    "                                    color=colorlist))\n",
    "\n",
    "p.scatter(x=\"x1\", y=\"x2\", size=8, source=source, fill_color=\"color\")\n",
    "\n",
    "word_labels = LabelSet(x=\"x1\", y=\"x2\", text=\"names\", y_offset=6,\n",
    "                       text_font_size=\"8pt\", text_color=\"#555555\",\n",
    "                       source=source, text_align='center',render_mode='canvas')\n",
    "# p.add_layout(word_labels)\n",
    "\n",
    "show(p)\n"
   ]
  },
  {
   "cell_type": "markdown",
   "metadata": {},
   "source": [
    "> Showing labels"
   ]
  },
  {
   "cell_type": "code",
   "execution_count": 56,
   "metadata": {
    "ExecuteTime": {
     "end_time": "2021-04-07T09:03:07.255845Z",
     "start_time": "2021-04-07T09:03:07.173848Z"
    },
    "colab": {
     "base_uri": "https://localhost:8080/",
     "height": 617
    },
    "id": "wWbpD19Dz9ku",
    "outputId": "9cc27e08-0560-414c-b87d-4bcbd737272c"
   },
   "outputs": [
    {
     "data": {
      "text/html": [
       "\n",
       "\n",
       "\n",
       "\n",
       "\n",
       "\n",
       "  <div class=\"bk-root\" id=\"4824a0d8-a79b-46d9-bc0b-be09285504e4\" data-root-id=\"1258\"></div>\n"
      ]
     },
     "metadata": {},
     "output_type": "display_data"
    },
    {
     "data": {
      "application/javascript": [
       "(function(root) {\n",
       "  function embed_document(root) {\n",
       "    \n",
       "  var docs_json = {\"d85b2db6-738f-4c40-a1f6-0d2be08fb6fb\":{\"roots\":{\"references\":[{\"attributes\":{\"below\":[{\"id\":\"1269\"}],\"center\":[{\"id\":\"1272\"},{\"id\":\"1276\"},{\"id\":\"1292\"}],\"left\":[{\"id\":\"1273\"}],\"renderers\":[{\"id\":\"1290\"}],\"title\":{\"id\":\"1259\"},\"toolbar\":{\"id\":\"1281\"},\"toolbar_location\":\"above\",\"x_range\":{\"id\":\"1261\"},\"x_scale\":{\"id\":\"1265\"},\"y_range\":{\"id\":\"1263\"},\"y_scale\":{\"id\":\"1267\"}},\"id\":\"1258\",\"subtype\":\"Figure\",\"type\":\"Plot\"},{\"attributes\":{},\"id\":\"1265\",\"type\":\"LinearScale\"},{\"attributes\":{},\"id\":\"1280\",\"type\":\"SaveTool\"},{\"attributes\":{\"fill_color\":{\"field\":\"color\"},\"line_color\":{\"value\":\"#1f77b4\"},\"size\":{\"units\":\"screen\",\"value\":8},\"x\":{\"field\":\"x1\"},\"y\":{\"field\":\"x2\"}},\"id\":\"1288\",\"type\":\"Scatter\"},{\"attributes\":{},\"id\":\"1278\",\"type\":\"WheelZoomTool\"},{\"attributes\":{},\"id\":\"1279\",\"type\":\"ResetTool\"},{\"attributes\":{\"fill_alpha\":{\"value\":0.1},\"fill_color\":{\"field\":\"color\"},\"line_alpha\":{\"value\":0.1},\"line_color\":{\"value\":\"#1f77b4\"},\"size\":{\"units\":\"screen\",\"value\":8},\"x\":{\"field\":\"x1\"},\"y\":{\"field\":\"x2\"}},\"id\":\"1289\",\"type\":\"Scatter\"},{\"attributes\":{\"data_source\":{\"id\":\"1286\"},\"glyph\":{\"id\":\"1288\"},\"hover_glyph\":null,\"muted_glyph\":null,\"nonselection_glyph\":{\"id\":\"1289\"},\"selection_glyph\":null,\"view\":{\"id\":\"1291\"}},\"id\":\"1290\",\"type\":\"GlyphRenderer\"},{\"attributes\":{},\"id\":\"1263\",\"type\":\"DataRange1d\"},{\"attributes\":{},\"id\":\"1321\",\"type\":\"Selection\"},{\"attributes\":{},\"id\":\"1267\",\"type\":\"LinearScale\"},{\"attributes\":{},\"id\":\"1270\",\"type\":\"BasicTicker\"},{\"attributes\":{\"formatter\":{\"id\":\"1317\"},\"ticker\":{\"id\":\"1270\"}},\"id\":\"1269\",\"type\":\"LinearAxis\"},{\"attributes\":{},\"id\":\"1274\",\"type\":\"BasicTicker\"},{\"attributes\":{},\"id\":\"1319\",\"type\":\"BasicTickFormatter\"},{\"attributes\":{\"axis\":{\"id\":\"1269\"},\"ticker\":null},\"id\":\"1272\",\"type\":\"Grid\"},{\"attributes\":{\"formatter\":{\"id\":\"1319\"},\"ticker\":{\"id\":\"1274\"}},\"id\":\"1273\",\"type\":\"LinearAxis\"},{\"attributes\":{\"active_drag\":\"auto\",\"active_inspect\":\"auto\",\"active_multi\":null,\"active_scroll\":\"auto\",\"active_tap\":\"auto\",\"tools\":[{\"id\":\"1277\"},{\"id\":\"1278\"},{\"id\":\"1279\"},{\"id\":\"1280\"}]},\"id\":\"1281\",\"type\":\"Toolbar\"},{\"attributes\":{},\"id\":\"1317\",\"type\":\"BasicTickFormatter\"},{\"attributes\":{\"axis\":{\"id\":\"1273\"},\"dimension\":1,\"ticker\":null},\"id\":\"1276\",\"type\":\"Grid\"},{\"attributes\":{\"source\":{\"id\":\"1286\"},\"text\":{\"field\":\"names\"},\"text_align\":\"center\",\"text_color\":{\"value\":\"#555555\"},\"text_font_size\":{\"value\":\"8pt\"},\"x\":{\"field\":\"x1\"},\"y\":{\"field\":\"x2\"},\"y_offset\":{\"value\":6}},\"id\":\"1292\",\"type\":\"LabelSet\"},{\"attributes\":{},\"id\":\"1277\",\"type\":\"PanTool\"},{\"attributes\":{\"data\":{\"color\":[\"#00ff00\",\"#00ff00\",\"#00ff00\",\"#00ff00\",\"#00ff00\",\"#00ff00\",\"#00ff00\",\"#00ff00\",\"#00ff00\",\"#00ff00\",\"#00ff00\",\"#00ff00\",\"#00ff00\",\"#00ff00\",\"#00ffff\",\"#00ff00\",\"#00ff00\",\"#00ff00\",\"#00ff00\",\"#00ff00\",\"#00ff00\",\"#00ffff\",\"#00ff00\",\"#00ff00\",\"#00ff00\",\"#00ff00\",\"#00ff00\",\"#00ff00\",\"#00ff00\",\"#00ffff\",\"#00ff00\",\"#00ff00\",\"#00ff00\",\"#00ff00\",\"#00ff00\",\"#00ff00\",\"#00ff00\",\"#00ff00\",\"#00ff00\",\"#00ff00\",\"#00ff00\",\"#00ff00\",\"#00ff00\",\"#00ff00\",\"#00ff00\",\"#00ff00\",\"#00ff00\",\"#00ffff\",\"#00ff00\",\"#00ff00\",\"#00ffff\",\"#00ffff\",\"#00ff00\",\"#00ff00\",\"#00ffff\",\"#00ff00\",\"#000000\",\"#00ff00\",\"#00ff00\",\"#00ff00\",\"#00ff00\",\"#00ff00\",\"#00ff00\",\"#00ff00\",\"#00ff00\",\"#00ff00\",\"#00ffff\",\"#00ff00\",\"#00ff00\",\"#00ffff\",\"#00ffff\",\"#00ff00\",\"#00ff00\",\"#00ff00\",\"#00ff00\",\"#00ff00\",\"#00ffff\",\"#00ff00\",\"#00ff00\",\"#00ff00\",\"#00ff00\",\"#00ff00\",\"#00ff00\",\"#00ffff\",\"#00ff00\",\"#00ff00\",\"#00ff00\",\"#00ff00\",\"#00ff00\",\"#00ff00\",\"#00ff00\",\"#00ff00\",\"#00ff00\",\"#000000\",\"#00ff00\",\"#00ff00\",\"#00ffff\",\"#00ff00\",\"#00ff00\",\"#00ff00\",\"#00ff00\",\"#00ff00\",\"#00ff00\",\"#00ff00\",\"#00ff00\",\"#00ff00\",\"#00ff00\",\"#00ffff\",\"#00ff00\",\"#000000\",\"#00ff00\",\"#00ff00\",\"#00ff00\",\"#00ff00\",\"#00ff00\",\"#00ff00\",\"#00ffff\",\"#00ff00\",\"#00ff00\",\"#00ff00\",\"#00ff00\",\"#00ff00\",\"#00ff00\",\"#00ff00\",\"#00ff00\",\"#000000\",\"#00ffff\",\"#00ff00\",\"#00ff00\",\"#00ff00\",\"#00ff00\",\"#00ffff\",\"#00ffff\",\"#00ff00\",\"#00ff00\",\"#00ff00\",\"#00ff00\",\"#00ff00\",\"#00ff00\",\"#00ff00\",\"#00ff00\",\"#00ff00\",\"#00ff00\",\"#00ffff\",\"#00ff00\",\"#00ff00\",\"#00ff00\",\"#00ff00\",\"#00ff00\",\"#00ff00\",\"#00ff00\",\"#00ff00\",\"#000000\",\"#00ff00\",\"#00ff00\",\"#00ff00\",\"#00ff00\",\"#00ff00\",\"#00ff00\",\"#00ff00\",\"#00ff00\",\"#00ff00\",\"#00ff00\",\"#00ff00\",\"#00ff00\",\"#00ff00\",\"#00ff00\",\"#00ff00\",\"#00ff00\",\"#00ffff\",\"#00ff00\",\"#00ff00\",\"#00ff00\",\"#00ff00\",\"#00ff00\",\"#00ff00\",\"#00ff00\",\"#00ff00\",\"#00ff00\",\"#00ff00\",\"#00ff00\",\"#00ff00\",\"#00ffff\",\"#00ff00\",\"#00ff00\",\"#00ff00\",\"#00ff00\",\"#00ff00\",\"#00ff00\",\"#00ff00\",\"#00ff00\",\"#00ff00\",\"#000000\",\"#00ff00\",\"#00ff00\",\"#00ff00\",\"#00ff00\",\"#00ff00\",\"#000000\",\"#00ff00\",\"#00ff00\",\"#00ff00\",\"#00ffff\",\"#00ff00\",\"#00ff00\",\"#00ff00\",\"#00ff00\",\"#00ff00\",\"#00ff00\",\"#00ff00\",\"#00ff00\",\"#000000\",\"#00ff00\",\"#00ff00\",\"#00ff00\",\"#00ff00\",\"#00ffff\",\"#00ff00\",\"#00ff00\",\"#000000\",\"#00ff00\",\"#00ffff\",\"#00ffff\",\"#00ff00\",\"#00ff00\",\"#00ff00\",\"#00ff00\",\"#00ff00\",\"#00ff00\",\"#00ff00\",\"#00ff00\",\"#00ff00\",\"#00ff00\",\"#000000\",\"#00ff00\",\"#00ff00\",\"#00ff00\",\"#000000\",\"#00ff00\",\"#00ffff\",\"#00ff00\",\"#00ff00\",\"#00ff00\",\"#00ff00\",\"#00ff00\",\"#000000\",\"#00ff00\",\"#00ff00\",\"#00ff00\",\"#00ff00\",\"#00ff00\",\"#00ff00\",\"#00ff00\",\"#00ff00\",\"#00ff00\",\"#00ff00\",\"#00ffff\",\"#00ff00\",\"#00ff00\",\"#00ffff\",\"#00ff00\",\"#00ff00\",\"#00ff00\",\"#00ff00\",\"#00ff00\",\"#00ff00\",\"#00ff00\",\"#00ff00\",\"#000000\",\"#00ff00\",\"#000000\",\"#00ff00\",\"#00ff00\",\"#00ff00\",\"#00ff00\",\"#00ffff\",\"#00ff00\",\"#00ff00\",\"#00ff00\",\"#00ff00\",\"#000000\",\"#00ff00\",\"#00ff00\",\"#00ff00\",\"#00ff00\",\"#00ff00\",\"#00ff00\",\"#00ff00\",\"#00ffff\",\"#00ff00\",\"#000000\",\"#00ff00\",\"#00ff00\",\"#00ff00\",\"#00ff00\",\"#00ff00\",\"#00ff00\",\"#000000\",\"#00ff00\",\"#00ff00\",\"#00ff00\",\"#000000\",\"#00ff00\",\"#00ff00\",\"#00ff00\",\"#00ff00\",\"#00ff00\",\"#00ff00\",\"#00ff00\",\"#00ff00\",\"#00ff00\",\"#00ff00\",\"#00ffff\",\"#00ff00\",\"#00ff00\",\"#00ff00\",\"#00ffff\",\"#00ff00\",\"#00ff00\",\"#00ff00\",\"#00ff00\",\"#00ff00\",\"#00ff00\",\"#00ff00\",\"#00ffff\",\"#00ffff\",\"#00ff00\",\"#00ff00\",\"#00ffff\",\"#00ffff\",\"#00ff00\",\"#00ff00\",\"#00ffff\",\"#00ff00\",\"#00ff00\",\"#00ffff\",\"#00ff00\",\"#00ffff\",\"#00ff00\",\"#00ff00\",\"#00ff00\",\"#00ffff\",\"#00ffff\",\"#00ff00\",\"#00ff00\",\"#00ffff\",\"#00ff00\",\"#00ff00\",\"#000000\",\"#00ff00\",\"#00ff00\",\"#00ff00\",\"#00ffff\",\"#00ffff\",\"#00ff00\",\"#00ff00\",\"#00ffff\",\"#00ff00\",\"#00ffff\",\"#00ff00\",\"#00ff00\",\"#00ff00\",\"#00ff00\",\"#00ff00\",\"#00ffff\",\"#00ff00\",\"#00ff00\",\"#00ff00\",\"#00ff00\",\"#00ff00\",\"#00ff00\",\"#00ff00\",\"#00ff00\",\"#00ff00\",\"#00ff00\",\"#00ff00\",\"#00ffff\",\"#00ff00\",\"#00ff00\",\"#00ff00\",\"#00ff00\",\"#00ff00\",\"#00ff00\",\"#00ff00\",\"#00ffff\",\"#00ff00\",\"#00ff00\",\"#00ff00\",\"#00ff00\",\"#00ff00\",\"#00ff00\",\"#00ff00\",\"#000000\",\"#00ff00\",\"#00ff00\",\"#000000\",\"#000000\",\"#00ff00\",\"#00ff00\",\"#00ffff\",\"#00ff00\",\"#00ff00\",\"#00ff00\",\"#00ffff\",\"#00ff00\",\"#00ff00\",\"#00ffff\",\"#00ff00\",\"#00ff00\",\"#00ff00\",\"#00ff00\",\"#00ff00\",\"#00ff00\",\"#00ff00\",\"#00ff00\",\"#00ff00\",\"#00ff00\",\"#00ff00\",\"#00ff00\",\"#00ff00\",\"#00ff00\",\"#00ff00\",\"#00ff00\",\"#00ff00\",\"#00ff00\",\"#00ff00\",\"#00ff00\",\"#00ff00\",\"#00ff00\",\"#00ff00\",\"#00ff00\",\"#00ff00\",\"#00ff00\",\"#00ff00\",\"#000000\",\"#00ff00\",\"#00ff00\",\"#00ff00\",\"#00ff00\",\"#00ffff\",\"#00ff00\",\"#00ff00\",\"#00ff00\",\"#000000\",\"#00ff00\",\"#00ff00\",\"#00ff00\",\"#00ff00\",\"#00ff00\",\"#00ff00\",\"#00ff00\",\"#00ff00\",\"#00ff00\",\"#00ff00\",\"#00ffff\",\"#00ff00\",\"#00ff00\",\"#00ff00\",\"#000000\",\"#00ff00\",\"#00ff00\",\"#00ff00\",\"#00ff00\",\"#00ff00\",\"#00ff00\",\"#00ff00\",\"#000000\",\"#00ff00\",\"#00ff00\",\"#00ff00\",\"#00ff00\",\"#00ff00\",\"#00ff00\",\"#00ff00\",\"#00ff00\",\"#00ff00\",\"#00ff00\",\"#00ff00\",\"#00ff00\",\"#00ff00\",\"#00ff00\",\"#00ff00\",\"#00ff00\",\"#00ff00\",\"#00ff00\",\"#00ff00\",\"#00ff00\",\"#00ff00\",\"#00ff00\",\"#00ff00\",\"#00ff00\",\"#00ff00\",\"#00ff00\",\"#00ff00\",\"#000000\",\"#00ff00\",\"#00ffff\",\"#00ff00\",\"#00ff00\",\"#00ffff\",\"#00ff00\",\"#00ff00\",\"#000000\",\"#00ff00\",\"#00ff00\",\"#00ffff\",\"#00ff00\",\"#00ff00\",\"#00ffff\",\"#00ff00\",\"#00ff00\",\"#00ff00\",\"#00ff00\",\"#00ff00\",\"#00ff00\",\"#00ff00\",\"#000000\",\"#00ffff\",\"#00ff00\",\"#00ff00\",\"#000000\",\"#00ff00\",\"#00ff00\",\"#00ff00\",\"#00ff00\",\"#00ff00\",\"#00ff00\",\"#00ff00\",\"#00ff00\",\"#00ff00\",\"#00ff00\",\"#00ff00\",\"#00ff00\",\"#00ff00\",\"#00ff00\",\"#00ff00\",\"#00ff00\",\"#00ffff\",\"#00ff00\",\"#000000\",\"#00ff00\",\"#00ff00\",\"#00ff00\",\"#00ff00\",\"#00ff00\",\"#00ff00\",\"#00ff00\",\"#00ff00\",\"#00ff00\",\"#00ff00\",\"#00ff00\",\"#00ff00\",\"#00ffff\",\"#00ff00\",\"#00ff00\",\"#00ffff\",\"#00ff00\",\"#00ff00\",\"#00ff00\",\"#00ffff\",\"#00ff00\",\"#00ff00\",\"#00ff00\",\"#00ff00\",\"#00ff00\",\"#000000\",\"#00ff00\",\"#00ff00\",\"#00ff00\",\"#00ff00\",\"#00ff00\",\"#00ff00\",\"#00ffff\",\"#00ff00\",\"#00ff00\",\"#00ff00\",\"#00ff00\",\"#00ffff\",\"#00ff00\",\"#00ff00\",\"#00ff00\",\"#00ff00\",\"#00ff00\",\"#00ff00\",\"#00ff00\",\"#00ff00\",\"#00ff00\",\"#00ffff\",\"#00ff00\",\"#00ff00\",\"#00ff00\",\"#00ff00\",\"#00ff00\",\"#00ff00\",\"#00ff00\",\"#00ff00\",\"#00ff00\",\"#00ff00\",\"#00ff00\",\"#00ff00\",\"#00ff00\",\"#00ff00\",\"#00ffff\",\"#000000\",\"#00ff00\",\"#000000\",\"#00ff00\",\"#00ff00\",\"#00ff00\",\"#00ff00\",\"#00ff00\",\"#00ff00\",\"#00ff00\",\"#00ff00\",\"#00ffff\",\"#00ff00\",\"#00ff00\",\"#00ff00\",\"#00ff00\",\"#00ff00\",\"#00ff00\",\"#00ff00\",\"#00ff00\",\"#00ff00\",\"#00ff00\",\"#00ff00\",\"#00ff00\",\"#00ff00\",\"#00ff00\",\"#00ff00\",\"#00ff00\",\"#00ff00\",\"#00ff00\",\"#00ff00\",\"#00ff00\",\"#00ffff\",\"#00ff00\",\"#00ff00\",\"#00ff00\",\"#00ff00\",\"#00ff00\",\"#00ff00\",\"#00ff00\",\"#00ff00\",\"#00ff00\",\"#00ff00\",\"#00ff00\",\"#00ff00\",\"#00ff00\",\"#00ff00\",\"#00ff00\",\"#00ff00\",\"#00ff00\",\"#00ff00\",\"#00ff00\",\"#00ff00\",\"#00ff00\",\"#00ff00\",\"#00ffff\",\"#00ff00\",\"#00ff00\",\"#00ff00\",\"#000000\",\"#00ff00\",\"#00ff00\",\"#00ff00\",\"#00ff00\",\"#00ff00\",\"#00ff00\",\"#00ff00\",\"#00ff00\",\"#00ff00\",\"#00ff00\",\"#00ff00\",\"#00ff00\",\"#00ff00\",\"#00ff00\",\"#00ff00\",\"#000000\",\"#00ff00\",\"#00ff00\",\"#00ff00\",\"#00ff00\",\"#00ff00\",\"#00ff00\",\"#00ff00\",\"#00ff00\",\"#00ff00\",\"#00ff00\",\"#00ff00\",\"#00ff00\",\"#00ff00\",\"#00ff00\",\"#00ff00\",\"#00ff00\",\"#00ff00\",\"#00ff00\",\"#00ff00\",\"#00ff00\",\"#00ff00\",\"#00ff00\",\"#00ff00\",\"#00ffff\",\"#00ff00\",\"#00ffff\",\"#00ff00\",\"#00ff00\",\"#00ff00\",\"#00ff00\",\"#00ffff\",\"#00ffff\",\"#00ff00\",\"#000000\",\"#00ffff\",\"#00ff00\",\"#00ff00\",\"#00ff00\",\"#000000\",\"#00ff00\",\"#00ff00\",\"#00ff00\",\"#00ff00\",\"#00ffff\",\"#00ff00\",\"#00ff00\",\"#00ff00\",\"#00ff00\",\"#00ff00\",\"#00ff00\",\"#00ff00\",\"#00ff00\",\"#00ff00\",\"#00ffff\",\"#00ff00\",\"#00ffff\",\"#00ff00\",\"#000000\",\"#00ff00\",\"#00ff00\",\"#00ff00\",\"#00ff00\",\"#00ff00\",\"#00ff00\",\"#00ff00\",\"#00ff00\",\"#00ffff\",\"#00ff00\",\"#000000\",\"#00ff00\",\"#00ff00\",\"#00ff00\",\"#00ff00\",\"#00ff00\",\"#00ff00\",\"#00ff00\",\"#00ffff\",\"#00ff00\",\"#00ff00\",\"#00ff00\",\"#00ff00\",\"#00ff00\",\"#00ffff\",\"#00ff00\",\"#00ff00\",\"#00ffff\",\"#00ff00\",\"#000000\",\"#00ff00\",\"#00ff00\",\"#00ff00\",\"#00ff00\",\"#00ff00\",\"#00ff00\",\"#00ff00\",\"#00ffff\",\"#00ff00\",\"#00ffff\",\"#000000\",\"#00ff00\",\"#00ff00\",\"#00ff00\",\"#00ff00\",\"#00ff00\",\"#00ff00\",\"#00ff00\",\"#00ff00\",\"#00ff00\",\"#00ffff\",\"#00ff00\",\"#00ff00\",\"#00ff00\",\"#00ff00\",\"#00ffff\",\"#00ff00\",\"#00ff00\",\"#00ff00\",\"#00ff00\",\"#00ff00\",\"#00ff00\",\"#00ffff\",\"#00ff00\",\"#00ff00\",\"#00ff00\",\"#00ff00\",\"#00ffff\",\"#00ffff\",\"#00ff00\",\"#00ff00\",\"#000000\",\"#00ff00\",\"#00ff00\",\"#00ff00\",\"#00ff00\",\"#00ff00\",\"#00ff00\",\"#00ff00\",\"#000000\",\"#00ff00\",\"#00ffff\",\"#00ff00\",\"#00ff00\",\"#00ff00\",\"#000000\",\"#00ff00\",\"#00ff00\",\"#00ff00\",\"#00ff00\",\"#00ff00\",\"#00ff00\",\"#00ff00\",\"#00ff00\",\"#00ff00\",\"#00ffff\",\"#00ff00\",\"#00ff00\",\"#00ff00\",\"#00ff00\",\"#00ff00\",\"#00ff00\",\"#00ff00\",\"#00ff00\",\"#000000\",\"#00ff00\",\"#00ff00\",\"#00ff00\",\"#00ff00\",\"#00ff00\",\"#00ff00\",\"#00ffff\",\"#00ff00\",\"#00ff00\",\"#00ff00\",\"#00ff00\",\"#00ff00\",\"#00ff00\",\"#00ff00\",\"#00ff00\",\"#00ff00\",\"#00ff00\",\"#00ff00\",\"#00ff00\",\"#00ff00\",\"#00ff00\",\"#00ff00\",\"#00ff00\",\"#00ff00\",\"#00ff00\",\"#00ff00\",\"#00ff00\",\"#000000\",\"#00ff00\",\"#00ff00\",\"#00ff00\",\"#00ff00\",\"#00ff00\",\"#00ff00\",\"#00ff00\",\"#00ff00\",\"#00ff00\",\"#00ff00\",\"#00ff00\",\"#000000\",\"#000000\",\"#00ff00\",\"#00ff00\",\"#00ff00\",\"#00ffff\",\"#000000\",\"#00ff00\",\"#00ff00\",\"#00ff00\",\"#00ff00\",\"#00ff00\",\"#00ff00\",\"#00ff00\",\"#00ff00\",\"#000000\",\"#00ff00\",\"#00ff00\",\"#00ff00\",\"#00ff00\",\"#00ffff\",\"#00ff00\",\"#000000\",\"#00ff00\",\"#00ff00\",\"#00ff00\",\"#00ff00\",\"#00ff00\",\"#00ff00\",\"#00ff00\",\"#00ffff\",\"#00ff00\",\"#00ff00\",\"#000000\",\"#00ff00\",\"#00ff00\",\"#000000\",\"#00ffff\",\"#00ff00\",\"#00ff00\",\"#00ff00\",\"#00ff00\",\"#00ff00\",\"#00ff00\",\"#00ffff\",\"#000000\",\"#00ff00\",\"#00ff00\",\"#00ff00\",\"#00ffff\",\"#00ffff\",\"#00ffff\",\"#00ff00\",\"#00ff00\",\"#00ff00\",\"#00ff00\",\"#00ff00\",\"#00ff00\",\"#00ff00\",\"#00ff00\",\"#00ff00\",\"#00ff00\",\"#00ff00\",\"#00ff00\",\"#00ff00\",\"#00ff00\",\"#00ff00\",\"#00ff00\",\"#00ff00\",\"#000000\",\"#00ff00\",\"#00ff00\",\"#00ffff\",\"#000000\",\"#00ff00\",\"#00ff00\",\"#00ff00\",\"#00ff00\",\"#00ffff\",\"#00ff00\",\"#00ff00\",\"#00ff00\",\"#00ff00\",\"#000000\",\"#00ff00\",\"#00ff00\",\"#000000\",\"#000000\",\"#00ff00\",\"#00ff00\",\"#00ffff\",\"#00ff00\",\"#00ff00\",\"#00ff00\",\"#00ff00\",\"#00ff00\",\"#00ff00\",\"#00ff00\",\"#00ffff\",\"#00ff00\",\"#00ff00\",\"#00ff00\",\"#00ffff\",\"#00ff00\",\"#00ff00\",\"#00ff00\",\"#00ff00\",\"#00ff00\",\"#00ff00\",\"#00ff00\",\"#00ff00\",\"#00ff00\",\"#00ff00\",\"#00ff00\",\"#00ff00\",\"#00ffff\",\"#00ff00\",\"#00ff00\",\"#00ff00\",\"#000000\",\"#00ff00\",\"#00ff00\",\"#00ff00\",\"#000000\",\"#00ff00\",\"#00ff00\",\"#00ff00\",\"#00ffff\",\"#00ffff\",\"#00ff00\",\"#000000\",\"#00ff00\",\"#00ff00\",\"#00ff00\",\"#00ff00\",\"#00ff00\",\"#00ff00\",\"#00ff00\",\"#00ff00\",\"#00ff00\",\"#00ff00\",\"#00ff00\",\"#00ff00\",\"#00ff00\",\"#00ff00\",\"#00ffff\",\"#00ffff\",\"#00ff00\",\"#00ff00\",\"#00ff00\",\"#00ff00\",\"#00ff00\",\"#00ff00\",\"#00ff00\",\"#00ff00\",\"#00ff00\",\"#00ff00\",\"#00ff00\",\"#00ffff\",\"#00ff00\",\"#00ff00\",\"#00ff00\",\"#00ff00\",\"#00ffff\",\"#00ff00\",\"#00ff00\",\"#00ff00\",\"#00ff00\",\"#00ff00\",\"#00ff00\",\"#00ff00\",\"#000000\",\"#00ff00\",\"#00ff00\",\"#00ff00\",\"#00ff00\",\"#00ff00\",\"#00ff00\",\"#00ffff\",\"#00ff00\",\"#00ff00\",\"#00ff00\",\"#00ff00\",\"#00ff00\",\"#00ff00\",\"#00ff00\",\"#00ff00\",\"#00ff00\",\"#00ff00\",\"#00ffff\",\"#00ff00\",\"#00ff00\",\"#00ff00\",\"#00ff00\",\"#00ff00\",\"#00ffff\",\"#00ff00\",\"#00ffff\",\"#00ff00\",\"#00ff00\",\"#00ff00\",\"#00ff00\",\"#00ffff\",\"#00ff00\",\"#00ff00\",\"#00ff00\",\"#000000\",\"#00ff00\",\"#000000\",\"#00ffff\",\"#00ff00\",\"#00ffff\",\"#00ff00\",\"#00ff00\",\"#000000\",\"#00ff00\",\"#00ff00\",\"#00ff00\",\"#00ffff\",\"#000000\",\"#00ff00\",\"#00ff00\",\"#00ff00\",\"#00ff00\",\"#00ff00\",\"#00ff00\",\"#00ff00\",\"#00ff00\",\"#00ff00\",\"#00ff00\",\"#00ff00\",\"#00ff00\",\"#000000\",\"#00ff00\",\"#00ff00\",\"#00ff00\",\"#00ff00\",\"#00ffff\",\"#00ff00\",\"#00ffff\",\"#00ff00\",\"#00ff00\",\"#00ff00\",\"#00ff00\",\"#00ff00\",\"#00ff00\",\"#00ff00\",\"#00ff00\",\"#00ffff\",\"#00ff00\",\"#00ff00\",\"#000000\",\"#00ffff\",\"#00ff00\",\"#00ff00\",\"#00ffff\",\"#00ff00\",\"#00ffff\",\"#00ff00\",\"#00ff00\",\"#00ff00\",\"#00ff00\",\"#00ff00\",\"#00ff00\",\"#00ff00\",\"#00ff00\",\"#00ff00\",\"#00ffff\",\"#00ff00\",\"#00ff00\",\"#00ff00\",\"#00ff00\",\"#00ff00\",\"#00ffff\",\"#00ff00\",\"#00ffff\",\"#00ff00\",\"#00ff00\",\"#00ff00\",\"#00ff00\",\"#00ff00\",\"#00ff00\",\"#00ff00\",\"#000000\",\"#00ff00\",\"#00ff00\",\"#000000\",\"#00ffff\",\"#00ff00\",\"#00ff00\",\"#00ffff\",\"#00ff00\",\"#00ff00\",\"#00ffff\",\"#00ff00\",\"#00ff00\",\"#00ff00\",\"#00ff00\",\"#00ff00\",\"#00ff00\",\"#00ff00\",\"#00ffff\",\"#00ff00\",\"#00ff00\",\"#00ffff\",\"#00ff00\",\"#00ff00\",\"#00ff00\",\"#00ff00\",\"#000000\",\"#00ff00\",\"#00ff00\",\"#00ff00\",\"#00ff00\",\"#00ffff\",\"#00ff00\",\"#00ffff\",\"#00ff00\",\"#00ff00\",\"#00ff00\",\"#00ff00\",\"#00ff00\",\"#00ff00\",\"#00ff00\",\"#00ff00\",\"#00ff00\",\"#00ff00\",\"#00ff00\",\"#00ff00\",\"#00ff00\",\"#00ff00\",\"#00ff00\",\"#00ff00\",\"#00ff00\",\"#00ff00\",\"#00ff00\",\"#00ffff\",\"#00ff00\",\"#000000\",\"#00ff00\",\"#00ff00\",\"#00ffff\",\"#000000\",\"#00ff00\",\"#00ff00\",\"#00ff00\",\"#00ff00\",\"#00ffff\",\"#00ff00\",\"#00ff00\",\"#00ff00\",\"#00ff00\",\"#00ff00\",\"#00ffff\",\"#00ff00\",\"#00ff00\",\"#00ff00\",\"#00ffff\",\"#000000\",\"#00ff00\",\"#00ff00\",\"#00ffff\",\"#00ff00\",\"#00ffff\",\"#00ff00\",\"#00ffff\",\"#00ff00\",\"#00ff00\",\"#00ff00\",\"#00ff00\",\"#000000\",\"#000000\",\"#00ff00\",\"#00ff00\",\"#00ff00\",\"#00ff00\",\"#00ff00\",\"#00ff00\",\"#00ff00\",\"#00ff00\",\"#00ff00\",\"#00ff00\",\"#00ff00\",\"#00ffff\",\"#00ff00\",\"#00ff00\",\"#00ff00\",\"#00ff00\",\"#00ff00\",\"#00ff00\",\"#00ff00\",\"#00ff00\",\"#00ff00\",\"#00ff00\",\"#00ff00\",\"#00ff00\",\"#00ff00\",\"#00ff00\",\"#00ff00\",\"#00ff00\",\"#00ff00\",\"#00ff00\",\"#00ff00\",\"#000000\",\"#00ffff\",\"#000000\",\"#00ff00\",\"#00ff00\",\"#00ff00\",\"#00ff00\",\"#00ff00\",\"#00ff00\",\"#00ff00\",\"#000000\",\"#00ff00\",\"#00ff00\",\"#00ff00\",\"#00ffff\",\"#00ffff\",\"#00ff00\",\"#00ffff\",\"#00ff00\",\"#00ff00\",\"#00ff00\",\"#00ff00\",\"#00ff00\",\"#00ff00\",\"#00ff00\",\"#000000\",\"#00ff00\",\"#00ff00\",\"#00ff00\",\"#000000\",\"#00ff00\",\"#000000\",\"#00ff00\",\"#00ff00\",\"#00ffff\",\"#00ff00\",\"#00ffff\",\"#00ff00\",\"#00ff00\",\"#00ff00\",\"#00ff00\",\"#00ffff\",\"#00ff00\",\"#00ff00\",\"#00ff00\",\"#00ff00\",\"#00ff00\",\"#00ff00\",\"#00ff00\",\"#00ffff\",\"#00ff00\",\"#00ff00\",\"#00ff00\",\"#00ff00\",\"#00ff00\",\"#00ff00\",\"#00ff00\",\"#00ff00\",\"#00ff00\",\"#00ff00\",\"#00ff00\",\"#00ff00\",\"#00ff00\",\"#000000\",\"#00ff00\",\"#00ff00\",\"#00ff00\",\"#00ff00\",\"#00ffff\",\"#000000\",\"#00ff00\",\"#00ff00\",\"#00ff00\",\"#00ff00\",\"#00ff00\",\"#00ffff\",\"#00ff00\",\"#00ff00\",\"#00ff00\",\"#00ff00\",\"#00ff00\",\"#00ff00\",\"#00ff00\",\"#00ff00\",\"#00ff00\",\"#00ffff\",\"#00ff00\",\"#00ff00\",\"#00ff00\",\"#00ff00\",\"#00ff00\",\"#00ff00\",\"#00ff00\",\"#00ff00\",\"#00ff00\",\"#00ff00\",\"#00ff00\",\"#00ff00\",\"#00ff00\",\"#00ff00\",\"#00ff00\",\"#00ff00\",\"#00ffff\",\"#00ff00\",\"#00ff00\",\"#00ff00\",\"#00ff00\",\"#00ff00\",\"#00ff00\",\"#00ff00\",\"#00ff00\",\"#00ff00\",\"#00ff00\",\"#00ff00\",\"#00ff00\",\"#00ff00\",\"#00ff00\",\"#00ff00\",\"#00ff00\",\"#00ff00\",\"#00ff00\",\"#00ff00\",\"#00ffff\",\"#00ffff\",\"#00ffff\",\"#000000\",\"#00ff00\",\"#00ffff\",\"#00ff00\",\"#00ff00\",\"#00ffff\",\"#00ff00\",\"#00ff00\",\"#00ff00\",\"#00ff00\",\"#00ff00\",\"#00ff00\",\"#00ff00\",\"#00ff00\",\"#00ffff\",\"#00ff00\",\"#00ff00\",\"#00ff00\",\"#00ff00\",\"#00ff00\",\"#00ff00\",\"#00ff00\",\"#000000\",\"#00ff00\",\"#000000\",\"#00ff00\",\"#00ff00\",\"#00ff00\",\"#00ff00\",\"#00ff00\",\"#00ff00\",\"#00ff00\",\"#00ff00\",\"#00ff00\",\"#00ff00\",\"#00ff00\",\"#00ffff\",\"#00ff00\",\"#00ff00\",\"#00ffff\",\"#00ffff\",\"#00ff00\",\"#000000\",\"#00ff00\",\"#00ffff\",\"#00ff00\",\"#00ffff\",\"#00ff00\",\"#00ff00\",\"#00ff00\",\"#00ff00\",\"#000000\",\"#00ff00\",\"#00ff00\",\"#00ff00\",\"#00ff00\",\"#00ff00\",\"#00ffff\",\"#00ffff\",\"#00ff00\",\"#00ff00\",\"#00ff00\",\"#000000\",\"#00ff00\",\"#00ff00\",\"#00ff00\",\"#00ff00\",\"#00ff00\",\"#00ff00\",\"#00ff00\",\"#00ff00\",\"#00ff00\",\"#00ff00\",\"#00ff00\",\"#00ff00\",\"#00ff00\",\"#00ff00\",\"#00ffff\",\"#00ff00\",\"#00ffff\",\"#00ff00\",\"#00ff00\",\"#00ff00\",\"#00ff00\",\"#00ff00\",\"#00ff00\",\"#00ff00\",\"#00ff00\",\"#00ffff\",\"#00ff00\",\"#00ff00\",\"#00ffff\",\"#00ff00\",\"#00ff00\",\"#00ff00\",\"#00ff00\",\"#00ff00\",\"#00ff00\",\"#00ff00\",\"#00ffff\",\"#00ff00\",\"#00ff00\",\"#00ffff\",\"#00ff00\",\"#00ff00\",\"#00ff00\",\"#000000\",\"#00ff00\",\"#00ff00\",\"#00ff00\",\"#00ff00\",\"#00ff00\",\"#00ff00\",\"#00ff00\",\"#00ff00\",\"#00ffff\",\"#000000\",\"#00ff00\",\"#00ffff\",\"#00ff00\",\"#00ff00\",\"#00ff00\",\"#000000\",\"#00ff00\",\"#00ffff\",\"#00ff00\",\"#00ff00\",\"#00ff00\",\"#00ff00\",\"#00ff00\",\"#000000\",\"#00ff00\",\"#00ff00\",\"#00ff00\",\"#00ff00\",\"#00ffff\",\"#00ff00\",\"#00ff00\",\"#00ff00\",\"#00ff00\",\"#00ff00\",\"#000000\",\"#00ff00\",\"#00ff00\",\"#00ff00\",\"#00ff00\",\"#00ff00\",\"#00ff00\",\"#00ff00\",\"#00ff00\",\"#00ff00\",\"#00ff00\",\"#00ff00\",\"#00ff00\",\"#00ffff\",\"#00ff00\",\"#00ff00\",\"#00ffff\",\"#00ff00\",\"#00ffff\",\"#00ff00\",\"#00ff00\",\"#00ff00\",\"#00ff00\",\"#00ff00\",\"#00ff00\",\"#00ff00\",\"#00ff00\",\"#00ff00\",\"#00ff00\",\"#00ff00\",\"#00ff00\",\"#000000\",\"#00ff00\",\"#00ff00\",\"#00ffff\",\"#00ff00\",\"#00ff00\",\"#00ff00\",\"#00ff00\",\"#00ff00\",\"#00ff00\",\"#00ff00\",\"#00ff00\",\"#00ff00\",\"#00ff00\",\"#00ff00\",\"#00ff00\",\"#00ff00\",\"#000000\",\"#00ffff\",\"#00ff00\",\"#00ff00\",\"#00ff00\",\"#00ffff\",\"#00ff00\",\"#00ff00\",\"#00ff00\",\"#00ff00\",\"#000000\",\"#00ff00\",\"#00ff00\",\"#00ff00\",\"#00ffff\",\"#00ff00\",\"#00ff00\",\"#00ff00\",\"#00ff00\",\"#00ff00\",\"#00ff00\",\"#00ff00\",\"#00ff00\",\"#00ff00\",\"#00ff00\",\"#00ff00\",\"#00ff00\",\"#00ff00\",\"#00ff00\",\"#00ff00\",\"#00ffff\",\"#000000\",\"#00ff00\",\"#00ff00\",\"#000000\",\"#00ff00\",\"#00ff00\",\"#00ffff\",\"#00ff00\",\"#000000\",\"#00ff00\",\"#00ff00\",\"#00ff00\",\"#00ff00\",\"#000000\",\"#00ff00\",\"#00ffff\",\"#00ff00\",\"#00ff00\",\"#00ffff\",\"#00ff00\",\"#00ff00\",\"#00ff00\",\"#00ffff\",\"#00ffff\",\"#000000\",\"#00ff00\",\"#00ff00\",\"#00ff00\",\"#00ff00\",\"#00ff00\",\"#00ff00\",\"#00ff00\",\"#00ff00\",\"#00ff00\",\"#00ff00\",\"#00ffff\",\"#00ffff\",\"#00ff00\",\"#000000\",\"#00ff00\",\"#00ff00\",\"#00ff00\",\"#00ff00\",\"#00ff00\",\"#00ff00\",\"#00ff00\",\"#00ff00\",\"#00ff00\",\"#00ff00\",\"#00ff00\",\"#00ff00\",\"#00ff00\",\"#00ffff\",\"#00ff00\",\"#00ff00\",\"#00ff00\",\"#000000\",\"#00ff00\",\"#00ff00\",\"#00ff00\",\"#000000\",\"#00ff00\",\"#00ff00\",\"#00ff00\",\"#00ff00\",\"#00ff00\",\"#00ff00\",\"#00ff00\",\"#00ffff\",\"#00ff00\",\"#00ff00\",\"#00ffff\",\"#00ff00\",\"#00ffff\",\"#00ff00\",\"#00ff00\",\"#00ff00\",\"#00ff00\",\"#000000\",\"#00ff00\",\"#00ff00\",\"#00ff00\",\"#00ff00\",\"#000000\",\"#00ff00\",\"#00ff00\",\"#00ff00\",\"#00ff00\",\"#00ff00\",\"#00ffff\",\"#00ffff\",\"#00ff00\",\"#00ffff\",\"#00ff00\",\"#00ff00\",\"#00ff00\",\"#00ff00\",\"#00ff00\",\"#00ff00\",\"#00ffff\",\"#00ff00\",\"#00ff00\",\"#00ff00\",\"#00ff00\",\"#00ffff\",\"#00ff00\",\"#00ff00\",\"#00ff00\",\"#00ff00\",\"#00ff00\",\"#00ff00\",\"#00ff00\",\"#00ffff\",\"#00ff00\",\"#00ff00\",\"#00ff00\",\"#00ff00\",\"#00ff00\",\"#00ffff\",\"#00ff00\",\"#00ff00\",\"#00ffff\",\"#00ff00\",\"#00ff00\",\"#000000\",\"#00ff00\",\"#00ff00\",\"#00ff00\",\"#00ffff\",\"#00ff00\",\"#00ff00\",\"#00ff00\",\"#00ff00\",\"#000000\",\"#00ff00\",\"#00ff00\",\"#00ff00\",\"#00ff00\",\"#00ff00\",\"#00ff00\",\"#00ff00\",\"#00ff00\",\"#00ff00\",\"#00ff00\",\"#00ff00\",\"#00ff00\",\"#00ff00\",\"#000000\",\"#00ff00\",\"#000000\",\"#00ffff\",\"#00ff00\",\"#00ff00\",\"#00ff00\",\"#00ff00\",\"#00ff00\",\"#00ff00\",\"#00ff00\",\"#00ff00\",\"#00ff00\",\"#000000\",\"#00ff00\",\"#00ffff\",\"#00ffff\",\"#00ff00\",\"#00ff00\",\"#00ff00\",\"#00ffff\",\"#00ff00\",\"#00ff00\",\"#000000\",\"#000000\",\"#00ff00\",\"#00ffff\",\"#00ff00\",\"#00ff00\",\"#00ffff\",\"#00ffff\",\"#00ff00\",\"#00ff00\",\"#00ffff\",\"#00ffff\",\"#00ff00\",\"#00ff00\",\"#00ff00\",\"#00ff00\",\"#00ff00\",\"#00ff00\",\"#00ff00\",\"#00ff00\",\"#00ff00\",\"#00ff00\",\"#00ff00\",\"#00ff00\",\"#00ff00\",\"#00ff00\",\"#00ff00\",\"#00ff00\",\"#00ff00\",\"#00ff00\",\"#00ff00\",\"#00ff00\",\"#00ff00\",\"#00ff00\",\"#00ff00\",\"#00ff00\",\"#000000\",\"#00ff00\",\"#00ff00\",\"#00ffff\",\"#00ff00\",\"#00ff00\",\"#00ff00\",\"#00ffff\",\"#00ff00\",\"#00ff00\",\"#00ff00\",\"#00ff00\",\"#00ff00\",\"#00ff00\",\"#000000\",\"#00ff00\",\"#00ff00\",\"#00ffff\",\"#00ff00\",\"#000000\",\"#00ff00\",\"#00ffff\",\"#00ff00\",\"#00ff00\",\"#00ff00\",\"#000000\",\"#00ffff\",\"#000000\",\"#00ff00\",\"#00ff00\",\"#00ff00\",\"#00ff00\",\"#00ffff\",\"#00ff00\",\"#00ff00\",\"#00ffff\",\"#00ff00\",\"#00ff00\",\"#00ff00\",\"#00ff00\",\"#00ff00\",\"#00ff00\",\"#00ff00\",\"#00ff00\",\"#00ff00\",\"#00ffff\",\"#00ffff\",\"#00ff00\",\"#00ff00\",\"#00ff00\",\"#00ff00\",\"#00ff00\",\"#00ff00\",\"#00ff00\",\"#00ff00\",\"#00ff00\",\"#00ff00\",\"#00ff00\",\"#00ff00\",\"#00ff00\",\"#00ff00\",\"#000000\",\"#00ff00\",\"#00ff00\",\"#00ff00\",\"#00ff00\",\"#00ff00\",\"#00ff00\",\"#000000\",\"#00ff00\",\"#00ff00\",\"#00ff00\",\"#00ff00\",\"#00ff00\",\"#00ffff\",\"#00ff00\",\"#00ff00\",\"#000000\",\"#00ff00\",\"#00ff00\",\"#00ff00\",\"#00ff00\",\"#000000\",\"#00ff00\",\"#00ff00\",\"#00ff00\",\"#00ff00\",\"#00ff00\",\"#00ffff\",\"#00ff00\",\"#00ff00\",\"#00ff00\",\"#00ffff\",\"#00ff00\",\"#00ff00\",\"#00ff00\",\"#00ff00\",\"#00ffff\",\"#000000\",\"#00ff00\",\"#00ff00\",\"#00ffff\",\"#000000\",\"#00ff00\",\"#00ff00\",\"#00ff00\",\"#000000\",\"#00ff00\",\"#00ff00\",\"#00ff00\",\"#00ff00\",\"#00ff00\",\"#00ffff\",\"#000000\",\"#00ff00\",\"#00ff00\",\"#00ff00\",\"#00ff00\",\"#00ff00\",\"#00ff00\",\"#000000\",\"#00ff00\",\"#00ff00\",\"#00ff00\",\"#00ff00\",\"#000000\",\"#00ff00\",\"#00ff00\",\"#00ffff\",\"#00ff00\",\"#00ff00\",\"#00ff00\",\"#000000\",\"#000000\",\"#00ff00\",\"#000000\",\"#00ff00\",\"#00ff00\",\"#00ff00\",\"#00ff00\",\"#00ff00\",\"#00ff00\",\"#00ff00\",\"#00ff00\",\"#00ff00\",\"#00ff00\",\"#00ff00\",\"#00ff00\",\"#00ff00\",\"#00ff00\",\"#000000\",\"#00ff00\",\"#00ff00\",\"#00ffff\",\"#00ff00\",\"#00ff00\",\"#000000\",\"#00ff00\",\"#00ff00\",\"#00ffff\",\"#00ff00\",\"#00ffff\",\"#00ff00\",\"#00ff00\",\"#00ff00\",\"#00ff00\",\"#00ffff\",\"#00ff00\",\"#00ff00\",\"#000000\",\"#000000\",\"#00ffff\",\"#00ff00\",\"#00ff00\",\"#00ff00\",\"#00ffff\",\"#00ff00\",\"#00ffff\",\"#000000\",\"#00ff00\",\"#00ff00\",\"#00ff00\",\"#00ff00\",\"#00ff00\",\"#00ff00\",\"#00ff00\",\"#000000\",\"#00ff00\",\"#00ff00\",\"#00ff00\",\"#00ff00\",\"#00ff00\",\"#00ff00\",\"#00ff00\",\"#00ff00\",\"#00ff00\",\"#00ff00\",\"#00ff00\",\"#000000\",\"#00ff00\",\"#00ff00\",\"#00ff00\",\"#00ff00\",\"#00ff00\",\"#00ff00\",\"#00ff00\",\"#00ff00\",\"#00ff00\",\"#00ff00\",\"#00ff00\",\"#00ff00\",\"#00ff00\",\"#000000\",\"#00ff00\",\"#00ff00\",\"#00ff00\",\"#00ffff\",\"#000000\",\"#00ff00\",\"#00ff00\",\"#00ff00\",\"#00ff00\",\"#00ff00\",\"#00ff00\",\"#00ff00\",\"#00ff00\",\"#00ff00\",\"#00ff00\",\"#00ff00\",\"#00ff00\",\"#00ffff\",\"#00ff00\",\"#00ff00\",\"#00ffff\",\"#00ffff\",\"#000000\",\"#00ff00\",\"#000000\",\"#00ffff\",\"#00ff00\",\"#00ff00\",\"#00ff00\",\"#00ffff\",\"#00ff00\",\"#000000\",\"#000000\",\"#00ff00\",\"#00ff00\",\"#000000\",\"#00ff00\",\"#00ff00\",\"#000000\",\"#00ff00\",\"#00ff00\",\"#000000\",\"#00ff00\",\"#00ff00\",\"#00ff00\",\"#00ff00\",\"#00ff00\",\"#00ff00\",\"#00ff00\",\"#00ff00\",\"#00ff00\",\"#00ff00\",\"#00ff00\",\"#000000\",\"#00ff00\",\"#00ff00\",\"#00ff00\",\"#00ffff\",\"#00ff00\",\"#00ff00\",\"#00ff00\",\"#00ff00\",\"#00ff00\",\"#000000\",\"#00ff00\",\"#00ffff\",\"#00ff00\",\"#00ff00\",\"#00ff00\",\"#00ff00\",\"#00ff00\",\"#00ff00\",\"#00ff00\",\"#00ff00\",\"#00ff00\",\"#00ff00\",\"#000000\",\"#00ffff\",\"#00ff00\",\"#00ff00\",\"#00ff00\",\"#00ffff\",\"#00ffff\",\"#00ffff\",\"#00ff00\",\"#00ff00\",\"#00ff00\",\"#00ff00\",\"#000000\",\"#000000\",\"#00ff00\",\"#00ff00\",\"#00ff00\",\"#00ff00\",\"#00ff00\",\"#00ff00\",\"#00ff00\",\"#00ff00\",\"#00ff00\",\"#00ffff\",\"#00ff00\",\"#00ff00\",\"#00ff00\",\"#00ff00\",\"#00ff00\",\"#00ff00\",\"#00ff00\",\"#00ff00\",\"#00ff00\",\"#00ff00\",\"#00ff00\",\"#00ffff\",\"#00ff00\",\"#000000\",\"#00ff00\",\"#00ff00\",\"#00ff00\",\"#00ff00\",\"#00ff00\",\"#00ff00\",\"#00ff00\",\"#00ff00\",\"#00ff00\",\"#00ff00\",\"#00ff00\",\"#000000\",\"#00ff00\",\"#00ff00\",\"#00ff00\",\"#00ffff\",\"#00ff00\",\"#00ff00\",\"#00ffff\",\"#00ff00\",\"#00ff00\",\"#00ff00\",\"#00ff00\",\"#00ff00\",\"#00ff00\",\"#00ff00\",\"#00ffff\",\"#00ff00\",\"#00ff00\",\"#00ff00\",\"#00ff00\",\"#00ff00\",\"#00ffff\",\"#00ffff\",\"#00ff00\",\"#00ff00\",\"#000000\",\"#00ff00\",\"#00ff00\",\"#00ff00\",\"#00ff00\",\"#000000\",\"#00ff00\",\"#00ff00\",\"#00ff00\",\"#00ff00\",\"#00ff00\",\"#00ff00\",\"#000000\",\"#00ffff\",\"#00ff00\",\"#00ff00\",\"#00ff00\",\"#00ff00\",\"#00ff00\",\"#00ff00\",\"#00ff00\",\"#00ff00\",\"#00ff00\",\"#00ff00\",\"#00ff00\",\"#00ff00\",\"#00ff00\",\"#00ff00\",\"#00ffff\",\"#00ff00\",\"#00ff00\",\"#00ff00\",\"#00ff00\",\"#00ff00\",\"#00ff00\",\"#00ff00\",\"#00ff00\",\"#00ff00\",\"#00ff00\",\"#00ff00\",\"#00ff00\",\"#00ff00\",\"#00ff00\",\"#00ff00\",\"#00ff00\",\"#00ff00\",\"#00ffff\",\"#00ff00\",\"#00ffff\",\"#00ff00\",\"#00ff00\",\"#00ff00\",\"#00ffff\",\"#00ff00\",\"#000000\",\"#00ff00\",\"#00ff00\",\"#000000\",\"#00ffff\",\"#00ff00\",\"#00ff00\",\"#000000\",\"#00ff00\",\"#00ff00\",\"#00ff00\",\"#00ff00\",\"#00ff00\",\"#00ff00\",\"#00ff00\",\"#00ffff\",\"#00ff00\",\"#00ff00\",\"#00ff00\",\"#00ff00\",\"#00ff00\",\"#000000\",\"#000000\",\"#00ff00\",\"#00ff00\",\"#00ff00\",\"#00ff00\",\"#00ff00\",\"#00ff00\",\"#00ff00\",\"#00ff00\",\"#00ffff\",\"#00ff00\",\"#00ff00\",\"#00ff00\",\"#00ff00\",\"#00ffff\",\"#00ff00\",\"#00ff00\",\"#00ffff\",\"#00ff00\",\"#00ff00\",\"#00ff00\",\"#00ff00\",\"#00ff00\",\"#00ff00\",\"#00ffff\",\"#00ff00\",\"#00ffff\",\"#00ff00\",\"#00ff00\",\"#00ff00\",\"#00ff00\",\"#00ff00\",\"#00ff00\",\"#00ff00\",\"#00ff00\",\"#00ff00\",\"#00ff00\",\"#00ff00\",\"#000000\",\"#00ff00\",\"#00ff00\",\"#00ff00\",\"#00ff00\",\"#00ffff\",\"#00ff00\",\"#00ff00\",\"#00ff00\",\"#00ff00\",\"#00ff00\",\"#00ff00\",\"#00ff00\",\"#00ff00\",\"#00ff00\",\"#00ff00\",\"#00ff00\",\"#00ffff\",\"#00ff00\",\"#00ff00\",\"#00ffff\",\"#00ff00\",\"#00ff00\",\"#00ff00\",\"#00ff00\",\"#00ffff\",\"#00ffff\",\"#00ff00\",\"#00ff00\",\"#00ffff\",\"#00ff00\",\"#00ff00\",\"#00ff00\",\"#00ff00\",\"#00ff00\",\"#00ff00\",\"#00ff00\",\"#00ff00\",\"#00ffff\",\"#00ff00\",\"#00ff00\",\"#000000\",\"#00ff00\",\"#00ff00\",\"#00ff00\",\"#00ff00\",\"#00ff00\",\"#00ff00\",\"#00ff00\",\"#00ffff\",\"#00ff00\",\"#00ff00\",\"#00ffff\",\"#00ff00\",\"#000000\",\"#00ff00\",\"#00ff00\",\"#00ff00\",\"#00ff00\",\"#00ff00\",\"#00ff00\",\"#00ff00\",\"#00ff00\",\"#00ff00\",\"#00ff00\",\"#00ff00\",\"#00ff00\",\"#00ff00\",\"#00ff00\",\"#00ff00\",\"#00ff00\",\"#00ff00\",\"#00ff00\",\"#00ff00\",\"#00ff00\",\"#00ffff\",\"#00ff00\",\"#00ff00\",\"#00ff00\",\"#00ff00\",\"#00ff00\",\"#000000\",\"#00ff00\",\"#00ff00\",\"#000000\",\"#00ff00\",\"#00ff00\",\"#000000\",\"#000000\",\"#00ff00\",\"#00ff00\",\"#00ff00\",\"#00ff00\",\"#00ff00\",\"#00ff00\",\"#00ff00\",\"#00ff00\",\"#00ff00\",\"#00ff00\",\"#00ffff\",\"#00ff00\",\"#00ff00\",\"#00ff00\",\"#00ff00\",\"#00ff00\",\"#00ff00\",\"#00ff00\",\"#00ff00\",\"#00ff00\",\"#00ff00\",\"#00ff00\",\"#00ff00\",\"#00ff00\",\"#00ff00\",\"#00ff00\",\"#00ff00\",\"#00ff00\",\"#00ff00\",\"#00ff00\",\"#00ff00\",\"#00ff00\",\"#00ff00\",\"#00ffff\",\"#00ff00\",\"#00ff00\",\"#000000\",\"#00ff00\",\"#00ffff\",\"#00ff00\",\"#00ff00\",\"#00ff00\",\"#00ff00\",\"#00ff00\",\"#00ff00\",\"#00ff00\",\"#000000\",\"#00ff00\",\"#00ff00\",\"#00ff00\",\"#00ff00\",\"#00ff00\",\"#00ff00\",\"#00ff00\",\"#00ffff\",\"#00ff00\",\"#00ffff\",\"#00ff00\",\"#00ff00\",\"#00ff00\",\"#00ff00\",\"#00ff00\",\"#00ff00\",\"#00ff00\",\"#00ff00\",\"#00ff00\",\"#00ff00\",\"#00ff00\",\"#00ff00\",\"#000000\",\"#00ff00\",\"#00ff00\",\"#00ff00\",\"#00ff00\",\"#00ff00\",\"#00ff00\",\"#00ff00\",\"#00ffff\",\"#00ffff\",\"#00ff00\",\"#00ff00\",\"#00ff00\",\"#00ff00\",\"#00ffff\",\"#00ff00\",\"#00ff00\",\"#00ff00\",\"#00ff00\",\"#00ff00\",\"#00ff00\",\"#00ff00\",\"#00ff00\",\"#00ff00\",\"#00ff00\",\"#00ff00\",\"#00ff00\",\"#00ff00\",\"#00ffff\",\"#00ffff\",\"#00ffff\",\"#00ffff\",\"#00ff00\",\"#00ff00\",\"#00ff00\",\"#000000\",\"#00ff00\",\"#000000\",\"#000000\",\"#00ffff\",\"#00ffff\",\"#00ff00\",\"#00ff00\",\"#00ff00\",\"#00ff00\",\"#00ff00\",\"#00ff00\",\"#00ff00\",\"#00ff00\",\"#00ff00\",\"#00ff00\",\"#00ff00\",\"#00ff00\",\"#00ff00\",\"#00ff00\",\"#00ffff\",\"#00ff00\",\"#00ff00\",\"#000000\",\"#00ffff\",\"#00ff00\",\"#00ffff\",\"#00ff00\",\"#00ff00\",\"#00ff00\",\"#00ff00\",\"#00ff00\",\"#00ff00\",\"#00ff00\",\"#00ff00\",\"#00ff00\",\"#00ff00\",\"#00ff00\",\"#00ff00\",\"#00ffff\",\"#00ff00\",\"#00ff00\",\"#00ff00\",\"#00ff00\",\"#00ff00\",\"#00ffff\",\"#00ff00\",\"#00ff00\",\"#00ff00\",\"#00ff00\",\"#00ff00\",\"#000000\",\"#000000\",\"#00ff00\",\"#00ff00\",\"#00ff00\",\"#00ff00\",\"#00ff00\",\"#00ff00\",\"#000000\",\"#00ffff\",\"#00ff00\",\"#00ff00\",\"#000000\",\"#00ff00\",\"#00ff00\",\"#00ff00\",\"#00ff00\",\"#00ff00\",\"#00ff00\",\"#00ff00\",\"#00ff00\",\"#00ff00\",\"#00ff00\",\"#00ff00\",\"#00ff00\",\"#00ff00\",\"#00ff00\",\"#00ff00\",\"#00ff00\",\"#00ff00\",\"#00ff00\",\"#00ff00\",\"#00ff00\",\"#00ff00\",\"#00ff00\",\"#00ff00\",\"#00ff00\",\"#00ff00\",\"#00ff00\",\"#00ffff\",\"#00ff00\",\"#00ff00\",\"#000000\",\"#00ff00\",\"#00ff00\",\"#000000\",\"#00ff00\",\"#00ff00\",\"#000000\",\"#00ff00\",\"#00ff00\",\"#00ff00\",\"#00ff00\",\"#00ff00\",\"#00ff00\",\"#00ff00\",\"#00ff00\",\"#00ff00\",\"#000000\",\"#00ff00\",\"#00ff00\",\"#00ff00\",\"#000000\",\"#00ff00\",\"#00ff00\",\"#000000\",\"#00ff00\",\"#00ff00\",\"#00ffff\",\"#00ff00\",\"#00ff00\",\"#00ff00\",\"#00ff00\",\"#00ffff\",\"#00ff00\",\"#00ffff\",\"#00ffff\",\"#00ff00\",\"#00ff00\",\"#00ffff\",\"#00ff00\",\"#00ffff\",\"#000000\",\"#00ff00\",\"#00ff00\",\"#00ff00\",\"#00ff00\",\"#00ff00\",\"#00ff00\",\"#00ff00\",\"#00ff00\",\"#00ff00\",\"#00ff00\",\"#00ff00\",\"#00ff00\",\"#00ff00\",\"#00ff00\",\"#00ff00\",\"#00ff00\",\"#00ff00\",\"#00ffff\",\"#00ff00\",\"#00ff00\",\"#00ff00\",\"#000000\",\"#00ff00\",\"#00ff00\",\"#00ffff\",\"#00ff00\",\"#00ff00\",\"#000000\",\"#00ff00\",\"#00ff00\",\"#00ff00\",\"#00ff00\",\"#00ff00\",\"#00ff00\",\"#00ffff\",\"#000000\",\"#00ffff\",\"#00ff00\",\"#00ff00\",\"#00ff00\",\"#00ff00\",\"#00ff00\",\"#00ff00\",\"#00ff00\",\"#00ff00\",\"#00ffff\",\"#00ff00\",\"#00ff00\",\"#000000\",\"#00ff00\",\"#00ff00\",\"#00ff00\",\"#00ff00\",\"#00ff00\",\"#00ff00\",\"#00ff00\",\"#00ff00\",\"#00ff00\",\"#000000\",\"#00ff00\",\"#000000\",\"#00ff00\",\"#00ff00\",\"#00ff00\",\"#00ff00\",\"#00ffff\",\"#000000\",\"#00ff00\",\"#00ff00\",\"#00ff00\",\"#00ff00\",\"#00ff00\",\"#00ff00\",\"#00ffff\",\"#00ff00\",\"#00ff00\",\"#00ff00\",\"#00ff00\",\"#00ff00\",\"#00ffff\",\"#00ff00\",\"#00ff00\",\"#00ff00\",\"#00ff00\",\"#00ff00\",\"#00ffff\",\"#00ff00\",\"#00ffff\",\"#00ffff\",\"#00ff00\",\"#00ff00\",\"#000000\",\"#00ff00\",\"#00ff00\",\"#00ff00\",\"#00ff00\",\"#00ffff\",\"#00ff00\",\"#00ff00\",\"#00ffff\",\"#00ff00\",\"#00ff00\",\"#00ff00\",\"#00ff00\",\"#00ff00\",\"#00ffff\",\"#00ff00\",\"#00ff00\",\"#00ff00\",\"#00ff00\",\"#00ff00\",\"#00ff00\",\"#00ff00\",\"#00ff00\",\"#00ffff\",\"#00ffff\",\"#00ff00\",\"#00ff00\",\"#00ff00\",\"#000000\",\"#00ff00\",\"#00ff00\",\"#00ffff\",\"#00ff00\",\"#00ff00\",\"#00ff00\",\"#00ff00\",\"#000000\",\"#000000\",\"#00ffff\",\"#00ff00\",\"#00ff00\",\"#00ff00\",\"#000000\",\"#00ff00\",\"#00ff00\",\"#00ff00\",\"#00ff00\",\"#00ff00\",\"#000000\",\"#00ffff\",\"#00ff00\",\"#00ff00\",\"#00ff00\",\"#00ff00\",\"#000000\",\"#00ff00\",\"#00ff00\",\"#00ff00\",\"#00ff00\",\"#00ff00\",\"#00ff00\",\"#00ff00\",\"#00ff00\",\"#00ff00\",\"#00ff00\",\"#00ff00\",\"#00ff00\",\"#00ffff\",\"#00ff00\",\"#00ff00\",\"#00ff00\",\"#00ffff\",\"#00ff00\",\"#00ffff\",\"#00ffff\",\"#00ff00\",\"#00ff00\",\"#00ffff\",\"#00ff00\",\"#00ff00\",\"#00ff00\",\"#00ff00\",\"#00ffff\",\"#00ff00\",\"#00ff00\",\"#00ff00\",\"#00ff00\",\"#00ff00\",\"#00ff00\",\"#00ff00\",\"#00ffff\",\"#00ffff\",\"#00ff00\",\"#000000\",\"#00ff00\",\"#00ff00\",\"#00ff00\",\"#00ff00\",\"#00ff00\",\"#00ff00\",\"#00ff00\",\"#000000\",\"#00ff00\",\"#00ff00\",\"#00ffff\",\"#00ff00\",\"#00ff00\",\"#00ff00\",\"#00ffff\",\"#00ff00\",\"#00ff00\",\"#00ff00\",\"#00ff00\",\"#00ff00\",\"#00ff00\",\"#00ff00\",\"#00ffff\",\"#00ff00\",\"#00ff00\",\"#00ff00\",\"#00ff00\",\"#00ff00\",\"#00ffff\",\"#00ffff\",\"#00ff00\",\"#00ff00\",\"#00ff00\",\"#00ff00\",\"#00ff00\",\"#00ff00\",\"#00ff00\",\"#00ff00\",\"#00ff00\",\"#00ff00\",\"#00ff00\",\"#00ffff\",\"#00ff00\",\"#00ff00\",\"#00ffff\",\"#00ff00\",\"#00ff00\",\"#00ff00\",\"#00ff00\",\"#00ff00\",\"#00ff00\",\"#00ff00\",\"#00ffff\",\"#00ff00\",\"#00ff00\",\"#00ff00\",\"#00ff00\",\"#00ff00\",\"#00ffff\",\"#00ffff\",\"#00ff00\",\"#00ffff\",\"#00ff00\",\"#00ffff\",\"#00ff00\",\"#00ff00\",\"#00ffff\",\"#00ff00\",\"#000000\",\"#00ff00\",\"#00ff00\",\"#00ff00\",\"#00ff00\",\"#00ff00\",\"#00ffff\",\"#00ff00\",\"#00ff00\",\"#000000\",\"#00ff00\",\"#00ff00\",\"#00ff00\",\"#00ff00\",\"#00ff00\",\"#000000\",\"#00ff00\",\"#00ff00\",\"#00ff00\",\"#00ff00\",\"#00ff00\",\"#00ff00\",\"#00ffff\",\"#00ff00\",\"#00ffff\",\"#00ff00\",\"#00ff00\",\"#00ff00\",\"#00ff00\",\"#00ff00\",\"#00ff00\",\"#00ff00\",\"#00ff00\",\"#000000\",\"#00ffff\",\"#00ff00\",\"#00ff00\",\"#00ff00\",\"#00ff00\",\"#00ffff\",\"#00ff00\",\"#00ff00\",\"#00ff00\",\"#00ff00\",\"#00ff00\",\"#00ffff\",\"#00ff00\",\"#000000\",\"#00ffff\",\"#00ff00\",\"#00ffff\",\"#00ff00\",\"#00ff00\",\"#00ff00\",\"#00ff00\",\"#00ff00\",\"#00ffff\",\"#000000\",\"#00ff00\",\"#00ff00\",\"#00ff00\",\"#00ffff\",\"#00ff00\",\"#00ff00\",\"#00ff00\",\"#000000\",\"#00ff00\",\"#000000\",\"#00ff00\",\"#00ff00\",\"#00ff00\",\"#00ffff\",\"#00ff00\",\"#00ff00\",\"#00ffff\",\"#00ffff\",\"#00ff00\",\"#00ff00\",\"#00ff00\",\"#00ffff\",\"#00ff00\",\"#00ff00\",\"#00ff00\",\"#00ff00\",\"#00ff00\",\"#00ff00\",\"#000000\",\"#000000\",\"#000000\",\"#00ff00\",\"#00ff00\",\"#00ff00\",\"#00ff00\",\"#00ff00\",\"#00ffff\",\"#00ff00\",\"#000000\",\"#00ff00\",\"#00ff00\",\"#00ff00\",\"#00ff00\",\"#00ff00\",\"#00ff00\",\"#00ff00\",\"#00ff00\",\"#00ffff\",\"#00ff00\",\"#00ffff\",\"#000000\",\"#00ff00\",\"#00ff00\",\"#00ffff\",\"#00ff00\",\"#00ff00\",\"#00ff00\",\"#00ff00\",\"#00ff00\",\"#00ff00\",\"#00ff00\",\"#00ff00\",\"#00ff00\",\"#00ff00\",\"#00ff00\",\"#00ff00\",\"#00ff00\",\"#00ff00\",\"#00ff00\",\"#00ff00\",\"#00ffff\",\"#00ffff\",\"#000000\",\"#000000\",\"#00ff00\",\"#00ff00\",\"#00ffff\",\"#00ff00\",\"#00ff00\",\"#00ff00\",\"#00ff00\",\"#00ff00\",\"#00ff00\",\"#000000\",\"#000000\",\"#00ff00\",\"#00ff00\",\"#00ffff\",\"#00ffff\",\"#000000\",\"#00ffff\",\"#00ff00\",\"#00ff00\",\"#00ff00\",\"#00ff00\",\"#00ff00\",\"#00ff00\",\"#00ff00\",\"#00ff00\",\"#00ff00\",\"#00ff00\",\"#00ff00\",\"#00ff00\",\"#00ff00\",\"#00ff00\",\"#00ff00\",\"#00ffff\",\"#00ff00\",\"#00ff00\",\"#00ff00\",\"#00ff00\",\"#00ff00\",\"#000000\",\"#00ff00\",\"#00ff00\",\"#00ff00\",\"#00ff00\",\"#00ff00\",\"#00ff00\",\"#00ff00\",\"#00ff00\",\"#00ff00\",\"#00ff00\",\"#00ff00\",\"#00ff00\",\"#00ff00\",\"#00ff00\",\"#00ff00\",\"#00ff00\",\"#00ffff\",\"#00ff00\",\"#00ff00\",\"#00ff00\",\"#00ff00\",\"#00ff00\",\"#00ffff\",\"#00ff00\",\"#00ff00\",\"#00ff00\",\"#00ffff\",\"#00ff00\",\"#00ff00\",\"#00ff00\",\"#000000\",\"#00ff00\",\"#00ff00\",\"#00ff00\",\"#00ff00\",\"#000000\",\"#00ff00\",\"#00ff00\",\"#00ff00\",\"#00ff00\",\"#00ff00\",\"#00ff00\",\"#00ff00\",\"#00ff00\",\"#00ff00\",\"#00ff00\",\"#000000\",\"#00ffff\",\"#00ff00\",\"#00ff00\",\"#00ffff\",\"#00ff00\",\"#00ff00\",\"#00ff00\",\"#00ff00\",\"#00ff00\",\"#00ff00\",\"#00ff00\",\"#00ff00\",\"#000000\",\"#00ff00\",\"#00ff00\",\"#00ff00\",\"#00ff00\",\"#00ff00\",\"#00ff00\",\"#000000\",\"#00ff00\",\"#00ff00\",\"#00ff00\",\"#00ff00\",\"#00ff00\",\"#00ff00\",\"#00ff00\",\"#00ffff\",\"#00ffff\",\"#00ff00\",\"#00ffff\",\"#00ff00\",\"#00ff00\",\"#00ff00\",\"#000000\",\"#00ff00\",\"#00ff00\",\"#00ffff\",\"#00ff00\",\"#00ff00\",\"#00ff00\",\"#00ff00\",\"#00ff00\",\"#00ff00\",\"#00ff00\",\"#00ffff\",\"#00ffff\",\"#00ffff\",\"#00ff00\",\"#00ff00\",\"#00ff00\",\"#00ffff\",\"#00ff00\",\"#00ff00\",\"#00ff00\",\"#00ff00\",\"#000000\",\"#00ff00\",\"#00ff00\",\"#00ff00\",\"#00ffff\",\"#00ff00\",\"#00ff00\",\"#00ff00\",\"#00ff00\",\"#00ff00\",\"#00ff00\",\"#00ff00\",\"#00ff00\",\"#00ff00\",\"#000000\",\"#00ffff\",\"#00ff00\",\"#00ff00\",\"#00ff00\",\"#00ff00\",\"#00ffff\",\"#00ff00\",\"#00ff00\",\"#00ffff\",\"#00ffff\",\"#00ff00\",\"#00ff00\",\"#00ff00\",\"#00ff00\",\"#00ff00\",\"#00ff00\",\"#000000\",\"#00ff00\",\"#00ff00\",\"#000000\",\"#00ff00\",\"#00ff00\",\"#000000\",\"#00ff00\",\"#00ff00\",\"#00ffff\",\"#00ff00\",\"#00ff00\",\"#00ff00\",\"#00ff00\",\"#00ff00\",\"#000000\",\"#00ff00\",\"#00ffff\",\"#00ff00\",\"#00ff00\",\"#00ff00\",\"#00ffff\",\"#00ff00\",\"#00ff00\",\"#00ffff\",\"#00ff00\",\"#00ff00\",\"#00ffff\",\"#00ff00\",\"#00ff00\",\"#00ff00\",\"#00ff00\",\"#00ffff\",\"#00ffff\",\"#00ff00\",\"#00ff00\",\"#00ff00\",\"#00ffff\",\"#000000\",\"#00ff00\",\"#00ff00\",\"#00ff00\",\"#00ff00\",\"#000000\",\"#00ffff\",\"#00ffff\",\"#00ff00\",\"#00ff00\",\"#00ff00\",\"#00ffff\",\"#00ff00\",\"#00ff00\",\"#00ffff\",\"#00ff00\",\"#00ff00\",\"#00ff00\",\"#00ff00\",\"#00ff00\",\"#00ff00\",\"#00ffff\",\"#000000\",\"#00ffff\",\"#00ff00\",\"#00ff00\",\"#00ff00\",\"#00ff00\",\"#00ff00\",\"#00ff00\",\"#00ffff\",\"#00ff00\",\"#00ffff\",\"#00ff00\",\"#00ff00\",\"#00ff00\",\"#00ff00\",\"#00ff00\",\"#00ff00\",\"#00ffff\",\"#000000\",\"#00ff00\",\"#00ff00\",\"#000000\",\"#00ff00\",\"#00ffff\",\"#00ff00\",\"#00ffff\",\"#00ffff\",\"#00ff00\",\"#00ff00\",\"#00ff00\",\"#00ff00\",\"#000000\",\"#00ff00\",\"#00ff00\",\"#00ff00\",\"#00ff00\",\"#00ff00\",\"#00ffff\",\"#00ff00\",\"#00ff00\",\"#00ff00\",\"#00ff00\",\"#00ff00\",\"#00ffff\",\"#00ffff\",\"#00ff00\",\"#00ffff\",\"#00ff00\",\"#00ffff\",\"#00ff00\",\"#00ff00\",\"#00ff00\",\"#00ff00\",\"#00ff00\",\"#000000\",\"#00ff00\",\"#00ff00\",\"#00ff00\",\"#00ff00\",\"#00ff00\",\"#00ff00\",\"#00ff00\",\"#00ff00\",\"#000000\",\"#00ffff\",\"#00ffff\",\"#00ff00\",\"#00ff00\",\"#00ff00\",\"#00ff00\",\"#00ff00\",\"#00ff00\",\"#00ff00\",\"#00ff00\",\"#00ff00\",\"#00ff00\",\"#00ff00\",\"#00ff00\",\"#00ff00\",\"#000000\",\"#00ff00\",\"#00ff00\",\"#00ffff\",\"#00ff00\",\"#000000\",\"#00ff00\",\"#00ff00\",\"#00ff00\",\"#00ff00\",\"#00ff00\",\"#00ffff\",\"#00ff00\",\"#00ff00\",\"#00ffff\",\"#00ff00\",\"#00ff00\",\"#00ff00\",\"#00ffff\",\"#00ff00\",\"#00ffff\",\"#00ffff\",\"#00ffff\",\"#00ff00\",\"#00ff00\",\"#00ff00\",\"#00ffff\",\"#00ff00\",\"#00ff00\",\"#000000\",\"#00ff00\",\"#00ff00\",\"#00ff00\",\"#00ff00\",\"#00ff00\",\"#00ff00\",\"#000000\",\"#00ff00\",\"#00ff00\",\"#00ff00\",\"#00ff00\",\"#00ff00\",\"#00ffff\",\"#00ff00\",\"#00ff00\",\"#00ff00\",\"#00ffff\",\"#00ff00\",\"#00ff00\",\"#00ffff\",\"#00ff00\",\"#00ff00\",\"#00ff00\",\"#00ff00\",\"#00ff00\",\"#00ff00\",\"#00ff00\",\"#00ff00\",\"#00ffff\",\"#00ffff\",\"#00ff00\",\"#000000\",\"#00ff00\",\"#00ff00\",\"#00ff00\",\"#00ff00\",\"#00ffff\",\"#00ff00\",\"#00ff00\",\"#00ff00\",\"#00ff00\",\"#000000\",\"#00ffff\",\"#00ff00\",\"#00ff00\",\"#00ffff\",\"#000000\",\"#00ff00\",\"#000000\",\"#00ff00\",\"#00ff00\",\"#00ff00\",\"#00ff00\",\"#00ff00\",\"#00ff00\",\"#00ff00\",\"#00ff00\",\"#000000\",\"#00ff00\",\"#00ffff\",\"#00ff00\",\"#00ff00\",\"#00ff00\",\"#00ff00\",\"#00ff00\",\"#00ff00\",\"#00ffff\",\"#00ff00\",\"#00ff00\",\"#00ff00\",\"#00ff00\",\"#00ff00\",\"#00ffff\",\"#00ffff\",\"#00ff00\",\"#00ff00\",\"#00ff00\",\"#00ff00\",\"#00ffff\",\"#00ffff\",\"#00ff00\",\"#00ff00\",\"#00ff00\",\"#00ff00\",\"#00ff00\",\"#00ff00\",\"#00ff00\",\"#00ff00\",\"#00ff00\",\"#00ff00\",\"#00ff00\",\"#00ff00\",\"#00ff00\",\"#00ff00\",\"#000000\",\"#00ffff\",\"#00ff00\",\"#00ff00\",\"#00ff00\",\"#00ff00\",\"#00ff00\",\"#00ff00\",\"#00ff00\",\"#00ff00\",\"#00ff00\",\"#00ff00\",\"#00ff00\",\"#00ff00\",\"#00ff00\",\"#00ff00\",\"#000000\",\"#00ff00\",\"#00ff00\",\"#00ff00\",\"#00ff00\",\"#00ff00\",\"#00ff00\",\"#00ff00\",\"#00ff00\",\"#00ffff\",\"#000000\",\"#00ff00\",\"#00ffff\",\"#00ff00\",\"#00ff00\",\"#00ff00\",\"#000000\",\"#000000\",\"#00ff00\",\"#00ff00\",\"#00ff00\",\"#00ff00\",\"#00ff00\",\"#00ff00\",\"#00ff00\",\"#00ff00\",\"#00ff00\",\"#00ff00\",\"#00ff00\",\"#00ff00\",\"#00ff00\",\"#00ffff\",\"#00ff00\",\"#00ffff\",\"#00ff00\",\"#00ffff\",\"#00ff00\",\"#00ff00\",\"#00ff00\",\"#00ff00\",\"#00ff00\",\"#00ff00\",\"#00ff00\",\"#00ff00\",\"#000000\",\"#00ff00\",\"#00ff00\",\"#00ff00\",\"#00ffff\",\"#00ff00\",\"#00ff00\",\"#00ff00\",\"#00ff00\",\"#00ff00\",\"#00ff00\",\"#00ff00\",\"#00ffff\",\"#00ffff\",\"#00ffff\",\"#00ff00\",\"#00ff00\",\"#00ff00\",\"#00ff00\",\"#00ff00\",\"#00ff00\",\"#000000\",\"#00ff00\",\"#00ff00\",\"#00ffff\",\"#00ff00\",\"#00ff00\",\"#00ff00\",\"#00ff00\",\"#00ffff\",\"#000000\",\"#000000\",\"#00ff00\",\"#00ff00\",\"#000000\",\"#00ff00\",\"#00ff00\",\"#000000\",\"#00ffff\",\"#00ff00\",\"#00ff00\",\"#00ff00\",\"#00ff00\",\"#00ffff\",\"#00ff00\",\"#00ffff\",\"#00ff00\",\"#00ff00\",\"#00ff00\",\"#00ff00\",\"#00ff00\",\"#00ff00\",\"#00ff00\",\"#00ff00\",\"#00ff00\",\"#00ff00\",\"#00ff00\",\"#00ff00\",\"#00ff00\",\"#00ff00\",\"#00ff00\",\"#00ff00\",\"#00ff00\",\"#00ff00\",\"#00ff00\",\"#000000\",\"#000000\",\"#00ff00\",\"#00ff00\",\"#00ff00\",\"#00ff00\",\"#00ff00\",\"#00ffff\",\"#00ffff\",\"#00ff00\",\"#00ff00\",\"#00ff00\",\"#00ff00\",\"#00ff00\",\"#00ff00\",\"#00ff00\",\"#00ffff\",\"#00ffff\",\"#00ff00\",\"#00ff00\",\"#00ffff\",\"#00ff00\",\"#00ff00\",\"#00ff00\",\"#00ff00\",\"#00ffff\",\"#00ff00\",\"#00ff00\",\"#00ff00\",\"#00ffff\",\"#00ff00\",\"#000000\",\"#00ff00\",\"#00ff00\",\"#00ff00\",\"#00ff00\",\"#00ff00\",\"#00ff00\",\"#00ff00\",\"#00ff00\",\"#000000\",\"#00ff00\",\"#00ff00\",\"#00ffff\",\"#00ff00\",\"#00ff00\",\"#00ff00\",\"#00ff00\",\"#000000\",\"#00ff00\",\"#00ff00\",\"#00ff00\",\"#00ff00\",\"#00ff00\",\"#00ff00\",\"#00ff00\",\"#00ff00\",\"#000000\",\"#00ff00\",\"#00ff00\",\"#00ff00\",\"#00ffff\",\"#00ff00\",\"#00ff00\",\"#00ff00\",\"#00ff00\",\"#000000\",\"#00ffff\",\"#00ffff\",\"#00ff00\",\"#00ff00\",\"#00ff00\",\"#00ff00\",\"#00ff00\",\"#00ff00\",\"#00ff00\",\"#00ff00\",\"#00ff00\",\"#00ffff\",\"#00ff00\",\"#00ff00\",\"#00ff00\",\"#000000\",\"#00ff00\",\"#00ff00\",\"#00ff00\",\"#000000\",\"#00ff00\",\"#00ff00\",\"#00ff00\",\"#00ffff\",\"#00ff00\",\"#00ff00\",\"#00ff00\",\"#00ff00\",\"#00ff00\",\"#00ff00\",\"#00ff00\",\"#00ffff\",\"#00ff00\",\"#000000\",\"#00ff00\",\"#00ff00\",\"#00ff00\",\"#00ff00\",\"#00ff00\",\"#00ff00\",\"#00ff00\",\"#00ff00\",\"#00ff00\",\"#00ff00\",\"#00ff00\",\"#00ff00\",\"#00ff00\",\"#00ff00\",\"#00ff00\",\"#00ff00\",\"#00ff00\",\"#00ff00\",\"#00ff00\",\"#00ff00\",\"#00ff00\",\"#00ffff\",\"#00ffff\",\"#00ff00\",\"#000000\",\"#00ffff\",\"#00ff00\",\"#00ffff\",\"#00ffff\",\"#00ff00\",\"#00ffff\",\"#00ff00\",\"#00ff00\",\"#00ff00\",\"#000000\",\"#00ff00\",\"#000000\",\"#00ff00\",\"#000000\",\"#00ffff\",\"#00ff00\",\"#00ff00\",\"#00ff00\",\"#00ff00\",\"#00ff00\",\"#00ff00\",\"#00ff00\",\"#00ff00\",\"#00ff00\",\"#00ffff\",\"#00ff00\",\"#00ffff\",\"#00ff00\",\"#00ffff\",\"#000000\",\"#000000\",\"#00ff00\",\"#00ff00\",\"#00ffff\",\"#00ff00\",\"#000000\",\"#00ff00\",\"#00ffff\",\"#00ffff\",\"#00ff00\",\"#00ff00\",\"#00ff00\",\"#00ff00\",\"#00ff00\",\"#00ffff\",\"#00ff00\",\"#00ff00\",\"#00ff00\",\"#00ff00\",\"#00ff00\",\"#00ff00\",\"#00ff00\",\"#00ff00\",\"#00ff00\",\"#00ff00\",\"#00ffff\",\"#00ff00\",\"#00ff00\",\"#00ff00\",\"#00ff00\",\"#00ffff\",\"#00ffff\",\"#00ffff\",\"#00ff00\",\"#00ff00\",\"#00ff00\",\"#00ffff\",\"#00ff00\",\"#00ff00\",\"#000000\",\"#00ff00\",\"#00ff00\",\"#00ffff\",\"#00ff00\",\"#00ff00\",\"#00ff00\",\"#00ff00\",\"#00ff00\",\"#00ff00\",\"#00ff00\",\"#00ff00\",\"#00ff00\",\"#00ff00\",\"#00ff00\",\"#00ff00\",\"#00ff00\",\"#00ff00\",\"#000000\",\"#00ff00\",\"#00ff00\",\"#00ff00\",\"#00ff00\",\"#00ff00\",\"#00ff00\",\"#00ff00\",\"#00ff00\",\"#000000\",\"#00ff00\",\"#00ffff\",\"#00ff00\",\"#00ff00\",\"#000000\",\"#00ff00\",\"#00ff00\",\"#00ff00\",\"#00ff00\",\"#00ff00\",\"#00ff00\",\"#00ff00\",\"#000000\",\"#00ffff\",\"#00ffff\",\"#000000\",\"#00ffff\",\"#00ffff\",\"#00ff00\",\"#00ff00\",\"#00ff00\",\"#00ff00\",\"#00ffff\",\"#00ff00\",\"#00ff00\",\"#00ff00\",\"#00ff00\",\"#00ff00\",\"#00ff00\",\"#00ff00\",\"#00ff00\",\"#00ff00\",\"#00ff00\",\"#00ff00\",\"#00ff00\",\"#00ff00\",\"#00ff00\",\"#00ff00\",\"#00ffff\",\"#00ff00\",\"#00ff00\",\"#00ff00\",\"#00ff00\",\"#00ff00\",\"#00ff00\",\"#00ff00\",\"#00ff00\",\"#00ff00\",\"#00ff00\",\"#000000\",\"#00ff00\",\"#00ff00\",\"#00ff00\",\"#00ffff\",\"#00ff00\",\"#00ff00\",\"#00ff00\",\"#00ffff\",\"#00ff00\",\"#00ff00\",\"#00ffff\",\"#00ff00\",\"#00ff00\",\"#00ff00\",\"#00ff00\",\"#00ffff\",\"#00ffff\",\"#00ffff\",\"#00ff00\",\"#00ff00\",\"#00ff00\",\"#00ff00\",\"#00ff00\",\"#00ff00\",\"#00ff00\",\"#00ff00\",\"#000000\",\"#00ff00\",\"#00ffff\",\"#00ff00\",\"#00ffff\",\"#00ff00\",\"#00ffff\",\"#00ff00\",\"#000000\",\"#00ff00\",\"#00ff00\",\"#00ff00\",\"#00ff00\",\"#00ff00\",\"#00ff00\",\"#00ff00\",\"#00ff00\",\"#00ff00\",\"#00ff00\",\"#00ff00\",\"#00ff00\",\"#00ffff\",\"#00ff00\",\"#00ff00\",\"#00ff00\",\"#00ff00\",\"#00ff00\",\"#00ff00\",\"#00ff00\",\"#00ff00\",\"#00ff00\",\"#00ff00\",\"#00ff00\",\"#00ff00\",\"#00ff00\",\"#00ff00\",\"#00ff00\",\"#00ff00\",\"#00ff00\",\"#000000\",\"#000000\",\"#00ff00\",\"#00ff00\",\"#00ff00\",\"#00ff00\",\"#00ff00\",\"#00ff00\",\"#000000\",\"#00ff00\",\"#00ff00\",\"#00ff00\",\"#00ff00\",\"#00ffff\",\"#00ff00\",\"#00ff00\",\"#00ff00\",\"#00ff00\",\"#00ff00\",\"#00ff00\",\"#00ff00\",\"#00ff00\",\"#00ff00\",\"#000000\",\"#00ff00\",\"#000000\",\"#00ff00\",\"#00ff00\",\"#00ff00\",\"#00ff00\",\"#00ff00\",\"#00ff00\",\"#00ff00\",\"#00ffff\",\"#00ff00\",\"#00ffff\",\"#00ff00\",\"#00ff00\",\"#00ff00\",\"#00ff00\",\"#00ff00\",\"#00ff00\",\"#00ffff\",\"#00ffff\",\"#00ff00\",\"#00ff00\",\"#00ff00\",\"#00ff00\",\"#00ff00\",\"#00ff00\",\"#00ff00\",\"#00ffff\",\"#00ff00\",\"#00ff00\",\"#00ff00\",\"#00ff00\",\"#00ff00\",\"#00ff00\",\"#00ffff\",\"#00ff00\",\"#00ff00\",\"#00ff00\",\"#00ff00\",\"#00ff00\",\"#00ffff\",\"#00ff00\",\"#00ff00\",\"#00ffff\",\"#00ffff\",\"#00ff00\",\"#00ff00\",\"#00ff00\",\"#00ff00\",\"#00ff00\",\"#00ff00\",\"#000000\",\"#00ff00\",\"#00ffff\",\"#000000\",\"#00ff00\",\"#00ff00\",\"#00ff00\",\"#00ff00\",\"#00ff00\",\"#00ff00\",\"#00ffff\",\"#000000\",\"#00ff00\",\"#00ff00\",\"#00ffff\",\"#00ff00\",\"#00ff00\",\"#00ff00\",\"#000000\",\"#00ff00\",\"#00ff00\",\"#00ff00\",\"#00ffff\",\"#00ffff\",\"#00ff00\",\"#00ff00\",\"#00ff00\",\"#00ff00\",\"#00ff00\",\"#00ff00\",\"#00ff00\",\"#00ff00\",\"#000000\",\"#00ffff\",\"#00ff00\",\"#00ff00\",\"#00ffff\",\"#000000\",\"#00ffff\",\"#00ff00\",\"#00ff00\",\"#00ff00\",\"#00ff00\",\"#000000\",\"#00ff00\",\"#00ff00\",\"#000000\",\"#00ff00\",\"#00ff00\",\"#00ff00\",\"#00ff00\",\"#00ff00\",\"#00ff00\",\"#00ff00\",\"#00ffff\",\"#00ff00\",\"#00ff00\",\"#00ff00\",\"#00ff00\",\"#000000\",\"#00ff00\",\"#00ff00\",\"#000000\",\"#00ff00\",\"#00ffff\",\"#00ff00\",\"#00ff00\",\"#00ff00\",\"#00ff00\",\"#00ff00\",\"#00ff00\",\"#00ff00\",\"#00ff00\",\"#00ff00\",\"#00ff00\",\"#00ff00\",\"#00ff00\",\"#00ff00\",\"#00ff00\",\"#00ff00\",\"#00ff00\",\"#00ff00\",\"#00ff00\",\"#00ff00\",\"#00ffff\",\"#00ff00\",\"#00ff00\",\"#00ff00\",\"#00ff00\",\"#000000\",\"#00ffff\",\"#00ff00\",\"#00ff00\",\"#00ff00\",\"#00ff00\",\"#00ff00\",\"#00ff00\",\"#00ff00\",\"#000000\",\"#00ff00\",\"#00ff00\",\"#00ff00\",\"#00ffff\",\"#00ff00\",\"#00ff00\",\"#00ffff\",\"#00ffff\",\"#00ff00\",\"#00ff00\",\"#00ff00\",\"#000000\",\"#00ffff\",\"#00ff00\",\"#00ff00\",\"#00ff00\",\"#00ffff\",\"#00ff00\",\"#00ff00\",\"#00ff00\",\"#000000\",\"#00ff00\",\"#00ff00\",\"#00ff00\",\"#00ffff\",\"#00ff00\",\"#00ff00\",\"#00ff00\",\"#00ffff\",\"#00ff00\",\"#00ff00\",\"#000000\",\"#00ff00\",\"#00ff00\",\"#00ff00\",\"#00ff00\",\"#000000\",\"#00ff00\",\"#00ff00\",\"#00ff00\",\"#000000\",\"#00ff00\",\"#00ff00\",\"#00ff00\",\"#00ff00\",\"#00ffff\",\"#00ff00\",\"#00ff00\",\"#00ffff\",\"#00ff00\",\"#00ffff\",\"#00ffff\",\"#00ff00\",\"#00ff00\",\"#00ff00\",\"#00ff00\",\"#00ff00\",\"#00ff00\",\"#00ff00\",\"#00ff00\",\"#000000\",\"#00ff00\",\"#00ff00\",\"#00ff00\",\"#00ff00\",\"#00ff00\",\"#00ffff\",\"#00ff00\",\"#00ff00\",\"#00ff00\",\"#00ffff\",\"#00ffff\",\"#00ff00\",\"#00ff00\",\"#00ff00\",\"#00ff00\",\"#00ff00\",\"#00ff00\",\"#00ff00\",\"#00ff00\",\"#00ffff\",\"#00ff00\",\"#00ff00\",\"#00ff00\",\"#00ff00\",\"#00ff00\",\"#00ffff\",\"#00ff00\",\"#00ff00\",\"#00ff00\",\"#00ff00\",\"#00ff00\",\"#00ff00\",\"#00ff00\",\"#00ffff\",\"#00ff00\",\"#00ff00\",\"#00ff00\",\"#00ff00\",\"#00ff00\",\"#00ff00\",\"#00ff00\",\"#00ff00\",\"#00ff00\",\"#00ff00\",\"#00ffff\",\"#000000\",\"#000000\",\"#00ff00\",\"#00ff00\",\"#00ff00\",\"#00ff00\",\"#00ff00\",\"#00ff00\",\"#00ff00\",\"#00ff00\",\"#00ff00\",\"#00ff00\",\"#00ff00\",\"#00ffff\",\"#00ff00\",\"#00ff00\",\"#00ffff\",\"#00ff00\",\"#00ff00\",\"#00ffff\",\"#00ffff\",\"#000000\",\"#00ff00\",\"#00ff00\",\"#000000\",\"#00ffff\",\"#00ffff\",\"#00ff00\",\"#00ff00\",\"#00ffff\",\"#00ff00\",\"#00ff00\",\"#00ff00\",\"#00ff00\",\"#00ff00\",\"#00ffff\",\"#00ff00\",\"#00ff00\",\"#00ff00\",\"#00ff00\",\"#00ff00\",\"#00ffff\",\"#00ffff\",\"#00ff00\",\"#00ff00\",\"#00ff00\",\"#00ff00\",\"#00ff00\",\"#00ff00\",\"#00ff00\",\"#00ff00\",\"#000000\",\"#00ff00\",\"#00ffff\",\"#00ff00\",\"#00ff00\",\"#00ff00\",\"#00ff00\",\"#00ff00\",\"#00ff00\",\"#00ff00\",\"#000000\",\"#00ff00\",\"#00ff00\",\"#00ffff\",\"#00ffff\",\"#00ff00\",\"#00ff00\",\"#00ff00\",\"#00ff00\",\"#00ff00\",\"#00ff00\",\"#00ff00\",\"#000000\",\"#00ff00\",\"#00ff00\",\"#00ff00\",\"#00ffff\",\"#00ff00\",\"#00ff00\",\"#00ff00\",\"#00ff00\",\"#00ff00\",\"#00ff00\",\"#00ff00\",\"#00ff00\",\"#00ff00\",\"#00ffff\",\"#00ff00\",\"#00ffff\",\"#00ff00\",\"#00ff00\",\"#00ff00\",\"#00ff00\",\"#00ff00\",\"#00ff00\",\"#00ff00\",\"#00ff00\",\"#00ff00\",\"#00ff00\",\"#00ff00\",\"#00ff00\",\"#00ff00\",\"#00ff00\",\"#00ff00\",\"#000000\",\"#00ff00\",\"#00ff00\",\"#00ff00\",\"#00ffff\",\"#00ffff\",\"#00ff00\",\"#00ff00\",\"#00ff00\",\"#00ffff\",\"#00ff00\",\"#00ff00\",\"#00ff00\",\"#00ff00\",\"#00ff00\",\"#00ff00\",\"#00ff00\",\"#000000\",\"#00ff00\",\"#00ff00\",\"#00ff00\",\"#00ff00\",\"#00ffff\",\"#00ff00\",\"#00ff00\",\"#00ff00\",\"#00ff00\",\"#00ff00\",\"#00ffff\",\"#000000\",\"#00ff00\",\"#00ff00\",\"#00ff00\",\"#00ffff\",\"#00ff00\",\"#00ff00\",\"#00ff00\",\"#00ff00\",\"#00ff00\",\"#000000\",\"#00ff00\",\"#00ff00\",\"#00ff00\",\"#00ff00\",\"#00ff00\",\"#00ff00\",\"#00ff00\",\"#00ff00\",\"#00ff00\",\"#00ff00\",\"#00ff00\",\"#00ff00\",\"#00ff00\",\"#000000\",\"#00ff00\",\"#00ff00\",\"#00ff00\",\"#00ff00\",\"#00ff00\",\"#00ff00\",\"#000000\",\"#000000\",\"#00ff00\",\"#00ff00\",\"#00ff00\",\"#00ff00\",\"#00ff00\",\"#00ff00\",\"#00ffff\",\"#00ff00\",\"#00ff00\",\"#00ff00\",\"#00ff00\",\"#00ff00\",\"#00ff00\",\"#00ff00\",\"#00ff00\",\"#00ff00\",\"#00ff00\",\"#00ff00\",\"#00ff00\",\"#000000\",\"#00ffff\",\"#00ff00\",\"#00ff00\",\"#00ffff\",\"#00ff00\",\"#00ff00\",\"#00ff00\",\"#00ff00\",\"#00ff00\",\"#000000\",\"#00ff00\",\"#00ff00\",\"#00ff00\",\"#00ffff\",\"#00ff00\",\"#00ff00\",\"#00ff00\",\"#00ff00\",\"#00ff00\",\"#00ff00\",\"#00ff00\",\"#000000\",\"#00ff00\",\"#00ff00\",\"#00ffff\",\"#00ff00\",\"#000000\",\"#00ff00\",\"#00ff00\",\"#00ff00\",\"#00ff00\",\"#00ffff\",\"#00ff00\",\"#00ff00\",\"#00ff00\",\"#00ff00\",\"#00ff00\",\"#00ff00\",\"#00ff00\",\"#00ff00\",\"#00ff00\",\"#00ff00\",\"#00ff00\",\"#00ff00\",\"#00ff00\",\"#00ff00\",\"#00ff00\",\"#00ff00\",\"#00ff00\",\"#00ffff\",\"#000000\",\"#00ff00\",\"#00ff00\",\"#00ff00\",\"#00ff00\",\"#00ff00\",\"#00ff00\",\"#00ff00\",\"#00ff00\",\"#00ff00\",\"#00ff00\",\"#00ff00\",\"#00ff00\",\"#00ff00\",\"#00ff00\",\"#00ffff\",\"#00ff00\",\"#000000\",\"#00ff00\",\"#00ff00\",\"#00ff00\",\"#00ff00\",\"#00ffff\",\"#00ff00\",\"#00ff00\",\"#00ff00\",\"#00ff00\",\"#00ff00\",\"#00ff00\",\"#00ff00\",\"#00ff00\",\"#00ff00\",\"#000000\",\"#00ff00\",\"#00ff00\",\"#00ff00\",\"#00ff00\",\"#00ff00\",\"#000000\",\"#00ff00\",\"#00ffff\",\"#00ff00\",\"#00ff00\",\"#00ffff\",\"#00ff00\",\"#00ff00\",\"#00ff00\",\"#00ff00\",\"#00ff00\",\"#00ff00\",\"#00ff00\",\"#000000\",\"#00ff00\",\"#000000\",\"#00ff00\",\"#00ff00\",\"#000000\",\"#00ffff\",\"#00ff00\",\"#00ff00\",\"#00ff00\",\"#00ff00\",\"#00ff00\",\"#00ff00\",\"#00ffff\",\"#00ff00\",\"#000000\",\"#00ff00\",\"#00ff00\",\"#00ff00\",\"#00ff00\",\"#00ff00\",\"#00ff00\",\"#00ff00\",\"#000000\",\"#00ff00\",\"#00ffff\",\"#00ff00\",\"#00ff00\",\"#00ff00\",\"#00ff00\",\"#00ff00\",\"#00ffff\",\"#00ff00\",\"#00ffff\",\"#00ff00\",\"#00ffff\",\"#00ff00\",\"#00ff00\",\"#00ff00\",\"#00ff00\",\"#00ff00\",\"#00ff00\",\"#00ff00\",\"#00ffff\",\"#00ff00\",\"#00ff00\",\"#00ff00\",\"#00ff00\",\"#00ff00\",\"#000000\",\"#00ff00\",\"#00ff00\",\"#00ff00\",\"#00ff00\",\"#00ff00\",\"#00ff00\",\"#00ff00\",\"#00ff00\",\"#00ff00\",\"#00ff00\",\"#00ffff\",\"#00ff00\",\"#00ff00\",\"#00ff00\",\"#00ff00\",\"#00ff00\",\"#00ff00\",\"#00ff00\",\"#000000\",\"#00ffff\",\"#00ff00\",\"#00ff00\",\"#00ff00\",\"#00ff00\",\"#00ff00\",\"#00ff00\",\"#00ff00\",\"#00ff00\",\"#00ffff\",\"#00ff00\",\"#00ff00\",\"#00ff00\",\"#00ff00\",\"#00ff00\",\"#00ffff\",\"#00ff00\",\"#00ff00\",\"#00ff00\",\"#000000\",\"#00ff00\",\"#00ff00\",\"#00ff00\",\"#00ff00\",\"#00ff00\",\"#00ff00\",\"#00ff00\",\"#00ff00\",\"#00ff00\",\"#00ff00\",\"#00ff00\",\"#00ffff\",\"#00ffff\",\"#00ff00\",\"#000000\",\"#00ff00\",\"#00ffff\",\"#00ffff\",\"#00ff00\",\"#00ffff\",\"#00ff00\",\"#00ff00\",\"#00ff00\",\"#00ff00\",\"#00ff00\",\"#00ff00\",\"#000000\",\"#00ff00\",\"#00ff00\",\"#00ff00\",\"#00ff00\",\"#000000\",\"#00ff00\",\"#00ff00\",\"#00ff00\",\"#00ff00\",\"#00ff00\",\"#00ffff\",\"#00ff00\",\"#000000\",\"#00ff00\",\"#00ffff\",\"#00ff00\",\"#00ff00\",\"#00ff00\",\"#00ffff\",\"#00ff00\",\"#00ff00\",\"#00ff00\",\"#00ffff\",\"#00ff00\",\"#00ff00\",\"#00ff00\",\"#00ff00\",\"#00ffff\",\"#00ff00\",\"#00ff00\",\"#00ff00\",\"#00ff00\",\"#00ff00\",\"#00ff00\",\"#00ff00\",\"#00ffff\",\"#00ff00\",\"#00ff00\",\"#00ff00\",\"#00ffff\",\"#00ff00\",\"#00ff00\",\"#00ff00\",\"#000000\",\"#00ff00\",\"#00ff00\",\"#00ff00\",\"#00ff00\",\"#00ffff\",\"#00ff00\",\"#00ff00\",\"#00ff00\",\"#00ff00\",\"#00ff00\",\"#00ff00\",\"#00ff00\",\"#00ff00\",\"#00ff00\",\"#00ffff\",\"#00ff00\",\"#00ff00\",\"#00ff00\",\"#00ff00\",\"#00ff00\",\"#00ff00\",\"#00ffff\",\"#000000\",\"#00ff00\",\"#00ff00\",\"#00ff00\",\"#00ff00\",\"#00ff00\",\"#00ff00\",\"#00ff00\",\"#00ff00\",\"#00ffff\",\"#000000\",\"#00ff00\",\"#00ff00\",\"#00ff00\",\"#00ffff\",\"#00ff00\",\"#00ff00\",\"#00ffff\",\"#000000\",\"#00ff00\",\"#00ff00\",\"#00ff00\",\"#00ffff\",\"#00ff00\",\"#000000\",\"#00ff00\",\"#00ff00\",\"#00ff00\",\"#00ff00\",\"#00ff00\",\"#00ff00\",\"#00ff00\",\"#00ff00\",\"#00ff00\",\"#00ff00\",\"#00ff00\",\"#00ff00\",\"#00ff00\",\"#00ff00\",\"#00ff00\",\"#00ffff\",\"#00ff00\",\"#00ff00\",\"#00ffff\",\"#00ff00\",\"#00ffff\",\"#00ff00\",\"#00ff00\",\"#00ff00\",\"#00ff00\",\"#00ff00\",\"#00ff00\",\"#000000\",\"#00ff00\",\"#00ff00\",\"#00ffff\",\"#00ff00\",\"#00ff00\",\"#00ff00\",\"#00ff00\",\"#00ff00\",\"#00ff00\",\"#00ff00\",\"#00ff00\",\"#00ff00\",\"#00ff00\",\"#000000\",\"#00ff00\",\"#00ffff\",\"#00ff00\",\"#00ff00\",\"#00ff00\",\"#000000\",\"#00ff00\",\"#00ff00\",\"#00ff00\",\"#00ff00\",\"#00ff00\",\"#00ff00\",\"#00ffff\",\"#00ffff\",\"#00ff00\",\"#00ff00\",\"#00ff00\",\"#00ff00\",\"#00ffff\",\"#00ff00\",\"#00ff00\",\"#00ffff\",\"#00ff00\",\"#00ff00\",\"#00ff00\",\"#00ff00\",\"#00ffff\",\"#00ff00\",\"#000000\",\"#00ff00\",\"#00ffff\",\"#00ff00\",\"#00ff00\",\"#00ff00\",\"#00ff00\",\"#00ffff\",\"#00ff00\",\"#00ff00\",\"#00ff00\",\"#00ff00\",\"#00ff00\",\"#00ff00\",\"#00ff00\",\"#00ff00\",\"#000000\",\"#00ff00\",\"#00ff00\",\"#00ff00\",\"#00ffff\",\"#000000\",\"#00ff00\",\"#00ff00\",\"#00ff00\",\"#000000\",\"#00ff00\",\"#00ff00\",\"#00ff00\",\"#00ffff\",\"#00ff00\",\"#00ff00\",\"#00ffff\",\"#00ff00\",\"#00ff00\",\"#000000\",\"#00ff00\",\"#00ff00\",\"#00ff00\",\"#000000\",\"#00ff00\",\"#00ff00\",\"#00ffff\",\"#00ff00\",\"#000000\",\"#00ff00\",\"#00ff00\",\"#00ff00\",\"#00ff00\",\"#00ff00\",\"#00ff00\",\"#00ffff\",\"#00ff00\",\"#00ffff\",\"#00ff00\",\"#00ff00\",\"#000000\",\"#00ff00\",\"#00ffff\",\"#00ff00\",\"#00ff00\",\"#00ff00\",\"#00ffff\",\"#00ff00\",\"#000000\",\"#00ff00\",\"#00ff00\",\"#00ff00\",\"#00ff00\",\"#000000\",\"#00ff00\",\"#00ff00\",\"#00ff00\",\"#00ff00\",\"#00ffff\",\"#00ff00\",\"#00ff00\",\"#00ff00\",\"#00ffff\",\"#00ff00\",\"#00ff00\",\"#00ff00\",\"#00ff00\",\"#00ff00\",\"#00ff00\",\"#00ff00\",\"#00ff00\",\"#00ff00\",\"#00ff00\",\"#00ffff\",\"#00ff00\",\"#00ff00\",\"#00ff00\",\"#000000\",\"#00ff00\",\"#00ffff\",\"#00ff00\",\"#00ff00\",\"#00ff00\",\"#00ff00\",\"#00ff00\",\"#00ff00\",\"#00ff00\",\"#00ffff\",\"#00ff00\",\"#000000\",\"#00ff00\",\"#00ff00\",\"#00ff00\",\"#00ff00\",\"#00ff00\",\"#00ff00\",\"#00ff00\",\"#00ff00\",\"#00ff00\",\"#00ff00\",\"#00ff00\",\"#00ff00\",\"#00ff00\",\"#00ff00\",\"#00ff00\",\"#00ff00\",\"#00ff00\",\"#00ff00\",\"#000000\",\"#00ff00\",\"#00ffff\",\"#00ff00\",\"#00ff00\",\"#00ff00\",\"#00ffff\",\"#00ff00\",\"#00ff00\",\"#00ffff\",\"#00ff00\",\"#00ff00\",\"#00ff00\",\"#00ff00\",\"#00ff00\",\"#00ff00\",\"#00ff00\",\"#00ff00\",\"#000000\",\"#00ff00\",\"#00ff00\",\"#00ff00\",\"#00ff00\",\"#00ff00\",\"#00ff00\",\"#00ff00\",\"#00ff00\",\"#00ff00\",\"#00ff00\",\"#00ff00\",\"#00ff00\",\"#00ff00\",\"#00ff00\",\"#00ff00\",\"#00ff00\",\"#00ffff\",\"#00ff00\",\"#00ff00\",\"#00ff00\",\"#00ff00\",\"#000000\",\"#00ffff\",\"#00ff00\",\"#00ffff\",\"#00ff00\",\"#00ff00\",\"#00ff00\",\"#00ff00\",\"#00ff00\",\"#00ff00\",\"#00ff00\",\"#000000\",\"#00ff00\",\"#00ffff\",\"#00ffff\",\"#00ff00\",\"#00ff00\",\"#00ff00\",\"#00ff00\",\"#00ff00\",\"#00ff00\",\"#000000\",\"#00ff00\",\"#00ffff\",\"#00ff00\",\"#000000\",\"#000000\",\"#00ff00\",\"#00ff00\",\"#00ff00\",\"#00ff00\",\"#00ff00\",\"#00ffff\",\"#000000\",\"#00ff00\",\"#00ffff\",\"#00ff00\",\"#00ff00\",\"#00ffff\",\"#00ffff\",\"#00ff00\",\"#00ffff\",\"#00ff00\",\"#00ff00\",\"#00ffff\",\"#00ffff\",\"#00ff00\",\"#00ff00\",\"#00ff00\",\"#000000\",\"#00ff00\",\"#00ff00\",\"#000000\",\"#00ff00\",\"#000000\",\"#00ff00\",\"#000000\",\"#00ff00\",\"#00ffff\",\"#00ff00\",\"#00ff00\",\"#00ff00\",\"#000000\",\"#00ff00\",\"#00ff00\",\"#00ffff\",\"#00ffff\",\"#00ff00\",\"#00ff00\",\"#000000\"],\"names\":[\"<unk>\",\"<pad>\",\"modi\",\"india\",\"people\",\"bjp\",\"congress\",\"like\",\"narendra\",\"election\",\"vote\",\"year\",\"govt\",\"indian\",\"time\",\"country\",\"modis\",\"dont\",\"nation\",\"know\",\"rahul\",\"want\",\"government\",\"party\",\"minister\",\"power\",\"gandhi\",\"leader\",\"say\",\"good\",\"space\",\"credit\",\"come\",\"need\",\"said\",\"think\",\"sir\",\"pakistan\",\"prime\",\"work\",\"money\",\"scientist\",\"opposition\",\"day\",\"support\",\"chowkidar\",\"today\",\"win\",\"job\",\"hai\",\"right\",\"new\",\"world\",\"thing\",\"great\",\"news\",\"poor\",\"satellite\",\"let\",\"drdo\",\"medium\",\"anti\",\"nehru\",\"political\",\"nirav\",\"address\",\"live\",\"question\",\"lakh\",\"family\",\"best\",\"way\",\"achievement\",\"mission\",\"going\",\"scheme\",\"better\",\"seat\",\"crore\",\"man\",\"promise\",\"state\",\"campaign\",\"proud\",\"national\",\"given\",\"got\",\"yes\",\"hindu\",\"watch\",\"thats\",\"ask\",\"issue\",\"hate\",\"strike\",\"shah\",\"speech\",\"big\",\"namo\",\"didnt\",\"development\",\"upa\",\"person\",\"stop\",\"rally\",\"muslim\",\"politics\",\"guy\",\"jai\",\"mean\",\"shakti\",\"look\",\"missile\",\"tweet\",\"tell\",\"saying\",\"love\",\"public\",\"giving\",\"asat\",\"reason\",\"making\",\"understand\",\"doesnt\",\"talk\",\"fake\",\"thanks\",\"test\",\"life\",\"gave\",\"pappu\",\"sure\",\"true\",\"corruption\",\"interview\",\"isro\",\"congratulation\",\"fact\",\"hope\",\"read\",\"candidate\",\"announcement\",\"rule\",\"real\",\"bank\",\"attack\",\"supporter\",\"called\",\"case\",\"voter\",\"help\",\"account\",\"wrong\",\"problem\",\"believe\",\"video\",\"change\",\"don\",\"terrorist\",\"bhakts\",\"lie\",\"r\",\"varanasi\",\"economy\",\"yr\",\"farmer\",\"policy\",\"team\",\"poll\",\"strong\",\"chor\",\"word\",\"force\",\"trying\",\"bhi\",\"taking\",\"answer\",\"bharat\",\"ppl\",\"contest\",\"coming\",\"leadership\",\"success\",\"court\",\"shame\",\"away\",\"china\",\"code\",\"sarkar\",\"dear\",\"term\",\"started\",\"failed\",\"promised\",\"talking\",\"sabha\",\"chief\",\"fight\",\"corrupt\",\"decision\",\"tax\",\"surgical\",\"happy\",\"thank\",\"feel\",\"wont\",\"lok\",\"air\",\"friend\",\"start\",\"army\",\"hand\",\"stand\",\"security\",\"getting\",\"use\",\"point\",\"face\",\"scam\",\"hard\",\"go\",\"free\",\"lot\",\"democracy\",\"matter\",\"till\",\"fool\",\"politician\",\"app\",\"shri\",\"seen\",\"citizen\",\"conduct\",\"bring\",\"long\",\"gujarat\",\"taken\",\"statement\",\"happened\",\"important\",\"post\",\"came\",\"amit\",\"pak\",\"asking\",\"bad\",\"hind\",\"proof\",\"god\",\"commission\",\"th\",\"working\",\"took\",\"lost\",\"difference\",\"month\",\"action\",\"future\",\"instead\",\"channel\",\"mind\",\"capability\",\"singh\",\"announced\",\"bhakt\",\"loan\",\"wish\",\"blame\",\"respect\",\"thought\",\"common\",\"bail\",\"woman\",\"antisatellite\",\"possible\",\"high\",\"income\",\"movie\",\"report\",\"care\",\"shot\",\"vision\",\"left\",\"place\",\"poverty\",\"save\",\"agenda\",\"asked\",\"responsible\",\"wave\",\"try\",\"youth\",\"cong\",\"modiji\",\"remember\",\"join\",\"project\",\"failure\",\"actually\",\"journalist\",\"war\",\"black\",\"claim\",\"delhi\",\"entire\",\"biggest\",\"low\",\"truth\",\"south\",\"fear\",\"run\",\"defeat\",\"supporting\",\"idea\",\"model\",\"agree\",\"majority\",\"biopic\",\"message\",\"speak\",\"update\",\"hatred\",\"set\",\"show\",\"kind\",\"super\",\"kashmir\",\"ahead\",\"main\",\"clear\",\"follow\",\"won\",\"far\",\"waiting\",\"nda\",\"single\",\"happen\",\"old\",\"voting\",\"soon\",\"chance\",\"economic\",\"ready\",\"forget\",\"second\",\"history\",\"end\",\"level\",\"past\",\"give\",\"plan\",\"raga\",\"safe\",\"huge\",\"business\",\"trust\",\"able\",\"different\",\"story\",\"growth\",\"launch\",\"told\",\"law\",\"created\",\"successfully\",\"twitter\",\"number\",\"film\",\"make\",\"result\",\"unemployment\",\"comment\",\"fan\",\"priyanka\",\"act\",\"assam\",\"clean\",\"get\",\"lac\",\"pls\",\"share\",\"indira\",\"moment\",\"check\",\"successful\",\"constituency\",\"doubt\",\"announce\",\"ticket\",\"worry\",\"mallya\",\"institution\",\"propaganda\",\"having\",\"wait\",\"jail\",\"shoot\",\"president\",\"open\",\"benefit\",\"nyay\",\"courage\",\"hit\",\"lol\",\"debate\",\"defence\",\"social\",\"take\",\"ambani\",\"pay\",\"destroyed\",\"list\",\"thinking\",\"reality\",\"reply\",\"arnab\",\"expect\",\"hater\",\"isnt\",\"dream\",\"leave\",\"target\",\"vijay\",\"home\",\"release\",\"paid\",\"imran\",\"view\",\"press\",\"ground\",\"return\",\"request\",\"antimodi\",\"article\",\"stupid\",\"brought\",\"soldier\",\"went\",\"deal\",\"honest\",\"class\",\"khan\",\"line\",\"game\",\"yogi\",\"lose\",\"rest\",\"meerut\",\"aap\",\"london\",\"regime\",\"self\",\"achieved\",\"head\",\"liberal\",\"elected\",\"he\",\"jumla\",\"idiot\",\"balakot\",\"kya\",\"official\",\"logic\",\"dynasty\",\"pradesh\",\"data\",\"foreign\",\"voted\",\"member\",\"land\",\"master\",\"can\",\"nahi\",\"wonder\",\"definitely\",\"april\",\"scared\",\"step\",\"meeting\",\"bhai\",\"body\",\"mumkin\",\"high_voltage\",\"create\",\"choice\",\"wanted\",\"whats\",\"mistake\",\"personal\",\"pulwama\",\"listen\",\"narrative\",\"minority\",\"pakistani\",\"sorry\",\"remove\",\"rich\",\"education\",\"earth\",\"effort\",\"fighting\",\"earlier\",\"killed\",\"weapon\",\"sense\",\"winning\",\"aur\",\"jawan\",\"young\",\"changed\",\"gone\",\"gut\",\"har\",\"note\",\"brother\",\"million\",\"blind\",\"general\",\"rafale\",\"alliance\",\"false\",\"didn\",\"continue\",\"march\",\"form\",\"gang\",\"jee\",\"contesting\",\"opinion\",\"joke\",\"order\",\"victory\",\"language\",\"technology\",\"group\",\"including\",\"child\",\"stay\",\"ram\",\"destroy\",\"educated\",\"international\",\"chowkidars\",\"father\",\"house\",\"atleast\",\"orbit\",\"lead\",\"son\",\"hell\",\"simple\",\"heard\",\"opportunity\",\"era\",\"loot\",\"source\",\"that\",\"rajan\",\"sonia\",\"exactly\",\"correct\",\"employment\",\"looking\",\"minute\",\"ndtv\",\"small\",\"threat\",\"drama\",\"prove\",\"led\",\"minimum\",\"accept\",\"major\",\"karnataka\",\"trailer\",\"follower\",\"praise\",\"abuse\",\"happens\",\"road\",\"enemy\",\"feeling\",\"tenure\",\"economist\",\"situation\",\"slogan\",\"terrorism\",\"busy\",\"decade\",\"according\",\"hour\",\"raid\",\"week\",\"odisha\",\"present\",\"card\",\"showing\",\"rd\",\"heart\",\"permission\",\"advani\",\"amethi\",\"clearly\",\"previous\",\"trump\",\"worst\",\"peace\",\"plz\",\"hain\",\"north\",\"speaking\",\"play\",\"visit\",\"addressing\",\"gst\",\"terror\",\"cost\",\"fund\",\"allowed\",\"republic\",\"running\",\"current\",\"calling\",\"progress\",\"program\",\"company\",\"shown\",\"office\",\"record\",\"ji\",\"launched\",\"baar\",\"desh\",\"living\",\"voice\",\"abt\",\"kar\",\"nationalist\",\"role\",\"wah\",\"known\",\"shameless\",\"toh\",\"coz\",\"demonetisation\",\"death\",\"picture\",\"brain\",\"governance\",\"doesn\",\"course\",\"deserve\",\"violation\",\"challenge\",\"rate\",\"actor\",\"link\",\"option\",\"religion\",\"send\",\"hold\",\"playing\",\"desperate\",\"express\",\"learn\",\"based\",\"adani\",\"guess\",\"mother\",\"middle\",\"type\",\"victory_hand\",\"youre\",\"kumar\",\"manmohan\",\"decided\",\"stopped\",\"fraud\",\"shit\",\"spread\",\"pro\",\"kill\",\"ago\",\"community\",\"position\",\"turn\",\"choose\",\"example\",\"saw\",\"btw\",\"jammu\",\"lack\",\"govts\",\"conference\",\"happening\",\"tried\",\"attention\",\"st\",\"kejriwal\",\"worker\",\"knowledge\",\"parliament\",\"wow\",\"telling\",\"welcome\",\"gain\",\"rupee\",\"theatre\",\"allow\",\"developed\",\"absolutely\",\"photo\",\"sad\",\"powerful\",\"totally\",\"yeah\",\"yesterday\",\"little\",\"nationalism\",\"village\",\"write\",\"city\",\"complete\",\"decide\",\"denied\",\"following\",\"meet\",\"provide\",\"built\",\"railway\",\"speaks\",\"ensure\",\"special\",\"freedom\",\"unlike\",\"ban\",\"bar\",\"compare\",\"image\",\"judge\",\"despite\",\"favour\",\"watching\",\"fall\",\"kuch\",\"easy\",\"upcoming\",\"afraid\",\"hey\",\"bjps\",\"elite\",\"finally\",\"kept\",\"pm\",\"worked\",\"capable\",\"jaitley\",\"liar\",\"proved\",\"hear\",\"performance\",\"sector\",\"bcoz\",\"series\",\"officer\",\"superpower\",\"seriously\",\"there\",\"questioning\",\"salute\",\"bangalore\",\"respected\",\"forward\",\"society\",\"worth\",\"armed\",\"completely\",\"criminal\",\"department\",\"appeal\",\"eye\",\"notice\",\"evidence\",\"madam\",\"price\",\"deposit\",\"increase\",\"nice\",\"call\",\"mein\",\"remain\",\"andhra\",\"aware\",\"chowkidaar\",\"congrats\",\"hearing\",\"loss\",\"response\",\"book\",\"building\",\"asks\",\"match\",\"water\",\"wife\",\"surely\",\"area\",\"gdp\",\"joker\",\"spreading\",\"non\",\"secular\",\"seeing\",\"total\",\"looted\",\"modishah\",\"patriotism\",\"dangerous\",\"pride\",\"publicity\",\"campaigning\",\"food\",\"governor\",\"loose\",\"communal\",\"counter\",\"mm\",\"service\",\"sold\",\"creating\",\"dare\",\"hatao\",\"imagine\",\"directly\",\"tea\",\"cbi\",\"reach\",\"worried\",\"din\",\"phir\",\"star\",\"constitution\",\"expected\",\"ideology\",\"selling\",\"tamil\",\"blaming\",\"bro\",\"build\",\"needed\",\"rbi\",\"russia\",\"cabinet\",\"ruling\",\"antinational\",\"buy\",\"maybe\",\"sent\",\"vajpayee\",\"crony\",\"generation\",\"human\",\"ministry\",\"electoral\",\"kerala\",\"dog\",\"health\",\"bigger\",\"cause\",\"pic\",\"planning\",\"late\",\"rural\",\"announces\",\"appreciate\",\"control\",\"highest\",\"justice\",\"nonsense\",\"centre\",\"event\",\"men\",\"moron\",\"negative\",\"one\",\"hero\",\"massive\",\"smart\",\"military\",\"mumbai\",\"gov\",\"kid\",\"losing\",\"standard\",\"central\",\"deliver\",\"gas\",\"file\",\"mrmodi\",\"culture\",\"hide\",\"skill\",\"achieve\",\"age\",\"half\",\"oppose\",\"status\",\"abhinandan\",\"budget\",\"joshi\",\"research\",\"riot\",\"focus\",\"science\",\"school\",\"toilet\",\"explain\",\"growing\",\"hindi\",\"positive\",\"maker\",\"rajasthan\",\"population\",\"similar\",\"ghar\",\"mention\",\"chit\",\"difficult\",\"exposed\",\"red_heart\",\"deserves\",\"intellectual\",\"killing\",\"latest\",\"nuclear\",\"raise\",\"simply\",\"east\",\"hindustan\",\"name\",\"sab\",\"seek\",\"supported\",\"gonna\",\"sri\",\"caste\",\"credited\",\"tomorrow\",\"transfer\",\"lying\",\"raghuram\",\"double\",\"increased\",\"programme\",\"thousand\",\"dumb\",\"involved\",\"openly\",\"turned\",\"cr\",\"independence\",\"sell\",\"zero\",\"who\",\"border\",\"paper\",\"strength\",\"survey\",\"tough\",\"waste\",\"breaking\",\"claimed\",\"concerned\",\"train\",\"bengal\",\"contribution\",\"detail\",\"feku\",\"likely\",\"basic\",\"disaster\",\"kashmiri\",\"local\",\"completed\",\"enjoy\",\"related\",\"degree\",\"fourth\",\"mass\",\"quality\",\"protect\",\"writes\",\"independent\",\"letter\",\"rise\",\"swamy\",\"cry\",\"figure\",\"mouth\",\"add\",\"fellow\",\"ill\",\"sitting\",\"united\",\"bollywood\",\"chair\",\"later\",\"senior\",\"bihar\",\"elect\",\"fun\",\"song\",\"destroying\",\"forever\",\"global\",\"billion\",\"luck\",\"market\",\"raj\",\"belief\",\"demonetization\",\"faith\",\"shouldnt\",\"value\",\"hindutva\",\"lady\",\"night\",\"probably\",\"tested\",\"boarding\",\"delivered\",\"handle\",\"mentioned\",\"strategy\",\"gujrat\",\"born\",\"declared\",\"period\",\"beat\",\"freebie\",\"helped\",\"slave\",\"charge\",\"fir\",\"especially\",\"fine\",\"helping\",\"west\",\"written\",\"crime\",\"offer\",\"opposing\",\"ruled\",\"shooting\",\"begin\",\"close\",\"daily\",\"date\",\"mamata\",\"temple\",\"bringing\",\"democratic\",\"student\",\"fascist\",\"abusing\",\"criticize\",\"implemented\",\"male_sign\",\"manifesto\",\"morning\",\"vadra\",\"amazing\",\"grow\",\"knew\",\"operation\",\"standing\",\"cell\",\"cheap\",\"download\",\"field\",\"information\",\"popularity\",\"rajdeep\",\"acting\",\"crowd\",\"demand\",\"journey\",\"tejasvi\",\"dead\",\"pas\",\"secret\",\"marketing\",\"duty\",\"fair\",\"kcr\",\"nd\",\"worse\",\"accused\",\"joining\",\"chaiwala\",\"excellent\",\"fail\",\"fugitive\",\"kick\",\"saraswat\",\"confidence\",\"piece\",\"tha\",\"niti\",\"personally\",\"surya\",\"journalism\",\"violate\",\"\\u0936\\u092c\\u091a\",\"girl\",\"surprise\",\"announcing\",\"demonetised\",\"vivek\",\"confident\",\"impact\",\"promising\",\"responsibility\",\"short\",\"bos\",\"expert\",\"troll\",\"biryani\",\"counting\",\"effect\",\"interesting\",\"remonetise\",\"required\",\"spent\",\"surprised\",\"agency\",\"biased\",\"desperation\",\"fought\",\"iaf\",\"released\",\"shut\",\"foot\",\"shameful\",\"truly\",\"tune\",\"basis\",\"contested\",\"inflation\",\"innocent\",\"supreme\",\"testing\",\"antiindia\",\"boy\",\"police\",\"popular\",\"shortly\",\"sound\",\"break\",\"cut\",\"hail\",\"provided\",\"you\",\"bit\",\"slam\",\"forced\",\"bcz\",\"concern\",\"cow\",\"perfect\",\"survive\",\"welfare\",\"cast\",\"insult\",\"plea\",\"analysis\",\"attempt\",\"kiya\",\"reform\",\"teach\",\"uttar\",\"fault\",\"height\",\"initiative\",\"inr\",\"jet\",\"kindly\",\"mam\",\"producer\",\"silent\",\"sky\",\"useless\",\"joined\",\"lesson\",\"movement\",\"award\",\"direct\",\"feat\",\"funny\",\"naidu\",\"process\",\"congratulate\",\"jay\",\"putting\",\"chose\",\"condition\",\"develop\",\"patriot\",\"questioned\",\"cash\",\"eat\",\"spoke\",\"thief\",\"track\",\"here\",\"mark\",\"outside\",\"telangana\",\"traitor\",\"unemployed\",\"battle\",\"compared\",\"property\",\"bold\",\"environment\",\"owaisi\",\"visionary\",\"foolish\",\"guarantee\",\"hurt\",\"opponent\",\"rajiv\",\"showed\",\"throw\",\"argument\",\"available\",\"criticism\",\"fully\",\"thug\",\"tweeted\",\"usual\",\"alternative\",\"bless\",\"large\",\"credibility\",\"grand\",\"ran\",\"sit\",\"anybody\",\"bluff\",\"keep\",\"praising\",\"section\",\"anil\",\"arrested\",\"forgot\",\"held\",\"poorest\",\"vikas\",\"wasnt\",\"die\",\"priority\",\"shall\",\"youtube\",\"art\",\"beloved\",\"everybody\",\"exclusive\",\"gift\",\"suffering\",\"suit\",\"union\",\"individual\",\"plus\",\"anymore\",\"club\",\"count\",\"economics\",\"implement\",\"largest\",\"style\",\"nomination\",\"removed\",\"usa\",\"addressed\",\"bloody\",\"ignore\",\"financial\",\"isi\",\"stage\",\"stronger\",\"writing\",\"electricity\",\"jumlas\",\"masood\",\"unfortunately\",\"arunachal\",\"carry\",\"connection\",\"goswami\",\"near\",\"eci\",\"fast\",\"reelected\",\"sharma\",\"shud\",\"advantage\",\"allegation\",\"blamed\",\"bsp\",\"dirty\",\"expose\",\"narender\",\"paying\",\"missing\",\"recent\",\"weak\",\"wouldnt\",\"bsf\",\"easily\",\"established\",\"haha\",\"sleep\",\"arun\",\"cover\",\"raised\",\"consider\",\"king\",\"min\",\"criticise\",\"developing\",\"hitler\",\"mehul\",\"arent\",\"certainly\",\"decisive\",\"english\",\"fulfilled\",\"npa\",\"gadkari\",\"highlight\",\"inside\",\"maximum\",\"neutral\",\"puppet\",\"violence\",\"atal\",\"garibi\",\"impossible\",\"reaction\",\"scientific\",\"apart\",\"blood\",\"brave\",\"complaint\",\"engineer\",\"finance\",\"hat\",\"mcc\",\"serve\",\"thread\",\"brand\",\"declare\",\"deep\",\"jagan\",\"nod\",\"pain\",\"yojana\",\"atm\",\"divide\",\"light\",\"lynching\",\"obviously\",\"pray\",\"risk\",\"university\",\"assembly\",\"beef\",\"congi\",\"congressi\",\"crisis\",\"defeated\",\"escape\",\"factor\",\"fooled\",\"key\",\"patel\",\"resource\",\"seeking\",\"topic\",\"claiming\",\"core\",\"fooling\",\"gimmick\",\"km\",\"mamta\",\"meant\",\"miss\",\"religious\",\"wayanad\",\"witness\",\"extradition\",\"jobless\",\"league\",\"mp\",\"urge\",\"airport\",\"congis\",\"earn\",\"higher\",\"pathetic\",\"sacked\",\"spend\",\"yadav\",\"added\",\"brilliant\",\"coward\",\"mata\",\"payer\",\"pmo\",\"sinha\",\"funding\",\"hypocrisy\",\"incident\",\"interested\",\"liye\",\"lutyens\",\"pocket\",\"realise\",\"sake\",\"smiling_face\",\"bigot\",\"comparison\",\"danger\",\"evil\",\"promoting\",\"targeted\",\"baba\",\"babu\",\"character\",\"choksi\",\"loksabha\",\"actual\",\"crook\",\"defend\",\"pass\",\"prof\",\"web\",\"equal\",\"final\",\"intelligent\",\"leading\",\"mad\",\"private\",\"secure\",\"spirit\",\"travel\",\"facing\",\"goal\",\"met\",\"sister\",\"balance\",\"director\",\"dude\",\"followed\",\"kanhaiya\",\"northeast\",\"personality\",\"recently\",\"sign\",\"solution\",\"wednesday\",\"average\",\"hating\",\"keeping\",\"named\",\"par\",\"played\",\"received\",\"safety\",\"street\",\"subsidy\",\"wud\",\"ability\",\"hello\",\"intelligence\",\"pressure\",\"pure\",\"asset\",\"career\",\"chokidar\",\"committed\",\"irani\",\"moving\",\"page\",\"rahuls\",\"looting\",\"nhi\",\"oberoi\",\"rejected\",\"thrown\",\"tht\",\"emergency\",\"havent\",\"mai\",\"mar\",\"mudra\",\"pledge\",\"reduced\",\"hahaha\",\"listening\",\"mindset\",\"stunt\",\"wake\",\"whatsapp\",\"baat\",\"badly\",\"british\",\"creation\",\"debris\",\"goon\",\"repeat\",\"ball\",\"blessing\",\"gun\",\"headline\",\"mess\",\"painting\",\"region\",\"wing\",\"yeh\",\"cup\",\"defense\",\"diya\",\"providing\",\"saved\",\"urban\",\"activity\",\"newspaper\",\"reject\",\"shouting\",\"sleeping\",\"timing\",\"ally\",\"honourable\",\"isn\",\"kudos\",\"literally\",\"promote\",\"reading\",\"as\",\"confused\",\"infrastructure\",\"mla\",\"agreed\",\"authority\",\"intention\",\"knowing\",\"mock\",\"rhetoric\",\"wala\",\"bengaluru\",\"limit\",\"supposed\",\"visited\",\"akhilesh\",\"daughter\",\"highly\",\"spokesperson\",\"attitude\",\"damage\",\"dictator\",\"doval\",\"ganga\",\"margin\",\"mayawati\",\"opened\",\"pidis\",\"rahe\",\"suddenly\",\"trap\",\"wealth\",\"base\",\"changing\",\"digital\",\"greatest\",\"immediately\",\"influence\",\"mega\",\"approach\",\"clearance\",\"commitment\",\"basically\",\"content\",\"historic\",\"log\",\"path\",\"pilot\",\"tukde\",\"understanding\",\"absolute\",\"comparing\",\"conducted\",\"didi\",\"died\",\"illiterate\",\"jibe\",\"lalit\",\"lord\",\"loses\",\"opposed\",\"respond\",\"tag\",\"abroad\",\"ashamed\",\"indirectly\",\"ipl\",\"looter\",\"mandir\",\"proper\",\"trend\",\"agent\",\"bet\",\"boot\",\"chairman\",\"chant\",\"christian\",\"corporate\",\"energy\",\"mandate\",\"moral\",\"purpose\",\"talked\",\"victim\",\"wale\",\"what\",\"certain\",\"continues\",\"extremely\",\"industry\",\"remains\",\"reservation\",\"season\",\"angry\",\"collection\",\"fit\",\"push\",\"stone\",\"wise\",\"america\",\"chidambaram\",\"chinese\",\"early\",\"filled\",\"mere\",\"oppn\",\"tum\",\"us\",\"violated\",\"blinded\",\"direction\",\"earned\",\"importance\",\"maharashtra\",\"math\",\"smriti\",\"caught\",\"destruction\",\"discussion\",\"inspired\",\"manner\",\"measure\",\"murder\",\"organisation\",\"rocket\",\"sentiment\",\"solve\",\"understood\",\"banerjee\",\"capacity\",\"gujarati\",\"modibjp\",\"pretty\",\"rajnath\",\"remark\",\"shared\",\"sick\",\"white\",\"camp\",\"century\",\"everyday\",\"rafael\",\"reached\",\"sat\",\"treatment\",\"trick\",\"accepted\",\"attacked\",\"boost\",\"criticising\",\"honorable\",\"okay\",\"sanghi\",\"wonderful\",\"begging\",\"bomb\",\"digest\",\"experience\",\"felt\",\"hypocrite\",\"meaning\",\"missed\",\"platform\",\"regional\",\"arvind\",\"cbn\",\"committee\",\"demo\",\"expecting\",\"famous\",\"honesty\",\"served\",\"statue\",\"aim\",\"ani\",\"belong\",\"damn\",\"dole\",\"door\",\"enjoying\",\"google\",\"madhavan\",\"ruined\",\"startup\",\"unprecedented\",\"bought\",\"chest\",\"necessary\",\"rid\",\"study\",\"westminster\",\"dynamic\",\"filmmaker\",\"fix\",\"leo\",\"starting\",\"tweeting\",\"vadodara\",\"car\",\"copy\",\"janta\",\"loosing\",\"azhar\",\"bribe\",\"brigade\",\"dept\",\"godi\",\"lower\",\"magic\",\"planned\",\"punjab\",\"relation\",\"tak\",\"unable\",\"uncle\",\"uttarakhand\",\"wat\",\"banned\",\"duo\",\"realize\",\"sending\",\"strategic\",\"waiver\",\"wear\",\"bond\",\"cap\",\"ignored\",\"incompetent\",\"mode\",\"round\",\"suffer\",\"sun\",\"touch\",\"aayog\",\"carried\",\"chandrababu\",\"jealous\",\"sort\",\"soul\",\"stuff\",\"stupidity\",\"threatened\",\"trip\",\"uneducated\",\"upset\",\"anyways\",\"approval\",\"awesome\",\"bhakti\",\"celebrate\",\"disappointed\",\"disgusting\",\"fiscal\",\"folk\",\"frm\",\"jds\",\"laughing\",\"product\",\"saving\",\"swiss\",\"advice\",\"affair\",\"beneficiary\",\"distress\",\"entered\",\"extent\",\"nadu\",\"nota\",\"opposite\",\"raha\",\"suggest\",\"version\",\"attacking\",\"background\",\"belongs\",\"campaigner\",\"delay\",\"divert\",\"frustration\",\"launching\",\"race\",\"chai\",\"fulfill\",\"internal\",\"plane\",\"resign\",\"trouble\",\"anchor\",\"doctor\",\"fly\",\"improve\",\"interaction\",\"pnb\",\"stock\",\"tall\",\"block\",\"considered\",\"extra\",\"honble\",\"jan\",\"mental\",\"obvious\",\"percent\",\"rare\",\"serving\",\"center\",\"conversation\",\"corner\",\"dmk\",\"ecosystem\",\"initiated\",\"italian\",\"journos\",\"leftist\",\"reporter\",\"strengthen\",\"chanting\",\"civil\",\"laugh\",\"mob\",\"passed\",\"specially\",\"spending\",\"critic\",\"cross\",\"favor\",\"machine\",\"milestone\",\"protest\",\"burnol\",\"mentality\",\"normal\",\"original\",\"youngster\",\"aaj\",\"bachao\",\"bashing\",\"district\",\"employee\",\"friday\",\"interest\",\"longer\",\"mahagathbandhan\",\"wrote\",\"aside\",\"certificate\",\"coalition\",\"green\",\"irrespective\",\"maam\",\"sikh\",\"slap\",\"banking\",\"dedicated\",\"humble\",\"parent\",\"potential\",\"properly\",\"raja\",\"sarab\",\"shout\",\"taxpayer\",\"walk\",\"anger\",\"bullshit\",\"congratulated\",\"dynast\",\"ensured\",\"fuck\",\"gaya\",\"israel\",\"leaving\",\"pradhan\",\"salary\",\"strongly\",\"tech\",\"theory\",\"advertisement\",\"alive\",\"apply\",\"barking\",\"birth\",\"bridge\",\"confirmed\",\"hiding\",\"hinduism\",\"increasing\",\"partner\",\"pity\",\"regard\",\"thumping\",\"treat\",\"active\",\"ashwin\",\"brahmin\",\"coverage\",\"critical\",\"debt\",\"discus\",\"fails\",\"kalyan\",\"nervous\",\"pet\",\"retweet\",\"rudrapur\",\"awareness\",\"beginning\",\"deny\",\"expectation\",\"fighter\",\"hum\",\"institute\",\"introduced\",\"judiciary\",\"legal\",\"patriotic\",\"replace\",\"western\",\"arrest\",\"changer\",\"constitutional\",\"corrupts\",\"criticizing\",\"dbt\",\"islamic\",\"kicked\",\"lawyer\",\"magistrate\",\"moon\",\"paisa\",\"phase\",\"sharing\",\"shree\",\"tshirts\",\"venom\",\"bahadur\",\"blindly\",\"convince\",\"dailyhunt\",\"forgotten\",\"gold\",\"honour\",\"obsessed\",\"pidi\",\"sale\",\"willing\",\"wire\",\"wisely\",\"abdullah\",\"avoid\",\"blocked\",\"burn\",\"click\",\"faced\",\"finger\",\"firm\",\"hardly\",\"honestly\",\"intolerance\",\"lover\",\"managed\",\"prosperous\",\"refused\",\"represent\",\"wasted\",\"appears\",\"bias\",\"bullet\",\"cheated\",\"investigation\",\"ive\",\"koi\",\"loworbit\",\"malya\",\"scenario\",\"surjewala\",\"toi\",\"watched\",\"asia\",\"bunch\",\"currency\",\"dignity\",\"husband\",\"mobile\",\"mocking\",\"upto\",\"becoz\",\"catch\",\"extremist\",\"feed\",\"finish\",\"manohar\",\"mnrega\",\"sanghis\",\"search\",\"watchman\",\"arm\",\"auction\",\"blunder\",\"comedy\",\"divided\",\"foundation\",\"greater\",\"hint\",\"karo\",\"licking\",\"lion\",\"praised\",\"scrap\",\"stick\",\"stooge\",\"stroke\",\"thursday\",\"behalf\",\"blast\",\"broadcast\",\"currently\",\"ease\",\"hon\",\"implementation\",\"straight\",\"subject\",\"tour\",\"unfortunate\",\"unity\",\"communist\",\"cricket\",\"criticised\",\"genuine\",\"holding\",\"insulting\",\"limited\",\"mig\",\"phone\",\"pull\",\"reddy\",\"rival\",\"row\",\"strengthening\",\"suicide\",\"alleged\",\"corrupted\",\"dig\",\"erosnow\",\"evm\",\"network\",\"practice\",\"sabka\",\"see\",\"sena\",\"wondering\",\"chaukidar\",\"crap\",\"flop\",\"inch\",\"nsa\",\"speed\",\"taraf\",\"bye\",\"cheat\",\"convert\",\"drive\",\"frustrated\",\"lotus\",\"lucky\",\"pick\",\"rao\",\"signal\",\"silence\",\"somebody\",\"station\",\"capitalist\",\"celebrating\",\"clown\",\"healthcare\",\"illegal\",\"modern\",\"nair\",\"oath\",\"profile\",\"proven\",\"rubbish\",\"strict\",\"betterment\",\"blah\",\"episode\",\"fakendra\",\"hidden\",\"loser\",\"masterstroke\",\"merchandise\",\"naam\",\"perception\",\"politically\",\"stated\",\"tactic\",\"targeting\",\"theyre\",\"visible\",\"arrogance\",\"ayog\",\"breakthrough\",\"contract\",\"disgrace\",\"investment\",\"omg\",\"presence\",\"progressive\",\"raising\",\"rattled\",\"rightly\",\"scale\",\"sensible\",\"stood\",\"struggle\",\"tmc\",\"winner\",\"youll\",\"abused\",\"affect\",\"apple\",\"burning\",\"buying\",\"comedian\",\"drop\",\"dynastic\",\"eating\",\"editor\",\"guru\",\"hoga\",\"infact\",\"loved\",\"removing\",\"scene\",\"steal\",\"utter\",\"wanna\",\"apne\",\"conspiracy\",\"cool\",\"dalits\",\"defending\",\"finding\",\"finished\",\"identity\",\"josh\",\"lal\",\"online\",\"petrol\",\"quote\",\"red\",\"richest\",\"secularism\",\"sphere\",\"suggestion\",\"wearing\",\"airforce\",\"allowing\",\"billionaire\",\"bother\",\"college\",\"crazy\",\"empowering\",\"flag\",\"karma\",\"learnt\",\"lowest\",\"mantri\",\"multiple\",\"objective\",\"offered\",\"qualification\",\"revenge\",\"shift\",\"tear\",\"abhi\",\"abki\",\"ayushman\",\"existing\",\"facebook\",\"favourite\",\"hoping\",\"housing\",\"improved\",\"irony\",\"legacy\",\"neerav\",\"no\",\"particular\",\"radio\",\"relationship\",\"side\",\"transferred\",\"uturn\",\"veteran\",\"adityanath\",\"apparently\",\"harm\",\"informed\",\"mood\",\"pappus\",\"peaceful\",\"sends\",\"silly\",\"tamilnadu\",\"task\",\"twice\",\"waived\",\"wasting\",\"afford\",\"closed\",\"communication\",\"document\",\"equally\",\"exchief\",\"exist\",\"fastest\",\"fired\",\"helicopter\",\"integrity\",\"invite\",\"murderer\",\"proposal\",\"revolution\",\"ridiculous\",\"suffered\",\"wishing\",\"yojna\",\"accepting\",\"agar\",\"antinationals\",\"baby\",\"diplomacy\",\"female_sign\",\"glad\",\"internet\",\"misuse\",\"modified\",\"poster\",\"promotion\",\"protecting\",\"ride\",\"significant\",\"spoken\",\"symbol\",\"upper\",\"bear\",\"bigotry\",\"blog\",\"bright\",\"dividing\",\"fantastic\",\"move\",\"nature\",\"pandit\",\"prefer\",\"principle\",\"select\",\"shd\",\"application\",\"bjpmodi\",\"chosen\",\"dat\",\"excuse\",\"exposing\",\"forgive\",\"gutter\",\"haryana\",\"holder\",\"humanity\",\"lata\",\"nitin\",\"panel\",\"representative\",\"setting\",\"turning\",\"waited\",\"airline\",\"answered\",\"approved\",\"connect\",\"defame\",\"dis\",\"evident\",\"explained\",\"follows\",\"hota\",\"killer\",\"loving\",\"opening\",\"parliamentary\",\"print\",\"professional\",\"proposed\",\"realised\",\"recovered\",\"shatrughan\",\"sympathy\",\"talent\",\"teacher\",\"tej\",\"trusted\",\"tsunami\",\"achieving\",\"aircraft\",\"appear\",\"cheer\",\"competition\",\"couple\",\"desire\",\"dreaming\",\"eliminate\",\"formed\",\"mantra\",\"nawaz\",\"nearly\",\"oil\",\"shocking\",\"sirf\",\"site\",\"advance\",\"airstrike\",\"ajit\",\"chamcha\",\"chill\",\"chutiya\",\"existence\",\"expense\",\"fed\",\"forest\",\"gupta\",\"misleading\",\"peak\",\"registered\",\"releasing\",\"tree\",\"tulsi\",\"assure\",\"beautiful\",\"believed\",\"bound\",\"celebrity\",\"dawood\",\"eagerly\",\"jump\",\"mahatma\",\"nahin\",\"rank\",\"reelection\",\"relative\",\"sanction\",\"score\",\"spot\",\"they\",\"tie\",\"aka\",\"andh\",\"annual\",\"assured\",\"behave\",\"blessed\",\"citizenship\",\"considering\",\"da\",\"disagree\",\"dislike\",\"expression\",\"farm\",\"filed\",\"highway\",\"hitting\",\"intent\",\"islam\",\"jnu\",\"joint\",\"middleman\",\"offender\",\"papu\",\"requested\",\"thackeray\",\"tho\",\"trending\",\"airstrikes\",\"alert\",\"appeasement\",\"enter\",\"facility\",\"hema\",\"idiotic\",\"inspite\",\"pakoda\",\"payment\",\"remind\",\"sentence\",\"stalin\",\"subscribe\",\"viral\",\"achhe\",\"carefully\",\"carrying\",\"construction\",\"declares\",\"ego\",\"empowerment\",\"explains\",\"gaye\",\"organization\",\"pmmodi\",\"quick\",\"rock\",\"shop\",\"television\",\"valid\",\"administration\",\"admit\",\"agriculture\",\"arrival\",\"bal\",\"complaining\",\"deficit\",\"deposited\",\"desperately\",\"falling\",\"flight\",\"guard\",\"hashtag\",\"inform\",\"itna\",\"janata\",\"kurnool\",\"liked\",\"orop\",\"possibility\",\"prepared\",\"reaching\",\"remarkable\",\"saal\",\"selected\",\"signed\",\"stopping\",\"the\",\"tv\",\"violating\",\"waah\",\"ambanis\",\"backing\",\"capital\",\"connectivity\",\"controlled\",\"dialogue\",\"earning\",\"effective\",\"granted\",\"jacket\",\"lpg\",\"mera\",\"mom\",\"noticed\",\"ordinary\",\"pace\",\"pdp\",\"proudly\",\"punish\",\"reveals\",\"sacrifice\",\"thankful\",\"activist\",\"asaduddin\",\"calculation\",\"complain\",\"injustice\",\"issued\",\"lied\",\"mafia\",\"pending\",\"pseudo\",\"recover\",\"root\",\"tejaswi\",\"typical\",\"understands\",\"urmila\",\"american\",\"appointed\",\"arrogant\",\"baap\",\"cent\",\"co\",\"colour\",\"consequence\",\"controversy\",\"dictatorship\",\"dollar\",\"failing\",\"kaam\",\"natural\",\"posted\",\"put\",\"roll\",\"room\",\"sought\",\"surprising\",\"accountable\",\"bangladesh\",\"couldn\",\"dad\",\"dhan\",\"hardworking\",\"heavy\",\"ignoring\",\"improving\",\"inspiration\",\"italy\",\"lier\",\"loyalty\",\"miserably\",\"mr\",\"offering\",\"permanent\",\"sadly\",\"sarkaar\",\"aspiration\",\"category\",\"cheating\",\"conclusion\",\"corporates\",\"export\",\"hyderabad\",\"ignorant\",\"noon\",\"norm\",\"overall\",\"rant\",\"relief\",\"shiv\",\"theatrics\",\"tracker\",\"yaar\",\"abusive\",\"acche\",\"acronym\",\"annum\",\"assume\",\"brings\",\"cartoon\",\"ceo\",\"discussing\",\"due\",\"duffer\",\"evening\",\"exam\",\"funded\",\"heavily\",\"industrialist\",\"jawaharlal\",\"labour\",\"logo\",\"medical\",\"memory\",\"part\",\"reduce\",\"replied\",\"spare\",\"tdp\",\"website\",\"aspect\",\"bark\",\"bootlicker\",\"bus\",\"complained\",\"cylinder\",\"elder\",\"flat\",\"insulted\",\"invented\",\"laid\",\"maha\",\"published\",\"saint\",\"shamelessly\",\"spine\",\"subramanian\",\"appreciated\",\"converted\",\"dhruv\",\"divisive\",\"encourage\",\"eros\",\"excited\",\"guilty\",\"hua\",\"insurance\",\"jii\",\"learning\",\"manufacturing\",\"mocked\",\"outcome\",\"propoganda\",\"reporting\",\"servant\",\"taught\",\"tribute\",\"tshirt\",\"zee\",\"began\",\"clip\",\"concept\",\"economically\",\"eradicate\",\"examine\",\"existed\",\"extreme\",\"herald\",\"hungry\",\"info\",\"jharkhand\",\"justify\",\"looked\",\"owner\",\"pre\",\"rail\",\"rising\",\"ruin\",\"sath\",\"solid\",\"strange\",\"appropriate\",\"bbc\",\"board\",\"chamchas\",\"context\",\"crpf\",\"ended\",\"factory\",\"foul\",\"happiness\",\"hospital\",\"include\",\"irrelevant\",\"leap\",\"location\",\"management\",\"produce\",\"rape\",\"ravi\",\"refuse\",\"resolve\",\"secretary\",\"shocked\",\"sushma\",\"transparency\",\"aadhar\",\"akhnoor\",\"bat\",\"bothered\",\"calm\",\"careful\",\"deed\",\"distribute\",\"division\",\"fate\",\"hopefully\",\"hype\",\"mat\",\"mile\",\"motivated\",\"ofcourse\",\"saffron\",\"spell\",\"stadium\",\"threatening\",\"title\",\"town\",\"warning\",\"attend\",\"bag\",\"beg\",\"conviction\",\"convinced\",\"demanding\",\"diplomatic\",\"disastrous\",\"element\",\"explaining\",\"farooq\",\"hal\",\"inspiring\",\"krishna\",\"mileage\",\"moved\",\"ordered\",\"pant\",\"pellet\",\"probe\",\"profit\",\"pushed\",\"remaining\",\"sambit\",\"shirt\",\"accusing\",\"annually\",\"audience\",\"bol\",\"brainless\",\"civilian\",\"criticized\",\"directed\",\"driven\",\"improvement\",\"malini\",\"netanyahu\",\"omar\",\"pakis\",\"prior\",\"sharab\",\"specific\",\"thi\",\"tight\",\"tired\",\"uri\",\"wisdom\",\"assault\",\"commenting\",\"complex\",\"congratulates\",\"covered\",\"everytime\",\"fell\",\"index\",\"lazy\",\"logical\",\"marriage\",\"saath\",\"screen\",\"searching\",\"shifting\",\"survival\",\"treated\",\"vande\",\"villager\",\"analyst\",\"ashok\",\"befitting\",\"church\",\"condemn\",\"decides\",\"dedication\",\"demonstration\",\"eligible\",\"empowered\",\"glory\",\"hav\",\"healthy\",\"javed\",\"jihadi\",\"narendar\",\"phd\",\"rapist\",\"remained\",\"speculation\",\"swachh\",\"tension\",\"trolling\",\"unbiased\",\"wage\",\"wall\",\"auctioned\",\"cleared\",\"denies\",\"dint\",\"flying\",\"fresh\",\"gandhinagar\",\"goa\",\"hr\",\"ignorance\",\"koraput\",\"learned\",\"patra\",\"phobia\",\"sardar\",\"secured\",\"selfish\",\"stature\",\"acknowledge\",\"bharath\",\"chowkidari\",\"contact\",\"continued\",\"credible\",\"curse\",\"deliberately\",\"delivery\",\"display\",\"drink\",\"fish\",\"formula\",\"headed\",\"interact\",\"jab\",\"netas\",\"petition\",\"prediction\",\"repeated\",\"satisfied\",\"shock\",\"speaker\",\"statesman\",\"sweep\",\"wouldn\",\"accuse\",\"bastard\",\"beware\",\"bharatiya\",\"collect\",\"conclave\",\"culprit\",\"demonitisation\",\"dying\",\"friendly\",\"haven\",\"hole\",\"hug\",\"kam\",\"lalu\",\"letting\",\"lick\",\"loyal\",\"owned\",\"pig\",\"prepare\",\"presidential\",\"punished\",\"retire\",\"soft\",\"stake\",\"strongest\",\"transformation\",\"tremendous\",\"trs\",\"uddhav\",\"venezuela\",\"aayega\",\"arithmetic\",\"backward\",\"bhakths\",\"birthday\",\"boast\",\"booth\",\"chors\",\"congratulating\",\"conversion\",\"crossed\",\"crucial\",\"damodardas\",\"dirt\",\"dnt\",\"european\",\"fucking\",\"fuel\",\"gowda\",\"karne\",\"map\",\"mongering\",\"naxals\",\"nris\",\"petty\",\"picked\",\"plant\",\"praying\",\"repeating\",\"review\",\"sangh\",\"sanjay\",\"stealing\",\"sunday\",\"technical\",\"unite\",\"vice\",\"wht\",\"wil\",\"aid\",\"ananth\",\"bihari\",\"blow\",\"cadre\",\"confirm\",\"correction\",\"countryman\",\"covering\",\"dark\",\"definition\",\"educate\",\"employed\",\"explanation\",\"gentleman\",\"historical\",\"manage\",\"minded\",\"passing\",\"pointing\",\"prize\",\"protection\",\"referring\",\"relevant\",\"requesting\",\"termed\",\"visa\",\"accomplishment\",\"angel\",\"broken\",\"chacha\",\"challenged\",\"clue\",\"contributing\",\"draw\",\"entry\",\"executed\",\"focused\",\"founder\",\"garbage\",\"genius\",\"golden\",\"heat\",\"jem\",\"kare\",\"machinery\",\"mask\",\"medicine\",\"misusing\",\"pandits\",\"profession\",\"puri\",\"realized\",\"receive\",\"reveal\",\"river\",\"sahab\",\"script\",\"secondly\",\"seized\",\"stolen\",\"stuck\",\"tejaswini\",\"theprint\",\"accountability\",\"beating\",\"betrayed\",\"butcher\",\"challenging\",\"cm\",\"decent\",\"delayed\",\"fascism\",\"grade\",\"hot\",\"kapil\",\"karna\",\"massacre\",\"murli\",\"ohh\",\"opindia\",\"perform\",\"pitch\",\"pokhran\",\"professor\",\"quiet\",\"shouldn\",\"spineless\",\"stoop\",\"tolerate\",\"urself\",\"visiting\",\"wasn\",\"wide\",\"woh\",\"writer\",\"accomplished\",\"advise\",\"affected\",\"aggressive\",\"ba\",\"dil\",\"fetch\",\"firmly\",\"grab\",\"graduate\",\"harmony\",\"hilarious\",\"married\",\"merely\",\"mohan\",\"paki\",\"presstitutes\",\"react\",\"reported\",\"stance\",\"verdict\",\"volunteer\",\"an\",\"aviation\",\"ayodhya\",\"bombay\",\"boycott\",\"bpl\",\"compete\",\"damodar\",\"dependent\",\"driver\",\"giriraj\",\"gohpur\",\"household\",\"kamal\",\"mentally\",\"mgnrega\",\"narendramodi\",\"pension\",\"proving\",\"revenue\",\"saturday\",\"shekhar\",\"sum\",\"technological\",\"telecast\",\"tool\",\"advertising\",\"angle\",\"choosing\",\"connected\",\"diamantaire\",\"effectively\",\"fame\",\"feather\",\"fyi\",\"gathbandhan\",\"grave\",\"hardcore\",\"hardwork\",\"helm\",\"i\",\"iam\",\"jaya\",\"limelight\",\"maintain\",\"mallaya\",\"nautanki\",\"officially\",\"produced\",\"register\",\"remote\",\"replaced\",\"succeed\",\"ujjwala\",\"access\",\"airway\",\"burden\",\"dalit\",\"disease\",\"dismissed\",\"dna\",\"drinking\",\"emotion\",\"emotional\",\"find\",\"fixed\",\"gathering\",\"handed\",\"hunger\",\"linked\",\"mercy\",\"mitron\",\"narinder\",\"player\",\"represents\",\"rti\",\"shine\",\"supply\",\"ultimately\",\"withdraws\",\"abhisar\",\"acceptable\",\"argue\",\"asshole\",\"automatically\",\"bjd\",\"bolo\",\"caused\",\"chahiye\",\"chap\",\"chowkidaars\",\"clarify\",\"demonstrate\",\"electrification\",\"ensuring\",\"eventually\",\"fallen\",\"fled\",\"goverment\",\"grown\",\"habit\",\"jio\",\"journo\",\"kanpur\",\"meme\",\"merit\",\"msg\",\"nowadays\",\"perfectly\",\"primary\",\"publicly\",\"purchase\",\"quint\",\"reference\",\"reminds\",\"salesman\",\"sane\",\"shining\",\"slow\",\"socalled\",\"soch\",\"solved\",\"superb\",\"abv\",\"ambassador\",\"artist\",\"astrologer\",\"back\",\"bahut\",\"barkha\",\"beaten\",\"buddy\",\"checked\",\"concentrate\",\"defaulter\",\"demonstrated\",\"dhoni\",\"discourse\",\"easier\",\"invited\",\"kaha\",\"loud\",\"noise\",\"obc\",\"prasad\",\"pushing\",\"rahi\",\"robert\",\"sha\",\"shape\",\"statistic\",\"stole\",\"sycophant\",\"wid\",\"youve\",\"absurd\",\"ad\",\"admire\",\"affordable\",\"bankrupt\",\"box\",\"commie\",\"copying\",\"discredit\",\"enters\",\"entertainment\",\"entrepreneur\",\"fearing\",\"feb\",\"fulfilling\",\"incredible\",\"jaitely\",\"kannada\",\"mangeshkar\",\"mentioning\",\"opp\",\"patna\",\"posting\",\"prince\",\"probing\",\"remembered\",\"sahib\",\"sardesai\",\"saudi\",\"scheduled\",\"selective\",\"sin\",\"slowly\",\"thanking\",\"theyll\",\"thn\",\"tourism\",\"usually\",\"worldwide\",\"associated\",\"backed\",\"bhakth\",\"blabbering\",\"button\",\"chowkidhar\",\"continuously\",\"contribute\",\"delivering\",\"disheartened\",\"dropped\",\"exercise\",\"founded\",\"fulfil\",\"giant\",\"godhra\",\"jaise\",\"jumped\",\"kisan\",\"kitna\",\"mirror\",\"mynt\",\"parivar\",\"particularly\",\"planet\",\"prosecution\",\"prosecutor\",\"scamsters\",\"screwed\",\"seller\",\"similarly\",\"suppose\",\"swing\",\"unbelievable\",\"xxxxx\",\"abe\",\"alien\",\"approve\",\"bent\",\"bite\",\"businessmen\",\"cleaning\",\"clueless\",\"coin\",\"command\",\"cud\",\"cutting\",\"demon\",\"diff\",\"discussed\",\"distributed\",\"emerge\",\"epic\",\"flee\",\"genocide\",\"imagination\",\"karan\",\"kumaraswamy\",\"liking\",\"maharaja\",\"nai\",\"neta\",\"organised\",\"outstanding\",\"performing\",\"personnel\",\"qualified\",\"rat\",\"require\",\"reserve\",\"retain\",\"returning\",\"sahi\",\"salman\",\"settle\",\"spin\",\"telugu\",\"transformed\",\"unhappy\",\"aadhaar\",\"advisor\",\"am\",\"anand\",\"anna\",\"attached\",\"band\",\"belt\",\"broke\",\"capture\",\"chori\",\"compromised\",\"conflict\",\"correctly\",\"declaring\",\"den\",\"deserved\",\"everyones\",\"favorite\",\"filing\",\"filthy\",\"forgetting\",\"fruit\",\"gap\",\"goyal\",\"greeting\",\"ideal\",\"intellect\",\"iran\",\"jain\",\"judgement\",\"leaf\",\"manager\",\"mislead\",\"mockery\",\"nose\",\"perspective\",\"relax\",\"requires\",\"sea\",\"shakthi\",\"sincerely\",\"stability\",\"teaching\",\"theater\",\"ashish\",\"believing\",\"blue\",\"breath\",\"camera\",\"champion\",\"coal\",\"commissioner\",\"confusion\",\"dalal\",\"defeating\",\"ethic\",\"exact\",\"gather\",\"heading\",\"hows\",\"imp\",\"instance\",\"instruction\",\"joy\",\"karte\",\"lifetime\",\"momentum\",\"naya\",\"nightmare\",\"panic\",\"poem\",\"pollution\",\"precious\",\"predicted\",\"prison\",\"promoted\",\"putin\",\"reign\",\"repeatedly\",\"responded\",\"sanctioned\",\"separate\",\"sibal\",\"singing\",\"subscription\",\"suck\",\"tone\",\"trillion\",\"universe\",\"worthy\",\"wtf\",\"accuses\",\"animal\",\"appreciation\",\"awaiting\",\"bana\",\"behaving\",\"bid\",\"bunker\",\"cancer\",\"chaos\",\"curious\",\"deprived\",\"faster\",\"gareebi\",\"handout\",\"hasn\",\"hue\",\"hundred\",\"ilk\",\"impressed\",\"inspire\",\"intolerant\",\"jha\",\"moran\",\"music\",\"negativity\",\"nri\",\"obama\",\"orator\",\"passport\",\"polling\",\"punishment\",\"purely\",\"queue\",\"quit\",\"regular\",\"revealed\",\"reverse\",\"reward\",\"rhe\",\"shankar\",\"shes\",\"shld\",\"soil\",\"taste\",\"teleprompter\",\"thy\",\"unfair\",\"witnessed\",\"wouldve\",\"behaviour\",\"celebration\",\"clothes\",\"constantly\",\"creates\",\"damaged\",\"doctrine\",\"electing\",\"equivalent\",\"establishment\",\"execution\",\"front\",\"gate\",\"hike\",\"influenced\",\"kabhi\",\"neglected\",\"outer\",\"percentage\",\"portfolio\",\"possibly\",\"prevent\",\"returned\",\"scum\",\"spoil\",\"stable\",\"switch\",\"tackle\",\"tat\",\"ugly\",\"unlikely\",\"versus\",\"advancement\",\"ahmedabad\",\"businessman\",\"candidature\",\"captain\",\"chhattisgarh\",\"colleague\",\"contrary\",\"courtesy\",\"dance\",\"dekho\",\"disclose\",\"donald\",\"dress\",\"enjoyed\",\"establish\",\"exception\",\"exchange\",\"exit\",\"gotten\",\"helpless\",\"horse\",\"investor\",\"khangress\",\"korea\",\"lesser\",\"liquor\",\"observation\",\"saheb\",\"session\",\"sharif\",\"sheer\",\"sirji\",\"staunch\",\"succeeded\",\"swami\",\"tata\",\"thier\",\"twitterati\",\"unique\",\"worship\",\"advocate\",\"aint\",\"ambition\",\"apna\",\"benefited\",\"beta\",\"broker\",\"bsnl\",\"classic\",\"contributed\",\"denge\",\"drug\",\"hardik\",\"importantly\",\"infiltration\",\"insane\",\"jhumla\",\"monger\",\"odd\",\"papa\",\"prachar\",\"pretending\",\"retired\",\"retirement\",\"reuters\",\"sam\",\"scare\",\"securing\",\"ship\",\"spy\",\"stating\",\"sub\",\"sufficient\",\"tiger\",\"trash\",\"weaker\",\"wipe\",\"apology\",\"appreciating\",\"aren\",\"assuming\",\"bhushan\",\"captured\",\"closer\",\"denying\",\"designed\",\"determined\",\"discovered\",\"evms\",\"fearful\",\"foe\",\"function\",\"gen\",\"goahead\",\"guj\",\"larger\",\"lived\",\"mainstream\",\"matondkar\",\"net\",\"nope\",\"opposes\",\"pack\",\"package\",\"passion\",\"pathankot\",\"prakash\",\"pretend\",\"researcher\",\"resort\",\"showcase\",\"snake\",\"thr\",\"trader\",\"trail\",\"younger\",\"zindabad\",\"adanis\",\"aiims\",\"allah\",\"allegedly\",\"answering\",\"applied\",\"atmosphere\",\"banker\",\"beggar\",\"cake\",\"chota\",\"commit\",\"congressman\",\"delivers\",\"error\",\"essential\",\"exists\",\"generated\",\"guidance\",\"hmm\",\"immature\",\"jailed\",\"jindabad\",\"mukesh\",\"myth\",\"nazi\",\"nsso\",\"posse\",\"procedure\",\"quoted\",\"rahulji\",\"rashtra\",\"reelect\",\"respective\",\"roy\",\"shadow\",\"sport\",\"surrender\",\"terrible\",\"tizzy\",\"trade\",\"waise\",\"wash\",\"witnessing\",\"ache\",\"acquired\",\"adding\",\"apologise\",\"atrocity\",\"bhim\",\"bogus\",\"brainwashed\",\"chal\",\"consult\",\"crack\",\"cursing\",\"dar\",\"declaration\",\"drag\",\"friendship\",\"generate\",\"hang\",\"identify\",\"industrial\",\"irresponsible\",\"kalam\",\"kia\",\"lecture\",\"lobby\",\"maa\",\"mature\",\"modihe\",\"monkey\",\"pan\",\"pawar\",\"photograph\",\"poison\",\"preparing\",\"racist\",\"ranking\",\"rathee\",\"recovery\",\"representing\",\"reversed\",\"separatist\",\"sudden\",\"tere\",\"trolled\",\"vehicle\",\"wiped\",\"aam\",\"addition\",\"additional\",\"aise\",\"attended\",\"baki\",\"bla\",\"blatant\",\"celebrated\",\"cheater\",\"childhood\",\"clever\",\"commander\",\"concrete\",\"donation\",\"dust\",\"eastern\",\"encouraging\",\"equality\",\"expensive\",\"extend\",\"flawed\",\"guaranteed\",\"guha\",\"heaven\",\"highlighting\",\"hoon\",\"illogical\",\"iron\",\"mataram\",\"motive\",\"nail\",\"occasion\",\"performed\",\"pillar\",\"plot\",\"prosperity\",\"rabid\",\"rational\",\"saab\",\"shashi\",\"smile\",\"socialism\",\"socialist\",\"studied\",\"sweet\",\"territory\",\"tharoor\",\"throwing\",\"timeline\",\"vacancy\",\"valley\",\"whistle\",\"withdraw\",\"aadmi\",\"anytime\",\"ate\",\"author\",\"baad\",\"bang\",\"belonging\",\"beti\",\"color\",\"credential\",\"dekh\",\"design\",\"destroys\",\"diverting\",\"efficient\",\"embarrassment\",\"experienced\",\"forming\",\"gayi\",\"glass\",\"globally\",\"handling\",\"iit\",\"immense\",\"included\",\"investigate\",\"isme\",\"item\",\"kaun\",\"matlab\",\"milk\",\"mlas\",\"mukt\",\"objection\",\"patient\",\"pulling\",\"rai\",\"rajeev\",\"rana\",\"randeep\",\"reliance\",\"size\",\"spbsp\",\"studio\",\"telegraph\",\"uniform\",\"universal\",\"velocity\",\"acknowledged\",\"advised\",\"ala\",\"analogy\",\"azad\",\"bharatvarsh\",\"circus\",\"collective\",\"continuing\",\"cooking\",\"cuz\",\"default\",\"donkey\",\"drdos\",\"empower\",\"fanatic\",\"hahahaha\",\"happily\",\"historian\",\"impression\",\"incapable\",\"indication\",\"jagannath\",\"knw\",\"msme\",\"neighbour\",\"now\",\"object\",\"penny\",\"plenty\",\"radical\",\"roadshow\",\"robust\",\"royal\",\"sanitation\",\"scrapped\",\"sen\",\"slept\",\"sole\",\"staff\",\"stats\",\"struggling\",\"suitable\",\"suspect\",\"tirelessly\",\"tongue\",\"tonight\",\"weather\",\"yechury\",\"academic\",\"bada\",\"bcos\",\"begusarai\",\"bench\",\"cafe\",\"chooses\",\"choukidar\",\"competent\",\"convey\",\"crash\",\"crediting\",\"dealing\",\"dent\",\"dominated\",\"educational\",\"electorate\",\"eliminated\",\"entitled\",\"firstpost\",\"focusing\",\"frankly\",\"freely\",\"indulge\",\"jaipur\",\"japan\",\"kyu\",\"lacked\",\"method\",\"motherland\",\"mujhe\",\"politicising\",\"populist\",\"practical\",\"precisely\",\"preparation\",\"prospect\",\"rajya\",\"random\",\"rating\",\"ravish\",\"reflects\",\"rogue\",\"rupani\",\"shoe\",\"sided\",\"sing\",\"sooner\",\"split\",\"struck\",\"table\",\"talented\",\"televised\",\"touched\",\"trp\",\"weve\",\"\\u0938\\u0930\\u0915\",\"abp\",\"accidental\",\"acquire\",\"allows\",\"atalji\",\"auto\",\"beauty\",\"bird\",\"bribing\",\"cancel\",\"capitalism\",\"cec\",\"cold\",\"corridor\",\"domestic\",\"endeavour\",\"expenditure\",\"gross\",\"holiday\",\"invest\",\"literate\",\"liya\",\"longest\",\"material\",\"megarally\",\"naturally\",\"neech\",\"park\",\"patience\",\"peddling\",\"piddis\",\"plank\",\"prada\",\"production\",\"pti\",\"ratna\",\"refer\",\"regret\",\"renamed\",\"route\",\"ruler\",\"sponsored\",\"surname\",\"sushil\",\"this\",\"thoda\",\"trial\",\"tuned\",\"ultimate\",\"undermining\",\"undertaken\",\"urdu\",\"vegetarian\",\"warrior\",\"yup\",\"admitted\",\"adopted\",\"arre\",\"audacity\",\"aunty\",\"bow\",\"conveniently\",\"crop\",\"detailed\",\"draft\",\"edge\",\"forcing\",\"france\",\"fundamental\",\"gained\",\"germany\",\"grace\",\"icon\",\"in\",\"kolkata\",\"metro\",\"minor\",\"myanmar\",\"neck\",\"nehruji\",\"nitish\",\"nobel\",\"participate\",\"polarising\",\"prashant\",\"prefix\",\"prevail\",\"previously\",\"printed\",\"prominent\",\"recognise\",\"responds\",\"rld\",\"rumour\",\"scoundrel\",\"scripted\",\"segment\",\"sez\",\"sham\",\"shoulder\",\"transaction\",\"twist\",\"vendetta\",\"wished\",\"zone\",\"airspace\",\"amount\",\"builder\",\"ca\",\"chalo\",\"controversial\",\"convicted\",\"cook\",\"creator\",\"cycle\",\"dal\",\"dancing\",\"darkness\",\"delete\",\"denial\",\"described\",\"devil\",\"dey\",\"diamond\",\"dishonest\",\"disrespect\",\"glimpse\",\"guide\",\"gujju\",\"hafiz\",\"hated\",\"immediate\",\"infra\",\"insecure\",\"kaftan\",\"keen\",\"legend\",\"length\",\"may\",\"misadventure\",\"misrule\",\"nephew\",\"noted\",\"opportunist\",\"pair\",\"placed\",\"range\",\"raul\",\"recall\",\"recognised\",\"reducing\",\"schedule\",\"slammed\",\"summer\",\"syndrome\",\"system\",\"tihar\",\"travelling\",\"welcomed\",\"wind\",\"accident\",\"acted\",\"akhtar\",\"alcohol\",\"antimissile\",\"arise\",\"arrange\",\"assessment\",\"banaras\",\"bedi\",\"bengali\",\"bhage\",\"bread\",\"cancelled\",\"cat\",\"chandra\",\"childish\",\"circle\",\"coffer\",\"confirms\",\"cricketer\",\"define\",\"dena\",\"dharma\",\"disclosed\",\"distance\",\"ear\",\"endorse\",\"feature\",\"firstly\",\"gautam\",\"gesture\",\"globe\",\"grateful\",\"gud\",\"implementing\",\"karyakartas\",\"kejri\",\"lovely\",\"luxury\",\"malik\",\"mani\",\"mil\",\"militant\",\"modibut\",\"modimodi\",\"naive\",\"ncp\",\"nepal\",\"ongoing\",\"precision\",\"presenting\",\"prostitute\",\"queen\",\"quickly\",\"quota\",\"rahulgandhi\",\"rakesh\",\"replying\",\"reserved\",\"rjd\",\"rssbjp\",\"sacrificed\",\"spite\",\"swaraj\",\"thanos\",\"theyve\",\"venue\",\"window\",\"agreement\",\"ahmed\",\"amendment\",\"amid\",\"anyay\",\"applies\",\"ass\",\"atomic\",\"bastion\",\"bjprss\",\"blowing\",\"bureaucrat\",\"clarity\",\"collected\",\"completion\",\"confuse\",\"congressis\",\"contrast\",\"cpi\",\"cunning\",\"demean\",\"driving\",\"dump\",\"endorsing\",\"extradited\",\"fee\",\"filth\",\"gaining\",\"goi\",\"grandfather\",\"grew\",\"handled\",\"holy\",\"import\",\"indigenous\",\"kim\",\"leg\",\"liability\",\"martyr\",\"maya\",\"mufti\",\"mulayam\",\"nagar\",\"ngo\",\"nominated\",\"obsession\",\"onwards\",\"piddi\",\"pok\",\"realising\",\"roaming\",\"rose\",\"routine\",\"sakta\",\"screw\",\"shukla\",\"snatched\",\"store\",\"suggested\",\"suspense\",\"tab\",\"thanked\",\"touching\",\"trapped\",\"unnecessary\",\"updated\",\"wedding\",\"weed\",\"youngest\",\"aalo\",\"acceptance\",\"agni\",\"appointment\",\"associate\",\"bangladeshi\",\"bed\",\"berojgar\",\"blitz\",\"booked\",\"branding\",\"cleaned\",\"conscience\",\"constructive\",\"consulted\",\"crossing\",\"customer\",\"deeply\",\"depends\",\"deserving\",\"developmental\",\"dissent\",\"doable\",\"dozen\",\"enforcement\",\"enterprise\",\"feasible\",\"flow\",\"gabbard\",\"glorious\",\"gyan\",\"handpicked\",\"indra\",\"infront\",\"interacts\",\"jumping\",\"justified\",\"khud\",\"kickstart\",\"lollipop\",\"nadus\",\"ndas\",\"nut\",\"orgasm\",\"pehle\",\"plain\",\"pointed\",\"raghu\",\"rascal\",\"removal\",\"resolution\",\"saboot\",\"sachin\",\"seed\",\"selection\",\"sharp\",\"southern\",\"suspended\",\"talkatora\",\"tally\",\"thoothukudi\",\"tied\",\"ton\",\"training\",\"transforming\",\"tweetstorm\",\"vindicated\",\"worrying\",\"achieves\",\"agrees\",\"ajay\",\"ancestor\",\"arrived\",\"bin\",\"bind\",\"bitch\",\"blackmoney\",\"boat\",\"bull\",\"charged\",\"chartered\",\"chopper\",\"clap\",\"combined\",\"comeback\",\"condemned\",\"conducting\",\"crooked\",\"crow\",\"crown\",\"determination\",\"eminent\",\"engaged\",\"engine\",\"entering\",\"environmental\",\"esp\",\"external\",\"feared\",\"forgets\",\"functioning\",\"grant\",\"greed\",\"gullible\",\"heart_suit\",\"indicates\",\"investigating\",\"jayega\",\"jihadis\",\"joblessness\",\"kabir\",\"kahan\",\"kisi\",\"kitchen\",\"lickers\",\"lifted\",\"load\",\"maddy\",\"mahal\",\"mate\",\"monthly\",\"mum\",\"occupied\",\"pakodas\",\"pata\",\"paytm\",\"pil\",\"predicts\",\"priminister\",\"projected\",\"ragas\",\"ranting\",\"relate\",\"sach\",\"safer\",\"sattelite\",\"selfless\",\"sevak\",\"seven\",\"sleepless\",\"spelling\",\"stall\",\"submitted\",\"suggesting\",\"sunrise\",\"ubi\",\"undermine\",\"usd\",\"vast\",\"vested\",\"violates\",\"vow\",\"whining\",\"aaya\",\"allocation\",\"analyse\",\"applicable\",\"avoided\",\"awake\",\"bitter\",\"blatantly\",\"boosting\",\"breach\",\"casting\",\"chawkidar\",\"chennai\",\"closely\",\"consistent\",\"constant\",\"continuous\",\"cpim\",\"dam\",\"desai\",\"discipline\",\"donot\",\"dunga\",\"enthusiasm\",\"haan\",\"hailing\",\"hook\",\"horrible\",\"hoti\",\"lacking\",\"limitless\",\"lowearth\",\"mahamilavat\",\"manoj\",\"middleclass\",\"miracle\",\"nagpur\",\"narrow\",\"nia\",\"oust\",\"potato\",\"pulled\",\"purchased\",\"raaj\",\"reminder\",\"resident\",\"rushed\",\"sarcasm\",\"slavery\",\"specifically\",\"tolerance\",\"translation\",\"transparent\",\"tripura\",\"twisted\",\"vanished\",\"verma\",\"walked\",\"wapsi\",\"weakness\",\"yearly\",\"yoga\",\"actress\",\"akbaruddin\",\"amazed\",\"assist\",\"attract\",\"banana\",\"bankruptcy\",\"bash\",\"batting\",\"combination\",\"combine\",\"confiscated\",\"council\",\"criticises\",\"crush\",\"cute\",\"daring\",\"differentiate\",\"disgraceful\",\"distribution\",\"diverted\",\"execute\",\"exploit\",\"expressed\",\"female\",\"gehlot\",\"glue\",\"hailed\",\"hve\",\"incumbent\",\"kaise\",\"lage\",\"max\",\"monster\",\"mrnarendra\",\"mute\",\"nasa\",\"out\",\"permit\",\"predict\",\"presented\",\"prosper\",\"resigned\",\"revolutionary\",\"rip\",\"scream\",\"solely\",\"stashed\",\"storm\",\"tagged\",\"thapar\",\"townhall\",\"tradition\",\"trait\",\"unknown\",\"verge\",\"vibrant\",\"waive\",\"yashodaben\",\"advanced\",\"antihindu\",\"antipoor\",\"association\",\"begun\",\"bigoted\",\"centric\",\"civilization\",\"counted\",\"criterion\",\"debating\",\"decency\",\"demonization\",\"dignified\",\"disappear\",\"distributing\",\"domain\",\"doomed\",\"drdoisro\",\"dum\",\"electrified\",\"encouraged\",\"enlighten\",\"fart\",\"fav\",\"fdi\",\"filling\",\"fortune\",\"gaddar\",\"garib\",\"guest\",\"harsh\",\"heartiest\",\"hugged\",\"hurry\",\"incompetence\",\"innovation\",\"interfere\",\"jealousy\",\"jeweller\",\"juggernaut\",\"junior\",\"label\",\"laundering\",\"livelihood\",\"mei\",\"mi\",\"misused\",\"naveen\",\"neglect\",\"planted\",\"preference\",\"privilege\",\"provision\",\"rcb\",\"reap\",\"receiving\",\"reckless\",\"recorded\",\"resulted\",\"retweets\",\"rewarded\",\"safeguard\",\"shahid\",\"shatru\",\"sop\",\"stream\",\"substance\",\"superior\",\"survived\",\"taj\",\"theme\",\"threaten\",\"transform\",\"triple\",\"utterly\",\"volume\",\"walking\",\"warfare\",\"withdrawn\",\"admirer\",\"aimed\",\"aisa\",\"avatar\",\"backfire\",\"baroda\",\"benefitted\",\"bhagwan\",\"biopics\",\"butter\",\"cabal\",\"cite\",\"comic\",\"completing\",\"conferencing\",\"courageous\",\"creature\",\"daddy\",\"doubting\",\"downed\",\"emerging\",\"enable\",\"ending\",\"falsehood\",\"fashion\",\"february\",\"forum\",\"fragile\",\"genuinely\",\"gifted\",\"greatness\",\"includes\",\"indulging\",\"infrastructural\",\"innovative\",\"jago\",\"jaishemohammed\",\"kashi\",\"laga\",\"lunch\",\"mmj\",\"modithemed\",\"msp\",\"parasite\",\"prestigious\",\"primeminister\",\"proclaimed\",\"pulse\",\"quoting\",\"responding\",\"scholar\",\"severe\",\"shaking\",\"shifted\",\"significance\",\"stomach\",\"substantial\",\"tainted\",\"tank\",\"travelled\",\"upas\",\"user\",\"villain\",\"washed\",\"wen\",\"abandoned\",\"abhinandans\",\"admission\",\"aimim\",\"akbar\",\"amazon\",\"answerable\",\"arab\",\"arguing\",\"attained\",\"audit\",\"balochistan\",\"bcs\",\"burnt\",\"campaigned\",\"ceremony\",\"collapse\",\"column\",\"comfortable\",\"dared\",\"demanded\",\"democratically\",\"depend\",\"der\",\"deshbhakt\",\"devotee\",\"dictionary\",\"digit\",\"enabled\",\"equation\",\"establishing\",\"eve\",\"experiment\",\"gr\",\"greedy\",\"guardian\",\"holi\",\"hurting\",\"islamist\",\"jao\",\"kovind\",\"masjid\",\"ministerial\",\"naked\",\"neighbor\",\"nidhi\",\"observe\",\"oscar\",\"plight\",\"pmopm\",\"protects\",\"protesting\",\"query\",\"refrain\",\"reputation\",\"rg\",\"sakti\",\"setup\",\"shastri\",\"spoiled\",\"square\",\"staying\",\"tail\",\"taker\",\"treasury\",\"unaware\",\"underway\",\"unsafe\",\"vocal\",\"accusation\",\"affection\",\"asap\",\"assumed\",\"berozgar\",\"boasting\",\"bravo\",\"canvassing\",\"climate\",\"compulsion\",\"cult\",\"demonitization\",\"dete\",\"deve\",\"dimwit\",\"discard\",\"evidently\",\"excitement\",\"expelled\",\"extension\",\"firing\",\"gay\",\"godse\",\"greet\",\"guessing\",\"gvt\",\"harmful\",\"helpful\",\"hollow\",\"hugging\",\"hung\",\"imminent\",\"implication\",\"incharge\",\"itll\",\"jeypore\",\"jhoot\",\"kab\",\"kickback\",\"kinda\",\"knock\",\"lag\",\"lame\",\"lao\",\"laughed\",\"malign\",\"marry\",\"mehbooba\",\"minus\",\"modinomics\",\"mosque\",\"motivation\",\"msm\",\"naming\",\"navy\",\"noble\",\"noida\",\"obliged\",\"occupy\",\"overcome\",\"participation\",\"peon\",\"permanently\",\"pitroda\",\"poorer\",\"protected\",\"regularly\",\"relieved\",\"richer\",\"sagarika\",\"sarabhai\",\"satisfaction\",\"shell\",\"soo\",\"spared\",\"spewing\",\"summit\",\"tera\",\"text\",\"theprints\",\"torture\",\"tragedy\",\"umesh\",\"unturned\",\"urged\",\"urging\",\"wali\",\"wanting\",\"admits\",\"ananthkumar\",\"ancient\",\"apt\",\"assad\",\"australia\",\"babri\",\"backbone\",\"barely\",\"biriyani\",\"bose\",\"brief\",\"cared\",\"chattisgarh\",\"compromise\",\"creative\",\"custody\",\"dada\",\"darbari\",\"delaying\",\"deputy\",\"dhokla\",\"disappointment\",\"divine\",\"dose\",\"escaped\",\"estimate\",\"extended\",\"fearless\",\"festival\",\"foreigner\",\"fraudsters\",\"generally\",\"gobar\",\"hall\",\"hay\",\"heartland\",\"honoured\",\"hote\",\"ia\",\"incentive\",\"interviewed\",\"interviewing\",\"jus\",\"lapdog\",\"largely\",\"lekin\",\"linking\",\"madhav\",\"maintained\",\"mama\",\"managing\",\"manufacturer\",\"mouthpiece\",\"mushroom\",\"needy\",\"nehrugandhi\",\"newly\",\"nov\",\"observed\",\"optic\",\"orissa\",\"pal\",\"pattern\",\"pliable\",\"propagate\",\"provides\",\"raho\",\"remembering\",\"requirement\",\"resolved\",\"rha\",\"risen\",\"rush\",\"saeed\",\"satisfy\",\"sec\",\"sidhu\",\"singer\",\"spends\",\"stamp\",\"sympathiser\",\"timely\",\"umpire\",\"underestimate\",\"unit\",\"urgent\",\"vanish\",\"violent\",\"weakened\",\"willingness\",\"york\",\"aage\",\"abdul\",\"abolish\",\"alok\",\"applying\",\"arena\",\"ashutosh\",\"authoritarian\",\"baseless\",\"behavior\",\"belittle\",\"blown\",\"bole\",\"casualty\",\"chandrashekhar\",\"chicken\",\"congres\",\"convincing\",\"cpm\",\"deleted\",\"deshdrohi\",\"disclosure\",\"displayed\",\"diwali\",\"dono\",\"dy\",\"emerged\",\"engage\",\"engineering\",\"fabric\",\"financialxpress\",\"gathered\",\"hearty\",\"hopeful\",\"huh\",\"hurdle\",\"illusion\",\"janpath\",\"jingoism\",\"jinnah\",\"landed\",\"libtards\",\"listened\",\"loc\",\"mann\",\"manufactured\",\"meal\",\"mentor\",\"messaging\",\"mulla\",\"numerous\",\"offence\",\"oratory\",\"outsider\",\"padma\",\"pai\",\"painful\",\"piyush\",\"port\",\"ppls\",\"privileged\",\"publish\",\"reaping\",\"reminding\",\"ridicule\",\"screaming\",\"scrutiny\",\"sens\",\"senseless\",\"sensitive\",\"sex\",\"shattered\",\"sink\",\"smarter\",\"spew\",\"srk\",\"structure\",\"teeth\",\"tweeter\",\"valour\",\"aaye\",\"actively\",\"aggression\",\"alternate\",\"apologist\",\"asian\",\"attribute\",\"balakote\",\"balanced\",\"baloch\",\"benami\",\"bhagat\",\"blink\",\"bola\",\"broad\",\"but\",\"carpet\",\"catching\",\"chaiwalas\",\"cloud\",\"commendable\",\"communalism\",\"compulsive\",\"corrected\",\"crass\",\"crude\",\"darr\",\"defaming\",\"discrimination\",\"distract\",\"disturbed\",\"eats\",\"endless\",\"endorsed\",\"entertaining\",\"entirely\",\"executive\",\"exemption\",\"flaw\",\"foolishness\",\"footstep\",\"gaali\",\"gamechanger\",\"inclusion\",\"intentionally\"],\"x1\":{\"__ndarray__\":\"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\",\"dtype\":\"float32\",\"order\":\"little\",\"shape\":[5002]},\"x2\":{\"__ndarray__\":\"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\",\"dtype\":\"float32\",\"order\":\"little\",\"shape\":[5002]}},\"selected\":{\"id\":\"1321\"},\"selection_policy\":{\"id\":\"1320\"}},\"id\":\"1286\",\"type\":\"ColumnDataSource\"},{\"attributes\":{\"text\":\"vector T-SNE for embeddings\"},\"id\":\"1259\",\"type\":\"Title\"},{\"attributes\":{\"source\":{\"id\":\"1286\"}},\"id\":\"1291\",\"type\":\"CDSView\"},{\"attributes\":{},\"id\":\"1320\",\"type\":\"UnionRenderers\"},{\"attributes\":{},\"id\":\"1261\",\"type\":\"DataRange1d\"}],\"root_ids\":[\"1258\"]},\"title\":\"Bokeh Application\",\"version\":\"2.2.1\"}};\n",
       "  var render_items = [{\"docid\":\"d85b2db6-738f-4c40-a1f6-0d2be08fb6fb\",\"root_ids\":[\"1258\"],\"roots\":{\"1258\":\"4824a0d8-a79b-46d9-bc0b-be09285504e4\"}}];\n",
       "  root.Bokeh.embed.embed_items_notebook(docs_json, render_items);\n",
       "\n",
       "  }\n",
       "  if (root.Bokeh !== undefined) {\n",
       "    embed_document(root);\n",
       "  } else {\n",
       "    var attempts = 0;\n",
       "    var timer = setInterval(function(root) {\n",
       "      if (root.Bokeh !== undefined) {\n",
       "        clearInterval(timer);\n",
       "        embed_document(root);\n",
       "      } else {\n",
       "        attempts++;\n",
       "        if (attempts > 100) {\n",
       "          clearInterval(timer);\n",
       "          console.log(\"Bokeh: ERROR: Unable to run BokehJS code because BokehJS library is missing\");\n",
       "        }\n",
       "      }\n",
       "    }, 10, root)\n",
       "  }\n",
       "})(window);"
      ],
      "application/vnd.bokehjs_exec.v0+json": ""
     },
     "metadata": {
      "application/vnd.bokehjs_exec.v0+json": {
       "id": "1258"
      }
     },
     "output_type": "display_data"
    }
   ],
   "source": [
    "p = figure(tools=\"pan,wheel_zoom,reset,save\",\n",
    "           toolbar_location=\"above\",\n",
    "           title=\"vector T-SNE for embeddings\")\n",
    "\n",
    "source = ColumnDataSource(data=dict(x1=words_top_ted_tsne[:,0],\n",
    "                                    x2=words_top_ted_tsne[:,1],\n",
    "                                    names=Text.vocab.itos,\n",
    "                                    color=colorlist))\n",
    "\n",
    "p.scatter(x=\"x1\", y=\"x2\", size=8, source=source, fill_color=\"color\")\n",
    "\n",
    "word_labels = LabelSet(x=\"x1\", y=\"x2\", text=\"names\", y_offset=6,\n",
    "                       text_font_size=\"8pt\", text_color=\"#555555\",\n",
    "                       source=source, text_align='center',render_mode='canvas')\n",
    "p.add_layout(word_labels)\n",
    "\n",
    "show(p)"
   ]
  }
 ],
 "metadata": {
  "accelerator": "GPU",
  "colab": {
   "name": "pytorch_twitter_sentiment_analysis.ipynb",
   "provenance": []
  },
  "kernelspec": {
   "display_name": "Python 3",
   "language": "python",
   "name": "python3"
  },
  "language_info": {
   "codemirror_mode": {
    "name": "ipython",
    "version": 3
   },
   "file_extension": ".py",
   "mimetype": "text/x-python",
   "name": "python",
   "nbconvert_exporter": "python",
   "pygments_lexer": "ipython3",
   "version": "3.7.4"
  },
  "toc": {
   "base_numbering": 1,
   "nav_menu": {},
   "number_sections": true,
   "sideBar": true,
   "skip_h1_title": false,
   "title_cell": "Table of Contents",
   "title_sidebar": "Contents",
   "toc_cell": false,
   "toc_position": {},
   "toc_section_display": true,
   "toc_window_display": true
  },
  "varInspector": {
   "cols": {
    "lenName": 16,
    "lenType": 16,
    "lenVar": 40
   },
   "kernels_config": {
    "python": {
     "delete_cmd_postfix": "",
     "delete_cmd_prefix": "del ",
     "library": "var_list.py",
     "varRefreshCmd": "print(var_dic_list())"
    },
    "r": {
     "delete_cmd_postfix": ") ",
     "delete_cmd_prefix": "rm(",
     "library": "var_list.r",
     "varRefreshCmd": "cat(var_dic_list()) "
    }
   },
   "types_to_exclude": [
    "module",
    "function",
    "builtin_function_or_method",
    "instance",
    "_Feature"
   ],
   "window_display": false
  }
 },
 "nbformat": 4,
 "nbformat_minor": 1
}
